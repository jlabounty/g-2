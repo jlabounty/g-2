{
 "cells": [
  {
   "cell_type": "code",
   "execution_count": 1,
   "metadata": {},
   "outputs": [
    {
     "name": "stdout",
     "output_type": "stream",
     "text": [
      "Welcome to JupyROOT 6.12/06\n",
      "For interactive plots, run: setint()\n",
      "To return to non-interactive plots (default state), run: noint()\n"
     ]
    }
   ],
   "source": [
    "from standardInclude import *"
   ]
  },
  {
   "cell_type": "code",
   "execution_count": 2,
   "metadata": {},
   "outputs": [
    {
     "name": "stdout",
     "output_type": "stream",
     "text": [
      "TFile**\t\t./data/gm2offline_full.root\t\n",
      " TFile*\t\t./data/gm2offline_full.root\t\n",
      "  KEY: TDirectoryFile\tfwAnalysis;1\tfwAnalysis (FWAnalysis) folder\n",
      "  KEY: TDirectoryFile\tislandFits1;1\tislandFits1 (IslandFitDisplayTree) folder\n",
      "  KEY: TDirectoryFile\tislandFits2;1\tislandFits2 (IslandFitDisplayTree) folder\n",
      "  KEY: TDirectoryFile\tislandFits3;1\tislandFits3 (IslandFitDisplayTree) folder\n",
      "  KEY: TDirectoryFile\tislandFits4;1\tislandFits4 (IslandFitDisplayTree) folder\n",
      "  KEY: TDirectoryFile\tislandFits5;1\tislandFits5 (IslandFitDisplayTree) folder\n",
      "  KEY: TDirectoryFile\tislandFits6;1\tislandFits6 (IslandFitDisplayTree) folder\n",
      "  KEY: TDirectoryFile\tislandFits7;1\tislandFits7 (IslandFitDisplayTree) folder\n",
      "  KEY: TDirectoryFile\tislandFits8;1\tislandFits8 (IslandFitDisplayTree) folder\n",
      "  KEY: TDirectoryFile\tislandFits9;1\tislandFits9 (IslandFitDisplayTree) folder\n",
      "  KEY: TDirectoryFile\tislandFits10;1\tislandFits10 (IslandFitDisplayTree) folder\n",
      "  KEY: TDirectoryFile\tislandFits11;1\tislandFits11 (IslandFitDisplayTree) folder\n",
      "  KEY: TDirectoryFile\tislandFits12;1\tislandFits12 (IslandFitDisplayTree) folder\n",
      "  KEY: TDirectoryFile\tislandFits13;1\tislandFits13 (IslandFitDisplayTree) folder\n",
      "  KEY: TDirectoryFile\tislandFits14;1\tislandFits14 (IslandFitDisplayTree) folder\n",
      "  KEY: TDirectoryFile\tislandFits15;1\tislandFits15 (IslandFitDisplayTree) folder\n",
      "  KEY: TDirectoryFile\tislandFits16;1\tislandFits16 (IslandFitDisplayTree) folder\n",
      "  KEY: TDirectoryFile\tislandFits17;1\tislandFits17 (IslandFitDisplayTree) folder\n",
      "  KEY: TDirectoryFile\tislandFits18;1\tislandFits18 (IslandFitDisplayTree) folder\n",
      "  KEY: TDirectoryFile\tislandFits19;1\tislandFits19 (IslandFitDisplayTree) folder\n",
      "  KEY: TDirectoryFile\tislandFits20;1\tislandFits20 (IslandFitDisplayTree) folder\n",
      "  KEY: TDirectoryFile\tislandFits21;1\tislandFits21 (IslandFitDisplayTree) folder\n",
      "  KEY: TDirectoryFile\tislandFits22;1\tislandFits22 (IslandFitDisplayTree) folder\n",
      "  KEY: TDirectoryFile\tislandFits23;1\tislandFits23 (IslandFitDisplayTree) folder\n",
      "  KEY: TDirectoryFile\tislandFits24;1\tislandFits24 (IslandFitDisplayTree) folder\n"
     ]
    }
   ],
   "source": [
    "#fString = \"./filterWheel_GainCalibration/minusPoint2_Calo3.root\"\n",
    "#fString = \"./filterWheel_GainCalibration/plusPoint2_Calo15_20.root\"\n",
    "fString = \"./data/gm2offline_full.root\"\n",
    "#fString = \"../nearline/calo11xtal18/weird_islands_calo11_xtal18.root\"\n",
    "f = r.TFile(fString)\n",
    "f.ls()"
   ]
  },
  {
   "cell_type": "raw",
   "metadata": {},
   "source": [
    "h = r.TH2D(\"h\",\"Islands in Fills by Calo\", 50,0,25, 22,0,11 )\n",
    "for calo in range(1,25):\n",
    "    h2 = h.Clone(\"h2\")\n",
    "    t = f.Get(\"islandFits\"+str(calo)).Get(\"fits\").Get(\"fitTree\")\n",
    "    t.Draw(\"fillNum:caloNum>>h2\", \"xtalNum == 11\", \"goff\")\n",
    "    h.Add(h2,1)"
   ]
  },
  {
   "cell_type": "raw",
   "metadata": {},
   "source": [
    "c = r.TCanvas()\n",
    "h.Draw(\"colz text\")\n",
    "c.Draw()"
   ]
  },
  {
   "cell_type": "code",
   "execution_count": 5,
   "metadata": {},
   "outputs": [],
   "source": [
    "calo = 11\n",
    "f.cd(\"islandFits\"+str(calo)+\"/splines\")\n",
    "#f.ls()\n",
    "\n",
    "t = f.Get(\"islandFits\"+str(calo)).Get(\"fits\").Get(\"fitTree\")"
   ]
  },
  {
   "cell_type": "raw",
   "metadata": {},
   "source": [
    "t.Print()"
   ]
  },
  {
   "cell_type": "raw",
   "metadata": {},
   "source": [
    "c = r.TCanvas(\"c\",\"c\",1200,400)\n",
    "t.Draw(\"statuses\",\"\")\n",
    "c.SetLogy()\n",
    "c.Draw()"
   ]
  },
  {
   "cell_type": "raw",
   "metadata": {},
   "source": [
    "c = r.TCanvas(\"c\",\"c\",1200,400)\n",
    "t.Draw(\"fillNum>>hist(300,0,300)\",\"xtalNum == 53\")\n",
    "c.Draw()"
   ]
  },
  {
   "cell_type": "code",
   "execution_count": 147,
   "metadata": {},
   "outputs": [],
   "source": [
    "#calo = 3\n",
    "xtal = 11\n",
    "#fillNum = 6\n",
    "\n",
    "#create the string to cut on \n",
    "cutString = (\"caloNum == \"+str(calo)\n",
    "              +\" && xtalNum == \"+str(xtal)\n",
    "              #+\" && fillNum == \"+str(fillNum)\n",
    "              #+\" && chi2 < 100\"\n",
    "            )"
   ]
  },
  {
   "cell_type": "code",
   "execution_count": 148,
   "metadata": {},
   "outputs": [
    {
     "name": "stdout",
     "output_type": "stream",
     "text": [
      "[2.0, 2.0, 4.0, 4.0, 4.0, 6.0, 6.0, 8.0, 8.0, 10.0, 10.0, 10.0]\n"
     ]
    },
    {
     "name": "stderr",
     "output_type": "stream",
     "text": [
      "Warning in <TCanvas::Constructor>: Deleting canvas with same name: c\n"
     ]
    },
    {
     "data": {
      "image/png": "[encoded data removed]",
      "text/plain": [
       "<IPython.core.display.Image object>"
      ]
     },
     "metadata": {},
     "output_type": "display_data"
    }
   ],
   "source": [
    "c = r.TCanvas(\"c\",\"c\",1200,400)\n",
    "ding = t.Draw(\"fillNum\",cutString,\"colz\")\n",
    "print([t.GetV1()[i] for i in range(ding)])\n",
    "c.Draw()"
   ]
  },
  {
   "cell_type": "code",
   "execution_count": 149,
   "metadata": {},
   "outputs": [],
   "source": [
    "fillNum = 4\n",
    "cutString += \" && fillNum == \"+str(fillNum)"
   ]
  },
  {
   "cell_type": "code",
   "execution_count": 150,
   "metadata": {},
   "outputs": [
    {
     "name": "stdout",
     "output_type": "stream",
     "text": [
      "caloNum == 8 && xtalNum == 11 && fillNum == 4\n"
     ]
    }
   ],
   "source": [
    "print(cutString)"
   ]
  },
  {
   "cell_type": "code",
   "execution_count": 151,
   "metadata": {},
   "outputs": [
    {
     "name": "stdout",
     "output_type": "stream",
     "text": [
      "102 [41, 51, 64, 69, 43, 56, 74, 66, 59, 49, 53, 55, 48, 39, 22, 58, 57, 47, 20, 63, 45, 52, 37, 61, 40, 29, 46, 62, 44, 54, 23, 19, 2, 25, 15, 31, 17, 27, 28, 21, 1, 38, 68, 35, 67, 26, 65, 14, 11, 42, 60, 13, 70, 32, 16, 50, 71, 30, 36, 34, 18, 33, 5, 12, 6, 8, 0, 3, 9, 10, 7, 4, 24, 72, 85, 81, 76, 83, 77, 87, 75, 73, 86, 80, 94, 92, 91, 100, 95, 93, 89, 88, 98, 90, 79, 82, 97, 99, 78, 96, 84, 101]\n"
     ]
    }
   ],
   "source": [
    "numberOfIslands = t.Draw(\"islandNums\", cutString,\"goff\")\n",
    "#get islandNums\n",
    "islandNums = [int(t.GetV1()[x]) for x in range(numberOfIslands)]\n",
    "print(numberOfIslands, islandNums)"
   ]
  },
  {
   "cell_type": "code",
   "execution_count": 152,
   "metadata": {},
   "outputs": [
    {
     "name": "stdout",
     "output_type": "stream",
     "text": [
      "Subrun 10\n"
     ]
    }
   ],
   "source": [
    "t.Draw(\"subRunNum\",cutString,\"goff\")\n",
    "subrun = int(t.GetV1()[0])\n",
    "print(\"Subrun\", subrun)\n",
    "n_entries = t.BuildIndex('fillNum*(subRunNum=={})'.format(subrun),\n",
    "                         'islandNums[0]*(xtalNum == 0 && subRunNum == {}) - 1*(xtalNum!=0)'.format(subrun))"
   ]
  },
  {
   "cell_type": "code",
   "execution_count": 153,
   "metadata": {},
   "outputs": [
    {
     "name": "stdout",
     "output_type": "stream",
     "text": [
      "[41, 51, 64, 69, 43, 56, 74, 66, 59, 49, 53, 55, 48, 39, 22, 58, 57, 47, 20, 63, 45, 52, 37, 61, 40, 29, 46, 62, 44, 54, 23, 19, 2, 25, 15, 31, 17, 27, 28, 21, 1, 38, 68, 35, 67, 26, 65, 14, 11, 42, 60, 13, 70, 32, 16, 50, 71, 30, 36, 34, 18, 33, 5, 12, 6, 8, 0, 3, 9, 10, 7, 4, 24, 72, 85, 81, 76, 83, 77, 87, 75, 73, 86, 80, 94, 92, 91, 100, 95, 93, 89, 88, 98, 90, 79, 82, 97, 99, 78, 96, 84, 101]\n",
      "41 108\n",
      "51 162\n",
      "64 -1\n",
      "69 -1\n",
      "43 -1\n",
      "56 -1\n",
      "74 -1\n",
      "66 -1\n",
      "59 -1\n",
      "49 -1\n",
      "53 -1\n",
      "55 -1\n",
      "48 -1\n",
      "39 -1\n",
      "22 -1\n",
      "58 -1\n",
      "57 -1\n",
      "47 -1\n",
      "20 -1\n",
      "63 -1\n",
      "45 -1\n",
      "52 -1\n",
      "37 -1\n",
      "61 -1\n",
      "40 -1\n",
      "29 -1\n",
      "46 -1\n",
      "62 -1\n",
      "44 -1\n",
      "54 -1\n",
      "23 -1\n",
      "19 -1\n",
      "2 -1\n",
      "25 -1\n",
      "15 -1\n",
      "31 -1\n",
      "17 -1\n",
      "27 -1\n",
      "28 -1\n",
      "21 -1\n",
      "1 -1\n",
      "38 -1\n",
      "68 -1\n",
      "35 -1\n",
      "67 -1\n",
      "26 -1\n",
      "65 -1\n",
      "14 -1\n",
      "11 -1\n",
      "42 -1\n",
      "60 -1\n",
      "13 -1\n",
      "70 -1\n",
      "32 -1\n",
      "16 -1\n",
      "50 -1\n",
      "71 -1\n",
      "30 -1\n",
      "36 -1\n",
      "34 -1\n",
      "18 -1\n",
      "33 -1\n",
      "5 -1\n",
      "12 -1\n",
      "6 -1\n",
      "8 -1\n",
      "0 -1\n",
      "3 -1\n",
      "9 -1\n",
      "10 -1\n",
      "7 -1\n",
      "4 -1\n",
      "24 -1\n",
      "72 -1\n",
      "85 -1\n",
      "81 -1\n",
      "76 -1\n",
      "83 -1\n",
      "77 -1\n",
      "87 -1\n",
      "75 -1\n",
      "73 -1\n",
      "86 -1\n",
      "80 -1\n",
      "94 -1\n",
      "92 -1\n",
      "91 -1\n",
      "100 -1\n",
      "95 -1\n",
      "93 -1\n",
      "89 -1\n",
      "88 -1\n",
      "98 -1\n",
      "90 -1\n",
      "79 -1\n",
      "82 -1\n",
      "97 -1\n",
      "99 -1\n",
      "78 -1\n",
      "96 -1\n",
      "84 -1\n",
      "101 216\n",
      "[119, 173, 227]\n"
     ]
    }
   ],
   "source": [
    "entries = []\n",
    "print(islandNums)\n",
    "for island in islandNums:\n",
    "    entry_num = t.GetEntryNumberWithIndex(fillNum, island) \n",
    "    print(island, entry_num)\n",
    "    if(entry_num > -0.01):\n",
    "        entries.append(entry_num + xtal)\n",
    "print(entries)"
   ]
  },
  {
   "cell_type": "code",
   "execution_count": 154,
   "metadata": {},
   "outputs": [],
   "source": [
    "islandLengths = []\n",
    "energies = []\n",
    "pedestals = []\n",
    "islandNums = []\n",
    "chiSquare = []\n",
    "statuses = []\n",
    "laserHits = []\n",
    "times = []\n",
    "firstSamples = []\n",
    "traces = []\n",
    "graphs = []\n",
    "\n",
    "for entry in entries:\n",
    "    t.GetEntry(entry)\n",
    "\n",
    "    islandLengths.append(t.islandLengths[0])\n",
    "    energies.append([x for x in t.energies])\n",
    "    pedestals.append(t.pedestal)\n",
    "    islandNums.append(t.islandNums[0])\n",
    "    chiSquare.append(t.chi2)\n",
    "    statuses.append([x for x in t.statuses])\n",
    "    laserHits.append([x for x in t.laserHits])\n",
    "    times.append([x for x in t.times])\n",
    "    firstSamples.append(t.firstSampleNums[0])\n",
    "    traces.append( [x for x in t.trace] )\n",
    "\n",
    "for i, trace in enumerate(traces):\n",
    "    gri = r.TGraph()\n",
    "    for j, ti in enumerate(trace):\n",
    "        gri.SetPoint(j, j, ti)\n",
    "    gri.SetMarkerSize(0.6)\n",
    "    gri.SetMarkerStyle(8)\n",
    "    gri.SetTitle(\"Trace: Calo \"+str(calo)+\", Xtal \"+str(xtal)+\" in Fill \"+str(fillNum)+\", Island \"+str(islandNums[i])\n",
    "                 +\"; Sample Number; Amplitude [ADC Units]\")\n",
    "    graphs.append(gri)\n",
    "#print(graphs)\n",
    "    "
   ]
  },
  {
   "cell_type": "raw",
   "metadata": {},
   "source": [
    "#get island lengths\n",
    "ding = t.Draw(\"islandLengths\", cutString,\"goff\")\n",
    "islandLengths = [int(t.GetV1()[x]) for x in range(ding)]\n",
    "#print(islandLengths)\n",
    "print(ding)\n",
    "\n",
    "#get energies\n",
    "ding = t.Draw(\"energies\", cutString,\"goff\")\n",
    "energies = [float(t.GetV1()[x]) for x in range(ding)]\n",
    "print(ding)\n",
    "\n",
    "#get pedestals\n",
    "ding = t.Draw(\"pedestal\", cutString,\"goff\")\n",
    "pedestals = [int(t.GetV1()[x]) for x in range(ding) ]\n",
    "#pedestals = []\n",
    "#for x in range(ding):\n",
    "#    if( int(t.GetV1()[x]) != 0):\n",
    "#        pedestals.append(int(t.GetV1()[x]))\n",
    "print(ding)\n",
    "\n",
    "#get islandNums\n",
    "ding = t.Draw(\"islandNums\", cutString,\"goff\")\n",
    "islandNums = [int(t.GetV1()[x]) for x in range(ding)]\n",
    "print(ding)\n",
    "\n",
    "#get chi2\n",
    "ding = t.Draw(\"chi2\", cutString,\"goff\")\n",
    "chiSquare = [float(t.GetV1()[x]) for x in range(ding)]\n",
    "#print(ding)\n",
    "#chiSquare = []\n",
    "#for x in range(ding):\n",
    "#    if( int(t.GetV1()[x]) > 0):\n",
    "        chiSquare.append(int(t.GetV1()[x]))\n",
    "print(ding)\n",
    "\n",
    "#get status\n",
    "ding = t.Draw(\"statuses\", cutString,\"goff\")\n",
    "statuses = [float(t.GetV1()[x]) for x in range(ding)]\n",
    "print(ding)\n",
    "\n",
    "#get is laser hit\n",
    "ding = t.Draw(\"laserHits\", cutString,\"goff\")\n",
    "laserHits = [float(t.GetV1()[x]) for x in range(ding)]\n",
    "print(ding)\n",
    "\n",
    "#get times\n",
    "ding = t.Draw(\"times\", cutString,\"goff\")\n",
    "times = [float(t.GetV1()[x]) for x in range(ding)]\n",
    "print(ding)\n",
    "\n",
    "#get first sample numbers\n",
    "ding = t.Draw(\"firstSampleNums\", cutString,\"goff\")\n",
    "firstSamples = [int(t.GetV1()[x]) for x in range(ding)]\n",
    "print(ding)\n",
    "\n",
    "#get traces\n",
    "ding = t.Draw(\"trace\", cutString,\"goff\")\n",
    "traces = [[] for x in range(len(islandLengths))]\n",
    "totalLength = 0\n",
    "for i, length in enumerate(islandLengths):\n",
    "    trace = [t.GetV1()[x + totalLength] for x in range(length)]\n",
    "    traces[i] = trace\n",
    "    totalLength += length\n",
    "print(len(traces), [len(x) for x in traces])\n",
    "#plt.plot(trace)\n",
    "print(ding, \"entries\")\n",
    "\n",
    "if(len(traces) > 0):\n",
    "    fig,ax = plt.subplots(len(traces),figsize=(15,10), sharey=True, sharex=True)\n",
    "    if(len(traces) > 1):\n",
    "        for i, axi in enumerate(ax):\n",
    "            axi.plot(traces[i])\n",
    "    else:\n",
    "        ax.plot(traces[0])\n",
    "    plt.show()\n",
    "\n",
    "\n",
    "graphs = []\n",
    "for i, trace in enumerate(traces):\n",
    "    gri = r.TGraph()\n",
    "    for j, ti in enumerate(trace):\n",
    "        gri.SetPoint(j, j, ti)\n",
    "    gri.SetMarkerSize(0.6)\n",
    "    gri.SetMarkerStyle(8)\n",
    "    gri.SetTitle(\"Trace: Calo \"+str(calo)+\", Xtal \"+str(xtal)+\" in Fill \"+str(fillNum)+\", Island \"+str(islandNums[i])\n",
    "                 +\"; Sample Number; Amplitude [ADC Units]\")\n",
    "    graphs.append(gri)\n",
    "print(graphs)"
   ]
  },
  {
   "cell_type": "raw",
   "metadata": {},
   "source": [
    "c = r.TCanvas()\n",
    "ding = t.Draw(\"pedestal>>hist(100,-3000, 1000)\", cutString,\"\")\n",
    "print(ding)\n",
    "print([t.GetV1()[x] for x in range(ding)])\n",
    "c.Draw()"
   ]
  },
  {
   "cell_type": "code",
   "execution_count": 155,
   "metadata": {},
   "outputs": [
    {
     "name": "stdout",
     "output_type": "stream",
     "text": [
      "[39, 40, 40]\n",
      "[[6743.042531407564], [6680.817565762801, 6937.061769677689, 6733.041783920934, 6727.701022250626, 7039.826399663909, 6648.098621892363, 6969.375543899636, 6496.330948379658, 7268.046785494505, 6470.385884767891, 6733.912147132179, 6510.481239500132, 6770.375433098272, 6948.889600919113, 6918.481392557581, 6932.370879586459, 6814.888077353621, 6898.95361915048, 6741.531014906001, 6856.213383479275, 6675.323242276443, 6579.189642591705, 6562.3760222705705, 6616.223290121997, 6664.663477404204, 6772.966897733161, 6734.37135999581, 6777.788122731569, 6674.061493245971, 6959.228383962931, 6574.756060941698, 6482.862766285857, 6618.752182509094, 6723.170891936637, 6511.28441521698, 6647.043677431716, 6608.366689155626, 6426.126506316778, 6502.47570768527, 6592.390756551572, 6898.681280300863, 6302.517330593443, 6410.242079088843, 6865.889998984394, 6294.646566854512, 6299.451056131566, 6430.531399339411, 7017.976926812743, 6697.445376482255, 6845.9280795340765, 6667.673539466201, 6579.7298488542065, 6591.771562202925, 6298.5515134567695, 6554.162308306863, 6633.295446052921, 6317.3689493041165, 6570.130707687051, 6449.826548305565, 6494.202243337669, 6792.310113352295, 6519.773853487801, 6621.795601454891, 6527.433917602392, 6586.1684504458935, 6538.975127357407, 6320.732103686305, 6500.75559071754, 6646.876300125498, 6533.748182932254, 6581.341670526777, 6644.6385540780675, 6522.998281484877, 6300.025881385478, 6558.2863245940225, 6693.746601591985, 6602.141996441705, 6616.360627778847, 6764.290923529399, 6630.269111872856, 6599.15096623218, 6462.493353185784, 6540.80141601103, 6737.529531078032, 6520.993408234233, 6606.696507161177, 6476.61857796986, 6674.076851666626, 6403.978525026425, 6377.694346640642, 6509.388059038767, 6551.770431830449, 6419.7974245043915, 6392.677775480412, 6446.819201664437, 6672.564872775253, 6778.759242302552, 6632.565946263644, 6402.140252435152, 6574.801192976056], [6997.354990407027]]\n",
      "[-1769.3130478844437, -1788.3088008338314, -1772.1904047634587]\n",
      "[41, 51, 101]\n",
      "[69.09216855406896, 129.23495516462944, 72.43959206020483]\n",
      "[[1], [1, 1, 1, 1, 1, 1, 1, 1, 1, 1, 1, 1, 1, 1, 1, 1, 1, 1, 1, 1, 1, 1, 1, 1, 1, 1, 1, 1, 1, 1, 1, 1, 1, 1, 1, 1, 1, 1, 1, 1, 1, 1, 1, 1, 1, 1, 1, 1, 1, 1, 1, 1, 1, 1, 1, 1, 1, 1, 1, 1, 1, 1, 1, 1, 1, 1, 1, 1, 1, 1, 1, 1, 1, 1, 1, 1, 1, 1, 1, 1, 1, 1, 1, 1, 1, 1, 1, 1, 1, 1, 1, 1, 1, 1, 1, 1, 1, 1, 1, 1], [1]]\n",
      "[[1], [1, 1, 1, 1, 1, 1, 1, 1, 1, 1, 1, 1, 1, 1, 1, 1, 1, 1, 1, 1, 1, 1, 1, 1, 1, 1, 1, 1, 1, 1, 1, 1, 1, 1, 1, 1, 1, 1, 1, 1, 1, 1, 1, 1, 1, 1, 1, 1, 1, 1, 1, 1, 1, 1, 1, 1, 1, 1, 1, 1, 1, 1, 1, 1, 1, 1, 1, 1, 1, 1, 1, 1, 1, 1, 1, 1, 1, 1, 1, 1, 1, 1, 1, 1, 1, 1, 1, 1, 1, 1, 1, 1, 1, 1, 1, 1, 1, 1, 1, 1], [1]]\n",
      "[[5594.412595173367], [23874.03711729236, 23970.019759093204, 24066.011798439653, 24162.021126862113, 24258.00806630869, 24354.04386000045, 24450.003312972, 24545.983051939736, 24641.999971901878, 24737.987889808137, 24833.980205047872, 24929.987404845393, 25026.011115021807, 25122.009777073476, 25217.991511958608, 25313.995328186367, 25409.993659623142, 25505.97179859726, 25601.97650875812, 25697.983856817802, 25793.959945730632, 25889.90296171582, 25985.948913931963, 26081.919493439244, 26177.949414533014, 26273.940309813242, 26369.95036149981, 26465.93206353556, 26561.9279745229, 26657.933965493477, 26753.90884621996, 26849.885219461754, 26945.90158920984, 27041.90675060464, 27137.91272471543, 27233.907945688086, 27329.891017431524, 27425.889269662082, 27521.900097373757, 27617.873470933464, 27713.866939763, 27809.909565386595, 27905.899587405365, 28001.881826460503, 28097.8648293864, 28193.824871526678, 28289.876219541286, 28385.880343111698, 28481.87204665114, 28577.850918368495, 28673.832825895417, 28769.845965736935, 28865.816874418408, 28961.792458428263, 29057.846075723504, 29153.819268562496, 29249.800015237022, 29345.818682184607, 29441.810530528364, 29537.772381004153, 29633.765906934146, 29729.773687913264, 29825.800963910515, 29921.750454909332, 30017.77235739776, 30113.729039720576, 30209.752895682584, 30305.742196171595, 30401.71674685816, 30497.72452406424, 30593.70316879904, 30689.734688978053, 30785.7048024349, 30881.705156590393, 30977.70654317064, 31073.693263121684, 31169.73846894637, 31265.685158882327, 31361.662265343068, 31457.668218467763, 31553.65622188717, 31649.695684822025, 31745.658046497123, 31841.663704966304, 31937.675552791177, 32033.6443957349, 32129.649860188383, 32225.638645894964, 32321.64279462244, 32417.62599470818, 32513.63466940189, 32609.59978195558, 32705.622605849392, 32801.58599407418, 32897.60591328807, 32993.610969250556, 33089.62787267239, 33185.625022300774, 33281.61710931869, 33377.625925880675], [735968.1024756109]]\n",
      "[5582, 23861, 735955]\n",
      "[<ROOT.TGraph object at 0x7fffc2054ae0>, <ROOT.TGraph object at 0x7f316d241b40>, <ROOT.TGraph object at 0x7f31906a11b0>]\n"
     ]
    }
   ],
   "source": [
    "print(islandLengths)\n",
    "print(energies)\n",
    "print(pedestals)\n",
    "print(islandNums)\n",
    "print(chiSquare)\n",
    "print(statuses)\n",
    "print(laserHits)\n",
    "print(times)\n",
    "print(firstSamples)\n",
    "print(graphs)"
   ]
  },
  {
   "cell_type": "code",
   "execution_count": 156,
   "metadata": {},
   "outputs": [
    {
     "name": "stdout",
     "output_type": "stream",
     "text": [
      "<ROOT.TSpline3 object (\"laser11\") at 0x7fffbe5e35f0>\n"
     ]
    }
   ],
   "source": [
    "spline = f.Get(\"islandFits\"+str(calo)+\"\").Get(\"splines\").Get(\"laser\"+str(xtal))\n",
    "beamspline = f.Get(\"islandFits\"+str(calo)+\"\").Get(\"splines\").Get(\"beam\"+str(xtal))\n",
    "print(spline)"
   ]
  },
  {
   "cell_type": "code",
   "execution_count": 157,
   "metadata": {},
   "outputs": [
    {
     "name": "stdout",
     "output_type": "stream",
     "text": [
      "[[5594.412595173367], [23874.03711729236, 23970.019759093204, 24066.011798439653, 24162.021126862113, 24258.00806630869, 24354.04386000045, 24450.003312972, 24545.983051939736, 24641.999971901878, 24737.987889808137, 24833.980205047872, 24929.987404845393, 25026.011115021807, 25122.009777073476, 25217.991511958608, 25313.995328186367, 25409.993659623142, 25505.97179859726, 25601.97650875812, 25697.983856817802, 25793.959945730632, 25889.90296171582, 25985.948913931963, 26081.919493439244, 26177.949414533014, 26273.940309813242, 26369.95036149981, 26465.93206353556, 26561.9279745229, 26657.933965493477, 26753.90884621996, 26849.885219461754, 26945.90158920984, 27041.90675060464, 27137.91272471543, 27233.907945688086, 27329.891017431524, 27425.889269662082, 27521.900097373757, 27617.873470933464, 27713.866939763, 27809.909565386595, 27905.899587405365, 28001.881826460503, 28097.8648293864, 28193.824871526678, 28289.876219541286, 28385.880343111698, 28481.87204665114, 28577.850918368495, 28673.832825895417, 28769.845965736935, 28865.816874418408, 28961.792458428263, 29057.846075723504, 29153.819268562496, 29249.800015237022, 29345.818682184607, 29441.810530528364, 29537.772381004153, 29633.765906934146, 29729.773687913264, 29825.800963910515, 29921.750454909332, 30017.77235739776, 30113.729039720576, 30209.752895682584, 30305.742196171595, 30401.71674685816, 30497.72452406424, 30593.70316879904, 30689.734688978053, 30785.7048024349, 30881.705156590393, 30977.70654317064, 31073.693263121684, 31169.73846894637, 31265.685158882327, 31361.662265343068, 31457.668218467763, 31553.65622188717, 31649.695684822025, 31745.658046497123, 31841.663704966304, 31937.675552791177, 32033.6443957349, 32129.649860188383, 32225.638645894964, 32321.64279462244, 32417.62599470818, 32513.63466940189, 32609.59978195558, 32705.622605849392, 32801.58599407418, 32897.60591328807, 32993.610969250556, 33089.62787267239, 33185.625022300774, 33281.61710931869, 33377.625925880675], [735968.1024756109]]\n",
      "[5582, 23861, 735955]\n"
     ]
    }
   ],
   "source": [
    "print(times)\n",
    "print(firstSamples)"
   ]
  },
  {
   "cell_type": "code",
   "execution_count": 158,
   "metadata": {},
   "outputs": [
    {
     "name": "stdout",
     "output_type": "stream",
     "text": [
      "12.412595173366753\n",
      "13.037117292358744\n",
      "109.0197590932039\n",
      "205.01179843965292\n",
      "301.0211268621133\n",
      "397.0080663086883\n",
      "493.04386000044906\n",
      "589.0033129719995\n",
      "684.9830519397365\n",
      "780.9999719018779\n",
      "876.987889808137\n",
      "972.980205047872\n",
      "1068.987404845393\n",
      "1165.0111150218072\n",
      "1261.0097770734756\n",
      "1356.9915119586076\n",
      "1452.9953281863673\n",
      "1548.9936596231419\n",
      "1644.9717985972602\n",
      "1740.9765087581218\n",
      "1836.983856817802\n",
      "1932.9599457306322\n",
      "2028.9029617158194\n",
      "2124.948913931963\n",
      "2220.9194934392435\n",
      "2316.9494145330136\n",
      "2412.9403098132425\n",
      "2508.9503614998102\n",
      "2604.9320635355616\n",
      "2700.9279745228996\n",
      "2796.9339654934774\n",
      "2892.9088462199616\n",
      "2988.885219461754\n",
      "3084.9015892098396\n",
      "3180.9067506046413\n",
      "3276.9127247154283\n",
      "3372.9079456880863\n",
      "3468.8910174315242\n",
      "3564.8892696620824\n",
      "3660.9000973737566\n",
      "3756.873470933464\n",
      "3852.866939763\n",
      "3948.909565386595\n",
      "4044.8995874053653\n",
      "4140.881826460503\n",
      "4236.864829386399\n",
      "4332.824871526678\n",
      "4428.8762195412855\n",
      "4524.880343111698\n",
      "4620.87204665114\n",
      "4716.850918368495\n",
      "4812.832825895417\n",
      "4908.845965736935\n",
      "5004.816874418408\n",
      "5100.792458428263\n",
      "5196.846075723504\n",
      "5292.819268562496\n",
      "5388.800015237022\n",
      "5484.818682184607\n",
      "5580.810530528364\n",
      "5676.772381004153\n",
      "5772.765906934146\n",
      "5868.773687913264\n",
      "5964.800963910515\n",
      "6060.750454909332\n",
      "6156.77235739776\n",
      "6252.729039720576\n",
      "6348.7528956825845\n",
      "6444.742196171595\n",
      "6540.716746858161\n",
      "6636.7245240642405\n",
      "6732.703168799038\n",
      "6828.734688978053\n",
      "6924.704802434899\n",
      "7020.705156590393\n",
      "7116.70654317064\n",
      "7212.693263121684\n",
      "7308.738468946369\n",
      "7404.6851588823265\n",
      "7500.662265343068\n",
      "7596.668218467763\n",
      "7692.6562218871695\n",
      "7788.695684822025\n",
      "7884.658046497123\n",
      "7980.663704966304\n",
      "8076.675552791177\n",
      "8172.6443957349\n",
      "8268.649860188383\n",
      "8364.638645894964\n",
      "8460.64279462244\n",
      "8556.625994708182\n",
      "8652.63466940189\n",
      "8748.599781955581\n",
      "8844.622605849392\n",
      "8940.58599407418\n",
      "9036.60591328807\n",
      "9132.610969250556\n",
      "9228.62787267239\n",
      "9324.625022300774\n",
      "9420.617109318693\n",
      "9516.625925880675\n",
      "13.102475610910915\n"
     ]
    }
   ],
   "source": [
    "whichGraph = 0\n",
    "splineGraphs = []\n",
    "for whichGraph in range(len(traces)):\n",
    "\n",
    "    splineGraphsi = []\n",
    "    allSplineScaled = []\n",
    "    \n",
    "    for fiti in range(len(times[whichGraph])):\n",
    "        splineScaled = []\n",
    "        offset = times[whichGraph][fiti] - firstSamples[whichGraph]\n",
    "        print(offset)\n",
    "        for i in range(len(traces[whichGraph])):\n",
    "            splineScaled.append( spline.Eval(i - offset)*energies[whichGraph][fiti] + pedestals[whichGraph] )\n",
    "        #print(splineScaled)\n",
    "        allSplineScaled.append(splineScaled)\n",
    "\n",
    "        splineGraph = r.TGraph()\n",
    "        for i, si in enumerate(splineScaled):\n",
    "            splineGraph.SetPoint(i, i, si)\n",
    "        splineGraph.SetLineColor(fiti+2)\n",
    "        splineGraphsi.append(splineGraph)\n",
    "        \n",
    "    if( len(times[whichGraph]) > 1):\n",
    "        splineGraph = r.TGraph()\n",
    "        totalSpline = [pedestals[whichGraph] for x in range(len(allSplineScaled[0]))]\n",
    "        for i, si in enumerate(allSplineScaled):\n",
    "            for ii, sii in enumerate(si):\n",
    "                totalSpline[ii] += sii - pedestals[whichGraph]\n",
    "                \n",
    "        for i, si in enumerate(totalSpline):\n",
    "            splineGraph.SetPoint(i, i, si )\n",
    "            \n",
    "        splineGraph.SetLineColor(9)\n",
    "        splineGraphsi.append(splineGraph)\n",
    "    \n",
    "    splineGraphs.append(splineGraphsi)"
   ]
  },
  {
   "cell_type": "code",
   "execution_count": 159,
   "metadata": {},
   "outputs": [
    {
     "name": "stdout",
     "output_type": "stream",
     "text": [
      "[[<ROOT.TGraph object at 0x7fffbe5e3540>], [<ROOT.TGraph object at 0x7fffc1916f10>, <ROOT.TGraph object at 0x7fffc1aa7a50>, <ROOT.TGraph object at 0x7fffc1b58020>, <ROOT.TGraph object at 0x7fffc1ab5fa0>, <ROOT.TGraph object at 0x7fffc1c55ff0>, <ROOT.TGraph object at 0x7f3191209c10>, <ROOT.TGraph object at 0x7fffc1949e60>, <ROOT.TGraph object at 0x7fffc1d59c30>, <ROOT.TGraph object at 0x7fffc1aeb3a0>, <ROOT.TGraph object at 0x7fffc19cb290>, <ROOT.TGraph object at 0x7fffc19cb3c0>, <ROOT.TGraph object at 0x7f316d240500>, <ROOT.TGraph object at 0x7f316d2406a0>, <ROOT.TGraph object at 0x7fffc1b54bf0>, <ROOT.TGraph object at 0x7fffc1b54d90>, <ROOT.TGraph object at 0x7fffc1c36720>, <ROOT.TGraph object at 0x7fffc1c368c0>, <ROOT.TGraph object at 0x7fffc1c1e3b0>, <ROOT.TGraph object at 0x7fffc1c555a0>, <ROOT.TGraph object at 0x7fffc1c55740>, <ROOT.TGraph object at 0x7fffc206ca70>, <ROOT.TGraph object at 0x7fffc206cc10>, <ROOT.TGraph object at 0x7f31911f15e0>, <ROOT.TGraph object at 0x7f31911f1780>, <ROOT.TGraph object at 0x7f31908eebe0>, <ROOT.TGraph object at 0x7f31908eed10>, <ROOT.TGraph object at 0x7f31908eeeb0>, <ROOT.TGraph object at 0x7f31911a8930>, <ROOT.TGraph object at 0x7f31911a8ad0>, <ROOT.TGraph object at 0x7f31912cbc70>, <ROOT.TGraph object at 0x7f31912cbe10>, <ROOT.TGraph object at 0x7f31912cbfb0>, <ROOT.TGraph object at 0x7f3190875740>, <ROOT.TGraph object at 0x7f31908758e0>, <ROOT.TGraph object at 0x7f319132cdf0>, <ROOT.TGraph object at 0x7f319132cf90>, <ROOT.TGraph object at 0x7f319138def0>, <ROOT.TGraph object at 0x7f319138e020>, <ROOT.TGraph object at 0x7f319138e1c0>, <ROOT.TGraph object at 0x7f319082c9e0>, <ROOT.TGraph object at 0x7f319082cb80>, <ROOT.TGraph object at 0x7f31909378d0>, <ROOT.TGraph object at 0x7f3190937a70>, <ROOT.TGraph object at 0x7f3190937c10>, <ROOT.TGraph object at 0x7fffc1b94c80>, <ROOT.TGraph object at 0x7fffc1b94e20>, <ROOT.TGraph object at 0x7f31913ef070>, <ROOT.TGraph object at 0x7f31913ef210>, <ROOT.TGraph object at 0x7f3191221e40>, <ROOT.TGraph object at 0x7f3191221f70>, <ROOT.TGraph object at 0x7f3191222110>, <ROOT.TGraph object at 0x7fffc1a86b70>, <ROOT.TGraph object at 0x7fffc1a86d10>, <ROOT.TGraph object at 0x7fffc1aa8ff0>, <ROOT.TGraph object at 0x7fffc1aa9150>, <ROOT.TGraph object at 0x7fffc1aa92f0>, <ROOT.TGraph object at 0x7fffc1ec7ae0>, <ROOT.TGraph object at 0x7fffc1a99590>, <ROOT.TGraph object at 0x7f31907c8970>, <ROOT.TGraph object at 0x7fffc1a99730>, <ROOT.TGraph object at 0x7fffc1e0b480>, <ROOT.TGraph object at 0x7fffc1e0b5b0>, <ROOT.TGraph object at 0x7fffc1f00880>, <ROOT.TGraph object at 0x7fffc1f00a20>, <ROOT.TGraph object at 0x7fffc1f00bc0>, <ROOT.TGraph object at 0x7fffc1f00d60>, <ROOT.TGraph object at 0x7f3169b9c7f0>, <ROOT.TGraph object at 0x7f3169b9c950>, <ROOT.TGraph object at 0x7f3169b9caf0>, <ROOT.TGraph object at 0x7f3169b9cc90>, <ROOT.TGraph object at 0x7f3169b9ce30>, <ROOT.TGraph object at 0x7fffc1c4f260>, <ROOT.TGraph object at 0x7f31907c8720>, <ROOT.TGraph object at 0x7f31907c88c0>, <ROOT.TGraph object at 0x7fffc1e0b320>, <ROOT.TGraph object at 0x7fffc1c4f9e0>, <ROOT.TGraph object at 0x7fffc1c4fb80>, <ROOT.TGraph object at 0x7fffc203ad20>, <ROOT.TGraph object at 0x7fffc203aec0>, <ROOT.TGraph object at 0x7fffc203b060>, <ROOT.TGraph object at 0x7fffc203b200>, <ROOT.TGraph object at 0x7fffc203b3a0>, <ROOT.TGraph object at 0x7fffc203b540>, <ROOT.TGraph object at 0x7fffc203b6e0>, <ROOT.TGraph object at 0x7fffc203b880>, <ROOT.TGraph object at 0x7fffc203ba20>, <ROOT.TGraph object at 0x7fffc203bbc0>, <ROOT.TGraph object at 0x7fffc203bd60>, <ROOT.TGraph object at 0x7fffc1c4f400>, <ROOT.TGraph object at 0x7fffc203c5c0>, <ROOT.TGraph object at 0x7fffc1c4f5e0>, <ROOT.TGraph object at 0x7fffc1c4f780>, <ROOT.TGraph object at 0x7f3190948170>, <ROOT.TGraph object at 0x7f3190948310>, <ROOT.TGraph object at 0x7f31909484b0>, <ROOT.TGraph object at 0x7f3190948650>, <ROOT.TGraph object at 0x7f31909487f0>, <ROOT.TGraph object at 0x7f3190948990>, <ROOT.TGraph object at 0x7f3190948b30>, <ROOT.TGraph object at 0x7f3190948cd0>, <ROOT.TGraph object at 0x7f3190948ee0>], [<ROOT.TGraph object at 0x7fffc203bf00>]]\n"
     ]
    }
   ],
   "source": [
    "print(splineGraphs)"
   ]
  },
  {
   "cell_type": "code",
   "execution_count": 160,
   "metadata": {},
   "outputs": [
    {
     "name": "stdout",
     "output_type": "stream",
     "text": [
      "[-1769.3130478844437, -1788.3088008338314, -1772.1904047634587]\n",
      "[[6743.042531407564], [6680.817565762801, 6937.061769677689, 6733.041783920934, 6727.701022250626, 7039.826399663909, 6648.098621892363, 6969.375543899636, 6496.330948379658, 7268.046785494505, 6470.385884767891, 6733.912147132179, 6510.481239500132, 6770.375433098272, 6948.889600919113, 6918.481392557581, 6932.370879586459, 6814.888077353621, 6898.95361915048, 6741.531014906001, 6856.213383479275, 6675.323242276443, 6579.189642591705, 6562.3760222705705, 6616.223290121997, 6664.663477404204, 6772.966897733161, 6734.37135999581, 6777.788122731569, 6674.061493245971, 6959.228383962931, 6574.756060941698, 6482.862766285857, 6618.752182509094, 6723.170891936637, 6511.28441521698, 6647.043677431716, 6608.366689155626, 6426.126506316778, 6502.47570768527, 6592.390756551572, 6898.681280300863, 6302.517330593443, 6410.242079088843, 6865.889998984394, 6294.646566854512, 6299.451056131566, 6430.531399339411, 7017.976926812743, 6697.445376482255, 6845.9280795340765, 6667.673539466201, 6579.7298488542065, 6591.771562202925, 6298.5515134567695, 6554.162308306863, 6633.295446052921, 6317.3689493041165, 6570.130707687051, 6449.826548305565, 6494.202243337669, 6792.310113352295, 6519.773853487801, 6621.795601454891, 6527.433917602392, 6586.1684504458935, 6538.975127357407, 6320.732103686305, 6500.75559071754, 6646.876300125498, 6533.748182932254, 6581.341670526777, 6644.6385540780675, 6522.998281484877, 6300.025881385478, 6558.2863245940225, 6693.746601591985, 6602.141996441705, 6616.360627778847, 6764.290923529399, 6630.269111872856, 6599.15096623218, 6462.493353185784, 6540.80141601103, 6737.529531078032, 6520.993408234233, 6606.696507161177, 6476.61857796986, 6674.076851666626, 6403.978525026425, 6377.694346640642, 6509.388059038767, 6551.770431830449, 6419.7974245043915, 6392.677775480412, 6446.819201664437, 6672.564872775253, 6778.759242302552, 6632.565946263644, 6402.140252435152, 6574.801192976056], [6997.354990407027]]\n"
     ]
    }
   ],
   "source": [
    "print(pedestals)\n",
    "print(energies)"
   ]
  },
  {
   "cell_type": "code",
   "execution_count": 161,
   "metadata": {},
   "outputs": [
    {
     "name": "stdout",
     "output_type": "stream",
     "text": [
      "[<ROOT.TPaveText object (\"TPave\") at 0x7fffc10dc480>, <ROOT.TPaveText object (\"TPave\") at 0x7fffc19554d0>, <ROOT.TPaveText object (\"TPave\") at 0x7fffc1cdcf90>]\n"
     ]
    }
   ],
   "source": [
    "textBoxes = []\n",
    "for i in range(len(traces)):\n",
    "    pt = r.TPaveText(0.45,0.45,0.87,0.87,\"ndc\");\n",
    "    for j in range(len(energies[i])):\n",
    "        pt.AddText(\"E_{0} = \"+str(round(energies[i][j],2)))\n",
    "        pt.AddText(\"t_{0} = \"+str(round(times[i][j],2)))\n",
    "        pt.AddText(\"Pedestal = \"+str(pedestals[i]))\n",
    "        pt.AddText(\"Status = \"+str(statuses[i]))\n",
    "        pt.AddText(\"Laser Hit = \"+str(laserHits[i][j]))\n",
    "        pt.AddText(\"#chi^{2} = \"+str(round(chiSquare[i],2)))\n",
    "        pt.AddText(\" \")\n",
    "        pt.AddLine()\n",
    "    \n",
    "    textBoxes.append(pt)\n",
    "print(textBoxes)"
   ]
  },
  {
   "cell_type": "code",
   "execution_count": 162,
   "metadata": {},
   "outputs": [
    {
     "name": "stderr",
     "output_type": "stream",
     "text": [
      "Warning in <TCanvas::Constructor>: Deleting canvas with same name: c\n"
     ]
    },
    {
     "data": {
      "image/png": "[encoded data removed]",
      "text/plain": [
       "<IPython.core.display.Image object>"
      ]
     },
     "metadata": {},
     "output_type": "display_data"
    }
   ],
   "source": [
    "c = r.TCanvas(\"c\",\"c\", int(np.ceil((len(traces)/2)))*600, 2*600)\n",
    "c.Divide(int(np.ceil((len(traces)/2))), 2)\n",
    "for i in range(len(traces)):\n",
    "    c.cd(i+1)\n",
    "    graphs[i].Draw(\"ap\")\n",
    "    for si in splineGraphs[i]:\n",
    "        si.Draw(\"l same\")\n",
    "    textBoxes[i].Draw(\"SAME\")\n",
    "\n",
    "c.Draw()"
   ]
  },
  {
   "cell_type": "code",
   "execution_count": 163,
   "metadata": {},
   "outputs": [
    {
     "name": "stderr",
     "output_type": "stream",
     "text": [
      "Warning in <TCanvas::Constructor>: Deleting canvas with same name: c\n"
     ]
    },
    {
     "data": {
      "image/png": "[encoded data removed]",
      "text/plain": [
       "<IPython.core.display.Image object>"
      ]
     },
     "metadata": {},
     "output_type": "display_data"
    }
   ],
   "source": [
    "i = 1\n",
    "c = r.TCanvas(\"c\",\"c\",2500,500)\n",
    "graphs[i].Draw(\"apl\")\n",
    "graphs[i].GetXaxis().SetRangeUser(0,300)\n",
    "for si in splineGraphs[i]:\n",
    "    si.Draw(\"l same\")\n",
    "textBoxes[i].Draw(\"SAME\")\n",
    "c.Draw()"
   ]
  },
  {
   "cell_type": "code",
   "execution_count": 3,
   "metadata": {},
   "outputs": [],
   "source": [
    "def plotAllFits( f, t, calo, xtal, fillNum, subrun):\n",
    "    \n",
    "    #create the string to cut on \n",
    "    cutString = (\"caloNum == \"+str(calo)\n",
    "                  +\" && xtalNum == \"+str(xtal)\n",
    "                  +\" && fillNum == \"+str(fillNum)\n",
    "                  #+\" && chi2 < 100\"\n",
    "                )\n",
    "    \n",
    "    numberOfIslands = t.Draw(\"islandNums\", cutString,\"goff\")\n",
    "    #get islandNums\n",
    "    islandNums = [int(t.GetV1()[x]) for x in range(numberOfIslands)]\n",
    "    print(numberOfIslands, islandNums)\n",
    "    \n",
    "    #t.Draw(\"subRunNum\",cutString,\"goff\")\n",
    "    #subrun = int(t.GetV1()[0])\n",
    "    print(\"Subrun\", subrun)\n",
    "    n_entries = t.BuildIndex('fillNum*(subRunNum=={})'.format(subrun),\n",
    "                             'islandNums[0]*(xtalNum == 0 && subRunNum == {}) - 1*(xtalNum!=0)'.format(subrun))\n",
    "    \n",
    "    entries = []\n",
    "    print(islandNums)\n",
    "    for island in islandNums:\n",
    "        entry_num = t.GetEntryNumberWithIndex(fillNum, island) \n",
    "        #print(island, entry_num)\n",
    "        if(entry_num > -0.01):\n",
    "            entries.append(entry_num + xtal)\n",
    "    print(entries)\n",
    "    \n",
    "    islandLengths = []\n",
    "    energies = []\n",
    "    pedestals = []\n",
    "    islandNums = []\n",
    "    chiSquare = []\n",
    "    statuses = []\n",
    "    laserHits = []\n",
    "    times = []\n",
    "    firstSamples = []\n",
    "    traces = []\n",
    "    graphs = []\n",
    "\n",
    "    for entry in entries:\n",
    "        t.GetEntry(entry)\n",
    "\n",
    "        islandLengths.append(t.islandLengths[0])\n",
    "        energies.append([x for x in t.energies])\n",
    "        pedestals.append(t.pedestal)\n",
    "        islandNums.append(t.islandNums[0])\n",
    "        chiSquare.append(t.chi2)\n",
    "        statuses.append([x for x in t.statuses])\n",
    "        laserHits.append([x for x in t.laserHits])\n",
    "        times.append([x for x in t.times])\n",
    "        firstSamples.append(t.firstSampleNums[0])\n",
    "        traces.append( [x for x in t.trace] )\n",
    "\n",
    "    for i, trace in enumerate(traces):\n",
    "        gri = r.TGraph()\n",
    "        for j, ti in enumerate(trace):\n",
    "            gri.SetPoint(j, j, ti)\n",
    "        gri.SetMarkerSize(0.6)\n",
    "        gri.SetMarkerStyle(8)\n",
    "        gri.SetTitle(\"Trace: Calo \"+str(calo)+\", Xtal \"+str(xtal)+\" in Fill \"+str(fillNum)+\", Island \"+str(islandNums[i])\n",
    "                     +\"; Sample Number; Amplitude [ADC Units]\")\n",
    "        graphs.append(gri)\n",
    "    print(graphs)\n",
    "    \n",
    "    spline = f.Get(\"islandFits\").Get(\"splines\").Get(\"laser\"+str(xtal))\n",
    "    beamspline = f.Get(\"islandFits\").Get(\"splines\").Get(\"beam\"+str(xtal))\n",
    "    print(spline, beamspline)\n",
    "    \n",
    "    whichGraph = 0\n",
    "    splineGraphs = []\n",
    "    for whichGraph in range(len(traces)):\n",
    "\n",
    "        splineGraphsi = []\n",
    "        allSplineScaled = []\n",
    "\n",
    "        for fiti in range(len(times[whichGraph])):\n",
    "            splineScaled = []\n",
    "            offset = times[whichGraph][fiti] - firstSamples[whichGraph]\n",
    "            #print(offset)\n",
    "            for i in range(len(traces[whichGraph])):\n",
    "                splineScaled.append( spline.Eval(i - offset)*energies[whichGraph][fiti] + pedestals[whichGraph] )\n",
    "            #print(splineScaled)\n",
    "            allSplineScaled.append(splineScaled)\n",
    "\n",
    "            splineGraph = r.TGraph()\n",
    "            for i, si in enumerate(splineScaled):\n",
    "                splineGraph.SetPoint(i, i, si)\n",
    "            splineGraph.SetLineColor(fiti+2)\n",
    "            splineGraphsi.append(splineGraph)\n",
    "\n",
    "        if( len(times[whichGraph]) > 1):\n",
    "            splineGraph = r.TGraph()\n",
    "            totalSpline = [pedestals[whichGraph] for x in range(len(allSplineScaled[0]))]\n",
    "            for i, si in enumerate(allSplineScaled):\n",
    "                for ii, sii in enumerate(si):\n",
    "                    totalSpline[ii] += sii - pedestals[whichGraph]\n",
    "\n",
    "            for i, si in enumerate(totalSpline):\n",
    "                splineGraph.SetPoint(i, i, si )\n",
    "\n",
    "            splineGraph.SetLineColor(9)\n",
    "            splineGraphsi.append(splineGraph)\n",
    "\n",
    "        splineGraphs.append(splineGraphsi)\n",
    "        \n",
    "    textBoxes = []\n",
    "    for i in range(len(traces)):\n",
    "        pt = r.TPaveText(0.45,0.45,0.87,0.87,\"ndc\");\n",
    "        for j in range(len(energies[i])):\n",
    "            pt.AddText(\"E_{0} = \"+str(round(energies[i][j],2)))\n",
    "            pt.AddText(\"t_{0} = \"+str(round(times[i][j],2)))\n",
    "            pt.AddText(\"Pedestal = \"+str(pedestals[i]))\n",
    "            pt.AddText(\"Status = \"+str(statuses[i]))\n",
    "            pt.AddText(\"Laser Hit = \"+str(laserHits[i][j]))\n",
    "            pt.AddText(\"#chi^{2} = \"+str(round(chiSquare[i],2)))\n",
    "            pt.AddText(\" \")\n",
    "            pt.AddLine()\n",
    "\n",
    "        textBoxes.append(pt)\n",
    "    #print(textBoxes)\n",
    "    \n",
    "    \n",
    "    c = r.TCanvas(\"c\",\"c\", int(np.ceil((len(traces)/2)))*600, 2*600)\n",
    "    c.Divide(int(np.ceil((len(traces)/2))), 2)\n",
    "    for i in range(len(traces)):\n",
    "        c.cd(i+1)\n",
    "        graphs[i].Draw(\"ap\")\n",
    "        for si in splineGraphs[i]:\n",
    "            si.Draw(\"l same\")\n",
    "        textBoxes[i].Draw(\"SAME\")\n",
    "    c.Draw()\n",
    "    \n",
    "    return (graphs, splineGraphs, textBoxes)"
   ]
  },
  {
   "cell_type": "code",
   "execution_count": 11,
   "metadata": {},
   "outputs": [
    {
     "name": "stdout",
     "output_type": "stream",
     "text": [
      "0 []\n",
      "Subrun 5\n",
      "[]\n",
      "[]\n",
      "[]\n"
     ]
    },
    {
     "ename": "AttributeError",
     "evalue": "'TObject' object has no attribute 'Get'",
     "output_type": "error",
     "traceback": [
      "\u001b[0;31m---------------------------------------------------------------------------\u001b[0m",
      "\u001b[0;31mAttributeError\u001b[0m                            Traceback (most recent call last)",
      "\u001b[0;32m<ipython-input-11-2fb18d50e5b0>\u001b[0m in \u001b[0;36m<module>\u001b[0;34m\u001b[0m\n\u001b[1;32m      4\u001b[0m \u001b[0msubrun\u001b[0m \u001b[0;34m=\u001b[0m \u001b[0;36m5\u001b[0m\u001b[0;34m\u001b[0m\u001b[0;34m\u001b[0m\u001b[0m\n\u001b[1;32m      5\u001b[0m \u001b[0;34m\u001b[0m\u001b[0m\n\u001b[0;32m----> 6\u001b[0;31m \u001b[0mding\u001b[0m \u001b[0;34m=\u001b[0m \u001b[0mplotAllFits\u001b[0m\u001b[0;34m(\u001b[0m\u001b[0mf\u001b[0m\u001b[0;34m,\u001b[0m \u001b[0mt\u001b[0m\u001b[0;34m,\u001b[0m \u001b[0mcalo\u001b[0m\u001b[0;34m,\u001b[0m \u001b[0mxtal\u001b[0m\u001b[0;34m,\u001b[0m \u001b[0mfillNum\u001b[0m\u001b[0;34m,\u001b[0m \u001b[0msubrun\u001b[0m \u001b[0;34m)\u001b[0m\u001b[0;34m\u001b[0m\u001b[0;34m\u001b[0m\u001b[0m\n\u001b[0m",
      "\u001b[0;32m<ipython-input-3-95fc9f230430>\u001b[0m in \u001b[0;36mplotAllFits\u001b[0;34m(f, t, calo, xtal, fillNum, subrun)\u001b[0m\n\u001b[1;32m     65\u001b[0m     \u001b[0mprint\u001b[0m\u001b[0;34m(\u001b[0m\u001b[0mgraphs\u001b[0m\u001b[0;34m)\u001b[0m\u001b[0;34m\u001b[0m\u001b[0;34m\u001b[0m\u001b[0m\n\u001b[1;32m     66\u001b[0m \u001b[0;34m\u001b[0m\u001b[0m\n\u001b[0;32m---> 67\u001b[0;31m     \u001b[0mspline\u001b[0m \u001b[0;34m=\u001b[0m \u001b[0mf\u001b[0m\u001b[0;34m.\u001b[0m\u001b[0mGet\u001b[0m\u001b[0;34m(\u001b[0m\u001b[0;34m\"islandFits\"\u001b[0m\u001b[0;34m)\u001b[0m\u001b[0;34m.\u001b[0m\u001b[0mGet\u001b[0m\u001b[0;34m(\u001b[0m\u001b[0;34m\"splines\"\u001b[0m\u001b[0;34m)\u001b[0m\u001b[0;34m.\u001b[0m\u001b[0mGet\u001b[0m\u001b[0;34m(\u001b[0m\u001b[0;34m\"laser\"\u001b[0m\u001b[0;34m+\u001b[0m\u001b[0mstr\u001b[0m\u001b[0;34m(\u001b[0m\u001b[0mxtal\u001b[0m\u001b[0;34m)\u001b[0m\u001b[0;34m)\u001b[0m\u001b[0;34m\u001b[0m\u001b[0;34m\u001b[0m\u001b[0m\n\u001b[0m\u001b[1;32m     68\u001b[0m     \u001b[0mbeamspline\u001b[0m \u001b[0;34m=\u001b[0m \u001b[0mf\u001b[0m\u001b[0;34m.\u001b[0m\u001b[0mGet\u001b[0m\u001b[0;34m(\u001b[0m\u001b[0;34m\"islandFits\"\u001b[0m\u001b[0;34m)\u001b[0m\u001b[0;34m.\u001b[0m\u001b[0mGet\u001b[0m\u001b[0;34m(\u001b[0m\u001b[0;34m\"splines\"\u001b[0m\u001b[0;34m)\u001b[0m\u001b[0;34m.\u001b[0m\u001b[0mGet\u001b[0m\u001b[0;34m(\u001b[0m\u001b[0;34m\"beam\"\u001b[0m\u001b[0;34m+\u001b[0m\u001b[0mstr\u001b[0m\u001b[0;34m(\u001b[0m\u001b[0mxtal\u001b[0m\u001b[0;34m)\u001b[0m\u001b[0;34m)\u001b[0m\u001b[0;34m\u001b[0m\u001b[0;34m\u001b[0m\u001b[0m\n\u001b[1;32m     69\u001b[0m     \u001b[0mprint\u001b[0m\u001b[0;34m(\u001b[0m\u001b[0mspline\u001b[0m\u001b[0;34m,\u001b[0m \u001b[0mbeamspline\u001b[0m\u001b[0;34m)\u001b[0m\u001b[0;34m\u001b[0m\u001b[0;34m\u001b[0m\u001b[0m\n",
      "\u001b[0;31mAttributeError\u001b[0m: 'TObject' object has no attribute 'Get'"
     ]
    },
    {
     "name": "stderr",
     "output_type": "stream",
     "text": [
      "Warning in <TTreePlayer::DrawSelect>: The selected TTree subset is empty.\n"
     ]
    }
   ],
   "source": [
    "calo = 3\n",
    "xtal = 13\n",
    "fillNum = 6\n",
    "subrun = 5\n",
    "\n",
    "ding = plotAllFits(f, t, calo, xtal, fillNum, subrun )"
   ]
  },
  {
   "cell_type": "code",
   "execution_count": 164,
   "metadata": {},
   "outputs": [
    {
     "data": {
      "image/png": "[encoded data removed]",
      "text/plain": [
       "<IPython.core.display.Image object>"
      ]
     },
     "metadata": {},
     "output_type": "display_data"
    }
   ],
   "source": [
    "c = r.TCanvas()\n",
    "t.Draw(\"chi2:xtalNum>>hist(54,0,54,15000,0,80000)\",\"\",\"colz\")\n",
    "c.SetLogy()\n",
    "c.Draw()"
   ]
  },
  {
   "cell_type": "code",
   "execution_count": null,
   "metadata": {},
   "outputs": [],
   "source": []
  },
  {
   "cell_type": "code",
   "execution_count": null,
   "metadata": {},
   "outputs": [],
   "source": []
  }
 ],
 "metadata": {
  "kernelspec": {
   "display_name": "Python 3",
   "language": "python",
   "name": "python3"
  },
  "language_info": {
   "codemirror_mode": {
    "name": "ipython",
    "version": 3
   },
   "file_extension": ".py",
   "mimetype": "text/x-python",
   "name": "python",
   "nbconvert_exporter": "python",
   "pygments_lexer": "ipython3",
   "version": "3.6.8"
  }
 },
 "nbformat": 4,
 "nbformat_minor": 2
}
