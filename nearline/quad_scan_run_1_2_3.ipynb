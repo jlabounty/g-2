{
 "cells": [
  {
   "cell_type": "code",
   "execution_count": 1,
   "metadata": {},
   "outputs": [
    {
     "name": "stdout",
     "output_type": "stream",
     "text": [
      "Not a jupyter notebook. Not enabling notebook functions.\n",
      "Welcome to JupyROOT 6.20/04\n",
      "For interactive plots, run: setint()\n",
      "To return to non-interactive plots (default state), run: noint()\n"
     ]
    }
   ],
   "source": [
    "from si import *"
   ]
  },
  {
   "cell_type": "code",
   "execution_count": 2,
   "metadata": {},
   "outputs": [],
   "source": [
    "runs_run2_run3 = [    34843,    34844,    34845,    34846,    24339,    27101,    27102,    27103 ]\n",
    "runs_run1 = [8574,     8575,     8576,    11161,    11162,    11163,    11586,    11587,    11588,    14107,    14108,    \n",
    " 14109,    14110,    14111,    14112 ]"
   ]
  },
  {
   "cell_type": "code",
   "execution_count": 3,
   "metadata": {},
   "outputs": [
    {
     "data": {
      "text/plain": [
       "'samweb -e gm2 create-definition nearline_run1_quadScans_labounty \" ( ( run_number = 8574 ) or ( run_number = 8575 ) or ( run_number = 8576 ) or ( run_number = 11161 ) or ( run_number = 11162 ) or ( run_number = 11163 ) or ( run_number = 11586 ) or ( run_number = 11587 ) or ( run_number = 11588 ) or ( run_number = 14107 ) or ( run_number = 14108 ) or ( run_number = 14109 ) or ( run_number = 14110 ) or ( run_number = 14111 ) or ( run_number = 14112 )  ) and data_tier raw \" '"
      ]
     },
     "execution_count": 3,
     "metadata": {},
     "output_type": "execute_result"
    }
   ],
   "source": [
    "createSamDataset(\"nearline_run1_quadScans_labounty\", runs_run1)"
   ]
  },
  {
   "cell_type": "code",
   "execution_count": 4,
   "metadata": {},
   "outputs": [
    {
     "data": {
      "text/plain": [
       "'samweb -e gm2 create-definition nearline_run2_run3_quadScans_labounty \" ( ( run_number = 34843 ) or ( run_number = 34844 ) or ( run_number = 34845 ) or ( run_number = 34846 ) or ( run_number = 24339 ) or ( run_number = 27101 ) or ( run_number = 27102 ) or ( run_number = 27103 )  ) and data_tier raw \" '"
      ]
     },
     "execution_count": 4,
     "metadata": {},
     "output_type": "execute_result"
    }
   ],
   "source": [
    "createSamDataset(\"nearline_run2_run3_quadScans_labounty\", runs_run2_run3)"
   ]
  },
  {
   "cell_type": "code",
   "execution_count": null,
   "metadata": {},
   "outputs": [],
   "source": []
  }
 ],
 "metadata": {
  "kernelspec": {
   "display_name": "Python 3",
   "language": "python",
   "name": "python3"
  },
  "language_info": {
   "codemirror_mode": {
    "name": "ipython",
    "version": 3
   },
   "file_extension": ".py",
   "mimetype": "text/x-python",
   "name": "python",
   "nbconvert_exporter": "python",
   "pygments_lexer": "ipython3",
   "version": "3.7.6"
  }
 },
 "nbformat": 4,
 "nbformat_minor": 4
}
