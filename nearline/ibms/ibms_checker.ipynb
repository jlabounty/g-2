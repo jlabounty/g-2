{
 "cells": [
  {
   "cell_type": "code",
   "execution_count": 2,
   "metadata": {},
   "outputs": [
    {
     "name": "stdout",
     "output_type": "stream",
     "text": [
      "Welcome to JupyROOT 6.12/06\n"
     ]
    }
   ],
   "source": [
    "#General imports.\n",
    "\n",
    "%matplotlib inline\n",
    "import mpld3\n",
    "mpld3.enable_notebook()\n",
    "import matplotlib.pyplot as plt\n",
    "import matplotlib \n",
    "#matplotlib.rc('xtick', labelsize=20) \n",
    "#matplotlib.rc('ytick', labelsize=20)\n",
    "def setint():\n",
    "    mpld3.enable_notebook()\n",
    "    matplotlib.rc('xtick', labelsize=10) \n",
    "    matplotlib.rc('ytick', labelsize=10)\n",
    "def noint():\n",
    "    mpld3.disable_notebook()\n",
    "    matplotlib.rc('xtick', labelsize=20) \n",
    "    matplotlib.rc('ytick', labelsize=20)\n",
    "\n",
    "\n",
    "import ROOT as r\n",
    "r.gStyle.SetOptStat(0)\n",
    "r.gStyle.SetOptFit(1111)\n",
    "import math\n",
    "from BlindersPy3 import Blinders\n",
    "from BlindersPy3 import FitType\n",
    "import csv\n",
    "import pandas\n",
    "\n",
    "#import seaborn as sns\n",
    "#sns.set(style=\"ticks\", color_codes=True)\n",
    "import numpy as np\n",
    "import os\n",
    "import scipy\n",
    "\n",
    "import uproot # https://indico.cern.ch/event/686641/contributions/2894906/attachments/1606247/2548596/pivarski-uproot.pdf\n",
    "from awkward import JaggedArray\n",
    "from root_pandas import read_root # https://github.com/scikit-hep/root_pandas\n",
    "\n",
    "import warnings\n",
    "warnings.filterwarnings('once')\n",
    "\n",
    "plt.rcParams['figure.facecolor'] = 'white'\n",
    "\n",
    "noint()"
   ]
  },
  {
   "cell_type": "code",
   "execution_count": 3,
   "metadata": {},
   "outputs": [
    {
     "name": "stdout",
     "output_type": "stream",
     "text": [
      "TFile**\t\t./gm2nearline_hists_run23119_00000.root\t\n",
      " TFile*\t\t./gm2nearline_hists_run23119_00000.root\t\n",
      "  KEY: TDirectoryFile\tnearlineHistTree;1\tnearlineHistTree (CaloNearlineHistograms) folder\n",
      "  KEY: TDirectoryFile\tclusterTree;1\tclusterTree (ClusterTree) folder\n",
      "  KEY: TDirectoryFile\tt0Analyzer;1\tt0Analyzer (T0PulseProcessorAnalyzer) folder\n",
      "  KEY: TDirectoryFile\tibmsAnalyzer;1\tibmsAnalyzer (IBMSAnalyzer) folder\n",
      "  KEY: TDirectoryFile\tCoincidenceFinderLM;1\tCoincidenceFinderLM (CoincidenceFinderLM) folder\n"
     ]
    },
    {
     "name": "stderr",
     "output_type": "stream",
     "text": [
      "Warning in <TClass::Init>: no dictionary for class gm2aux::IBMSRawArtRecord is available\n"
     ]
    }
   ],
   "source": [
    "f = r.TFile(\"./gm2nearline_hists_run23119_00000.root\")\n",
    "f.ls()"
   ]
  },
  {
   "cell_type": "code",
   "execution_count": 4,
   "metadata": {},
   "outputs": [
    {
     "name": "stdout",
     "output_type": "stream",
     "text": [
      "******************************************************************************\n",
      "*Tree    :t_ibms    : IBMS Detector Data                                     *\n",
      "*Entries :      159 : Total =        30233489 bytes  File  Size =   12765027 *\n",
      "*        :          : Tree compression factor =   2.37                       *\n",
      "******************************************************************************\n",
      "*Br    0 :runNum    : runNum/I                                               *\n",
      "*Entries :      159 : Total  Size=       1200 bytes  File Size  =        104 *\n",
      "*Baskets :        1 : Basket Size=      32000 bytes  Compression=   6.84     *\n",
      "*............................................................................*\n",
      "*Br    1 :subRunNum : subRunNum/I                                            *\n",
      "*Entries :      159 : Total  Size=       1215 bytes  File Size  =        104 *\n",
      "*Baskets :        1 : Basket Size=      32000 bytes  Compression=   6.87     *\n",
      "*............................................................................*\n",
      "*Br    2 :fillNum   : fillNum/I                                              *\n",
      "*Entries :      159 : Total  Size=       1205 bytes  File Size  =        386 *\n",
      "*Baskets :        1 : Basket Size=      32000 bytes  Compression=   1.84     *\n",
      "*............................................................................*\n",
      "*Branch  :ibms                                                               *\n",
      "*Entries :      159 : BranchElement (see below)                              *\n",
      "*............................................................................*\n",
      "*Br    3 :sys_clock[80] : ULong64_t                                          *\n",
      "*Entries :      159 : Total  Size=     103273 bytes  File Size  =       2535 *\n",
      "*Baskets :        4 : Basket Size=      32000 bytes  Compression=  40.53     *\n",
      "*............................................................................*\n",
      "*Br    4 :dev_clock[80] : ULong64_t                                          *\n",
      "*Entries :      159 : Total  Size=     103273 bytes  File Size  =       3675 *\n",
      "*Baskets :        4 : Basket Size=      32000 bytes  Compression=  27.96     *\n",
      "*............................................................................*\n",
      "*Br    5 :trace[80][1024] : UShort_t                                         *\n",
      "*Entries :      159 : Total  Size=   26069343 bytes  File Size  =   12700400 *\n",
      "*Baskets :      159 : Basket Size=      32000 bytes  Compression=   2.05     *\n",
      "*............................................................................*\n",
      "*Br    6 :trigger[12][1024] : UShort_t                                       *\n",
      "*Entries :      159 : Total  Size=    3926693 bytes  File Size  =      37365 *\n",
      "*Baskets :      159 : Basket Size=      32000 bytes  Compression= 105.00     *\n",
      "*............................................................................*\n",
      "*Br    7 :lvds_bits[3] : UShort_t                                            *\n",
      "*Entries :      159 : Total  Size=       2193 bytes  File Size  =        393 *\n",
      "*Baskets :        1 : Basket Size=      32000 bytes  Compression=   4.27     *\n",
      "*............................................................................*\n",
      "*Br    8 :ibms1XIntegral : ibms1XIntegral/D                                  *\n",
      "*Entries :      159 : Total  Size=       1884 bytes  File Size  =       1082 *\n",
      "*Baskets :        1 : Basket Size=      32000 bytes  Compression=   1.25     *\n",
      "*............................................................................*\n",
      "*Br    9 :ibms1XMean : ibms1XMean/D                                          *\n",
      "*Entries :      159 : Total  Size=       1864 bytes  File Size  =       1351 *\n",
      "*Baskets :        1 : Basket Size=      32000 bytes  Compression=   1.00     *\n",
      "*............................................................................*\n",
      "*Br   10 :ibms1XRMS : ibms1XRMS/D                                            *\n",
      "*Entries :      159 : Total  Size=       1859 bytes  File Size  =       1345 *\n",
      "*Baskets :        1 : Basket Size=      32000 bytes  Compression=   1.00     *\n",
      "*............................................................................*\n",
      "*Br   11 :ibms1YIntegral : ibms1YIntegral/D                                  *\n",
      "*Entries :      159 : Total  Size=       1884 bytes  File Size  =       1082 *\n",
      "*Baskets :        1 : Basket Size=      32000 bytes  Compression=   1.25     *\n",
      "*............................................................................*\n",
      "*Br   12 :ibms1YMean : ibms1YMean/D                                          *\n",
      "*Entries :      159 : Total  Size=       1864 bytes  File Size  =       1351 *\n",
      "*Baskets :        1 : Basket Size=      32000 bytes  Compression=   1.00     *\n",
      "*............................................................................*\n",
      "*Br   13 :ibms1YRMS : ibms1YRMS/D                                            *\n",
      "*Entries :      159 : Total  Size=       1859 bytes  File Size  =       1350 *\n",
      "*Baskets :        1 : Basket Size=      32000 bytes  Compression=   1.00     *\n",
      "*............................................................................*\n",
      "*Br   14 :ibms2XIntegral : ibms2XIntegral/D                                  *\n",
      "*Entries :      159 : Total  Size=       1884 bytes  File Size  =       1072 *\n",
      "*Baskets :        1 : Basket Size=      32000 bytes  Compression=   1.26     *\n",
      "*............................................................................*\n",
      "*Br   15 :ibms2XMean : ibms2XMean/D                                          *\n",
      "*Entries :      159 : Total  Size=       1864 bytes  File Size  =       1351 *\n",
      "*Baskets :        1 : Basket Size=      32000 bytes  Compression=   1.00     *\n",
      "*............................................................................*\n",
      "*Br   16 :ibms2XRMS : ibms2XRMS/D                                            *\n",
      "*Entries :      159 : Total  Size=       1859 bytes  File Size  =       1344 *\n",
      "*Baskets :        1 : Basket Size=      32000 bytes  Compression=   1.00     *\n",
      "*............................................................................*\n",
      "*Br   17 :ibms2YIntegral : ibms2YIntegral/D                                  *\n",
      "*Entries :      159 : Total  Size=       1884 bytes  File Size  =       1088 *\n",
      "*Baskets :        1 : Basket Size=      32000 bytes  Compression=   1.25     *\n",
      "*............................................................................*\n",
      "*Br   18 :ibms2YMean : ibms2YMean/D                                          *\n",
      "*Entries :      159 : Total  Size=       1864 bytes  File Size  =       1351 *\n",
      "*Baskets :        1 : Basket Size=      32000 bytes  Compression=   1.00     *\n",
      "*............................................................................*\n",
      "*Br   19 :ibms2YRMS : ibms2YRMS/D                                            *\n",
      "*Entries :      159 : Total  Size=       1859 bytes  File Size  =       1345 *\n",
      "*Baskets :        1 : Basket Size=      32000 bytes  Compression=   1.00     *\n",
      "*............................................................................*\n",
      "*Br   20 :bunchNum  : bunchNum/I                                             *\n",
      "*Entries :      159 : Total  Size=       1210 bytes  File Size  =        141 *\n",
      "*Baskets :        1 : Basket Size=      32000 bytes  Compression=   5.06     *\n",
      "*............................................................................*\n"
     ]
    }
   ],
   "source": [
    "t = f.Get(\"ibmsAnalyzer\").Get(\"t_ibms\")\n",
    "t.Print()"
   ]
  },
  {
   "cell_type": "code",
   "execution_count": 94,
   "metadata": {},
   "outputs": [
    {
     "name": "stdout",
     "output_type": "stream",
     "text": [
      "0 <UShort_t buffer, size 81920>\n",
      "1 <UShort_t buffer, size 81920>\n",
      "2 <UShort_t buffer, size 81920>\n",
      "3 <UShort_t buffer, size 81920>\n",
      "4 <UShort_t buffer, size 81920>\n",
      "5 <UShort_t buffer, size 81920>\n",
      "6 <UShort_t buffer, size 81920>\n",
      "7 <UShort_t buffer, size 81920>\n",
      "8 <UShort_t buffer, size 81920>\n",
      "9 <UShort_t buffer, size 81920>\n",
      "10 <UShort_t buffer, size 81920>\n",
      "11 <UShort_t buffer, size 81920>\n",
      "12 <UShort_t buffer, size 81920>\n",
      "13 <UShort_t buffer, size 81920>\n",
      "14 <UShort_t buffer, size 81920>\n",
      "15 <UShort_t buffer, size 81920>\n",
      "16 <UShort_t buffer, size 81920>\n",
      "17 <UShort_t buffer, size 81920>\n",
      "18 <UShort_t buffer, size 81920>\n",
      "19 <UShort_t buffer, size 81920>\n",
      "20 <UShort_t buffer, size 81920>\n",
      "21 <UShort_t buffer, size 81920>\n",
      "22 <UShort_t buffer, size 81920>\n",
      "23 <UShort_t buffer, size 81920>\n",
      "24 <UShort_t buffer, size 81920>\n",
      "25 <UShort_t buffer, size 81920>\n",
      "26 <UShort_t buffer, size 81920>\n",
      "27 <UShort_t buffer, size 81920>\n",
      "28 <UShort_t buffer, size 81920>\n",
      "29 <UShort_t buffer, size 81920>\n",
      "30 <UShort_t buffer, size 81920>\n",
      "31 <UShort_t buffer, size 81920>\n",
      "32 <UShort_t buffer, size 81920>\n",
      "33 <UShort_t buffer, size 81920>\n",
      "34 <UShort_t buffer, size 81920>\n",
      "35 <UShort_t buffer, size 81920>\n",
      "36 <UShort_t buffer, size 81920>\n",
      "37 <UShort_t buffer, size 81920>\n",
      "38 <UShort_t buffer, size 81920>\n",
      "39 <UShort_t buffer, size 81920>\n",
      "40 <UShort_t buffer, size 81920>\n",
      "41 <UShort_t buffer, size 81920>\n",
      "42 <UShort_t buffer, size 81920>\n",
      "43 <UShort_t buffer, size 81920>\n",
      "44 <UShort_t buffer, size 81920>\n",
      "45 <UShort_t buffer, size 81920>\n",
      "46 <UShort_t buffer, size 81920>\n",
      "47 <UShort_t buffer, size 81920>\n",
      "48 <UShort_t buffer, size 81920>\n",
      "49 <UShort_t buffer, size 81920>\n",
      "50 <UShort_t buffer, size 81920>\n",
      "51 <UShort_t buffer, size 81920>\n",
      "52 <UShort_t buffer, size 81920>\n",
      "53 <UShort_t buffer, size 81920>\n",
      "54 <UShort_t buffer, size 81920>\n",
      "55 <UShort_t buffer, size 81920>\n",
      "56 <UShort_t buffer, size 81920>\n",
      "57 <UShort_t buffer, size 81920>\n",
      "58 <UShort_t buffer, size 81920>\n",
      "59 <UShort_t buffer, size 81920>\n",
      "60 <UShort_t buffer, size 81920>\n",
      "61 <UShort_t buffer, size 81920>\n",
      "62 <UShort_t buffer, size 81920>\n",
      "63 <UShort_t buffer, size 81920>\n",
      "64 <UShort_t buffer, size 81920>\n",
      "65 <UShort_t buffer, size 81920>\n",
      "66 <UShort_t buffer, size 81920>\n",
      "67 <UShort_t buffer, size 81920>\n",
      "68 <UShort_t buffer, size 81920>\n",
      "69 <UShort_t buffer, size 81920>\n",
      "70 <UShort_t buffer, size 81920>\n",
      "71 <UShort_t buffer, size 81920>\n",
      "72 <UShort_t buffer, size 81920>\n",
      "73 <UShort_t buffer, size 81920>\n",
      "74 <UShort_t buffer, size 81920>\n",
      "75 <UShort_t buffer, size 81920>\n",
      "76 <UShort_t buffer, size 81920>\n",
      "77 <UShort_t buffer, size 81920>\n",
      "78 <UShort_t buffer, size 81920>\n",
      "79 <UShort_t buffer, size 81920>\n",
      "80 <UShort_t buffer, size 81920>\n",
      "81 <UShort_t buffer, size 81920>\n",
      "82 <UShort_t buffer, size 81920>\n",
      "83 <UShort_t buffer, size 81920>\n",
      "84 <UShort_t buffer, size 81920>\n",
      "85 <UShort_t buffer, size 81920>\n",
      "86 <UShort_t buffer, size 81920>\n",
      "87 <UShort_t buffer, size 81920>\n",
      "88 <UShort_t buffer, size 81920>\n",
      "89 <UShort_t buffer, size 81920>\n",
      "90 <UShort_t buffer, size 81920>\n",
      "91 <UShort_t buffer, size 81920>\n",
      "92 <UShort_t buffer, size 81920>\n",
      "93 <UShort_t buffer, size 81920>\n",
      "94 <UShort_t buffer, size 81920>\n",
      "95 <UShort_t buffer, size 81920>\n",
      "96 <UShort_t buffer, size 81920>\n",
      "97 <UShort_t buffer, size 81920>\n",
      "98 <UShort_t buffer, size 81920>\n",
      "99 <UShort_t buffer, size 81920>\n",
      "100 <UShort_t buffer, size 81920>\n",
      "101 <UShort_t buffer, size 81920>\n",
      "102 <UShort_t buffer, size 81920>\n",
      "103 <UShort_t buffer, size 81920>\n",
      "104 <UShort_t buffer, size 81920>\n",
      "105 <UShort_t buffer, size 81920>\n",
      "106 <UShort_t buffer, size 81920>\n",
      "107 <UShort_t buffer, size 81920>\n",
      "108 <UShort_t buffer, size 81920>\n",
      "109 <UShort_t buffer, size 81920>\n",
      "110 <UShort_t buffer, size 81920>\n",
      "111 <UShort_t buffer, size 81920>\n",
      "112 <UShort_t buffer, size 81920>\n",
      "113 <UShort_t buffer, size 81920>\n",
      "114 <UShort_t buffer, size 81920>\n",
      "115 <UShort_t buffer, size 81920>\n",
      "116 <UShort_t buffer, size 81920>\n",
      "117 <UShort_t buffer, size 81920>\n",
      "118 <UShort_t buffer, size 81920>\n",
      "119 <UShort_t buffer, size 81920>\n",
      "120 <UShort_t buffer, size 81920>\n",
      "121 <UShort_t buffer, size 81920>\n",
      "122 <UShort_t buffer, size 81920>\n",
      "123 <UShort_t buffer, size 81920>\n",
      "124 <UShort_t buffer, size 81920>\n",
      "125 <UShort_t buffer, size 81920>\n",
      "126 <UShort_t buffer, size 81920>\n",
      "127 <UShort_t buffer, size 81920>\n",
      "128 <UShort_t buffer, size 81920>\n",
      "129 <UShort_t buffer, size 81920>\n",
      "130 <UShort_t buffer, size 81920>\n",
      "131 <UShort_t buffer, size 81920>\n",
      "132 <UShort_t buffer, size 81920>\n",
      "133 <UShort_t buffer, size 81920>\n",
      "134 <UShort_t buffer, size 81920>\n",
      "135 <UShort_t buffer, size 81920>\n",
      "136 <UShort_t buffer, size 81920>\n",
      "137 <UShort_t buffer, size 81920>\n",
      "138 <UShort_t buffer, size 81920>\n",
      "139 <UShort_t buffer, size 81920>\n",
      "140 <UShort_t buffer, size 81920>\n",
      "141 <UShort_t buffer, size 81920>\n",
      "142 <UShort_t buffer, size 81920>\n",
      "143 <UShort_t buffer, size 81920>\n",
      "144 <UShort_t buffer, size 81920>\n",
      "145 <UShort_t buffer, size 81920>\n",
      "146 <UShort_t buffer, size 81920>\n",
      "147 <UShort_t buffer, size 81920>\n",
      "148 <UShort_t buffer, size 81920>\n",
      "149 <UShort_t buffer, size 81920>\n",
      "150 <UShort_t buffer, size 81920>\n",
      "151 <UShort_t buffer, size 81920>\n",
      "152 <UShort_t buffer, size 81920>\n",
      "153 <UShort_t buffer, size 81920>\n",
      "154 <UShort_t buffer, size 81920>\n",
      "155 <UShort_t buffer, size 81920>\n",
      "156 <UShort_t buffer, size 81920>\n",
      "157 <UShort_t buffer, size 81920>\n",
      "158 <UShort_t buffer, size 81920>\n"
     ]
    }
   ],
   "source": [
    "arrs = []\n",
    "alltrace = []\n",
    "\n",
    "for i, e in enumerate(t):\n",
    "    #if i > 10:\n",
    "    #    break\n",
    "    print(i, e.trace)\n",
    "    #print((([x for x in e.trace][:1023])))\n",
    "    #plt.hist((([x for x in e.trace][:1023])))\n",
    "    \n",
    "    arr = [x for x in e.trace]\n",
    "    arr2 = np.reshape(arr,(80,1024))\n",
    "    \n",
    "    for x in e.trace:\n",
    "        alltrace.append(x)\n",
    "    \n",
    "    arrs.append(arr2)"
   ]
  },
  {
   "cell_type": "code",
   "execution_count": 95,
   "metadata": {},
   "outputs": [],
   "source": [
    "arrfull = arrs[0]\n",
    "for i in range(1,len(arrs)):\n",
    "    for j, arri in enumerate(arrfull):\n",
    "        arri = np.append(arri, arrs[i][j])"
   ]
  },
  {
   "cell_type": "code",
   "execution_count": 96,
   "metadata": {},
   "outputs": [
    {
     "data": {
      "text/plain": [
       "[64624, 61591, 32767, 0, 38675, 59637, 360, 0, 38675, 59637]"
      ]
     },
     "execution_count": 96,
     "metadata": {},
     "output_type": "execute_result"
    }
   ],
   "source": [
    "alltrace[:10]"
   ]
  },
  {
   "cell_type": "code",
   "execution_count": 97,
   "metadata": {},
   "outputs": [
    {
     "data": {
      "image/png": "[encoded data removed]",
      "text/plain": [
       "<Figure size 432x288 with 1 Axes>"
      ]
     },
     "metadata": {},
     "output_type": "display_data"
    }
   ],
   "source": [
    "plt.hist(alltrace,bins=100)\n",
    "plt.show()"
   ]
  },
  {
   "cell_type": "code",
   "execution_count": 88,
   "metadata": {},
   "outputs": [
    {
     "data": {
      "image/png": "[encoded data removed]",
      "text/plain": [
       "<IPython.core.display.Image object>"
      ]
     },
     "metadata": {},
     "output_type": "display_data"
    }
   ],
   "source": [
    "c = r.TCanvas()\n",
    "t.Draw(\"ibms.trace\")\n",
    "c.SetLogy()\n",
    "c.Draw()"
   ]
  },
  {
   "cell_type": "code",
   "execution_count": 23,
   "metadata": {},
   "outputs": [
    {
     "name": "stdout",
     "output_type": "stream",
     "text": [
      "[0, 16, 32, 48, 64, 80, 96, 112, 128, 144]\n"
     ]
    }
   ],
   "source": [
    "print([x*16 for x in range(10)])"
   ]
  },
  {
   "cell_type": "code",
   "execution_count": 26,
   "metadata": {},
   "outputs": [
    {
     "data": {
      "image/png": "[encoded data removed]",
      "text/plain": [
       "<IPython.core.display.Image object>"
      ]
     },
     "metadata": {},
     "output_type": "display_data"
    }
   ],
   "source": [
    "c = r.TCanvas()\n",
    "t.Draw(\"ibms2XIntegral\")\n",
    "c.SetLogy()\n",
    "c.Draw()"
   ]
  },
  {
   "cell_type": "code",
   "execution_count": null,
   "metadata": {},
   "outputs": [],
   "source": []
  },
  {
   "cell_type": "code",
   "execution_count": null,
   "metadata": {},
   "outputs": [],
   "source": []
  }
 ],
 "metadata": {
  "kernelspec": {
   "display_name": "Python 3",
   "language": "python",
   "name": "python3"
  },
  "language_info": {
   "codemirror_mode": {
    "name": "ipython",
    "version": 3
   },
   "file_extension": ".py",
   "mimetype": "text/x-python",
   "name": "python",
   "nbconvert_exporter": "python",
   "pygments_lexer": "ipython3",
   "version": "3.6.8"
  }
 },
 "nbformat": 4,
 "nbformat_minor": 2
}
