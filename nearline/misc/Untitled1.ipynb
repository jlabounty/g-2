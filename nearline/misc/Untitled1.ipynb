{
 "cells": [
  {
   "cell_type": "code",
   "execution_count": 1,
   "metadata": {},
   "outputs": [
    {
     "name": "stdout",
     "output_type": "stream",
     "text": [
      "Welcome to JupyROOT 6.12/06\n",
      "For interactive plots, run: setint()\n",
      "To return to non-interactive plots (default state), run: noint()\n"
     ]
    }
   ],
   "source": [
    "from standardInclude import *"
   ]
  },
  {
   "cell_type": "code",
   "execution_count": 2,
   "metadata": {},
   "outputs": [
    {
     "name": "stdout",
     "output_type": "stream",
     "text": [
      "samweb -e gm2 create-definition labounty_radialFieldScan_run3_29956_29969 \" ( ( run_number = 29956 ) or ( run_number = 29957 ) or ( run_number = 29958 ) or ( run_number = 29959 ) or ( run_number = 29960 ) or ( run_number = 29961 ) or ( run_number = 29962 ) or ( run_number = 29963 ) or ( run_number = 29964 ) or ( run_number = 29965 ) or ( run_number = 29966 ) or ( run_number = 29967 ) or ( run_number = 29968 ) or ( run_number = 29969 )  ) and data_tier raw \" \n"
     ]
    }
   ],
   "source": [
    "print( createSamDataset(\"labounty_radialFieldScan_run3_29956_29969\", [i for i in range(29956, 29969+1)]) )"
   ]
  },
  {
   "cell_type": "code",
   "execution_count": 3,
   "metadata": {},
   "outputs": [
    {
     "name": "stdout",
     "output_type": "stream",
     "text": [
      "samweb -e gm2 create-definition labounty_RFScan_run3_29956_29969 \" ( ( run_number = 30397 ) or ( run_number = 30398 ) or ( run_number = 30399 ) or ( run_number = 30400 ) or ( run_number = 30401 ) or ( run_number = 30402 ) or ( run_number = 30403 ) or ( run_number = 30404 ) or ( run_number = 30405 ) or ( run_number = 30406 ) or ( run_number = 30407 ) or ( run_number = 30408 )  ) and data_tier raw \" \n"
     ]
    }
   ],
   "source": [
    "print( createSamDataset(\"labounty_RFScan_run3_29956_29969\", [i for i in range(30397, 30408+1)]) )"
   ]
  },
  {
   "cell_type": "code",
   "execution_count": 4,
   "metadata": {},
   "outputs": [
    {
     "name": "stdout",
     "output_type": "stream",
     "text": [
      "samweb -e gm2 create-definition badResistorLostMuonStudy_binney_labounty_noDRscraper \" ( ( run_number = 30445 ) or ( run_number = 30446 ) or ( run_number = 30447 ) or ( run_number = 30448 ) or ( run_number = 30449 ) or ( run_number = 30450 ) or ( run_number = 30451 ) or ( run_number = 30452 ) or ( run_number = 30453 ) or ( run_number = 30454 ) or ( run_number = 30455 ) or ( run_number = 30456 ) or ( run_number = 30457 ) or ( run_number = 30458 ) or ( run_number = 30459 ) or ( run_number = 30460 ) or ( run_number = 30461 ) or ( run_number = 30462 )  ) and data_tier raw \" \n"
     ]
    }
   ],
   "source": [
    "print( createSamDataset(\"badResistorLostMuonStudy_binney_labounty_noDRscraper\", [i for i in range(30445,30462+1)]) )"
   ]
  },
  {
   "cell_type": "code",
   "execution_count": 5,
   "metadata": {},
   "outputs": [
    {
     "name": "stdout",
     "output_type": "stream",
     "text": [
      "samweb -e gm2 create-definition badResistorLostMuonStudy_binney_labounty_halfCtag_highMomentum \" ( ( run_number = 30464 )  ) and data_tier raw \" \n"
     ]
    }
   ],
   "source": [
    "print( createSamDataset(\"badResistorLostMuonStudy_binney_labounty_halfCtag_highMomentum\", [30464]) )"
   ]
  },
  {
   "cell_type": "code",
   "execution_count": 6,
   "metadata": {},
   "outputs": [
    {
     "name": "stdout",
     "output_type": "stream",
     "text": [
      "samweb -e gm2 create-definition badResistorLostMuonStudy_binney_labounty_halfCtag_lowMomentum \" ( ( run_number = 30466 )  ) and data_tier raw \" \n"
     ]
    }
   ],
   "source": [
    "print( createSamDataset(\"badResistorLostMuonStudy_binney_labounty_halfCtag_lowMomentum\", [30466]) )"
   ]
  },
  {
   "cell_type": "code",
   "execution_count": 7,
   "metadata": {},
   "outputs": [
    {
     "name": "stdout",
     "output_type": "stream",
     "text": [
      "samweb -e gm2 create-definition badResistorLostMuonStudy_binney_labounty_thirdCtag_highMomentum \" ( ( run_number = 30468 ) or ( run_number = 30469 ) or ( run_number = 30470 )  ) and data_tier raw \" \n"
     ]
    }
   ],
   "source": [
    "print( createSamDataset(\"badResistorLostMuonStudy_binney_labounty_thirdCtag_highMomentum\", [i for i in range(30468, 30471)]) )"
   ]
  },
  {
   "cell_type": "code",
   "execution_count": 8,
   "metadata": {},
   "outputs": [
    {
     "name": "stdout",
     "output_type": "stream",
     "text": [
      "samweb -e gm2 create-definition badResistorLostMuonStudy_binney_labounty_thirdCtag_lowMomentum \" ( ( run_number = 30472 ) or ( run_number = 30473 )  ) and data_tier raw \" \n"
     ]
    }
   ],
   "source": [
    "print( createSamDataset(\"badResistorLostMuonStudy_binney_labounty_thirdCtag_lowMomentum\", [i for i in range(30472, 30473+1)]) )"
   ]
  },
  {
   "cell_type": "code",
   "execution_count": 9,
   "metadata": {},
   "outputs": [
    {
     "name": "stdout",
     "output_type": "stream",
     "text": [
      "samweb -e gm2 create-definition badResistorLostMuonStudy_binney_labounty_fifthCtag_highMomentum \" ( ( run_number = 30475 ) or ( run_number = 30476 ) or ( run_number = 30477 )  ) and data_tier raw \" \n"
     ]
    }
   ],
   "source": [
    "print( createSamDataset(\"badResistorLostMuonStudy_binney_labounty_fifthCtag_highMomentum\", [i for i in range(30475, 30477+1)]) )"
   ]
  },
  {
   "cell_type": "code",
   "execution_count": 10,
   "metadata": {},
   "outputs": [
    {
     "name": "stdout",
     "output_type": "stream",
     "text": [
      "samweb -e gm2 create-definition badResistorLostMuonStudy_binney_labounty_fifthCtag_lowMomentum \" ( ( run_number = 30479 ) or ( run_number = 30480 ) or ( run_number = 30481 )  ) and data_tier raw \" \n"
     ]
    }
   ],
   "source": [
    "print( createSamDataset(\"badResistorLostMuonStudy_binney_labounty_fifthCtag_lowMomentum\", [i for i in range(30479, 30481+1)]) )"
   ]
  },
  {
   "cell_type": "code",
   "execution_count": 11,
   "metadata": {},
   "outputs": [
    {
     "name": "stdout",
     "output_type": "stream",
     "text": [
      "samweb -e gm2 create-definition badResistorLostMuonStudy_binney_labounty_fifthCtag_middle \" ( ( run_number = 30483 ) or ( run_number = 30484 ) or ( run_number = 30485 ) or ( run_number = 30486 ) or ( run_number = 30487 ) or ( run_number = 30488 ) or ( run_number = 30489 )  ) and data_tier raw \" \n"
     ]
    }
   ],
   "source": [
    "print( createSamDataset(\"badResistorLostMuonStudy_binney_labounty_fifthCtag_middle\", [i for i in range(30483, 30489+1)]) )"
   ]
  },
  {
   "cell_type": "code",
   "execution_count": null,
   "metadata": {},
   "outputs": [],
   "source": []
  },
  {
   "cell_type": "code",
   "execution_count": null,
   "metadata": {},
   "outputs": [],
   "source": []
  }
 ],
 "metadata": {
  "kernelspec": {
   "display_name": "Python 3",
   "language": "python",
   "name": "python3"
  },
  "language_info": {
   "codemirror_mode": {
    "name": "ipython",
    "version": 3
   },
   "file_extension": ".py",
   "mimetype": "text/x-python",
   "name": "python",
   "nbconvert_exporter": "python",
   "pygments_lexer": "ipython3",
   "version": "3.6.8"
  }
 },
 "nbformat": 4,
 "nbformat_minor": 2
}
