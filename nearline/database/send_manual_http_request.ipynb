{
 "cells": [
  {
   "cell_type": "code",
   "execution_count": 6,
   "metadata": {},
   "outputs": [],
   "source": [
    "from standardInclude import *\n",
    "import requests"
   ]
  },
  {
   "cell_type": "code",
   "execution_count": 2,
   "metadata": {},
   "outputs": [],
   "source": [
    "pieces = [\"GET /QE/gm2/dev/app/SQ/query?dbname=postgres_dev&t=nearline_sync_energy_constants&w=validfromrun:lt:34922&w=type:driftCorrection&w=calonum:1&w=isvalid:true&o=-validfromrun&o=-derivedsubrun&o=-generatedtime&l=1 HTTP/1.1\",\n",
    "\"Host: dbdata0vm.fnal.gov\",\n",
    "\"Accept: */*\",\n",
    "\"Connection: close\"]"
   ]
  },
  {
   "cell_type": "code",
   "execution_count": 3,
   "metadata": {},
   "outputs": [
    {
     "name": "stdout",
     "output_type": "stream",
     "text": [
      "GET /QE/gm2/dev/app/SQ/query?dbname=postgres_dev&t=nearline_sync_energy_constants&w=validfromrun:lt:34922&w=type:driftCorrection&w=calonum:1&w=isvalid:true&o=-validfromrun&o=-derivedsubrun&o=-generatedtime&l=1 HTTP/1.1\n",
      "Host: dbdata0vm.fnal.gov\n",
      "Accept: */*\n",
      "Connection: close\n",
      "\n",
      "\n"
     ]
    }
   ],
   "source": [
    "request = \"\"\n",
    "for pi in pieces:\n",
    "    request += pi+\"\\r\\n\"\n",
    "request += \"\\r\\n\"\n",
    "print(request)"
   ]
  },
  {
   "cell_type": "code",
   "execution_count": 1,
   "metadata": {},
   "outputs": [
    {
     "name": "stdout",
     "output_type": "stream",
     "text": [
      "<Response [200]>\n",
      "{'Server': 'nginx/1.8.0', 'Date': 'Thu, 25 Jun 2020 19:23:26 GMT', 'Content-Type': 'text/csv; charset=UTF-8', 'Transfer-Encoding': 'chunked', 'Connection': 'keep-alive', 'Cache-Control': 'max-age=1', 'Expires': 'Thu, 25 Jun 2020 19:23:27 GMT'}\n",
      "validfromrun,type,calonum,constants,generatedtime,isvalid,baserun,derivedsubrun\n",
      "34921,driftCorrection,1,\"[1.04913, 1.04118, 1.04903, 1.05678, 1.04911, 1.05124, 1.05289, 1.07469, 1.07062, 1.04138, 1.05286, 1.05306, 1.0587, 1.05672, 1.05263, 1.05951, 1.06562, 1.07535, 1.05518, 1.06557, 1.0683, 1.07325, 1.07559, 1.06243, 1.07927, 1.08049, 1.13076, 1.05362, 1.05282, 1.06199, 1.06396, 1.07376, 1.06326, 1.0857, 1.07915, 1.12231, 1.05258, 1.0588, 1.05244, 1.05427, 1.06305, 1.06635, 1.0659, 1.07404, 1.0838, 1.04554, 1.05093, 1.06105, 1.05523, 1.05978, 1.05545, 1.0627, 1.05728, 1.07113]\",2020-03-20 00:15:41.554701,True,23609,98\n",
      "\n"
     ]
    }
   ],
   "source": [
    "import requests\n",
    "\n",
    "url=\"https://dbdata0vm.fnal.gov:9443\"\n",
    "qe_request = \"/QE/gm2/dev/app/SQ/query?dbname=postgres_dev&t=nearline_sync_energy_constants&w=validfromrun:lt:34922&w=type:driftCorrection&w=calonum:1&w=isvalid:true&o=-validfromrun&o=-derivedsubrun&o=-generatedtime&l=1\"\n",
    "qe_request = \"/QE/gm2/dev/app/SQ/query?dbname=postgres_dev&t=nearline_sync_energy_constants&w=validfromrun:lt:34922&w=type:driftCorrection&w=calonum:1&w=isvalid:true&o=-validfromrun&o=-derivedsubrun&o=-generatedtime&l=1\"\n",
    "r = requests.get(url+qe_request)\n",
    "print(r)\n",
    "print(r.headers)\n",
    "r.close()\n",
    "\n",
    "data = r.text\n",
    "print(data)"
   ]
  },
  {
   "cell_type": "code",
   "execution_count": 22,
   "metadata": {},
   "outputs": [
    {
     "data": {
      "text/plain": [
       "{'User-Agent': 'python-requests/2.22.0', 'Accept-Encoding': 'gzip, deflate', 'Accept': '*/*', 'Connection': 'keep-alive'}"
      ]
     },
     "execution_count": 22,
     "metadata": {},
     "output_type": "execute_result"
    }
   ],
   "source": [
    "r.request.headers"
   ]
  },
  {
   "cell_type": "code",
   "execution_count": 25,
   "metadata": {},
   "outputs": [
    {
     "name": "stdout",
     "output_type": "stream",
     "text": [
      "None\n"
     ]
    }
   ],
   "source": [
    "print( r.request.body )"
   ]
  },
  {
   "cell_type": "code",
   "execution_count": null,
   "metadata": {},
   "outputs": [],
   "source": []
  }
 ],
 "metadata": {
  "kernelspec": {
   "display_name": "Python 3",
   "language": "python",
   "name": "python3"
  },
  "language_info": {
   "codemirror_mode": {
    "name": "ipython",
    "version": 3
   },
   "file_extension": ".py",
   "mimetype": "text/x-python",
   "name": "python",
   "nbconvert_exporter": "python",
   "pygments_lexer": "ipython3",
   "version": "3.7.6"
  }
 },
 "nbformat": 4,
 "nbformat_minor": 4
}
