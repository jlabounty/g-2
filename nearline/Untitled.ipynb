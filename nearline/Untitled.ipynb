{
 "cells": [
  {
   "cell_type": "code",
   "execution_count": 1,
   "metadata": {},
   "outputs": [
    {
     "name": "stdout",
     "output_type": "stream",
     "text": [
      "Welcome to JupyROOT 6.12/06\n",
      "For interactive plots, run: setint()\n",
      "To return to non-interactive plots (default state), run: noint()\n"
     ]
    }
   ],
   "source": [
    "from standardInclude import *"
   ]
  },
  {
   "cell_type": "code",
   "execution_count": 2,
   "metadata": {},
   "outputs": [
    {
     "name": "stdout",
     "output_type": "stream",
     "text": [
      "TFile**\t\t./gm2nearline_ana.root\t\n",
      " TFile*\t\t./gm2nearline_ana.root\t\n",
      "  KEY: TDirectoryFile\tnearlineHistTree;1\tnearlineHistTree (CaloNearlineHistograms) folder\n",
      "  KEY: TDirectoryFile\tclusterTree;1\tclusterTree (ClusterTree) folder\n",
      "  KEY: TDirectoryFile\tt0Analyzer;1\tt0Analyzer (T0PulseProcessorAnalyzer) folder\n",
      "  KEY: TDirectoryFile\tibmsAnalyzer;1\tibmsAnalyzer (IBMSAnalyzer) folder\n",
      "  KEY: TDirectoryFile\tCoincidenceFinderLM;1\tCoincidenceFinderLM (CoincidenceFinderLM) folder\n",
      "  KEY: TDirectoryFile\tFastRotation;1\tFastRotation\n"
     ]
    },
    {
     "name": "stderr",
     "output_type": "stream",
     "text": [
      "Warning in <TClass::Init>: no dictionary for class gm2aux::IBMSRawArtRecord is available\n"
     ]
    }
   ],
   "source": [
    "f = r.TFile(\"./gm2nearline_ana.root\")\n",
    "f.ls()"
   ]
  },
  {
   "cell_type": "markdown",
   "metadata": {},
   "source": [
    "---\n",
    "\n",
    "## Cluster plots "
   ]
  },
  {
   "cell_type": "code",
   "execution_count": 3,
   "metadata": {},
   "outputs": [
    {
     "name": "stdout",
     "output_type": "stream",
     "text": [
      "TFile**\t\t./gm2nearline_ana.root\t\n",
      " TFile*\t\t./gm2nearline_ana.root\t\n",
      "  TDirectoryFile*\t\tclusterTree\tclusterTree (ClusterTree) folder\n",
      "   KEY: TTree\tclusters;1\tclusters\n",
      "  KEY: TDirectoryFile\tnearlineHistTree;1\tnearlineHistTree (CaloNearlineHistograms) folder\n",
      "  KEY: TDirectoryFile\tclusterTree;1\tclusterTree (ClusterTree) folder\n",
      "  KEY: TDirectoryFile\tt0Analyzer;1\tt0Analyzer (T0PulseProcessorAnalyzer) folder\n",
      "  KEY: TDirectoryFile\tibmsAnalyzer;1\tibmsAnalyzer (IBMSAnalyzer) folder\n",
      "  KEY: TDirectoryFile\tCoincidenceFinderLM;1\tCoincidenceFinderLM (CoincidenceFinderLM) folder\n",
      "  KEY: TDirectoryFile\tFastRotation;1\tFastRotation\n"
     ]
    }
   ],
   "source": [
    "f.cd(\"clusterTree\")\n",
    "f.ls()"
   ]
  },
  {
   "cell_type": "code",
   "execution_count": 4,
   "metadata": {},
   "outputs": [
    {
     "name": "stdout",
     "output_type": "stream",
     "text": [
      "******************************************************************************\n",
      "*Tree    :clusters  : clusters                                               *\n",
      "*Entries :   336595 : Total =        22963226 bytes  File  Size =   10407536 *\n",
      "*        :          : Tree compression factor =   2.21                       *\n",
      "******************************************************************************\n",
      "*Br    0 :energy    : energy/D                                               *\n",
      "*Entries :   336595 : Total  Size=    2701322 bytes  File Size  =    2563879 *\n",
      "*Baskets :       85 : Basket Size=      32000 bytes  Compression=   1.05     *\n",
      "*............................................................................*\n",
      "*Br    1 :time      : time/D                                                 *\n",
      "*Entries :   336595 : Total  Size=    2701144 bytes  File Size  =    2573399 *\n",
      "*Baskets :       85 : Basket Size=      32000 bytes  Compression=   1.05     *\n",
      "*............................................................................*\n",
      "*Br    2 :x         : x/D                                                    *\n",
      "*Entries :   336595 : Total  Size=    2700877 bytes  File Size  =    2071125 *\n",
      "*Baskets :       85 : Basket Size=      32000 bytes  Compression=   1.30     *\n",
      "*............................................................................*\n",
      "*Br    3 :y         : y/D                                                    *\n",
      "*Entries :   336595 : Total  Size=    2700877 bytes  File Size  =    1973758 *\n",
      "*Baskets :       85 : Basket Size=      32000 bytes  Compression=   1.37     *\n",
      "*............................................................................*\n",
      "*Br    4 :nHit      : nHit/i                                                 *\n",
      "*Entries :   336595 : Total  Size=    1350766 bytes  File Size  =     243174 *\n",
      "*Baskets :       43 : Basket Size=      32000 bytes  Compression=   5.55     *\n",
      "*............................................................................*\n",
      "*Br    5 :caloNum   : caloNum/i                                              *\n",
      "*Entries :   336595 : Total  Size=    1350907 bytes  File Size  =      20791 *\n",
      "*Baskets :       43 : Basket Size=      32000 bytes  Compression=  64.92     *\n",
      "*............................................................................*\n",
      "*Br    6 :xtalNum   : xtalNum/i                                              *\n",
      "*Entries :   336595 : Total  Size=    1350907 bytes  File Size  =     419145 *\n",
      "*Baskets :       43 : Basket Size=      32000 bytes  Compression=   3.22     *\n",
      "*............................................................................*\n",
      "*Br    7 :islandNum : islandNum/i                                            *\n",
      "*Entries :   336595 : Total  Size=    1351001 bytes  File Size  =     475927 *\n",
      "*Baskets :       43 : Basket Size=      32000 bytes  Compression=   2.84     *\n",
      "*............................................................................*\n",
      "*Br    8 :eventNum  : eventNum/i                                             *\n",
      "*Entries :   336595 : Total  Size=    1350954 bytes  File Size  =      12071 *\n",
      "*Baskets :       43 : Basket Size=      32000 bytes  Compression= 111.82     *\n",
      "*............................................................................*\n",
      "*Br    9 :bunchNum  : bunchNum/i                                             *\n",
      "*Entries :   336595 : Total  Size=    1350954 bytes  File Size  =      12006 *\n",
      "*Baskets :       43 : Basket Size=      32000 bytes  Compression= 112.43     *\n",
      "*............................................................................*\n",
      "*Br   10 :midasSerialNum : midasSerialNum/i                                  *\n",
      "*Entries :   336595 : Total  Size=    1351236 bytes  File Size  =      12371 *\n",
      "*Baskets :       43 : Basket Size=      32000 bytes  Compression= 109.13     *\n",
      "*............................................................................*\n",
      "*Br   11 :subRunNum : subRunNum/i                                            *\n",
      "*Entries :   336595 : Total  Size=    1351001 bytes  File Size  =      11526 *\n",
      "*Baskets :       43 : Basket Size=      32000 bytes  Compression= 117.11     *\n",
      "*............................................................................*\n",
      "*Br   12 :runNum    : runNum/i                                               *\n",
      "*Entries :   336595 : Total  Size=    1350860 bytes  File Size  =      11441 *\n",
      "*Baskets :       43 : Basket Size=      32000 bytes  Compression= 117.97     *\n",
      "*............................................................................*\n"
     ]
    }
   ],
   "source": [
    "t = f.Get(\"clusterTree\").Get(\"clusters\")\n",
    "t.Print()"
   ]
  },
  {
   "cell_type": "code",
   "execution_count": 6,
   "metadata": {},
   "outputs": [
    {
     "name": "stderr",
     "output_type": "stream",
     "text": [
      "Warning in <TDirectoryFile::Append>: Replacing existing TH1: h (Potential memory leak).\n"
     ]
    },
    {
     "data": {
      "image/png": "[encoded data removed]",
      "text/plain": [
       "<IPython.core.display.Image object>"
      ]
     },
     "metadata": {},
     "output_type": "display_data"
    }
   ],
   "source": [
    "c = r.TCanvas()\n",
    "h = r.TH2D(\"h\",\"Reconstructed Cluster Positions [E > 1730 MeV]; x [xtals]; y [xtals]\",90,0,9,60,0,6)\n",
    "t.Draw(\"y:x>>h\",\"energy>1730 && energy<30000\",\"goff\")\n",
    "h.Draw(\"colz\")\n",
    "c.SetLogz()\n",
    "c.Draw()"
   ]
  },
  {
   "cell_type": "code",
   "execution_count": 11,
   "metadata": {},
   "outputs": [
    {
     "data": {
      "image/png": "[encoded data removed]",
      "text/plain": [
       "<IPython.core.display.Image object>"
      ]
     },
     "metadata": {},
     "output_type": "display_data"
    }
   ],
   "source": [
    "c = r.TCanvas()\n",
    "#h = r.TH2D(\"h\",\"Reconstructed Cluster Positions [E > 1730 MeV]; x [xtals]; y [xtals]\",90,0,9,60,0,6)\n",
    "t.Draw(\"time*1.25/1000>>hist(1000,0,200)\",\"energy>1730 && energy<30000\",\"\")\n",
    "c.SetLogy()\n",
    "c.Draw()"
   ]
  },
  {
   "cell_type": "code",
   "execution_count": 13,
   "metadata": {},
   "outputs": [
    {
     "data": {
      "image/png": "[encoded data removed]",
      "text/plain": [
       "<IPython.core.display.Image object>"
      ]
     },
     "metadata": {},
     "output_type": "display_data"
    }
   ],
   "source": [
    "c = r.TCanvas()\n",
    "#h = r.TH2D(\"h\",\"Reconstructed Cluster Positions [E > 1730 MeV]; x [xtals]; y [xtals]\",90,0,9,60,0,6)\n",
    "t.Draw(\"caloNum\",\"energy>1730 && energy<30000\",\"\")\n",
    "#c.SetLogy()\n",
    "c.Draw()"
   ]
  },
  {
   "cell_type": "markdown",
   "metadata": {},
   "source": [
    "---\n",
    "\n",
    "## T0 plots"
   ]
  },
  {
   "cell_type": "code",
   "execution_count": 14,
   "metadata": {},
   "outputs": [
    {
     "name": "stdout",
     "output_type": "stream",
     "text": [
      "TFile**\t\t./gm2nearline_ana.root\t\n",
      " TFile*\t\t./gm2nearline_ana.root\t\n",
      "  TDirectoryFile*\t\tclusterTree\tclusterTree (ClusterTree) folder\n",
      "   OBJ: TTree\tclusters\tclusters : 0 at: 0x7fffd78da530\n",
      "   OBJ: TH2D\th\tReconstructed Cluster Positions [E > 1730 MeV] : 0 at: 0x7fffd78d0d30\n",
      "   OBJ: TH1F\thist\ttime*1.25/1000 {energy>1730 && energy<30000} : 0 at: 0x7fffd7b53180\n",
      "   KEY: TTree\tclusters;1\tclusters\n",
      "  TDirectoryFile*\t\tt0Analyzer\tt0Analyzer (T0PulseProcessorAnalyzer) folder\n",
      "   KEY: TTree\tt0Tree;1\tt0Tree\n",
      "  KEY: TDirectoryFile\tnearlineHistTree;1\tnearlineHistTree (CaloNearlineHistograms) folder\n",
      "  KEY: TDirectoryFile\tclusterTree;1\tclusterTree (ClusterTree) folder\n",
      "  KEY: TDirectoryFile\tt0Analyzer;1\tt0Analyzer (T0PulseProcessorAnalyzer) folder\n",
      "  KEY: TDirectoryFile\tibmsAnalyzer;1\tibmsAnalyzer (IBMSAnalyzer) folder\n",
      "  KEY: TDirectoryFile\tCoincidenceFinderLM;1\tCoincidenceFinderLM (CoincidenceFinderLM) folder\n",
      "  KEY: TDirectoryFile\tFastRotation;1\tFastRotation\n"
     ]
    }
   ],
   "source": [
    "f.cd(\"t0Analyzer\")\n",
    "f.ls()"
   ]
  },
  {
   "cell_type": "code",
   "execution_count": 15,
   "metadata": {},
   "outputs": [
    {
     "name": "stdout",
     "output_type": "stream",
     "text": [
      "******************************************************************************\n",
      "*Tree    :t0Tree    : t0Tree                                                 *\n",
      "*Entries :       83 : Total =        20218805 bytes  File  Size =    6538448 *\n",
      "*        :          : Tree compression factor =   3.09                       *\n",
      "******************************************************************************\n",
      "*Br    0 :tracetubeA : vector<int>                                           *\n",
      "*Entries :       83 : Total  Size=    3330704 bytes  File Size  =     780106 *\n",
      "*Baskets :       83 : Basket Size=      32000 bytes  Compression=   4.27     *\n",
      "*............................................................................*\n",
      "*Br    1 :sampleNums : vector<unsigned int>                                  *\n",
      "*Entries :       83 : Total  Size=    3331036 bytes  File Size  =    1169885 *\n",
      "*Baskets :       83 : Basket Size=      32000 bytes  Compression=   2.85     *\n",
      "*............................................................................*\n",
      "*Br    2 :integralStartTimetubeA : integralStartTimetubeA/I                  *\n",
      "*Entries :       83 : Total  Size=        976 bytes  File Size  =        254 *\n",
      "*Baskets :        1 : Basket Size=      32000 bytes  Compression=   1.67     *\n",
      "*............................................................................*\n",
      "*Br    3 :integralEndTimetubeA : integralEndTimetubeA/I                      *\n",
      "*Entries :       83 : Total  Size=        966 bytes  File Size  =        276 *\n",
      "*Baskets :        1 : Basket Size=      32000 bytes  Compression=   1.53     *\n",
      "*............................................................................*\n",
      "*Br    4 :integraltubeA : integraltubeA/D                                    *\n",
      "*Entries :       83 : Total  Size=       1271 bytes  File Size  =        713 *\n",
      "*Baskets :        1 : Basket Size=      32000 bytes  Compression=   1.05     *\n",
      "*............................................................................*\n",
      "*Br    5 :baselinetubeA : baselinetubeA/D                                    *\n",
      "*Entries :       83 : Total  Size=       1271 bytes  File Size  =        446 *\n",
      "*Baskets :        1 : Basket Size=      32000 bytes  Compression=   1.67     *\n",
      "*............................................................................*\n",
      "*Br    6 :peakTimetubeA : peakTimetubeA/I                                    *\n",
      "*Entries :       83 : Total  Size=        931 bytes  File Size  =        257 *\n",
      "*Baskets :        1 : Basket Size=      32000 bytes  Compression=   1.61     *\n",
      "*............................................................................*\n",
      "*Br    7 :ampltubeA : ampltubeA/D                                            *\n",
      "*Entries :       83 : Total  Size=       1251 bytes  File Size  =        561 *\n",
      "*Baskets :        1 : Basket Size=      32000 bytes  Compression=   1.32     *\n",
      "*............................................................................*\n",
      "*Br    8 :tOverTMtubeA : tOverTMtubeA/I                                      *\n",
      "*Entries :       83 : Total  Size=        926 bytes  File Size  =        238 *\n",
      "*Baskets :        1 : Basket Size=      32000 bytes  Compression=   1.74     *\n",
      "*............................................................................*\n",
      "*Br    9 :tUnderTMtubeA : tUnderTMtubeA/I                                    *\n",
      "*Entries :       83 : Total  Size=        931 bytes  File Size  =        247 *\n",
      "*Baskets :        1 : Basket Size=      32000 bytes  Compression=   1.68     *\n",
      "*............................................................................*\n",
      "*Br   10 :FWTMtubeA : FWTMtubeA/I                                            *\n",
      "*Entries :       83 : Total  Size=        911 bytes  File Size  =        238 *\n",
      "*Baskets :        1 : Basket Size=      32000 bytes  Compression=   1.72     *\n",
      "*............................................................................*\n",
      "*Br   11 :timetubeA : timetubeA/D                                            *\n",
      "*Entries :       83 : Total  Size=       1251 bytes  File Size  =        717 *\n",
      "*Baskets :        1 : Basket Size=      32000 bytes  Compression=   1.03     *\n",
      "*............................................................................*\n",
      "*Br   12 :tRMStubeA : tRMStubeA/D                                            *\n",
      "*Entries :       83 : Total  Size=       1251 bytes  File Size  =        742 *\n",
      "*Baskets :        1 : Basket Size=      32000 bytes  Compression=   1.00     *\n",
      "*............................................................................*\n",
      "*Br   13 :syncTracetubeA : vector<short>                                     *\n",
      "*Entries :       83 : Total  Size=      61505 bytes  File Size  =      25647 *\n",
      "*Baskets :        2 : Basket Size=      32000 bytes  Compression=   2.38     *\n",
      "*............................................................................*\n",
      "*Br   14 :syncPulseTimetubeA : syncPulseTimetubeA/D                          *\n",
      "*Entries :       83 : Total  Size=       1296 bytes  File Size  =        743 *\n",
      "*Baskets :        1 : Basket Size=      32000 bytes  Compression=   1.01     *\n",
      "*............................................................................*\n",
      "*Br   15 :syncPulseIntegraltubeA : syncPulseIntegraltubeA/D                  *\n",
      "*Entries :       83 : Total  Size=       1316 bytes  File Size  =        612 *\n",
      "*Baskets :        1 : Basket Size=      32000 bytes  Compression=   1.23     *\n",
      "*............................................................................*\n",
      "*Br   16 :tracetubeB : vector<int>                                           *\n",
      "*Entries :       83 : Total  Size=    3330704 bytes  File Size  =     784185 *\n",
      "*Baskets :       83 : Basket Size=      32000 bytes  Compression=   4.24     *\n",
      "*............................................................................*\n",
      "*Br   17 :sampleNums : vector<unsigned int>                                  *\n",
      "*Entries :       83 : Total  Size=    3331036 bytes  File Size  =    1169885 *\n",
      "*Baskets :       83 : Basket Size=      32000 bytes  Compression=   2.85     *\n",
      "*............................................................................*\n",
      "*Br   18 :integralStartTimetubeB : integralStartTimetubeB/I                  *\n",
      "*Entries :       83 : Total  Size=        976 bytes  File Size  =        253 *\n",
      "*Baskets :        1 : Basket Size=      32000 bytes  Compression=   1.67     *\n",
      "*............................................................................*\n",
      "*Br   19 :integralEndTimetubeB : integralEndTimetubeB/I                      *\n",
      "*Entries :       83 : Total  Size=        966 bytes  File Size  =        278 *\n",
      "*Baskets :        1 : Basket Size=      32000 bytes  Compression=   1.51     *\n",
      "*............................................................................*\n",
      "*Br   20 :integraltubeB : integraltubeB/D                                    *\n",
      "*Entries :       83 : Total  Size=       1271 bytes  File Size  =        705 *\n",
      "*Baskets :        1 : Basket Size=      32000 bytes  Compression=   1.06     *\n",
      "*............................................................................*\n",
      "*Br   21 :baselinetubeB : baselinetubeB/D                                    *\n",
      "*Entries :       83 : Total  Size=       1271 bytes  File Size  =        453 *\n",
      "*Baskets :        1 : Basket Size=      32000 bytes  Compression=   1.65     *\n",
      "*............................................................................*\n",
      "*Br   22 :peakTimetubeB : peakTimetubeB/I                                    *\n",
      "*Entries :       83 : Total  Size=        931 bytes  File Size  =        256 *\n",
      "*Baskets :        1 : Basket Size=      32000 bytes  Compression=   1.62     *\n",
      "*............................................................................*\n",
      "*Br   23 :ampltubeB : ampltubeB/D                                            *\n",
      "*Entries :       83 : Total  Size=       1251 bytes  File Size  =        574 *\n",
      "*Baskets :        1 : Basket Size=      32000 bytes  Compression=   1.29     *\n",
      "*............................................................................*\n",
      "*Br   24 :tOverTMtubeB : tOverTMtubeB/I                                      *\n",
      "*Entries :       83 : Total  Size=        926 bytes  File Size  =        241 *\n",
      "*Baskets :        1 : Basket Size=      32000 bytes  Compression=   1.71     *\n",
      "*............................................................................*\n",
      "*Br   25 :tUnderTMtubeB : tUnderTMtubeB/I                                    *\n",
      "*Entries :       83 : Total  Size=        931 bytes  File Size  =        248 *\n",
      "*Baskets :        1 : Basket Size=      32000 bytes  Compression=   1.67     *\n",
      "*............................................................................*\n",
      "*Br   26 :FWTMtubeB : FWTMtubeB/I                                            *\n",
      "*Entries :       83 : Total  Size=        911 bytes  File Size  =        238 *\n",
      "*Baskets :        1 : Basket Size=      32000 bytes  Compression=   1.72     *\n",
      "*............................................................................*\n",
      "*Br   27 :timetubeB : timetubeB/D                                            *\n",
      "*Entries :       83 : Total  Size=       1251 bytes  File Size  =        717 *\n",
      "*Baskets :        1 : Basket Size=      32000 bytes  Compression=   1.03     *\n",
      "*............................................................................*\n",
      "*Br   28 :tRMStubeB : tRMStubeB/D                                            *\n",
      "*Entries :       83 : Total  Size=       1251 bytes  File Size  =        742 *\n",
      "*Baskets :        1 : Basket Size=      32000 bytes  Compression=   1.00     *\n",
      "*............................................................................*\n",
      "*Br   29 :syncTracetubeB : vector<short>                                     *\n",
      "*Entries :       83 : Total  Size=      61505 bytes  File Size  =      25360 *\n",
      "*Baskets :        2 : Basket Size=      32000 bytes  Compression=   2.40     *\n",
      "*............................................................................*\n",
      "*Br   30 :syncPulseTimetubeB : syncPulseTimetubeB/D                          *\n",
      "*Entries :       83 : Total  Size=       1296 bytes  File Size  =        739 *\n",
      "*Baskets :        1 : Basket Size=      32000 bytes  Compression=   1.02     *\n",
      "*............................................................................*\n",
      "*Br   31 :syncPulseIntegraltubeB : syncPulseIntegraltubeB/D                  *\n",
      "*Entries :       83 : Total  Size=       1316 bytes  File Size  =        571 *\n",
      "*Baskets :        1 : Basket Size=      32000 bytes  Compression=   1.32     *\n",
      "*............................................................................*\n",
      "*Br   32 :tracesipm : vector<int>                                            *\n",
      "*Entries :       83 : Total  Size=    3330617 bytes  File Size  =    1348641 *\n",
      "*Baskets :       83 : Basket Size=      32000 bytes  Compression=   2.47     *\n",
      "*............................................................................*\n",
      "*Br   33 :sampleNums : vector<unsigned int>                                  *\n",
      "*Entries :       83 : Total  Size=    3331036 bytes  File Size  =    1169885 *\n",
      "*Baskets :       83 : Basket Size=      32000 bytes  Compression=   2.85     *\n",
      "*............................................................................*\n",
      "*Br   34 :integralStartTimesipm : integralStartTimesipm/I                    *\n",
      "*Entries :       83 : Total  Size=        971 bytes  File Size  =        275 *\n",
      "*Baskets :        1 : Basket Size=      32000 bytes  Compression=   1.53     *\n",
      "*............................................................................*\n",
      "*Br   35 :integralEndTimesipm : integralEndTimesipm/I                        *\n",
      "*Entries :       83 : Total  Size=        961 bytes  File Size  =        307 *\n",
      "*Baskets :        1 : Basket Size=      32000 bytes  Compression=   1.37     *\n",
      "*............................................................................*\n",
      "*Br   36 :integralsipm : integralsipm/D                                      *\n",
      "*Entries :       83 : Total  Size=       1266 bytes  File Size  =        741 *\n",
      "*Baskets :        1 : Basket Size=      32000 bytes  Compression=   1.01     *\n",
      "*............................................................................*\n",
      "*Br   37 :baselinesipm : baselinesipm/D                                      *\n",
      "*Entries :       83 : Total  Size=       1266 bytes  File Size  =        519 *\n",
      "*Baskets :        1 : Basket Size=      32000 bytes  Compression=   1.44     *\n",
      "*............................................................................*\n",
      "*Br   38 :peakTimesipm : peakTimesipm/I                                      *\n",
      "*Entries :       83 : Total  Size=        926 bytes  File Size  =        285 *\n",
      "*Baskets :        1 : Basket Size=      32000 bytes  Compression=   1.45     *\n",
      "*............................................................................*\n",
      "*Br   39 :amplsipm  : amplsipm/D                                             *\n",
      "*Entries :       83 : Total  Size=       1246 bytes  File Size  =        538 *\n",
      "*Baskets :        1 : Basket Size=      32000 bytes  Compression=   1.38     *\n",
      "*............................................................................*\n",
      "*Br   40 :tOverTMsipm : tOverTMsipm/I                                        *\n",
      "*Entries :       83 : Total  Size=        921 bytes  File Size  =        262 *\n",
      "*Baskets :        1 : Basket Size=      32000 bytes  Compression=   1.57     *\n",
      "*............................................................................*\n",
      "*Br   41 :tUnderTMsipm : tUnderTMsipm/I                                      *\n",
      "*Entries :       83 : Total  Size=        926 bytes  File Size  =        295 *\n",
      "*Baskets :        1 : Basket Size=      32000 bytes  Compression=   1.40     *\n",
      "*............................................................................*\n",
      "*Br   42 :FWTMsipm  : FWTMsipm/I                                             *\n",
      "*Entries :       83 : Total  Size=        906 bytes  File Size  =        295 *\n",
      "*Baskets :        1 : Basket Size=      32000 bytes  Compression=   1.39     *\n",
      "*............................................................................*\n",
      "*Br   43 :timesipm  : timesipm/D                                             *\n",
      "*Entries :       83 : Total  Size=       1246 bytes  File Size  =        734 *\n",
      "*Baskets :        1 : Basket Size=      32000 bytes  Compression=   1.01     *\n",
      "*............................................................................*\n",
      "*Br   44 :tRMSsipm  : tRMSsipm/D                                             *\n",
      "*Entries :       83 : Total  Size=       1246 bytes  File Size  =        741 *\n",
      "*Baskets :        1 : Basket Size=      32000 bytes  Compression=   1.00     *\n",
      "*............................................................................*\n",
      "*Br   45 :syncTracesipm : vector<short>                                      *\n",
      "*Entries :       83 : Total  Size=      61499 bytes  File Size  =      37757 *\n",
      "*Baskets :        2 : Basket Size=      32000 bytes  Compression=   1.62     *\n",
      "*............................................................................*\n",
      "*Br   46 :syncPulseTimesipm : syncPulseTimesipm/D                            *\n",
      "*Entries :       83 : Total  Size=       1291 bytes  File Size  =        740 *\n",
      "*Baskets :        1 : Basket Size=      32000 bytes  Compression=   1.01     *\n",
      "*............................................................................*\n",
      "*Br   47 :syncPulseIntegralsipm : syncPulseIntegralsipm/D                    *\n",
      "*Entries :       83 : Total  Size=       1311 bytes  File Size  =        573 *\n",
      "*Baskets :        1 : Basket Size=      32000 bytes  Compression=   1.32     *\n",
      "*............................................................................*\n",
      "*Br   48 :eventNum  : eventNum/i                                             *\n",
      "*Entries :       83 : Total  Size=        906 bytes  File Size  =        251 *\n",
      "*Baskets :        1 : Basket Size=      32000 bytes  Compression=   1.63     *\n",
      "*............................................................................*\n",
      "*Br   49 :subRunNum : subRunNum/i                                            *\n",
      "*Entries :       83 : Total  Size=        911 bytes  File Size  =        104 *\n",
      "*Baskets :        1 : Basket Size=      32000 bytes  Compression=   3.94     *\n",
      "*............................................................................*\n",
      "*Br   50 :runNum    : runNum/i                                               *\n",
      "*Entries :       83 : Total  Size=        896 bytes  File Size  =        101 *\n",
      "*Baskets :        1 : Basket Size=      32000 bytes  Compression=   4.03     *\n",
      "*............................................................................*\n",
      "*Br   51 :pulseIndex : pulseIndex/I                                          *\n",
      "*Entries :       83 : Total  Size=        916 bytes  File Size  =        138 *\n",
      "*Baskets :        1 : Basket Size=      32000 bytes  Compression=   2.98     *\n",
      "*............................................................................*\n",
      "*Br   52 :ctag      : ctag/i                                                 *\n",
      "*Entries :       83 : Total  Size=        886 bytes  File Size  =        297 *\n",
      "*Baskets :        1 : Basket Size=      32000 bytes  Compression=   1.36     *\n",
      "*............................................................................*\n"
     ]
    }
   ],
   "source": [
    "t = f.Get(\"t0Analyzer\").Get(\"t0Tree\")\n",
    "t.Print()"
   ]
  },
  {
   "cell_type": "code",
   "execution_count": 18,
   "metadata": {},
   "outputs": [
    {
     "data": {
      "image/png": "[encoded data removed]",
      "text/plain": [
       "<IPython.core.display.Image object>"
      ]
     },
     "metadata": {},
     "output_type": "display_data"
    }
   ],
   "source": [
    "c = r.TCanvas()\n",
    "t.Draw(\"ctag\")\n",
    "c.Draw()"
   ]
  },
  {
   "cell_type": "markdown",
   "metadata": {},
   "source": [
    "---\n",
    "\n",
    "## IBMS plots"
   ]
  },
  {
   "cell_type": "code",
   "execution_count": 20,
   "metadata": {},
   "outputs": [
    {
     "name": "stdout",
     "output_type": "stream",
     "text": [
      "TFile**\t\t./gm2nearline_ana.root\t\n",
      " TFile*\t\t./gm2nearline_ana.root\t\n",
      "  TDirectoryFile*\t\tclusterTree\tclusterTree (ClusterTree) folder\n",
      "   OBJ: TTree\tclusters\tclusters : 0 at: 0x7fffd78da530\n",
      "   OBJ: TH2D\th\tReconstructed Cluster Positions [E > 1730 MeV] : 0 at: 0x7fffd78d0d30\n",
      "   OBJ: TH1F\thist\ttime*1.25/1000 {energy>1730 && energy<30000} : 0 at: 0x7fffd7b53180\n",
      "   KEY: TTree\tclusters;1\tclusters\n",
      "  TDirectoryFile*\t\tt0Analyzer\tt0Analyzer (T0PulseProcessorAnalyzer) folder\n",
      "   OBJ: TTree\tt0Tree\tt0Tree : 0 at: 0x7fffd25374a0\n",
      "   KEY: TTree\tt0Tree;1\tt0Tree\n",
      "  TDirectoryFile*\t\tibmsAnalyzer\tibmsAnalyzer (IBMSAnalyzer) folder\n",
      "   KEY: TTree\tt_ibms;1\tIBMS Detector Data\n",
      "  KEY: TDirectoryFile\tnearlineHistTree;1\tnearlineHistTree (CaloNearlineHistograms) folder\n",
      "  KEY: TDirectoryFile\tclusterTree;1\tclusterTree (ClusterTree) folder\n",
      "  KEY: TDirectoryFile\tt0Analyzer;1\tt0Analyzer (T0PulseProcessorAnalyzer) folder\n",
      "  KEY: TDirectoryFile\tibmsAnalyzer;1\tibmsAnalyzer (IBMSAnalyzer) folder\n",
      "  KEY: TDirectoryFile\tCoincidenceFinderLM;1\tCoincidenceFinderLM (CoincidenceFinderLM) folder\n",
      "  KEY: TDirectoryFile\tFastRotation;1\tFastRotation\n"
     ]
    }
   ],
   "source": [
    "f.cd(\"ibmsAnalyzer\")\n",
    "f.ls()"
   ]
  },
  {
   "cell_type": "code",
   "execution_count": 21,
   "metadata": {},
   "outputs": [
    {
     "name": "stdout",
     "output_type": "stream",
     "text": [
      "******************************************************************************\n",
      "*Tree    :t_ibms    : IBMS Detector Data                                     *\n",
      "*Entries :       83 : Total =        15788569 bytes  File  Size =    6012843 *\n",
      "*        :          : Tree compression factor =   2.62                       *\n",
      "******************************************************************************\n",
      "*Br    0 :runNum    : runNum/I                                               *\n",
      "*Entries :       83 : Total  Size=        896 bytes  File Size  =        101 *\n",
      "*Baskets :        1 : Basket Size=      32000 bytes  Compression=   4.03     *\n",
      "*............................................................................*\n",
      "*Br    1 :subRunNum : subRunNum/I                                            *\n",
      "*Entries :       83 : Total  Size=        911 bytes  File Size  =        104 *\n",
      "*Baskets :        1 : Basket Size=      32000 bytes  Compression=   3.94     *\n",
      "*............................................................................*\n",
      "*Br    2 :fillNum   : fillNum/I                                              *\n",
      "*Entries :       83 : Total  Size=        901 bytes  File Size  =        250 *\n",
      "*Baskets :        1 : Basket Size=      32000 bytes  Compression=   1.63     *\n",
      "*............................................................................*\n",
      "*Branch  :ibms                                                               *\n",
      "*Entries :       83 : BranchElement (see below)                              *\n",
      "*............................................................................*\n",
      "*Br    3 :sys_clock[80] : ULong64_t                                          *\n",
      "*Entries :       83 : Total  Size=      54149 bytes  File Size  =       1354 *\n",
      "*Baskets :        2 : Basket Size=      32000 bytes  Compression=  39.61     *\n",
      "*............................................................................*\n",
      "*Br    4 :dev_clock[80] : ULong64_t                                          *\n",
      "*Entries :       83 : Total  Size=      54149 bytes  File Size  =       1901 *\n",
      "*Baskets :        2 : Basket Size=      32000 bytes  Compression=  28.21     *\n",
      "*............................................................................*\n",
      "*Br    5 :trace[80][1024] : UShort_t                                         *\n",
      "*Entries :       83 : Total  Size=   13608687 bytes  File Size  =    5977249 *\n",
      "*Baskets :       83 : Basket Size=      32000 bytes  Compression=   2.28     *\n",
      "*............................................................................*\n",
      "*Br    6 :trigger[12][1024] : UShort_t                                       *\n",
      "*Entries :       83 : Total  Size=    2049949 bytes  File Size  =      19505 *\n",
      "*Baskets :       83 : Basket Size=      32000 bytes  Compression= 105.00     *\n",
      "*............................................................................*\n",
      "*Br    7 :lvds_bits[3] : UShort_t                                            *\n",
      "*Entries :       83 : Total  Size=       1433 bytes  File Size  =        289 *\n",
      "*Baskets :        1 : Basket Size=      32000 bytes  Compression=   3.18     *\n",
      "*............................................................................*\n",
      "*Br    8 :ibms1XIntegral : ibms1XIntegral/D                                  *\n",
      "*Entries :       83 : Total  Size=       1276 bytes  File Size  =        624 *\n",
      "*Baskets :        1 : Basket Size=      32000 bytes  Compression=   1.20     *\n",
      "*............................................................................*\n",
      "*Br    9 :ibms1XMean : ibms1XMean/D                                          *\n",
      "*Entries :       83 : Total  Size=       1256 bytes  File Size  =        741 *\n",
      "*Baskets :        1 : Basket Size=      32000 bytes  Compression=   1.00     *\n",
      "*............................................................................*\n",
      "*Br   10 :ibms1XRMS : ibms1XRMS/D                                            *\n",
      "*Entries :       83 : Total  Size=       1251 bytes  File Size  =        742 *\n",
      "*Baskets :        1 : Basket Size=      32000 bytes  Compression=   1.00     *\n",
      "*............................................................................*\n",
      "*Br   11 :ibms1YIntegral : ibms1YIntegral/D                                  *\n",
      "*Entries :       83 : Total  Size=       1276 bytes  File Size  =        641 *\n",
      "*Baskets :        1 : Basket Size=      32000 bytes  Compression=   1.17     *\n",
      "*............................................................................*\n",
      "*Br   12 :ibms1YMean : ibms1YMean/D                                          *\n",
      "*Entries :       83 : Total  Size=       1256 bytes  File Size  =        740 *\n",
      "*Baskets :        1 : Basket Size=      32000 bytes  Compression=   1.00     *\n",
      "*............................................................................*\n",
      "*Br   13 :ibms1YRMS : ibms1YRMS/D                                            *\n",
      "*Entries :       83 : Total  Size=       1251 bytes  File Size  =        742 *\n",
      "*Baskets :        1 : Basket Size=      32000 bytes  Compression=   1.00     *\n",
      "*............................................................................*\n",
      "*Br   14 :ibms2XIntegral : ibms2XIntegral/D                                  *\n",
      "*Entries :       83 : Total  Size=       1276 bytes  File Size  =        620 *\n",
      "*Baskets :        1 : Basket Size=      32000 bytes  Compression=   1.20     *\n",
      "*............................................................................*\n",
      "*Br   15 :ibms2XMean : ibms2XMean/D                                          *\n",
      "*Entries :       83 : Total  Size=       1256 bytes  File Size  =        737 *\n",
      "*Baskets :        1 : Basket Size=      32000 bytes  Compression=   1.01     *\n",
      "*............................................................................*\n",
      "*Br   16 :ibms2XRMS : ibms2XRMS/D                                            *\n",
      "*Entries :       83 : Total  Size=       1251 bytes  File Size  =        742 *\n",
      "*Baskets :        1 : Basket Size=      32000 bytes  Compression=   1.00     *\n",
      "*............................................................................*\n",
      "*Br   17 :ibms2YIntegral : ibms2YIntegral/D                                  *\n",
      "*Entries :       83 : Total  Size=       1276 bytes  File Size  =        638 *\n",
      "*Baskets :        1 : Basket Size=      32000 bytes  Compression=   1.17     *\n",
      "*............................................................................*\n",
      "*Br   18 :ibms2YMean : ibms2YMean/D                                          *\n",
      "*Entries :       83 : Total  Size=       1256 bytes  File Size  =        742 *\n",
      "*Baskets :        1 : Basket Size=      32000 bytes  Compression=   1.00     *\n",
      "*............................................................................*\n",
      "*Br   19 :ibms2YRMS : ibms2YRMS/D                                            *\n",
      "*Entries :       83 : Total  Size=       1251 bytes  File Size  =        742 *\n",
      "*Baskets :        1 : Basket Size=      32000 bytes  Compression=   1.00     *\n",
      "*............................................................................*\n",
      "*Br   20 :bunchNum  : bunchNum/I                                             *\n",
      "*Entries :       83 : Total  Size=        906 bytes  File Size  =        136 *\n",
      "*Baskets :        1 : Basket Size=      32000 bytes  Compression=   3.01     *\n",
      "*............................................................................*\n"
     ]
    }
   ],
   "source": [
    "t = f.Get(\"ibmsAnalyzer\").Get(\"t_ibms\")\n",
    "t.Print()"
   ]
  },
  {
   "cell_type": "code",
   "execution_count": 25,
   "metadata": {},
   "outputs": [
    {
     "data": {
      "image/png": "[encoded data removed]",
      "text/plain": [
       "<IPython.core.display.Image object>"
      ]
     },
     "metadata": {},
     "output_type": "display_data"
    }
   ],
   "source": [
    "c = r.TCanvas()\n",
    "t.Draw(\"ibms1XMean\")\n",
    "c.Draw()"
   ]
  },
  {
   "cell_type": "code",
   "execution_count": 26,
   "metadata": {},
   "outputs": [
    {
     "data": {
      "image/png": "[encoded data removed]",
      "text/plain": [
       "<IPython.core.display.Image object>"
      ]
     },
     "metadata": {},
     "output_type": "display_data"
    }
   ],
   "source": [
    "c = r.TCanvas()\n",
    "t.Draw(\"bunchNum\")\n",
    "c.Draw()"
   ]
  },
  {
   "cell_type": "code",
   "execution_count": 24,
   "metadata": {},
   "outputs": [
    {
     "data": {
      "image/png": "[encoded data removed]",
      "text/plain": [
       "<IPython.core.display.Image object>"
      ]
     },
     "metadata": {},
     "output_type": "display_data"
    }
   ],
   "source": [
    "c = r.TCanvas()\n",
    "t.Draw(\"ibms2YMean:ibms2XMean\")\n",
    "c.Draw()"
   ]
  },
  {
   "cell_type": "markdown",
   "metadata": {},
   "source": [
    "---\n",
    "\n",
    "## LM plots"
   ]
  },
  {
   "cell_type": "code",
   "execution_count": 27,
   "metadata": {},
   "outputs": [
    {
     "name": "stdout",
     "output_type": "stream",
     "text": [
      "TFile**\t\t./gm2nearline_ana.root\t\n",
      " TFile*\t\t./gm2nearline_ana.root\t\n",
      "  TDirectoryFile*\t\tclusterTree\tclusterTree (ClusterTree) folder\n",
      "   OBJ: TTree\tclusters\tclusters : 0 at: 0x7fffd78da530\n",
      "   OBJ: TH2D\th\tReconstructed Cluster Positions [E > 1730 MeV] : 0 at: 0x7fffd78d0d30\n",
      "   OBJ: TH1F\thist\ttime*1.25/1000 {energy>1730 && energy<30000} : 0 at: 0x7fffd7b53180\n",
      "   KEY: TTree\tclusters;1\tclusters\n",
      "  TDirectoryFile*\t\tt0Analyzer\tt0Analyzer (T0PulseProcessorAnalyzer) folder\n",
      "   OBJ: TTree\tt0Tree\tt0Tree : 0 at: 0x7fffd25374a0\n",
      "   KEY: TTree\tt0Tree;1\tt0Tree\n",
      "  TDirectoryFile*\t\tibmsAnalyzer\tibmsAnalyzer (IBMSAnalyzer) folder\n",
      "   OBJ: TTree\tt_ibms\tIBMS Detector Data : 0 at: 0x7fffd7e8b380\n",
      "   KEY: TTree\tt_ibms;1\tIBMS Detector Data\n",
      "  TDirectoryFile*\t\tCoincidenceFinderLM\tCoincidenceFinderLM (CoincidenceFinderLM) folder\n",
      "   KEY: TTree\tCoincLM;1\tCoincLM\n",
      "   KEY: TH1D\tcaloNumdouble_;1\tDouble Coincidence: hits vs calo number - double/singles = 0.0066\n",
      "   KEY: TH1D\tcaloNumtriple_;1\tTriple Coincidence: hits vs calo number - triple/singles = 0.0000\n",
      "   KEY: TH2D\tclusterTimecaloNumdouble_;1\tDouble Coincidence: cluster time vs calo num\n",
      "   KEY: TH2D\tclusterTimecaloNumtriple_;1\tTriple Coincidence: cluster time vs calo num\n",
      "   KEY: TH1D\tcoincDoubleTriple;1\tRatio of double (0.0066) and triple (0.0000) coincidence LM candidates to singles\n",
      "  KEY: TDirectoryFile\tnearlineHistTree;1\tnearlineHistTree (CaloNearlineHistograms) folder\n",
      "  KEY: TDirectoryFile\tclusterTree;1\tclusterTree (ClusterTree) folder\n",
      "  KEY: TDirectoryFile\tt0Analyzer;1\tt0Analyzer (T0PulseProcessorAnalyzer) folder\n",
      "  KEY: TDirectoryFile\tibmsAnalyzer;1\tibmsAnalyzer (IBMSAnalyzer) folder\n",
      "  KEY: TDirectoryFile\tCoincidenceFinderLM;1\tCoincidenceFinderLM (CoincidenceFinderLM) folder\n",
      "  KEY: TDirectoryFile\tFastRotation;1\tFastRotation\n"
     ]
    }
   ],
   "source": [
    "f.cd(\"CoincidenceFinderLM\")\n",
    "f.ls()"
   ]
  },
  {
   "cell_type": "code",
   "execution_count": 28,
   "metadata": {},
   "outputs": [
    {
     "name": "stdout",
     "output_type": "stream",
     "text": [
      "******************************************************************************\n",
      "*Tree    :CoincLM   : CoincLM                                                *\n",
      "*Entries :   336800 : Total =        51406425 bytes  File  Size =   14948490 *\n",
      "*        :          : Tree compression factor =   3.44                       *\n",
      "******************************************************************************\n",
      "*Br    0 :coincidenceLevel : coincidenceLevel/i                              *\n",
      "*Entries :   336800 : Total  Size=    1352107 bytes  File Size  =      12459 *\n",
      "*Baskets :       43 : Basket Size=      32000 bytes  Compression= 108.43     *\n",
      "*............................................................................*\n",
      "*Br    1 :caloNum   : vector<int>                                            *\n",
      "*Entries :   336800 : Total  Size=    6088006 bytes  File Size  =     594001 *\n",
      "*Baskets :      233 : Basket Size=      32000 bytes  Compression=  10.24     *\n",
      "*............................................................................*\n",
      "*Br    2 :clusterEnergy : vector<double>                                     *\n",
      "*Entries :   336800 : Total  Size=    7442114 bytes  File Size  =    3533391 *\n",
      "*Baskets :      275 : Basket Size=      32000 bytes  Compression=   2.10     *\n",
      "*............................................................................*\n",
      "*Br    3 :clusterTime : vector<double>                                       *\n",
      "*Entries :   336800 : Total  Size=    7441556 bytes  File Size  =    3479307 *\n",
      "*Baskets :      275 : Basket Size=      32000 bytes  Compression=   2.14     *\n",
      "*............................................................................*\n",
      "*Br    4 :clusterX  : vector<double>                                         *\n",
      "*Entries :   336800 : Total  Size=    7440719 bytes  File Size  =    3125926 *\n",
      "*Baskets :      275 : Basket Size=      32000 bytes  Compression=   2.38     *\n",
      "*............................................................................*\n",
      "*Br    5 :clusterY  : vector<double>                                         *\n",
      "*Entries :   336800 : Total  Size=    7440719 bytes  File Size  =    2993369 *\n",
      "*Baskets :      275 : Basket Size=      32000 bytes  Compression=   2.48     *\n",
      "*............................................................................*\n",
      "*Br    6 :clusterSize : vector<double>                                       *\n",
      "*Entries :   336800 : Total  Size=    7441556 bytes  File Size  =    1134557 *\n",
      "*Baskets :      275 : Basket Size=      32000 bytes  Compression=   6.55     *\n",
      "*............................................................................*\n",
      "*Br    7 :islandNum : islandNum/i                                            *\n",
      "*Entries :   336800 : Total  Size=    1351778 bytes  File Size  =      10682 *\n",
      "*Baskets :       43 : Basket Size=      32000 bytes  Compression= 126.44     *\n",
      "*............................................................................*\n",
      "*Br    8 :eventNum  : eventNum/i                                             *\n",
      "*Entries :   336800 : Total  Size=    1351731 bytes  File Size  =      12017 *\n",
      "*Baskets :       43 : Basket Size=      32000 bytes  Compression= 112.39     *\n",
      "*............................................................................*\n",
      "*Br    9 :midasSerialNum : midasSerialNum/i                                  *\n",
      "*Entries :   336800 : Total  Size=    1352013 bytes  File Size  =      12317 *\n",
      "*Baskets :       43 : Basket Size=      32000 bytes  Compression= 109.67     *\n",
      "*............................................................................*\n",
      "*Br   10 :subRunNum : subRunNum/i                                            *\n",
      "*Entries :   336800 : Total  Size=    1351778 bytes  File Size  =      11488 *\n",
      "*Baskets :       43 : Basket Size=      32000 bytes  Compression= 117.57     *\n",
      "*............................................................................*\n",
      "*Br   11 :runNum    : runNum/i                                               *\n",
      "*Entries :   336800 : Total  Size=    1351637 bytes  File Size  =      11401 *\n",
      "*Baskets :       43 : Basket Size=      32000 bytes  Compression= 118.45     *\n",
      "*............................................................................*\n"
     ]
    }
   ],
   "source": [
    "t = f.Get(\"CoincidenceFinderLM\").Get(\"CoincLM\")\n",
    "t.Print()"
   ]
  },
  {
   "cell_type": "code",
   "execution_count": 29,
   "metadata": {},
   "outputs": [
    {
     "data": {
      "image/png": "[encoded data removed]",
      "text/plain": [
       "<IPython.core.display.Image object>"
      ]
     },
     "metadata": {},
     "output_type": "display_data"
    }
   ],
   "source": [
    "c = r.TCanvas()\n",
    "t.Draw(\"coincidenceLevel\")\n",
    "c.SetLogy()\n",
    "c.Draw()"
   ]
  },
  {
   "cell_type": "code",
   "execution_count": 38,
   "metadata": {},
   "outputs": [
    {
     "data": {
      "image/png": "[encoded data removed]",
      "text/plain": [
       "<IPython.core.display.Image object>"
      ]
     },
     "metadata": {},
     "output_type": "display_data"
    }
   ],
   "source": [
    "c = r.TCanvas()\n",
    "t.Draw(\"coincidenceLevel:clusterEnergy\",\"clusterEnergy < 10000\",\"colz\")\n",
    "c.SetLogz()\n",
    "c.Draw()"
   ]
  },
  {
   "cell_type": "code",
   "execution_count": 31,
   "metadata": {},
   "outputs": [
    {
     "data": {
      "image/png": "[encoded data removed]",
      "text/plain": [
       "<IPython.core.display.Image object>"
      ]
     },
     "metadata": {},
     "output_type": "display_data"
    }
   ],
   "source": [
    "c = r.TCanvas()\n",
    "f.Get(\"CoincidenceFinderLM\").Get(\"caloNumdouble_\").Draw()\n",
    "#c.SetLogy()\n",
    "c.Draw()"
   ]
  },
  {
   "cell_type": "code",
   "execution_count": 32,
   "metadata": {},
   "outputs": [
    {
     "data": {
      "image/png": "[encoded data removed]",
      "text/plain": [
       "<IPython.core.display.Image object>"
      ]
     },
     "metadata": {},
     "output_type": "display_data"
    }
   ],
   "source": [
    "c = r.TCanvas()\n",
    "f.Get(\"CoincidenceFinderLM\").Get(\"caloNumtriple_\").Draw()\n",
    "#c.SetLogy()\n",
    "c.Draw()"
   ]
  },
  {
   "cell_type": "markdown",
   "metadata": {},
   "source": [
    "---\n",
    "\n",
    "## FR plots"
   ]
  },
  {
   "cell_type": "code",
   "execution_count": 39,
   "metadata": {},
   "outputs": [
    {
     "name": "stdout",
     "output_type": "stream",
     "text": [
      "TFile**\t\t./gm2nearline_ana.root\t\n",
      " TFile*\t\t./gm2nearline_ana.root\t\n",
      "  TDirectoryFile*\t\tclusterTree\tclusterTree (ClusterTree) folder\n",
      "   OBJ: TTree\tclusters\tclusters : 0 at: 0x7fffd78da530\n",
      "   OBJ: TH2D\th\tReconstructed Cluster Positions [E > 1730 MeV] : 0 at: 0x7fffd78d0d30\n",
      "   OBJ: TH1F\thist\ttime*1.25/1000 {energy>1730 && energy<30000} : 0 at: 0x7fffd7b53180\n",
      "   KEY: TTree\tclusters;1\tclusters\n",
      "  TDirectoryFile*\t\tt0Analyzer\tt0Analyzer (T0PulseProcessorAnalyzer) folder\n",
      "   OBJ: TTree\tt0Tree\tt0Tree : 0 at: 0x7fffd25374a0\n",
      "   KEY: TTree\tt0Tree;1\tt0Tree\n",
      "  TDirectoryFile*\t\tibmsAnalyzer\tibmsAnalyzer (IBMSAnalyzer) folder\n",
      "   OBJ: TTree\tt_ibms\tIBMS Detector Data : 0 at: 0x7fffd7e8b380\n",
      "   KEY: TTree\tt_ibms;1\tIBMS Detector Data\n",
      "  TDirectoryFile*\t\tCoincidenceFinderLM\tCoincidenceFinderLM (CoincidenceFinderLM) folder\n",
      "   OBJ: TTree\tCoincLM\tCoincLM : 0 at: 0x7fffd7e81860\n",
      "   OBJ: TH1D\tcaloNumdouble_\tDouble Coincidence: hits vs calo number - double/singles = 0.0066 : 0 at: 0x7fffd7f41df0\n",
      "   OBJ: TH1D\tcaloNumtriple_\tTriple Coincidence: hits vs calo number - triple/singles = 0.0000 : 0 at: 0x7fffd7fc6190\n",
      "   KEY: TTree\tCoincLM;1\tCoincLM\n",
      "   KEY: TH1D\tcaloNumdouble_;1\tDouble Coincidence: hits vs calo number - double/singles = 0.0066\n",
      "   KEY: TH1D\tcaloNumtriple_;1\tTriple Coincidence: hits vs calo number - triple/singles = 0.0000\n",
      "   KEY: TH2D\tclusterTimecaloNumdouble_;1\tDouble Coincidence: cluster time vs calo num\n",
      "   KEY: TH2D\tclusterTimecaloNumtriple_;1\tTriple Coincidence: cluster time vs calo num\n",
      "   KEY: TH1D\tcoincDoubleTriple;1\tRatio of double (0.0066) and triple (0.0000) coincidence LM candidates to singles\n",
      "  TDirectoryFile*\t\tFastRotation\tFastRotation\n",
      "   KEY: TH1F\thHitTimes;1\tAligned Hit Times\n",
      "   KEY: TH1F\thSignal_Num;1\tSignal Numerator (50% of events)\n",
      "   KEY: TH1F\thSignal_Den;1\tSignal Denominator (50% of events time smeared)\n",
      "  KEY: TDirectoryFile\tnearlineHistTree;1\tnearlineHistTree (CaloNearlineHistograms) folder\n",
      "  KEY: TDirectoryFile\tclusterTree;1\tclusterTree (ClusterTree) folder\n",
      "  KEY: TDirectoryFile\tt0Analyzer;1\tt0Analyzer (T0PulseProcessorAnalyzer) folder\n",
      "  KEY: TDirectoryFile\tibmsAnalyzer;1\tibmsAnalyzer (IBMSAnalyzer) folder\n",
      "  KEY: TDirectoryFile\tCoincidenceFinderLM;1\tCoincidenceFinderLM (CoincidenceFinderLM) folder\n",
      "  KEY: TDirectoryFile\tFastRotation;1\tFastRotation\n"
     ]
    }
   ],
   "source": [
    "f.cd(\"FastRotation\")\n",
    "f.ls()"
   ]
  },
  {
   "cell_type": "code",
   "execution_count": 42,
   "metadata": {},
   "outputs": [
    {
     "data": {
      "image/png": "[encoded data removed]",
      "text/plain": [
       "<IPython.core.display.Image object>"
      ]
     },
     "metadata": {},
     "output_type": "display_data"
    }
   ],
   "source": [
    "c = r.TCanvas()\n",
    "f.Get(\"FastRotation\").Get(\"hHitTimes\").Draw()\n",
    "#c.SetLogy()\n",
    "c.Draw()"
   ]
  },
  {
   "cell_type": "code",
   "execution_count": null,
   "metadata": {},
   "outputs": [],
   "source": []
  }
 ],
 "metadata": {
  "kernelspec": {
   "display_name": "Python 3",
   "language": "python",
   "name": "python3"
  },
  "language_info": {
   "codemirror_mode": {
    "name": "ipython",
    "version": 3
   },
   "file_extension": ".py",
   "mimetype": "text/x-python",
   "name": "python",
   "nbconvert_exporter": "python",
   "pygments_lexer": "ipython3",
   "version": "3.6.8"
  }
 },
 "nbformat": 4,
 "nbformat_minor": 2
}
