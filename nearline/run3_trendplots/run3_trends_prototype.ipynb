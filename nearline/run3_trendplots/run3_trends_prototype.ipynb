{
 "cells": [
  {
   "cell_type": "code",
   "execution_count": 2,
   "metadata": {},
   "outputs": [],
   "source": [
    "import ROOT as r\n",
    "import matplotlib.pyplot as plt\n",
    "import math"
   ]
  },
  {
   "cell_type": "code",
   "execution_count": 21,
   "metadata": {},
   "outputs": [
    {
     "name": "stdout",
     "output_type": "stream",
     "text": [
      "TFile**\t\t./results_hist_24339.root\t\n",
      " TFile*\t\t./results_hist_24339.root\t\n",
      "  KEY: TDirectoryFile\tnearlineHistTree;1\tnearlineHistTree (CaloNearlineHistograms) folder\n",
      "  KEY: TDirectoryFile\tclusterTree;1\tclusterTree (ClusterTree) folder\n",
      "  KEY: TDirectoryFile\tt0Analyzer;1\tt0Analyzer (T0PulseProcessorAnalyzer) folder\n",
      "  KEY: TDirectoryFile\tibmsAnalyzer;1\tibmsAnalyzer (IBMSAnalyzer) folder\n",
      "  KEY: TDirectoryFile\tCoincidenceFinderLM;1\tCoincidenceFinderLM (CoincidenceFinderLM) folder\n",
      "  KEY: TDirectoryFile\tFastRotation;1\tFastRotation\n"
     ]
    }
   ],
   "source": [
    "#f = r.TFile(\"../run3/data/gm2offline_full_run2.root\")\n",
    "f = r.TFile(\"./results_hist_24339.root\")\n",
    "f.ls()"
   ]
  },
  {
   "cell_type": "markdown",
   "metadata": {},
   "source": [
    "### Trendplots\n",
    "* g-2 phase from 5-par fit\n",
    "* CBO frequency from 5-par fit\n",
    "* Ratio of 'bump' region to splash in the lost muons\n",
    "* Average positions (x and y) of hits in the calorimeters\n",
    "* Average CTAG/fill vs. run number\n",
    "* CBO frequency, amplitude, and lifetime\n",
    "* Integrated flash at injection/T0\n",
    "* CTAG/T0\n",
    "\n",
    "___"
   ]
  },
  {
   "cell_type": "markdown",
   "metadata": {},
   "source": [
    "### Lets begin with the two we can get from the 5-par fit: g-2 phase and CBO frequency"
   ]
  },
  {
   "cell_type": "code",
   "execution_count": 22,
   "metadata": {},
   "outputs": [
    {
     "data": {
      "image/png": "[encoded data removed]",
      "text/plain": [
       "<IPython.core.display.Image object>"
      ]
     },
     "metadata": {},
     "output_type": "display_data"
    }
   ],
   "source": [
    "h = f.Get(\"nearlineHistTree/allCaloWiggle\").Clone()\n",
    "c = r.TCanvas()\n",
    "h.Draw()\n",
    "c.Draw()"
   ]
  },
  {
   "cell_type": "markdown",
   "metadata": {},
   "source": [
    "---\n",
    "\n",
    "### Ratio of bump to splash"
   ]
  },
  {
   "cell_type": "code",
   "execution_count": 23,
   "metadata": {},
   "outputs": [
    {
     "name": "stdout",
     "output_type": "stream",
     "text": [
      "TFile**\t\t./results_hist_24339.root\t\n",
      " TFile*\t\t./results_hist_24339.root\t\n",
      "  TDirectoryFile*\t\tnearlineHistTree\tnearlineHistTree (CaloNearlineHistograms) folder\n",
      "   OBJ: TH1D\tallCaloWiggle\tT Method, all calos : 0 at: 0x7ffff5bbf760\n",
      "   KEY: TDirectoryFile\tcalo1;1\tcalo1\n",
      "   KEY: TDirectoryFile\tcalo2;1\tcalo2\n",
      "   KEY: TDirectoryFile\tcalo3;1\tcalo3\n",
      "   KEY: TDirectoryFile\tcalo4;1\tcalo4\n",
      "   KEY: TDirectoryFile\tcalo5;1\tcalo5\n",
      "   KEY: TDirectoryFile\tcalo6;1\tcalo6\n",
      "   KEY: TDirectoryFile\tcalo7;1\tcalo7\n",
      "   KEY: TDirectoryFile\tcalo8;1\tcalo8\n",
      "   KEY: TDirectoryFile\tcalo9;1\tcalo9\n",
      "   KEY: TDirectoryFile\tcalo10;1\tcalo10\n",
      "   KEY: TDirectoryFile\tcalo11;1\tcalo11\n",
      "   KEY: TDirectoryFile\tcalo12;1\tcalo12\n",
      "   KEY: TDirectoryFile\tcalo13;1\tcalo13\n",
      "   KEY: TDirectoryFile\tcalo14;1\tcalo14\n",
      "   KEY: TDirectoryFile\tcalo15;1\tcalo15\n",
      "   KEY: TDirectoryFile\tcalo16;1\tcalo16\n",
      "   KEY: TDirectoryFile\tcalo17;1\tcalo17\n",
      "   KEY: TDirectoryFile\tcalo18;1\tcalo18\n",
      "   KEY: TDirectoryFile\tcalo19;1\tcalo19\n",
      "   KEY: TDirectoryFile\tcalo20;1\tcalo20\n",
      "   KEY: TDirectoryFile\tcalo21;1\tcalo21\n",
      "   KEY: TDirectoryFile\tcalo22;1\tcalo22\n",
      "   KEY: TDirectoryFile\tcalo23;1\tcalo23\n",
      "   KEY: TDirectoryFile\tcalo24;1\tcalo24\n",
      "   KEY: TH1D\tallCaloEnergies;1\tall energies\n",
      "   KEY: TH1D\tallCaloWiggle;1\tT Method, all calos\n",
      "   KEY: TH1D\tallCaloTimes;1\thit times, all calos\n",
      "   KEY: TH1D\tgpuCTag;1\tgpuCTag\n",
      "   KEY: TH1D\tnearlineCTag;1\tnearlineCTag\n",
      "  OBJ: TH1D\tallCaloWiggle\tT Method, all calos : 0 at: 0x7ffff5b38d50\n",
      "  TDirectoryFile*\t\tCoincidenceFinderLM\tCoincidenceFinderLM (CoincidenceFinderLM) folder\n",
      "   KEY: TH1D\tcaloNumdouble_;1\tDouble Coincidence: hits vs calo number - double/singles = 0.1030\n",
      "   KEY: TH1D\tcaloNumtriple_;1\tTriple Coincidence: hits vs calo number - triple/singles = 0.0224\n",
      "   KEY: TH3I\tclusterTimecaloNumsingle_;1\tSingle Coincidence: cluster time vs calo num\n",
      "   KEY: TH3I\tclusterTimecaloNumdouble_;1\tDouble Coincidence: cluster time vs calo num\n",
      "   KEY: TH3I\tclusterTimecaloNumtriple_;1\tTriple Coincidence: cluster time vs calo num\n",
      "   KEY: TH1D\tcoincDoubleTriple;1\tRatio of double (0.1030) and triple (0.0224) coincidence LM candidates to singles\n",
      "   KEY: TH2D\tdeltaTtripleVsTime_;1\tTriple Coincidence: deltaT vs. time\n",
      "  KEY: TDirectoryFile\tnearlineHistTree;1\tnearlineHistTree (CaloNearlineHistograms) folder\n",
      "  KEY: TDirectoryFile\tclusterTree;1\tclusterTree (ClusterTree) folder\n",
      "  KEY: TDirectoryFile\tt0Analyzer;1\tt0Analyzer (T0PulseProcessorAnalyzer) folder\n",
      "  KEY: TDirectoryFile\tibmsAnalyzer;1\tibmsAnalyzer (IBMSAnalyzer) folder\n",
      "  KEY: TDirectoryFile\tCoincidenceFinderLM;1\tCoincidenceFinderLM (CoincidenceFinderLM) folder\n",
      "  KEY: TDirectoryFile\tFastRotation;1\tFastRotation\n"
     ]
    }
   ],
   "source": [
    "f.cd(\"CoincidenceFinderLM\")\n",
    "f.ls()"
   ]
  },
  {
   "cell_type": "code",
   "execution_count": null,
   "metadata": {},
   "outputs": [],
   "source": []
  },
  {
   "cell_type": "markdown",
   "metadata": {},
   "source": [
    "---\n",
    "\n",
    "### x/y positions"
   ]
  },
  {
   "cell_type": "code",
   "execution_count": null,
   "metadata": {},
   "outputs": [],
   "source": [
    "print(h_xy.GetMean(1), h_xy.GetMean(2))\n",
    "print(h_xy.GetStdDev(1), h_xy.GetStdDev(2))\n",
    "c = r.TCanvas()\n",
    "h_xy.Draw(\"colz\")\n",
    "c.SetLogz()\n",
    "c.Draw()"
   ]
  },
  {
   "cell_type": "code",
   "execution_count": null,
   "metadata": {},
   "outputs": [],
   "source": []
  }
 ],
 "metadata": {
  "kernelspec": {
   "display_name": "Python 3",
   "language": "python",
   "name": "python3"
  },
  "language_info": {
   "codemirror_mode": {
    "name": "ipython",
    "version": 3
   },
   "file_extension": ".py",
   "mimetype": "text/x-python",
   "name": "python",
   "nbconvert_exporter": "python",
   "pygments_lexer": "ipython3",
   "version": "3.6.8"
  }
 },
 "nbformat": 4,
 "nbformat_minor": 2
}
