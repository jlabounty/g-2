{
 "cells": [
  {
   "cell_type": "code",
   "execution_count": 1,
   "metadata": {},
   "outputs": [
    {
     "name": "stdout",
     "output_type": "stream",
     "text": [
      "Welcome to JupyROOT 6.12/06\n",
      "For interactive plots, run: setint()\n",
      "To return to non-interactive plots (default state), run: noint()\n"
     ]
    }
   ],
   "source": [
    "from standardInclude import *"
   ]
  },
  {
   "cell_type": "code",
   "execution_count": 2,
   "metadata": {},
   "outputs": [],
   "source": [
    "import feedparser"
   ]
  },
  {
   "cell_type": "code",
   "execution_count": 17,
   "metadata": {},
   "outputs": [],
   "source": [
    "from IPython.core.display import display, HTML\n",
    "#display(HTML('<h1>Hello, world!</h1>'))"
   ]
  },
  {
   "cell_type": "code",
   "execution_count": 5,
   "metadata": {},
   "outputs": [],
   "source": [
    "#d = feedparser.parse('http://dbweb5.fnal.gov:8080/ECL/gm2/RSS/rss?form=End%20of%20Shift%20Checklist')\n",
    "d = feedparser.parse('./endofshift.xml')"
   ]
  },
  {
   "cell_type": "code",
   "execution_count": 110,
   "metadata": {},
   "outputs": [],
   "source": [
    "def parseEndOfShift( value , date ):\n",
    "    #display(HTML(value))\n",
    "    dfii = pandas.read_html(value)\n",
    "    #df = pandas.DataFrame(df)\n",
    "    df = pandas.DataFrame(dfii[0])\n",
    "    #print(date)\n",
    "    df[2] = str(date)\n",
    "    return df"
   ]
  },
  {
   "cell_type": "code",
   "execution_count": 117,
   "metadata": {},
   "outputs": [],
   "source": [
    "df = pandas.DataFrame()\n",
    "for i, post in enumerate(d.entries):\n",
    "    #if( i> 3 ):\n",
    "    #    break\n",
    "    #print(post.title)\n",
    "    #print([x for x in post])\n",
    "    dfi = parseEndOfShift( post.summary_detail.value, post.published )\n",
    "    \n",
    "    #print(type(dfi),\"\\n\",dfi)\n",
    "    df = df.append(dfi, ignore_index=True)\n",
    "#print(df)"
   ]
  },
  {
   "cell_type": "code",
   "execution_count": 118,
   "metadata": {},
   "outputs": [
    {
     "data": {
      "text/html": [
       "<div>\n",
       "<style scoped>\n",
       "    .dataframe tbody tr th:only-of-type {\n",
       "        vertical-align: middle;\n",
       "    }\n",
       "\n",
       "    .dataframe tbody tr th {\n",
       "        vertical-align: top;\n",
       "    }\n",
       "\n",
       "    .dataframe thead th {\n",
       "        text-align: right;\n",
       "    }\n",
       "</style>\n",
       "<table border=\"1\" class=\"dataframe\">\n",
       "  <thead>\n",
       "    <tr style=\"text-align: right;\">\n",
       "      <th></th>\n",
       "      <th>0</th>\n",
       "      <th>1</th>\n",
       "      <th>2</th>\n",
       "    </tr>\n",
       "  </thead>\n",
       "  <tbody>\n",
       "    <tr>\n",
       "      <th>count</th>\n",
       "      <td>1130</td>\n",
       "      <td>1002</td>\n",
       "      <td>1130</td>\n",
       "    </tr>\n",
       "    <tr>\n",
       "      <th>unique</th>\n",
       "      <td>5</td>\n",
       "      <td>475</td>\n",
       "      <td>226</td>\n",
       "    </tr>\n",
       "    <tr>\n",
       "      <th>top</th>\n",
       "      <td>All Clusters:</td>\n",
       "      <td>0</td>\n",
       "      <td>Sun, 15 Dec 2019 23:56:11</td>\n",
       "    </tr>\n",
       "    <tr>\n",
       "      <th>freq</th>\n",
       "      <td>226</td>\n",
       "      <td>96</td>\n",
       "      <td>5</td>\n",
       "    </tr>\n",
       "  </tbody>\n",
       "</table>\n",
       "</div>"
      ],
      "text/plain": [
       "                    0     1                          2\n",
       "count            1130  1002                       1130\n",
       "unique              5   475                        226\n",
       "top     All Clusters:     0  Sun, 15 Dec 2019 23:56:11\n",
       "freq              226    96                          5"
      ]
     },
     "execution_count": 118,
     "metadata": {},
     "output_type": "execute_result"
    }
   ],
   "source": [
    "df.describe()"
   ]
  },
  {
   "cell_type": "code",
   "execution_count": 119,
   "metadata": {},
   "outputs": [
    {
     "data": {
      "text/html": [
       "<div>\n",
       "<style scoped>\n",
       "    .dataframe tbody tr th:only-of-type {\n",
       "        vertical-align: middle;\n",
       "    }\n",
       "\n",
       "    .dataframe tbody tr th {\n",
       "        vertical-align: top;\n",
       "    }\n",
       "\n",
       "    .dataframe thead th {\n",
       "        text-align: right;\n",
       "    }\n",
       "</style>\n",
       "<table border=\"1\" class=\"dataframe\">\n",
       "  <thead>\n",
       "    <tr style=\"text-align: right;\">\n",
       "      <th></th>\n",
       "      <th>0</th>\n",
       "      <th>1</th>\n",
       "      <th>2</th>\n",
       "    </tr>\n",
       "  </thead>\n",
       "  <tbody>\n",
       "    <tr>\n",
       "      <th>0</th>\n",
       "      <td>T0 Integral:</td>\n",
       "      <td>3.17E5</td>\n",
       "      <td>Sat, 08 Feb 2020 07:56:04</td>\n",
       "    </tr>\n",
       "    <tr>\n",
       "      <th>1</th>\n",
       "      <td>All Clusters:</td>\n",
       "      <td>2075.4</td>\n",
       "      <td>Sat, 08 Feb 2020 07:56:04</td>\n",
       "    </tr>\n",
       "    <tr>\n",
       "      <th>2</th>\n",
       "      <td>POT Delivered:</td>\n",
       "      <td>1.02E12</td>\n",
       "      <td>Sat, 08 Feb 2020 07:56:04</td>\n",
       "    </tr>\n",
       "    <tr>\n",
       "      <th>3</th>\n",
       "      <td>Average Uptime [%]:</td>\n",
       "      <td>100%</td>\n",
       "      <td>Sat, 08 Feb 2020 07:56:04</td>\n",
       "    </tr>\n",
       "    <tr>\n",
       "      <th>4</th>\n",
       "      <td>Field screenshot:</td>\n",
       "      <td>NaN</td>\n",
       "      <td>Sat, 08 Feb 2020 07:56:04</td>\n",
       "    </tr>\n",
       "  </tbody>\n",
       "</table>\n",
       "</div>"
      ],
      "text/plain": [
       "                     0        1                          2\n",
       "0         T0 Integral:   3.17E5  Sat, 08 Feb 2020 07:56:04\n",
       "1        All Clusters:   2075.4  Sat, 08 Feb 2020 07:56:04\n",
       "2       POT Delivered:  1.02E12  Sat, 08 Feb 2020 07:56:04\n",
       "3  Average Uptime [%]:     100%  Sat, 08 Feb 2020 07:56:04\n",
       "4    Field screenshot:      NaN  Sat, 08 Feb 2020 07:56:04"
      ]
     },
     "execution_count": 119,
     "metadata": {},
     "output_type": "execute_result"
    }
   ],
   "source": [
    "df.head()"
   ]
  },
  {
   "cell_type": "code",
   "execution_count": 121,
   "metadata": {},
   "outputs": [
    {
     "name": "stderr",
     "output_type": "stream",
     "text": [
      "/home/jlab/anaconda3/lib/python3.6/site-packages/ipykernel_launcher.py:2: SettingWithCopyWarning: \n",
      "A value is trying to be set on a copy of a slice from a DataFrame.\n",
      "Try using .loc[row_indexer,col_indexer] = value instead\n",
      "\n",
      "See the caveats in the documentation: http://pandas.pydata.org/pandas-docs/stable/indexing.html#indexing-view-versus-copy\n",
      "  \n"
     ]
    }
   ],
   "source": [
    "dfi = df.loc[df[0] == \"Average Uptime [%]:\"]\n",
    "dfi[3] = pandas.to_numeric( dfi[1].str.strip(\"%\"), errors='coerce' )\n",
    "dfi[4] = pandas.to_datetime( dfi[2] )"
   ]
  },
  {
   "cell_type": "code",
   "execution_count": 122,
   "metadata": {},
   "outputs": [
    {
     "data": {
      "text/html": [
       "<div>\n",
       "<style scoped>\n",
       "    .dataframe tbody tr th:only-of-type {\n",
       "        vertical-align: middle;\n",
       "    }\n",
       "\n",
       "    .dataframe tbody tr th {\n",
       "        vertical-align: top;\n",
       "    }\n",
       "\n",
       "    .dataframe thead th {\n",
       "        text-align: right;\n",
       "    }\n",
       "</style>\n",
       "<table border=\"1\" class=\"dataframe\">\n",
       "  <thead>\n",
       "    <tr style=\"text-align: right;\">\n",
       "      <th></th>\n",
       "      <th>0</th>\n",
       "      <th>1</th>\n",
       "      <th>2</th>\n",
       "      <th>3</th>\n",
       "      <th>4</th>\n",
       "    </tr>\n",
       "  </thead>\n",
       "  <tbody>\n",
       "    <tr>\n",
       "      <th>3</th>\n",
       "      <td>Average Uptime [%]:</td>\n",
       "      <td>100%</td>\n",
       "      <td>Sat, 08 Feb 2020 07:56:04</td>\n",
       "      <td>100.0</td>\n",
       "      <td>2020-02-08 07:56:04</td>\n",
       "    </tr>\n",
       "    <tr>\n",
       "      <th>8</th>\n",
       "      <td>Average Uptime [%]:</td>\n",
       "      <td>98%</td>\n",
       "      <td>Fri, 07 Feb 2020 23:47:44</td>\n",
       "      <td>98.0</td>\n",
       "      <td>2020-02-07 23:47:44</td>\n",
       "    </tr>\n",
       "    <tr>\n",
       "      <th>13</th>\n",
       "      <td>Average Uptime [%]:</td>\n",
       "      <td>97</td>\n",
       "      <td>Fri, 07 Feb 2020 15:41:23</td>\n",
       "      <td>NaN</td>\n",
       "      <td>2020-02-07 15:41:23</td>\n",
       "    </tr>\n",
       "    <tr>\n",
       "      <th>18</th>\n",
       "      <td>Average Uptime [%]:</td>\n",
       "      <td>98</td>\n",
       "      <td>Fri, 07 Feb 2020 07:48:25</td>\n",
       "      <td>98.0</td>\n",
       "      <td>2020-02-07 07:48:25</td>\n",
       "    </tr>\n",
       "    <tr>\n",
       "      <th>23</th>\n",
       "      <td>Average Uptime [%]:</td>\n",
       "      <td>95%</td>\n",
       "      <td>Thu, 06 Feb 2020 23:49:32</td>\n",
       "      <td>95.0</td>\n",
       "      <td>2020-02-06 23:49:32</td>\n",
       "    </tr>\n",
       "  </tbody>\n",
       "</table>\n",
       "</div>"
      ],
      "text/plain": [
       "                      0     1                          2      3  \\\n",
       "3   Average Uptime [%]:  100%  Sat, 08 Feb 2020 07:56:04  100.0   \n",
       "8   Average Uptime [%]:   98%  Fri, 07 Feb 2020 23:47:44   98.0   \n",
       "13  Average Uptime [%]:    97  Fri, 07 Feb 2020 15:41:23    NaN   \n",
       "18  Average Uptime [%]:    98  Fri, 07 Feb 2020 07:48:25   98.0   \n",
       "23  Average Uptime [%]:   95%  Thu, 06 Feb 2020 23:49:32   95.0   \n",
       "\n",
       "                     4  \n",
       "3  2020-02-08 07:56:04  \n",
       "8  2020-02-07 23:47:44  \n",
       "13 2020-02-07 15:41:23  \n",
       "18 2020-02-07 07:48:25  \n",
       "23 2020-02-06 23:49:32  "
      ]
     },
     "execution_count": 122,
     "metadata": {},
     "output_type": "execute_result"
    }
   ],
   "source": [
    "dfi.head()"
   ]
  },
  {
   "cell_type": "code",
   "execution_count": 124,
   "metadata": {},
   "outputs": [
    {
     "data": {
      "image/png": "[encoded data removed]",
      "text/plain": [
       "<Figure size 1080x360 with 1 Axes>"
      ]
     },
     "metadata": {
      "needs_background": "light"
     },
     "output_type": "display_data"
    }
   ],
   "source": [
    "fig,ax = plt.subplots(figsize=(15,5))\n",
    "plt.plot(dfi[4], dfi[3], \".\")\n",
    "plt.show()"
   ]
  },
  {
   "cell_type": "code",
   "execution_count": null,
   "metadata": {},
   "outputs": [],
   "source": []
  }
 ],
 "metadata": {
  "kernelspec": {
   "display_name": "Python 3",
   "language": "python",
   "name": "python3"
  },
  "language_info": {
   "codemirror_mode": {
    "name": "ipython",
    "version": 3
   },
   "file_extension": ".py",
   "mimetype": "text/x-python",
   "name": "python",
   "nbconvert_exporter": "python",
   "pygments_lexer": "ipython3",
   "version": "3.6.8"
  }
 },
 "nbformat": 4,
 "nbformat_minor": 2
}
