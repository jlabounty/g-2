{
 "cells": [
  {
   "cell_type": "code",
   "execution_count": 1,
   "metadata": {},
   "outputs": [
    {
     "name": "stdout",
     "output_type": "stream",
     "text": [
      "Welcome to JupyROOT 6.12/06\n",
      "For interactive plots, run: setint()\n",
      "To return to non-interactive plots (default state), run: noint()\n"
     ]
    }
   ],
   "source": [
    "from standardInclude import *"
   ]
  },
  {
   "cell_type": "code",
   "execution_count": 2,
   "metadata": {},
   "outputs": [],
   "source": [
    "df = pandas.read_csv(\"./AllRuns.csv\", delimiter=\"|\", header=None)"
   ]
  },
  {
   "cell_type": "raw",
   "metadata": {},
   "source": [
    "df['t1'] = df[1].datetime()\n",
    "df.head()"
   ]
  },
  {
   "cell_type": "code",
   "execution_count": 3,
   "metadata": {},
   "outputs": [],
   "source": [
    "dfi = df.loc[df[0] > 24376].loc[df[12] == \"Y\"].loc[df[9] > 120000]"
   ]
  },
  {
   "cell_type": "code",
   "execution_count": 7,
   "metadata": {},
   "outputs": [],
   "source": [
    "dfi['date'] = pandas.to_datetime(df[1])"
   ]
  },
  {
   "cell_type": "code",
   "execution_count": 8,
   "metadata": {},
   "outputs": [
    {
     "data": {
      "text/html": [
       "<div>\n",
       "<style scoped>\n",
       "    .dataframe tbody tr th:only-of-type {\n",
       "        vertical-align: middle;\n",
       "    }\n",
       "\n",
       "    .dataframe tbody tr th {\n",
       "        vertical-align: top;\n",
       "    }\n",
       "\n",
       "    .dataframe thead th {\n",
       "        text-align: right;\n",
       "    }\n",
       "</style>\n",
       "<table border=\"1\" class=\"dataframe\">\n",
       "  <thead>\n",
       "    <tr style=\"text-align: right;\">\n",
       "      <th></th>\n",
       "      <th>0</th>\n",
       "      <th>1</th>\n",
       "      <th>2</th>\n",
       "      <th>3</th>\n",
       "      <th>4</th>\n",
       "      <th>5</th>\n",
       "      <th>6</th>\n",
       "      <th>7</th>\n",
       "      <th>8</th>\n",
       "      <th>9</th>\n",
       "      <th>10</th>\n",
       "      <th>11</th>\n",
       "      <th>12</th>\n",
       "      <th>date</th>\n",
       "    </tr>\n",
       "  </thead>\n",
       "  <tbody>\n",
       "    <tr>\n",
       "      <th>924</th>\n",
       "      <td>24397</td>\n",
       "      <td>2019-03-27 17:02:26.446756</td>\n",
       "      <td>Restarting run after CCC hard crash</td>\n",
       "      <td>2019-03-27 17:01:54</td>\n",
       "      <td>2.513998e+15</td>\n",
       "      <td>2019-03-27 15:26:59</td>\n",
       "      <td>0.131304</td>\n",
       "      <td>N. Froemming, D. Stratakis</td>\n",
       "      <td>/data2/gm2</td>\n",
       "      <td>134532.0</td>\n",
       "      <td>1.000394e+12</td>\n",
       "      <td>1789058.0</td>\n",
       "      <td>Y</td>\n",
       "      <td>2019-03-27 17:02:26.446756</td>\n",
       "    </tr>\n",
       "    <tr>\n",
       "      <th>5081</th>\n",
       "      <td>24398</td>\n",
       "      <td>2019-03-27 18:59:13.942978</td>\n",
       "      <td>Restarting run after CCC hard crash</td>\n",
       "      <td>2019-03-27 18:58:33</td>\n",
       "      <td>2.514999e+15</td>\n",
       "      <td>2019-03-27 17:02:12</td>\n",
       "      <td>0.122294</td>\n",
       "      <td>N. Froemming, D. Stratakis</td>\n",
       "      <td>/data1/gm2</td>\n",
       "      <td>169232.0</td>\n",
       "      <td>1.000431e+12</td>\n",
       "      <td>1789556.0</td>\n",
       "      <td>Y</td>\n",
       "      <td>2019-03-27 18:59:13.942978</td>\n",
       "    </tr>\n",
       "    <tr>\n",
       "      <th>6399</th>\n",
       "      <td>24399</td>\n",
       "      <td>2019-03-27 20:57:25.772786</td>\n",
       "      <td>Restarting run after CCC hard crash</td>\n",
       "      <td>2019-03-27 20:56:45</td>\n",
       "      <td>2.515999e+15</td>\n",
       "      <td>2019-03-27 18:58:56</td>\n",
       "      <td>0.151245</td>\n",
       "      <td>N. Froemming, D. Stratakis</td>\n",
       "      <td>/data2/gm2</td>\n",
       "      <td>175194.0</td>\n",
       "      <td>1.000350e+12</td>\n",
       "      <td>1790054.0</td>\n",
       "      <td>Y</td>\n",
       "      <td>2019-03-27 20:57:25.772786</td>\n",
       "    </tr>\n",
       "    <tr>\n",
       "      <th>7795</th>\n",
       "      <td>24832</td>\n",
       "      <td>2019-04-15 23:20:00.544092</td>\n",
       "      <td>production</td>\n",
       "      <td>2019-04-15 23:19:42</td>\n",
       "      <td>2.647464e+15</td>\n",
       "      <td>2019-04-15 21:49:16</td>\n",
       "      <td>0.159247</td>\n",
       "      <td>Brynn, Saskia</td>\n",
       "      <td>/data2/gm2</td>\n",
       "      <td>134976.0</td>\n",
       "      <td>1.000535e+12</td>\n",
       "      <td>1855450.0</td>\n",
       "      <td>Y</td>\n",
       "      <td>2019-04-15 23:20:00.544092</td>\n",
       "    </tr>\n",
       "    <tr>\n",
       "      <th>7853</th>\n",
       "      <td>26321</td>\n",
       "      <td>2019-05-10 00:22:14.087638</td>\n",
       "      <td>production</td>\n",
       "      <td>2019-05-10 00:10:07</td>\n",
       "      <td>2.937339e+15</td>\n",
       "      <td>2019-05-09 22:40:35</td>\n",
       "      <td>0.228092</td>\n",
       "      <td>Ran , Carlo</td>\n",
       "      <td>/data2/gm2</td>\n",
       "      <td>124894.0</td>\n",
       "      <td>1.000609e+12</td>\n",
       "      <td>1999416.0</td>\n",
       "      <td>Y</td>\n",
       "      <td>2019-05-10 00:22:14.087638</td>\n",
       "    </tr>\n",
       "  </tbody>\n",
       "</table>\n",
       "</div>"
      ],
      "text/plain": [
       "          0                           1                                    2  \\\n",
       "924   24397  2019-03-27 17:02:26.446756  Restarting run after CCC hard crash   \n",
       "5081  24398  2019-03-27 18:59:13.942978  Restarting run after CCC hard crash   \n",
       "6399  24399  2019-03-27 20:57:25.772786  Restarting run after CCC hard crash   \n",
       "7795  24832  2019-04-15 23:20:00.544092                           production   \n",
       "7853  26321  2019-05-10 00:22:14.087638                           production   \n",
       "\n",
       "                        3             4                    5         6  \\\n",
       "924   2019-03-27 17:01:54  2.513998e+15  2019-03-27 15:26:59  0.131304   \n",
       "5081  2019-03-27 18:58:33  2.514999e+15  2019-03-27 17:02:12  0.122294   \n",
       "6399  2019-03-27 20:56:45  2.515999e+15  2019-03-27 18:58:56  0.151245   \n",
       "7795  2019-04-15 23:19:42  2.647464e+15  2019-04-15 21:49:16  0.159247   \n",
       "7853  2019-05-10 00:10:07  2.937339e+15  2019-05-09 22:40:35  0.228092   \n",
       "\n",
       "                               7           8         9            10  \\\n",
       "924   N. Froemming, D. Stratakis  /data2/gm2  134532.0  1.000394e+12   \n",
       "5081  N. Froemming, D. Stratakis  /data1/gm2  169232.0  1.000431e+12   \n",
       "6399  N. Froemming, D. Stratakis  /data2/gm2  175194.0  1.000350e+12   \n",
       "7795               Brynn, Saskia  /data2/gm2  134976.0  1.000535e+12   \n",
       "7853                 Ran , Carlo  /data2/gm2  124894.0  1.000609e+12   \n",
       "\n",
       "             11 12                       date  \n",
       "924   1789058.0  Y 2019-03-27 17:02:26.446756  \n",
       "5081  1789556.0  Y 2019-03-27 18:59:13.942978  \n",
       "6399  1790054.0  Y 2019-03-27 20:57:25.772786  \n",
       "7795  1855450.0  Y 2019-04-15 23:20:00.544092  \n",
       "7853  1999416.0  Y 2019-05-10 00:22:14.087638  "
      ]
     },
     "execution_count": 8,
     "metadata": {},
     "output_type": "execute_result"
    }
   ],
   "source": [
    "dfi.head()"
   ]
  },
  {
   "cell_type": "code",
   "execution_count": 9,
   "metadata": {},
   "outputs": [
    {
     "data": {
      "text/html": [
       "<div>\n",
       "<style scoped>\n",
       "    .dataframe tbody tr th:only-of-type {\n",
       "        vertical-align: middle;\n",
       "    }\n",
       "\n",
       "    .dataframe tbody tr th {\n",
       "        vertical-align: top;\n",
       "    }\n",
       "\n",
       "    .dataframe thead th {\n",
       "        text-align: right;\n",
       "    }\n",
       "</style>\n",
       "<table border=\"1\" class=\"dataframe\">\n",
       "  <thead>\n",
       "    <tr style=\"text-align: right;\">\n",
       "      <th></th>\n",
       "      <th>0</th>\n",
       "      <th>4</th>\n",
       "      <th>6</th>\n",
       "      <th>9</th>\n",
       "      <th>10</th>\n",
       "      <th>11</th>\n",
       "    </tr>\n",
       "  </thead>\n",
       "  <tbody>\n",
       "    <tr>\n",
       "      <th>count</th>\n",
       "      <td>393.000000</td>\n",
       "      <td>3.930000e+02</td>\n",
       "      <td>393.000000</td>\n",
       "      <td>393.000000</td>\n",
       "      <td>3.930000e+02</td>\n",
       "      <td>3.930000e+02</td>\n",
       "    </tr>\n",
       "    <tr>\n",
       "      <th>mean</th>\n",
       "      <td>25858.440204</td>\n",
       "      <td>2.850855e+15</td>\n",
       "      <td>0.208408</td>\n",
       "      <td>126251.623410</td>\n",
       "      <td>9.993459e+11</td>\n",
       "      <td>1.955073e+06</td>\n",
       "    </tr>\n",
       "    <tr>\n",
       "      <th>std</th>\n",
       "      <td>880.903460</td>\n",
       "      <td>2.418500e+14</td>\n",
       "      <td>0.100368</td>\n",
       "      <td>6484.078794</td>\n",
       "      <td>9.203257e+09</td>\n",
       "      <td>1.380874e+05</td>\n",
       "    </tr>\n",
       "    <tr>\n",
       "      <th>min</th>\n",
       "      <td>24377.000000</td>\n",
       "      <td>6.799248e+11</td>\n",
       "      <td>0.040063</td>\n",
       "      <td>120033.000000</td>\n",
       "      <td>8.826822e+11</td>\n",
       "      <td>4.790000e+02</td>\n",
       "    </tr>\n",
       "    <tr>\n",
       "      <th>25%</th>\n",
       "      <td>24947.000000</td>\n",
       "      <td>2.699356e+15</td>\n",
       "      <td>0.149246</td>\n",
       "      <td>122828.000000</td>\n",
       "      <td>1.000395e+12</td>\n",
       "      <td>1.881179e+06</td>\n",
       "    </tr>\n",
       "    <tr>\n",
       "      <th>50%</th>\n",
       "      <td>26078.000000</td>\n",
       "      <td>2.860577e+15</td>\n",
       "      <td>0.198264</td>\n",
       "      <td>123997.000000</td>\n",
       "      <td>1.000521e+12</td>\n",
       "      <td>1.961414e+06</td>\n",
       "    </tr>\n",
       "    <tr>\n",
       "      <th>75%</th>\n",
       "      <td>26592.000000</td>\n",
       "      <td>3.017270e+15</td>\n",
       "      <td>0.233035</td>\n",
       "      <td>126666.000000</td>\n",
       "      <td>1.000692e+12</td>\n",
       "      <td>2.039098e+06</td>\n",
       "    </tr>\n",
       "    <tr>\n",
       "      <th>max</th>\n",
       "      <td>27439.000000</td>\n",
       "      <td>3.227429e+15</td>\n",
       "      <td>0.615054</td>\n",
       "      <td>175194.000000</td>\n",
       "      <td>1.002148e+12</td>\n",
       "      <td>2.143354e+06</td>\n",
       "    </tr>\n",
       "  </tbody>\n",
       "</table>\n",
       "</div>"
      ],
      "text/plain": [
       "                 0             4           6              9             10  \\\n",
       "count    393.000000  3.930000e+02  393.000000     393.000000  3.930000e+02   \n",
       "mean   25858.440204  2.850855e+15    0.208408  126251.623410  9.993459e+11   \n",
       "std      880.903460  2.418500e+14    0.100368    6484.078794  9.203257e+09   \n",
       "min    24377.000000  6.799248e+11    0.040063  120033.000000  8.826822e+11   \n",
       "25%    24947.000000  2.699356e+15    0.149246  122828.000000  1.000395e+12   \n",
       "50%    26078.000000  2.860577e+15    0.198264  123997.000000  1.000521e+12   \n",
       "75%    26592.000000  3.017270e+15    0.233035  126666.000000  1.000692e+12   \n",
       "max    27439.000000  3.227429e+15    0.615054  175194.000000  1.002148e+12   \n",
       "\n",
       "                 11  \n",
       "count  3.930000e+02  \n",
       "mean   1.955073e+06  \n",
       "std    1.380874e+05  \n",
       "min    4.790000e+02  \n",
       "25%    1.881179e+06  \n",
       "50%    1.961414e+06  \n",
       "75%    2.039098e+06  \n",
       "max    2.143354e+06  "
      ]
     },
     "execution_count": 9,
     "metadata": {},
     "output_type": "execute_result"
    }
   ],
   "source": [
    "dfi.describe()"
   ]
  },
  {
   "cell_type": "code",
   "execution_count": 18,
   "metadata": {},
   "outputs": [
    {
     "data": {
      "image/png": "[encoded data removed]",
      "text/plain": [
       "<Figure size 1080x360 with 1 Axes>"
      ]
     },
     "metadata": {
      "needs_background": "light"
     },
     "output_type": "display_data"
    }
   ],
   "source": [
    "fig,ax = plt.subplots(figsize=(15,5))\n",
    "plt.plot(dfi['date'], dfi[9], \".\")\n",
    "plt.xticks(rotation=90)\n",
    "plt.show()"
   ]
  },
  {
   "cell_type": "code",
   "execution_count": 7,
   "metadata": {},
   "outputs": [
    {
     "data": {
      "image/png": "[encoded data removed]",
      "text/plain": [
       "<Figure size 432x288 with 1 Axes>"
      ]
     },
     "metadata": {
      "needs_background": "light"
     },
     "output_type": "display_data"
    }
   ],
   "source": [
    "plt.hist(dfi[9], bins=100)\n",
    "plt.show()"
   ]
  },
  {
   "cell_type": "code",
   "execution_count": 8,
   "metadata": {},
   "outputs": [],
   "source": [
    "dfout = dfi.sample(n=50)"
   ]
  },
  {
   "cell_type": "code",
   "execution_count": 9,
   "metadata": {},
   "outputs": [
    {
     "data": {
      "text/html": [
       "<div>\n",
       "<style scoped>\n",
       "    .dataframe tbody tr th:only-of-type {\n",
       "        vertical-align: middle;\n",
       "    }\n",
       "\n",
       "    .dataframe tbody tr th {\n",
       "        vertical-align: top;\n",
       "    }\n",
       "\n",
       "    .dataframe thead th {\n",
       "        text-align: right;\n",
       "    }\n",
       "</style>\n",
       "<table border=\"1\" class=\"dataframe\">\n",
       "  <thead>\n",
       "    <tr style=\"text-align: right;\">\n",
       "      <th></th>\n",
       "      <th>0</th>\n",
       "      <th>1</th>\n",
       "      <th>2</th>\n",
       "      <th>3</th>\n",
       "      <th>4</th>\n",
       "      <th>5</th>\n",
       "      <th>6</th>\n",
       "      <th>7</th>\n",
       "      <th>8</th>\n",
       "      <th>9</th>\n",
       "      <th>10</th>\n",
       "      <th>11</th>\n",
       "      <th>12</th>\n",
       "    </tr>\n",
       "  </thead>\n",
       "  <tbody>\n",
       "    <tr>\n",
       "      <th>14304</th>\n",
       "      <td>24447</td>\n",
       "      <td>2019-03-29 00:52:24.927171</td>\n",
       "      <td>kicker 3 recovered after spark</td>\n",
       "      <td>2019-03-29 00:41:01</td>\n",
       "      <td>2.526672e+15</td>\n",
       "      <td>2019-03-28 23:16:39</td>\n",
       "      <td>0.155235</td>\n",
       "      <td>Carlo, Jason</td>\n",
       "      <td>/data1/gm2</td>\n",
       "      <td>123111.0</td>\n",
       "      <td>1.000655e+12</td>\n",
       "      <td>1795377.0</td>\n",
       "      <td>Y</td>\n",
       "    </tr>\n",
       "    <tr>\n",
       "      <th>19661</th>\n",
       "      <td>25906</td>\n",
       "      <td>2019-04-27 19:18:43.61588</td>\n",
       "      <td>Laser mode = 1, production running, wedges ins...</td>\n",
       "      <td>2019-04-27 19:18:10</td>\n",
       "      <td>2.790414e+15</td>\n",
       "      <td>2019-04-27 17:51:01</td>\n",
       "      <td>0.219750</td>\n",
       "      <td>Yuri Oksuzian, David T.</td>\n",
       "      <td>/data1/gm2</td>\n",
       "      <td>122299.0</td>\n",
       "      <td>1.000609e+12</td>\n",
       "      <td>1926630.0</td>\n",
       "      <td>Y</td>\n",
       "    </tr>\n",
       "    <tr>\n",
       "      <th>20635</th>\n",
       "      <td>26088</td>\n",
       "      <td>2019-05-04 16:58:54.579997</td>\n",
       "      <td>Ramping Kickers</td>\n",
       "      <td>2019-05-04 16:58:32</td>\n",
       "      <td>2.869433e+15</td>\n",
       "      <td>2019-05-04 15:33:43</td>\n",
       "      <td>0.244233</td>\n",
       "      <td>On Kim,  Tim Gorringe</td>\n",
       "      <td>/data1/gm2</td>\n",
       "      <td>122983.0</td>\n",
       "      <td>1.000626e+12</td>\n",
       "      <td>1965796.0</td>\n",
       "      <td>Y</td>\n",
       "    </tr>\n",
       "    <tr>\n",
       "      <th>20949</th>\n",
       "      <td>24633</td>\n",
       "      <td>2019-04-10 20:37:37.356358</td>\n",
       "      <td>beam</td>\n",
       "      <td>2019-04-10 20:37:13</td>\n",
       "      <td>2.578397e+15</td>\n",
       "      <td>2019-04-10 19:00:43</td>\n",
       "      <td>0.235988</td>\n",
       "      <td>James Stapleton</td>\n",
       "      <td>/data1/gm2</td>\n",
       "      <td>134441.0</td>\n",
       "      <td>1.000415e+12</td>\n",
       "      <td>1821161.0</td>\n",
       "      <td>Y</td>\n",
       "    </tr>\n",
       "    <tr>\n",
       "      <th>21451</th>\n",
       "      <td>26565</td>\n",
       "      <td>2019-05-22 23:42:12.751855</td>\n",
       "      <td>production</td>\n",
       "      <td>2019-05-22 23:26:54</td>\n",
       "      <td>2.996737e+15</td>\n",
       "      <td>2019-05-22 21:57:08</td>\n",
       "      <td>0.415291</td>\n",
       "      <td>David T, Themis</td>\n",
       "      <td>/data1/gm2</td>\n",
       "      <td>124800.0</td>\n",
       "      <td>1.000738e+12</td>\n",
       "      <td>2028936.0</td>\n",
       "      <td>Y</td>\n",
       "    </tr>\n",
       "  </tbody>\n",
       "</table>\n",
       "</div>"
      ],
      "text/plain": [
       "          0                           1   \\\n",
       "14304  24447  2019-03-29 00:52:24.927171   \n",
       "19661  25906   2019-04-27 19:18:43.61588   \n",
       "20635  26088  2019-05-04 16:58:54.579997   \n",
       "20949  24633  2019-04-10 20:37:37.356358   \n",
       "21451  26565  2019-05-22 23:42:12.751855   \n",
       "\n",
       "                                                      2                    3   \\\n",
       "14304                     kicker 3 recovered after spark  2019-03-29 00:41:01   \n",
       "19661  Laser mode = 1, production running, wedges ins...  2019-04-27 19:18:10   \n",
       "20635                                    Ramping Kickers  2019-05-04 16:58:32   \n",
       "20949                                               beam  2019-04-10 20:37:13   \n",
       "21451                                         production  2019-05-22 23:26:54   \n",
       "\n",
       "                 4                    5         6                        7   \\\n",
       "14304  2.526672e+15  2019-03-28 23:16:39  0.155235             Carlo, Jason   \n",
       "19661  2.790414e+15  2019-04-27 17:51:01  0.219750  Yuri Oksuzian, David T.   \n",
       "20635  2.869433e+15  2019-05-04 15:33:43  0.244233    On Kim,  Tim Gorringe   \n",
       "20949  2.578397e+15  2019-04-10 19:00:43  0.235988          James Stapleton   \n",
       "21451  2.996737e+15  2019-05-22 21:57:08  0.415291          David T, Themis   \n",
       "\n",
       "               8         9             10         11 12  \n",
       "14304  /data1/gm2  123111.0  1.000655e+12  1795377.0  Y  \n",
       "19661  /data1/gm2  122299.0  1.000609e+12  1926630.0  Y  \n",
       "20635  /data1/gm2  122983.0  1.000626e+12  1965796.0  Y  \n",
       "20949  /data1/gm2  134441.0  1.000415e+12  1821161.0  Y  \n",
       "21451  /data1/gm2  124800.0  1.000738e+12  2028936.0  Y  "
      ]
     },
     "execution_count": 9,
     "metadata": {},
     "output_type": "execute_result"
    }
   ],
   "source": [
    "dfout.head()"
   ]
  },
  {
   "cell_type": "code",
   "execution_count": 11,
   "metadata": {},
   "outputs": [
    {
     "data": {
      "text/plain": [
       "['2019-03-28 23:16:39',\n",
       " '2019-04-27 17:51:01',\n",
       " '2019-05-04 15:33:43',\n",
       " '2019-04-10 19:00:43',\n",
       " '2019-05-22 21:57:08',\n",
       " '2019-05-03 00:52:08',\n",
       " '2019-04-30 11:39:55',\n",
       " '2019-05-23 05:34:32',\n",
       " '2019-06-06 20:05:26',\n",
       " '2019-04-09 08:41:21',\n",
       " '2019-06-06 04:42:22',\n",
       " '2019-04-28 23:22:09',\n",
       " '2019-04-13 19:47:48',\n",
       " '2019-07-01 15:39:09',\n",
       " '2019-06-22 17:32:32',\n",
       " '2019-03-27 17:02:12',\n",
       " '2019-04-20 22:00:40',\n",
       " '2019-05-03 23:24:52',\n",
       " '2019-06-06 03:13:12',\n",
       " '2019-05-22 05:38:29',\n",
       " '2019-04-14 08:10:39',\n",
       " '2019-04-18 03:22:27',\n",
       " '2019-05-24 16:23:06',\n",
       " '2019-05-06 15:36:14',\n",
       " '2019-04-10 17:27:14',\n",
       " '2019-04-09 02:19:37',\n",
       " '2019-05-07 12:57:42',\n",
       " '2019-05-22 23:27:10',\n",
       " '2019-03-28 16:54:43',\n",
       " '2019-04-27 00:13:54',\n",
       " '2019-04-22 02:27:29',\n",
       " '2019-05-06 17:55:49',\n",
       " '2019-04-21 11:45:50',\n",
       " '2019-05-08 01:21:54',\n",
       " '2019-04-28 21:53:44',\n",
       " '2019-04-27 07:51:13',\n",
       " '2019-04-23 05:37:41',\n",
       " '2019-04-19 22:18:51',\n",
       " '2019-04-19 20:37:33',\n",
       " '2019-05-05 19:42:08',\n",
       " '2019-06-18 12:55:06',\n",
       " '2019-06-04 05:32:09',\n",
       " '2019-03-29 02:11:08',\n",
       " '2019-05-05 16:28:07',\n",
       " '2019-04-16 08:16:36',\n",
       " '2019-06-07 01:08:49',\n",
       " '2019-05-09 11:07:28',\n",
       " '2019-04-16 15:47:03',\n",
       " '2019-05-10 21:21:31',\n",
       " '2019-06-04 14:10:46']"
      ]
     },
     "execution_count": 11,
     "metadata": {},
     "output_type": "execute_result"
    }
   ],
   "source": [
    "list(dfout[5])"
   ]
  },
  {
   "cell_type": "code",
   "execution_count": 55,
   "metadata": {},
   "outputs": [],
   "source": [
    "dataset = 'samweb -e gm2 create-definition nearline_RandomRuns_Binney_LaBounty \" ( '\n",
    "for i, runi in enumerate(dfout[0]):\n",
    "    dataset+= \"( run_number >= \"+str(runi)+\" and run_number <= \"+str(runi)+\" ) or \"\n",
    "dataset = dataset[:-3]+\" \"\n",
    "dataset += ') and data_tier raw \" '"
   ]
  },
  {
   "cell_type": "code",
   "execution_count": 56,
   "metadata": {},
   "outputs": [
    {
     "name": "stdout",
     "output_type": "stream",
     "text": [
      "samweb -e gm2 create-definition nearline_RandomRuns_Binney_LaBounty \" ( ( run_number >= 24613 and run_number <= 24613 ) or ( run_number >= 24929 and run_number <= 24929 ) or ( run_number >= 26692 and run_number <= 26692 ) or ( run_number >= 24977 and run_number <= 24977 ) or ( run_number >= 25906 and run_number <= 25906 ) or ( run_number >= 26591 and run_number <= 26591 ) or ( run_number >= 26010 and run_number <= 26010 ) or ( run_number >= 26487 and run_number <= 26487 ) or ( run_number >= 25921 and run_number <= 25921 ) or ( run_number >= 24582 and run_number <= 24582 ) or ( run_number >= 26150 and run_number <= 26150 ) or ( run_number >= 26368 and run_number <= 26368 ) or ( run_number >= 26339 and run_number <= 26339 ) or ( run_number >= 25916 and run_number <= 25916 ) or ( run_number >= 24937 and run_number <= 24937 ) or ( run_number >= 26179 and run_number <= 26179 ) or ( run_number >= 26300 and run_number <= 26300 ) or ( run_number >= 24981 and run_number <= 24981 ) or ( run_number >= 24858 and run_number <= 24858 ) or ( run_number >= 24920 and run_number <= 24920 ) or ( run_number >= 24801 and run_number <= 24801 ) or ( run_number >= 27192 and run_number <= 27192 ) or ( run_number >= 26175 and run_number <= 26175 ) or ( run_number >= 25920 and run_number <= 25920 ) or ( run_number >= 26576 and run_number <= 26576 ) or ( run_number >= 26719 and run_number <= 26719 ) or ( run_number >= 24832 and run_number <= 24832 ) or ( run_number >= 26571 and run_number <= 26571 ) or ( run_number >= 26765 and run_number <= 26765 ) or ( run_number >= 26100 and run_number <= 26100 ) or ( run_number >= 25952 and run_number <= 25952 ) or ( run_number >= 26686 and run_number <= 26686 ) or ( run_number >= 24774 and run_number <= 24774 ) or ( run_number >= 26497 and run_number <= 26497 ) or ( run_number >= 26761 and run_number <= 26761 ) or ( run_number >= 26478 and run_number <= 26478 ) or ( run_number >= 24890 and run_number <= 24890 ) or ( run_number >= 24580 and run_number <= 24580 ) or ( run_number >= 26710 and run_number <= 26710 ) or ( run_number >= 26695 and run_number <= 26695 ) or ( run_number >= 24998 and run_number <= 24998 ) or ( run_number >= 25960 and run_number <= 25960 ) or ( run_number >= 27193 and run_number <= 27193 ) or ( run_number >= 25039 and run_number <= 25039 ) or ( run_number >= 26525 and run_number <= 26525 ) or ( run_number >= 24782 and run_number <= 24782 ) or ( run_number >= 27094 and run_number <= 27094 ) or ( run_number >= 26506 and run_number <= 26506 ) or ( run_number >= 27436 and run_number <= 27436 ) or ( run_number >= 26501 and run_number <= 26501 )  ) and data_tier raw \" \n"
     ]
    }
   ],
   "source": [
    "print(dataset)"
   ]
  },
  {
   "cell_type": "code",
   "execution_count": 56,
   "metadata": {},
   "outputs": [
    {
     "name": "stdout",
     "output_type": "stream",
     "text": [
      "samweb -e gm2 create-definition nearline_RandomRuns_Binney_LaBounty \" ( ( run_number >= 24613 and run_number <= 24613 ) or ( run_number >= 24929 and run_number <= 24929 ) or ( run_number >= 26692 and run_number <= 26692 ) or ( run_number >= 24977 and run_number <= 24977 ) or ( run_number >= 25906 and run_number <= 25906 ) or ( run_number >= 26591 and run_number <= 26591 ) or ( run_number >= 26010 and run_number <= 26010 ) or ( run_number >= 26487 and run_number <= 26487 ) or ( run_number >= 25921 and run_number <= 25921 ) or ( run_number >= 24582 and run_number <= 24582 ) or ( run_number >= 26150 and run_number <= 26150 ) or ( run_number >= 26368 and run_number <= 26368 ) or ( run_number >= 26339 and run_number <= 26339 ) or ( run_number >= 25916 and run_number <= 25916 ) or ( run_number >= 24937 and run_number <= 24937 ) or ( run_number >= 26179 and run_number <= 26179 ) or ( run_number >= 26300 and run_number <= 26300 ) or ( run_number >= 24981 and run_number <= 24981 ) or ( run_number >= 24858 and run_number <= 24858 ) or ( run_number >= 24920 and run_number <= 24920 ) or ( run_number >= 24801 and run_number <= 24801 ) or ( run_number >= 27192 and run_number <= 27192 ) or ( run_number >= 26175 and run_number <= 26175 ) or ( run_number >= 25920 and run_number <= 25920 ) or ( run_number >= 26576 and run_number <= 26576 ) or ( run_number >= 26719 and run_number <= 26719 ) or ( run_number >= 24832 and run_number <= 24832 ) or ( run_number >= 26571 and run_number <= 26571 ) or ( run_number >= 26765 and run_number <= 26765 ) or ( run_number >= 26100 and run_number <= 26100 ) or ( run_number >= 25952 and run_number <= 25952 ) or ( run_number >= 26686 and run_number <= 26686 ) or ( run_number >= 24774 and run_number <= 24774 ) or ( run_number >= 26497 and run_number <= 26497 ) or ( run_number >= 26761 and run_number <= 26761 ) or ( run_number >= 26478 and run_number <= 26478 ) or ( run_number >= 24890 and run_number <= 24890 ) or ( run_number >= 24580 and run_number <= 24580 ) or ( run_number >= 26710 and run_number <= 26710 ) or ( run_number >= 26695 and run_number <= 26695 ) or ( run_number >= 24998 and run_number <= 24998 ) or ( run_number >= 25960 and run_number <= 25960 ) or ( run_number >= 27193 and run_number <= 27193 ) or ( run_number >= 25039 and run_number <= 25039 ) or ( run_number >= 26525 and run_number <= 26525 ) or ( run_number >= 24782 and run_number <= 24782 ) or ( run_number >= 27094 and run_number <= 27094 ) or ( run_number >= 26506 and run_number <= 26506 ) or ( run_number >= 27436 and run_number <= 27436 ) or ( run_number >= 26501 and run_number <= 26501 )  ) and data_tier raw \" \n"
     ]
    }
   ],
   "source": [
    "print(dataset)"
   ]
  },
  {
   "cell_type": "code",
   "execution_count": 12,
   "metadata": {},
   "outputs": [],
   "source": [
    "originalDataset = 'samweb -e gm2 create-definition nearline_RandomRuns_Binney_LaBounty \" ( ( run_number >= 24613 and run_number <= 24613 ) or ( run_number >= 24929 and run_number <= 24929 ) or ( run_number >= 26692 and run_number <= 26692 ) or ( run_number >= 24977 and run_number <= 24977 ) or ( run_number >= 25906 and run_number <= 25906 ) or ( run_number >= 26591 and run_number <= 26591 ) or ( run_number >= 26010 and run_number <= 26010 ) or ( run_number >= 26487 and run_number <= 26487 ) or ( run_number >= 25921 and run_number <= 25921 ) or ( run_number >= 24582 and run_number <= 24582 ) or ( run_number >= 26150 and run_number <= 26150 ) or ( run_number >= 26368 and run_number <= 26368 ) or ( run_number >= 26339 and run_number <= 26339 ) or ( run_number >= 25916 and run_number <= 25916 ) or ( run_number >= 24937 and run_number <= 24937 ) or ( run_number >= 26179 and run_number <= 26179 ) or ( run_number >= 26300 and run_number <= 26300 ) or ( run_number >= 24981 and run_number <= 24981 ) or ( run_number >= 24858 and run_number <= 24858 ) or ( run_number >= 24920 and run_number <= 24920 ) or ( run_number >= 24801 and run_number <= 24801 ) or ( run_number >= 27192 and run_number <= 27192 ) or ( run_number >= 26175 and run_number <= 26175 ) or ( run_number >= 25920 and run_number <= 25920 ) or ( run_number >= 26576 and run_number <= 26576 ) or ( run_number >= 26719 and run_number <= 26719 ) or ( run_number >= 24832 and run_number <= 24832 ) or ( run_number >= 26571 and run_number <= 26571 ) or ( run_number >= 26765 and run_number <= 26765 ) or ( run_number >= 26100 and run_number <= 26100 ) or ( run_number >= 25952 and run_number <= 25952 ) or ( run_number >= 26686 and run_number <= 26686 ) or ( run_number >= 24774 and run_number <= 24774 ) or ( run_number >= 26497 and run_number <= 26497 ) or ( run_number >= 26761 and run_number <= 26761 ) or ( run_number >= 26478 and run_number <= 26478 ) or ( run_number >= 24890 and run_number <= 24890 ) or ( run_number >= 24580 and run_number <= 24580 ) or ( run_number >= 26710 and run_number <= 26710 ) or ( run_number >= 26695 and run_number <= 26695 ) or ( run_number >= 24998 and run_number <= 24998 ) or ( run_number >= 25960 and run_number <= 25960 ) or ( run_number >= 27193 and run_number <= 27193 ) or ( run_number >= 25039 and run_number <= 25039 ) or ( run_number >= 26525 and run_number <= 26525 ) or ( run_number >= 24782 and run_number <= 24782 ) or ( run_number >= 27094 and run_number <= 27094 ) or ( run_number >= 26506 and run_number <= 26506 ) or ( run_number >= 27436 and run_number <= 27436 ) or ( run_number >= 26501 and run_number <= 26501 )  ) and data_tier raw \" '"
   ]
  },
  {
   "cell_type": "code",
   "execution_count": 13,
   "metadata": {},
   "outputs": [
    {
     "name": "stdout",
     "output_type": "stream",
     "text": [
      "samweb -e gm2 create-definition nearline_RandomRuns_Binney_LaBounty \" ( ( run_number >= 24613 and run_number <= 24613 ) or ( run_number >= 24929 and run_number <= 24929 ) or ( run_number >= 26692 and run_number <= 26692 ) or ( run_number >= 24977 and run_number <= 24977 ) or ( run_number >= 25906 and run_number <= 25906 ) or ( run_number >= 26591 and run_number <= 26591 ) or ( run_number >= 26010 and run_number <= 26010 ) or ( run_number >= 26487 and run_number <= 26487 ) or ( run_number >= 25921 and run_number <= 25921 ) or ( run_number >= 24582 and run_number <= 24582 ) or ( run_number >= 26150 and run_number <= 26150 ) or ( run_number >= 26368 and run_number <= 26368 ) or ( run_number >= 26339 and run_number <= 26339 ) or ( run_number >= 25916 and run_number <= 25916 ) or ( run_number >= 24937 and run_number <= 24937 ) or ( run_number >= 26179 and run_number <= 26179 ) or ( run_number >= 26300 and run_number <= 26300 ) or ( run_number >= 24981 and run_number <= 24981 ) or ( run_number >= 24858 and run_number <= 24858 ) or ( run_number >= 24920 and run_number <= 24920 ) or ( run_number >= 24801 and run_number <= 24801 ) or ( run_number >= 27192 and run_number <= 27192 ) or ( run_number >= 26175 and run_number <= 26175 ) or ( run_number >= 25920 and run_number <= 25920 ) or ( run_number >= 26576 and run_number <= 26576 ) or ( run_number >= 26719 and run_number <= 26719 ) or ( run_number >= 24832 and run_number <= 24832 ) or ( run_number >= 26571 and run_number <= 26571 ) or ( run_number >= 26765 and run_number <= 26765 ) or ( run_number >= 26100 and run_number <= 26100 ) or ( run_number >= 25952 and run_number <= 25952 ) or ( run_number >= 26686 and run_number <= 26686 ) or ( run_number >= 24774 and run_number <= 24774 ) or ( run_number >= 26497 and run_number <= 26497 ) or ( run_number >= 26761 and run_number <= 26761 ) or ( run_number >= 26478 and run_number <= 26478 ) or ( run_number >= 24890 and run_number <= 24890 ) or ( run_number >= 24580 and run_number <= 24580 ) or ( run_number >= 26710 and run_number <= 26710 ) or ( run_number >= 26695 and run_number <= 26695 ) or ( run_number >= 24998 and run_number <= 24998 ) or ( run_number >= 25960 and run_number <= 25960 ) or ( run_number >= 27193 and run_number <= 27193 ) or ( run_number >= 25039 and run_number <= 25039 ) or ( run_number >= 26525 and run_number <= 26525 ) or ( run_number >= 24782 and run_number <= 24782 ) or ( run_number >= 27094 and run_number <= 27094 ) or ( run_number >= 26506 and run_number <= 26506 ) or ( run_number >= 27436 and run_number <= 27436 ) or ( run_number >= 26501 and run_number <= 26501 )  ) and data_tier raw \" \n"
     ]
    }
   ],
   "source": [
    "print(originalDataset)"
   ]
  },
  {
   "cell_type": "code",
   "execution_count": null,
   "metadata": {},
   "outputs": [],
   "source": []
  }
 ],
 "metadata": {
  "kernelspec": {
   "display_name": "Python 3",
   "language": "python",
   "name": "python3"
  },
  "language_info": {
   "codemirror_mode": {
    "name": "ipython",
    "version": 3
   },
   "file_extension": ".py",
   "mimetype": "text/x-python",
   "name": "python",
   "nbconvert_exporter": "python",
   "pygments_lexer": "ipython3",
   "version": "3.6.8"
  }
 },
 "nbformat": 4,
 "nbformat_minor": 2
}
