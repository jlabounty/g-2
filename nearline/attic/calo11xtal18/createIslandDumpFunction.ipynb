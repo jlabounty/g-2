{
 "cells": [
  {
   "cell_type": "code",
   "execution_count": 1,
   "metadata": {},
   "outputs": [
    {
     "name": "stdout",
     "output_type": "stream",
     "text": [
      "Welcome to JupyROOT 6.12/06\n",
      "For interactive plots, run: setint()\n",
      "To return to non-interactive plots (default state), run: noint()\n"
     ]
    }
   ],
   "source": [
    "from standardInclude import *"
   ]
  },
  {
   "cell_type": "code",
   "execution_count": 2,
   "metadata": {},
   "outputs": [
    {
     "name": "stdout",
     "output_type": "stream",
     "text": [
      "******************************************************************************\n",
      "*Tree    :fitTree   : fitTree                                                *\n",
      "*Entries :    18724 : Total =         7811933 bytes  File  Size =    3361149 *\n",
      "*        :          : Tree compression factor =   2.32                       *\n",
      "******************************************************************************\n",
      "*Br    0 :caloNum   : caloNum/I                                              *\n",
      "*Entries :    18724 : Total  Size=      75620 bytes  File Size  =        703 *\n",
      "*Baskets :        3 : Basket Size=      32000 bytes  Compression= 106.87     *\n",
      "*............................................................................*\n",
      "*Br    1 :xtalNum   : xtalNum/I                                              *\n",
      "*Entries :    18724 : Total  Size=      75620 bytes  File Size  =       1289 *\n",
      "*Baskets :        3 : Basket Size=      32000 bytes  Compression=  58.28     *\n",
      "*............................................................................*\n",
      "*Br    2 :fillNum   : fillNum/I                                              *\n",
      "*Entries :    18724 : Total  Size=      75620 bytes  File Size  =       1205 *\n",
      "*Baskets :        3 : Basket Size=      32000 bytes  Compression=  62.35     *\n",
      "*............................................................................*\n",
      "*Br    3 :subRunNum : subRunNum/I                                            *\n",
      "*Entries :    18724 : Total  Size=      75634 bytes  File Size  =        708 *\n",
      "*Baskets :        3 : Basket Size=      32000 bytes  Compression= 106.12     *\n",
      "*............................................................................*\n",
      "*Br    4 :runNum    : runNum/I                                               *\n",
      "*Entries :    18724 : Total  Size=      75613 bytes  File Size  =        702 *\n",
      "*Baskets :        3 : Basket Size=      32000 bytes  Compression= 107.01     *\n",
      "*............................................................................*\n",
      "*Br    5 :islandNums : vector<int>                                           *\n",
      "*Entries :    18724 : Total  Size=     338765 bytes  File Size  =      32677 *\n",
      "*Baskets :       13 : Basket Size=      32000 bytes  Compression=  10.35     *\n",
      "*............................................................................*\n",
      "*Br    6 :chainedIslandNums : vector<int>                                    *\n",
      "*Entries :    18724 : Total  Size=     339100 bytes  File Size  =      32878 *\n",
      "*Baskets :       13 : Basket Size=      32000 bytes  Compression=  10.30     *\n",
      "*............................................................................*\n",
      "*Br    7 :firstSampleNums : vector<int>                                      *\n",
      "*Entries :    18724 : Total  Size=     338850 bytes  File Size  =      33903 *\n",
      "*Baskets :       13 : Basket Size=      32000 bytes  Compression=   9.98     *\n",
      "*............................................................................*\n",
      "*Br    8 :islandLengths : vector<int>                                        *\n",
      "*Entries :    18724 : Total  Size=     338816 bytes  File Size  =      32945 *\n",
      "*Baskets :       13 : Basket Size=      32000 bytes  Compression=  10.27     *\n",
      "*............................................................................*\n",
      "*Br    9 :chi2      : chi2/D                                                 *\n",
      "*Entries :    18724 : Total  Size=     150651 bytes  File Size  =     142019 *\n",
      "*Baskets :        5 : Basket Size=      32000 bytes  Compression=   1.06     *\n",
      "*............................................................................*\n",
      "*Br   10 :pedestal  : pedestal/D                                             *\n",
      "*Entries :    18724 : Total  Size=     150687 bytes  File Size  =     133616 *\n",
      "*Baskets :        5 : Basket Size=      32000 bytes  Compression=   1.12     *\n",
      "*............................................................................*\n",
      "*Br   11 :energies  : vector<double>                                         *\n",
      "*Entries :    18724 : Total  Size=     422665 bytes  File Size  =     209282 *\n",
      "*Baskets :       16 : Basket Size=      32000 bytes  Compression=   2.02     *\n",
      "*............................................................................*\n",
      "*Br   12 :times     : vector<double>                                         *\n",
      "*Entries :    18724 : Total  Size=     422605 bytes  File Size  =     184325 *\n",
      "*Baskets :       16 : Basket Size=      32000 bytes  Compression=   2.29     *\n",
      "*............................................................................*\n",
      "*Br   13 :statuses  : vector<int>                                            *\n",
      "*Entries :    18724 : Total  Size=     343197 bytes  File Size  =      40818 *\n",
      "*Baskets :       14 : Basket Size=      32000 bytes  Compression=   8.39     *\n",
      "*............................................................................*\n",
      "*Br   14 :trace     : vector<short>                                          *\n",
      "*Entries :    18724 : Total  Size=    4284252 bytes  File Size  =    2474283 *\n",
      "*Baskets :      137 : Basket Size=      32000 bytes  Compression=   1.73     *\n",
      "*............................................................................*\n",
      "*Br   15 :laserHits : vector<short>                                          *\n",
      "*Entries :    18724 : Total  Size=     303373 bytes  File Size  =      35508 *\n",
      "*Baskets :       12 : Basket Size=      32000 bytes  Compression=   8.53     *\n",
      "*............................................................................*\n"
     ]
    }
   ],
   "source": [
    "f = r.TFile(\"./weird_islands_calo11_xtal18.root\")\n",
    "t = f.Get(\"fitDisplay1/fits/fitTree\")\n",
    "t.Print()"
   ]
  },
  {
   "cell_type": "code",
   "execution_count": 3,
   "metadata": {},
   "outputs": [
    {
     "name": "stdout",
     "output_type": "stream",
     "text": [
      "{0.0, 1.0, 2.0, 3.0, 4.0, 5.0}\n"
     ]
    },
    {
     "data": {
      "image/png": "[encoded data removed]",
      "text/plain": [
       "<IPython.core.display.Image object>"
      ]
     },
     "metadata": {},
     "output_type": "display_data"
    }
   ],
   "source": [
    "c = r.TCanvas()\n",
    "events = t.Draw(\"islandNums>>hist(200,0,100)\",\"fillNum == 46\")\n",
    "print(set([t.GetV1()[i] for i in range(events)]))\n",
    "c.Draw()"
   ]
  },
  {
   "cell_type": "code",
   "execution_count": 4,
   "metadata": {},
   "outputs": [],
   "source": [
    "def returnXtalIslands(f, folderName, calo, xtal, fillNum, island):\n",
    "    '''\n",
    "        Function to plot the calo islands stored in tree t.\n",
    "        Inputs: file containing data, folder name which has the tree/spline, calo, xtal, fill, island\n",
    "        Outputs: canvas, histograms in vector\n",
    "    '''\n",
    "    t = f.Get(folderName+\"/fits/fitTree\")\n",
    "    \n",
    "    cutString = (\"caloNum == \"+str(calo)\n",
    "              +\" && xtalNum == \"+str(xtal)\n",
    "              +\" && fillNum == \"+str(fillNum)\n",
    "              #+\" && chi2 < 100\"\n",
    "            )    \n",
    "    \n",
    "    t.Draw(\"subRunNum\",cutString,\"goff\")\n",
    "    subrun = int(t.GetV1()[0])\n",
    "    #print(\"Subrun\", subrun)\n",
    "    n_entries = t.BuildIndex('fillNum*(subRunNum=={})'.format(subrun),\n",
    "                             'islandNums[0]*(xtalNum == 0 && subRunNum == {}) - 1*(xtalNum!=0)'.format(subrun))\n",
    "    \n",
    "    \n",
    "    entries = []\n",
    "    islandNums = [island]\n",
    "    #print(islandNums)\n",
    "    for island in islandNums:\n",
    "        entry_num = t.GetEntryNumberWithIndex(fillNum, island) \n",
    "        #print(island, entry_num)\n",
    "        if(entry_num > -0.01):\n",
    "            entries.append(entry_num + xtal)\n",
    "    #print(entries)\n",
    "    \n",
    "    if(len(entries) < 1):\n",
    "        print(\"Error: This island does not exist\")\n",
    "        return 0\n",
    "    \n",
    "    islandLengths = []\n",
    "    energies = []\n",
    "    pedestals = []\n",
    "    islandNums = []\n",
    "    chiSquare = []\n",
    "    statuses = []\n",
    "    laserHits = []\n",
    "    times = []\n",
    "    firstSamples = []\n",
    "    traces = []\n",
    "    graphs = []\n",
    "\n",
    "    for entry in entries:\n",
    "        t.GetEntry(entry)\n",
    "\n",
    "        islandLengths.append(t.islandLengths[0])\n",
    "        energies.append([x for x in t.energies])\n",
    "        pedestals.append(t.pedestal)\n",
    "        islandNums.append(t.islandNums[0])\n",
    "        chiSquare.append(t.chi2)\n",
    "        statuses.append([x for x in t.statuses])\n",
    "        laserHits.append([x for x in t.laserHits])\n",
    "        times.append([x for x in t.times])\n",
    "        firstSamples.append(t.firstSampleNums[0])\n",
    "        traces.append( [x for x in t.trace] )\n",
    "\n",
    "    ding = {\"lenghts\":islandLengths, \n",
    "            \"energies\":energies, \n",
    "            \"pedestals\":pedestals, \n",
    "            \"islandNums\":islandNums, \n",
    "            \"chiSquare\":chiSquare, \n",
    "            \"statuses\":statuses, \n",
    "            \"laserHits\":laserHits, \n",
    "            \"times\":times, \n",
    "            \"firstSamples\":firstSamples, \n",
    "            \"traces\":traces}\n",
    "    for i, trace in enumerate(traces):\n",
    "        gri = r.TGraph()\n",
    "        for j, ti in enumerate(trace):\n",
    "            gri.SetPoint(j, j, ti)\n",
    "        gri.SetMarkerSize(0.6)\n",
    "        gri.SetMarkerStyle(8)\n",
    "        gri.SetTitle(\"Trace: Calo \"+str(calo)+\", Xtal \"+str(xtal)+\" in Fill \"+str(fillNum)+\", Island \"+str(islandNums[i])\n",
    "                     +\"; Sample Number; Amplitude [ADC Units]\")\n",
    "        graphs.append(gri)\n",
    "    #print(graphs)\n",
    "\n",
    "    spline = f.Get(folderName).Get(\"splines\").Get(\"laser\"+str(xtal))\n",
    "    beamspline = f.Get(folderName).Get(\"splines\").Get(\"beam\"+str(xtal))\n",
    "    #print(spline)\n",
    "    \n",
    "    whichGraph = 0\n",
    "    splineGraphs = []\n",
    "    for whichGraph in range(len(traces)):\n",
    "\n",
    "        splineGraphsi = []\n",
    "        allSplineScaled = []\n",
    "\n",
    "        for fiti in range(len(times[whichGraph])):\n",
    "            splineScaled = []\n",
    "            offset = times[whichGraph][fiti] - firstSamples[whichGraph]\n",
    "            #print(offset)\n",
    "            for i in range(len(traces[whichGraph])):\n",
    "                splineScaled.append( spline.Eval(i - offset)*energies[whichGraph][fiti] + pedestals[whichGraph] )\n",
    "            #print(splineScaled)\n",
    "            allSplineScaled.append(splineScaled)\n",
    "\n",
    "            splineGraph = r.TGraph()\n",
    "            for i, si in enumerate(splineScaled):\n",
    "                splineGraph.SetPoint(i, i, si)\n",
    "            splineGraph.SetLineColor(fiti+2)\n",
    "            splineGraphsi.append(splineGraph)\n",
    "\n",
    "        if( len(times[whichGraph]) > 1):\n",
    "            splineGraph = r.TGraph()\n",
    "            totalSpline = [pedestals[whichGraph] for x in range(len(allSplineScaled[0]))]\n",
    "            for i, si in enumerate(allSplineScaled):\n",
    "                for ii, sii in enumerate(si):\n",
    "                    totalSpline[ii] += sii - pedestals[whichGraph]\n",
    "\n",
    "            for i, si in enumerate(totalSpline):\n",
    "                splineGraph.SetPoint(i, i, si )\n",
    "\n",
    "            splineGraph.SetLineColor(9)\n",
    "            splineGraphsi.append(splineGraph)\n",
    "\n",
    "        splineGraphs.append(splineGraphsi)\n",
    "        \n",
    "        \n",
    "    textBoxes = []\n",
    "    for i in range(len(traces)):\n",
    "        pt = r.TPaveText(0.45,0.45,0.87,0.87,\"ndc\");\n",
    "        for j in range(len(energies[i])):\n",
    "            pt.AddText(\"E_{0} = \"+str(round(energies[i][j],2)))\n",
    "            pt.AddText(\"t_{0} = \"+str(round(times[i][j],2)))\n",
    "            pt.AddText(\"Pedestal = \"+str(pedestals[i]))\n",
    "            pt.AddText(\"Status = \"+str(statuses[i]))\n",
    "            pt.AddText(\"Laser Hit = \"+str(laserHits[i][j]))\n",
    "            pt.AddText(\"#chi^{2} = \"+str(round(chiSquare[i],2)))\n",
    "            pt.AddText(\" \")\n",
    "            pt.AddLine()\n",
    "\n",
    "        textBoxes.append(pt)\n",
    "    #print(textBoxes)\n",
    "    \n",
    "    if(len(traces) > 1):\n",
    "        c = r.TCanvas(\"c\",\"c\", int(np.ceil((len(traces)/2)))*600, 2*600)\n",
    "        c.Divide(int(np.ceil((len(traces)/2))), 2)\n",
    "        for i in range(len(traces)):\n",
    "            c.cd(i+1)\n",
    "            graphs[i].Draw(\"ap\")\n",
    "            for si in splineGraphs[i]:\n",
    "                si.Draw(\"l same\")\n",
    "            textBoxes[i].Draw(\"SAME\")\n",
    "    else:\n",
    "        c = r.TCanvas(\"c\",\"c\", 1200,600)\n",
    "        for i in range(len(traces)):\n",
    "            graphs[i].Draw(\"ap\")\n",
    "            for si in splineGraphs[i]:\n",
    "                si.Draw(\"l same\")\n",
    "            textBoxes[i].Draw(\"SAME\")\n",
    "\n",
    "    c.Draw()\n",
    "    return {\"canvas\":c, \"graphs\":graphs, \"text\":textBoxes, \"splines\":splineGraphs, \"rawinfo\":ding}\n",
    "    "
   ]
  },
  {
   "cell_type": "code",
   "execution_count": 12,
   "metadata": {},
   "outputs": [
    {
     "name": "stdout",
     "output_type": "stream",
     "text": [
      "[[2134.8095847533937, 5001.434764855458, 1140.7950186686874, 1102.8830335649275, 1793.2191140339498]]\n"
     ]
    },
    {
     "name": "stderr",
     "output_type": "stream",
     "text": [
      "Warning in <TCanvas::Constructor>: Deleting canvas with same name: c\n"
     ]
    },
    {
     "data": {
      "image/png": "[encoded data removed]",
      "text/plain": [
       "<IPython.core.display.Image object>"
      ]
     },
     "metadata": {},
     "output_type": "display_data"
    }
   ],
   "source": [
    "plots = returnXtalIslands(f, \"fitDisplay1\", 11, 18, 46, 2)\n",
    "print(plots['rawinfo']['energies'])"
   ]
  },
  {
   "cell_type": "code",
   "execution_count": 6,
   "metadata": {},
   "outputs": [
    {
     "data": {
      "image/png": "[encoded data removed]",
      "text/plain": [
       "<IPython.core.display.Image object>"
      ]
     },
     "metadata": {},
     "output_type": "display_data"
    }
   ],
   "source": [
    "c = r.TCanvas()\n",
    "plots['splines'][0][0].Draw()\n",
    "c.Draw()"
   ]
  },
  {
   "cell_type": "code",
   "execution_count": null,
   "metadata": {},
   "outputs": [],
   "source": []
  },
  {
   "cell_type": "code",
   "execution_count": null,
   "metadata": {},
   "outputs": [],
   "source": []
  }
 ],
 "metadata": {
  "kernelspec": {
   "display_name": "Python 3",
   "language": "python",
   "name": "python3"
  },
  "language_info": {
   "codemirror_mode": {
    "name": "ipython",
    "version": 3
   },
   "file_extension": ".py",
   "mimetype": "text/x-python",
   "name": "python",
   "nbconvert_exporter": "python",
   "pygments_lexer": "ipython3",
   "version": "3.6.8"
  }
 },
 "nbformat": 4,
 "nbformat_minor": 2
}
