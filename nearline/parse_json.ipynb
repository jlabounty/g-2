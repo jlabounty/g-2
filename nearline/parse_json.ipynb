{
 "cells": [
  {
   "cell_type": "code",
   "execution_count": 11,
   "metadata": {},
   "outputs": [
    {
     "name": "stdout",
     "output_type": "stream",
     "text": [
      "dict_keys(['/MIDAS version', '/MIDAS git revision', '/filename', '/ODB path', 'Experiment', 'System', 'Programs', 'Logger', 'Runinfo', 'Alarms', 'Sequencer', 'Equipment', 'DQM', 'History', 'Custom', 'Script', 'CustomScript', 'Elog', 'MSCB'])\n",
      "[['32006', '5']]\n"
     ]
    }
   ],
   "source": [
    "import json\n",
    "files = ['run32006.json']\n",
    "# files = [ '/data1/gm2/' + x for x in os.listdir('/data1/gm2/') ] #for example\n",
    "runs = []\n",
    "for file in files:\n",
    "    if(\"json\" not in file):\n",
    "        continue\n",
    "    with open(file,\"r\") as f:\n",
    "        data = json.load(f)\n",
    "        print(data.keys())\n",
    "        mode = data['Equipment']['AMC1325']['Laser']['Configuration']['LaserMode']\n",
    "        runs.append([file.split(\"run\")[1].split(\".\")[0], mode ])\n",
    "print(runs)"
   ]
  },
  {
   "cell_type": "code",
   "execution_count": null,
   "metadata": {},
   "outputs": [],
   "source": []
  }
 ],
 "metadata": {
  "kernelspec": {
   "display_name": "Python 3",
   "language": "python",
   "name": "python3"
  },
  "language_info": {
   "codemirror_mode": {
    "name": "ipython",
    "version": 3
   },
   "file_extension": ".py",
   "mimetype": "text/x-python",
   "name": "python",
   "nbconvert_exporter": "python",
   "pygments_lexer": "ipython3",
   "version": "3.7.6"
  }
 },
 "nbformat": 4,
 "nbformat_minor": 4
}
