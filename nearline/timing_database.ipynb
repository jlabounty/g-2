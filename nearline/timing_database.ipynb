{
 "cells": [
  {
   "cell_type": "code",
   "execution_count": 1,
   "metadata": {},
   "outputs": [
    {
     "name": "stdout",
     "output_type": "stream",
     "text": [
      "The history saving thread hit an unexpected error (DatabaseError('database disk image is malformed',)).History will not be written to the database.\n",
      "Welcome to JupyROOT 6.12/06\n"
     ]
    }
   ],
   "source": [
    "#General imports.\n",
    "import ROOT as r\n",
    "import math\n",
    "from BlindersPy3 import Blinders\n",
    "from BlindersPy3 import FitType\n",
    "r.gStyle.SetOptStat(0)\n",
    "r.gStyle.SetOptFit(1111)\n",
    "import matplotlib.pyplot as plt\n",
    "import csv\n",
    "import pandas\n",
    "\n",
    "import seaborn as sns\n",
    "sns.set(style=\"ticks\", color_codes=True)\n",
    "import numpy as np\n",
    "import matplotlib.pyplot as plt\n",
    "import matplotlib \n",
    "matplotlib.rc('xtick', labelsize=20) \n",
    "matplotlib.rc('ytick', labelsize=20) \n",
    "import os\n",
    "import scipy\n",
    "\n",
    "import uproot # https://indico.cern.ch/event/686641/contributions/2894906/attachments/1606247/2548596/pivarski-uproot.pdf\n",
    "from awkward import JaggedArray\n",
    "from root_pandas import read_root # https://github.com/scikit-hep/root_pandas\n",
    "\n",
    "import warnings\n",
    "warnings.filterwarnings('once')\n",
    "\n",
    "%matplotlib inline\n",
    "plt.rcParams['figure.facecolor'] = 'white'"
   ]
  },
  {
   "cell_type": "code",
   "execution_count": 33,
   "metadata": {},
   "outputs": [],
   "source": [
    "import sqlite3\n",
    "conn = sqlite3.connect('v9_timing.db')"
   ]
  },
  {
   "cell_type": "code",
   "execution_count": 34,
   "metadata": {},
   "outputs": [],
   "source": [
    "c = conn.cursor()"
   ]
  },
  {
   "cell_type": "code",
   "execution_count": 35,
   "metadata": {},
   "outputs": [
    {
     "name": "stdout",
     "output_type": "stream",
     "text": [
      "[('TimeSource',), ('TimeEvent',), ('TimeModule',)]\n"
     ]
    }
   ],
   "source": [
    "c.execute(\"SELECT name FROM sqlite_master WHERE type='table';\")\n",
    "print(c.fetchall())"
   ]
  },
  {
   "cell_type": "code",
   "execution_count": 36,
   "metadata": {},
   "outputs": [],
   "source": [
    "TimeSource = pandas.read_sql_query(\"SELECT * from TimeSource\", conn)\n",
    "TimeEvent = pandas.read_sql_query(\"SELECT * from TimeEvent\", conn)\n",
    "TimeModule = pandas.read_sql_query(\"SELECT * from TimeModule\", conn)"
   ]
  },
  {
   "cell_type": "code",
   "execution_count": 37,
   "metadata": {},
   "outputs": [
    {
     "data": {
      "text/html": [
       "<div>\n",
       "<style scoped>\n",
       "    .dataframe tbody tr th:only-of-type {\n",
       "        vertical-align: middle;\n",
       "    }\n",
       "\n",
       "    .dataframe tbody tr th {\n",
       "        vertical-align: top;\n",
       "    }\n",
       "\n",
       "    .dataframe thead th {\n",
       "        text-align: right;\n",
       "    }\n",
       "</style>\n",
       "<table border=\"1\" class=\"dataframe\">\n",
       "  <thead>\n",
       "    <tr style=\"text-align: right;\">\n",
       "      <th></th>\n",
       "      <th>Run</th>\n",
       "      <th>SubRun</th>\n",
       "      <th>Event</th>\n",
       "      <th>Source</th>\n",
       "      <th>Time</th>\n",
       "    </tr>\n",
       "  </thead>\n",
       "  <tbody>\n",
       "    <tr>\n",
       "      <th>0</th>\n",
       "      <td>17969</td>\n",
       "      <td>71</td>\n",
       "      <td>1</td>\n",
       "      <td>MidasBankInput</td>\n",
       "      <td>0.000023</td>\n",
       "    </tr>\n",
       "    <tr>\n",
       "      <th>1</th>\n",
       "      <td>17969</td>\n",
       "      <td>71</td>\n",
       "      <td>2</td>\n",
       "      <td>MidasBankInput</td>\n",
       "      <td>0.000003</td>\n",
       "    </tr>\n",
       "    <tr>\n",
       "      <th>2</th>\n",
       "      <td>17969</td>\n",
       "      <td>71</td>\n",
       "      <td>3</td>\n",
       "      <td>MidasBankInput</td>\n",
       "      <td>0.000003</td>\n",
       "    </tr>\n",
       "    <tr>\n",
       "      <th>3</th>\n",
       "      <td>17969</td>\n",
       "      <td>71</td>\n",
       "      <td>4</td>\n",
       "      <td>MidasBankInput</td>\n",
       "      <td>0.000005</td>\n",
       "    </tr>\n",
       "    <tr>\n",
       "      <th>4</th>\n",
       "      <td>17969</td>\n",
       "      <td>71</td>\n",
       "      <td>5</td>\n",
       "      <td>MidasBankInput</td>\n",
       "      <td>0.000003</td>\n",
       "    </tr>\n",
       "  </tbody>\n",
       "</table>\n",
       "</div>"
      ],
      "text/plain": [
       "     Run  SubRun  Event          Source      Time\n",
       "0  17969      71      1  MidasBankInput  0.000023\n",
       "1  17969      71      2  MidasBankInput  0.000003\n",
       "2  17969      71      3  MidasBankInput  0.000003\n",
       "3  17969      71      4  MidasBankInput  0.000005\n",
       "4  17969      71      5  MidasBankInput  0.000003"
      ]
     },
     "execution_count": 37,
     "metadata": {},
     "output_type": "execute_result"
    }
   ],
   "source": [
    "TimeSource.head()"
   ]
  },
  {
   "cell_type": "code",
   "execution_count": 7,
   "metadata": {},
   "outputs": [
    {
     "data": {
      "image/png": "[encoded data removed]",
      "text/plain": [
       "<Figure size 216x432 with 1 Axes>"
      ]
     },
     "metadata": {},
     "output_type": "display_data"
    }
   ],
   "source": [
    "fig, ax = plt.subplots(figsize=(3,6))\n",
    "sns.boxplot(x=\"Source\", y=\"Time\", data=TimeSource)\n",
    "\n",
    "plt.xticks(rotation=0)\n",
    "plt.grid()\n",
    "#plt.yscale('log')\n",
    "plt.show()"
   ]
  },
  {
   "cell_type": "code",
   "execution_count": 8,
   "metadata": {},
   "outputs": [
    {
     "data": {
      "image/png": "[encoded data removed]",
      "text/plain": [
       "<Figure size 432x288 with 1 Axes>"
      ]
     },
     "metadata": {},
     "output_type": "display_data"
    }
   ],
   "source": [
    "plt.hist(TimeSource['Time'],bins=100,range=(0,0.0001))\n",
    "plt.yscale('log')\n",
    "plt.xticks(rotation=90)\n",
    "plt.show()"
   ]
  },
  {
   "cell_type": "code",
   "execution_count": 9,
   "metadata": {},
   "outputs": [
    {
     "data": {
      "text/html": [
       "<div>\n",
       "<style scoped>\n",
       "    .dataframe tbody tr th:only-of-type {\n",
       "        vertical-align: middle;\n",
       "    }\n",
       "\n",
       "    .dataframe tbody tr th {\n",
       "        vertical-align: top;\n",
       "    }\n",
       "\n",
       "    .dataframe thead th {\n",
       "        text-align: right;\n",
       "    }\n",
       "</style>\n",
       "<table border=\"1\" class=\"dataframe\">\n",
       "  <thead>\n",
       "    <tr style=\"text-align: right;\">\n",
       "      <th></th>\n",
       "      <th>Run</th>\n",
       "      <th>SubRun</th>\n",
       "      <th>Event</th>\n",
       "      <th>Time</th>\n",
       "    </tr>\n",
       "  </thead>\n",
       "  <tbody>\n",
       "    <tr>\n",
       "      <th>0</th>\n",
       "      <td>17969</td>\n",
       "      <td>71</td>\n",
       "      <td>1</td>\n",
       "      <td>0.104054</td>\n",
       "    </tr>\n",
       "    <tr>\n",
       "      <th>1</th>\n",
       "      <td>17969</td>\n",
       "      <td>71</td>\n",
       "      <td>2</td>\n",
       "      <td>0.236796</td>\n",
       "    </tr>\n",
       "    <tr>\n",
       "      <th>2</th>\n",
       "      <td>17969</td>\n",
       "      <td>71</td>\n",
       "      <td>3</td>\n",
       "      <td>0.008053</td>\n",
       "    </tr>\n",
       "    <tr>\n",
       "      <th>3</th>\n",
       "      <td>17969</td>\n",
       "      <td>71</td>\n",
       "      <td>4</td>\n",
       "      <td>1.206120</td>\n",
       "    </tr>\n",
       "    <tr>\n",
       "      <th>4</th>\n",
       "      <td>17969</td>\n",
       "      <td>71</td>\n",
       "      <td>5</td>\n",
       "      <td>0.008013</td>\n",
       "    </tr>\n",
       "  </tbody>\n",
       "</table>\n",
       "</div>"
      ],
      "text/plain": [
       "     Run  SubRun  Event      Time\n",
       "0  17969      71      1  0.104054\n",
       "1  17969      71      2  0.236796\n",
       "2  17969      71      3  0.008053\n",
       "3  17969      71      4  1.206120\n",
       "4  17969      71      5  0.008013"
      ]
     },
     "execution_count": 9,
     "metadata": {},
     "output_type": "execute_result"
    }
   ],
   "source": [
    "TimeEvent.head()"
   ]
  },
  {
   "cell_type": "code",
   "execution_count": 10,
   "metadata": {},
   "outputs": [
    {
     "name": "stdout",
     "output_type": "stream",
     "text": [
      "Total Event Time:  92.14490542799999\n"
     ]
    }
   ],
   "source": [
    "print(\"Total Event Time: \", TimeEvent['Time'].sum())"
   ]
  },
  {
   "cell_type": "code",
   "execution_count": 11,
   "metadata": {},
   "outputs": [
    {
     "data": {
      "image/png": "[encoded data removed]",
      "text/plain": [
       "<Figure size 432x288 with 1 Axes>"
      ]
     },
     "metadata": {},
     "output_type": "display_data"
    }
   ],
   "source": [
    "plt.plot(TimeEvent['Event'],TimeEvent['Time'])\n",
    "plt.show()"
   ]
  },
  {
   "cell_type": "code",
   "execution_count": 12,
   "metadata": {},
   "outputs": [
    {
     "data": {
      "image/png": "[encoded data removed]",
      "text/plain": [
       "<Figure size 432x288 with 1 Axes>"
      ]
     },
     "metadata": {},
     "output_type": "display_data"
    }
   ],
   "source": [
    "plt.hist(TimeEvent['Time'],bins=20,range=(0,2))\n",
    "plt.show()"
   ]
  },
  {
   "cell_type": "code",
   "execution_count": 13,
   "metadata": {},
   "outputs": [
    {
     "data": {
      "text/html": [
       "<div>\n",
       "<style scoped>\n",
       "    .dataframe tbody tr th:only-of-type {\n",
       "        vertical-align: middle;\n",
       "    }\n",
       "\n",
       "    .dataframe tbody tr th {\n",
       "        vertical-align: top;\n",
       "    }\n",
       "\n",
       "    .dataframe thead th {\n",
       "        text-align: right;\n",
       "    }\n",
       "</style>\n",
       "<table border=\"1\" class=\"dataframe\">\n",
       "  <thead>\n",
       "    <tr style=\"text-align: right;\">\n",
       "      <th></th>\n",
       "      <th>Run</th>\n",
       "      <th>SubRun</th>\n",
       "      <th>Event</th>\n",
       "      <th>Path</th>\n",
       "      <th>ModuleLabel</th>\n",
       "      <th>ModuleType</th>\n",
       "      <th>Time</th>\n",
       "    </tr>\n",
       "  </thead>\n",
       "  <tbody>\n",
       "    <tr>\n",
       "      <th>0</th>\n",
       "      <td>17969</td>\n",
       "      <td>71</td>\n",
       "      <td>1</td>\n",
       "      <td>muonPath</td>\n",
       "      <td>fzInflater</td>\n",
       "      <td>FZInflater</td>\n",
       "      <td>0.006142</td>\n",
       "    </tr>\n",
       "    <tr>\n",
       "      <th>1</th>\n",
       "      <td>17969</td>\n",
       "      <td>71</td>\n",
       "      <td>1</td>\n",
       "      <td>muonPath</td>\n",
       "      <td>utcaUnpacker</td>\n",
       "      <td>UTCAUnpacker</td>\n",
       "      <td>0.001043</td>\n",
       "    </tr>\n",
       "    <tr>\n",
       "      <th>2</th>\n",
       "      <td>17969</td>\n",
       "      <td>71</td>\n",
       "      <td>1</td>\n",
       "      <td>muonPath</td>\n",
       "      <td>cccUnpacker</td>\n",
       "      <td>FC7Unpacker</td>\n",
       "      <td>0.002277</td>\n",
       "    </tr>\n",
       "    <tr>\n",
       "      <th>3</th>\n",
       "      <td>17969</td>\n",
       "      <td>71</td>\n",
       "      <td>1</td>\n",
       "      <td>muonPath</td>\n",
       "      <td>headerUnpacker</td>\n",
       "      <td>CaloHeaderUnpacker</td>\n",
       "      <td>0.001576</td>\n",
       "    </tr>\n",
       "    <tr>\n",
       "      <th>4</th>\n",
       "      <td>17969</td>\n",
       "      <td>71</td>\n",
       "      <td>1</td>\n",
       "      <td>muonPath</td>\n",
       "      <td>rawUnpacker</td>\n",
       "      <td>CaloRawUnpacker</td>\n",
       "      <td>0.087124</td>\n",
       "    </tr>\n",
       "  </tbody>\n",
       "</table>\n",
       "</div>"
      ],
      "text/plain": [
       "     Run  SubRun  Event      Path     ModuleLabel          ModuleType  \\\n",
       "0  17969      71      1  muonPath      fzInflater          FZInflater   \n",
       "1  17969      71      1  muonPath    utcaUnpacker        UTCAUnpacker   \n",
       "2  17969      71      1  muonPath     cccUnpacker         FC7Unpacker   \n",
       "3  17969      71      1  muonPath  headerUnpacker  CaloHeaderUnpacker   \n",
       "4  17969      71      1  muonPath     rawUnpacker     CaloRawUnpacker   \n",
       "\n",
       "       Time  \n",
       "0  0.006142  \n",
       "1  0.001043  \n",
       "2  0.002277  \n",
       "3  0.001576  \n",
       "4  0.087124  "
      ]
     },
     "execution_count": 13,
     "metadata": {},
     "output_type": "execute_result"
    }
   ],
   "source": [
    "TimeModule.head()"
   ]
  },
  {
   "cell_type": "code",
   "execution_count": 14,
   "metadata": {},
   "outputs": [
    {
     "data": {
      "text/html": [
       "<div>\n",
       "<style scoped>\n",
       "    .dataframe tbody tr th:only-of-type {\n",
       "        vertical-align: middle;\n",
       "    }\n",
       "\n",
       "    .dataframe tbody tr th {\n",
       "        vertical-align: top;\n",
       "    }\n",
       "\n",
       "    .dataframe thead th {\n",
       "        text-align: right;\n",
       "    }\n",
       "</style>\n",
       "<table border=\"1\" class=\"dataframe\">\n",
       "  <thead>\n",
       "    <tr style=\"text-align: right;\">\n",
       "      <th></th>\n",
       "      <th>Run</th>\n",
       "      <th>SubRun</th>\n",
       "      <th>Event</th>\n",
       "      <th>Time</th>\n",
       "    </tr>\n",
       "  </thead>\n",
       "  <tbody>\n",
       "    <tr>\n",
       "      <th>count</th>\n",
       "      <td>7460.0</td>\n",
       "      <td>7460.0</td>\n",
       "      <td>7460.000000</td>\n",
       "      <td>7460.000000</td>\n",
       "    </tr>\n",
       "    <tr>\n",
       "      <th>mean</th>\n",
       "      <td>17969.0</td>\n",
       "      <td>71.0</td>\n",
       "      <td>47.364611</td>\n",
       "      <td>0.012338</td>\n",
       "    </tr>\n",
       "    <tr>\n",
       "      <th>std</th>\n",
       "      <td>0.0</td>\n",
       "      <td>0.0</td>\n",
       "      <td>26.913805</td>\n",
       "      <td>0.064877</td>\n",
       "    </tr>\n",
       "    <tr>\n",
       "      <th>min</th>\n",
       "      <td>17969.0</td>\n",
       "      <td>71.0</td>\n",
       "      <td>1.000000</td>\n",
       "      <td>0.000005</td>\n",
       "    </tr>\n",
       "    <tr>\n",
       "      <th>25%</th>\n",
       "      <td>17969.0</td>\n",
       "      <td>71.0</td>\n",
       "      <td>24.000000</td>\n",
       "      <td>0.000102</td>\n",
       "    </tr>\n",
       "    <tr>\n",
       "      <th>50%</th>\n",
       "      <td>17969.0</td>\n",
       "      <td>71.0</td>\n",
       "      <td>47.000000</td>\n",
       "      <td>0.000423</td>\n",
       "    </tr>\n",
       "    <tr>\n",
       "      <th>75%</th>\n",
       "      <td>17969.0</td>\n",
       "      <td>71.0</td>\n",
       "      <td>70.000000</td>\n",
       "      <td>0.001689</td>\n",
       "    </tr>\n",
       "    <tr>\n",
       "      <th>max</th>\n",
       "      <td>17969.0</td>\n",
       "      <td>71.0</td>\n",
       "      <td>93.000000</td>\n",
       "      <td>1.053334</td>\n",
       "    </tr>\n",
       "  </tbody>\n",
       "</table>\n",
       "</div>"
      ],
      "text/plain": [
       "           Run  SubRun        Event         Time\n",
       "count   7460.0  7460.0  7460.000000  7460.000000\n",
       "mean   17969.0    71.0    47.364611     0.012338\n",
       "std        0.0     0.0    26.913805     0.064877\n",
       "min    17969.0    71.0     1.000000     0.000005\n",
       "25%    17969.0    71.0    24.000000     0.000102\n",
       "50%    17969.0    71.0    47.000000     0.000423\n",
       "75%    17969.0    71.0    70.000000     0.001689\n",
       "max    17969.0    71.0    93.000000     1.053334"
      ]
     },
     "execution_count": 14,
     "metadata": {},
     "output_type": "execute_result"
    }
   ],
   "source": [
    "TimeModule.describe()"
   ]
  },
  {
   "cell_type": "code",
   "execution_count": 39,
   "metadata": {},
   "outputs": [
    {
     "data": {
      "image/png": "[encoded data removed]",
      "text/plain": [
       "<Figure size 1296x432 with 1 Axes>"
      ]
     },
     "metadata": {},
     "output_type": "display_data"
    }
   ],
   "source": [
    "fig, ax = plt.subplots(figsize=(18,6))\n",
    "sns.boxplot(x=\"ModuleType\", y=\"Time\", data=TimeModule)\n",
    "\n",
    "plt.xticks(rotation=90)\n",
    "plt.grid()\n",
    "plt.yscale('log')\n",
    "plt.ylim(10**(-6),3.5)\n",
    "plt.show()"
   ]
  },
  {
   "cell_type": "code",
   "execution_count": 19,
   "metadata": {},
   "outputs": [
    {
     "name": "stdout",
     "output_type": "stream",
     "text": [
      "Total Module Time:  18.44912988\n"
     ]
    }
   ],
   "source": [
    "print(\"Total Module Time: \", TimeModule['Time'].sum())"
   ]
  },
  {
   "cell_type": "code",
   "execution_count": 38,
   "metadata": {},
   "outputs": [
    {
     "data": {
      "image/png": "[encoded data removed]",
      "text/plain": [
       "<Figure size 432x288 with 1 Axes>"
      ]
     },
     "metadata": {},
     "output_type": "display_data"
    }
   ],
   "source": [
    "plt.hist(TimeModule['Time'],bins=20,range=(0,1))\n",
    "plt.yscale('log')\n",
    "plt.show()"
   ]
  },
  {
   "cell_type": "code",
   "execution_count": 12,
   "metadata": {},
   "outputs": [],
   "source": [
    "IslandTemplateFit = TimeModule.loc[TimeModule['ModuleType'] == 'IslandTemplateFit']"
   ]
  },
  {
   "cell_type": "code",
   "execution_count": 40,
   "metadata": {},
   "outputs": [
    {
     "data": {
      "text/html": [
       "<div>\n",
       "<style scoped>\n",
       "    .dataframe tbody tr th:only-of-type {\n",
       "        vertical-align: middle;\n",
       "    }\n",
       "\n",
       "    .dataframe tbody tr th {\n",
       "        vertical-align: top;\n",
       "    }\n",
       "\n",
       "    .dataframe thead th {\n",
       "        text-align: right;\n",
       "    }\n",
       "</style>\n",
       "<table border=\"1\" class=\"dataframe\">\n",
       "  <thead>\n",
       "    <tr style=\"text-align: right;\">\n",
       "      <th></th>\n",
       "      <th>Run</th>\n",
       "      <th>SubRun</th>\n",
       "      <th>Event</th>\n",
       "      <th>Path</th>\n",
       "      <th>ModuleLabel</th>\n",
       "      <th>ModuleType</th>\n",
       "      <th>Time</th>\n",
       "    </tr>\n",
       "  </thead>\n",
       "  <tbody>\n",
       "    <tr>\n",
       "      <th>17</th>\n",
       "      <td>17969</td>\n",
       "      <td>71</td>\n",
       "      <td>2</td>\n",
       "      <td>muonPath</td>\n",
       "      <td>islandFitterDAQ</td>\n",
       "      <td>IslandTemplateFit</td>\n",
       "      <td>0.096018</td>\n",
       "    </tr>\n",
       "    <tr>\n",
       "      <th>50</th>\n",
       "      <td>17969</td>\n",
       "      <td>71</td>\n",
       "      <td>4</td>\n",
       "      <td>muonPath</td>\n",
       "      <td>islandFitterDAQ</td>\n",
       "      <td>IslandTemplateFit</td>\n",
       "      <td>0.669766</td>\n",
       "    </tr>\n",
       "    <tr>\n",
       "      <th>83</th>\n",
       "      <td>17969</td>\n",
       "      <td>71</td>\n",
       "      <td>6</td>\n",
       "      <td>muonPath</td>\n",
       "      <td>islandFitterDAQ</td>\n",
       "      <td>IslandTemplateFit</td>\n",
       "      <td>0.029149</td>\n",
       "    </tr>\n",
       "    <tr>\n",
       "      <th>116</th>\n",
       "      <td>17969</td>\n",
       "      <td>71</td>\n",
       "      <td>8</td>\n",
       "      <td>muonPath</td>\n",
       "      <td>islandFitterDAQ</td>\n",
       "      <td>IslandTemplateFit</td>\n",
       "      <td>0.436400</td>\n",
       "    </tr>\n",
       "    <tr>\n",
       "      <th>157</th>\n",
       "      <td>17969</td>\n",
       "      <td>71</td>\n",
       "      <td>11</td>\n",
       "      <td>muonPath</td>\n",
       "      <td>islandFitterDAQ</td>\n",
       "      <td>IslandTemplateFit</td>\n",
       "      <td>0.042295</td>\n",
       "    </tr>\n",
       "  </tbody>\n",
       "</table>\n",
       "</div>"
      ],
      "text/plain": [
       "       Run  SubRun  Event      Path      ModuleLabel         ModuleType  \\\n",
       "17   17969      71      2  muonPath  islandFitterDAQ  IslandTemplateFit   \n",
       "50   17969      71      4  muonPath  islandFitterDAQ  IslandTemplateFit   \n",
       "83   17969      71      6  muonPath  islandFitterDAQ  IslandTemplateFit   \n",
       "116  17969      71      8  muonPath  islandFitterDAQ  IslandTemplateFit   \n",
       "157  17969      71     11  muonPath  islandFitterDAQ  IslandTemplateFit   \n",
       "\n",
       "         Time  \n",
       "17   0.096018  \n",
       "50   0.669766  \n",
       "83   0.029149  \n",
       "116  0.436400  \n",
       "157  0.042295  "
      ]
     },
     "execution_count": 40,
     "metadata": {},
     "output_type": "execute_result"
    }
   ],
   "source": [
    "IslandTemplateFit.head()"
   ]
  },
  {
   "cell_type": "code",
   "execution_count": 39,
   "metadata": {},
   "outputs": [
    {
     "data": {
      "image/png": "[encoded data removed]",
      "text/plain": [
       "<Figure size 432x288 with 1 Axes>"
      ]
     },
     "metadata": {},
     "output_type": "display_data"
    }
   ],
   "source": [
    "plt.hist(IslandTemplateFit['Time'],bins=50,range=(0,1))\n",
    "plt.yscale('log')\n",
    "plt.show()"
   ]
  },
  {
   "cell_type": "markdown",
   "metadata": {},
   "source": [
    "---\n",
    "\n",
    "### Compare this to the v8 version of this db"
   ]
  },
  {
   "cell_type": "code",
   "execution_count": 13,
   "metadata": {},
   "outputs": [],
   "source": [
    "import sqlite3\n",
    "conn8 = sqlite3.connect('.timing_v8.db')"
   ]
  },
  {
   "cell_type": "code",
   "execution_count": 14,
   "metadata": {},
   "outputs": [],
   "source": [
    "c8 = conn8.cursor()"
   ]
  },
  {
   "cell_type": "code",
   "execution_count": 15,
   "metadata": {},
   "outputs": [
    {
     "name": "stdout",
     "output_type": "stream",
     "text": [
      "[('TimeSource',), ('TimeEvent',), ('TimeModule',)]\n"
     ]
    }
   ],
   "source": [
    "c8.execute(\"SELECT name FROM sqlite_master WHERE type='table';\")\n",
    "print(c8.fetchall())"
   ]
  },
  {
   "cell_type": "code",
   "execution_count": 16,
   "metadata": {},
   "outputs": [],
   "source": [
    "TimeSource8 = pandas.read_sql_query(\"SELECT * from TimeSource\", conn8)\n",
    "TimeEvent8 = pandas.read_sql_query(\"SELECT * from TimeEvent\", conn8)\n",
    "TimeModule8 = pandas.read_sql_query(\"SELECT * from TimeModule\", conn8)"
   ]
  },
  {
   "cell_type": "code",
   "execution_count": 18,
   "metadata": {},
   "outputs": [
    {
     "data": {
      "text/html": [
       "<div>\n",
       "<style scoped>\n",
       "    .dataframe tbody tr th:only-of-type {\n",
       "        vertical-align: middle;\n",
       "    }\n",
       "\n",
       "    .dataframe tbody tr th {\n",
       "        vertical-align: top;\n",
       "    }\n",
       "\n",
       "    .dataframe thead th {\n",
       "        text-align: right;\n",
       "    }\n",
       "</style>\n",
       "<table border=\"1\" class=\"dataframe\">\n",
       "  <thead>\n",
       "    <tr style=\"text-align: right;\">\n",
       "      <th></th>\n",
       "      <th>Run</th>\n",
       "      <th>SubRun</th>\n",
       "      <th>Event</th>\n",
       "      <th>Source</th>\n",
       "      <th>Time</th>\n",
       "    </tr>\n",
       "  </thead>\n",
       "  <tbody>\n",
       "    <tr>\n",
       "      <th>0</th>\n",
       "      <td>17969</td>\n",
       "      <td>71</td>\n",
       "      <td>1</td>\n",
       "      <td>MidasBankInput</td>\n",
       "      <td>0.000090</td>\n",
       "    </tr>\n",
       "    <tr>\n",
       "      <th>1</th>\n",
       "      <td>17969</td>\n",
       "      <td>71</td>\n",
       "      <td>2</td>\n",
       "      <td>MidasBankInput</td>\n",
       "      <td>0.000003</td>\n",
       "    </tr>\n",
       "    <tr>\n",
       "      <th>2</th>\n",
       "      <td>17969</td>\n",
       "      <td>71</td>\n",
       "      <td>3</td>\n",
       "      <td>MidasBankInput</td>\n",
       "      <td>0.000002</td>\n",
       "    </tr>\n",
       "    <tr>\n",
       "      <th>3</th>\n",
       "      <td>17969</td>\n",
       "      <td>71</td>\n",
       "      <td>4</td>\n",
       "      <td>MidasBankInput</td>\n",
       "      <td>0.000004</td>\n",
       "    </tr>\n",
       "    <tr>\n",
       "      <th>4</th>\n",
       "      <td>17969</td>\n",
       "      <td>71</td>\n",
       "      <td>5</td>\n",
       "      <td>MidasBankInput</td>\n",
       "      <td>0.000004</td>\n",
       "    </tr>\n",
       "  </tbody>\n",
       "</table>\n",
       "</div>"
      ],
      "text/plain": [
       "     Run  SubRun  Event          Source      Time\n",
       "0  17969      71      1  MidasBankInput  0.000090\n",
       "1  17969      71      2  MidasBankInput  0.000003\n",
       "2  17969      71      3  MidasBankInput  0.000002\n",
       "3  17969      71      4  MidasBankInput  0.000004\n",
       "4  17969      71      5  MidasBankInput  0.000004"
      ]
     },
     "execution_count": 18,
     "metadata": {},
     "output_type": "execute_result"
    }
   ],
   "source": [
    "TimeSource8.head()"
   ]
  },
  {
   "cell_type": "code",
   "execution_count": 38,
   "metadata": {},
   "outputs": [
    {
     "ename": "NameError",
     "evalue": "name 'TimeModule8' is not defined",
     "output_type": "error",
     "traceback": [
      "\u001b[0;31m---------------------------------------------------------------------------\u001b[0m",
      "\u001b[0;31mNameError\u001b[0m                                 Traceback (most recent call last)",
      "\u001b[0;32m<ipython-input-38-65799e37c3be>\u001b[0m in \u001b[0;36m<module>\u001b[0;34m()\u001b[0m\n\u001b[1;32m      1\u001b[0m \u001b[0mfig\u001b[0m\u001b[0;34m,\u001b[0m \u001b[0max\u001b[0m \u001b[0;34m=\u001b[0m \u001b[0mplt\u001b[0m\u001b[0;34m.\u001b[0m\u001b[0msubplots\u001b[0m\u001b[0;34m(\u001b[0m\u001b[0mfigsize\u001b[0m\u001b[0;34m=\u001b[0m\u001b[0;34m(\u001b[0m\u001b[0;36m18\u001b[0m\u001b[0;34m,\u001b[0m\u001b[0;36m6\u001b[0m\u001b[0;34m)\u001b[0m\u001b[0;34m)\u001b[0m\u001b[0;34m\u001b[0m\u001b[0m\n\u001b[0;32m----> 2\u001b[0;31m \u001b[0msns\u001b[0m\u001b[0;34m.\u001b[0m\u001b[0mboxplot\u001b[0m\u001b[0;34m(\u001b[0m\u001b[0mx\u001b[0m\u001b[0;34m=\u001b[0m\u001b[0;34m\"ModuleType\"\u001b[0m\u001b[0;34m,\u001b[0m \u001b[0my\u001b[0m\u001b[0;34m=\u001b[0m\u001b[0;34m\"Time\"\u001b[0m\u001b[0;34m,\u001b[0m \u001b[0mdata\u001b[0m\u001b[0;34m=\u001b[0m\u001b[0mTimeModule8\u001b[0m\u001b[0;34m)\u001b[0m\u001b[0;34m\u001b[0m\u001b[0m\n\u001b[0m\u001b[1;32m      3\u001b[0m \u001b[0;34m\u001b[0m\u001b[0m\n\u001b[1;32m      4\u001b[0m \u001b[0mplt\u001b[0m\u001b[0;34m.\u001b[0m\u001b[0mxticks\u001b[0m\u001b[0;34m(\u001b[0m\u001b[0mrotation\u001b[0m\u001b[0;34m=\u001b[0m\u001b[0;36m90\u001b[0m\u001b[0;34m)\u001b[0m\u001b[0;34m\u001b[0m\u001b[0m\n\u001b[1;32m      5\u001b[0m \u001b[0mplt\u001b[0m\u001b[0;34m.\u001b[0m\u001b[0mgrid\u001b[0m\u001b[0;34m(\u001b[0m\u001b[0;34m)\u001b[0m\u001b[0;34m\u001b[0m\u001b[0m\n",
      "\u001b[0;31mNameError\u001b[0m: name 'TimeModule8' is not defined"
     ]
    },
    {
     "data": {
      "image/png": "[encoded data removed]",
      "text/plain": [
       "<Figure size 1296x432 with 1 Axes>"
      ]
     },
     "metadata": {},
     "output_type": "display_data"
    }
   ],
   "source": [
    "fig, ax = plt.subplots(figsize=(18,6))\n",
    "sns.boxplot(x=\"ModuleType\", y=\"Time\", data=TimeModule8)\n",
    "\n",
    "plt.xticks(rotation=90)\n",
    "plt.grid()\n",
    "plt.yscale('log')\n",
    "plt.ylim(10**(-6),3.5)\n",
    "plt.show()"
   ]
  },
  {
   "cell_type": "code",
   "execution_count": null,
   "metadata": {},
   "outputs": [],
   "source": []
  },
  {
   "cell_type": "code",
   "execution_count": 20,
   "metadata": {},
   "outputs": [
    {
     "data": {
      "image/png": "[encoded data removed]",
      "text/plain": [
       "<Figure size 432x288 with 1 Axes>"
      ]
     },
     "metadata": {},
     "output_type": "display_data"
    }
   ],
   "source": [
    "plt.hist(TimeModule8['Time'],bins=20,range=(0,1))\n",
    "plt.yscale('log')\n",
    "plt.show()"
   ]
  },
  {
   "cell_type": "markdown",
   "metadata": {},
   "source": [
    "---"
   ]
  },
  {
   "cell_type": "code",
   "execution_count": 16,
   "metadata": {},
   "outputs": [],
   "source": [
    "import sqlite3\n",
    "conn = sqlite3.connect('bycalotemplates_timing.db')"
   ]
  },
  {
   "cell_type": "code",
   "execution_count": 17,
   "metadata": {},
   "outputs": [],
   "source": [
    "c = conn.cursor()"
   ]
  },
  {
   "cell_type": "code",
   "execution_count": 18,
   "metadata": {},
   "outputs": [
    {
     "name": "stdout",
     "output_type": "stream",
     "text": [
      "[('TimeSource',), ('TimeEvent',), ('TimeModule',)]\n"
     ]
    }
   ],
   "source": [
    "c.execute(\"SELECT name FROM sqlite_master WHERE type='table';\")\n",
    "print(c.fetchall())"
   ]
  },
  {
   "cell_type": "code",
   "execution_count": 19,
   "metadata": {},
   "outputs": [],
   "source": [
    "TimeSource = pandas.read_sql_query(\"SELECT * from TimeSource\", conn)\n",
    "TimeEvent = pandas.read_sql_query(\"SELECT * from TimeEvent\", conn)\n",
    "TimeModule = pandas.read_sql_query(\"SELECT * from TimeModule\", conn)"
   ]
  },
  {
   "cell_type": "code",
   "execution_count": 20,
   "metadata": {},
   "outputs": [
    {
     "data": {
      "text/html": [
       "<div>\n",
       "<style scoped>\n",
       "    .dataframe tbody tr th:only-of-type {\n",
       "        vertical-align: middle;\n",
       "    }\n",
       "\n",
       "    .dataframe tbody tr th {\n",
       "        vertical-align: top;\n",
       "    }\n",
       "\n",
       "    .dataframe thead th {\n",
       "        text-align: right;\n",
       "    }\n",
       "</style>\n",
       "<table border=\"1\" class=\"dataframe\">\n",
       "  <thead>\n",
       "    <tr style=\"text-align: right;\">\n",
       "      <th></th>\n",
       "      <th>Run</th>\n",
       "      <th>SubRun</th>\n",
       "      <th>Event</th>\n",
       "      <th>Source</th>\n",
       "      <th>Time</th>\n",
       "    </tr>\n",
       "  </thead>\n",
       "  <tbody>\n",
       "    <tr>\n",
       "      <th>0</th>\n",
       "      <td>17969</td>\n",
       "      <td>71</td>\n",
       "      <td>1</td>\n",
       "      <td>MidasBankInput</td>\n",
       "      <td>0.000022</td>\n",
       "    </tr>\n",
       "    <tr>\n",
       "      <th>1</th>\n",
       "      <td>17969</td>\n",
       "      <td>71</td>\n",
       "      <td>2</td>\n",
       "      <td>MidasBankInput</td>\n",
       "      <td>0.000003</td>\n",
       "    </tr>\n",
       "    <tr>\n",
       "      <th>2</th>\n",
       "      <td>17969</td>\n",
       "      <td>71</td>\n",
       "      <td>3</td>\n",
       "      <td>MidasBankInput</td>\n",
       "      <td>0.000002</td>\n",
       "    </tr>\n",
       "    <tr>\n",
       "      <th>3</th>\n",
       "      <td>17969</td>\n",
       "      <td>71</td>\n",
       "      <td>4</td>\n",
       "      <td>MidasBankInput</td>\n",
       "      <td>0.000005</td>\n",
       "    </tr>\n",
       "    <tr>\n",
       "      <th>4</th>\n",
       "      <td>17969</td>\n",
       "      <td>71</td>\n",
       "      <td>5</td>\n",
       "      <td>MidasBankInput</td>\n",
       "      <td>0.000003</td>\n",
       "    </tr>\n",
       "  </tbody>\n",
       "</table>\n",
       "</div>"
      ],
      "text/plain": [
       "     Run  SubRun  Event          Source      Time\n",
       "0  17969      71      1  MidasBankInput  0.000022\n",
       "1  17969      71      2  MidasBankInput  0.000003\n",
       "2  17969      71      3  MidasBankInput  0.000002\n",
       "3  17969      71      4  MidasBankInput  0.000005\n",
       "4  17969      71      5  MidasBankInput  0.000003"
      ]
     },
     "execution_count": 20,
     "metadata": {},
     "output_type": "execute_result"
    }
   ],
   "source": [
    "TimeSource.head()"
   ]
  },
  {
   "cell_type": "code",
   "execution_count": 21,
   "metadata": {},
   "outputs": [
    {
     "data": {
      "image/png": "[encoded data removed]",
      "text/plain": [
       "<Figure size 216x432 with 1 Axes>"
      ]
     },
     "metadata": {},
     "output_type": "display_data"
    }
   ],
   "source": [
    "fig, ax = plt.subplots(figsize=(3,6))\n",
    "sns.boxplot(x=\"Source\", y=\"Time\", data=TimeSource)\n",
    "\n",
    "plt.xticks(rotation=0)\n",
    "plt.grid()\n",
    "#plt.yscale('log')\n",
    "plt.show()"
   ]
  },
  {
   "cell_type": "code",
   "execution_count": 22,
   "metadata": {},
   "outputs": [
    {
     "data": {
      "image/png": "[encoded data removed]",
      "text/plain": [
       "<Figure size 432x288 with 1 Axes>"
      ]
     },
     "metadata": {},
     "output_type": "display_data"
    }
   ],
   "source": [
    "plt.hist(TimeSource['Time'],bins=100,range=(0,0.0001))\n",
    "plt.yscale('log')\n",
    "plt.xticks(rotation=90)\n",
    "plt.show()"
   ]
  },
  {
   "cell_type": "code",
   "execution_count": 23,
   "metadata": {},
   "outputs": [
    {
     "data": {
      "text/html": [
       "<div>\n",
       "<style scoped>\n",
       "    .dataframe tbody tr th:only-of-type {\n",
       "        vertical-align: middle;\n",
       "    }\n",
       "\n",
       "    .dataframe tbody tr th {\n",
       "        vertical-align: top;\n",
       "    }\n",
       "\n",
       "    .dataframe thead th {\n",
       "        text-align: right;\n",
       "    }\n",
       "</style>\n",
       "<table border=\"1\" class=\"dataframe\">\n",
       "  <thead>\n",
       "    <tr style=\"text-align: right;\">\n",
       "      <th></th>\n",
       "      <th>Run</th>\n",
       "      <th>SubRun</th>\n",
       "      <th>Event</th>\n",
       "      <th>Time</th>\n",
       "    </tr>\n",
       "  </thead>\n",
       "  <tbody>\n",
       "    <tr>\n",
       "      <th>0</th>\n",
       "      <td>17969</td>\n",
       "      <td>71</td>\n",
       "      <td>1</td>\n",
       "      <td>0.100087</td>\n",
       "    </tr>\n",
       "    <tr>\n",
       "      <th>1</th>\n",
       "      <td>17969</td>\n",
       "      <td>71</td>\n",
       "      <td>2</td>\n",
       "      <td>0.232157</td>\n",
       "    </tr>\n",
       "    <tr>\n",
       "      <th>2</th>\n",
       "      <td>17969</td>\n",
       "      <td>71</td>\n",
       "      <td>3</td>\n",
       "      <td>0.008068</td>\n",
       "    </tr>\n",
       "    <tr>\n",
       "      <th>3</th>\n",
       "      <td>17969</td>\n",
       "      <td>71</td>\n",
       "      <td>4</td>\n",
       "      <td>1.740593</td>\n",
       "    </tr>\n",
       "    <tr>\n",
       "      <th>4</th>\n",
       "      <td>17969</td>\n",
       "      <td>71</td>\n",
       "      <td>5</td>\n",
       "      <td>0.007943</td>\n",
       "    </tr>\n",
       "  </tbody>\n",
       "</table>\n",
       "</div>"
      ],
      "text/plain": [
       "     Run  SubRun  Event      Time\n",
       "0  17969      71      1  0.100087\n",
       "1  17969      71      2  0.232157\n",
       "2  17969      71      3  0.008068\n",
       "3  17969      71      4  1.740593\n",
       "4  17969      71      5  0.007943"
      ]
     },
     "execution_count": 23,
     "metadata": {},
     "output_type": "execute_result"
    }
   ],
   "source": [
    "TimeEvent.head()"
   ]
  },
  {
   "cell_type": "code",
   "execution_count": 24,
   "metadata": {},
   "outputs": [
    {
     "name": "stdout",
     "output_type": "stream",
     "text": [
      "Total Event Time:  32.0844211\n"
     ]
    }
   ],
   "source": [
    "print(\"Total Event Time: \", TimeEvent['Time'].sum())"
   ]
  },
  {
   "cell_type": "code",
   "execution_count": 25,
   "metadata": {},
   "outputs": [
    {
     "data": {
      "image/png": "[encoded data removed]",
      "text/plain": [
       "<Figure size 432x288 with 1 Axes>"
      ]
     },
     "metadata": {},
     "output_type": "display_data"
    }
   ],
   "source": [
    "plt.plot(TimeEvent['Event'],TimeEvent['Time'])\n",
    "plt.show()"
   ]
  },
  {
   "cell_type": "code",
   "execution_count": 26,
   "metadata": {},
   "outputs": [
    {
     "data": {
      "image/png": "[encoded data removed]",
      "text/plain": [
       "<Figure size 432x288 with 1 Axes>"
      ]
     },
     "metadata": {},
     "output_type": "display_data"
    }
   ],
   "source": [
    "plt.hist(TimeEvent['Time'],bins=20,range=(0,2))\n",
    "plt.show()"
   ]
  },
  {
   "cell_type": "code",
   "execution_count": 27,
   "metadata": {},
   "outputs": [
    {
     "data": {
      "text/html": [
       "<div>\n",
       "<style scoped>\n",
       "    .dataframe tbody tr th:only-of-type {\n",
       "        vertical-align: middle;\n",
       "    }\n",
       "\n",
       "    .dataframe tbody tr th {\n",
       "        vertical-align: top;\n",
       "    }\n",
       "\n",
       "    .dataframe thead th {\n",
       "        text-align: right;\n",
       "    }\n",
       "</style>\n",
       "<table border=\"1\" class=\"dataframe\">\n",
       "  <thead>\n",
       "    <tr style=\"text-align: right;\">\n",
       "      <th></th>\n",
       "      <th>Run</th>\n",
       "      <th>SubRun</th>\n",
       "      <th>Event</th>\n",
       "      <th>Path</th>\n",
       "      <th>ModuleLabel</th>\n",
       "      <th>ModuleType</th>\n",
       "      <th>Time</th>\n",
       "    </tr>\n",
       "  </thead>\n",
       "  <tbody>\n",
       "    <tr>\n",
       "      <th>0</th>\n",
       "      <td>17969</td>\n",
       "      <td>71</td>\n",
       "      <td>1</td>\n",
       "      <td>muonPath</td>\n",
       "      <td>fzInflater</td>\n",
       "      <td>FZInflater</td>\n",
       "      <td>0.005631</td>\n",
       "    </tr>\n",
       "    <tr>\n",
       "      <th>1</th>\n",
       "      <td>17969</td>\n",
       "      <td>71</td>\n",
       "      <td>1</td>\n",
       "      <td>muonPath</td>\n",
       "      <td>utcaUnpacker</td>\n",
       "      <td>UTCAUnpacker</td>\n",
       "      <td>0.000975</td>\n",
       "    </tr>\n",
       "    <tr>\n",
       "      <th>2</th>\n",
       "      <td>17969</td>\n",
       "      <td>71</td>\n",
       "      <td>1</td>\n",
       "      <td>muonPath</td>\n",
       "      <td>cccUnpacker</td>\n",
       "      <td>FC7Unpacker</td>\n",
       "      <td>0.002060</td>\n",
       "    </tr>\n",
       "    <tr>\n",
       "      <th>3</th>\n",
       "      <td>17969</td>\n",
       "      <td>71</td>\n",
       "      <td>1</td>\n",
       "      <td>muonPath</td>\n",
       "      <td>headerUnpacker</td>\n",
       "      <td>CaloHeaderUnpacker</td>\n",
       "      <td>0.001450</td>\n",
       "    </tr>\n",
       "    <tr>\n",
       "      <th>4</th>\n",
       "      <td>17969</td>\n",
       "      <td>71</td>\n",
       "      <td>1</td>\n",
       "      <td>muonPath</td>\n",
       "      <td>rawUnpacker</td>\n",
       "      <td>CaloRawUnpacker</td>\n",
       "      <td>0.084571</td>\n",
       "    </tr>\n",
       "  </tbody>\n",
       "</table>\n",
       "</div>"
      ],
      "text/plain": [
       "     Run  SubRun  Event      Path     ModuleLabel          ModuleType  \\\n",
       "0  17969      71      1  muonPath      fzInflater          FZInflater   \n",
       "1  17969      71      1  muonPath    utcaUnpacker        UTCAUnpacker   \n",
       "2  17969      71      1  muonPath     cccUnpacker         FC7Unpacker   \n",
       "3  17969      71      1  muonPath  headerUnpacker  CaloHeaderUnpacker   \n",
       "4  17969      71      1  muonPath     rawUnpacker     CaloRawUnpacker   \n",
       "\n",
       "       Time  \n",
       "0  0.005631  \n",
       "1  0.000975  \n",
       "2  0.002060  \n",
       "3  0.001450  \n",
       "4  0.084571  "
      ]
     },
     "execution_count": 27,
     "metadata": {},
     "output_type": "execute_result"
    }
   ],
   "source": [
    "TimeModule.head()"
   ]
  },
  {
   "cell_type": "code",
   "execution_count": 28,
   "metadata": {},
   "outputs": [
    {
     "data": {
      "text/html": [
       "<div>\n",
       "<style scoped>\n",
       "    .dataframe tbody tr th:only-of-type {\n",
       "        vertical-align: middle;\n",
       "    }\n",
       "\n",
       "    .dataframe tbody tr th {\n",
       "        vertical-align: top;\n",
       "    }\n",
       "\n",
       "    .dataframe thead th {\n",
       "        text-align: right;\n",
       "    }\n",
       "</style>\n",
       "<table border=\"1\" class=\"dataframe\">\n",
       "  <thead>\n",
       "    <tr style=\"text-align: right;\">\n",
       "      <th></th>\n",
       "      <th>Run</th>\n",
       "      <th>SubRun</th>\n",
       "      <th>Event</th>\n",
       "      <th>Time</th>\n",
       "    </tr>\n",
       "  </thead>\n",
       "  <tbody>\n",
       "    <tr>\n",
       "      <th>count</th>\n",
       "      <td>1864.0</td>\n",
       "      <td>1864.0</td>\n",
       "      <td>1864.000000</td>\n",
       "      <td>1864.000000</td>\n",
       "    </tr>\n",
       "    <tr>\n",
       "      <th>mean</th>\n",
       "      <td>17969.0</td>\n",
       "      <td>71.0</td>\n",
       "      <td>47.291845</td>\n",
       "      <td>0.017201</td>\n",
       "    </tr>\n",
       "    <tr>\n",
       "      <th>std</th>\n",
       "      <td>0.0</td>\n",
       "      <td>0.0</td>\n",
       "      <td>26.906303</td>\n",
       "      <td>0.129223</td>\n",
       "    </tr>\n",
       "    <tr>\n",
       "      <th>min</th>\n",
       "      <td>17969.0</td>\n",
       "      <td>71.0</td>\n",
       "      <td>1.000000</td>\n",
       "      <td>0.000002</td>\n",
       "    </tr>\n",
       "    <tr>\n",
       "      <th>25%</th>\n",
       "      <td>17969.0</td>\n",
       "      <td>71.0</td>\n",
       "      <td>24.000000</td>\n",
       "      <td>0.000054</td>\n",
       "    </tr>\n",
       "    <tr>\n",
       "      <th>50%</th>\n",
       "      <td>17969.0</td>\n",
       "      <td>71.0</td>\n",
       "      <td>47.000000</td>\n",
       "      <td>0.000219</td>\n",
       "    </tr>\n",
       "    <tr>\n",
       "      <th>75%</th>\n",
       "      <td>17969.0</td>\n",
       "      <td>71.0</td>\n",
       "      <td>70.000000</td>\n",
       "      <td>0.002054</td>\n",
       "    </tr>\n",
       "    <tr>\n",
       "      <th>max</th>\n",
       "      <td>17969.0</td>\n",
       "      <td>71.0</td>\n",
       "      <td>93.000000</td>\n",
       "      <td>2.384607</td>\n",
       "    </tr>\n",
       "  </tbody>\n",
       "</table>\n",
       "</div>"
      ],
      "text/plain": [
       "           Run  SubRun        Event         Time\n",
       "count   1864.0  1864.0  1864.000000  1864.000000\n",
       "mean   17969.0    71.0    47.291845     0.017201\n",
       "std        0.0     0.0    26.906303     0.129223\n",
       "min    17969.0    71.0     1.000000     0.000002\n",
       "25%    17969.0    71.0    24.000000     0.000054\n",
       "50%    17969.0    71.0    47.000000     0.000219\n",
       "75%    17969.0    71.0    70.000000     0.002054\n",
       "max    17969.0    71.0    93.000000     2.384607"
      ]
     },
     "execution_count": 28,
     "metadata": {},
     "output_type": "execute_result"
    }
   ],
   "source": [
    "TimeModule.describe()"
   ]
  },
  {
   "cell_type": "code",
   "execution_count": 32,
   "metadata": {},
   "outputs": [
    {
     "data": {
      "image/png": "[encoded data removed]",
      "text/plain": [
       "<Figure size 1296x432 with 1 Axes>"
      ]
     },
     "metadata": {},
     "output_type": "display_data"
    }
   ],
   "source": [
    "fig, ax = plt.subplots(figsize=(18,6))\n",
    "sns.boxplot(x=\"ModuleType\", y=\"Time\", data=TimeModule)\n",
    "\n",
    "plt.xticks(rotation=90)\n",
    "plt.grid()\n",
    "plt.yscale('log')\n",
    "plt.ylim(10**(-6),3.5)\n",
    "plt.show()"
   ]
  },
  {
   "cell_type": "code",
   "execution_count": 30,
   "metadata": {},
   "outputs": [
    {
     "name": "stdout",
     "output_type": "stream",
     "text": [
      "Total Module Time:  32.062561394\n"
     ]
    }
   ],
   "source": [
    "print(\"Total Module Time: \", TimeModule['Time'].sum())"
   ]
  },
  {
   "cell_type": "code",
   "execution_count": 31,
   "metadata": {},
   "outputs": [
    {
     "data": {
      "image/png": "[encoded data removed]",
      "text/plain": [
       "<Figure size 432x288 with 1 Axes>"
      ]
     },
     "metadata": {},
     "output_type": "display_data"
    }
   ],
   "source": [
    "plt.hist(TimeModule['Time'],bins=20,range=(0,1))\n",
    "plt.yscale('log')\n",
    "plt.show()"
   ]
  },
  {
   "cell_type": "code",
   "execution_count": 12,
   "metadata": {},
   "outputs": [],
   "source": [
    "IslandTemplateFit = TimeModule.loc[TimeModule['ModuleType'] == 'IslandTemplateFit']"
   ]
  },
  {
   "cell_type": "code",
   "execution_count": 40,
   "metadata": {},
   "outputs": [
    {
     "data": {
      "text/html": [
       "<div>\n",
       "<style scoped>\n",
       "    .dataframe tbody tr th:only-of-type {\n",
       "        vertical-align: middle;\n",
       "    }\n",
       "\n",
       "    .dataframe tbody tr th {\n",
       "        vertical-align: top;\n",
       "    }\n",
       "\n",
       "    .dataframe thead th {\n",
       "        text-align: right;\n",
       "    }\n",
       "</style>\n",
       "<table border=\"1\" class=\"dataframe\">\n",
       "  <thead>\n",
       "    <tr style=\"text-align: right;\">\n",
       "      <th></th>\n",
       "      <th>Run</th>\n",
       "      <th>SubRun</th>\n",
       "      <th>Event</th>\n",
       "      <th>Path</th>\n",
       "      <th>ModuleLabel</th>\n",
       "      <th>ModuleType</th>\n",
       "      <th>Time</th>\n",
       "    </tr>\n",
       "  </thead>\n",
       "  <tbody>\n",
       "    <tr>\n",
       "      <th>17</th>\n",
       "      <td>17969</td>\n",
       "      <td>71</td>\n",
       "      <td>2</td>\n",
       "      <td>muonPath</td>\n",
       "      <td>islandFitterDAQ</td>\n",
       "      <td>IslandTemplateFit</td>\n",
       "      <td>0.096018</td>\n",
       "    </tr>\n",
       "    <tr>\n",
       "      <th>50</th>\n",
       "      <td>17969</td>\n",
       "      <td>71</td>\n",
       "      <td>4</td>\n",
       "      <td>muonPath</td>\n",
       "      <td>islandFitterDAQ</td>\n",
       "      <td>IslandTemplateFit</td>\n",
       "      <td>0.669766</td>\n",
       "    </tr>\n",
       "    <tr>\n",
       "      <th>83</th>\n",
       "      <td>17969</td>\n",
       "      <td>71</td>\n",
       "      <td>6</td>\n",
       "      <td>muonPath</td>\n",
       "      <td>islandFitterDAQ</td>\n",
       "      <td>IslandTemplateFit</td>\n",
       "      <td>0.029149</td>\n",
       "    </tr>\n",
       "    <tr>\n",
       "      <th>116</th>\n",
       "      <td>17969</td>\n",
       "      <td>71</td>\n",
       "      <td>8</td>\n",
       "      <td>muonPath</td>\n",
       "      <td>islandFitterDAQ</td>\n",
       "      <td>IslandTemplateFit</td>\n",
       "      <td>0.436400</td>\n",
       "    </tr>\n",
       "    <tr>\n",
       "      <th>157</th>\n",
       "      <td>17969</td>\n",
       "      <td>71</td>\n",
       "      <td>11</td>\n",
       "      <td>muonPath</td>\n",
       "      <td>islandFitterDAQ</td>\n",
       "      <td>IslandTemplateFit</td>\n",
       "      <td>0.042295</td>\n",
       "    </tr>\n",
       "  </tbody>\n",
       "</table>\n",
       "</div>"
      ],
      "text/plain": [
       "       Run  SubRun  Event      Path      ModuleLabel         ModuleType  \\\n",
       "17   17969      71      2  muonPath  islandFitterDAQ  IslandTemplateFit   \n",
       "50   17969      71      4  muonPath  islandFitterDAQ  IslandTemplateFit   \n",
       "83   17969      71      6  muonPath  islandFitterDAQ  IslandTemplateFit   \n",
       "116  17969      71      8  muonPath  islandFitterDAQ  IslandTemplateFit   \n",
       "157  17969      71     11  muonPath  islandFitterDAQ  IslandTemplateFit   \n",
       "\n",
       "         Time  \n",
       "17   0.096018  \n",
       "50   0.669766  \n",
       "83   0.029149  \n",
       "116  0.436400  \n",
       "157  0.042295  "
      ]
     },
     "execution_count": 40,
     "metadata": {},
     "output_type": "execute_result"
    }
   ],
   "source": [
    "IslandTemplateFit.head()"
   ]
  },
  {
   "cell_type": "code",
   "execution_count": 39,
   "metadata": {},
   "outputs": [
    {
     "data": {
      "image/png": "[encoded data removed]",
      "text/plain": [
       "<Figure size 432x288 with 1 Axes>"
      ]
     },
     "metadata": {},
     "output_type": "display_data"
    }
   ],
   "source": [
    "plt.hist(IslandTemplateFit['Time'],bins=50,range=(0,1))\n",
    "plt.yscale('log')\n",
    "plt.show()"
   ]
  },
  {
   "cell_type": "markdown",
   "metadata": {},
   "source": [
    "---\n",
    "\n",
    "### Compare this to the v8 version of this db"
   ]
  },
  {
   "cell_type": "code",
   "execution_count": 13,
   "metadata": {},
   "outputs": [],
   "source": [
    "import sqlite3\n",
    "conn8 = sqlite3.connect('.timing_v8.db')"
   ]
  },
  {
   "cell_type": "code",
   "execution_count": 14,
   "metadata": {},
   "outputs": [],
   "source": [
    "c8 = conn8.cursor()"
   ]
  },
  {
   "cell_type": "code",
   "execution_count": 15,
   "metadata": {},
   "outputs": [
    {
     "name": "stdout",
     "output_type": "stream",
     "text": [
      "[('TimeSource',), ('TimeEvent',), ('TimeModule',)]\n"
     ]
    }
   ],
   "source": [
    "c8.execute(\"SELECT name FROM sqlite_master WHERE type='table';\")\n",
    "print(c8.fetchall())"
   ]
  },
  {
   "cell_type": "code",
   "execution_count": 16,
   "metadata": {},
   "outputs": [],
   "source": [
    "TimeSource8 = pandas.read_sql_query(\"SELECT * from TimeSource\", conn8)\n",
    "TimeEvent8 = pandas.read_sql_query(\"SELECT * from TimeEvent\", conn8)\n",
    "TimeModule8 = pandas.read_sql_query(\"SELECT * from TimeModule\", conn8)"
   ]
  },
  {
   "cell_type": "code",
   "execution_count": 18,
   "metadata": {},
   "outputs": [
    {
     "data": {
      "text/html": [
       "<div>\n",
       "<style scoped>\n",
       "    .dataframe tbody tr th:only-of-type {\n",
       "        vertical-align: middle;\n",
       "    }\n",
       "\n",
       "    .dataframe tbody tr th {\n",
       "        vertical-align: top;\n",
       "    }\n",
       "\n",
       "    .dataframe thead th {\n",
       "        text-align: right;\n",
       "    }\n",
       "</style>\n",
       "<table border=\"1\" class=\"dataframe\">\n",
       "  <thead>\n",
       "    <tr style=\"text-align: right;\">\n",
       "      <th></th>\n",
       "      <th>Run</th>\n",
       "      <th>SubRun</th>\n",
       "      <th>Event</th>\n",
       "      <th>Source</th>\n",
       "      <th>Time</th>\n",
       "    </tr>\n",
       "  </thead>\n",
       "  <tbody>\n",
       "    <tr>\n",
       "      <th>0</th>\n",
       "      <td>17969</td>\n",
       "      <td>71</td>\n",
       "      <td>1</td>\n",
       "      <td>MidasBankInput</td>\n",
       "      <td>0.000090</td>\n",
       "    </tr>\n",
       "    <tr>\n",
       "      <th>1</th>\n",
       "      <td>17969</td>\n",
       "      <td>71</td>\n",
       "      <td>2</td>\n",
       "      <td>MidasBankInput</td>\n",
       "      <td>0.000003</td>\n",
       "    </tr>\n",
       "    <tr>\n",
       "      <th>2</th>\n",
       "      <td>17969</td>\n",
       "      <td>71</td>\n",
       "      <td>3</td>\n",
       "      <td>MidasBankInput</td>\n",
       "      <td>0.000002</td>\n",
       "    </tr>\n",
       "    <tr>\n",
       "      <th>3</th>\n",
       "      <td>17969</td>\n",
       "      <td>71</td>\n",
       "      <td>4</td>\n",
       "      <td>MidasBankInput</td>\n",
       "      <td>0.000004</td>\n",
       "    </tr>\n",
       "    <tr>\n",
       "      <th>4</th>\n",
       "      <td>17969</td>\n",
       "      <td>71</td>\n",
       "      <td>5</td>\n",
       "      <td>MidasBankInput</td>\n",
       "      <td>0.000004</td>\n",
       "    </tr>\n",
       "  </tbody>\n",
       "</table>\n",
       "</div>"
      ],
      "text/plain": [
       "     Run  SubRun  Event          Source      Time\n",
       "0  17969      71      1  MidasBankInput  0.000090\n",
       "1  17969      71      2  MidasBankInput  0.000003\n",
       "2  17969      71      3  MidasBankInput  0.000002\n",
       "3  17969      71      4  MidasBankInput  0.000004\n",
       "4  17969      71      5  MidasBankInput  0.000004"
      ]
     },
     "execution_count": 18,
     "metadata": {},
     "output_type": "execute_result"
    }
   ],
   "source": [
    "TimeSource8.head()"
   ]
  },
  {
   "cell_type": "code",
   "execution_count": 25,
   "metadata": {},
   "outputs": [
    {
     "data": {
      "image/png": "[encoded data removed]",
      "text/plain": [
       "<Figure size 1296x432 with 1 Axes>"
      ]
     },
     "metadata": {},
     "output_type": "display_data"
    }
   ],
   "source": [
    "fig, ax = plt.subplots(figsize=(18,6))\n",
    "sns.boxplot(x=\"ModuleType\", y=\"Time\", data=TimeModule8)\n",
    "\n",
    "plt.xticks(rotation=90)\n",
    "plt.grid()\n",
    "plt.yscale('log')\n",
    "plt.ylim(10**(-6),1.5)\n",
    "plt.show()"
   ]
  },
  {
   "cell_type": "code",
   "execution_count": null,
   "metadata": {},
   "outputs": [],
   "source": []
  },
  {
   "cell_type": "code",
   "execution_count": null,
   "metadata": {},
   "outputs": [],
   "source": []
  },
  {
   "cell_type": "code",
   "execution_count": null,
   "metadata": {},
   "outputs": [],
   "source": []
  },
  {
   "cell_type": "code",
   "execution_count": null,
   "metadata": {},
   "outputs": [],
   "source": []
  },
  {
   "cell_type": "code",
   "execution_count": null,
   "metadata": {},
   "outputs": [],
   "source": []
  },
  {
   "cell_type": "code",
   "execution_count": null,
   "metadata": {},
   "outputs": [],
   "source": []
  },
  {
   "cell_type": "markdown",
   "metadata": {},
   "source": [
    "---\n",
    "\n",
    "### Now lets look at the igprof database"
   ]
  },
  {
   "cell_type": "code",
   "execution_count": 51,
   "metadata": {},
   "outputs": [],
   "source": [
    "import sqlite3\n",
    "conn = sqlite3.connect('igprof_out.db')"
   ]
  },
  {
   "cell_type": "code",
   "execution_count": 52,
   "metadata": {},
   "outputs": [],
   "source": [
    "c = conn.cursor()"
   ]
  },
  {
   "cell_type": "code",
   "execution_count": 53,
   "metadata": {},
   "outputs": [
    {
     "name": "stdout",
     "output_type": "stream",
     "text": [
      "[('summary',), ('files',), ('symbols',), ('mainrows',), ('children',), ('parents',)]\n"
     ]
    }
   ],
   "source": [
    "c.execute(\"SELECT name FROM sqlite_master WHERE type='table';\")\n",
    "print(c.fetchall())"
   ]
  },
  {
   "cell_type": "code",
   "execution_count": 59,
   "metadata": {},
   "outputs": [],
   "source": [
    "summary = pandas.read_sql_query(\"SELECT * from summary\", conn)\n",
    "#files = pandas.read_sql_query(\"SELECT * from files\", conn)\n",
    "symbols = pandas.read_sql_query(\"SELECT * from symbols\", conn)\n",
    "mainrows = pandas.read_sql_query(\"SELECT * from mainrows\", conn)\n",
    "children = pandas.read_sql_query(\"SELECT * from children\", conn)\n",
    "parents = pandas.read_sql_query(\"SELECT * from parents\", conn)"
   ]
  },
  {
   "cell_type": "code",
   "execution_count": 55,
   "metadata": {},
   "outputs": [
    {
     "data": {
      "text/html": [
       "<div>\n",
       "<style scoped>\n",
       "    .dataframe tbody tr th:only-of-type {\n",
       "        vertical-align: middle;\n",
       "    }\n",
       "\n",
       "    .dataframe tbody tr th {\n",
       "        vertical-align: top;\n",
       "    }\n",
       "\n",
       "    .dataframe thead th {\n",
       "        text-align: right;\n",
       "    }\n",
       "</style>\n",
       "<table border=\"1\" class=\"dataframe\">\n",
       "  <thead>\n",
       "    <tr style=\"text-align: right;\">\n",
       "      <th></th>\n",
       "      <th>counter</th>\n",
       "      <th>total_count</th>\n",
       "      <th>total_freq</th>\n",
       "      <th>tick_period</th>\n",
       "    </tr>\n",
       "  </thead>\n",
       "  <tbody>\n",
       "    <tr>\n",
       "      <th>0</th>\n",
       "      <td>PERF_TICKS</td>\n",
       "      <td>66140</td>\n",
       "      <td>66140</td>\n",
       "      <td>0.005999</td>\n",
       "    </tr>\n",
       "  </tbody>\n",
       "</table>\n",
       "</div>"
      ],
      "text/plain": [
       "      counter  total_count  total_freq  tick_period\n",
       "0  PERF_TICKS        66140       66140     0.005999"
      ]
     },
     "execution_count": 55,
     "metadata": {},
     "output_type": "execute_result"
    }
   ],
   "source": [
    "summary.head()"
   ]
  },
  {
   "cell_type": "code",
   "execution_count": 60,
   "metadata": {},
   "outputs": [
    {
     "data": {
      "text/html": [
       "<div>\n",
       "<style scoped>\n",
       "    .dataframe tbody tr th:only-of-type {\n",
       "        vertical-align: middle;\n",
       "    }\n",
       "\n",
       "    .dataframe tbody tr th {\n",
       "        vertical-align: top;\n",
       "    }\n",
       "\n",
       "    .dataframe thead th {\n",
       "        text-align: right;\n",
       "    }\n",
       "</style>\n",
       "<table border=\"1\" class=\"dataframe\">\n",
       "  <thead>\n",
       "    <tr style=\"text-align: right;\">\n",
       "      <th></th>\n",
       "      <th>id</th>\n",
       "      <th>name</th>\n",
       "      <th>filename_id</th>\n",
       "    </tr>\n",
       "  </thead>\n",
       "  <tbody>\n",
       "    <tr>\n",
       "      <th>0</th>\n",
       "      <td>14926736</td>\n",
       "      <td>&lt;spontaneous&gt;</td>\n",
       "      <td>14926656</td>\n",
       "    </tr>\n",
       "    <tr>\n",
       "      <th>1</th>\n",
       "      <td>27126848</td>\n",
       "      <td>tbb::internal::custom_scheduler&lt;tbb::internal:...</td>\n",
       "      <td>25792976</td>\n",
       "    </tr>\n",
       "    <tr>\n",
       "      <th>2</th>\n",
       "      <td>37219856</td>\n",
       "      <td>clone</td>\n",
       "      <td>14936944</td>\n",
       "    </tr>\n",
       "    <tr>\n",
       "      <th>3</th>\n",
       "      <td>37219408</td>\n",
       "      <td>start_thread</td>\n",
       "      <td>16034320</td>\n",
       "    </tr>\n",
       "    <tr>\n",
       "      <th>4</th>\n",
       "      <td>40060592</td>\n",
       "      <td>tbb::internal::rml::private_worker::thread_rou...</td>\n",
       "      <td>25792976</td>\n",
       "    </tr>\n",
       "  </tbody>\n",
       "</table>\n",
       "</div>"
      ],
      "text/plain": [
       "         id                                               name  filename_id\n",
       "0  14926736                                      <spontaneous>     14926656\n",
       "1  27126848  tbb::internal::custom_scheduler<tbb::internal:...     25792976\n",
       "2  37219856                                              clone     14936944\n",
       "3  37219408                                       start_thread     16034320\n",
       "4  40060592  tbb::internal::rml::private_worker::thread_rou...     25792976"
      ]
     },
     "execution_count": 60,
     "metadata": {},
     "output_type": "execute_result"
    }
   ],
   "source": [
    "symbols.head()"
   ]
  },
  {
   "cell_type": "code",
   "execution_count": 69,
   "metadata": {},
   "outputs": [
    {
     "data": {
      "text/html": [
       "<div>\n",
       "<style scoped>\n",
       "    .dataframe tbody tr th:only-of-type {\n",
       "        vertical-align: middle;\n",
       "    }\n",
       "\n",
       "    .dataframe tbody tr th {\n",
       "        vertical-align: top;\n",
       "    }\n",
       "\n",
       "    .dataframe thead th {\n",
       "        text-align: right;\n",
       "    }\n",
       "</style>\n",
       "<table border=\"1\" class=\"dataframe\">\n",
       "  <thead>\n",
       "    <tr style=\"text-align: right;\">\n",
       "      <th></th>\n",
       "      <th>id</th>\n",
       "      <th>name</th>\n",
       "      <th>filename_id</th>\n",
       "    </tr>\n",
       "  </thead>\n",
       "  <tbody>\n",
       "    <tr>\n",
       "      <th>8</th>\n",
       "      <td>32084896</td>\n",
       "      <td>tbb::interface9::internal::start_for&lt;tbb::bloc...</td>\n",
       "      <td>31925808</td>\n",
       "    </tr>\n",
       "    <tr>\n",
       "      <th>9</th>\n",
       "      <td>32069632</td>\n",
       "      <td>gm2calo::IslandTemplateFit::produce(art::Event...</td>\n",
       "      <td>31925808</td>\n",
       "    </tr>\n",
       "    <tr>\n",
       "      <th>10</th>\n",
       "      <td>32070368</td>\n",
       "      <td>std::vector&lt;gm2calo::CrystalHitArtRecord, std:...</td>\n",
       "      <td>31925808</td>\n",
       "    </tr>\n",
       "    <tr>\n",
       "      <th>11</th>\n",
       "      <td>31920160</td>\n",
       "      <td>_ZN7gm2calo14TemplateFitter16discontiguousFitI...</td>\n",
       "      <td>31925808</td>\n",
       "    </tr>\n",
       "    <tr>\n",
       "      <th>12</th>\n",
       "      <td>31925488</td>\n",
       "      <td>gm2calo::TemplateFitter::doFit(std::vector&lt;dou...</td>\n",
       "      <td>27631648</td>\n",
       "    </tr>\n",
       "    <tr>\n",
       "      <th>13</th>\n",
       "      <td>32094064</td>\n",
       "      <td>gm2calo::TemplateFitter::evalTemplates(std::ve...</td>\n",
       "      <td>27631648</td>\n",
       "    </tr>\n",
       "    <tr>\n",
       "      <th>19</th>\n",
       "      <td>27126448</td>\n",
       "      <td>gm2calo::CaloFitters::GetFitter(int, bool)</td>\n",
       "      <td>26723824</td>\n",
       "    </tr>\n",
       "    <tr>\n",
       "      <th>20</th>\n",
       "      <td>27126512</td>\n",
       "      <td>_ZN3tbb10interface98internal9start_forINS_13bl...</td>\n",
       "      <td>26723824</td>\n",
       "    </tr>\n",
       "    <tr>\n",
       "      <th>21</th>\n",
       "      <td>27126384</td>\n",
       "      <td>gm2calo::CaloFitters::GetSpline(int, bool)</td>\n",
       "      <td>26723824</td>\n",
       "    </tr>\n",
       "    <tr>\n",
       "      <th>22</th>\n",
       "      <td>27126128</td>\n",
       "      <td>gm2calo::CaloFitters::CreateSplineFromFile(int...</td>\n",
       "      <td>26723824</td>\n",
       "    </tr>\n",
       "    <tr>\n",
       "      <th>95</th>\n",
       "      <td>32086000</td>\n",
       "      <td>gm2calo::IslandTemplateFit::produce(art::Event&amp;)</td>\n",
       "      <td>31925808</td>\n",
       "    </tr>\n",
       "    <tr>\n",
       "      <th>116</th>\n",
       "      <td>31920368</td>\n",
       "      <td>gm2calo::TemplateFitter::resizeMatrices(int, int)</td>\n",
       "      <td>27631648</td>\n",
       "    </tr>\n",
       "    <tr>\n",
       "      <th>123</th>\n",
       "      <td>32262624</td>\n",
       "      <td>gm2calo::TemplateFitApplier::cleanFitResults(g...</td>\n",
       "      <td>32260592</td>\n",
       "    </tr>\n",
       "    <tr>\n",
       "      <th>138</th>\n",
       "      <td>26678496</td>\n",
       "      <td>art::detail::ServiceHelper&lt;gm2calo::TemplateFi...</td>\n",
       "      <td>26723824</td>\n",
       "    </tr>\n",
       "    <tr>\n",
       "      <th>139</th>\n",
       "      <td>26605968</td>\n",
       "      <td>gm2calo::TemplateFitterHolder::TemplateFitterH...</td>\n",
       "      <td>26723824</td>\n",
       "    </tr>\n",
       "    <tr>\n",
       "      <th>253</th>\n",
       "      <td>31849344</td>\n",
       "      <td>gm2calo::IslandTemplateFit::hasLaserPulses(gm2...</td>\n",
       "      <td>31925808</td>\n",
       "    </tr>\n",
       "    <tr>\n",
       "      <th>265</th>\n",
       "      <td>32266944</td>\n",
       "      <td>gm2calo::TemplateFitApplier::beamOnLaserFit(gm...</td>\n",
       "      <td>32260592</td>\n",
       "    </tr>\n",
       "    <tr>\n",
       "      <th>326</th>\n",
       "      <td>32254048</td>\n",
       "      <td>gm2calo::TemplateFitter::Output::~Output()</td>\n",
       "      <td>31925808</td>\n",
       "    </tr>\n",
       "    <tr>\n",
       "      <th>594</th>\n",
       "      <td>32761760</td>\n",
       "      <td>art::detail::ServiceWrapper&lt;gm2calo::TemplateF...</td>\n",
       "      <td>26723824</td>\n",
       "    </tr>\n",
       "    <tr>\n",
       "      <th>597</th>\n",
       "      <td>32762624</td>\n",
       "      <td>std::_Rb_tree&lt;int, std::pair&lt;int const, gm2cal...</td>\n",
       "      <td>26723824</td>\n",
       "    </tr>\n",
       "    <tr>\n",
       "      <th>632</th>\n",
       "      <td>27638080</td>\n",
       "      <td>gm2calo::TemplateFitter::buildCubicSpline(TSpl...</td>\n",
       "      <td>27631648</td>\n",
       "    </tr>\n",
       "    <tr>\n",
       "      <th>686</th>\n",
       "      <td>32764832</td>\n",
       "      <td>std::_Rb_tree&lt;int, std::pair&lt;int const, gm2cal...</td>\n",
       "      <td>26723824</td>\n",
       "    </tr>\n",
       "    <tr>\n",
       "      <th>687</th>\n",
       "      <td>42453008</td>\n",
       "      <td>std::_Rb_tree&lt;int, std::pair&lt;int const, gm2cal...</td>\n",
       "      <td>26723824</td>\n",
       "    </tr>\n",
       "    <tr>\n",
       "      <th>711</th>\n",
       "      <td>42627744</td>\n",
       "      <td>std::_Rb_tree&lt;int, std::pair&lt;int const, gm2cal...</td>\n",
       "      <td>26723824</td>\n",
       "    </tr>\n",
       "    <tr>\n",
       "      <th>712</th>\n",
       "      <td>42439920</td>\n",
       "      <td>std::_Rb_tree&lt;int, std::pair&lt;int const, gm2cal...</td>\n",
       "      <td>26723824</td>\n",
       "    </tr>\n",
       "    <tr>\n",
       "      <th>743</th>\n",
       "      <td>42455504</td>\n",
       "      <td>std::_Rb_tree&lt;int, std::pair&lt;int const, gm2cal...</td>\n",
       "      <td>26723824</td>\n",
       "    </tr>\n",
       "    <tr>\n",
       "      <th>745</th>\n",
       "      <td>42441072</td>\n",
       "      <td>std::_Rb_tree&lt;int, std::pair&lt;int const, gm2cal...</td>\n",
       "      <td>26723824</td>\n",
       "    </tr>\n",
       "    <tr>\n",
       "      <th>748</th>\n",
       "      <td>42526080</td>\n",
       "      <td>std::_Rb_tree&lt;int, std::pair&lt;int const, gm2cal...</td>\n",
       "      <td>26723824</td>\n",
       "    </tr>\n",
       "    <tr>\n",
       "      <th>749</th>\n",
       "      <td>42438144</td>\n",
       "      <td>std::_Rb_tree&lt;int, std::pair&lt;int const, gm2cal...</td>\n",
       "      <td>26723824</td>\n",
       "    </tr>\n",
       "    <tr>\n",
       "      <th>932</th>\n",
       "      <td>41390496</td>\n",
       "      <td>gm2calo::TemplateFitter::hasConverged() const</td>\n",
       "      <td>27631648</td>\n",
       "    </tr>\n",
       "    <tr>\n",
       "      <th>975</th>\n",
       "      <td>41344320</td>\n",
       "      <td>_ZN7gm2calo11CaloFitters11GetFilePathB5cxx11Eib</td>\n",
       "      <td>26723824</td>\n",
       "    </tr>\n",
       "    <tr>\n",
       "      <th>1051</th>\n",
       "      <td>42539520</td>\n",
       "      <td>std::_Rb_tree&lt;int, std::pair&lt;int const, gm2cal...</td>\n",
       "      <td>26723824</td>\n",
       "    </tr>\n",
       "    <tr>\n",
       "      <th>1814</th>\n",
       "      <td>42510352</td>\n",
       "      <td>std::_Rb_tree&lt;int, std::pair&lt;int const, gm2cal...</td>\n",
       "      <td>26723824</td>\n",
       "    </tr>\n",
       "    <tr>\n",
       "      <th>1856</th>\n",
       "      <td>42613056</td>\n",
       "      <td>std::_Rb_tree&lt;int, std::pair&lt;int const, gm2cal...</td>\n",
       "      <td>26723824</td>\n",
       "    </tr>\n",
       "    <tr>\n",
       "      <th>1894</th>\n",
       "      <td>42479568</td>\n",
       "      <td>std::_Rb_tree&lt;int, std::pair&lt;int const, gm2cal...</td>\n",
       "      <td>26723824</td>\n",
       "    </tr>\n",
       "  </tbody>\n",
       "</table>\n",
       "</div>"
      ],
      "text/plain": [
       "            id                                               name  filename_id\n",
       "8     32084896  tbb::interface9::internal::start_for<tbb::bloc...     31925808\n",
       "9     32069632  gm2calo::IslandTemplateFit::produce(art::Event...     31925808\n",
       "10    32070368  std::vector<gm2calo::CrystalHitArtRecord, std:...     31925808\n",
       "11    31920160  _ZN7gm2calo14TemplateFitter16discontiguousFitI...     31925808\n",
       "12    31925488  gm2calo::TemplateFitter::doFit(std::vector<dou...     27631648\n",
       "13    32094064  gm2calo::TemplateFitter::evalTemplates(std::ve...     27631648\n",
       "19    27126448         gm2calo::CaloFitters::GetFitter(int, bool)     26723824\n",
       "20    27126512  _ZN3tbb10interface98internal9start_forINS_13bl...     26723824\n",
       "21    27126384         gm2calo::CaloFitters::GetSpline(int, bool)     26723824\n",
       "22    27126128  gm2calo::CaloFitters::CreateSplineFromFile(int...     26723824\n",
       "95    32086000   gm2calo::IslandTemplateFit::produce(art::Event&)     31925808\n",
       "116   31920368  gm2calo::TemplateFitter::resizeMatrices(int, int)     27631648\n",
       "123   32262624  gm2calo::TemplateFitApplier::cleanFitResults(g...     32260592\n",
       "138   26678496  art::detail::ServiceHelper<gm2calo::TemplateFi...     26723824\n",
       "139   26605968  gm2calo::TemplateFitterHolder::TemplateFitterH...     26723824\n",
       "253   31849344  gm2calo::IslandTemplateFit::hasLaserPulses(gm2...     31925808\n",
       "265   32266944  gm2calo::TemplateFitApplier::beamOnLaserFit(gm...     32260592\n",
       "326   32254048         gm2calo::TemplateFitter::Output::~Output()     31925808\n",
       "594   32761760  art::detail::ServiceWrapper<gm2calo::TemplateF...     26723824\n",
       "597   32762624  std::_Rb_tree<int, std::pair<int const, gm2cal...     26723824\n",
       "632   27638080  gm2calo::TemplateFitter::buildCubicSpline(TSpl...     27631648\n",
       "686   32764832  std::_Rb_tree<int, std::pair<int const, gm2cal...     26723824\n",
       "687   42453008  std::_Rb_tree<int, std::pair<int const, gm2cal...     26723824\n",
       "711   42627744  std::_Rb_tree<int, std::pair<int const, gm2cal...     26723824\n",
       "712   42439920  std::_Rb_tree<int, std::pair<int const, gm2cal...     26723824\n",
       "743   42455504  std::_Rb_tree<int, std::pair<int const, gm2cal...     26723824\n",
       "745   42441072  std::_Rb_tree<int, std::pair<int const, gm2cal...     26723824\n",
       "748   42526080  std::_Rb_tree<int, std::pair<int const, gm2cal...     26723824\n",
       "749   42438144  std::_Rb_tree<int, std::pair<int const, gm2cal...     26723824\n",
       "932   41390496      gm2calo::TemplateFitter::hasConverged() const     27631648\n",
       "975   41344320    _ZN7gm2calo11CaloFitters11GetFilePathB5cxx11Eib     26723824\n",
       "1051  42539520  std::_Rb_tree<int, std::pair<int const, gm2cal...     26723824\n",
       "1814  42510352  std::_Rb_tree<int, std::pair<int const, gm2cal...     26723824\n",
       "1856  42613056  std::_Rb_tree<int, std::pair<int const, gm2cal...     26723824\n",
       "1894  42479568  std::_Rb_tree<int, std::pair<int const, gm2cal...     26723824"
      ]
     },
     "execution_count": 69,
     "metadata": {},
     "output_type": "execute_result"
    }
   ],
   "source": [
    "symbols.loc[symbols['name'].str.contains(\"Fit\")]"
   ]
  },
  {
   "cell_type": "code",
   "execution_count": 61,
   "metadata": {},
   "outputs": [
    {
     "data": {
      "text/html": [
       "<div>\n",
       "<style scoped>\n",
       "    .dataframe tbody tr th:only-of-type {\n",
       "        vertical-align: middle;\n",
       "    }\n",
       "\n",
       "    .dataframe tbody tr th {\n",
       "        vertical-align: top;\n",
       "    }\n",
       "\n",
       "    .dataframe thead th {\n",
       "        text-align: right;\n",
       "    }\n",
       "</style>\n",
       "<table border=\"1\" class=\"dataframe\">\n",
       "  <thead>\n",
       "    <tr style=\"text-align: right;\">\n",
       "      <th></th>\n",
       "      <th>id</th>\n",
       "      <th>symbol_id</th>\n",
       "      <th>self_count</th>\n",
       "      <th>cumulative_count</th>\n",
       "      <th>kids</th>\n",
       "      <th>self_calls</th>\n",
       "      <th>total_calls</th>\n",
       "      <th>self_paths</th>\n",
       "      <th>total_paths</th>\n",
       "      <th>pct</th>\n",
       "    </tr>\n",
       "  </thead>\n",
       "  <tbody>\n",
       "    <tr>\n",
       "      <th>0</th>\n",
       "      <td>1</td>\n",
       "      <td>14926736</td>\n",
       "      <td>0</td>\n",
       "      <td>66140</td>\n",
       "      <td>66140</td>\n",
       "      <td>0</td>\n",
       "      <td>66140</td>\n",
       "      <td>1</td>\n",
       "      <td>1</td>\n",
       "      <td>100.00</td>\n",
       "    </tr>\n",
       "    <tr>\n",
       "      <th>1</th>\n",
       "      <td>2</td>\n",
       "      <td>27126848</td>\n",
       "      <td>1</td>\n",
       "      <td>57241</td>\n",
       "      <td>57240</td>\n",
       "      <td>1</td>\n",
       "      <td>57241</td>\n",
       "      <td>8</td>\n",
       "      <td>8</td>\n",
       "      <td>86.55</td>\n",
       "    </tr>\n",
       "    <tr>\n",
       "      <th>2</th>\n",
       "      <td>3</td>\n",
       "      <td>37219856</td>\n",
       "      <td>0</td>\n",
       "      <td>54315</td>\n",
       "      <td>54315</td>\n",
       "      <td>0</td>\n",
       "      <td>54315</td>\n",
       "      <td>1</td>\n",
       "      <td>1</td>\n",
       "      <td>82.12</td>\n",
       "    </tr>\n",
       "    <tr>\n",
       "      <th>3</th>\n",
       "      <td>4</td>\n",
       "      <td>37219408</td>\n",
       "      <td>0</td>\n",
       "      <td>54315</td>\n",
       "      <td>54315</td>\n",
       "      <td>0</td>\n",
       "      <td>54315</td>\n",
       "      <td>1</td>\n",
       "      <td>1</td>\n",
       "      <td>82.12</td>\n",
       "    </tr>\n",
       "    <tr>\n",
       "      <th>4</th>\n",
       "      <td>5</td>\n",
       "      <td>40060592</td>\n",
       "      <td>0</td>\n",
       "      <td>54310</td>\n",
       "      <td>54310</td>\n",
       "      <td>0</td>\n",
       "      <td>54310</td>\n",
       "      <td>1</td>\n",
       "      <td>1</td>\n",
       "      <td>82.11</td>\n",
       "    </tr>\n",
       "  </tbody>\n",
       "</table>\n",
       "</div>"
      ],
      "text/plain": [
       "   id  symbol_id  self_count  cumulative_count   kids  self_calls  \\\n",
       "0   1   14926736           0             66140  66140           0   \n",
       "1   2   27126848           1             57241  57240           1   \n",
       "2   3   37219856           0             54315  54315           0   \n",
       "3   4   37219408           0             54315  54315           0   \n",
       "4   5   40060592           0             54310  54310           0   \n",
       "\n",
       "   total_calls  self_paths  total_paths     pct  \n",
       "0        66140           1            1  100.00  \n",
       "1        57241           8            8   86.55  \n",
       "2        54315           1            1   82.12  \n",
       "3        54315           1            1   82.12  \n",
       "4        54310           1            1   82.11  "
      ]
     },
     "execution_count": 61,
     "metadata": {},
     "output_type": "execute_result"
    }
   ],
   "source": [
    "mainrows.head()"
   ]
  },
  {
   "cell_type": "code",
   "execution_count": 62,
   "metadata": {},
   "outputs": [
    {
     "data": {
      "text/html": [
       "<div>\n",
       "<style scoped>\n",
       "    .dataframe tbody tr th:only-of-type {\n",
       "        vertical-align: middle;\n",
       "    }\n",
       "\n",
       "    .dataframe tbody tr th {\n",
       "        vertical-align: top;\n",
       "    }\n",
       "\n",
       "    .dataframe thead th {\n",
       "        text-align: right;\n",
       "    }\n",
       "</style>\n",
       "<table border=\"1\" class=\"dataframe\">\n",
       "  <thead>\n",
       "    <tr style=\"text-align: right;\">\n",
       "      <th></th>\n",
       "      <th>self_id</th>\n",
       "      <th>parent_id</th>\n",
       "      <th>from_parent_count</th>\n",
       "      <th>from_parent_calls</th>\n",
       "      <th>from_parent_paths</th>\n",
       "      <th>pct</th>\n",
       "    </tr>\n",
       "  </thead>\n",
       "  <tbody>\n",
       "    <tr>\n",
       "      <th>0</th>\n",
       "      <td>3</td>\n",
       "      <td>1</td>\n",
       "      <td>54315</td>\n",
       "      <td>54315</td>\n",
       "      <td>1</td>\n",
       "      <td>82.12</td>\n",
       "    </tr>\n",
       "    <tr>\n",
       "      <th>1</th>\n",
       "      <td>15</td>\n",
       "      <td>1</td>\n",
       "      <td>9461</td>\n",
       "      <td>9461</td>\n",
       "      <td>1</td>\n",
       "      <td>14.30</td>\n",
       "    </tr>\n",
       "    <tr>\n",
       "      <th>2</th>\n",
       "      <td>98</td>\n",
       "      <td>1</td>\n",
       "      <td>1906</td>\n",
       "      <td>1906</td>\n",
       "      <td>1</td>\n",
       "      <td>2.88</td>\n",
       "    </tr>\n",
       "    <tr>\n",
       "      <th>3</th>\n",
       "      <td>131</td>\n",
       "      <td>1</td>\n",
       "      <td>421</td>\n",
       "      <td>421</td>\n",
       "      <td>1</td>\n",
       "      <td>0.64</td>\n",
       "    </tr>\n",
       "    <tr>\n",
       "      <th>4</th>\n",
       "      <td>467</td>\n",
       "      <td>1</td>\n",
       "      <td>27</td>\n",
       "      <td>27</td>\n",
       "      <td>1</td>\n",
       "      <td>0.04</td>\n",
       "    </tr>\n",
       "  </tbody>\n",
       "</table>\n",
       "</div>"
      ],
      "text/plain": [
       "   self_id  parent_id  from_parent_count  from_parent_calls  \\\n",
       "0        3          1              54315              54315   \n",
       "1       15          1               9461               9461   \n",
       "2       98          1               1906               1906   \n",
       "3      131          1                421                421   \n",
       "4      467          1                 27                 27   \n",
       "\n",
       "   from_parent_paths    pct  \n",
       "0                  1  82.12  \n",
       "1                  1  14.30  \n",
       "2                  1   2.88  \n",
       "3                  1   0.64  \n",
       "4                  1   0.04  "
      ]
     },
     "execution_count": 62,
     "metadata": {},
     "output_type": "execute_result"
    }
   ],
   "source": [
    "children.head()"
   ]
  },
  {
   "cell_type": "code",
   "execution_count": 63,
   "metadata": {},
   "outputs": [
    {
     "data": {
      "text/html": [
       "<div>\n",
       "<style scoped>\n",
       "    .dataframe tbody tr th:only-of-type {\n",
       "        vertical-align: middle;\n",
       "    }\n",
       "\n",
       "    .dataframe tbody tr th {\n",
       "        vertical-align: top;\n",
       "    }\n",
       "\n",
       "    .dataframe thead th {\n",
       "        text-align: right;\n",
       "    }\n",
       "</style>\n",
       "<table border=\"1\" class=\"dataframe\">\n",
       "  <thead>\n",
       "    <tr style=\"text-align: right;\">\n",
       "      <th></th>\n",
       "      <th>self_id</th>\n",
       "      <th>child_id</th>\n",
       "      <th>to_child_count</th>\n",
       "      <th>to_child_calls</th>\n",
       "      <th>to_child_paths</th>\n",
       "      <th>pct</th>\n",
       "    </tr>\n",
       "  </thead>\n",
       "  <tbody>\n",
       "    <tr>\n",
       "      <th>0</th>\n",
       "      <td>91</td>\n",
       "      <td>2</td>\n",
       "      <td>3197</td>\n",
       "      <td>3197</td>\n",
       "      <td>7</td>\n",
       "      <td>4.83</td>\n",
       "    </tr>\n",
       "    <tr>\n",
       "      <th>1</th>\n",
       "      <td>8</td>\n",
       "      <td>2</td>\n",
       "      <td>54044</td>\n",
       "      <td>54044</td>\n",
       "      <td>1</td>\n",
       "      <td>81.71</td>\n",
       "    </tr>\n",
       "    <tr>\n",
       "      <th>2</th>\n",
       "      <td>1</td>\n",
       "      <td>3</td>\n",
       "      <td>54315</td>\n",
       "      <td>54315</td>\n",
       "      <td>1</td>\n",
       "      <td>82.12</td>\n",
       "    </tr>\n",
       "    <tr>\n",
       "      <th>3</th>\n",
       "      <td>3</td>\n",
       "      <td>4</td>\n",
       "      <td>54315</td>\n",
       "      <td>54315</td>\n",
       "      <td>1</td>\n",
       "      <td>82.12</td>\n",
       "    </tr>\n",
       "    <tr>\n",
       "      <th>4</th>\n",
       "      <td>4</td>\n",
       "      <td>5</td>\n",
       "      <td>54310</td>\n",
       "      <td>54310</td>\n",
       "      <td>1</td>\n",
       "      <td>82.11</td>\n",
       "    </tr>\n",
       "  </tbody>\n",
       "</table>\n",
       "</div>"
      ],
      "text/plain": [
       "   self_id  child_id  to_child_count  to_child_calls  to_child_paths    pct\n",
       "0       91         2            3197            3197               7   4.83\n",
       "1        8         2           54044           54044               1  81.71\n",
       "2        1         3           54315           54315               1  82.12\n",
       "3        3         4           54315           54315               1  82.12\n",
       "4        4         5           54310           54310               1  82.11"
      ]
     },
     "execution_count": 63,
     "metadata": {},
     "output_type": "execute_result"
    }
   ],
   "source": [
    "parents.head()"
   ]
  },
  {
   "cell_type": "code",
   "execution_count": null,
   "metadata": {},
   "outputs": [],
   "source": []
  }
 ],
 "metadata": {
  "kernelspec": {
   "display_name": "Python 3",
   "language": "python",
   "name": "python3"
  },
  "language_info": {
   "codemirror_mode": {
    "name": "ipython",
    "version": 3
   },
   "file_extension": ".py",
   "mimetype": "text/x-python",
   "name": "python",
   "nbconvert_exporter": "python",
   "pygments_lexer": "ipython3",
   "version": "3.6.5"
  }
 },
 "nbformat": 4,
 "nbformat_minor": 2
}
