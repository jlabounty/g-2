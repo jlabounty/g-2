{
 "cells": [
  {
   "cell_type": "code",
   "execution_count": null,
   "metadata": {},
   "outputs": [],
   "source": [
    "import ROOT as r\n",
    "\n",
    "%jsroot on"
   ]
  },
  {
   "cell_type": "code",
   "execution_count": null,
   "metadata": {},
   "outputs": [],
   "source": [
    "f = r.TFile(\"./data/stripped_gm2skim_ana_16356.root\")\n",
    "\n",
    "t = f.Get(\"allmuons/tree\")\n",
    "#t.Print()"
   ]
  },
  {
   "cell_type": "code",
   "execution_count": null,
   "metadata": {},
   "outputs": [],
   "source": [
    "caloEnergyCut = \"cluEne > 1100 && cluEne < 2400 \"  \n",
    "qualityCut = \"trkPassCaloVertexQuality && trkPassTrackQuality && trkPassVertexQuality\"   \n",
    "stationCut = \" trkStationNum == 12 \"          \n",
    "allCuts = caloEnergyCut+\" && \"+qualityCut+\" && \"+stationCut       "
   ]
  },
  {
   "cell_type": "code",
   "execution_count": null,
   "metadata": {},
   "outputs": [],
   "source": [
    "h = r.TH3I(\"h\",\"Extrapolated Calo Positions vs. Time; Time [#mus]; Calo [mm]\", 2500,25,397.975, 251,-75,75, 251,-75,75 )\n",
    "\n",
    "t.Draw(\"(cluY-3)*25:vY:cluTime/1000.*1.25>>h\",allCuts,\"goff\")\n",
    "\n"
   ]
  },
  {
   "cell_type": "raw",
   "metadata": {},
   "source": [
    "c = r.TCanvas()\n",
    "h.Draw(\"lego2z\")\n",
    "c.Draw()"
   ]
  },
  {
   "cell_type": "code",
   "execution_count": null,
   "metadata": {},
   "outputs": [],
   "source": [
    "h3 = h.Project3D(\"yx\").ProfileX().Clone(\"h3\")"
   ]
  },
  {
   "cell_type": "code",
   "execution_count": null,
   "metadata": {},
   "outputs": [],
   "source": [
    "\n",
    "c = r.TCanvas()\n",
    "h3.Draw(\"pl\")\n",
    "func = r.TF1(\"func\",\"pol1\",30,200)\n",
    "h3.Fit(func, \"REMB\")\n",
    "c.Draw()\n"
   ]
  },
  {
   "cell_type": "code",
   "execution_count": null,
   "metadata": {},
   "outputs": [],
   "source": [
    "print(\"hi\")"
   ]
  },
  {
   "cell_type": "code",
   "execution_count": null,
   "metadata": {},
   "outputs": [],
   "source": []
  },
  {
   "cell_type": "code",
   "execution_count": null,
   "metadata": {},
   "outputs": [],
   "source": []
  },
  {
   "cell_type": "code",
   "execution_count": null,
   "metadata": {},
   "outputs": [],
   "source": []
  },
  {
   "cell_type": "code",
   "execution_count": null,
   "metadata": {},
   "outputs": [],
   "source": []
  }
 ],
 "metadata": {
  "kernelspec": {
   "display_name": "Python 3",
   "language": "python",
   "name": "python3"
  },
  "language_info": {
   "codemirror_mode": {
    "name": "ipython",
    "version": 3
   },
   "file_extension": ".py",
   "mimetype": "text/x-python",
   "name": "python",
   "nbconvert_exporter": "python",
   "pygments_lexer": "ipython3",
   "version": "3.6.8"
  }
 },
 "nbformat": 4,
 "nbformat_minor": 4
}
