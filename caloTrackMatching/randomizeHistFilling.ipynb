{
 "cells": [
  {
   "cell_type": "code",
   "execution_count": 9,
   "metadata": {},
   "outputs": [],
   "source": [
    "from standardInclude import *"
   ]
  },
  {
   "cell_type": "code",
   "execution_count": 10,
   "metadata": {},
   "outputs": [
    {
     "data": {
      "text/plain": [
       "1"
      ]
     },
     "execution_count": 10,
     "metadata": {},
     "output_type": "execute_result"
    }
   ],
   "source": [
    "#f = r.TFile(\"./data/stripped_gm2skim_ana_16356.root\")\n",
    "#f.cd(\"trackerNTup\")\n",
    "#f.ls()\n",
    "\n",
    "#t = f.Get(\"allmuons/tree\")\n",
    "\n",
    "t = r.TChain(\"allmuons/tree\")\n",
    "t.Add(\"./data/stripped_gm2skim_ana_16356.root\")\n",
    "\n",
    "#t.Print()"
   ]
  },
  {
   "cell_type": "code",
   "execution_count": 11,
   "metadata": {},
   "outputs": [],
   "source": [
    "r.globalSeed = 1234"
   ]
  },
  {
   "cell_type": "code",
   "execution_count": 12,
   "metadata": {},
   "outputs": [
    {
     "name": "stdout",
     "output_type": "stream",
     "text": [
      "1234\n"
     ]
    }
   ],
   "source": [
    "print(r.globalSeed)"
   ]
  },
  {
   "cell_type": "code",
   "execution_count": null,
   "metadata": {},
   "outputs": [
    {
     "data": {
      "text/plain": [
       "0"
      ]
     },
     "execution_count": 13,
     "metadata": {},
     "output_type": "execute_result"
    }
   ],
   "source": [
    "r.gInterpreter.ProcessLine('.L testfunc.C')"
   ]
  },
  {
   "cell_type": "code",
   "execution_count": null,
   "metadata": {},
   "outputs": [
    {
     "data": {
      "text/plain": [
       "<ROOT.TRandom3 object (\"Random3\") at 0x7fffdc7c0360>"
      ]
     },
     "execution_count": 14,
     "metadata": {},
     "output_type": "execute_result"
    }
   ],
   "source": [
    "r.initializeRNG(1234)"
   ]
  },
  {
   "cell_type": "code",
   "execution_count": null,
   "metadata": {},
   "outputs": [
    {
     "data": {
      "text/plain": [
       "19921.445622315165"
      ]
     },
     "execution_count": 15,
     "metadata": {},
     "output_type": "execute_result"
    }
   ],
   "source": [
    "r.testfunc(8)"
   ]
  },
  {
   "cell_type": "markdown",
   "metadata": {},
   "source": [
    "---\n",
    "\n",
    "### Test of histogram time randomization when filling from the tree, based on code from James M.\n",
    "\n",
    "---"
   ]
  },
  {
   "cell_type": "code",
   "execution_count": null,
   "metadata": {},
   "outputs": [],
   "source": [
    "def randomizeTimes( x, p ):\n",
    "    inputtime = x[0]\n",
    "    time = inputtime\n",
    "    \n",
    "    w0 = 2.6094;\n",
    "    A = 2.80;\n",
    "    tauA = 56.6;\n",
    "    B = 6.18;\n",
    "    tauB = 6.32;\n",
    "    \n",
    "    wCBO =  (w0 - (A/(tauA)) * r.TMath.Exp(-time/(1000.0*tauA)) - (B/(tauB)) * r.TMath.Exp(-time/(tauB*1000.0)) ); #MHz\n",
    "    wa =  r.TMath.TwoPi() * 0.2291; #MHZ\n",
    "    wc =  r.TMath.TwoPi() / 0.14919; #MHz\n",
    "\n",
    "    factor = 1.0;\n",
    "    wY = factor * (wCBO) * r.TMath.Sqrt( (2 * wc / (factor * wCBO)) -1.0 ) ;\n",
    "    wVW = wc - (2.0 * wY);\n",
    "\n",
    "    TCBO = r.TMath.TwoPi() / wCBO;\n",
    "    Ta = r.TMath.TwoPi() / wa;\n",
    "    TVW = r.TMath.TwoPi() / wVW;\n",
    "    TY = r.TMath.TwoPi() / wY;\n",
    "    T_diff= r.TMath.TwoPi()/(wCBO-wa);\n",
    "    \n",
    "    #time += (rng->Uniform()-0.5)*(Ta*1000.0);// w_a 4365\n",
    "    timestorandomize = [\n",
    "                        Ta, \n",
    "                        TCBO, \n",
    "                        TVW, \n",
    "                        TY, \n",
    "                        T_diff \n",
    "                       ]\n",
    "    for periodi in timestorandomize:\n",
    "        time += (np.random.random() - 0.5)*(periodi)\n",
    "    #print(inputtime, time, TCBO, Ta)\n",
    "    \n",
    "    return time"
   ]
  },
  {
   "cell_type": "raw",
   "metadata": {},
   "source": [
    "np.random.seed(8675309)\n",
    "\n",
    "f1 = r.TF1(\"func1\",randomizeTimes,-1000,1000,1)\n",
    "\n",
    "#randomizeTimes([30],[12])\n",
    "for i in range(10):\n",
    "    print(f1.Eval(30))"
   ]
  },
  {
   "cell_type": "code",
   "execution_count": null,
   "metadata": {},
   "outputs": [],
   "source": [
    "h = r.TH1D(\"h\",\"Test wiggle no random\",4700,0,700)\n",
    "h2 = h.Clone(\"h2\")\n",
    "h2.SetTitle(\"Test wiggle random\")\n",
    "h3 = h2.Clone(\"h3\")\n",
    "h3.SetLineColor(3)"
   ]
  },
  {
   "cell_type": "code",
   "execution_count": null,
   "metadata": {},
   "outputs": [],
   "source": [
    "h2.SetLineColor(2)\n",
    "h2.SetMarkerColor(2)"
   ]
  },
  {
   "cell_type": "code",
   "execution_count": null,
   "metadata": {},
   "outputs": [],
   "source": [
    "caloEnergyCut = \"cluEne > 1700 && cluEne < 3200 \"\n",
    "qualityCut = \"\" #\"trkPassCaloVertexQuality && trkPassTrackQuality\"\n",
    "\n",
    "allCuts = caloEnergyCut#+\" && \"+qualityCut\n",
    "\n",
    "nclusters = t.Draw(\"cluTime/1000*1.25>>h\",allCuts,\"goff\")"
   ]
  },
  {
   "cell_type": "code",
   "execution_count": null,
   "metadata": {},
   "outputs": [],
   "source": [
    "for i in range(nclusters):\n",
    "    h2.Fill(randomizeTimes([t.GetV1()[i]], [1]))"
   ]
  },
  {
   "cell_type": "code",
   "execution_count": null,
   "metadata": {},
   "outputs": [],
   "source": [
    "nclusters = t.Draw(\"testfunc(cluTime)/1000*1.25>>h3\",allCuts,\"goff\")"
   ]
  },
  {
   "cell_type": "code",
   "execution_count": null,
   "metadata": {},
   "outputs": [],
   "source": []
  },
  {
   "cell_type": "code",
   "execution_count": null,
   "metadata": {},
   "outputs": [],
   "source": [
    "c = r.TCanvas()\n",
    "h.Draw()\n",
    "h2.Draw(\"SAME\")\n",
    "h3.Draw(\"SAME\")\n",
    "c.SetLogy()\n",
    "h.GetXaxis().SetRangeUser(30,50)\n",
    "c.Draw()"
   ]
  },
  {
   "cell_type": "code",
   "execution_count": null,
   "metadata": {},
   "outputs": [],
   "source": []
  },
  {
   "cell_type": "code",
   "execution_count": null,
   "metadata": {},
   "outputs": [],
   "source": []
  },
  {
   "cell_type": "code",
   "execution_count": null,
   "metadata": {},
   "outputs": [],
   "source": []
  },
  {
   "cell_type": "code",
   "execution_count": null,
   "metadata": {},
   "outputs": [],
   "source": []
  },
  {
   "cell_type": "code",
   "execution_count": null,
   "metadata": {},
   "outputs": [],
   "source": []
  },
  {
   "cell_type": "code",
   "execution_count": null,
   "metadata": {},
   "outputs": [],
   "source": []
  }
 ],
 "metadata": {
  "kernelspec": {
   "display_name": "Python 3",
   "language": "python",
   "name": "python3"
  },
  "language_info": {
   "codemirror_mode": {
    "name": "ipython",
    "version": 3
   },
   "file_extension": ".py",
   "mimetype": "text/x-python",
   "name": "python",
   "nbconvert_exporter": "python",
   "pygments_lexer": "ipython3",
   "version": "3.7.6"
  }
 },
 "nbformat": 4,
 "nbformat_minor": 4
}
