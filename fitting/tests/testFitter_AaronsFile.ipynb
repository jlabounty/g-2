{
 "cells": [
  {
   "cell_type": "code",
   "execution_count": 1,
   "metadata": {},
   "outputs": [
    {
     "name": "stdout",
     "output_type": "stream",
     "text": [
      "Welcome to JupyROOT 6.12/06\n",
      "For interactive plots, run: setint()\n",
      "To return to non-interactive plots (default state), run: noint()\n"
     ]
    }
   ],
   "source": [
    "from omega_a_fitting import *\n",
    "from fit_util import *\n",
    "from standardInclude import *"
   ]
  },
  {
   "cell_type": "code",
   "execution_count": 2,
   "metadata": {},
   "outputs": [
    {
     "name": "stdout",
     "output_type": "stream",
     "text": [
      "TFile**\t\t./data/9Day539AClustersCoincidences.root\t\n",
      " TFile*\t\t./data/9Day539AClustersCoincidences.root\t\n",
      "  TDirectoryFile*\t\tclustersAndCoincidences\tclustersAndCoincidences (ClusterAndCoincidenceHistograms) folder\n",
      "   KEY: TH3I\tclusters;1\tclusters\n",
      "   KEY: TH2I\ttriples;1\ttriples\n",
      "   KEY: TH2I\tcoincidenceTimeDiffs;1\tcoincidence time differences\n",
      "   KEY: TH2I\tquadruples;1\tquadruples\n",
      "   KEY: TH1I\tcoincidenceEnergies;1\tcoincidence energies\n",
      "   KEY: TH2I\tbackwardsTriples;1\tbackwards triples\n",
      "   KEY: TH2I\tbackwardsCoincidenceTimeDiffs;1\tbackwards coincidence time differences\n",
      "   KEY: TH1I\tbackwardsCoincidenceEnergies;1\tbackwards coincidence energies\n",
      "   KEY: TH1I\tctag;1\tctag\n",
      "  KEY: TDirectoryFile\tclustersAndCoincidences;1\tclustersAndCoincidences (ClusterAndCoincidenceHistograms) folder\n",
      "  KEY: TDirectoryFile\tclustersAndCoincidencesRand;1\tclustersAndCoincidencesRand (ClusterAndCoincidenceHistograms) folder\n"
     ]
    }
   ],
   "source": [
    "f = r.TFile(\"./data/9Day539AClustersCoincidences.root \")\n",
    "f.cd(\"clustersAndCoincidences\")\n",
    "f.ls()"
   ]
  },
  {
   "cell_type": "code",
   "execution_count": 3,
   "metadata": {},
   "outputs": [
    {
     "name": "stdout",
     "output_type": "stream",
     "text": [
      "Binning: 4691 300 24\n"
     ]
    }
   ],
   "source": [
    "clusters = f.Get(\"clustersAndCoincidences\").Get(\"clusters\")\n",
    "clusters.Rebin3D(6,1,1)\n",
    "print(\"Binning:\", clusters.GetNbinsX(),clusters.GetNbinsY(),clusters.GetNbinsZ())"
   ]
  },
  {
   "cell_type": "code",
   "execution_count": 4,
   "metadata": {},
   "outputs": [
    {
     "data": {
      "image/png": "[encoded data removed]",
      "text/plain": [
       "<IPython.core.display.Image object>"
      ]
     },
     "metadata": {},
     "output_type": "display_data"
    }
   ],
   "source": [
    "c = r.TCanvas()\n",
    "clusters.ProjectionY().Draw()\n",
    "c.Draw()"
   ]
  },
  {
   "cell_type": "code",
   "execution_count": 5,
   "metadata": {},
   "outputs": [],
   "source": [
    "e1 = 1700\n",
    "e2 = 3500\n",
    "calo = 0\n",
    "\n",
    "wiggle = MakeWiggleFromTH3(clusters, e1, e2, calo)\n",
    "#wiggle = MakeWiggleFromTH2(clusters, e1, e2, calo, 1, True)"
   ]
  },
  {
   "cell_type": "code",
   "execution_count": 6,
   "metadata": {},
   "outputs": [
    {
     "name": "stdout",
     "output_type": "stream",
     "text": [
      "Dumping:  <omega_a_fitting.MakeWiggleFromTH3 object at 0x7fe055531be0>\n",
      "Class:  <class 'omega_a_fitting.MakeWiggleFromTH3'>\n",
      "    elow = 1700\n",
      "    ehigh = 3500\n",
      "    timeScaleFactor = 1\n",
      "    caloNum = 0\n",
      "    isPileupCorrected = False\n",
      "    BinOrEnergy = energy\n",
      "    title = Wiggle Plot for [1700 < E (MeV) < 3500] in Calo 0\n",
      "    h = <ROOT.TH1D object (\"wiggle_1700_3500_0\") at 0x7fffcc49b210>\n"
     ]
    }
   ],
   "source": [
    "DumpClass(wiggle)"
   ]
  },
  {
   "cell_type": "code",
   "execution_count": 7,
   "metadata": {},
   "outputs": [
    {
     "data": {
      "image/png": "[encoded data removed]",
      "text/plain": [
       "<IPython.core.display.Image object>"
      ]
     },
     "metadata": {},
     "output_type": "display_data"
    }
   ],
   "source": [
    "c = r.TCanvas()\n",
    "wiggle.h.Draw()\n",
    "c.SetLogy()\n",
    "c.Draw()"
   ]
  },
  {
   "cell_type": "raw",
   "metadata": {},
   "source": [
    "SaveToRootFile(wiggle,\"./data/Wiggle_Raw\")"
   ]
  },
  {
   "cell_type": "markdown",
   "metadata": {},
   "source": [
    "---\n",
    "\n",
    "### Now fit the wiggle plot"
   ]
  },
  {
   "cell_type": "code",
   "execution_count": 8,
   "metadata": {},
   "outputs": [
    {
     "name": "stdout",
     "output_type": "stream",
     "text": [
      " + ++++++++++++++++++++++++++++++++++++++++++++++++++++++++++++++++++++ +\n",
      " +                                                                      +\n",
      " +           You have chose to blind your fitting according to          +\n",
      " +                omega_ref * (1 + (R +/- deltaR) *10^{-6})             +\n",
      " +                                                                      +\n",
      " + ++++++++++++++++++++++++++++++++++++++++++++++++++++++++++++++++++++ +\n"
     ]
    }
   ],
   "source": [
    "fitFunc = WiggleFit(GetBlindingPhrase(\"./blinding.txt\"), \"5par\")"
   ]
  },
  {
   "cell_type": "code",
   "execution_count": 9,
   "metadata": {},
   "outputs": [
    {
     "name": "stdout",
     "output_type": "stream",
     "text": [
      "Dumping:  <omega_a_fitting.WiggleFit object at 0x7fe055540550>\n",
      "Class:  <class 'omega_a_fitting.WiggleFit'>\n",
      "    getBlinded = <BlindersPy3.Blinders object at 0x7fe055540518>\n",
      "    KlossHist = None\n",
      "    funcDict = {'5par': <bound method WiggleFit.five_parameter of <omega_a_fitting.WiggleFit object at 0x7fe055540550>>, '13par': <bound method WiggleFit.blinded_wiggle_cbo of <omega_a_fitting.WiggleFit object at 0x7fe055540550>>, '17par': <bound method WiggleFit.blinded_wiggle_cbo_vw of <omega_a_fitting.WiggleFit object at 0x7fe055540550>>, '18par': <bound method WiggleFit.blinded_wiggle_cbo_vw_Kloss of <omega_a_fitting.WiggleFit object at 0x7fe055540550>>, '23par': <bound method WiggleFit.blinded_wiggle_cbo_vw_Kloss_changingCBO of <omega_a_fitting.WiggleFit object at 0x7fe055540550>>, 'custom': <bound method WiggleFit.defineCustomFunction of <omega_a_fitting.WiggleFit object at 0x7fe055540550>>}\n",
      "    cboAmplitudeModel = None\n",
      "    cboFrequencyModel = None\n",
      "    isCBOFree = True\n",
      "    customFunction = None\n",
      "    kind = 5par\n"
     ]
    }
   ],
   "source": [
    "DumpClass(fitFunc)"
   ]
  },
  {
   "cell_type": "raw",
   "metadata": {},
   "source": [
    "SaveToRootFile(fitFunc,\"./data/FitFunc\")"
   ]
  },
  {
   "cell_type": "code",
   "execution_count": 10,
   "metadata": {},
   "outputs": [
    {
     "data": {
      "text/plain": [
       "-5.681362293202928"
      ]
     },
     "execution_count": 10,
     "metadata": {},
     "output_type": "execute_result"
    }
   ],
   "source": [
    "fitFunc([0],[2+x for x in range(18)])"
   ]
  },
  {
   "cell_type": "code",
   "execution_count": 11,
   "metadata": {},
   "outputs": [],
   "source": [
    "fit = BuildTF1(fitFunc, 5, \"5par\", \"five_parameter_fit\", 30, 650)\n",
    "fit.SetParameters([700000,64.4,0.33,-33,5.11])\n",
    "fit.SetParNames()"
   ]
  },
  {
   "cell_type": "raw",
   "metadata": {},
   "source": [
    "SaveToRootFile(fit,\"./data/InitializedFit\")"
   ]
  },
  {
   "cell_type": "code",
   "execution_count": 12,
   "metadata": {},
   "outputs": [
    {
     "data": {
      "image/png": "[encoded data removed]",
      "text/plain": [
       "<IPython.core.display.Image object>"
      ]
     },
     "metadata": {},
     "output_type": "display_data"
    }
   ],
   "source": [
    "c = r.TCanvas()\n",
    "fit.f.Draw()\n",
    "c.Draw()"
   ]
  },
  {
   "cell_type": "code",
   "execution_count": 13,
   "metadata": {},
   "outputs": [],
   "source": [
    "fitter = WiggleFitter(wiggle.h, fit, \"5par\", \"R\", 1)"
   ]
  },
  {
   "cell_type": "code",
   "execution_count": 14,
   "metadata": {},
   "outputs": [
    {
     "name": "stdout",
     "output_type": "stream",
     "text": [
      "Starting fit 1 / 1\n",
      "Parameters from this fit: \n",
      "     ChiSq/NDF =  12876.419062644356 / 4150 = 3.102751581360086\n",
      "      N  =  7884223.716350108 +/- 306.28649193984916\n",
      "      #tau_{#mu}  =  64.39681097355418 +/- 0.0014097688813638767\n",
      "      A  =  -0.37095983119307085 +/- 2.855007567482273e-05\n",
      "      R  =  -47.08247229854112 +/- 0.870498674227159\n",
      "      #phi_{a}  =  2.0807841674635488 +/- 0.0001417153639826404\n",
      " FCN=12876.4 FROM MIGRAD    STATUS=CONVERGED     305 CALLS         306 TOTAL\n",
      "                     EDM=2.75183e-07    STRATEGY= 1  ERROR MATRIX UNCERTAINTY   1.7 per cent\n",
      "  EXT PARAMETER                                   STEP         FIRST   \n",
      "  NO.   NAME      VALUE            ERROR          SIZE      DERIVATIVE \n",
      "   1  N            7.88422e+06   3.06286e+02   1.35461e+01   6.05439e-09\n",
      "   2  #tau_{#mu}   6.43968e+01   1.40977e-03  -3.95678e-05  -4.80141e-01\n",
      "   3  A           -3.70960e-01   2.85501e-05  -1.12669e-07   4.28598e+00\n",
      "   4  R           -4.70825e+01   8.70499e-01   2.47944e-02  -9.80384e-04\n",
      "   5  #phi_{a}     2.08078e+00   1.41715e-04  -1.28222e-06  -8.79979e+00\n"
     ]
    },
    {
     "name": "stderr",
     "output_type": "stream",
     "text": [
      "Warning in <TF1::AddToGlobalList>: Function is supposed to be in the global list but it is not present\n"
     ]
    }
   ],
   "source": [
    "fitter.Fit(2)"
   ]
  },
  {
   "cell_type": "code",
   "execution_count": 15,
   "metadata": {},
   "outputs": [
    {
     "name": "stdout",
     "output_type": "stream",
     "text": [
      "Dumping:  <omega_a_fitting.WiggleFitter object at 0x7fe055540eb8>\n",
      "Class:  <class 'omega_a_fitting.WiggleFitter'>\n",
      "    h = <ROOT.TH1D object (\"5par\") at 0x7fffcc5fb190>\n",
      "    f = <ROOT.TF1 object (\"5par_fitter\") at 0x7fffcc633980>\n",
      "    name = 5par_fitter\n",
      "    nPar = 5\n",
      "    fitOptions = R\n",
      "    nFit = 1\n",
      "    fitLow = 30\n",
      "    fitHigh = 650\n",
      "    intermediateParameters = [[7884223.716350108, 64.39681097355418, -0.37095983119307085, -47.08247229854112, 2.0807841674635488]]\n",
      "    intermediateErrors = [[306.28649193984916, 0.0014097688813638767, 2.855007567482273e-05, 0.870498674227159, 0.0001417153639826404]]\n",
      "    intermediateChi2 = [3.102751581360086]\n",
      "    pt = <ROOT.TPaveText object (\"TPave\") at 0x7fffcc6a43d0>\n",
      "    resid = <ROOT.TH1D object (\"h_resid_5par_fitter\") at 0x7fffcc7eddc0>\n",
      "    fft = None\n"
     ]
    }
   ],
   "source": [
    "DumpClass(fitter)"
   ]
  },
  {
   "cell_type": "raw",
   "metadata": {},
   "source": [
    "SaveToRootFile(fitter,\"./data/Fitter_AfterFit\")"
   ]
  },
  {
   "cell_type": "raw",
   "metadata": {},
   "source": [
    "c = r.TCanvas(\"c\",\"c\",1200,500)\n",
    "fitter.fft.Draw(\"hist\")\n",
    "#c.SetLogy()\n",
    "c.SetGrid()\n",
    "c.Draw()"
   ]
  },
  {
   "cell_type": "code",
   "execution_count": 16,
   "metadata": {},
   "outputs": [
    {
     "data": {
      "image/png": "[encoded data removed]",
      "text/plain": [
       "<IPython.core.display.Image object>"
      ]
     },
     "metadata": {},
     "output_type": "display_data"
    }
   ],
   "source": [
    "c = fitter.Draw(30,50)"
   ]
  },
  {
   "cell_type": "code",
   "execution_count": 20,
   "metadata": {},
   "outputs": [
    {
     "name": "stdout",
     "output_type": "stream",
     "text": [
      "0.23 0.01 623.9719053953861\n",
      "0.37 0.01 623.9719053953861\n",
      "2.1 0.01 623.9719053953861\n",
      "[<ROOT.TLine object (\"TLine\") at 0x7fe0540d5440>, <ROOT.TLine object (\"TLine\") at 0x7fe0540b6c20>, <ROOT.TLine object (\"TLine\") at 0x7fe0540e33e0>]\n",
      "<ROOT.TLine object (\"TLine\") at 0x7fe0540d5440>\n",
      "<ROOT.TLine object (\"TLine\") at 0x7fe0540b6c20>\n",
      "<ROOT.TLine object (\"TLine\") at 0x7fe0540e33e0>\n"
     ]
    },
    {
     "name": "stderr",
     "output_type": "stream",
     "text": [
      "Warning in <TCanvas::Constructor>: Deleting canvas with same name: c\n"
     ]
    },
    {
     "data": {
      "image/png": "[encoded data removed]",
      "text/plain": [
       "<IPython.core.display.Image object>"
      ]
     },
     "metadata": {},
     "output_type": "display_data"
    }
   ],
   "source": [
    "c = fitter.DrawFFT([0.23,0.37, 2.1],[\"#omega_{a}\", \"#omega_{CBO}\", \"#omega_{VW}\"])"
   ]
  },
  {
   "cell_type": "code",
   "execution_count": 18,
   "metadata": {},
   "outputs": [
    {
     "name": "stdout",
     "output_type": "stream",
     "text": [
      "[<ROOT.TFrame object (\"TFrame\") at 0x7fe05410bdc0>, <ROOT.TH1D object (\"out_MAG P\") at 0x7fffcb91cd80>, <ROOT.TLine object (\"TLine\") at 0x7fe0540d5440>, <ROOT.TLine object (\"TLine\") at 0x7fe0540e33e0>, <ROOT.TLine object (\"TLine\") at 0x7fe0540d5440>, <ROOT.TLine object (\"TLine\") at 0x7fe0540e33e0>, <ROOT.TLegend object (\"TPave\") at 0x7fe0540d5f70>, <ROOT.TPaveText object (\"title\") at 0x7fe0540d8420>]\n"
     ]
    }
   ],
   "source": [
    "print([x for x in c.GetListOfPrimitives()])"
   ]
  },
  {
   "cell_type": "code",
   "execution_count": null,
   "metadata": {},
   "outputs": [],
   "source": []
  },
  {
   "cell_type": "code",
   "execution_count": null,
   "metadata": {},
   "outputs": [],
   "source": []
  },
  {
   "cell_type": "code",
   "execution_count": null,
   "metadata": {},
   "outputs": [],
   "source": []
  },
  {
   "cell_type": "code",
   "execution_count": null,
   "metadata": {},
   "outputs": [],
   "source": []
  },
  {
   "cell_type": "code",
   "execution_count": null,
   "metadata": {},
   "outputs": [],
   "source": []
  },
  {
   "cell_type": "code",
   "execution_count": null,
   "metadata": {},
   "outputs": [],
   "source": []
  },
  {
   "cell_type": "code",
   "execution_count": null,
   "metadata": {},
   "outputs": [],
   "source": []
  },
  {
   "cell_type": "code",
   "execution_count": null,
   "metadata": {},
   "outputs": [],
   "source": []
  },
  {
   "cell_type": "code",
   "execution_count": null,
   "metadata": {},
   "outputs": [],
   "source": []
  },
  {
   "cell_type": "code",
   "execution_count": null,
   "metadata": {},
   "outputs": [],
   "source": []
  },
  {
   "cell_type": "code",
   "execution_count": null,
   "metadata": {},
   "outputs": [],
   "source": []
  },
  {
   "cell_type": "code",
   "execution_count": null,
   "metadata": {},
   "outputs": [],
   "source": []
  },
  {
   "cell_type": "code",
   "execution_count": null,
   "metadata": {},
   "outputs": [],
   "source": []
  },
  {
   "cell_type": "code",
   "execution_count": null,
   "metadata": {},
   "outputs": [],
   "source": []
  },
  {
   "cell_type": "code",
   "execution_count": null,
   "metadata": {},
   "outputs": [],
   "source": []
  },
  {
   "cell_type": "code",
   "execution_count": null,
   "metadata": {},
   "outputs": [],
   "source": []
  }
 ],
 "metadata": {
  "kernelspec": {
   "display_name": "Python 3",
   "language": "python",
   "name": "python3"
  },
  "language_info": {
   "codemirror_mode": {
    "name": "ipython",
    "version": 3
   },
   "file_extension": ".py",
   "mimetype": "text/x-python",
   "name": "python",
   "nbconvert_exporter": "python",
   "pygments_lexer": "ipython3",
   "version": "3.6.8"
  }
 },
 "nbformat": 4,
 "nbformat_minor": 2
}
