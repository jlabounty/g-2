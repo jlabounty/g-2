{
 "cells": [
  {
   "cell_type": "code",
   "execution_count": 1,
   "metadata": {},
   "outputs": [
    {
     "name": "stdout",
     "output_type": "stream",
     "text": [
      "Welcome to JupyROOT 6.12/06\n"
     ]
    }
   ],
   "source": [
    "import ROOT as r\n",
    "import math\n",
    "from BlindersPy3 import Blinders\n",
    "from BlindersPy3 import FitType"
   ]
  },
  {
   "cell_type": "raw",
   "metadata": {},
   "source": [
    "def five_par_function(x, p):\n",
    "    norm  = p[0]\n",
    "    life  = p[1]\n",
    "    asym  = p[2]\n",
    "    R     = p[3]\n",
    "    phi   = p[4]\n",
    "    \n",
    "    time  = x[0]\n",
    "    omega = getBlinded.paramToFreq(R)\n",
    "    \n",
    "    return norm * math.exp(-time/life) * (1 - asym*math.cos(omega*time + phi))"
   ]
  },
  {
   "cell_type": "code",
   "execution_count": 2,
   "metadata": {},
   "outputs": [],
   "source": [
    "class WiggleFit:\n",
    "\n",
    "    '''\n",
    "       Class of function which creates a wiggle fit function to be passed into a TF1.\n",
    "       Takes the following inputs:\n",
    "           blindingPhrase (str): Blinding phrase used in the BlindersPy3 class\n",
    "           kind (str): uses the dict implemented in this class to determine which form to use    \n",
    "    '''\n",
    "        \n",
    "    def getFunc(self):\n",
    "        return self.funcDict[self.kind]\n",
    "        \n",
    "    def five_parameter(self, x,p):\n",
    "        norm  = p[0]\n",
    "        life  = p[1]\n",
    "        asym  = p[2]\n",
    "        R     = p[3]\n",
    "        phi   = p[4]\n",
    "\n",
    "        time  = x[0]\n",
    "        omega = self.getBlinded.paramToFreq(R)\n",
    "\n",
    "        return norm * math.exp(-time/life) * (1 - asym*math.cos(omega*time + phi))\n",
    "    \n",
    "    \n",
    "    def __init__(self, blindingPhrase, kind):\n",
    "        self.getBlinded = Blinders(FitType.Omega_a, str(blindingPhrase))\n",
    "        self.funcDict = { \"5par\" : self.five_parameter }\n",
    "        \n",
    "        if kind in self.funcDict.keys():\n",
    "            self.kind = kind\n",
    "        else:\n",
    "            raise ValueError(\"ERROR: Function corresponding to \"+str(kind)+\" not found.\")\n",
    "    \n",
    "    def __call__(self, x, p):\n",
    "        return (self.getFunc())(x, p)"
   ]
  },
  {
   "cell_type": "code",
   "execution_count": 58,
   "metadata": {},
   "outputs": [],
   "source": [
    "class BuildTF1:\n",
    "    '''\n",
    "        Class which takes as input a WiggleFit object and uses it to construct a TF1 with the correct parameters / parameter names\n",
    "        Takes the following inputs:\n",
    "            func (WiggleFit): the function to fit\n",
    "            nPar (int): number of parameters\n",
    "            kind (str): the kind of function (somewhat redundant, but one could imagine having multiple functions with the same nPar)\n",
    "            name (str): the to give the function\n",
    "            fitLow (double): the lower bound of the function\n",
    "            fitHigh (double): the upper bound of the function\n",
    "    '''\n",
    "    \n",
    "    def __init__(self, func, nPar, kind, name, fitLow, fitHigh):\n",
    "        if(func.kind != kind):\n",
    "            raise ValueError(\"The kind of function being defined here does not match\")\n",
    "        self.f = r.TF1(name, func, fitLow, fitHigh, nPar)\n",
    "        self.nPar = nPar\n",
    "        self.name = name\n",
    "        self.fitLow = fitLow\n",
    "        self.fitHigh = fitHigh\n",
    "        self.funcRaw = func\n",
    "        self.kind = kind\n",
    "        self.nameDict = { \"5par\" : [\"N\", \"#tau_{#mu}\", \"A\",\"R\",\"#phi_{a}\"] }\n",
    "        \n",
    "    '''\n",
    "        Set the parameters of the fit.\n",
    "        Inputs:\n",
    "            nPar: number of parameters\n",
    "            parameters: list of parameter values\n",
    "    '''\n",
    "    def SetParameters(self, parameters):\n",
    "        self.initialParameters = parameters\n",
    "        if(len(parameters) == self.nPar):\n",
    "            for i in range(self.nPar):\n",
    "                self.f.SetParameter(i, parameters[i])\n",
    "        else:\n",
    "            raise ValueError(\"Number of parameters does not match initialzed value\")\n",
    "            \n",
    "    #quickly initialize to avoid divide by zero errors\n",
    "    def SetDumbParameters(self):\n",
    "        for i in range(self.nPar):\n",
    "            self.f.SetParameter(i, 1)\n",
    "            \n",
    "    def SetParameter(self, i, par):\n",
    "        if(i > nPar - 1):\n",
    "            raise ValueError(\"This parameter number is outside the range\")\n",
    "        else:\n",
    "            self.f.SetParameter(i, par)\n",
    "            \n",
    "    def SetParLimits(self, i, lim1, lim2):\n",
    "        if(i > nPar - 1):\n",
    "            raise ValueError(\"This parameter number is outside the range\")\n",
    "        else:\n",
    "            self.f.SetParLimits(i, lim1, lim2)\n",
    "            \n",
    "    def SetParNames(self, names = None):\n",
    "        if(names == None): #use default names\n",
    "            for i in range(self.nPar):\n",
    "                self.f.SetParName(i, self.nameDict[self.kind][i])\n",
    "        elif( len(names) != self.nPar ):\n",
    "            raise ValueError(\"Number of names does not match initialzed number of parameters\")\n",
    "        else:\n",
    "            for i in range(self.nPar):\n",
    "                self.f.SetParName(i, names[i])"
   ]
  },
  {
   "cell_type": "raw",
   "metadata": {},
   "source": [
    "def FitWiggle()"
   ]
  },
  {
   "cell_type": "code",
   "execution_count": 59,
   "metadata": {},
   "outputs": [
    {
     "name": "stdout",
     "output_type": "stream",
     "text": [
      " + ++++++++++++++++++++++++++++++++++++++++++++++++++++++++++++++++++++ +\n",
      " +                                                                      +\n",
      " +           You have chose to blind your fitting according to          +\n",
      " +                omega_ref * (1 + (R +/- deltaR) *10^{-6})             +\n",
      " +                                                                      +\n",
      " + ++++++++++++++++++++++++++++++++++++++++++++++++++++++++++++++++++++ +\n"
     ]
    }
   ],
   "source": [
    "fitFunc = WiggleFit(\"hello there!\", \"5par\")"
   ]
  },
  {
   "cell_type": "code",
   "execution_count": 60,
   "metadata": {},
   "outputs": [
    {
     "data": {
      "text/plain": [
       "6699.999999999999"
      ]
     },
     "execution_count": 60,
     "metadata": {},
     "output_type": "execute_result"
    }
   ],
   "source": [
    "fitFunc([0],[10000,64.4,0.33,0,0])"
   ]
  },
  {
   "cell_type": "code",
   "execution_count": 61,
   "metadata": {},
   "outputs": [
    {
     "ename": "ValueError",
     "evalue": "Number of names does not match initialzed number of parameters",
     "output_type": "error",
     "traceback": [
      "\u001b[0;31m---------------------------------------------------------------------------\u001b[0m",
      "\u001b[0;31mValueError\u001b[0m                                Traceback (most recent call last)",
      "\u001b[0;32m<ipython-input-61-497d21359b88>\u001b[0m in \u001b[0;36m<module>\u001b[0;34m\u001b[0m\n\u001b[1;32m      1\u001b[0m \u001b[0mfit\u001b[0m \u001b[0;34m=\u001b[0m \u001b[0mBuildTF1\u001b[0m\u001b[0;34m(\u001b[0m\u001b[0mfitFunc\u001b[0m\u001b[0;34m,\u001b[0m \u001b[0;36m5\u001b[0m\u001b[0;34m,\u001b[0m \u001b[0;34m\"5par\"\u001b[0m\u001b[0;34m,\u001b[0m \u001b[0;34m\"five_parameter_fit\"\u001b[0m\u001b[0;34m,\u001b[0m \u001b[0;36m100\u001b[0m\u001b[0;34m,\u001b[0m \u001b[0;36m200\u001b[0m\u001b[0;34m)\u001b[0m\u001b[0;34m\u001b[0m\u001b[0;34m\u001b[0m\u001b[0m\n\u001b[1;32m      2\u001b[0m \u001b[0mfit\u001b[0m\u001b[0;34m.\u001b[0m\u001b[0mSetParameters\u001b[0m\u001b[0;34m(\u001b[0m\u001b[0;34m[\u001b[0m\u001b[0;36m10000\u001b[0m\u001b[0;34m,\u001b[0m\u001b[0;36m64.4\u001b[0m\u001b[0;34m,\u001b[0m\u001b[0;36m0.33\u001b[0m\u001b[0;34m,\u001b[0m\u001b[0;36m0\u001b[0m\u001b[0;34m,\u001b[0m\u001b[0;36m0\u001b[0m\u001b[0;34m]\u001b[0m\u001b[0;34m)\u001b[0m\u001b[0;34m\u001b[0m\u001b[0;34m\u001b[0m\u001b[0m\n\u001b[0;32m----> 3\u001b[0;31m \u001b[0mfit\u001b[0m\u001b[0;34m.\u001b[0m\u001b[0mSetParNames\u001b[0m\u001b[0;34m(\u001b[0m\u001b[0;34m[\u001b[0m\u001b[0;34m\"a\"\u001b[0m\u001b[0;34m,\u001b[0m\u001b[0;34m\"a\"\u001b[0m\u001b[0;34m,\u001b[0m\u001b[0;34m\"a\"\u001b[0m\u001b[0;34m,\u001b[0m\u001b[0;34m\"a\"\u001b[0m\u001b[0;34m,\u001b[0m\u001b[0;34m\"a\"\u001b[0m\u001b[0;34m,\u001b[0m\u001b[0;34m\"a\"\u001b[0m\u001b[0;34m]\u001b[0m\u001b[0;34m)\u001b[0m\u001b[0;34m\u001b[0m\u001b[0;34m\u001b[0m\u001b[0m\n\u001b[0m",
      "\u001b[0;32m<ipython-input-58-e58d52ef2bdc>\u001b[0m in \u001b[0;36mSetParNames\u001b[0;34m(self, names)\u001b[0m\n\u001b[1;32m     54\u001b[0m                 \u001b[0mself\u001b[0m\u001b[0;34m.\u001b[0m\u001b[0mf\u001b[0m\u001b[0;34m.\u001b[0m\u001b[0mSetParName\u001b[0m\u001b[0;34m(\u001b[0m\u001b[0mi\u001b[0m\u001b[0;34m,\u001b[0m \u001b[0mself\u001b[0m\u001b[0;34m.\u001b[0m\u001b[0mnameDict\u001b[0m\u001b[0;34m[\u001b[0m\u001b[0mself\u001b[0m\u001b[0;34m.\u001b[0m\u001b[0mkind\u001b[0m\u001b[0;34m]\u001b[0m\u001b[0;34m[\u001b[0m\u001b[0mi\u001b[0m\u001b[0;34m]\u001b[0m\u001b[0;34m)\u001b[0m\u001b[0;34m\u001b[0m\u001b[0;34m\u001b[0m\u001b[0m\n\u001b[1;32m     55\u001b[0m         \u001b[0;32melif\u001b[0m\u001b[0;34m(\u001b[0m \u001b[0mlen\u001b[0m\u001b[0;34m(\u001b[0m\u001b[0mnames\u001b[0m\u001b[0;34m)\u001b[0m \u001b[0;34m!=\u001b[0m \u001b[0mself\u001b[0m\u001b[0;34m.\u001b[0m\u001b[0mnPar\u001b[0m \u001b[0;34m)\u001b[0m\u001b[0;34m:\u001b[0m\u001b[0;34m\u001b[0m\u001b[0;34m\u001b[0m\u001b[0m\n\u001b[0;32m---> 56\u001b[0;31m             \u001b[0;32mraise\u001b[0m \u001b[0mValueError\u001b[0m\u001b[0;34m(\u001b[0m\u001b[0;34m\"Number of names does not match initialzed number of parameters\"\u001b[0m\u001b[0;34m)\u001b[0m\u001b[0;34m\u001b[0m\u001b[0;34m\u001b[0m\u001b[0m\n\u001b[0m\u001b[1;32m     57\u001b[0m         \u001b[0;32melse\u001b[0m\u001b[0;34m:\u001b[0m\u001b[0;34m\u001b[0m\u001b[0;34m\u001b[0m\u001b[0m\n\u001b[1;32m     58\u001b[0m             \u001b[0;32mfor\u001b[0m \u001b[0mi\u001b[0m \u001b[0;32min\u001b[0m \u001b[0mrange\u001b[0m\u001b[0;34m(\u001b[0m\u001b[0mself\u001b[0m\u001b[0;34m.\u001b[0m\u001b[0mnPar\u001b[0m\u001b[0;34m)\u001b[0m\u001b[0;34m:\u001b[0m\u001b[0;34m\u001b[0m\u001b[0;34m\u001b[0m\u001b[0m\n",
      "\u001b[0;31mValueError\u001b[0m: Number of names does not match initialzed number of parameters"
     ]
    }
   ],
   "source": [
    "fit = BuildTF1(fitFunc, 5, \"5par\", \"five_parameter_fit\", 100, 200)\n",
    "fit.SetParameters([10000,64.4,0.33,0,0])\n",
    "fit.SetParNames([\"a\",\"a\",\"a\",\"a\",\"a\",\"a\"])"
   ]
  },
  {
   "cell_type": "code",
   "execution_count": 62,
   "metadata": {},
   "outputs": [
    {
     "data": {
      "image/png": "[encoded data removed]",
      "text/plain": [
       "<IPython.core.display.Image object>"
      ]
     },
     "metadata": {},
     "output_type": "display_data"
    }
   ],
   "source": [
    "c = r.TCanvas()\n",
    "fit.f.Draw()\n",
    "c.Draw()"
   ]
  },
  {
   "cell_type": "code",
   "execution_count": 55,
   "metadata": {},
   "outputs": [
    {
     "name": "stderr",
     "output_type": "stream",
     "text": [
      "Warning in <TROOT::Append>: Replacing existing TH1: h (Potential memory leak).\n"
     ]
    }
   ],
   "source": [
    "h = r.TH1D(\"h\",\"h\",1000,100,200)\n",
    "for i in range(h.GetNbinsX()):\n",
    "    h.SetBinContent(i, fit.f.Eval(h.GetBinCenter(i) + 1000))"
   ]
  },
  {
   "cell_type": "code",
   "execution_count": 56,
   "metadata": {},
   "outputs": [
    {
     "name": "stdout",
     "output_type": "stream",
     "text": [
      " FCN=1.34881e-05 FROM MIGRAD    STATUS=FAILED        322 CALLS         323 TOTAL\n",
      "                     EDM=2.71361e-05    STRATEGY= 1      ERR MATRIX APPROXIMATE\n",
      "  EXT PARAMETER                APPROXIMATE        STEP         FIRST   \n",
      "  NO.   NAME      VALUE            ERROR          SIZE      DERIVATIVE \n",
      "   1  a            1.79662e-03   2.18927e-02   2.06129e-06  -2.03968e-01\n",
      "   2  a            6.45059e+01   3.61374e+02   3.19350e-02  -9.88084e-06\n",
      "   3  a            3.28204e-01   3.08525e+00   1.50104e-03  -3.03479e-04\n",
      "   4  a            8.79587e+02   2.46008e+05   2.80807e+00   2.47253e-08\n",
      "   5  a            4.25147e-01   4.97051e+01   4.72253e-03  -2.32567e-05\n"
     ]
    },
    {
     "name": "stderr",
     "output_type": "stream",
     "text": [
      "Warning in <Fit>: Abnormal termination of minimization.\n"
     ]
    },
    {
     "data": {
      "image/png": "[encoded data removed]",
      "text/plain": [
       "<IPython.core.display.Image object>"
      ]
     },
     "metadata": {},
     "output_type": "display_data"
    }
   ],
   "source": [
    "c = r.TCanvas()\n",
    "h.Draw()\n",
    "h.Fit(fit.name)\n",
    "c.Draw()"
   ]
  },
  {
   "cell_type": "code",
   "execution_count": null,
   "metadata": {},
   "outputs": [],
   "source": []
  }
 ],
 "metadata": {
  "kernelspec": {
   "display_name": "Python 3",
   "language": "python",
   "name": "python3"
  },
  "language_info": {
   "codemirror_mode": {
    "name": "ipython",
    "version": 3
   },
   "file_extension": ".py",
   "mimetype": "text/x-python",
   "name": "python",
   "nbconvert_exporter": "python",
   "pygments_lexer": "ipython3",
   "version": "3.6.8"
  }
 },
 "nbformat": 4,
 "nbformat_minor": 2
}
