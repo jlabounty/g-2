{
 "cells": [
  {
   "cell_type": "code",
   "execution_count": 20,
   "metadata": {},
   "outputs": [],
   "source": [
    "from omega_a_fitting import *\n",
    "from fit_util import *\n",
    "from pileup_correction import *\n",
    "\n",
    "from standardInclude import *"
   ]
  },
  {
   "cell_type": "code",
   "execution_count": 21,
   "metadata": {},
   "outputs": [
    {
     "name": "stdout",
     "output_type": "stream",
     "text": [
      "TFile**\t\t./PileupCorrection_TcOver6Binning_TruncIslands_WithTriples_2019_07_24_11_46_05.root\t\n",
      " TFile*\t\t./PileupCorrection_TcOver6Binning_TruncIslands_WithTriples_2019_07_24_11_46_05.root\t\n",
      "  KEY: TTree\tt;10\tVariable Tree\n",
      "  KEY: TTree\tt;9\tVariable Tree\n",
      "  KEY: TTree\tt;8\tVariable Tree\n",
      "  KEY: TTree\tt;7\tVariable Tree\n",
      "  KEY: TTree\tt;6\tVariable Tree\n",
      "  KEY: TTree\tt;5\tVariable Tree\n",
      "  KEY: TTree\tt;4\tVariable Tree\n",
      "  KEY: TTree\tt;3\tVariable Tree\n",
      "  KEY: TTree\tt;2\tVariable Tree\n",
      "  KEY: TTree\tt;1\tVariable Tree\n",
      "  KEY: TH2D\th;4\tclusters yx projection\n",
      "  KEY: TH2D\th;3\tclusters yx projection\n",
      "  KEY: TH2D\th;2\tclusters yx projection\n",
      "  KEY: TH2D\th;1\tclusters yx projection\n",
      "  KEY: TH1D\th_y;1\tclusters yx projection\n",
      "  KEY: TNamed\tname;1\t6binning\n",
      "  KEY: TNamed\tfitOptions;1\tR\n",
      "  KEY: TH2D\trhoDouble;1\tclusters yx projection\n",
      "  KEY: TH2D\tdoublePileup;4\tDouble Pileup [Unscaled]\n",
      "  KEY: TH2D\tdoublePileup;3\tDouble Pileup [Unscaled]\n",
      "  KEY: TH2D\tdoublePileup;2\tDouble Pileup [Unscaled]\n",
      "  KEY: TH2D\tdoublePileup;1\tDouble Pileup [Unscaled]\n",
      "  KEY: TH1D\tdoublePileupY;1\tDouble Pileup [Unscaled]\n",
      "  KEY: TH2D\th_doublePileupCorrected;1\tclusters yx projection\n",
      "  KEY: TH2D\ttriplePileup;4\tclusters yx projection\n",
      "  KEY: TH2D\ttriplePileup;3\tclusters yx projection\n",
      "  KEY: TH2D\ttriplePileup;2\tclusters yx projection\n",
      "  KEY: TH2D\ttriplePileup;1\tclusters yx projection\n",
      "  KEY: TH1D\ttriplePileupY;1\tclusters yx projection\n",
      "  KEY: TH2D\th_pileupCorrected;2\tclusters yx projection\n",
      "  KEY: TH2D\th_pileupCorrected;1\tclusters yx projection\n"
     ]
    }
   ],
   "source": [
    "f = r.TFile(\"./PileupCorrection_TcOver6Binning_TruncIslands_WithTriples_2019_07_24_11_46_05.root\")\n",
    "f.ls()"
   ]
  },
  {
   "cell_type": "code",
   "execution_count": 22,
   "metadata": {},
   "outputs": [
    {
     "name": "stdout",
     "output_type": "stream",
     "text": [
      "******************************************************************************\n",
      "*Tree    :t         : Variable Tree                                          *\n",
      "*Entries :        1 : Total =            3389 bytes  File  Size =       1176 *\n",
      "*        :          : Tree compression factor =   1.00                       *\n",
      "******************************************************************************\n",
      "*Br    0 :iteration : iteration/F                                            *\n",
      "*Entries :        1 : Total  Size=        578 bytes  File Size  =         77 *\n",
      "*Baskets :        1 : Basket Size=      32000 bytes  Compression=   1.00     *\n",
      "*............................................................................*\n",
      "*Br    1 :deltat    : deltat/F                                               *\n",
      "*Entries :        1 : Total  Size=        563 bytes  File Size  =         74 *\n",
      "*Baskets :        1 : Basket Size=      32000 bytes  Compression=   1.00     *\n",
      "*............................................................................*\n",
      "*Br    2 :verbosity : verbosity/F                                            *\n",
      "*Entries :        1 : Total  Size=        578 bytes  File Size  =         77 *\n",
      "*Baskets :        1 : Basket Size=      32000 bytes  Compression=   1.00     *\n",
      "*............................................................................*\n",
      "*Br    3 :doublePileupOnlyScaleFactor : doublePileupOnlyScaleFactor/F        *\n",
      "*Entries :        1 : Total  Size=        668 bytes  File Size  =         95 *\n",
      "*Baskets :        1 : Basket Size=      32000 bytes  Compression=   1.00     *\n",
      "*............................................................................*\n",
      "*Br    4 :pileupScaleFactors : pileupScaleFactors[2]/F                       *\n",
      "*Entries :        1 : Total  Size=        633 bytes  File Size  =         90 *\n",
      "*Baskets :        1 : Basket Size=      32000 bytes  Compression=   1.00     *\n",
      "*............................................................................*\n"
     ]
    }
   ],
   "source": [
    "t = f.Get(\"t\")\n",
    "t.Print()\n",
    "t.Draw(\"doublePileupOnlyScaleFactor\",\"\",\"goff\")\n",
    "doublePileupOnlyScaleFactor = t.GetV1()[0]"
   ]
  },
  {
   "cell_type": "code",
   "execution_count": 23,
   "metadata": {},
   "outputs": [
    {
     "name": "stdout",
     "output_type": "stream",
     "text": [
      "1.6297261318243272e-09 -6.136869094552857e-18\n"
     ]
    }
   ],
   "source": [
    "t.Draw(\"pileupScaleFactors\",\"\",\"goff\")\n",
    "print(t.GetV1()[0], t.GetV1()[1])\n",
    "initialPileupFactorDouble = t.GetV1()[0]\n",
    "initialPileupFactorTriple = t.GetV1()[1]"
   ]
  },
  {
   "cell_type": "code",
   "execution_count": 24,
   "metadata": {},
   "outputs": [
    {
     "data": {
      "image/png": "[encoded data removed]",
      "text/plain": [
       "<IPython.core.display.Image object>"
      ]
     },
     "metadata": {},
     "output_type": "display_data"
    }
   ],
   "source": [
    "c = r.TCanvas()\n",
    "f.Get(\"h_y\").Draw()\n",
    "c.SetLogy()\n",
    "c.Draw()"
   ]
  },
  {
   "cell_type": "code",
   "execution_count": 39,
   "metadata": {},
   "outputs": [],
   "source": [
    "optimumScaleFactor = 0.6264365817528298\n",
    "optimumScaleFactorTriple = 2.0825799737451844"
   ]
  },
  {
   "cell_type": "raw",
   "metadata": {},
   "source": [
    "c = r.TCanvas()\n",
    "f.Get(\"h\").ProjectionY(\"\",30*6,-1).Draw(\"hist\")\n",
    "\n",
    "ding = f.Get(\"doublePileup\").ProjectionY(\"\",30, 40).Clone()\n",
    "ding.SetLineColor(3)\n",
    "ding.SetMarkerColor(3)\n",
    "ding.Scale(doublePileupOnlyScaleFactor * optimumScaleFactor)\n",
    "dingInv = ding.Clone()\n",
    "for i in range(dingInv.GetNbinsX()+1):\n",
    "    dingInv.SetBinContent(i, dingInv.GetBinContent(i)*(-1))\n",
    "ding.Draw(\"hist SAME\")\n",
    "\n",
    "dingInv.SetLineColor(6)\n",
    "dingInv.SetMarkerColor(6)\n",
    "dingInv.Draw(\"hist SAME\")\n",
    "\n",
    "c.SetLogy()\n",
    "c.Draw()"
   ]
  },
  {
   "cell_type": "raw",
   "metadata": {},
   "source": [
    "c = r.TCanvas()\n",
    "\n",
    "f.Get(\"h\").ProjectionY(\"\",30*6,-1).Draw(\"hist\")\n",
    "\n",
    "ding = f.Get(\"doublePileup\").ProjectionY(\"\",30,-1).Clone()\n",
    "ding.SetLineColor(3)\n",
    "ding.SetMarkerColor(3)\n",
    "ding.Scale(doublePileupOnlyScaleFactor * optimumScaleFactor)\n",
    "ding.Draw(\"hist same\")\n",
    "dingInv = ding.Clone()\n",
    "for i in range(dingInv.GetNbinsX()+1):\n",
    "    dingInv.SetBinContent(i, dingInv.GetBinContent(i)*(-1))\n",
    "\n",
    "dingInv.SetLineColor(6)\n",
    "dingInv.SetMarkerColor(6)\n",
    "dingInv.Draw(\"hist SAME\")\n",
    "\n",
    "c.SetLogy()\n",
    "c.Draw()"
   ]
  },
  {
   "cell_type": "code",
   "execution_count": 42,
   "metadata": {},
   "outputs": [
    {
     "name": "stdout",
     "output_type": "stream",
     "text": [
      "<ROOT.TH1D object at 0x7fffc43a41f0>\n"
     ]
    },
    {
     "data": {
      "image/png": "[encoded data removed]",
      "text/plain": [
       "<IPython.core.display.Image object>"
      ]
     },
     "metadata": {},
     "output_type": "display_data"
    }
   ],
   "source": [
    "ding = f.Get(\"doublePileup\").ProjectionY(\"\",bini,-1).Clone()\n",
    "print(ding)\n",
    "ding.Draw(\"hist\")\n",
    "ding.Scale(doublePileupOnlyScaleFactor * optimumScaleFactor)\n",
    "ding.GetYaxis().SetRangeUser(100,10000000000)\n",
    "ding.SetLineColor(3)\n",
    "ding.SetMarkerColor(3)\n",
    "\n",
    "\n",
    "dingInv = ding.Clone()\n",
    "for i in range(dingInv.GetNbinsX()+1):\n",
    "    dingInv.SetBinContent(i, dingInv.GetBinContent(i)*(-1))\n",
    "\n",
    "dingInv.SetLineColor(6)\n",
    "dingInv.SetMarkerColor(6)\n",
    "dingInv.Draw(\"hist SAME\")\n",
    "\n",
    "f.Get(\"h\").ProjectionY(\"\",bini,-1).Draw(\"hist same\")\n",
    "\n",
    "leg = r.TLegend(0.7,0.7,0.9,0.9)\n",
    "leg.AddEntry(ding, \"Doubles\", \"l\")\n",
    "leg.AddEntry(dingInv, \"Doubles [Inverted]\", \"l\")\n",
    "leg.AddEntry(f.Get(\"h\"), \"Uncorrected Spectrum\", \"l\")\n",
    "leg.Draw()\n",
    "\n",
    "c.Draw()"
   ]
  },
  {
   "cell_type": "raw",
   "metadata": {},
   "source": [
    "def PlotPileupSpectrum(hists, scaleFactors, names, title = None):\n",
    "    import ROOT as r\n",
    "    c = r.TCanvas(\"c\",\"c\",1200,900)\n",
    "\n",
    "    invHists = []\n",
    "    leg = r.TLegend(0.7,0.6,0.9,0.9)\n",
    "    for i, hi in enumerate(hists):\n",
    "        if(title is not None):\n",
    "            hi.SetTitle(title)\n",
    "        hi.Scale(scaleFactors[i])\n",
    "        leg.AddEntry(hi,names[i],\"l\")\n",
    "        if(i == 0):\n",
    "            hi.SetLineColor(9)\n",
    "            hi.Draw(\"hist\")\n",
    "        else:\n",
    "            hi.SetLineColor(i+1)\n",
    "            hi.Draw(\"hist same\")\n",
    "            hiInv = hi.Clone(str(i))\n",
    "            for j in range(hiInv.GetNbinsX()+1):\n",
    "                hiInv.SetBinContent(j, hiInv.GetBinContent(j)*(-1))\n",
    "            hiInv.SetLineStyle(8)\n",
    "            invHists.append(hiInv)\n",
    "            leg.AddEntry(hiInv, names[i]+\" [Inverted]\", \"l\")\n",
    "            hiInv.DrawCopy(\"hist same\")\n",
    "            \n",
    "    leg.Draw()\n",
    "    \n",
    "    c.SetLogy()\n",
    "    c.Draw()\n",
    "    return (c, leg)"
   ]
  },
  {
   "cell_type": "code",
   "execution_count": 43,
   "metadata": {},
   "outputs": [],
   "source": [
    "from pileup_correction import *"
   ]
  },
  {
   "cell_type": "code",
   "execution_count": 73,
   "metadata": {},
   "outputs": [
    {
     "name": "stdout",
     "output_type": "stream",
     "text": [
      "8848 180\n"
     ]
    }
   ],
   "source": [
    "bini = f.Get(\"h\").GetXaxis().FindBin(220)\n",
    "print(bini, 30*6)"
   ]
  },
  {
   "cell_type": "code",
   "execution_count": 74,
   "metadata": {},
   "outputs": [
    {
     "name": "stderr",
     "output_type": "stream",
     "text": [
      "Warning in <TCanvas::Constructor>: Deleting canvas with same name: c\n"
     ]
    },
    {
     "data": {
      "image/png": "[encoded data removed]",
      "text/plain": [
       "<IPython.core.display.Image object>"
      ]
     },
     "metadata": {},
     "output_type": "display_data"
    }
   ],
   "source": [
    "hi = f.Get(\"h\").ProjectionY(\"\",bini,-1).Clone()\n",
    "triple = f.Get(\"triplePileup\").ProjectionY(\"\",bini,-1).Clone()\n",
    "ding = f.Get(\"doublePileup\").ProjectionY(\"\",bini,-1).Clone()\n",
    "\n",
    "c1 = PlotPileupSpectrum([hi, ding, triple], [1,doublePileupOnlyScaleFactor * optimumScaleFactor\n",
    "                                             , initialPileupFactorTriple * optimumScaleFactorTriple],\n",
    "                        [\"Uncorrected\", \"Doubles\", \"Triples\"],\"Pileup Spectrum\")"
   ]
  },
  {
   "cell_type": "code",
   "execution_count": 56,
   "metadata": {},
   "outputs": [
    {
     "data": {
      "text/plain": [
       "True"
      ]
     },
     "execution_count": 56,
     "metadata": {},
     "output_type": "execute_result"
    }
   ],
   "source": [
    "totalPileup = ding.Clone()\n",
    "totalPileup.Add(triple,-1)"
   ]
  },
  {
   "cell_type": "code",
   "execution_count": 57,
   "metadata": {},
   "outputs": [
    {
     "data": {
      "image/png": "[encoded data removed]",
      "text/plain": [
       "<IPython.core.display.Image object>"
      ]
     },
     "metadata": {},
     "output_type": "display_data"
    }
   ],
   "source": [
    "c = r.TCanvas()\n",
    "f.Get(\"h\").ProjectionY(\"\",bini,-1).Draw(\"hist\")\n",
    "totalPileup.Draw(\"hist SAME\")\n",
    "\n",
    "leg = r.TLegend(0.7,0.7,0.9,0.9)\n",
    "leg.AddEntry(totalPileup, \"Total\", \"l\")\n",
    "leg.AddEntry(f.Get(\"h\"), \"Uncorrected Spectrum\", \"l\")\n",
    "leg.Draw()\n",
    "\n",
    "c.SetLogy()\n",
    "\n",
    "c.Draw()"
   ]
  },
  {
   "cell_type": "code",
   "execution_count": null,
   "metadata": {},
   "outputs": [],
   "source": []
  },
  {
   "cell_type": "code",
   "execution_count": null,
   "metadata": {},
   "outputs": [],
   "source": []
  },
  {
   "cell_type": "code",
   "execution_count": null,
   "metadata": {},
   "outputs": [],
   "source": []
  },
  {
   "cell_type": "code",
   "execution_count": null,
   "metadata": {},
   "outputs": [],
   "source": []
  },
  {
   "cell_type": "code",
   "execution_count": null,
   "metadata": {},
   "outputs": [],
   "source": []
  },
  {
   "cell_type": "code",
   "execution_count": null,
   "metadata": {},
   "outputs": [],
   "source": []
  }
 ],
 "metadata": {
  "kernelspec": {
   "display_name": "Python 3",
   "language": "python",
   "name": "python3"
  },
  "language_info": {
   "codemirror_mode": {
    "name": "ipython",
    "version": 3
   },
   "file_extension": ".py",
   "mimetype": "text/x-python",
   "name": "python",
   "nbconvert_exporter": "python",
   "pygments_lexer": "ipython3",
   "version": "3.6.8"
  }
 },
 "nbformat": 4,
 "nbformat_minor": 2
}
