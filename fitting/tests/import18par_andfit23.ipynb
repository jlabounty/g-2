{
 "cells": [
  {
   "cell_type": "code",
   "execution_count": 1,
   "metadata": {},
   "outputs": [
    {
     "name": "stdout",
     "output_type": "stream",
     "text": [
      "Welcome to JupyROOT 6.12/06\n"
     ]
    }
   ],
   "source": [
    "from omega_a_fitting import *\n",
    "from fit_util import *"
   ]
  },
  {
   "cell_type": "code",
   "execution_count": 2,
   "metadata": {},
   "outputs": [],
   "source": [
    "f18 = \"./18ParameterFit_2019_07_18_16_24_58.root\""
   ]
  },
  {
   "cell_type": "code",
   "execution_count": 32,
   "metadata": {},
   "outputs": [],
   "source": [
    "def InitializeWiggleFitterFromFile( fileName ):\n",
    "    '''\n",
    "        Function to take a wiggle fitter which has been saved to a file and re-initialize it in a useable form\n",
    "        Inputs: \n",
    "            fileName (str)\n",
    "        Output:\n",
    "            initialized fitter (WiggleFit)\n",
    "    '''\n",
    "    f = r.TFile(fileName)\n",
    "    #f.ls()\n",
    "    keys = [x for x in f.GetListOfKeys()]\n",
    "    #print(keys)\n",
    "    #dict = {}\n",
    "    for key in keys:\n",
    "        name = key.GetName()\n",
    "        obj = f.Get(name)\n",
    "        #print(name,\"=\", obj)\n",
    "        if(\"ROOT.TF1\" in str(type(obj))):\n",
    "            func = r.TF1(f.Get(key.GetName()))\n",
    "        elif( \"ROOT.TH1\" in str(type(obj))):\n",
    "            if(\"resid\" not in name and \"MAG\" not in name):\n",
    "                hist = f.Get(name).Clone()\n",
    "                hist.SetDirectory(0)\n",
    "                #print(\"Cloning!\")\n",
    "        elif( name == \"name\" ):\n",
    "            funcName = obj.GetTitle()\n",
    "        elif( name == \"fitOptions\"):\n",
    "            fitOptions = obj.GetTitle()\n",
    "        \n",
    "            \n",
    "    nFit = 1\n",
    "            \n",
    "    #print(hist, func, funcName, fitOptions, nFit)\n",
    "    w = WiggleFitter(hist,func, funcName, fitOptions, nFit)\n",
    "    t = f.Get(\"t\")\n",
    "    #t.Print()\n",
    "    for i, e in enumerate(t):\n",
    "        names = []\n",
    "        for j, b in enumerate(e.GetListOfBranches()):\n",
    "            names.append(b.GetName())\n",
    "    for name in names:\n",
    "        Nentries = t.Draw(name,\"\",\"goff\")\n",
    "        #if(t.GetEntries() == 1):\n",
    "        if( Nentries == 1):\n",
    "            execString = \"w.\"+str(name)+\" = \"+str(t.GetV1()[0])\n",
    "            #print(execString)\n",
    "            exec(execString)\n",
    "        else:\n",
    "            #Nentries = t.GetEntries()\n",
    "            val = []\n",
    "            for i in range(Nentries):\n",
    "                val.append( t.GetV1()[i] )\n",
    "            execString = \"w.\"+str(name)+\" = \"+str( val )\n",
    "            #print(execString)\n",
    "            exec(execString)\n",
    "\n",
    "\n",
    "    return w\n",
    "            \n"
   ]
  },
  {
   "cell_type": "code",
   "execution_count": 33,
   "metadata": {},
   "outputs": [
    {
     "name": "stdout",
     "output_type": "stream",
     "text": [
      "ERROR: could not set fit bounds automatically. Please set self.fitLow / self.fitHigh.\n"
     ]
    }
   ],
   "source": [
    "w = InitializeWiggleFitterFromFile(f18)"
   ]
  },
  {
   "cell_type": "code",
   "execution_count": 34,
   "metadata": {},
   "outputs": [
    {
     "name": "stdout",
     "output_type": "stream",
     "text": [
      "Dumping:  <omega_a_fitting.WiggleFitter object at 0x7fc34731e240>\n",
      "Class:  <class 'omega_a_fitting.WiggleFitter'>\n",
      "    h = <ROOT.TH1D object (\"18par_fitter\") at 0x7fc34a502630>\n",
      "    f = <ROOT.TF1 object (\"18par_fitter_fitter\") at 0x7fc34a5167f0>\n",
      "    name = 18par_fitter_fitter\n",
      "    nPar = 18.0\n",
      "    fitOptions = REMB\n",
      "    nFit = 1.0\n",
      "    fitLow = 30.0\n",
      "    fitHigh = 650.0\n",
      "    intermediateParameters = []\n",
      "    intermediateErrors = []\n",
      "    intermediateChi2 = 247.4886474609375\n",
      "    pt = <ROOT.TPaveText object (\"TPave\") at 0x7fffdff38890>\n",
      "    resid = None\n",
      "    intermediateParameters_0 = [2506601.75, 62.619197845458984, 0.36967670917510986, 117.722412109375, -1.0883032083511353, 0.03129654750227928, 0.737303614616394, -1.2525185346603394, 11.110902786254883, 2.125657081604004, -12.99930477142334, 7.659363746643066, -21.409996032714844, -0.24477927386760712, 1.5212411880493164, 11.110766410827637, -7.514698505401611, -3.9753949465648475e-08]\n",
      "    intermediateErrors_0 = [340.51708984375, 0.0014525067526847124, 2.921383929788135e-05, 0.34041231870651245, 6.307136209215969e-05, 1.4983916116761975e-05, 0.0001112986501539126, 0.0002278895553899929, 0.015868794173002243, 8.693841664353386e-05, 0.00393837783485651, 0.006436146795749664, 0.006394895259290934, 0.00012193834845675156, 0.011372637934982777, 0.0006890693330205977, 0.003712907200679183, 8.346769456157865e-12]\n"
     ]
    }
   ],
   "source": [
    "DumpClass(w)"
   ]
  },
  {
   "cell_type": "code",
   "execution_count": null,
   "metadata": {},
   "outputs": [],
   "source": []
  },
  {
   "cell_type": "code",
   "execution_count": null,
   "metadata": {},
   "outputs": [],
   "source": []
  },
  {
   "cell_type": "code",
   "execution_count": null,
   "metadata": {},
   "outputs": [],
   "source": []
  }
 ],
 "metadata": {
  "kernelspec": {
   "display_name": "Python 3",
   "language": "python",
   "name": "python3"
  },
  "language_info": {
   "codemirror_mode": {
    "name": "ipython",
    "version": 3
   },
   "file_extension": ".py",
   "mimetype": "text/x-python",
   "name": "python",
   "nbconvert_exporter": "python",
   "pygments_lexer": "ipython3",
   "version": "3.6.8"
  }
 },
 "nbformat": 4,
 "nbformat_minor": 2
}
