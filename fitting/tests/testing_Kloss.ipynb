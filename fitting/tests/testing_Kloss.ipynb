{
 "cells": [
  {
   "cell_type": "code",
   "execution_count": 2,
   "metadata": {},
   "outputs": [
    {
     "name": "stdout",
     "output_type": "stream",
     "text": [
      "Welcome to JupyROOT 6.12/06\n"
     ]
    }
   ],
   "source": [
    "from lost_muon_calculation import *\n",
    "from fit_util import *"
   ]
  },
  {
   "cell_type": "code",
   "execution_count": 3,
   "metadata": {},
   "outputs": [
    {
     "name": "stdout",
     "output_type": "stream",
     "text": [
      "TFile**\t\t../truncationTest/data/results_1MissingFile_FullVsTrunc.root\t\n",
      " TFile*\t\t../truncationTest/data/results_1MissingFile_FullVsTrunc.root\t\n",
      "  KEY: TDirectoryFile\tclustersAndCoincidences;1\tclustersAndCoincidences (ClusterAndCoincidenceHistograms) folder\n",
      "  KEY: TDirectoryFile\tclustersAndCoincidencesTrunc;1\tclustersAndCoincidencesTrunc (ClusterAndCoincidenceHistograms) folder\n",
      "  KEY: TDirectoryFile\tfarline;1\tfarline (CaloFarlineHistograms) folder\n",
      "  KEY: TDirectoryFile\tfarlineTrunc;1\tfarlineTrunc (CaloFarlineHistograms) folder\n",
      "  KEY: TDirectoryFile\tclusterCompare;1\tclusterCompare (ReconComparisonTruncatedVsFull) folder\n"
     ]
    }
   ],
   "source": [
    "#f = r.TFile(\"./data/results_10MissingOutputFiles_9day_histOnly.root\")\n",
    "f = r.TFile(\"../truncationTest/data/results_1MissingFile_FullVsTrunc.root\")\n",
    "f.ls()"
   ]
  },
  {
   "cell_type": "code",
   "execution_count": 4,
   "metadata": {},
   "outputs": [
    {
     "name": "stdout",
     "output_type": "stream",
     "text": [
      "Creating files with: 1MissingFile suffix\n"
     ]
    }
   ],
   "source": [
    "fileString = \"1MissingFile\"\n",
    "print(\"Creating files with:\", fileString, \"suffix\")"
   ]
  },
  {
   "cell_type": "code",
   "execution_count": 5,
   "metadata": {},
   "outputs": [
    {
     "name": "stdout",
     "output_type": "stream",
     "text": [
      "TFile**\t\t../truncationTest/data/results_1MissingFile_FullVsTrunc.root\t\n",
      " TFile*\t\t../truncationTest/data/results_1MissingFile_FullVsTrunc.root\t\n",
      "  TDirectoryFile*\t\tclustersAndCoincidences\tclustersAndCoincidences (ClusterAndCoincidenceHistograms) folder\n",
      "   KEY: TH3I\tclusters;1\tclusters\n",
      "   KEY: TH2I\ttriples;1\ttriples\n",
      "   KEY: TH2I\tcoincidenceTimeDiffs;1\tcoincidence time differences\n",
      "   KEY: TH2I\tquadruples;1\tquadruples\n",
      "   KEY: TH1I\tcoincidenceEnergies;1\tcoincidence energies\n",
      "   KEY: TH2I\tbackwardsTriples;1\tbackwards triples\n",
      "   KEY: TH2I\tbackwardsCoincidenceTimeDiffs;1\tbackwards coincidence time differences\n",
      "   KEY: TH1I\tbackwardsCoincidenceEnergies;1\tbackwards coincidence energies\n",
      "   KEY: TH1I\tctag;1\tctag\n",
      "  KEY: TDirectoryFile\tclustersAndCoincidences;1\tclustersAndCoincidences (ClusterAndCoincidenceHistograms) folder\n",
      "  KEY: TDirectoryFile\tclustersAndCoincidencesTrunc;1\tclustersAndCoincidencesTrunc (ClusterAndCoincidenceHistograms) folder\n",
      "  KEY: TDirectoryFile\tfarline;1\tfarline (CaloFarlineHistograms) folder\n",
      "  KEY: TDirectoryFile\tfarlineTrunc;1\tfarlineTrunc (CaloFarlineHistograms) folder\n",
      "  KEY: TDirectoryFile\tclusterCompare;1\tclusterCompare (ReconComparisonTruncatedVsFull) folder\n"
     ]
    }
   ],
   "source": [
    "f.cd(\"clustersAndCoincidences\")\n",
    "f.ls()"
   ]
  },
  {
   "cell_type": "code",
   "execution_count": 6,
   "metadata": {},
   "outputs": [],
   "source": [
    "triples = f.Get(\"clustersAndCoincidences\").Get(\"triples\").Clone()\n",
    "backwardsTriples = f.Get(\"clustersAndCoincidences\").Get(\"backwardsTriples\").Clone()"
   ]
  },
  {
   "cell_type": "code",
   "execution_count": 7,
   "metadata": {},
   "outputs": [],
   "source": [
    "ml = MuonLoss(triples, backwardsTriples, 64.4)"
   ]
  },
  {
   "cell_type": "code",
   "execution_count": 8,
   "metadata": {},
   "outputs": [
    {
     "name": "stdout",
     "output_type": "stream",
     "text": [
      "<lost_muon_calculation.MuonLoss object at 0x7f15a069deb8>\n"
     ]
    }
   ],
   "source": [
    "print(ml)"
   ]
  },
  {
   "cell_type": "code",
   "execution_count": 12,
   "metadata": {},
   "outputs": [
    {
     "name": "stdout",
     "output_type": "stream",
     "text": [
      "Dumping:  <lost_muon_calculation.MuonLoss object at 0x7f15a069deb8>\n",
      "Class:  <class 'lost_muon_calculation.MuonLoss'>\n",
      "    triples = <ROOT.TH1D object (\"triples\") at 0x7fffee127a30>\n",
      "    backwardsTriples = <ROOT.TH1D object (\"b_triples\") at 0x7fffee128380>\n",
      "    tau = 64.4\n",
      "    subtractBackwards = False\n",
      "    muonLossHist = <ROOT.TH1D object (\"muonLossHist\") at 0x7fffee3979a0>\n",
      "    iteration = 0\n"
     ]
    }
   ],
   "source": [
    "DumpClass(ml)"
   ]
  },
  {
   "cell_type": "code",
   "execution_count": 10,
   "metadata": {},
   "outputs": [
    {
     "data": {
      "image/png": "[encoded data removed]",
      "text/plain": [
       "<IPython.core.display.Image object>"
      ]
     },
     "metadata": {},
     "output_type": "display_data"
    }
   ],
   "source": [
    "c = r.TCanvas()\n",
    "ml.muonLossHist.Draw()\n",
    "c.Draw()"
   ]
  },
  {
   "cell_type": "code",
   "execution_count": 11,
   "metadata": {},
   "outputs": [
    {
     "name": "stdout",
     "output_type": "stream",
     "text": [
      "Saving class <lost_muon_calculation.MuonLoss object at 0x7f15a069deb8>  to file  MuonLoss_2019_07_16_18_21_52.root\n"
     ]
    },
    {
     "data": {
      "text/plain": [
       "<fit_util.SaveToRootFile at 0x7f156b015438>"
      ]
     },
     "execution_count": 11,
     "metadata": {},
     "output_type": "execute_result"
    }
   ],
   "source": [
    "SaveToRootFile(ml,\"MuonLoss\")"
   ]
  },
  {
   "cell_type": "code",
   "execution_count": null,
   "metadata": {},
   "outputs": [],
   "source": []
  },
  {
   "cell_type": "code",
   "execution_count": null,
   "metadata": {},
   "outputs": [],
   "source": []
  },
  {
   "cell_type": "code",
   "execution_count": null,
   "metadata": {},
   "outputs": [],
   "source": []
  },
  {
   "cell_type": "code",
   "execution_count": null,
   "metadata": {},
   "outputs": [],
   "source": []
  },
  {
   "cell_type": "code",
   "execution_count": null,
   "metadata": {},
   "outputs": [],
   "source": []
  },
  {
   "cell_type": "code",
   "execution_count": null,
   "metadata": {},
   "outputs": [],
   "source": []
  }
 ],
 "metadata": {
  "kernelspec": {
   "display_name": "Python 3",
   "language": "python",
   "name": "python3"
  },
  "language_info": {
   "codemirror_mode": {
    "name": "ipython",
    "version": 3
   },
   "file_extension": ".py",
   "mimetype": "text/x-python",
   "name": "python",
   "nbconvert_exporter": "python",
   "pygments_lexer": "ipython3",
   "version": "3.6.8"
  }
 },
 "nbformat": 4,
 "nbformat_minor": 2
}
