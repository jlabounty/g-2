{
 "cells": [
  {
   "cell_type": "code",
   "execution_count": 1,
   "metadata": {},
   "outputs": [
    {
     "name": "stdout",
     "output_type": "stream",
     "text": [
      "Welcome to JupyROOT 6.12/06\n"
     ]
    }
   ],
   "source": [
    "from omega_a_fitting import *\n",
    "from fit_util import *"
   ]
  },
  {
   "cell_type": "code",
   "execution_count": null,
   "metadata": {},
   "outputs": [],
   "source": [
    "class FourierFastRotation():\n",
    "    '''\n",
    "        Class which takes a histogram and the fit function describing it and computes the fourier spectrum\n",
    "        See note: docDB:18901\n",
    "        Inputs:\n",
    "            h (th1): histogram binned finely enough that the fast rotation signal is evident\n",
    "            f (tf1): fit function describing the histogram\n",
    "            backgroundType: which type of background rejection to use\n",
    "            initialParameters (list of floats): initial guesses for the t parameters\n",
    "            nIterations (list of ints): how many times to itereate through each parameter\n",
    "        Outputs:\n",
    "            Histograms which contain the radial distribution\n",
    "    '''"
   ]
  }
 ],
 "metadata": {
  "kernelspec": {
   "display_name": "Python 3",
   "language": "python",
   "name": "python3"
  },
  "language_info": {
   "codemirror_mode": {
    "name": "ipython",
    "version": 3
   },
   "file_extension": ".py",
   "mimetype": "text/x-python",
   "name": "python",
   "nbconvert_exporter": "python",
   "pygments_lexer": "ipython3",
   "version": "3.6.8"
  }
 },
 "nbformat": 4,
 "nbformat_minor": 2
}
