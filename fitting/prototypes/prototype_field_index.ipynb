{
 "cells": [
  {
   "cell_type": "code",
   "execution_count": 2,
   "metadata": {},
   "outputs": [],
   "source": [
    "import math\n",
    "def getFieldIndex_FromCBO(omega_cbo = None):\n",
    "    '''\n",
    "        Returns a field index for the given value of omega_CBO. \n",
    "        Imputs:\n",
    "            omega_CBO (taken from current parameters)\n",
    "            omega_cyclotron (const float)\n",
    "    '''\n",
    "    if(omega_cbo is None):\n",
    "        omega_cbo = 1 #self.f.GetParameter(9) # get value of omega_0 if one is not provided\n",
    "    omega_c = 42.1153248017936\n",
    "\n",
    "    return (omega_cbo * (2 * omega_c - omega_cbo)) / (omega_c**2)"
   ]
  },
  {
   "cell_type": "code",
   "execution_count": 5,
   "metadata": {},
   "outputs": [
    {
     "data": {
      "text/plain": [
       "0.09604154125071"
      ]
     },
     "execution_count": 5,
     "metadata": {},
     "output_type": "execute_result"
    }
   ],
   "source": [
    "getFieldIndex_FromCBO(0.33*math.pi*2)"
   ]
  },
  {
   "cell_type": "code",
   "execution_count": null,
   "metadata": {},
   "outputs": [],
   "source": []
  }
 ],
 "metadata": {
  "kernelspec": {
   "display_name": "Python 3",
   "language": "python",
   "name": "python3"
  },
  "language_info": {
   "codemirror_mode": {
    "name": "ipython",
    "version": 3
   },
   "file_extension": ".py",
   "mimetype": "text/x-python",
   "name": "python",
   "nbconvert_exporter": "python",
   "pygments_lexer": "ipython3",
   "version": "3.6.8"
  }
 },
 "nbformat": 4,
 "nbformat_minor": 2
}
