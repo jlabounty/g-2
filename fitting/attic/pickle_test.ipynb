{
 "cells": [
  {
   "cell_type": "code",
   "execution_count": 4,
   "metadata": {},
   "outputs": [],
   "source": [
    "from pileup_correction import *\n",
    "from fit_util import *"
   ]
  },
  {
   "cell_type": "code",
   "execution_count": 18,
   "metadata": {},
   "outputs": [
    {
     "name": "stdout",
     "output_type": "stream",
     "text": [
      "TFile**\t\t../truncationTest/data/results_1MissingFile_FullVsTrunc.root\t\n",
      " TFile*\t\t../truncationTest/data/results_1MissingFile_FullVsTrunc.root\t\n",
      "  KEY: TDirectoryFile\tclustersAndCoincidences;1\tclustersAndCoincidences (ClusterAndCoincidenceHistograms) folder\n",
      "  KEY: TDirectoryFile\tclustersAndCoincidencesTrunc;1\tclustersAndCoincidencesTrunc (ClusterAndCoincidenceHistograms) folder\n",
      "  KEY: TDirectoryFile\tfarline;1\tfarline (CaloFarlineHistograms) folder\n",
      "  KEY: TDirectoryFile\tfarlineTrunc;1\tfarlineTrunc (CaloFarlineHistograms) folder\n",
      "  KEY: TDirectoryFile\tclusterCompare;1\tclusterCompare (ReconComparisonTruncatedVsFull) folder\n"
     ]
    }
   ],
   "source": [
    "#f = r.TFile(\"./data/results_10MissingOutputFiles_9day_histOnly.root\")\n",
    "f = r.TFile(\"../truncationTest/data/results_1MissingFile_FullVsTrunc.root\")\n",
    "f.ls()"
   ]
  },
  {
   "cell_type": "code",
   "execution_count": 19,
   "metadata": {},
   "outputs": [],
   "source": [
    "clusters = f.Get(\"clustersAndCoincidences\").Get(\"clusters\").Clone(\"clusters\")"
   ]
  },
  {
   "cell_type": "code",
   "execution_count": 20,
   "metadata": {},
   "outputs": [
    {
     "name": "stdout",
     "output_type": "stream",
     "text": [
      "Creating files with: _pileupRebinTest suffix\n"
     ]
    }
   ],
   "source": [
    "fileString = \"_pileupRebinTest\"\n",
    "print(\"Creating files with:\", fileString, \"suffix\")"
   ]
  },
  {
   "cell_type": "code",
   "execution_count": 21,
   "metadata": {},
   "outputs": [
    {
     "data": {
      "text/plain": [
       "<ROOT.TH2D object (\"clusters_yx\") at 0x7ffff97afe70>"
      ]
     },
     "execution_count": 21,
     "metadata": {},
     "output_type": "execute_result"
    }
   ],
   "source": [
    "Ninitial = clusters.Project3D(\"yx\").Clone()\n",
    "Ninitial.Rebin2D(10,10)"
   ]
  },
  {
   "cell_type": "code",
   "execution_count": 22,
   "metadata": {},
   "outputs": [],
   "source": [
    "corrector = PileupCorrector(Ninitial, \"Test\", 0, 2)"
   ]
  },
  {
   "cell_type": "code",
   "execution_count": 23,
   "metadata": {},
   "outputs": [
    {
     "name": "stdout",
     "output_type": "stream",
     "text": [
      "Running full pileup correction on input histogram.\n",
      "Computing rho_double histogram\n",
      "All done\n",
      "Computing double pileup correction\n",
      "Starting triple correction\n",
      "Correction completed! Final histogram stored in h_pileupCorrected\n",
      " FCN=1.01697e+07 FROM MINOS     STATUS=SUCCESSFUL      2 CALLS          50 TOTAL\n",
      "                     EDM=3.18744e-12    STRATEGY= 1      ERROR MATRIX ACCURATE \n",
      "  EXT PARAMETER                                   STEP         FIRST   \n",
      "  NO.   NAME      VALUE            ERROR          SIZE      DERIVATIVE \n",
      "   1  p0           7.95033e-11   1.04712e-14   1.04712e-14  -2.41122e+08\n",
      " FCN=61824.8 FROM MINOS     STATUS=SUCCESSFUL      8 CALLS         152 TOTAL\n",
      "                     EDM=5.43057e-13    STRATEGY= 1      ERROR MATRIX ACCURATE \n",
      "  EXT PARAMETER                                   STEP         FIRST   \n",
      "  NO.   NAME      VALUE            ERROR          SIZE      DERIVATIVE \n",
      "   1  p0          -4.65782e-11   4.10163e-14  -0.00000e+00   2.17164e+07\n",
      "   2  p1          -3.21443e-20   1.01105e-23   1.01105e-23   1.27696e+14\n",
      " FCN=61824.8 FROM MINOS     STATUS=SUCCESSFUL      8 CALLS          62 TOTAL\n",
      "                     EDM=5.88256e-13    STRATEGY= 1      ERROR MATRIX ACCURATE \n",
      "  EXT PARAMETER                                   STEP         FIRST   \n",
      "  NO.   NAME      VALUE            ERROR          SIZE      DERIVATIVE \n",
      "   1  p0          -4.65782e-11   4.10163e-14  -0.00000e+00   1.70721e+07\n",
      "   2  p1          -3.21443e-20   1.01105e-23   1.01105e-23  -6.26757e+16\n"
     ]
    }
   ],
   "source": [
    "corrector.fitOptions = \"REMB\"\n",
    "corrector.FullChain()"
   ]
  },
  {
   "cell_type": "code",
   "execution_count": 31,
   "metadata": {},
   "outputs": [
    {
     "name": "stdout",
     "output_type": "stream",
     "text": [
      "Dumping:  <pileup_correction.PileupCorrector object at 0x7f92e50bd390>\n",
      "Class:  <class 'pileup_correction.PileupCorrector'>\n",
      "    h = <ROOT.TH2D object (\"N_initial_0_Test\") at 0x7ffffb0d2e60>\n",
      "    h_y = <ROOT.TH1D object (\"h_y\") at 0x7ffffb0cb560>\n",
      "    name = Test\n",
      "    iteration = 0\n",
      "    deltat = 2\n",
      "    verbosity = 0\n",
      "    rhoDouble = <ROOT.TH2D object (\"h_rhoDouble_0_Test\") at 0x7ffffb035a20>\n",
      "    fitOptions = REMB\n",
      "    doublePileup = <ROOT.TH2D object (\"DoublePileup_0_Test\") at 0x7ffffb197960>\n",
      "    doublePileupY = <ROOT.TH1D object (\"doublePileupY\") at 0x7ffffb1f0fe0>\n",
      "    doublePileupOnlyScaleFactor = 7.950327816410492e-11\n",
      "    h_doublePileupCorrected = <ROOT.TH2D object (\"h_doublePileupCorrected\") at 0x7ffffb3f6bc0>\n",
      "    triplePileup = <ROOT.TH2D object (\"triplePileup\") at 0x7ffffb41a6a0>\n",
      "    triplePileupY = <ROOT.TH1D object (\"triplePileupY\") at 0x7ffffb3f7140>\n",
      "    pileupScaleFactors = [-4.657816425645592e-11, -3.214427728528118e-20]\n",
      "    h_pileupCorrected = <ROOT.TH2D object (\"h_pileupCorrected\") at 0x7ffffb4b2600>\n"
     ]
    }
   ],
   "source": [
    "DumpClass(corrector)"
   ]
  },
  {
   "cell_type": "code",
   "execution_count": 32,
   "metadata": {},
   "outputs": [],
   "source": [
    "import pickle"
   ]
  },
  {
   "cell_type": "code",
   "execution_count": 33,
   "metadata": {},
   "outputs": [],
   "source": [
    "pickle.dump(corrector, open(\"corrector.pickle\",\"wb\"))"
   ]
  },
  {
   "cell_type": "code",
   "execution_count": 1,
   "metadata": {},
   "outputs": [],
   "source": [
    "import pickle"
   ]
  },
  {
   "cell_type": "code",
   "execution_count": 2,
   "metadata": {},
   "outputs": [
    {
     "name": "stdout",
     "output_type": "stream",
     "text": [
      "Welcome to JupyROOT 6.12/06\n"
     ]
    }
   ],
   "source": [
    "c1 = pickle.load(open(\"corrector.pickle\",\"rb\"))"
   ]
  },
  {
   "cell_type": "code",
   "execution_count": 5,
   "metadata": {},
   "outputs": [
    {
     "data": {
      "text/plain": [
       "{'h': <ROOT.TH2D object (\"N_initial_0_Test\") at 0x7fffd1c8e610>,\n",
       " 'h_y': <ROOT.TH1D object (\"h_y\") at 0x7fffd1e67840>,\n",
       " 'name': 'Test',\n",
       " 'iteration': 0,\n",
       " 'deltat': 2,\n",
       " 'verbosity': 0,\n",
       " 'rhoDouble': <ROOT.TH2D object (\"h_rhoDouble_0_Test\") at 0x7fffd1f09a70>,\n",
       " 'fitOptions': 'REMB',\n",
       " 'doublePileup': <ROOT.TH2D object (\"DoublePileup_0_Test\") at 0x7fffd1f09e80>,\n",
       " 'doublePileupY': <ROOT.TH1D object (\"doublePileupY\") at 0x7fffd1f13da0>,\n",
       " 'doublePileupOnlyScaleFactor': 7.950327816410492e-11,\n",
       " 'h_doublePileupCorrected': <ROOT.TH2D object (\"h_doublePileupCorrected\") at 0x7fffd1edfb30>,\n",
       " 'triplePileup': <ROOT.TH2D object (\"triplePileup\") at 0x7fffcfb10350>,\n",
       " 'triplePileupY': <ROOT.TH1D object (\"triplePileupY\") at 0x7fffcfb10760>,\n",
       " 'pileupScaleFactors': [-4.657816425645592e-11, -3.214427728528118e-20],\n",
       " 'h_pileupCorrected': <ROOT.TH2D object (\"h_pileupCorrected\") at 0x7fffcfb10d40>}"
      ]
     },
     "execution_count": 5,
     "metadata": {},
     "output_type": "execute_result"
    }
   ],
   "source": [
    "vars(c1)"
   ]
  },
  {
   "cell_type": "code",
   "execution_count": 8,
   "metadata": {},
   "outputs": [],
   "source": [
    "import ROOT as r"
   ]
  },
  {
   "cell_type": "code",
   "execution_count": 11,
   "metadata": {},
   "outputs": [
    {
     "data": {
      "image/png": "[encoded data removed]",
      "text/plain": [
       "<IPython.core.display.Image object>"
      ]
     },
     "metadata": {},
     "output_type": "display_data"
    }
   ],
   "source": [
    "c = r.TCanvas()\n",
    "c1.h_doublePileupCorrected.Draw(\"colz\")\n",
    "c.SetLogz()\n",
    "c.Draw()"
   ]
  },
  {
   "cell_type": "code",
   "execution_count": 13,
   "metadata": {},
   "outputs": [],
   "source": []
  },
  {
   "cell_type": "code",
   "execution_count": null,
   "metadata": {},
   "outputs": [],
   "source": []
  }
 ],
 "metadata": {
  "kernelspec": {
   "display_name": "Python 3",
   "language": "python",
   "name": "python3"
  },
  "language_info": {
   "codemirror_mode": {
    "name": "ipython",
    "version": 3
   },
   "file_extension": ".py",
   "mimetype": "text/x-python",
   "name": "python",
   "nbconvert_exporter": "python",
   "pygments_lexer": "ipython3",
   "version": "3.6.8"
  }
 },
 "nbformat": 4,
 "nbformat_minor": 2
}
