{
 "cells": [
  {
   "cell_type": "code",
   "execution_count": 1,
   "metadata": {},
   "outputs": [
    {
     "name": "stdout",
     "output_type": "stream",
     "text": [
      "Welcome to JupyROOT 6.12/06\n"
     ]
    }
   ],
   "source": [
    "import ROOT as r \n",
    "import math\n",
    "import numpy as np \n",
    "#g-2 Blinding Software\n",
    "from BlindersPy3 import Blinders\n",
    "from BlindersPy3 import FitType\n",
    "import multiprocessing\n",
    "\n",
    "# this will contain modules which compute the double/triple pileup correction and apply it to an input histogram\n",
    "# using Aarons bootstrapped pileup method\n",
    "\n",
    "class PileupCorrector:\n",
    "    '''\n",
    "        This class will take as input a 2D histogram of Energy vs. time and will perform a pileup correction on it\n",
    "        Inputs:\n",
    "            h (TH2) : histogram to be pileup corrected\n",
    "            name (str): name of the histogram\n",
    "            iteration (int): how many times has this gone through the correction algorithm\n",
    "    '''\n",
    "\n",
    "    fitOptions = \"R\"\n",
    "\n",
    "    def __init__(self, h, name, iteration = 0, deltat = 2, verbosity = 0):\n",
    "        self.h = h.Clone(\"N_initial_\"+str(iteration)+\"_\"+name)\n",
    "        self.h_y = h.ProjectionY().Clone(\"h_y\")\n",
    "        self.name = name\n",
    "        self.iteration = iteration \n",
    "        self.deltat = deltat\n",
    "        self.verbosity = 0\n",
    "\n",
    "        self.rhoDouble = None \n",
    "\n",
    "    ''' Allows us to skip the step of calculating rho_double if we have one already saved '''\n",
    "    def SetRhoDouble(self, h):\n",
    "        self.rhoDouble = h.Clone(\"h_rhoDouble_\"+str(self.iteration)+\"_\"+self.name)\n",
    "        self.rhoDouble.SetDirectory(0)\n",
    "\n",
    "    ''' first define a function which takes a histogram and returns the quantity described in Eqn. 6.12 '''\n",
    "    def rhoDoublePulse( self, E, t ):\n",
    "        timeBin = self.h.GetXaxis().FindBin( t )\n",
    "        h2 = self.h.ProjectionY(\"h2\", timeBin, timeBin)\n",
    "        \n",
    "        Nbins = h2.GetNbinsX() \n",
    "        #Emin = h2.GetBinCenter(1) - h2.GetBinWidth(1)/2.0\n",
    "        #Emax = h2.GetBinCenter(Nbins) + h2.GetBinWidth(Nbins)/2.0\n",
    "            \n",
    "        rho = 0\n",
    "        for bin in range(Nbins):\n",
    "            E2 = h2.GetBinCenter(bin)\n",
    "            if( E < E2 ):\n",
    "                r1 = 0\n",
    "            else:\n",
    "                bin2 = h2.FindBin( E - E2 )\n",
    "                r1 = h2.GetBinContent(bin2)\n",
    "                \n",
    "            r2 = h2.GetBinContent(bin)\n",
    "            rho += r1*r2\n",
    "        \n",
    "        return rho\n",
    "\n",
    "    ''' If not set, compute rho_double '''\n",
    "    def rhoDoubleIterable(self, binx):\n",
    "            print(binx)\n",
    "            if(self.verbosity > 0):\n",
    "                print(\"    \", binx,\"/\",nBinsX+1)\n",
    "            for biny in range(1,nBinsY+1):\n",
    "                Ei = self.rhoDouble.GetYaxis().GetBinCenter(biny)\n",
    "                ti = self.rhoDouble.GetXaxis().GetBinCenter(binx)\n",
    "                rhoi = self.rhoDoublePulse( Ei, ti )\n",
    "                #print(rhoi)\n",
    "                self.rhoDouble.SetBinContent(binx,biny,rhoi)\n",
    "    \n",
    "    def ComputeRhoDouble(self):\n",
    "        self.rhoDouble = self.h.Clone(\"h_rhoDouble_\"+str(self.iteration)+\"_\"+self.name)\n",
    "        self.rhoDouble.Reset()\n",
    "\n",
    "        nBinsX = self.rhoDouble.GetXaxis().GetNbins()\n",
    "        nBinsY = self.rhoDouble.GetYaxis().GetNbins()\n",
    "        p = multiprocessing.Pool(processes = multiprocessing.cpu_count()-1)\n",
    "\n",
    "        print(\"Computing rho_double histogram\")\n",
    "        for binx in range(1,nBinsX+1):\n",
    "            print(\"starting async\", binx)\n",
    "            p.apply_async(self.rhoDoubleIterable, [binx])\n",
    "        p.close()\n",
    "        p.join()\n",
    "        print(\"All done\")\n",
    "    \n",
    "    ''' and now to calculate the double pileup bin by bin '''\n",
    "    def rhoDoublePileup(self, E, t):\n",
    "        histBinEtDouble = self.rhoDouble.FindBin(t,E)\n",
    "        histBinEtN = self.h.FindBin(t,E)\n",
    "        histBintN = self.h.GetXaxis().FindBin(t)\n",
    "        histBinEN = self.h.GetYaxis().FindBin(E)\n",
    "        hi = self.h.ProjectionY(\"\", histBintN, histBintN).Clone()\n",
    "        integralN = hi.Integral(hi.FindBin(histBinEN),-1)\n",
    "        rho = self.deltat * ( self.rhoDouble.GetBinContent(histBinEtDouble) - 2*self.h.GetBinContent(histBinEtN)*integralN )\n",
    "        \n",
    "        return rho\n",
    "\n",
    "    ''' and now actually compute the double correction '''\n",
    "    def ComputeDoubleCorrection(self):\n",
    "        if(self.rhoDouble == None):\n",
    "            print(\"rho_double is not set. Computing\")\n",
    "            self.ComputeRhoDouble()\n",
    "\n",
    "        self.doublePileup = self.h.Clone(\"DoublePileup_\"+str(self.iteration)+\"_\"+self.name)\n",
    "        self.doublePileup.Reset()\n",
    "        self.doublePileup.SetTitle(\"Double Pileup [Unscaled]\")\n",
    "\n",
    "        nBinsX = self.doublePileup.GetXaxis().GetNbins()\n",
    "        nBinsY = self.doublePileup.GetYaxis().GetNbins()\n",
    "\n",
    "        print(\"Computing double pileup correction\")\n",
    "        for binx in range(1,nBinsX+1):\n",
    "            #if binx > 100:\n",
    "            #    break\n",
    "            if(self.verbosity > 0):\n",
    "                print(\"    \", binx,\"/\",nBinsX+1)\n",
    "            for biny in range(1,nBinsY+1):\n",
    "                Ei = self.doublePileup.GetYaxis().GetBinCenter(biny)\n",
    "                ti = self.doublePileup.GetXaxis().GetBinCenter(binx)\n",
    "                rhoi = self.rhoDoublePileup(Ei, ti)\n",
    "                #print(rhoi)\n",
    "                self.doublePileup.SetBinContent(binx,biny,rhoi)\n",
    "        self.doublePileupY = self.doublePileup.ProjectionY().Clone(\"doublePileupY\")\n",
    "\n",
    "    ''' fit histogram using method here https://root.cern.ch/root/html/tutorials/fit/fithist.C.html '''\n",
    "    def fitHistDouble(self, x, p):\n",
    "        rawHist = self.doublePileupY\n",
    "        scaleFactor = p[0]\n",
    "        y = rawHist.GetBinContent( rawHist.FindBin(x[0]) ) * scaleFactor\n",
    "        return y\n",
    "\n",
    "    ''' here we fit only the double pileup and apply the correction factor to a clone of self.h '''\n",
    "    def FitDoublePileupAndApplyCorrection(self):\n",
    "        doublePileupFit = r.TF1(\"doublePileupFit\", self.fitHistDouble, 3500, 6000, 1)\n",
    "        doublePileupFit.SetParameter(0,1)\n",
    "        self.h_y.Fit(doublePileupFit, self.fitOptions)\n",
    "\n",
    "        self.doublePileupOnlyScaleFactor = doublePileupFit.GetParameter(0)\n",
    "        self.h_doublePileupCorrected = self.h.Clone(\"h_doublePileupCorrected\")\n",
    "        ding = self.doublePileup#.Clone(\"ding\")\n",
    "        ding.Scale( self.doublePileupOnlyScaleFactor )\n",
    "        self.h_doublePileupCorrected.Add( ding , -1)\n",
    "        ding.Scale( 1/(self.doublePileupOnlyScaleFactor) )\n",
    "\n",
    "    def rhoTriplePileup(self, E, t):\n",
    "        timeBinN = self.h.GetXaxis().FindBin( t )\n",
    "        energySliceN = self.h.ProjectionY(\"\", timeBinN, timeBinN).Clone()\n",
    "        \n",
    "        timeBinRho = self.rhoDouble.GetXaxis().FindBin( t )\n",
    "        energySliceRho = self.rhoDouble.ProjectionY(\"\", timeBinRho, timeBinRho).Clone()\n",
    "        \n",
    "        int1 = 0\n",
    "        for bin1 in range( energySliceRho.GetNbinsX() ):\n",
    "            Ed = energySliceRho.GetBinContent( bin1 )\n",
    "            if( Ed > E ):\n",
    "                int1 += 0\n",
    "            else:\n",
    "                rho1 = energySliceN.GetBinContent( energySliceN.GetXaxis().FindBin( E - Ed ) )\n",
    "                rho2 = energySliceRho.GetBinContent( energySliceRho.GetXaxis().FindBin(Ed) )\n",
    "                int1 += rho1*rho2\n",
    "                #print(rho1,rho2)\n",
    "            #print(int1)\n",
    "        int2 = energySliceN.Integral()\n",
    "        int3 = (int2)**2\n",
    "        \n",
    "        rhoDoubleEt = self.rhoDouble.GetBinContent( self.rhoDouble.GetXaxis().FindBin(t), self.rhoDouble.GetYaxis().FindBin(E) )\n",
    "        rhoEt = self.h.GetBinContent( self.h.GetXaxis().FindBin(t), self.h.GetYaxis().FindBin(E) )\n",
    "        \n",
    "        #print(\"***************************************\")\n",
    "        #print(int1,int2,int3)\n",
    "        #print(rhoDoubleEt, rhoEt)\n",
    "        #print(((self.deltat)**2) * ( int1 ) )\n",
    "        #print( int1 , - 3*rhoDoubleEt*int2 , 3*rhoEt*int3 )\n",
    "        \n",
    "        return ((self.deltat)**2) * ( int1 - 3*rhoDoubleEt*int2 + 3*rhoEt*int3 )\n",
    "\n",
    "    def ComputeTripleCorrection(self):\n",
    "        self.triplePileup = self.h.Clone(\"triplePileup\")\n",
    "        self.triplePileup.Reset()\n",
    "        nBinsX = self.triplePileup.GetXaxis().GetNbins()\n",
    "        nBinsY = self.triplePileup.GetYaxis().GetNbins()\n",
    "\n",
    "        print(\"Starting triple correction\")\n",
    "        for binx in range(1,nBinsX+1):\n",
    "            #if binx > 10:\n",
    "            #    break\n",
    "            if(self.verbosity > 0):\n",
    "                print(binx,\"/\",nBinsX+1)\n",
    "            for biny in range(1,nBinsY+1):\n",
    "                Ei = self.triplePileup.GetYaxis().GetBinCenter(biny)\n",
    "                ti = self.triplePileup.GetXaxis().GetBinCenter(binx)\n",
    "                rhoi = self.rhoTriplePileup(Ei, ti)\n",
    "                #print(rhoi)\n",
    "                self.triplePileup.SetBinContent(binx,biny,rhoi)\n",
    "\n",
    "        self.triplePileupY = self.triplePileup.ProjectionY().Clone(\"triplePileupY\")\n",
    "\n",
    "    def fitHistTriple(self, x, p):\n",
    "        rawHistDouble = self.doublePileupY\n",
    "        rawHistTriple = self.triplePileupY\n",
    "        scaleFactorDouble = p[0]\n",
    "        scaleFactorTriple = p[1]\n",
    "        y = ( rawHistDouble.GetBinContent( rawHistDouble.FindBin(x[0]) ) * scaleFactorDouble \n",
    "            + rawHistTriple.GetBinContent( rawHistTriple.FindBin(x[0]) ) * scaleFactorTriple )\n",
    "        return y\n",
    "\n",
    "    ''' here we fit the double and triple pileup and apply the correction factor to a clone of self.h '''\n",
    "    def FitTriplePileupAndApplyCorrection(self):\n",
    "        triplePileupFit = r.TF1(\"doublePileupFit\", self.fitHistTriple, 3500, 6000, 2)\n",
    "        triplePileupFit.SetParameters(1,1)\n",
    "        for i in range(2):\n",
    "            self.h_y.Fit(triplePileupFit, self.fitOptions)\n",
    "\n",
    "        self.pileupScaleFactors = [ triplePileupFit.GetParameter(i) for i in range(2) ]\n",
    "        self.h_pileupCorrected = self.h.Clone(\"h_pileupCorrected\")\n",
    "        ding = self.doublePileup#.Clone(\"ding\")\n",
    "        ding.Scale( self.pileupScaleFactors[0] )\n",
    "        self.h_pileupCorrected.Add( ding , -1)\n",
    "        ding.Scale( 1/( self.pileupScaleFactors[0] ) )\n",
    "\n",
    "        ding = self.triplePileup#.Clone(\"ding\")\n",
    "        ding.Scale( self.pileupScaleFactors[1] )\n",
    "        self.h_pileupCorrected.Add( ding , -1)\n",
    "        ding.Scale( 1/(self.pileupScaleFactors[1] ) )\n",
    "\n",
    "    def FullChain(self):\n",
    "        print(\"Running full pileup correction on input histogram.\")\n",
    "        self.ComputeRhoDouble()\n",
    "        self.ComputeDoubleCorrection()\n",
    "        self.FitDoublePileupAndApplyCorrection()\n",
    "        self.ComputeTripleCorrection()\n",
    "        self.FitTriplePileupAndApplyCorrection()\n",
    "        print(\"Correction completed! Final histogram stored in h_pileupCorrected\")"
   ]
  },
  {
   "cell_type": "code",
   "execution_count": 2,
   "metadata": {},
   "outputs": [],
   "source": [
    "f = r.TFile(\"../truncationTest/data/results_1MissingFile_FullVsTrunc.root\")"
   ]
  },
  {
   "cell_type": "code",
   "execution_count": 3,
   "metadata": {},
   "outputs": [],
   "source": [
    "clusters = f.Get(\"clustersAndCoincidences\").Get(\"clusters\").Clone(\"clusters\")"
   ]
  },
  {
   "cell_type": "code",
   "execution_count": 4,
   "metadata": {},
   "outputs": [
    {
     "name": "stdout",
     "output_type": "stream",
     "text": [
      "Creating files with: _1MissingFile suffix\n"
     ]
    }
   ],
   "source": [
    "fileString = \"_1MissingFile\"\n",
    "print(\"Creating files with:\", fileString, \"suffix\")"
   ]
  },
  {
   "cell_type": "code",
   "execution_count": null,
   "metadata": {},
   "outputs": [
    {
     "data": {
      "text/plain": [
       "<ROOT.TH2D object (\"clusters_yx\") at 0x7fffbeb3cde0>"
      ]
     },
     "execution_count": 5,
     "metadata": {},
     "output_type": "execute_result"
    }
   ],
   "source": [
    "Ninitial = clusters.Project3D(\"yx\").Clone()\n",
    "Ninitial.Rebin2D(10,10)"
   ]
  },
  {
   "cell_type": "code",
   "execution_count": null,
   "metadata": {},
   "outputs": [
    {
     "data": {
      "image/png": "[encoded data removed]",
      "text/plain": [
       "<IPython.core.display.Image object>"
      ]
     },
     "metadata": {},
     "output_type": "display_data"
    }
   ],
   "source": [
    "c = r.TCanvas()\n",
    "Ninitial.Draw(\"colz\")\n",
    "c.SetLogz()\n",
    "c.Draw()"
   ]
  },
  {
   "cell_type": "code",
   "execution_count": null,
   "metadata": {},
   "outputs": [],
   "source": [
    "corrector = PileupCorrector(Ninitial, \"Test\", 0, 2)"
   ]
  },
  {
   "cell_type": "code",
   "execution_count": null,
   "metadata": {},
   "outputs": [
    {
     "name": "stdout",
     "output_type": "stream",
     "text": [
      "Running full pileup correction on input histogram.\n"
     ]
    }
   ],
   "source": [
    "import time\n",
    "start = time.time()\n",
    "corrector.fitOptions = \"REMB\"\n",
    "corrector.FullChain()\n",
    "end = time.time()"
   ]
  },
  {
   "cell_type": "code",
   "execution_count": null,
   "metadata": {},
   "outputs": [],
   "source": [
    "deltaT = end - start"
   ]
  },
  {
   "cell_type": "code",
   "execution_count": null,
   "metadata": {},
   "outputs": [],
   "source": []
  },
  {
   "cell_type": "code",
   "execution_count": null,
   "metadata": {},
   "outputs": [],
   "source": []
  },
  {
   "cell_type": "code",
   "execution_count": null,
   "metadata": {},
   "outputs": [],
   "source": []
  }
 ],
 "metadata": {
  "kernelspec": {
   "display_name": "Python 3",
   "language": "python",
   "name": "python3"
  },
  "language_info": {
   "codemirror_mode": {
    "name": "ipython",
    "version": 3
   },
   "file_extension": ".py",
   "mimetype": "text/x-python",
   "name": "python",
   "nbconvert_exporter": "python",
   "pygments_lexer": "ipython3",
   "version": "3.6.8"
  }
 },
 "nbformat": 4,
 "nbformat_minor": 2
}
