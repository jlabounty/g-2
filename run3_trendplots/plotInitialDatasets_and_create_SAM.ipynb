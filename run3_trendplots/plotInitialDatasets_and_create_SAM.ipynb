{
 "cells": [
  {
   "cell_type": "code",
   "execution_count": 1,
   "metadata": {},
   "outputs": [
    {
     "name": "stdout",
     "output_type": "stream",
     "text": [
      "Welcome to JupyROOT 6.12/06\n",
      "For interactive plots, run: setint()\n",
      "To return to non-interactive plots (default state), run: noint()\n"
     ]
    }
   ],
   "source": [
    "from standardInclude import *"
   ]
  },
  {
   "cell_type": "markdown",
   "metadata": {},
   "source": [
    "---\n",
    "\n",
    "### First lets import the initial datasets produced by just blindly matching up trolley runs\n",
    "\n",
    "---"
   ]
  },
  {
   "cell_type": "code",
   "execution_count": 60,
   "metadata": {},
   "outputs": [
    {
     "name": "stdout",
     "output_type": "stream",
     "text": [
      "Trolley run from 02/06/2018 16:21:03 to 09:01:36\n",
      "\n",
      "runs: field 2728 to 2765, main 11254 to 11365 \n",
      "\n",
      "Last/First runs for production: 11253 11366\n",
      "\n",
      " \n",
      "\n",
      "Trolley run from 02/07/2018 17:53:59 to 22:41:37\n",
      "\n",
      "runs: field 2773 to 2800, main 11383 to 11457 \n",
      "\n",
      "Last/First runs for production: 11382 11458\n",
      "\n",
      " \n",
      "\n",
      "Trolley run from 02/07/2018 23:12:04 to 00:30:50\n",
      "\n",
      "runs: field 2805 to 2812, main 11460 to 11460 \n",
      "\n"
     ]
    }
   ],
   "source": [
    "trolleyRuns_initial = []\n",
    "\n",
    "with open(\"./data/datasets_fromProductionScript.txt\") as file:\n",
    "    for i, row in enumerate(file):\n",
    "        if(i < 10):\n",
    "            print(row)\n",
    "        row = row.rstrip()\n",
    "        #print(row)\n",
    "        if(\"Trolley \" in row):\n",
    "            rowraw = row.split(\" from \")[1].split(\" \")\n",
    "            startDate = rowraw[0]+\" \"+rowraw[1]\n",
    "            endDate = rowraw[0]+\" \"+rowraw[3]\n",
    "            #print(startDate, endDate)\n",
    "        if(\"runs:\" in row):\n",
    "            rowraw = row.split(\" \")\n",
    "            fieldRunStart = rowraw[2].rstrip(\",\")\n",
    "            fieldRunEnd = rowraw[4].rstrip(\",\")\n",
    "        if(\"production:\" in row):\n",
    "            rowraw = row.split(\" \")\n",
    "            #print(rowraw)\n",
    "            mainRunStart = rowraw[4].rstrip()\n",
    "            mainRunEnd = rowraw[5].rstrip()\n",
    "            trolleyRuns_initial.append([startDate, endDate, int(mainRunStart), int(mainRunEnd), int(fieldRunStart), int(fieldRunEnd)])"
   ]
  },
  {
   "cell_type": "code",
   "execution_count": 66,
   "metadata": {},
   "outputs": [],
   "source": [
    "datasets_initial = []\n",
    "for i, rowi in enumerate(trolleyRuns_initial):\n",
    "    if(i == len(trolleyRuns_initial) - 1):\n",
    "        j = i\n",
    "    else:\n",
    "        j = i+1\n",
    "    rowj = trolleyRuns_initial[j]\n",
    "    toappend=[ rowi[1],\n",
    "              rowj[0],\n",
    "              rowi[3],\n",
    "              rowj[2],\n",
    "              rowi[5],\n",
    "              rowj[4]\n",
    "             ]\n",
    "    datasets_initial.append(toappend)"
   ]
  },
  {
   "cell_type": "code",
   "execution_count": 67,
   "metadata": {},
   "outputs": [
    {
     "data": {
      "text/plain": [
       "['02/06/2018 09:01:36', '02/07/2018 17:53:59', 11366, 11382, 2765, 2773]"
      ]
     },
     "execution_count": 67,
     "metadata": {},
     "output_type": "execute_result"
    }
   ],
   "source": [
    "datasets_initial[0]"
   ]
  },
  {
   "cell_type": "code",
   "execution_count": 68,
   "metadata": {},
   "outputs": [
    {
     "name": "stdout",
     "output_type": "stream",
     "text": [
      "startDate        datetime64[ns]\n",
      "endDate          datetime64[ns]\n",
      "mainRunStart              int64\n",
      "mainRunEnd                int64\n",
      "fieldRunStart             int64\n",
      "fieldRunEnd               int64\n",
      "dtype: object\n"
     ]
    },
    {
     "data": {
      "text/html": [
       "<div>\n",
       "<style scoped>\n",
       "    .dataframe tbody tr th:only-of-type {\n",
       "        vertical-align: middle;\n",
       "    }\n",
       "\n",
       "    .dataframe tbody tr th {\n",
       "        vertical-align: top;\n",
       "    }\n",
       "\n",
       "    .dataframe thead th {\n",
       "        text-align: right;\n",
       "    }\n",
       "</style>\n",
       "<table border=\"1\" class=\"dataframe\">\n",
       "  <thead>\n",
       "    <tr style=\"text-align: right;\">\n",
       "      <th></th>\n",
       "      <th>startDate</th>\n",
       "      <th>endDate</th>\n",
       "      <th>mainRunStart</th>\n",
       "      <th>mainRunEnd</th>\n",
       "      <th>fieldRunStart</th>\n",
       "      <th>fieldRunEnd</th>\n",
       "    </tr>\n",
       "  </thead>\n",
       "  <tbody>\n",
       "    <tr>\n",
       "      <th>122</th>\n",
       "      <td>2019-11-24 12:10:04</td>\n",
       "      <td>2019-11-27 07:59:19</td>\n",
       "      <td>30086</td>\n",
       "      <td>30212</td>\n",
       "      <td>8690</td>\n",
       "      <td>8708</td>\n",
       "    </tr>\n",
       "    <tr>\n",
       "      <th>123</th>\n",
       "      <td>2019-11-27 10:53:33</td>\n",
       "      <td>2019-11-29 18:41:30</td>\n",
       "      <td>30247</td>\n",
       "      <td>30301</td>\n",
       "      <td>8714</td>\n",
       "      <td>8746</td>\n",
       "    </tr>\n",
       "    <tr>\n",
       "      <th>124</th>\n",
       "      <td>2019-11-29 21:29:53</td>\n",
       "      <td>2019-12-03 09:20:29</td>\n",
       "      <td>30311</td>\n",
       "      <td>30386</td>\n",
       "      <td>8749</td>\n",
       "      <td>8796</td>\n",
       "    </tr>\n",
       "    <tr>\n",
       "      <th>125</th>\n",
       "      <td>2019-12-03 11:33:29</td>\n",
       "      <td>2019-12-06 10:22:15</td>\n",
       "      <td>30394</td>\n",
       "      <td>30489</td>\n",
       "      <td>8798</td>\n",
       "      <td>8841</td>\n",
       "    </tr>\n",
       "    <tr>\n",
       "      <th>126</th>\n",
       "      <td>2019-12-06 13:23:22</td>\n",
       "      <td>2019-12-09 15:54:27</td>\n",
       "      <td>30493</td>\n",
       "      <td>30672</td>\n",
       "      <td>8848</td>\n",
       "      <td>8877</td>\n",
       "    </tr>\n",
       "  </tbody>\n",
       "</table>\n",
       "</div>"
      ],
      "text/plain": [
       "              startDate             endDate  mainRunStart  mainRunEnd  \\\n",
       "122 2019-11-24 12:10:04 2019-11-27 07:59:19         30086       30212   \n",
       "123 2019-11-27 10:53:33 2019-11-29 18:41:30         30247       30301   \n",
       "124 2019-11-29 21:29:53 2019-12-03 09:20:29         30311       30386   \n",
       "125 2019-12-03 11:33:29 2019-12-06 10:22:15         30394       30489   \n",
       "126 2019-12-06 13:23:22 2019-12-09 15:54:27         30493       30672   \n",
       "\n",
       "     fieldRunStart  fieldRunEnd  \n",
       "122           8690         8708  \n",
       "123           8714         8746  \n",
       "124           8749         8796  \n",
       "125           8798         8841  \n",
       "126           8848         8877  "
      ]
     },
     "execution_count": 68,
     "metadata": {},
     "output_type": "execute_result"
    }
   ],
   "source": [
    "#print(datasets_initial)\n",
    "\n",
    "names=['startDate', 'endDate', 'mainRunStart', 'mainRunEnd', 'fieldRunStart', 'fieldRunEnd']\n",
    "types=[str, str, int, int, int, int]\n",
    "typeDict={x:y for (x,y) in zip(names,types)}\n",
    "\n",
    "df = pandas.DataFrame(datasets_initial, columns=names)\n",
    "df['startDate'] = pandas.to_datetime(df['startDate'])\n",
    "df['endDate'] = pandas.to_datetime(df['endDate'])\n",
    "print(df.dtypes)\n",
    "\n",
    "df = df.loc[df['mainRunStart'] > 30000]\n",
    "\n",
    "df.head()"
   ]
  },
  {
   "cell_type": "code",
   "execution_count": 69,
   "metadata": {},
   "outputs": [
    {
     "data": {
      "text/html": [
       "<div>\n",
       "<style scoped>\n",
       "    .dataframe tbody tr th:only-of-type {\n",
       "        vertical-align: middle;\n",
       "    }\n",
       "\n",
       "    .dataframe tbody tr th {\n",
       "        vertical-align: top;\n",
       "    }\n",
       "\n",
       "    .dataframe thead th {\n",
       "        text-align: right;\n",
       "    }\n",
       "</style>\n",
       "<table border=\"1\" class=\"dataframe\">\n",
       "  <thead>\n",
       "    <tr style=\"text-align: right;\">\n",
       "      <th></th>\n",
       "      <th>mainRunStart</th>\n",
       "      <th>mainRunEnd</th>\n",
       "      <th>fieldRunStart</th>\n",
       "      <th>fieldRunEnd</th>\n",
       "    </tr>\n",
       "  </thead>\n",
       "  <tbody>\n",
       "    <tr>\n",
       "      <th>count</th>\n",
       "      <td>45.000000</td>\n",
       "      <td>45.000000</td>\n",
       "      <td>45.000000</td>\n",
       "      <td>45.000000</td>\n",
       "    </tr>\n",
       "    <tr>\n",
       "      <th>mean</th>\n",
       "      <td>32667.377778</td>\n",
       "      <td>32732.288889</td>\n",
       "      <td>9439.911111</td>\n",
       "      <td>9467.177778</td>\n",
       "    </tr>\n",
       "    <tr>\n",
       "      <th>std</th>\n",
       "      <td>1448.896732</td>\n",
       "      <td>1433.039754</td>\n",
       "      <td>460.910355</td>\n",
       "      <td>459.372610</td>\n",
       "    </tr>\n",
       "    <tr>\n",
       "      <th>min</th>\n",
       "      <td>30086.000000</td>\n",
       "      <td>30212.000000</td>\n",
       "      <td>8690.000000</td>\n",
       "      <td>8708.000000</td>\n",
       "    </tr>\n",
       "    <tr>\n",
       "      <th>25%</th>\n",
       "      <td>31657.000000</td>\n",
       "      <td>31711.000000</td>\n",
       "      <td>9071.000000</td>\n",
       "      <td>9089.000000</td>\n",
       "    </tr>\n",
       "    <tr>\n",
       "      <th>50%</th>\n",
       "      <td>32707.000000</td>\n",
       "      <td>32781.000000</td>\n",
       "      <td>9409.000000</td>\n",
       "      <td>9453.000000</td>\n",
       "    </tr>\n",
       "    <tr>\n",
       "      <th>75%</th>\n",
       "      <td>33841.000000</td>\n",
       "      <td>33902.000000</td>\n",
       "      <td>9813.000000</td>\n",
       "      <td>9844.000000</td>\n",
       "    </tr>\n",
       "    <tr>\n",
       "      <th>max</th>\n",
       "      <td>34924.000000</td>\n",
       "      <td>34921.000000</td>\n",
       "      <td>10227.000000</td>\n",
       "      <td>10223.000000</td>\n",
       "    </tr>\n",
       "  </tbody>\n",
       "</table>\n",
       "</div>"
      ],
      "text/plain": [
       "       mainRunStart    mainRunEnd  fieldRunStart   fieldRunEnd\n",
       "count     45.000000     45.000000      45.000000     45.000000\n",
       "mean   32667.377778  32732.288889    9439.911111   9467.177778\n",
       "std     1448.896732   1433.039754     460.910355    459.372610\n",
       "min    30086.000000  30212.000000    8690.000000   8708.000000\n",
       "25%    31657.000000  31711.000000    9071.000000   9089.000000\n",
       "50%    32707.000000  32781.000000    9409.000000   9453.000000\n",
       "75%    33841.000000  33902.000000    9813.000000   9844.000000\n",
       "max    34924.000000  34921.000000   10227.000000  10223.000000"
      ]
     },
     "execution_count": 69,
     "metadata": {},
     "output_type": "execute_result"
    }
   ],
   "source": [
    "df.describe()"
   ]
  },
  {
   "cell_type": "code",
   "execution_count": 70,
   "metadata": {},
   "outputs": [
    {
     "data": {
      "image/png": "[encoded data removed]",
      "text/plain": [
       "<Figure size 1080x360 with 2 Axes>"
      ]
     },
     "metadata": {
      "needs_background": "light"
     },
     "output_type": "display_data"
    }
   ],
   "source": [
    "fig,ax = plt.subplots(2,1,figsize=(15,5))\n",
    "for i, row in df.iterrows():\n",
    "    ax[1].plot([row['startDate'], row['endDate']], [1,1],linewidth=2)\n",
    "    ax[0].plot([row['mainRunStart'], row['mainRunEnd']], [1,1],linewidth=2)\n",
    "\n",
    "\n",
    "plt.xticks(rotation=90)\n",
    "plt.tight_layout()\n",
    "plt.show()"
   ]
  },
  {
   "cell_type": "code",
   "execution_count": 115,
   "metadata": {},
   "outputs": [],
   "source": [
    "numberOfSubruns = []\n",
    "\n",
    "with open(\"./data/numberOfSubruns_run3_list.txt\") as file:\n",
    "    for row in file:\n",
    "        ding = [int(x.strip(\",\")) for x in row.strip(\"[\").strip(']\\n').strip('\\n').split(\" \")[1:-1]]\n",
    "        #print(ding)\n",
    "        numberOfSubruns.append(ding)\n",
    "\n",
    "dfn = pandas.DataFrame([x for x in zip(*numberOfSubruns)], columns=['run', 'nsubruns'])"
   ]
  },
  {
   "cell_type": "code",
   "execution_count": 126,
   "metadata": {},
   "outputs": [
    {
     "name": "stdout",
     "output_type": "stream",
     "text": [
      "[30208, 33282, 34324, 34844, 34335, 34849, 34339, 34854, 33319, 32296, 33320, 30252, 32303, 30770, 30771, 32306, 33332, 30776, 30292, 30298, 34912, 33893, 34917, 32873, 33898, 31851, 34921, 33901, 33395, 31860, 33396, 33399, 31868, 34435, 34440, 34444, 30354, 30359, 30362, 31408, 31413, 31416, 30911, 32450, 32458, 32462, 34517, 34524, 32992, 32993, 34528, 32997, 31471, 30459, 30470, 30475, 30995, 34582, 31511, 34584, 31001, 34587, 31516, 31007, 32031, 33065, 33066, 34094, 34100, 33077, 34103, 31593, 31599, 31609, 33660, 32126, 33663, 32129, 34183, 32648, 30089, 34184, 34187, 32656, 33172, 32667, 33179, 33183, 33705, 31658, 31659, 33708, 32173, 31663, 32176, 34745, 30651, 32188, 34751, 30659, 34755, 30665, 33743, 33241, 33242, 33245, 32745, 32751, 32759]\n"
     ]
    }
   ],
   "source": [
    "runs = []\n",
    "for i, rowi in df.iterrows():\n",
    "    dfn_i = (dfn.loc[dfn['run'] >= rowi['mainRunStart']]\n",
    "             .loc[dfn['run'] <= rowi['mainRunEnd']]\n",
    "             .loc[dfn['nsubruns'] >= 100]\n",
    "            )\n",
    "    if(dfn_i.size > 0):\n",
    "        dfn_i = dfn_i.sample(3, random_state=12345, replace=True)\n",
    "\n",
    "    #print(dfn_i.describe())\n",
    "    for j, rowj in dfn_i.iterrows():\n",
    "        runs.append(rowj['run'])\n",
    "    \n",
    "runs=list(set(runs))\n",
    "print(runs)"
   ]
  },
  {
   "cell_type": "code",
   "execution_count": 129,
   "metadata": {},
   "outputs": [
    {
     "data": {
      "text/plain": [
       "27.25"
      ]
     },
     "execution_count": 129,
     "metadata": {},
     "output_type": "execute_result"
    }
   ],
   "source": [
    "len(runs)/4"
   ]
  },
  {
   "cell_type": "code",
   "execution_count": 127,
   "metadata": {},
   "outputs": [
    {
     "name": "stdout",
     "output_type": "stream",
     "text": [
      "samweb -e gm2 create-definition run3_trendPlots_nearlineProcessing_midas \" ( ( run_number = 30208 ) or ( run_number = 33282 ) or ( run_number = 34324 ) or ( run_number = 34844 ) or ( run_number = 34335 ) or ( run_number = 34849 ) or ( run_number = 34339 ) or ( run_number = 34854 ) or ( run_number = 33319 ) or ( run_number = 32296 ) or ( run_number = 33320 ) or ( run_number = 30252 ) or ( run_number = 32303 ) or ( run_number = 30770 ) or ( run_number = 30771 ) or ( run_number = 32306 ) or ( run_number = 33332 ) or ( run_number = 30776 ) or ( run_number = 30292 ) or ( run_number = 30298 ) or ( run_number = 34912 ) or ( run_number = 33893 ) or ( run_number = 34917 ) or ( run_number = 32873 ) or ( run_number = 33898 ) or ( run_number = 31851 ) or ( run_number = 34921 ) or ( run_number = 33901 ) or ( run_number = 33395 ) or ( run_number = 31860 ) or ( run_number = 33396 ) or ( run_number = 33399 ) or ( run_number = 31868 ) or ( run_number = 34435 ) or ( run_number = 34440 ) or ( run_number = 34444 ) or ( run_number = 30354 ) or ( run_number = 30359 ) or ( run_number = 30362 ) or ( run_number = 31408 ) or ( run_number = 31413 ) or ( run_number = 31416 ) or ( run_number = 30911 ) or ( run_number = 32450 ) or ( run_number = 32458 ) or ( run_number = 32462 ) or ( run_number = 34517 ) or ( run_number = 34524 ) or ( run_number = 32992 ) or ( run_number = 32993 ) or ( run_number = 34528 ) or ( run_number = 32997 ) or ( run_number = 31471 ) or ( run_number = 30459 ) or ( run_number = 30470 ) or ( run_number = 30475 ) or ( run_number = 30995 ) or ( run_number = 34582 ) or ( run_number = 31511 ) or ( run_number = 34584 ) or ( run_number = 31001 ) or ( run_number = 34587 ) or ( run_number = 31516 ) or ( run_number = 31007 ) or ( run_number = 32031 ) or ( run_number = 33065 ) or ( run_number = 33066 ) or ( run_number = 34094 ) or ( run_number = 34100 ) or ( run_number = 33077 ) or ( run_number = 34103 ) or ( run_number = 31593 ) or ( run_number = 31599 ) or ( run_number = 31609 ) or ( run_number = 33660 ) or ( run_number = 32126 ) or ( run_number = 33663 ) or ( run_number = 32129 ) or ( run_number = 34183 ) or ( run_number = 32648 ) or ( run_number = 30089 ) or ( run_number = 34184 ) or ( run_number = 34187 ) or ( run_number = 32656 ) or ( run_number = 33172 ) or ( run_number = 32667 ) or ( run_number = 33179 ) or ( run_number = 33183 ) or ( run_number = 33705 ) or ( run_number = 31658 ) or ( run_number = 31659 ) or ( run_number = 33708 ) or ( run_number = 32173 ) or ( run_number = 31663 ) or ( run_number = 32176 ) or ( run_number = 34745 ) or ( run_number = 30651 ) or ( run_number = 32188 ) or ( run_number = 34751 ) or ( run_number = 30659 ) or ( run_number = 34755 ) or ( run_number = 30665 ) or ( run_number = 33743 ) or ( run_number = 33241 ) or ( run_number = 33242 ) or ( run_number = 33245 ) or ( run_number = 32745 ) or ( run_number = 32751 ) or ( run_number = 32759 )   and ( file_name like %_000%.mid ) ) and data_tier raw \" \n"
     ]
    }
   ],
   "source": [
    "datasetDefinition = createSamDataset(\"run3_trendPlots_nearlineProcessing_midas\", runs, \"file_name like %_000%.mid\")\n",
    "print(datasetDefinition)"
   ]
  },
  {
   "cell_type": "code",
   "execution_count": 132,
   "metadata": {},
   "outputs": [
    {
     "name": "stdout",
     "output_type": "stream",
     "text": [
      "samweb -e gm2 create-definition run3_trendPlots_nearlineProcessing_midas_first100_0 \" ( ( run_number = 30208 ) or ( run_number = 33282 ) or ( run_number = 34324 ) or ( run_number = 34844 ) or ( run_number = 34335 ) or ( run_number = 34849 ) or ( run_number = 34339 ) or ( run_number = 34854 ) or ( run_number = 33319 ) or ( run_number = 32296 ) or ( run_number = 33320 ) or ( run_number = 30252 ) or ( run_number = 32303 ) or ( run_number = 30770 ) or ( run_number = 30771 ) or ( run_number = 32306 ) or ( run_number = 33332 ) or ( run_number = 30776 ) or ( run_number = 30292 ) or ( run_number = 30298 ) or ( run_number = 34912 ) or ( run_number = 33893 ) or ( run_number = 34917 ) or ( run_number = 32873 ) or ( run_number = 33898 ) or ( run_number = 31851 ) or ( run_number = 34921 ) or ( run_number = 33901 )   and ( file_name like %_000%.mid ) ) and data_tier raw \" \n",
      "samweb -e gm2 create-definition run3_trendPlots_nearlineProcessing_midas_first100_1 \" ( ( run_number = 33395 ) or ( run_number = 31860 ) or ( run_number = 33396 ) or ( run_number = 33399 ) or ( run_number = 31868 ) or ( run_number = 34435 ) or ( run_number = 34440 ) or ( run_number = 34444 ) or ( run_number = 30354 ) or ( run_number = 30359 ) or ( run_number = 30362 ) or ( run_number = 31408 ) or ( run_number = 31413 ) or ( run_number = 31416 ) or ( run_number = 30911 ) or ( run_number = 32450 ) or ( run_number = 32458 ) or ( run_number = 32462 ) or ( run_number = 34517 ) or ( run_number = 34524 ) or ( run_number = 32992 ) or ( run_number = 32993 ) or ( run_number = 34528 ) or ( run_number = 32997 ) or ( run_number = 31471 ) or ( run_number = 30459 ) or ( run_number = 30470 ) or ( run_number = 30475 )   and ( file_name like %_000%.mid ) ) and data_tier raw \" \n",
      "samweb -e gm2 create-definition run3_trendPlots_nearlineProcessing_midas_first100_2 \" ( ( run_number = 30995 ) or ( run_number = 34582 ) or ( run_number = 31511 ) or ( run_number = 34584 ) or ( run_number = 31001 ) or ( run_number = 34587 ) or ( run_number = 31516 ) or ( run_number = 31007 ) or ( run_number = 32031 ) or ( run_number = 33065 ) or ( run_number = 33066 ) or ( run_number = 34094 ) or ( run_number = 34100 ) or ( run_number = 33077 ) or ( run_number = 34103 ) or ( run_number = 31593 ) or ( run_number = 31599 ) or ( run_number = 31609 ) or ( run_number = 33660 ) or ( run_number = 32126 ) or ( run_number = 33663 ) or ( run_number = 32129 ) or ( run_number = 34183 ) or ( run_number = 32648 ) or ( run_number = 30089 ) or ( run_number = 34184 ) or ( run_number = 34187 ) or ( run_number = 32656 )   and ( file_name like %_000%.mid ) ) and data_tier raw \" \n",
      "samweb -e gm2 create-definition run3_trendPlots_nearlineProcessing_midas_first100_3 \" ( ( run_number = 33172 ) or ( run_number = 32667 ) or ( run_number = 33179 ) or ( run_number = 33183 ) or ( run_number = 33705 ) or ( run_number = 31658 ) or ( run_number = 31659 ) or ( run_number = 33708 ) or ( run_number = 32173 ) or ( run_number = 31663 ) or ( run_number = 32176 ) or ( run_number = 34745 ) or ( run_number = 30651 ) or ( run_number = 32188 ) or ( run_number = 34751 ) or ( run_number = 30659 ) or ( run_number = 34755 ) or ( run_number = 30665 ) or ( run_number = 33743 ) or ( run_number = 33241 ) or ( run_number = 33242 ) or ( run_number = 33245 ) or ( run_number = 32745 ) or ( run_number = 32751 ) or ( run_number = 32759 )   and ( file_name like %_000%.mid ) ) and data_tier raw \" \n"
     ]
    }
   ],
   "source": [
    "def chunks(lst, n):\n",
    "    \"\"\"Yield successive n-sized chunks from lst.\"\"\"\n",
    "    for i in range(0, len(lst), n):\n",
    "        yield lst[i:i + n]\n",
    "        \n",
    "for i, runsi in enumerate(chunks(runs, 28)):\n",
    "    #print(runsi)\n",
    "    ding = createSamDataset(\"run3_trendPlots_nearlineProcessing_midas_first100_\"+str(i), runsi, \"file_name like %_000%.mid\")\n",
    "    print(ding)"
   ]
  },
  {
   "cell_type": "code",
   "execution_count": 139,
   "metadata": {},
   "outputs": [
    {
     "name": "stdout",
     "output_type": "stream",
     "text": [
      "./gridSetupAndSubmitGM2Data.sh --daq --full --fhicl nearlineProcessing_run3.fcl --sam-dataset   run3_trendPlots_nearlineProcessing_midas_first100_0  --njobs 25 --output-dir /pnfs/GM2/scratch/users/labounty/gridoutput --localArea --memory 4 --lifetime 24h --sam-max-files 250 --noifdh_art --onebyone \n",
      "./gridSetupAndSubmitGM2Data.sh --daq --full --fhicl nearlineProcessing_run3.fcl --sam-dataset   run3_trendPlots_nearlineProcessing_midas_first100_1  --njobs 25 --output-dir /pnfs/GM2/scratch/users/labounty/gridoutput --localArea --memory 4 --lifetime 24h --sam-max-files 250 --noifdh_art --onebyone \n",
      "./gridSetupAndSubmitGM2Data.sh --daq --full --fhicl nearlineProcessing_run3.fcl --sam-dataset   run3_trendPlots_nearlineProcessing_midas_first100_2  --njobs 25 --output-dir /pnfs/GM2/scratch/users/labounty/gridoutput --localArea --memory 4 --lifetime 24h --sam-max-files 250 --noifdh_art --onebyone \n",
      "./gridSetupAndSubmitGM2Data.sh --daq --full --fhicl nearlineProcessing_run3.fcl --sam-dataset   run3_trendPlots_nearlineProcessing_midas_first100_3  --njobs 25 --output-dir /pnfs/GM2/scratch/users/labounty/gridoutput --localArea --memory 4 --lifetime 24h --sam-max-files 250 --noifdh_art --onebyone \n"
     ]
    }
   ],
   "source": [
    "for i in range(4):\n",
    "    print(\"./gridSetupAndSubmitGM2Data.sh --daq --full --fhicl nearlineProcessing_run3.fcl --sam-dataset   run3_trendPlots_nearlineProcessing_midas_first100_\"+str(i)+\"  --njobs 25 --output-dir /pnfs/GM2/scratch/users/labounty/gridoutput --localArea --memory 4 --lifetime 24h --sam-max-files 250 --noifdh_art --onebyone \")"
   ]
  },
  {
   "cell_type": "code",
   "execution_count": null,
   "metadata": {},
   "outputs": [],
   "source": []
  }
 ],
 "metadata": {
  "kernelspec": {
   "display_name": "Python 3",
   "language": "python",
   "name": "python3"
  },
  "language_info": {
   "codemirror_mode": {
    "name": "ipython",
    "version": 3
   },
   "file_extension": ".py",
   "mimetype": "text/x-python",
   "name": "python",
   "nbconvert_exporter": "python",
   "pygments_lexer": "ipython3",
   "version": "3.6.8"
  }
 },
 "nbformat": 4,
 "nbformat_minor": 2
}
