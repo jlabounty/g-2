{
 "cells": [
  {
   "cell_type": "code",
   "execution_count": 1,
   "metadata": {},
   "outputs": [
    {
     "name": "stdout",
     "output_type": "stream",
     "text": [
      "Welcome to JupyROOT 6.12/06\n",
      "For interactive plots, run: setint()\n",
      "To return to non-interactive plots (default state), run: noint()\n"
     ]
    }
   ],
   "source": [
    "from standardInclude import *"
   ]
  },
  {
   "cell_type": "code",
   "execution_count": 2,
   "metadata": {},
   "outputs": [],
   "source": [
    "f = r.TFile(\"./data/gm2offline_ana_18236461_1544537266.1865.root\")"
   ]
  },
  {
   "cell_type": "code",
   "execution_count": 3,
   "metadata": {},
   "outputs": [
    {
     "name": "stdout",
     "output_type": "stream",
     "text": [
      "TFile**\t\t./data/gm2offline_ana_18236461_1544537266.1865.root\t\n",
      " TFile*\t\t./data/gm2offline_ana_18236461_1544537266.1865.root\t\n",
      "  TDirectoryFile*\t\tSimuTreeMaker\tSimuTreeMaker (SimuTreeMaker) folder\n",
      "   KEY: TTree\tgm2ringsimTree;4\tgm2ringsimTree\n",
      "   KEY: TTree\tgm2ringsimTree;3\tgm2ringsimTree\n",
      "  KEY: TDirectoryFile\tSimuTreeMaker;1\tSimuTreeMaker (SimuTreeMaker) folder\n"
     ]
    }
   ],
   "source": [
    "f.cd(\"SimuTreeMaker\")\n",
    "f.ls()\n",
    "\n",
    "t = f.Get(\"SimuTreeMaker\").Get(\"gm2ringsimTree\")"
   ]
  },
  {
   "cell_type": "code",
   "execution_count": 4,
   "metadata": {},
   "outputs": [
    {
     "name": "stdout",
     "output_type": "stream",
     "text": [
      "******************************************************************************\n",
      "*Tree    :gm2ringsimTree: gm2ringsimTree                                         *\n",
      "*Entries :   392000 : Total =       233308624 bytes  File  Size =  101487426 *\n",
      "*        :          : Tree compression factor =   2.30                       *\n",
      "******************************************************************************\n",
      "*Br    0 :runNum    : runNum/I                                               *\n",
      "*Entries :   392000 : Total  Size=    1570163 bytes  File Size  =      10129 *\n",
      "*Baskets :       18 : Basket Size=    1039872 bytes  Compression= 154.95     *\n",
      "*............................................................................*\n",
      "*Br    1 :subRunNum : subRunNum/I                                            *\n",
      "*Entries :   392000 : Total  Size=    1570229 bytes  File Size  =      10180 *\n",
      "*Baskets :       18 : Basket Size=    1039872 bytes  Compression= 154.18     *\n",
      "*............................................................................*\n",
      "*Br    2 :eventNum  : eventNum/I                                             *\n",
      "*Entries :   392000 : Total  Size=    1570207 bytes  File Size  =     548842 *\n",
      "*Baskets :       18 : Basket Size=    1039872 bytes  Compression=   2.86     *\n",
      "*............................................................................*\n",
      "*Br    3 :muDecay   : muDecayPx/F:muDecayPy:muDecayPz:muDecayX:muDecayY:     *\n",
      "*         | muDecayZ:muDecayPolx:muDecayPoly:muDecayPolz:muDecayT            *\n",
      "*Entries :   392000 : Total  Size=   15696441 bytes  File Size  =   14152076 *\n",
      "*Baskets :      147 : Basket Size=    3206144 bytes  Compression=   1.11     *\n",
      "*............................................................................*\n",
      "*Br    4 :muDecayCyl : muDecayPr/F:muDecayPtheta:muDecayPyrel:muDecayR:      *\n",
      "*         | muDecayTheta:muDecayYrel:muDecayPolR:muDecayPolTheta:            *\n",
      "*         | muDecayPolYrel                                                   *\n",
      "*Entries :   392000 : Total  Size=   14127254 bytes  File Size  =   12290741 *\n",
      "*Baskets :      132 : Basket Size=    3206144 bytes  Compression=   1.15     *\n",
      "*............................................................................*\n",
      "*Br    5 :muDecayRel : muDecayPolThetaRel/F:muDecayPolPhiRel                 *\n",
      "*Entries :   392000 : Total  Size=    3139886 bytes  File Size  =    2894248 *\n",
      "*Baskets :       32 : Basket Size=    3206144 bytes  Compression=   1.08     *\n",
      "*............................................................................*\n",
      "*Br    6 :muDecayMomFrame : muDecayMomFramePolR/F:muDecayMomFramePolTheta:   *\n",
      "*         | muDecayMomFramePolYrel                                           *\n",
      "*Entries :   392000 : Total  Size=    4709774 bytes  File Size  =      28882 *\n",
      "*Baskets :       46 : Basket Size=    3206144 bytes  Compression= 163.02     *\n",
      "*............................................................................*\n",
      "*Br    7 :eBirth    : eBirthPx/F:eBirthPy:eBirthPz:eBirthX:eBirthY:eBirthZ:  *\n",
      "*         | eBirthPolx:eBirthPoly:eBirthPolz:eBirthT                         *\n",
      "*Entries :   392000 : Total  Size=   15696263 bytes  File Size  =   11163396 *\n",
      "*Baskets :      147 : Basket Size=    3206144 bytes  Compression=   1.41     *\n",
      "*............................................................................*\n",
      "*Br    8 :eBirthCyl : eBirthPr/F:eBirthPtheta:eBirthPyrel:eBirthR:           *\n",
      "*         | eBirthTheta:eBirthYrel:eBirthPolR:eBirthPolTheta:eBirthPolYrel   *\n",
      "*Entries :   392000 : Total  Size=   14127094 bytes  File Size  =    9610959 *\n",
      "*Baskets :      132 : Basket Size=    3206144 bytes  Compression=   1.47     *\n",
      "*............................................................................*\n",
      "*Br    9 :eCaloPx   : vector<float>                                          *\n",
      "*Entries :   392000 : Total  Size=    6233873 bytes  File Size  =    1995218 *\n",
      "*Baskets :       76 : Basket Size=    1455104 bytes  Compression=   3.12     *\n",
      "*............................................................................*\n",
      "*Br   10 :eCaloPy   : vector<float>                                          *\n",
      "*Entries :   392000 : Total  Size=    6233873 bytes  File Size  =    1991647 *\n",
      "*Baskets :       76 : Basket Size=    1455104 bytes  Compression=   3.13     *\n",
      "*............................................................................*\n",
      "*Br   11 :eCaloPz   : vector<float>                                          *\n",
      "*Entries :   392000 : Total  Size=    6233873 bytes  File Size  =    1995337 *\n",
      "*Baskets :       76 : Basket Size=    1455104 bytes  Compression=   3.12     *\n",
      "*............................................................................*\n",
      "*Br   12 :eCaloX    : vector<float>                                          *\n",
      "*Entries :   392000 : Total  Size=    6233793 bytes  File Size  =    1945066 *\n",
      "*Baskets :       76 : Basket Size=    1455104 bytes  Compression=   3.20     *\n",
      "*............................................................................*\n",
      "*Br   13 :eCaloY    : vector<float>                                          *\n",
      "*Entries :   392000 : Total  Size=    6233793 bytes  File Size  =    1991410 *\n",
      "*Baskets :       76 : Basket Size=    1455104 bytes  Compression=   3.13     *\n",
      "*............................................................................*\n",
      "*Br   14 :eCaloZ    : vector<float>                                          *\n",
      "*Entries :   392000 : Total  Size=    6233793 bytes  File Size  =    1945985 *\n",
      "*Baskets :       76 : Basket Size=    1455104 bytes  Compression=   3.20     *\n",
      "*............................................................................*\n",
      "*Br   15 :eCaloPr   : vector<float>                                          *\n",
      "*Entries :   392000 : Total  Size=    6233873 bytes  File Size  =    1955232 *\n",
      "*Baskets :       76 : Basket Size=    1455104 bytes  Compression=   3.19     *\n",
      "*............................................................................*\n",
      "*Br   16 :eCaloPtheta : vector<float>                                        *\n",
      "*Entries :   392000 : Total  Size=    6234193 bytes  File Size  =    1989046 *\n",
      "*Baskets :       76 : Basket Size=    1455104 bytes  Compression=   3.13     *\n",
      "*............................................................................*\n",
      "*Br   17 :eCaloR    : vector<float>                                          *\n",
      "*Entries :   392000 : Total  Size=    6233793 bytes  File Size  =    1808954 *\n",
      "*Baskets :       76 : Basket Size=    1455104 bytes  Compression=   3.45     *\n",
      "*............................................................................*\n",
      "*Br   18 :eCaloTheta : vector<float>                                         *\n",
      "*Entries :   392000 : Total  Size=    6234113 bytes  File Size  =    1946750 *\n",
      "*Baskets :       76 : Basket Size=    1455104 bytes  Compression=   3.20     *\n",
      "*............................................................................*\n",
      "*Br   19 :eCaloYrel : vector<float>                                          *\n",
      "*Entries :   392000 : Total  Size=    6234033 bytes  File Size  =    1989352 *\n",
      "*Baskets :       76 : Basket Size=    1455104 bytes  Compression=   3.13     *\n",
      "*............................................................................*\n",
      "*Br   20 :eCaloE    : vector<float>                                          *\n",
      "*Entries :   392000 : Total  Size=    6233793 bytes  File Size  =    1947892 *\n",
      "*Baskets :       76 : Basket Size=    1455104 bytes  Compression=   3.20     *\n",
      "*............................................................................*\n",
      "*Br   21 :eCaloT    : vector<float>                                          *\n",
      "*Entries :   392000 : Total  Size=    6233793 bytes  File Size  =    1959327 *\n",
      "*Baskets :       76 : Basket Size=    1455104 bytes  Compression=   3.18     *\n",
      "*............................................................................*\n",
      "*Br   22 :eCaloNum  : vector<int>                                            *\n",
      "*Entries :   392000 : Total  Size=    6233953 bytes  File Size  =    1312956 *\n",
      "*Baskets :       76 : Basket Size=    1455104 bytes  Compression=   4.75     *\n",
      "*............................................................................*\n",
      "*Br   23 :eCaloFlag :                                                        *\n",
      "*         | Flag for number of calorimeters hit by this positron. 0, one calo; 1, two+ calos forwards; 2, two+ calos backwards; -1, no calos. /I*\n",
      "*Entries :   392000 : Total  Size=    1570592 bytes  File Size  =     171112 *\n",
      "*Baskets :       18 : Basket Size=    1039872 bytes  Compression=   9.17     *\n",
      "*............................................................................*\n",
      "*Br   24 :eCaloFrameR : vector<float>                                        *\n",
      "*Entries :   392000 : Total  Size=    6568437 bytes  File Size  =    2183090 *\n",
      "*Baskets :       79 : Basket Size=    1484288 bytes  Compression=   3.01     *\n",
      "*............................................................................*\n",
      "*Br   25 :eCaloFrameV : vector<float>                                        *\n",
      "*Entries :   392000 : Total  Size=    6568437 bytes  File Size  =    2325063 *\n",
      "*Baskets :       79 : Basket Size=    1484288 bytes  Compression=   2.82     *\n",
      "*............................................................................*\n",
      "*Br   26 :eCaloFrameT : vector<float>                                        *\n",
      "*Entries :   392000 : Total  Size=    6568437 bytes  File Size  =    1757437 *\n",
      "*Baskets :       79 : Basket Size=    1484288 bytes  Compression=   3.74     *\n",
      "*............................................................................*\n",
      "*Br   27 :eCaloFrameE : vector<float>                                        *\n",
      "*Entries :   392000 : Total  Size=    6568437 bytes  File Size  =    2365932 *\n",
      "*Baskets :       79 : Basket Size=    1484288 bytes  Compression=   2.78     *\n",
      "*............................................................................*\n",
      "*Br   28 :eCaloFrameEdep : vector<float>                                     *\n",
      "*Entries :   392000 : Total  Size=    6568686 bytes  File Size  =    2372347 *\n",
      "*Baskets :       79 : Basket Size=    1484800 bytes  Compression=   2.77     *\n",
      "*............................................................................*\n",
      "*Br   29 :eCaloFrameXtal : vector<float>                                     *\n",
      "*Entries :   392000 : Total  Size=    6568686 bytes  File Size  =    1716605 *\n",
      "*Baskets :       79 : Basket Size=    1484800 bytes  Compression=   3.83     *\n",
      "*............................................................................*\n",
      "*Br   30 :eCaloFrameCaloNum : vector<float>                                  *\n",
      "*Entries :   392000 : Total  Size=    6568935 bytes  File Size  =    1625946 *\n",
      "*Baskets :       79 : Basket Size=    1484800 bytes  Compression=   4.04     *\n",
      "*............................................................................*\n",
      "*Br   31 :eCaloFramePr : vector<float>                                       *\n",
      "*Entries :   392000 : Total  Size=    6568520 bytes  File Size  =    2360369 *\n",
      "*Baskets :       79 : Basket Size=    1484288 bytes  Compression=   2.78     *\n",
      "*............................................................................*\n",
      "*Br   32 :eCaloFramePv : vector<float>                                       *\n",
      "*Entries :   392000 : Total  Size=    6568520 bytes  File Size  =    2411013 *\n",
      "*Baskets :       79 : Basket Size=    1484288 bytes  Compression=   2.72     *\n",
      "*............................................................................*\n",
      "*Br   33 :eCaloFramePt : vector<float>                                       *\n",
      "*Entries :   392000 : Total  Size=    6568520 bytes  File Size  =    2377002 *\n",
      "*Baskets :       79 : Basket Size=    1484288 bytes  Compression=   2.76     *\n",
      "*............................................................................*\n",
      "*Br   34 :eCaloFrameTime : vector<float>                                     *\n",
      "*Entries :   392000 : Total  Size=    6568686 bytes  File Size  =    2312175 *\n",
      "*Baskets :       79 : Basket Size=    1484800 bytes  Compression=   2.84     *\n",
      "*............................................................................*\n"
     ]
    }
   ],
   "source": [
    "t.Print()"
   ]
  },
  {
   "cell_type": "code",
   "execution_count": 5,
   "metadata": {},
   "outputs": [
    {
     "data": {
      "image/png": "[encoded data removed]",
      "text/plain": [
       "<IPython.core.display.Image object>"
      ]
     },
     "metadata": {},
     "output_type": "display_data"
    }
   ],
   "source": [
    "c = r.TCanvas()\n",
    "t.Draw(\"eCaloT[0]-muDecayT:muDecayTheta\",\"eCaloNum == 21 && eCaloFlag == 0\",\"\")\n",
    "c.Draw()"
   ]
  },
  {
   "cell_type": "code",
   "execution_count": 6,
   "metadata": {},
   "outputs": [
    {
     "data": {
      "image/png": "[encoded data removed]",
      "text/plain": [
       "<IPython.core.display.Image object>"
      ]
     },
     "metadata": {},
     "output_type": "display_data"
    }
   ],
   "source": [
    "c = r.TCanvas()\n",
    "t.Draw(\"eCaloFrameE:eCaloFrameEdep>>hist(100,0,3000,100,0,3000)\",\"eCaloFlag == 0 && eCaloNum == 1\",\"colz\")\n",
    "c.SetLogz()\n",
    "c.Draw()"
   ]
  },
  {
   "cell_type": "code",
   "execution_count": 92,
   "metadata": {},
   "outputs": [],
   "source": [
    "condition = \"eCaloNum == 1\"\n",
    "draw = \"eCaloNum\"\n",
    "h = r.TH1D(\"h\",\"h\",26,0,26)"
   ]
  },
  {
   "cell_type": "code",
   "execution_count": 93,
   "metadata": {},
   "outputs": [
    {
     "name": "stdout",
     "output_type": "stream",
     "text": [
      "<ROOT.TH1D object (\"h\") at 0x7f551e3af790>\n"
     ]
    }
   ],
   "source": [
    "print(h)"
   ]
  },
  {
   "cell_type": "code",
   "execution_count": 94,
   "metadata": {},
   "outputs": [
    {
     "name": "stdout",
     "output_type": "stream",
     "text": [
      "7915.0\n"
     ]
    },
    {
     "data": {
      "image/png": "[encoded data removed]",
      "text/plain": [
       "<IPython.core.display.Image object>"
      ]
     },
     "metadata": {},
     "output_type": "display_data"
    }
   ],
   "source": [
    "c = r.TCanvas()\n",
    "t.Draw(draw+\">>h\",condition,\"\")\n",
    "print(h.GetEntries())\n",
    "#c.SetLogy()\n",
    "h.SetDirectory(0)\n",
    "c.Draw()"
   ]
  },
  {
   "cell_type": "code",
   "execution_count": 107,
   "metadata": {},
   "outputs": [],
   "source": [
    "fout = r.TFile(\"./testOut.root\",\"recreate\")\n",
    "#create a tree to store the output, and fill it based on the condition.\n",
    "tfinal = t.CopyTree( condition )\n",
    "tfinal.SetLineColor(2)\n",
    "\n",
    "h2 = h.Clone(\"h2\")\n",
    "h2.Reset()\n",
    "h2.SetLineColor(2)"
   ]
  },
  {
   "cell_type": "code",
   "execution_count": 109,
   "metadata": {},
   "outputs": [
    {
     "data": {
      "image/png": "[encoded data removed]",
      "text/plain": [
       "<IPython.core.display.Image object>"
      ]
     },
     "metadata": {},
     "output_type": "display_data"
    }
   ],
   "source": [
    "c = r.TCanvas()\n",
    "tfinal.Draw(draw+\">>h2\",\"\",\"\")\n",
    "h2.Draw()\n",
    "c.SetLogy()\n",
    "c.Draw()"
   ]
  },
  {
   "cell_type": "code",
   "execution_count": 110,
   "metadata": {},
   "outputs": [
    {
     "name": "stdout",
     "output_type": "stream",
     "text": [
      "<ROOT.TH1D object (\"h\") at 0x7fffdbb2ad10> <ROOT.TH1D object (\"h2\") at 0x7f551b43f700>\n"
     ]
    }
   ],
   "source": [
    "print(h1,h2)"
   ]
  },
  {
   "cell_type": "code",
   "execution_count": 111,
   "metadata": {},
   "outputs": [
    {
     "data": {
      "image/png": "[encoded data removed]",
      "text/plain": [
       "<IPython.core.display.Image object>"
      ]
     },
     "metadata": {},
     "output_type": "display_data"
    }
   ],
   "source": [
    "c = r.TCanvas()\n",
    "h.Draw()\n",
    "h.GetYaxis().SetRangeUser(0.1,10000)\n",
    "h2.Draw(\"same\")\n",
    "c.SetLogy()\n",
    "c.Draw()"
   ]
  },
  {
   "cell_type": "code",
   "execution_count": 113,
   "metadata": {},
   "outputs": [
    {
     "data": {
      "image/png": "[encoded data removed]",
      "text/plain": [
       "<IPython.core.display.Image object>"
      ]
     },
     "metadata": {},
     "output_type": "display_data"
    }
   ],
   "source": [
    "hDiff = h.Clone(\"hDiff\")\n",
    "hDiff.Add(h2,-1)\n",
    "\n",
    "c = r.TCanvas()\n",
    "hDiff.Draw()\n",
    "hDiff.GetYaxis().SetRangeUser(-4,2)\n",
    "c.Draw()"
   ]
  },
  {
   "cell_type": "code",
   "execution_count": null,
   "metadata": {},
   "outputs": [],
   "source": []
  },
  {
   "cell_type": "code",
   "execution_count": null,
   "metadata": {},
   "outputs": [],
   "source": []
  }
 ],
 "metadata": {
  "kernelspec": {
   "display_name": "Python 3",
   "language": "python",
   "name": "python3"
  },
  "language_info": {
   "codemirror_mode": {
    "name": "ipython",
    "version": 3
   },
   "file_extension": ".py",
   "mimetype": "text/x-python",
   "name": "python",
   "nbconvert_exporter": "python",
   "pygments_lexer": "ipython3",
   "version": "3.6.8"
  }
 },
 "nbformat": 4,
 "nbformat_minor": 2
}
