{
 "cells": [
  {
   "cell_type": "code",
   "execution_count": 1,
   "metadata": {},
   "outputs": [
    {
     "name": "stdout",
     "output_type": "stream",
     "text": [
      "Automatically created module for IPython interactive environment\n"
     ]
    }
   ],
   "source": [
    "print(__doc__)\n",
    "\n",
    "import numpy as np\n",
    "import matplotlib.pyplot as plt\n",
    "from sklearn import datasets\n",
    "from sklearn.gaussian_process import GaussianProcessClassifier\n",
    "from sklearn.gaussian_process.kernels import RBF\n",
    "\n",
    "# import some data to play with\n",
    "iris = datasets.load_iris()\n",
    "X = iris.data[:, :2]  # we only take the first two features.\n",
    "y = np.array(iris.target, dtype=int)\n",
    "\n",
    "h = .02  # step size in the mesh\n",
    "\n",
    "kernel = 1.0 * RBF([1.0])\n",
    "gpc_rbf_isotropic = GaussianProcessClassifier(kernel=kernel).fit(X, y)\n",
    "kernel = 1.0 * RBF([1.0, 1.0])\n",
    "gpc_rbf_anisotropic = GaussianProcessClassifier(kernel=kernel).fit(X, y)"
   ]
  },
  {
   "cell_type": "code",
   "execution_count": 19,
   "metadata": {},
   "outputs": [
    {
     "ename": "MemoryError",
     "evalue": "",
     "output_type": "error",
     "traceback": [
      "\u001b[0;31m---------------------------------------------------------------------------\u001b[0m",
      "\u001b[0;31mMemoryError\u001b[0m                               Traceback (most recent call last)",
      "\u001b[0;32m<ipython-input-19-59a2792ad20f>\u001b[0m in \u001b[0;36m<module>\u001b[0;34m\u001b[0m\n\u001b[1;32m     12\u001b[0m     \u001b[0mplt\u001b[0m\u001b[0;34m.\u001b[0m\u001b[0msubplot\u001b[0m\u001b[0;34m(\u001b[0m\u001b[0;36m1\u001b[0m\u001b[0;34m,\u001b[0m \u001b[0;36m2\u001b[0m\u001b[0;34m,\u001b[0m \u001b[0mi\u001b[0m \u001b[0;34m+\u001b[0m \u001b[0;36m1\u001b[0m\u001b[0;34m)\u001b[0m\u001b[0;34m\u001b[0m\u001b[0;34m\u001b[0m\u001b[0m\n\u001b[1;32m     13\u001b[0m \u001b[0;34m\u001b[0m\u001b[0m\n\u001b[0;32m---> 14\u001b[0;31m     \u001b[0mZ\u001b[0m \u001b[0;34m=\u001b[0m \u001b[0mclf\u001b[0m\u001b[0;34m.\u001b[0m\u001b[0mpredict_proba\u001b[0m\u001b[0;34m(\u001b[0m\u001b[0mnp\u001b[0m\u001b[0;34m.\u001b[0m\u001b[0mc_\u001b[0m\u001b[0;34m[\u001b[0m\u001b[0mxx\u001b[0m\u001b[0;34m.\u001b[0m\u001b[0mravel\u001b[0m\u001b[0;34m(\u001b[0m\u001b[0;34m)\u001b[0m\u001b[0;34m,\u001b[0m \u001b[0myy\u001b[0m\u001b[0;34m.\u001b[0m\u001b[0mravel\u001b[0m\u001b[0;34m(\u001b[0m\u001b[0;34m)\u001b[0m\u001b[0;34m]\u001b[0m\u001b[0;34m)\u001b[0m\u001b[0;34m\u001b[0m\u001b[0;34m\u001b[0m\u001b[0m\n\u001b[0m\u001b[1;32m     15\u001b[0m \u001b[0;34m\u001b[0m\u001b[0m\n\u001b[1;32m     16\u001b[0m     \u001b[0;31m# Put the result into a color plot\u001b[0m\u001b[0;34m\u001b[0m\u001b[0;34m\u001b[0m\u001b[0;34m\u001b[0m\u001b[0m\n",
      "\u001b[0;32m~/anaconda3/lib/python3.6/site-packages/sklearn/gaussian_process/gpc.py\u001b[0m in \u001b[0;36mpredict_proba\u001b[0;34m(self, X)\u001b[0m\n\u001b[1;32m    659\u001b[0m                              \"one_vs_rest mode instead.\")\n\u001b[1;32m    660\u001b[0m         \u001b[0mX\u001b[0m \u001b[0;34m=\u001b[0m \u001b[0mcheck_array\u001b[0m\u001b[0;34m(\u001b[0m\u001b[0mX\u001b[0m\u001b[0;34m)\u001b[0m\u001b[0;34m\u001b[0m\u001b[0;34m\u001b[0m\u001b[0m\n\u001b[0;32m--> 661\u001b[0;31m         \u001b[0;32mreturn\u001b[0m \u001b[0mself\u001b[0m\u001b[0;34m.\u001b[0m\u001b[0mbase_estimator_\u001b[0m\u001b[0;34m.\u001b[0m\u001b[0mpredict_proba\u001b[0m\u001b[0;34m(\u001b[0m\u001b[0mX\u001b[0m\u001b[0;34m)\u001b[0m\u001b[0;34m\u001b[0m\u001b[0;34m\u001b[0m\u001b[0m\n\u001b[0m\u001b[1;32m    662\u001b[0m \u001b[0;34m\u001b[0m\u001b[0m\n\u001b[1;32m    663\u001b[0m     \u001b[0;34m@\u001b[0m\u001b[0mproperty\u001b[0m\u001b[0;34m\u001b[0m\u001b[0;34m\u001b[0m\u001b[0m\n",
      "\u001b[0;32m~/anaconda3/lib/python3.6/site-packages/sklearn/gaussian_process/gpc.py\u001b[0m in \u001b[0;36mpredict_proba\u001b[0;34m(self, X)\u001b[0m\n\u001b[1;32m    280\u001b[0m \u001b[0;34m\u001b[0m\u001b[0m\n\u001b[1;32m    281\u001b[0m         \u001b[0;31m# Based on Algorithm 3.2 of GPML\u001b[0m\u001b[0;34m\u001b[0m\u001b[0;34m\u001b[0m\u001b[0;34m\u001b[0m\u001b[0m\n\u001b[0;32m--> 282\u001b[0;31m         \u001b[0mK_star\u001b[0m \u001b[0;34m=\u001b[0m \u001b[0mself\u001b[0m\u001b[0;34m.\u001b[0m\u001b[0mkernel_\u001b[0m\u001b[0;34m(\u001b[0m\u001b[0mself\u001b[0m\u001b[0;34m.\u001b[0m\u001b[0mX_train_\u001b[0m\u001b[0;34m,\u001b[0m \u001b[0mX\u001b[0m\u001b[0;34m)\u001b[0m  \u001b[0;31m# K_star =k(x_star)\u001b[0m\u001b[0;34m\u001b[0m\u001b[0;34m\u001b[0m\u001b[0m\n\u001b[0m\u001b[1;32m    283\u001b[0m         \u001b[0mf_star\u001b[0m \u001b[0;34m=\u001b[0m \u001b[0mK_star\u001b[0m\u001b[0;34m.\u001b[0m\u001b[0mT\u001b[0m\u001b[0;34m.\u001b[0m\u001b[0mdot\u001b[0m\u001b[0;34m(\u001b[0m\u001b[0mself\u001b[0m\u001b[0;34m.\u001b[0m\u001b[0my_train_\u001b[0m \u001b[0;34m-\u001b[0m \u001b[0mself\u001b[0m\u001b[0;34m.\u001b[0m\u001b[0mpi_\u001b[0m\u001b[0;34m)\u001b[0m  \u001b[0;31m# Line 4\u001b[0m\u001b[0;34m\u001b[0m\u001b[0;34m\u001b[0m\u001b[0m\n\u001b[1;32m    284\u001b[0m         \u001b[0mv\u001b[0m \u001b[0;34m=\u001b[0m \u001b[0msolve\u001b[0m\u001b[0;34m(\u001b[0m\u001b[0mself\u001b[0m\u001b[0;34m.\u001b[0m\u001b[0mL_\u001b[0m\u001b[0;34m,\u001b[0m \u001b[0mself\u001b[0m\u001b[0;34m.\u001b[0m\u001b[0mW_sr_\u001b[0m\u001b[0;34m[\u001b[0m\u001b[0;34m:\u001b[0m\u001b[0;34m,\u001b[0m \u001b[0mnp\u001b[0m\u001b[0;34m.\u001b[0m\u001b[0mnewaxis\u001b[0m\u001b[0;34m]\u001b[0m \u001b[0;34m*\u001b[0m \u001b[0mK_star\u001b[0m\u001b[0;34m)\u001b[0m  \u001b[0;31m# Line 5\u001b[0m\u001b[0;34m\u001b[0m\u001b[0;34m\u001b[0m\u001b[0m\n",
      "\u001b[0;32m~/anaconda3/lib/python3.6/site-packages/sklearn/gaussian_process/kernels.py\u001b[0m in \u001b[0;36m__call__\u001b[0;34m(self, X, Y, eval_gradient)\u001b[0m\n\u001b[1;32m    756\u001b[0m                                        K2_gradient * K1[:, :, np.newaxis]))\n\u001b[1;32m    757\u001b[0m         \u001b[0;32melse\u001b[0m\u001b[0;34m:\u001b[0m\u001b[0;34m\u001b[0m\u001b[0;34m\u001b[0m\u001b[0m\n\u001b[0;32m--> 758\u001b[0;31m             \u001b[0;32mreturn\u001b[0m \u001b[0mself\u001b[0m\u001b[0;34m.\u001b[0m\u001b[0mk1\u001b[0m\u001b[0;34m(\u001b[0m\u001b[0mX\u001b[0m\u001b[0;34m,\u001b[0m \u001b[0mY\u001b[0m\u001b[0;34m)\u001b[0m \u001b[0;34m*\u001b[0m \u001b[0mself\u001b[0m\u001b[0;34m.\u001b[0m\u001b[0mk2\u001b[0m\u001b[0;34m(\u001b[0m\u001b[0mX\u001b[0m\u001b[0;34m,\u001b[0m \u001b[0mY\u001b[0m\u001b[0;34m)\u001b[0m\u001b[0;34m\u001b[0m\u001b[0;34m\u001b[0m\u001b[0m\n\u001b[0m\u001b[1;32m    759\u001b[0m \u001b[0;34m\u001b[0m\u001b[0m\n\u001b[1;32m    760\u001b[0m     \u001b[0;32mdef\u001b[0m \u001b[0mdiag\u001b[0m\u001b[0;34m(\u001b[0m\u001b[0mself\u001b[0m\u001b[0;34m,\u001b[0m \u001b[0mX\u001b[0m\u001b[0;34m)\u001b[0m\u001b[0;34m:\u001b[0m\u001b[0;34m\u001b[0m\u001b[0;34m\u001b[0m\u001b[0m\n",
      "\u001b[0;32m~/anaconda3/lib/python3.6/site-packages/sklearn/gaussian_process/kernels.py\u001b[0m in \u001b[0;36m__call__\u001b[0;34m(self, X, Y, eval_gradient)\u001b[0m\n\u001b[1;32m   1000\u001b[0m             \u001b[0;32mraise\u001b[0m \u001b[0mValueError\u001b[0m\u001b[0;34m(\u001b[0m\u001b[0;34m\"Gradient can only be evaluated when Y is None.\"\u001b[0m\u001b[0;34m)\u001b[0m\u001b[0;34m\u001b[0m\u001b[0;34m\u001b[0m\u001b[0m\n\u001b[1;32m   1001\u001b[0m \u001b[0;34m\u001b[0m\u001b[0m\n\u001b[0;32m-> 1002\u001b[0;31m         \u001b[0mK\u001b[0m \u001b[0;34m=\u001b[0m \u001b[0mself\u001b[0m\u001b[0;34m.\u001b[0m\u001b[0mconstant_value\u001b[0m \u001b[0;34m*\u001b[0m \u001b[0mnp\u001b[0m\u001b[0;34m.\u001b[0m\u001b[0mones\u001b[0m\u001b[0;34m(\u001b[0m\u001b[0;34m(\u001b[0m\u001b[0mX\u001b[0m\u001b[0;34m.\u001b[0m\u001b[0mshape\u001b[0m\u001b[0;34m[\u001b[0m\u001b[0;36m0\u001b[0m\u001b[0;34m]\u001b[0m\u001b[0;34m,\u001b[0m \u001b[0mY\u001b[0m\u001b[0;34m.\u001b[0m\u001b[0mshape\u001b[0m\u001b[0;34m[\u001b[0m\u001b[0;36m0\u001b[0m\u001b[0;34m]\u001b[0m\u001b[0;34m)\u001b[0m\u001b[0;34m)\u001b[0m\u001b[0;34m\u001b[0m\u001b[0;34m\u001b[0m\u001b[0m\n\u001b[0m\u001b[1;32m   1003\u001b[0m         \u001b[0;32mif\u001b[0m \u001b[0meval_gradient\u001b[0m\u001b[0;34m:\u001b[0m\u001b[0;34m\u001b[0m\u001b[0;34m\u001b[0m\u001b[0m\n\u001b[1;32m   1004\u001b[0m             \u001b[0;32mif\u001b[0m \u001b[0;32mnot\u001b[0m \u001b[0mself\u001b[0m\u001b[0;34m.\u001b[0m\u001b[0mhyperparameter_constant_value\u001b[0m\u001b[0;34m.\u001b[0m\u001b[0mfixed\u001b[0m\u001b[0;34m:\u001b[0m\u001b[0;34m\u001b[0m\u001b[0;34m\u001b[0m\u001b[0m\n",
      "\u001b[0;32m~/anaconda3/lib/python3.6/site-packages/numpy/core/numeric.py\u001b[0m in \u001b[0;36mones\u001b[0;34m(shape, dtype, order)\u001b[0m\n\u001b[1;32m    221\u001b[0m \u001b[0;34m\u001b[0m\u001b[0m\n\u001b[1;32m    222\u001b[0m     \"\"\"\n\u001b[0;32m--> 223\u001b[0;31m     \u001b[0ma\u001b[0m \u001b[0;34m=\u001b[0m \u001b[0mempty\u001b[0m\u001b[0;34m(\u001b[0m\u001b[0mshape\u001b[0m\u001b[0;34m,\u001b[0m \u001b[0mdtype\u001b[0m\u001b[0;34m,\u001b[0m \u001b[0morder\u001b[0m\u001b[0;34m)\u001b[0m\u001b[0;34m\u001b[0m\u001b[0;34m\u001b[0m\u001b[0m\n\u001b[0m\u001b[1;32m    224\u001b[0m     \u001b[0mmultiarray\u001b[0m\u001b[0;34m.\u001b[0m\u001b[0mcopyto\u001b[0m\u001b[0;34m(\u001b[0m\u001b[0ma\u001b[0m\u001b[0;34m,\u001b[0m \u001b[0;36m1\u001b[0m\u001b[0;34m,\u001b[0m \u001b[0mcasting\u001b[0m\u001b[0;34m=\u001b[0m\u001b[0;34m'unsafe'\u001b[0m\u001b[0;34m)\u001b[0m\u001b[0;34m\u001b[0m\u001b[0;34m\u001b[0m\u001b[0m\n\u001b[1;32m    225\u001b[0m     \u001b[0;32mreturn\u001b[0m \u001b[0ma\u001b[0m\u001b[0;34m\u001b[0m\u001b[0;34m\u001b[0m\u001b[0m\n",
      "\u001b[0;31mMemoryError\u001b[0m: "
     ]
    },
    {
     "data": {
      "image/png": "[encoded data removed]",
      "text/plain": [
       "<Figure size 720x360 with 1 Axes>"
      ]
     },
     "metadata": {
      "needs_background": "light"
     },
     "output_type": "display_data"
    }
   ],
   "source": [
    "# create a mesh to plot in\n",
    "x_min, x_max = X[:, 0].min() - 1, X[:, 0].max() + 1\n",
    "y_min, y_max = X[:, 1].min() - 1, X[:, 1].max() + 1\n",
    "xx, yy = np.meshgrid(np.arange(x_min, x_max, h),\n",
    "                     np.arange(y_min, y_max, h))\n",
    "\n",
    "titles = [\"Isotropic RBF\", \"Anisotropic RBF\"]\n",
    "plt.figure(figsize=(10, 5))\n",
    "for i, clf in enumerate((gpc_rbf_isotropic, gpc_rbf_anisotropic)):\n",
    "    # Plot the predicted probabilities. For that, we will assign a color to\n",
    "    # each point in the mesh [x_min, m_max]x[y_min, y_max].\n",
    "    plt.subplot(1, 2, i + 1)\n",
    "\n",
    "    Z = clf.predict_proba(np.c_[xx.ravel(), yy.ravel()])\n",
    "\n",
    "    # Put the result into a color plot\n",
    "    Z = Z.reshape((xx.shape[0], xx.shape[1], 3))\n",
    "    plt.imshow(Z, extent=(x_min, x_max, y_min, y_max), origin=\"lower\")\n",
    "\n",
    "    # Plot also the training points\n",
    "    plt.scatter(X[:, 0], X[:, 1], c=np.array([\"r\", \"g\", \"b\"])[y],\n",
    "                edgecolors=(0, 0, 0))\n",
    "    plt.xlabel('Sepal length')\n",
    "    plt.ylabel('Sepal width')\n",
    "    plt.xlim(xx.min(), xx.max())\n",
    "    plt.ylim(yy.min(), yy.max())\n",
    "    plt.xticks(())\n",
    "    plt.yticks(())\n",
    "    plt.title(\"%s, LML: %.3f\" %\n",
    "              (titles[i], clf.log_marginal_likelihood(clf.kernel_.theta)))\n",
    "\n",
    "plt.tight_layout()\n",
    "plt.show()"
   ]
  },
  {
   "cell_type": "code",
   "execution_count": 3,
   "metadata": {},
   "outputs": [
    {
     "data": {
      "text/plain": [
       "(150, 2)"
      ]
     },
     "execution_count": 3,
     "metadata": {},
     "output_type": "execute_result"
    }
   ],
   "source": [
    "X.shape"
   ]
  },
  {
   "cell_type": "code",
   "execution_count": 4,
   "metadata": {},
   "outputs": [
    {
     "data": {
      "text/plain": [
       "array([[5.1, 3.5],\n",
       "       [4.9, 3. ],\n",
       "       [4.7, 3.2]])"
      ]
     },
     "execution_count": 4,
     "metadata": {},
     "output_type": "execute_result"
    }
   ],
   "source": [
    "X[0:3]"
   ]
  },
  {
   "cell_type": "code",
   "execution_count": 5,
   "metadata": {},
   "outputs": [
    {
     "data": {
      "text/plain": [
       "array([0, 0, 0, 0, 0, 0, 0, 0, 0, 0, 0, 0, 0, 0, 0, 0, 0, 0, 0, 0, 0, 0,\n",
       "       0, 0, 0, 0, 0, 0, 0, 0, 0, 0, 0, 0, 0, 0, 0, 0, 0, 0, 0, 0, 0, 0,\n",
       "       0, 0, 0, 0, 0, 0, 1, 1, 1, 1, 1, 1, 1, 1, 1, 1, 1, 1, 1, 1, 1, 1,\n",
       "       1, 1, 1, 1, 1, 1, 1, 1, 1, 1, 1, 1, 1, 1, 1, 1, 1, 1, 1, 1, 1, 1,\n",
       "       1, 1, 1, 1, 1, 1, 1, 1, 1, 1, 1, 1, 2, 2, 2, 2, 2, 2, 2, 2, 2, 2,\n",
       "       2, 2, 2, 2, 2, 2, 2, 2, 2, 2, 2, 2, 2, 2, 2, 2, 2, 2, 2, 2, 2, 2,\n",
       "       2, 2, 2, 2, 2, 2, 2, 2, 2, 2, 2, 2, 2, 2, 2, 2, 2, 2])"
      ]
     },
     "execution_count": 5,
     "metadata": {},
     "output_type": "execute_result"
    }
   ],
   "source": [
    "y"
   ]
  },
  {
   "cell_type": "raw",
   "metadata": {},
   "source": [
    "iris"
   ]
  },
  {
   "cell_type": "markdown",
   "metadata": {},
   "source": [
    "---"
   ]
  },
  {
   "cell_type": "code",
   "execution_count": 6,
   "metadata": {},
   "outputs": [
    {
     "name": "stdout",
     "output_type": "stream",
     "text": [
      "Welcome to JupyROOT 6.12/06\n"
     ]
    }
   ],
   "source": [
    "import ROOT as r\n",
    "import numpy as np\n",
    "import matplotlib.pyplot as plt"
   ]
  },
  {
   "cell_type": "code",
   "execution_count": 7,
   "metadata": {},
   "outputs": [
    {
     "name": "stdout",
     "output_type": "stream",
     "text": [
      "******************************************************************************\n",
      "*Tree    :gm2ringsimTree: gm2ringsimTree                                         *\n",
      "*Entries :   424000 : Total =       252303494 bytes  File  Size =  109995864 *\n",
      "*        :          : Tree compression factor =   2.29                       *\n",
      "******************************************************************************\n",
      "*Br    0 :runNum    : runNum/I                                               *\n",
      "*Entries :   424000 : Total  Size=    1698163 bytes  File Size  =      10810 *\n",
      "*Baskets :       18 : Basket Size=    1039360 bytes  Compression= 157.03     *\n",
      "*............................................................................*\n",
      "*Br    1 :subRunNum : subRunNum/I                                            *\n",
      "*Entries :   424000 : Total  Size=    1698229 bytes  File Size  =      10822 *\n",
      "*Baskets :       18 : Basket Size=    1039360 bytes  Compression= 156.86     *\n",
      "*............................................................................*\n",
      "*Br    2 :eventNum  : eventNum/I                                             *\n",
      "*Entries :   424000 : Total  Size=    1698207 bytes  File Size  =     593492 *\n",
      "*Baskets :       18 : Basket Size=    1039360 bytes  Compression=   2.86     *\n",
      "*............................................................................*\n",
      "*Br    3 :muDecay   : muDecayPx/F:muDecayPy:muDecayPz:muDecayX:muDecayY:     *\n",
      "*         | muDecayZ:muDecayPolx:muDecayPoly:muDecayPolz:muDecayT            *\n",
      "*Entries :   424000 : Total  Size=   16976545 bytes  File Size  =   15307338 *\n",
      "*Baskets :      148 : Basket Size=    3202560 bytes  Compression=   1.11     *\n",
      "*............................................................................*\n",
      "*Br    4 :muDecayCyl : muDecayPr/F:muDecayPtheta:muDecayPyrel:muDecayR:      *\n",
      "*         | muDecayTheta:muDecayYrel:muDecayPolR:muDecayPolTheta:            *\n",
      "*         | muDecayPolYrel                                                   *\n",
      "*Entries :   424000 : Total  Size=   15279254 bytes  File Size  =   13293307 *\n",
      "*Baskets :      132 : Basket Size=    3202560 bytes  Compression=   1.15     *\n",
      "*............................................................................*\n",
      "*Br    5 :muDecayRel : muDecayPolThetaRel/F:muDecayPolPhiRel                 *\n",
      "*Entries :   424000 : Total  Size=    3395886 bytes  File Size  =    3137397 *\n",
      "*Baskets :       32 : Basket Size=    3202560 bytes  Compression=   1.08     *\n",
      "*............................................................................*\n",
      "*Br    6 :muDecayMomFrame : muDecayMomFramePolR/F:muDecayMomFramePolTheta:   *\n",
      "*         | muDecayMomFramePolYrel                                           *\n",
      "*Entries :   424000 : Total  Size=    5093774 bytes  File Size  =      30743 *\n",
      "*Baskets :       46 : Basket Size=    3202560 bytes  Compression= 165.64     *\n",
      "*............................................................................*\n",
      "*Br    7 :eBirth    : eBirthPx/F:eBirthPy:eBirthPz:eBirthX:eBirthY:eBirthZ:  *\n",
      "*         | eBirthPolx:eBirthPoly:eBirthPolz:eBirthT                         *\n",
      "*Entries :   424000 : Total  Size=   16976366 bytes  File Size  =   12073819 *\n",
      "*Baskets :      148 : Basket Size=    3202560 bytes  Compression=   1.41     *\n",
      "*............................................................................*\n",
      "*Br    8 :eBirthCyl : eBirthPr/F:eBirthPtheta:eBirthPyrel:eBirthR:           *\n",
      "*         | eBirthTheta:eBirthYrel:eBirthPolR:eBirthPolTheta:eBirthPolYrel   *\n",
      "*Entries :   424000 : Total  Size=   15279094 bytes  File Size  =   10901487 *\n",
      "*Baskets :      132 : Basket Size=    3202560 bytes  Compression=   1.40     *\n",
      "*............................................................................*\n",
      "*Br    9 :eCaloPx   : vector<float>                                          *\n",
      "*Entries :   424000 : Total  Size=    6742757 bytes  File Size  =    2153270 *\n",
      "*Baskets :       77 : Basket Size=    1453568 bytes  Compression=   3.13     *\n",
      "*............................................................................*\n",
      "*Br   10 :eCaloPy   : vector<float>                                          *\n",
      "*Entries :   424000 : Total  Size=    6742757 bytes  File Size  =    2149883 *\n",
      "*Baskets :       77 : Basket Size=    1453568 bytes  Compression=   3.14     *\n",
      "*............................................................................*\n",
      "*Br   11 :eCaloPz   : vector<float>                                          *\n",
      "*Entries :   424000 : Total  Size=    6742757 bytes  File Size  =    2153652 *\n",
      "*Baskets :       77 : Basket Size=    1453568 bytes  Compression=   3.13     *\n",
      "*............................................................................*\n",
      "*Br   12 :eCaloX    : vector<float>                                          *\n",
      "*Entries :   424000 : Total  Size=    6742676 bytes  File Size  =    2096612 *\n",
      "*Baskets :       77 : Basket Size=    1453568 bytes  Compression=   3.22     *\n",
      "*............................................................................*\n",
      "*Br   13 :eCaloY    : vector<float>                                          *\n",
      "*Entries :   424000 : Total  Size=    6742676 bytes  File Size  =    2148286 *\n",
      "*Baskets :       77 : Basket Size=    1453568 bytes  Compression=   3.14     *\n",
      "*............................................................................*\n",
      "*Br   14 :eCaloZ    : vector<float>                                          *\n",
      "*Entries :   424000 : Total  Size=    6742676 bytes  File Size  =    2098689 *\n",
      "*Baskets :       77 : Basket Size=    1453568 bytes  Compression=   3.21     *\n",
      "*............................................................................*\n",
      "*Br   15 :eCaloPr   : vector<float>                                          *\n",
      "*Entries :   424000 : Total  Size=    6742757 bytes  File Size  =    2068733 *\n",
      "*Baskets :       77 : Basket Size=    1453568 bytes  Compression=   3.26     *\n",
      "*............................................................................*\n",
      "*Br   16 :eCaloPtheta : vector<float>                                        *\n",
      "*Entries :   424000 : Total  Size=    6743081 bytes  File Size  =    2107231 *\n",
      "*Baskets :       77 : Basket Size=    1453568 bytes  Compression=   3.20     *\n",
      "*............................................................................*\n",
      "*Br   17 :eCaloR    : vector<float>                                          *\n",
      "*Entries :   424000 : Total  Size=    6742676 bytes  File Size  =    1952915 *\n",
      "*Baskets :       77 : Basket Size=    1453568 bytes  Compression=   3.45     *\n",
      "*............................................................................*\n",
      "*Br   18 :eCaloTheta : vector<float>                                         *\n",
      "*Entries :   424000 : Total  Size=    6743000 bytes  File Size  =    2058846 *\n",
      "*Baskets :       77 : Basket Size=    1453568 bytes  Compression=   3.27     *\n",
      "*............................................................................*\n",
      "*Br   19 :eCaloYrel : vector<float>                                          *\n",
      "*Entries :   424000 : Total  Size=    6742919 bytes  File Size  =    2146197 *\n",
      "*Baskets :       77 : Basket Size=    1453568 bytes  Compression=   3.14     *\n",
      "*............................................................................*\n",
      "*Br   20 :eCaloE    : vector<float>                                          *\n",
      "*Entries :   424000 : Total  Size=    6742676 bytes  File Size  =    2100776 *\n",
      "*Baskets :       77 : Basket Size=    1453568 bytes  Compression=   3.21     *\n",
      "*............................................................................*\n",
      "*Br   21 :eCaloT    : vector<float>                                          *\n",
      "*Entries :   424000 : Total  Size=    6742676 bytes  File Size  =    2112590 *\n",
      "*Baskets :       77 : Basket Size=    1453568 bytes  Compression=   3.19     *\n",
      "*............................................................................*\n",
      "*Br   22 :eCaloNum  : vector<int>                                            *\n",
      "*Entries :   424000 : Total  Size=    6742838 bytes  File Size  =    1416559 *\n",
      "*Baskets :       77 : Basket Size=    1453568 bytes  Compression=   4.76     *\n",
      "*............................................................................*\n",
      "*Br   23 :eCaloFlag :                                                        *\n",
      "*         | Flag for number of calorimeters hit by this positron. 0, one calo; 1, two+ calos forwards; 2, two+ calos backwards; -1, no calos. /I*\n",
      "*Entries :   424000 : Total  Size=    1698592 bytes  File Size  =     184900 *\n",
      "*Baskets :       18 : Basket Size=    1039360 bytes  Compression=   9.18     *\n",
      "*............................................................................*\n",
      "*Br   24 :eCaloFrameR : vector<float>                                        *\n",
      "*Entries :   424000 : Total  Size=    7100601 bytes  File Size  =    2351392 *\n",
      "*Baskets :       79 : Basket Size=    1483264 bytes  Compression=   3.02     *\n",
      "*............................................................................*\n",
      "*Br   25 :eCaloFrameV : vector<float>                                        *\n",
      "*Entries :   424000 : Total  Size=    7100601 bytes  File Size  =    2505412 *\n",
      "*Baskets :       79 : Basket Size=    1483264 bytes  Compression=   2.83     *\n",
      "*............................................................................*\n",
      "*Br   26 :eCaloFrameT : vector<float>                                        *\n",
      "*Entries :   424000 : Total  Size=    7100601 bytes  File Size  =    1894962 *\n",
      "*Baskets :       79 : Basket Size=    1483264 bytes  Compression=   3.75     *\n",
      "*............................................................................*\n",
      "*Br   27 :eCaloFrameE : vector<float>                                        *\n",
      "*Entries :   424000 : Total  Size=    7100601 bytes  File Size  =    2550712 *\n",
      "*Baskets :       79 : Basket Size=    1483264 bytes  Compression=   2.78     *\n",
      "*............................................................................*\n",
      "*Br   28 :eCaloFrameEdep : vector<float>                                     *\n",
      "*Entries :   424000 : Total  Size=    7100969 bytes  File Size  =    2556284 *\n",
      "*Baskets :       80 : Basket Size=    1483264 bytes  Compression=   2.78     *\n",
      "*............................................................................*\n",
      "*Br   29 :eCaloFrameXtal : vector<float>                                     *\n",
      "*Entries :   424000 : Total  Size=    7100969 bytes  File Size  =    1849583 *\n",
      "*Baskets :       80 : Basket Size=    1483264 bytes  Compression=   3.84     *\n",
      "*............................................................................*\n",
      "*Br   30 :eCaloFrameCaloNum : vector<float>                                  *\n",
      "*Entries :   424000 : Total  Size=    7101221 bytes  File Size  =    1754105 *\n",
      "*Baskets :       80 : Basket Size=    1483264 bytes  Compression=   4.05     *\n",
      "*............................................................................*\n",
      "*Br   31 :eCaloFramePr : vector<float>                                       *\n",
      "*Entries :   424000 : Total  Size=    7100684 bytes  File Size  =    2544674 *\n",
      "*Baskets :       79 : Basket Size=    1483264 bytes  Compression=   2.79     *\n",
      "*............................................................................*\n",
      "*Br   32 :eCaloFramePv : vector<float>                                       *\n",
      "*Entries :   424000 : Total  Size=    7100684 bytes  File Size  =    2598214 *\n",
      "*Baskets :       79 : Basket Size=    1483264 bytes  Compression=   2.73     *\n",
      "*............................................................................*\n",
      "*Br   33 :eCaloFramePt : vector<float>                                       *\n",
      "*Entries :   424000 : Total  Size=    7100684 bytes  File Size  =    2562400 *\n",
      "*Baskets :       79 : Basket Size=    1483264 bytes  Compression=   2.77     *\n",
      "*............................................................................*\n",
      "*Br   34 :eCaloFrameTime : vector<float>                                     *\n",
      "*Entries :   424000 : Total  Size=    7100969 bytes  File Size  =    2493715 *\n",
      "*Baskets :       80 : Basket Size=    1483264 bytes  Compression=   2.85     *\n",
      "*............................................................................*\n"
     ]
    }
   ],
   "source": [
    "f = r.TFile(\"../data/gm2offline_ana_18398265_1544564276.1650.root\")\n",
    "t = f.Get(\"SimuTreeMaker\").Get(\"gm2ringsimTree\")\n",
    "t.Print()"
   ]
  },
  {
   "cell_type": "code",
   "execution_count": 8,
   "metadata": {},
   "outputs": [
    {
     "name": "stdout",
     "output_type": "stream",
     "text": [
      "423919\n"
     ]
    },
    {
     "data": {
      "image/png": "[encoded data removed]",
      "text/plain": [
       "<IPython.core.display.Image object>"
      ]
     },
     "metadata": {},
     "output_type": "display_data"
    }
   ],
   "source": [
    "c = r.TCanvas()\n",
    "nMu = t.Draw(\"muDecayR:muDecayY:muDecayTheta:eCaloFlag\",\"eCaloFlag < 1.2\",\"\")\n",
    "print(nMu)\n",
    "c.Draw()"
   ]
  },
  {
   "cell_type": "code",
   "execution_count": 9,
   "metadata": {},
   "outputs": [],
   "source": [
    "rawMuons = [[],[],[],[]]\n",
    "for i in range(int(nMu/100)):\n",
    "    rawMuons[0].append(t.GetV1()[i])\n",
    "    rawMuons[1].append(t.GetV2()[i])\n",
    "    rawMuons[2].append(t.GetV3()[i])\n",
    "    rawMuons[3].append(t.GetV4()[i])"
   ]
  },
  {
   "cell_type": "code",
   "execution_count": 10,
   "metadata": {},
   "outputs": [
    {
     "data": {
      "image/png": "[encoded data removed]",
      "text/plain": [
       "<Figure size 432x288 with 1 Axes>"
      ]
     },
     "metadata": {
      "needs_background": "light"
     },
     "output_type": "display_data"
    }
   ],
   "source": [
    "plt.plot(rawMuons[0],rawMuons[1],\",\")\n",
    "plt.show()"
   ]
  },
  {
   "cell_type": "code",
   "execution_count": 11,
   "metadata": {},
   "outputs": [],
   "source": [
    "X = np.array([x for x in zip(*rawMuons[0:2])]) # we only take the first two features.\n",
    "y = np.array(rawMuons[3])\n",
    "\n",
    "h = .02  # step size in the mesh"
   ]
  },
  {
   "cell_type": "code",
   "execution_count": 12,
   "metadata": {},
   "outputs": [
    {
     "data": {
      "text/plain": [
       "array([[ 7.14380225e+03, -1.97034130e+01],\n",
       "       [ 7.10053467e+03, -1.11043215e-01],\n",
       "       [ 7.10333447e+03, -1.05539627e+01]])"
      ]
     },
     "execution_count": 12,
     "metadata": {},
     "output_type": "execute_result"
    }
   ],
   "source": [
    "X[0:3]"
   ]
  },
  {
   "cell_type": "code",
   "execution_count": 13,
   "metadata": {},
   "outputs": [
    {
     "data": {
      "text/plain": [
       "8478"
      ]
     },
     "execution_count": 13,
     "metadata": {},
     "output_type": "execute_result"
    }
   ],
   "source": [
    "X.size"
   ]
  },
  {
   "cell_type": "code",
   "execution_count": 14,
   "metadata": {},
   "outputs": [],
   "source": [
    "kernel = 1.0 * RBF([1.0])\n",
    "gpc_rbf_isotropic = GaussianProcessClassifier(kernel=kernel).fit(X, y)"
   ]
  },
  {
   "cell_type": "code",
   "execution_count": null,
   "metadata": {},
   "outputs": [],
   "source": [
    "kernel = 1.0 * RBF([1.0, 1.0])\n",
    "gpc_rbf_anisotropic = GaussianProcessClassifier(kernel=kernel).fit(X, y)"
   ]
  },
  {
   "cell_type": "code",
   "execution_count": 37,
   "metadata": {},
   "outputs": [
    {
     "ename": "ValueError",
     "evalue": "cannot reshape array of size 9000 into shape (4362,4536,3)",
     "output_type": "error",
     "traceback": [
      "\u001b[0;31m---------------------------------------------------------------------------\u001b[0m",
      "\u001b[0;31mValueError\u001b[0m                                Traceback (most recent call last)",
      "\u001b[0;32m<ipython-input-37-1411eada94c2>\u001b[0m in \u001b[0;36m<module>\u001b[0;34m\u001b[0m\n\u001b[1;32m     20\u001b[0m \u001b[0;34m\u001b[0m\u001b[0m\n\u001b[1;32m     21\u001b[0m \u001b[0;31m# Put the result into a color plot\u001b[0m\u001b[0;34m\u001b[0m\u001b[0;34m\u001b[0m\u001b[0;34m\u001b[0m\u001b[0m\n\u001b[0;32m---> 22\u001b[0;31m \u001b[0mZ\u001b[0m \u001b[0;34m=\u001b[0m \u001b[0mZ\u001b[0m\u001b[0;34m.\u001b[0m\u001b[0mreshape\u001b[0m\u001b[0;34m(\u001b[0m\u001b[0;34m(\u001b[0m\u001b[0mxx\u001b[0m\u001b[0;34m.\u001b[0m\u001b[0mshape\u001b[0m\u001b[0;34m[\u001b[0m\u001b[0;36m0\u001b[0m\u001b[0;34m]\u001b[0m\u001b[0;34m,\u001b[0m \u001b[0mxx\u001b[0m\u001b[0;34m.\u001b[0m\u001b[0mshape\u001b[0m\u001b[0;34m[\u001b[0m\u001b[0;36m1\u001b[0m\u001b[0;34m]\u001b[0m\u001b[0;34m,\u001b[0m \u001b[0;36m3\u001b[0m\u001b[0;34m)\u001b[0m\u001b[0;34m)\u001b[0m\u001b[0;34m\u001b[0m\u001b[0;34m\u001b[0m\u001b[0m\n\u001b[0m\u001b[1;32m     23\u001b[0m \u001b[0mplt\u001b[0m\u001b[0;34m.\u001b[0m\u001b[0mimshow\u001b[0m\u001b[0;34m(\u001b[0m\u001b[0mZ\u001b[0m\u001b[0;34m,\u001b[0m \u001b[0mextent\u001b[0m\u001b[0;34m=\u001b[0m\u001b[0;34m(\u001b[0m\u001b[0mx_min\u001b[0m\u001b[0;34m,\u001b[0m \u001b[0mx_max\u001b[0m\u001b[0;34m,\u001b[0m \u001b[0my_min\u001b[0m\u001b[0;34m,\u001b[0m \u001b[0my_max\u001b[0m\u001b[0;34m)\u001b[0m\u001b[0;34m,\u001b[0m \u001b[0morigin\u001b[0m\u001b[0;34m=\u001b[0m\u001b[0;34m\"lower\"\u001b[0m\u001b[0;34m)\u001b[0m\u001b[0;34m\u001b[0m\u001b[0;34m\u001b[0m\u001b[0m\n\u001b[1;32m     24\u001b[0m \u001b[0;34m\u001b[0m\u001b[0m\n",
      "\u001b[0;31mValueError\u001b[0m: cannot reshape array of size 9000 into shape (4362,4536,3)"
     ]
    },
    {
     "data": {
      "text/plain": [
       "<Figure size 720x360 with 0 Axes>"
      ]
     },
     "metadata": {},
     "output_type": "display_data"
    }
   ],
   "source": [
    "# create a mesh to plot in\n",
    "x_min, x_max = X[:, 0].min() - 1, X[:, 0].max() + 1\n",
    "y_min, y_max = X[:, 1].min() - 1, X[:, 1].max() + 1\n",
    "xx, yy = np.meshgrid(np.arange(x_min, x_max, h),\n",
    "                     np.arange(y_min, y_max, h))\n",
    "\n",
    "titles = [\"Isotropic RBF\", \"Anisotropic RBF\"]\n",
    "plt.figure(figsize=(10, 5))\n",
    "\n",
    "# Plot the predicted probabilities. For that, we will assign a color to\n",
    "# each point in the mesh [x_min, m_max]x[y_min, y_max].\n",
    "clf = gpc_rbf_isotropic\n",
    "\n",
    "ding = []\n",
    "for i in range(7000,7200,2):\n",
    "    for j in range(-45,45,2):\n",
    "        ding.append((i,j))\n",
    "        \n",
    "Z = clf.predict_proba(ding)\n",
    "\n",
    "# Put the result into a color plot\n",
    "Z = Z.reshape((xx.shape[0], xx.shape[1], 3))\n",
    "plt.imshow(Z, extent=(x_min, x_max, y_min, y_max), origin=\"lower\")\n",
    "\n",
    "# Plot also the training points\n",
    "plt.scatter(X[:, 0], X[:, 1], c=np.array([\"r\", \"g\", \"b\"])[y],\n",
    "            edgecolors=(0, 0, 0))\n",
    "\n",
    "plt.xlabel('Sepal length')\n",
    "plt.ylabel('Sepal width')\n",
    "plt.xlim(xx.min(), xx.max())\n",
    "plt.ylim(yy.min(), yy.max())\n",
    "plt.xticks(())\n",
    "plt.yticks(())\n",
    "plt.title(\"%s, LML: %.3f\" %\n",
    "          (titles[i], clf.log_marginal_likelihood(clf.kernel_.theta)))\n",
    "\n",
    "plt.tight_layout()\n",
    "plt.show()"
   ]
  },
  {
   "cell_type": "code",
   "execution_count": null,
   "metadata": {},
   "outputs": [],
   "source": []
  }
 ],
 "metadata": {
  "kernelspec": {
   "display_name": "Python 3",
   "language": "python",
   "name": "python3"
  },
  "language_info": {
   "codemirror_mode": {
    "name": "ipython",
    "version": 3
   },
   "file_extension": ".py",
   "mimetype": "text/x-python",
   "name": "python",
   "nbconvert_exporter": "python",
   "pygments_lexer": "ipython3",
   "version": "3.6.8"
  }
 },
 "nbformat": 4,
 "nbformat_minor": 2
}
