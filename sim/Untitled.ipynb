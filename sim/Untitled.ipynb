{
 "cells": [
  {
   "cell_type": "code",
   "execution_count": 1,
   "metadata": {},
   "outputs": [
    {
     "name": "stdout",
     "output_type": "stream",
     "text": [
      "Welcome to JupyROOT 6.12/06\n"
     ]
    }
   ],
   "source": [
    "import ROOT as r"
   ]
  },
  {
   "cell_type": "code",
   "execution_count": 2,
   "metadata": {},
   "outputs": [],
   "source": [
    "f =r.TFile(\"./gm2offline_ana_singlefile.root\")"
   ]
  },
  {
   "cell_type": "code",
   "execution_count": 3,
   "metadata": {},
   "outputs": [
    {
     "name": "stdout",
     "output_type": "stream",
     "text": [
      "TFile**\t\t./gm2offline_ana_singlefile.root\t\n",
      " TFile*\t\t./gm2offline_ana_singlefile.root\t\n",
      "  KEY: TDirectoryFile\tSimuTreeMaker;1\tSimuTreeMaker (SimuTreeMaker) folder\n"
     ]
    }
   ],
   "source": [
    "f.ls()"
   ]
  },
  {
   "cell_type": "code",
   "execution_count": 4,
   "metadata": {},
   "outputs": [
    {
     "data": {
      "text/plain": [
       "True"
      ]
     },
     "execution_count": 4,
     "metadata": {},
     "output_type": "execute_result"
    }
   ],
   "source": [
    "f.cd(\"SimuTreeMaker\")"
   ]
  },
  {
   "cell_type": "code",
   "execution_count": 5,
   "metadata": {},
   "outputs": [
    {
     "name": "stdout",
     "output_type": "stream",
     "text": [
      "TFile**\t\t./gm2offline_ana_singlefile.root\t\n",
      " TFile*\t\t./gm2offline_ana_singlefile.root\t\n",
      "  TDirectoryFile*\t\tSimuTreeMaker\tSimuTreeMaker (SimuTreeMaker) folder\n",
      "   KEY: TTree\tgm2ringsimTree;1\tgm2ringsimTree\n",
      "  KEY: TDirectoryFile\tSimuTreeMaker;1\tSimuTreeMaker (SimuTreeMaker) folder\n"
     ]
    }
   ],
   "source": [
    "f.ls()"
   ]
  },
  {
   "cell_type": "code",
   "execution_count": 6,
   "metadata": {},
   "outputs": [],
   "source": [
    "t = f.Get(\"SimuTreeMaker\").Get(\"gm2ringsimTree\")"
   ]
  },
  {
   "cell_type": "code",
   "execution_count": 7,
   "metadata": {},
   "outputs": [
    {
     "name": "stdout",
     "output_type": "stream",
     "text": [
      "******************************************************************************\n",
      "*Tree    :gm2ringsimTree: gm2ringsimTree                                         *\n",
      "*Entries :     4000 : Total =        93637500 bytes  File  Size =   16486476 *\n",
      "*        :          : Tree compression factor =   5.68                       *\n",
      "******************************************************************************\n",
      "*Br    0 :runNum    : runNum/I                                               *\n",
      "*Entries :     4000 : Total  Size=      16572 bytes  File Size  =        201 *\n",
      "*Baskets :        1 : Basket Size=      32000 bytes  Compression=  80.01     *\n",
      "*............................................................................*\n",
      "*Br    1 :subRunNum : subRunNum/I                                            *\n",
      "*Entries :     4000 : Total  Size=      16587 bytes  File Size  =        199 *\n",
      "*Baskets :        1 : Basket Size=      32000 bytes  Compression=  80.83     *\n",
      "*............................................................................*\n",
      "*Br    2 :eventNum  : eventNum/I                                             *\n",
      "*Entries :     4000 : Total  Size=      16582 bytes  File Size  =       5704 *\n",
      "*Baskets :        1 : Basket Size=      32000 bytes  Compression=   2.82     *\n",
      "*............................................................................*\n",
      "*Br    3 :muDecay   : muDecayPx/F:muDecayPy:muDecayPz:muDecayX:muDecayY:     *\n",
      "*         | muDecayZ:muDecayPolx:muDecayPoly:muDecayPolz:muDecayT            *\n",
      "*Entries :     4000 : Total  Size=     161837 bytes  File Size  =     144701 *\n",
      "*Baskets :        6 : Basket Size=      32000 bytes  Compression=   1.11     *\n",
      "*............................................................................*\n",
      "*Br    4 :muDecaySph : muDecayPr/F:muDecayPtheta:muDecayPphi:muDecayR:       *\n",
      "*         | muDecayTheta:muDecayPhi:muDecayPolR:muDecayPolTheta:muDecayPolPhi*\n",
      "*Entries :     4000 : Total  Size=     145736 bytes  File Size  =     112693 *\n",
      "*Baskets :        5 : Basket Size=      32000 bytes  Compression=   1.28     *\n",
      "*............................................................................*\n",
      "*Br    5 :eBirth    : eBirthPx/F:eBirthPy:eBirthPz:eBirthX:eBirthY:eBirthZ:  *\n",
      "*         | eBirthPolx:eBirthPoly:eBirthPolz:eBirthT                         *\n",
      "*Entries :     4000 : Total  Size=     161800 bytes  File Size  =     114274 *\n",
      "*Baskets :        6 : Basket Size=      32000 bytes  Compression=   1.40     *\n",
      "*............................................................................*\n",
      "*Br    6 :eBirthSph : eBirthPr/F:eBirthPtheta:eBirthPphi:eBirthR:eBirthTheta:*\n",
      "*         | eBirthPhi:eBirthPolR:eBirthPolTheta:eBirthPolPhi                 *\n",
      "*Entries :     4000 : Total  Size=     145703 bytes  File Size  =      97903 *\n",
      "*Baskets :        5 : Basket Size=      32000 bytes  Compression=   1.48     *\n",
      "*............................................................................*\n",
      "*Br    7 :eCaloPx   : vector<float>                                          *\n",
      "*Entries :     4000 : Total  Size=      64393 bytes  File Size  =      21736 *\n",
      "*Baskets :        3 : Basket Size=      32000 bytes  Compression=   2.94     *\n",
      "*............................................................................*\n",
      "*Br    8 :eCaloPy   : vector<float>                                          *\n",
      "*Entries :     4000 : Total  Size=      64393 bytes  File Size  =      21713 *\n",
      "*Baskets :        3 : Basket Size=      32000 bytes  Compression=   2.94     *\n",
      "*............................................................................*\n",
      "*Br    9 :eCaloPz   : vector<float>                                          *\n",
      "*Entries :     4000 : Total  Size=      64393 bytes  File Size  =      21746 *\n",
      "*Baskets :        3 : Basket Size=      32000 bytes  Compression=   2.94     *\n",
      "*............................................................................*\n",
      "*Br   10 :eCaloX    : vector<float>                                          *\n",
      "*Entries :     4000 : Total  Size=      64386 bytes  File Size  =      21292 *\n",
      "*Baskets :        3 : Basket Size=      32000 bytes  Compression=   3.00     *\n",
      "*............................................................................*\n",
      "*Br   11 :eCaloY    : vector<float>                                          *\n",
      "*Entries :     4000 : Total  Size=      64386 bytes  File Size  =      21661 *\n",
      "*Baskets :        3 : Basket Size=      32000 bytes  Compression=   2.95     *\n",
      "*............................................................................*\n",
      "*Br   12 :eCaloZ    : vector<float>                                          *\n",
      "*Entries :     4000 : Total  Size=      64386 bytes  File Size  =      21306 *\n",
      "*Baskets :        3 : Basket Size=      32000 bytes  Compression=   3.00     *\n",
      "*............................................................................*\n",
      "*Br   13 :eCaloPr   : vector<float>                                          *\n",
      "*Entries :     4000 : Total  Size=   15395021 bytes  File Size  =    2659986 *\n",
      "*Baskets :      524 : Basket Size=      32000 bytes  Compression=   5.78     *\n",
      "*............................................................................*\n",
      "*Br   14 :eCaloPtheta : vector<float>                                        *\n",
      "*Entries :     4000 : Total  Size=   15397133 bytes  File Size  =    2657592 *\n",
      "*Baskets :      524 : Basket Size=      32000 bytes  Compression=   5.79     *\n",
      "*............................................................................*\n",
      "*Br   15 :eCaloPphi : vector<float>                                          *\n",
      "*Entries :     4000 : Total  Size=   15396077 bytes  File Size  =    2779155 *\n",
      "*Baskets :      524 : Basket Size=      32000 bytes  Compression=   5.54     *\n",
      "*............................................................................*\n",
      "*Br   16 :eCaloR    : vector<float>                                          *\n",
      "*Entries :     4000 : Total  Size=   15394493 bytes  File Size  =    2358114 *\n",
      "*Baskets :      524 : Basket Size=      32000 bytes  Compression=   6.52     *\n",
      "*............................................................................*\n",
      "*Br   17 :eCaloTheta : vector<float>                                         *\n",
      "*Entries :     4000 : Total  Size=   15396605 bytes  File Size  =    2578242 *\n",
      "*Baskets :      524 : Basket Size=      32000 bytes  Compression=   5.97     *\n",
      "*............................................................................*\n",
      "*Br   18 :eCaloPhi  : vector<float>                                          *\n",
      "*Entries :     4000 : Total  Size=   15395549 bytes  File Size  =    2761685 *\n",
      "*Baskets :      524 : Basket Size=      32000 bytes  Compression=   5.57     *\n",
      "*............................................................................*\n",
      "*Br   19 :eCaloE    : vector<float>                                          *\n",
      "*Entries :     4000 : Total  Size=      64386 bytes  File Size  =      21284 *\n",
      "*Baskets :        3 : Basket Size=      32000 bytes  Compression=   3.00     *\n",
      "*............................................................................*\n",
      "*Br   20 :eCaloT    : vector<float>                                          *\n",
      "*Entries :     4000 : Total  Size=      64386 bytes  File Size  =      21320 *\n",
      "*Baskets :        3 : Basket Size=      32000 bytes  Compression=   3.00     *\n",
      "*............................................................................*\n",
      "*Br   21 :eCaloNum  : vector<int>                                            *\n",
      "*Entries :     4000 : Total  Size=      64400 bytes  File Size  =      14817 *\n",
      "*Baskets :        3 : Basket Size=      32000 bytes  Compression=   4.31     *\n",
      "*............................................................................*\n",
      "*Br   22 :eCaloFlag :                                                        *\n",
      "*         | Flag for number of calorimeters hit by this positron. 0, one calo; 1, two+ calos forwards; 2, two+ calos backwards; -1, no calos. /I*\n",
      "*Entries :     4000 : Total  Size=      16950 bytes  File Size  =       1849 *\n",
      "*Baskets :        1 : Basket Size=      32000 bytes  Compression=   8.70     *\n",
      "*............................................................................*\n"
     ]
    }
   ],
   "source": [
    "t.Print()"
   ]
  },
  {
   "cell_type": "code",
   "execution_count": null,
   "metadata": {},
   "outputs": [],
   "source": []
  }
 ],
 "metadata": {
  "kernelspec": {
   "display_name": "Python 3",
   "language": "python",
   "name": "python3"
  },
  "language_info": {
   "codemirror_mode": {
    "name": "ipython",
    "version": 3
   },
   "file_extension": ".py",
   "mimetype": "text/x-python",
   "name": "python",
   "nbconvert_exporter": "python",
   "pygments_lexer": "ipython3",
   "version": "3.6.8"
  }
 },
 "nbformat": 4,
 "nbformat_minor": 2
}
