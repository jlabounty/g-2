{
 "cells": [
  {
   "cell_type": "code",
   "execution_count": 2,
   "metadata": {},
   "outputs": [
    {
     "name": "stdout",
     "output_type": "stream",
     "text": [
      "Welcome to JupyROOT 6.12/06\n",
      "For interactive plots, run: setint()\n",
      "To return to non-interactive plots (default state), run: noint()\n"
     ]
    }
   ],
   "source": [
    "from standardInclude import *"
   ]
  },
  {
   "cell_type": "code",
   "execution_count": 59,
   "metadata": {},
   "outputs": [
    {
     "name": "stdout",
     "output_type": "stream",
     "text": [
      "TFile**\t\t./data/SimuTreeMaker_partial.root\t\n",
      " TFile*\t\t./data/SimuTreeMaker_partial.root\t\n",
      "  TDirectoryFile*\t\tSimuTreeMaker\tSimuTreeMaker (SimuTreeMaker) folder\n",
      "   KEY: TTree\tgm2ringsimTree;8\tgm2ringsimTree\n",
      "   KEY: TTree\tgm2ringsimTree;7\tgm2ringsimTree\n",
      "  KEY: TDirectoryFile\tSimuTreeMaker;1\tSimuTreeMaker (SimuTreeMaker) folder\n"
     ]
    }
   ],
   "source": [
    "f = r.TFile(\"./data/SimuTreeMaker_partial.root\")\n",
    "f.cd(\"SimuTreeMaker\")\n",
    "f.ls()"
   ]
  },
  {
   "cell_type": "code",
   "execution_count": 60,
   "metadata": {},
   "outputs": [
    {
     "name": "stdout",
     "output_type": "stream",
     "text": [
      "******************************************************************************\n",
      "*Tree    :gm2ringsimTree: gm2ringsimTree                                         *\n",
      "*Entries :  2000000 : Total =       469995290 bytes  File  Size =  217618517 *\n",
      "*        :          : Tree compression factor =   2.16                       *\n",
      "******************************************************************************\n",
      "*Br    0 :runNum    : runNum/I                                               *\n",
      "*Entries :  2000000 : Total  Size=    8004532 bytes  File Size  =      43862 *\n",
      "*Baskets :       41 : Basket Size=    2399744 bytes  Compression= 182.47     *\n",
      "*............................................................................*\n",
      "*Br    1 :subRunNum : subRunNum/I                                            *\n",
      "*Entries :  2000000 : Total  Size=    8004667 bytes  File Size  =      45464 *\n",
      "*Baskets :       41 : Basket Size=    2399744 bytes  Compression= 176.04     *\n",
      "*............................................................................*\n",
      "*Br    2 :eventNum  : eventNum/I                                             *\n",
      "*Entries :  2000000 : Total  Size=    8004622 bytes  File Size  =    2794562 *\n",
      "*Baskets :       41 : Basket Size=    2399744 bytes  Compression=   2.86     *\n",
      "*............................................................................*\n",
      "*Br    3 :muDecay   : muDecayPx/F:muDecayPy:muDecayPz:muDecayX:muDecayY:     *\n",
      "*         | muDecayZ:muDecayPolx:muDecayPoly:muDecayPolz:muDecayT            *\n",
      "*Entries :  2000000 : Total  Size=   80037345 bytes  File Size  =   72187682 *\n",
      "*Baskets :      348 : Basket Size=    6006272 bytes  Compression=   1.11     *\n",
      "*............................................................................*\n",
      "*Br    4 :eBirth    : eBirthPx/F:eBirthPy:eBirthPz:eBirthX:eBirthY:eBirthZ:  *\n",
      "*         | eBirthPolx:eBirthPoly:eBirthPolz:eBirthT                         *\n",
      "*Entries :  2000000 : Total  Size=   80036966 bytes  File Size  =   56922808 *\n",
      "*Baskets :      348 : Basket Size=    6006272 bytes  Compression=   1.41     *\n",
      "*............................................................................*\n",
      "*Br    5 :eCaloPx   : vector<float>                                          *\n",
      "*Entries :  2000000 : Total  Size=   31767437 bytes  File Size  =   10001687 *\n",
      "*Baskets :      180 : Basket Size=    3183104 bytes  Compression=   3.18     *\n",
      "*............................................................................*\n",
      "*Br    6 :eCaloPy   : vector<float>                                          *\n",
      "*Entries :  2000000 : Total  Size=   31767437 bytes  File Size  =    9984228 *\n",
      "*Baskets :      180 : Basket Size=    3183104 bytes  Compression=   3.18     *\n",
      "*............................................................................*\n",
      "*Br    7 :eCaloPz   : vector<float>                                          *\n",
      "*Entries :  2000000 : Total  Size=   31767437 bytes  File Size  =   10003273 *\n",
      "*Baskets :      180 : Basket Size=    3183104 bytes  Compression=   3.18     *\n",
      "*............................................................................*\n",
      "*Br    8 :eCaloX    : vector<float>                                          *\n",
      "*Entries :  2000000 : Total  Size=   31767253 bytes  File Size  =    9758759 *\n",
      "*Baskets :      180 : Basket Size=    3183104 bytes  Compression=   3.25     *\n",
      "*............................................................................*\n",
      "*Br    9 :eCaloY    : vector<float>                                          *\n",
      "*Entries :  2000000 : Total  Size=   31767253 bytes  File Size  =    9976070 *\n",
      "*Baskets :      180 : Basket Size=    3183104 bytes  Compression=   3.18     *\n",
      "*............................................................................*\n",
      "*Br   10 :eCaloZ    : vector<float>                                          *\n",
      "*Entries :  2000000 : Total  Size=   31767253 bytes  File Size  =    9759953 *\n",
      "*Baskets :      180 : Basket Size=    3183104 bytes  Compression=   3.25     *\n",
      "*............................................................................*\n",
      "*Br   11 :eCaloE    : vector<float>                                          *\n",
      "*Entries :  2000000 : Total  Size=   31767253 bytes  File Size  =    9778088 *\n",
      "*Baskets :      180 : Basket Size=    3183104 bytes  Compression=   3.25     *\n",
      "*............................................................................*\n",
      "*Br   12 :eCaloT    : vector<float>                                          *\n",
      "*Entries :  2000000 : Total  Size=   31767253 bytes  File Size  =    9823120 *\n",
      "*Baskets :      180 : Basket Size=    3183104 bytes  Compression=   3.23     *\n",
      "*............................................................................*\n",
      "*Br   13 :eCaloNum  : vector<int>                                            *\n",
      "*Entries :  2000000 : Total  Size=   31767621 bytes  File Size  =    6517743 *\n",
      "*Baskets :      180 : Basket Size=    3183104 bytes  Compression=   4.87     *\n",
      "*............................................................................*\n"
     ]
    }
   ],
   "source": [
    "t = f.Get(\"SimuTreeMaker\").Get(\"gm2ringsimTree\")\n",
    "t.Print()"
   ]
  },
  {
   "cell_type": "code",
   "execution_count": 61,
   "metadata": {},
   "outputs": [
    {
     "data": {
      "image/png": "[encoded data removed]",
      "text/plain": [
       "<IPython.core.display.Image object>"
      ]
     },
     "metadata": {},
     "output_type": "display_data"
    }
   ],
   "source": [
    "c = r.TCanvas()\n",
    "#condition = \"@eCaloNum.size() > 100\"\n",
    "condition = \"eCaloNum == 1\"\n",
    "fout = r.TFile(\"temp_tree_storage.root\",\"recreate\")\n",
    "fout.cd()\n",
    "t_partial = t.CopyTree(condition)\n",
    "t_partial.SetLineColor(2)\n",
    "#t_partial.Print()\n",
    "t_partial.Draw(\"muDecayY:TMath::Sqrt(muDecayX**2 + muDecayY**2 + muDecayZ**2)\",\"\",\"colz\")\n",
    "c.Draw()"
   ]
  },
  {
   "cell_type": "code",
   "execution_count": 62,
   "metadata": {},
   "outputs": [
    {
     "name": "stdout",
     "output_type": "stream",
     "text": [
      "38534\n"
     ]
    }
   ],
   "source": [
    "print(t_partial.GetEntries())"
   ]
  },
  {
   "cell_type": "code",
   "execution_count": 63,
   "metadata": {},
   "outputs": [
    {
     "data": {
      "image/png": "[encoded data removed]",
      "text/plain": [
       "<IPython.core.display.Image object>"
      ]
     },
     "metadata": {},
     "output_type": "display_data"
    }
   ],
   "source": [
    "c = r.TCanvas()\n",
    "t_partial.Draw(\"eCaloNum\")\n",
    "c.SetLogy()\n",
    "c.Draw()"
   ]
  },
  {
   "cell_type": "code",
   "execution_count": 64,
   "metadata": {},
   "outputs": [
    {
     "name": "stdout",
     "output_type": "stream",
     "text": [
      "Number of Entries in Vecotrs: 1\n",
      "     run / subrun / event: 1544564276 / 1 / 94\n",
      "     eCaloE:  [1295.744873046875]\n",
      "     eCaloNum:  [1]\n",
      "Number of Entries in Vecotrs: 1\n",
      "     run / subrun / event: 1544564276 / 1 / 99\n",
      "     eCaloE:  [1399.6962890625]\n",
      "     eCaloNum:  [1]\n",
      "Number of Entries in Vecotrs: 1\n",
      "     run / subrun / event: 1544564276 / 1 / 116\n",
      "     eCaloE:  [894.5422973632812]\n",
      "     eCaloNum:  [1]\n",
      "Number of Entries in Vecotrs: 1\n",
      "     run / subrun / event: 1544564276 / 1 / 147\n",
      "     eCaloE:  [749.6863403320312]\n",
      "     eCaloNum:  [1]\n",
      "Number of Entries in Vecotrs: 1\n",
      "     run / subrun / event: 1544564276 / 1 / 149\n",
      "     eCaloE:  [2767.08154296875]\n",
      "     eCaloNum:  [1]\n",
      "Number of Entries in Vecotrs: 1\n",
      "     run / subrun / event: 1544564276 / 1 / 166\n",
      "     eCaloE:  [770.5742797851562]\n",
      "     eCaloNum:  [1]\n",
      "Number of Entries in Vecotrs: 1\n",
      "     run / subrun / event: 1544564276 / 1 / 170\n",
      "     eCaloE:  [1525.3961181640625]\n",
      "     eCaloNum:  [1]\n",
      "Number of Entries in Vecotrs: 1\n",
      "     run / subrun / event: 1544564276 / 1 / 181\n",
      "     eCaloE:  [1310.5015869140625]\n",
      "     eCaloNum:  [1]\n",
      "Number of Entries in Vecotrs: 1\n",
      "     run / subrun / event: 1544564276 / 1 / 231\n",
      "     eCaloE:  [730.697265625]\n",
      "     eCaloNum:  [1]\n",
      "Number of Entries in Vecotrs: 1\n",
      "     run / subrun / event: 1544564276 / 1 / 469\n",
      "     eCaloE:  [1999.101318359375]\n",
      "     eCaloNum:  [1]\n",
      "Number of Entries in Vecotrs: 1\n",
      "     run / subrun / event: 1544564276 / 1 / 541\n",
      "     eCaloE:  [2220.131103515625]\n",
      "     eCaloNum:  [1]\n"
     ]
    }
   ],
   "source": [
    "totalEVec = []\n",
    "for i, e in enumerate(t_partial):\n",
    "    if i > 10:\n",
    "        break\n",
    "    print(\"Number of Entries in Vecotrs:\", len(e.eCaloE))\n",
    "    print(\"     run / subrun / event:\", e.runNum, \"/\", e.subRunNum, \"/\", e.eventNum)\n",
    "    print(\"     eCaloE: \", [x for x in e.eCaloE])\n",
    "    print(\"     eCaloNum: \", [x for x in e.eCaloNum])\n",
    "    for x in e.eCaloE:\n",
    "        totalEVec.append(x)\n",
    "    #plt.hist([x for x in e.eCaloE],bins = 100)\n",
    "    #plt.yscale('log')\n",
    "    #plt.show()"
   ]
  },
  {
   "cell_type": "code",
   "execution_count": 65,
   "metadata": {},
   "outputs": [
    {
     "name": "stderr",
     "output_type": "stream",
     "text": [
      "/home/jlab/anaconda3/lib/python3.6/site-packages/matplotlib/axes/_base.py:3507: UserWarning: Attempting to set identical bottom==top results\n",
      "in singular transformations; automatically expanding.\n",
      "bottom=1.0, top=1.0\n",
      "  self.set_ylim(upper, lower, auto=None)\n"
     ]
    },
    {
     "data": {
      "image/png": "[encoded data removed]",
      "text/plain": [
       "<Figure size 936x432 with 1 Axes>"
      ]
     },
     "metadata": {},
     "output_type": "display_data"
    }
   ],
   "source": [
    "noint()\n",
    "fig,ax = plt.subplots(figsize=(13,6))\n",
    "plt.hist(totalEVec,bins=300,range=(0,3000))\n",
    "plt.title(\"All Energies From eCaloE with Length > 25\")\n",
    "plt.xlabel(\"Energy [MeV]\")\n",
    "plt.yscale(\"log\")\n",
    "#plt.grid()\n",
    "plt.show()"
   ]
  },
  {
   "cell_type": "code",
   "execution_count": 66,
   "metadata": {},
   "outputs": [
    {
     "name": "stdout",
     "output_type": "stream",
     "text": [
      "eCaloNum == 2  || eCaloNum == 3  || eCaloNum == 4  || eCaloNum == 5  || eCaloNum == 6  || eCaloNum == 7  || eCaloNum == 8  || eCaloNum == 9  || eCaloNum == 10  || eCaloNum == 11  || eCaloNum == 12  || eCaloNum == 13  || eCaloNum == 14  || eCaloNum == 15  || eCaloNum == 16  || eCaloNum == 17  || eCaloNum == 18  || eCaloNum == 19  || eCaloNum == 20  || eCaloNum == 21  || eCaloNum == 22  || eCaloNum == 23  || eCaloNum == 24 \n"
     ]
    },
    {
     "data": {
      "image/png": "[encoded data removed]",
      "text/plain": [
       "<IPython.core.display.Image object>"
      ]
     },
     "metadata": {},
     "output_type": "display_data"
    }
   ],
   "source": [
    "c = r.TCanvas()\n",
    "#condition = \"@eCaloNum.size() > 100\"\n",
    "condition = \"eCaloNum == 2 \"\n",
    "for i in range(3,25):\n",
    "    condition += \" || eCaloNum == \"+str(i)+\" \"\n",
    "print(condition)\n",
    "fout2 = r.TFile(\"temp_tree_storage_2.root\",\"recreate\")\n",
    "fout2.cd()\n",
    "t_partial2 = t_partial.CopyTree(condition)\n",
    "t_partial2.SetLineColor(3)\n",
    "#t_partial.Print()\n",
    "t_partial2.Draw(\"muDecayY:TMath::Sqrt(muDecayX**2 + muDecayY**2 + muDecayZ**2)\",\"\",\"colz\")\n",
    "c.Draw()"
   ]
  },
  {
   "cell_type": "code",
   "execution_count": 67,
   "metadata": {},
   "outputs": [
    {
     "name": "stdout",
     "output_type": "stream",
     "text": [
      "62\n"
     ]
    }
   ],
   "source": [
    "print(t_partial2.GetEntries())"
   ]
  },
  {
   "cell_type": "code",
   "execution_count": 68,
   "metadata": {},
   "outputs": [
    {
     "data": {
      "image/png": "[encoded data removed]",
      "text/plain": [
       "<IPython.core.display.Image object>"
      ]
     },
     "metadata": {},
     "output_type": "display_data"
    }
   ],
   "source": [
    "c = r.TCanvas()\n",
    "t_partial2.Draw(\"eCaloX:eCaloZ\")\n",
    "c.Draw()"
   ]
  },
  {
   "cell_type": "code",
   "execution_count": 69,
   "metadata": {},
   "outputs": [
    {
     "data": {
      "image/png": "[encoded data removed]",
      "text/plain": [
       "<IPython.core.display.Image object>"
      ]
     },
     "metadata": {},
     "output_type": "display_data"
    }
   ],
   "source": [
    "c = r.TCanvas()\n",
    "t_partial2.Draw(\"@eCaloX.size()\")\n",
    "c.SetLogy()\n",
    "c.Draw()"
   ]
  },
  {
   "cell_type": "code",
   "execution_count": 73,
   "metadata": {},
   "outputs": [
    {
     "name": "stdout",
     "output_type": "stream",
     "text": [
      "Number of Entries in Vectors: 2\n",
      "     run / subrun / event: 1544564276 / 1006 / 339\n",
      "     eCaloE:  [199.59207153320312, 6.509474754333496]\n",
      "     eCaloNum:  [10, 1]\n",
      "     eCaloT:  [20381.037109375, 20433.29296875]\n",
      "     eCaloT:  [-52.255859375]\n",
      "Number of Entries in Vectors: 2\n",
      "     run / subrun / event: 1544564276 / 1007 / 3963\n",
      "     eCaloE:  [1851.599365234375, 1181.1015625]\n",
      "     eCaloNum:  [1, 5]\n",
      "     eCaloT:  [41184.8515625, 41207.6640625]\n",
      "     eCaloT:  [-22.8125]\n",
      "Number of Entries in Vectors: 2\n",
      "     run / subrun / event: 1544564276 / 1028 / 3469\n",
      "     eCaloE:  [847.0526733398438, 62.3848991394043]\n",
      "     eCaloNum:  [2, 1]\n",
      "     eCaloT:  [50880.55859375, 50888.61328125]\n",
      "     eCaloT:  [-8.0546875]\n",
      "Number of Entries in Vectors: 2\n",
      "     run / subrun / event: 1544564276 / 1041 / 1969\n",
      "     eCaloE:  [41.17017364501953, 32.98209762573242]\n",
      "     eCaloNum:  [1, 21]\n",
      "     eCaloT:  [5375.810546875, 5402.76171875]\n",
      "     eCaloT:  [-26.951171875]\n",
      "Number of Entries in Vectors: 2\n",
      "     run / subrun / event: 1544564276 / 1042 / 221\n",
      "     eCaloE:  [443.4248962402344, 79.83634185791016]\n",
      "     eCaloNum:  [8, 1]\n",
      "     eCaloT:  [34703.75, 34741.11328125]\n",
      "     eCaloT:  [-37.36328125]\n",
      "Number of Entries in Vectors: 2\n",
      "     run / subrun / event: 1544564276 / 1043 / 3773\n",
      "     eCaloE:  [900.2067260742188, 563.9285888671875]\n",
      "     eCaloNum:  [20, 1]\n",
      "     eCaloT:  [2558.085693359375, 2586.337158203125]\n",
      "     eCaloT:  [-28.25146484375]\n",
      "Number of Entries in Vectors: 2\n",
      "     run / subrun / event: 1544564276 / 1047 / 739\n",
      "     eCaloE:  [477.6010437011719, 60.87763595581055]\n",
      "     eCaloNum:  [2, 1]\n",
      "     eCaloT:  [55864.04296875, 55872.11328125]\n",
      "     eCaloT:  [-8.0703125]\n",
      "Number of Entries in Vectors: 2\n",
      "     run / subrun / event: 1544564276 / 1047 / 3250\n",
      "     eCaloE:  [918.64306640625, 476.9184265136719]\n",
      "     eCaloNum:  [1, 7]\n",
      "     eCaloT:  [65152.78125, 65186.09375]\n",
      "     eCaloT:  [-33.3125]\n",
      "Number of Entries in Vectors: 2\n",
      "     run / subrun / event: 1544564276 / 1049 / 3685\n",
      "     eCaloE:  [1119.410400390625, 35.32725143432617]\n",
      "     eCaloNum:  [2, 1]\n",
      "     eCaloT:  [146825.6875, 146839.75]\n",
      "     eCaloT:  [-14.0625]\n",
      "Number of Entries in Vectors: 2\n",
      "     run / subrun / event: 1544564276 / 1061 / 326\n",
      "     eCaloE:  [976.8509521484375, 39.9490966796875]\n",
      "     eCaloNum:  [1, 20]\n",
      "     eCaloT:  [18228.251953125, 18258.27734375]\n",
      "     eCaloT:  [-30.025390625]\n",
      "Number of Entries in Vectors: 2\n",
      "     run / subrun / event: 1544564276 / 1063 / 137\n",
      "     eCaloE:  [394.0262756347656, 24.607288360595703]\n",
      "     eCaloNum:  [4, 1]\n",
      "     eCaloT:  [61537.78515625, 61560.6328125]\n",
      "     eCaloT:  [-22.84765625]\n",
      "Number of Entries in Vectors: 2\n",
      "     run / subrun / event: 1544564276 / 1101 / 3405\n",
      "     eCaloE:  [1367.5972900390625, 1279.75732421875]\n",
      "     eCaloNum:  [1, 5]\n",
      "     eCaloT:  [8770.1005859375, 8793.052734375]\n",
      "     eCaloT:  [-22.9521484375]\n",
      "Number of Entries in Vectors: 2\n",
      "     run / subrun / event: 1544564276 / 1105 / 3685\n",
      "     eCaloE:  [912.5769653320312, 44.72188186645508]\n",
      "     eCaloNum:  [3, 1]\n",
      "     eCaloT:  [7404.1767578125, 7421.53466796875]\n",
      "     eCaloT:  [-17.35791015625]\n",
      "Number of Entries in Vectors: 2\n",
      "     run / subrun / event: 1544564276 / 1114 / 2243\n",
      "     eCaloE:  [290.7118225097656, 39.938743591308594]\n",
      "     eCaloNum:  [1, 23]\n",
      "     eCaloT:  [28411.35546875, 28428.900390625]\n",
      "     eCaloT:  [-17.544921875]\n",
      "Number of Entries in Vectors: 2\n",
      "     run / subrun / event: 1544564276 / 1135 / 3825\n",
      "     eCaloE:  [224.3349609375, 53.36013412475586]\n",
      "     eCaloNum:  [1, 19]\n",
      "     eCaloT:  [28314.189453125, 28348.501953125]\n",
      "     eCaloT:  [-34.3125]\n",
      "Number of Entries in Vectors: 2\n",
      "     run / subrun / event: 1544564276 / 1136 / 2683\n",
      "     eCaloE:  [406.7449645996094, 192.8263397216797]\n",
      "     eCaloNum:  [16, 1]\n",
      "     eCaloT:  [4889.51416015625, 4933.111328125]\n",
      "     eCaloT:  [-43.59716796875]\n",
      "Number of Entries in Vectors: 2\n",
      "     run / subrun / event: 1544564276 / 1138 / 2366\n",
      "     eCaloE:  [405.30322265625, 20.014562606811523]\n",
      "     eCaloNum:  [2, 1]\n",
      "     eCaloT:  [3366.178955078125, 3378.00048828125]\n",
      "     eCaloT:  [-11.821533203125]\n",
      "Number of Entries in Vectors: 2\n",
      "     run / subrun / event: 1544564276 / 1153 / 3390\n",
      "     eCaloE:  [928.3486938476562, 306.5228271484375]\n",
      "     eCaloNum:  [19, 1]\n",
      "     eCaloT:  [132142.640625, 132175.015625]\n",
      "     eCaloT:  [-32.375]\n",
      "Number of Entries in Vectors: 2\n",
      "     run / subrun / event: 1544564276 / 1154 / 1168\n",
      "     eCaloE:  [1126.455078125, 62.93155288696289]\n",
      "     eCaloNum:  [1, 23]\n",
      "     eCaloT:  [39235.1953125, 39250.9375]\n",
      "     eCaloT:  [-15.7421875]\n",
      "Number of Entries in Vectors: 2\n",
      "     run / subrun / event: 1544564276 / 1155 / 3117\n",
      "     eCaloE:  [340.3785400390625, 22.989999771118164]\n",
      "     eCaloNum:  [1, 23]\n",
      "     eCaloT:  [10108.48828125, 10122.5390625]\n",
      "     eCaloT:  [-14.05078125]\n",
      "Number of Entries in Vectors: 2\n",
      "     run / subrun / event: 1544564276 / 1167 / 1768\n",
      "     eCaloE:  [1591.317138671875, 203.63900756835938]\n",
      "     eCaloNum:  [1, 10]\n",
      "     eCaloT:  [9752.9794921875, 9795.8427734375]\n",
      "     eCaloT:  [-42.86328125]\n",
      "Number of Entries in Vectors: 4\n",
      "     run / subrun / event: 1544564276 / 1188 / 2448\n",
      "     eCaloE:  [436.9751892089844, 12.316411018371582, 1.3591290712356567, 1.3083860874176025]\n",
      "     eCaloNum:  [1, 24, 24, 24]\n",
      "     eCaloT:  [70290.609375, 70301.515625, 70301.9609375, 70303.3203125]\n",
      "     eCaloT:  [-10.90625, -0.4453125, -1.359375]\n",
      "Number of Entries in Vectors: 2\n",
      "     run / subrun / event: 1544564276 / 1189 / 1251\n",
      "     eCaloE:  [510.6913146972656, 57.96840286254883]\n",
      "     eCaloNum:  [16, 1]\n",
      "     eCaloT:  [47206.13671875, 47248.65234375]\n",
      "     eCaloT:  [-42.515625]\n",
      "Number of Entries in Vectors: 2\n",
      "     run / subrun / event: 1544564276 / 1194 / 1438\n",
      "     eCaloE:  [479.82891845703125, 16.082048416137695]\n",
      "     eCaloNum:  [4, 1]\n",
      "     eCaloT:  [26679.28515625, 26706.01953125]\n",
      "     eCaloT:  [-26.734375]\n",
      "Number of Entries in Vectors: 6\n",
      "     run / subrun / event: 1544564276 / 1197 / 3734\n",
      "     eCaloE:  [1364.7169189453125, 837.9078369140625, 837.9078369140625, 837.9078369140625, 837.9078369140625, 837.8641967773438]\n",
      "     eCaloNum:  [1, 2, 2, 2, 2, 2]\n",
      "     eCaloT:  [49736.85546875, 49742.58984375, 49742.625, 49742.625, 49742.625, 49742.62890625]\n",
      "     eCaloT:  [-5.734375, -0.03515625, 0.0, 0.0, -0.00390625]\n",
      "Number of Entries in Vectors: 2\n",
      "     run / subrun / event: 1544564276 / 1219 / 1718\n",
      "     eCaloE:  [681.4611206054688, 70.15926361083984]\n",
      "     eCaloNum:  [1, 20]\n",
      "     eCaloT:  [6076.24755859375, 6105.865234375]\n",
      "     eCaloT:  [-29.61767578125]\n",
      "Number of Entries in Vectors: 2\n",
      "     run / subrun / event: 1544564276 / 1222 / 1309\n",
      "     eCaloE:  [224.39715576171875, 58.50400161743164]\n",
      "     eCaloNum:  [3, 1]\n",
      "     eCaloT:  [8871.0859375, 8886.095703125]\n",
      "     eCaloT:  [-15.009765625]\n",
      "Number of Entries in Vectors: 2\n",
      "     run / subrun / event: 1544564276 / 123 / 2865\n",
      "     eCaloE:  [675.3657836914062, 256.1989440917969]\n",
      "     eCaloNum:  [17, 1]\n",
      "     eCaloT:  [40859.921875, 40900.44921875]\n",
      "     eCaloT:  [-40.52734375]\n",
      "Number of Entries in Vectors: 2\n",
      "     run / subrun / event: 1544564276 / 1233 / 469\n",
      "     eCaloE:  [165.4435272216797, 62.66487503051758]\n",
      "     eCaloNum:  [1, 24]\n",
      "     eCaloT:  [30522.095703125, 30530.59765625]\n",
      "     eCaloT:  [-8.501953125]\n",
      "Number of Entries in Vectors: 2\n",
      "     run / subrun / event: 1544564276 / 1236 / 507\n",
      "     eCaloE:  [219.47642517089844, 83.24675750732422]\n",
      "     eCaloNum:  [1, 12]\n",
      "     eCaloT:  [46867.80859375, 46912.90625]\n",
      "     eCaloT:  [-45.09765625]\n",
      "Number of Entries in Vectors: 2\n",
      "     run / subrun / event: 1544564276 / 1239 / 3147\n",
      "     eCaloE:  [178.84226989746094, 68.83329010009766]\n",
      "     eCaloNum:  [2, 1]\n",
      "     eCaloT:  [102919.65625, 102927.125]\n",
      "     eCaloT:  [-7.46875]\n",
      "Number of Entries in Vectors: 2\n",
      "     run / subrun / event: 1544564276 / 1242 / 3589\n",
      "     eCaloE:  [306.9096374511719, 16.698884963989258]\n",
      "     eCaloNum:  [17, 1]\n",
      "     eCaloT:  [16767.984375, 16807.5234375]\n",
      "     eCaloT:  [-39.5390625]\n",
      "Number of Entries in Vectors: 2\n",
      "     run / subrun / event: 1544564276 / 1261 / 3589\n",
      "     eCaloE:  [306.9096374511719, 16.698884963989258]\n",
      "     eCaloNum:  [17, 1]\n",
      "     eCaloT:  [16767.984375, 16807.5234375]\n",
      "     eCaloT:  [-39.5390625]\n",
      "Number of Entries in Vectors: 2\n",
      "     run / subrun / event: 1544564276 / 1262 / 2592\n",
      "     eCaloE:  [238.9970703125, 64.89463806152344]\n",
      "     eCaloNum:  [1, 24]\n",
      "     eCaloT:  [31718.37109375, 31726.4296875]\n",
      "     eCaloT:  [-8.05859375]\n",
      "Number of Entries in Vectors: 2\n",
      "     run / subrun / event: 1544564276 / 1266 / 2318\n",
      "     eCaloE:  [801.1980590820312, 684.9573364257812]\n",
      "     eCaloNum:  [20, 1]\n",
      "     eCaloT:  [25571.017578125, 25599.458984375]\n",
      "     eCaloT:  [-28.44140625]\n",
      "Number of Entries in Vectors: 2\n",
      "     run / subrun / event: 1544564276 / 1271 / 1678\n",
      "     eCaloE:  [1175.8328857421875, 65.94486236572266]\n",
      "     eCaloNum:  [5, 1]\n",
      "     eCaloT:  [41603.34375, 41627.8828125]\n",
      "     eCaloT:  [-24.5390625]\n",
      "Number of Entries in Vectors: 2\n",
      "     run / subrun / event: 1544564276 / 1280 / 2044\n",
      "     eCaloE:  [3000.75634765625, 1976.7508544921875]\n",
      "     eCaloNum:  [1, 2]\n",
      "     eCaloT:  [41133.76171875, 41139.84375]\n",
      "     eCaloT:  [-6.08203125]\n",
      "Number of Entries in Vectors: 3\n",
      "     run / subrun / event: 1544564276 / 1285 / 1582\n",
      "     eCaloE:  [421.0287170410156, 76.47024536132812, 6.456231594085693]\n",
      "     eCaloNum:  [6, 1, 1]\n",
      "     eCaloT:  [29028.607421875, 29057.49609375, 29058.02734375]\n",
      "     eCaloT:  [-28.888671875, -0.53125]\n",
      "Number of Entries in Vectors: 2\n",
      "     run / subrun / event: 1544564276 / 1292 / 504\n",
      "     eCaloE:  [377.49560546875, 19.065834045410156]\n",
      "     eCaloNum:  [1, 22]\n",
      "     eCaloT:  [70218.1015625, 70236.953125]\n",
      "     eCaloT:  [-18.8515625]\n",
      "Number of Entries in Vectors: 2\n",
      "     run / subrun / event: 1544564276 / 1297 / 1836\n",
      "     eCaloE:  [842.865234375, 721.5081176757812]\n",
      "     eCaloNum:  [20, 1]\n",
      "     eCaloT:  [135835.96875, 135864.015625]\n",
      "     eCaloT:  [-28.046875]\n",
      "Number of Entries in Vectors: 2\n",
      "     run / subrun / event: 1544564276 / 13 / 769\n",
      "     eCaloE:  [818.5678100585938, 51.0428581237793]\n",
      "     eCaloNum:  [2, 1]\n",
      "     eCaloT:  [9133.84375, 9143.916015625]\n",
      "     eCaloT:  [-10.072265625]\n",
      "Number of Entries in Vectors: 2\n",
      "     run / subrun / event: 1544564276 / 1302 / 1281\n",
      "     eCaloE:  [206.2590789794922, 25.03657341003418]\n",
      "     eCaloNum:  [2, 1]\n",
      "     eCaloT:  [77170.3046875, 77183.6953125]\n",
      "     eCaloT:  [-13.390625]\n",
      "Number of Entries in Vectors: 2\n",
      "     run / subrun / event: 1544564276 / 1306 / 295\n",
      "     eCaloE:  [635.816162109375, 45.779884338378906]\n",
      "     eCaloNum:  [1, 15]\n",
      "     eCaloT:  [31707.2734375, 31773.642578125]\n",
      "     eCaloT:  [-66.369140625]\n",
      "Number of Entries in Vectors: 2\n",
      "     run / subrun / event: 1544564276 / 1322 / 2929\n",
      "     eCaloE:  [673.0126953125, 23.361133575439453]\n",
      "     eCaloNum:  [5, 1]\n",
      "     eCaloT:  [102481.1328125, 102508.75]\n",
      "     eCaloT:  [-27.6171875]\n",
      "Number of Entries in Vectors: 2\n",
      "     run / subrun / event: 1544564276 / 1325 / 615\n",
      "     eCaloE:  [589.854248046875, 505.0419921875]\n",
      "     eCaloNum:  [1, 7]\n",
      "     eCaloT:  [29449.234375, 29481.703125]\n",
      "     eCaloT:  [-32.46875]\n",
      "Number of Entries in Vectors: 2\n",
      "     run / subrun / event: 1544564276 / 1335 / 909\n",
      "     eCaloE:  [379.5660400390625, 74.39420318603516]\n",
      "     eCaloNum:  [1, 19]\n",
      "     eCaloT:  [55551.12890625, 55584.51171875]\n",
      "     eCaloT:  [-33.3828125]\n",
      "Number of Entries in Vectors: 2\n",
      "     run / subrun / event: 1544564276 / 1340 / 1777\n",
      "     eCaloE:  [2342.453857421875, 1586.0758056640625]\n",
      "     eCaloNum:  [1, 4]\n",
      "     eCaloT:  [46659.96484375, 46677.71875]\n",
      "     eCaloT:  [-17.75390625]\n",
      "Number of Entries in Vectors: 2\n",
      "     run / subrun / event: 1544564276 / 1355 / 2703\n",
      "     eCaloE:  [451.5127258300781, 362.4198913574219]\n",
      "     eCaloNum:  [1, 8]\n",
      "     eCaloT:  [53085.15234375, 53121.67578125]\n",
      "     eCaloT:  [-36.5234375]\n",
      "Number of Entries in Vectors: 2\n",
      "     run / subrun / event: 1544564276 / 136 / 2922\n",
      "     eCaloE:  [581.1103515625, 98.37381744384766]\n",
      "     eCaloNum:  [1, 15]\n",
      "     eCaloT:  [78155.390625, 78200.3984375]\n",
      "     eCaloT:  [-45.0078125]\n",
      "Number of Entries in Vectors: 2\n",
      "     run / subrun / event: 1544564276 / 1371 / 706\n",
      "     eCaloE:  [590.9779663085938, 41.59189987182617]\n",
      "     eCaloNum:  [1, 18]\n",
      "     eCaloT:  [265424.375, 265467.46875]\n",
      "     eCaloT:  [-43.09375]\n",
      "Number of Entries in Vectors: 2\n",
      "     run / subrun / event: 1544564276 / 1381 / 3711\n",
      "     eCaloE:  [451.69989013671875, 74.84718322753906]\n",
      "     eCaloNum:  [6, 1]\n",
      "     eCaloT:  [22891.41015625, 22920.39453125]\n",
      "     eCaloT:  [-28.984375]\n",
      "Number of Entries in Vectors: 2\n",
      "     run / subrun / event: 1544564276 / 1392 / 3016\n",
      "     eCaloE:  [948.5274047851562, 25.938352584838867]\n",
      "     eCaloNum:  [2, 1]\n",
      "     eCaloT:  [20511.640625, 20519.509765625]\n",
      "     eCaloT:  [-7.869140625]\n",
      "Number of Entries in Vectors: 2\n",
      "     run / subrun / event: 1544564276 / 1393 / 3569\n",
      "     eCaloE:  [799.0079956054688, 61.026004791259766]\n",
      "     eCaloNum:  [1, 23]\n",
      "     eCaloT:  [37841.609375, 37857.00390625]\n",
      "     eCaloT:  [-15.39453125]\n",
      "Number of Entries in Vectors: 4\n",
      "     run / subrun / event: 1544564276 / 1399 / 1698\n",
      "     eCaloE:  [840.8339233398438, 62.450801849365234, 62.450801849365234, 62.450801849365234]\n",
      "     eCaloNum:  [1, 1, 1, 24]\n",
      "     eCaloT:  [80708.3125, 80708.40625, 80708.40625, 80716.890625]\n",
      "     eCaloT:  [-0.09375, 0.0, -8.484375]\n",
      "Number of Entries in Vectors: 2\n",
      "     run / subrun / event: 1544564276 / 1406 / 3110\n",
      "     eCaloE:  [1261.5972900390625, 22.385969161987305]\n",
      "     eCaloNum:  [1, 24]\n",
      "     eCaloT:  [31402.068359375, 31409.986328125]\n",
      "     eCaloT:  [-7.91796875]\n",
      "Number of Entries in Vectors: 2\n",
      "     run / subrun / event: 1544564276 / 1407 / 1590\n",
      "     eCaloE:  [948.2361450195312, 46.81423568725586]\n",
      "     eCaloNum:  [1, 20]\n",
      "     eCaloT:  [157992.3125, 158023.859375]\n",
      "     eCaloT:  [-31.546875]\n",
      "Number of Entries in Vectors: 2\n",
      "     run / subrun / event: 1544564276 / 1409 / 3685\n",
      "     eCaloE:  [3018.99462890625, 1961.4010009765625]\n",
      "     eCaloNum:  [1, 2]\n",
      "     eCaloT:  [9759.6728515625, 9765.7548828125]\n",
      "     eCaloT:  [-6.08203125]\n",
      "Number of Entries in Vectors: 2\n",
      "     run / subrun / event: 1544564276 / 1418 / 1319\n",
      "     eCaloE:  [980.0485229492188, 35.1142692565918]\n",
      "     eCaloNum:  [1, 24]\n",
      "     eCaloT:  [14419.4775390625, 14428.7724609375]\n",
      "     eCaloT:  [-9.294921875]\n",
      "Number of Entries in Vectors: 2\n",
      "     run / subrun / event: 1544564276 / 1419 / 3927\n",
      "     eCaloE:  [242.4574432373047, 15.262537002563477]\n",
      "     eCaloNum:  [1, 23]\n",
      "     eCaloT:  [40593.23828125, 40610.94921875]\n",
      "     eCaloT:  [-17.7109375]\n",
      "Number of Entries in Vectors: 2\n",
      "     run / subrun / event: 1544564276 / 1421 / 570\n",
      "     eCaloE:  [170.7230987548828, 84.11869049072266]\n",
      "     eCaloNum:  [6, 1]\n",
      "     eCaloT:  [322266.71875, 322295.46875]\n",
      "     eCaloT:  [-28.75]\n",
      "Number of Entries in Vectors: 2\n",
      "     run / subrun / event: 1544564276 / 1441 / 607\n",
      "     eCaloE:  [147.7980194091797, 53.686763763427734]\n",
      "     eCaloNum:  [1, 22]\n",
      "     eCaloT:  [14724.6826171875, 14745.45703125]\n",
      "     eCaloT:  [-20.7744140625]\n",
      "Number of Entries in Vectors: 2\n",
      "     run / subrun / event: 1544564276 / 1442 / 901\n",
      "     eCaloE:  [647.0072021484375, 61.1810188293457]\n",
      "     eCaloNum:  [1, 24]\n",
      "     eCaloT:  [96856.9609375, 96865.140625]\n",
      "     eCaloT:  [-8.1796875]\n"
     ]
    }
   ],
   "source": [
    "totalEVec = []\n",
    "deltatVec = []\n",
    "subRunVec = []\n",
    "for i, e in enumerate(t_partial2):\n",
    "    #if i > 10:\n",
    "    #    break\n",
    "    if(len(e.eCaloE) < 2 ):\n",
    "        continue\n",
    "    #if(e.subRunNum != 1049):\n",
    "    #    continue\n",
    "    print(\"Number of Entries in Vectors:\", len(e.eCaloE))\n",
    "    print(\"     run / subrun / event:\", e.runNum, \"/\", e.subRunNum, \"/\", e.eventNum)\n",
    "    subRunVec.append(e.subRunNum)\n",
    "    print(\"     eCaloE: \", [x for x in e.eCaloE])\n",
    "    print(\"     eCaloNum: \", [x for x in e.eCaloNum])\n",
    "    print(\"     eCaloT: \", [x for x in e.eCaloT])\n",
    "    print(\"     eCaloT: \", [(e.eCaloT)[i] - (e.eCaloT)[i+1] for i in range(len(e.eCaloT)-1)])\n",
    "    for x in e.eCaloE:\n",
    "        totalEVec.append(x)\n",
    "    for j in range(len(e.eCaloT)-1):\n",
    "        if((e.eCaloNum[0] != e.eCaloNum[1] )):\n",
    "            deltatVec.append((e.eCaloT)[j] - (e.eCaloT)[j+1] )\n",
    "    #plt.hist([x for x in e.eCaloE],bins = 100)\n",
    "    #plt.yscale('log')\n",
    "    #plt.show()"
   ]
  },
  {
   "cell_type": "code",
   "execution_count": 58,
   "metadata": {},
   "outputs": [
    {
     "data": {
      "image/png": "[encoded data removed]",
      "text/plain": [
       "<Figure size 432x288 with 1 Axes>"
      ]
     },
     "metadata": {},
     "output_type": "display_data"
    },
    {
     "name": "stdout",
     "output_type": "stream",
     "text": [
      "Mean -23.552560261317662\n"
     ]
    }
   ],
   "source": [
    "plt.hist(deltatVec,bins=25)\n",
    "plt.title(r'$\\delta t$ [c.t.]')\n",
    "plt.show()\n",
    "print(\"Mean\", np.mean(deltatVec))"
   ]
  },
  {
   "cell_type": "code",
   "execution_count": 77,
   "metadata": {},
   "outputs": [
    {
     "name": "stdout",
     "output_type": "stream",
     "text": [
      "[1006, 1007, 1028, 1041, 1042, 1043, 1047, 1047, 1049, 1061, 1063, 1101, 1105, 1114, 1135, 1136, 1138, 1153, 1154, 1155, 1167, 1188, 1189, 1194, 1197, 1219, 1222, 123, 1233, 1236, 1239, 1242, 1261, 1262, 1266, 1271, 1280, 1285, 1292, 1297, 13, 1302, 1306, 1322, 1325, 1335, 1340, 1355, 136, 1371, 1381, 1392, 1393, 1399, 1406, 1407, 1409, 1418, 1419, 1421, 1441, 1442]\n"
     ]
    },
    {
     "data": {
      "image/png": "[encoded data removed]",
      "text/plain": [
       "<Figure size 432x288 with 1 Axes>"
      ]
     },
     "metadata": {},
     "output_type": "display_data"
    }
   ],
   "source": [
    "print(subRunVec)\n",
    "plt.hist(subRunVec,bins=1500,range=(0,1500))\n",
    "plt.show()"
   ]
  },
  {
   "cell_type": "code",
   "execution_count": null,
   "metadata": {},
   "outputs": [],
   "source": []
  }
 ],
 "metadata": {
  "kernelspec": {
   "display_name": "Python 3",
   "language": "python",
   "name": "python3"
  },
  "language_info": {
   "codemirror_mode": {
    "name": "ipython",
    "version": 3
   },
   "file_extension": ".py",
   "mimetype": "text/x-python",
   "name": "python",
   "nbconvert_exporter": "python",
   "pygments_lexer": "ipython3",
   "version": "3.6.8"
  }
 },
 "nbformat": 4,
 "nbformat_minor": 2
}
