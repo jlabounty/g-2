{
 "cells": [
  {
   "cell_type": "code",
   "execution_count": 1,
   "metadata": {},
   "outputs": [
    {
     "name": "stdout",
     "output_type": "stream",
     "text": [
      "Welcome to JupyROOT 6.12/06\n",
      "For interactive plots, run: setint()\n",
      "To return to non-interactive plots (default state), run: noint()\n"
     ]
    }
   ],
   "source": [
    "from standardInclude import *"
   ]
  },
  {
   "cell_type": "code",
   "execution_count": 2,
   "metadata": {},
   "outputs": [],
   "source": [
    "subrun = 1049\n",
    "#fileName = \"./data/\"+str(subrun)+\".txt\"\n",
    "fileName = \"./data/output_allCollimators.txt\""
   ]
  },
  {
   "cell_type": "code",
   "execution_count": 3,
   "metadata": {},
   "outputs": [],
   "source": [
    "previousEntry = -1\n",
    "colliCounter = 0\n",
    "with open(fileName, \"r\") as ins:\n",
    "    array = []\n",
    "    for line in ins:\n",
    "        if(\"Time(ns)\" in line):\n",
    "            ding = line.strip().split()\n",
    "            #print(line)\n",
    "            #print(ding)\n",
    "            entry = int(ding[29])\n",
    "            if(previousEntry < entry):\n",
    "                colliCounter = 0\n",
    "                previousEntry = entry\n",
    "            dong = [float(ding[2]), float(ding[5]), float(ding[8]), float(ding[11]),\n",
    "                    float(ding[14]), float(ding[17]) , float(ding[20]), float(ding[23]), \n",
    "                    float(ding[26]), entry, ding[32] ]\n",
    "            if('olli' in ding[32]):\n",
    "                collimator = int(ding[32].split('Collimator')[1])\n",
    "                colliCounter += 1\n",
    "            else:\n",
    "                collimator = np.nan\n",
    "            dong.append(collimator)\n",
    "            dong.append(colliCounter)\n",
    "            array.append(dong)"
   ]
  },
  {
   "cell_type": "code",
   "execution_count": 4,
   "metadata": {},
   "outputs": [
    {
     "name": "stdout",
     "output_type": "stream",
     "text": [
      "[3743.323496327126, 7326.39501953125, -3268.907603807334, 401.5215061678607, 6556.699388372584, -0.0, -0.0, -0.0, 0.0, 1000, 'RingYokeTop', nan, 2]\n"
     ]
    }
   ],
   "source": [
    "print(dong)"
   ]
  },
  {
   "cell_type": "code",
   "execution_count": 5,
   "metadata": {},
   "outputs": [],
   "source": [
    "dffull = pandas.DataFrame(array, columns = [ 'time', 'R', 'x', 'y', 'z', 'px', 'py', 'pz', 'E', \n",
    "                                            'entry', 'Location', 'collimator', 'collimatorCollisions'])"
   ]
  },
  {
   "cell_type": "code",
   "execution_count": 6,
   "metadata": {},
   "outputs": [],
   "source": [
    "entry = 12\n",
    "df = dffull\n",
    "#df = dffull.loc[dffull['Location'] == 'xtal[00]']\n",
    "#df = dffull[dffull['Location'].str.contains('xtal')]\n",
    "#df = dffull[dffull['entry'] == entry]\n",
    "df = dffull[dffull['Location'].str.contains('olli')]\n",
    "#df = dffull[dffull['Location'].str.contains('olli')].loc[dffull['collimatorCollisions'] > 1]\n",
    "#df = dffull[dffull['Location'].str.contains('alori')]"
   ]
  },
  {
   "cell_type": "code",
   "execution_count": 7,
   "metadata": {},
   "outputs": [
    {
     "data": {
      "text/html": [
       "<div>\n",
       "<style scoped>\n",
       "    .dataframe tbody tr th:only-of-type {\n",
       "        vertical-align: middle;\n",
       "    }\n",
       "\n",
       "    .dataframe tbody tr th {\n",
       "        vertical-align: top;\n",
       "    }\n",
       "\n",
       "    .dataframe thead th {\n",
       "        text-align: right;\n",
       "    }\n",
       "</style>\n",
       "<table border=\"1\" class=\"dataframe\">\n",
       "  <thead>\n",
       "    <tr style=\"text-align: right;\">\n",
       "      <th></th>\n",
       "      <th>time</th>\n",
       "      <th>R</th>\n",
       "      <th>x</th>\n",
       "      <th>y</th>\n",
       "      <th>z</th>\n",
       "      <th>px</th>\n",
       "      <th>py</th>\n",
       "      <th>pz</th>\n",
       "      <th>E</th>\n",
       "      <th>entry</th>\n",
       "      <th>Location</th>\n",
       "      <th>collimator</th>\n",
       "      <th>collimatorCollisions</th>\n",
       "    </tr>\n",
       "  </thead>\n",
       "  <tbody>\n",
       "    <tr>\n",
       "      <th>92</th>\n",
       "      <td>74.618432</td>\n",
       "      <td>7062.713379</td>\n",
       "      <td>4.049337</td>\n",
       "      <td>-0.734426</td>\n",
       "      <td>-7062.712258</td>\n",
       "      <td>3089.461021</td>\n",
       "      <td>7.810150</td>\n",
       "      <td>1.942573</td>\n",
       "      <td>3089.471504</td>\n",
       "      <td>1</td>\n",
       "      <td>Collimator7</td>\n",
       "      <td>7.0</td>\n",
       "      <td>1</td>\n",
       "    </tr>\n",
       "    <tr>\n",
       "      <th>93</th>\n",
       "      <td>74.649663</td>\n",
       "      <td>7062.711914</td>\n",
       "      <td>13.406657</td>\n",
       "      <td>-0.710771</td>\n",
       "      <td>-7062.699251</td>\n",
       "      <td>3078.157980</td>\n",
       "      <td>17.662294</td>\n",
       "      <td>9.158184</td>\n",
       "      <td>3078.222275</td>\n",
       "      <td>1</td>\n",
       "      <td>Collimator7</td>\n",
       "      <td>7.0</td>\n",
       "      <td>2</td>\n",
       "    </tr>\n",
       "    <tr>\n",
       "      <th>501</th>\n",
       "      <td>74.649663</td>\n",
       "      <td>7062.703125</td>\n",
       "      <td>13.406518</td>\n",
       "      <td>-0.734455</td>\n",
       "      <td>-7062.690547</td>\n",
       "      <td>3079.412187</td>\n",
       "      <td>3.074171</td>\n",
       "      <td>22.550071</td>\n",
       "      <td>3079.496286</td>\n",
       "      <td>2</td>\n",
       "      <td>Collimator7</td>\n",
       "      <td>7.0</td>\n",
       "      <td>1</td>\n",
       "    </tr>\n",
       "    <tr>\n",
       "      <th>2939</th>\n",
       "      <td>74.649663</td>\n",
       "      <td>7062.703125</td>\n",
       "      <td>13.406512</td>\n",
       "      <td>-0.734455</td>\n",
       "      <td>-7062.690191</td>\n",
       "      <td>3080.875308</td>\n",
       "      <td>1.757211</td>\n",
       "      <td>5.331200</td>\n",
       "      <td>3080.880421</td>\n",
       "      <td>3</td>\n",
       "      <td>Collimator7</td>\n",
       "      <td>7.0</td>\n",
       "      <td>1</td>\n",
       "    </tr>\n",
       "    <tr>\n",
       "      <th>3044</th>\n",
       "      <td>86.955210</td>\n",
       "      <td>7065.404297</td>\n",
       "      <td>3534.234006</td>\n",
       "      <td>1.325753</td>\n",
       "      <td>-6117.934875</td>\n",
       "      <td>2668.513320</td>\n",
       "      <td>-5.123915</td>\n",
       "      <td>1536.010432</td>\n",
       "      <td>3079.012446</td>\n",
       "      <td>3</td>\n",
       "      <td>Collimator8</td>\n",
       "      <td>8.0</td>\n",
       "      <td>2</td>\n",
       "    </tr>\n",
       "  </tbody>\n",
       "</table>\n",
       "</div>"
      ],
      "text/plain": [
       "           time            R            x         y            z           px  \\\n",
       "92    74.618432  7062.713379     4.049337 -0.734426 -7062.712258  3089.461021   \n",
       "93    74.649663  7062.711914    13.406657 -0.710771 -7062.699251  3078.157980   \n",
       "501   74.649663  7062.703125    13.406518 -0.734455 -7062.690547  3079.412187   \n",
       "2939  74.649663  7062.703125    13.406512 -0.734455 -7062.690191  3080.875308   \n",
       "3044  86.955210  7065.404297  3534.234006  1.325753 -6117.934875  2668.513320   \n",
       "\n",
       "             py           pz            E  entry     Location  collimator  \\\n",
       "92     7.810150     1.942573  3089.471504      1  Collimator7         7.0   \n",
       "93    17.662294     9.158184  3078.222275      1  Collimator7         7.0   \n",
       "501    3.074171    22.550071  3079.496286      2  Collimator7         7.0   \n",
       "2939   1.757211     5.331200  3080.880421      3  Collimator7         7.0   \n",
       "3044  -5.123915  1536.010432  3079.012446      3  Collimator8         8.0   \n",
       "\n",
       "      collimatorCollisions  \n",
       "92                       1  \n",
       "93                       2  \n",
       "501                      1  \n",
       "2939                     1  \n",
       "3044                     2  "
      ]
     },
     "execution_count": 7,
     "metadata": {},
     "output_type": "execute_result"
    }
   ],
   "source": [
    "df.head()"
   ]
  },
  {
   "cell_type": "code",
   "execution_count": 8,
   "metadata": {},
   "outputs": [
    {
     "data": {
      "image/png": "[encoded data removed]",
      "text/plain": [
       "<Figure size 1080x360 with 1 Axes>"
      ]
     },
     "metadata": {
      "needs_background": "light"
     },
     "output_type": "display_data"
    }
   ],
   "source": [
    "fig,ax = plt.subplots(figsize=(15,5))\n",
    "plt.hist(df['collimator'], bins=20, range=(0,10))\n",
    "plt.yscale(\"log\")\n",
    "plt.show()"
   ]
  },
  {
   "cell_type": "code",
   "execution_count": 9,
   "metadata": {},
   "outputs": [],
   "source": [
    "collimatorLocations = [ [ i, [0.0,0.0,0.0] ] for i in range(15)]\n",
    "#print(collimatorLocations)"
   ]
  },
  {
   "cell_type": "code",
   "execution_count": 10,
   "metadata": {},
   "outputs": [
    {
     "data": {
      "text/plain": [
       "[]"
      ]
     },
     "execution_count": 10,
     "metadata": {},
     "output_type": "execute_result"
    },
    {
     "data": {
      "image/png": "[encoded data removed]",
      "text/plain": [
       "<Figure size 432x288 with 1 Axes>"
      ]
     },
     "metadata": {
      "needs_background": "light"
     },
     "output_type": "display_data"
    }
   ],
   "source": [
    "plt.hist( np.arctan2( df['x'] , df['z'] )  )\n",
    "plt.plot()"
   ]
  },
  {
   "cell_type": "code",
   "execution_count": 11,
   "metadata": {},
   "outputs": [
    {
     "name": "stdout",
     "output_type": "stream",
     "text": [
      "0\n",
      "52\n",
      "1.5687261715341796 39508\n",
      "1.5687261715341796\n",
      "1.5687261715341796\n",
      "37\n",
      "-0.5255822985464069 85887\n",
      "-0.5255822985464069\n",
      "-0.5255822985464069\n",
      "40\n",
      "-1.0492129496693003 217315\n",
      "-1.0492129496693003\n",
      "-1.0492129496693003\n",
      "12\n",
      "-1.5727838683282611 1001689\n",
      "-1.5727838683282611\n",
      "-1.5727838683282611\n",
      "16\n",
      "-2.096341776293538 366969\n",
      "-2.096341776293538\n",
      "-2.096341776293538\n",
      "0\n",
      "1736\n",
      "3.1396829277007456 1485861\n",
      "3.1396829277007456\n",
      "3.1396829277007456\n",
      "228\n",
      "2.616061931215641 1303846\n",
      "2.616061931215641\n",
      "2.616061931215641\n",
      "79\n",
      "2.092419322712409 845103\n",
      "2.092419322712409\n",
      "2.092419322712409\n",
      "0\n",
      "0\n",
      "0\n",
      "0\n",
      "0\n"
     ]
    }
   ],
   "source": [
    "for collimator in range(len(collimatorLocations)):\n",
    "    dfi = df.loc[df['collimator'] == collimator]\n",
    "    print(len(dfi))\n",
    "    if(len(dfi) > 0):\n",
    "        thetas = np.arctan2( dfi['x'] , dfi['z'] )\n",
    "        #print(thetas)\n",
    "        print( thetas.min(), thetas.idxmin() )\n",
    "        print(thetas.loc[thetas.idxmin()])\n",
    "        minColi = dfi.loc[thetas.idxmin()]\n",
    "        collimatorLocations[collimator][1] = [ minColi['x'] , minColi['y'] , minColi['z'] ]\n",
    "        print( np.arctan2( minColi['x'] , minColi['z'] ) )"
   ]
  },
  {
   "cell_type": "code",
   "execution_count": 12,
   "metadata": {},
   "outputs": [
    {
     "name": "stdout",
     "output_type": "stream",
     "text": [
      "[[0, [0.0, 0.0, 0.0]], [1, [7149.572147061633, -32.90936790610998, 14.80074553519848]], [2, [-3564.971430157989, -48.16327825427763, 6146.523638690166]], [3, [-6174.725806600468, -45.17248932919556, 3548.406158272934]], [4, [-7107.562234161643, 45.80357777122645, -14.12659374290179]], [5, [-6130.591655541465, 39.19554604806978, -3555.429017338756]], [6, [0.0, 0.0, 0.0]], [7, [13.49880163130026, 23.5769032584598, -7068.441234645938]], [8, [3551.629223122326, -37.0133435828963, -6124.247530783104]], [9, [6157.200107073624, -46.57608483479584, -3538.659238823555]], [10, [0.0, 0.0, 0.0]], [11, [0.0, 0.0, 0.0]], [12, [0.0, 0.0, 0.0]], [13, [0.0, 0.0, 0.0]], [14, [0.0, 0.0, 0.0]]]\n"
     ]
    }
   ],
   "source": [
    "print(collimatorLocations)"
   ]
  },
  {
   "cell_type": "code",
   "execution_count": 13,
   "metadata": {},
   "outputs": [
    {
     "data": {
      "image/png": "[encoded data removed]",
      "text/latex": [
       "$$\\left [ \\left ( - \\frac{1}{2} + \\frac{\\sqrt{3}}{2}, \\quad c_{1} - \\frac{3 \\sqrt{3}}{2} + \\frac{3}{2}, \\quad - c_{1} - \\frac{5}{2} + \\frac{5 \\sqrt{3}}{2}\\right ), \\quad \\left ( - \\frac{\\sqrt{3}}{2} - \\frac{1}{2}, \\quad c_{1} + \\frac{3}{2} + \\frac{3 \\sqrt{3}}{2}, \\quad - c_{1} - \\frac{5 \\sqrt{3}}{2} - \\frac{5}{2}\\right )\\right ]$$"
      ],
      "text/plain": [
       "⎡⎛  1   √3       3⋅√3   3        5   5⋅√3⎞  ⎛  √3   1       3   3⋅√3        5⋅\n",
       "⎢⎜- ─ + ──, c₁ - ──── + ─, -c₁ - ─ + ────⎟, ⎜- ── - ─, c₁ + ─ + ────, -c₁ - ──\n",
       "⎣⎝  2   2         2     2        2    2  ⎠  ⎝  2    2       2    2           2\n",
       "\n",
       "√3   5⎞⎤\n",
       "── - ─⎟⎥\n",
       "     2⎠⎦"
      ]
     },
     "execution_count": 13,
     "metadata": {},
     "output_type": "execute_result"
    }
   ],
   "source": [
    "import sympy as sym\n",
    "sym.init_printing()\n",
    "x,y,z = sym.symbols('x,y,z')\n",
    "c1 = sym.Symbol('c1')\n",
    "f = sym.Eq(2*x**2+y+z,1)\n",
    "g = sym.Eq(x+2*y+z,c1)\n",
    "h = sym.Eq(-2*x+y,-z)\n",
    "\n",
    "sym.solve([f,g,h],(x,y,z))"
   ]
  },
  {
   "cell_type": "code",
   "execution_count": 14,
   "metadata": {},
   "outputs": [
    {
     "name": "stdout",
     "output_type": "stream",
     "text": [
      "Starting: 1\n",
      "     1.5687261715341796 1.4687261715341795\n",
      "     (7124.72438756620, 729.757768865398) 7124.72438756620 729.757768865398\n",
      "     1.46872617153418\n",
      "Starting: 2\n",
      "     -0.5255822985464069 -0.6255822985464069\n",
      "     (-4193.84801676271, 5805.67677470038) -4193.84801676271 5805.67677470038\n",
      "     -0.625582298546407\n",
      "Starting: 3\n",
      "     -1.0492129496693003 -1.1492129496693004\n",
      "     (-6534.91073139400, 2930.73126245166) -6534.91073139400 2930.73126245166\n",
      "     -1.14921294966930\n",
      "Starting: 4\n",
      "     -1.5727838683282611 -1.6727838683282612\n",
      "     (-7124.78465126226, -729.169166337738) -7124.78465126226 -729.169166337738\n",
      "     -pi + 1.46880878526153\n",
      "Starting: 5\n",
      "     -2.096341776293538 -2.196341776293538\n",
      "     (-5805.83131006461, -4193.63408025468) -5805.83131006461 -4193.63408025468\n",
      "     -pi + 0.945250877296253\n",
      "Starting: 7\n",
      "     3.1396829277007456 3.0396829277007456\n",
      "     (728.614744422357, -7124.84137045944) 728.614744422357 -7124.84137045944\n",
      "     -0.101909725889043 + pi\n",
      "Starting: 8\n",
      "     2.616061931215641 2.5160619312156407\n",
      "     (4193.54857659943, -5805.89306960616) 4193.54857659943 -5805.89306960616\n",
      "     -0.625530722374153 + pi\n",
      "Starting: 9\n",
      "     2.092419322712409 1.9924193227124087\n",
      "     (6534.79461423322, -2930.99016541995) 6534.79461423322 -2930.99016541995\n",
      "     -1.14917333087738 + pi\n"
     ]
    }
   ],
   "source": [
    "import numpy\n",
    "collCoords = []\n",
    "for collimator, coords in collimatorLocations:\n",
    "    if (coords[0] == coords[1] == coords[2]):\n",
    "        continue\n",
    "    print('Starting:', collimator)\n",
    "    initialTheta = np.arctan2( coords[0] , coords[2] )\n",
    "    newTheta = initialTheta - 0.1\n",
    "    radius = 7162\n",
    "    print(\"    \", initialTheta, newTheta)\n",
    "    \n",
    "    xi,yi,zi = sym.symbols(\"x,y,z\")\n",
    "    f1 = sym.Eq( sym.atan2(xi, zi), newTheta )\n",
    "    f2 = sym.Eq( xi**2 + zi**2, radius**2 )\n",
    "    \n",
    "    ding = sym.solve([f1,f2], (x,z))[0]\n",
    "    print( \"    \", ding, ding[0], ding[1])\n",
    "    collCoords.append( (ding[0], ding[1]) )\n",
    "    print( \"    \", sym.atan2( ding[0] , ding[1] ) )"
   ]
  },
  {
   "cell_type": "code",
   "execution_count": 15,
   "metadata": {},
   "outputs": [
    {
     "data": {
      "image/png": "[encoded data removed]",
      "text/plain": [
       "<Figure size 432x288 with 1 Axes>"
      ]
     },
     "metadata": {
      "needs_background": "light"
     },
     "output_type": "display_data"
    }
   ],
   "source": [
    "colx, coly = zip(*collCoords)\n",
    "fig, ax = plt.subplots()\n",
    "circle2 = plt.Circle((0,0), 7112, color='r', fill=False)\n",
    "ax.add_artist(circle2)\n",
    "plt.scatter(colx, coly)\n",
    "plt.show()"
   ]
  },
  {
   "cell_type": "code",
   "execution_count": 16,
   "metadata": {},
   "outputs": [
    {
     "data": {
      "image/png": "[encoded data removed]",
      "text/latex": [
       "$$\\left ( 7124.7243875662, \\quad 729.757768865398\\right )$$"
      ],
      "text/plain": [
       "(7124.7243875662, 729.757768865398)"
      ]
     },
     "execution_count": 16,
     "metadata": {},
     "output_type": "execute_result"
    }
   ],
   "source": [
    "collCoords[0]"
   ]
  },
  {
   "cell_type": "code",
   "execution_count": 40,
   "metadata": {},
   "outputs": [],
   "source": [
    "def rotate2D( inputVector, angle = 90 ):\n",
    "    rotMatrix = np.array( [[np.cos(angle), -1*np.sin(angle)], [np.sin(angle), np.cos(angle)]] )\n",
    "    inputVector = np.array([ float(inputVector[0]), float(inputVector[1]) ])\n",
    "    #print(rotMatrix, inputVector)\n",
    "    #print(type(rotMatrix), type(inputVector))\n",
    "    outputVector = np.matmul(rotMatrix,inputVector)\n",
    "    print(outputVector)\n",
    "    \n",
    "    return outputVector"
   ]
  },
  {
   "cell_type": "code",
   "execution_count": 28,
   "metadata": {},
   "outputs": [],
   "source": [
    "def getAngleDiff( coord1, coord2 ):\n",
    "    angle1 = np.arctan2( coord1[0], coord1[1] )\n",
    "    angle2 = np.arctan2( coord2[0], coord2[1] )\n",
    "    angleDiff = angle1 - angle2\n",
    "    print(angle1, angle2, angleDiff)\n",
    "    return angleDiff"
   ]
  },
  {
   "cell_type": "code",
   "execution_count": 29,
   "metadata": {},
   "outputs": [
    {
     "name": "stdout",
     "output_type": "stream",
     "text": [
      "[[ 6.123234e-17 -1.000000e+00]\n",
      " [ 1.000000e+00  6.123234e-17]] [-1.  0.]\n",
      "<class 'numpy.ndarray'> <class 'numpy.ndarray'>\n",
      "[-6.123234e-17 -1.000000e+00]\n"
     ]
    }
   ],
   "source": [
    "inputVector = [-1,0]\n",
    "ding = rotate2D( inputVector, r.TMath.Pi()/2)"
   ]
  },
  {
   "cell_type": "code",
   "execution_count": 30,
   "metadata": {},
   "outputs": [
    {
     "name": "stdout",
     "output_type": "stream",
     "text": [
      "-1.5707963267948966 -3.141592653589793 1.5707963267948966\n"
     ]
    },
    {
     "data": {
      "image/png": "[encoded data removed]",
      "text/latex": [
       "$$1.5707963267948966$$"
      ],
      "text/plain": [
       "1.5707963267948966"
      ]
     },
     "execution_count": 30,
     "metadata": {},
     "output_type": "execute_result"
    }
   ],
   "source": [
    "getAngleDiff(inputVector, ding)"
   ]
  },
  {
   "cell_type": "code",
   "execution_count": 23,
   "metadata": {},
   "outputs": [
    {
     "data": {
      "image/png": "[encoded data removed]",
      "text/plain": [
       "<Figure size 432x432 with 1 Axes>"
      ]
     },
     "metadata": {
      "needs_background": "light"
     },
     "output_type": "display_data"
    }
   ],
   "source": [
    "fig, ax = plt.subplots(figsize=(6,6))\n",
    "circle2 = plt.Circle((0,0), 1, color='r', fill=False)\n",
    "ax.add_artist(circle2)\n",
    "\n",
    "plt.plot(inputVector[0], inputVector[1],\"o\",label='Input')\n",
    "plt.plot(ding[0], ding[1],\"o\",label='Output')\n",
    "#plt.xlim(-7400,7400)\n",
    "#plt.ylim(-7400,7400)\n",
    "\n",
    "plt.xlim(-2,2)\n",
    "plt.ylim(-2,2)\n",
    "\n",
    "plt.grid()\n",
    "plt.legend()\n",
    "plt.show()"
   ]
  },
  {
   "cell_type": "code",
   "execution_count": 20,
   "metadata": {},
   "outputs": [
    {
     "name": "stdout",
     "output_type": "stream",
     "text": [
      "<class 'numpy.ndarray'>\n",
      "[[-0.44807362 -0.89399666]\n",
      " [ 0.89399666 -0.44807362]] [7124.72438757  729.75776887]\n",
      "[-3844.80203086  6042.49462916]\n",
      "[-2540.00000966 -6696.46503395]\n"
     ]
    }
   ],
   "source": [
    "a = np.array([[1, 0],\n",
    "              [0, 1]])\n",
    "b = np.array([1, 2])\n",
    "\n",
    "angle = 90\n",
    "inputVector = collCoords[0]\n",
    "a = np.array( [[np.cos(angle), -1*np.sin(angle)], [np.sin(angle), np.cos(angle)]] )\n",
    "b = np.array([ float(inputVector[0]), float(inputVector[1]) ])\n",
    "print(type(b))\n",
    "\n",
    "\n",
    "print(a,b)\n",
    "print( np.matmul(a, b) )\n",
    "\n",
    "print( np.matmul(b, a) )"
   ]
  },
  {
   "cell_type": "code",
   "execution_count": 31,
   "metadata": {},
   "outputs": [
    {
     "name": "stdout",
     "output_type": "stream",
     "text": [
      "[(7124.72438756620, 729.757768865398), (-4193.84801676271, 5805.67677470038), (-6534.91073139400, 2930.73126245166), (-7124.78465126226, -729.169166337738), (-5805.83131006461, -4193.63408025468), (728.614744422357, -7124.84137045944), (4193.54857659943, -5805.89306960616), (6534.79461423322, -2930.99016541995)]\n"
     ]
    }
   ],
   "source": [
    "print(collCoords)"
   ]
  },
  {
   "cell_type": "code",
   "execution_count": 44,
   "metadata": {},
   "outputs": [
    {
     "name": "stdout",
     "output_type": "stream",
     "text": [
      "1.46872617153418\n",
      "-0.625582298546407\n",
      "-1.1492129496693\n",
      "-1.67278386832826\n",
      "-2.19634177629354\n",
      "3.03968292770075\n",
      "2.51606193121564\n",
      "1.99241932271241\n"
     ]
    }
   ],
   "source": [
    "for x in collCoords:\n",
    "    anglei = np.arctan2(float(x[0]), float(x[1]))\n",
    "    print(anglei)\n",
    "    "
   ]
  },
  {
   "cell_type": "code",
   "execution_count": 42,
   "metadata": {},
   "outputs": [
    {
     "name": "stdout",
     "output_type": "stream",
     "text": [
      "0.0 1.46872617153418 -1.46872617153418\n",
      "[-0.10189301  0.99479536]\n",
      "0.0 -0.625582298546407 0.625582298546407\n",
      "[-0.81062228 -0.5855694 ]\n",
      "0.0 -1.1492129496693 1.1492129496693\n",
      "[-0.40920571 -0.91244216]\n",
      "0.0 -1.67278386832826 1.67278386832826\n",
      "[ 0.10181083 -0.99480378]\n",
      "0.0 -2.19634177629354 2.19634177629354\n",
      "[ 0.58553953 -0.81064386]\n",
      "0.0 3.03968292770075 -3.03968292770075\n",
      "[0.9948117  0.10173342]\n",
      "0.0 2.51606193121564 -2.51606193121564\n",
      "[0.81065248 0.58552759]\n",
      "0.0 1.99241932271241 -1.99241932271241\n",
      "[0.40924185 0.91242594]\n"
     ]
    }
   ],
   "source": [
    "initialVector = [0, 7162]\n",
    "directions = []\n",
    "for x in collCoords:\n",
    "    anglei = getAngleDiff( initialVector, [float(x[0]), float(x[1])] )\n",
    "    ding = rotate2D( inputVector, anglei )\n",
    "    directions.append( [ding[0], 0, ding[1]] )"
   ]
  },
  {
   "cell_type": "code",
   "execution_count": 48,
   "metadata": {},
   "outputs": [
    {
     "name": "stdout",
     "output_type": "stream",
     "text": [
      "[7124.72438756620, 0, 729.757768865398]\n",
      "[-0.10189301436266383, 0, 0.9947953626872664]\n",
      "\n",
      "[-4193.84801676271, 0, 5805.67677470038]\n",
      "[-0.8106222807456555, 0, -0.5855693963645229]\n",
      "\n",
      "[-6534.91073139400, 0, 2930.73126245166]\n",
      "[-0.40920570545261953, 0, -0.9124421574132927]\n",
      "\n",
      "[-7124.78465126226, 0, -729.169166337738]\n",
      "[0.10181083026218071, 0, -0.9948037770542115]\n",
      "\n",
      "[-5805.83131006461, 0, -4193.63408025468]\n",
      "[0.5855395253078298, 0, -0.8106438578699534]\n",
      "\n",
      "[728.614744422357, 0, -7124.84137045944]\n",
      "[0.9948116965176542, 0, 0.1017334186571289]\n",
      "\n",
      "[4193.54857659943, 0, -5805.89306960616]\n",
      "[0.8106524810955266, 0, 0.5855275867913201]\n",
      "\n",
      "[6534.79461423322, 0, -2930.99016541995]\n",
      "[0.40924185498742616, 0, 0.9124259444614946]\n",
      "\n"
     ]
    }
   ],
   "source": [
    "for loc, x in zip(collCoords, directions):\n",
    "    print([loc[0], 0, loc[1]])\n",
    "    print(x)\n",
    "    print()"
   ]
  },
  {
   "cell_type": "code",
   "execution_count": null,
   "metadata": {},
   "outputs": [],
   "source": []
  }
 ],
 "metadata": {
  "kernelspec": {
   "display_name": "Python 3",
   "language": "python",
   "name": "python3"
  },
  "language_info": {
   "codemirror_mode": {
    "name": "ipython",
    "version": 3
   },
   "file_extension": ".py",
   "mimetype": "text/x-python",
   "name": "python",
   "nbconvert_exporter": "python",
   "pygments_lexer": "ipython3",
   "version": "3.6.8"
  }
 },
 "nbformat": 4,
 "nbformat_minor": 2
}
