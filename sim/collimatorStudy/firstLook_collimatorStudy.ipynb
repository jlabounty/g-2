{
 "cells": [
  {
   "cell_type": "code",
   "execution_count": 1,
   "metadata": {},
   "outputs": [
    {
     "name": "stdout",
     "output_type": "stream",
     "text": [
      "Welcome to JupyROOT 6.12/06\n",
      "For interactive plots, run: setint()\n",
      "To return to non-interactive plots (default state), run: noint()\n"
     ]
    }
   ],
   "source": [
    "from standardInclude import *"
   ]
  },
  {
   "cell_type": "code",
   "execution_count": 12,
   "metadata": {},
   "outputs": [
    {
     "name": "stdout",
     "output_type": "stream",
     "text": [
      "TFile**\t\t./data/Trajectory.root\t\n",
      " TFile*\t\t./data/Trajectory.root\t\n",
      "  TDirectoryFile*\t\tTrajectoryAnalyzer\tTrajectoryAnalyzer (TrajectoryAnalyzer) folder\n",
      "   KEY: TH2F\tSpinZvsTime;1\tS_{z}/|S| vs time\n",
      "   KEY: TH2F\tSpinXvsTime;1\tS_{x}/|S| vs time\n",
      "   KEY: TH2F\tMomZvsTime;1\tP_{z}/|P| vs time\n",
      "   KEY: TH2F\tMomXvsTime;1\tP_{x}/|P| vs time\n",
      "   KEY: TH2F\tSpinMagvsTime;1\t|S| vs time\n",
      "   KEY: TH2F\tMomMagvsTime;1\t|P| vs time\n",
      "   KEY: TH2F\tRvsTime;1\tR vs time\n",
      "   KEY: TH2F\tThetaVsTime;1\t#omega_a\n",
      "   KEY: TH2F\tMomYvsTime;1\tP_{y} vs time\n",
      "   KEY: TH2F\tPphivsTime;1\tP_{#phi} vs time\n",
      "   KEY: TH2F\tPrhovsTime;1\tP_{#rho} vs time\n",
      "   KEY: TH2F\tcollimatorVsCalorimeter;1\tWhich Collimator is First Hit vs. Which Calorimeter is First Hit\n",
      "  KEY: TDirectoryFile\tTrajectoryAnalyzer;1\tTrajectoryAnalyzer (TrajectoryAnalyzer) folder\n",
      "  KEY: TDirectoryFile\tSimuTreeMaker;1\tSimuTreeMaker (SimuTreeMaker) folder\n"
     ]
    }
   ],
   "source": [
    "f = r.TFile(\"./data/Trajectory.root\")\n",
    "f.cd(\"TrajectoryAnalyzer\")\n",
    "#f.cd(\"SimuTreeMaker\")\n",
    "f.ls()"
   ]
  },
  {
   "cell_type": "code",
   "execution_count": 14,
   "metadata": {},
   "outputs": [
    {
     "data": {
      "image/png": "[encoded data removed]",
      "text/plain": [
       "<IPython.core.display.Image object>"
      ]
     },
     "metadata": {},
     "output_type": "display_data"
    }
   ],
   "source": [
    "c = r.TCanvas()\n",
    "collimatorVsCalorimeter = f.Get(\"TrajectoryAnalyzer\").Get(\"collimatorVsCalorimeter\").Clone()\n",
    "collimatorVsCalorimeter.Draw(\"colz\")\n",
    "c.SetLogz()\n",
    "c.Draw()"
   ]
  },
  {
   "cell_type": "code",
   "execution_count": 15,
   "metadata": {},
   "outputs": [
    {
     "data": {
      "image/png": "[encoded data removed]",
      "text/plain": [
       "<IPython.core.display.Image object>"
      ]
     },
     "metadata": {},
     "output_type": "display_data"
    }
   ],
   "source": [
    "c = r.TCanvas()\n",
    "collimatorVsCalorimeter.ProjectionY().Draw(\"colz\")\n",
    "c.SetLogz()\n",
    "c.Draw()"
   ]
  },
  {
   "cell_type": "code",
   "execution_count": 5,
   "metadata": {},
   "outputs": [
    {
     "name": "stdout",
     "output_type": "stream",
     "text": [
      "******************************************************************************\n",
      "*Tree    :gm2ringsimTree: gm2ringsimTree                                         *\n",
      "*Entries :     1000 : Total =          732358 bytes  File  Size =     365685 *\n",
      "*        :          : Tree compression factor =   1.96                       *\n",
      "******************************************************************************\n",
      "*Br    0 :runNum    : runNum/I                                               *\n",
      "*Entries :     1000 : Total  Size=       4572 bytes  File Size  =        138 *\n",
      "*Baskets :        1 : Basket Size=      32000 bytes  Compression=  29.59     *\n",
      "*............................................................................*\n",
      "*Br    1 :subRunNum : subRunNum/I                                            *\n",
      "*Entries :     1000 : Total  Size=       4587 bytes  File Size  =        141 *\n",
      "*Baskets :        1 : Basket Size=      32000 bytes  Compression=  28.98     *\n",
      "*............................................................................*\n",
      "*Br    2 :eventNum  : eventNum/I                                             *\n",
      "*Entries :     1000 : Total  Size=       4582 bytes  File Size  =       1529 *\n",
      "*Baskets :        1 : Basket Size=      32000 bytes  Compression=   2.67     *\n",
      "*............................................................................*\n",
      "*Br    3 :muDecay   : muDecayPx/F:muDecayPy:muDecayPz:muDecayX:muDecayY:     *\n",
      "*         | muDecayZ:muDecayPolx:muDecayPoly:muDecayPolz:muDecayT            *\n",
      "*Entries :     1000 : Total  Size=      41501 bytes  File Size  =      31485 *\n",
      "*Baskets :        2 : Basket Size=      32000 bytes  Compression=   1.28     *\n",
      "*............................................................................*\n",
      "*Br    4 :muDecayCyl : muDecayPr/F:muDecayPtheta:muDecayPyrel:muDecayR:      *\n",
      "*         | muDecayTheta:muDecayYrel:muDecayPolR:muDecayPolTheta:            *\n",
      "*         | muDecayPolYrel                                                   *\n",
      "*Entries :     1000 : Total  Size=      37484 bytes  File Size  =      25179 *\n",
      "*Baskets :        2 : Basket Size=      32000 bytes  Compression=   1.44     *\n",
      "*............................................................................*\n",
      "*Br    5 :muDecayRel : muDecayPolThetaRel/F:muDecayPolPhiRel                 *\n",
      "*Entries :     1000 : Total  Size=       8729 bytes  File Size  =       7394 *\n",
      "*Baskets :        1 : Basket Size=      32000 bytes  Compression=   1.09     *\n",
      "*............................................................................*\n",
      "*Br    6 :muDecayMomFrame : muDecayMomFramePolR/F:muDecayMomFramePolTheta:   *\n",
      "*         | muDecayMomFramePolYrel                                           *\n",
      "*Entries :     1000 : Total  Size=      12894 bytes  File Size  =        200 *\n",
      "*Baskets :        1 : Basket Size=      32000 bytes  Compression=  60.46     *\n",
      "*............................................................................*\n",
      "*Br    7 :eBirth    : eBirthPx/F:eBirthPy:eBirthPz:eBirthX:eBirthY:eBirthZ:  *\n",
      "*         | eBirthPolx:eBirthPoly:eBirthPolz:eBirthT                         *\n",
      "*Entries :     1000 : Total  Size=      41468 bytes  File Size  =      26157 *\n",
      "*Baskets :        2 : Basket Size=      32000 bytes  Compression=   1.54     *\n",
      "*............................................................................*\n",
      "*Br    8 :eBirthCyl : eBirthPr/F:eBirthPtheta:eBirthPyrel:eBirthR:           *\n",
      "*         | eBirthTheta:eBirthYrel:eBirthPolR:eBirthPolTheta:eBirthPolYrel   *\n",
      "*Entries :     1000 : Total  Size=      37454 bytes  File Size  =      24083 *\n",
      "*Baskets :        2 : Basket Size=      32000 bytes  Compression=   1.50     *\n",
      "*............................................................................*\n",
      "*Br    9 :eCaloPx   : vector<float>                                          *\n",
      "*Entries :     1000 : Total  Size=      20809 bytes  File Size  =      10381 *\n",
      "*Baskets :        1 : Basket Size=      32000 bytes  Compression=   1.96     *\n",
      "*............................................................................*\n",
      "*Br   10 :eCaloPy   : vector<float>                                          *\n",
      "*Entries :     1000 : Total  Size=      20809 bytes  File Size  =      10468 *\n",
      "*Baskets :        1 : Basket Size=      32000 bytes  Compression=   1.94     *\n",
      "*............................................................................*\n",
      "*Br   11 :eCaloPz   : vector<float>                                          *\n",
      "*Entries :     1000 : Total  Size=      20809 bytes  File Size  =      10290 *\n",
      "*Baskets :        1 : Basket Size=      32000 bytes  Compression=   1.97     *\n",
      "*............................................................................*\n",
      "*Br   12 :eCaloX    : vector<float>                                          *\n",
      "*Entries :     1000 : Total  Size=      20804 bytes  File Size  =      10035 *\n",
      "*Baskets :        1 : Basket Size=      32000 bytes  Compression=   2.02     *\n",
      "*............................................................................*\n",
      "*Br   13 :eCaloY    : vector<float>                                          *\n",
      "*Entries :     1000 : Total  Size=      20804 bytes  File Size  =      10407 *\n",
      "*Baskets :        1 : Basket Size=      32000 bytes  Compression=   1.95     *\n",
      "*............................................................................*\n",
      "*Br   14 :eCaloZ    : vector<float>                                          *\n",
      "*Entries :     1000 : Total  Size=      20804 bytes  File Size  =      10095 *\n",
      "*Baskets :        1 : Basket Size=      32000 bytes  Compression=   2.01     *\n",
      "*............................................................................*\n",
      "*Br   15 :eCaloPr   : vector<float>                                          *\n",
      "*Entries :     1000 : Total  Size=      20809 bytes  File Size  =      10173 *\n",
      "*Baskets :        1 : Basket Size=      32000 bytes  Compression=   2.00     *\n",
      "*............................................................................*\n",
      "*Br   16 :eCaloPtheta : vector<float>                                        *\n",
      "*Entries :     1000 : Total  Size=      20829 bytes  File Size  =       9704 *\n",
      "*Baskets :        1 : Basket Size=      32000 bytes  Compression=   2.09     *\n",
      "*............................................................................*\n",
      "*Br   17 :eCaloR    : vector<float>                                          *\n",
      "*Entries :     1000 : Total  Size=      20804 bytes  File Size  =       9285 *\n",
      "*Baskets :        1 : Basket Size=      32000 bytes  Compression=   2.19     *\n",
      "*............................................................................*\n",
      "*Br   18 :eCaloTheta : vector<float>                                         *\n",
      "*Entries :     1000 : Total  Size=      20824 bytes  File Size  =       9721 *\n",
      "*Baskets :        1 : Basket Size=      32000 bytes  Compression=   2.09     *\n",
      "*............................................................................*\n",
      "*Br   19 :eCaloYrel : vector<float>                                          *\n",
      "*Entries :     1000 : Total  Size=      20819 bytes  File Size  =      10397 *\n",
      "*Baskets :        1 : Basket Size=      32000 bytes  Compression=   1.95     *\n",
      "*............................................................................*\n",
      "*Br   20 :eCaloE    : vector<float>                                          *\n",
      "*Entries :     1000 : Total  Size=      20804 bytes  File Size  =       9736 *\n",
      "*Baskets :        1 : Basket Size=      32000 bytes  Compression=   2.09     *\n",
      "*............................................................................*\n",
      "*Br   21 :eCaloT    : vector<float>                                          *\n",
      "*Entries :     1000 : Total  Size=      20804 bytes  File Size  =       9864 *\n",
      "*Baskets :        1 : Basket Size=      32000 bytes  Compression=   2.06     *\n",
      "*............................................................................*\n",
      "*Br   22 :eCaloNum  : vector<int>                                            *\n",
      "*Entries :     1000 : Total  Size=      20814 bytes  File Size  =       5429 *\n",
      "*Baskets :        1 : Basket Size=      32000 bytes  Compression=   3.74     *\n",
      "*............................................................................*\n",
      "*Br   23 :eCaloFlag :                                                        *\n",
      "*         | Flag for number of calorimeters hit by this positron. 0, one calo; 1, two+ calos forwards; 2, two+ calos backwards; -1, no calos. /I*\n",
      "*Entries :     1000 : Total  Size=       4950 bytes  File Size  =        850 *\n",
      "*Baskets :        1 : Basket Size=      32000 bytes  Compression=   4.81     *\n",
      "*............................................................................*\n",
      "*Br   24 :eCaloFrameR : vector<float>                                        *\n",
      "*Entries :     1000 : Total  Size=      21893 bytes  File Size  =      10926 *\n",
      "*Baskets :        1 : Basket Size=      32000 bytes  Compression=   1.96     *\n",
      "*............................................................................*\n",
      "*Br   25 :eCaloFrameV : vector<float>                                        *\n",
      "*Entries :     1000 : Total  Size=      21893 bytes  File Size  =      11356 *\n",
      "*Baskets :        1 : Basket Size=      32000 bytes  Compression=   1.88     *\n",
      "*............................................................................*\n",
      "*Br   26 :eCaloFrameT : vector<float>                                        *\n",
      "*Entries :     1000 : Total  Size=      21893 bytes  File Size  =       5722 *\n",
      "*Baskets :        1 : Basket Size=      32000 bytes  Compression=   3.74     *\n",
      "*............................................................................*\n",
      "*Br   27 :eCaloFrameE : vector<float>                                        *\n",
      "*Entries :     1000 : Total  Size=      21893 bytes  File Size  =      10822 *\n",
      "*Baskets :        1 : Basket Size=      32000 bytes  Compression=   1.98     *\n",
      "*............................................................................*\n",
      "*Br   28 :eCaloFrameEdep : vector<float>                                     *\n",
      "*Entries :     1000 : Total  Size=      21908 bytes  File Size  =      11209 *\n",
      "*Baskets :        1 : Basket Size=      32000 bytes  Compression=   1.91     *\n",
      "*............................................................................*\n",
      "*Br   29 :eCaloFrameXtal : vector<float>                                     *\n",
      "*Entries :     1000 : Total  Size=      21908 bytes  File Size  =       7218 *\n",
      "*Baskets :        1 : Basket Size=      32000 bytes  Compression=   2.96     *\n",
      "*............................................................................*\n",
      "*Br   30 :eCaloFrameCaloNum : vector<float>                                  *\n",
      "*Entries :     1000 : Total  Size=      21923 bytes  File Size  =       6475 *\n",
      "*Baskets :        1 : Basket Size=      32000 bytes  Compression=   3.30     *\n",
      "*............................................................................*\n",
      "*Br   31 :eCaloFramePr : vector<float>                                       *\n",
      "*Entries :     1000 : Total  Size=      21898 bytes  File Size  =      11476 *\n",
      "*Baskets :        1 : Basket Size=      32000 bytes  Compression=   1.86     *\n",
      "*............................................................................*\n",
      "*Br   32 :eCaloFramePv : vector<float>                                       *\n",
      "*Entries :     1000 : Total  Size=      21898 bytes  File Size  =      11666 *\n",
      "*Baskets :        1 : Basket Size=      32000 bytes  Compression=   1.83     *\n",
      "*............................................................................*\n",
      "*Br   33 :eCaloFramePt : vector<float>                                       *\n",
      "*Entries :     1000 : Total  Size=      21898 bytes  File Size  =      10811 *\n",
      "*Baskets :        1 : Basket Size=      32000 bytes  Compression=   1.98     *\n",
      "*............................................................................*\n",
      "*Br   34 :eCaloFrameTime : vector<float>                                     *\n",
      "*Entries :     1000 : Total  Size=      21908 bytes  File Size  =      10985 *\n",
      "*Baskets :        1 : Basket Size=      32000 bytes  Compression=   1.95     *\n",
      "*............................................................................*\n"
     ]
    }
   ],
   "source": [
    "t = f.Get(\"SimuTreeMaker\").Get(\"gm2ringsimTree\")\n",
    "t.Print()"
   ]
  },
  {
   "cell_type": "code",
   "execution_count": 6,
   "metadata": {},
   "outputs": [
    {
     "data": {
      "image/png": "[encoded data removed]",
      "text/plain": [
       "<IPython.core.display.Image object>"
      ]
     },
     "metadata": {},
     "output_type": "display_data"
    }
   ],
   "source": [
    "c = r.TCanvas()\n",
    "t.Draw(\"eCaloFrameEdep\")\n",
    "c.Draw()"
   ]
  },
  {
   "cell_type": "code",
   "execution_count": 8,
   "metadata": {},
   "outputs": [
    {
     "data": {
      "image/png": "[encoded data removed]",
      "text/plain": [
       "<IPython.core.display.Image object>"
      ]
     },
     "metadata": {},
     "output_type": "display_data"
    }
   ],
   "source": [
    "c = r.TCanvas()\n",
    "t.Draw(\"eCaloFrameXtal\")\n",
    "c.Draw()"
   ]
  },
  {
   "cell_type": "code",
   "execution_count": 10,
   "metadata": {},
   "outputs": [
    {
     "data": {
      "image/png": "[encoded data removed]",
      "text/plain": [
       "<IPython.core.display.Image object>"
      ]
     },
     "metadata": {},
     "output_type": "display_data"
    }
   ],
   "source": [
    "c = r.TCanvas()\n",
    "t.Draw(\"eCaloNum\")\n",
    "c.Draw()"
   ]
  },
  {
   "cell_type": "code",
   "execution_count": 7,
   "metadata": {},
   "outputs": [
    {
     "data": {
      "image/png": "[encoded data removed]",
      "text/plain": [
       "<IPython.core.display.Image object>"
      ]
     },
     "metadata": {},
     "output_type": "display_data"
    }
   ],
   "source": [
    "c = r.TCanvas()\n",
    "t.Draw(\"eCaloFlag\")\n",
    "c.Draw()"
   ]
  },
  {
   "cell_type": "code",
   "execution_count": null,
   "metadata": {},
   "outputs": [],
   "source": []
  }
 ],
 "metadata": {
  "kernelspec": {
   "display_name": "Python 3",
   "language": "python",
   "name": "python3"
  },
  "language_info": {
   "codemirror_mode": {
    "name": "ipython",
    "version": 3
   },
   "file_extension": ".py",
   "mimetype": "text/x-python",
   "name": "python",
   "nbconvert_exporter": "python",
   "pygments_lexer": "ipython3",
   "version": "3.6.8"
  }
 },
 "nbformat": 4,
 "nbformat_minor": 2
}
