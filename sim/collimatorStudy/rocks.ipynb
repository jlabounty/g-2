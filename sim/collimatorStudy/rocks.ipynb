{
 "cells": [
  {
   "cell_type": "code",
   "execution_count": 131,
   "metadata": {},
   "outputs": [],
   "source": [
    "from standardInclude import *\n",
    "from py_th2 import *"
   ]
  },
  {
   "cell_type": "code",
   "execution_count": 132,
   "metadata": {},
   "outputs": [
    {
     "name": "stdout",
     "output_type": "stream",
     "text": [
      "./data/results_simuTreeMaker_collimator8_inner_bottom.root ./data/results_simuTreeMaker_collimator8_inner_bottom_processed.root\n",
      "TFile**\t\t./data/results_simuTreeMaker_collimator8_inner_bottom.root\t\n",
      " TFile*\t\t./data/results_simuTreeMaker_collimator8_inner_bottom.root\t\n",
      "  KEY: TDirectoryFile\tsimuTreeMaker;1\tsimuTreeMaker (SimuTreeMaker) folder\n",
      "  KEY: TDirectoryFile\ttrajectoryAnalyzer;1\ttrajectoryAnalyzer (TrajectoryAnalyzer) folder\n",
      "******************************************************************************\n",
      "*Tree    :gm2ringsimTree: gm2ringsimTree                                         *\n",
      "*Entries :    86000 : Total =        24897297 bytes  File  Size =   13222266 *\n",
      "*        :          : Tree compression factor =   1.88                       *\n",
      "******************************************************************************\n",
      "*Br    0 :muDecay   : muDecayPx/F:muDecayPy:muDecayPz:muDecayX:muDecayY:     *\n",
      "*         | muDecayZ:muDecayPolx:muDecayPoly:muDecayPolz:muDecayT            *\n",
      "*Entries :    86000 : Total  Size=    3459041 bytes  File Size  =    2718083 *\n",
      "*Baskets :      172 : Basket Size=      32000 bytes  Compression=   1.27     *\n",
      "*............................................................................*\n",
      "*Br    1 :eBirth    : eBirthPx/F:eBirthPy:eBirthPz:eBirthX:eBirthY:eBirthZ:  *\n",
      "*         | eBirthPolx:eBirthPoly:eBirthPolz:eBirthT                         *\n",
      "*Entries :    86000 : Total  Size=    3458838 bytes  File Size  =    2241574 *\n",
      "*Baskets :      172 : Basket Size=      32000 bytes  Compression=   1.54     *\n",
      "*............................................................................*\n",
      "*Br    2 :eCaloPx   : vector<float>                                          *\n",
      "*Entries :    86000 : Total  Size=    1797825 bytes  File Size  =     941003 *\n",
      "*Baskets :       86 : Basket Size=      32000 bytes  Compression=   1.91     *\n",
      "*............................................................................*\n",
      "*Br    3 :eCaloPy   : vector<float>                                          *\n",
      "*Entries :    86000 : Total  Size=    1797825 bytes  File Size  =     957353 *\n",
      "*Baskets :       86 : Basket Size=      32000 bytes  Compression=   1.88     *\n",
      "*............................................................................*\n",
      "*Br    4 :eCaloPz   : vector<float>                                          *\n",
      "*Entries :    86000 : Total  Size=    1797825 bytes  File Size  =     944543 *\n",
      "*Baskets :       86 : Basket Size=      32000 bytes  Compression=   1.90     *\n",
      "*............................................................................*\n",
      "*Br    5 :eCaloX    : vector<float>                                          *\n",
      "*Entries :    86000 : Total  Size=    1797735 bytes  File Size  =     917974 *\n",
      "*Baskets :       86 : Basket Size=      32000 bytes  Compression=   1.96     *\n",
      "*............................................................................*\n",
      "*Br    6 :eCaloY    : vector<float>                                          *\n",
      "*Entries :    86000 : Total  Size=    1797735 bytes  File Size  =     946729 *\n",
      "*Baskets :       86 : Basket Size=      32000 bytes  Compression=   1.90     *\n",
      "*............................................................................*\n",
      "*Br    7 :eCaloZ    : vector<float>                                          *\n",
      "*Entries :    86000 : Total  Size=    1797735 bytes  File Size  =     918360 *\n",
      "*Baskets :       86 : Basket Size=      32000 bytes  Compression=   1.96     *\n",
      "*............................................................................*\n",
      "*Br    8 :eCaloE    : vector<float>                                          *\n",
      "*Entries :    86000 : Total  Size=    1797735 bytes  File Size  =     885502 *\n",
      "*Baskets :       86 : Basket Size=      32000 bytes  Compression=   2.03     *\n",
      "*............................................................................*\n",
      "*Br    9 :eCaloT    : vector<float>                                          *\n",
      "*Entries :    86000 : Total  Size=    1797735 bytes  File Size  =     933871 *\n",
      "*Baskets :       86 : Basket Size=      32000 bytes  Compression=   1.92     *\n",
      "*............................................................................*\n",
      "*Br   10 :eCaloNum  : vector<int>                                            *\n",
      "*Entries :    86000 : Total  Size=    1797915 bytes  File Size  =     488428 *\n",
      "*Baskets :       86 : Basket Size=      32000 bytes  Compression=   3.68     *\n",
      "*............................................................................*\n",
      "*Br   11 :eCaloParticle : vector<int>                                        *\n",
      "*Entries :    86000 : Total  Size=    1798365 bytes  File Size  =     318143 *\n",
      "*Baskets :       86 : Basket Size=      32000 bytes  Compression=   5.65     *\n",
      "*............................................................................*\n"
     ]
    }
   ],
   "source": [
    "filename = \"./data/results_simuTreeMaker_collimator8_inner_bottom.root\"\n",
    "#filename = \"./data/results_simuTreeMaker_collimator8_inner_top.root\"\n",
    "#filename = \"./data/results_simuTreeMaker_collimator8_outer_bottom.root\"\n",
    "#filename = \"./data/results_simuTreeMaker_collimator8_outer_top.root\"\n",
    "\n",
    "outfile = filename.split(\".root\")[0]+\"_processed.root\"\n",
    "print(filename, outfile)\n",
    "f = r.TFile(filename)\n",
    "f.ls()\n",
    "t = f.Get(\"simuTreeMaker/gm2ringsimTree\")\n",
    "\n",
    "t.Print()"
   ]
  },
  {
   "cell_type": "code",
   "execution_count": 133,
   "metadata": {},
   "outputs": [
    {
     "name": "stdout",
     "output_type": "stream",
     "text": [
      "Number of muons: 86000\n"
     ]
    },
    {
     "data": {
      "image/png": "[encoded data removed]",
      "text/plain": [
       "<IPython.core.display.Image object>"
      ]
     },
     "metadata": {},
     "output_type": "display_data"
    }
   ],
   "source": [
    "c = r.TCanvas()\n",
    "numberOfMuons = t.Draw(\"@eCaloNum.size()\",\"\",\"\")\n",
    "print(\"Number of muons:\", numberOfMuons)\n",
    "c.SetLogy()\n",
    "c.Draw()"
   ]
  },
  {
   "cell_type": "code",
   "execution_count": 134,
   "metadata": {},
   "outputs": [
    {
     "data": {
      "image/png": "[encoded data removed]",
      "text/plain": [
       "<IPython.core.display.Image object>"
      ]
     },
     "metadata": {},
     "output_type": "display_data"
    }
   ],
   "source": [
    "c = r.TCanvas()\n",
    "h_col = f.Get(\"trajectoryAnalyzer/collimatorHits\").Clone()\n",
    "h_col.SetDirectory(0)\n",
    "h_col.Project3D(\"zy\").Draw(\"colz\")\n",
    "c.SetLogz()\n",
    "c.Draw()"
   ]
  },
  {
   "cell_type": "raw",
   "metadata": {},
   "source": [
    "h = pyTH2(None, 20, [0.,1.], 30, [0.,1.])"
   ]
  },
  {
   "cell_type": "raw",
   "metadata": {},
   "source": [
    "h.fill(0.5,0.5)\n",
    "h.fill(0.35,0.05)\n",
    "h.fill(0.335,0.15)\n",
    "h.fill(0.65,0.95)\n",
    "h.fill(0.85,0.5)\n",
    "h.fill(0.59,1.5)"
   ]
  },
  {
   "cell_type": "raw",
   "metadata": {},
   "source": [
    "plt.imshow(h.contents_overflow)"
   ]
  },
  {
   "cell_type": "raw",
   "metadata": {},
   "source": [
    "drawTH2(h)"
   ]
  },
  {
   "cell_type": "code",
   "execution_count": 135,
   "metadata": {},
   "outputs": [],
   "source": [
    "alltriples = []\n",
    "for triple in range(3):\n",
    "    calos = []\n",
    "    for i in range(24):\n",
    "        #calos.append( pyTH2(None, 60, [6500,7500], 60, [-200,200]) )\n",
    "        calos.append( r.TH2D(\"calo_\"+str(i+1)+\"_tripleHit_\"+str(triple+1), \n",
    "                             \"Calo \"+str(i+1)+\" Triple Hit \"+str(triple+1)+\" ; R [mm]; y [mm]\", \n",
    "                             60, 6500, 7500,\n",
    "                             60, -200,200) )\n",
    "    alltriples.append(calos)"
   ]
  },
  {
   "cell_type": "code",
   "execution_count": 136,
   "metadata": {},
   "outputs": [
    {
     "name": "stdout",
     "output_type": "stream",
     "text": [
      "[[<ROOT.TH2D object (\"calo_1_tripleHit_1\") at 0x7ff37af625c0>, <ROOT.TH2D object (\"calo_2_tripleHit_1\") at 0x7fffd21bf180>, <ROOT.TH2D object (\"calo_3_tripleHit_1\") at 0x7ff37d3ef5e0>, <ROOT.TH2D object (\"calo_4_tripleHit_1\") at 0x7fffd18f12e0>, <ROOT.TH2D object (\"calo_5_tripleHit_1\") at 0x7fffd2baff90>, <ROOT.TH2D object (\"calo_6_tripleHit_1\") at 0x7fffd18ee780>, <ROOT.TH2D object (\"calo_7_tripleHit_1\") at 0x7fffd2661350>, <ROOT.TH2D object (\"calo_8_tripleHit_1\") at 0x7fffd2bf2310>, <ROOT.TH2D object (\"calo_9_tripleHit_1\") at 0x7fffd269c130>, <ROOT.TH2D object (\"calo_10_tripleHit_1\") at 0x7fffd268f430>, <ROOT.TH2D object (\"calo_11_tripleHit_1\") at 0x7fffd2678cb0>, <ROOT.TH2D object (\"calo_12_tripleHit_1\") at 0x7fffd26a1aa0>, <ROOT.TH2D object (\"calo_13_tripleHit_1\") at 0x7fffd223a020>, <ROOT.TH2D object (\"calo_14_tripleHit_1\") at 0x7fffd2bf1dd0>, <ROOT.TH2D object (\"calo_15_tripleHit_1\") at 0x7fffd2bea280>, <ROOT.TH2D object (\"calo_16_tripleHit_1\") at 0x7fffd12418f0>, <ROOT.TH2D object (\"calo_17_tripleHit_1\") at 0x7fffd123d680>, <ROOT.TH2D object (\"calo_18_tripleHit_1\") at 0x7fffd2987860>, <ROOT.TH2D object (\"calo_19_tripleHit_1\") at 0x7fffd21fa680>, <ROOT.TH2D object (\"calo_20_tripleHit_1\") at 0x7fffd18f1ad0>, <ROOT.TH2D object (\"calo_21_tripleHit_1\") at 0x7fffd28f0780>, <ROOT.TH2D object (\"calo_22_tripleHit_1\") at 0x7fffd2bec270>, <ROOT.TH2D object (\"calo_23_tripleHit_1\") at 0x7fffd2239110>, <ROOT.TH2D object (\"calo_24_tripleHit_1\") at 0x7fffd1241390>], [<ROOT.TH2D object (\"calo_1_tripleHit_2\") at 0x7fffd18f2460>, <ROOT.TH2D object (\"calo_2_tripleHit_2\") at 0x7fffd123cce0>, <ROOT.TH2D object (\"calo_3_tripleHit_2\") at 0x7fffd286e630>, <ROOT.TH2D object (\"calo_4_tripleHit_2\") at 0x7ff3792a2230>, <ROOT.TH2D object (\"calo_5_tripleHit_2\") at 0x7ff37dbb5fb0>, <ROOT.TH2D object (\"calo_6_tripleHit_2\") at 0x7fffd2beac10>, <ROOT.TH2D object (\"calo_7_tripleHit_2\") at 0x7ff37dbaaac0>, <ROOT.TH2D object (\"calo_8_tripleHit_2\") at 0x7ff37dbb4680>, <ROOT.TH2D object (\"calo_9_tripleHit_2\") at 0x7fffd2979bd0>, <ROOT.TH2D object (\"calo_10_tripleHit_2\") at 0x7fffd1240c20>, <ROOT.TH2D object (\"calo_11_tripleHit_2\") at 0x7fffd26a1200>, <ROOT.TH2D object (\"calo_12_tripleHit_2\") at 0x7fffd2871a30>, <ROOT.TH2D object (\"calo_13_tripleHit_2\") at 0x7fffd18ef210>, <ROOT.TH2D object (\"calo_14_tripleHit_2\") at 0x7fffd26910a0>, <ROOT.TH2D object (\"calo_15_tripleHit_2\") at 0x7fffd2693ab0>, <ROOT.TH2D object (\"calo_16_tripleHit_2\") at 0x7fffd2693ec0>, <ROOT.TH2D object (\"calo_17_tripleHit_2\") at 0x7ff3792a3ff0>, <ROOT.TH2D object (\"calo_18_tripleHit_2\") at 0x7ff3792a4400>, <ROOT.TH2D object (\"calo_19_tripleHit_2\") at 0x7fffd2697910>, <ROOT.TH2D object (\"calo_20_tripleHit_2\") at 0x7fffd2697d20>, <ROOT.TH2D object (\"calo_21_tripleHit_2\") at 0x7fffd2c01870>, <ROOT.TH2D object (\"calo_22_tripleHit_2\") at 0x7fffd2c01c80>, <ROOT.TH2D object (\"calo_23_tripleHit_2\") at 0x7fffd2becd60>, <ROOT.TH2D object (\"calo_24_tripleHit_2\") at 0x7fffd2bed170>], [<ROOT.TH2D object (\"calo_1_tripleHit_3\") at 0x7fffd22452b0>, <ROOT.TH2D object (\"calo_2_tripleHit_3\") at 0x7fffd22456c0>, <ROOT.TH2D object (\"calo_3_tripleHit_3\") at 0x7fffd2baf0c0>, <ROOT.TH2D object (\"calo_4_tripleHit_3\") at 0x7fffd2baf4d0>, <ROOT.TH2D object (\"calo_5_tripleHit_3\") at 0x7fffd26a0600>, <ROOT.TH2D object (\"calo_6_tripleHit_3\") at 0x7fffd26a0a10>, <ROOT.TH2D object (\"calo_7_tripleHit_3\") at 0x7fffd2ba3ae0>, <ROOT.TH2D object (\"calo_8_tripleHit_3\") at 0x7fffd2ba3ef0>, <ROOT.TH2D object (\"calo_9_tripleHit_3\") at 0x7fffd2beda70>, <ROOT.TH2D object (\"calo_10_tripleHit_3\") at 0x7fffd2bede80>, <ROOT.TH2D object (\"calo_11_tripleHit_3\") at 0x7fffd18ea9f0>, <ROOT.TH2D object (\"calo_12_tripleHit_3\") at 0x7fffd18eae00>, <ROOT.TH2D object (\"calo_13_tripleHit_3\") at 0x7fffd2681230>, <ROOT.TH2D object (\"calo_14_tripleHit_3\") at 0x7fffd18ede50>, <ROOT.TH2D object (\"calo_15_tripleHit_3\") at 0x7fffd2690480>, <ROOT.TH2D object (\"calo_16_tripleHit_3\") at 0x7fffd2690890>, <ROOT.TH2D object (\"calo_17_tripleHit_3\") at 0x7fffd269cce0>, <ROOT.TH2D object (\"calo_18_tripleHit_3\") at 0x7fffd2bf3f40>, <ROOT.TH2D object (\"calo_19_tripleHit_3\") at 0x7fffd2bf43a0>, <ROOT.TH2D object (\"calo_20_tripleHit_3\") at 0x7fffd23f95e0>, <ROOT.TH2D object (\"calo_21_tripleHit_3\") at 0x7fffd269b550>, <ROOT.TH2D object (\"calo_22_tripleHit_3\") at 0x7fffd0e0e070>, <ROOT.TH2D object (\"calo_23_tripleHit_3\") at 0x7fffd0e0e480>, <ROOT.TH2D object (\"calo_24_tripleHit_3\") at 0x7fffd2bac680>]]\n"
     ]
    }
   ],
   "source": [
    "print(alltriples)"
   ]
  },
  {
   "cell_type": "code",
   "execution_count": 137,
   "metadata": {},
   "outputs": [
    {
     "name": "stdout",
     "output_type": "stream",
     "text": [
      "CPU times: user 3.22 s, sys: 1.97 s, total: 5.19 s\n",
      "Wall time: 5.79 s\n"
     ]
    }
   ],
   "source": [
    "%%time\n",
    "\n",
    "for i, e in enumerate(t):\n",
    "    #if((e.eCaloNum.size() < 3) or (e.eCaloNum.size() > 10)):\n",
    "    if((e.eCaloNum.size() < 3)):\n",
    "        continue\n",
    "    if(False):\n",
    "        print([x for x in e.eCaloNum])\n",
    "        print([x for x in e.eCaloY])\n",
    "        print([math.sqrt(x**2 + y**2) for (x,y) in zip(e.eCaloZ, e.eCaloX)])\n",
    "        print([x for x in e.eCaloE])\n",
    "    #firstcalo = e.eCaloNum[0]\n",
    "    #ri = np.sqrt(e.eCaloX[0]**2 + e.eCaloZ[0]**2)\n",
    "    #yi = e.eCaloY[0]\n",
    "    calos = [x for x in e.eCaloNum]\n",
    "    rs = [math.sqrt(x**2 + y**2) for (x,y) in zip(e.eCaloZ, e.eCaloX)]\n",
    "    ys = [x for x in e.eCaloY]\n",
    "    \n",
    "    for triple in range(3):\n",
    "        alltriples[triple][calos[triple] - 1].Fill( rs[triple], ys[triple] )\n",
    "    \n",
    "    #calos[firstcalo-1].fill( ri, yi  )\n",
    "    #calos[firstcalo-1].Fill( ri, yi  )\n",
    "    #if(i > 10):\n",
    "    #    break"
   ]
  },
  {
   "cell_type": "code",
   "execution_count": 138,
   "metadata": {},
   "outputs": [],
   "source": [
    "for x in alltriples:\n",
    "    for y in x:\n",
    "        y.Scale(1./numberOfMuons)"
   ]
  },
  {
   "cell_type": "code",
   "execution_count": 139,
   "metadata": {},
   "outputs": [
    {
     "data": {
      "image/png": "[encoded data removed]",
      "text/plain": [
       "<IPython.core.display.Image object>"
      ]
     },
     "metadata": {},
     "output_type": "display_data"
    }
   ],
   "source": [
    "c = r.TCanvas()\n",
    "alltriples[2][4].Draw(\"colz\")\n",
    "c.Draw()"
   ]
  },
  {
   "cell_type": "code",
   "execution_count": 140,
   "metadata": {},
   "outputs": [],
   "source": [
    "fout = r.TFile(outfile,\"RECREATE\")\n",
    "fout.cd()\n",
    "h_col.Write()\n",
    "for calos in alltriples:\n",
    "    for h in calos:\n",
    "        h.Write()\n",
    "fout.Write()\n",
    "fout.Close()"
   ]
  },
  {
   "cell_type": "code",
   "execution_count": null,
   "metadata": {},
   "outputs": [],
   "source": []
  },
  {
   "cell_type": "code",
   "execution_count": null,
   "metadata": {},
   "outputs": [],
   "source": []
  },
  {
   "cell_type": "code",
   "execution_count": null,
   "metadata": {},
   "outputs": [],
   "source": []
  },
  {
   "cell_type": "code",
   "execution_count": null,
   "metadata": {},
   "outputs": [],
   "source": []
  },
  {
   "cell_type": "code",
   "execution_count": null,
   "metadata": {},
   "outputs": [],
   "source": []
  },
  {
   "cell_type": "code",
   "execution_count": null,
   "metadata": {},
   "outputs": [],
   "source": []
  },
  {
   "cell_type": "code",
   "execution_count": null,
   "metadata": {},
   "outputs": [],
   "source": []
  },
  {
   "cell_type": "code",
   "execution_count": null,
   "metadata": {},
   "outputs": [],
   "source": []
  },
  {
   "cell_type": "code",
   "execution_count": null,
   "metadata": {},
   "outputs": [],
   "source": []
  },
  {
   "cell_type": "code",
   "execution_count": null,
   "metadata": {},
   "outputs": [],
   "source": []
  },
  {
   "cell_type": "code",
   "execution_count": null,
   "metadata": {},
   "outputs": [],
   "source": []
  },
  {
   "cell_type": "code",
   "execution_count": null,
   "metadata": {},
   "outputs": [],
   "source": []
  },
  {
   "cell_type": "code",
   "execution_count": null,
   "metadata": {},
   "outputs": [],
   "source": []
  }
 ],
 "metadata": {
  "kernelspec": {
   "display_name": "Python 3",
   "language": "python",
   "name": "python3"
  },
  "language_info": {
   "codemirror_mode": {
    "name": "ipython",
    "version": 3
   },
   "file_extension": ".py",
   "mimetype": "text/x-python",
   "name": "python",
   "nbconvert_exporter": "python",
   "pygments_lexer": "ipython3",
   "version": "3.6.8"
  }
 },
 "nbformat": 4,
 "nbformat_minor": 4
}
