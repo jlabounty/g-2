{
 "cells": [
  {
   "cell_type": "code",
   "execution_count": 1,
   "metadata": {},
   "outputs": [
    {
     "name": "stdout",
     "output_type": "stream",
     "text": [
      "Welcome to JupyROOT 6.12/06\n",
      "For interactive plots, run: setint()\n",
      "To return to non-interactive plots (default state), run: noint()\n"
     ]
    }
   ],
   "source": [
    "from standardInclude import *"
   ]
  },
  {
   "cell_type": "code",
   "execution_count": 5,
   "metadata": {},
   "outputs": [
    {
     "name": "stdout",
     "output_type": "stream",
     "text": [
      "TFile**\t\t./data/gm2offline_ana.root\t\n",
      " TFile*\t\t./data/gm2offline_ana.root\t\n",
      "  KEY: TDirectoryFile\tclustersAndCoincidences;1\tclustersAndCoincidences (ClusterAndCoincidenceHistograms) folder\n",
      "  KEY: TDirectoryFile\tclustersAndCoincidencesTrunc;1\tclustersAndCoincidencesTrunc (ClusterAndCoincidenceHistograms) folder\n",
      "  KEY: TDirectoryFile\tfarline;1\tfarline (CaloFarlineHistograms) folder\n",
      "  KEY: TDirectoryFile\tfarlineTrunc;1\tfarlineTrunc (CaloFarlineHistograms) folder\n",
      "  KEY: TDirectoryFile\tclusterCompare;1\tclusterCompare (ReconComparisonTruncatedVsFull) folder\n"
     ]
    }
   ],
   "source": [
    "f = r.TFile(\"./data/gm2offline_ana.root\")\n",
    "#f = r.TFile(\"./data/gm2offline_ana_onlyAboveThresholdClusters.root\")\n",
    "#f = r.TFile(\"./data/results_9files_truncationComparison.root\")\n",
    "#f = r.TFile(\"./data/gm2offline_ana_sameClustering.root\")\n",
    "#f = r.TFile(\"./data/results_10MissingOutputFiles_9day_histOnly.root\")\n",
    "f.ls()"
   ]
  },
  {
   "cell_type": "code",
   "execution_count": 6,
   "metadata": {},
   "outputs": [
    {
     "name": "stdout",
     "output_type": "stream",
     "text": [
      "******************************************************************************\n",
      "*Tree    :evwTree   : evwTree                                                *\n",
      "*Entries :   190712 : Total =       118800676 bytes  File  Size =   58935142 *\n",
      "*        :          : Tree compression factor =   2.02                       *\n",
      "******************************************************************************\n",
      "*Br    0 :runNum    : runNum/i                                               *\n",
      "*Entries :   190712 : Total  Size=     764501 bytes  File Size  =       5274 *\n",
      "*Baskets :       14 : Basket Size=    1164288 bytes  Compression= 144.84     *\n",
      "*............................................................................*\n",
      "*Br    1 :subRunNum : subRunNum/i                                            *\n",
      "*Entries :   190712 : Total  Size=     764555 bytes  File Size  =       5316 *\n",
      "*Baskets :       14 : Basket Size=    1164288 bytes  Compression= 143.71     *\n",
      "*............................................................................*\n",
      "*Br    2 :fillNum   : fillNum/I                                              *\n",
      "*Entries :   190712 : Total  Size=     764519 bytes  File Size  =       5751 *\n",
      "*Baskets :       14 : Basket Size=    1164288 bytes  Compression= 132.83     *\n",
      "*............................................................................*\n",
      "*Br    3 :islandNum : islandNum/I                                            *\n",
      "*Entries :   190712 : Total  Size=     764555 bytes  File Size  =     113930 *\n",
      "*Baskets :       14 : Basket Size=    1164288 bytes  Compression=   6.71     *\n",
      "*............................................................................*\n",
      "*Br    4 :caloNum   : caloNum/I                                              *\n",
      "*Entries :   190712 : Total  Size=     764519 bytes  File Size  =      13922 *\n",
      "*Baskets :       14 : Basket Size=    1164288 bytes  Compression=  54.87     *\n",
      "*............................................................................*\n",
      "*Br    5 :timesTrunc : vector<double>                                        *\n",
      "*Entries :   190712 : Total  Size=    4242505 bytes  File Size  =    2078283 *\n",
      "*Baskets :       80 : Basket Size=    2964992 bytes  Compression=   2.04     *\n",
      "*............................................................................*\n",
      "*Br    6 :timeTruncMaxEnergy : timeTruncMaxEnergy/D                          *\n",
      "*Entries :   190712 : Total  Size=    1528869 bytes  File Size  =    1455592 *\n",
      "*Baskets :       26 : Basket Size=    1559552 bytes  Compression=   1.05     *\n",
      "*............................................................................*\n",
      "*Br    7 :timesFull : vector<double>                                         *\n",
      "*Entries :   190712 : Total  Size=    4250413 bytes  File Size  =    2091407 *\n",
      "*Baskets :       80 : Basket Size=    2969088 bytes  Compression=   2.03     *\n",
      "*............................................................................*\n",
      "*Br    8 :timeFullMaxEnergy : timeFullMaxEnergy/D                            *\n",
      "*Entries :   190712 : Total  Size=    1528839 bytes  File Size  =    1457657 *\n",
      "*Baskets :       26 : Basket Size=    1559552 bytes  Compression=   1.05     *\n",
      "*............................................................................*\n",
      "*Br    9 :positionsTrunc : Int_t positionsTrunc_                             *\n",
      "*Entries :   190712 : Total  Size=    1538932 bytes  File Size  =     270648 *\n",
      "*Baskets :       73 : Basket Size=      32000 bytes  Compression=   5.66     *\n",
      "*............................................................................*\n",
      "*Br   10 :positionsTrunc.first : Double_t first[positionsTrunc_]             *\n",
      "*Entries :   190712 : Total  Size=    2332779 bytes  File Size  =    1523465 *\n",
      "*Baskets :       50 : Basket Size=    1976832 bytes  Compression=   1.53     *\n",
      "*............................................................................*\n",
      "*Br   11 :positionsTrunc.second : Double_t second[positionsTrunc_]           *\n",
      "*Entries :   190712 : Total  Size=    2332833 bytes  File Size  =    1449323 *\n",
      "*Baskets :       50 : Basket Size=    1976832 bytes  Compression=   1.61     *\n",
      "*............................................................................*\n",
      "*Branch  :positionTruncMaxEnergy                                             *\n",
      "*Entries :   190712 : BranchElement (see below)                              *\n",
      "*............................................................................*\n",
      "*Br   12 :first     : Double_t                                               *\n",
      "*Entries :   190712 : Total  Size=    1528475 bytes  File Size  =    1222786 *\n",
      "*Baskets :       26 : Basket Size=    1559552 bytes  Compression=   1.25     *\n",
      "*............................................................................*\n",
      "*Br   13 :second    : Double_t                                               *\n",
      "*Entries :   190712 : Total  Size=    1528505 bytes  File Size  =    1154895 *\n",
      "*Baskets :       26 : Basket Size=    1559552 bytes  Compression=   1.32     *\n",
      "*............................................................................*\n",
      "*Br   14 :energyFullMinEnergy : energyFullMinEnergy/D                        *\n",
      "*Entries :   190712 : Total  Size=    1528899 bytes  File Size  =    1452201 *\n",
      "*Baskets :       26 : Basket Size=    1560064 bytes  Compression=   1.05     *\n",
      "*............................................................................*\n",
      "*Br   15 :energyTruncTotalEnergy : energyTruncTotalEnergy/D                  *\n",
      "*Entries :   190712 : Total  Size=    1528989 bytes  File Size  =    1450057 *\n",
      "*Baskets :       26 : Basket Size=    1560064 bytes  Compression=   1.05     *\n",
      "*............................................................................*\n",
      "*Br   16 :energyFullTotalEnergy : energyFullTotalEnergy/D                    *\n",
      "*Entries :   190712 : Total  Size=    1528959 bytes  File Size  =    1452259 *\n",
      "*Baskets :       26 : Basket Size=    1560064 bytes  Compression=   1.05     *\n",
      "*............................................................................*\n",
      "*Br   17 :positionsFull : Int_t positionsFull_                               *\n",
      "*Entries :   190712 : Total  Size=    1538845 bytes  File Size  =     269642 *\n",
      "*Baskets :       73 : Basket Size=      32000 bytes  Compression=   5.68     *\n",
      "*............................................................................*\n",
      "*Br   18 :positionsFull.first : Double_t first[positionsFull_]               *\n",
      "*Entries :   190712 : Total  Size=    2340715 bytes  File Size  =    1537801 *\n",
      "*Baskets :       50 : Basket Size=    1980928 bytes  Compression=   1.52     *\n",
      "*............................................................................*\n",
      "*Br   19 :positionsFull.second : Double_t second[positionsFull_]             *\n",
      "*Entries :   190712 : Total  Size=    2340769 bytes  File Size  =    1461297 *\n",
      "*Baskets :       50 : Basket Size=    1980928 bytes  Compression=   1.60     *\n",
      "*............................................................................*\n",
      "*Branch  :positionFullMaxEnergy                                              *\n",
      "*Entries :   190712 : BranchElement (see below)                              *\n",
      "*............................................................................*\n",
      "*Br   20 :first     : Double_t                                               *\n",
      "*Entries :   190712 : Total  Size=    1528475 bytes  File Size  =    1234418 *\n",
      "*Baskets :       26 : Basket Size=    1559552 bytes  Compression=   1.24     *\n",
      "*............................................................................*\n",
      "*Br   21 :second    : Double_t                                               *\n",
      "*Entries :   190712 : Total  Size=    1528505 bytes  File Size  =    1163852 *\n",
      "*Baskets :       26 : Basket Size=    1559552 bytes  Compression=   1.31     *\n",
      "*............................................................................*\n",
      "*Br   22 :energiesTrunc : vector<double>                                     *\n",
      "*Entries :   190712 : Total  Size=    4242757 bytes  File Size  =    2072517 *\n",
      "*Baskets :       80 : Basket Size=    2965504 bytes  Compression=   2.05     *\n",
      "*............................................................................*\n",
      "*Br   23 :energiesTruncUncalib : vector<double>                              *\n",
      "*Entries :   190712 : Total  Size=    8373063 bytes  File Size  =    6389242 *\n",
      "*Baskets :      145 : Basket Size=    5100032 bytes  Compression=   1.31     *\n",
      "*............................................................................*\n",
      "*Br   24 :energyTruncMaxEnergy : energyTruncMaxEnergy/D                      *\n",
      "*Entries :   190712 : Total  Size=    1528929 bytes  File Size  =    1449922 *\n",
      "*Baskets :       26 : Basket Size=    1560064 bytes  Compression=   1.05     *\n",
      "*............................................................................*\n",
      "*Br   25 :energyTruncMinEnergy : energyTruncMinEnergy/D                      *\n",
      "*Entries :   190712 : Total  Size=    1528929 bytes  File Size  =    1449960 *\n",
      "*Baskets :       26 : Basket Size=    1560064 bytes  Compression=   1.05     *\n",
      "*............................................................................*\n",
      "*Br   26 :energyTruncTotalEnergy : energyTruncTotalEnergy/D                  *\n",
      "*Entries :   190712 : Total  Size=    1528989 bytes  File Size  =    1450057 *\n",
      "*Baskets :       26 : Basket Size=    1560064 bytes  Compression=   1.05     *\n",
      "*............................................................................*\n",
      "*Br   27 :energiesFull : vector<double>                                      *\n",
      "*Entries :   190712 : Total  Size=    4250665 bytes  File Size  =    2083292 *\n",
      "*Baskets :       80 : Basket Size=    2969600 bytes  Compression=   2.04     *\n",
      "*............................................................................*\n",
      "*Br   28 :energiesFullUncalib : vector<double>                               *\n",
      "*Entries :   190712 : Total  Size=    8456884 bytes  File Size  =    6471747 *\n",
      "*Baskets :      147 : Basket Size=    5143040 bytes  Compression=   1.31     *\n",
      "*............................................................................*\n",
      "*Br   29 :energyFullMaxEnergy : energyFullMaxEnergy/D                        *\n",
      "*Entries :   190712 : Total  Size=    1528899 bytes  File Size  =    1452116 *\n",
      "*Baskets :       26 : Basket Size=    1560064 bytes  Compression=   1.05     *\n",
      "*............................................................................*\n",
      "*Br   30 :crystalsTrunc : vector<vector<int> >                               *\n",
      "*Entries :   190712 : Total  Size=    6307444 bytes  File Size  =    1884967 *\n",
      "*Baskets :      113 : Basket Size=    4032000 bytes  Compression=   3.34     *\n",
      "*............................................................................*\n",
      "*Br   31 :crystalsFull : vector<vector<int> >                                *\n",
      "*Entries :   190712 : Total  Size=    6353301 bytes  File Size  =    1901934 *\n",
      "*Baskets :      114 : Basket Size=    4055552 bytes  Compression=   3.34     *\n",
      "*............................................................................*\n",
      "*Br   32 :crystalsTruncMaxEnergy : vector<int>                               *\n",
      "*Entries :   190712 : Total  Size=    5488165 bytes  File Size  =    1790834 *\n",
      "*Baskets :      100 : Basket Size=    3608064 bytes  Compression=   3.06     *\n",
      "*............................................................................*\n",
      "*Br   33 :crystalsFullMaxEnergy : vector<int>                                *\n",
      "*Entries :   190712 : Total  Size=    5510905 bytes  File Size  =    1807044 *\n",
      "*Baskets :      100 : Basket Size=    3619840 bytes  Compression=   3.05     *\n",
      "*............................................................................*\n",
      "*Br   34 :numberOfCrystalsFull : vector<double>                              *\n",
      "*Entries :   190712 : Total  Size=    4251455 bytes  File Size  =     698601 *\n",
      "*Baskets :       81 : Basket Size=    2970112 bytes  Compression=   6.08     *\n",
      "*............................................................................*\n",
      "*Br   35 :numberOfCrystalsTrunc : vector<double>                             *\n",
      "*Entries :   190712 : Total  Size=    4243429 bytes  File Size  =     694384 *\n",
      "*Baskets :       80 : Basket Size=    2966016 bytes  Compression=   6.11     *\n",
      "*............................................................................*\n",
      "*Br   36 :chiSqTrunc : vector<double>                                        *\n",
      "*Entries :   190712 : Total  Size=    4242505 bytes  File Size  =    2064542 *\n",
      "*Baskets :       80 : Basket Size=    2964992 bytes  Compression=   2.05     *\n",
      "*............................................................................*\n",
      "*Br   37 :chiSqFull : vector<double>                                         *\n",
      "*Entries :   190712 : Total  Size=    4250413 bytes  File Size  =    2076738 *\n",
      "*Baskets :       80 : Basket Size=    2969088 bytes  Compression=   2.05     *\n",
      "*............................................................................*\n",
      "*Br   38 :maxEnergyIndexFull : maxEnergyIndexFull/I                          *\n",
      "*Entries :   190712 : Total  Size=     764717 bytes  File Size  =      14426 *\n",
      "*Baskets :       14 : Basket Size=    1164288 bytes  Compression=  52.97     *\n",
      "*............................................................................*\n",
      "*Br   39 :maxEnergyIndexTrunc : maxEnergyIndexTrunc/I                        *\n",
      "*Entries :   190712 : Total  Size=     764735 bytes  File Size  =      16025 *\n",
      "*Baskets :       14 : Basket Size=    1164288 bytes  Compression=  47.68     *\n",
      "*............................................................................*\n",
      "*Br   40 :numberOfClustersFull : numberOfClustersFull/D                      *\n",
      "*Entries :   190712 : Total  Size=    1528929 bytes  File Size  =      31800 *\n",
      "*Baskets :       26 : Basket Size=    1560064 bytes  Compression=  48.05     *\n",
      "*............................................................................*\n",
      "*Br   41 :numberOfClustersTrunc : numberOfClustersTrunc/D                    *\n",
      "*Entries :   190712 : Total  Size=    1528959 bytes  File Size  =      33195 *\n",
      "*Baskets :       26 : Basket Size=    1560064 bytes  Compression=  46.03     *\n",
      "*............................................................................*\n",
      "*Br   42 :numberOfClustersFullAboveEnergyThreshold :                         *\n",
      "*         | numberOfClustersFullAboveEnergyThreshold/D                       *\n",
      "*Entries :   190712 : Total  Size=    1529529 bytes  File Size  =      92980 *\n",
      "*Baskets :       26 : Basket Size=    1560576 bytes  Compression=  16.44     *\n",
      "*............................................................................*\n",
      "*Br   43 :numberOfClustersTruncAboveEnergyThreshold :                        *\n",
      "*         | numberOfClustersTruncAboveEnergyThreshold/D                      *\n",
      "*Entries :   190712 : Total  Size=    1529559 bytes  File Size  =      94347 *\n",
      "*Baskets :       26 : Basket Size=    1560576 bytes  Compression=  16.20     *\n",
      "*............................................................................*\n",
      "*Br   44 :hasPileupCrystalFull : hasPileupCrystalFull/O                      *\n",
      "*Entries :   190712 : Total  Size=     191701 bytes  File Size  =       1624 *\n",
      "*Baskets :        5 : Basket Size=     867840 bytes  Compression= 117.71     *\n",
      "*............................................................................*\n",
      "*Br   45 :hasNoiseClusterFull : hasNoiseClusterFull/O                        *\n",
      "*Entries :   190712 : Total  Size=     191692 bytes  File Size  =       8757 *\n",
      "*Baskets :        5 : Basket Size=     867840 bytes  Compression=  21.83     *\n",
      "*............................................................................*\n",
      "*Br   46 :hasNoiseClusterTrunc : hasNoiseClusterTrunc/O                      *\n",
      "*Entries :   190712 : Total  Size=     191701 bytes  File Size  =       7868 *\n",
      "*Baskets :        5 : Basket Size=     867840 bytes  Compression=  24.30     *\n",
      "*............................................................................*\n"
     ]
    }
   ],
   "source": [
    "t = f.Get(\"clusterCompare\").Get(\"evwTree\")\n",
    "t.Print()"
   ]
  },
  {
   "cell_type": "code",
   "execution_count": 7,
   "metadata": {},
   "outputs": [
    {
     "data": {
      "image/png": "[encoded data removed]",
      "text/plain": [
       "<IPython.core.display.Image object>"
      ]
     },
     "metadata": {},
     "output_type": "display_data"
    }
   ],
   "source": [
    "c = r.TCanvas()\n",
    "t.Draw(\"energyFullTotalEnergy:energyTruncTotalEnergy>>hist(600,0,6000,600,0,6000)\",\"\",\"colz\")\n",
    "c.Draw()"
   ]
  },
  {
   "cell_type": "code",
   "execution_count": 22,
   "metadata": {},
   "outputs": [
    {
     "data": {
      "image/png": "[encoded data removed]",
      "text/plain": [
       "<IPython.core.display.Image object>"
      ]
     },
     "metadata": {},
     "output_type": "display_data"
    }
   ],
   "source": [
    "c = r.TCanvas()\n",
    "t.Draw(\"energyFullTotalEnergy>>hist(600,0,1000)\",\"energyTruncTotalEnergy == 0\",\"colz\")\n",
    "c.SetLogy()\n",
    "c.Draw()"
   ]
  },
  {
   "cell_type": "code",
   "execution_count": 25,
   "metadata": {},
   "outputs": [
    {
     "data": {
      "image/png": "[encoded data removed]",
      "text/plain": [
       "<IPython.core.display.Image object>"
      ]
     },
     "metadata": {},
     "output_type": "display_data"
    }
   ],
   "source": [
    "c = r.TCanvas()\n",
    "t.Draw(\"energiesFull>>hist(600,0,1000)\",\"energyTruncTotalEnergy == 0 && numberOfCrystalsFull == 1\",\"colz\")\n",
    "c.SetLogy()\n",
    "c.Draw()"
   ]
  },
  {
   "cell_type": "code",
   "execution_count": 13,
   "metadata": {},
   "outputs": [
    {
     "data": {
      "image/png": "[encoded data removed]",
      "text/plain": [
       "<IPython.core.display.Image object>"
      ]
     },
     "metadata": {},
     "output_type": "display_data"
    }
   ],
   "source": [
    "c = r.TCanvas()\n",
    "t.Draw(\"numberOfCrystalsFull>>hist(560,-1,55)\",\"energyTruncTotalEnergy == 0\",\"colz\")\n",
    "c.SetLogy()\n",
    "c.Draw()"
   ]
  },
  {
   "cell_type": "code",
   "execution_count": 30,
   "metadata": {},
   "outputs": [
    {
     "data": {
      "image/png": "[encoded data removed]",
      "text/plain": [
       "<IPython.core.display.Image object>"
      ]
     },
     "metadata": {},
     "output_type": "display_data"
    }
   ],
   "source": [
    "c = r.TCanvas()\n",
    "t.Draw(\"numberOfClustersFull>>hist(22,-1,10)\",\"energyTruncTotalEnergy == 0\",\"colz\")\n",
    "c.SetLogy()\n",
    "c.Draw()"
   ]
  },
  {
   "cell_type": "code",
   "execution_count": 15,
   "metadata": {},
   "outputs": [
    {
     "data": {
      "image/png": "[encoded data removed]",
      "text/plain": [
       "<IPython.core.display.Image object>"
      ]
     },
     "metadata": {},
     "output_type": "display_data"
    }
   ],
   "source": [
    "c = r.TCanvas()\n",
    "t.Draw(\"energiesFullUncalib>>hist(560,-1,560)\",\"energyTruncTotalEnergy == 0\",\"colz\")\n",
    "c.SetLogy()\n",
    "c.Draw()"
   ]
  },
  {
   "cell_type": "code",
   "execution_count": null,
   "metadata": {},
   "outputs": [],
   "source": []
  }
 ],
 "metadata": {
  "kernelspec": {
   "display_name": "Python 3",
   "language": "python",
   "name": "python3"
  },
  "language_info": {
   "codemirror_mode": {
    "name": "ipython",
    "version": 3
   },
   "file_extension": ".py",
   "mimetype": "text/x-python",
   "name": "python",
   "nbconvert_exporter": "python",
   "pygments_lexer": "ipython3",
   "version": "3.6.8"
  }
 },
 "nbformat": 4,
 "nbformat_minor": 2
}
