{
 "cells": [
  {
   "cell_type": "code",
   "execution_count": 1,
   "metadata": {},
   "outputs": [
    {
     "name": "stdout",
     "output_type": "stream",
     "text": [
      "Welcome to JupyROOT 6.12/06\n",
      "For interactive plots, run: setint()\n",
      "To return to non-interactive plots (default state), run: noint()\n"
     ]
    }
   ],
   "source": [
    "from standardInclude import *"
   ]
  },
  {
   "cell_type": "code",
   "execution_count": 2,
   "metadata": {},
   "outputs": [
    {
     "name": "stdout",
     "output_type": "stream",
     "text": [
      "TFile**\t\t./data/results_1MissingFile_FullVsTrunc.root\t\n",
      " TFile*\t\t./data/results_1MissingFile_FullVsTrunc.root\t\n",
      "  KEY: TDirectoryFile\tclustersAndCoincidences;1\tclustersAndCoincidences (ClusterAndCoincidenceHistograms) folder\n",
      "  KEY: TDirectoryFile\tclustersAndCoincidencesTrunc;1\tclustersAndCoincidencesTrunc (ClusterAndCoincidenceHistograms) folder\n",
      "  KEY: TDirectoryFile\tfarline;1\tfarline (CaloFarlineHistograms) folder\n",
      "  KEY: TDirectoryFile\tfarlineTrunc;1\tfarlineTrunc (CaloFarlineHistograms) folder\n",
      "  KEY: TDirectoryFile\tclusterCompare;1\tclusterCompare (ReconComparisonTruncatedVsFull) folder\n"
     ]
    }
   ],
   "source": [
    "#f = r.TFile(\"./data/results_10MissingOutputFiles_9day_histOnly.root\")\n",
    "f = r.TFile(\"./data/results_1MissingFile_FullVsTrunc.root\")\n",
    "f.ls()"
   ]
  },
  {
   "cell_type": "code",
   "execution_count": 3,
   "metadata": {},
   "outputs": [],
   "source": [
    "clusters = f.Get(\"clustersAndCoincidences\").Get(\"clusters\").Clone(\"clusters\")"
   ]
  },
  {
   "cell_type": "code",
   "execution_count": 4,
   "metadata": {},
   "outputs": [
    {
     "name": "stdout",
     "output_type": "stream",
     "text": [
      "Creating files with: _pileupRebinTest suffix\n"
     ]
    }
   ],
   "source": [
    "fileString = \"_pileupRebinTest\"\n",
    "print(\"Creating files with:\", fileString, \"suffix\")"
   ]
  },
  {
   "cell_type": "code",
   "execution_count": 5,
   "metadata": {},
   "outputs": [
    {
     "data": {
      "text/plain": [
       "<ROOT.TH2D object (\"clusters_yx\") at 0x7fffc06eec40>"
      ]
     },
     "execution_count": 5,
     "metadata": {},
     "output_type": "execute_result"
    }
   ],
   "source": [
    "Ninitial = clusters.Project3D(\"yx\").Clone()\n",
    "Ninitial.Rebin2D(10,10)"
   ]
  },
  {
   "cell_type": "code",
   "execution_count": 6,
   "metadata": {},
   "outputs": [
    {
     "data": {
      "image/png": "[encoded data removed]",
      "text/plain": [
       "<IPython.core.display.Image object>"
      ]
     },
     "metadata": {},
     "output_type": "display_data"
    }
   ],
   "source": [
    "c = r.TCanvas()\n",
    "Ninitial.Draw(\"colz\")\n",
    "c.SetLogz()\n",
    "c.Draw()"
   ]
  },
  {
   "cell_type": "markdown",
   "metadata": {},
   "source": [
    "---\n",
    "\n",
    "# Pileup correction\n",
    "\n",
    "### Lets follow the recipe outlined in Aaron's thesis, Page 175-180"
   ]
  },
  {
   "cell_type": "code",
   "execution_count": 7,
   "metadata": {},
   "outputs": [],
   "source": [
    "# first define a function which takes a histogram and returns the quantity described in Eqn. 6.12\n",
    "def rhoDoublePulse( hist, E, t ):\n",
    "    timeBin = hist.GetXaxis().FindBin( t )\n",
    "    h2 = hist.ProjectionY(\"h2\", timeBin, timeBin)\n",
    "    \n",
    "    Nbins = h2.GetNbinsX() \n",
    "    Emin = h2.GetBinCenter(1) - h2.GetBinWidth(1)/2.0\n",
    "    Emax = h2.GetBinCenter(Nbins) + h2.GetBinWidth(Nbins)/2.0\n",
    "        \n",
    "    rho = 0\n",
    "    for bin in range(Nbins):\n",
    "        E2 = h2.GetBinCenter(bin)\n",
    "        if( E < E2 ):\n",
    "            r1 = 0\n",
    "        else:\n",
    "            bin2 = h2.FindBin( E - E2 )\n",
    "            r1 = h2.GetBinContent(bin2)\n",
    "            \n",
    "        r2 = h2.GetBinContent(bin)\n",
    "        rho += r1*r2\n",
    "        \n",
    "    #print(\"Rho: \", rho)\n",
    "    \n",
    "    return rho;"
   ]
  },
  {
   "cell_type": "code",
   "execution_count": 8,
   "metadata": {},
   "outputs": [],
   "source": [
    "#now build a histogram which has that function evaluated everywhere on the grid of our input histogram\n",
    "rhoDoubleHist = Ninitial.Clone(\"rhoDoubleHist\")\n",
    "rhoDoubleHist.Reset()"
   ]
  },
  {
   "cell_type": "code",
   "execution_count": 9,
   "metadata": {},
   "outputs": [
    {
     "name": "stdout",
     "output_type": "stream",
     "text": [
      "1 / 470\n",
      "2 / 470\n",
      "3 / 470\n",
      "4 / 470\n",
      "5 / 470\n",
      "6 / 470\n",
      "7 / 470\n",
      "8 / 470\n",
      "9 / 470\n",
      "10 / 470\n",
      "11 / 470\n",
      "12 / 470\n",
      "13 / 470\n",
      "14 / 470\n",
      "15 / 470\n",
      "16 / 470\n",
      "17 / 470\n",
      "18 / 470\n",
      "19 / 470\n",
      "20 / 470\n",
      "21 / 470\n",
      "22 / 470\n",
      "23 / 470\n",
      "24 / 470\n",
      "25 / 470\n",
      "26 / 470\n",
      "27 / 470\n",
      "28 / 470\n",
      "29 / 470\n",
      "30 / 470\n",
      "31 / 470\n",
      "32 / 470\n",
      "33 / 470\n",
      "34 / 470\n",
      "35 / 470\n",
      "36 / 470\n",
      "37 / 470\n",
      "38 / 470\n",
      "39 / 470\n",
      "40 / 470\n",
      "41 / 470\n",
      "42 / 470\n",
      "43 / 470\n",
      "44 / 470\n",
      "45 / 470\n",
      "46 / 470\n",
      "47 / 470\n",
      "48 / 470\n",
      "49 / 470\n",
      "50 / 470\n",
      "51 / 470\n",
      "52 / 470\n",
      "53 / 470\n",
      "54 / 470\n",
      "55 / 470\n",
      "56 / 470\n",
      "57 / 470\n",
      "58 / 470\n",
      "59 / 470\n",
      "60 / 470\n",
      "61 / 470\n",
      "62 / 470\n",
      "63 / 470\n",
      "64 / 470\n",
      "65 / 470\n",
      "66 / 470\n",
      "67 / 470\n",
      "68 / 470\n",
      "69 / 470\n",
      "70 / 470\n",
      "71 / 470\n",
      "72 / 470\n",
      "73 / 470\n",
      "74 / 470\n",
      "75 / 470\n",
      "76 / 470\n",
      "77 / 470\n",
      "78 / 470\n",
      "79 / 470\n",
      "80 / 470\n",
      "81 / 470\n",
      "82 / 470\n",
      "83 / 470\n",
      "84 / 470\n",
      "85 / 470\n",
      "86 / 470\n",
      "87 / 470\n",
      "88 / 470\n",
      "89 / 470\n",
      "90 / 470\n",
      "91 / 470\n",
      "92 / 470\n",
      "93 / 470\n",
      "94 / 470\n",
      "95 / 470\n",
      "96 / 470\n",
      "97 / 470\n",
      "98 / 470\n",
      "99 / 470\n",
      "100 / 470\n",
      "101 / 470\n",
      "102 / 470\n",
      "103 / 470\n",
      "104 / 470\n",
      "105 / 470\n",
      "106 / 470\n",
      "107 / 470\n",
      "108 / 470\n",
      "109 / 470\n",
      "110 / 470\n",
      "111 / 470\n",
      "112 / 470\n",
      "113 / 470\n",
      "114 / 470\n",
      "115 / 470\n",
      "116 / 470\n",
      "117 / 470\n",
      "118 / 470\n",
      "119 / 470\n",
      "120 / 470\n",
      "121 / 470\n",
      "122 / 470\n",
      "123 / 470\n",
      "124 / 470\n",
      "125 / 470\n",
      "126 / 470\n",
      "127 / 470\n",
      "128 / 470\n",
      "129 / 470\n",
      "130 / 470\n",
      "131 / 470\n",
      "132 / 470\n",
      "133 / 470\n",
      "134 / 470\n",
      "135 / 470\n",
      "136 / 470\n",
      "137 / 470\n",
      "138 / 470\n",
      "139 / 470\n",
      "140 / 470\n",
      "141 / 470\n",
      "142 / 470\n",
      "143 / 470\n",
      "144 / 470\n",
      "145 / 470\n",
      "146 / 470\n",
      "147 / 470\n",
      "148 / 470\n",
      "149 / 470\n",
      "150 / 470\n",
      "151 / 470\n",
      "152 / 470\n",
      "153 / 470\n",
      "154 / 470\n",
      "155 / 470\n",
      "156 / 470\n",
      "157 / 470\n",
      "158 / 470\n",
      "159 / 470\n",
      "160 / 470\n",
      "161 / 470\n",
      "162 / 470\n",
      "163 / 470\n",
      "164 / 470\n",
      "165 / 470\n",
      "166 / 470\n",
      "167 / 470\n",
      "168 / 470\n",
      "169 / 470\n",
      "170 / 470\n",
      "171 / 470\n",
      "172 / 470\n",
      "173 / 470\n",
      "174 / 470\n",
      "175 / 470\n",
      "176 / 470\n",
      "177 / 470\n",
      "178 / 470\n",
      "179 / 470\n",
      "180 / 470\n",
      "181 / 470\n",
      "182 / 470\n",
      "183 / 470\n",
      "184 / 470\n",
      "185 / 470\n",
      "186 / 470\n",
      "187 / 470\n",
      "188 / 470\n",
      "189 / 470\n",
      "190 / 470\n",
      "191 / 470\n",
      "192 / 470\n",
      "193 / 470\n",
      "194 / 470\n",
      "195 / 470\n",
      "196 / 470\n",
      "197 / 470\n",
      "198 / 470\n",
      "199 / 470\n",
      "200 / 470\n",
      "201 / 470\n",
      "202 / 470\n",
      "203 / 470\n",
      "204 / 470\n",
      "205 / 470\n",
      "206 / 470\n",
      "207 / 470\n",
      "208 / 470\n",
      "209 / 470\n",
      "210 / 470\n",
      "211 / 470\n",
      "212 / 470\n",
      "213 / 470\n",
      "214 / 470\n",
      "215 / 470\n",
      "216 / 470\n",
      "217 / 470\n",
      "218 / 470\n",
      "219 / 470\n",
      "220 / 470\n",
      "221 / 470\n",
      "222 / 470\n",
      "223 / 470\n",
      "224 / 470\n",
      "225 / 470\n",
      "226 / 470\n",
      "227 / 470\n",
      "228 / 470\n",
      "229 / 470\n",
      "230 / 470\n",
      "231 / 470\n",
      "232 / 470\n",
      "233 / 470\n",
      "234 / 470\n",
      "235 / 470\n",
      "236 / 470\n",
      "237 / 470\n",
      "238 / 470\n",
      "239 / 470\n",
      "240 / 470\n",
      "241 / 470\n",
      "242 / 470\n",
      "243 / 470\n",
      "244 / 470\n",
      "245 / 470\n",
      "246 / 470\n",
      "247 / 470\n",
      "248 / 470\n",
      "249 / 470\n",
      "250 / 470\n",
      "251 / 470\n",
      "252 / 470\n",
      "253 / 470\n",
      "254 / 470\n",
      "255 / 470\n",
      "256 / 470\n",
      "257 / 470\n",
      "258 / 470\n",
      "259 / 470\n",
      "260 / 470\n",
      "261 / 470\n",
      "262 / 470\n",
      "263 / 470\n",
      "264 / 470\n",
      "265 / 470\n",
      "266 / 470\n",
      "267 / 470\n",
      "268 / 470\n",
      "269 / 470\n",
      "270 / 470\n",
      "271 / 470\n",
      "272 / 470\n",
      "273 / 470\n",
      "274 / 470\n",
      "275 / 470\n",
      "276 / 470\n",
      "277 / 470\n",
      "278 / 470\n",
      "279 / 470\n",
      "280 / 470\n",
      "281 / 470\n",
      "282 / 470\n",
      "283 / 470\n",
      "284 / 470\n",
      "285 / 470\n",
      "286 / 470\n",
      "287 / 470\n",
      "288 / 470\n",
      "289 / 470\n",
      "290 / 470\n",
      "291 / 470\n",
      "292 / 470\n",
      "293 / 470\n",
      "294 / 470\n",
      "295 / 470\n",
      "296 / 470\n",
      "297 / 470\n",
      "298 / 470\n",
      "299 / 470\n",
      "300 / 470\n",
      "301 / 470\n",
      "302 / 470\n",
      "303 / 470\n",
      "304 / 470\n",
      "305 / 470\n",
      "306 / 470\n",
      "307 / 470\n",
      "308 / 470\n",
      "309 / 470\n",
      "310 / 470\n",
      "311 / 470\n",
      "312 / 470\n",
      "313 / 470\n",
      "314 / 470\n",
      "315 / 470\n",
      "316 / 470\n",
      "317 / 470\n",
      "318 / 470\n",
      "319 / 470\n",
      "320 / 470\n",
      "321 / 470\n",
      "322 / 470\n",
      "323 / 470\n",
      "324 / 470\n",
      "325 / 470\n",
      "326 / 470\n",
      "327 / 470\n",
      "328 / 470\n",
      "329 / 470\n",
      "330 / 470\n",
      "331 / 470\n",
      "332 / 470\n",
      "333 / 470\n",
      "334 / 470\n",
      "335 / 470\n",
      "336 / 470\n",
      "337 / 470\n",
      "338 / 470\n",
      "339 / 470\n",
      "340 / 470\n",
      "341 / 470\n",
      "342 / 470\n",
      "343 / 470\n",
      "344 / 470\n",
      "345 / 470\n",
      "346 / 470\n",
      "347 / 470\n",
      "348 / 470\n",
      "349 / 470\n",
      "350 / 470\n",
      "351 / 470\n",
      "352 / 470\n",
      "353 / 470\n",
      "354 / 470\n",
      "355 / 470\n",
      "356 / 470\n",
      "357 / 470\n",
      "358 / 470\n",
      "359 / 470\n",
      "360 / 470\n",
      "361 / 470\n",
      "362 / 470\n",
      "363 / 470\n",
      "364 / 470\n",
      "365 / 470\n",
      "366 / 470\n",
      "367 / 470\n",
      "368 / 470\n",
      "369 / 470\n",
      "370 / 470\n",
      "371 / 470\n",
      "372 / 470\n",
      "373 / 470\n",
      "374 / 470\n",
      "375 / 470\n",
      "376 / 470\n",
      "377 / 470\n",
      "378 / 470\n",
      "379 / 470\n",
      "380 / 470\n",
      "381 / 470\n",
      "382 / 470\n",
      "383 / 470\n",
      "384 / 470\n",
      "385 / 470\n",
      "386 / 470\n",
      "387 / 470\n",
      "388 / 470\n",
      "389 / 470\n",
      "390 / 470\n",
      "391 / 470\n",
      "392 / 470\n",
      "393 / 470\n",
      "394 / 470\n",
      "395 / 470\n",
      "396 / 470\n",
      "397 / 470\n",
      "398 / 470\n",
      "399 / 470\n",
      "400 / 470\n",
      "401 / 470\n",
      "402 / 470\n",
      "403 / 470\n",
      "404 / 470\n",
      "405 / 470\n",
      "406 / 470\n",
      "407 / 470\n",
      "408 / 470\n",
      "409 / 470\n",
      "410 / 470\n",
      "411 / 470\n",
      "412 / 470\n",
      "413 / 470\n",
      "414 / 470\n",
      "415 / 470\n",
      "416 / 470\n",
      "417 / 470\n",
      "418 / 470\n",
      "419 / 470\n",
      "420 / 470\n",
      "421 / 470\n",
      "422 / 470\n",
      "423 / 470\n",
      "424 / 470\n",
      "425 / 470\n",
      "426 / 470\n",
      "427 / 470\n",
      "428 / 470\n",
      "429 / 470\n",
      "430 / 470\n",
      "431 / 470\n",
      "432 / 470\n",
      "433 / 470\n",
      "434 / 470\n",
      "435 / 470\n",
      "436 / 470\n",
      "437 / 470\n",
      "438 / 470\n",
      "439 / 470\n",
      "440 / 470\n",
      "441 / 470\n",
      "442 / 470\n",
      "443 / 470\n",
      "444 / 470\n",
      "445 / 470\n",
      "446 / 470\n",
      "447 / 470\n",
      "448 / 470\n",
      "449 / 470\n",
      "450 / 470\n",
      "451 / 470\n",
      "452 / 470\n",
      "453 / 470\n",
      "454 / 470\n",
      "455 / 470\n",
      "456 / 470\n",
      "457 / 470\n",
      "458 / 470\n",
      "459 / 470\n",
      "460 / 470\n",
      "461 / 470\n",
      "462 / 470\n",
      "463 / 470\n",
      "464 / 470\n",
      "465 / 470\n",
      "466 / 470\n",
      "467 / 470\n",
      "468 / 470\n",
      "469 / 470\n"
     ]
    }
   ],
   "source": [
    "nBinsX = rhoDoubleHist.GetXaxis().GetNbins()\n",
    "nBinsY = rhoDoubleHist.GetYaxis().GetNbins()\n",
    "\n",
    "for binx in range(1,nBinsX+1):\n",
    "    print(binx,\"/\",nBinsX+1)\n",
    "    for biny in range(1,nBinsY+1):\n",
    "        Ei = rhoDoubleHist.GetYaxis().GetBinCenter(biny)\n",
    "        ti = rhoDoubleHist.GetXaxis().GetBinCenter(binx)\n",
    "        rhoi = rhoDoublePulse(Ninitial, Ei, ti)\n",
    "        #print(rhoi)\n",
    "        rhoDoubleHist.SetBinContent(binx,biny,rhoi)"
   ]
  },
  {
   "cell_type": "code",
   "execution_count": 10,
   "metadata": {},
   "outputs": [
    {
     "name": "stderr",
     "output_type": "stream",
     "text": [
      "Info in <TCanvas::SaveAs>: ROOT file ./pileupCorrection/rhoDoubleHist_pileupRebinTest.root has been created\n"
     ]
    }
   ],
   "source": [
    "c.Print(\"./pileupCorrection/rhoDoubleHist\"+fileString+\".root\")"
   ]
  },
  {
   "cell_type": "raw",
   "metadata": {},
   "source": [
    "fdoublePileup = r.TFile(\"./pileupCorrection/rhoDoubleHist.root\")\n",
    "fdoublePileup.ls()"
   ]
  },
  {
   "cell_type": "raw",
   "metadata": {},
   "source": [
    "c = fdoublePileup.Get(\"c1_n2\")\n",
    "print([x for x in c.GetListOfPrimitives()])"
   ]
  },
  {
   "cell_type": "raw",
   "metadata": {},
   "source": [
    "rhoDoubleHist = c.GetPrimitive(\"rhoDoubleHist\").Clone(\"rhoDoubleHist\")\n",
    "rhoDoubleHist.SetDirectory(0)"
   ]
  },
  {
   "cell_type": "code",
   "execution_count": 11,
   "metadata": {},
   "outputs": [
    {
     "data": {
      "image/png": "[encoded data removed]",
      "text/plain": [
       "<IPython.core.display.Image object>"
      ]
     },
     "metadata": {},
     "output_type": "display_data"
    }
   ],
   "source": [
    "c = r.TCanvas()\n",
    "rhoDoubleHist.Draw(\"colz\")\n",
    "c.SetLogz()\n",
    "c.Draw()"
   ]
  },
  {
   "cell_type": "markdown",
   "metadata": {},
   "source": [
    "### Now lets create a histogram built form equation 6.13 using the 6.12 histogram"
   ]
  },
  {
   "cell_type": "code",
   "execution_count": 12,
   "metadata": {},
   "outputs": [],
   "source": [
    "doublePileup = Ninitial.Clone(\"doublePileup\")\n",
    "doublePileup.Reset()"
   ]
  },
  {
   "cell_type": "code",
   "execution_count": 13,
   "metadata": {},
   "outputs": [],
   "source": [
    "deltaT = 2"
   ]
  },
  {
   "cell_type": "code",
   "execution_count": 14,
   "metadata": {},
   "outputs": [],
   "source": [
    "def rhoDoublePileup(E, t, rhoDoubleHist, Ninitial, deltaT):\n",
    "    histBinEtDouble = rhoDoubleHist.FindBin(t,E)\n",
    "    histBinEtN = Ninitial.FindBin(t,E)\n",
    "    histBintN = Ninitial.GetXaxis().FindBin(t)\n",
    "    histBinEN = Ninitial.GetYaxis().FindBin(E)\n",
    "    hi = Ninitial.ProjectionY(\"\", histBintN, histBintN).Clone()\n",
    "    integralN = hi.Integral(hi.FindBin(histBinEN),-1)\n",
    "    rho = deltaT * ( rhoDoubleHist.GetBinContent(histBinEtDouble) - 2*Ninitial.GetBinContent(histBinEtN)*integralN )\n",
    "    \n",
    "    return rho"
   ]
  },
  {
   "cell_type": "code",
   "execution_count": 15,
   "metadata": {},
   "outputs": [
    {
     "name": "stdout",
     "output_type": "stream",
     "text": [
      "1 / 470\n",
      "2 / 470\n",
      "3 / 470\n",
      "4 / 470\n",
      "5 / 470\n",
      "6 / 470\n",
      "7 / 470\n",
      "8 / 470\n",
      "9 / 470\n",
      "10 / 470\n",
      "11 / 470\n",
      "12 / 470\n",
      "13 / 470\n",
      "14 / 470\n",
      "15 / 470\n",
      "16 / 470\n",
      "17 / 470\n",
      "18 / 470\n",
      "19 / 470\n",
      "20 / 470\n",
      "21 / 470\n",
      "22 / 470\n",
      "23 / 470\n",
      "24 / 470\n",
      "25 / 470\n",
      "26 / 470\n",
      "27 / 470\n",
      "28 / 470\n",
      "29 / 470\n",
      "30 / 470\n",
      "31 / 470\n",
      "32 / 470\n",
      "33 / 470\n",
      "34 / 470\n",
      "35 / 470\n",
      "36 / 470\n",
      "37 / 470\n",
      "38 / 470\n",
      "39 / 470\n",
      "40 / 470\n",
      "41 / 470\n",
      "42 / 470\n",
      "43 / 470\n",
      "44 / 470\n",
      "45 / 470\n",
      "46 / 470\n",
      "47 / 470\n",
      "48 / 470\n",
      "49 / 470\n",
      "50 / 470\n",
      "51 / 470\n",
      "52 / 470\n",
      "53 / 470\n",
      "54 / 470\n",
      "55 / 470\n",
      "56 / 470\n",
      "57 / 470\n",
      "58 / 470\n",
      "59 / 470\n",
      "60 / 470\n",
      "61 / 470\n",
      "62 / 470\n",
      "63 / 470\n",
      "64 / 470\n",
      "65 / 470\n",
      "66 / 470\n",
      "67 / 470\n",
      "68 / 470\n",
      "69 / 470\n",
      "70 / 470\n",
      "71 / 470\n",
      "72 / 470\n",
      "73 / 470\n",
      "74 / 470\n",
      "75 / 470\n",
      "76 / 470\n",
      "77 / 470\n",
      "78 / 470\n",
      "79 / 470\n",
      "80 / 470\n",
      "81 / 470\n",
      "82 / 470\n",
      "83 / 470\n",
      "84 / 470\n",
      "85 / 470\n",
      "86 / 470\n",
      "87 / 470\n",
      "88 / 470\n",
      "89 / 470\n",
      "90 / 470\n",
      "91 / 470\n",
      "92 / 470\n",
      "93 / 470\n",
      "94 / 470\n",
      "95 / 470\n",
      "96 / 470\n",
      "97 / 470\n",
      "98 / 470\n",
      "99 / 470\n",
      "100 / 470\n",
      "101 / 470\n",
      "102 / 470\n",
      "103 / 470\n",
      "104 / 470\n",
      "105 / 470\n",
      "106 / 470\n",
      "107 / 470\n",
      "108 / 470\n",
      "109 / 470\n",
      "110 / 470\n",
      "111 / 470\n",
      "112 / 470\n",
      "113 / 470\n",
      "114 / 470\n",
      "115 / 470\n",
      "116 / 470\n",
      "117 / 470\n",
      "118 / 470\n",
      "119 / 470\n",
      "120 / 470\n",
      "121 / 470\n",
      "122 / 470\n",
      "123 / 470\n",
      "124 / 470\n",
      "125 / 470\n",
      "126 / 470\n",
      "127 / 470\n",
      "128 / 470\n",
      "129 / 470\n",
      "130 / 470\n",
      "131 / 470\n",
      "132 / 470\n",
      "133 / 470\n",
      "134 / 470\n",
      "135 / 470\n",
      "136 / 470\n",
      "137 / 470\n",
      "138 / 470\n",
      "139 / 470\n",
      "140 / 470\n",
      "141 / 470\n",
      "142 / 470\n",
      "143 / 470\n",
      "144 / 470\n",
      "145 / 470\n",
      "146 / 470\n",
      "147 / 470\n",
      "148 / 470\n",
      "149 / 470\n",
      "150 / 470\n",
      "151 / 470\n",
      "152 / 470\n",
      "153 / 470\n",
      "154 / 470\n",
      "155 / 470\n",
      "156 / 470\n",
      "157 / 470\n",
      "158 / 470\n",
      "159 / 470\n",
      "160 / 470\n",
      "161 / 470\n",
      "162 / 470\n",
      "163 / 470\n",
      "164 / 470\n",
      "165 / 470\n",
      "166 / 470\n",
      "167 / 470\n",
      "168 / 470\n",
      "169 / 470\n",
      "170 / 470\n",
      "171 / 470\n",
      "172 / 470\n",
      "173 / 470\n",
      "174 / 470\n",
      "175 / 470\n",
      "176 / 470\n",
      "177 / 470\n",
      "178 / 470\n",
      "179 / 470\n",
      "180 / 470\n",
      "181 / 470\n",
      "182 / 470\n",
      "183 / 470\n",
      "184 / 470\n",
      "185 / 470\n",
      "186 / 470\n",
      "187 / 470\n",
      "188 / 470\n",
      "189 / 470\n",
      "190 / 470\n",
      "191 / 470\n",
      "192 / 470\n",
      "193 / 470\n",
      "194 / 470\n",
      "195 / 470\n",
      "196 / 470\n",
      "197 / 470\n",
      "198 / 470\n",
      "199 / 470\n",
      "200 / 470\n",
      "201 / 470\n",
      "202 / 470\n",
      "203 / 470\n",
      "204 / 470\n",
      "205 / 470\n",
      "206 / 470\n",
      "207 / 470\n",
      "208 / 470\n",
      "209 / 470\n",
      "210 / 470\n",
      "211 / 470\n",
      "212 / 470\n",
      "213 / 470\n",
      "214 / 470\n",
      "215 / 470\n",
      "216 / 470\n",
      "217 / 470\n",
      "218 / 470\n",
      "219 / 470\n",
      "220 / 470\n",
      "221 / 470\n",
      "222 / 470\n",
      "223 / 470\n",
      "224 / 470\n",
      "225 / 470\n",
      "226 / 470\n",
      "227 / 470\n",
      "228 / 470\n",
      "229 / 470\n",
      "230 / 470\n",
      "231 / 470\n",
      "232 / 470\n",
      "233 / 470\n",
      "234 / 470\n",
      "235 / 470\n",
      "236 / 470\n",
      "237 / 470\n",
      "238 / 470\n",
      "239 / 470\n",
      "240 / 470\n",
      "241 / 470\n",
      "242 / 470\n",
      "243 / 470\n",
      "244 / 470\n",
      "245 / 470\n",
      "246 / 470\n",
      "247 / 470\n",
      "248 / 470\n",
      "249 / 470\n",
      "250 / 470\n",
      "251 / 470\n",
      "252 / 470\n",
      "253 / 470\n",
      "254 / 470\n",
      "255 / 470\n",
      "256 / 470\n",
      "257 / 470\n",
      "258 / 470\n",
      "259 / 470\n",
      "260 / 470\n",
      "261 / 470\n",
      "262 / 470\n",
      "263 / 470\n",
      "264 / 470\n",
      "265 / 470\n",
      "266 / 470\n",
      "267 / 470\n",
      "268 / 470\n",
      "269 / 470\n",
      "270 / 470\n",
      "271 / 470\n",
      "272 / 470\n",
      "273 / 470\n",
      "274 / 470\n",
      "275 / 470\n",
      "276 / 470\n",
      "277 / 470\n",
      "278 / 470\n",
      "279 / 470\n",
      "280 / 470\n",
      "281 / 470\n",
      "282 / 470\n",
      "283 / 470\n",
      "284 / 470\n",
      "285 / 470\n",
      "286 / 470\n",
      "287 / 470\n",
      "288 / 470\n",
      "289 / 470\n",
      "290 / 470\n",
      "291 / 470\n",
      "292 / 470\n",
      "293 / 470\n",
      "294 / 470\n",
      "295 / 470\n",
      "296 / 470\n",
      "297 / 470\n",
      "298 / 470\n",
      "299 / 470\n",
      "300 / 470\n",
      "301 / 470\n",
      "302 / 470\n",
      "303 / 470\n",
      "304 / 470\n",
      "305 / 470\n",
      "306 / 470\n",
      "307 / 470\n",
      "308 / 470\n",
      "309 / 470\n",
      "310 / 470\n",
      "311 / 470\n",
      "312 / 470\n",
      "313 / 470\n",
      "314 / 470\n",
      "315 / 470\n",
      "316 / 470\n",
      "317 / 470\n",
      "318 / 470\n",
      "319 / 470\n",
      "320 / 470\n",
      "321 / 470\n",
      "322 / 470\n",
      "323 / 470\n",
      "324 / 470\n",
      "325 / 470\n",
      "326 / 470\n",
      "327 / 470\n",
      "328 / 470\n",
      "329 / 470\n",
      "330 / 470\n",
      "331 / 470\n",
      "332 / 470\n",
      "333 / 470\n",
      "334 / 470\n",
      "335 / 470\n",
      "336 / 470\n",
      "337 / 470\n",
      "338 / 470\n",
      "339 / 470\n",
      "340 / 470\n",
      "341 / 470\n",
      "342 / 470\n",
      "343 / 470\n",
      "344 / 470\n",
      "345 / 470\n",
      "346 / 470\n",
      "347 / 470\n",
      "348 / 470\n",
      "349 / 470\n",
      "350 / 470\n",
      "351 / 470\n",
      "352 / 470\n",
      "353 / 470\n",
      "354 / 470\n",
      "355 / 470\n",
      "356 / 470\n",
      "357 / 470\n",
      "358 / 470\n",
      "359 / 470\n",
      "360 / 470\n",
      "361 / 470\n",
      "362 / 470\n",
      "363 / 470\n",
      "364 / 470\n",
      "365 / 470\n",
      "366 / 470\n",
      "367 / 470\n",
      "368 / 470\n",
      "369 / 470\n",
      "370 / 470\n",
      "371 / 470\n",
      "372 / 470\n",
      "373 / 470\n",
      "374 / 470\n",
      "375 / 470\n",
      "376 / 470\n",
      "377 / 470\n",
      "378 / 470\n",
      "379 / 470\n",
      "380 / 470\n",
      "381 / 470\n",
      "382 / 470\n",
      "383 / 470\n",
      "384 / 470\n",
      "385 / 470\n",
      "386 / 470\n",
      "387 / 470\n",
      "388 / 470\n",
      "389 / 470\n",
      "390 / 470\n",
      "391 / 470\n",
      "392 / 470\n",
      "393 / 470\n",
      "394 / 470\n",
      "395 / 470\n",
      "396 / 470\n",
      "397 / 470\n",
      "398 / 470\n",
      "399 / 470\n",
      "400 / 470\n",
      "401 / 470\n",
      "402 / 470\n",
      "403 / 470\n",
      "404 / 470\n",
      "405 / 470\n",
      "406 / 470\n",
      "407 / 470\n",
      "408 / 470\n",
      "409 / 470\n",
      "410 / 470\n",
      "411 / 470\n",
      "412 / 470\n",
      "413 / 470\n",
      "414 / 470\n",
      "415 / 470\n",
      "416 / 470\n",
      "417 / 470\n",
      "418 / 470\n",
      "419 / 470\n",
      "420 / 470\n",
      "421 / 470\n",
      "422 / 470\n",
      "423 / 470\n",
      "424 / 470\n",
      "425 / 470\n",
      "426 / 470\n",
      "427 / 470\n",
      "428 / 470\n",
      "429 / 470\n",
      "430 / 470\n",
      "431 / 470\n",
      "432 / 470\n",
      "433 / 470\n",
      "434 / 470\n",
      "435 / 470\n",
      "436 / 470\n",
      "437 / 470\n",
      "438 / 470\n",
      "439 / 470\n",
      "440 / 470\n",
      "441 / 470\n",
      "442 / 470\n",
      "443 / 470\n",
      "444 / 470\n",
      "445 / 470\n",
      "446 / 470\n",
      "447 / 470\n",
      "448 / 470\n",
      "449 / 470\n",
      "450 / 470\n",
      "451 / 470\n",
      "452 / 470\n",
      "453 / 470\n",
      "454 / 470\n",
      "455 / 470\n",
      "456 / 470\n",
      "457 / 470\n",
      "458 / 470\n",
      "459 / 470\n",
      "460 / 470\n",
      "461 / 470\n",
      "462 / 470\n",
      "463 / 470\n",
      "464 / 470\n",
      "465 / 470\n",
      "466 / 470\n",
      "467 / 470\n",
      "468 / 470\n",
      "469 / 470\n"
     ]
    }
   ],
   "source": [
    "nBinsX = doublePileup.GetXaxis().GetNbins()\n",
    "nBinsY = doublePileup.GetYaxis().GetNbins()\n",
    "\n",
    "for binx in range(1,nBinsX+1):\n",
    "    #if binx > 100:\n",
    "    #    break\n",
    "    print(binx,\"/\",nBinsX+1)\n",
    "    for biny in range(1,nBinsY+1):\n",
    "        Ei = doublePileup.GetYaxis().GetBinCenter(biny)\n",
    "        ti = doublePileup.GetXaxis().GetBinCenter(binx)\n",
    "        rhoi = rhoDoublePileup(Ei, ti, rhoDoubleHist, Ninitial, deltaT)\n",
    "        #print(rhoi)\n",
    "        doublePileup.SetBinContent(binx,biny,rhoi)"
   ]
  },
  {
   "cell_type": "code",
   "execution_count": 16,
   "metadata": {},
   "outputs": [
    {
     "data": {
      "image/png": "[encoded data removed]",
      "text/plain": [
       "<IPython.core.display.Image object>"
      ]
     },
     "metadata": {},
     "output_type": "display_data"
    }
   ],
   "source": [
    "c = r.TCanvas()\n",
    "doublePileup.Draw(\"colz\")\n",
    "c.SetLogz()\n",
    "c.Draw()"
   ]
  },
  {
   "cell_type": "code",
   "execution_count": 17,
   "metadata": {},
   "outputs": [
    {
     "name": "stderr",
     "output_type": "stream",
     "text": [
      "Info in <TCanvas::SaveAs>: ROOT file ./pileupCorrection/doublePileup_pileupRebinTest.root has been created\n"
     ]
    }
   ],
   "source": [
    "c.Print(\"./pileupCorrection/doublePileup\"+fileString+\".root\")"
   ]
  },
  {
   "cell_type": "code",
   "execution_count": 18,
   "metadata": {},
   "outputs": [
    {
     "data": {
      "image/png": "[encoded data removed]",
      "text/plain": [
       "<IPython.core.display.Image object>"
      ]
     },
     "metadata": {},
     "output_type": "display_data"
    }
   ],
   "source": [
    "c = r.TCanvas()\n",
    "doublePileup.ProjectionY().Draw(\"colz\")\n",
    "c.SetLogy()\n",
    "c.Draw()"
   ]
  },
  {
   "cell_type": "code",
   "execution_count": 19,
   "metadata": {},
   "outputs": [],
   "source": [
    "doublePileupInv = doublePileup.Clone(\"doublePileupInv\")\n",
    "\n",
    "nBinsX = doublePileupInv.GetXaxis().GetNbins()\n",
    "nBinsY = doublePileupInv.GetYaxis().GetNbins()\n",
    "\n",
    "for binx in range(1,nBinsX+1):\n",
    "    #if binx > 100:\n",
    "    #    break\n",
    "    #print(binx,\"/\",nBinsX+1)\n",
    "    for biny in range(1,nBinsY+1):\n",
    "        doublePileupInv.SetBinContent(binx,biny,doublePileup.GetBinContent(binx,biny)*(-1))"
   ]
  },
  {
   "cell_type": "code",
   "execution_count": 20,
   "metadata": {},
   "outputs": [
    {
     "data": {
      "image/png": "[encoded data removed]",
      "text/plain": [
       "<IPython.core.display.Image object>"
      ]
     },
     "metadata": {},
     "output_type": "display_data"
    }
   ],
   "source": [
    "c = r.TCanvas()\n",
    "doublePileupInv.SetTitle(\"Double Pileup Correction Inverted [Unscaled]\")\n",
    "doublePileupInv.Draw(\"colz\")\n",
    "\n",
    "c.SetLogz()\n",
    "c.Draw()"
   ]
  },
  {
   "cell_type": "code",
   "execution_count": 21,
   "metadata": {},
   "outputs": [
    {
     "data": {
      "image/png": "[encoded data removed]",
      "text/plain": [
       "<IPython.core.display.Image object>"
      ]
     },
     "metadata": {},
     "output_type": "display_data"
    }
   ],
   "source": [
    "c = r.TCanvas(\"c\",\"c\",1800,600)\n",
    "c.Divide(2)\n",
    "c.cd(1)\n",
    "\n",
    "doublePileup.SetTitle(\"Double Pileup Correction [Unscaled]\")\n",
    "doublePileup.Draw(\"colz\")\n",
    "doublePileup.GetZaxis().SetRangeUser(1,10**17)\n",
    "r.gPad.SetLogz()\n",
    "\n",
    "c.cd(2)\n",
    "doublePileupInv.SetTitle(\"Double Pileup Correction Inverted [Unscaled]\")\n",
    "doublePileupInv.GetZaxis().SetRangeUser(1,10**17)\n",
    "doublePileupInv.Draw(\"colz\")\n",
    "\n",
    "r.gPad.SetLogz()\n",
    "c.Draw()"
   ]
  },
  {
   "cell_type": "code",
   "execution_count": 22,
   "metadata": {},
   "outputs": [
    {
     "data": {
      "image/png": "[encoded data removed]",
      "text/plain": [
       "<IPython.core.display.Image object>"
      ]
     },
     "metadata": {},
     "output_type": "display_data"
    }
   ],
   "source": [
    "c = r.TCanvas()\n",
    "\n",
    "doublePileupY = doublePileup.ProjectionY().Clone()\n",
    "doublePileupY.Draw()\n",
    "doublePileupY.GetYaxis().SetRangeUser(10**13,10**18)\n",
    "\n",
    "doublePileupInv.SetLineColor(2)\n",
    "doublePileupInv.ProjectionY().Draw(\"same\")\n",
    "c.SetLogy()\n",
    "c.Draw()"
   ]
  },
  {
   "cell_type": "code",
   "execution_count": 23,
   "metadata": {},
   "outputs": [
    {
     "data": {
      "image/png": "[encoded data removed]",
      "text/plain": [
       "<IPython.core.display.Image object>"
      ]
     },
     "metadata": {},
     "output_type": "display_data"
    }
   ],
   "source": [
    "c = r.TCanvas()\n",
    "\n",
    "doublePileupY = doublePileup.ProjectionY().Clone()\n",
    "doublePileupY.Draw()\n",
    "doublePileupY.GetYaxis().SetRangeUser(10**4,10**18)\n",
    "\n",
    "doublePileupInv.SetLineColor(2)\n",
    "doublePileupInv.ProjectionY().Draw(\"same\")\n",
    "\n",
    "Ninitial.ProjectionY().Draw(\"same\")\n",
    "\n",
    "c.SetLogy()\n",
    "c.Draw()"
   ]
  },
  {
   "cell_type": "code",
   "execution_count": 24,
   "metadata": {},
   "outputs": [
    {
     "data": {
      "image/png": "[encoded data removed]",
      "text/plain": [
       "<IPython.core.display.Image object>"
      ]
     },
     "metadata": {},
     "output_type": "display_data"
    }
   ],
   "source": [
    "c = r.TCanvas(\"c\",\"c\",1200,600)\n",
    "c.Divide(2)\n",
    "c.cd(1)\n",
    "\n",
    "doublePileupY.Draw()\n",
    "doublePileupY.GetYaxis().UnZoom()\n",
    "doublePileupY.GetXaxis().SetRangeUser(3500,6000)\n",
    "\n",
    "doublePileupInv.SetLineColor(2)\n",
    "doublePileupInv.ProjectionY().Draw(\"same\")\n",
    "\n",
    "r.gPad.SetLogy()\n",
    "\n",
    "c.cd(2)\n",
    "\n",
    "NinitialY = Ninitial.ProjectionY().Clone()\n",
    "NinitialY.Draw(\"same\")\n",
    "NinitialY.GetXaxis().SetRangeUser(3500,6000)\n",
    "\n",
    "\n",
    "r.gPad.SetLogy()\n",
    "c.Draw()"
   ]
  },
  {
   "cell_type": "markdown",
   "metadata": {},
   "source": [
    "---\n",
    "\n",
    "### Now to fit the double pileup correction to N<sub>initial</sub> using the non-physical tail above 3.5 GeV\n",
    "\n",
    "This is just a test to understand how to do it, the real pileup correction should fit the double and triple pileup simultainiously"
   ]
  },
  {
   "cell_type": "code",
   "execution_count": 25,
   "metadata": {},
   "outputs": [],
   "source": [
    "# https://root.cern.ch/root/html/tutorials/fit/fithist.C.html\n",
    "def fitHist(x, p):\n",
    "    rawHist = doublePileupY\n",
    "    scaleFactor = p[0]\n",
    "    y = rawHist.GetBinContent( rawHist.FindBin(x[0]) ) * scaleFactor\n",
    "    return y"
   ]
  },
  {
   "cell_type": "code",
   "execution_count": 26,
   "metadata": {},
   "outputs": [],
   "source": [
    "doublePileupFit = r.TF1(\"doublePileupFit\", fitHist, 3500, 6000, 1)\n",
    "doublePileupFit.SetParameter(0,1)"
   ]
  },
  {
   "cell_type": "code",
   "execution_count": 27,
   "metadata": {},
   "outputs": [
    {
     "data": {
      "text/plain": [
       "<ROOT.TFitResultPtr object at 0x7ff932f1e120>"
      ]
     },
     "execution_count": 27,
     "metadata": {},
     "output_type": "execute_result"
    },
    {
     "name": "stdout",
     "output_type": "stream",
     "text": [
      " FCN=1.01697e+07 FROM MINOS     STATUS=SUCCESSFUL      2 CALLS          50 TOTAL\n",
      "                     EDM=3.18744e-12    STRATEGY= 1      ERROR MATRIX ACCURATE \n",
      "  EXT PARAMETER                                   STEP         FIRST   \n",
      "  NO.   NAME      VALUE            ERROR          SIZE      DERIVATIVE \n",
      "   1  p0           7.95033e-11   1.04712e-14   1.04712e-14  -2.41122e+08\n"
     ]
    }
   ],
   "source": [
    "NinitialY.Fit(\"doublePileupFit\",\"REMBS\")"
   ]
  },
  {
   "cell_type": "code",
   "execution_count": 28,
   "metadata": {},
   "outputs": [
    {
     "data": {
      "image/png": "[encoded data removed]",
      "text/plain": [
       "<IPython.core.display.Image object>"
      ]
     },
     "metadata": {},
     "output_type": "display_data"
    }
   ],
   "source": [
    "c = r.TCanvas()\n",
    "\n",
    "doublePileupYScaled = doublePileupY.Clone()\n",
    "doublePileupYScaled.Scale( doublePileupFit.GetParameter(0) )\n",
    "doublePileupYScaled.GetXaxis().UnZoom()\n",
    "doublePileupYScaled.GetYaxis().SetRangeUser(1,10**10)\n",
    "doublePileupYScaled.Draw()\n",
    "\n",
    "Ninitial.ProjectionY().Draw(\"same\")\n",
    "\n",
    "c.SetLogy()\n",
    "c.Draw()"
   ]
  },
  {
   "cell_type": "code",
   "execution_count": 29,
   "metadata": {},
   "outputs": [
    {
     "data": {
      "text/plain": [
       "True"
      ]
     },
     "execution_count": 29,
     "metadata": {},
     "output_type": "execute_result"
    }
   ],
   "source": [
    "NdoubleSubtracted = Ninitial.ProjectionY().Clone()\n",
    "NdoubleSubtracted.Add(doublePileupYScaled,-1)"
   ]
  },
  {
   "cell_type": "code",
   "execution_count": 30,
   "metadata": {},
   "outputs": [
    {
     "data": {
      "image/png": "[encoded data removed]",
      "text/plain": [
       "<IPython.core.display.Image object>"
      ]
     },
     "metadata": {},
     "output_type": "display_data"
    }
   ],
   "source": [
    "c = r.TCanvas()\n",
    "NdoubleSubtracted.GetYaxis().SetRangeUser(-500000,1000)\n",
    "NdoubleSubtracted.Draw(\"hist\")\n",
    "#c.SetLogy()\n",
    "c.Draw()"
   ]
  },
  {
   "cell_type": "code",
   "execution_count": 31,
   "metadata": {},
   "outputs": [
    {
     "data": {
      "image/png": "[encoded data removed]",
      "text/plain": [
       "<IPython.core.display.Image object>"
      ]
     },
     "metadata": {},
     "output_type": "display_data"
    }
   ],
   "source": [
    "c = r.TCanvas()\n",
    "NdoubleSubtracted = Ninitial.Clone(\"NdoubleSubtracted\")\n",
    "doublePileupScaled = doublePileup.Clone(\"doublePileupScaled\")\n",
    "doublePileupScaled.Scale(doublePileupFit.GetParameter(0))\n",
    "NdoubleSubtracted.Add( doublePileupScaled, -1 )\n",
    "NdoubleSubtracted.Draw(\"colz\")\n",
    "c.Draw()"
   ]
  },
  {
   "cell_type": "code",
   "execution_count": 32,
   "metadata": {},
   "outputs": [
    {
     "data": {
      "image/png": "[encoded data removed]",
      "text/plain": [
       "<IPython.core.display.Image object>"
      ]
     },
     "metadata": {},
     "output_type": "display_data"
    }
   ],
   "source": [
    "c = r.TCanvas()\n",
    "NdoubleSubtracted.Draw(\"colz\")\n",
    "c.SetLogz()\n",
    "c.Draw()"
   ]
  },
  {
   "cell_type": "code",
   "execution_count": 33,
   "metadata": {},
   "outputs": [
    {
     "name": "stderr",
     "output_type": "stream",
     "text": [
      "Info in <TCanvas::SaveAs>: ROOT file ./pileupCorrection/clustersPileupCorrected_DoubleOnly_pileupRebinTest.root has been created\n"
     ]
    }
   ],
   "source": [
    "c.Print(\"./pileupCorrection/clustersPileupCorrected_DoubleOnly\"+fileString+\".root\")"
   ]
  },
  {
   "cell_type": "markdown",
   "metadata": {},
   "source": [
    "--- \n",
    "\n",
    "### And now lets go for gold and build the triple pileup correction (Eq. 6.15)"
   ]
  },
  {
   "cell_type": "code",
   "execution_count": 34,
   "metadata": {},
   "outputs": [],
   "source": [
    "triplePileup = Ninitial.Clone(\"triplePileup\")\n",
    "triplePileup.Reset()"
   ]
  },
  {
   "cell_type": "code",
   "execution_count": 35,
   "metadata": {},
   "outputs": [],
   "source": [
    "def rhoTriplePileup(E, t, rhoDoubleHist, Ninitial, deltaT):\n",
    "    timeBinN = Ninitial.GetXaxis().FindBin( t )\n",
    "    energySliceN = Ninitial.ProjectionY(\"\", timeBinN, timeBinN).Clone()\n",
    "    \n",
    "    timeBinRho = rhoDoubleHist.GetXaxis().FindBin( t )\n",
    "    energySliceRho = rhoDoubleHist.ProjectionY(\"\", timeBinRho, timeBinRho).Clone()\n",
    "    \n",
    "    int1 = 0\n",
    "    for bin1 in range( energySliceRho.GetNbinsX() ):\n",
    "        Ed = energySliceRho.GetBinContent( bin1 )\n",
    "        if( Ed > E ):\n",
    "            int1 += 0\n",
    "        else:\n",
    "            rho1 = energySliceN.GetBinContent( energySliceN.GetXaxis().FindBin( E - Ed ) )\n",
    "            rho2 = energySliceRho.GetBinContent( energySliceRho.GetXaxis().FindBin(Ed) )\n",
    "            int1 += rho1*rho2\n",
    "            #print(rho1,rho2)\n",
    "        #print(int1)\n",
    "    int2 = energySliceN.Integral()\n",
    "    int3 = (int2)**2\n",
    "    \n",
    "    rhoDoubleEt = rhoDoubleHist.GetBinContent( rhoDoubleHist.GetXaxis().FindBin(t), rhoDoubleHist.GetYaxis().FindBin(E) )\n",
    "    rhoEt = Ninitial.GetBinContent( Ninitial.GetXaxis().FindBin(t), Ninitial.GetYaxis().FindBin(E) )\n",
    "    \n",
    "    #print(\"***************************************\")\n",
    "    #print(int1,int2,int3)\n",
    "    #print(rhoDoubleEt, rhoEt)\n",
    "    #print(((deltaT)**2) * ( int1 ) )\n",
    "    #print( int1 , - 3*rhoDoubleEt*int2 , 3*rhoEt*int3 )\n",
    "    \n",
    "    return ((deltaT)**2) * ( int1 - 3*rhoDoubleEt*int2 + 3*rhoEt*int3 )"
   ]
  },
  {
   "cell_type": "code",
   "execution_count": 36,
   "metadata": {},
   "outputs": [
    {
     "name": "stdout",
     "output_type": "stream",
     "text": [
      "1\n",
      "11\n",
      "21\n",
      "31\n",
      "41\n",
      "51\n",
      "61\n",
      "71\n",
      "81\n",
      "91\n"
     ]
    }
   ],
   "source": [
    "for i in range(1,100,10):\n",
    "    print(i)\n",
    "    rhoTriplePileup(5000, i, rhoDoubleHist, Ninitial, deltaT)"
   ]
  },
  {
   "cell_type": "raw",
   "metadata": {},
   "source": [
    "t = 50\n",
    "timeBinN = Ninitial.GetXaxis().FindBin( t )\n",
    "energySliceN = Ninitial.ProjectionY(\"\", timeBinN, timeBinN).Clone()\n",
    "\n",
    "timeBinRho = rhoDoubleHist.GetXaxis().FindBin( t )\n",
    "energySliceRho = rhoDoubleHist.ProjectionY(\"\", timeBinRho, timeBinRho).Clone()\n",
    "\n",
    "c = r.TCanvas(\"c\",\"c\",1200,600)\n",
    "c.Divide(2)\n",
    "c.cd(1)\n",
    "energySliceN.Draw()\n",
    "c.cd(2)\n",
    "energySliceRho.Draw()\n",
    "c.Draw()"
   ]
  },
  {
   "cell_type": "code",
   "execution_count": 37,
   "metadata": {},
   "outputs": [
    {
     "name": "stdout",
     "output_type": "stream",
     "text": [
      "1 / 470\n",
      "2 / 470\n",
      "3 / 470\n",
      "4 / 470\n",
      "5 / 470\n",
      "6 / 470\n",
      "7 / 470\n",
      "8 / 470\n",
      "9 / 470\n",
      "10 / 470\n",
      "11 / 470\n",
      "12 / 470\n",
      "13 / 470\n",
      "14 / 470\n",
      "15 / 470\n",
      "16 / 470\n",
      "17 / 470\n",
      "18 / 470\n",
      "19 / 470\n",
      "20 / 470\n",
      "21 / 470\n",
      "22 / 470\n",
      "23 / 470\n",
      "24 / 470\n",
      "25 / 470\n",
      "26 / 470\n",
      "27 / 470\n",
      "28 / 470\n",
      "29 / 470\n",
      "30 / 470\n",
      "31 / 470\n",
      "32 / 470\n",
      "33 / 470\n",
      "34 / 470\n",
      "35 / 470\n",
      "36 / 470\n",
      "37 / 470\n",
      "38 / 470\n",
      "39 / 470\n",
      "40 / 470\n",
      "41 / 470\n",
      "42 / 470\n",
      "43 / 470\n",
      "44 / 470\n",
      "45 / 470\n",
      "46 / 470\n",
      "47 / 470\n",
      "48 / 470\n",
      "49 / 470\n",
      "50 / 470\n",
      "51 / 470\n",
      "52 / 470\n",
      "53 / 470\n",
      "54 / 470\n",
      "55 / 470\n",
      "56 / 470\n",
      "57 / 470\n",
      "58 / 470\n",
      "59 / 470\n",
      "60 / 470\n",
      "61 / 470\n",
      "62 / 470\n",
      "63 / 470\n",
      "64 / 470\n",
      "65 / 470\n",
      "66 / 470\n",
      "67 / 470\n",
      "68 / 470\n",
      "69 / 470\n",
      "70 / 470\n",
      "71 / 470\n",
      "72 / 470\n",
      "73 / 470\n",
      "74 / 470\n",
      "75 / 470\n",
      "76 / 470\n",
      "77 / 470\n",
      "78 / 470\n",
      "79 / 470\n",
      "80 / 470\n",
      "81 / 470\n",
      "82 / 470\n",
      "83 / 470\n",
      "84 / 470\n",
      "85 / 470\n",
      "86 / 470\n",
      "87 / 470\n",
      "88 / 470\n",
      "89 / 470\n",
      "90 / 470\n",
      "91 / 470\n",
      "92 / 470\n",
      "93 / 470\n",
      "94 / 470\n",
      "95 / 470\n",
      "96 / 470\n",
      "97 / 470\n",
      "98 / 470\n",
      "99 / 470\n",
      "100 / 470\n",
      "101 / 470\n",
      "102 / 470\n",
      "103 / 470\n",
      "104 / 470\n",
      "105 / 470\n",
      "106 / 470\n",
      "107 / 470\n",
      "108 / 470\n",
      "109 / 470\n",
      "110 / 470\n",
      "111 / 470\n",
      "112 / 470\n",
      "113 / 470\n",
      "114 / 470\n",
      "115 / 470\n",
      "116 / 470\n",
      "117 / 470\n",
      "118 / 470\n",
      "119 / 470\n",
      "120 / 470\n",
      "121 / 470\n",
      "122 / 470\n",
      "123 / 470\n",
      "124 / 470\n",
      "125 / 470\n",
      "126 / 470\n",
      "127 / 470\n",
      "128 / 470\n",
      "129 / 470\n",
      "130 / 470\n",
      "131 / 470\n",
      "132 / 470\n",
      "133 / 470\n",
      "134 / 470\n",
      "135 / 470\n",
      "136 / 470\n",
      "137 / 470\n",
      "138 / 470\n",
      "139 / 470\n",
      "140 / 470\n",
      "141 / 470\n",
      "142 / 470\n",
      "143 / 470\n",
      "144 / 470\n",
      "145 / 470\n",
      "146 / 470\n",
      "147 / 470\n",
      "148 / 470\n",
      "149 / 470\n",
      "150 / 470\n",
      "151 / 470\n",
      "152 / 470\n",
      "153 / 470\n",
      "154 / 470\n",
      "155 / 470\n",
      "156 / 470\n",
      "157 / 470\n",
      "158 / 470\n",
      "159 / 470\n",
      "160 / 470\n",
      "161 / 470\n",
      "162 / 470\n",
      "163 / 470\n",
      "164 / 470\n",
      "165 / 470\n",
      "166 / 470\n",
      "167 / 470\n",
      "168 / 470\n",
      "169 / 470\n",
      "170 / 470\n",
      "171 / 470\n",
      "172 / 470\n",
      "173 / 470\n",
      "174 / 470\n",
      "175 / 470\n",
      "176 / 470\n",
      "177 / 470\n",
      "178 / 470\n",
      "179 / 470\n",
      "180 / 470\n",
      "181 / 470\n",
      "182 / 470\n",
      "183 / 470\n",
      "184 / 470\n",
      "185 / 470\n",
      "186 / 470\n",
      "187 / 470\n",
      "188 / 470\n",
      "189 / 470\n",
      "190 / 470\n",
      "191 / 470\n",
      "192 / 470\n",
      "193 / 470\n",
      "194 / 470\n",
      "195 / 470\n",
      "196 / 470\n",
      "197 / 470\n",
      "198 / 470\n",
      "199 / 470\n",
      "200 / 470\n",
      "201 / 470\n",
      "202 / 470\n",
      "203 / 470\n",
      "204 / 470\n",
      "205 / 470\n",
      "206 / 470\n",
      "207 / 470\n",
      "208 / 470\n",
      "209 / 470\n",
      "210 / 470\n",
      "211 / 470\n",
      "212 / 470\n",
      "213 / 470\n",
      "214 / 470\n",
      "215 / 470\n",
      "216 / 470\n",
      "217 / 470\n",
      "218 / 470\n",
      "219 / 470\n",
      "220 / 470\n",
      "221 / 470\n",
      "222 / 470\n",
      "223 / 470\n",
      "224 / 470\n",
      "225 / 470\n",
      "226 / 470\n",
      "227 / 470\n",
      "228 / 470\n",
      "229 / 470\n",
      "230 / 470\n",
      "231 / 470\n",
      "232 / 470\n",
      "233 / 470\n",
      "234 / 470\n",
      "235 / 470\n",
      "236 / 470\n",
      "237 / 470\n",
      "238 / 470\n",
      "239 / 470\n",
      "240 / 470\n",
      "241 / 470\n",
      "242 / 470\n",
      "243 / 470\n",
      "244 / 470\n",
      "245 / 470\n",
      "246 / 470\n",
      "247 / 470\n",
      "248 / 470\n",
      "249 / 470\n",
      "250 / 470\n",
      "251 / 470\n",
      "252 / 470\n",
      "253 / 470\n",
      "254 / 470\n",
      "255 / 470\n",
      "256 / 470\n",
      "257 / 470\n",
      "258 / 470\n",
      "259 / 470\n",
      "260 / 470\n",
      "261 / 470\n",
      "262 / 470\n",
      "263 / 470\n",
      "264 / 470\n",
      "265 / 470\n",
      "266 / 470\n",
      "267 / 470\n",
      "268 / 470\n",
      "269 / 470\n",
      "270 / 470\n",
      "271 / 470\n",
      "272 / 470\n",
      "273 / 470\n",
      "274 / 470\n",
      "275 / 470\n",
      "276 / 470\n",
      "277 / 470\n",
      "278 / 470\n",
      "279 / 470\n",
      "280 / 470\n",
      "281 / 470\n",
      "282 / 470\n",
      "283 / 470\n",
      "284 / 470\n",
      "285 / 470\n",
      "286 / 470\n",
      "287 / 470\n",
      "288 / 470\n",
      "289 / 470\n",
      "290 / 470\n",
      "291 / 470\n",
      "292 / 470\n",
      "293 / 470\n",
      "294 / 470\n",
      "295 / 470\n",
      "296 / 470\n",
      "297 / 470\n",
      "298 / 470\n",
      "299 / 470\n",
      "300 / 470\n",
      "301 / 470\n",
      "302 / 470\n",
      "303 / 470\n",
      "304 / 470\n",
      "305 / 470\n",
      "306 / 470\n",
      "307 / 470\n",
      "308 / 470\n",
      "309 / 470\n",
      "310 / 470\n",
      "311 / 470\n",
      "312 / 470\n",
      "313 / 470\n",
      "314 / 470\n",
      "315 / 470\n",
      "316 / 470\n",
      "317 / 470\n",
      "318 / 470\n",
      "319 / 470\n",
      "320 / 470\n",
      "321 / 470\n",
      "322 / 470\n",
      "323 / 470\n",
      "324 / 470\n",
      "325 / 470\n",
      "326 / 470\n",
      "327 / 470\n",
      "328 / 470\n",
      "329 / 470\n",
      "330 / 470\n",
      "331 / 470\n",
      "332 / 470\n",
      "333 / 470\n",
      "334 / 470\n",
      "335 / 470\n",
      "336 / 470\n",
      "337 / 470\n",
      "338 / 470\n",
      "339 / 470\n",
      "340 / 470\n",
      "341 / 470\n",
      "342 / 470\n",
      "343 / 470\n",
      "344 / 470\n",
      "345 / 470\n",
      "346 / 470\n",
      "347 / 470\n",
      "348 / 470\n",
      "349 / 470\n",
      "350 / 470\n",
      "351 / 470\n",
      "352 / 470\n",
      "353 / 470\n",
      "354 / 470\n",
      "355 / 470\n",
      "356 / 470\n",
      "357 / 470\n",
      "358 / 470\n",
      "359 / 470\n",
      "360 / 470\n",
      "361 / 470\n",
      "362 / 470\n",
      "363 / 470\n",
      "364 / 470\n",
      "365 / 470\n",
      "366 / 470\n",
      "367 / 470\n",
      "368 / 470\n",
      "369 / 470\n",
      "370 / 470\n",
      "371 / 470\n",
      "372 / 470\n",
      "373 / 470\n",
      "374 / 470\n",
      "375 / 470\n",
      "376 / 470\n",
      "377 / 470\n",
      "378 / 470\n",
      "379 / 470\n",
      "380 / 470\n",
      "381 / 470\n",
      "382 / 470\n",
      "383 / 470\n",
      "384 / 470\n",
      "385 / 470\n",
      "386 / 470\n",
      "387 / 470\n",
      "388 / 470\n",
      "389 / 470\n",
      "390 / 470\n",
      "391 / 470\n",
      "392 / 470\n",
      "393 / 470\n",
      "394 / 470\n",
      "395 / 470\n",
      "396 / 470\n",
      "397 / 470\n",
      "398 / 470\n",
      "399 / 470\n",
      "400 / 470\n",
      "401 / 470\n",
      "402 / 470\n",
      "403 / 470\n",
      "404 / 470\n",
      "405 / 470\n",
      "406 / 470\n",
      "407 / 470\n",
      "408 / 470\n",
      "409 / 470\n",
      "410 / 470\n",
      "411 / 470\n",
      "412 / 470\n",
      "413 / 470\n",
      "414 / 470\n",
      "415 / 470\n",
      "416 / 470\n",
      "417 / 470\n",
      "418 / 470\n",
      "419 / 470\n",
      "420 / 470\n",
      "421 / 470\n",
      "422 / 470\n",
      "423 / 470\n",
      "424 / 470\n",
      "425 / 470\n",
      "426 / 470\n",
      "427 / 470\n",
      "428 / 470\n",
      "429 / 470\n",
      "430 / 470\n",
      "431 / 470\n",
      "432 / 470\n",
      "433 / 470\n",
      "434 / 470\n",
      "435 / 470\n",
      "436 / 470\n",
      "437 / 470\n",
      "438 / 470\n",
      "439 / 470\n",
      "440 / 470\n",
      "441 / 470\n",
      "442 / 470\n",
      "443 / 470\n",
      "444 / 470\n",
      "445 / 470\n",
      "446 / 470\n",
      "447 / 470\n",
      "448 / 470\n",
      "449 / 470\n",
      "450 / 470\n",
      "451 / 470\n",
      "452 / 470\n",
      "453 / 470\n",
      "454 / 470\n",
      "455 / 470\n",
      "456 / 470\n",
      "457 / 470\n",
      "458 / 470\n",
      "459 / 470\n",
      "460 / 470\n",
      "461 / 470\n",
      "462 / 470\n",
      "463 / 470\n",
      "464 / 470\n",
      "465 / 470\n",
      "466 / 470\n",
      "467 / 470\n",
      "468 / 470\n",
      "469 / 470\n"
     ]
    }
   ],
   "source": [
    "nBinsX = triplePileup.GetXaxis().GetNbins()\n",
    "nBinsY = triplePileup.GetYaxis().GetNbins()\n",
    "\n",
    "for binx in range(1,nBinsX+1):\n",
    "    #if binx > 10:\n",
    "    #    break\n",
    "    print(binx,\"/\",nBinsX+1)\n",
    "    for biny in range(1,nBinsY+1):\n",
    "        Ei = triplePileup.GetYaxis().GetBinCenter(biny)\n",
    "        ti = triplePileup.GetXaxis().GetBinCenter(binx)\n",
    "        rhoi = rhoTriplePileup(Ei, ti, rhoDoubleHist, Ninitial, deltaT)\n",
    "        #print(rhoi)\n",
    "        triplePileup.SetBinContent(binx,biny,rhoi)"
   ]
  },
  {
   "cell_type": "code",
   "execution_count": 38,
   "metadata": {},
   "outputs": [
    {
     "name": "stderr",
     "output_type": "stream",
     "text": [
      "Info in <TCanvas::SaveAs>: ROOT file ./pileupCorrection/triplePileup_Unscaled_pileupRebinTest.root has been created\n"
     ]
    }
   ],
   "source": [
    "c.Print(\"./pileupCorrection/triplePileup_Unscaled\"+fileString+\".root\")"
   ]
  },
  {
   "cell_type": "code",
   "execution_count": 39,
   "metadata": {},
   "outputs": [
    {
     "data": {
      "image/png": "[encoded data removed]",
      "text/plain": [
       "<IPython.core.display.Image object>"
      ]
     },
     "metadata": {},
     "output_type": "display_data"
    }
   ],
   "source": [
    "c = r.TCanvas()\n",
    "triplePileup.Draw(\"colz\")\n",
    "c.SetLogz()\n",
    "c.Draw()"
   ]
  },
  {
   "cell_type": "code",
   "execution_count": 40,
   "metadata": {},
   "outputs": [
    {
     "data": {
      "image/png": "[encoded data removed]",
      "text/plain": [
       "<IPython.core.display.Image object>"
      ]
     },
     "metadata": {},
     "output_type": "display_data"
    }
   ],
   "source": [
    "c = r.TCanvas()\n",
    "triplePileupY = triplePileup.ProjectionY().Clone()\n",
    "triplePileupY.Draw()\n",
    "c.Draw()"
   ]
  },
  {
   "cell_type": "code",
   "execution_count": 41,
   "metadata": {},
   "outputs": [
    {
     "data": {
      "image/png": "[encoded data removed]",
      "text/plain": [
       "<IPython.core.display.Image object>"
      ]
     },
     "metadata": {},
     "output_type": "display_data"
    }
   ],
   "source": [
    "c = r.TCanvas()\n",
    "triplePileupYInv = triplePileupY.Clone()\n",
    "for i in range(triplePileupY.GetNbinsX()):\n",
    "    triplePileupYInv.SetBinContent(i, (-1)*triplePileupY.GetBinContent(i))\n",
    "triplePileupYInv.SetLineColor(3)\n",
    "triplePileupYInv.Draw()\n",
    "c.Draw()"
   ]
  },
  {
   "cell_type": "code",
   "execution_count": 42,
   "metadata": {},
   "outputs": [
    {
     "data": {
      "image/png": "[encoded data removed]",
      "text/plain": [
       "<IPython.core.display.Image object>"
      ]
     },
     "metadata": {},
     "output_type": "display_data"
    }
   ],
   "source": [
    "c = r.TCanvas()\n",
    "doublePileupY.Draw()\n",
    "doublePileupY.GetXaxis().SetRangeUser(0,6000)\n",
    "doublePileupY.GetYaxis().SetRangeUser(10**10,10**45)\n",
    "doublePileupInv.ProjectionY().Draw(\"same\")\n",
    "triplePileupY.Draw(\"same\")\n",
    "triplePileupYInv.Draw(\"SAME\")\n",
    "c.SetLogy()\n",
    "c.Draw()"
   ]
  },
  {
   "cell_type": "markdown",
   "metadata": {},
   "source": [
    "---\n",
    "\n",
    "### And now fit to a linear combo of the double and triple pileup"
   ]
  },
  {
   "cell_type": "code",
   "execution_count": 43,
   "metadata": {},
   "outputs": [],
   "source": [
    "# https://root.cern.ch/root/html/tutorials/fit/fithist.C.html\n",
    "def fitHistTrip(x, p):\n",
    "    rawHistDouble = doublePileupY\n",
    "    rawHistTriple = triplePileupY\n",
    "    scaleFactorDouble = p[0]\n",
    "    scaleFactorTriple = p[1]\n",
    "    y = ( rawHistDouble.GetBinContent( rawHistDouble.FindBin(x[0]) ) * scaleFactorDouble \n",
    "         + rawHistTriple.GetBinContent( rawHistTriple.FindBin(x[0]) ) * scaleFactorTriple )\n",
    "    return y"
   ]
  },
  {
   "cell_type": "code",
   "execution_count": 44,
   "metadata": {},
   "outputs": [],
   "source": [
    "triplePileupFit = r.TF1(\"triplePileupFit\", fitHistTrip, 3500, 6000, 2)\n",
    "triplePileupFit.SetParameters(0.00000000000000000001,-0.00000000001)"
   ]
  },
  {
   "cell_type": "code",
   "execution_count": 45,
   "metadata": {},
   "outputs": [
    {
     "name": "stdout",
     "output_type": "stream",
     "text": [
      " FCN=1.35057e+06 FROM MIGRAD    STATUS=FAILED        107 CALLS         108 TOTAL\n",
      "                     EDM=2.5775e+06    STRATEGY= 1      ERR MATRIX APPROXIMATE\n",
      "  EXT PARAMETER                APPROXIMATE        STEP         FIRST   \n",
      "  NO.   NAME      VALUE            ERROR          SIZE      DERIVATIVE \n",
      "   1  p0          -1.51500e-14   4.10163e-14   5.94193e-15   5.53550e+16\n",
      "   2  p1          -2.10468e-20   1.01105e-23   4.88281e-19   4.49614e+14\n",
      " FCN=61824.8 FROM MINOS     STATUS=SUCCESSFUL      8 CALLS          68 TOTAL\n",
      "                     EDM=9.34784e-12    STRATEGY= 1      ERROR MATRIX ACCURATE \n",
      "  EXT PARAMETER                                   STEP         FIRST   \n",
      "  NO.   NAME      VALUE            ERROR          SIZE      DERIVATIVE \n",
      "   1  p0          -4.65782e-11   4.10163e-14  -0.00000e+00   4.06608e+08\n",
      "   2  p1          -3.21443e-20   1.01105e-23   1.01105e-23  -4.64350e+13\n"
     ]
    },
    {
     "name": "stderr",
     "output_type": "stream",
     "text": [
      "Warning in <Fit>: Abnormal termination of minimization.\n"
     ]
    }
   ],
   "source": [
    "for i in range(2):\n",
    "    NinitialY.Fit(\"triplePileupFit\",\"REMBS\")"
   ]
  },
  {
   "cell_type": "code",
   "execution_count": 46,
   "metadata": {},
   "outputs": [],
   "source": [
    "doublePileupScaled = doublePileup.Clone(\"doublePileupScaled\")\n",
    "doublePileupScaled.Scale(triplePileupFit.GetParameter(0))\n",
    "\n",
    "triplePileupScaled = triplePileup.Clone(\"triplePileupScaled\")\n",
    "triplePileupScaled.Scale(triplePileupFit.GetParameter(1))"
   ]
  },
  {
   "cell_type": "code",
   "execution_count": 47,
   "metadata": {},
   "outputs": [
    {
     "data": {
      "image/png": "[encoded data removed]",
      "text/plain": [
       "<IPython.core.display.Image object>"
      ]
     },
     "metadata": {},
     "output_type": "display_data"
    }
   ],
   "source": [
    "c = r.TCanvas()\n",
    "\n",
    "doublePileupScaledY = doublePileupScaled.ProjectionY().Clone()\n",
    "doublePileupScaledY.Draw(\"hist\")\n",
    "doublePileupScaledY.GetXaxis().SetRangeUser(0,6000)\n",
    "doublePileupScaledY.GetYaxis().SetRangeUser(1,10**10)\n",
    "\n",
    "triplePileupScaled.ProjectionY().Draw(\"hist same\")\n",
    "\n",
    "Ninitial.ProjectionY().Draw(\"SAME\")\n",
    "\n",
    "c.SetLogy()\n",
    "c.Draw()"
   ]
  },
  {
   "cell_type": "code",
   "execution_count": null,
   "metadata": {},
   "outputs": [],
   "source": []
  },
  {
   "cell_type": "code",
   "execution_count": 48,
   "metadata": {},
   "outputs": [
    {
     "data": {
      "image/png": "[encoded data removed]",
      "text/plain": [
       "<IPython.core.display.Image object>"
      ]
     },
     "metadata": {},
     "output_type": "display_data"
    }
   ],
   "source": [
    "c = r.TCanvas()\n",
    "\n",
    "totalPileupScaled = doublePileupScaledY.Clone()\n",
    "totalPileupScaled.Add(triplePileupScaled.ProjectionY(),1)\n",
    "totalPileupScaled.SetLineColor(2)\n",
    "totalPileupScaled.Draw(\"hist\")\n",
    "\n",
    "totalPileupScaled.GetXaxis().SetRangeUser(0,6000)\n",
    "totalPileupScaled.GetYaxis().SetRangeUser(10**0,10**10)\n",
    "\n",
    "totalPileupScaledInv = totalPileupScaled.Clone()\n",
    "for i in range(totalPileupScaled.GetNbinsX()+1):\n",
    "    totalPileupScaledInv.SetBinContent(i, -1*totalPileupScaled.GetBinContent(i))\n",
    "totalPileupScaledInv.SetLineColor(3)\n",
    "totalPileupScaledInv.Draw(\"hist SAME\")\n",
    "\n",
    "Ninitial.ProjectionY().Draw(\"SAME\")\n",
    "\n",
    "c.SetLogy()\n",
    "c.Draw()"
   ]
  },
  {
   "cell_type": "code",
   "execution_count": 49,
   "metadata": {},
   "outputs": [
    {
     "data": {
      "image/png": "[encoded data removed]",
      "text/plain": [
       "<IPython.core.display.Image object>"
      ]
     },
     "metadata": {},
     "output_type": "display_data"
    }
   ],
   "source": [
    "c = r.TCanvas()\n",
    "\n",
    "totalPileupScaled.Draw(\"hist\")\n",
    "\n",
    "totalPileupScaled.GetXaxis().SetRangeUser(3000,6000)\n",
    "totalPileupScaled.GetYaxis().SetRangeUser(10**5,10**7)\n",
    "\n",
    "Ninitial.ProjectionY().Draw(\"SAME\")\n",
    "\n",
    "c.SetLogy()\n",
    "c.Draw()"
   ]
  },
  {
   "cell_type": "code",
   "execution_count": 50,
   "metadata": {},
   "outputs": [
    {
     "data": {
      "image/png": "[encoded data removed]",
      "text/plain": [
       "<IPython.core.display.Image object>"
      ]
     },
     "metadata": {},
     "output_type": "display_data"
    }
   ],
   "source": [
    "c = r.TCanvas()\n",
    "\n",
    "triplePileupScaled.ProjectionY().Draw(\"hist \")\n",
    "\n",
    "c.SetLogy()\n",
    "c.Draw()"
   ]
  },
  {
   "cell_type": "code",
   "execution_count": 51,
   "metadata": {},
   "outputs": [
    {
     "data": {
      "text/plain": [
       "True"
      ]
     },
     "execution_count": 51,
     "metadata": {},
     "output_type": "execute_result"
    }
   ],
   "source": [
    "NtriplePileup = Ninitial.Clone(\"NtriplePileup\")\n",
    "NtriplePileup.Add(doublePileupScaled, -1)\n",
    "NtriplePileup.Add(triplePileupScaled, -1)"
   ]
  },
  {
   "cell_type": "code",
   "execution_count": 52,
   "metadata": {},
   "outputs": [
    {
     "name": "stderr",
     "output_type": "stream",
     "text": [
      "Info in <TCanvas::SaveAs>: ROOT file ./pileupCorrection/NtriplePileupCorrected_pileupRebinTest.root has been created\n"
     ]
    },
    {
     "data": {
      "image/png": "[encoded data removed]",
      "text/plain": [
       "<IPython.core.display.Image object>"
      ]
     },
     "metadata": {},
     "output_type": "display_data"
    }
   ],
   "source": [
    "c = r.TCanvas()\n",
    "NtriplePileup.Draw(\"colz\")\n",
    "c.SetLogz()\n",
    "c.Draw()\n",
    "c.Print(\"./pileupCorrection/NtriplePileupCorrected\"+fileString+\".root\")"
   ]
  },
  {
   "cell_type": "code",
   "execution_count": 53,
   "metadata": {},
   "outputs": [
    {
     "data": {
      "image/png": "[encoded data removed]",
      "text/plain": [
       "<IPython.core.display.Image object>"
      ]
     },
     "metadata": {},
     "output_type": "display_data"
    }
   ],
   "source": [
    "c = r.TCanvas()\n",
    "NtriplePileup.ProjectionX().Draw(\"hist\")\n",
    "c.SetLogy()\n",
    "c.Draw()"
   ]
  },
  {
   "cell_type": "raw",
   "metadata": {},
   "source": [
    "c = r.TCanvas()\n",
    "NtriplePileup.ProjectionY().Draw(\"hist\")\n",
    "c.SetLogy()\n",
    "c.Draw()"
   ]
  },
  {
   "cell_type": "code",
   "execution_count": 54,
   "metadata": {},
   "outputs": [
    {
     "ename": "NameError",
     "evalue": "name 'NtriplePileupY' is not defined",
     "output_type": "error",
     "traceback": [
      "\u001b[0;31m---------------------------------------------------------------------------\u001b[0m",
      "\u001b[0;31mNameError\u001b[0m                                 Traceback (most recent call last)",
      "\u001b[0;32m<ipython-input-54-c4a9ebdfc3b4>\u001b[0m in \u001b[0;36m<module>\u001b[0;34m\u001b[0m\n\u001b[1;32m      1\u001b[0m \u001b[0mNtriplePileupInv\u001b[0m \u001b[0;34m=\u001b[0m \u001b[0mNtriplePileup\u001b[0m\u001b[0;34m.\u001b[0m\u001b[0mProjectionY\u001b[0m\u001b[0;34m(\u001b[0m\u001b[0;34m)\u001b[0m\u001b[0;34m.\u001b[0m\u001b[0mClone\u001b[0m\u001b[0;34m(\u001b[0m\u001b[0;34m)\u001b[0m\u001b[0;34m\u001b[0m\u001b[0;34m\u001b[0m\u001b[0m\n\u001b[1;32m      2\u001b[0m \u001b[0;32mfor\u001b[0m \u001b[0mi\u001b[0m \u001b[0;32min\u001b[0m \u001b[0mrange\u001b[0m\u001b[0;34m(\u001b[0m\u001b[0mNtriplePileupInv\u001b[0m\u001b[0;34m.\u001b[0m\u001b[0mGetNbinsX\u001b[0m\u001b[0;34m(\u001b[0m\u001b[0;34m)\u001b[0m\u001b[0;34m)\u001b[0m\u001b[0;34m:\u001b[0m\u001b[0;34m\u001b[0m\u001b[0;34m\u001b[0m\u001b[0m\n\u001b[0;32m----> 3\u001b[0;31m     \u001b[0mNtriplePileupInv\u001b[0m\u001b[0;34m.\u001b[0m\u001b[0mSetBinContent\u001b[0m\u001b[0;34m(\u001b[0m\u001b[0mi\u001b[0m\u001b[0;34m,\u001b[0m \u001b[0mNtriplePileupY\u001b[0m\u001b[0;34m.\u001b[0m\u001b[0mGetBinContent\u001b[0m\u001b[0;34m(\u001b[0m\u001b[0mi\u001b[0m\u001b[0;34m)\u001b[0m\u001b[0;34m*\u001b[0m\u001b[0;34m(\u001b[0m\u001b[0;34m-\u001b[0m\u001b[0;36m1\u001b[0m\u001b[0;34m)\u001b[0m\u001b[0;34m)\u001b[0m\u001b[0;34m\u001b[0m\u001b[0;34m\u001b[0m\u001b[0m\n\u001b[0m\u001b[1;32m      4\u001b[0m \u001b[0mNtriplePileupInv\u001b[0m\u001b[0;34m.\u001b[0m\u001b[0mSetLineColor\u001b[0m\u001b[0;34m(\u001b[0m\u001b[0;36m2\u001b[0m\u001b[0;34m)\u001b[0m\u001b[0;34m\u001b[0m\u001b[0;34m\u001b[0m\u001b[0m\n",
      "\u001b[0;31mNameError\u001b[0m: name 'NtriplePileupY' is not defined"
     ]
    }
   ],
   "source": [
    "NtriplePileupInv = NtriplePileup.ProjectionY().Clone()\n",
    "for i in range(NtriplePileupInv.GetNbinsX()):\n",
    "    NtriplePileupInv.SetBinContent(i, NtriplePileupY.GetBinContent(i)*(-1))\n",
    "NtriplePileupInv.SetLineColor(2)"
   ]
  },
  {
   "cell_type": "code",
   "execution_count": null,
   "metadata": {},
   "outputs": [],
   "source": [
    "c = r.TCanvas()\n",
    "NtriplePileupY = NtriplePileup.ProjectionY().Clone()\n",
    "NtriplePileupY.SetTitle(\"Energy Spectrum After Pileup Correction\")\n",
    "NtriplePileupY.Draw(\"hist\")\n",
    "NtriplePileupY.GetXaxis().SetRangeUser(0,6000)\n",
    "NtriplePileupY.GetYaxis().SetRangeUser(1,10**9)\n",
    "NtriplePileupInv.Draw(\"hist same\")\n",
    "c.SetLogy()\n",
    "c.Draw()"
   ]
  },
  {
   "cell_type": "code",
   "execution_count": null,
   "metadata": {},
   "outputs": [],
   "source": [
    "c = r.TCanvas()\n",
    "binLow = NtriplePileup.GetYaxis().FindBin(1700)\n",
    "binHigh = NtriplePileup.GetYaxis().FindBin(3300)\n",
    "NtriplePileup.ProjectionX(\"\",binLow,binHigh).Draw(\"hist\")\n",
    "c.SetLogy()\n",
    "c.Draw()"
   ]
  },
  {
   "cell_type": "code",
   "execution_count": null,
   "metadata": {},
   "outputs": [],
   "source": [
    "c = r.TCanvas()\n",
    "correctedWiggle = NtriplePileup.ProjectionX(\"\",\n",
    "                                           NtriplePileup.GetYaxis().FindBin(3500),\n",
    "                                           NtriplePileup.GetYaxis().FindBin(6000)).Clone(\"correctedWiggle\")\n",
    "uncorrectedWiggle = Ninitial.ProjectionX(\"\",\n",
    "                                           Ninitial.GetYaxis().FindBin(3500),\n",
    "                                           Ninitial.GetYaxis().FindBin(6000)).Clone(\"uncorrectedWiggle\")\n",
    "correctedWiggle.SetLineColor(2)\n",
    "uncorrectedWiggle.SetTitle(\"Hits [3.5 GeV < E < 6.0 GeV] Before and After Pileup Correction\")\n",
    "\n",
    "uncorrectedWiggle.GetYaxis().SetRangeUser(-10000,30000)\n",
    "uncorrectedWiggle.GetXaxis().SetRangeUser(30,180)\n",
    "uncorrectedWiggle.Draw()\n",
    "\n",
    "correctedWiggle.Draw(\"SAME\")\n",
    "\n",
    "leg = r.TLegend(0.6,0.8,0.9,0.9)\n",
    "leg.AddEntry(uncorrectedWiggle,\"Uncorrected Hits\")\n",
    "leg.AddEntry(correctedWiggle,\"Corrected Hits\")\n",
    "leg.Draw(\"SAME\")\n",
    "\n",
    "c.SetGrid()\n",
    "\n",
    "c.Draw()"
   ]
  },
  {
   "cell_type": "code",
   "execution_count": null,
   "metadata": {},
   "outputs": [],
   "source": []
  },
  {
   "cell_type": "code",
   "execution_count": null,
   "metadata": {},
   "outputs": [],
   "source": []
  },
  {
   "cell_type": "code",
   "execution_count": null,
   "metadata": {},
   "outputs": [],
   "source": []
  },
  {
   "cell_type": "code",
   "execution_count": null,
   "metadata": {},
   "outputs": [],
   "source": []
  }
 ],
 "metadata": {
  "kernelspec": {
   "display_name": "Python 3",
   "language": "python",
   "name": "python3"
  },
  "language_info": {
   "codemirror_mode": {
    "name": "ipython",
    "version": 3
   },
   "file_extension": ".py",
   "mimetype": "text/x-python",
   "name": "python",
   "nbconvert_exporter": "python",
   "pygments_lexer": "ipython3",
   "version": "3.6.8"
  }
 },
 "nbformat": 4,
 "nbformat_minor": 2
}
