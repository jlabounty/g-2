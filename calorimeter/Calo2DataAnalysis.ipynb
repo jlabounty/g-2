{
 "cells": [
  {
   "cell_type": "code",
   "execution_count": 1,
   "metadata": {},
   "outputs": [
    {
     "name": "stdout",
     "output_type": "stream",
     "text": [
      "Welcome to JupyROOT 6.12/06\n"
     ]
    }
   ],
   "source": [
    "import ROOT as r\n",
    "import math\n",
    "from BlindersPy3 import Blinders\n",
    "from BlindersPy3 import FitType\n",
    "r.gStyle.SetOptStat(0)\n",
    "r.gStyle.SetOptFit(1111)\n",
    "import matplotlib.pyplot as plt\n",
    "import csv\n",
    "import pandas\n",
    "\n",
    "import seaborn as sns\n",
    "sns.set(style=\"ticks\", color_codes=True)\n",
    "import numpy as np\n",
    "import matplotlib.pyplot as plt\n",
    "import matplotlib \n",
    "matplotlib.rc('xtick', labelsize=20) \n",
    "matplotlib.rc('ytick', labelsize=20) \n",
    "\n",
    "%matplotlib inline"
   ]
  },
  {
   "cell_type": "code",
   "execution_count": 2,
   "metadata": {},
   "outputs": [],
   "source": [
    "#infile = open(\"calo_data_output.csv\", \"r\")\n",
    "#readin = csv.reader(infile)"
   ]
  },
  {
   "cell_type": "code",
   "execution_count": 3,
   "metadata": {},
   "outputs": [],
   "source": [
    "caloData = pandas.read_csv(\"calo_data_output.csv\")"
   ]
  },
  {
   "cell_type": "code",
   "execution_count": 4,
   "metadata": {},
   "outputs": [
    {
     "data": {
      "text/html": [
       "<div>\n",
       "<style scoped>\n",
       "    .dataframe tbody tr th:only-of-type {\n",
       "        vertical-align: middle;\n",
       "    }\n",
       "\n",
       "    .dataframe tbody tr th {\n",
       "        vertical-align: top;\n",
       "    }\n",
       "\n",
       "    .dataframe thead th {\n",
       "        text-align: right;\n",
       "    }\n",
       "</style>\n",
       "<table border=\"1\" class=\"dataframe\">\n",
       "  <thead>\n",
       "    <tr style=\"text-align: right;\">\n",
       "      <th></th>\n",
       "      <th>Calorimeter Number</th>\n",
       "      <th>Global Bin</th>\n",
       "      <th>Run Number</th>\n",
       "      <th>SubRun Number</th>\n",
       "      <th>Event Number</th>\n",
       "      <th>Counts</th>\n",
       "    </tr>\n",
       "  </thead>\n",
       "  <tbody>\n",
       "    <tr>\n",
       "      <th>0</th>\n",
       "      <td>1</td>\n",
       "      <td>15937273</td>\n",
       "      <td>15937</td>\n",
       "      <td>27</td>\n",
       "      <td>5</td>\n",
       "      <td>513.0</td>\n",
       "    </tr>\n",
       "    <tr>\n",
       "      <th>1</th>\n",
       "      <td>1</td>\n",
       "      <td>15937275</td>\n",
       "      <td>15937</td>\n",
       "      <td>27</td>\n",
       "      <td>7</td>\n",
       "      <td>574.0</td>\n",
       "    </tr>\n",
       "    <tr>\n",
       "      <th>2</th>\n",
       "      <td>1</td>\n",
       "      <td>15937277</td>\n",
       "      <td>15937</td>\n",
       "      <td>27</td>\n",
       "      <td>9</td>\n",
       "      <td>571.0</td>\n",
       "    </tr>\n",
       "    <tr>\n",
       "      <th>3</th>\n",
       "      <td>1</td>\n",
       "      <td>15937279</td>\n",
       "      <td>15937</td>\n",
       "      <td>27</td>\n",
       "      <td>11</td>\n",
       "      <td>547.0</td>\n",
       "    </tr>\n",
       "    <tr>\n",
       "      <th>4</th>\n",
       "      <td>1</td>\n",
       "      <td>159372711</td>\n",
       "      <td>15937</td>\n",
       "      <td>27</td>\n",
       "      <td>14</td>\n",
       "      <td>471.0</td>\n",
       "    </tr>\n",
       "  </tbody>\n",
       "</table>\n",
       "</div>"
      ],
      "text/plain": [
       "   Calorimeter Number  Global Bin  Run Number  SubRun Number  Event Number  \\\n",
       "0                   1    15937273       15937             27             5   \n",
       "1                   1    15937275       15937             27             7   \n",
       "2                   1    15937277       15937             27             9   \n",
       "3                   1    15937279       15937             27            11   \n",
       "4                   1   159372711       15937             27            14   \n",
       "\n",
       "   Counts  \n",
       "0   513.0  \n",
       "1   574.0  \n",
       "2   571.0  \n",
       "3   547.0  \n",
       "4   471.0  "
      ]
     },
     "execution_count": 4,
     "metadata": {},
     "output_type": "execute_result"
    }
   ],
   "source": [
    "caloData.head()"
   ]
  },
  {
   "cell_type": "code",
   "execution_count": 5,
   "metadata": {},
   "outputs": [
    {
     "data": {
      "text/html": [
       "<div>\n",
       "<style scoped>\n",
       "    .dataframe tbody tr th:only-of-type {\n",
       "        vertical-align: middle;\n",
       "    }\n",
       "\n",
       "    .dataframe tbody tr th {\n",
       "        vertical-align: top;\n",
       "    }\n",
       "\n",
       "    .dataframe thead th {\n",
       "        text-align: right;\n",
       "    }\n",
       "</style>\n",
       "<table border=\"1\" class=\"dataframe\">\n",
       "  <thead>\n",
       "    <tr style=\"text-align: right;\">\n",
       "      <th></th>\n",
       "      <th>Calorimeter Number</th>\n",
       "      <th>Global Bin</th>\n",
       "      <th>Run Number</th>\n",
       "      <th>SubRun Number</th>\n",
       "      <th>Event Number</th>\n",
       "      <th>Counts</th>\n",
       "    </tr>\n",
       "  </thead>\n",
       "  <tbody>\n",
       "    <tr>\n",
       "      <th>0</th>\n",
       "      <td>1</td>\n",
       "      <td>15937273</td>\n",
       "      <td>15937</td>\n",
       "      <td>27</td>\n",
       "      <td>5</td>\n",
       "      <td>513.0</td>\n",
       "    </tr>\n",
       "    <tr>\n",
       "      <th>20677</th>\n",
       "      <td>2</td>\n",
       "      <td>15937273</td>\n",
       "      <td>15937</td>\n",
       "      <td>27</td>\n",
       "      <td>5</td>\n",
       "      <td>508.0</td>\n",
       "    </tr>\n",
       "    <tr>\n",
       "      <th>41354</th>\n",
       "      <td>3</td>\n",
       "      <td>15937273</td>\n",
       "      <td>15937</td>\n",
       "      <td>27</td>\n",
       "      <td>5</td>\n",
       "      <td>642.0</td>\n",
       "    </tr>\n",
       "    <tr>\n",
       "      <th>62031</th>\n",
       "      <td>4</td>\n",
       "      <td>15937273</td>\n",
       "      <td>15937</td>\n",
       "      <td>27</td>\n",
       "      <td>5</td>\n",
       "      <td>624.0</td>\n",
       "    </tr>\n",
       "    <tr>\n",
       "      <th>82708</th>\n",
       "      <td>5</td>\n",
       "      <td>15937273</td>\n",
       "      <td>15937</td>\n",
       "      <td>27</td>\n",
       "      <td>5</td>\n",
       "      <td>655.0</td>\n",
       "    </tr>\n",
       "  </tbody>\n",
       "</table>\n",
       "</div>"
      ],
      "text/plain": [
       "       Calorimeter Number  Global Bin  Run Number  SubRun Number  \\\n",
       "0                       1    15937273       15937             27   \n",
       "20677                   2    15937273       15937             27   \n",
       "41354                   3    15937273       15937             27   \n",
       "62031                   4    15937273       15937             27   \n",
       "82708                   5    15937273       15937             27   \n",
       "\n",
       "       Event Number  Counts  \n",
       "0                 5   513.0  \n",
       "20677             5   508.0  \n",
       "41354             5   642.0  \n",
       "62031             5   624.0  \n",
       "82708             5   655.0  "
      ]
     },
     "execution_count": 5,
     "metadata": {},
     "output_type": "execute_result"
    }
   ],
   "source": [
    "caloData.loc[caloData['Global Bin'] == 15937273].head()"
   ]
  },
  {
   "cell_type": "code",
   "execution_count": 6,
   "metadata": {},
   "outputs": [
    {
     "data": {
      "text/html": [
       "<div>\n",
       "<style scoped>\n",
       "    .dataframe tbody tr th:only-of-type {\n",
       "        vertical-align: middle;\n",
       "    }\n",
       "\n",
       "    .dataframe tbody tr th {\n",
       "        vertical-align: top;\n",
       "    }\n",
       "\n",
       "    .dataframe thead th {\n",
       "        text-align: right;\n",
       "    }\n",
       "</style>\n",
       "<table border=\"1\" class=\"dataframe\">\n",
       "  <thead>\n",
       "    <tr style=\"text-align: right;\">\n",
       "      <th></th>\n",
       "      <th>Calorimeter Number</th>\n",
       "      <th>Global Bin</th>\n",
       "      <th>Run Number</th>\n",
       "      <th>SubRun Number</th>\n",
       "      <th>Event Number</th>\n",
       "      <th>Counts</th>\n",
       "    </tr>\n",
       "  </thead>\n",
       "  <tbody>\n",
       "    <tr>\n",
       "      <th>20672</th>\n",
       "      <td>1</td>\n",
       "      <td>15928463145</td>\n",
       "      <td>15928</td>\n",
       "      <td>463</td>\n",
       "      <td>147</td>\n",
       "      <td>580.0</td>\n",
       "    </tr>\n",
       "    <tr>\n",
       "      <th>20673</th>\n",
       "      <td>1</td>\n",
       "      <td>15928463147</td>\n",
       "      <td>15928</td>\n",
       "      <td>463</td>\n",
       "      <td>149</td>\n",
       "      <td>518.0</td>\n",
       "    </tr>\n",
       "    <tr>\n",
       "      <th>20674</th>\n",
       "      <td>1</td>\n",
       "      <td>15928463149</td>\n",
       "      <td>15928</td>\n",
       "      <td>463</td>\n",
       "      <td>151</td>\n",
       "      <td>585.0</td>\n",
       "    </tr>\n",
       "    <tr>\n",
       "      <th>20675</th>\n",
       "      <td>1</td>\n",
       "      <td>15928463151</td>\n",
       "      <td>15928</td>\n",
       "      <td>463</td>\n",
       "      <td>154</td>\n",
       "      <td>439.0</td>\n",
       "    </tr>\n",
       "    <tr>\n",
       "      <th>20676</th>\n",
       "      <td>1</td>\n",
       "      <td>15928463154</td>\n",
       "      <td>15928</td>\n",
       "      <td>463</td>\n",
       "      <td>154</td>\n",
       "      <td>476.0</td>\n",
       "    </tr>\n",
       "  </tbody>\n",
       "</table>\n",
       "</div>"
      ],
      "text/plain": [
       "       Calorimeter Number   Global Bin  Run Number  SubRun Number  \\\n",
       "20672                   1  15928463145       15928            463   \n",
       "20673                   1  15928463147       15928            463   \n",
       "20674                   1  15928463149       15928            463   \n",
       "20675                   1  15928463151       15928            463   \n",
       "20676                   1  15928463154       15928            463   \n",
       "\n",
       "       Event Number  Counts  \n",
       "20672           147   580.0  \n",
       "20673           149   518.0  \n",
       "20674           151   585.0  \n",
       "20675           154   439.0  \n",
       "20676           154   476.0  "
      ]
     },
     "execution_count": 6,
     "metadata": {},
     "output_type": "execute_result"
    }
   ],
   "source": [
    "caloData1 = caloData.loc[caloData['Calorimeter Number'] == 1]\n",
    "caloData1.tail()"
   ]
  },
  {
   "cell_type": "code",
   "execution_count": 7,
   "metadata": {},
   "outputs": [
    {
     "data": {
      "text/plain": [
       "<matplotlib.axes._subplots.AxesSubplot at 0x7fef35ece710>"
      ]
     },
     "execution_count": 7,
     "metadata": {},
     "output_type": "execute_result"
    },
    {
     "data": {
      "image/png": "[encoded data removed]",
      "text/plain": [
       "<Figure size 432x288 with 1 Axes>"
      ]
     },
     "metadata": {},
     "output_type": "display_data"
    }
   ],
   "source": [
    "caloData.plot(y='Counts',x='Calorimeter Number')"
   ]
  },
  {
   "cell_type": "code",
   "execution_count": 8,
   "metadata": {},
   "outputs": [],
   "source": [
    "data = []\n",
    "for i in range(1,25):\n",
    "    caloDatai = caloData.loc[caloData['Calorimeter Number'] == i]\n",
    "    data.append(caloDatai['Counts'])"
   ]
  },
  {
   "cell_type": "code",
   "execution_count": 9,
   "metadata": {},
   "outputs": [
    {
     "data": {
      "image/png": "[encoded data removed]",
      "text/plain": [
       "<Figure size 1296x360 with 1 Axes>"
      ]
     },
     "metadata": {},
     "output_type": "display_data"
    }
   ],
   "source": [
    "fig, ax = plt.subplots(figsize=(18, 5))\n",
    "ax.boxplot(data)\n",
    "plt.xlabel('Calorimeter Number')\n",
    "plt.ylabel('Counts per Unique Event')\n",
    "plt.show()"
   ]
  },
  {
   "cell_type": "markdown",
   "metadata": {},
   "source": [
    "Ok, this doesn't show the pattern that Kim was talking about earlier. Lets try to get the energy version and see from there"
   ]
  },
  {
   "cell_type": "code",
   "execution_count": 10,
   "metadata": {},
   "outputs": [
    {
     "data": {
      "text/html": [
       "<div>\n",
       "<style scoped>\n",
       "    .dataframe tbody tr th:only-of-type {\n",
       "        vertical-align: middle;\n",
       "    }\n",
       "\n",
       "    .dataframe tbody tr th {\n",
       "        vertical-align: top;\n",
       "    }\n",
       "\n",
       "    .dataframe thead th {\n",
       "        text-align: right;\n",
       "    }\n",
       "</style>\n",
       "<table border=\"1\" class=\"dataframe\">\n",
       "  <thead>\n",
       "    <tr style=\"text-align: right;\">\n",
       "      <th></th>\n",
       "      <th>Calorimeter Number</th>\n",
       "      <th>Global Bin</th>\n",
       "      <th>Run Number</th>\n",
       "      <th>SubRun Number</th>\n",
       "      <th>Event Number</th>\n",
       "      <th>Counts</th>\n",
       "    </tr>\n",
       "  </thead>\n",
       "  <tbody>\n",
       "    <tr>\n",
       "      <th>0</th>\n",
       "      <td>1</td>\n",
       "      <td>15937273</td>\n",
       "      <td>15937</td>\n",
       "      <td>27</td>\n",
       "      <td>5</td>\n",
       "      <td>356983.925691</td>\n",
       "    </tr>\n",
       "    <tr>\n",
       "      <th>1</th>\n",
       "      <td>1</td>\n",
       "      <td>15937275</td>\n",
       "      <td>15937</td>\n",
       "      <td>27</td>\n",
       "      <td>7</td>\n",
       "      <td>398778.083723</td>\n",
       "    </tr>\n",
       "    <tr>\n",
       "      <th>2</th>\n",
       "      <td>1</td>\n",
       "      <td>15937277</td>\n",
       "      <td>15937</td>\n",
       "      <td>27</td>\n",
       "      <td>9</td>\n",
       "      <td>383569.855306</td>\n",
       "    </tr>\n",
       "    <tr>\n",
       "      <th>3</th>\n",
       "      <td>1</td>\n",
       "      <td>15937279</td>\n",
       "      <td>15937</td>\n",
       "      <td>27</td>\n",
       "      <td>11</td>\n",
       "      <td>385229.487335</td>\n",
       "    </tr>\n",
       "    <tr>\n",
       "      <th>4</th>\n",
       "      <td>1</td>\n",
       "      <td>159372711</td>\n",
       "      <td>15937</td>\n",
       "      <td>27</td>\n",
       "      <td>14</td>\n",
       "      <td>339763.080861</td>\n",
       "    </tr>\n",
       "  </tbody>\n",
       "</table>\n",
       "</div>"
      ],
      "text/plain": [
       "   Calorimeter Number  Global Bin  Run Number  SubRun Number  Event Number  \\\n",
       "0                   1    15937273       15937             27             5   \n",
       "1                   1    15937275       15937             27             7   \n",
       "2                   1    15937277       15937             27             9   \n",
       "3                   1    15937279       15937             27            11   \n",
       "4                   1   159372711       15937             27            14   \n",
       "\n",
       "          Counts  \n",
       "0  356983.925691  \n",
       "1  398778.083723  \n",
       "2  383569.855306  \n",
       "3  385229.487335  \n",
       "4  339763.080861  "
      ]
     },
     "execution_count": 10,
     "metadata": {},
     "output_type": "execute_result"
    }
   ],
   "source": [
    "caloDataEnergy = pandas.read_csv(\"calo_data_output_energy.csv\")\n",
    "caloDataEnergy.head()"
   ]
  },
  {
   "cell_type": "code",
   "execution_count": 11,
   "metadata": {},
   "outputs": [
    {
     "data": {
      "image/png": "[encoded data removed]",
      "text/plain": [
       "<Figure size 1296x360 with 1 Axes>"
      ]
     },
     "metadata": {},
     "output_type": "display_data"
    }
   ],
   "source": [
    "dataEnergy = []\n",
    "for i in range(1,25):\n",
    "    caloDatai = caloDataEnergy.loc[caloDataEnergy['Calorimeter Number'] == i]\n",
    "    dataEnergy.append(caloDatai['Counts'])\n",
    "fig, ax = plt.subplots(figsize=(18, 5))\n",
    "ax.boxplot(dataEnergy)\n",
    "plt.xlabel('Calorimeter Number')\n",
    "plt.ylabel('Energy Dep. per Unique Event')\n",
    "plt.show()"
   ]
  },
  {
   "cell_type": "markdown",
   "metadata": {},
   "source": [
    "This doesn't show the pattern either. Calo 2 is perfectly well behaved according to these two metrics. \n",
    "\n",
    "Now lets implement an energy cut (1000 < E < 3000 MeV) and see if that changes anything"
   ]
  },
  {
   "cell_type": "code",
   "execution_count": 12,
   "metadata": {},
   "outputs": [
    {
     "data": {
      "text/html": [
       "<div>\n",
       "<style scoped>\n",
       "    .dataframe tbody tr th:only-of-type {\n",
       "        vertical-align: middle;\n",
       "    }\n",
       "\n",
       "    .dataframe tbody tr th {\n",
       "        vertical-align: top;\n",
       "    }\n",
       "\n",
       "    .dataframe thead th {\n",
       "        text-align: right;\n",
       "    }\n",
       "</style>\n",
       "<table border=\"1\" class=\"dataframe\">\n",
       "  <thead>\n",
       "    <tr style=\"text-align: right;\">\n",
       "      <th></th>\n",
       "      <th>Calorimeter Number</th>\n",
       "      <th>Global Bin</th>\n",
       "      <th>Run Number</th>\n",
       "      <th>SubRun Number</th>\n",
       "      <th>Event Number</th>\n",
       "      <th>Counts</th>\n",
       "    </tr>\n",
       "  </thead>\n",
       "  <tbody>\n",
       "    <tr>\n",
       "      <th>0</th>\n",
       "      <td>1</td>\n",
       "      <td>15937273</td>\n",
       "      <td>15937</td>\n",
       "      <td>27</td>\n",
       "      <td>5</td>\n",
       "      <td>68.0</td>\n",
       "    </tr>\n",
       "    <tr>\n",
       "      <th>1</th>\n",
       "      <td>1</td>\n",
       "      <td>15937275</td>\n",
       "      <td>15937</td>\n",
       "      <td>27</td>\n",
       "      <td>7</td>\n",
       "      <td>103.0</td>\n",
       "    </tr>\n",
       "    <tr>\n",
       "      <th>2</th>\n",
       "      <td>1</td>\n",
       "      <td>15937277</td>\n",
       "      <td>15937</td>\n",
       "      <td>27</td>\n",
       "      <td>9</td>\n",
       "      <td>84.0</td>\n",
       "    </tr>\n",
       "    <tr>\n",
       "      <th>3</th>\n",
       "      <td>1</td>\n",
       "      <td>15937279</td>\n",
       "      <td>15937</td>\n",
       "      <td>27</td>\n",
       "      <td>11</td>\n",
       "      <td>96.0</td>\n",
       "    </tr>\n",
       "    <tr>\n",
       "      <th>4</th>\n",
       "      <td>1</td>\n",
       "      <td>159372711</td>\n",
       "      <td>15937</td>\n",
       "      <td>27</td>\n",
       "      <td>14</td>\n",
       "      <td>54.0</td>\n",
       "    </tr>\n",
       "  </tbody>\n",
       "</table>\n",
       "</div>"
      ],
      "text/plain": [
       "   Calorimeter Number  Global Bin  Run Number  SubRun Number  Event Number  \\\n",
       "0                   1    15937273       15937             27             5   \n",
       "1                   1    15937275       15937             27             7   \n",
       "2                   1    15937277       15937             27             9   \n",
       "3                   1    15937279       15937             27            11   \n",
       "4                   1   159372711       15937             27            14   \n",
       "\n",
       "   Counts  \n",
       "0    68.0  \n",
       "1   103.0  \n",
       "2    84.0  \n",
       "3    96.0  \n",
       "4    54.0  "
      ]
     },
     "execution_count": 12,
     "metadata": {},
     "output_type": "execute_result"
    }
   ],
   "source": [
    "caloDataEnergyCut = pandas.read_csv(\"calo_data_output_cutEnergy.csv\")\n",
    "caloDataEnergyCut.head()"
   ]
  },
  {
   "cell_type": "code",
   "execution_count": 16,
   "metadata": {},
   "outputs": [
    {
     "data": {
      "image/png": "[encoded data removed]",
      "text/plain": [
       "<Figure size 1296x360 with 1 Axes>"
      ]
     },
     "metadata": {},
     "output_type": "display_data"
    }
   ],
   "source": [
    "dataEnergyCut = []\n",
    "for i in range(1,25):\n",
    "    caloDatai = caloDataEnergyCut.loc[caloDataEnergyCut['Calorimeter Number'] == i]\n",
    "    dataEnergyCut.append(caloDatai['Counts'])\n",
    "fig, ax = plt.subplots(figsize=(18, 5))\n",
    "ax.boxplot(dataEnergyCut)\n",
    "plt.xlabel('Calorimeter Number')\n",
    "plt.ylabel('Counts per Unique Event')\n",
    "plt.title('Counts with Energy Cut (1700 < E < 6000) and time Cut (t > 30 us)')\n",
    "plt.show()"
   ]
  },
  {
   "cell_type": "markdown",
   "metadata": {},
   "source": [
    "Nope! If anything, it just makes everything clump closer together... Hmmmm"
   ]
  },
  {
   "cell_type": "code",
   "execution_count": null,
   "metadata": {},
   "outputs": [],
   "source": []
  },
  {
   "cell_type": "code",
   "execution_count": null,
   "metadata": {},
   "outputs": [],
   "source": []
  }
 ],
 "metadata": {
  "kernelspec": {
   "display_name": "Python 3",
   "language": "python",
   "name": "python3"
  },
  "language_info": {
   "codemirror_mode": {
    "name": "ipython",
    "version": 3
   },
   "file_extension": ".py",
   "mimetype": "text/x-python",
   "name": "python",
   "nbconvert_exporter": "python",
   "pygments_lexer": "ipython3",
   "version": "3.6.5"
  }
 },
 "nbformat": 4,
 "nbformat_minor": 2
}
