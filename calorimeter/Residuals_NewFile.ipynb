{
 "cells": [
  {
   "cell_type": "code",
   "execution_count": null,
   "metadata": {},
   "outputs": [],
   "source": [
    "import ROOT as r\n",
    "import math\n",
    "from BlindersPy3 import Blinders\n",
    "from BlindersPy3 import FitType\n",
    "r.gStyle.SetOptStat(0)\n",
    "r.gStyle.SetOptFit(1111)"
   ]
  },
  {
   "cell_type": "code",
   "execution_count": null,
   "metadata": {},
   "outputs": [],
   "source": [
    "f = r.TFile(\"./newPileupHists_gm2offline_ana_60h_pileup_corrected_only.root\")\n",
    "f.cd()\n",
    "f.ls()"
   ]
  },
  {
   "cell_type": "code",
   "execution_count": null,
   "metadata": {},
   "outputs": [],
   "source": [
    "c = r.TCanvas()\n",
    "c.Divide(3,1)\n",
    "c.cd(1)\n",
    "f.corrected.ProjectionX().Draw() #time (us)\n",
    "c.cd(2)\n",
    "f.corrected.ProjectionY().Draw() #energy (MeV)\n",
    "c.cd(3)\n",
    "f.corrected.ProjectionZ().Draw() # calonum\n",
    "c.Draw()"
   ]
  },
  {
   "cell_type": "code",
   "execution_count": null,
   "metadata": {},
   "outputs": [],
   "source": [
    "f.corrected.ProjectionX().FindBin(4)"
   ]
  },
  {
   "cell_type": "code",
   "execution_count": null,
   "metadata": {},
   "outputs": [],
   "source": [
    "c2 = r.TCanvas()\n",
    "c2.SetLogy()\n",
    "h = f.corrected.ProjectionX()\n",
    "h.GetXaxis().SetRangeUser(0,300)\n",
    "h.Draw()\n",
    "\n",
    "#get max an min bins for energy cut. Want the bounds to be > 1300 and < 3000 to match last analysis\n",
    "# could probably get away with > 1000\n",
    "\n",
    "energyhist = f.corrected.ProjectionY()\n",
    "minenergybin = energyhist.FindBin(1000)\n",
    "maxenergybin = energyhist.FindBin(3000)\n",
    "print(minenergybin,maxenergybin)\n",
    "\n",
    "h2 = f.corrected.ProjectionX(\"px_cut\",minenergybin,maxenergybin,0,-1,\"\")\n",
    "h2.SetLineColor(2)\n",
    "h2.Draw(\"SAME\")\n",
    "\n",
    "c2.Draw()"
   ]
  },
  {
   "cell_type": "code",
   "execution_count": null,
   "metadata": {},
   "outputs": [],
   "source": [
    "# blinded instance\n",
    "getBlinded = Blinders(FitType.Omega_a, 'This is my fight song. Blinding my plot song.')\n",
    "def blinded_wiggle(x, p):\n",
    "    norm  = p[0]\n",
    "    life  = p[1]\n",
    "    asym  = p[2]\n",
    "    R     = p[3]\n",
    "    phi   = p[4]\n",
    "    \n",
    "    time  = x[0]\n",
    "    omega = getBlinded.paramToFreq(R)\n",
    "#    omega = myBlinder.paramToFreq(R) unblind version\n",
    "    \n",
    "    return norm * math.exp(-time/life) * (1 - asym*math.cos(omega*time + phi))"
   ]
  },
  {
   "cell_type": "code",
   "execution_count": null,
   "metadata": {},
   "outputs": [],
   "source": [
    "ding = \"full_fit\"\n",
    "func = r.TF1(ding, blinded_wiggle, 30,400,5)\n",
    "func.SetParNames('N','#tau','A','R','#phi')\n",
    "func.SetParameters(1500,64.4,0.4,0,0)\n",
    "func.SetLineColor(2)\n",
    "func.SetNpx(1000)\n",
    "r.gStyle.SetOptFit(111)\n",
    "\n",
    "c = r.TCanvas()\n",
    "h2.SetLineColor(1)\n",
    "h2.Draw()\n",
    "h2.GetXaxis().SetRangeUser(30,500)\n",
    "h2.Fit(ding,'REM')\n",
    "func.Draw(\"SAME\")\n",
    "\n",
    "#h2.GetXaxis().SetRangeUser(30,100)\n",
    "\n",
    "c.Draw()"
   ]
  },
  {
   "cell_type": "code",
   "execution_count": null,
   "metadata": {},
   "outputs": [],
   "source": [
    "#h2.GetXaxis().SetRangeUser(30,100)\n",
    "#c.Draw()"
   ]
  },
  {
   "cell_type": "code",
   "execution_count": null,
   "metadata": {},
   "outputs": [],
   "source": [
    "#The class calculates the  difference between the histogram and the fit function at each point \n",
    "#    and divides it by the uncertainty.\n",
    "c2 = r.TCanvas()\n",
    "rp1 = r.TRatioPlot(h2)\n",
    "rp1.Draw()\n",
    "rp1.GetLowerRefYaxis().SetTitle(\"Residual\")\n",
    "rp1.GetLowerRefYaxis().SetRangeUser(-3,3)\n",
    "tgraph = rp1.GetCalculationOutputGraph()\n",
    "dong = r.TGraphAsymmErrors(tgraph)\n",
    "dong.SetTitle(\"asym\")\n",
    "c2.Draw()"
   ]
  },
  {
   "cell_type": "code",
   "execution_count": null,
   "metadata": {},
   "outputs": [],
   "source": [
    "c3 = r.TCanvas()\n",
    "dong.Draw(\"a p0 l\")\n",
    "dong.GetYaxis().SetRangeUser(-10,10)\n",
    "c3.Draw()"
   ]
  },
  {
   "cell_type": "code",
   "execution_count": null,
   "metadata": {},
   "outputs": [],
   "source": [
    "ratiolist = []\n",
    "ratiolist.append(dong)\n",
    "namelist = ['full']"
   ]
  },
  {
   "cell_type": "code",
   "execution_count": null,
   "metadata": {},
   "outputs": [],
   "source": [
    "residxformlist = []\n",
    "for j in range(0,len(namelist)):\n",
    "    c3 = r.TCanvas()\n",
    "    #tgraph3.Draw()\n",
    "    tgraph3 = ratiolist[j]\n",
    "    c3.Draw()\n",
    "    residualN = tgraph3.GetN() - 2\n",
    "    listx = []\n",
    "    listy = []\n",
    "    minbin = 33\n",
    "    for i in range(minbin,residualN):\n",
    "        xi = r.Double(9999)\n",
    "        yi = r.Double(9999)\n",
    "        tgraph3.GetPoint(i,xi,yi)\n",
    "        listx.append(xi)\n",
    "        listy.append(yi)\n",
    "    #print(listx)\n",
    "    \n",
    "    import numpy\n",
    "    window = numpy.bartlett(residualN)\n",
    "    listywindow = []\n",
    "    for i in range(minbin,residualN-minbin):\n",
    "        listywindow.append(listy[i])#*window[i])\n",
    "    fftyreal = numpy.real(numpy.fft.fft(listywindow))\n",
    "    fftyim = numpy.imag(numpy.fft.fft(listywindow))\n",
    "    ffty = []\n",
    "    for i in range(0,len(fftyreal)):\n",
    "        fftyi = numpy.sqrt(fftyreal[i]**2 + fftyim[i]**2)\n",
    "        ffty.append(fftyi)\n",
    "#    print(ffty)\n",
    "\n",
    "    Npart = residualN - minbin\n",
    "    minBinCenter = listx[0]\n",
    "    maxBinCenter = listx[len(listx)-1]\n",
    "    capT = maxBinCenter - minBinCenter\n",
    "    print(Npart, capT, minBinCenter, maxBinCenter)\n",
    "    deltaT = capT/Npart #microseconds\n",
    "    deltaF = 1/capT\n",
    "    print(deltaT, deltaF)\n",
    "\n",
    "    deltaTns = deltaT*1000 #nanoseconds\n",
    "    limmaxHz = (1/(deltaTns*math.pow(10.0,-9)))\n",
    "    limmaxMHz = limmaxHz / math.pow(10,6)\n",
    "\n",
    "    limmax = 2*deltaF*Npart #400-25\n",
    "    print(limmax,limmaxMHz)\n",
    "\n",
    "    hresid = r.TH1D(\"hresid\",\"FFT of Residual from 5-Parameter Fit\",residualN,0,residualN)\n",
    "    for i in range(0,len(ffty)):\n",
    "        hresid.SetBinContent(i,ffty[i])\n",
    "    hresid.SetBins(residualN,0,limmaxMHz)\n",
    "    hresid.GetXaxis().SetRangeUser(0,limmaxMHz/2)\n",
    "    \n",
    "    #hresid.Scale(1/(hresid.Integral()))\n",
    "    \n",
    "    hresid.Draw(\"HIST P0 L\")\n",
    "    \n",
    "    c3.Draw()\n",
    "    \n",
    "    residxformlist.append(hresid.DrawClone(namelist[j]+\"residxform\"))"
   ]
  },
  {
   "cell_type": "code",
   "execution_count": null,
   "metadata": {},
   "outputs": [],
   "source": [
    "c4 = r.TCanvas()\n",
    "hresid.Draw(\"P0 L\")\n",
    "hresid.GetXaxis().SetRangeUser(0,2.5)\n",
    "hresid.GetXaxis().SetTitle(\"Frequency (MHz)\")\n",
    "hresid.GetYaxis().SetTitle(\"Arb. Units\")\n",
    "c4.Draw()"
   ]
  },
  {
   "cell_type": "code",
   "execution_count": null,
   "metadata": {},
   "outputs": [],
   "source": [
    "from matplotlib import pyplot as plt\n",
    "plt.plot(listy[25:])\n",
    "plt.plot(listywindow[25:])\n",
    "plt.show"
   ]
  },
  {
   "cell_type": "code",
   "execution_count": null,
   "metadata": {},
   "outputs": [],
   "source": [
    "def peak_fit_bw(x, p):\n",
    "    return p[0]*r.TMath.BreitWigner(x[0],p[1],p[2]) + p[3]\n",
    "\n",
    "def peak_fit_simple(x, p):\n",
    "    return p[0]*r.TMath.Exp(-0.5*((x[0]-p[1])/p[2])*((x[0]-p[1])/p[2])) + p[3]\n",
    "\n",
    "func = r.TF1(\"peak1\", peak_fit_simple, .35,.4,4)\n",
    "func.SetParNames('A','Mean','#gamma','+ C')\n",
    "func.SetParameters(.0001,.23,.1,0)\n",
    "func.SetParLimits(1,.3,.4)\n",
    "func.SetLineColor(2)\n",
    "func.SetNpx(1000)\n",
    "\n",
    "func2 = r.TF1(\"pol2func\", \"pol2\", .35,.4,3)\n",
    "func2.SetParameters(.3,.23,-1)"
   ]
  },
  {
   "cell_type": "code",
   "execution_count": null,
   "metadata": {},
   "outputs": [],
   "source": [
    "c5 = r.TCanvas()\n",
    "hresid.Draw(\"P0 L\")\n",
    "hresid.GetXaxis().SetRangeUser(0.3,0.65)\n",
    "hresid.GetXaxis().SetTitle(\"Frequency (MHz)\")\n",
    "hresid.GetYaxis().SetTitle(\"Arb. Units\")\n",
    "hresid.Fit(\"peak1\",\"REMB\")\n",
    "c5.Draw()"
   ]
  },
  {
   "cell_type": "code",
   "execution_count": null,
   "metadata": {},
   "outputs": [],
   "source": []
  },
  {
   "cell_type": "code",
   "execution_count": null,
   "metadata": {},
   "outputs": [],
   "source": []
  }
 ],
 "metadata": {
  "kernelspec": {
   "display_name": "Python 3",
   "language": "python",
   "name": "python3"
  },
  "language_info": {
   "codemirror_mode": {
    "name": "ipython",
    "version": 3
   },
   "file_extension": ".py",
   "mimetype": "text/x-python",
   "name": "python",
   "nbconvert_exporter": "python",
   "pygments_lexer": "ipython3",
   "version": "3.6.5"
  }
 },
 "nbformat": 4,
 "nbformat_minor": 2
}
