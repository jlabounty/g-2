{
 "cells": [
  {
   "cell_type": "markdown",
   "metadata": {},
   "source": [
    "Lets test and see if we if we can just add these files together"
   ]
  },
  {
   "cell_type": "code",
   "execution_count": 1,
   "metadata": {},
   "outputs": [
    {
     "name": "stdout",
     "output_type": "stream",
     "text": [
      "Welcome to JupyROOT 6.12/06\n"
     ]
    }
   ],
   "source": [
    "import ROOT as r\n",
    "import math\n",
    "from BlindersPy3 import Blinders\n",
    "from BlindersPy3 import FitType\n",
    "r.gStyle.SetOptStat(0)\n",
    "r.gStyle.SetOptFit(1111)\n",
    "import matplotlib.pyplot as plt"
   ]
  },
  {
   "cell_type": "code",
   "execution_count": 2,
   "metadata": {},
   "outputs": [
    {
     "name": "stdout",
     "output_type": "stream",
     "text": [
      "TFile**\t\t./gm2offline_ana_7893458_15937.00027.root\t\n",
      " TFile*\t\t./gm2offline_ana_7893458_15937.00027.root\t\n",
      "  TDirectoryFile*\t\tclusterTree\tclusterTree (ClusterTree) folder\n",
      "   KEY: TTree\tclusters;94\tclusters\n",
      "   KEY: TTree\tclusters;93\tclusters\n",
      "  KEY: TDirectoryFile\tCoincidenceFinderLM;1\tCoincidenceFinderLM (CoincidenceFinderLM) folder\n",
      "  KEY: TDirectoryFile\tclusterTree;1\tclusterTree (ClusterTree) folder\n"
     ]
    }
   ],
   "source": [
    "f = r.TFile(\"./gm2offline_ana_7893458_15937.00027.root\")\n",
    "f.cd(\"clusterTree\")\n",
    "f.ls()"
   ]
  },
  {
   "cell_type": "code",
   "execution_count": 3,
   "metadata": {},
   "outputs": [],
   "source": [
    "t1 = f.Get(\"clusterTree\").Get(\"clusters\")"
   ]
  },
  {
   "cell_type": "code",
   "execution_count": 4,
   "metadata": {},
   "outputs": [
    {
     "name": "stdout",
     "output_type": "stream",
     "text": [
      "TFile**\t\t./data/gm2offline_ana_run16355.root\t\n",
      " TFile*\t\t./data/gm2offline_ana_run16355.root\t\n",
      "  TDirectoryFile*\t\tclusterTree\tclusterTree (ClusterTree) folder\n",
      "   KEY: TTree\tclusters;2\tclusters\n",
      "   KEY: TTree\tclusters;1\tclusters\n",
      "  KEY: TDirectoryFile\tCoincidenceFinderLM;1\tCoincidenceFinderLM (CoincidenceFinderLM) folder\n",
      "  KEY: TDirectoryFile\tclusterTree;1\tclusterTree (ClusterTree) folder\n"
     ]
    }
   ],
   "source": [
    "f2 = r.TFile(\"./data/gm2offline_ana_run16355.root\")\n",
    "f2.cd(\"clusterTree\")\n",
    "f2.ls()"
   ]
  },
  {
   "cell_type": "code",
   "execution_count": 5,
   "metadata": {},
   "outputs": [],
   "source": [
    "t2 = f2.Get(\"clusterTree\").Get(\"clusters\")"
   ]
  },
  {
   "cell_type": "code",
   "execution_count": 6,
   "metadata": {},
   "outputs": [],
   "source": [
    "treelist = r.TList()\n",
    "treelist.Add(t1)\n",
    "treelist.Add(t2)"
   ]
  },
  {
   "cell_type": "code",
   "execution_count": 7,
   "metadata": {},
   "outputs": [
    {
     "name": "stdout",
     "output_type": "stream",
     "text": [
      "OBJ: TList\tTList\tDoubly linked list : 0\n",
      " OBJ: TTree\tclusters\tclusters : 0 at: 0x7fffec264170\n",
      " OBJ: TTree\tclusters\tclusters : 0 at: 0x7fffe8d10a10\n"
     ]
    }
   ],
   "source": [
    "treelist.ls()"
   ]
  },
  {
   "cell_type": "code",
   "execution_count": 8,
   "metadata": {},
   "outputs": [],
   "source": [
    "#t = r.TTree.MergeTrees(treelist)"
   ]
  },
  {
   "cell_type": "code",
   "execution_count": 9,
   "metadata": {},
   "outputs": [],
   "source": [
    "#t.ls()"
   ]
  },
  {
   "cell_type": "code",
   "execution_count": 10,
   "metadata": {},
   "outputs": [],
   "source": [
    "chain = r.TChain(\"clusterTree/clusters\")"
   ]
  },
  {
   "cell_type": "code",
   "execution_count": 11,
   "metadata": {},
   "outputs": [
    {
     "data": {
      "text/plain": [
       "1"
      ]
     },
     "execution_count": 11,
     "metadata": {},
     "output_type": "execute_result"
    }
   ],
   "source": [
    "chain.Add(\"./data/gm2offline_ana_run16355.root\")\n",
    "chain.Add(\"./gm2offline_ana_7893458_15937.00027.root\")"
   ]
  },
  {
   "cell_type": "code",
   "execution_count": 12,
   "metadata": {},
   "outputs": [
    {
     "name": "stdout",
     "output_type": "stream",
     "text": [
      "OBJ: TChain\tclusterTree/clusters\t : 0 at: 0x7fffec3340e0\n",
      " ./data/gm2offline_ana_run16355.roottree:clusterTree/clusters entries=<not calculated>\n",
      " ./gm2offline_ana_7893458_15937.00027.roottree:clusterTree/clusters entries=<not calculated>\n"
     ]
    }
   ],
   "source": [
    "chain.ls()"
   ]
  },
  {
   "cell_type": "code",
   "execution_count": 13,
   "metadata": {},
   "outputs": [
    {
     "data": {
      "text/plain": [
       "1"
      ]
     },
     "execution_count": 13,
     "metadata": {},
     "output_type": "execute_result"
    }
   ],
   "source": [
    "chain.Merge(\"data/gm2offline_ana_merged.root\")"
   ]
  },
  {
   "cell_type": "code",
   "execution_count": 24,
   "metadata": {},
   "outputs": [
    {
     "data": {
      "text/plain": [
       "True"
      ]
     },
     "execution_count": 24,
     "metadata": {},
     "output_type": "execute_result"
    },
    {
     "name": "stdout",
     "output_type": "stream",
     "text": [
      "TFile**\t\tdata/gm2offline_ana_merged.root\tchain files\n",
      " TFile*\t\tdata/gm2offline_ana_merged.root\tchain files\n",
      "  KEY: TTree\tclusters;1\tclusters\n"
     ]
    }
   ],
   "source": [
    "fchain = r.TFile(\"data/gm2offline_ana_merged.root\")\n",
    "fchain.ls()\n",
    "fchain.cd()"
   ]
  },
  {
   "cell_type": "code",
   "execution_count": 25,
   "metadata": {},
   "outputs": [
    {
     "name": "stdout",
     "output_type": "stream",
     "text": [
      "\n",
      "Keys in file: ['clusters']\n"
     ]
    }
   ],
   "source": [
    "def GetKeyNames( self, dir = \"\" ):\n",
    "        self.cd(dir)\n",
    "        return [key.GetName() for key in r.gDirectory.GetListOfKeys()]\n",
    "r.TFile.GetKeyNames = GetKeyNames\n",
    "\n",
    "keyList = fchain.GetKeyNames(\"\")\n",
    "print (\"\\nKeys in file:\", keyList)"
   ]
  },
  {
   "cell_type": "code",
   "execution_count": 26,
   "metadata": {},
   "outputs": [],
   "source": [
    "ding = r.TTree()\n",
    "fchain.GetObject(keyList[0], ding)"
   ]
  },
  {
   "cell_type": "code",
   "execution_count": 27,
   "metadata": {},
   "outputs": [
    {
     "name": "stdout",
     "output_type": "stream",
     "text": [
      "******************************************************************************\n",
      "*Tree    :clusters  : clusters                                               *\n",
      "*Entries : 101741458 : Total =      6918577711 bytes  File  Size = 2847103962 *\n",
      "*        :          : Tree compression factor =   2.43                       *\n",
      "******************************************************************************\n",
      "*Br    0 :energy    : energy/D                                               *\n",
      "*Entries :101741458 : Total  Size=  813950120 bytes  File Size  =  774777480 *\n",
      "*Baskets :      187 : Basket Size=    5676215 bytes  Compression=   1.05     *\n",
      "*............................................................................*\n",
      "*Br    1 :time      : time/D                                                 *\n",
      "*Entries :101741458 : Total  Size=  813949738 bytes  File Size  =  776764309 *\n",
      "*Baskets :      187 : Basket Size=    5676215 bytes  Compression=   1.05     *\n",
      "*............................................................................*\n",
      "*Br    2 :x         : x/D                                                    *\n",
      "*Entries :101741458 : Total  Size=  813949165 bytes  File Size  =  516509064 *\n",
      "*Baskets :      187 : Basket Size=    5676215 bytes  Compression=   1.58     *\n",
      "*............................................................................*\n",
      "*Br    3 :y         : y/D                                                    *\n",
      "*Entries :101741458 : Total  Size=  813949165 bytes  File Size  =  451647041 *\n",
      "*Baskets :      187 : Basket Size=    5676215 bytes  Compression=   1.80     *\n",
      "*............................................................................*\n",
      "*Br    4 :nHit      : nHit/i                                                 *\n",
      "*Entries :101741458 : Total  Size=  406975063 bytes  File Size  =   61943218 *\n",
      "*Baskets :       94 : Basket Size=    5676215 bytes  Compression=   6.57     *\n",
      "*............................................................................*\n",
      "*Br    5 :caloNum   : caloNum/i                                              *\n",
      "*Entries :101741458 : Total  Size=  406975357 bytes  File Size  =    4372916 *\n",
      "*Baskets :       94 : Basket Size=    5676215 bytes  Compression=  93.07     *\n",
      "*............................................................................*\n",
      "*Br    6 :xtalNum   : xtalNum/i                                              *\n",
      "*Entries :101741458 : Total  Size=  406975357 bytes  File Size  =  124417267 *\n",
      "*Baskets :       94 : Basket Size=    5676215 bytes  Compression=   3.27     *\n",
      "*............................................................................*\n",
      "*Br    7 :islandNum : islandNum/i                                            *\n",
      "*Entries :101741458 : Total  Size=  406975553 bytes  File Size  =  126433179 *\n",
      "*Baskets :       94 : Basket Size=    5676215 bytes  Compression=   3.22     *\n",
      "*............................................................................*\n",
      "*Br    8 :eventNum  : eventNum/i                                             *\n",
      "*Entries :101741458 : Total  Size=  406975455 bytes  File Size  =    2088109 *\n",
      "*Baskets :       94 : Basket Size=    5676215 bytes  Compression= 194.90     *\n",
      "*............................................................................*\n",
      "*Br    9 :bunchNum  : bunchNum/i                                             *\n",
      "*Entries :101741458 : Total  Size=  406975455 bytes  File Size  =    2074256 *\n",
      "*Baskets :       94 : Basket Size=    5676215 bytes  Compression= 196.20     *\n",
      "*............................................................................*\n",
      "*Br   10 :midasSerialNum : midasSerialNum/i                                  *\n",
      "*Entries :101741458 : Total  Size=  406976043 bytes  File Size  =    2090784 *\n",
      "*Baskets :       94 : Basket Size=    5676215 bytes  Compression= 194.65     *\n",
      "*............................................................................*\n",
      "*Br   11 :subRunNum : subRunNum/i                                            *\n",
      "*Entries :101741458 : Total  Size=  406975553 bytes  File Size  =    1985537 *\n",
      "*Baskets :       94 : Basket Size=    5676215 bytes  Compression= 204.97     *\n",
      "*............................................................................*\n",
      "*Br   12 :runNum    : runNum/i                                               *\n",
      "*Entries :101741458 : Total  Size=  406975259 bytes  File Size  =    1985331 *\n",
      "*Baskets :       94 : Basket Size=    5676215 bytes  Compression= 204.99     *\n",
      "*............................................................................*\n"
     ]
    }
   ],
   "source": [
    "ding.Print()"
   ]
  },
  {
   "cell_type": "code",
   "execution_count": 31,
   "metadata": {},
   "outputs": [
    {
     "data": {
      "image/png": "[encoded data removed]",
      "text/plain": [
       "<IPython.core.display.Image object>"
      ]
     },
     "metadata": {},
     "output_type": "display_data"
    }
   ],
   "source": [
    "c = r.TCanvas()\n",
    "ding.Draw(\"x\")\n",
    "c.Draw()"
   ]
  }
 ],
 "metadata": {
  "kernelspec": {
   "display_name": "Python 3",
   "language": "python",
   "name": "python3"
  },
  "language_info": {
   "codemirror_mode": {
    "name": "ipython",
    "version": 3
   },
   "file_extension": ".py",
   "mimetype": "text/x-python",
   "name": "python",
   "nbconvert_exporter": "python",
   "pygments_lexer": "ipython3",
   "version": "3.6.5"
  }
 },
 "nbformat": 4,
 "nbformat_minor": 2
}
