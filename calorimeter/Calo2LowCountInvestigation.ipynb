{
 "cells": [
  {
   "cell_type": "code",
   "execution_count": 1,
   "metadata": {},
   "outputs": [
    {
     "name": "stdout",
     "output_type": "stream",
     "text": [
      "Welcome to JupyROOT 6.12/06\n"
     ]
    }
   ],
   "source": [
    "import ROOT as r\n",
    "import math\n",
    "from BlindersPy3 import Blinders\n",
    "from BlindersPy3 import FitType\n",
    "r.gStyle.SetOptStat(0)\n",
    "r.gStyle.SetOptFit(1111)\n",
    "import matplotlib.pyplot as plt"
   ]
  },
  {
   "cell_type": "code",
   "execution_count": 2,
   "metadata": {},
   "outputs": [
    {
     "name": "stdout",
     "output_type": "stream",
     "text": [
      "TFile**\t\t./gm2offline_ana_7893458_15937.00027.root\t\n",
      " TFile*\t\t./gm2offline_ana_7893458_15937.00027.root\t\n",
      "  TDirectoryFile*\t\tclusterTree\tclusterTree (ClusterTree) folder\n",
      "   KEY: TTree\tclusters;94\tclusters\n",
      "   KEY: TTree\tclusters;93\tclusters\n",
      "  KEY: TDirectoryFile\tCoincidenceFinderLM;1\tCoincidenceFinderLM (CoincidenceFinderLM) folder\n",
      "  KEY: TDirectoryFile\tclusterTree;1\tclusterTree (ClusterTree) folder\n"
     ]
    }
   ],
   "source": [
    "f = r.TFile(\"./gm2offline_ana_7893458_15937.00027.root\")\n",
    "f.cd(\"clusterTree\")\n",
    "f.ls()"
   ]
  },
  {
   "cell_type": "code",
   "execution_count": 3,
   "metadata": {},
   "outputs": [],
   "source": [
    "t = f.Get(\"clusterTree\").Get(\"clusters\")"
   ]
  },
  {
   "cell_type": "code",
   "execution_count": 4,
   "metadata": {},
   "outputs": [
    {
     "name": "stdout",
     "output_type": "stream",
     "text": [
      "******************************************************************************\n",
      "*Tree    :clusters  : clusters                                               *\n",
      "*Entries : 99870478 : Total =      6791534622 bytes  File  Size = 2795647272 *\n",
      "*        :          : Tree compression factor =   2.43                       *\n",
      "******************************************************************************\n",
      "*Br    0 :energy    : energy/D                                               *\n",
      "*Entries : 99870478 : Total  Size=  798999061 bytes  File Size  =  760531572 *\n",
      "*Baskets :      360 : Basket Size=   25600000 bytes  Compression=   1.05     *\n",
      "*............................................................................*\n",
      "*Br    1 :time      : time/D                                                 *\n",
      "*Entries : 99870478 : Total  Size=  798998333 bytes  File Size  =  762480670 *\n",
      "*Baskets :      360 : Basket Size=   25600000 bytes  Compression=   1.05     *\n",
      "*............................................................................*\n",
      "*Br    2 :x         : x/D                                                    *\n",
      "*Entries : 99870478 : Total  Size=  798997241 bytes  File Size  =  507389649 *\n",
      "*Baskets :      360 : Basket Size=   25600000 bytes  Compression=   1.57     *\n",
      "*............................................................................*\n",
      "*Br    3 :y         : y/D                                                    *\n",
      "*Entries : 99870478 : Total  Size=  798997241 bytes  File Size  =  443847200 *\n",
      "*Baskets :      360 : Basket Size=   25600000 bytes  Compression=   1.80     *\n",
      "*............................................................................*\n",
      "*Br    4 :nHit      : nHit/i                                                 *\n",
      "*Entries : 99870478 : Total  Size=  399503778 bytes  File Size  =   60862120 *\n",
      "*Baskets :      227 : Basket Size=   25600000 bytes  Compression=   6.56     *\n",
      "*............................................................................*\n",
      "*Br    5 :caloNum   : caloNum/i                                              *\n",
      "*Entries : 99870478 : Total  Size=  399504471 bytes  File Size  =    4304191 *\n",
      "*Baskets :      227 : Basket Size=   25600000 bytes  Compression=  92.82     *\n",
      "*............................................................................*\n",
      "*Br    6 :xtalNum   : xtalNum/i                                              *\n",
      "*Entries : 99870478 : Total  Size=  399504471 bytes  File Size  =  122141715 *\n",
      "*Baskets :      227 : Basket Size=   25600000 bytes  Compression=   3.27     *\n",
      "*............................................................................*\n",
      "*Br    7 :islandNum : islandNum/i                                            *\n",
      "*Entries : 99870478 : Total  Size=  399504933 bytes  File Size  =  123944725 *\n",
      "*Baskets :      227 : Basket Size=   25600000 bytes  Compression=   3.22     *\n",
      "*............................................................................*\n",
      "*Br    8 :eventNum  : eventNum/i                                             *\n",
      "*Entries : 99870478 : Total  Size=  399504702 bytes  File Size  =    2065574 *\n",
      "*Baskets :      227 : Basket Size=   25600000 bytes  Compression= 193.41     *\n",
      "*............................................................................*\n",
      "*Br    9 :bunchNum  : bunchNum/i                                             *\n",
      "*Entries : 99870478 : Total  Size=  399504702 bytes  File Size  =    2052083 *\n",
      "*Baskets :      227 : Basket Size=   25600000 bytes  Compression= 194.68     *\n",
      "*............................................................................*\n",
      "*Br   10 :midasSerialNum : midasSerialNum/i                                  *\n",
      "*Entries : 99870478 : Total  Size=  399506088 bytes  File Size  =    2069295 *\n",
      "*Baskets :      227 : Basket Size=   25600000 bytes  Compression= 193.06     *\n",
      "*............................................................................*\n",
      "*Br   11 :subRunNum : subRunNum/i                                            *\n",
      "*Entries : 99870478 : Total  Size=  399504933 bytes  File Size  =    1964847 *\n",
      "*Baskets :      227 : Basket Size=   25600000 bytes  Compression= 203.32     *\n",
      "*............................................................................*\n",
      "*Br   12 :runNum    : runNum/i                                               *\n",
      "*Entries : 99870478 : Total  Size=  399504240 bytes  File Size  =    1964356 *\n",
      "*Baskets :      227 : Basket Size=   25600000 bytes  Compression= 203.37     *\n",
      "*............................................................................*\n"
     ]
    }
   ],
   "source": [
    "t.Print()"
   ]
  },
  {
   "cell_type": "code",
   "execution_count": 20,
   "metadata": {},
   "outputs": [
    {
     "data": {
      "image/png": "[encoded data removed]",
      "text/plain": [
       "<IPython.core.display.Image object>"
      ]
     },
     "metadata": {},
     "output_type": "display_data"
    }
   ],
   "source": [
    "c = r.TCanvas()\n",
    "t.Draw(\"energy\")\n",
    "c.Draw()"
   ]
  },
  {
   "cell_type": "code",
   "execution_count": 6,
   "metadata": {},
   "outputs": [],
   "source": [
    "t.Draw(\"caloNum\",\"\",\"\")\n",
    "h = r.gPad.GetPrimitive(\"htemp\").Clone(\"caloListHist\")\n",
    "h.SetTitle(\"Entries/Calorimeter Number\")"
   ]
  },
  {
   "cell_type": "code",
   "execution_count": 7,
   "metadata": {},
   "outputs": [
    {
     "name": "stdout",
     "output_type": "stream",
     "text": [
      "[2, 3, 4, 5, 6, 7, 8, 9, 10, 11, 12, 13, 14, 15, 16, 17, 18, 19, 20, 21, 22, 23, 24, 25] [1, 2, 3, 4, 5, 6, 7, 8, 9, 10, 11, 12, 13, 14, 15, 16, 17, 18, 19, 20, 21, 22, 23, 24]\n"
     ]
    }
   ],
   "source": [
    "caloBinList = []\n",
    "caloList = []\n",
    "for i in range(1,h.GetNbinsX()-1):\n",
    "\n",
    "    caloBinList.append(h.FindBin(i))\n",
    "    caloList.append(i)\n",
    "print(caloBinList, caloList)"
   ]
  },
  {
   "cell_type": "code",
   "execution_count": 8,
   "metadata": {},
   "outputs": [
    {
     "data": {
      "image/png": "[encoded data removed]",
      "text/plain": [
       "<IPython.core.display.Image object>"
      ]
     },
     "metadata": {},
     "output_type": "display_data"
    }
   ],
   "source": [
    "h.Draw()\n",
    "c.Draw()"
   ]
  },
  {
   "cell_type": "markdown",
   "metadata": {},
   "source": [
    "Now lets look at the number of counts per unique ID of (run, subrun, event). In order to do this, we'll draw all of those options from the tree with a cut for calorimeter number. Currently, calonum is set to 1, but we will easily be able to put this into a loop at a later date."
   ]
  },
  {
   "cell_type": "code",
   "execution_count": 9,
   "metadata": {},
   "outputs": [],
   "source": [
    "calonum = 1"
   ]
  },
  {
   "cell_type": "code",
   "execution_count": 10,
   "metadata": {},
   "outputs": [
    {
     "name": "stdout",
     "output_type": "stream",
     "text": [
      "caloNum == 1\n",
      "99870478.0\n",
      "<ROOT.TH3F object (\"htemp\") at 0x7ffffb611cd0>\n"
     ]
    },
    {
     "name": "stderr",
     "output_type": "stream",
     "text": [
      "Error in <TBufferFile::WriteByteCount>: bytecount too large (more than 1073741822)\n",
      "Error in <TBufferFile::WriteByteCount>: bytecount too large (more than 1073741822)\n",
      "Error in <TBufferFile::WriteByteCount>: bytecount too large (more than 1073741822)\n",
      "Error in <TBufferFile::CheckByteCount>: object of class TObjArray read too many bytes: 1198460317 instead of 124718493\n",
      "Warning in <TBufferFile::CheckByteCount>: TObjArray::Streamer() not in sync with data, fix Streamer()\n"
     ]
    }
   ],
   "source": [
    "cutString = \"caloNum == \"+str(calonum)\n",
    "print(cutString)\n",
    "c = r.TCanvas()\n",
    "\n",
    "t.SetEstimate(-1) #https://root-forum.cern.ch/t/ttree-getv1-array-limits/3325\n",
    "t.Draw(\"nHit:eventNum:subRunNum:runNum\",\"\",\"\")\n",
    "hUnique = r.gPad.GetPrimitive(\"htemp\").Clone(\"uniqueIDhist\")\n",
    "print(hUnique.GetEntries())\n",
    "\n",
    "listc = c.GetListOfPrimitives()\n",
    "ding = listc.First()\n",
    "print(ding)\n",
    "\n",
    "eventNumVec = t.GetV2()\n",
    "subRunNumVec = t.GetV3()\n",
    "runNumVec = t.GetV4()\n",
    "nHitVec = t.GetV1()"
   ]
  },
  {
   "cell_type": "code",
   "execution_count": 11,
   "metadata": {},
   "outputs": [
    {
     "name": "stdout",
     "output_type": "stream",
     "text": [
      "<class 'float'>\n",
      "3.0 15937.0 27.0 54.0\n",
      "15937273\n",
      "3.0 15937.0 27.0 2.0\n",
      "15937273\n",
      "3.0 15937.0 27.0 2.0\n",
      "15937273\n",
      "3.0 15937.0 27.0 1.0\n",
      "15937273\n",
      "3.0 15937.0 27.0 1.0\n",
      "15937273\n",
      "3.0 15937.0 27.0 2.0\n",
      "15937273\n",
      "3.0 15937.0 27.0 1.0\n",
      "15937273\n",
      "3.0 15937.0 27.0 1.0\n",
      "15937273\n",
      "3.0 15937.0 27.0 2.0\n",
      "15937273\n",
      "3.0 15937.0 27.0 1.0\n",
      "15937273\n"
     ]
    }
   ],
   "source": [
    "print(type(eventNumVec[0]))\n",
    "for i in range(0,10):\n",
    "    print(eventNumVec[i],runNumVec[i],subRunNumVec[i],nHitVec[i])\n",
    "    ding = str(int(runNumVec[i])) + str(int(subRunNumVec[i])) +str(int(eventNumVec[i])) \n",
    "    print(ding)"
   ]
  },
  {
   "cell_type": "markdown",
   "metadata": {},
   "source": [
    "Now lets create a global bin number by simply appending the event, run, and subrun numbers together. we can then loop over all of the entries in these lists and add up the ones with the same global bin number"
   ]
  },
  {
   "cell_type": "code",
   "execution_count": 12,
   "metadata": {},
   "outputs": [
    {
     "data": {
      "text/plain": [
       "'globalBinNumber = int( str(int(runNumVec[0])) + str(int(subRunNumVec[0])) +str(int(eventNumVec[0])) )\\nrunningTotal = 0\\npairList = []\\nmaxBin = int(hUnique.GetEntries() / 1 ) #change this denom back if you want this to work\\n\\nfor i in range(0,maxBin):\\n    globalBinNumberNew = int( str(int(runNumVec[i])) + str(int(subRunNumVec[i])) +str(int(eventNumVec[i])) )\\n    if(i % 10000000 == 0):\\n        print(\"Processing event:\", globalBinNumberNew, \"(event\", i,\"/\",maxBin,\" and caloNum\",calonum,\" )\")\\n#    print(i, maxBin-1,globalBinNumberNew, globalBinNumber)\\n    if(globalBinNumber == globalBinNumberNew):\\n        runningTotal = runningTotal + nHitVec[i]\\n    elif((globalBinNumber != globalBinNumberNew) or (i == maxBin-1)):\\n        pairList.append((calonum, globalBinNumber,int(runNumVec[i]),int(subRunNumVec[i]), int(eventNumVec[i]),runningTotal))\\n        runningTotal = nHitVec[i]\\n    \\n    if(i == maxBin-1):\\n        pairList.append((calonum, globalBinNumber,int(runNumVec[i]),int(subRunNumVec[i]), int(eventNumVec[i]),runningTotal))\\n        \\n    globalBinNumber = globalBinNumberNew\\n    \\nprint(\"Found\", len(pairList),\"unique ID(s) for Calo\", calonum) '"
      ]
     },
     "execution_count": 12,
     "metadata": {},
     "output_type": "execute_result"
    }
   ],
   "source": [
    "'''globalBinNumber = int( str(int(runNumVec[0])) + str(int(subRunNumVec[0])) +str(int(eventNumVec[0])) )\n",
    "runningTotal = 0\n",
    "pairList = []\n",
    "maxBin = int(hUnique.GetEntries() / 1 ) #change this denom back if you want this to work\n",
    "\n",
    "for i in range(0,maxBin):\n",
    "    globalBinNumberNew = int( str(int(runNumVec[i])) + str(int(subRunNumVec[i])) +str(int(eventNumVec[i])) )\n",
    "    if(i % 10000000 == 0):\n",
    "        print(\"Processing event:\", globalBinNumberNew, \"(event\", i,\"/\",maxBin,\" and caloNum\",calonum,\" )\")\n",
    "#    print(i, maxBin-1,globalBinNumberNew, globalBinNumber)\n",
    "    if(globalBinNumber == globalBinNumberNew):\n",
    "        runningTotal = runningTotal + nHitVec[i]\n",
    "    elif((globalBinNumber != globalBinNumberNew) or (i == maxBin-1)):\n",
    "        pairList.append((calonum, globalBinNumber,int(runNumVec[i]),int(subRunNumVec[i]), int(eventNumVec[i]),runningTotal))\n",
    "        runningTotal = nHitVec[i]\n",
    "    \n",
    "    if(i == maxBin-1):\n",
    "        pairList.append((calonum, globalBinNumber,int(runNumVec[i]),int(subRunNumVec[i]), int(eventNumVec[i]),runningTotal))\n",
    "        \n",
    "    globalBinNumber = globalBinNumberNew\n",
    "    \n",
    "print(\"Found\", len(pairList),\"unique ID(s) for Calo\", calonum) '''"
   ]
  },
  {
   "cell_type": "code",
   "execution_count": 13,
   "metadata": {},
   "outputs": [
    {
     "data": {
      "text/plain": [
       "'countList = [x[1] for x in pairList]'"
      ]
     },
     "execution_count": 13,
     "metadata": {},
     "output_type": "execute_result"
    }
   ],
   "source": [
    "'''countList = [x[1] for x in pairList]''' #https://stackoverflow.com/questions/3308102/how-to-extract-the-n-th-elements-from-a-list-of-tuples-in-python"
   ]
  },
  {
   "cell_type": "code",
   "execution_count": 14,
   "metadata": {},
   "outputs": [
    {
     "data": {
      "text/plain": [
       "'plt.plot(countList, \"b.\")\\nplt.ylabel(\\'Calorimeter 1 Counts by Unique ID\\')\\nplt.show()'"
      ]
     },
     "execution_count": 14,
     "metadata": {},
     "output_type": "execute_result"
    }
   ],
   "source": [
    "'''plt.plot(countList, \"b.\")\n",
    "plt.ylabel('Calorimeter 1 Counts by Unique ID')\n",
    "plt.show()'''"
   ]
  },
  {
   "cell_type": "markdown",
   "metadata": {},
   "source": [
    "We've checked that this works for calorimeter 1, so now lets go for the rest of them"
   ]
  },
  {
   "cell_type": "code",
   "execution_count": 18,
   "metadata": {},
   "outputs": [],
   "source": [
    "import csv\n",
    "\n",
    "out = open('calo_data_output_cutEnergy.csv','w')\n",
    "#out = open('calo_data_output_energy.csv','w')\n",
    "csv_out = csv.writer(out)\n",
    "csv_out.writerow(['Calorimeter Number','Global Bin','Run Number','SubRun Number','Event Number','Counts'])\n",
    "\n",
    "out.close()"
   ]
  },
  {
   "cell_type": "code",
   "execution_count": 19,
   "metadata": {},
   "outputs": [
    {
     "name": "stdout",
     "output_type": "stream",
     "text": [
      "caloNum == 1 && energy>1700 && energy<6000 && time >30*1000/1.25\n",
      "511271.0\n",
      "<ROOT.TH3F object (\"htemp\") at 0x7ffffb611cd0>\n",
      "Begin Calorimeter 1\n",
      "     Processing event: 15937273 (event 0 / 511271  and caloNum 1  )\n",
      "Found 18954 unique ID(s) for Calo 1\n",
      "caloNum == 2 && energy>1700 && energy<6000 && time >30*1000/1.25\n",
      "337071.0\n",
      "<ROOT.TH3F object (\"htemp\") at 0x7ffffb611cd0>\n",
      "Begin Calorimeter 2\n",
      "     Processing event: 15937273 (event 0 / 337071  and caloNum 2  )\n",
      "Found 18954 unique ID(s) for Calo 2\n",
      "caloNum == 3 && energy>1700 && energy<6000 && time >30*1000/1.25\n",
      "427557.0\n",
      "<ROOT.TH3F object (\"htemp\") at 0x7ffffb611cd0>\n",
      "Begin Calorimeter 3\n",
      "     Processing event: 15937273 (event 0 / 427557  and caloNum 3  )\n",
      "Found 18954 unique ID(s) for Calo 3\n",
      "caloNum == 4 && energy>1700 && energy<6000 && time >30*1000/1.25\n",
      "428178.0\n",
      "<ROOT.TH3F object (\"htemp\") at 0x7ffffb611cd0>\n",
      "Begin Calorimeter 4\n",
      "     Processing event: 15937273 (event 0 / 428178  and caloNum 4  )\n",
      "Found 18958 unique ID(s) for Calo 4\n",
      "caloNum == 5 && energy>1700 && energy<6000 && time >30*1000/1.25\n",
      "380732.0\n",
      "<ROOT.TH3F object (\"htemp\") at 0x7ffffb611cd0>\n",
      "Begin Calorimeter 5\n",
      "     Processing event: 15937273 (event 0 / 380732  and caloNum 5  )\n",
      "Found 18954 unique ID(s) for Calo 5\n",
      "caloNum == 6 && energy>1700 && energy<6000 && time >30*1000/1.25\n",
      "420875.0\n",
      "<ROOT.TH3F object (\"htemp\") at 0x7ff1a4c40760>\n",
      "Begin Calorimeter 6\n",
      "     Processing event: 15937273 (event 0 / 420875  and caloNum 6  )\n",
      "Found 18954 unique ID(s) for Calo 6\n",
      "caloNum == 7 && energy>1700 && energy<6000 && time >30*1000/1.25\n",
      "443421.0\n",
      "<ROOT.TH3F object (\"htemp\") at 0x7ff1a4c3f860>\n",
      "Begin Calorimeter 7\n",
      "     Processing event: 15937273 (event 0 / 443421  and caloNum 7  )\n",
      "Found 18954 unique ID(s) for Calo 7\n",
      "caloNum == 8 && energy>1700 && energy<6000 && time >30*1000/1.25\n",
      "432233.0\n",
      "<ROOT.TH3F object (\"htemp\") at 0x7ff182b9edc0>\n",
      "Begin Calorimeter 8\n",
      "     Processing event: 15937273 (event 0 / 432233  and caloNum 8  )\n",
      "Found 18954 unique ID(s) for Calo 8\n",
      "caloNum == 9 && energy>1700 && energy<6000 && time >30*1000/1.25\n",
      "394713.0\n",
      "<ROOT.TH3F object (\"htemp\") at 0x7ff182b9f630>\n",
      "Begin Calorimeter 9\n",
      "     Processing event: 15937273 (event 0 / 394713  and caloNum 9  )\n",
      "Found 18955 unique ID(s) for Calo 9\n",
      "caloNum == 10 && energy>1700 && energy<6000 && time >30*1000/1.25\n",
      "447955.0\n",
      "<ROOT.TH3F object (\"htemp\") at 0x7ff182b9f630>\n",
      "Begin Calorimeter 10\n",
      "     Processing event: 15937273 (event 0 / 447955  and caloNum 10  )\n",
      "Found 18954 unique ID(s) for Calo 10\n",
      "caloNum == 11 && energy>1700 && energy<6000 && time >30*1000/1.25\n",
      "482352.0\n",
      "<ROOT.TH3F object (\"htemp\") at 0x7ff182b9f630>\n",
      "Begin Calorimeter 11\n",
      "     Processing event: 15937273 (event 0 / 482352  and caloNum 11  )\n",
      "Found 18954 unique ID(s) for Calo 11\n",
      "caloNum == 12 && energy>1700 && energy<6000 && time >30*1000/1.25\n",
      "514908.0\n",
      "<ROOT.TH3F object (\"htemp\") at 0x7ff182b9f630>\n",
      "Begin Calorimeter 12\n",
      "     Processing event: 15937273 (event 0 / 514908  and caloNum 12  )\n",
      "Found 18954 unique ID(s) for Calo 12\n",
      "caloNum == 13 && energy>1700 && energy<6000 && time >30*1000/1.25\n",
      "478759.0\n",
      "<ROOT.TH3F object (\"htemp\") at 0x7ff182b9f630>\n",
      "Begin Calorimeter 13\n",
      "     Processing event: 15937273 (event 0 / 478759  and caloNum 13  )\n",
      "Found 18954 unique ID(s) for Calo 13\n",
      "caloNum == 14 && energy>1700 && energy<6000 && time >30*1000/1.25\n",
      "475211.0\n",
      "<ROOT.TH3F object (\"htemp\") at 0x7ffffb6149b0>\n",
      "Begin Calorimeter 14\n",
      "     Processing event: 15937273 (event 0 / 475211  and caloNum 14  )\n",
      "Found 18954 unique ID(s) for Calo 14\n",
      "caloNum == 15 && energy>1700 && energy<6000 && time >30*1000/1.25\n",
      "444691.0\n",
      "<ROOT.TH3F object (\"htemp\") at 0x7ff182b9edc0>\n",
      "Begin Calorimeter 15\n",
      "     Processing event: 15937273 (event 0 / 444691  and caloNum 15  )\n",
      "Found 18954 unique ID(s) for Calo 15\n",
      "caloNum == 16 && energy>1700 && energy<6000 && time >30*1000/1.25\n",
      "422274.0\n",
      "<ROOT.TH3F object (\"htemp\") at 0x7ff182b9edc0>\n",
      "Begin Calorimeter 16\n",
      "     Processing event: 15937273 (event 0 / 422274  and caloNum 16  )\n",
      "Found 18954 unique ID(s) for Calo 16\n",
      "caloNum == 17 && energy>1700 && energy<6000 && time >30*1000/1.25\n",
      "457874.0\n",
      "<ROOT.TH3F object (\"htemp\") at 0x7ff182b9edc0>\n",
      "Begin Calorimeter 17\n",
      "     Processing event: 15937273 (event 0 / 457874  and caloNum 17  )\n",
      "Found 18954 unique ID(s) for Calo 17\n",
      "caloNum == 18 && energy>1700 && energy<6000 && time >30*1000/1.25\n",
      "517282.0\n",
      "<ROOT.TH3F object (\"htemp\") at 0x7ff182b9edc0>\n",
      "Begin Calorimeter 18\n",
      "     Processing event: 15937273 (event 0 / 517282  and caloNum 18  )\n",
      "Found 18954 unique ID(s) for Calo 18\n",
      "caloNum == 19 && energy>1700 && energy<6000 && time >30*1000/1.25\n",
      "469267.0\n",
      "<ROOT.TH3F object (\"htemp\") at 0x7ff182b9edc0>\n",
      "Begin Calorimeter 19\n",
      "     Processing event: 15937273 (event 0 / 469267  and caloNum 19  )\n",
      "Found 18954 unique ID(s) for Calo 19\n",
      "caloNum == 20 && energy>1700 && energy<6000 && time >30*1000/1.25\n",
      "469596.0\n",
      "<ROOT.TH3F object (\"htemp\") at 0x7ff182b9edc0>\n",
      "Begin Calorimeter 20\n",
      "     Processing event: 15937273 (event 0 / 469596  and caloNum 20  )\n",
      "Found 18957 unique ID(s) for Calo 20\n",
      "caloNum == 21 && energy>1700 && energy<6000 && time >30*1000/1.25\n",
      "412537.0\n",
      "<ROOT.TH3F object (\"htemp\") at 0x7ff182b9edc0>\n",
      "Begin Calorimeter 21\n",
      "     Processing event: 15937273 (event 0 / 412537  and caloNum 21  )\n",
      "Found 18954 unique ID(s) for Calo 21\n",
      "caloNum == 22 && energy>1700 && energy<6000 && time >30*1000/1.25\n",
      "403749.0\n",
      "<ROOT.TH3F object (\"htemp\") at 0x7ff182b9edc0>\n",
      "Begin Calorimeter 22\n",
      "     Processing event: 15937273 (event 0 / 403749  and caloNum 22  )\n",
      "Found 18954 unique ID(s) for Calo 22\n",
      "caloNum == 23 && energy>1700 && energy<6000 && time >30*1000/1.25\n",
      "457574.0\n",
      "<ROOT.TH3F object (\"htemp\") at 0x7ff182b9edc0>\n",
      "Begin Calorimeter 23\n",
      "     Processing event: 15937273 (event 0 / 457574  and caloNum 23  )\n",
      "Found 18954 unique ID(s) for Calo 23\n",
      "caloNum == 24 && energy>1700 && energy<6000 && time >30*1000/1.25\n",
      "444587.0\n",
      "<ROOT.TH3F object (\"htemp\") at 0x7ff182b9edc0>\n",
      "Begin Calorimeter 24\n",
      "     Processing event: 15937273 (event 0 / 444587  and caloNum 24  )\n",
      "Found 18954 unique ID(s) for Calo 24\n"
     ]
    }
   ],
   "source": [
    "for j in range(0,len(caloList)):\n",
    "    calonum = caloList[j]\n",
    "#    cutString = \"caloNum == \"+str(calonum) \n",
    "    cutString = \"caloNum == \"+str(calonum)+\" && energy>1700 && energy<6000 && time >30*1000/1.25\"\n",
    "    print(cutString)\n",
    "    c = r.TCanvas()\n",
    "\n",
    "    t.SetEstimate(-1) #https://root-forum.cern.ch/t/ttree-getv1-array-limits/3325\n",
    "    t.Draw(\"nHit:eventNum:subRunNum:runNum\",cutString,\"\") #original, which just counts the number of events\n",
    "#    t.Draw(\"energy:eventNum:subRunNum:runNum\",cutString,\"\") #original, which just counts the number of events\n",
    "    hUnique = r.gPad.GetPrimitive(\"htemp\").Clone(\"uniqueIDhist\")\n",
    "    print(hUnique.GetEntries())\n",
    "\n",
    "    listc = c.GetListOfPrimitives()\n",
    "    ding = listc.First()\n",
    "    print(ding)\n",
    "\n",
    "    eventNumVec = t.GetV2()\n",
    "    subRunNumVec = t.GetV3()\n",
    "    runNumVec = t.GetV4()\n",
    "    nHitVec = t.GetV1()\n",
    "    \n",
    "    globalBinNumber = int( str(int(runNumVec[0])) + str(int(subRunNumVec[0])) +str(int(eventNumVec[0])) )\n",
    "    runningTotal = 0\n",
    "    pairList = []\n",
    "    maxBin = int(hUnique.GetEntries() / 1 )\n",
    "\n",
    "    print(\"Begin Calorimeter\", calonum)\n",
    "    for i in range(0,maxBin):\n",
    "        globalBinNumberNew = int( str(int(runNumVec[i])) + str(int(subRunNumVec[i])) +str(int(eventNumVec[i])) )\n",
    "        if(i % 1000000 == 0):\n",
    "            print(\"     Processing event:\", globalBinNumberNew, \"(event\", i,\"/\",maxBin,\" and caloNum\",calonum,\" )\")\n",
    "#        print(i, maxBin-1,globalBinNumberNew, globalBinNumber)\n",
    "        if(globalBinNumber == globalBinNumberNew):\n",
    "            runningTotal = runningTotal + nHitVec[i]\n",
    "#        elif((globalBinNumber != globalBinNumberNew) or (i == maxBin-1)):\n",
    "        else:\n",
    "            pairList.append((calonum, globalBinNumber,int(runNumVec[i]),int(subRunNumVec[i]), int(eventNumVec[i]),runningTotal))\n",
    "            runningTotal = nHitVec[i]\n",
    "\n",
    "        if(i == maxBin-1):\n",
    "            pairList.append((calonum, globalBinNumber,int(runNumVec[i]),int(subRunNumVec[i]), int(eventNumVec[i]),runningTotal))\n",
    "\n",
    "        globalBinNumber = globalBinNumberNew\n",
    "\n",
    "        \n",
    "    out = open('calo_data_output_cutEnergy.csv','a')\n",
    "#    out = open('calo_data_output_energy.csv','a')\n",
    "    csv_out = csv.writer(out)\n",
    "    for item in pairList:\n",
    "        csv_out.writerow(item)\n",
    "    out.close()\n",
    "    \n",
    "    print(\"Found\", len(pairList),\"unique ID(s) for Calo\", calonum)"
   ]
  },
  {
   "cell_type": "markdown",
   "metadata": {},
   "source": [
    "Alright, now that we have that data stored in the file, we can crunch the numbers."
   ]
  },
  {
   "cell_type": "code",
   "execution_count": null,
   "metadata": {},
   "outputs": [],
   "source": []
  },
  {
   "cell_type": "code",
   "execution_count": null,
   "metadata": {},
   "outputs": [],
   "source": []
  },
  {
   "cell_type": "code",
   "execution_count": null,
   "metadata": {},
   "outputs": [],
   "source": []
  },
  {
   "cell_type": "code",
   "execution_count": null,
   "metadata": {},
   "outputs": [],
   "source": []
  }
 ],
 "metadata": {
  "kernelspec": {
   "display_name": "Python 3",
   "language": "python",
   "name": "python3"
  },
  "language_info": {
   "codemirror_mode": {
    "name": "ipython",
    "version": 3
   },
   "file_extension": ".py",
   "mimetype": "text/x-python",
   "name": "python",
   "nbconvert_exporter": "python",
   "pygments_lexer": "ipython3",
   "version": "3.6.5"
  }
 },
 "nbformat": 4,
 "nbformat_minor": 2
}
