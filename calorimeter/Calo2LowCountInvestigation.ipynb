{
 "cells": [
  {
   "cell_type": "code",
   "execution_count": 19,
   "metadata": {},
   "outputs": [],
   "source": [
    "import ROOT as r\n",
    "import math\n",
    "from BlindersPy3 import Blinders\n",
    "from BlindersPy3 import FitType\n",
    "r.gStyle.SetOptStat(0)\n",
    "r.gStyle.SetOptFit(1111)\n",
    "import matplotlib.pyplot as plt"
   ]
  },
  {
   "cell_type": "code",
   "execution_count": 20,
   "metadata": {},
   "outputs": [
    {
     "name": "stdout",
     "output_type": "stream",
     "text": [
      "TFile**\t\t./gm2offline_ana_7893458_15937.00027.root\t\n",
      " TFile*\t\t./gm2offline_ana_7893458_15937.00027.root\t\n",
      "  TDirectoryFile*\t\tclusterTree\tclusterTree (ClusterTree) folder\n",
      "   KEY: TTree\tclusters;94\tclusters\n",
      "   KEY: TTree\tclusters;93\tclusters\n",
      "  KEY: TDirectoryFile\tCoincidenceFinderLM;1\tCoincidenceFinderLM (CoincidenceFinderLM) folder\n",
      "  KEY: TDirectoryFile\tclusterTree;1\tclusterTree (ClusterTree) folder\n"
     ]
    }
   ],
   "source": [
    "f = r.TFile(\"./gm2offline_ana_7893458_15937.00027.root\")\n",
    "f.cd(\"clusterTree\")\n",
    "f.ls()"
   ]
  },
  {
   "cell_type": "code",
   "execution_count": 21,
   "metadata": {},
   "outputs": [],
   "source": [
    "t = f.Get(\"clusterTree\").Get(\"clusters\")"
   ]
  },
  {
   "cell_type": "code",
   "execution_count": 22,
   "metadata": {},
   "outputs": [
    {
     "name": "stdout",
     "output_type": "stream",
     "text": [
      "******************************************************************************\n",
      "*Tree    :clusters  : clusters                                               *\n",
      "*Entries : 99870478 : Total =      6791534622 bytes  File  Size = 2795647272 *\n",
      "*        :          : Tree compression factor =   2.43                       *\n",
      "******************************************************************************\n",
      "*Br    0 :energy    : energy/D                                               *\n",
      "*Entries : 99870478 : Total  Size=  798999061 bytes  File Size  =  760531572 *\n",
      "*Baskets :      360 : Basket Size=   25600000 bytes  Compression=   1.05     *\n",
      "*............................................................................*\n",
      "*Br    1 :time      : time/D                                                 *\n",
      "*Entries : 99870478 : Total  Size=  798998333 bytes  File Size  =  762480670 *\n",
      "*Baskets :      360 : Basket Size=   25600000 bytes  Compression=   1.05     *\n",
      "*............................................................................*\n",
      "*Br    2 :x         : x/D                                                    *\n",
      "*Entries : 99870478 : Total  Size=  798997241 bytes  File Size  =  507389649 *\n",
      "*Baskets :      360 : Basket Size=   25600000 bytes  Compression=   1.57     *\n",
      "*............................................................................*\n",
      "*Br    3 :y         : y/D                                                    *\n",
      "*Entries : 99870478 : Total  Size=  798997241 bytes  File Size  =  443847200 *\n",
      "*Baskets :      360 : Basket Size=   25600000 bytes  Compression=   1.80     *\n",
      "*............................................................................*\n",
      "*Br    4 :nHit      : nHit/i                                                 *\n",
      "*Entries : 99870478 : Total  Size=  399503778 bytes  File Size  =   60862120 *\n",
      "*Baskets :      227 : Basket Size=   25600000 bytes  Compression=   6.56     *\n",
      "*............................................................................*\n",
      "*Br    5 :caloNum   : caloNum/i                                              *\n",
      "*Entries : 99870478 : Total  Size=  399504471 bytes  File Size  =    4304191 *\n",
      "*Baskets :      227 : Basket Size=   25600000 bytes  Compression=  92.82     *\n",
      "*............................................................................*\n",
      "*Br    6 :xtalNum   : xtalNum/i                                              *\n",
      "*Entries : 99870478 : Total  Size=  399504471 bytes  File Size  =  122141715 *\n",
      "*Baskets :      227 : Basket Size=   25600000 bytes  Compression=   3.27     *\n",
      "*............................................................................*\n",
      "*Br    7 :islandNum : islandNum/i                                            *\n",
      "*Entries : 99870478 : Total  Size=  399504933 bytes  File Size  =  123944725 *\n",
      "*Baskets :      227 : Basket Size=   25600000 bytes  Compression=   3.22     *\n",
      "*............................................................................*\n",
      "*Br    8 :eventNum  : eventNum/i                                             *\n",
      "*Entries : 99870478 : Total  Size=  399504702 bytes  File Size  =    2065574 *\n",
      "*Baskets :      227 : Basket Size=   25600000 bytes  Compression= 193.41     *\n",
      "*............................................................................*\n",
      "*Br    9 :bunchNum  : bunchNum/i                                             *\n",
      "*Entries : 99870478 : Total  Size=  399504702 bytes  File Size  =    2052083 *\n",
      "*Baskets :      227 : Basket Size=   25600000 bytes  Compression= 194.68     *\n",
      "*............................................................................*\n",
      "*Br   10 :midasSerialNum : midasSerialNum/i                                  *\n",
      "*Entries : 99870478 : Total  Size=  399506088 bytes  File Size  =    2069295 *\n",
      "*Baskets :      227 : Basket Size=   25600000 bytes  Compression= 193.06     *\n",
      "*............................................................................*\n",
      "*Br   11 :subRunNum : subRunNum/i                                            *\n",
      "*Entries : 99870478 : Total  Size=  399504933 bytes  File Size  =    1964847 *\n",
      "*Baskets :      227 : Basket Size=   25600000 bytes  Compression= 203.32     *\n",
      "*............................................................................*\n",
      "*Br   12 :runNum    : runNum/i                                               *\n",
      "*Entries : 99870478 : Total  Size=  399504240 bytes  File Size  =    1964356 *\n",
      "*Baskets :      227 : Basket Size=   25600000 bytes  Compression= 203.37     *\n",
      "*............................................................................*\n"
     ]
    }
   ],
   "source": [
    "t.Print()"
   ]
  },
  {
   "cell_type": "code",
   "execution_count": 38,
   "metadata": {},
   "outputs": [
    {
     "data": {
      "image/png": "[encoded data removed]",
      "text/plain": [
       "<IPython.core.display.Image object>"
      ]
     },
     "metadata": {},
     "output_type": "display_data"
    }
   ],
   "source": [
    "c = r.TCanvas()\n",
    "t.Draw(\"nHit\",\"energy > 1700 && energy < 6000 && time > 30*1000/1.25 && caloNum == 1\",\"\")\n",
    "c.Draw()"
   ]
  },
  {
   "cell_type": "code",
   "execution_count": 6,
   "metadata": {},
   "outputs": [],
   "source": [
    "t.Draw(\"caloNum\",\"\",\"\")\n",
    "h = r.gPad.GetPrimitive(\"htemp\").Clone(\"caloListHist\")\n",
    "h.SetTitle(\"Entries/Calorimeter Number\")"
   ]
  },
  {
   "cell_type": "code",
   "execution_count": 7,
   "metadata": {},
   "outputs": [
    {
     "name": "stdout",
     "output_type": "stream",
     "text": [
      "[2, 3, 4, 5, 6, 7, 8, 9, 10, 11, 12, 13, 14, 15, 16, 17, 18, 19, 20, 21, 22, 23, 24, 25] [1, 2, 3, 4, 5, 6, 7, 8, 9, 10, 11, 12, 13, 14, 15, 16, 17, 18, 19, 20, 21, 22, 23, 24]\n"
     ]
    }
   ],
   "source": [
    "caloBinList = []\n",
    "caloList = []\n",
    "for i in range(1,h.GetNbinsX()-1):\n",
    "    caloBinList.append(h.FindBin(i))\n",
    "    caloList.append(i)\n",
    "print(caloBinList, caloList)"
   ]
  },
  {
   "cell_type": "code",
   "execution_count": 8,
   "metadata": {},
   "outputs": [
    {
     "data": {
      "image/png": "[encoded data removed]",
      "text/plain": [
       "<IPython.core.display.Image object>"
      ]
     },
     "metadata": {},
     "output_type": "display_data"
    }
   ],
   "source": [
    "h.Draw()\n",
    "c.Draw()"
   ]
  },
  {
   "cell_type": "markdown",
   "metadata": {},
   "source": [
    "Now lets look at the number of counts per unique ID of (run, subrun, event). In order to do this, we'll draw all of those options from the tree with a cut for calorimeter number. Currently, calonum is set to 1, but we will easily be able to put this into a loop at a later date."
   ]
  },
  {
   "cell_type": "code",
   "execution_count": 9,
   "metadata": {},
   "outputs": [],
   "source": [
    "calonum = 1"
   ]
  },
  {
   "cell_type": "code",
   "execution_count": 10,
   "metadata": {},
   "outputs": [
    {
     "name": "stdout",
     "output_type": "stream",
     "text": [
      "caloNum == 1\n",
      "99870478.0\n",
      "<ROOT.TH3F object (\"htemp\") at 0x7ffff9c3d920>\n"
     ]
    },
    {
     "name": "stderr",
     "output_type": "stream",
     "text": [
      "Error in <TBufferFile::WriteByteCount>: bytecount too large (more than 1073741822)\n",
      "Error in <TBufferFile::WriteByteCount>: bytecount too large (more than 1073741822)\n",
      "Error in <TBufferFile::WriteByteCount>: bytecount too large (more than 1073741822)\n",
      "Error in <TBufferFile::CheckByteCount>: object of class TObjArray read too many bytes: 1198460317 instead of 124718493\n",
      "Warning in <TBufferFile::CheckByteCount>: TObjArray::Streamer() not in sync with data, fix Streamer()\n"
     ]
    }
   ],
   "source": [
    "cutString = \"caloNum == \"+str(calonum)\n",
    "print(cutString)\n",
    "c = r.TCanvas()\n",
    "\n",
    "t.SetEstimate(-1) #https://root-forum.cern.ch/t/ttree-getv1-array-limits/3325\n",
    "t.Draw(\"nHit:eventNum:subRunNum:runNum\",\"\",\"\")\n",
    "hUnique = r.gPad.GetPrimitive(\"htemp\").Clone(\"uniqueIDhist\")\n",
    "print(hUnique.GetEntries())\n",
    "\n",
    "listc = c.GetListOfPrimitives()\n",
    "ding = listc.First()\n",
    "print(ding)\n",
    "\n",
    "eventNumVec = t.GetV2()\n",
    "subRunNumVec = t.GetV3()\n",
    "runNumVec = t.GetV4()\n",
    "nHitVec = t.GetV1()"
   ]
  },
  {
   "cell_type": "code",
   "execution_count": 11,
   "metadata": {},
   "outputs": [
    {
     "name": "stdout",
     "output_type": "stream",
     "text": [
      "<class 'float'>\n",
      "3.0 15937.0 27.0 54.0\n",
      "15937273\n",
      "3.0 15937.0 27.0 2.0\n",
      "15937273\n",
      "3.0 15937.0 27.0 2.0\n",
      "15937273\n",
      "3.0 15937.0 27.0 1.0\n",
      "15937273\n",
      "3.0 15937.0 27.0 1.0\n",
      "15937273\n",
      "3.0 15937.0 27.0 2.0\n",
      "15937273\n",
      "3.0 15937.0 27.0 1.0\n",
      "15937273\n",
      "3.0 15937.0 27.0 1.0\n",
      "15937273\n",
      "3.0 15937.0 27.0 2.0\n",
      "15937273\n",
      "3.0 15937.0 27.0 1.0\n",
      "15937273\n"
     ]
    }
   ],
   "source": [
    "print(type(eventNumVec[0]))\n",
    "for i in range(0,10):\n",
    "    print(eventNumVec[i],runNumVec[i],subRunNumVec[i],nHitVec[i])\n",
    "    ding = str(int(runNumVec[i])) + str(int(subRunNumVec[i])) +str(int(eventNumVec[i])) \n",
    "    print(ding)"
   ]
  },
  {
   "cell_type": "markdown",
   "metadata": {},
   "source": [
    "Now lets create a global bin number by simply appending the event, run, and subrun numbers together. we can then loop over all of the entries in these lists and add up the ones with the same global bin number"
   ]
  },
  {
   "cell_type": "code",
   "execution_count": 12,
   "metadata": {},
   "outputs": [
    {
     "data": {
      "text/plain": [
       "'globalBinNumber = int( str(int(runNumVec[0])) + str(int(subRunNumVec[0])) +str(int(eventNumVec[0])) )\\nrunningTotal = 0\\npairList = []\\nmaxBin = int(hUnique.GetEntries() / 1 ) #change this denom back if you want this to work\\n\\nfor i in range(0,maxBin):\\n    globalBinNumberNew = int( str(int(runNumVec[i])) + str(int(subRunNumVec[i])) +str(int(eventNumVec[i])) )\\n    if(i % 10000000 == 0):\\n        print(\"Processing event:\", globalBinNumberNew, \"(event\", i,\"/\",maxBin,\" and caloNum\",calonum,\" )\")\\n#    print(i, maxBin-1,globalBinNumberNew, globalBinNumber)\\n    if(globalBinNumber == globalBinNumberNew):\\n        runningTotal = runningTotal + nHitVec[i]\\n    elif((globalBinNumber != globalBinNumberNew) or (i == maxBin-1)):\\n        pairList.append((calonum, globalBinNumber,int(runNumVec[i]),int(subRunNumVec[i]), int(eventNumVec[i]),runningTotal))\\n        runningTotal = nHitVec[i]\\n    \\n    if(i == maxBin-1):\\n        pairList.append((calonum, globalBinNumber,int(runNumVec[i]),int(subRunNumVec[i]), int(eventNumVec[i]),runningTotal))\\n        \\n    globalBinNumber = globalBinNumberNew\\n    \\nprint(\"Found\", len(pairList),\"unique ID(s) for Calo\", calonum) '"
      ]
     },
     "execution_count": 12,
     "metadata": {},
     "output_type": "execute_result"
    }
   ],
   "source": [
    "'''globalBinNumber = int( str(int(runNumVec[0])) + str(int(subRunNumVec[0])) +str(int(eventNumVec[0])) )\n",
    "runningTotal = 0\n",
    "pairList = []\n",
    "maxBin = int(hUnique.GetEntries() / 1 ) #change this denom back if you want this to work\n",
    "\n",
    "for i in range(0,maxBin):\n",
    "    globalBinNumberNew = int( str(int(runNumVec[i])) + str(int(subRunNumVec[i])) +str(int(eventNumVec[i])) )\n",
    "    if(i % 10000000 == 0):\n",
    "        print(\"Processing event:\", globalBinNumberNew, \"(event\", i,\"/\",maxBin,\" and caloNum\",calonum,\" )\")\n",
    "#    print(i, maxBin-1,globalBinNumberNew, globalBinNumber)\n",
    "    if(globalBinNumber == globalBinNumberNew):\n",
    "        runningTotal = runningTotal + nHitVec[i]\n",
    "    elif((globalBinNumber != globalBinNumberNew) or (i == maxBin-1)):\n",
    "        pairList.append((calonum, globalBinNumber,int(runNumVec[i]),int(subRunNumVec[i]), int(eventNumVec[i]),runningTotal))\n",
    "        runningTotal = nHitVec[i]\n",
    "    \n",
    "    if(i == maxBin-1):\n",
    "        pairList.append((calonum, globalBinNumber,int(runNumVec[i]),int(subRunNumVec[i]), int(eventNumVec[i]),runningTotal))\n",
    "        \n",
    "    globalBinNumber = globalBinNumberNew\n",
    "    \n",
    "print(\"Found\", len(pairList),\"unique ID(s) for Calo\", calonum) '''"
   ]
  },
  {
   "cell_type": "code",
   "execution_count": 13,
   "metadata": {},
   "outputs": [
    {
     "data": {
      "text/plain": [
       "'countList = [x[1] for x in pairList]'"
      ]
     },
     "execution_count": 13,
     "metadata": {},
     "output_type": "execute_result"
    }
   ],
   "source": [
    "'''countList = [x[1] for x in pairList]''' #https://stackoverflow.com/questions/3308102/how-to-extract-the-n-th-elements-from-a-list-of-tuples-in-python"
   ]
  },
  {
   "cell_type": "code",
   "execution_count": 14,
   "metadata": {},
   "outputs": [
    {
     "data": {
      "text/plain": [
       "'plt.plot(countList, \"b.\")\\nplt.ylabel(\\'Calorimeter 1 Counts by Unique ID\\')\\nplt.show()'"
      ]
     },
     "execution_count": 14,
     "metadata": {},
     "output_type": "execute_result"
    }
   ],
   "source": [
    "'''plt.plot(countList, \"b.\")\n",
    "plt.ylabel('Calorimeter 1 Counts by Unique ID')\n",
    "plt.show()'''"
   ]
  },
  {
   "cell_type": "markdown",
   "metadata": {},
   "source": [
    "We've checked that this works for calorimeter 1, so now lets go for the rest of them"
   ]
  },
  {
   "cell_type": "code",
   "execution_count": 40,
   "metadata": {},
   "outputs": [
    {
     "name": "stdout",
     "output_type": "stream",
     "text": [
      "Begin Calorimeter 1\n",
      "     caloNum == 1 && energy>1700 && energy<6000 && time >30*1000/1.25\n",
      "     <ROOT.TH3F object (\"htemp\") at 0x7ffff94d3170>\n",
      "     Found 511271 entries.\n",
      "     Processing event: 1593700270003 (event 0 / 511271  and caloNum 1  )\n",
      "     Processing event: 1593900580049 (event 100000 / 511271  and caloNum 1  )\n",
      "     Processing event: 1598504380081 (event 200000 / 511271  and caloNum 1  )\n",
      "     Processing event: 1597700570152 (event 300000 / 511271  and caloNum 1  )\n",
      "     Processing event: 1593603310126 (event 400000 / 511271  and caloNum 1  )\n",
      "     Processing event: 1594401380079 (event 500000 / 511271  and caloNum 1  )\n",
      "Found 18954 unique ID(s) for Calo 1\n",
      "Begin Calorimeter 2\n",
      "     caloNum == 2 && energy>1700 && energy<6000 && time >30*1000/1.25\n",
      "     <ROOT.TH3F object (\"htemp\") at 0x7ffff94d3170>\n",
      "     Found 337071 entries.\n",
      "     Processing event: 1593700270003 (event 0 / 337071  and caloNum 2  )\n",
      "     Processing event: 1597702400046 (event 100000 / 337071  and caloNum 2  )\n",
      "     Processing event: 1598201680104 (event 200000 / 337071  and caloNum 2  )\n",
      "     Processing event: 1594900950104 (event 300000 / 337071  and caloNum 2  )\n",
      "Found 18954 unique ID(s) for Calo 2\n",
      "Begin Calorimeter 3\n",
      "     caloNum == 3 && energy>1700 && energy<6000 && time >30*1000/1.25\n",
      "     <ROOT.TH3F object (\"htemp\") at 0x7ffff94d3170>\n",
      "     Found 427557 entries.\n",
      "     Processing event: 1593700270003 (event 0 / 427557  and caloNum 3  )\n",
      "     Processing event: 1593201800135 (event 100000 / 427557  and caloNum 3  )\n",
      "     Processing event: 1594602350028 (event 200000 / 427557  and caloNum 3  )\n",
      "     Processing event: 1594900120103 (event 300000 / 427557  and caloNum 3  )\n",
      "     Processing event: 1598800330021 (event 400000 / 427557  and caloNum 3  )\n",
      "Found 18954 unique ID(s) for Calo 3\n",
      "Begin Calorimeter 4\n",
      "     caloNum == 4 && energy>1700 && energy<6000 && time >30*1000/1.25\n",
      "     <ROOT.TH3F object (\"htemp\") at 0x7ffff94d3170>\n",
      "     Found 428178 entries.\n",
      "     Processing event: 1593700270003 (event 0 / 428178  and caloNum 4  )\n",
      "     Processing event: 1593201800067 (event 100000 / 428178  and caloNum 4  )\n",
      "     Processing event: 1596700410075 (event 200000 / 428178  and caloNum 4  )\n",
      "     Processing event: 1594900120069 (event 300000 / 428178  and caloNum 4  )\n",
      "     Processing event: 1593800690123 (event 400000 / 428178  and caloNum 4  )\n",
      "Found 18958 unique ID(s) for Calo 4\n",
      "Begin Calorimeter 5\n",
      "     caloNum == 5 && energy>1700 && energy<6000 && time >30*1000/1.25\n",
      "     <ROOT.TH3F object (\"htemp\") at 0x7ffff94d3170>\n",
      "     Found 380732 entries.\n",
      "     Processing event: 1593700270003 (event 0 / 380732  and caloNum 5  )\n",
      "     Processing event: 1592600910033 (event 100000 / 380732  and caloNum 5  )\n",
      "     Processing event: 1596800240057 (event 200000 / 380732  and caloNum 5  )\n",
      "     Processing event: 1593201690015 (event 300000 / 380732  and caloNum 5  )\n",
      "Found 18954 unique ID(s) for Calo 5\n",
      "Begin Calorimeter 6\n",
      "     caloNum == 6 && energy>1700 && energy<6000 && time >30*1000/1.25\n",
      "     <ROOT.TH3F object (\"htemp\") at 0x7ffff94d3170>\n",
      "     Found 420875 entries.\n",
      "     Processing event: 1593700270003 (event 0 / 420875  and caloNum 6  )\n",
      "     Processing event: 1596803600108 (event 100000 / 420875  and caloNum 6  )\n",
      "     Processing event: 1593701860114 (event 200000 / 420875  and caloNum 6  )\n",
      "     Processing event: 1596904850005 (event 300000 / 420875  and caloNum 6  )\n",
      "     Processing event: 1598704390052 (event 400000 / 420875  and caloNum 6  )\n",
      "Found 18954 unique ID(s) for Calo 6\n",
      "Begin Calorimeter 7\n",
      "     caloNum == 7 && energy>1700 && energy<6000 && time >30*1000/1.25\n",
      "     <ROOT.TH3F object (\"htemp\") at 0x7ffff94d3170>\n",
      "     Found 443421 entries.\n",
      "     Processing event: 1593700270003 (event 0 / 443421  and caloNum 7  )\n",
      "     Processing event: 1594501540039 (event 100000 / 443421  and caloNum 7  )\n",
      "     Processing event: 1598403970149 (event 200000 / 443421  and caloNum 7  )\n",
      "     Processing event: 1596904640082 (event 300000 / 443421  and caloNum 7  )\n",
      "     Processing event: 1598801960098 (event 400000 / 443421  and caloNum 7  )\n",
      "Found 18954 unique ID(s) for Calo 7\n",
      "Begin Calorimeter 8\n",
      "     caloNum == 8 && energy>1700 && energy<6000 && time >30*1000/1.25\n",
      "     <ROOT.TH3F object (\"htemp\") at 0x7ffff94d3170>\n",
      "     Found 432233 entries.\n",
      "     Processing event: 1593700270003 (event 0 / 432233  and caloNum 8  )\n",
      "     Processing event: 1597400090091 (event 100000 / 432233  and caloNum 8  )\n",
      "     Processing event: 1596003650036 (event 200000 / 432233  and caloNum 8  )\n",
      "     Processing event: 1594903960068 (event 300000 / 432233  and caloNum 8  )\n",
      "     Processing event: 1597201260047 (event 400000 / 432233  and caloNum 8  )\n",
      "Found 18954 unique ID(s) for Calo 8\n",
      "Begin Calorimeter 9\n",
      "     caloNum == 9 && energy>1700 && energy<6000 && time >30*1000/1.25\n",
      "     <ROOT.TH3F object (\"htemp\") at 0x7ffff94d3170>\n",
      "     Found 394713 entries.\n",
      "     Processing event: 1593700270003 (event 0 / 394713  and caloNum 9  )\n",
      "     Processing event: 1597402540041 (event 100000 / 394713  and caloNum 9  )\n",
      "     Processing event: 1595900760115 (event 200000 / 394713  and caloNum 9  )\n",
      "     Processing event: 1593801900153 (event 300000 / 394713  and caloNum 9  )\n",
      "Found 18955 unique ID(s) for Calo 9\n",
      "Begin Calorimeter 10\n",
      "     caloNum == 10 && energy>1700 && energy<6000 && time >30*1000/1.25\n",
      "     <ROOT.TH3F object (\"htemp\") at 0x7ffff94d3170>\n",
      "     Found 447955 entries.\n",
      "     Processing event: 1593700270003 (event 0 / 447955  and caloNum 10  )\n",
      "     Processing event: 1598103950087 (event 100000 / 447955  and caloNum 10  )\n",
      "     Processing event: 1595000100123 (event 200000 / 447955  and caloNum 10  )\n",
      "     Processing event: 1598902290051 (event 300000 / 447955  and caloNum 10  )\n",
      "     Processing event: 1593904540095 (event 400000 / 447955  and caloNum 10  )\n",
      "Found 18954 unique ID(s) for Calo 10\n",
      "Begin Calorimeter 11\n",
      "     caloNum == 11 && energy>1700 && energy<6000 && time >30*1000/1.25\n",
      "     <ROOT.TH3F object (\"htemp\") at 0x7ffff94d3170>\n",
      "     Found 482352 entries.\n",
      "     Processing event: 1593700270003 (event 0 / 482352  and caloNum 11  )\n",
      "     Processing event: 1594900930035 (event 100000 / 482352  and caloNum 11  )\n",
      "     Processing event: 1593902060052 (event 200000 / 482352  and caloNum 11  )\n",
      "     Processing event: 1597401000137 (event 300000 / 482352  and caloNum 11  )\n",
      "     Processing event: 1598803750107 (event 400000 / 482352  and caloNum 11  )\n",
      "Found 18954 unique ID(s) for Calo 11\n",
      "Begin Calorimeter 12\n",
      "     caloNum == 12 && energy>1700 && energy<6000 && time >30*1000/1.25\n",
      "     <ROOT.TH3F object (\"htemp\") at 0x7ffff94d3170>\n",
      "     Found 514908 entries.\n",
      "     Processing event: 1593700270003 (event 0 / 514908  and caloNum 12  )\n",
      "     Processing event: 1593900580004 (event 100000 / 514908  and caloNum 12  )\n",
      "     Processing event: 1592401980096 (event 200000 / 514908  and caloNum 12  )\n",
      "     Processing event: 1598700840100 (event 300000 / 514908  and caloNum 12  )\n",
      "     Processing event: 1592801180104 (event 400000 / 514908  and caloNum 12  )\n",
      "     Processing event: 1597703400067 (event 500000 / 514908  and caloNum 12  )\n",
      "Found 18954 unique ID(s) for Calo 12\n",
      "Begin Calorimeter 13\n",
      "     caloNum == 13 && energy>1700 && energy<6000 && time >30*1000/1.25\n",
      "     <ROOT.TH3F object (\"htemp\") at 0x7f987bdcabc0>\n",
      "     Found 478759 entries.\n",
      "     Processing event: 1593700270003 (event 0 / 478759  and caloNum 13  )\n",
      "     Processing event: 1594900930058 (event 100000 / 478759  and caloNum 13  )\n",
      "     Processing event: 1593302790036 (event 200000 / 478759  and caloNum 13  )\n",
      "     Processing event: 1597801580091 (event 300000 / 478759  and caloNum 13  )\n",
      "     Processing event: 1598901090077 (event 400000 / 478759  and caloNum 13  )\n",
      "Found 18954 unique ID(s) for Calo 13\n",
      "Begin Calorimeter 14\n",
      "     caloNum == 14 && energy>1700 && energy<6000 && time >30*1000/1.25\n",
      "     <ROOT.TH3F object (\"htemp\") at 0x7f98552c1480>\n",
      "     Found 475211 entries.\n",
      "     Processing event: 1593700270003 (event 0 / 475211  and caloNum 14  )\n",
      "     Processing event: 1594900930052 (event 100000 / 475211  and caloNum 14  )\n",
      "     Processing event: 1593302790136 (event 200000 / 475211  and caloNum 14  )\n",
      "     Processing event: 1598600420063 (event 300000 / 475211  and caloNum 14  )\n",
      "     Processing event: 1592800450011 (event 400000 / 475211  and caloNum 14  )\n",
      "Found 18954 unique ID(s) for Calo 14\n",
      "Begin Calorimeter 15\n",
      "     caloNum == 15 && energy>1700 && energy<6000 && time >30*1000/1.25\n",
      "     <ROOT.TH3F object (\"htemp\") at 0x7f98552c1480>\n",
      "     Found 444691 entries.\n",
      "     Processing event: 1593700270003 (event 0 / 444691  and caloNum 15  )\n",
      "     Processing event: 1594501540005 (event 100000 / 444691  and caloNum 15  )\n",
      "     Processing event: 1598403970092 (event 200000 / 444691  and caloNum 15  )\n",
      "     Processing event: 1596004740153 (event 300000 / 444691  and caloNum 15  )\n",
      "     Processing event: 1595901130112 (event 400000 / 444691  and caloNum 15  )\n",
      "Found 18954 unique ID(s) for Calo 15\n",
      "Begin Calorimeter 16\n",
      "     caloNum == 16 && energy>1700 && energy<6000 && time >30*1000/1.25\n",
      "     <ROOT.TH3F object (\"htemp\") at 0x7f98552c1480>\n",
      "     Found 422274 entries.\n",
      "     Processing event: 1593700270003 (event 0 / 422274  and caloNum 16  )\n",
      "     Processing event: 1596803600124 (event 100000 / 422274  and caloNum 16  )\n",
      "     Processing event: 1593701860083 (event 200000 / 422274  and caloNum 16  )\n",
      "     Processing event: 1594300400045 (event 300000 / 422274  and caloNum 16  )\n",
      "     Processing event: 1594602950059 (event 400000 / 422274  and caloNum 16  )\n",
      "Found 18954 unique ID(s) for Calo 16\n",
      "Begin Calorimeter 17\n",
      "     caloNum == 17 && energy>1700 && energy<6000 && time >30*1000/1.25\n",
      "     <ROOT.TH3F object (\"htemp\") at 0x7f98552c1480>\n",
      "     Found 457874 entries.\n",
      "     Processing event: 1593700270003 (event 0 / 457874  and caloNum 17  )\n",
      "     Processing event: 1593101000080 (event 100000 / 457874  and caloNum 17  )\n",
      "     Processing event: 1593400890150 (event 200000 / 457874  and caloNum 17  )\n",
      "     Processing event: 1594404740020 (event 300000 / 457874  and caloNum 17  )\n",
      "     Processing event: 1592400660153 (event 400000 / 457874  and caloNum 17  )\n",
      "Found 18954 unique ID(s) for Calo 17\n",
      "Begin Calorimeter 18\n",
      "     caloNum == 18 && energy>1700 && energy<6000 && time >30*1000/1.25\n",
      "     <ROOT.TH3F object (\"htemp\") at 0x7f98552c1480>\n",
      "     Found 517282 entries.\n",
      "     Processing event: 1593700270003 (event 0 / 517282  and caloNum 18  )\n",
      "     Processing event: 1593900580002 (event 100000 / 517282  and caloNum 18  )\n",
      "     Processing event: 1592401980060 (event 200000 / 517282  and caloNum 18  )\n",
      "     Processing event: 1598700840030 (event 300000 / 517282  and caloNum 18  )\n",
      "     Processing event: 1592801180002 (event 400000 / 517282  and caloNum 18  )\n",
      "     Processing event: 1593003620077 (event 500000 / 517282  and caloNum 18  )\n",
      "Found 18954 unique ID(s) for Calo 18\n",
      "Begin Calorimeter 19\n",
      "     caloNum == 19 && energy>1700 && energy<6000 && time >30*1000/1.25\n",
      "     <ROOT.TH3F object (\"htemp\") at 0x7f98552c1480>\n",
      "     Found 469267 entries.\n",
      "     Processing event: 1593700270003 (event 0 / 469267  and caloNum 19  )\n",
      "     Processing event: 1592303470069 (event 100000 / 469267  and caloNum 19  )\n",
      "     Processing event: 1595503870012 (event 200000 / 469267  and caloNum 19  )\n",
      "     Processing event: 1593503050076 (event 300000 / 469267  and caloNum 19  )\n",
      "     Processing event: 1592101040088 (event 400000 / 469267  and caloNum 19  )\n",
      "Found 18954 unique ID(s) for Calo 19\n",
      "Begin Calorimeter 20\n",
      "     caloNum == 20 && energy>1700 && energy<6000 && time >30*1000/1.25\n",
      "     <ROOT.TH3F object (\"htemp\") at 0x7f98552c1480>\n",
      "     Found 469596 entries.\n",
      "     Processing event: 1593700270003 (event 0 / 469596  and caloNum 20  )\n",
      "     Processing event: 1592303470073 (event 100000 / 469596  and caloNum 20  )\n",
      "     Processing event: 1598501090123 (event 200000 / 469596  and caloNum 20  )\n",
      "     Processing event: 1594501950132 (event 300000 / 469596  and caloNum 20  )\n",
      "     Processing event: 1592101040047 (event 400000 / 469596  and caloNum 20  )\n",
      "Found 18957 unique ID(s) for Calo 20\n",
      "Begin Calorimeter 21\n",
      "     caloNum == 21 && energy>1700 && energy<6000 && time >30*1000/1.25\n",
      "     <ROOT.TH3F object (\"htemp\") at 0x7f98552c1480>\n",
      "     Found 412537 entries.\n",
      "     Processing event: 1593700270003 (event 0 / 412537  and caloNum 21  )\n",
      "     Processing event: 1598801800147 (event 100000 / 412537  and caloNum 21  )\n",
      "     Processing event: 1594903570002 (event 200000 / 412537  and caloNum 21  )\n",
      "     Processing event: 1598902490012 (event 300000 / 412537  and caloNum 21  )\n",
      "     Processing event: 1597703400005 (event 400000 / 412537  and caloNum 21  )\n",
      "Found 18954 unique ID(s) for Calo 21\n",
      "Begin Calorimeter 22\n",
      "     caloNum == 22 && energy>1700 && energy<6000 && time >30*1000/1.25\n",
      "     <ROOT.TH3F object (\"htemp\") at 0x7f98552c1480>\n",
      "     Found 403749 entries.\n",
      "     Processing event: 1593700270003 (event 0 / 403749  and caloNum 22  )\n",
      "     Processing event: 1592703010087 (event 100000 / 403749  and caloNum 22  )\n",
      "     Processing event: 1597702960089 (event 200000 / 403749  and caloNum 22  )\n",
      "     Processing event: 1597801730134 (event 300000 / 403749  and caloNum 22  )\n",
      "     Processing event: 1593500420036 (event 400000 / 403749  and caloNum 22  )\n",
      "Found 18954 unique ID(s) for Calo 22\n",
      "Begin Calorimeter 23\n",
      "     caloNum == 23 && energy>1700 && energy<6000 && time >30*1000/1.25\n",
      "     <ROOT.TH3F object (\"htemp\") at 0x7f98552c1480>\n",
      "     Found 457574 entries.\n",
      "     Processing event: 1593700270003 (event 0 / 457574  and caloNum 23  )\n",
      "     Processing event: 1593101000002 (event 100000 / 457574  and caloNum 23  )\n",
      "     Processing event: 1593400890135 (event 200000 / 457574  and caloNum 23  )\n",
      "     Processing event: 1596900540187 (event 300000 / 457574  and caloNum 23  )\n",
      "     Processing event: 1598503780004 (event 400000 / 457574  and caloNum 23  )\n",
      "Found 18954 unique ID(s) for Calo 23\n",
      "Begin Calorimeter 24\n",
      "     caloNum == 24 && energy>1700 && energy<6000 && time >30*1000/1.25\n",
      "     <ROOT.TH3F object (\"htemp\") at 0x7f98552c1480>\n",
      "     Found 444587 entries.\n",
      "     Processing event: 1593700270003 (event 0 / 444587  and caloNum 24  )\n",
      "     Processing event: 1594501540022 (event 100000 / 444587  and caloNum 24  )\n",
      "     Processing event: 1598403970035 (event 200000 / 444587  and caloNum 24  )\n",
      "     Processing event: 1596004740159 (event 300000 / 444587  and caloNum 24  )\n",
      "     Processing event: 1595901130120 (event 400000 / 444587  and caloNum 24  )\n",
      "Found 18954 unique ID(s) for Calo 24\n"
     ]
    }
   ],
   "source": [
    "import csv\n",
    "\n",
    "out = open('calo_data_output_cutEnergy.csv','w')\n",
    "#out = open('calo_data_output_energy.csv','w')\n",
    "csv_out = csv.writer(out)\n",
    "csv_out.writerow(['Calorimeter Number','Global Bin','Run Number','SubRun Number','Event Number','Counts'])\n",
    "out.close()\n",
    "\n",
    "\n",
    "for j in range(0,len(caloList)):\n",
    "    calonum = caloList[j]\n",
    "    print(\"Begin Calorimeter\", calonum)\n",
    "\n",
    "    #This string will determine the calorimeter number, energy, and time for the hit counting\n",
    "#    cutString = \"caloNum == \"+str(calonum) \n",
    "    cutString = \"caloNum == \"+str(calonum)+\" && energy>1700 && energy<6000 && time >30*1000/1.25\"\n",
    "    print(\"     \"+cutString)\n",
    "    c = r.TCanvas()\n",
    "\n",
    "    t.SetEstimate(-1) #Makes sure that the vectors get filled properly for large values https://root-forum.cern.ch/t/ttree-getv1-array-limits/3325\n",
    "    t.Draw(\"nHit:eventNum:subRunNum:runNum\",cutString,\"\") #original cut, which just counts the number of events\n",
    "#    t.Draw(\"energy:eventNum:subRunNum:runNum\",cutString,\"\") #counts energy, not number of counts\n",
    "    hUnique = r.gPad.GetPrimitive(\"htemp\").Clone(\"uniqueIDhist\") #get the histogram which was drawn for tree. Need to use this to determine the size of our vectors\n",
    "#    print(hUnique.GetEntries())\n",
    "\n",
    "    listc = c.GetListOfPrimitives()\n",
    "    ding = listc.First()\n",
    "    print(\"    \",ding) #making sure this is the histogram that we actually want\n",
    "\n",
    "    #fill the vectors from the tree\n",
    "    eventNumVec = t.GetV2()\n",
    "    subRunNumVec = t.GetV3()\n",
    "    runNumVec = t.GetV4()\n",
    "    nHitVec = t.GetV1()\n",
    "    \n",
    "    #now lets set some initial parameters\n",
    "    globalBinNumber = int( str(int(runNumVec[0])).zfill(5) + str(int(subRunNumVec[0])).zfill(4) +str(int(eventNumVec[0])).zfill(4) ) #zfill formatting so that each component has a consistent length\n",
    "    runningTotal = 0\n",
    "    pairList = []\n",
    "    maxBin = int( hUnique.GetEntries() ) #need this to loop over all entries in histogram/vectors\n",
    "    print(\"     Found\",maxBin,\"entries.\")\n",
    "    \n",
    "    #make the GetVX()'s actual lists/vectors instead of just buffers. This will come in handy if we need > 4 vectors\n",
    "    eventNumVec = list(eventNumVec[n] for n in range(maxBin+1))\n",
    "    subRunNumVec = list(subRunNumVec[n] for n in range(maxBin+1))\n",
    "    runNumVec = list(runNumVec[n] for n in range(maxBin+1))\n",
    "    nHitVec = list(nHitVec[n] for n in range(maxBin+1))\n",
    "#    print(len(eventNumVec),len(subRunNumVec),len(runNumVec),len(nHitVec),maxBin)\n",
    "\n",
    "    for i in range(0,maxBin):\n",
    "        globalBinNumberNew = int( str(int(runNumVec[i])).zfill(5) + str(int(subRunNumVec[i])).zfill(4) +str(int(eventNumVec[i])).zfill(4) )\n",
    "\n",
    "        if(i % 100000 == 0):\n",
    "            print(\"     Processing event:\", globalBinNumberNew, \"(event\", i,\"/\",maxBin,\" and caloNum\",calonum,\" )\")\n",
    "            \n",
    "        if(globalBinNumber == globalBinNumberNew):\n",
    "            runningTotal = runningTotal + 1 #nHitVec[i]\n",
    "        else: #if the bin number is changed, we need to record the total of the\n",
    "            pairList.append((calonum, globalBinNumber,int(runNumVec[i-1]),int(subRunNumVec[i-1]), int(eventNumVec[i-1]),runningTotal))\n",
    "            runningTotal = 1# nHitVec[i]\n",
    "\n",
    "        if(i == maxBin-1):\n",
    "            pairList.append((calonum, globalBinNumber,int(runNumVec[i-1]),int(subRunNumVec[i-1]), int(eventNumVec[i-1]),runningTotal))\n",
    "#            print(globalBinNumber)\n",
    "\n",
    "        globalBinNumber = globalBinNumberNew\n",
    "\n",
    "        \n",
    "    out = open('calo_data_output_cutEnergy.csv','a')\n",
    "    csv_out = csv.writer(out)\n",
    "    for item in pairList:\n",
    "        csv_out.writerow(item)\n",
    "    out.close()\n",
    "    \n",
    "    print(\"Found\", len(pairList),\"unique ID(s) for Calo\", calonum)"
   ]
  },
  {
   "cell_type": "markdown",
   "metadata": {},
   "source": [
    "Alright, now that we have that data stored in the file, we can crunch the numbers. We split this off into a different notebook for ease of viewing"
   ]
  },
  {
   "cell_type": "code",
   "execution_count": 16,
   "metadata": {},
   "outputs": [
    {
     "data": {
      "text/plain": [
       "\"c = r.TCanvas('c','c',1000,600)\\nr.gStyle.SetOptStat(0)\\n\\nleg = r.TLegend(0.12,0.12,0.5,0.5)\\ncalo_especs = []\\nwiggle  = f.Get('corrected')\\n\\nfor i in range(24):\\n    wiggle.GetZaxis().SetRange(i+1,i+1)\\n    wiggle.GetYaxis().SetRange(0,300)\\n    wiggle.GetXaxis().SetRange(300,1200)\\n    calo_especs.append(wiggle.Project3D('y_{}'.format(i+1)))\\n    calo_especs[i].Rebin(3)\\n    calo_especs[i].SetTitle('Calo Energy Spectrum')\\n    calo_especs[i].GetXaxis().SetRangeUser(1500,3000)\\n    calo_especs[i].SetMarkerSize(0.8)\\n    calo_especs[i].SetMarkerStyle(int(i/6)+20)\\n    calo_especs[i].Scale(1./calo_especs[i].GetEntries())\\n    calo_especs[i].GetYaxis().SetRangeUser(0.001,0.022)\\n    if i==0:\\n        calo_especs[i].Draw('EP')\\n    else:\\n        calo_especs[i].Draw('EP same')\\n  \\n    calo_especs[i].SetMarkerColor(i%6+1)\\n    calo_especs[i].SetLineColor(i%6+1)\\n    if (i%6+1) == 5:\\n        calo_especs[i].SetMarkerColor(7)\\n        calo_especs[i].SetLineColor(7)\\n\\n    leg.AddEntry(calo_especs[i], 'Calo{}'.format(i+1), 'lp')\\n\\nleg.SetNColumns(6)\\nleg.Draw()\\nc.SetLogy(1)\\nc.Draw()\""
      ]
     },
     "execution_count": 16,
     "metadata": {},
     "output_type": "execute_result"
    }
   ],
   "source": [
    "'''c = r.TCanvas('c','c',1000,600)\n",
    "r.gStyle.SetOptStat(0)\n",
    "\n",
    "leg = r.TLegend(0.12,0.12,0.5,0.5)\n",
    "calo_especs = []\n",
    "wiggle  = f.Get('corrected')\n",
    "\n",
    "for i in range(24):\n",
    "    wiggle.GetZaxis().SetRange(i+1,i+1)\n",
    "    wiggle.GetYaxis().SetRange(0,300)\n",
    "    wiggle.GetXaxis().SetRange(300,1200)\n",
    "    calo_especs.append(wiggle.Project3D('y_{}'.format(i+1)))\n",
    "    calo_especs[i].Rebin(3)\n",
    "    calo_especs[i].SetTitle('Calo Energy Spectrum')\n",
    "    calo_especs[i].GetXaxis().SetRangeUser(1500,3000)\n",
    "    calo_especs[i].SetMarkerSize(0.8)\n",
    "    calo_especs[i].SetMarkerStyle(int(i/6)+20)\n",
    "    calo_especs[i].Scale(1./calo_especs[i].GetEntries())\n",
    "    calo_especs[i].GetYaxis().SetRangeUser(0.001,0.022)\n",
    "    if i==0:\n",
    "        calo_especs[i].Draw('EP')\n",
    "    else:\n",
    "        calo_especs[i].Draw('EP same')\n",
    "  \n",
    "    calo_especs[i].SetMarkerColor(i%6+1)\n",
    "    calo_especs[i].SetLineColor(i%6+1)\n",
    "    if (i%6+1) == 5:\n",
    "        calo_especs[i].SetMarkerColor(7)\n",
    "        calo_especs[i].SetLineColor(7)\n",
    "\n",
    "    leg.AddEntry(calo_especs[i], 'Calo{}'.format(i+1), 'lp')\n",
    "\n",
    "leg.SetNColumns(6)\n",
    "leg.Draw()\n",
    "c.SetLogy(1)\n",
    "c.Draw()'''"
   ]
  },
  {
   "cell_type": "code",
   "execution_count": null,
   "metadata": {},
   "outputs": [],
   "source": []
  },
  {
   "cell_type": "code",
   "execution_count": 17,
   "metadata": {},
   "outputs": [
    {
     "name": "stdout",
     "output_type": "stream",
     "text": [
      "     <ROOT.TH3F object (\"htemp\") at 0x7ffff9be9170>\n"
     ]
    }
   ],
   "source": [
    "t.SetEstimate(-1) #Makes sure that the vectors get filled properly for large values https://root-forum.cern.ch/t/ttree-getv1-array-limits/3325\n",
    "t.Draw(\"nHit:eventNum:subRunNum:runNum\",cutString,\"\") #original cut, which just counts the number of events\n",
    "#    t.Draw(\"energy:eventNum:subRunNum:runNum\",cutString,\"\") #counts energy, not number of counts\n",
    "hUnique = r.gPad.GetPrimitive(\"htemp\").Clone(\"uniqueIDhist\") #get the histogram which was drawn for tree. Need to use this to determine the size of our vectors\n",
    "#    print(hUnique.GetEntries())\n",
    "\n",
    "listc = c.GetListOfPrimitives()\n",
    "ding = listc.First()\n",
    "print(\"    \",ding) #making sure this is the histogram that we actually want\n",
    "\n",
    "#fill the vectors from the tree\n",
    "eventNumVec = t.GetV2()\n",
    "eventNumVec = list(eventNumVec[n] for n in range(maxBin))\n",
    "subRunNumVec = t.GetV3()\n",
    "runNumVec = t.GetV4()\n",
    "nHitVec = t.GetV1()\n",
    "\n",
    "t.Draw(\"energy:time\",cutString,\"\") \n",
    "timeVec = t.GetV2()\n",
    "energyVec = t.GetV1()"
   ]
  },
  {
   "cell_type": "code",
   "execution_count": 18,
   "metadata": {},
   "outputs": [
    {
     "name": "stdout",
     "output_type": "stream",
     "text": [
      "3.0 27.0 15937.0 2258.1173667503194\n",
      "30666.120045657364 2258.1173667503194\n"
     ]
    },
    {
     "ename": "NameError",
     "evalue": "name 'eventNumVecReal' is not defined",
     "output_type": "error",
     "traceback": [
      "\u001b[0;31m---------------------------------------------------------------------------\u001b[0m",
      "\u001b[0;31mNameError\u001b[0m                                 Traceback (most recent call last)",
      "\u001b[0;32m<ipython-input-18-25ed5cb014b0>\u001b[0m in \u001b[0;36m<module>\u001b[0;34m()\u001b[0m\n\u001b[1;32m      1\u001b[0m \u001b[0mprint\u001b[0m\u001b[0;34m(\u001b[0m\u001b[0meventNumVec\u001b[0m\u001b[0;34m[\u001b[0m\u001b[0;36m1\u001b[0m\u001b[0;34m]\u001b[0m\u001b[0;34m,\u001b[0m\u001b[0msubRunNumVec\u001b[0m\u001b[0;34m[\u001b[0m\u001b[0;36m1\u001b[0m\u001b[0;34m]\u001b[0m\u001b[0;34m,\u001b[0m\u001b[0mrunNumVec\u001b[0m\u001b[0;34m[\u001b[0m\u001b[0;36m1\u001b[0m\u001b[0;34m]\u001b[0m\u001b[0;34m,\u001b[0m\u001b[0mnHitVec\u001b[0m\u001b[0;34m[\u001b[0m\u001b[0;36m1\u001b[0m\u001b[0;34m]\u001b[0m\u001b[0;34m)\u001b[0m\u001b[0;34m\u001b[0m\u001b[0m\n\u001b[1;32m      2\u001b[0m \u001b[0mprint\u001b[0m\u001b[0;34m(\u001b[0m\u001b[0mtimeVec\u001b[0m\u001b[0;34m[\u001b[0m\u001b[0;36m1\u001b[0m\u001b[0;34m]\u001b[0m\u001b[0;34m,\u001b[0m\u001b[0menergyVec\u001b[0m\u001b[0;34m[\u001b[0m\u001b[0;36m1\u001b[0m\u001b[0;34m]\u001b[0m\u001b[0;34m)\u001b[0m\u001b[0;34m\u001b[0m\u001b[0m\n\u001b[0;32m----> 3\u001b[0;31m \u001b[0mprint\u001b[0m\u001b[0;34m(\u001b[0m\u001b[0meventNumVecReal\u001b[0m\u001b[0;34m[\u001b[0m\u001b[0;36m1\u001b[0m\u001b[0;34m]\u001b[0m\u001b[0;34m)\u001b[0m\u001b[0;34m\u001b[0m\u001b[0m\n\u001b[0m",
      "\u001b[0;31mNameError\u001b[0m: name 'eventNumVecReal' is not defined"
     ]
    }
   ],
   "source": [
    "print(eventNumVec[1],subRunNumVec[1],runNumVec[1],nHitVec[1])\n",
    "print(timeVec[1],energyVec[1])\n",
    "print(eventNumVecReal[1])"
   ]
  },
  {
   "cell_type": "code",
   "execution_count": null,
   "metadata": {},
   "outputs": [],
   "source": [
    "print(type(eventNumVecReal),type(subRunNumVec))"
   ]
  },
  {
   "cell_type": "code",
   "execution_count": null,
   "metadata": {},
   "outputs": [],
   "source": [
    "print(type(eventNumVec),type(subRunNumVec))"
   ]
  },
  {
   "cell_type": "code",
   "execution_count": null,
   "metadata": {},
   "outputs": [],
   "source": [
    "for i in range(300):\n",
    "    print(eventNumVec[i])"
   ]
  },
  {
   "cell_type": "code",
   "execution_count": null,
   "metadata": {},
   "outputs": [],
   "source": []
  },
  {
   "cell_type": "code",
   "execution_count": null,
   "metadata": {},
   "outputs": [],
   "source": []
  }
 ],
 "metadata": {
  "kernelspec": {
   "display_name": "Python 3",
   "language": "python",
   "name": "python3"
  },
  "language_info": {
   "codemirror_mode": {
    "name": "ipython",
    "version": 3
   },
   "file_extension": ".py",
   "mimetype": "text/x-python",
   "name": "python",
   "nbconvert_exporter": "python",
   "pygments_lexer": "ipython3",
   "version": "3.6.5"
  }
 },
 "nbformat": 4,
 "nbformat_minor": 2
}
