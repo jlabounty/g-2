{
 "cells": [
  {
   "cell_type": "code",
   "execution_count": null,
   "metadata": {},
   "outputs": [],
   "source": []
  },
  {
   "cell_type": "code",
   "execution_count": 1,
   "metadata": {},
   "outputs": [
    {
     "name": "stdout",
     "output_type": "stream",
     "text": [
      "Welcome to JupyROOT 6.12/06\n"
     ]
    }
   ],
   "source": [
    "import ROOT as r\n",
    "import math\n",
    "from BlindersPy3 import Blinders\n",
    "from BlindersPy3 import FitType\n",
    "r.gStyle.SetOptStat(0)\n",
    "r.gStyle.SetOptFit(1111)\n",
    "import matplotlib.pyplot as plt"
   ]
  },
  {
   "cell_type": "code",
   "execution_count": 2,
   "metadata": {},
   "outputs": [
    {
     "name": "stdout",
     "output_type": "stream",
     "text": [
      "TFile**\t\t./data/gm2offline_ana_merged.root\tchain files\n",
      " TFile*\t\t./data/gm2offline_ana_merged.root\tchain files\n",
      "  KEY: TTree\tclusters;1\tclusters\n"
     ]
    }
   ],
   "source": [
    "f = r.TFile(\"./data/gm2offline_ana_merged.root\")\n",
    "#f = r.TFile(\"./data/gm2offline_ana_run16355.root\")\n",
    "#f = r.TFile(\"./gm2offline_ana_7893458_15937.00027.root\")\n",
    "#f.cd(\"clusterTree\")\n",
    "f.ls()"
   ]
  },
  {
   "cell_type": "code",
   "execution_count": 3,
   "metadata": {},
   "outputs": [],
   "source": [
    "#t = f.Get(\"clusterTree\").Get(\"clusters\")\n",
    "t = f.Get(\"clusters\")"
   ]
  },
  {
   "cell_type": "code",
   "execution_count": 4,
   "metadata": {},
   "outputs": [
    {
     "name": "stdout",
     "output_type": "stream",
     "text": [
      "******************************************************************************\n",
      "*Tree    :clusters  : clusters                                               *\n",
      "*Entries : 101741458 : Total =      6918577711 bytes  File  Size = 2847103962 *\n",
      "*        :          : Tree compression factor =   2.43                       *\n",
      "******************************************************************************\n",
      "*Br    0 :energy    : energy/D                                               *\n",
      "*Entries :101741458 : Total  Size=  813950120 bytes  File Size  =  774777480 *\n",
      "*Baskets :      187 : Basket Size=    5676215 bytes  Compression=   1.05     *\n",
      "*............................................................................*\n",
      "*Br    1 :time      : time/D                                                 *\n",
      "*Entries :101741458 : Total  Size=  813949738 bytes  File Size  =  776764309 *\n",
      "*Baskets :      187 : Basket Size=    5676215 bytes  Compression=   1.05     *\n",
      "*............................................................................*\n",
      "*Br    2 :x         : x/D                                                    *\n",
      "*Entries :101741458 : Total  Size=  813949165 bytes  File Size  =  516509064 *\n",
      "*Baskets :      187 : Basket Size=    5676215 bytes  Compression=   1.58     *\n",
      "*............................................................................*\n",
      "*Br    3 :y         : y/D                                                    *\n",
      "*Entries :101741458 : Total  Size=  813949165 bytes  File Size  =  451647041 *\n",
      "*Baskets :      187 : Basket Size=    5676215 bytes  Compression=   1.80     *\n",
      "*............................................................................*\n",
      "*Br    4 :nHit      : nHit/i                                                 *\n",
      "*Entries :101741458 : Total  Size=  406975063 bytes  File Size  =   61943218 *\n",
      "*Baskets :       94 : Basket Size=    5676215 bytes  Compression=   6.57     *\n",
      "*............................................................................*\n",
      "*Br    5 :caloNum   : caloNum/i                                              *\n",
      "*Entries :101741458 : Total  Size=  406975357 bytes  File Size  =    4372916 *\n",
      "*Baskets :       94 : Basket Size=    5676215 bytes  Compression=  93.07     *\n",
      "*............................................................................*\n",
      "*Br    6 :xtalNum   : xtalNum/i                                              *\n",
      "*Entries :101741458 : Total  Size=  406975357 bytes  File Size  =  124417267 *\n",
      "*Baskets :       94 : Basket Size=    5676215 bytes  Compression=   3.27     *\n",
      "*............................................................................*\n",
      "*Br    7 :islandNum : islandNum/i                                            *\n",
      "*Entries :101741458 : Total  Size=  406975553 bytes  File Size  =  126433179 *\n",
      "*Baskets :       94 : Basket Size=    5676215 bytes  Compression=   3.22     *\n",
      "*............................................................................*\n",
      "*Br    8 :eventNum  : eventNum/i                                             *\n",
      "*Entries :101741458 : Total  Size=  406975455 bytes  File Size  =    2088109 *\n",
      "*Baskets :       94 : Basket Size=    5676215 bytes  Compression= 194.90     *\n",
      "*............................................................................*\n",
      "*Br    9 :bunchNum  : bunchNum/i                                             *\n",
      "*Entries :101741458 : Total  Size=  406975455 bytes  File Size  =    2074256 *\n",
      "*Baskets :       94 : Basket Size=    5676215 bytes  Compression= 196.20     *\n",
      "*............................................................................*\n",
      "*Br   10 :midasSerialNum : midasSerialNum/i                                  *\n",
      "*Entries :101741458 : Total  Size=  406976043 bytes  File Size  =    2090784 *\n",
      "*Baskets :       94 : Basket Size=    5676215 bytes  Compression= 194.65     *\n",
      "*............................................................................*\n",
      "*Br   11 :subRunNum : subRunNum/i                                            *\n",
      "*Entries :101741458 : Total  Size=  406975553 bytes  File Size  =    1985537 *\n",
      "*Baskets :       94 : Basket Size=    5676215 bytes  Compression= 204.97     *\n",
      "*............................................................................*\n",
      "*Br   12 :runNum    : runNum/i                                               *\n",
      "*Entries :101741458 : Total  Size=  406975259 bytes  File Size  =    1985331 *\n",
      "*Baskets :       94 : Basket Size=    5676215 bytes  Compression= 204.99     *\n",
      "*............................................................................*\n"
     ]
    }
   ],
   "source": [
    "t.Print()"
   ]
  },
  {
   "cell_type": "code",
   "execution_count": 5,
   "metadata": {},
   "outputs": [],
   "source": [
    "c = r.TCanvas()"
   ]
  },
  {
   "cell_type": "code",
   "execution_count": 6,
   "metadata": {},
   "outputs": [
    {
     "name": "stdout",
     "output_type": "stream",
     "text": [
      "Starting Calo 1\n",
      "    Histogram generated\n",
      "Starting Calo 2\n",
      "    Histogram generated\n",
      "Starting Calo 3\n",
      "    Histogram generated\n",
      "Starting Calo 4\n",
      "    Histogram generated\n",
      "Starting Calo 5\n",
      "    Histogram generated\n",
      "Starting Calo 6\n",
      "    Histogram generated\n",
      "Starting Calo 7\n",
      "    Histogram generated\n",
      "Starting Calo 8\n",
      "    Histogram generated\n",
      "Starting Calo 9\n",
      "    Histogram generated\n",
      "Starting Calo 10\n",
      "    Histogram generated\n",
      "Starting Calo 11\n",
      "    Histogram generated\n",
      "Starting Calo 12\n",
      "    Histogram generated\n",
      "Starting Calo 13\n",
      "    Histogram generated\n",
      "Starting Calo 14\n",
      "    Histogram generated\n",
      "Starting Calo 15\n",
      "    Histogram generated\n",
      "Starting Calo 16\n",
      "    Histogram generated\n",
      "Starting Calo 17\n",
      "    Histogram generated\n",
      "Starting Calo 18\n",
      "    Histogram generated\n",
      "Starting Calo 19\n",
      "    Histogram generated\n",
      "Starting Calo 20\n",
      "    Histogram generated\n",
      "Starting Calo 21\n",
      "    Histogram generated\n",
      "Starting Calo 22\n",
      "    Histogram generated\n",
      "Starting Calo 23\n",
      "    Histogram generated\n",
      "Starting Calo 24\n",
      "    Histogram generated\n"
     ]
    },
    {
     "name": "stderr",
     "output_type": "stream",
     "text": [
      "Warning in <TFile::Append>: Replacing existing TH1: hi (Potential memory leak).\n",
      "Warning in <TFile::Append>: Replacing existing TH1: hi (Potential memory leak).\n",
      "Warning in <TFile::Append>: Replacing existing TH1: hi (Potential memory leak).\n",
      "Warning in <TFile::Append>: Replacing existing TH1: hi (Potential memory leak).\n",
      "Warning in <TFile::Append>: Replacing existing TH1: hi (Potential memory leak).\n",
      "Warning in <TFile::Append>: Replacing existing TH1: hi (Potential memory leak).\n",
      "Warning in <TFile::Append>: Replacing existing TH1: hi (Potential memory leak).\n",
      "Warning in <TFile::Append>: Replacing existing TH1: hi (Potential memory leak).\n",
      "Warning in <TFile::Append>: Replacing existing TH1: hi (Potential memory leak).\n",
      "Warning in <TFile::Append>: Replacing existing TH1: hi (Potential memory leak).\n",
      "Warning in <TFile::Append>: Replacing existing TH1: hi (Potential memory leak).\n",
      "Warning in <TFile::Append>: Replacing existing TH1: hi (Potential memory leak).\n",
      "Warning in <TFile::Append>: Replacing existing TH1: hi (Potential memory leak).\n",
      "Warning in <TFile::Append>: Replacing existing TH1: hi (Potential memory leak).\n",
      "Warning in <TFile::Append>: Replacing existing TH1: hi (Potential memory leak).\n",
      "Warning in <TFile::Append>: Replacing existing TH1: hi (Potential memory leak).\n",
      "Warning in <TFile::Append>: Replacing existing TH1: hi (Potential memory leak).\n",
      "Warning in <TFile::Append>: Replacing existing TH1: hi (Potential memory leak).\n",
      "Warning in <TFile::Append>: Replacing existing TH1: hi (Potential memory leak).\n",
      "Warning in <TFile::Append>: Replacing existing TH1: hi (Potential memory leak).\n",
      "Warning in <TFile::Append>: Replacing existing TH1: hi (Potential memory leak).\n",
      "Warning in <TFile::Append>: Replacing existing TH1: hi (Potential memory leak).\n",
      "Warning in <TFile::Append>: Replacing existing TH1: hi (Potential memory leak).\n"
     ]
    },
    {
     "data": {
      "image/png": "[encoded data removed]",
      "text/plain": [
       "<IPython.core.display.Image object>"
      ]
     },
     "metadata": {},
     "output_type": "display_data"
    }
   ],
   "source": [
    "projectionVec = []\n",
    "\n",
    "for i in range(24):\n",
    "    print(\"Starting Calo\", i+1)\n",
    "    calostring = \"h\"+str(i+1)\n",
    "    \n",
    "    hi = r.TH3D(\"hi\",\"hi\",4340,1660,6000,120,0,6,180,0,9)\n",
    "    t.Draw(\"x:y:energy>>hi\", \"time*1.25 > 30000 && time*1.25 < 650000 && caloNum==\"+str(i+1), \"goff\")\n",
    "#    t.Draw(\"x:y:energy>>hi\", \"energy>2000 && energy<6000 && time*1.25 > 30000 && time*1.25 < 650000 && caloNum==\"+str(i+1), \"goff\")\n",
    "    hi = r.gDirectory.Get(\"hi\")\n",
    "    hi.SetTitle(calostring)\n",
    "    print(\"    Histogram generated\")\n",
    "    \n",
    "    hi.GetXaxis().SetRangeUser(0,3000)\n",
    "#    hi.Project3DProfile(\"yz\").Draw(\"colz\")\n",
    "    \n",
    "    projectionVec.append(hi.Clone(calostring))\n",
    "    \n",
    "    c.Draw()"
   ]
  },
  {
   "cell_type": "code",
   "execution_count": 9,
   "metadata": {},
   "outputs": [
    {
     "name": "stdout",
     "output_type": "stream",
     "text": [
      "[<ROOT.TH3D object (\"h1\") at 0x7fffe1405400>, <ROOT.TH3D object (\"h2\") at 0x7fffe0803da0>, <ROOT.TH3D object (\"h3\") at 0x7fffe1418b60>, <ROOT.TH3D object (\"h4\") at 0x7fffe1422e40>, <ROOT.TH3D object (\"h5\") at 0x7fffe1410350>, <ROOT.TH3D object (\"h6\") at 0x7fffe1414f30>, <ROOT.TH3D object (\"h7\") at 0x7fffe142ac90>, <ROOT.TH3D object (\"h8\") at 0x7fffe1404390>, <ROOT.TH3D object (\"h9\") at 0x7fffe0199cc0>, <ROOT.TH3D object (\"h10\") at 0x7fffe141fe20>, <ROOT.TH3D object (\"h11\") at 0x7fffe141f9f0>, <ROOT.TH3D object (\"h12\") at 0x7fffe1404ef0>, <ROOT.TH3D object (\"h13\") at 0x7fffe1404ac0>, <ROOT.TH3D object (\"h14\") at 0x7fffe140e4f0>, <ROOT.TH3D object (\"h15\") at 0x7fffe1422540>, <ROOT.TH3D object (\"h16\") at 0x7fffe1418010>, <ROOT.TH3D object (\"h17\") at 0x7fffe1418440>, <ROOT.TH3D object (\"h18\") at 0x7fffe085bb00>, <ROOT.TH3D object (\"h19\") at 0x7fffe1415ad0>, <ROOT.TH3D object (\"h20\") at 0x7fffe13f3fb0>, <ROOT.TH3D object (\"h21\") at 0x7fffe1415420>, <ROOT.TH3D object (\"h22\") at 0x7fffe13fb770>, <ROOT.TH3D object (\"h23\") at 0x7fffe13fb340>, <ROOT.TH3D object (\"h24\") at 0x7fffe1403550>]\n"
     ]
    },
    {
     "name": "stderr",
     "output_type": "stream",
     "text": [
      "Warning in <TCanvas::Constructor>: Deleting canvas with same name: c\n",
      "Info in <TCanvas::Print>: png file ./energyInCalos/001_count_noEnergyCut.png has been created\n",
      "Info in <TCanvas::Print>: png file ./energyInCalos/002_count_noEnergyCut.png has been created\n",
      "Info in <TCanvas::Print>: png file ./energyInCalos/003_count_noEnergyCut.png has been created\n",
      "Info in <TCanvas::Print>: png file ./energyInCalos/004_count_noEnergyCut.png has been created\n",
      "Info in <TCanvas::Print>: png file ./energyInCalos/005_count_noEnergyCut.png has been created\n",
      "Info in <TCanvas::Print>: png file ./energyInCalos/006_count_noEnergyCut.png has been created\n",
      "Info in <TCanvas::Print>: png file ./energyInCalos/007_count_noEnergyCut.png has been created\n",
      "Info in <TCanvas::Print>: png file ./energyInCalos/008_count_noEnergyCut.png has been created\n",
      "Info in <TCanvas::Print>: png file ./energyInCalos/009_count_noEnergyCut.png has been created\n",
      "Info in <TCanvas::Print>: png file ./energyInCalos/010_count_noEnergyCut.png has been created\n",
      "Info in <TCanvas::Print>: png file ./energyInCalos/011_count_noEnergyCut.png has been created\n",
      "Info in <TCanvas::Print>: png file ./energyInCalos/012_count_noEnergyCut.png has been created\n",
      "Info in <TCanvas::Print>: png file ./energyInCalos/013_count_noEnergyCut.png has been created\n",
      "Info in <TCanvas::Print>: png file ./energyInCalos/014_count_noEnergyCut.png has been created\n",
      "Info in <TCanvas::Print>: png file ./energyInCalos/015_count_noEnergyCut.png has been created\n",
      "Info in <TCanvas::Print>: png file ./energyInCalos/016_count_noEnergyCut.png has been created\n",
      "Info in <TCanvas::Print>: png file ./energyInCalos/017_count_noEnergyCut.png has been created\n",
      "Info in <TCanvas::Print>: png file ./energyInCalos/018_count_noEnergyCut.png has been created\n",
      "Info in <TCanvas::Print>: png file ./energyInCalos/019_count_noEnergyCut.png has been created\n",
      "Info in <TCanvas::Print>: png file ./energyInCalos/020_count_noEnergyCut.png has been created\n",
      "Info in <TCanvas::Print>: png file ./energyInCalos/021_count_noEnergyCut.png has been created\n",
      "Info in <TCanvas::Print>: png file ./energyInCalos/022_count_noEnergyCut.png has been created\n",
      "Info in <TCanvas::Print>: png file ./energyInCalos/023_count_noEnergyCut.png has been created\n",
      "Info in <TCanvas::Print>: png file ./energyInCalos/024_count_noEnergyCut.png has been created\n"
     ]
    },
    {
     "data": {
      "image/png": "[encoded data removed]",
      "text/plain": [
       "<IPython.core.display.Image object>"
      ]
     },
     "metadata": {},
     "output_type": "display_data"
    }
   ],
   "source": [
    "print(projectionVec)\n",
    "meanVecX = []\n",
    "c = r.TCanvas(\"c\",\"c\",1000,600)\n",
    "\n",
    "for i in range(len(projectionVec)):\n",
    "#    ding = projectionVec[i].Project3DProfile(\"yz\")\n",
    "    ding = projectionVec[i].Project3D(\"yz\")\n",
    "#    ding.Rebin2D(2)\n",
    "    ding.GetZaxis().SetRangeUser(0,500)\n",
    "    ding.SetTitle(\"Calorimeter \"+str(i+1)+\" Count Distribution (No E Cut)\")\n",
    "    ding.GetXaxis().SetTitle(\"x position\")\n",
    "    ding.GetYaxis().SetTitle(\"y position\")\n",
    "    ding.GetZaxis().SetTitle(\"Counts\")\n",
    "    ding.GetZaxis().SetNdivisions(555)\n",
    "    c.SetLogz()\n",
    "    c.SetRightMargin(0.18)\n",
    "    ding.Draw(\"COLZ\")\n",
    "    c.Draw()\n",
    "    c.Print(\"./energyInCalos/\"+str(int(i+1)).zfill(3)+\"_count_noEnergyCut.png\" )\n",
    "    meanVecX.append((i+1,ding.GetMean(), ding.GetRMS()))"
   ]
  },
  {
   "cell_type": "code",
   "execution_count": null,
   "metadata": {},
   "outputs": [],
   "source": []
  },
  {
   "cell_type": "code",
   "execution_count": null,
   "metadata": {},
   "outputs": [],
   "source": [
    "fout = r.TFile(\"./data/Calo2Projections_New_NoEnergyCut.root\",\"RECREATE\")\n",
    "fout.cd()\n",
    "fout.ls()\n",
    "for i, hist in enumerate(projectionVec):\n",
    "    print(hist)\n",
    "    histstring = \"h\"+str(i+1)\n",
    "    print(histstring)\n",
    "    hist.Write(histstring)\n",
    "fout.Write()\n",
    "fout.Close()"
   ]
  }
 ],
 "metadata": {
  "kernelspec": {
   "display_name": "Python 3",
   "language": "python",
   "name": "python3"
  },
  "language_info": {
   "codemirror_mode": {
    "name": "ipython",
    "version": 3
   },
   "file_extension": ".py",
   "mimetype": "text/x-python",
   "name": "python",
   "nbconvert_exporter": "python",
   "pygments_lexer": "ipython3",
   "version": "3.6.5"
  }
 },
 "nbformat": 4,
 "nbformat_minor": 2
}
