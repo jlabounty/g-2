{
 "cells": [
  {
   "cell_type": "code",
   "execution_count": 1,
   "metadata": {},
   "outputs": [
    {
     "name": "stdout",
     "output_type": "stream",
     "text": [
      "Welcome to JupyROOT 6.12/06\n"
     ]
    }
   ],
   "source": [
    "import ROOT as r\n",
    "import math\n",
    "from BlindersPy3 import Blinders\n",
    "from BlindersPy3 import FitType\n",
    "r.gStyle.SetOptStat(0)\n",
    "#r.gROOT.Macro( '/home/jlab/rootlogon.C' ) "
   ]
  },
  {
   "cell_type": "code",
   "execution_count": 2,
   "metadata": {},
   "outputs": [
    {
     "name": "stdout",
     "output_type": "stream",
     "text": [
      "TFile**\t\t./gm2offline_ana_7893458_15937.00027.root\t\n",
      " TFile*\t\t./gm2offline_ana_7893458_15937.00027.root\t\n",
      "  TDirectoryFile*\t\tclusterTree\tclusterTree (ClusterTree) folder\n",
      "   KEY: TTree\tclusters;94\tclusters\n",
      "   KEY: TTree\tclusters;93\tclusters\n",
      "  KEY: TDirectoryFile\tCoincidenceFinderLM;1\tCoincidenceFinderLM (CoincidenceFinderLM) folder\n",
      "  KEY: TDirectoryFile\tclusterTree;1\tclusterTree (ClusterTree) folder\n"
     ]
    }
   ],
   "source": [
    "f = r.TFile(\"./gm2offline_ana_7893458_15937.00027.root\")\n",
    "f.cd(\"clusterTree\")\n",
    "f.ls()"
   ]
  },
  {
   "cell_type": "code",
   "execution_count": 3,
   "metadata": {},
   "outputs": [],
   "source": [
    "t = f.Get(\"clusterTree\").Get(\"clusters\")"
   ]
  },
  {
   "cell_type": "code",
   "execution_count": 4,
   "metadata": {},
   "outputs": [
    {
     "name": "stdout",
     "output_type": "stream",
     "text": [
      "******************************************************************************\n",
      "*Tree    :clusters  : clusters                                               *\n",
      "*Entries : 99870478 : Total =      6791534622 bytes  File  Size = 2795647272 *\n",
      "*        :          : Tree compression factor =   2.43                       *\n",
      "******************************************************************************\n",
      "*Br    0 :energy    : energy/D                                               *\n",
      "*Entries : 99870478 : Total  Size=  798999061 bytes  File Size  =  760531572 *\n",
      "*Baskets :      360 : Basket Size=   25600000 bytes  Compression=   1.05     *\n",
      "*............................................................................*\n",
      "*Br    1 :time      : time/D                                                 *\n",
      "*Entries : 99870478 : Total  Size=  798998333 bytes  File Size  =  762480670 *\n",
      "*Baskets :      360 : Basket Size=   25600000 bytes  Compression=   1.05     *\n",
      "*............................................................................*\n",
      "*Br    2 :x         : x/D                                                    *\n",
      "*Entries : 99870478 : Total  Size=  798997241 bytes  File Size  =  507389649 *\n",
      "*Baskets :      360 : Basket Size=   25600000 bytes  Compression=   1.57     *\n",
      "*............................................................................*\n",
      "*Br    3 :y         : y/D                                                    *\n",
      "*Entries : 99870478 : Total  Size=  798997241 bytes  File Size  =  443847200 *\n",
      "*Baskets :      360 : Basket Size=   25600000 bytes  Compression=   1.80     *\n",
      "*............................................................................*\n",
      "*Br    4 :nHit      : nHit/i                                                 *\n",
      "*Entries : 99870478 : Total  Size=  399503778 bytes  File Size  =   60862120 *\n",
      "*Baskets :      227 : Basket Size=   25600000 bytes  Compression=   6.56     *\n",
      "*............................................................................*\n",
      "*Br    5 :caloNum   : caloNum/i                                              *\n",
      "*Entries : 99870478 : Total  Size=  399504471 bytes  File Size  =    4304191 *\n",
      "*Baskets :      227 : Basket Size=   25600000 bytes  Compression=  92.82     *\n",
      "*............................................................................*\n",
      "*Br    6 :xtalNum   : xtalNum/i                                              *\n",
      "*Entries : 99870478 : Total  Size=  399504471 bytes  File Size  =  122141715 *\n",
      "*Baskets :      227 : Basket Size=   25600000 bytes  Compression=   3.27     *\n",
      "*............................................................................*\n",
      "*Br    7 :islandNum : islandNum/i                                            *\n",
      "*Entries : 99870478 : Total  Size=  399504933 bytes  File Size  =  123944725 *\n",
      "*Baskets :      227 : Basket Size=   25600000 bytes  Compression=   3.22     *\n",
      "*............................................................................*\n",
      "*Br    8 :eventNum  : eventNum/i                                             *\n",
      "*Entries : 99870478 : Total  Size=  399504702 bytes  File Size  =    2065574 *\n",
      "*Baskets :      227 : Basket Size=   25600000 bytes  Compression= 193.41     *\n",
      "*............................................................................*\n",
      "*Br    9 :bunchNum  : bunchNum/i                                             *\n",
      "*Entries : 99870478 : Total  Size=  399504702 bytes  File Size  =    2052083 *\n",
      "*Baskets :      227 : Basket Size=   25600000 bytes  Compression= 194.68     *\n",
      "*............................................................................*\n",
      "*Br   10 :midasSerialNum : midasSerialNum/i                                  *\n",
      "*Entries : 99870478 : Total  Size=  399506088 bytes  File Size  =    2069295 *\n",
      "*Baskets :      227 : Basket Size=   25600000 bytes  Compression= 193.06     *\n",
      "*............................................................................*\n",
      "*Br   11 :subRunNum : subRunNum/i                                            *\n",
      "*Entries : 99870478 : Total  Size=  399504933 bytes  File Size  =    1964847 *\n",
      "*Baskets :      227 : Basket Size=   25600000 bytes  Compression= 203.32     *\n",
      "*............................................................................*\n",
      "*Br   12 :runNum    : runNum/i                                               *\n",
      "*Entries : 99870478 : Total  Size=  399504240 bytes  File Size  =    1964356 *\n",
      "*Baskets :      227 : Basket Size=   25600000 bytes  Compression= 203.37     *\n",
      "*............................................................................*\n"
     ]
    }
   ],
   "source": [
    "t.Print()"
   ]
  },
  {
   "cell_type": "code",
   "execution_count": 5,
   "metadata": {},
   "outputs": [
    {
     "name": "stdout",
     "output_type": "stream",
     "text": [
      "['caloNum == 7 && energy > 0 && energy < 100 && time>10000 && time <500000', 'caloNum == 7 && energy > 100 && energy < 200 && time>10000 && time <500000', 'caloNum == 7 && energy > 200 && energy < 300 && time>10000 && time <500000', 'caloNum == 7 && energy > 300 && energy < 400 && time>10000 && time <500000', 'caloNum == 7 && energy > 400 && energy < 500 && time>10000 && time <500000', 'caloNum == 7 && energy > 500 && energy < 600 && time>10000 && time <500000', 'caloNum == 7 && energy > 600 && energy < 700 && time>10000 && time <500000', 'caloNum == 7 && energy > 700 && energy < 800 && time>10000 && time <500000', 'caloNum == 7 && energy > 800 && energy < 900 && time>10000 && time <500000', 'caloNum == 7 && energy > 900 && energy < 1000 && time>10000 && time <500000', 'caloNum == 7 && energy > 1000 && energy < 1100 && time>10000 && time <500000', 'caloNum == 7 && energy > 1100 && energy < 1200 && time>10000 && time <500000', 'caloNum == 7 && energy > 1200 && energy < 1300 && time>10000 && time <500000', 'caloNum == 7 && energy > 1300 && energy < 1400 && time>10000 && time <500000', 'caloNum == 7 && energy > 1400 && energy < 1500 && time>10000 && time <500000', 'caloNum == 7 && energy > 1500 && energy < 1600 && time>10000 && time <500000', 'caloNum == 7 && energy > 1600 && energy < 1700 && time>10000 && time <500000', 'caloNum == 7 && energy > 1700 && energy < 1800 && time>10000 && time <500000', 'caloNum == 7 && energy > 1800 && energy < 1900 && time>10000 && time <500000', 'caloNum == 7 && energy > 1900 && energy < 2000 && time>10000 && time <500000', 'caloNum == 7 && energy > 2000 && energy < 2100 && time>10000 && time <500000', 'caloNum == 7 && energy > 2100 && energy < 2200 && time>10000 && time <500000', 'caloNum == 7 && energy > 2200 && energy < 2300 && time>10000 && time <500000', 'caloNum == 7 && energy > 2300 && energy < 2400 && time>10000 && time <500000', 'caloNum == 7 && energy > 2400 && energy < 2500 && time>10000 && time <500000', 'caloNum == 7 && energy > 2500 && energy < 2600 && time>10000 && time <500000', 'caloNum == 7 && energy > 2600 && energy < 2700 && time>10000 && time <500000', 'caloNum == 7 && energy > 2700 && energy < 2800 && time>10000 && time <500000', 'caloNum == 7 && energy > 2800 && energy < 2900 && time>10000 && time <500000', 'caloNum == 7 && energy > 2900 && energy < 3000 && time>10000 && time <500000']\n",
      "['0 MeV - 100 MeV', '100 MeV - 200 MeV', '200 MeV - 300 MeV', '300 MeV - 400 MeV', '400 MeV - 500 MeV', '500 MeV - 600 MeV', '600 MeV - 700 MeV', '700 MeV - 800 MeV', '800 MeV - 900 MeV', '900 MeV - 1000 MeV', '1000 MeV - 1100 MeV', '1100 MeV - 1200 MeV', '1200 MeV - 1300 MeV', '1300 MeV - 1400 MeV', '1400 MeV - 1500 MeV', '1500 MeV - 1600 MeV', '1600 MeV - 1700 MeV', '1700 MeV - 1800 MeV', '1800 MeV - 1900 MeV', '1900 MeV - 2000 MeV', '2000 MeV - 2100 MeV', '2100 MeV - 2200 MeV', '2200 MeV - 2300 MeV', '2300 MeV - 2400 MeV', '2400 MeV - 2500 MeV', '2500 MeV - 2600 MeV', '2600 MeV - 2700 MeV', '2700 MeV - 2800 MeV', '2800 MeV - 2900 MeV', '2900 MeV - 3000 MeV']\n"
     ]
    }
   ],
   "source": [
    "x = 0\n",
    "e1 = 0\n",
    "energyrange = 100\n",
    "e2 = e1+energyrange\n",
    "num = 30\n",
    "list2 = []\n",
    "listenergy = []\n",
    "while x < num:\n",
    "    string = \"caloNum == 7 && energy > \"+str(e1)+\" && energy < \"+str(e2)+\" && time>10000 && time <500000\"\n",
    "    list2.append(string)\n",
    "    listenergy.append(str(e1)+\" MeV - \"+str(e2)+\" MeV\")\n",
    "    x = x+1\n",
    "    e1 = e2\n",
    "    e2 = e2+energyrange\n",
    "print(list2)\n",
    "print(listenergy)"
   ]
  },
  {
   "cell_type": "code",
   "execution_count": 6,
   "metadata": {},
   "outputs": [
    {
     "data": {
      "image/png": "[encoded data removed]",
      "text/plain": [
       "<IPython.core.display.Image object>"
      ]
     },
     "metadata": {},
     "output_type": "display_data"
    }
   ],
   "source": [
    "c = r.TCanvas()\n",
    "c.SetLogy()\n",
    "#t.Draw(\"time\",list2[1],\"\")\n",
    "#t.Draw(\"energy\",\"caloNum == 7 && time>10000 && time <500000\",\"\")\n",
    "t.Draw(\"time\",\"caloNum == 7 && time>10000 && time <500000\",\"\")\n",
    "c.Draw()"
   ]
  },
  {
   "cell_type": "code",
   "execution_count": null,
   "metadata": {},
   "outputs": [],
   "source": [
    "c = r.TCanvas()\n",
    "c.SetLogy()\n",
    "h = r.TH1D(\"h\",listenergy[0],600,0,600000)\n",
    "h.SetMarkerColor(1)\n",
    "h.SetMarkerStyle(8)\n",
    "h.SetLineColor(1)\n",
    "h.SetMarkerSize(.25)\n",
    "t.Draw(\"time>>h\",list2[0],\"goff\")\n",
    "h.GetYaxis().SetRangeUser(.01,100000)\n",
    "h.Draw(\"E0 P0\")\n",
    "leg = r.TLegend(0.1,0.7,0.48,0.9)\n",
    "leg.AddEntry(\"h\",listenergy[0],\"pl\")\n",
    "leg.SetNColumns(2)\n",
    "i = 0\n",
    "h2 = r.TH1D(\"h2\",\"h2\",600,0,600000)\n",
    "while i < len(list2):\n",
    "    i = i+1\n",
    "    h2.SetMarkerColor(i+2)\n",
    "    h2.SetLineColor(i+2)\n",
    "    h2.SetMarkerStyle(8)\n",
    "    h2.SetMarkerSize(.25)\n",
    "    h2.SetTitle(listenergy[i])\n",
    "    t.Draw(\"time>>h2\",list2[i],\"goff\")\n",
    "    h2.DrawCopy(\"P0 E0 SAME\")\n",
    "    leg.AddEntry(h2,listenergy[i],\"pl\")\n",
    "#leg.Draw(\"SAME\")\n",
    "c.BuildLegend()\n",
    "c.Draw()"
   ]
  },
  {
   "cell_type": "code",
   "execution_count": 9,
   "metadata": {},
   "outputs": [
    {
     "name": "stderr",
     "output_type": "stream",
     "text": [
      "Warning in <TDirectoryFile::Append>: Replacing existing TH1: h2 (Potential memory leak).\n",
      "Info in <TCanvas::Print>: png file ./timeSpectrum/0 MeV - 100 MeV.png has been created\n",
      "Info in <TCanvas::Print>: png file ./timeSpectrum/100 MeV - 200 MeV.png has been created\n",
      "Info in <TCanvas::Print>: png file ./timeSpectrum/200 MeV - 300 MeV.png has been created\n",
      "Info in <TCanvas::Print>: png file ./timeSpectrum/300 MeV - 400 MeV.png has been created\n",
      "Info in <TCanvas::Print>: png file ./timeSpectrum/400 MeV - 500 MeV.png has been created\n",
      "Info in <TCanvas::Print>: png file ./timeSpectrum/500 MeV - 600 MeV.png has been created\n",
      "Info in <TCanvas::Print>: png file ./timeSpectrum/600 MeV - 700 MeV.png has been created\n",
      "Info in <TCanvas::Print>: png file ./timeSpectrum/700 MeV - 800 MeV.png has been created\n",
      "Info in <TCanvas::Print>: png file ./timeSpectrum/800 MeV - 900 MeV.png has been created\n",
      "Info in <TCanvas::Print>: png file ./timeSpectrum/900 MeV - 1000 MeV.png has been created\n",
      "Info in <TCanvas::Print>: png file ./timeSpectrum/1000 MeV - 1100 MeV.png has been created\n",
      "Info in <TCanvas::Print>: png file ./timeSpectrum/1100 MeV - 1200 MeV.png has been created\n",
      "Info in <TCanvas::Print>: png file ./timeSpectrum/1200 MeV - 1300 MeV.png has been created\n",
      "Info in <TCanvas::Print>: png file ./timeSpectrum/1300 MeV - 1400 MeV.png has been created\n",
      "Info in <TCanvas::Print>: png file ./timeSpectrum/1400 MeV - 1500 MeV.png has been created\n",
      "Info in <TCanvas::Print>: png file ./timeSpectrum/1500 MeV - 1600 MeV.png has been created\n",
      "Info in <TCanvas::Print>: png file ./timeSpectrum/1600 MeV - 1700 MeV.png has been created\n",
      "Info in <TCanvas::Print>: png file ./timeSpectrum/1700 MeV - 1800 MeV.png has been created\n",
      "Info in <TCanvas::Print>: png file ./timeSpectrum/1800 MeV - 1900 MeV.png has been created\n",
      "Info in <TCanvas::Print>: png file ./timeSpectrum/1900 MeV - 2000 MeV.png has been created\n",
      "Info in <TCanvas::Print>: png file ./timeSpectrum/2000 MeV - 2100 MeV.png has been created\n",
      "Info in <TCanvas::Print>: png file ./timeSpectrum/2100 MeV - 2200 MeV.png has been created\n",
      "Info in <TCanvas::Print>: png file ./timeSpectrum/2200 MeV - 2300 MeV.png has been created\n",
      "Info in <TCanvas::Print>: png file ./timeSpectrum/2300 MeV - 2400 MeV.png has been created\n",
      "Info in <TCanvas::Print>: png file ./timeSpectrum/2400 MeV - 2500 MeV.png has been created\n",
      "Info in <TCanvas::Print>: png file ./timeSpectrum/2500 MeV - 2600 MeV.png has been created\n",
      "Info in <TCanvas::Print>: png file ./timeSpectrum/2600 MeV - 2700 MeV.png has been created\n",
      "Info in <TCanvas::Print>: png file ./timeSpectrum/2700 MeV - 2800 MeV.png has been created\n",
      "Info in <TCanvas::Print>: png file ./timeSpectrum/2800 MeV - 2900 MeV.png has been created\n",
      "Info in <TCanvas::Print>: png file ./timeSpectrum/2900 MeV - 3000 MeV.png has been created\n"
     ]
    },
    {
     "data": {
      "image/png": "[encoded data removed]",
      "text/plain": [
       "<IPython.core.display.Image object>"
      ]
     },
     "metadata": {},
     "output_type": "display_data"
    }
   ],
   "source": [
    "c2 = r.TCanvas()\n",
    "c2.SetLogy()\n",
    "i = 0\n",
    "h2 = r.TH1D(\"h2\",\"h2\",600,0,600000)\n",
    "h2.SetMarkerColor(2)\n",
    "h2.SetLineColor(2)\n",
    "h2.SetMarkerStyle(8)\n",
    "h2.SetMarkerSize(.25)\n",
    "while i < len(list2):\n",
    "    h2.SetTitle(listenergy[i])\n",
    "    t.Draw(\"time>>h2\",list2[i],\"goff\")\n",
    "    h2.DrawCopy(\"P0 E0\")\n",
    "    leg = r.TLegend(0.7,0.8,0.9,0.9)\n",
    "    leg.AddEntry(h2,listenergy[i],\"pl\")\n",
    "    leg.Draw(\"SAME\")\n",
    "    #c.BuildLegend()\n",
    "    c2.Draw()\n",
    "    ding = \"./timeSpectrum/\"+listenergy[i]+\".png\"\n",
    "    c2.Print(ding)\n",
    "    i = i+1"
   ]
  },
  {
   "cell_type": "code",
   "execution_count": null,
   "metadata": {},
   "outputs": [
    {
     "name": "stderr",
     "output_type": "stream",
     "text": [
      "Warning in <TDirectoryFile::Append>: Replacing existing TH1: h2 (Potential memory leak).\n",
      "Info in <TCanvas::Print>: png file ./timeSpectrum/0.png has been created\n",
      "Info in <TCanvas::Print>: png file ./timeSpectrum/1.png has been created\n",
      "Info in <TCanvas::Print>: png file ./timeSpectrum/2.png has been created\n",
      "Info in <TCanvas::Print>: png file ./timeSpectrum/3.png has been created\n",
      "Info in <TCanvas::Print>: png file ./timeSpectrum/4.png has been created\n",
      "Info in <TCanvas::Print>: png file ./timeSpectrum/5.png has been created\n",
      "Info in <TCanvas::Print>: png file ./timeSpectrum/6.png has been created\n",
      "Info in <TCanvas::Print>: png file ./timeSpectrum/7.png has been created\n",
      "Info in <TCanvas::Print>: png file ./timeSpectrum/8.png has been created\n",
      "Info in <TCanvas::Print>: png file ./timeSpectrum/9.png has been created\n",
      "Info in <TCanvas::Print>: png file ./timeSpectrum/10.png has been created\n",
      "Info in <TCanvas::Print>: png file ./timeSpectrum/11.png has been created\n",
      "Info in <TCanvas::Print>: png file ./timeSpectrum/12.png has been created\n",
      "Info in <TCanvas::Print>: png file ./timeSpectrum/13.png has been created\n",
      "Info in <TCanvas::Print>: png file ./timeSpectrum/14.png has been created\n",
      "Info in <TCanvas::Print>: png file ./timeSpectrum/15.png has been created\n",
      "Info in <TCanvas::Print>: png file ./timeSpectrum/16.png has been created\n",
      "Info in <TCanvas::Print>: png file ./timeSpectrum/17.png has been created\n",
      "Info in <TCanvas::Print>: png file ./timeSpectrum/18.png has been created\n",
      "Info in <TCanvas::Print>: png file ./timeSpectrum/19.png has been created\n",
      "Info in <TCanvas::Print>: png file ./timeSpectrum/20.png has been created\n",
      "Info in <TCanvas::Print>: png file ./timeSpectrum/21.png has been created\n",
      "Info in <TCanvas::Print>: png file ./timeSpectrum/22.png has been created\n",
      "Info in <TCanvas::Print>: png file ./timeSpectrum/23.png has been created\n",
      "Info in <TCanvas::Print>: png file ./timeSpectrum/24.png has been created\n",
      "Info in <TCanvas::Print>: png file ./timeSpectrum/25.png has been created\n",
      "Info in <TCanvas::Print>: png file ./timeSpectrum/26.png has been created\n",
      "Info in <TCanvas::Print>: png file ./timeSpectrum/27.png has been created\n",
      "Info in <TCanvas::Print>: png file ./timeSpectrum/28.png has been created\n",
      "Info in <TCanvas::Print>: png file ./timeSpectrum/29.png has been created\n"
     ]
    },
    {
     "data": {
      "image/png": "[encoded data removed]",
      "text/plain": [
       "<IPython.core.display.Image object>"
      ]
     },
     "metadata": {},
     "output_type": "display_data"
    }
   ],
   "source": [
    "c2 = r.TCanvas()\n",
    "c2.SetLogy()\n",
    "i = 0\n",
    "h2 = r.TH1D(\"h2\",\"h2\",600,0,600000)\n",
    "h2.SetMarkerColor(2)\n",
    "h2.SetLineColor(2)\n",
    "h2.SetMarkerStyle(8)\n",
    "h2.SetMarkerSize(.25)\n",
    "while i < len(list2):\n",
    "    h2.SetTitle(listenergy[i])\n",
    "    t.Draw(\"time>>h2\",list2[i],\"goff\")\n",
    "    h2.DrawCopy(\"P0 E0\")\n",
    "    leg = r.TLegend(0.7,0.8,0.9,0.9)\n",
    "    leg.AddEntry(h2,listenergy[i],\"pl\")\n",
    "    leg.Draw(\"SAME\")\n",
    "    #c.BuildLegend()\n",
    "    c2.Draw()\n",
    "    ding = \"./timeSpectrum/\"+str(i)+\".png\"\n",
    "    c2.Print(ding)\n",
    "    i = i+1"
   ]
  },
  {
   "cell_type": "code",
   "execution_count": 12,
   "metadata": {},
   "outputs": [
    {
     "name": "stderr",
     "output_type": "stream",
     "text": [
      "Warning in <TDirectoryFile::Append>: Replacing existing TH1: h2 (Potential memory leak).\n",
      "Info in <TCanvas::Print>: png file ./timeSpectrum/norm/0norm.png has been created\n",
      "Info in <TCanvas::Print>: png file ./timeSpectrum/norm/1norm.png has been created\n",
      "Info in <TCanvas::Print>: png file ./timeSpectrum/norm/2norm.png has been created\n",
      "Info in <TCanvas::Print>: png file ./timeSpectrum/norm/3norm.png has been created\n",
      "Info in <TCanvas::Print>: png file ./timeSpectrum/norm/4norm.png has been created\n",
      "Info in <TCanvas::Print>: png file ./timeSpectrum/norm/5norm.png has been created\n",
      "Info in <TCanvas::Print>: png file ./timeSpectrum/norm/6norm.png has been created\n",
      "Info in <TCanvas::Print>: png file ./timeSpectrum/norm/7norm.png has been created\n",
      "Info in <TCanvas::Print>: png file ./timeSpectrum/norm/8norm.png has been created\n",
      "Info in <TCanvas::Print>: png file ./timeSpectrum/norm/9norm.png has been created\n",
      "Info in <TCanvas::Print>: png file ./timeSpectrum/norm/10norm.png has been created\n",
      "Info in <TCanvas::Print>: png file ./timeSpectrum/norm/11norm.png has been created\n",
      "Info in <TCanvas::Print>: png file ./timeSpectrum/norm/12norm.png has been created\n",
      "Info in <TCanvas::Print>: png file ./timeSpectrum/norm/13norm.png has been created\n",
      "Info in <TCanvas::Print>: png file ./timeSpectrum/norm/14norm.png has been created\n",
      "Info in <TCanvas::Print>: png file ./timeSpectrum/norm/15norm.png has been created\n",
      "Info in <TCanvas::Print>: png file ./timeSpectrum/norm/16norm.png has been created\n",
      "Info in <TCanvas::Print>: png file ./timeSpectrum/norm/17norm.png has been created\n",
      "Info in <TCanvas::Print>: png file ./timeSpectrum/norm/18norm.png has been created\n",
      "Info in <TCanvas::Print>: png file ./timeSpectrum/norm/19norm.png has been created\n",
      "Info in <TCanvas::Print>: png file ./timeSpectrum/norm/20norm.png has been created\n",
      "Info in <TCanvas::Print>: png file ./timeSpectrum/norm/21norm.png has been created\n",
      "Info in <TCanvas::Print>: png file ./timeSpectrum/norm/22norm.png has been created\n",
      "Info in <TCanvas::Print>: png file ./timeSpectrum/norm/23norm.png has been created\n",
      "Info in <TCanvas::Print>: png file ./timeSpectrum/norm/24norm.png has been created\n",
      "Info in <TCanvas::Print>: png file ./timeSpectrum/norm/25norm.png has been created\n",
      "Info in <TCanvas::Print>: png file ./timeSpectrum/norm/26norm.png has been created\n",
      "Info in <TCanvas::Print>: png file ./timeSpectrum/norm/27norm.png has been created\n",
      "Info in <TCanvas::Print>: png file ./timeSpectrum/norm/28norm.png has been created\n",
      "Info in <TCanvas::Print>: png file ./timeSpectrum/norm/29norm.png has been created\n"
     ]
    },
    {
     "data": {
      "image/png": "[encoded data removed]",
      "text/plain": [
       "<IPython.core.display.Image object>"
      ]
     },
     "metadata": {},
     "output_type": "display_data"
    }
   ],
   "source": [
    "c2 = r.TCanvas()\n",
    "c2.SetLogy()\n",
    "i = 0\n",
    "h2 = r.TH1D(\"h2\",\"h2\",600,0,600000)\n",
    "h2.SetMarkerColor(2)\n",
    "h2.SetLineColor(2)\n",
    "h2.SetMarkerStyle(8)\n",
    "h2.SetMarkerSize(.25)\n",
    "while i < len(list2):\n",
    "    h2.SetTitle(listenergy[i])\n",
    "    t.Draw(\"time>>h2\",list2[i],\"goff\")\n",
    "    norm = h2.GetEntries()\n",
    "    h2.Scale(1/norm)\n",
    "    h2.DrawCopy(\"P0 E0\")\n",
    "    leg = r.TLegend(0.7,0.8,0.9,0.9)\n",
    "    leg.AddEntry(h2,listenergy[i],\"pl\")\n",
    "    leg.Draw(\"SAME\")\n",
    "    #c.BuildLegend()\n",
    "    c2.Draw()\n",
    "    ding = \"./timeSpectrum/norm/\"+str(i)+\"norm.png\"\n",
    "    c2.Print(ding)\n",
    "    i = i+1"
   ]
  },
  {
   "cell_type": "markdown",
   "metadata": {},
   "source": [
    "Now lets zoom in on the area from 30 - 74 #mus"
   ]
  },
  {
   "cell_type": "code",
   "execution_count": 5,
   "metadata": {},
   "outputs": [
    {
     "name": "stdout",
     "output_type": "stream",
     "text": [
      "['caloNum == 7 && energy > 0 && energy < 100 && time>24000.0 && time <59200.0', 'caloNum == 7 && energy > 100 && energy < 200 && time>24000.0 && time <59200.0', 'caloNum == 7 && energy > 200 && energy < 300 && time>24000.0 && time <59200.0', 'caloNum == 7 && energy > 300 && energy < 400 && time>24000.0 && time <59200.0', 'caloNum == 7 && energy > 400 && energy < 500 && time>24000.0 && time <59200.0', 'caloNum == 7 && energy > 500 && energy < 600 && time>24000.0 && time <59200.0', 'caloNum == 7 && energy > 600 && energy < 700 && time>24000.0 && time <59200.0', 'caloNum == 7 && energy > 700 && energy < 800 && time>24000.0 && time <59200.0', 'caloNum == 7 && energy > 800 && energy < 900 && time>24000.0 && time <59200.0', 'caloNum == 7 && energy > 900 && energy < 1000 && time>24000.0 && time <59200.0', 'caloNum == 7 && energy > 1000 && energy < 1100 && time>24000.0 && time <59200.0', 'caloNum == 7 && energy > 1100 && energy < 1200 && time>24000.0 && time <59200.0', 'caloNum == 7 && energy > 1200 && energy < 1300 && time>24000.0 && time <59200.0', 'caloNum == 7 && energy > 1300 && energy < 1400 && time>24000.0 && time <59200.0', 'caloNum == 7 && energy > 1400 && energy < 1500 && time>24000.0 && time <59200.0', 'caloNum == 7 && energy > 1500 && energy < 1600 && time>24000.0 && time <59200.0', 'caloNum == 7 && energy > 1600 && energy < 1700 && time>24000.0 && time <59200.0', 'caloNum == 7 && energy > 1700 && energy < 1800 && time>24000.0 && time <59200.0', 'caloNum == 7 && energy > 1800 && energy < 1900 && time>24000.0 && time <59200.0', 'caloNum == 7 && energy > 1900 && energy < 2000 && time>24000.0 && time <59200.0', 'caloNum == 7 && energy > 2000 && energy < 2100 && time>24000.0 && time <59200.0', 'caloNum == 7 && energy > 2100 && energy < 2200 && time>24000.0 && time <59200.0', 'caloNum == 7 && energy > 2200 && energy < 2300 && time>24000.0 && time <59200.0', 'caloNum == 7 && energy > 2300 && energy < 2400 && time>24000.0 && time <59200.0', 'caloNum == 7 && energy > 2400 && energy < 2500 && time>24000.0 && time <59200.0', 'caloNum == 7 && energy > 2500 && energy < 2600 && time>24000.0 && time <59200.0', 'caloNum == 7 && energy > 2600 && energy < 2700 && time>24000.0 && time <59200.0', 'caloNum == 7 && energy > 2700 && energy < 2800 && time>24000.0 && time <59200.0', 'caloNum == 7 && energy > 2800 && energy < 2900 && time>24000.0 && time <59200.0', 'caloNum == 7 && energy > 2900 && energy < 3000 && time>24000.0 && time <59200.0']\n",
      "['0 MeV - 100 MeV', '100 MeV - 200 MeV', '200 MeV - 300 MeV', '300 MeV - 400 MeV', '400 MeV - 500 MeV', '500 MeV - 600 MeV', '600 MeV - 700 MeV', '700 MeV - 800 MeV', '800 MeV - 900 MeV', '900 MeV - 1000 MeV', '1000 MeV - 1100 MeV', '1100 MeV - 1200 MeV', '1200 MeV - 1300 MeV', '1300 MeV - 1400 MeV', '1400 MeV - 1500 MeV', '1500 MeV - 1600 MeV', '1600 MeV - 1700 MeV', '1700 MeV - 1800 MeV', '1800 MeV - 1900 MeV', '1900 MeV - 2000 MeV', '2000 MeV - 2100 MeV', '2100 MeV - 2200 MeV', '2200 MeV - 2300 MeV', '2300 MeV - 2400 MeV', '2400 MeV - 2500 MeV', '2500 MeV - 2600 MeV', '2600 MeV - 2700 MeV', '2700 MeV - 2800 MeV', '2800 MeV - 2900 MeV', '2900 MeV - 3000 MeV']\n"
     ]
    }
   ],
   "source": [
    "x = 0\n",
    "e1 = 0\n",
    "energyrange = 100\n",
    "e2 = e1+energyrange\n",
    "t1 = 30*1000/1.25\n",
    "t2 = 74*1000/1.25\n",
    "num = 30\n",
    "list2 = []\n",
    "listenergy = []\n",
    "while x < num:\n",
    "    string = \"caloNum == 7 && energy > \"+str(e1)+\" && energy < \"+str(e2)+\" && time>\"+str(t1)+\" && time <\"+str(t2)\n",
    "    list2.append(string)\n",
    "    listenergy.append(str(e1)+\" MeV - \"+str(e2)+\" MeV\")\n",
    "    x = x+1\n",
    "    e1 = e2\n",
    "    e2 = e2+energyrange\n",
    "print(list2)\n",
    "print(listenergy)"
   ]
  },
  {
   "cell_type": "code",
   "execution_count": 11,
   "metadata": {},
   "outputs": [
    {
     "name": "stderr",
     "output_type": "stream",
     "text": [
      "Info in <TCanvas::Print>: png file ./timeSpectrum/zoom/0_zoom_30_75.png has been created\n",
      "Info in <TCanvas::Print>: png file ./timeSpectrum/zoom/1_zoom_30_75.png has been created\n",
      "Info in <TCanvas::Print>: png file ./timeSpectrum/zoom/2_zoom_30_75.png has been created\n",
      "Info in <TCanvas::Print>: png file ./timeSpectrum/zoom/3_zoom_30_75.png has been created\n",
      "Info in <TCanvas::Print>: png file ./timeSpectrum/zoom/4_zoom_30_75.png has been created\n",
      "Info in <TCanvas::Print>: png file ./timeSpectrum/zoom/5_zoom_30_75.png has been created\n",
      "Info in <TCanvas::Print>: png file ./timeSpectrum/zoom/6_zoom_30_75.png has been created\n",
      "Info in <TCanvas::Print>: png file ./timeSpectrum/zoom/7_zoom_30_75.png has been created\n",
      "Info in <TCanvas::Print>: png file ./timeSpectrum/zoom/8_zoom_30_75.png has been created\n",
      "Info in <TCanvas::Print>: png file ./timeSpectrum/zoom/9_zoom_30_75.png has been created\n",
      "Info in <TCanvas::Print>: png file ./timeSpectrum/zoom/10_zoom_30_75.png has been created\n",
      "Info in <TCanvas::Print>: png file ./timeSpectrum/zoom/11_zoom_30_75.png has been created\n",
      "Info in <TCanvas::Print>: png file ./timeSpectrum/zoom/12_zoom_30_75.png has been created\n",
      "Info in <TCanvas::Print>: png file ./timeSpectrum/zoom/13_zoom_30_75.png has been created\n",
      "Info in <TCanvas::Print>: png file ./timeSpectrum/zoom/14_zoom_30_75.png has been created\n",
      "Info in <TCanvas::Print>: png file ./timeSpectrum/zoom/15_zoom_30_75.png has been created\n",
      "Info in <TCanvas::Print>: png file ./timeSpectrum/zoom/16_zoom_30_75.png has been created\n",
      "Info in <TCanvas::Print>: png file ./timeSpectrum/zoom/17_zoom_30_75.png has been created\n",
      "Info in <TCanvas::Print>: png file ./timeSpectrum/zoom/18_zoom_30_75.png has been created\n",
      "Info in <TCanvas::Print>: png file ./timeSpectrum/zoom/19_zoom_30_75.png has been created\n",
      "Info in <TCanvas::Print>: png file ./timeSpectrum/zoom/20_zoom_30_75.png has been created\n",
      "Info in <TCanvas::Print>: png file ./timeSpectrum/zoom/21_zoom_30_75.png has been created\n",
      "Info in <TCanvas::Print>: png file ./timeSpectrum/zoom/22_zoom_30_75.png has been created\n",
      "Info in <TCanvas::Print>: png file ./timeSpectrum/zoom/23_zoom_30_75.png has been created\n",
      "Info in <TCanvas::Print>: png file ./timeSpectrum/zoom/24_zoom_30_75.png has been created\n",
      "Info in <TCanvas::Print>: png file ./timeSpectrum/zoom/25_zoom_30_75.png has been created\n",
      "Info in <TCanvas::Print>: png file ./timeSpectrum/zoom/26_zoom_30_75.png has been created\n",
      "Info in <TCanvas::Print>: png file ./timeSpectrum/zoom/27_zoom_30_75.png has been created\n",
      "Info in <TCanvas::Print>: png file ./timeSpectrum/zoom/28_zoom_30_75.png has been created\n",
      "Info in <TCanvas::Print>: png file ./timeSpectrum/zoom/29_zoom_30_75.png has been created\n"
     ]
    },
    {
     "data": {
      "image/png": "[encoded data removed]",
      "text/plain": [
       "<IPython.core.display.Image object>"
      ]
     },
     "metadata": {},
     "output_type": "display_data"
    }
   ],
   "source": [
    "c2 = r.TCanvas()\n",
    "c2.SetLogy()\n",
    "i = 0\n",
    "h2 = r.TH1D(\"h2\",\"h2\",110,25,80)\n",
    "h2.SetMarkerColor(2)\n",
    "h2.SetLineColor(2)\n",
    "h2.SetMarkerStyle(8)\n",
    "h2.SetMarkerSize(.25)\n",
    "while i < len(list2):\n",
    "    dong = listenergy[i]+\"; Time (#mus); Counts\"\n",
    "    h2.SetTitle(dong)\n",
    "    t.Draw(\"time*1.25/1000>>h2\",list2[i],\"goff\")\n",
    "    norm = h2.GetEntries()\n",
    "    h2.Scale(1/norm)\n",
    "    h2.GetYaxis().SetRangeUser(.001,1)\n",
    "    h2.DrawCopy(\"P0 E0\")\n",
    "    leg = r.TLegend(0.7,0.8,0.9,0.9)\n",
    "    leg.AddEntry(h2,listenergy[i],\"pl\")\n",
    "    leg.Draw(\"SAME\")\n",
    "    #c.BuildLegend()\n",
    "    c2.Draw()\n",
    "    ding = \"./timeSpectrum/zoom/\"+str(i)+\"_zoom_30_75.png\"\n",
    "    c2.Print(ding)\n",
    "    i = i+1"
   ]
  },
  {
   "cell_type": "code",
   "execution_count": 9,
   "metadata": {},
   "outputs": [
    {
     "name": "stdout",
     "output_type": "stream",
     "text": [
      " FCN=14869.7 FROM MIGRAD    STATUS=CONVERGED      47 CALLS          48 TOTAL\n",
      "                     EDM=7.70695e-11    STRATEGY= 1      ERROR MATRIX ACCURATE \n",
      "  EXT PARAMETER                                   STEP         FIRST   \n",
      "  NO.   NAME      VALUE            ERROR          SIZE      DERIVATIVE \n",
      "   1  Constant    -3.78172e+00   6.82912e-03   9.96304e-05   6.99257e-04\n",
      "   2  Slope       -1.44859e-02   1.33235e-04   1.94377e-06  -5.80199e-02\n"
     ]
    },
    {
     "name": "stderr",
     "output_type": "stream",
     "text": [
      "Warning in <TDirectoryFile::Append>: Replacing existing TH1: h (Potential memory leak).\n"
     ]
    },
    {
     "data": {
      "image/png": "[encoded data removed]",
      "text/plain": [
       "<IPython.core.display.Image object>"
      ]
     },
     "metadata": {},
     "output_type": "display_data"
    }
   ],
   "source": [
    "c = r.TCanvas()\n",
    "c.SetLogy()\n",
    "dong = \"caloNum == 7 && energy > 1300 && energy < 3000; Time (#mus); Counts/Norm\"\n",
    "h = r.TH1D(\"h\",dong,110,25,80)\n",
    "h.SetMarkerColor(1)\n",
    "h.SetMarkerStyle(8)\n",
    "h.SetLineColor(1)\n",
    "h.SetMarkerSize(.25)\n",
    "t.Draw(\"time*1.25/1000>>h\",\"caloNum == 7 && energy > 1300 && energy < 3000 && time>24000.0 && time <59200.0\",\"goff\")\n",
    "norm = h.GetEntries()\n",
    "h.Scale(1/norm)\n",
    "h.GetYaxis().SetRangeUser(.001,.1)\n",
    "h.Draw(\"E0 P0\")\n",
    "#fit1 = r.TF1(\"fit1\",\"[0]*(1+ TMath::Exp([1]*x)*TMath::Cos([2]*x+[3])))\",30,80)\n",
    "#fit1.SetParameter(2,.0018)\n",
    "#fit1.SetParameter(3,3)\n",
    "#h.Fit(\"fit1\")\n",
    "h.Fit(\"expo\")\n",
    "#fit1.Draw(\"SAME\")\n",
    "rp1 = r.TRatioPlot(h)\n",
    "rp1.Draw()\n",
    "rp1.GetLowerRefYaxis().SetTitle(\"ratio\")\n",
    "h.SetTitle(\"\")\n",
    "#c.BuildLegend()\n",
    "c.Draw()"
   ]
  },
  {
   "cell_type": "code",
   "execution_count": null,
   "metadata": {},
   "outputs": [],
   "source": []
  }
 ],
 "metadata": {
  "kernelspec": {
   "display_name": "Python 3",
   "language": "python",
   "name": "python3"
  },
  "language_info": {
   "codemirror_mode": {
    "name": "ipython",
    "version": 3
   },
   "file_extension": ".py",
   "mimetype": "text/x-python",
   "name": "python",
   "nbconvert_exporter": "python",
   "pygments_lexer": "ipython3",
   "version": "3.6.5"
  }
 },
 "nbformat": 4,
 "nbformat_minor": 2
}
