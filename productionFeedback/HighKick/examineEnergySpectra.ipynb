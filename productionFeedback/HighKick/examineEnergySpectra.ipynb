{
 "cells": [
  {
   "cell_type": "code",
   "execution_count": 34,
   "metadata": {},
   "outputs": [],
   "source": [
    "from standardInclude import *\n",
    "from fit_util import *"
   ]
  },
  {
   "cell_type": "code",
   "execution_count": 2,
   "metadata": {},
   "outputs": [
    {
     "name": "stdout",
     "output_type": "stream",
     "text": [
      "TFile**\t\t./results_HighKickTest_full.root\t\n",
      " TFile*\t\t./results_HighKickTest_full.root\t\n",
      "  TDirectoryFile*\t\tfarline\tfarline (CaloFarlineHistograms) folder\n",
      "   TDirectoryFile*\t\tcalo1\tcalo1\n",
      "    KEY: TH1D\tenergy;1\tcalo 1 energies\n",
      "    KEY: TH1D\twiggle;1\tcalo 1 T Method\n",
      "    KEY: TH1D\ttimes;1\tcalo 1 hit times\n",
      "    KEY: TH2D\tCTAG_over_T0;1\tCalo 1 CTAGs / T0 Integral\n",
      "    KEY: TH2D\thitPositions;1\tcalo 1 hit positions\n",
      "    KEY: TH2D\tnXtalHits;1\tcalo 1 n xtal hits\n",
      "    KEY: TH1D\tlaserSyncEnergies;1\tCalo 1 Energies\n",
      "    KEY: TH1D\txtal0Energy;1\tCalo 1, Crystal 0 energy\n",
      "    KEY: TH1D\txtal1Energy;1\tCalo 1, Crystal 1 energy\n",
      "    KEY: TH1D\txtal2Energy;1\tCalo 1, Crystal 2 energy\n",
      "    KEY: TH1D\txtal3Energy;1\tCalo 1, Crystal 3 energy\n",
      "    KEY: TH1D\txtal4Energy;1\tCalo 1, Crystal 4 energy\n",
      "    KEY: TH1D\txtal5Energy;1\tCalo 1, Crystal 5 energy\n",
      "    KEY: TH1D\txtal6Energy;1\tCalo 1, Crystal 6 energy\n",
      "    KEY: TH1D\txtal7Energy;1\tCalo 1, Crystal 7 energy\n",
      "    KEY: TH1D\txtal8Energy;1\tCalo 1, Crystal 8 energy\n",
      "    KEY: TH1D\txtal9Energy;1\tCalo 1, Crystal 9 energy\n",
      "    KEY: TH1D\txtal10Energy;1\tCalo 1, Crystal 10 energy\n",
      "    KEY: TH1D\txtal11Energy;1\tCalo 1, Crystal 11 energy\n",
      "    KEY: TH1D\txtal12Energy;1\tCalo 1, Crystal 12 energy\n",
      "    KEY: TH1D\txtal13Energy;1\tCalo 1, Crystal 13 energy\n",
      "    KEY: TH1D\txtal14Energy;1\tCalo 1, Crystal 14 energy\n",
      "    KEY: TH1D\txtal15Energy;1\tCalo 1, Crystal 15 energy\n",
      "    KEY: TH1D\txtal16Energy;1\tCalo 1, Crystal 16 energy\n",
      "    KEY: TH1D\txtal17Energy;1\tCalo 1, Crystal 17 energy\n",
      "    KEY: TH1D\txtal18Energy;1\tCalo 1, Crystal 18 energy\n",
      "    KEY: TH1D\txtal19Energy;1\tCalo 1, Crystal 19 energy\n",
      "    KEY: TH1D\txtal20Energy;1\tCalo 1, Crystal 20 energy\n",
      "    KEY: TH1D\txtal21Energy;1\tCalo 1, Crystal 21 energy\n",
      "    KEY: TH1D\txtal22Energy;1\tCalo 1, Crystal 22 energy\n",
      "    KEY: TH1D\txtal23Energy;1\tCalo 1, Crystal 23 energy\n",
      "    KEY: TH1D\txtal24Energy;1\tCalo 1, Crystal 24 energy\n",
      "    KEY: TH1D\txtal25Energy;1\tCalo 1, Crystal 25 energy\n",
      "    KEY: TH1D\txtal26Energy;1\tCalo 1, Crystal 26 energy\n",
      "    KEY: TH1D\txtal27Energy;1\tCalo 1, Crystal 27 energy\n",
      "    KEY: TH1D\txtal28Energy;1\tCalo 1, Crystal 28 energy\n",
      "    KEY: TH1D\txtal29Energy;1\tCalo 1, Crystal 29 energy\n",
      "    KEY: TH1D\txtal30Energy;1\tCalo 1, Crystal 30 energy\n",
      "    KEY: TH1D\txtal31Energy;1\tCalo 1, Crystal 31 energy\n",
      "    KEY: TH1D\txtal32Energy;1\tCalo 1, Crystal 32 energy\n",
      "    KEY: TH1D\txtal33Energy;1\tCalo 1, Crystal 33 energy\n",
      "    KEY: TH1D\txtal34Energy;1\tCalo 1, Crystal 34 energy\n",
      "    KEY: TH1D\txtal35Energy;1\tCalo 1, Crystal 35 energy\n",
      "    KEY: TH1D\txtal36Energy;1\tCalo 1, Crystal 36 energy\n",
      "    KEY: TH1D\txtal37Energy;1\tCalo 1, Crystal 37 energy\n",
      "    KEY: TH1D\txtal38Energy;1\tCalo 1, Crystal 38 energy\n",
      "    KEY: TH1D\txtal39Energy;1\tCalo 1, Crystal 39 energy\n",
      "    KEY: TH1D\txtal40Energy;1\tCalo 1, Crystal 40 energy\n",
      "    KEY: TH1D\txtal41Energy;1\tCalo 1, Crystal 41 energy\n",
      "    KEY: TH1D\txtal42Energy;1\tCalo 1, Crystal 42 energy\n",
      "    KEY: TH1D\txtal43Energy;1\tCalo 1, Crystal 43 energy\n",
      "    KEY: TH1D\txtal44Energy;1\tCalo 1, Crystal 44 energy\n",
      "    KEY: TH1D\txtal45Energy;1\tCalo 1, Crystal 45 energy\n",
      "    KEY: TH1D\txtal46Energy;1\tCalo 1, Crystal 46 energy\n",
      "    KEY: TH1D\txtal47Energy;1\tCalo 1, Crystal 47 energy\n",
      "    KEY: TH1D\txtal48Energy;1\tCalo 1, Crystal 48 energy\n",
      "    KEY: TH1D\txtal49Energy;1\tCalo 1, Crystal 49 energy\n",
      "    KEY: TH1D\txtal50Energy;1\tCalo 1, Crystal 50 energy\n",
      "    KEY: TH1D\txtal51Energy;1\tCalo 1, Crystal 51 energy\n",
      "    KEY: TH1D\txtal52Energy;1\tCalo 1, Crystal 52 energy\n",
      "    KEY: TH1D\txtal53Energy;1\tCalo 1, Crystal 53 energy\n",
      "    KEY: TH1D\tcalo1TimeCut0Energy;1\tCalo 1, Time Cut 0 Energy\n",
      "    KEY: TH1D\tcalo1TimeCut1Energy;1\tCalo 1, Time Cut 1 Energy\n",
      "    KEY: TH1D\tcalo1TimeCut2Energy;1\tCalo 1, Time Cut 2 Energy\n",
      "    KEY: TH1D\tcalo1TimeCut3Energy;1\tCalo 1, Time Cut 3 Energy\n",
      "    KEY: TH1D\tcalo1TimeCut4Energy;1\tCalo 1, Time Cut 4 Energy\n",
      "    KEY: TH1D\tcalo1TimeCut5Energy;1\tCalo 1, Time Cut 5 Energy\n",
      "    KEY: TH1D\tcalo1TimeCut6Energy;1\tCalo 1, Time Cut 6 Energy\n",
      "    KEY: TH1D\tcalo1TimeCut7Energy;1\tCalo 1, Time Cut 7 Energy\n",
      "    KEY: TH1D\tcalo1TimeCut8Energy;1\tCalo 1, Time Cut 8 Energy\n",
      "    KEY: TH1D\tcalo1TimeCut9Energy;1\tCalo 1, Time Cut 9 Energy\n",
      "    KEY: TH1D\tcalo1TimeCut10Energy;1\tCalo 1, Time Cut 10 Energy\n",
      "    KEY: TH1D\tcalo1TimeCut11Energy;1\tCalo 1, Time Cut 11 Energy\n",
      "    KEY: TH1D\tcalo1TimeCut12Energy;1\tCalo 1, Time Cut 12 Energy\n",
      "    KEY: TH1D\tcalo1TimeCut13Energy;1\tCalo 1, Time Cut 13 Energy\n",
      "    KEY: TH1D\tcalo1TimeCut14Energy;1\tCalo 1, Time Cut 14 Energy\n",
      "    KEY: TH1D\tcalo1TimeCut15Energy;1\tCalo 1, Time Cut 15 Energy\n",
      "    KEY: TH2D\tcalo1EnergyCut0Energy;1\tCalo 1, Energy Cut 0 Energy\n",
      "    KEY: TH2D\tcalo1EnergyCut1Energy;1\tCalo 1, Energy Cut 1 Energy\n",
      "    KEY: TH2D\tcalo1EnergyCut2Energy;1\tCalo 1, Energy Cut 2 Energy\n",
      "    KEY: TH2D\tcalo1EnergyCut3Energy;1\tCalo 1, Energy Cut 3 Energy\n",
      "    KEY: TH2D\tcalo1EnergyCut4Energy;1\tCalo 1, Energy Cut 4 Energy\n",
      "    KEY: TH2D\tcalo1EnergyCut5Energy;1\tCalo 1, Energy Cut 5 Energy\n",
      "    KEY: TH2D\tcalo1EnergyCut6Energy;1\tCalo 1, Energy Cut 6 Energy\n",
      "    KEY: TH2D\tcalo1EnergyCut7Energy;1\tCalo 1, Energy Cut 7 Energy\n",
      "   KEY: TDirectoryFile\tcalo1;1\tcalo1\n",
      "   KEY: TDirectoryFile\tcalo2;1\tcalo2\n",
      "   KEY: TDirectoryFile\tcalo3;1\tcalo3\n",
      "   KEY: TDirectoryFile\tcalo4;1\tcalo4\n",
      "   KEY: TDirectoryFile\tcalo5;1\tcalo5\n",
      "   KEY: TDirectoryFile\tcalo6;1\tcalo6\n",
      "   KEY: TDirectoryFile\tcalo7;1\tcalo7\n",
      "   KEY: TDirectoryFile\tcalo8;1\tcalo8\n",
      "   KEY: TDirectoryFile\tcalo9;1\tcalo9\n",
      "   KEY: TDirectoryFile\tcalo10;1\tcalo10\n",
      "   KEY: TDirectoryFile\tcalo11;1\tcalo11\n",
      "   KEY: TDirectoryFile\tcalo12;1\tcalo12\n",
      "   KEY: TDirectoryFile\tcalo13;1\tcalo13\n",
      "   KEY: TDirectoryFile\tcalo14;1\tcalo14\n",
      "   KEY: TDirectoryFile\tcalo15;1\tcalo15\n",
      "   KEY: TDirectoryFile\tcalo16;1\tcalo16\n",
      "   KEY: TDirectoryFile\tcalo17;1\tcalo17\n",
      "   KEY: TDirectoryFile\tcalo18;1\tcalo18\n",
      "   KEY: TDirectoryFile\tcalo19;1\tcalo19\n",
      "   KEY: TDirectoryFile\tcalo20;1\tcalo20\n",
      "   KEY: TDirectoryFile\tcalo21;1\tcalo21\n",
      "   KEY: TDirectoryFile\tcalo22;1\tcalo22\n",
      "   KEY: TDirectoryFile\tcalo23;1\tcalo23\n",
      "   KEY: TDirectoryFile\tcalo24;1\tcalo24\n",
      "   KEY: TTree\teventTree;1\teventTree\n",
      "   KEY: TH1D\tallCaloEnergies;1\tall energies\n",
      "   KEY: TH1D\tallCaloWiggle;1\tT Method, all calos\n",
      "   KEY: TH1D\tallCaloTimes;1\thit times, all calos\n",
      "   KEY: TH1D\tfarlineCTag;1\tfarlineCTag\n",
      "   KEY: TH1D\tallProcessedEventHist;1\tAll Processed Events\n",
      "  KEY: TDirectoryFile\tfarline;1\tfarline (CaloFarlineHistograms) folder\n"
     ]
    }
   ],
   "source": [
    "#f = r.TFile(\"./results_HighKickTest.root\")\n",
    "f = r.TFile(\"./results_HighKickTest_full.root\")\n",
    "f.cd(\"farline/calo1\")\n",
    "f.ls()"
   ]
  },
  {
   "cell_type": "code",
   "execution_count": 3,
   "metadata": {},
   "outputs": [
    {
     "name": "stdout",
     "output_type": "stream",
     "text": [
      "******************************************************************************\n",
      "*Tree    :eventTree : eventTree                                              *\n",
      "*Entries :    12510 : Total =      2604460903 bytes  File  Size = 1951829998 *\n",
      "*        :          : Tree compression factor =   1.33                       *\n",
      "******************************************************************************\n",
      "*Br    0 :runNum    : runNum/i                                               *\n",
      "*Entries :    12510 : Total  Size=      68479 bytes  File Size  =      19199 *\n",
      "*Baskets :      185 : Basket Size=      32000 bytes  Compression=   3.36     *\n",
      "*............................................................................*\n",
      "*Br    1 :subRunNum : subRunNum/i                                            *\n",
      "*Entries :    12510 : Total  Size=      69046 bytes  File Size  =      19754 *\n",
      "*Baskets :      185 : Basket Size=      32000 bytes  Compression=   3.29     *\n",
      "*............................................................................*\n",
      "*Br    2 :eventNum  : eventNum/i                                             *\n",
      "*Entries :    12510 : Total  Size=      68857 bytes  File Size  =      42148 *\n",
      "*Baskets :      185 : Basket Size=      32000 bytes  Compression=   1.54     *\n",
      "*............................................................................*\n",
      "*Br    3 :midasSerialNum : midasSerialNum/i                                  *\n",
      "*Entries :    12510 : Total  Size=      69991 bytes  File Size  =      43720 *\n",
      "*Baskets :      185 : Basket Size=      32000 bytes  Compression=   1.51     *\n",
      "*............................................................................*\n",
      "*Br    4 :clockCounter : clockCounter/D                                      *\n",
      "*Entries :    12510 : Total  Size=     119661 bytes  File Size  =     109594 *\n",
      "*Baskets :      185 : Basket Size=      32000 bytes  Compression=   1.05     *\n",
      "*............................................................................*\n",
      "*Br    5 :trigNum   : trigNum/i                                              *\n",
      "*Entries :    12510 : Total  Size=      68668 bytes  File Size  =      42425 *\n",
      "*Baskets :      185 : Basket Size=      32000 bytes  Compression=   1.52     *\n",
      "*............................................................................*\n",
      "*Br    6 :bunchNum  : bunchNum/i                                             *\n",
      "*Entries :    12510 : Total  Size=      68857 bytes  File Size  =      28905 *\n",
      "*Baskets :      185 : Basket Size=      32000 bytes  Compression=   2.24     *\n",
      "*............................................................................*\n",
      "*Br    7 :runStartUnixTimeSeconds : runStartUnixTimeSeconds/i                *\n",
      "*Entries :    12510 : Total  Size=      71692 bytes  File Size  =      26617 *\n",
      "*Baskets :      185 : Basket Size=      32000 bytes  Compression=   2.54     *\n",
      "*............................................................................*\n",
      "*Br    8 :ctag      : ctag/i                                                 *\n",
      "*Entries :    12510 : Total  Size=      68101 bytes  File Size  =      43584 *\n",
      "*Baskets :      185 : Basket Size=      32000 bytes  Compression=   1.47     *\n",
      "*............................................................................*\n",
      "*Br    9 :caloNum   : vector<int>                                            *\n",
      "*Entries :    12510 : Total  Size=  289997666 bytes  File Size  =    4425463 *\n",
      "*Baskets :    12435 : Basket Size=      32000 bytes  Compression=  65.47     *\n",
      "*............................................................................*\n",
      "*Br   10 :energy    : vector<double>                                         *\n",
      "*Entries :    12510 : Total  Size=  578484841 bytes  File Size  =  549762935 *\n",
      "*Baskets :    12510 : Basket Size=      32000 bytes  Compression=   1.05     *\n",
      "*............................................................................*\n",
      "*Br   11 :time      : vector<double>                                         *\n",
      "*Entries :    12510 : Total  Size=  578459813 bytes  File Size  =  551248896 *\n",
      "*Baskets :    12510 : Basket Size=      32000 bytes  Compression=   1.05     *\n",
      "*............................................................................*\n",
      "*Br   12 :x         : vector<double>                                         *\n",
      "*Entries :    12510 : Total  Size=  578422271 bytes  File Size  =  432761426 *\n",
      "*Baskets :    12510 : Basket Size=      32000 bytes  Compression=   1.34     *\n",
      "*............................................................................*\n",
      "*Br   13 :y         : vector<double>                                         *\n",
      "*Entries :    12510 : Total  Size=  578422271 bytes  File Size  =  412722828 *\n",
      "*Baskets :    12510 : Basket Size=      32000 bytes  Compression=   1.40     *\n",
      "*............................................................................*\n"
     ]
    }
   ],
   "source": [
    "t = f.Get(\"farline\").Get(\"eventTree\")\n",
    "t.Print()"
   ]
  },
  {
   "cell_type": "code",
   "execution_count": 4,
   "metadata": {},
   "outputs": [],
   "source": [
    "allCaloCtags = f.Get(\"farline\").Get(\"calo1\").Get(\"CTAG_over_T0\").Clone()\n",
    "allCaloCtags.SetDirectory(0)\n",
    "for calo in range(2,25):\n",
    "    allCaloCtags.Add( f.Get(\"farline\").Get(\"calo\"+str(calo)).Get(\"CTAG_over_T0\"), 1 )"
   ]
  },
  {
   "cell_type": "code",
   "execution_count": 9,
   "metadata": {},
   "outputs": [
    {
     "name": "stderr",
     "output_type": "stream",
     "text": [
      "Warning in <TCanvas::Constructor>: Deleting canvas with same name: c\n"
     ]
    },
    {
     "data": {
      "image/png": "[encoded data removed]",
      "text/plain": [
       "<IPython.core.display.Image object>"
      ]
     },
     "metadata": {},
     "output_type": "display_data"
    }
   ],
   "source": [
    "c = r.TCanvas(\"c\",\"c\",1000,500)\n",
    "#allCaloCtags.GetXaxis().SetRangeUser(16140,16150)\n",
    "allCaloCtags.GetYaxis().SetRangeUser(0,200)\n",
    "allCaloCtags.Draw(\"colz\")\n",
    "c.Draw()"
   ]
  },
  {
   "cell_type": "markdown",
   "metadata": {},
   "source": [
    "---\n",
    "\n",
    "### Lets examine the energy spectra before and after this change"
   ]
  },
  {
   "cell_type": "code",
   "execution_count": 6,
   "metadata": {},
   "outputs": [],
   "source": [
    "dividingRun = 16145"
   ]
  },
  {
   "cell_type": "code",
   "execution_count": 52,
   "metadata": {},
   "outputs": [
    {
     "name": "stdout",
     "output_type": "stream",
     "text": [
      "Starting Calo 1\n",
      "Starting Calo 2\n",
      "Starting Calo 3\n",
      "Starting Calo 4\n",
      "Starting Calo 5\n",
      "Starting Calo 6\n",
      "Starting Calo 7\n",
      "Starting Calo 8\n",
      "Starting Calo 9\n",
      "Starting Calo 10\n",
      "Starting Calo 11\n",
      "Starting Calo 12\n",
      "Starting Calo 13\n",
      "Starting Calo 14\n",
      "Starting Calo 15\n",
      "Starting Calo 16\n",
      "Starting Calo 17\n",
      "Starting Calo 18\n",
      "Starting Calo 19\n",
      "Starting Calo 20\n",
      "Starting Calo 21\n",
      "Starting Calo 22\n",
      "Starting Calo 23\n",
      "Starting Calo 24\n",
      "[(<ROOT.TH1D object (\"h1_1\") at 0x7fba4c3b34a0>, <ROOT.TH1D object (\"h2_1\") at 0x7ffff38affc0>), (<ROOT.TH1D object (\"h1_2\") at 0x7fba4c719660>, <ROOT.TH1D object (\"h2_2\") at 0x7fba4c3bdcc0>), (<ROOT.TH1D object (\"h1_3\") at 0x7fba4c3b3080>, <ROOT.TH1D object (\"h2_3\") at 0x7fba4c75b010>), (<ROOT.TH1D object (\"h1_4\") at 0x7fba4c3bb3b0>, <ROOT.TH1D object (\"h2_4\") at 0x7fba4c75cbc0>), (<ROOT.TH1D object (\"h1_5\") at 0x7ffff38b2960>, <ROOT.TH1D object (\"h2_5\") at 0x7fba4c3afd30>), (<ROOT.TH1D object (\"h1_6\") at 0x7ffff38b3060>, <ROOT.TH1D object (\"h2_6\") at 0x7fba4c3d1860>), (<ROOT.TH1D object (\"h1_7\") at 0x7fba4c3b9f50>, <ROOT.TH1D object (\"h2_7\") at 0x7fba4c772d60>), (<ROOT.TH1D object (\"h1_8\") at 0x7fba4c3b29f0>, <ROOT.TH1D object (\"h2_8\") at 0x7fba4c3b68c0>), (<ROOT.TH1D object (\"h1_9\") at 0x7fba4c7639c0>, <ROOT.TH1D object (\"h2_9\") at 0x7fba4c7b3c30>), (<ROOT.TH1D object (\"h1_10\") at 0x7fba4c7aeb70>, <ROOT.TH1D object (\"h2_10\") at 0x7fba4c769650>), (<ROOT.TH1D object (\"h1_11\") at 0x7fba4c704a90>, <ROOT.TH1D object (\"h2_11\") at 0x7fba4c71a710>), (<ROOT.TH1D object (\"h1_12\") at 0x7fba4c6df910>, <ROOT.TH1D object (\"h2_12\") at 0x7fba4c3c70a0>), (<ROOT.TH1D object (\"h1_13\") at 0x7ffff299e9f0>, <ROOT.TH1D object (\"h2_13\") at 0x7fba4c3cf100>), (<ROOT.TH1D object (\"h1_14\") at 0x7fba4c71ab40>, <ROOT.TH1D object (\"h2_14\") at 0x7fba4c3bc710>), (<ROOT.TH1D object (\"h1_15\") at 0x7ffff38b5820>, <ROOT.TH1D object (\"h2_15\") at 0x7fba4c3cebd0>), (<ROOT.TH1D object (\"h1_16\") at 0x7fba4c3bc1c0>, <ROOT.TH1D object (\"h2_16\") at 0x7fba4c7a8470>), (<ROOT.TH1D object (\"h1_17\") at 0x7ffff38b5210>, <ROOT.TH1D object (\"h2_17\") at 0x7fba4c776590>), (<ROOT.TH1D object (\"h1_18\") at 0x7fba4c7a7ed0>, <ROOT.TH1D object (\"h2_18\") at 0x7fba4c76dcb0>), (<ROOT.TH1D object (\"h1_19\") at 0x7fba4c776000>, <ROOT.TH1D object (\"h2_19\") at 0x7fba4c789630>), (<ROOT.TH1D object (\"h1_20\") at 0x7fba4c76d710>, <ROOT.TH1D object (\"h2_20\") at 0x7fba4c3bacc0>), (<ROOT.TH1D object (\"h1_21\") at 0x7fba4c789100>, <ROOT.TH1D object (\"h2_21\") at 0x7fba4c771530>), (<ROOT.TH1D object (\"h1_22\") at 0x7fba4c3ba6f0>, <ROOT.TH1D object (\"h2_22\") at 0x7fba4c7adf50>), (<ROOT.TH1D object (\"h1_23\") at 0x7fba4c770f20>, <ROOT.TH1D object (\"h2_23\") at 0x7fba4c75f350>), (<ROOT.TH1D object (\"h1_24\") at 0x7fba4c7ad940>, <ROOT.TH1D object (\"h2_24\") at 0x7fba4c3c9940>)]\n"
     ]
    }
   ],
   "source": [
    "energySpectra = []\n",
    "for calo in range(1,25):\n",
    "    print(\"Starting Calo\", calo)\n",
    "    h1 = r.TH1D(\"h1_\"+str(calo), \"Energy Spectra in Calo \"+str(calo)+\" Before Jump\", 600,0,6000)\n",
    "    h2 = r.TH1D(\"h2_\"+str(calo), \"Energy Spectra in Calo \"+str(calo)+\" After Jump\", 600,0,6000)\n",
    "    h2.SetLineColor(2)\n",
    "    \n",
    "    t.Draw(\"energy>>h1_\"+str(calo),\"caloNum == \"+str(calo)+\" && runNum < \"+str(dividingRun)+\" && time > 24000\",\"goff\")\n",
    "    t.Draw(\"energy>>h2_\"+str(calo),\"caloNum == \"+str(calo)+\" && runNum >= \"+str(dividingRun)+\" && time > 24000\",\"goff\")\n",
    "    \n",
    "    #h1.Scale( 1/h1.Integral() )\n",
    "    #h2.Scale( 1/h2.Integral() )\n",
    "    \n",
    "    energySpectra.append( (h1.Clone(), h2.Clone()) )\n",
    "\n",
    "print(energySpectra)"
   ]
  },
  {
   "cell_type": "code",
   "execution_count": 53,
   "metadata": {},
   "outputs": [],
   "source": [
    "for (h1, h2) in energySpectra:\n",
    "    h1.Scale( 1/h1.Integral() )\n",
    "    h2.Scale( 1/h2.Integral() )"
   ]
  },
  {
   "cell_type": "code",
   "execution_count": 54,
   "metadata": {},
   "outputs": [
    {
     "name": "stderr",
     "output_type": "stream",
     "text": [
      "Warning in <TCanvas::Constructor>: Deleting canvas with same name: c\n",
      "Info in <TCanvas::Print>: png file sideBySide_calo_001.png has been created\n",
      "Warning in <TCanvas::Constructor>: Deleting canvas with same name: c\n",
      "Info in <TCanvas::Print>: png file overlap_calo_001.png has been created\n",
      "Info in <TCanvas::Print>: png file diff_calo_001.png has been created\n",
      "Warning in <TCanvas::Constructor>: Deleting canvas with same name: c\n",
      "Info in <TCanvas::Print>: png file sideBySide_calo_002.png has been created\n",
      "Warning in <TCanvas::Constructor>: Deleting canvas with same name: c\n",
      "Info in <TCanvas::Print>: png file overlap_calo_002.png has been created\n",
      "Info in <TCanvas::Print>: png file diff_calo_002.png has been created\n",
      "Warning in <TCanvas::Constructor>: Deleting canvas with same name: c\n",
      "Info in <TCanvas::Print>: png file sideBySide_calo_003.png has been created\n",
      "Warning in <TCanvas::Constructor>: Deleting canvas with same name: c\n",
      "Info in <TCanvas::Print>: png file overlap_calo_003.png has been created\n",
      "Info in <TCanvas::Print>: png file diff_calo_003.png has been created\n",
      "Warning in <TCanvas::Constructor>: Deleting canvas with same name: c\n",
      "Info in <TCanvas::Print>: png file sideBySide_calo_004.png has been created\n",
      "Warning in <TCanvas::Constructor>: Deleting canvas with same name: c\n",
      "Info in <TCanvas::Print>: png file overlap_calo_004.png has been created\n",
      "Info in <TCanvas::Print>: png file diff_calo_004.png has been created\n",
      "Warning in <TCanvas::Constructor>: Deleting canvas with same name: c\n",
      "Info in <TCanvas::Print>: png file sideBySide_calo_005.png has been created\n",
      "Warning in <TCanvas::Constructor>: Deleting canvas with same name: c\n",
      "Info in <TCanvas::Print>: png file overlap_calo_005.png has been created\n",
      "Info in <TCanvas::Print>: png file diff_calo_005.png has been created\n",
      "Warning in <TCanvas::Constructor>: Deleting canvas with same name: c\n",
      "Info in <TCanvas::Print>: png file sideBySide_calo_006.png has been created\n",
      "Warning in <TCanvas::Constructor>: Deleting canvas with same name: c\n",
      "Info in <TCanvas::Print>: png file overlap_calo_006.png has been created\n",
      "Info in <TCanvas::Print>: png file diff_calo_006.png has been created\n",
      "Warning in <TCanvas::Constructor>: Deleting canvas with same name: c\n",
      "Info in <TCanvas::Print>: png file sideBySide_calo_007.png has been created\n",
      "Warning in <TCanvas::Constructor>: Deleting canvas with same name: c\n",
      "Info in <TCanvas::Print>: png file overlap_calo_007.png has been created\n",
      "Info in <TCanvas::Print>: png file diff_calo_007.png has been created\n",
      "Warning in <TCanvas::Constructor>: Deleting canvas with same name: c\n",
      "Info in <TCanvas::Print>: png file sideBySide_calo_008.png has been created\n",
      "Warning in <TCanvas::Constructor>: Deleting canvas with same name: c\n",
      "Info in <TCanvas::Print>: png file overlap_calo_008.png has been created\n",
      "Info in <TCanvas::Print>: png file diff_calo_008.png has been created\n",
      "Warning in <TCanvas::Constructor>: Deleting canvas with same name: c\n",
      "Info in <TCanvas::Print>: png file sideBySide_calo_009.png has been created\n",
      "Warning in <TCanvas::Constructor>: Deleting canvas with same name: c\n",
      "Info in <TCanvas::Print>: png file overlap_calo_009.png has been created\n",
      "Info in <TCanvas::Print>: png file diff_calo_009.png has been created\n",
      "Warning in <TCanvas::Constructor>: Deleting canvas with same name: c\n",
      "Info in <TCanvas::Print>: png file sideBySide_calo_010.png has been created\n",
      "Warning in <TCanvas::Constructor>: Deleting canvas with same name: c\n",
      "Info in <TCanvas::Print>: png file overlap_calo_010.png has been created\n",
      "Info in <TCanvas::Print>: png file diff_calo_010.png has been created\n",
      "Warning in <TCanvas::Constructor>: Deleting canvas with same name: c\n",
      "Info in <TCanvas::Print>: png file sideBySide_calo_011.png has been created\n",
      "Warning in <TCanvas::Constructor>: Deleting canvas with same name: c\n",
      "Info in <TCanvas::Print>: png file overlap_calo_011.png has been created\n",
      "Info in <TCanvas::Print>: png file diff_calo_011.png has been created\n",
      "Warning in <TCanvas::Constructor>: Deleting canvas with same name: c\n",
      "Info in <TCanvas::Print>: png file sideBySide_calo_012.png has been created\n",
      "Warning in <TCanvas::Constructor>: Deleting canvas with same name: c\n",
      "Info in <TCanvas::Print>: png file overlap_calo_012.png has been created\n",
      "Info in <TCanvas::Print>: png file diff_calo_012.png has been created\n",
      "Warning in <TCanvas::Constructor>: Deleting canvas with same name: c\n",
      "Info in <TCanvas::Print>: png file sideBySide_calo_013.png has been created\n",
      "Warning in <TCanvas::Constructor>: Deleting canvas with same name: c\n",
      "Info in <TCanvas::Print>: png file overlap_calo_013.png has been created\n",
      "Info in <TCanvas::Print>: png file diff_calo_013.png has been created\n",
      "Warning in <TCanvas::Constructor>: Deleting canvas with same name: c\n",
      "Info in <TCanvas::Print>: png file sideBySide_calo_014.png has been created\n",
      "Warning in <TCanvas::Constructor>: Deleting canvas with same name: c\n",
      "Info in <TCanvas::Print>: png file overlap_calo_014.png has been created\n",
      "Info in <TCanvas::Print>: png file diff_calo_014.png has been created\n",
      "Warning in <TCanvas::Constructor>: Deleting canvas with same name: c\n",
      "Info in <TCanvas::Print>: png file sideBySide_calo_015.png has been created\n",
      "Warning in <TCanvas::Constructor>: Deleting canvas with same name: c\n",
      "Info in <TCanvas::Print>: png file overlap_calo_015.png has been created\n",
      "Info in <TCanvas::Print>: png file diff_calo_015.png has been created\n",
      "Warning in <TCanvas::Constructor>: Deleting canvas with same name: c\n",
      "Info in <TCanvas::Print>: png file sideBySide_calo_016.png has been created\n",
      "Warning in <TCanvas::Constructor>: Deleting canvas with same name: c\n",
      "Info in <TCanvas::Print>: png file overlap_calo_016.png has been created\n",
      "Info in <TCanvas::Print>: png file diff_calo_016.png has been created\n",
      "Warning in <TCanvas::Constructor>: Deleting canvas with same name: c\n",
      "Info in <TCanvas::Print>: png file sideBySide_calo_017.png has been created\n",
      "Warning in <TCanvas::Constructor>: Deleting canvas with same name: c\n",
      "Info in <TCanvas::Print>: png file overlap_calo_017.png has been created\n",
      "Info in <TCanvas::Print>: png file diff_calo_017.png has been created\n",
      "Warning in <TCanvas::Constructor>: Deleting canvas with same name: c\n",
      "Info in <TCanvas::Print>: png file sideBySide_calo_018.png has been created\n",
      "Warning in <TCanvas::Constructor>: Deleting canvas with same name: c\n",
      "Info in <TCanvas::Print>: png file overlap_calo_018.png has been created\n",
      "Info in <TCanvas::Print>: png file diff_calo_018.png has been created\n",
      "Warning in <TCanvas::Constructor>: Deleting canvas with same name: c\n",
      "Info in <TCanvas::Print>: png file sideBySide_calo_019.png has been created\n",
      "Warning in <TCanvas::Constructor>: Deleting canvas with same name: c\n",
      "Info in <TCanvas::Print>: png file overlap_calo_019.png has been created\n",
      "Info in <TCanvas::Print>: png file diff_calo_019.png has been created\n",
      "Warning in <TCanvas::Constructor>: Deleting canvas with same name: c\n",
      "Info in <TCanvas::Print>: png file sideBySide_calo_020.png has been created\n",
      "Warning in <TCanvas::Constructor>: Deleting canvas with same name: c\n",
      "Info in <TCanvas::Print>: png file overlap_calo_020.png has been created\n",
      "Info in <TCanvas::Print>: png file diff_calo_020.png has been created\n",
      "Warning in <TCanvas::Constructor>: Deleting canvas with same name: c\n",
      "Info in <TCanvas::Print>: png file sideBySide_calo_021.png has been created\n",
      "Warning in <TCanvas::Constructor>: Deleting canvas with same name: c\n",
      "Info in <TCanvas::Print>: png file overlap_calo_021.png has been created\n",
      "Info in <TCanvas::Print>: png file diff_calo_021.png has been created\n",
      "Warning in <TCanvas::Constructor>: Deleting canvas with same name: c\n",
      "Info in <TCanvas::Print>: png file sideBySide_calo_022.png has been created\n",
      "Warning in <TCanvas::Constructor>: Deleting canvas with same name: c\n",
      "Info in <TCanvas::Print>: png file overlap_calo_022.png has been created\n",
      "Info in <TCanvas::Print>: png file diff_calo_022.png has been created\n",
      "Warning in <TCanvas::Constructor>: Deleting canvas with same name: c\n",
      "Info in <TCanvas::Print>: png file sideBySide_calo_023.png has been created\n",
      "Warning in <TCanvas::Constructor>: Deleting canvas with same name: c\n",
      "Info in <TCanvas::Print>: png file overlap_calo_023.png has been created\n",
      "Info in <TCanvas::Print>: png file diff_calo_023.png has been created\n",
      "Warning in <TCanvas::Constructor>: Deleting canvas with same name: c\n",
      "Info in <TCanvas::Print>: png file sideBySide_calo_024.png has been created\n",
      "Warning in <TCanvas::Constructor>: Deleting canvas with same name: c\n",
      "Info in <TCanvas::Print>: png file overlap_calo_024.png has been created\n",
      "Info in <TCanvas::Print>: png file diff_calo_024.png has been created\n"
     ]
    },
    {
     "data": {
      "image/png": "[encoded data removed]",
      "text/plain": [
       "<IPython.core.display.Image object>"
      ]
     },
     "metadata": {},
     "output_type": "display_data"
    }
   ],
   "source": [
    "for calo in range(1,25):\n",
    "    c = r.TCanvas(\"c\",\"c\",1200,600)\n",
    "    c.Divide(2)\n",
    "    for i in range(2):\n",
    "        c.cd(i+1)\n",
    "        energySpectra[calo-1][i].Draw()\n",
    "        r.gPad.SetLogy()\n",
    "    c.Draw()\n",
    "    c.Print(\"sideBySide_calo_\"+str(calo).zfill(3)+\".png\")\n",
    "    \n",
    "    c = r.TCanvas(\"c\",\"c\",1200,600)\n",
    "    energySpectra[calo-1][0].Draw()\n",
    "    energySpectra[calo-1][1].Draw(\"SAME\")\n",
    "    c.SetLogy()\n",
    "    c.Draw()\n",
    "    c.Print(\"overlap_calo_\"+str(calo).zfill(3)+\".png\")\n",
    "    \n",
    "    ediff = energySpectra[calo-1][0].Clone(\"ediff\")\n",
    "    ediff.Add(energySpectra[calo-1][1], -1)\n",
    "    ediff.Draw(\"hist\")\n",
    "    ediffInv = InvertTH1(ediff,\"\", 2,0).Clone()\n",
    "    ediffInv.Draw(\"hist SAME\")\n",
    "    c.Draw()\n",
    "    c.Print(\"diff_calo_\"+str(calo).zfill(3)+\".png\")"
   ]
  },
  {
   "cell_type": "raw",
   "metadata": {},
   "source": [
    "c = r.TCanvas(\"c\",\"c\",1200,600)\n",
    "energySpectra[calo-1][0].Draw()\n",
    "energySpectra[calo-1][1].Draw(\"SAME\")\n",
    "c.SetLogy()\n",
    "c.Draw()"
   ]
  },
  {
   "cell_type": "raw",
   "metadata": {},
   "source": [
    "ediff = energySpectra[calo-1][0].Clone(\"ediff\")\n",
    "ediff.Add(energySpectra[calo-1][1], -1)\n",
    "ediff.Draw(\"hist\")\n",
    "ediffInv = InvertTH1(ediff,\"\", 2,0).Clone()\n",
    "ediffInv.Draw(\"hist SAME\")\n",
    "c.Draw()"
   ]
  },
  {
   "cell_type": "markdown",
   "metadata": {},
   "source": [
    "---\n",
    "\n",
    "### Now lets look at the laser spectra"
   ]
  },
  {
   "cell_type": "code",
   "execution_count": 57,
   "metadata": {},
   "outputs": [
    {
     "data": {
      "image/png": "[encoded data removed]",
      "text/plain": [
       "<IPython.core.display.Image object>"
      ]
     },
     "metadata": {},
     "output_type": "display_data"
    }
   ],
   "source": [
    "c = r.TCanvas()\n",
    "t.Draw(\"energy:runNum\",\"energy > 40000 && caloNum == 8\",\"colz\")\n",
    "c.Draw()"
   ]
  },
  {
   "cell_type": "code",
   "execution_count": 58,
   "metadata": {},
   "outputs": [
    {
     "data": {
      "image/png": "[encoded data removed]",
      "text/plain": [
       "<IPython.core.display.Image object>"
      ]
     },
     "metadata": {},
     "output_type": "display_data"
    }
   ],
   "source": [
    "c = r.TCanvas()\n",
    "t.Draw(\"energy:runNum\",\"energy > 40000 && caloNum == 1\",\"colz\")\n",
    "c.Draw()"
   ]
  },
  {
   "cell_type": "code",
   "execution_count": 59,
   "metadata": {},
   "outputs": [
    {
     "data": {
      "image/png": "[encoded data removed]",
      "text/plain": [
       "<IPython.core.display.Image object>"
      ]
     },
     "metadata": {},
     "output_type": "display_data"
    }
   ],
   "source": [
    "c = r.TCanvas()\n",
    "t.Draw(\"energy:runNum\",\"energy > 40000 && caloNum == 17\",\"colz\")\n",
    "c.Draw()"
   ]
  },
  {
   "cell_type": "code",
   "execution_count": null,
   "metadata": {},
   "outputs": [],
   "source": []
  }
 ],
 "metadata": {
  "kernelspec": {
   "display_name": "Python 3",
   "language": "python",
   "name": "python3"
  },
  "language_info": {
   "codemirror_mode": {
    "name": "ipython",
    "version": 3
   },
   "file_extension": ".py",
   "mimetype": "text/x-python",
   "name": "python",
   "nbconvert_exporter": "python",
   "pygments_lexer": "ipython3",
   "version": "3.6.8"
  }
 },
 "nbformat": 4,
 "nbformat_minor": 2
}
