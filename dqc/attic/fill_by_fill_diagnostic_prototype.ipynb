{
 "cells": [
  {
   "cell_type": "code",
   "execution_count": 1,
   "metadata": {},
   "outputs": [
    {
     "name": "stdout",
     "output_type": "stream",
     "text": [
      "Not a jupyter notebook. Not enabling notebook functions.\n",
      "Welcome to JupyROOT 6.20/04\n",
      "For interactive plots, run: setint()\n",
      "To return to non-interactive plots (default state), run: noint()\n"
     ]
    }
   ],
   "source": [
    "from si import *"
   ]
  },
  {
   "cell_type": "code",
   "execution_count": 10,
   "metadata": {},
   "outputs": [
    {
     "name": "stdout",
     "output_type": "stream",
     "text": [
      "TFile**\t\t./data/dqc_files/gm2DQC_ana_33965894_26170.00305.root\t\n",
      " TFile*\t\t./data/dqc_files/gm2DQC_ana_33965894_26170.00305.root\t\n",
      "  KEY: TDirectoryFile\toffNearlineWithDQC;1\toffNearlineWithDQC (CaloOffNearlineHistograms) folder\n",
      "  KEY: TDirectoryFile\toffNearlineWithT0DQC;1\toffNearlineWithT0DQC (CaloOffNearlineHistograms) folder\n",
      "  KEY: TDirectoryFile\toffNearlineWithLaserDQC;1\toffNearlineWithLaserDQC (CaloOffNearlineHistograms) folder\n",
      "  KEY: TDirectoryFile\toffNearlineWithKickerDQC;1\toffNearlineWithKickerDQC (CaloOffNearlineHistograms) folder\n",
      "  KEY: TDirectoryFile\toffNearlineNoDQC;1\toffNearlineNoDQC (CaloOffNearlineHistograms) folder\n",
      "  KEY: TDirectoryFile\ttestCoincidenceFinder;1\ttestCoincidenceFinder (TestCoincidenceFinderLM) folder\n"
     ]
    }
   ],
   "source": [
    "filepath = \"./data/dqc_files/\"\n",
    "files = os.listdir(filepath)\n",
    "\n",
    "f = r.TFile(filepath+files[100])\n",
    "f.ls()"
   ]
  },
  {
   "cell_type": "code",
   "execution_count": 11,
   "metadata": {},
   "outputs": [
    {
     "name": "stdout",
     "output_type": "stream",
     "text": [
      "******************************************************************************\n",
      "*Tree    :timeTree  : Time Tree                                              *\n",
      "*Entries :      104 : Total =            7192 bytes  File  Size =       2667 *\n",
      "*        :          : Tree compression factor =   2.07                       *\n",
      "******************************************************************************\n",
      "*Br    0 :runNum    : runNum/i                                               *\n",
      "*Entries :      104 : Total  Size=        982 bytes  File Size  =        103 *\n",
      "*Baskets :        1 : Basket Size=      32000 bytes  Compression=   4.79     *\n",
      "*............................................................................*\n",
      "*Br    1 :subRunNum : subRunNum/i                                            *\n",
      "*Entries :      104 : Total  Size=        997 bytes  File Size  =        106 *\n",
      "*Baskets :        1 : Basket Size=      32000 bytes  Compression=   4.68     *\n",
      "*............................................................................*\n",
      "*Br    2 :eventNum  : eventNum/i                                             *\n",
      "*Entries :      104 : Total  Size=        992 bytes  File Size  =        286 *\n",
      "*Baskets :        1 : Basket Size=      32000 bytes  Compression=   1.73     *\n",
      "*............................................................................*\n",
      "*Br    3 :unixTimeRecv : unixTimeRecv/D                                      *\n",
      "*Entries :      104 : Total  Size=       1436 bytes  File Size  =        550 *\n",
      "*Baskets :        1 : Basket Size=      32000 bytes  Compression=   1.66     *\n",
      "*............................................................................*\n",
      "*Br    4 :unixTimeFE : unixTimeFE/D                                          *\n",
      "*Entries :      104 : Total  Size=       1426 bytes  File Size  =        553 *\n",
      "*Baskets :        1 : Basket Size=      32000 bytes  Compression=   1.65     *\n",
      "*............................................................................*\n",
      "*Br    5 :ctag      : ctag/i                                                 *\n",
      "*Entries :      104 : Total  Size=        972 bytes  File Size  =        236 *\n",
      "*Baskets :        1 : Basket Size=      32000 bytes  Compression=   2.08     *\n",
      "*............................................................................*\n"
     ]
    }
   ],
   "source": [
    "t = f.Get(\"offNearlineNoDQC/timeTree\")\n",
    "t.Print()"
   ]
  },
  {
   "cell_type": "code",
   "execution_count": 12,
   "metadata": {},
   "outputs": [
    {
     "data": {
      "image/png": "[encoded data removed]",
      "text/plain": [
       "<IPython.core.display.Image object>"
      ]
     },
     "metadata": {},
     "output_type": "display_data"
    }
   ],
   "source": [
    "c = r.TCanvas()\n",
    "t.Draw(\"ctag:eventNum\",\"\",\"colz\")\n",
    "c.Draw()"
   ]
  },
  {
   "cell_type": "markdown",
   "metadata": {},
   "source": [
    "### Use the offNearlineNoDQC as a baseline"
   ]
  },
  {
   "cell_type": "code",
   "execution_count": 13,
   "metadata": {},
   "outputs": [],
   "source": [
    "reference = \"offNearlineNoDQC\"\n",
    "comparisons = ['offNearlineWithT0DQC', 'offNearlineWithLaserDQC', 'offNearlineWithKickerDQC']"
   ]
  },
  {
   "cell_type": "code",
   "execution_count": null,
   "metadata": {},
   "outputs": [],
   "source": [
    "graphs = []\n"
   ]
  }
 ],
 "metadata": {
  "kernelspec": {
   "display_name": "Python 3",
   "language": "python",
   "name": "python3"
  },
  "language_info": {
   "codemirror_mode": {
    "name": "ipython",
    "version": 3
   },
   "file_extension": ".py",
   "mimetype": "text/x-python",
   "name": "python",
   "nbconvert_exporter": "python",
   "pygments_lexer": "ipython3",
   "version": "3.7.6"
  }
 },
 "nbformat": 4,
 "nbformat_minor": 4
}
