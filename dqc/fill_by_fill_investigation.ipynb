{
 "cells": [
  {
   "cell_type": "code",
   "execution_count": 2,
   "metadata": {},
   "outputs": [
    {
     "name": "stdout",
     "output_type": "stream",
     "text": [
      "Not a jupyter notebook. Not enabling notebook functions.\n",
      "Welcome to JupyROOT 6.20/04\n",
      "For interactive plots, run: setint()\n",
      "To return to non-interactive plots (default state), run: noint()\n"
     ]
    }
   ],
   "source": [
    "from si import *"
   ]
  },
  {
   "cell_type": "code",
   "execution_count": 3,
   "metadata": {},
   "outputs": [
    {
     "name": "stdout",
     "output_type": "stream",
     "text": [
      "['gm2DQC_ana_34110390_26147.00170.root', 'gm2DQC_ana_34110412_26166.00457.root', 'gm2DQC_ana_34110402_26181.00031.root', 'gm2DQC_ana_34110413_26229.00009.root', 'gm2DQC_ana_34110394_26150.00309.root', 'gm2DQC_ana_34110412_26131.00002.root', 'gm2DQC_ana_34110388_26101.00051.root', 'gm2DQC_ana_34110413_26136.00009.root', 'gm2DQC_ana_34110413_26249.00007.root', 'gm2DQC_ana_34110410_26100.00491.root', 'gm2DQC_ana_34110393_26081.00110.root', 'gm2DQC_ana_34110376_26178.00030.root', 'gm2DQC_ana_34110400_26142.00113.root', 'gm2DQC_ana_34110390_26170.00332.root', 'gm2DQC_ana_34110426_26220.00007.root', 'gm2DQC_ana_34110410_26030.00003.root', 'gm2DQC_ana_34110410_26159.00036.root', 'gm2DQC_ana_34110413_26147.00131.root', 'gm2DQC_ana_34110393_26179.00183.root', 'gm2DQC_ana_34110400_26150.00144.root', 'gm2DQC_ana_34110375_26136.00048.root', 'gm2DQC_ana_34110409_26134.00009.root', 'gm2DQC_ana_34110394_26136.00004.root', 'gm2DQC_ana_34110410_26126.00006.root', 'gm2DQC_ana_34110426_26147.00075.root', 'gm2DQC_ana_34110376_26201.00193.root', 'gm2DQC_ana_34110388_26126.00002.root', 'gm2DQC_ana_34110409_26159.00040.root', 'gm2DQC_ana_34110412_26198.00438.root', 'gm2DQC_ana_34110388_26036.00006.root', 'gm2DQC_ana_34110400_26159.00066.root', 'gm2DQC_ana_34110402_26142.00262.root', 'gm2DQC_ana_34110388_26033.00008.root', 'gm2DQC_ana_34110375_26185.00080.root', 'gm2DQC_ana_34110400_26167.00237.root', 'gm2DQC_ana_34110410_26033.00002.root', 'gm2DQC_ana_34110376_26150.00267.root', 'gm2DQC_ana_34110393_26181.00020.root', 'gm2DQC_ana_34110409_26185.00005.root', 'gm2DQC_ana_34110393_26153.00137.root', 'gm2DQC_ana_34110402_26090.00319.root', 'gm2DQC_ana_34110409_26225.00005.root', 'gm2DQC_ana_34110402_26025.00003.root', 'gm2DQC_ana_34110393_26210.00023.root', 'gm2DQC_ana_34110412_26208.00070.root', 'gm2DQC_ana_34110426_26033.00009.root', 'gm2DQC_ana_34110388_26129.00004.root', 'gm2DQC_ana_34110375_26134.00006.root', 'gm2DQC_ana_34110409_26133.00000.root', 'gm2DQC_ana_34110394_26136.00105.root', 'gm2DQC_ana_34110413_26231.00005.root', 'gm2DQC_ana_34110393_26173.00428.root', 'gm2DQC_ana_34110375_26227.00000.root', 'gm2DQC_ana_34110376_26136.00054.root', 'gm2DQC_ana_34110400_26223.00006.root', 'gm2DQC_ana_34110402_26101.00024.root', 'gm2DQC_ana_34110390_26167.00030.root', 'gm2DQC_ana_34110390_26251.00005.root', 'gm2DQC_ana_34110394_26136.00092.root', 'gm2DQC_ana_34110375_26132.00007.root', 'gm2DQC_ana_34110402_26136.00159.root', 'gm2DQC_ana_34110388_26147.00119.root', 'gm2DQC_ana_34110376_26185.00034.root', 'gm2DQC_ana_34110409_26100.00256.root', 'gm2DQC_ana_34110409_26037.00009.root', 'gm2DQC_ana_34110412_26170.00305.root', 'gm2DQC_ana_34110412_26247.00002.root', 'gm2DQC_ana_34110394_26124.00004.root', 'gm2DQC_ana_34110400_26185.00023.root', 'gm2DQC_ana_34110402_26091.00023.root', 'gm2DQC_ana_34110376_26259.00007.root', 'gm2DQC_ana_34110413_26100.00317.root', 'gm2DQC_ana_34110402_26142.00041.root', 'gm2DQC_ana_34110394_26033.00001.root', 'gm2DQC_ana_34110400_26147.00052.root', 'gm2DQC_ana_34110388_26156.00074.root', 'gm2DQC_ana_34110388_26203.00300.root', 'gm2DQC_ana_34110413_26128.00008.root', 'gm2DQC_ana_34110413_26097.00208.root', 'gm2DQC_ana_34110375_26091.00014.root', 'gm2DQC_ana_34110400_26127.00002.root', 'gm2DQC_ana_34110413_26101.00028.root', 'gm2DQC_ana_34110410_26144.00197.root', 'gm2DQC_ana_34110393_26153.00348.root', 'gm2DQC_ana_34110426_26032.00002.root', 'gm2DQC_ana_34110394_26208.00199.root', 'gm2DQC_ana_34110394_26192.00016.root', 'gm2DQC_ana_34110388_26258.00006.root', 'gm2DQC_ana_34110388_26242.00001.root', 'gm2DQC_ana_34110402_26133.00009.root', 'gm2DQC_ana_34110375_26136.00106.root', 'gm2DQC_ana_34110376_26128.00007.root', 'gm2DQC_ana_34110375_26201.00099.root', 'gm2DQC_ana_34110410_26230.00001.root', 'gm2DQC_ana_34110412_26128.00002.root', 'gm2DQC_ana_34110394_26208.00165.root', 'gm2DQC_ana_34110402_26230.00003.root', 'gm2DQC_ana_34110400_26136.00001.root', 'gm2DQC_ana_34110410_26131.00000.root', 'gm2DQC_ana_34110409_26226.00001.root', 'gm2DQC_ana_34110375_26125.00009.root', 'gm2DQC_ana_34110426_26130.00005.root', 'gm2DQC_ana_34110393_26129.00009.root', 'gm2DQC_ana_34110426_26210.00090.root', 'gm2DQC_ana_34110412_26208.00047.root', 'gm2DQC_ana_34110393_26144.00393.root', 'gm2DQC_ana_34110400_26178.00160.root', 'gm2DQC_ana_34110376_26131.00006.root', 'gm2DQC_ana_34110376_26090.00492.root', 'gm2DQC_ana_34110393_26150.00443.root', 'gm2DQC_ana_34110394_26185.00055.root', 'gm2DQC_ana_34110376_26147.00114.root', 'gm2DQC_ana_34110390_26259.00008.root', 'gm2DQC_ana_34110426_26153.00099.root', 'gm2DQC_ana_34110412_26136.00007.root', 'gm2DQC_ana_34110410_26181.00037.root', 'gm2DQC_ana_34110390_26127.00006.root', 'gm2DQC_ana_34110409_26036.00007.root', 'gm2DQC_ana_34110375_26220.00003.root', 'gm2DQC_ana_34110426_26185.00050.root']\n"
     ]
    }
   ],
   "source": [
    "filepath = \"./data/dqc_files_rerun/\"\n",
    "files = os.listdir(filepath)\n",
    "print(files)"
   ]
  },
  {
   "cell_type": "raw",
   "metadata": {},
   "source": [
    "subruns = []\n",
    "for file in files:\n",
    "    thissubrun = file.split(\"_\")[3].split(\".\")[:2]\n",
    "#     print(thissubrun)\n",
    "    subruns.append(thissubrun)\n",
    "print(subruns)"
   ]
  },
  {
   "cell_type": "code",
   "execution_count": null,
   "metadata": {},
   "outputs": [],
   "source": []
  },
  {
   "cell_type": "code",
   "execution_count": 4,
   "metadata": {},
   "outputs": [
    {
     "name": "stdout",
     "output_type": "stream",
     "text": [
      "******************************************************************************\n",
      "*Tree    :timeTree  : Time Tree                                              *\n",
      "*Entries :       41 : Total =            5176 bytes  File  Size =       2004 *\n",
      "*        :          : Tree compression factor =   1.52                       *\n",
      "******************************************************************************\n",
      "*Br    0 :runNum    : runNum/i                                               *\n",
      "*Entries :       41 : Total  Size=        730 bytes  File Size  =        101 *\n",
      "*Baskets :        1 : Basket Size=      32000 bytes  Compression=   2.39     *\n",
      "*............................................................................*\n",
      "*Br    1 :subRunNum : subRunNum/i                                            *\n",
      "*Entries :       41 : Total  Size=        745 bytes  File Size  =        104 *\n",
      "*Baskets :        1 : Basket Size=      32000 bytes  Compression=   2.35     *\n",
      "*............................................................................*\n",
      "*Br    2 :eventNum  : eventNum/i                                             *\n",
      "*Entries :       41 : Total  Size=        740 bytes  File Size  =        178 *\n",
      "*Baskets :        1 : Basket Size=      32000 bytes  Compression=   1.37     *\n",
      "*............................................................................*\n",
      "*Br    3 :unixTimeRecv : unixTimeRecv/D                                      *\n",
      "*Entries :       41 : Total  Size=        932 bytes  File Size  =        297 *\n",
      "*Baskets :        1 : Basket Size=      32000 bytes  Compression=   1.38     *\n",
      "*............................................................................*\n",
      "*Br    4 :unixTimeFE : unixTimeFE/D                                          *\n",
      "*Entries :       41 : Total  Size=        922 bytes  File Size  =        295 *\n",
      "*Baskets :        1 : Basket Size=      32000 bytes  Compression=   1.39     *\n",
      "*............................................................................*\n",
      "*Br    5 :ctag      : ctag/i                                                 *\n",
      "*Entries :       41 : Total  Size=        720 bytes  File Size  =        198 *\n",
      "*Baskets :        1 : Basket Size=      32000 bytes  Compression=   1.21     *\n",
      "*............................................................................*\n",
      "TFile**\t\t./data/dqc_files/gm2DQC_ana_34007816_26100.00408.root\t\n",
      " TFile*\t\t./data/dqc_files/gm2DQC_ana_34007816_26100.00408.root\t\n",
      "  TDirectoryFile*\t\toffNearlineWithDQC\toffNearlineWithDQC (CaloOffNearlineHistograms) folder\n",
      "   OBJ: TTree\ttimeTree\tTime Tree : 0 at: 0x5594ca5dfc30\n",
      "   KEY: TDirectoryFile\tcalo1;1\tcalo1\n",
      "   KEY: TDirectoryFile\tcalo2;1\tcalo2\n",
      "   KEY: TDirectoryFile\tcalo3;1\tcalo3\n",
      "   KEY: TDirectoryFile\tcalo4;1\tcalo4\n",
      "   KEY: TDirectoryFile\tcalo5;1\tcalo5\n",
      "   KEY: TDirectoryFile\tcalo6;1\tcalo6\n",
      "   KEY: TDirectoryFile\tcalo7;1\tcalo7\n",
      "   KEY: TDirectoryFile\tcalo8;1\tcalo8\n",
      "   KEY: TDirectoryFile\tcalo9;1\tcalo9\n",
      "   KEY: TDirectoryFile\tcalo10;1\tcalo10\n",
      "   KEY: TDirectoryFile\tcalo11;1\tcalo11\n",
      "   KEY: TDirectoryFile\tcalo12;1\tcalo12\n",
      "   KEY: TDirectoryFile\tcalo13;1\tcalo13\n",
      "   KEY: TDirectoryFile\tcalo14;1\tcalo14\n",
      "   KEY: TDirectoryFile\tcalo15;1\tcalo15\n",
      "   KEY: TDirectoryFile\tcalo16;1\tcalo16\n",
      "   KEY: TDirectoryFile\tcalo17;1\tcalo17\n",
      "   KEY: TDirectoryFile\tcalo18;1\tcalo18\n",
      "   KEY: TDirectoryFile\tcalo19;1\tcalo19\n",
      "   KEY: TDirectoryFile\tcalo20;1\tcalo20\n",
      "   KEY: TDirectoryFile\tcalo21;1\tcalo21\n",
      "   KEY: TDirectoryFile\tcalo22;1\tcalo22\n",
      "   KEY: TDirectoryFile\tcalo23;1\tcalo23\n",
      "   KEY: TDirectoryFile\tcalo24;1\tcalo24\n",
      "   KEY: TDirectoryFile\tcalo25;1\tcalo25\n",
      "   KEY: TDirectoryFile\tcalo26;1\tcalo26\n",
      "   KEY: TDirectoryFile\tcalo27;1\tcalo27\n",
      "   KEY: TTree\ttimeTree;1\tTime Tree\n",
      "   KEY: TH1D\tallCaloEnergies;1\tall energies\n",
      "   KEY: TH1D\tallCaloWiggle;1\tT Method, all calos\n",
      "   KEY: TH1D\tallCaloTimes;1\thit times, all calos\n",
      "   KEY: TH1D\tgpuCTag;1\tgpuCTag\n",
      "   KEY: TH1D\tnearlineCTag;1\tnearlineCTag\n",
      "   KEY: TH1D\tbunch;1\tBunch number\n",
      "   KEY: TH1D\tt0;1\tT0 integral\n",
      "   KEY: TH1D\tibms1xMean;1\tIBMS 1X mean, weighted by integral\n",
      "   KEY: TH1D\tibms1yMean;1\tIBMS 1Y mean, weighted by integral\n",
      "   KEY: TH1D\tibms2xMean;1\tIBMS 2X mean, weighted by integral\n",
      "   KEY: TH1D\tibms2yMean;1\tIBMS 2Y mean, weighted by integral\n",
      "   KEY: TH1D\tibms1xRMS;1\tIBMS 1X RMS, weighted by integral\n",
      "   KEY: TH1D\tibms1yRMS;1\tIBMS 1Y RMS, weighted by integral\n",
      "   KEY: TH1D\tibms2xRMS;1\tIBMS 2X RMS, weighted by integral\n",
      "   KEY: TH1D\tibms2yRMS;1\tIBMS 2Y RMS, weighted by integral\n",
      "   KEY: TH1D\tibmsTotalIntegral;1\tIBMS total integral\n",
      "  KEY: TDirectoryFile\toffNearlineWithDQC;1\toffNearlineWithDQC (CaloOffNearlineHistograms) folder\n",
      "  KEY: TDirectoryFile\toffNearlineWithT0DQC;1\toffNearlineWithT0DQC (CaloOffNearlineHistograms) folder\n",
      "  KEY: TDirectoryFile\toffNearlineWithLaserDQC;1\toffNearlineWithLaserDQC (CaloOffNearlineHistograms) folder\n",
      "  KEY: TDirectoryFile\toffNearlineWithKickerDQC;1\toffNearlineWithKickerDQC (CaloOffNearlineHistograms) folder\n",
      "  KEY: TDirectoryFile\toffNearlineNoDQC;1\toffNearlineNoDQC (CaloOffNearlineHistograms) folder\n",
      "  KEY: TDirectoryFile\ttestCoincidenceFinder;1\ttestCoincidenceFinder (TestCoincidenceFinderLM) folder\n"
     ]
    }
   ],
   "source": [
    "f = r.TFile(\"./data/dqc_files/gm2DQC_ana_34007816_26100.00408.root\")\n",
    "f.cd(\"offNearlineWithDQC\")\n",
    "t = f.Get(\"offNearlineWithDQC/timeTree\")\n",
    "t.Print()\n",
    "f.ls()"
   ]
  },
  {
   "cell_type": "code",
   "execution_count": 10,
   "metadata": {},
   "outputs": [],
   "source": [
    "dirnames = [\n",
    "    'offNearlineNoDQC',\n",
    "    'offNearlineWithDQC',\n",
    "    'offNearlineWithT0DQC',\n",
    "    'offNearlineWithLaserDQC',\n",
    "    'offNearlineWithKickerDQC',\n",
    "]\n",
    "\n",
    "toplot = 'allCaloWiggle'"
   ]
  },
  {
   "cell_type": "raw",
   "metadata": {},
   "source": [
    "c = r.TCanvas()\n",
    "\n",
    "leg = r.TLegend(0.5,0.7,0.9,0.9)\n",
    "\n",
    "for i,name in enumerate(dirnames):\n",
    "    hi = f.Get(name+\"/\"+toplot).Clone()\n",
    "    hi.SetLineColor(i+1)\n",
    "    \n",
    "    if(i>0):\n",
    "        hi.DrawCopy(\"hist same\")\n",
    "    else:\n",
    "        hi.DrawCopy(\"hist\")\n",
    "    leg.AddEntry(hi,name,\"l\")\n",
    "    \n",
    "    \n",
    "c.SetLogy()\n",
    "leg.Draw()\n",
    "c.Draw()"
   ]
  },
  {
   "cell_type": "code",
   "execution_count": 11,
   "metadata": {},
   "outputs": [
    {
     "name": "stdout",
     "output_type": "stream",
     "text": [
      "[<ROOT.TH1D object (\"offNearlineNoDQC\") at 0x5594ca480680>, <ROOT.TH1D object (\"offNearlineWithDQC\") at 0x5594cb1ca360>, <ROOT.TH1D object (\"offNearlineWithT0DQC\") at 0x5594cb1aa6c0>, <ROOT.TH1D object (\"offNearlineWithLaserDQC\") at 0x5594cb008800>, <ROOT.TH1D object (\"offNearlineWithKickerDQC\") at 0x5594cab25330>]\n"
     ]
    }
   ],
   "source": [
    "hists = []\n",
    "thesenames = []\n",
    "for i, file in enumerate(files):\n",
    "    if(\".root\" in file and \".root.\" not in file):\n",
    "        try:\n",
    "            fi = r.TFile(filepath+file)\n",
    "        except:\n",
    "            print(\"Unable to open file\")\n",
    "            continue\n",
    "        for j,name in enumerate(dirnames):\n",
    "            hi = fi.Get(name+\"/\"+toplot).Clone()\n",
    "            #print(hi)\n",
    "            hi.SetLineColor(i+1)\n",
    "            hi.SetDirectory(0)\n",
    "            \n",
    "            try:\n",
    "                if(len(hists) < len(dirnames)):\n",
    "                    hists.append(hi.Clone(name))\n",
    "                    hists[j].SetDirectory(0)\n",
    "                    thesenames.append(name)\n",
    "                else:\n",
    "                    hists[j].Add(hi)\n",
    "            except:\n",
    "                print(\"Error in:\", file)\n",
    "print(hists)"
   ]
  },
  {
   "cell_type": "code",
   "execution_count": 12,
   "metadata": {},
   "outputs": [
    {
     "name": "stdout",
     "output_type": "stream",
     "text": [
      "['offNearlineNoDQC', 'offNearlineWithDQC', 'offNearlineWithT0DQC', 'offNearlineWithLaserDQC', 'offNearlineWithKickerDQC']\n",
      "['offNearlineNoDQC', 'offNearlineWithDQC', 'offNearlineWithT0DQC', 'offNearlineWithLaserDQC', 'offNearlineWithKickerDQC']\n"
     ]
    }
   ],
   "source": [
    "print(thesenames)\n",
    "print(dirnames)"
   ]
  },
  {
   "cell_type": "code",
   "execution_count": 22,
   "metadata": {},
   "outputs": [
    {
     "name": "stdout",
     "output_type": "stream",
     "text": [
      "name      \t\t nctag           nctag/NoDQC\n",
      "offNearlineNoDQC \t 2109289.0 \t 1.0\n",
      "offNearlineWithDQC \t 1415058.0 \t 0.6708696627157302\n",
      "offNearlineWithT0DQC \t 2099568.0 \t 0.9953913380290704\n",
      "offNearlineWithLaserDQC \t 2109288.0 \t 0.9999995259065969\n",
      "offNearlineWithKickerDQC \t 1415962.0 \t 0.6712982431520763\n"
     ]
    },
    {
     "name": "stderr",
     "output_type": "stream",
     "text": [
      "Warning in <TCanvas::Constructor>: Deleting canvas with same name: c\n"
     ]
    },
    {
     "data": {
      "image/png": "[encoded data removed]",
      "text/plain": [
       "<IPython.core.display.Image object>"
      ]
     },
     "metadata": {},
     "output_type": "display_data"
    }
   ],
   "source": [
    "c = r.TCanvas(\"c\",\"c\",1200,600)\n",
    "\n",
    "leg = r.TLegend(0.5,0.7,0.9,0.9)\n",
    "\n",
    "refctag = 0\n",
    "print(\"name      \\t\\t nctag           nctag/NoDQC\")\n",
    "\n",
    "for i,name in enumerate(dirnames):\n",
    "    hi = hists[i]\n",
    "    if(i < 4):\n",
    "        hi.SetLineColor(i+1)\n",
    "    else:\n",
    "        hi.SetLineColor(i+2)\n",
    "    hi.GetXaxis().SetRangeUser(0,70*1000/1.25)\n",
    "    hi.GetYaxis().SetRangeUser(100,100000)\n",
    "    thisctag = hi.Integral(hi.FindBin(30), -1)\n",
    "    if(i < 1):\n",
    "        refctag = hi.Integral(hi.FindBin(30), -1)\n",
    "    print(name, \"\\t\", thisctag, \"\\t\", thisctag/refctag )\n",
    "    \n",
    "    if(i>0):\n",
    "        hi.DrawCopy(\"hist same\")\n",
    "    else:\n",
    "        hi.DrawCopy(\"hist\")\n",
    "    leg.AddEntry(hi,name,\"l\")\n",
    "    \n",
    "    \n",
    "c.SetLogy()\n",
    "leg.Draw()\n",
    "c.SetGrid()\n",
    "c.Draw()"
   ]
  },
  {
   "cell_type": "code",
   "execution_count": 14,
   "metadata": {},
   "outputs": [
    {
     "data": {
      "text/plain": [
       "0.6708696627157302"
      ]
     },
     "execution_count": 14,
     "metadata": {},
     "output_type": "execute_result"
    }
   ],
   "source": [
    "1415058.0/2109289.0"
   ]
  },
  {
   "cell_type": "raw",
   "metadata": {},
   "source": [
    "c = r.TCanvas(\"c\",\"c\",1200,600)\n",
    "c.Divide(3,2)\n",
    "leg = r.TLegend(0.5,0.7,0.9,0.9)\n",
    "\n",
    "for i,name in enumerate(dirnames):\n",
    "    c.cd(i+1)\n",
    "    \n",
    "    hists[i].SetLineColor(i+1)\n",
    "    hists[i].GetXaxis().SetRangeUser(0,70*1000/1.25)\n",
    "#     hists[i].Divide(hists[i], hists[0])\n",
    "    hists[i].SetTitle(name+\" / AllDQC\")\n",
    "    hists[i].GetXaxis().SetRangeUser(1,10**6)\n",
    "    \n",
    "    hists[i].Draw(\"hist\")    \n",
    "    \n",
    "    r.gPad.SetLogy()\n",
    "    r.gPad.SetGrid()\n",
    "\n",
    "c.SetGrid()\n",
    "c.Draw()"
   ]
  },
  {
   "cell_type": "code",
   "execution_count": null,
   "metadata": {},
   "outputs": [],
   "source": []
  },
  {
   "cell_type": "markdown",
   "metadata": {},
   "source": [
    "---\n",
    "\n",
    "### TChain files"
   ]
  },
  {
   "cell_type": "code",
   "execution_count": 8,
   "metadata": {},
   "outputs": [
    {
     "name": "stdout",
     "output_type": "stream",
     "text": [
      "offNearlineWithT0DQC Name: offNearlineWithT0DQC/timeTree Title:  120\n",
      "offNearlineWithLaserDQC Name: offNearlineWithLaserDQC/timeTree Title:  120\n",
      "offNearlineWithKickerDQC Name: offNearlineWithKickerDQC/timeTree Title:  120\n"
     ]
    },
    {
     "name": "stderr",
     "output_type": "stream",
     "text": [
      "Warning in <TFile::Append>: Replacing existing TH1: h (Potential memory leak).\n",
      "Warning in <TFile::Append>: Replacing existing TH1: h (Potential memory leak).\n"
     ]
    }
   ],
   "source": [
    "hists2 = []\n",
    "for i, name in enumerate(dirnames):\n",
    "    t = r.TChain(name+\"/timeTree\")\n",
    "    n = t.Add(filepath+\"*.root\")\n",
    "    print(name,t,n)\n",
    "    h = r.TH1D(\"h\",name+\"; event number; N\",500,0,500)\n",
    "    t.Draw(\"eventNum>>h\",\"\",\"goff\")\n",
    "    hists2.append(h.Clone(\"name\"))"
   ]
  },
  {
   "cell_type": "code",
   "execution_count": 9,
   "metadata": {},
   "outputs": [
    {
     "name": "stderr",
     "output_type": "stream",
     "text": [
      "Warning in <TCanvas::Constructor>: Deleting canvas with same name: c\n"
     ]
    },
    {
     "data": {
      "image/png": "[encoded data removed]",
      "text/plain": [
       "<IPython.core.display.Image object>"
      ]
     },
     "metadata": {},
     "output_type": "display_data"
    }
   ],
   "source": [
    "c = r.TCanvas(\"c\",\"c\",1200,600)\n",
    "\n",
    "leg = r.TLegend(0.5,0.7,0.9,0.9)\n",
    "\n",
    "for i,name in enumerate(dirnames):\n",
    "    hi = hists2[i]\n",
    "    if(i < 4):\n",
    "        hi.SetLineColor(i+1)\n",
    "    else:\n",
    "        hi.SetLineColor(i+2)\n",
    "    hi.GetXaxis().SetRangeUser(0,70*1000/1.25)\n",
    "    hi.GetYaxis().SetRangeUser(0.1,100000)\n",
    "    \n",
    "    if(i>0):\n",
    "        hi.DrawCopy(\"hist same\")\n",
    "    else:\n",
    "        hi.DrawCopy(\"hist\")\n",
    "    leg.AddEntry(hi,name,\"l\")\n",
    "    \n",
    "    \n",
    "c.SetLogy()\n",
    "leg.Draw()\n",
    "c.SetGrid()\n",
    "c.Draw()"
   ]
  },
  {
   "cell_type": "code",
   "execution_count": 10,
   "metadata": {},
   "outputs": [
    {
     "name": "stdout",
     "output_type": "stream",
     "text": [
      "offNearlineWithT0DQC Name: offNearlineWithT0DQC/timeTree Title:  120\n",
      "offNearlineWithLaserDQC Name: offNearlineWithLaserDQC/timeTree Title:  120\n",
      "offNearlineWithKickerDQC Name: offNearlineWithKickerDQC/timeTree Title:  120\n"
     ]
    },
    {
     "data": {
      "image/png": "[encoded data removed]",
      "text/plain": [
       "<IPython.core.display.Image object>"
      ]
     },
     "metadata": {},
     "output_type": "display_data"
    }
   ],
   "source": [
    "for i, name in enumerate(dirnames):\n",
    "    c = r.TCanvas()\n",
    "    t = r.TChain(name+\"/timeTree\")\n",
    "    n = t.Add(filepath+\"*.root\")\n",
    "    print(name,t,n)\n",
    "    t.Draw(\"eventNum:runNum\",\"\",\"colz\")\n",
    "    c.Draw()"
   ]
  },
  {
   "cell_type": "code",
   "execution_count": null,
   "metadata": {},
   "outputs": [],
   "source": []
  },
  {
   "cell_type": "code",
   "execution_count": null,
   "metadata": {},
   "outputs": [],
   "source": []
  },
  {
   "cell_type": "code",
   "execution_count": null,
   "metadata": {},
   "outputs": [],
   "source": []
  },
  {
   "cell_type": "code",
   "execution_count": null,
   "metadata": {},
   "outputs": [],
   "source": []
  },
  {
   "cell_type": "code",
   "execution_count": null,
   "metadata": {},
   "outputs": [],
   "source": []
  },
  {
   "cell_type": "code",
   "execution_count": null,
   "metadata": {},
   "outputs": [],
   "source": []
  },
  {
   "cell_type": "code",
   "execution_count": null,
   "metadata": {},
   "outputs": [],
   "source": []
  },
  {
   "cell_type": "code",
   "execution_count": null,
   "metadata": {},
   "outputs": [],
   "source": []
  },
  {
   "cell_type": "code",
   "execution_count": null,
   "metadata": {},
   "outputs": [],
   "source": []
  },
  {
   "cell_type": "code",
   "execution_count": null,
   "metadata": {},
   "outputs": [],
   "source": []
  },
  {
   "cell_type": "code",
   "execution_count": null,
   "metadata": {},
   "outputs": [],
   "source": []
  },
  {
   "cell_type": "code",
   "execution_count": null,
   "metadata": {},
   "outputs": [],
   "source": []
  },
  {
   "cell_type": "code",
   "execution_count": null,
   "metadata": {},
   "outputs": [],
   "source": []
  },
  {
   "cell_type": "code",
   "execution_count": null,
   "metadata": {},
   "outputs": [],
   "source": []
  },
  {
   "cell_type": "code",
   "execution_count": null,
   "metadata": {},
   "outputs": [],
   "source": []
  },
  {
   "cell_type": "code",
   "execution_count": null,
   "metadata": {},
   "outputs": [],
   "source": []
  },
  {
   "cell_type": "code",
   "execution_count": null,
   "metadata": {},
   "outputs": [],
   "source": []
  },
  {
   "cell_type": "code",
   "execution_count": null,
   "metadata": {},
   "outputs": [],
   "source": []
  }
 ],
 "metadata": {
  "kernelspec": {
   "display_name": "Python 3",
   "language": "python",
   "name": "python3"
  },
  "language_info": {
   "codemirror_mode": {
    "name": "ipython",
    "version": 3
   },
   "file_extension": ".py",
   "mimetype": "text/x-python",
   "name": "python",
   "nbconvert_exporter": "python",
   "pygments_lexer": "ipython3",
   "version": "3.7.6"
  }
 },
 "nbformat": 4,
 "nbformat_minor": 4
}
