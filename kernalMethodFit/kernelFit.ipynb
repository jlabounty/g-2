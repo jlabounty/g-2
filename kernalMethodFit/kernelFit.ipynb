{
 "cells": [
  {
   "cell_type": "code",
   "execution_count": 1,
   "metadata": {},
   "outputs": [
    {
     "name": "stdout",
     "output_type": "stream",
     "text": [
      "Welcome to JupyROOT 6.12/06\n",
      "For interactive plots, run: setint()\n",
      "To return to non-interactive plots (default state), run: noint()\n"
     ]
    }
   ],
   "source": [
    "from standardInclude import *"
   ]
  },
  {
   "cell_type": "markdown",
   "metadata": {},
   "source": [
    "# Implementation of the Chi-Square function detailed in DocDB:21258\n",
    "\n",
    "This function takes into account the bin-to-bin corellation of the histogram and prevents the need for random seeds. Once the chi-square function is definned, the fit proceeds largely as normal. Here we will preform a sanity check, fitting a histogram with the new chi-square and the old one.\n",
    "\n",
    "---\n",
    "\n",
    "First we need to take an existing histogram, find the corellations, and create the covariance matrix"
   ]
  },
  {
   "cell_type": "code",
   "execution_count": 2,
   "metadata": {},
   "outputs": [],
   "source": [
    "f = r.TFile(\"/home/jlab/g-2/slidingScaleFits/data/EndGame4042BSeeds0.root\")\n",
    "#f.ls()\n",
    "\n",
    "h3 = f.Get(\"clustersAndCoincidencesRand/clusters\").Clone()"
   ]
  },
  {
   "cell_type": "raw",
   "metadata": {},
   "source": [
    "c = r.TCanvas()\n",
    "h3.Draw(\"lego2z\")\n",
    "c.Draw()"
   ]
  },
  {
   "cell_type": "code",
   "execution_count": 3,
   "metadata": {},
   "outputs": [],
   "source": [
    "h3.GetYaxis().SetRangeUser(1700,3200)\n",
    "h = h3.Project3D(\"x\").Clone(\"h\")\n",
    "h.SetDirectory(0)"
   ]
  },
  {
   "cell_type": "code",
   "execution_count": 4,
   "metadata": {},
   "outputs": [
    {
     "data": {
      "image/png": "[encoded data removed]",
      "text/plain": [
       "<IPython.core.display.Image object>"
      ]
     },
     "metadata": {},
     "output_type": "display_data"
    }
   ],
   "source": [
    "c = r.TCanvas()\n",
    "h.Draw()\n",
    "#h.GetXaxis().SetRangeUser(30,150)\n",
    "c.SetLogy()\n",
    "c.Draw()"
   ]
  },
  {
   "cell_type": "code",
   "execution_count": 5,
   "metadata": {},
   "outputs": [
    {
     "name": "stdout",
     "output_type": "stream",
     "text": [
      "dict_keys(['dimension', 'dataType', 'name', 'title', 'ax0', 'binContents'])\n"
     ]
    }
   ],
   "source": [
    "print(THnToPython(h).keys())"
   ]
  },
  {
   "cell_type": "code",
   "execution_count": 6,
   "metadata": {},
   "outputs": [
    {
     "data": {
      "text/plain": [
       "ROOT.TH1D"
      ]
     },
     "execution_count": 6,
     "metadata": {},
     "output_type": "execute_result"
    }
   ],
   "source": [
    "type(h)"
   ]
  },
  {
   "cell_type": "code",
   "execution_count": 7,
   "metadata": {},
   "outputs": [
    {
     "data": {
      "text/plain": [
       "dict"
      ]
     },
     "execution_count": 7,
     "metadata": {},
     "output_type": "execute_result"
    }
   ],
   "source": [
    "h2 = THnToPython(h)\n",
    "type(h2)"
   ]
  },
  {
   "cell_type": "code",
   "execution_count": 22,
   "metadata": {},
   "outputs": [],
   "source": [
    "def generateKernalCorellationMatrix( h ):\n",
    "    '''\n",
    "        Takes as input a TH1 histogram (or python dict equivalent) and returns a numpy array of the corellation matrix between bins\n",
    "    '''\n",
    "    if(\"ROOT.TH1\" in str(type(h))):\n",
    "        histDict = THnToPython(h)\n",
    "    elif(\"dict\" in str(type(h))):\n",
    "        histDict = h\n",
    "    else:\n",
    "        raise ValueError(\"ERROR: Corellation matrix input type not supported\")\n",
    "        \n",
    "    #print(histDict.keys())\n",
    "    #print(histDict['ax0'].keys())\n",
    "    #print(histDict['ax0']['bins'])\n",
    "    \n",
    "    bins=histDict['ax0']['bins']\n",
    "    corrMatrix = np.zeros((bins,bins))\n",
    "    \n",
    "    #print(histDict['binContents'][10])\n",
    "    \n",
    "    for i in range(bins):\n",
    "        try:\n",
    "            #print(histDict['binContents'][i]['content'])\n",
    "            corrMatrix[i][i+1] = histDict['binContents'][i]['content']\n",
    "        except:\n",
    "            continue\n",
    "    \n",
    "    return corrMatrix"
   ]
  },
  {
   "cell_type": "code",
   "execution_count": 23,
   "metadata": {},
   "outputs": [],
   "source": [
    "ding = generateKernalCorellationMatrix(h)"
   ]
  },
  {
   "cell_type": "code",
   "execution_count": 35,
   "metadata": {},
   "outputs": [
    {
     "data": {
      "image/png": "[encoded data removed]",
      "text/plain": [
       "<Figure size 576x432 with 2 Axes>"
      ]
     },
     "metadata": {
      "needs_background": "light"
     },
     "output_type": "display_data"
    }
   ],
   "source": [
    "fig,ax = plt.subplots(figsize=(8,6))\n",
    "plt.imshow(ding, norm=matplotlib.colors.LogNorm())\n",
    "plt.colorbar()\n",
    "plt.ylim(0,100)\n",
    "plt.xlim(0,100)\n",
    "plt.tight_layout()\n",
    "plt.grid()\n",
    "plt.show()"
   ]
  },
  {
   "cell_type": "code",
   "execution_count": null,
   "metadata": {},
   "outputs": [],
   "source": []
  }
 ],
 "metadata": {
  "kernelspec": {
   "display_name": "Python 3",
   "language": "python",
   "name": "python3"
  },
  "language_info": {
   "codemirror_mode": {
    "name": "ipython",
    "version": 3
   },
   "file_extension": ".py",
   "mimetype": "text/x-python",
   "name": "python",
   "nbconvert_exporter": "python",
   "pygments_lexer": "ipython3",
   "version": "3.6.8"
  }
 },
 "nbformat": 4,
 "nbformat_minor": 2
}
