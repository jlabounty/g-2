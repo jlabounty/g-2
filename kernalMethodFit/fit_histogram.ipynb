{
 "cells": [
  {
   "cell_type": "code",
   "execution_count": 45,
   "metadata": {},
   "outputs": [],
   "source": [
    "from si import *"
   ]
  },
  {
   "cell_type": "code",
   "execution_count": 46,
   "metadata": {},
   "outputs": [
    {
     "data": {
      "text/plain": [
       "True"
      ]
     },
     "execution_count": 46,
     "metadata": {},
     "output_type": "execute_result"
    }
   ],
   "source": [
    "f = r.TFile(\"./data/gm2offline_ana.root\")\n",
    "f.cd(\"clustersAndCoincidences\")\n",
    "#f.ls()"
   ]
  },
  {
   "cell_type": "code",
   "execution_count": 47,
   "metadata": {},
   "outputs": [],
   "source": [
    "hist = f.Get(\"clustersAndCoincidences/clusters_kernel\")#.Clone(\"hist\")"
   ]
  },
  {
   "cell_type": "code",
   "execution_count": 48,
   "metadata": {},
   "outputs": [],
   "source": [
    "cov = f.Get(\"clustersAndCoincidences/covariance\")"
   ]
  },
  {
   "cell_type": "code",
   "execution_count": 65,
   "metadata": {},
   "outputs": [
    {
     "name": "stdout",
     "output_type": "stream",
     "text": [
      "Name: covariance_proj_1_0 Title: covariance matrix for the kernel method projection  time bin 2 time bin 1 NbinsX: 4692\n",
      "<class 'ROOT.TH2D'>\n"
     ]
    },
    {
     "name": "stderr",
     "output_type": "stream",
     "text": [
      "Warning in <TDirectoryFile::Append>: Replacing existing TH1: covariance_proj_1_0 (Potential memory leak).\n"
     ]
    }
   ],
   "source": [
    "#c = r.TCanvas()\n",
    "ding = cov.Projection(0,1)#.Clone()\n",
    "#ding.Rebin2D(6,6)\n",
    "print(ding)\n",
    "print(type(ding))\n",
    "#ding.Draw(\"colz\")\n",
    "#c.SetLogy()\n",
    "#c.Draw()"
   ]
  },
  {
   "cell_type": "code",
   "execution_count": 67,
   "metadata": {},
   "outputs": [
    {
     "name": "stdout",
     "output_type": "stream",
     "text": [
      "0\n"
     ]
    },
    {
     "ename": "IndexError",
     "evalue": "row index (4692) out of bounds",
     "output_type": "error",
     "traceback": [
      "\u001b[0;31m---------------------------------------------------------------------------\u001b[0m",
      "\u001b[0;31mIndexError\u001b[0m                                Traceback (most recent call last)",
      "\u001b[0;32m<timed exec>\u001b[0m in \u001b[0;36m<module>\u001b[0;34m\u001b[0m\n",
      "\u001b[0;32m~/miniconda3/lib/python3.7/site-packages/scipy/sparse/lil.py\u001b[0m in \u001b[0;36m__setitem__\u001b[0;34m(self, key, x)\u001b[0m\n\u001b[1;32m    332\u001b[0m             \u001b[0;32mif\u001b[0m \u001b[0mx\u001b[0m\u001b[0;34m.\u001b[0m\u001b[0msize\u001b[0m \u001b[0;34m>\u001b[0m \u001b[0;36m1\u001b[0m\u001b[0;34m:\u001b[0m\u001b[0;34m\u001b[0m\u001b[0;34m\u001b[0m\u001b[0m\n\u001b[1;32m    333\u001b[0m                 \u001b[0;32mraise\u001b[0m \u001b[0mValueError\u001b[0m\u001b[0;34m(\u001b[0m\u001b[0;34m\"Trying to assign a sequence to an item\"\u001b[0m\u001b[0;34m)\u001b[0m\u001b[0;34m\u001b[0m\u001b[0;34m\u001b[0m\u001b[0m\n\u001b[0;32m--> 334\u001b[0;31m             \u001b[0;32mreturn\u001b[0m \u001b[0mself\u001b[0m\u001b[0;34m.\u001b[0m\u001b[0m_set_intXint\u001b[0m\u001b[0;34m(\u001b[0m\u001b[0mkey\u001b[0m\u001b[0;34m[\u001b[0m\u001b[0;36m0\u001b[0m\u001b[0;34m]\u001b[0m\u001b[0;34m,\u001b[0m \u001b[0mkey\u001b[0m\u001b[0;34m[\u001b[0m\u001b[0;36m1\u001b[0m\u001b[0;34m]\u001b[0m\u001b[0;34m,\u001b[0m \u001b[0mx\u001b[0m\u001b[0;34m)\u001b[0m\u001b[0;34m\u001b[0m\u001b[0;34m\u001b[0m\u001b[0m\n\u001b[0m\u001b[1;32m    335\u001b[0m         \u001b[0;31m# Everything else takes the normal path.\u001b[0m\u001b[0;34m\u001b[0m\u001b[0;34m\u001b[0m\u001b[0;34m\u001b[0m\u001b[0m\n\u001b[1;32m    336\u001b[0m         \u001b[0mIndexMixin\u001b[0m\u001b[0;34m.\u001b[0m\u001b[0m__setitem__\u001b[0m\u001b[0;34m(\u001b[0m\u001b[0mself\u001b[0m\u001b[0;34m,\u001b[0m \u001b[0mkey\u001b[0m\u001b[0;34m,\u001b[0m \u001b[0mx\u001b[0m\u001b[0;34m)\u001b[0m\u001b[0;34m\u001b[0m\u001b[0;34m\u001b[0m\u001b[0m\n",
      "\u001b[0;32m~/miniconda3/lib/python3.7/site-packages/scipy/sparse/lil.py\u001b[0m in \u001b[0;36m_set_intXint\u001b[0;34m(self, row, col, x)\u001b[0m\n\u001b[1;32m    302\u001b[0m     \u001b[0;32mdef\u001b[0m \u001b[0m_set_intXint\u001b[0m\u001b[0;34m(\u001b[0m\u001b[0mself\u001b[0m\u001b[0;34m,\u001b[0m \u001b[0mrow\u001b[0m\u001b[0;34m,\u001b[0m \u001b[0mcol\u001b[0m\u001b[0;34m,\u001b[0m \u001b[0mx\u001b[0m\u001b[0;34m)\u001b[0m\u001b[0;34m:\u001b[0m\u001b[0;34m\u001b[0m\u001b[0;34m\u001b[0m\u001b[0m\n\u001b[1;32m    303\u001b[0m         _csparsetools.lil_insert(self.shape[0], self.shape[1], self.rows,\n\u001b[0;32m--> 304\u001b[0;31m                                  self.data, row, col, x)\n\u001b[0m\u001b[1;32m    305\u001b[0m \u001b[0;34m\u001b[0m\u001b[0m\n\u001b[1;32m    306\u001b[0m     \u001b[0;32mdef\u001b[0m \u001b[0m_set_arrayXarray\u001b[0m\u001b[0;34m(\u001b[0m\u001b[0mself\u001b[0m\u001b[0;34m,\u001b[0m \u001b[0mrow\u001b[0m\u001b[0;34m,\u001b[0m \u001b[0mcol\u001b[0m\u001b[0;34m,\u001b[0m \u001b[0mx\u001b[0m\u001b[0;34m)\u001b[0m\u001b[0;34m:\u001b[0m\u001b[0;34m\u001b[0m\u001b[0;34m\u001b[0m\u001b[0m\n",
      "\u001b[0;32m_csparsetools.pyx\u001b[0m in \u001b[0;36mscipy.sparse._csparsetools.lil_insert\u001b[0;34m()\u001b[0m\n",
      "\u001b[0;32m_csparsetools.pyx\u001b[0m in \u001b[0;36mscipy.sparse._csparsetools.lil_insert\u001b[0;34m()\u001b[0m\n",
      "\u001b[0;31mIndexError\u001b[0m: row index (4692) out of bounds"
     ]
    }
   ],
   "source": [
    "%%time\n",
    "import scipy.sparse as sparse\n",
    "\n",
    "#array = ding.Clone(\"array\")\n",
    "#array.Reset()\n",
    "array = sparse.lil_matrix((ding.GetNbinsX(), ding.GetNbinsY()))\n",
    "print(array.size)\n",
    "#array = np.zeros((ding.GetNbinsX(), ding.GetNbinsY()), dtype=int)\n",
    "for i in range(1,ding.GetNbinsX()+1):\n",
    "    for j in range(i-10,i+10):\n",
    "        if (i == j-10000 or j < 1):\n",
    "            continue\n",
    "        content = ding.GetBinContent(i,j)\n",
    "        reverse_content = ding.GetBinContent(j,i)\n",
    "        if content > 0:\n",
    "            array[i,j] = content\n",
    "            #array.SetBinContent(i,j,content)\n",
    "#             if(content != reverse_content and reverse_content > 0):\n",
    "#                 print(i, j, content, reverse_content)"
   ]
  },
  {
   "cell_type": "code",
   "execution_count": 75,
   "metadata": {},
   "outputs": [
    {
     "name": "stdout",
     "output_type": "stream",
     "text": [
      "CPU times: user 53.6 ms, sys: 256 µs, total: 53.8 ms\n",
      "Wall time: 50.6 ms\n"
     ]
    }
   ],
   "source": [
    "%%time\n",
    "import scipy.sparse as sparse\n",
    "\n",
    "#array = ding.Clone(\"array\")\n",
    "#array.Reset()\n",
    "array = sparse.lil_matrix((ding.GetNbinsX(), ding.GetNbinsY()))\n",
    "#array = np.zeros((ding.GetNbinsX(), ding.GetNbinsY()), dtype=int)\n",
    "\n",
    "for i in range(0,ding.GetNbinsX()-1):\n",
    "    content = ding.GetBinContent(i+1,i+1)\n",
    "    array[i,i] = content\n",
    "    array[i,i+1] = content/6.\n",
    "    array[i,i-1] = content/6."
   ]
  },
  {
   "cell_type": "raw",
   "metadata": {},
   "source": [
    "c  = r.TCanvas()\n",
    "array.Draw(\"colz\")\n",
    "c.Draw()"
   ]
  },
  {
   "cell_type": "raw",
   "metadata": {},
   "source": [
    "scipy.linalg.inv(array.todense())"
   ]
  },
  {
   "cell_type": "code",
   "execution_count": 76,
   "metadata": {},
   "outputs": [
    {
     "data": {
      "text/plain": [
       "matrix([[570.        ,  95.        ,   0.        ,   0.        ,\n",
       "           0.        ,   0.        ,   0.        ,   0.        ,\n",
       "           0.        ,   0.        ],\n",
       "        [ 98.        , 588.        ,  98.        ,   0.        ,\n",
       "           0.        ,   0.        ,   0.        ,   0.        ,\n",
       "           0.        ,   0.        ],\n",
       "        [  0.        ,  99.        , 594.        ,  99.        ,\n",
       "           0.        ,   0.        ,   0.        ,   0.        ,\n",
       "           0.        ,   0.        ],\n",
       "        [  0.        ,   0.        , 100.        , 600.        ,\n",
       "         100.        ,   0.        ,   0.        ,   0.        ,\n",
       "           0.        ,   0.        ],\n",
       "        [  0.        ,   0.        ,   0.        ,  95.        ,\n",
       "         570.        ,  95.        ,   0.        ,   0.        ,\n",
       "           0.        ,   0.        ],\n",
       "        [  0.        ,   0.        ,   0.        ,   0.        ,\n",
       "          99.16666667, 595.        ,  99.16666667,   0.        ,\n",
       "           0.        ,   0.        ],\n",
       "        [  0.        ,   0.        ,   0.        ,   0.        ,\n",
       "           0.        , 102.5       , 615.        , 102.5       ,\n",
       "           0.        ,   0.        ],\n",
       "        [  0.        ,   0.        ,   0.        ,   0.        ,\n",
       "           0.        ,   0.        , 104.16666667, 625.        ,\n",
       "         104.16666667,   0.        ],\n",
       "        [  0.        ,   0.        ,   0.        ,   0.        ,\n",
       "           0.        ,   0.        ,   0.        , 104.        ,\n",
       "         624.        , 104.        ],\n",
       "        [  0.        ,   0.        ,   0.        ,   0.        ,\n",
       "           0.        ,   0.        ,   0.        ,   0.        ,\n",
       "         111.33333333, 668.        ]])"
      ]
     },
     "execution_count": 76,
     "metadata": {},
     "output_type": "execute_result"
    }
   ],
   "source": [
    "array[90:100,90:100].todense()"
   ]
  },
  {
   "cell_type": "code",
   "execution_count": 77,
   "metadata": {},
   "outputs": [
    {
     "data": {
      "image/png": "[encoded data removed]",
      "text/plain": [
       "<Figure size 720x576 with 2 Axes>"
      ]
     },
     "metadata": {},
     "output_type": "display_data"
    }
   ],
   "source": [
    "fig,ax = plt.subplots(figsize=(10,8))\n",
    "plt.imshow(array[90:100,90:100].todense(), \n",
    "           norm = matplotlib.colors.LogNorm()\n",
    "          )\n",
    "# plt.xlim(90,100)\n",
    "# plt.ylim(90,100)\n",
    "plt.colorbar()\n",
    "plt.show()"
   ]
  },
  {
   "cell_type": "code",
   "execution_count": 78,
   "metadata": {},
   "outputs": [
    {
     "name": "stderr",
     "output_type": "stream",
     "text": [
      "/home/jlab/miniconda3/lib/python3.7/site-packages/scipy/sparse/linalg/dsolve/linsolve.py:138: SparseEfficiencyWarning: spsolve requires A be CSC or CSR matrix format\n",
      "  SparseEfficiencyWarning)\n"
     ]
    },
    {
     "ename": "RuntimeError",
     "evalue": "failed to factorize matrix at line 413 in file scipy/sparse/linalg/dsolve/SuperLU/SRC/dpanel_bmod.c\n",
     "output_type": "error",
     "traceback": [
      "\u001b[0;31m---------------------------------------------------------------------------\u001b[0m",
      "\u001b[0;31mRuntimeError\u001b[0m                              Traceback (most recent call last)",
      "\u001b[0;32m<ipython-input-78-3fdcc9f51d6c>\u001b[0m in \u001b[0;36m<module>\u001b[0;34m\u001b[0m\n\u001b[0;32m----> 1\u001b[0;31m \u001b[0minv_array\u001b[0m \u001b[0;34m=\u001b[0m \u001b[0mscipy\u001b[0m\u001b[0;34m.\u001b[0m\u001b[0msparse\u001b[0m\u001b[0;34m.\u001b[0m\u001b[0mlinalg\u001b[0m\u001b[0;34m.\u001b[0m\u001b[0minv\u001b[0m\u001b[0;34m(\u001b[0m\u001b[0marray\u001b[0m\u001b[0;34m)\u001b[0m\u001b[0;34m\u001b[0m\u001b[0;34m\u001b[0m\u001b[0m\n\u001b[0m",
      "\u001b[0;32m~/miniconda3/lib/python3.7/site-packages/scipy/sparse/linalg/matfuncs.py\u001b[0m in \u001b[0;36minv\u001b[0;34m(A)\u001b[0m\n\u001b[1;32m     79\u001b[0m \u001b[0;34m\u001b[0m\u001b[0m\n\u001b[1;32m     80\u001b[0m     \u001b[0mI\u001b[0m \u001b[0;34m=\u001b[0m \u001b[0m_ident_like\u001b[0m\u001b[0;34m(\u001b[0m\u001b[0mA\u001b[0m\u001b[0;34m)\u001b[0m\u001b[0;34m\u001b[0m\u001b[0;34m\u001b[0m\u001b[0m\n\u001b[0;32m---> 81\u001b[0;31m     \u001b[0mAinv\u001b[0m \u001b[0;34m=\u001b[0m \u001b[0mspsolve\u001b[0m\u001b[0;34m(\u001b[0m\u001b[0mA\u001b[0m\u001b[0;34m,\u001b[0m \u001b[0mI\u001b[0m\u001b[0;34m)\u001b[0m\u001b[0;34m\u001b[0m\u001b[0;34m\u001b[0m\u001b[0m\n\u001b[0m\u001b[1;32m     82\u001b[0m     \u001b[0;32mreturn\u001b[0m \u001b[0mAinv\u001b[0m\u001b[0;34m\u001b[0m\u001b[0;34m\u001b[0m\u001b[0m\n\u001b[1;32m     83\u001b[0m \u001b[0;34m\u001b[0m\u001b[0m\n",
      "\u001b[0;32m~/miniconda3/lib/python3.7/site-packages/scipy/sparse/linalg/dsolve/linsolve.py\u001b[0m in \u001b[0;36mspsolve\u001b[0;34m(A, b, permc_spec, use_umfpack)\u001b[0m\n\u001b[1;32m    202\u001b[0m         \u001b[0;32melse\u001b[0m\u001b[0;34m:\u001b[0m\u001b[0;34m\u001b[0m\u001b[0;34m\u001b[0m\u001b[0m\n\u001b[1;32m    203\u001b[0m             \u001b[0;31m# b is sparse\u001b[0m\u001b[0;34m\u001b[0m\u001b[0;34m\u001b[0m\u001b[0;34m\u001b[0m\u001b[0m\n\u001b[0;32m--> 204\u001b[0;31m             \u001b[0mAfactsolve\u001b[0m \u001b[0;34m=\u001b[0m \u001b[0mfactorized\u001b[0m\u001b[0;34m(\u001b[0m\u001b[0mA\u001b[0m\u001b[0;34m)\u001b[0m\u001b[0;34m\u001b[0m\u001b[0;34m\u001b[0m\u001b[0m\n\u001b[0m\u001b[1;32m    205\u001b[0m \u001b[0;34m\u001b[0m\u001b[0m\n\u001b[1;32m    206\u001b[0m             \u001b[0;32mif\u001b[0m \u001b[0;32mnot\u001b[0m \u001b[0;34m(\u001b[0m\u001b[0misspmatrix_csc\u001b[0m\u001b[0;34m(\u001b[0m\u001b[0mb\u001b[0m\u001b[0;34m)\u001b[0m \u001b[0;32mor\u001b[0m \u001b[0mis_pydata_spmatrix\u001b[0m\u001b[0;34m(\u001b[0m\u001b[0mb\u001b[0m\u001b[0;34m)\u001b[0m\u001b[0;34m)\u001b[0m\u001b[0;34m:\u001b[0m\u001b[0;34m\u001b[0m\u001b[0;34m\u001b[0m\u001b[0m\n",
      "\u001b[0;32m~/miniconda3/lib/python3.7/site-packages/scipy/sparse/linalg/dsolve/linsolve.py\u001b[0m in \u001b[0;36mfactorized\u001b[0;34m(A)\u001b[0m\n\u001b[1;32m    467\u001b[0m         \u001b[0;32mreturn\u001b[0m \u001b[0msolve\u001b[0m\u001b[0;34m\u001b[0m\u001b[0;34m\u001b[0m\u001b[0m\n\u001b[1;32m    468\u001b[0m     \u001b[0;32melse\u001b[0m\u001b[0;34m:\u001b[0m\u001b[0;34m\u001b[0m\u001b[0;34m\u001b[0m\u001b[0m\n\u001b[0;32m--> 469\u001b[0;31m         \u001b[0;32mreturn\u001b[0m \u001b[0msplu\u001b[0m\u001b[0;34m(\u001b[0m\u001b[0mA\u001b[0m\u001b[0;34m)\u001b[0m\u001b[0;34m.\u001b[0m\u001b[0msolve\u001b[0m\u001b[0;34m\u001b[0m\u001b[0;34m\u001b[0m\u001b[0m\n\u001b[0m\u001b[1;32m    470\u001b[0m \u001b[0;34m\u001b[0m\u001b[0m\n\u001b[1;32m    471\u001b[0m \u001b[0;34m\u001b[0m\u001b[0m\n",
      "\u001b[0;32m~/miniconda3/lib/python3.7/site-packages/scipy/sparse/linalg/dsolve/linsolve.py\u001b[0m in \u001b[0;36msplu\u001b[0;34m(A, permc_spec, diag_pivot_thresh, relax, panel_size, options)\u001b[0m\n\u001b[1;32m    324\u001b[0m     return _superlu.gstrf(N, A.nnz, A.data, A.indices, A.indptr,\n\u001b[1;32m    325\u001b[0m                           \u001b[0mcsc_construct_func\u001b[0m\u001b[0;34m=\u001b[0m\u001b[0mcsc_construct_func\u001b[0m\u001b[0;34m,\u001b[0m\u001b[0;34m\u001b[0m\u001b[0;34m\u001b[0m\u001b[0m\n\u001b[0;32m--> 326\u001b[0;31m                           ilu=False, options=_options)\n\u001b[0m\u001b[1;32m    327\u001b[0m \u001b[0;34m\u001b[0m\u001b[0m\n\u001b[1;32m    328\u001b[0m \u001b[0;34m\u001b[0m\u001b[0m\n",
      "\u001b[0;31mRuntimeError\u001b[0m: failed to factorize matrix at line 413 in file scipy/sparse/linalg/dsolve/SuperLU/SRC/dpanel_bmod.c\n"
     ]
    }
   ],
   "source": [
    "inv_array = scipy.sparse.linalg.inv(array)"
   ]
  },
  {
   "cell_type": "code",
   "execution_count": null,
   "metadata": {},
   "outputs": [],
   "source": [
    "np.sum(inv_array)"
   ]
  },
  {
   "cell_type": "code",
   "execution_count": null,
   "metadata": {},
   "outputs": [],
   "source": [
    "inv_array[90:100,90:100]"
   ]
  },
  {
   "cell_type": "code",
   "execution_count": null,
   "metadata": {},
   "outputs": [],
   "source": [
    "fig,ax = plt.subplots(figsize=(10,8))\n",
    "plt.imshow(inv_array[90:100,90:100], \n",
    "           #norm = matplotlib.colors.LogNorm()\n",
    "          )\n",
    "# plt.xlim(90,100)\n",
    "# plt.ylim(90,100)\n",
    "plt.colorbar()\n",
    "plt.show()"
   ]
  },
  {
   "cell_type": "code",
   "execution_count": null,
   "metadata": {},
   "outputs": [],
   "source": []
  },
  {
   "cell_type": "code",
   "execution_count": null,
   "metadata": {},
   "outputs": [],
   "source": []
  }
 ],
 "metadata": {
  "kernelspec": {
   "display_name": "Python 3",
   "language": "python",
   "name": "python3"
  },
  "language_info": {
   "codemirror_mode": {
    "name": "ipython",
    "version": 3
   },
   "file_extension": ".py",
   "mimetype": "text/x-python",
   "name": "python",
   "nbconvert_exporter": "python",
   "pygments_lexer": "ipython3",
   "version": "3.7.6"
  }
 },
 "nbformat": 4,
 "nbformat_minor": 4
}
