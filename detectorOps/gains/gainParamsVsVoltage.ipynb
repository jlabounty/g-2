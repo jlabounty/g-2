{
 "cells": [
  {
   "cell_type": "code",
   "execution_count": 1,
   "metadata": {},
   "outputs": [
    {
     "name": "stdout",
     "output_type": "stream",
     "text": [
      "Welcome to JupyROOT 6.12/06\n",
      "For interactive plots, run: setint()\n",
      "To return to non-interactive plots (default state), run: noint()\n"
     ]
    }
   ],
   "source": [
    "from standardInclude import *"
   ]
  },
  {
   "cell_type": "code",
   "execution_count": 2,
   "metadata": {},
   "outputs": [],
   "source": [
    "pathsAndVoltages = [\n",
    "    (\"/home/jlab/g-2/detectorOps/gains/filterWheel_GainCalibration/Results_FW_28075_28082_AllScans.root\", -0.2),\n",
    "    (\"/home/jlab/g-2/detectorOps/gains/filterWheel_GainCalibration/Results_FW_28059_28066_AllScans.root\", -0.1),\n",
    "    (\"/home/jlab/g-2/detectorOps/gains/filterWheel_GainCalibration/Results_FW_28043_28050_AllScans.root\", 0.0),\n",
    "    (\"/home/jlab/g-2/detectorOps/gains/filterWheel_GainCalibration/Results_FW_28083_28090_AllScans.root\", 0.0),\n",
    "    (\"/home/jlab/g-2/detectorOps/gains/filterWheel_GainCalibration/Results_FW_28051_28058_AllScans.root\", 0.1),\n",
    "    (\"/home/jlab/g-2/detectorOps/gains/filterWheel_GainCalibration/Results_FW_28067_28074_AllScans.root\", 0.2),\n",
    "    ]"
   ]
  },
  {
   "cell_type": "code",
   "execution_count": null,
   "metadata": {},
   "outputs": [],
   "source": [
    "xtal = 120\n"
   ]
  }
 ],
 "metadata": {
  "kernelspec": {
   "display_name": "Python 3",
   "language": "python",
   "name": "python3"
  },
  "language_info": {
   "codemirror_mode": {
    "name": "ipython",
    "version": 3
   },
   "file_extension": ".py",
   "mimetype": "text/x-python",
   "name": "python",
   "nbconvert_exporter": "python",
   "pygments_lexer": "ipython3",
   "version": "3.6.8"
  }
 },
 "nbformat": 4,
 "nbformat_minor": 2
}
