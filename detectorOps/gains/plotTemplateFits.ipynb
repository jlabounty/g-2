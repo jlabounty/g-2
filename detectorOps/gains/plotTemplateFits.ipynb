{
 "cells": [
  {
   "cell_type": "code",
   "execution_count": 55,
   "metadata": {},
   "outputs": [],
   "source": [
    "from standardInclude import *"
   ]
  },
  {
   "cell_type": "code",
   "execution_count": 56,
   "metadata": {},
   "outputs": [],
   "source": [
    "fString = \"./filterWheel_GainCalibration/minusPoint2_Calo3.root\"\n",
    "f = r.TFile(fString)\n",
    "calo = 3\n",
    "f.cd(\"islandFits\"+str(calo)+\"/splines\")\n",
    "#f.ls()\n",
    "\n",
    "t = f.Get(\"islandFits\"+str(calo)).Get(\"fits\").Get(\"fitTree\")"
   ]
  },
  {
   "cell_type": "raw",
   "metadata": {},
   "source": [
    "t.Print()"
   ]
  },
  {
   "cell_type": "raw",
   "metadata": {},
   "source": [
    "c = r.TCanvas(\"c\",\"c\",1200,400)\n",
    "t.Draw(\"statuses\",\"\")\n",
    "c.SetLogy()\n",
    "c.Draw()"
   ]
  },
  {
   "cell_type": "raw",
   "metadata": {},
   "source": [
    "c = r.TCanvas(\"c\",\"c\",1200,400)\n",
    "t.Draw(\"fillNum>>hist(300,0,300)\",\"xtalNum == 53\")\n",
    "c.Draw()"
   ]
  },
  {
   "cell_type": "code",
   "execution_count": 57,
   "metadata": {},
   "outputs": [],
   "source": [
    "#calo = 3\n",
    "xtal = 13\n",
    "#fillNum = 6\n",
    "\n",
    "#create the string to cut on \n",
    "cutString = (\"caloNum == \"+str(calo)\n",
    "              +\" && xtalNum == \"+str(xtal)\n",
    "              #+\" && fillNum == \"+str(fillNum)\n",
    "              #+\" && chi2 < 100\"\n",
    "            )"
   ]
  },
  {
   "cell_type": "code",
   "execution_count": 58,
   "metadata": {},
   "outputs": [
    {
     "name": "stdout",
     "output_type": "stream",
     "text": [
      "[2.0, 2.0, 4.0, 4.0, 6.0, 6.0, 8.0, 8.0, 10.0, 10.0, 12.0, 12.0, 14.0, 14.0, 16.0, 16.0, 18.0, 18.0, 20.0, 20.0, 22.0, 22.0, 24.0, 24.0, 26.0, 26.0, 28.0, 28.0, 30.0, 30.0, 34.0, 34.0, 36.0, 36.0, 38.0, 38.0, 40.0, 40.0, 42.0, 42.0, 44.0, 44.0, 46.0, 46.0, 48.0, 48.0, 50.0, 50.0, 52.0, 52.0, 54.0, 54.0, 56.0, 56.0, 58.0, 58.0, 60.0, 60.0, 62.0, 62.0, 64.0, 64.0, 68.0, 68.0, 70.0, 70.0, 72.0, 72.0, 74.0, 74.0, 76.0, 76.0, 78.0, 78.0, 80.0, 80.0, 82.0, 82.0, 84.0, 84.0, 86.0, 86.0, 88.0, 88.0, 90.0, 90.0, 92.0, 92.0, 94.0, 94.0, 96.0, 96.0, 98.0, 98.0, 102.0, 102.0, 104.0, 104.0, 106.0, 106.0, 108.0, 108.0, 110.0, 110.0, 112.0, 112.0, 114.0, 114.0, 116.0, 116.0, 118.0, 118.0, 120.0, 120.0, 122.0, 122.0, 124.0, 124.0, 126.0, 126.0, 128.0, 128.0, 130.0, 130.0, 132.0, 132.0, 136.0, 136.0, 138.0, 138.0, 140.0, 140.0, 142.0, 142.0, 144.0, 144.0, 146.0, 146.0, 148.0, 148.0, 150.0, 150.0, 152.0, 152.0, 154.0, 154.0, 156.0, 156.0, 158.0, 158.0, 160.0, 160.0, 162.0, 162.0, 164.0, 164.0, 166.0, 166.0, 170.0, 170.0, 172.0, 172.0, 174.0, 174.0, 176.0, 176.0, 178.0, 178.0, 180.0, 180.0, 182.0, 182.0, 184.0, 184.0, 186.0, 186.0, 188.0, 188.0, 190.0, 190.0, 192.0, 192.0, 194.0, 194.0, 196.0, 196.0, 198.0, 198.0, 200.0, 200.0, 204.0, 204.0, 206.0, 206.0, 208.0, 208.0, 210.0, 210.0, 212.0, 212.0, 214.0, 214.0, 216.0, 216.0, 218.0, 218.0, 220.0, 220.0, 222.0, 222.0, 224.0, 224.0, 226.0, 226.0, 228.0, 228.0, 230.0, 230.0, 232.0, 232.0, 234.0, 234.0, 238.0, 238.0, 240.0, 240.0, 242.0, 242.0, 244.0, 244.0, 246.0, 246.0, 248.0, 248.0, 250.0, 250.0, 252.0, 252.0, 254.0, 254.0, 256.0, 256.0, 258.0, 258.0, 260.0, 260.0, 262.0, 262.0, 264.0, 264.0, 266.0, 266.0, 268.0, 268.0, 272.0, 272.0, 274.0, 274.0, 276.0, 276.0, 278.0, 278.0, 280.0, 280.0, 282.0, 282.0, 284.0, 284.0, 286.0, 286.0, 288.0, 288.0, 290.0, 290.0, 292.0, 292.0, 294.0, 294.0, 296.0, 296.0, 298.0, 298.0, 300.0, 300.0, 302.0, 302.0, 306.0, 306.0, 306.0, 306.0, 306.0, 306.0]\n"
     ]
    },
    {
     "data": {
      "image/png": "[encoded data removed]",
      "text/plain": [
       "<IPython.core.display.Image object>"
      ]
     },
     "metadata": {},
     "output_type": "display_data"
    }
   ],
   "source": [
    "c = r.TCanvas(\"c\",\"c\",1200,400)\n",
    "ding = t.Draw(\"fillNum\",cutString,\"colz\")\n",
    "print([t.GetV1()[i] for i in range(ding)])\n",
    "c.Draw()"
   ]
  },
  {
   "cell_type": "code",
   "execution_count": 59,
   "metadata": {},
   "outputs": [],
   "source": [
    "fillNum = 2\n",
    "cutString += \" && fillNum == \"+str(fillNum)"
   ]
  },
  {
   "cell_type": "code",
   "execution_count": 60,
   "metadata": {},
   "outputs": [
    {
     "name": "stdout",
     "output_type": "stream",
     "text": [
      "caloNum == 3 && xtalNum == 13 && fillNum == 2\n"
     ]
    }
   ],
   "source": [
    "print(cutString)"
   ]
  },
  {
   "cell_type": "code",
   "execution_count": 61,
   "metadata": {},
   "outputs": [
    {
     "name": "stdout",
     "output_type": "stream",
     "text": [
      "2 [0, 1]\n"
     ]
    }
   ],
   "source": [
    "numberOfIslands = t.Draw(\"islandNums\", cutString,\"goff\")\n",
    "#get islandNums\n",
    "islandNums = [int(t.GetV1()[x]) for x in range(numberOfIslands)]\n",
    "print(numberOfIslands, islandNums)"
   ]
  },
  {
   "cell_type": "code",
   "execution_count": 62,
   "metadata": {},
   "outputs": [
    {
     "name": "stdout",
     "output_type": "stream",
     "text": [
      "Subrun 5\n"
     ]
    }
   ],
   "source": [
    "t.Draw(\"subRunNum\",cutString,\"goff\")\n",
    "subrun = int(t.GetV1()[0])\n",
    "print(\"Subrun\", subrun)\n",
    "n_entries = t.BuildIndex('fillNum*(subRunNum=={})'.format(subrun),\n",
    "                         'islandNums[0]*(xtalNum == 0 && subRunNum == {}) - 1*(xtalNum!=0)'.format(subrun))"
   ]
  },
  {
   "cell_type": "code",
   "execution_count": 63,
   "metadata": {},
   "outputs": [
    {
     "name": "stdout",
     "output_type": "stream",
     "text": [
      "[0, 1]\n",
      "0 0\n",
      "1 54\n",
      "[13, 67]\n"
     ]
    }
   ],
   "source": [
    "entries = []\n",
    "print(islandNums)\n",
    "for island in islandNums:\n",
    "    entry_num = t.GetEntryNumberWithIndex(fillNum, island) \n",
    "    print(island, entry_num)\n",
    "    if(entry_num > -0.01):\n",
    "        entries.append(entry_num + xtal)\n",
    "print(entries)"
   ]
  },
  {
   "cell_type": "code",
   "execution_count": 64,
   "metadata": {},
   "outputs": [],
   "source": [
    "islandLengths = []\n",
    "energies = []\n",
    "pedestals = []\n",
    "islandNums = []\n",
    "chiSquare = []\n",
    "statuses = []\n",
    "laserHits = []\n",
    "times = []\n",
    "firstSamples = []\n",
    "traces = []\n",
    "graphs = []\n",
    "\n",
    "for entry in entries:\n",
    "    t.GetEntry(entry)\n",
    "\n",
    "    islandLengths.append(t.islandLengths[0])\n",
    "    energies.append([x for x in t.energies])\n",
    "    pedestals.append(t.pedestal)\n",
    "    islandNums.append(t.islandNums[0])\n",
    "    chiSquare.append(t.chi2)\n",
    "    statuses.append([x for x in t.statuses])\n",
    "    laserHits.append([x for x in t.laserHits])\n",
    "    times.append([x for x in t.times])\n",
    "    firstSamples.append(t.firstSampleNums[0])\n",
    "    traces.append( [x for x in t.trace] )\n",
    "\n",
    "for i, trace in enumerate(traces):\n",
    "    gri = r.TGraph()\n",
    "    for j, ti in enumerate(trace):\n",
    "        gri.SetPoint(j, j, ti)\n",
    "    gri.SetMarkerSize(0.6)\n",
    "    gri.SetMarkerStyle(8)\n",
    "    gri.SetTitle(\"Trace: Calo \"+str(calo)+\", Xtal \"+str(xtal)+\" in Fill \"+str(fillNum)+\", Island \"+str(islandNums[i])\n",
    "                 +\"; Sample Number; Amplitude [ADC Units]\")\n",
    "    graphs.append(gri)\n",
    "#print(graphs)\n",
    "    "
   ]
  },
  {
   "cell_type": "raw",
   "metadata": {},
   "source": [
    "#get island lengths\n",
    "ding = t.Draw(\"islandLengths\", cutString,\"goff\")\n",
    "islandLengths = [int(t.GetV1()[x]) for x in range(ding)]\n",
    "#print(islandLengths)\n",
    "print(ding)\n",
    "\n",
    "#get energies\n",
    "ding = t.Draw(\"energies\", cutString,\"goff\")\n",
    "energies = [float(t.GetV1()[x]) for x in range(ding)]\n",
    "print(ding)\n",
    "\n",
    "#get pedestals\n",
    "ding = t.Draw(\"pedestal\", cutString,\"goff\")\n",
    "pedestals = [int(t.GetV1()[x]) for x in range(ding) ]\n",
    "#pedestals = []\n",
    "#for x in range(ding):\n",
    "#    if( int(t.GetV1()[x]) != 0):\n",
    "#        pedestals.append(int(t.GetV1()[x]))\n",
    "print(ding)\n",
    "\n",
    "#get islandNums\n",
    "ding = t.Draw(\"islandNums\", cutString,\"goff\")\n",
    "islandNums = [int(t.GetV1()[x]) for x in range(ding)]\n",
    "print(ding)\n",
    "\n",
    "#get chi2\n",
    "ding = t.Draw(\"chi2\", cutString,\"goff\")\n",
    "chiSquare = [float(t.GetV1()[x]) for x in range(ding)]\n",
    "#print(ding)\n",
    "#chiSquare = []\n",
    "#for x in range(ding):\n",
    "#    if( int(t.GetV1()[x]) > 0):\n",
    "        chiSquare.append(int(t.GetV1()[x]))\n",
    "print(ding)\n",
    "\n",
    "#get status\n",
    "ding = t.Draw(\"statuses\", cutString,\"goff\")\n",
    "statuses = [float(t.GetV1()[x]) for x in range(ding)]\n",
    "print(ding)\n",
    "\n",
    "#get is laser hit\n",
    "ding = t.Draw(\"laserHits\", cutString,\"goff\")\n",
    "laserHits = [float(t.GetV1()[x]) for x in range(ding)]\n",
    "print(ding)\n",
    "\n",
    "#get times\n",
    "ding = t.Draw(\"times\", cutString,\"goff\")\n",
    "times = [float(t.GetV1()[x]) for x in range(ding)]\n",
    "print(ding)\n",
    "\n",
    "#get first sample numbers\n",
    "ding = t.Draw(\"firstSampleNums\", cutString,\"goff\")\n",
    "firstSamples = [int(t.GetV1()[x]) for x in range(ding)]\n",
    "print(ding)\n",
    "\n",
    "#get traces\n",
    "ding = t.Draw(\"trace\", cutString,\"goff\")\n",
    "traces = [[] for x in range(len(islandLengths))]\n",
    "totalLength = 0\n",
    "for i, length in enumerate(islandLengths):\n",
    "    trace = [t.GetV1()[x + totalLength] for x in range(length)]\n",
    "    traces[i] = trace\n",
    "    totalLength += length\n",
    "print(len(traces), [len(x) for x in traces])\n",
    "#plt.plot(trace)\n",
    "print(ding, \"entries\")\n",
    "\n",
    "if(len(traces) > 0):\n",
    "    fig,ax = plt.subplots(len(traces),figsize=(15,10), sharey=True, sharex=True)\n",
    "    if(len(traces) > 1):\n",
    "        for i, axi in enumerate(ax):\n",
    "            axi.plot(traces[i])\n",
    "    else:\n",
    "        ax.plot(traces[0])\n",
    "    plt.show()\n",
    "\n",
    "\n",
    "graphs = []\n",
    "for i, trace in enumerate(traces):\n",
    "    gri = r.TGraph()\n",
    "    for j, ti in enumerate(trace):\n",
    "        gri.SetPoint(j, j, ti)\n",
    "    gri.SetMarkerSize(0.6)\n",
    "    gri.SetMarkerStyle(8)\n",
    "    gri.SetTitle(\"Trace: Calo \"+str(calo)+\", Xtal \"+str(xtal)+\" in Fill \"+str(fillNum)+\", Island \"+str(islandNums[i])\n",
    "                 +\"; Sample Number; Amplitude [ADC Units]\")\n",
    "    graphs.append(gri)\n",
    "print(graphs)"
   ]
  },
  {
   "cell_type": "raw",
   "metadata": {},
   "source": [
    "c = r.TCanvas()\n",
    "ding = t.Draw(\"pedestal>>hist(100,-3000, 1000)\", cutString,\"\")\n",
    "print(ding)\n",
    "print([t.GetV1()[x] for x in range(ding)])\n",
    "c.Draw()"
   ]
  },
  {
   "cell_type": "code",
   "execution_count": 65,
   "metadata": {},
   "outputs": [
    {
     "name": "stdout",
     "output_type": "stream",
     "text": [
      "[64, 64]\n",
      "[[8692.668584551866], [9214.236203555995]]\n",
      "[-1762.8443277571687, -1764.7819217886781]\n",
      "[0, 1]\n",
      "[92.0843954259354, 330.6388088026296]\n",
      "[[1], [1]]\n",
      "[[1], [1]]\n",
      "[[5560.356555632169], [735968.345844793]]\n",
      "[5549, 735957]\n",
      "[<ROOT.TGraph object at 0x7fffe1d37610>, <ROOT.TGraph object at 0x7fffe25ef8e0>]\n"
     ]
    }
   ],
   "source": [
    "print(islandLengths)\n",
    "print(energies)\n",
    "print(pedestals)\n",
    "print(islandNums)\n",
    "print(chiSquare)\n",
    "print(statuses)\n",
    "print(laserHits)\n",
    "print(times)\n",
    "print(firstSamples)\n",
    "print(graphs)"
   ]
  },
  {
   "cell_type": "code",
   "execution_count": 66,
   "metadata": {},
   "outputs": [
    {
     "name": "stdout",
     "output_type": "stream",
     "text": [
      "<ROOT.TSpline3 object (\"laser13\") at 0x7fffe1f4c710>\n"
     ]
    }
   ],
   "source": [
    "spline = f.Get(\"islandFits\"+str(calo)+\"\").Get(\"splines\").Get(\"laser\"+str(xtal))\n",
    "beamspline = f.Get(\"islandFits\"+str(calo)+\"\").Get(\"splines\").Get(\"beam\"+str(xtal))\n",
    "print(spline)"
   ]
  },
  {
   "cell_type": "code",
   "execution_count": 67,
   "metadata": {},
   "outputs": [
    {
     "name": "stdout",
     "output_type": "stream",
     "text": [
      "[[5560.356555632169], [735968.345844793]]\n",
      "[5549, 735957]\n"
     ]
    }
   ],
   "source": [
    "print(times)\n",
    "print(firstSamples)"
   ]
  },
  {
   "cell_type": "code",
   "execution_count": 68,
   "metadata": {},
   "outputs": [
    {
     "name": "stdout",
     "output_type": "stream",
     "text": [
      "11.356555632169147\n",
      "11.345844793017022\n"
     ]
    }
   ],
   "source": [
    "whichGraph = 0\n",
    "splineGraphs = []\n",
    "for whichGraph in range(len(traces)):\n",
    "\n",
    "    splineGraphsi = []\n",
    "    allSplineScaled = []\n",
    "    \n",
    "    for fiti in range(len(times[whichGraph])):\n",
    "        splineScaled = []\n",
    "        offset = times[whichGraph][fiti] - firstSamples[whichGraph]\n",
    "        print(offset)\n",
    "        for i in range(len(traces[whichGraph])):\n",
    "            splineScaled.append( spline.Eval(i - offset)*energies[whichGraph][fiti] + pedestals[whichGraph] )\n",
    "        #print(splineScaled)\n",
    "        allSplineScaled.append(splineScaled)\n",
    "\n",
    "        splineGraph = r.TGraph()\n",
    "        for i, si in enumerate(splineScaled):\n",
    "            splineGraph.SetPoint(i, i, si)\n",
    "        splineGraph.SetLineColor(fiti+2)\n",
    "        splineGraphsi.append(splineGraph)\n",
    "        \n",
    "    if( len(times[whichGraph]) > 1):\n",
    "        splineGraph = r.TGraph()\n",
    "        totalSpline = [pedestals[whichGraph] for x in range(len(allSplineScaled[0]))]\n",
    "        for i, si in enumerate(allSplineScaled):\n",
    "            for ii, sii in enumerate(si):\n",
    "                totalSpline[ii] += sii - pedestals[whichGraph]\n",
    "                \n",
    "        for i, si in enumerate(totalSpline):\n",
    "            splineGraph.SetPoint(i, i, si )\n",
    "            \n",
    "        splineGraph.SetLineColor(9)\n",
    "        splineGraphsi.append(splineGraph)\n",
    "    \n",
    "    splineGraphs.append(splineGraphsi)"
   ]
  },
  {
   "cell_type": "code",
   "execution_count": 69,
   "metadata": {},
   "outputs": [
    {
     "name": "stdout",
     "output_type": "stream",
     "text": [
      "[[<ROOT.TGraph object at 0x7fffe1d43c90>], [<ROOT.TGraph object at 0x7fffe2747930>]]\n"
     ]
    }
   ],
   "source": [
    "print(splineGraphs)"
   ]
  },
  {
   "cell_type": "code",
   "execution_count": 70,
   "metadata": {},
   "outputs": [
    {
     "name": "stdout",
     "output_type": "stream",
     "text": [
      "[-1762.8443277571687, -1764.7819217886781]\n",
      "[[8692.668584551866], [9214.236203555995]]\n"
     ]
    }
   ],
   "source": [
    "print(pedestals)\n",
    "print(energies)"
   ]
  },
  {
   "cell_type": "code",
   "execution_count": 71,
   "metadata": {},
   "outputs": [
    {
     "name": "stdout",
     "output_type": "stream",
     "text": [
      "[<ROOT.TPaveText object (\"TPave\") at 0x7fffe26a6bc0>, <ROOT.TPaveText object (\"TPave\") at 0x7fffe2629580>]\n"
     ]
    }
   ],
   "source": [
    "textBoxes = []\n",
    "for i in range(len(traces)):\n",
    "    pt = r.TPaveText(0.45,0.45,0.87,0.87,\"ndc\");\n",
    "    for j in range(len(energies[i])):\n",
    "        pt.AddText(\"E_{0} = \"+str(round(energies[i][j],2)))\n",
    "        pt.AddText(\"t_{0} = \"+str(round(times[i][j],2)))\n",
    "        pt.AddText(\"Pedestal = \"+str(pedestals[i]))\n",
    "        pt.AddText(\"Status = \"+str(statuses[i]))\n",
    "        pt.AddText(\"Laser Hit = \"+str(laserHits[i][j]))\n",
    "        pt.AddText(\"#chi^{2} = \"+str(round(chiSquare[i],2)))\n",
    "        pt.AddText(\" \")\n",
    "        pt.AddLine()\n",
    "    \n",
    "    textBoxes.append(pt)\n",
    "print(textBoxes)"
   ]
  },
  {
   "cell_type": "code",
   "execution_count": 72,
   "metadata": {},
   "outputs": [
    {
     "name": "stderr",
     "output_type": "stream",
     "text": [
      "Warning in <TCanvas::Constructor>: Deleting canvas with same name: c\n"
     ]
    },
    {
     "data": {
      "image/png": "[encoded data removed]",
      "text/plain": [
       "<IPython.core.display.Image object>"
      ]
     },
     "metadata": {},
     "output_type": "display_data"
    }
   ],
   "source": [
    "c = r.TCanvas(\"c\",\"c\", int(np.ceil((len(traces)/2)))*600, 2*600)\n",
    "c.Divide(int(np.ceil((len(traces)/2))), 2)\n",
    "for i in range(len(traces)):\n",
    "    c.cd(i+1)\n",
    "    graphs[i].Draw(\"ap\")\n",
    "    for si in splineGraphs[i]:\n",
    "        si.Draw(\"l same\")\n",
    "    textBoxes[i].Draw(\"SAME\")\n",
    "\n",
    "c.Draw()"
   ]
  },
  {
   "cell_type": "raw",
   "metadata": {},
   "source": [
    "def plotAllFits( f, t, calo, xtal, fillNum, subrun):\n",
    "    \n",
    "    #create the string to cut on \n",
    "    cutString = (\"caloNum == \"+str(calo)\n",
    "                  +\" && xtalNum == \"+str(xtal)\n",
    "                  +\" && fillNum == \"+str(fillNum)\n",
    "                  #+\" && chi2 < 100\"\n",
    "                )\n",
    "    \n",
    "    numberOfIslands = t.Draw(\"islandNums\", cutString,\"goff\")\n",
    "    #get islandNums\n",
    "    islandNums = [int(t.GetV1()[x]) for x in range(numberOfIslands)]\n",
    "    print(numberOfIslands, islandNums)\n",
    "    \n",
    "    #t.Draw(\"subRunNum\",cutString,\"goff\")\n",
    "    #subrun = int(t.GetV1()[0])\n",
    "    print(\"Subrun\", subrun)\n",
    "    n_entries = t.BuildIndex('fillNum*(subRunNum=={})'.format(subrun),\n",
    "                             'islandNums[0]*(xtalNum == 0 && subRunNum == {}) - 1*(xtalNum!=0)'.format(subrun))\n",
    "    \n",
    "    entries = []\n",
    "    print(islandNums)\n",
    "    for island in islandNums:\n",
    "        entry_num = t.GetEntryNumberWithIndex(fillNum, island) \n",
    "        #print(island, entry_num)\n",
    "        if(entry_num > -0.01):\n",
    "            entries.append(entry_num + xtal)\n",
    "    print(entries)\n",
    "    \n",
    "    islandLengths = []\n",
    "    energies = []\n",
    "    pedestals = []\n",
    "    islandNums = []\n",
    "    chiSquare = []\n",
    "    statuses = []\n",
    "    laserHits = []\n",
    "    times = []\n",
    "    firstSamples = []\n",
    "    traces = []\n",
    "    graphs = []\n",
    "\n",
    "    for entry in entries:\n",
    "        t.GetEntry(entry)\n",
    "\n",
    "        islandLengths.append(t.islandLengths[0])\n",
    "        energies.append([x for x in t.energies])\n",
    "        pedestals.append(t.pedestal)\n",
    "        islandNums.append(t.islandNums[0])\n",
    "        chiSquare.append(t.chi2)\n",
    "        statuses.append([x for x in t.statuses])\n",
    "        laserHits.append([x for x in t.laserHits])\n",
    "        times.append([x for x in t.times])\n",
    "        firstSamples.append(t.firstSampleNums[0])\n",
    "        traces.append( [x for x in t.trace] )\n",
    "\n",
    "    for i, trace in enumerate(traces):\n",
    "        gri = r.TGraph()\n",
    "        for j, ti in enumerate(trace):\n",
    "            gri.SetPoint(j, j, ti)\n",
    "        gri.SetMarkerSize(0.6)\n",
    "        gri.SetMarkerStyle(8)\n",
    "        gri.SetTitle(\"Trace: Calo \"+str(calo)+\", Xtal \"+str(xtal)+\" in Fill \"+str(fillNum)+\", Island \"+str(islandNums[i])\n",
    "                     +\"; Sample Number; Amplitude [ADC Units]\")\n",
    "        graphs.append(gri)\n",
    "    print(graphs)\n",
    "    \n",
    "    spline = f.Get(\"islandFits\").Get(\"splines\").Get(\"laser\"+str(xtal))\n",
    "    beamspline = f.Get(\"islandFits\").Get(\"splines\").Get(\"beam\"+str(xtal))\n",
    "    print(spline, beamspline)\n",
    "    \n",
    "    whichGraph = 0\n",
    "    splineGraphs = []\n",
    "    for whichGraph in range(len(traces)):\n",
    "\n",
    "        splineGraphsi = []\n",
    "        allSplineScaled = []\n",
    "\n",
    "        for fiti in range(len(times[whichGraph])):\n",
    "            splineScaled = []\n",
    "            offset = times[whichGraph][fiti] - firstSamples[whichGraph]\n",
    "            #print(offset)\n",
    "            for i in range(len(traces[whichGraph])):\n",
    "                splineScaled.append( spline.Eval(i - offset)*energies[whichGraph][fiti] + pedestals[whichGraph] )\n",
    "            #print(splineScaled)\n",
    "            allSplineScaled.append(splineScaled)\n",
    "\n",
    "            splineGraph = r.TGraph()\n",
    "            for i, si in enumerate(splineScaled):\n",
    "                splineGraph.SetPoint(i, i, si)\n",
    "            splineGraph.SetLineColor(fiti+2)\n",
    "            splineGraphsi.append(splineGraph)\n",
    "\n",
    "        if( len(times[whichGraph]) > 1):\n",
    "            splineGraph = r.TGraph()\n",
    "            totalSpline = [pedestals[whichGraph] for x in range(len(allSplineScaled[0]))]\n",
    "            for i, si in enumerate(allSplineScaled):\n",
    "                for ii, sii in enumerate(si):\n",
    "                    totalSpline[ii] += sii - pedestals[whichGraph]\n",
    "\n",
    "            for i, si in enumerate(totalSpline):\n",
    "                splineGraph.SetPoint(i, i, si )\n",
    "\n",
    "            splineGraph.SetLineColor(9)\n",
    "            splineGraphsi.append(splineGraph)\n",
    "\n",
    "        splineGraphs.append(splineGraphsi)\n",
    "        \n",
    "    textBoxes = []\n",
    "    for i in range(len(traces)):\n",
    "        pt = r.TPaveText(0.45,0.45,0.87,0.87,\"ndc\");\n",
    "        for j in range(len(energies[i])):\n",
    "            pt.AddText(\"E_{0} = \"+str(round(energies[i][j],2)))\n",
    "            pt.AddText(\"t_{0} = \"+str(round(times[i][j],2)))\n",
    "            pt.AddText(\"Pedestal = \"+str(pedestals[i]))\n",
    "            pt.AddText(\"Status = \"+str(statuses[i]))\n",
    "            pt.AddText(\"Laser Hit = \"+str(laserHits[i][j]))\n",
    "            pt.AddText(\"#chi^{2} = \"+str(round(chiSquare[i],2)))\n",
    "            pt.AddText(\" \")\n",
    "            pt.AddLine()\n",
    "\n",
    "        textBoxes.append(pt)\n",
    "    #print(textBoxes)\n",
    "    \n",
    "    \n",
    "    c = r.TCanvas(\"c\",\"c\", int(np.ceil((len(traces)/2)))*600, 2*600)\n",
    "    c.Divide(int(np.ceil((len(traces)/2))), 2)\n",
    "    for i in range(len(traces)):\n",
    "        c.cd(i+1)\n",
    "        graphs[i].Draw(\"ap\")\n",
    "        for si in splineGraphs[i]:\n",
    "            si.Draw(\"l same\")\n",
    "        textBoxes[i].Draw(\"SAME\")\n",
    "    c.Draw()\n",
    "    \n",
    "    return (graphs, splineGraphs, textBoxes)"
   ]
  },
  {
   "cell_type": "raw",
   "metadata": {},
   "source": [
    "calo = 3\n",
    "xtal = 13\n",
    "fillNum = 6\n",
    "subrun = 5\n",
    "\n",
    "ding = plotAllFits(f, t, calo, xtal, fillNum, subrun )"
   ]
  },
  {
   "cell_type": "code",
   "execution_count": 73,
   "metadata": {},
   "outputs": [
    {
     "data": {
      "image/png": "[encoded data removed]",
      "text/plain": [
       "<IPython.core.display.Image object>"
      ]
     },
     "metadata": {},
     "output_type": "display_data"
    }
   ],
   "source": [
    "c = r.TCanvas()\n",
    "t.Draw(\"chi2:xtalNum>>hist(54,0,54,15000,0,30000)\",\"\",\"colz\")\n",
    "c.SetLogy()\n",
    "c.Draw()"
   ]
  },
  {
   "cell_type": "code",
   "execution_count": null,
   "metadata": {},
   "outputs": [],
   "source": []
  },
  {
   "cell_type": "code",
   "execution_count": null,
   "metadata": {},
   "outputs": [],
   "source": []
  }
 ],
 "metadata": {
  "kernelspec": {
   "display_name": "Python 3",
   "language": "python",
   "name": "python3"
  },
  "language_info": {
   "codemirror_mode": {
    "name": "ipython",
    "version": 3
   },
   "file_extension": ".py",
   "mimetype": "text/x-python",
   "name": "python",
   "nbconvert_exporter": "python",
   "pygments_lexer": "ipython3",
   "version": "3.6.8"
  }
 },
 "nbformat": 4,
 "nbformat_minor": 2
}
