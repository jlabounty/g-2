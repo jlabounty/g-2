{
 "cells": [
  {
   "cell_type": "code",
   "execution_count": 26,
   "metadata": {},
   "outputs": [],
   "source": [
    "from standardInclude import *"
   ]
  },
  {
   "cell_type": "code",
   "execution_count": 27,
   "metadata": {},
   "outputs": [
    {
     "name": "stdout",
     "output_type": "stream",
     "text": [
      "['filter_wheel_settings', 'sync_energies']\n"
     ]
    }
   ],
   "source": [
    "jasonConstants = fclReader(\"jasonSyncEnergies.fcl\")\n",
    "print([x for x in ding])"
   ]
  },
  {
   "cell_type": "code",
   "execution_count": 28,
   "metadata": {},
   "outputs": [
    {
     "data": {
      "text/plain": [
       "4255.28"
      ]
     },
     "execution_count": 28,
     "metadata": {},
     "output_type": "execute_result"
    }
   ],
   "source": [
    "ding['sync_energies']['calo12']['xtal3']"
   ]
  },
  {
   "cell_type": "code",
   "execution_count": 29,
   "metadata": {},
   "outputs": [
    {
     "name": "stdout",
     "output_type": "stream",
     "text": [
      "dict_keys(['absolute_calibration_constants'])\n"
     ]
    }
   ],
   "source": [
    "energyConstants = fclReader(\"../mipEnergyCalibration29927.fcl\")\n",
    "print(energyConstants.keys())"
   ]
  },
  {
   "cell_type": "code",
   "execution_count": 30,
   "metadata": {},
   "outputs": [],
   "source": [
    "for key in jasonConstants['sync_energies']:\n",
    "    caloDict = jasonConstants['sync_energies'][key]\n",
    "    #print(key, caloDict)\n",
    "    for key2 in caloDict:\n",
    "        constant = caloDict[key2]\n",
    "        #print(key, key2, constant, energyConstants[\"absolute_calibration_constants\"][key][key2])\n",
    "        jasonConstants['sync_energies'][key][key2] = round(constant* energyConstants[\"absolute_calibration_constants\"][key][key2],4)"
   ]
  },
  {
   "cell_type": "code",
   "execution_count": 33,
   "metadata": {},
   "outputs": [],
   "source": [
    "#print(jasonConstants)\n",
    "fclWriter(jasonConstants, \"jasonConstants_scaled.fcl\")"
   ]
  },
  {
   "cell_type": "code",
   "execution_count": null,
   "metadata": {},
   "outputs": [],
   "source": []
  },
  {
   "cell_type": "code",
   "execution_count": null,
   "metadata": {},
   "outputs": [],
   "source": []
  }
 ],
 "metadata": {
  "kernelspec": {
   "display_name": "Python 3",
   "language": "python",
   "name": "python3"
  },
  "language_info": {
   "codemirror_mode": {
    "name": "ipython",
    "version": 3
   },
   "file_extension": ".py",
   "mimetype": "text/x-python",
   "name": "python",
   "nbconvert_exporter": "python",
   "pygments_lexer": "ipython3",
   "version": "3.6.8"
  }
 },
 "nbformat": 4,
 "nbformat_minor": 2
}
