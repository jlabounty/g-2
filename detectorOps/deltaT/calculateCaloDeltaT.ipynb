{
 "cells": [
  {
   "cell_type": "code",
   "execution_count": 1,
   "metadata": {},
   "outputs": [
    {
     "name": "stdout",
     "output_type": "stream",
     "text": [
      "Welcome to JupyROOT 6.12/06\n",
      "For interactive plots, run: setint()\n",
      "To return to non-interactive plots (default state), run: noint()\n"
     ]
    }
   ],
   "source": [
    "from standardInclude import *"
   ]
  },
  {
   "cell_type": "code",
   "execution_count": 2,
   "metadata": {},
   "outputs": [
    {
     "name": "stdout",
     "output_type": "stream",
     "text": [
      "[<ROOT.TFrame object (\"TFrame\") at 0x7fffe1efa1e0>, <ROOT.TH2D object (\"deltaTCalos\") at 0x7fffe1eff5b0>, <ROOT.TPaveText object (\"title\") at 0x7fffe1fb2370>]\n",
      "TFile**\t\t./deltaTCalos.root\t\n",
      " TFile*\t\t./deltaTCalos.root\t\n",
      "  KEY: TCanvas\tc1;1\tc1\n"
     ]
    }
   ],
   "source": [
    "f = r.TFile(\"./deltaTCalos.root\")\n",
    "f.ls()\n",
    "c1 = f.Get(\"c1\")\n",
    "print([x for x in c1.GetListOfPrimitives()])\n",
    "deltaTCalos = c1.GetPrimitive(\"deltaTCalos\").Clone()\n",
    "deltaTCalos.SetDirectory(0)"
   ]
  },
  {
   "cell_type": "code",
   "execution_count": 3,
   "metadata": {},
   "outputs": [
    {
     "data": {
      "image/png": "[encoded data removed]",
      "text/plain": [
       "<IPython.core.display.Image object>"
      ]
     },
     "metadata": {},
     "output_type": "display_data"
    }
   ],
   "source": [
    "c = r.TCanvas()\n",
    "deltaTCalos.Draw(\"colz\")\n",
    "c.Draw()"
   ]
  },
  {
   "cell_type": "code",
   "execution_count": 7,
   "metadata": {},
   "outputs": [],
   "source": [
    "shape = (1,25) #shape of each row in the calorimeter matrix. 24 rows for calos + 1 for setting calo 22 offset to 0.\n",
    "\n",
    "#create a matrix in which to store the calo values and the deltaT value\n",
    "matrix = np.zeros(shape, dtype=float)\n",
    "rhs = np.zeros((1,1),dtype=float)\n",
    "#print(matrix, len(matrix[0]))\n",
    "#print(rhs)\n",
    "\n",
    "caloHists = []\n",
    "\n",
    "for calo in range(1,25):\n",
    "    caloBin = deltaTCalos.GetXaxis().FindBin(calo)\n",
    "    hi = deltaTCalos.ProjectionY(\"\",caloBin, caloBin).Clone(\"h_\"+str(calo))\n",
    "    c = r.TCanvas()\n",
    "    hi.Draw()\n",
    "    \n",
    "    peak = hi.GetBinCenter(hi.GetMaximumBin())\n",
    "    tempSigma = 0.4 #hi.GetRMS()\n",
    "    \n",
    "    func = r.TF1(\"func\",\"gaus\",peak-tempSigma, peak+tempSigma)\n",
    "    func.SetParameters(1000,6,2)\n",
    "    for sdfniwe in range(2):\n",
    "        hi.Fit(func,\"REMBQ\")\n",
    "    \n",
    "    caloHists.append(hi.Clone(\"hi_\"+str(calo)))\n",
    "    #c.Draw()\n",
    "    \n",
    "    mean = func.GetParameter(1)\n",
    "    \n",
    "    #create a new row in each of the matrices and set the values accordingly\n",
    "    newMatrixRow = [[0 for i in range(24)]+[1]]\n",
    "    #newMatrixRow[0][(calo -1) % 24] = 1\n",
    "    #newMatrixRow[0][calo % 24] = -1\n",
    "    newMatrixRow[0][(calo -2) % 24] = -1\n",
    "    newMatrixRow[0][(calo-1) % 24] = 1\n",
    "    newRHS = [[mean]]\n",
    "    #print(newMatrixRow)\n",
    "    \n",
    "    matrix = np.append(matrix, newMatrixRow, 0)\n",
    "    rhs = np.append(rhs, newRHS, 0)\n",
    "    \n",
    "    #create condition to set calo 22 to 0\n",
    "    if(calo == 22): \n",
    "        newMatrixRow = [[0 for i in range(24)]+[0]]\n",
    "        newMatrixRow[0][(calo -1) % 24] = +1\n",
    "        newRHS = [[0]]\n",
    "        #print(newMatrixRow)\n",
    "        matrix = np.append(matrix, newMatrixRow, 0)\n",
    "        rhs = np.append(rhs, newRHS, 0)\n",
    "\n",
    "matrix = np.delete(matrix, 0, 0)\n",
    "rhs = np.delete(rhs, 0, 0)"
   ]
  },
  {
   "cell_type": "raw",
   "metadata": {},
   "source": [
    "c = r.TCanvas(\"c\",\"c\",2000,1200)\n",
    "c.Divide(6,4)\n",
    "for i, h in enumerate(caloHists):\n",
    "    c.cd(i+1)\n",
    "    h.Draw()\n",
    "c.Draw()"
   ]
  },
  {
   "cell_type": "code",
   "execution_count": 8,
   "metadata": {},
   "outputs": [
    {
     "name": "stdout",
     "output_type": "stream",
     "text": [
      "[[ 1.  0.  0.  0.  0.  0.  0.  0.  0.  0.  0.  0.  0.  0.  0.  0.  0.  0.\n",
      "   0.  0.  0.  0.  0. -1.  1.]\n",
      " [-1.  1.  0.  0.  0.  0.  0.  0.  0.  0.  0.  0.  0.  0.  0.  0.  0.  0.\n",
      "   0.  0.  0.  0.  0.  0.  1.]\n",
      " [ 0. -1.  1.  0.  0.  0.  0.  0.  0.  0.  0.  0.  0.  0.  0.  0.  0.  0.\n",
      "   0.  0.  0.  0.  0.  0.  1.]\n",
      " [ 0.  0. -1.  1.  0.  0.  0.  0.  0.  0.  0.  0.  0.  0.  0.  0.  0.  0.\n",
      "   0.  0.  0.  0.  0.  0.  1.]\n",
      " [ 0.  0.  0. -1.  1.  0.  0.  0.  0.  0.  0.  0.  0.  0.  0.  0.  0.  0.\n",
      "   0.  0.  0.  0.  0.  0.  1.]\n",
      " [ 0.  0.  0.  0. -1.  1.  0.  0.  0.  0.  0.  0.  0.  0.  0.  0.  0.  0.\n",
      "   0.  0.  0.  0.  0.  0.  1.]\n",
      " [ 0.  0.  0.  0.  0. -1.  1.  0.  0.  0.  0.  0.  0.  0.  0.  0.  0.  0.\n",
      "   0.  0.  0.  0.  0.  0.  1.]\n",
      " [ 0.  0.  0.  0.  0.  0. -1.  1.  0.  0.  0.  0.  0.  0.  0.  0.  0.  0.\n",
      "   0.  0.  0.  0.  0.  0.  1.]\n",
      " [ 0.  0.  0.  0.  0.  0.  0. -1.  1.  0.  0.  0.  0.  0.  0.  0.  0.  0.\n",
      "   0.  0.  0.  0.  0.  0.  1.]\n",
      " [ 0.  0.  0.  0.  0.  0.  0.  0. -1.  1.  0.  0.  0.  0.  0.  0.  0.  0.\n",
      "   0.  0.  0.  0.  0.  0.  1.]\n",
      " [ 0.  0.  0.  0.  0.  0.  0.  0.  0. -1.  1.  0.  0.  0.  0.  0.  0.  0.\n",
      "   0.  0.  0.  0.  0.  0.  1.]\n",
      " [ 0.  0.  0.  0.  0.  0.  0.  0.  0.  0. -1.  1.  0.  0.  0.  0.  0.  0.\n",
      "   0.  0.  0.  0.  0.  0.  1.]\n",
      " [ 0.  0.  0.  0.  0.  0.  0.  0.  0.  0.  0. -1.  1.  0.  0.  0.  0.  0.\n",
      "   0.  0.  0.  0.  0.  0.  1.]\n",
      " [ 0.  0.  0.  0.  0.  0.  0.  0.  0.  0.  0.  0. -1.  1.  0.  0.  0.  0.\n",
      "   0.  0.  0.  0.  0.  0.  1.]\n",
      " [ 0.  0.  0.  0.  0.  0.  0.  0.  0.  0.  0.  0.  0. -1.  1.  0.  0.  0.\n",
      "   0.  0.  0.  0.  0.  0.  1.]\n",
      " [ 0.  0.  0.  0.  0.  0.  0.  0.  0.  0.  0.  0.  0.  0. -1.  1.  0.  0.\n",
      "   0.  0.  0.  0.  0.  0.  1.]\n",
      " [ 0.  0.  0.  0.  0.  0.  0.  0.  0.  0.  0.  0.  0.  0.  0. -1.  1.  0.\n",
      "   0.  0.  0.  0.  0.  0.  1.]\n",
      " [ 0.  0.  0.  0.  0.  0.  0.  0.  0.  0.  0.  0.  0.  0.  0.  0. -1.  1.\n",
      "   0.  0.  0.  0.  0.  0.  1.]\n",
      " [ 0.  0.  0.  0.  0.  0.  0.  0.  0.  0.  0.  0.  0.  0.  0.  0.  0. -1.\n",
      "   1.  0.  0.  0.  0.  0.  1.]\n",
      " [ 0.  0.  0.  0.  0.  0.  0.  0.  0.  0.  0.  0.  0.  0.  0.  0.  0.  0.\n",
      "  -1.  1.  0.  0.  0.  0.  1.]\n",
      " [ 0.  0.  0.  0.  0.  0.  0.  0.  0.  0.  0.  0.  0.  0.  0.  0.  0.  0.\n",
      "   0. -1.  1.  0.  0.  0.  1.]\n",
      " [ 0.  0.  0.  0.  0.  0.  0.  0.  0.  0.  0.  0.  0.  0.  0.  0.  0.  0.\n",
      "   0.  0. -1.  1.  0.  0.  1.]\n",
      " [ 0.  0.  0.  0.  0.  0.  0.  0.  0.  0.  0.  0.  0.  0.  0.  0.  0.  0.\n",
      "   0.  0.  0.  1.  0.  0.  0.]\n",
      " [ 0.  0.  0.  0.  0.  0.  0.  0.  0.  0.  0.  0.  0.  0.  0.  0.  0.  0.\n",
      "   0.  0.  0. -1.  1.  0.  1.]\n",
      " [ 0.  0.  0.  0.  0.  0.  0.  0.  0.  0.  0.  0.  0.  0.  0.  0.  0.  0.\n",
      "   0.  0.  0.  0. -1.  1.  1.]]\n",
      "[[5.3804319 ]\n",
      " [4.6798251 ]\n",
      " [5.26855978]\n",
      " [5.10386912]\n",
      " [4.10348764]\n",
      " [5.63632362]\n",
      " [4.64515124]\n",
      " [4.92316408]\n",
      " [6.85460398]\n",
      " [5.26230179]\n",
      " [4.69031904]\n",
      " [5.24073089]\n",
      " [4.33538338]\n",
      " [4.91209641]\n",
      " [4.85684995]\n",
      " [5.20824457]\n",
      " [5.59135731]\n",
      " [4.86371469]\n",
      " [4.90720377]\n",
      " [5.27596676]\n",
      " [3.90532938]\n",
      " [5.4878323 ]\n",
      " [0.        ]\n",
      " [4.77706029]\n",
      " [5.36894408]]\n"
     ]
    }
   ],
   "source": [
    "print(matrix)\n",
    "print(rhs)"
   ]
  },
  {
   "cell_type": "code",
   "execution_count": 37,
   "metadata": {},
   "outputs": [
    {
     "name": "stderr",
     "output_type": "stream",
     "text": [
      "/home/jlab/anaconda3/lib/python3.6/site-packages/ipykernel_launcher.py:1: FutureWarning: `rcond` parameter will change to the default of machine precision times ``max(M, N)`` where M and N are the input matrix dimensions.\n",
      "To use the future default and silence this warning we advise to pass `rcond=None`, to keep using the old, explicitly pass `rcond=-1`.\n",
      "  \"\"\"Entry point for launching an IPython kernel.\n"
     ]
    }
   ],
   "source": [
    "timeConstants, residuals, rankOfMatrix, singularValuesOfMatrix  = np.linalg.lstsq(matrix, rhs)\n",
    "\n",
    "#invert time constants to match conventions\n",
    "timeConstants = [-1*x for x in timeConstants]"
   ]
  },
  {
   "cell_type": "code",
   "execution_count": 38,
   "metadata": {},
   "outputs": [
    {
     "data": {
      "text/plain": [
       "[<matplotlib.lines.Line2D at 0x7f9260604470>]"
      ]
     },
     "execution_count": 38,
     "metadata": {},
     "output_type": "execute_result"
    },
    {
     "data": {
      "image/png": "[encoded data removed]",
      "text/plain": [
       "<Figure size 432x288 with 1 Axes>"
      ]
     },
     "metadata": {
      "needs_background": "light"
     },
     "output_type": "display_data"
    }
   ],
   "source": [
    "plt.plot(timeConstants)"
   ]
  },
  {
   "cell_type": "code",
   "execution_count": 39,
   "metadata": {},
   "outputs": [],
   "source": [
    "#calculated on the virtual machines using jasons timing alignment constant values\n",
    "jasonConstants = [-0.373,0.000,-0.220,-0.271,0.675,0.095,0.498,0.624,-1.168,-1.380,-1.018,-1.209,-0.490,-0.354,-0.143,-0.307,-0.846,\n",
    "                  -0.670,-0.528,-0.724,0.434,-0.000,0.273,-0.044,-5.051]"
   ]
  },
  {
   "cell_type": "code",
   "execution_count": 40,
   "metadata": {},
   "outputs": [],
   "source": [
    "with open('globalTimeAlignmentConstants.csv', 'w', newline='') as csvfile:\n",
    "    spamwriter = csv.writer(csvfile, delimiter=' ',\n",
    "                            quotechar='|', quoting=csv.QUOTE_MINIMAL)\n",
    "    for x in timeConstants:\n",
    "        spamwriter.writerow(x)"
   ]
  },
  {
   "cell_type": "code",
   "execution_count": 41,
   "metadata": {},
   "outputs": [
    {
     "data": {
      "image/png": "[encoded data removed]",
      "text/plain": [
       "<Figure size 1080x360 with 1 Axes>"
      ]
     },
     "metadata": {
      "needs_background": "light"
     },
     "output_type": "display_data"
    }
   ],
   "source": [
    "fig,ax = plt.subplots(figsize=(15,5))\n",
    "plt.plot([x for x in range(1,26)],[float(x) for x in timeConstants], \".:\",label=\"Me\")\n",
    "plt.plot([x for x in range(1,26)],jasonConstants,\".:\",label=\"Jason\")\n",
    "plt.legend()\n",
    "plt.grid()\n",
    "plt.show()"
   ]
  },
  {
   "cell_type": "code",
   "execution_count": 43,
   "metadata": {},
   "outputs": [
    {
     "name": "stdout",
     "output_type": "stream",
     "text": [
      "[0.006407611350458919, 0.0068638091463048626, 0.011585320778340374, 0.011997500069096279, 0.015791154329295787, 0.012748831625025603, 0.017878886222572832, 0.021996102874056844, 0.012673417349772675, 0.015652918011309414, 0.01661516770358018, 0.020165568083842622, 0.01906347853445406, 0.024248363691922514, 0.009679712437250326, 0.018716438942760205, 0.019640428041969638, 0.03320702962280253, 0.037284555398277186, 0.010599089625400682, 0.0005510068712292759, 5.995204332975845e-15, 0.0032210024587662756, 0.004558215412194248, -0.002281294390988009]\n"
     ]
    }
   ],
   "source": [
    "deltaConstants = [float(x)-y for (x,y) in zip(timeConstants,jasonConstants)]\n",
    "print(deltaConstants)"
   ]
  },
  {
   "cell_type": "code",
   "execution_count": 44,
   "metadata": {},
   "outputs": [
    {
     "data": {
      "image/png": "[encoded data removed]",
      "text/plain": [
       "<Figure size 432x288 with 1 Axes>"
      ]
     },
     "metadata": {
      "needs_background": "light"
     },
     "output_type": "display_data"
    }
   ],
   "source": [
    "plt.hist(deltaConstants,bins=30)\n",
    "plt.show()"
   ]
  },
  {
   "cell_type": "code",
   "execution_count": 45,
   "metadata": {},
   "outputs": [],
   "source": [
    "#f2 = r.TFile(\"./data/gm2offline_full_allRuns_EnergyFix.root\")\n",
    "f2 = r.TFile(\"./data/gm2offline_full_runNumFix.root\")\n",
    "t = f2.Get(\"lostMuonTree/lostMuonCoincidences\")"
   ]
  },
  {
   "cell_type": "code",
   "execution_count": null,
   "metadata": {},
   "outputs": [],
   "source": [
    "deltaTCalos_Corrected = deltaTCalos.Clone(\"deltaTCalos_Corrected\")\n",
    "deltaTCalos_Corrected.Reset()\n",
    "\n",
    "cutString = \"coinNum == 1 && nHit == 1\"\n",
    "\n",
    "for calo in range(1,25):\n",
    "    print(\"Starting calo\", calo)\n",
    "    deltaTCalos_i = deltaTCalos.Clone(\"deltaTCalos_i\")\n",
    "    deltaTCalos_i.Reset()\n",
    "    t.Draw(\"deltaT + \"+str(timeConstants[calo-1][0])+\":caloNum>>deltaTCalos_i\",\n",
    "           cutString+\" && caloNum == \"+str(calo),\n",
    "           \"goff\")\n",
    "    deltaTCalos_Corrected.Add(deltaTCalos_i,1)"
   ]
  },
  {
   "cell_type": "code",
   "execution_count": null,
   "metadata": {},
   "outputs": [],
   "source": [
    "deltaTCalos_JasonCorrected = deltaTCalos.Clone(\"deltaTCalos_JasonCorrected\")\n",
    "deltaTCalos_JasonCorrected.Reset()\n",
    "\n",
    "cutString = \"coinNum == 1 && nHit == 1\"\n",
    "\n",
    "for calo in range(1,25):\n",
    "    print(\"Starting calo\", calo)\n",
    "    deltaTCalos_i = deltaTCalos.Clone(\"deltaTCalos_i\")\n",
    "    deltaTCalos_i.Reset()\n",
    "    t.Draw(\"deltaT + \"+str(jasonConstants[calo-1])+\":caloNum>>deltaTCalos_i\",\n",
    "           cutString+\" && caloNum == \"+str(calo),\n",
    "           \"goff\")\n",
    "    deltaTCalos_JasonCorrected.Add(deltaTCalos_i,1)"
   ]
  },
  {
   "cell_type": "code",
   "execution_count": null,
   "metadata": {},
   "outputs": [],
   "source": [
    "jasonConstants[calo-1]"
   ]
  },
  {
   "cell_type": "code",
   "execution_count": null,
   "metadata": {},
   "outputs": [],
   "source": [
    "c = r.TCanvas()\n",
    "deltaTCalos_Corrected.Draw(\"colz\")\n",
    "c.Draw()"
   ]
  },
  {
   "cell_type": "code",
   "execution_count": null,
   "metadata": {},
   "outputs": [],
   "source": [
    "c = r.TCanvas()\n",
    "deltaTCalos_JasonCorrected.Draw(\"colz\")\n",
    "c.Draw()"
   ]
  },
  {
   "cell_type": "code",
   "execution_count": null,
   "metadata": {},
   "outputs": [],
   "source": []
  },
  {
   "cell_type": "code",
   "execution_count": null,
   "metadata": {},
   "outputs": [],
   "source": []
  }
 ],
 "metadata": {
  "kernelspec": {
   "display_name": "Python 3",
   "language": "python",
   "name": "python3"
  },
  "language_info": {
   "codemirror_mode": {
    "name": "ipython",
    "version": 3
   },
   "file_extension": ".py",
   "mimetype": "text/x-python",
   "name": "python",
   "nbconvert_exporter": "python",
   "pygments_lexer": "ipython3",
   "version": "3.6.8"
  }
 },
 "nbformat": 4,
 "nbformat_minor": 2
}
