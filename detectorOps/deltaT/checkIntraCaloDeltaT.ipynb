{
 "cells": [
  {
   "cell_type": "code",
   "execution_count": 1,
   "metadata": {},
   "outputs": [
    {
     "name": "stdout",
     "output_type": "stream",
     "text": [
      "Welcome to JupyROOT 6.12/06\n",
      "For interactive plots, run: setint()\n",
      "To return to non-interactive plots (default state), run: noint()\n"
     ]
    }
   ],
   "source": [
    "from standardInclude import *"
   ]
  },
  {
   "cell_type": "code",
   "execution_count": 4,
   "metadata": {},
   "outputs": [
    {
     "name": "stdout",
     "output_type": "stream",
     "text": [
      "TFile**\t\t./data/positronRuns_head_withPreliminaryTimingCorrection.root\t\n",
      " TFile*\t\t./data/positronRuns_head_withPreliminaryTimingCorrection.root\t\n",
      "  TDirectoryFile*\t\tneighboringCrystalsDeltaT\tneighboringCrystalsDeltaT (NeighboringCrystalsTimeExtraction) folder\n",
      "   KEY: TH3D\thitDeltaT0;1\tcalo 0 delta t\n",
      "   KEY: TH3D\thitDeltaT1;1\tcalo 1 delta t\n",
      "   KEY: TH3D\thitDeltaT2;1\tcalo 2 delta t\n",
      "   KEY: TH3D\thitDeltaT3;1\tcalo 3 delta t\n",
      "   KEY: TH3D\thitDeltaT4;1\tcalo 4 delta t\n",
      "   KEY: TH3D\thitDeltaT5;1\tcalo 5 delta t\n",
      "   KEY: TH3D\thitDeltaT6;1\tcalo 6 delta t\n",
      "   KEY: TH3D\thitDeltaT7;1\tcalo 7 delta t\n",
      "   KEY: TH3D\thitDeltaT8;1\tcalo 8 delta t\n",
      "   KEY: TH3D\thitDeltaT9;1\tcalo 9 delta t\n",
      "   KEY: TH3D\thitDeltaT10;1\tcalo 10 delta t\n",
      "   KEY: TH3D\thitDeltaT11;1\tcalo 11 delta t\n",
      "   KEY: TH3D\thitDeltaT12;1\tcalo 12 delta t\n",
      "   KEY: TH3D\thitDeltaT13;1\tcalo 13 delta t\n",
      "   KEY: TH3D\thitDeltaT14;1\tcalo 14 delta t\n",
      "   KEY: TH3D\thitDeltaT15;1\tcalo 15 delta t\n",
      "   KEY: TH3D\thitDeltaT16;1\tcalo 16 delta t\n",
      "   KEY: TH3D\thitDeltaT17;1\tcalo 17 delta t\n",
      "   KEY: TH3D\thitDeltaT18;1\tcalo 18 delta t\n",
      "   KEY: TH3D\thitDeltaT19;1\tcalo 19 delta t\n",
      "   KEY: TH3D\thitDeltaT20;1\tcalo 20 delta t\n",
      "   KEY: TH3D\thitDeltaT21;1\tcalo 21 delta t\n",
      "   KEY: TH3D\thitDeltaT22;1\tcalo 22 delta t\n",
      "   KEY: TH3D\thitDeltaT23;1\tcalo 23 delta t\n",
      "  KEY: TDirectoryFile\tneighboringCrystalsDeltaT;1\tneighboringCrystalsDeltaT (NeighboringCrystalsTimeExtraction) folder\n"
     ]
    }
   ],
   "source": [
    "f = r.TFile(\"./data/positronRuns_head_withPreliminaryTimingCorrection.root\")\n",
    "f.cd(\"neighboringCrystalsDeltaT\")\n",
    "f.ls()"
   ]
  },
  {
   "cell_type": "code",
   "execution_count": null,
   "metadata": {},
   "outputs": [],
   "source": []
  }
 ],
 "metadata": {
  "kernelspec": {
   "display_name": "Python 3",
   "language": "python",
   "name": "python3"
  },
  "language_info": {
   "codemirror_mode": {
    "name": "ipython",
    "version": 3
   },
   "file_extension": ".py",
   "mimetype": "text/x-python",
   "name": "python",
   "nbconvert_exporter": "python",
   "pygments_lexer": "ipython3",
   "version": "3.6.8"
  }
 },
 "nbformat": 4,
 "nbformat_minor": 2
}
