{
 "cells": [
  {
   "cell_type": "code",
   "execution_count": 1,
   "metadata": {},
   "outputs": [
    {
     "name": "stdout",
     "output_type": "stream",
     "text": [
      "Welcome to JupyROOT 6.12/06\n",
      "For interactive plots, run: setint()\n",
      "To return to non-interactive plots (default state), run: noint()\n"
     ]
    }
   ],
   "source": [
    "from standardInclude import *"
   ]
  },
  {
   "cell_type": "code",
   "execution_count": 13,
   "metadata": {},
   "outputs": [
    {
     "name": "stdout",
     "output_type": "stream",
     "text": [
      "TFile**\t\t./data/gm2offline_ana.root\t\n",
      " TFile*\t\t./data/gm2offline_ana.root\t\n",
      "  TDirectoryFile*\t\tfarline\tfarline (CaloFarlineHistograms) folder\n",
      "   KEY: TDirectoryFile\tcalo1;1\tcalo1\n",
      "   KEY: TDirectoryFile\tcalo2;1\tcalo2\n",
      "   KEY: TDirectoryFile\tcalo3;1\tcalo3\n",
      "   KEY: TDirectoryFile\tcalo4;1\tcalo4\n",
      "   KEY: TDirectoryFile\tcalo5;1\tcalo5\n",
      "   KEY: TDirectoryFile\tcalo6;1\tcalo6\n",
      "   KEY: TDirectoryFile\tcalo7;1\tcalo7\n",
      "   KEY: TDirectoryFile\tcalo8;1\tcalo8\n",
      "   KEY: TDirectoryFile\tcalo9;1\tcalo9\n",
      "   KEY: TDirectoryFile\tcalo10;1\tcalo10\n",
      "   KEY: TDirectoryFile\tcalo11;1\tcalo11\n",
      "   KEY: TDirectoryFile\tcalo12;1\tcalo12\n",
      "   KEY: TDirectoryFile\tcalo13;1\tcalo13\n",
      "   KEY: TDirectoryFile\tcalo14;1\tcalo14\n",
      "   KEY: TDirectoryFile\tcalo15;1\tcalo15\n",
      "   KEY: TDirectoryFile\tcalo16;1\tcalo16\n",
      "   KEY: TDirectoryFile\tcalo17;1\tcalo17\n",
      "   KEY: TDirectoryFile\tcalo18;1\tcalo18\n",
      "   KEY: TDirectoryFile\tcalo19;1\tcalo19\n",
      "   KEY: TDirectoryFile\tcalo20;1\tcalo20\n",
      "   KEY: TDirectoryFile\tcalo21;1\tcalo21\n",
      "   KEY: TDirectoryFile\tcalo22;1\tcalo22\n",
      "   KEY: TDirectoryFile\tcalo23;1\tcalo23\n",
      "   KEY: TDirectoryFile\tcalo24;1\tcalo24\n",
      "   KEY: TTree\teventTree;4\teventTree\n",
      "   KEY: TTree\teventTree;3\teventTree\n",
      "   KEY: TH1D\tallCaloEnergies;1\tall energies\n",
      "   KEY: TH1D\tallCaloWiggle;1\tT Method, all calos\n",
      "   KEY: TH1D\tallCaloTimes;1\thit times, all calos\n",
      "   KEY: TH1D\tfarlineCTag;1\tfarlineCTag\n",
      "   KEY: TH1D\tallProcessedEventHist;1\tAll Processed Events\n",
      "  KEY: TDirectoryFile\tfarline;1\tfarline (CaloFarlineHistograms) folder\n"
     ]
    }
   ],
   "source": [
    "f = r.TFile(\"./data/gm2offline_ana.root\")\n",
    "\n",
    "f.cd(\"farline\")\n",
    "f.ls()"
   ]
  },
  {
   "cell_type": "code",
   "execution_count": 14,
   "metadata": {},
   "outputs": [],
   "source": [
    "c5times = f.Get(\"farline\").Get(\"calo5\").Get(\"times\").Clone(\"c5times\")\n",
    "c6times = f.Get(\"farline\").Get(\"calo6\").Get(\"times\").Clone(\"c6times\")"
   ]
  },
  {
   "cell_type": "code",
   "execution_count": 15,
   "metadata": {},
   "outputs": [
    {
     "data": {
      "image/png": "[encoded data removed]",
      "text/plain": [
       "<IPython.core.display.Image object>"
      ]
     },
     "metadata": {},
     "output_type": "display_data"
    }
   ],
   "source": [
    "c = r.TCanvas()\n",
    "\n",
    "c5times.Draw()\n",
    "c5times.GetXaxis().SetRangeUser(0,40000)\n",
    "\n",
    "c.SetLogy()\n",
    "c.Draw()"
   ]
  },
  {
   "cell_type": "code",
   "execution_count": 16,
   "metadata": {},
   "outputs": [
    {
     "data": {
      "text/plain": [
       "202963.0"
      ]
     },
     "execution_count": 16,
     "metadata": {},
     "output_type": "execute_result"
    }
   ],
   "source": [
    "c5times.GetEntries()"
   ]
  },
  {
   "cell_type": "markdown",
   "metadata": {},
   "source": [
    "---\n",
    "\n",
    "# EvW Comparison Files"
   ]
  },
  {
   "cell_type": "code",
   "execution_count": 17,
   "metadata": {},
   "outputs": [],
   "source": [
    "f2 = r.TFile(\"./data/gm2offline_ana_calo5_singlefile.root\")"
   ]
  },
  {
   "cell_type": "code",
   "execution_count": 18,
   "metadata": {},
   "outputs": [
    {
     "name": "stdout",
     "output_type": "stream",
     "text": [
      "TFile**\t\t./data/gm2offline_ana_calo5_singlefile.root\t\n",
      " TFile*\t\t./data/gm2offline_ana_calo5_singlefile.root\t\n",
      "  TDirectoryFile*\t\tfarline\tfarline (ReconComparisonEastVsWest) folder\n",
      "   KEY: TDirectoryFile\tevw_calo1;1\tevw_calo1\n",
      "   KEY: TDirectoryFile\tevw_calo2;1\tevw_calo2\n",
      "   KEY: TDirectoryFile\tevw_calo3;1\tevw_calo3\n",
      "   KEY: TDirectoryFile\tevw_calo4;1\tevw_calo4\n",
      "   KEY: TDirectoryFile\tevw_calo5;1\tevw_calo5\n",
      "   KEY: TDirectoryFile\tevw_calo6;1\tevw_calo6\n",
      "   KEY: TDirectoryFile\tevw_calo7;1\tevw_calo7\n",
      "   KEY: TDirectoryFile\tevw_calo8;1\tevw_calo8\n",
      "   KEY: TDirectoryFile\tevw_calo9;1\tevw_calo9\n",
      "   KEY: TDirectoryFile\tevw_calo10;1\tevw_calo10\n",
      "   KEY: TDirectoryFile\tevw_calo11;1\tevw_calo11\n",
      "   KEY: TDirectoryFile\tevw_calo12;1\tevw_calo12\n",
      "   KEY: TDirectoryFile\tevw_calo13;1\tevw_calo13\n",
      "   KEY: TDirectoryFile\tevw_calo14;1\tevw_calo14\n",
      "   KEY: TDirectoryFile\tevw_calo15;1\tevw_calo15\n",
      "   KEY: TDirectoryFile\tevw_calo16;1\tevw_calo16\n",
      "   KEY: TDirectoryFile\tevw_calo17;1\tevw_calo17\n",
      "   KEY: TDirectoryFile\tevw_calo18;1\tevw_calo18\n",
      "   KEY: TDirectoryFile\tevw_calo19;1\tevw_calo19\n",
      "   KEY: TDirectoryFile\tevw_calo20;1\tevw_calo20\n",
      "   KEY: TDirectoryFile\tevw_calo21;1\tevw_calo21\n",
      "   KEY: TDirectoryFile\tevw_calo22;1\tevw_calo22\n",
      "   KEY: TDirectoryFile\tevw_calo23;1\tevw_calo23\n",
      "   KEY: TDirectoryFile\tevw_calo24;1\tevw_calo24\n",
      "   KEY: TDirectoryFile\twve_calo1;1\twve_calo1\n",
      "   KEY: TDirectoryFile\twve_calo2;1\twve_calo2\n",
      "   KEY: TDirectoryFile\twve_calo3;1\twve_calo3\n",
      "   KEY: TDirectoryFile\twve_calo4;1\twve_calo4\n",
      "   KEY: TDirectoryFile\twve_calo5;1\twve_calo5\n",
      "   KEY: TDirectoryFile\twve_calo6;1\twve_calo6\n",
      "   KEY: TDirectoryFile\twve_calo7;1\twve_calo7\n",
      "   KEY: TDirectoryFile\twve_calo8;1\twve_calo8\n",
      "   KEY: TDirectoryFile\twve_calo9;1\twve_calo9\n",
      "   KEY: TDirectoryFile\twve_calo10;1\twve_calo10\n",
      "   KEY: TDirectoryFile\twve_calo11;1\twve_calo11\n",
      "   KEY: TDirectoryFile\twve_calo12;1\twve_calo12\n",
      "   KEY: TDirectoryFile\twve_calo13;1\twve_calo13\n",
      "   KEY: TDirectoryFile\twve_calo14;1\twve_calo14\n",
      "   KEY: TDirectoryFile\twve_calo15;1\twve_calo15\n",
      "   KEY: TDirectoryFile\twve_calo16;1\twve_calo16\n",
      "   KEY: TDirectoryFile\twve_calo17;1\twve_calo17\n",
      "   KEY: TDirectoryFile\twve_calo18;1\twve_calo18\n",
      "   KEY: TDirectoryFile\twve_calo19;1\twve_calo19\n",
      "   KEY: TDirectoryFile\twve_calo20;1\twve_calo20\n",
      "   KEY: TDirectoryFile\twve_calo21;1\twve_calo21\n",
      "   KEY: TDirectoryFile\twve_calo22;1\twve_calo22\n",
      "   KEY: TDirectoryFile\twve_calo23;1\twve_calo23\n",
      "   KEY: TDirectoryFile\twve_calo24;1\twve_calo24\n",
      "   KEY: TTree\tevwTree;3\tevwTree\n",
      "   KEY: TTree\tevwTree;2\tevwTree\n",
      "   KEY: TTree\teventTree;2\teventTree\n",
      "   KEY: TTree\teventTree;1\teventTree\n",
      "   KEY: TTree\teastTree;2\teastTree\n",
      "   KEY: TTree\teastTree;1\teastTree\n",
      "   KEY: TTree\twveTree;2\twveTree\n",
      "   KEY: TTree\twveTree;1\twveTree\n",
      "   KEY: TTree\tevwNoPartnerTree;1\tevwNoPartnerTree\n",
      "   KEY: TTree\tevwNonBackwardsTree;1\tevwNonBackwardsTree\n",
      "   KEY: TTree\twveNoPartnerTree;1\twveNoPartnerTree\n",
      "   KEY: TTree\twveNonBackwardsTree;1\twveNonBackwardsTree\n",
      "   KEY: TH1D\tallCaloEnergies;1\tall energies\n",
      "   KEY: TH1D\tallCaloWiggle;1\tT Method, all calos\n",
      "   KEY: TH1D\tallCaloTimes;1\thit times, all calos\n",
      "   KEY: TH1D\tfarlineCTag;1\tfarlineCTag\n",
      "   KEY: TH1D\tallProcessedEventHist;1\tAll Processed Events\n",
      "   KEY: TH2D\tevwDeltaXDeltaY;1\tDeltaX vs. DeltaY\n",
      "   KEY: TH2D\tevwDeltaXDeltaYLowEnergy;1\tDeltaX vs. DeltaY\n",
      "   KEY: TH2D\tevwDeltaXDeltaE;1\tDeltaX vs. DeltaE\n",
      "   KEY: TH2D\tevwDeltaYDeltaE;1\tDeltaY vs. DeltaE\n",
      "   KEY: TH2D\tevwEnergyEvW;1\tEnergyEast vs. EnergyWest\n",
      "   KEY: TH2D\tevwDeltaTCalo;1\tDeltaT\n",
      "   KEY: TH2D\tevwDeltaTCalo_LowEnergy;1\tDeltaT\n",
      "   KEY: TH2D\tevwDeltaTCaloAfterCorr;1\tDeltaT\n",
      "   KEY: TH2D\tevwDeltaTCaloAfterCorr_LowEnergy;1\tDeltaT\n",
      "   KEY: TH1D\tevwDeltaT;1\tDeltaT\n",
      "   KEY: TH2D\tevwSubSetTracker;1\tRuns/Subruns In East (+) only\n",
      "   KEY: TH2D\tevwbetweenThresholdsEarlyToLate;1\tBetween Thresholds Early To Late\n",
      "   KEY: TH2D\tcounterHist;1\tNumber of Clusters Per Island in East and West\n",
      "   KEY: TH2D\tevwEnergyEvW_30us;1\tEnergyEast vs. EnergyWest For Clusters Slipping Through the Cracks\n",
      "   KEY: TH2D\tevwEnergyEvW_Early;1\tEnergyEast vs. EnergyWest For Clusters 30 < t_{west} < 80 #mus\n",
      "   KEY: TH2D\tevwEnergyEvW_Late;1\tEnergyEast vs. EnergyWest For Clusters 100 < t_{west} < 600 #mus\n",
      "   KEY: TH2D\twveDeltaXDeltaY;1\tDeltaX vs. DeltaY\n",
      "   KEY: TH2D\twveDeltaXDeltaE;1\tDeltaX vs. DeltaE\n",
      "   KEY: TH2D\twveDeltaYDeltaE;1\tDeltaY vs. DeltaE\n",
      "   KEY: TH2D\twveEnergyEvW;1\tEnergyEast vs. EnergyWest\n",
      "   KEY: TH2D\twveDeltaTCalo;1\tDeltaT\n",
      "   KEY: TH2D\twveDeltaTCaloAfterCorr;1\tDeltaT\n",
      "   KEY: TH1D\twveDeltaT;1\tDeltaT\n",
      "   KEY: TH2D\twveSubSetTracker;1\tRuns/Subruns In West (+) only\n",
      "  KEY: TDirectoryFile\tfarline;1\tfarline (ReconComparisonEastVsWest) folder\n"
     ]
    }
   ],
   "source": [
    "f2.cd(\"farline\")\n",
    "f2.ls()"
   ]
  },
  {
   "cell_type": "code",
   "execution_count": 22,
   "metadata": {},
   "outputs": [
    {
     "name": "stdout",
     "output_type": "stream",
     "text": [
      "******************************************************************************\n",
      "*Tree    :evwNoPartnerTree: evwNoPartnerTree                                       *\n",
      "*Entries :        0 : Total =            8336 bytes  File  Size =       1348 *\n",
      "*        :          : Tree compression factor =   1.00                       *\n",
      "******************************************************************************\n",
      "*Br    0 :runNum    : runNum/i                                               *\n",
      "*Entries :        0 : Total  Size=        489 bytes  One basket in memory    *\n",
      "*Baskets :        0 : Basket Size=      32000 bytes  Compression=   1.00     *\n",
      "*............................................................................*\n",
      "*Br    1 :subRunNum : subRunNum/i                                            *\n",
      "*Entries :        0 : Total  Size=        501 bytes  One basket in memory    *\n",
      "*Baskets :        0 : Basket Size=      32000 bytes  Compression=   1.00     *\n",
      "*............................................................................*\n",
      "*Br    2 :fill      : fill/I                                                 *\n",
      "*Entries :        0 : Total  Size=        481 bytes  One basket in memory    *\n",
      "*Baskets :        0 : Basket Size=      32000 bytes  Compression=   1.00     *\n",
      "*............................................................................*\n",
      "*Br    3 :island    : island/I                                               *\n",
      "*Entries :        0 : Total  Size=        489 bytes  One basket in memory    *\n",
      "*Baskets :        0 : Basket Size=      32000 bytes  Compression=   1.00     *\n",
      "*............................................................................*\n",
      "*Br    4 :caloNum   : caloNum/I                                              *\n",
      "*Entries :        0 : Total  Size=        493 bytes  One basket in memory    *\n",
      "*Baskets :        0 : Basket Size=      32000 bytes  Compression=   1.00     *\n",
      "*............................................................................*\n",
      "*Br    5 :timeEast  : timeEast/D                                             *\n",
      "*Entries :        0 : Total  Size=        505 bytes  One basket in memory    *\n",
      "*Baskets :        0 : Basket Size=      32000 bytes  Compression=   1.00     *\n",
      "*............................................................................*\n",
      "*Branch  :positionEast                                                       *\n",
      "*Entries :        0 : BranchElement (see below)                              *\n",
      "*............................................................................*\n",
      "*Br    6 :first     : Double_t                                               *\n",
      "*Entries :        0 : Total  Size=        489 bytes  One basket in memory    *\n",
      "*Baskets :        0 : Basket Size=      32000 bytes  Compression=   1.00     *\n",
      "*............................................................................*\n",
      "*Br    7 :second    : Double_t                                               *\n",
      "*Entries :        0 : Total  Size=        493 bytes  One basket in memory    *\n",
      "*Baskets :        0 : Basket Size=      32000 bytes  Compression=   1.00     *\n",
      "*............................................................................*\n",
      "*Br    8 :energyEast : energyEast/D                                          *\n",
      "*Entries :        0 : Total  Size=        513 bytes  One basket in memory    *\n",
      "*Baskets :        0 : Basket Size=      32000 bytes  Compression=   1.00     *\n",
      "*............................................................................*\n",
      "*Br    9 :timeCorr  : timeCorr/D                                             *\n",
      "*Entries :        0 : Total  Size=        505 bytes  One basket in memory    *\n",
      "*Baskets :        0 : Basket Size=      32000 bytes  Compression=   1.00     *\n",
      "*............................................................................*\n",
      "*Br   10 :crystalsEast : vector<double>                                      *\n",
      "*Entries :        0 : Total  Size=        517 bytes  One basket in memory    *\n",
      "*Baskets :        0 : Basket Size=      32000 bytes  Compression=   1.00     *\n",
      "*............................................................................*\n",
      "*Br   11 :crystalsWest : vector<double>                                      *\n",
      "*Entries :        0 : Total  Size=        517 bytes  One basket in memory    *\n",
      "*Baskets :        0 : Basket Size=      32000 bytes  Compression=   1.00     *\n",
      "*............................................................................*\n",
      "*Br   12 :numberOfCrystals : numberOfCrystals/D                              *\n",
      "*Entries :        0 : Total  Size=        537 bytes  One basket in memory    *\n",
      "*Baskets :        0 : Basket Size=      32000 bytes  Compression=   1.00     *\n",
      "*............................................................................*\n",
      "*Br   13 :uniqueID  : uniqueID/L                                             *\n",
      "*Entries :        0 : Total  Size=        505 bytes  One basket in memory    *\n",
      "*Baskets :        0 : Basket Size=      32000 bytes  Compression=   1.00     *\n",
      "*............................................................................*\n",
      "******************************************************************************\n",
      "*Tree    :wveNoPartnerTree: wveNoPartnerTree                                       *\n",
      "*Entries :     8856 : Total =         3473245 bytes  File  Size =     784445 *\n",
      "*        :          : Tree compression factor =   4.43                       *\n",
      "******************************************************************************\n",
      "*Br    0 :runNum    : runNum/i                                               *\n",
      "*Entries :     8856 : Total  Size=      36083 bytes  File Size  =        428 *\n",
      "*Baskets :        2 : Basket Size=      32000 bytes  Compression=  83.16     *\n",
      "*............................................................................*\n",
      "*Br    1 :subRunNum : subRunNum/i                                            *\n",
      "*Entries :     8856 : Total  Size=      36101 bytes  File Size  =        429 *\n",
      "*Baskets :        2 : Basket Size=      32000 bytes  Compression=  82.98     *\n",
      "*............................................................................*\n",
      "*Br    2 :fill      : fill/I                                                 *\n",
      "*Entries :     8856 : Total  Size=      36071 bytes  File Size  =        966 *\n",
      "*Baskets :        2 : Basket Size=      32000 bytes  Compression=  36.84     *\n",
      "*............................................................................*\n",
      "*Br    3 :island    : island/I                                               *\n",
      "*Entries :     8856 : Total  Size=      36083 bytes  File Size  =      13515 *\n",
      "*Baskets :        2 : Basket Size=      32000 bytes  Compression=   2.63     *\n",
      "*............................................................................*\n",
      "*Br    4 :caloNum   : caloNum/I                                              *\n",
      "*Entries :     8856 : Total  Size=      36089 bytes  File Size  =       5089 *\n",
      "*Baskets :        2 : Basket Size=      32000 bytes  Compression=   6.99     *\n",
      "*............................................................................*\n",
      "*Br    5 :timeWest  : timeWest/D                                             *\n",
      "*Entries :     8856 : Total  Size=      71614 bytes  File Size  =      61291 *\n",
      "*Baskets :        3 : Basket Size=      32000 bytes  Compression=   1.16     *\n",
      "*............................................................................*\n",
      "*Branch  :positionWest                                                       *\n",
      "*Entries :     8856 : BranchElement (see below)                              *\n",
      "*............................................................................*\n",
      "*Br    6 :first     : Double_t                                               *\n",
      "*Entries :     8856 : Total  Size=      71589 bytes  File Size  =      44581 *\n",
      "*Baskets :        3 : Basket Size=      32000 bytes  Compression=   1.59     *\n",
      "*............................................................................*\n",
      "*Br    7 :second    : Double_t                                               *\n",
      "*Entries :     8856 : Total  Size=      71596 bytes  File Size  =      43585 *\n",
      "*Baskets :        3 : Basket Size=      32000 bytes  Compression=   1.63     *\n",
      "*............................................................................*\n",
      "*Br    8 :energyWest : energyWest/D                                          *\n",
      "*Entries :     8856 : Total  Size=      71628 bytes  File Size  =      67190 *\n",
      "*Baskets :        3 : Basket Size=      32000 bytes  Compression=   1.06     *\n",
      "*............................................................................*\n",
      "*Br    9 :timeCorr  : timeCorr/D                                             *\n",
      "*Entries :     8856 : Total  Size=      71614 bytes  File Size  =        668 *\n",
      "*Baskets :        3 : Basket Size=      32000 bytes  Compression= 106.45     *\n",
      "*............................................................................*\n",
      "*Br   10 :crystalsEast : vector<double>                                      *\n",
      "*Entries :     8856 : Total  Size=     679090 bytes  File Size  =      92966 *\n",
      "*Baskets :       23 : Basket Size=      32000 bytes  Compression=   7.30     *\n",
      "*............................................................................*\n",
      "*Br   11 :crystalsWest : vector<double>                                      *\n",
      "*Entries :     8856 : Total  Size=    2111101 bytes  File Size  =     447329 *\n",
      "*Baskets :       68 : Basket Size=      32000 bytes  Compression=   4.72     *\n",
      "*............................................................................*\n",
      "*Br   12 :numberOfCrystals : numberOfCrystals/D                              *\n",
      "*Entries :     8856 : Total  Size=      71670 bytes  File Size  =       1587 *\n",
      "*Baskets :        3 : Basket Size=      32000 bytes  Compression=  44.82     *\n",
      "*............................................................................*\n",
      "*Br   13 :uniqueID  : uniqueID/L                                             *\n",
      "*Entries :     8856 : Total  Size=      71614 bytes  File Size  =       1832 *\n",
      "*Baskets :        3 : Basket Size=      32000 bytes  Compression=  38.81     *\n",
      "*............................................................................*\n"
     ]
    }
   ],
   "source": [
    "tle = f2.Get(\"farline\").Get(\"evwNoPartnerTree\")\n",
    "tle.Print()\n",
    "\n",
    "tlw = f2.Get(\"farline\").Get(\"wveNoPartnerTree\")\n",
    "tlw.Print()"
   ]
  },
  {
   "cell_type": "code",
   "execution_count": 24,
   "metadata": {},
   "outputs": [
    {
     "data": {
      "image/png": "[encoded data removed]",
      "text/plain": [
       "<IPython.core.display.Image object>"
      ]
     },
     "metadata": {},
     "output_type": "display_data"
    }
   ],
   "source": [
    "c = r.TCanvas()\n",
    "tlw.Draw(\"energyWest>>hist(200,0,2000)\",\"caloNum == 5\",\"\")\n",
    "c.Draw()"
   ]
  },
  {
   "cell_type": "code",
   "execution_count": 28,
   "metadata": {},
   "outputs": [
    {
     "name": "stdout",
     "output_type": "stream",
     "text": [
      "0.0\n"
     ]
    },
    {
     "data": {
      "image/png": "[encoded data removed]",
      "text/plain": [
       "<IPython.core.display.Image object>"
      ]
     },
     "metadata": {},
     "output_type": "display_data"
    }
   ],
   "source": [
    "c = r.TCanvas()\n",
    "evwSubSetTracker = f2.Get(\"farline\").Get(\"evwSubSetTracker\").Clone()\n",
    "evwSubSetTracker.Draw()\n",
    "print(evwSubSetTracker.GetEntries())\n",
    "c.Draw()"
   ]
  },
  {
   "cell_type": "code",
   "execution_count": 31,
   "metadata": {},
   "outputs": [
    {
     "name": "stdout",
     "output_type": "stream",
     "text": [
      "0.0\n"
     ]
    },
    {
     "data": {
      "image/png": "[encoded data removed]",
      "text/plain": [
       "<IPython.core.display.Image object>"
      ]
     },
     "metadata": {},
     "output_type": "display_data"
    }
   ],
   "source": [
    "c = r.TCanvas()\n",
    "wveSubSetTracker = f2.Get(\"farline\").Get(\"wveSubSetTracker\").Clone()\n",
    "wveSubSetTracker.Draw()\n",
    "print(evwSubSetTracker.GetEntries())\n",
    "c.Draw()"
   ]
  },
  {
   "cell_type": "code",
   "execution_count": 30,
   "metadata": {},
   "outputs": [
    {
     "name": "stdout",
     "output_type": "stream",
     "text": [
      "0.0\n"
     ]
    },
    {
     "data": {
      "image/png": "[encoded data removed]",
      "text/plain": [
       "<IPython.core.display.Image object>"
      ]
     },
     "metadata": {},
     "output_type": "display_data"
    }
   ],
   "source": [
    "c = r.TCanvas()\n",
    "counterHist = f2.Get(\"farline\").Get(\"counterHist\").Clone()\n",
    "counterHist.Draw(\"colz text\")\n",
    "print(evwSubSetTracker.GetEntries())\n",
    "c.Draw()"
   ]
  },
  {
   "cell_type": "code",
   "execution_count": null,
   "metadata": {},
   "outputs": [],
   "source": []
  }
 ],
 "metadata": {
  "kernelspec": {
   "display_name": "Python 3",
   "language": "python",
   "name": "python3"
  },
  "language_info": {
   "codemirror_mode": {
    "name": "ipython",
    "version": 3
   },
   "file_extension": ".py",
   "mimetype": "text/x-python",
   "name": "python",
   "nbconvert_exporter": "python",
   "pygments_lexer": "ipython3",
   "version": "3.6.8"
  }
 },
 "nbformat": 4,
 "nbformat_minor": 2
}
