{
 "cells": [
  {
   "cell_type": "code",
   "execution_count": 7,
   "metadata": {},
   "outputs": [],
   "source": [
    "runStart = 16455\n",
    "runEnd = 17228\n",
    "modulo = 10\n",
    "maxSubrun = 50"
   ]
  },
  {
   "cell_type": "code",
   "execution_count": 10,
   "metadata": {},
   "outputs": [],
   "source": [
    "datasetString = 'samweb -e gm2 create-definition calo2Investigation_Every10_Nearline_labounty_AllSubruns_LargerBounds  \"( '\n",
    "for run in range(runStart, runEnd+1, modulo):\n",
    "    datasetString += \"( run_number >= \"+str(run)+\" and run_number <= \"+str(run)+\" ) or \"\n",
    "datasetString = datasetString[:-3]+\" ) \"\n",
    "#datasetString += \" and subrun_number < \"+str(maxSubrun + 1)\n",
    "datasetString +=' and data_tier raw\"'"
   ]
  },
  {
   "cell_type": "code",
   "execution_count": 11,
   "metadata": {},
   "outputs": [
    {
     "name": "stdout",
     "output_type": "stream",
     "text": [
      "samweb -e gm2 create-definition calo2Investigation_Every10_Nearline_labounty_AllSubruns_LargerBounds  \"( ( run_number >= 16455 and run_number <= 16455 ) or ( run_number >= 16465 and run_number <= 16465 ) or ( run_number >= 16475 and run_number <= 16475 ) or ( run_number >= 16485 and run_number <= 16485 ) or ( run_number >= 16495 and run_number <= 16495 ) or ( run_number >= 16505 and run_number <= 16505 ) or ( run_number >= 16515 and run_number <= 16515 ) or ( run_number >= 16525 and run_number <= 16525 ) or ( run_number >= 16535 and run_number <= 16535 ) or ( run_number >= 16545 and run_number <= 16545 ) or ( run_number >= 16555 and run_number <= 16555 ) or ( run_number >= 16565 and run_number <= 16565 ) or ( run_number >= 16575 and run_number <= 16575 ) or ( run_number >= 16585 and run_number <= 16585 ) or ( run_number >= 16595 and run_number <= 16595 ) or ( run_number >= 16605 and run_number <= 16605 ) or ( run_number >= 16615 and run_number <= 16615 ) or ( run_number >= 16625 and run_number <= 16625 ) or ( run_number >= 16635 and run_number <= 16635 ) or ( run_number >= 16645 and run_number <= 16645 ) or ( run_number >= 16655 and run_number <= 16655 ) or ( run_number >= 16665 and run_number <= 16665 ) or ( run_number >= 16675 and run_number <= 16675 ) or ( run_number >= 16685 and run_number <= 16685 ) or ( run_number >= 16695 and run_number <= 16695 ) or ( run_number >= 16705 and run_number <= 16705 ) or ( run_number >= 16715 and run_number <= 16715 ) or ( run_number >= 16725 and run_number <= 16725 ) or ( run_number >= 16735 and run_number <= 16735 ) or ( run_number >= 16745 and run_number <= 16745 ) or ( run_number >= 16755 and run_number <= 16755 ) or ( run_number >= 16765 and run_number <= 16765 ) or ( run_number >= 16775 and run_number <= 16775 ) or ( run_number >= 16785 and run_number <= 16785 ) or ( run_number >= 16795 and run_number <= 16795 ) or ( run_number >= 16805 and run_number <= 16805 ) or ( run_number >= 16815 and run_number <= 16815 ) or ( run_number >= 16825 and run_number <= 16825 ) or ( run_number >= 16835 and run_number <= 16835 ) or ( run_number >= 16845 and run_number <= 16845 ) or ( run_number >= 16855 and run_number <= 16855 ) or ( run_number >= 16865 and run_number <= 16865 ) or ( run_number >= 16875 and run_number <= 16875 ) or ( run_number >= 16885 and run_number <= 16885 ) or ( run_number >= 16895 and run_number <= 16895 ) or ( run_number >= 16905 and run_number <= 16905 ) or ( run_number >= 16915 and run_number <= 16915 ) or ( run_number >= 16925 and run_number <= 16925 ) or ( run_number >= 16935 and run_number <= 16935 ) or ( run_number >= 16945 and run_number <= 16945 ) or ( run_number >= 16955 and run_number <= 16955 ) or ( run_number >= 16965 and run_number <= 16965 ) or ( run_number >= 16975 and run_number <= 16975 ) or ( run_number >= 16985 and run_number <= 16985 ) or ( run_number >= 16995 and run_number <= 16995 ) or ( run_number >= 17005 and run_number <= 17005 ) or ( run_number >= 17015 and run_number <= 17015 ) or ( run_number >= 17025 and run_number <= 17025 ) or ( run_number >= 17035 and run_number <= 17035 ) or ( run_number >= 17045 and run_number <= 17045 ) or ( run_number >= 17055 and run_number <= 17055 ) or ( run_number >= 17065 and run_number <= 17065 ) or ( run_number >= 17075 and run_number <= 17075 ) or ( run_number >= 17085 and run_number <= 17085 ) or ( run_number >= 17095 and run_number <= 17095 ) or ( run_number >= 17105 and run_number <= 17105 ) or ( run_number >= 17115 and run_number <= 17115 ) or ( run_number >= 17125 and run_number <= 17125 ) or ( run_number >= 17135 and run_number <= 17135 ) or ( run_number >= 17145 and run_number <= 17145 ) or ( run_number >= 17155 and run_number <= 17155 ) or ( run_number >= 17165 and run_number <= 17165 ) or ( run_number >= 17175 and run_number <= 17175 ) or ( run_number >= 17185 and run_number <= 17185 ) or ( run_number >= 17195 and run_number <= 17195 ) or ( run_number >= 17205 and run_number <= 17205 ) or ( run_number >= 17215 and run_number <= 17215 ) or ( run_number >= 17225 and run_number <= 17225 )  )  and data_tier raw\"\n"
     ]
    }
   ],
   "source": [
    "print(datasetString)"
   ]
  },
  {
   "cell_type": "code",
   "execution_count": null,
   "metadata": {},
   "outputs": [],
   "source": []
  }
 ],
 "metadata": {
  "kernelspec": {
   "display_name": "Python 3",
   "language": "python",
   "name": "python3"
  },
  "language_info": {
   "codemirror_mode": {
    "name": "ipython",
    "version": 3
   },
   "file_extension": ".py",
   "mimetype": "text/x-python",
   "name": "python",
   "nbconvert_exporter": "python",
   "pygments_lexer": "ipython3",
   "version": "3.6.8"
  }
 },
 "nbformat": 4,
 "nbformat_minor": 2
}
