{
 "cells": [
  {
   "cell_type": "code",
   "execution_count": 1,
   "metadata": {},
   "outputs": [
    {
     "name": "stdout",
     "output_type": "stream",
     "text": [
      "Welcome to JupyROOT 6.12/06\n",
      "For interactive plots, run: setint()\n",
      "To return to non-interactive plots (default state), run: noint()\n"
     ]
    }
   ],
   "source": [
    "from standardInclude import *"
   ]
  },
  {
   "cell_type": "markdown",
   "metadata": {},
   "source": [
    "---\n",
    "### Plot: y-Position vs. time in fill"
   ]
  },
  {
   "cell_type": "code",
   "execution_count": 3,
   "metadata": {},
   "outputs": [
    {
     "name": "stdout",
     "output_type": "stream",
     "text": [
      "TFile**\t\t./data/yPositions_vsRun_vsTime.root\t\n",
      " TFile*\t\t./data/yPositions_vsRun_vsTime.root\t\n",
      "  KEY: TProfile2D\th;1\th\n"
     ]
    }
   ],
   "source": [
    "f = r.TFile(\"./data/yPositions_vsRun_vsTime.root\")\n",
    "f.ls()"
   ]
  },
  {
   "cell_type": "code",
   "execution_count": 5,
   "metadata": {},
   "outputs": [],
   "source": [
    "h = f.Get(\"h\").Clone(\"h\")\n",
    "h.SetDirectory(0)"
   ]
  },
  {
   "cell_type": "code",
   "execution_count": 12,
   "metadata": {},
   "outputs": [
    {
     "data": {
      "image/png": "[encoded data removed]",
      "text/plain": [
       "<IPython.core.display.Image object>"
      ]
     },
     "metadata": {},
     "output_type": "display_data"
    }
   ],
   "source": [
    "c = r.TCanvas()\n",
    "h.Draw(\"colz\")\n",
    "c.Draw()"
   ]
  },
  {
   "cell_type": "code",
   "execution_count": 23,
   "metadata": {},
   "outputs": [
    {
     "name": "stdout",
     "output_type": "stream",
     "text": [
      "24580 116261134.99999999\n",
      "24582 117824410.99999999\n",
      "24613 113948710.0\n",
      "24774 122053526.99999999\n",
      "24782 98973510.0\n",
      "24801 105993418.99999999\n",
      "24832 121625128.99999999\n",
      "24858 105549594.99999999\n",
      "24890 96695816.0\n",
      "24920 106270942.99999999\n",
      "24929 92604251.0\n",
      "24937 105851452.99999999\n",
      "24977 103390102.99999999\n",
      "24981 99127124.99999999\n",
      "24998 106951188.99999999\n",
      "25039 102375104.0\n",
      "25906 101062506.99999999\n",
      "25916 99003328.99999999\n",
      "25920 96020110.99999999\n",
      "25921 98892372.0\n",
      "25952 98403710.99999999\n",
      "25960 93406754.0\n",
      "26010 108629596.99999999\n",
      "26100 102138750.99999999\n",
      "26150 76920916.0\n",
      "26175 101570760.0\n",
      "26179 103705588.0\n",
      "26300 102863658.99999999\n",
      "26339 98506174.0\n",
      "26368 99556892.0\n",
      "26478 90433572.0\n",
      "26487 98426650.0\n",
      "26497 56530372.0\n",
      "26501 86662053.0\n",
      "26506 104387158.99999999\n",
      "26525 89098238.0\n",
      "26571 75741834.0\n",
      "26576 74422182.0\n",
      "26591 98101776.99999999\n",
      "26686 87824394.0\n",
      "26692 98162848.0\n",
      "26695 91592606.0\n",
      "26710 99337478.0\n",
      "26719 102003338.99999999\n",
      "26761 105099854.99999999\n",
      "26765 100960540.99999999\n",
      "27094 100073984.0\n",
      "27192 85125000.0\n",
      "27193 103153134.99999999\n",
      "27436 68549408.0\n",
      "[<ROOT.TProfile object (\"h_24580\") at 0x7fbbfd388110>, <ROOT.TProfile object (\"h_24582\") at 0x7fbbfd68df30>, <ROOT.TProfile object (\"h_24613\") at 0x7fffea622ed0>, <ROOT.TProfile object (\"h_24774\") at 0x7fffea623770>, <ROOT.TProfile object (\"h_24782\") at 0x7fbbfd188560>, <ROOT.TProfile object (\"h_24801\") at 0x7fbbfd78ee20>, <ROOT.TProfile object (\"h_24832\") at 0x7fbbfd78f6c0>, <ROOT.TProfile object (\"h_24858\") at 0x7fbbfd68e980>, <ROOT.TProfile object (\"h_24890\") at 0x7fbbfda8e7e0>, <ROOT.TProfile object (\"h_24920\") at 0x7fbbfda8f080>, <ROOT.TProfile object (\"h_24929\") at 0x7fbbfd18b240>, <ROOT.TProfile object (\"h_24937\") at 0x7fbbfd18bae0>, <ROOT.TProfile object (\"h_24977\") at 0x7fbbfda88110>, <ROOT.TProfile object (\"h_24981\") at 0x7fbbfda889b0>, <ROOT.TProfile object (\"h_24998\") at 0x7fbbfda89250>, <ROOT.TProfile object (\"h_25039\") at 0x7fbbfd18e960>, <ROOT.TProfile object (\"h_25906\") at 0x7fbbfda896a0>, <ROOT.TProfile object (\"h_25916\") at 0x7fbbfd18f650>, <ROOT.TProfile object (\"h_25920\") at 0x7fbbfda8b110>, <ROOT.TProfile object (\"h_25921\") at 0x7fbbfda8b9b0>, <ROOT.TProfile object (\"h_25952\") at 0x7fbbfda8c370>, <ROOT.TProfile object (\"h_25960\") at 0x7fbbfda8ce10>, <ROOT.TProfile object (\"h_26010\") at 0x7fbbfd68a220>, <ROOT.TProfile object (\"h_26100\") at 0x7fbbfd68aac0>, <ROOT.TProfile object (\"h_26150\") at 0x7fbbfd68b4e0>, <ROOT.TProfile object (\"h_26175\") at 0x7fbbfd68d450>, <ROOT.TProfile object (\"h_26179\") at 0x7fbbfd68c430>, <ROOT.TProfile object (\"h_26300\") at 0x7fbbfd68cd10>, <ROOT.TProfile object (\"h_26339\") at 0x7fbbfd58c650>, <ROOT.TProfile object (\"h_26368\") at 0x7fbbfd58d150>, <ROOT.TProfile object (\"h_26478\") at 0x7fbbfd58f090>, <ROOT.TProfile object (\"h_26487\") at 0x7fbbfd58dc80>, <ROOT.TProfile object (\"h_26497\") at 0x7fbbfd58e520>, <ROOT.TProfile object (\"h_26501\") at 0x7fbbfd588110>, <ROOT.TProfile object (\"h_26506\") at 0x7fbbfd588ae0>, <ROOT.TProfile object (\"h_26525\") at 0x7fbbfd589620>, <ROOT.TProfile object (\"h_26571\") at 0x7fbbfd58b4d0>, <ROOT.TProfile object (\"h_26576\") at 0x7fbbfd58a0c0>, <ROOT.TProfile object (\"h_26591\") at 0x7fbbfd58a960>, <ROOT.TProfile object (\"h_26686\") at 0x7fbbfd388e40>, <ROOT.TProfile object (\"h_26692\") at 0x7fbbfd3896e0>, <ROOT.TProfile object (\"h_26695\") at 0x7fbbfd38a0f0>, <ROOT.TProfile object (\"h_26710\") at 0x7fbbfd38ac20>, <ROOT.TProfile object (\"h_26719\") at 0x7fbbfd38b6f0>, <ROOT.TProfile object (\"h_26761\") at 0x7fbbfd38c240>, <ROOT.TProfile object (\"h_26765\") at 0x7fbbfd38cd80>, <ROOT.TProfile object (\"h_27094\") at 0x7fbbfd38eca0>, <ROOT.TProfile object (\"h_27192\") at 0x7fbbfd38e710>, <ROOT.TProfile object (\"h_27193\") at 0x7fbbfd38d890>, <ROOT.TProfile object (\"h_27436\") at 0x7fbbfcc88110>]\n"
     ]
    },
    {
     "name": "stderr",
     "output_type": "stream",
     "text": [
      "Warning in <TFile::Append>: Replacing existing TH1: _px (Potential memory leak).\n",
      "Warning in <TFile::Append>: Replacing existing TH1: _px (Potential memory leak).\n",
      "Warning in <TFile::Append>: Replacing existing TH1: _px (Potential memory leak).\n",
      "Warning in <TFile::Append>: Replacing existing TH1: _px (Potential memory leak).\n",
      "Warning in <TFile::Append>: Replacing existing TH1: _px (Potential memory leak).\n",
      "Warning in <TFile::Append>: Replacing existing TH1: _px (Potential memory leak).\n",
      "Warning in <TFile::Append>: Replacing existing TH1: _px (Potential memory leak).\n",
      "Warning in <TFile::Append>: Replacing existing TH1: _px (Potential memory leak).\n",
      "Warning in <TFile::Append>: Replacing existing TH1: _px (Potential memory leak).\n",
      "Warning in <TFile::Append>: Replacing existing TH1: _px (Potential memory leak).\n",
      "Warning in <TFile::Append>: Replacing existing TH1: _px (Potential memory leak).\n",
      "Warning in <TFile::Append>: Replacing existing TH1: _px (Potential memory leak).\n",
      "Warning in <TFile::Append>: Replacing existing TH1: _px (Potential memory leak).\n",
      "Warning in <TFile::Append>: Replacing existing TH1: _px (Potential memory leak).\n",
      "Warning in <TFile::Append>: Replacing existing TH1: _px (Potential memory leak).\n",
      "Warning in <TFile::Append>: Replacing existing TH1: _px (Potential memory leak).\n",
      "Warning in <TFile::Append>: Replacing existing TH1: _px (Potential memory leak).\n",
      "Warning in <TFile::Append>: Replacing existing TH1: _px (Potential memory leak).\n",
      "Warning in <TFile::Append>: Replacing existing TH1: _px (Potential memory leak).\n",
      "Warning in <TFile::Append>: Replacing existing TH1: _px (Potential memory leak).\n",
      "Warning in <TFile::Append>: Replacing existing TH1: _px (Potential memory leak).\n",
      "Warning in <TFile::Append>: Replacing existing TH1: _px (Potential memory leak).\n",
      "Warning in <TFile::Append>: Replacing existing TH1: _px (Potential memory leak).\n",
      "Warning in <TFile::Append>: Replacing existing TH1: _px (Potential memory leak).\n",
      "Warning in <TFile::Append>: Replacing existing TH1: _px (Potential memory leak).\n",
      "Warning in <TFile::Append>: Replacing existing TH1: _px (Potential memory leak).\n",
      "Warning in <TFile::Append>: Replacing existing TH1: _px (Potential memory leak).\n",
      "Warning in <TFile::Append>: Replacing existing TH1: _px (Potential memory leak).\n",
      "Warning in <TFile::Append>: Replacing existing TH1: _px (Potential memory leak).\n",
      "Warning in <TFile::Append>: Replacing existing TH1: _px (Potential memory leak).\n",
      "Warning in <TFile::Append>: Replacing existing TH1: _px (Potential memory leak).\n",
      "Warning in <TFile::Append>: Replacing existing TH1: _px (Potential memory leak).\n",
      "Warning in <TFile::Append>: Replacing existing TH1: _px (Potential memory leak).\n",
      "Warning in <TFile::Append>: Replacing existing TH1: _px (Potential memory leak).\n",
      "Warning in <TFile::Append>: Replacing existing TH1: _px (Potential memory leak).\n",
      "Warning in <TFile::Append>: Replacing existing TH1: _px (Potential memory leak).\n",
      "Warning in <TFile::Append>: Replacing existing TH1: _px (Potential memory leak).\n",
      "Warning in <TFile::Append>: Replacing existing TH1: _px (Potential memory leak).\n",
      "Warning in <TFile::Append>: Replacing existing TH1: _px (Potential memory leak).\n",
      "Warning in <TFile::Append>: Replacing existing TH1: _px (Potential memory leak).\n",
      "Warning in <TFile::Append>: Replacing existing TH1: _px (Potential memory leak).\n",
      "Warning in <TFile::Append>: Replacing existing TH1: _px (Potential memory leak).\n",
      "Warning in <TFile::Append>: Replacing existing TH1: _px (Potential memory leak).\n",
      "Warning in <TFile::Append>: Replacing existing TH1: _px (Potential memory leak).\n",
      "Warning in <TFile::Append>: Replacing existing TH1: _px (Potential memory leak).\n",
      "Warning in <TFile::Append>: Replacing existing TH1: _px (Potential memory leak).\n",
      "Warning in <TFile::Append>: Replacing existing TH1: _px (Potential memory leak).\n",
      "Warning in <TFile::Append>: Replacing existing TH1: _px (Potential memory leak).\n",
      "Warning in <TFile::Append>: Replacing existing TH1: _px (Potential memory leak).\n",
      "Warning in <TFile::Append>: Replacing existing TH1: _px (Potential memory leak).\n"
     ]
    }
   ],
   "source": [
    "profiles = []\n",
    "for run in range(24000, 28000):\n",
    "    bini = h.GetYaxis().FindBin(run)\n",
    "    #if(run > 25000):\n",
    "    #    break\n",
    "    #print(h.GetYaxis().GetBinCenter(bini), h.GetYaxis().GetBinWidth(bini))\n",
    "    \n",
    "    if( h.GetBinContent(h.FindBin(3, run)) > 0):\n",
    "        h2 = h.ProfileX(\"_px\",bini, bini)\n",
    "        print(run, h2.GetEntries())\n",
    "        profiles.append(h2.Clone(\"h_\"+str(run)))\n",
    "print(profiles)"
   ]
  },
  {
   "cell_type": "code",
   "execution_count": null,
   "metadata": {},
   "outputs": [],
   "source": []
  }
 ],
 "metadata": {
  "kernelspec": {
   "display_name": "Python 3",
   "language": "python",
   "name": "python3"
  },
  "language_info": {
   "codemirror_mode": {
    "name": "ipython",
    "version": 3
   },
   "file_extension": ".py",
   "mimetype": "text/x-python",
   "name": "python",
   "nbconvert_exporter": "python",
   "pygments_lexer": "ipython3",
   "version": "3.6.8"
  }
 },
 "nbformat": 4,
 "nbformat_minor": 2
}
