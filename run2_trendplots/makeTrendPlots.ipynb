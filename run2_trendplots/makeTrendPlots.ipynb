{
 "cells": [
  {
   "cell_type": "code",
   "execution_count": 1,
   "metadata": {},
   "outputs": [
    {
     "name": "stdout",
     "output_type": "stream",
     "text": [
      "Welcome to JupyROOT 6.12/06\n",
      "For interactive plots, run: setint()\n",
      "To return to non-interactive plots (default state), run: noint()\n"
     ]
    }
   ],
   "source": [
    "from standardInclude import *\n",
    "from matplotlib.dates import DateFormatter\n",
    "import matplotlib.dates as mdates"
   ]
  },
  {
   "cell_type": "code",
   "execution_count": 2,
   "metadata": {},
   "outputs": [
    {
     "data": {
      "text/html": [
       "<div>\n",
       "<style scoped>\n",
       "    .dataframe tbody tr th:only-of-type {\n",
       "        vertical-align: middle;\n",
       "    }\n",
       "\n",
       "    .dataframe tbody tr th {\n",
       "        vertical-align: top;\n",
       "    }\n",
       "\n",
       "    .dataframe thead th {\n",
       "        text-align: right;\n",
       "    }\n",
       "</style>\n",
       "<table border=\"1\" class=\"dataframe\">\n",
       "  <thead>\n",
       "    <tr style=\"text-align: right;\">\n",
       "      <th></th>\n",
       "      <th>run</th>\n",
       "      <th>startTime</th>\n",
       "      <th>stopTime</th>\n",
       "      <th>nEvents</th>\n",
       "      <th>quality</th>\n",
       "      <th>AvgTemp_AllCalos</th>\n",
       "      <th>ctag</th>\n",
       "      <th>ctagPerFill</th>\n",
       "      <th>nSubRuns</th>\n",
       "      <th>AvgGain_Calo1</th>\n",
       "      <th>...</th>\n",
       "      <th>t0_tubea_total_integral</th>\n",
       "      <th>t0_tubeb_total_integral</th>\n",
       "      <th>ibms1x_centroid</th>\n",
       "      <th>ibms1y_centroid</th>\n",
       "      <th>ibms2x_centroid</th>\n",
       "      <th>ibms2y_centroid</th>\n",
       "      <th>ibms1x_total_integral</th>\n",
       "      <th>ibms1y_total_integral</th>\n",
       "      <th>ibms2x_total_integral</th>\n",
       "      <th>ibms2y_total_integral</th>\n",
       "    </tr>\n",
       "  </thead>\n",
       "  <tbody>\n",
       "    <tr>\n",
       "      <th>2837</th>\n",
       "      <td>24376</td>\n",
       "      <td>2019-03-26 17:17:43</td>\n",
       "      <td>2019-03-26 20:01:04</td>\n",
       "      <td>135715.0</td>\n",
       "      <td>Y</td>\n",
       "      <td>38.283933</td>\n",
       "      <td>NaN</td>\n",
       "      <td>NaN</td>\n",
       "      <td>NaN</td>\n",
       "      <td>1.085579</td>\n",
       "      <td>...</td>\n",
       "      <td>1.811154e+07</td>\n",
       "      <td>2.015959e+07</td>\n",
       "      <td>9.42528</td>\n",
       "      <td>7.06583</td>\n",
       "      <td>8.77788</td>\n",
       "      <td>7.48696</td>\n",
       "      <td>4.979098e+07</td>\n",
       "      <td>4.981594e+07</td>\n",
       "      <td>7.396418e+07</td>\n",
       "      <td>8.576739e+07</td>\n",
       "    </tr>\n",
       "    <tr>\n",
       "      <th>2836</th>\n",
       "      <td>24377</td>\n",
       "      <td>2019-03-26 20:01:25</td>\n",
       "      <td>2019-03-26 22:40:26</td>\n",
       "      <td>129232.0</td>\n",
       "      <td>Y</td>\n",
       "      <td>38.186626</td>\n",
       "      <td>NaN</td>\n",
       "      <td>NaN</td>\n",
       "      <td>NaN</td>\n",
       "      <td>1.075511</td>\n",
       "      <td>...</td>\n",
       "      <td>1.970759e+07</td>\n",
       "      <td>2.193608e+07</td>\n",
       "      <td>9.52851</td>\n",
       "      <td>7.15526</td>\n",
       "      <td>8.91188</td>\n",
       "      <td>7.62644</td>\n",
       "      <td>5.388915e+07</td>\n",
       "      <td>5.389136e+07</td>\n",
       "      <td>7.986628e+07</td>\n",
       "      <td>9.264326e+07</td>\n",
       "    </tr>\n",
       "    <tr>\n",
       "      <th>2835</th>\n",
       "      <td>24378</td>\n",
       "      <td>2019-03-26 22:40:45</td>\n",
       "      <td>2019-03-26 22:40:26</td>\n",
       "      <td>19459.0</td>\n",
       "      <td>Y</td>\n",
       "      <td>NaN</td>\n",
       "      <td>1605447.0</td>\n",
       "      <td>557.640500</td>\n",
       "      <td>24.0</td>\n",
       "      <td>1.060443</td>\n",
       "      <td>...</td>\n",
       "      <td>NaN</td>\n",
       "      <td>NaN</td>\n",
       "      <td>NaN</td>\n",
       "      <td>NaN</td>\n",
       "      <td>NaN</td>\n",
       "      <td>NaN</td>\n",
       "      <td>NaN</td>\n",
       "      <td>NaN</td>\n",
       "      <td>NaN</td>\n",
       "      <td>NaN</td>\n",
       "    </tr>\n",
       "    <tr>\n",
       "      <th>2834</th>\n",
       "      <td>24379</td>\n",
       "      <td>2019-03-26 23:19:29</td>\n",
       "      <td>2019-03-26 23:06:09</td>\n",
       "      <td>3961.0</td>\n",
       "      <td>Y</td>\n",
       "      <td>NaN</td>\n",
       "      <td>1023459.0</td>\n",
       "      <td>570.489967</td>\n",
       "      <td>15.0</td>\n",
       "      <td>1.059009</td>\n",
       "      <td>...</td>\n",
       "      <td>NaN</td>\n",
       "      <td>NaN</td>\n",
       "      <td>NaN</td>\n",
       "      <td>NaN</td>\n",
       "      <td>NaN</td>\n",
       "      <td>NaN</td>\n",
       "      <td>NaN</td>\n",
       "      <td>NaN</td>\n",
       "      <td>NaN</td>\n",
       "      <td>NaN</td>\n",
       "    </tr>\n",
       "    <tr>\n",
       "      <th>2833</th>\n",
       "      <td>24380</td>\n",
       "      <td>2019-03-26 23:35:11</td>\n",
       "      <td>2019-03-26 23:26:11</td>\n",
       "      <td>12752.0</td>\n",
       "      <td>Y</td>\n",
       "      <td>NaN</td>\n",
       "      <td>3301574.0</td>\n",
       "      <td>579.732046</td>\n",
       "      <td>48.0</td>\n",
       "      <td>1.058188</td>\n",
       "      <td>...</td>\n",
       "      <td>NaN</td>\n",
       "      <td>NaN</td>\n",
       "      <td>NaN</td>\n",
       "      <td>NaN</td>\n",
       "      <td>NaN</td>\n",
       "      <td>NaN</td>\n",
       "      <td>NaN</td>\n",
       "      <td>NaN</td>\n",
       "      <td>NaN</td>\n",
       "      <td>NaN</td>\n",
       "    </tr>\n",
       "  </tbody>\n",
       "</table>\n",
       "<p>5 rows × 90 columns</p>\n",
       "</div>"
      ],
      "text/plain": [
       "        run            startTime             stopTime   nEvents quality  \\\n",
       "2837  24376  2019-03-26 17:17:43  2019-03-26 20:01:04  135715.0       Y   \n",
       "2836  24377  2019-03-26 20:01:25  2019-03-26 22:40:26  129232.0       Y   \n",
       "2835  24378  2019-03-26 22:40:45  2019-03-26 22:40:26   19459.0       Y   \n",
       "2834  24379  2019-03-26 23:19:29  2019-03-26 23:06:09    3961.0       Y   \n",
       "2833  24380  2019-03-26 23:35:11  2019-03-26 23:26:11   12752.0       Y   \n",
       "\n",
       "      AvgTemp_AllCalos       ctag  ctagPerFill  nSubRuns  AvgGain_Calo1  ...  \\\n",
       "2837         38.283933        NaN          NaN       NaN       1.085579  ...   \n",
       "2836         38.186626        NaN          NaN       NaN       1.075511  ...   \n",
       "2835               NaN  1605447.0   557.640500      24.0       1.060443  ...   \n",
       "2834               NaN  1023459.0   570.489967      15.0       1.059009  ...   \n",
       "2833               NaN  3301574.0   579.732046      48.0       1.058188  ...   \n",
       "\n",
       "      t0_tubea_total_integral  t0_tubeb_total_integral  ibms1x_centroid  \\\n",
       "2837             1.811154e+07             2.015959e+07          9.42528   \n",
       "2836             1.970759e+07             2.193608e+07          9.52851   \n",
       "2835                      NaN                      NaN              NaN   \n",
       "2834                      NaN                      NaN              NaN   \n",
       "2833                      NaN                      NaN              NaN   \n",
       "\n",
       "      ibms1y_centroid  ibms2x_centroid  ibms2y_centroid  \\\n",
       "2837          7.06583          8.77788          7.48696   \n",
       "2836          7.15526          8.91188          7.62644   \n",
       "2835              NaN              NaN              NaN   \n",
       "2834              NaN              NaN              NaN   \n",
       "2833              NaN              NaN              NaN   \n",
       "\n",
       "      ibms1x_total_integral  ibms1y_total_integral  ibms2x_total_integral  \\\n",
       "2837           4.979098e+07           4.981594e+07           7.396418e+07   \n",
       "2836           5.388915e+07           5.389136e+07           7.986628e+07   \n",
       "2835                    NaN                    NaN                    NaN   \n",
       "2834                    NaN                    NaN                    NaN   \n",
       "2833                    NaN                    NaN                    NaN   \n",
       "\n",
       "      ibms2y_total_integral  \n",
       "2837           8.576739e+07  \n",
       "2836           9.264326e+07  \n",
       "2835                    NaN  \n",
       "2834                    NaN  \n",
       "2833                    NaN  \n",
       "\n",
       "[5 rows x 90 columns]"
      ]
     },
     "execution_count": 2,
     "metadata": {},
     "output_type": "execute_result"
    }
   ],
   "source": [
    "df = pandas.read_csv(\"./run2Trends_11.csv\", parse_dates=True)\n",
    "df = df.loc[df['quality'] == 'Y']\n",
    "df = df.loc[df['runType'] == \" P\"]\n",
    "#df = df.loc[df['runType'] != \"X\"].loc[df['runType'] != \" I\"]\n",
    "df = df.sort_values(by=['startTime'], ascending=True)\n",
    "\n",
    "#df = df.loc[df['nlCtagPerFill_Mark'] > 100]\n",
    "#df = df.sample(100)\n",
    "df.head()"
   ]
  },
  {
   "cell_type": "code",
   "execution_count": 3,
   "metadata": {},
   "outputs": [
    {
     "data": {
      "text/html": [
       "<div>\n",
       "<style scoped>\n",
       "    .dataframe tbody tr th:only-of-type {\n",
       "        vertical-align: middle;\n",
       "    }\n",
       "\n",
       "    .dataframe tbody tr th {\n",
       "        vertical-align: top;\n",
       "    }\n",
       "\n",
       "    .dataframe thead th {\n",
       "        text-align: right;\n",
       "    }\n",
       "</style>\n",
       "<table border=\"1\" class=\"dataframe\">\n",
       "  <thead>\n",
       "    <tr style=\"text-align: right;\">\n",
       "      <th></th>\n",
       "      <th>run</th>\n",
       "      <th>nEvents</th>\n",
       "      <th>AvgTemp_AllCalos</th>\n",
       "      <th>ctag</th>\n",
       "      <th>ctagPerFill</th>\n",
       "      <th>nSubRuns</th>\n",
       "      <th>AvgGain_Calo1</th>\n",
       "      <th>AvgGain_Calo2</th>\n",
       "      <th>AvgGain_Calo3</th>\n",
       "      <th>AvgGain_Calo4</th>\n",
       "      <th>...</th>\n",
       "      <th>t0_tubea_total_integral</th>\n",
       "      <th>t0_tubeb_total_integral</th>\n",
       "      <th>ibms1x_centroid</th>\n",
       "      <th>ibms1y_centroid</th>\n",
       "      <th>ibms2x_centroid</th>\n",
       "      <th>ibms2y_centroid</th>\n",
       "      <th>ibms1x_total_integral</th>\n",
       "      <th>ibms1y_total_integral</th>\n",
       "      <th>ibms2x_total_integral</th>\n",
       "      <th>ibms2y_total_integral</th>\n",
       "    </tr>\n",
       "  </thead>\n",
       "  <tbody>\n",
       "    <tr>\n",
       "      <th>count</th>\n",
       "      <td>826.000000</td>\n",
       "      <td>826.000000</td>\n",
       "      <td>647.000000</td>\n",
       "      <td>4.360000e+02</td>\n",
       "      <td>436.000000</td>\n",
       "      <td>436.000000</td>\n",
       "      <td>727.000000</td>\n",
       "      <td>727.000000</td>\n",
       "      <td>727.000000</td>\n",
       "      <td>727.000000</td>\n",
       "      <td>...</td>\n",
       "      <td>3.150000e+02</td>\n",
       "      <td>3.150000e+02</td>\n",
       "      <td>315.000000</td>\n",
       "      <td>315.000000</td>\n",
       "      <td>315.000000</td>\n",
       "      <td>315.000000</td>\n",
       "      <td>3.150000e+02</td>\n",
       "      <td>3.150000e+02</td>\n",
       "      <td>3.150000e+02</td>\n",
       "      <td>3.150000e+02</td>\n",
       "    </tr>\n",
       "    <tr>\n",
       "      <th>mean</th>\n",
       "      <td>25759.469734</td>\n",
       "      <td>81435.870460</td>\n",
       "      <td>39.395637</td>\n",
       "      <td>3.569357e+06</td>\n",
       "      <td>518.673871</td>\n",
       "      <td>57.172018</td>\n",
       "      <td>1.195930</td>\n",
       "      <td>1.221229</td>\n",
       "      <td>1.267903</td>\n",
       "      <td>1.212607</td>\n",
       "      <td>...</td>\n",
       "      <td>1.702723e+07</td>\n",
       "      <td>1.927774e+07</td>\n",
       "      <td>9.878635</td>\n",
       "      <td>7.168229</td>\n",
       "      <td>9.136372</td>\n",
       "      <td>7.528169</td>\n",
       "      <td>4.547418e+07</td>\n",
       "      <td>4.599209e+07</td>\n",
       "      <td>6.579124e+07</td>\n",
       "      <td>7.843677e+07</td>\n",
       "    </tr>\n",
       "    <tr>\n",
       "      <th>std</th>\n",
       "      <td>862.212885</td>\n",
       "      <td>50763.960077</td>\n",
       "      <td>0.854227</td>\n",
       "      <td>3.441820e+06</td>\n",
       "      <td>158.459588</td>\n",
       "      <td>51.871284</td>\n",
       "      <td>0.113334</td>\n",
       "      <td>0.105302</td>\n",
       "      <td>0.121913</td>\n",
       "      <td>0.117802</td>\n",
       "      <td>...</td>\n",
       "      <td>9.496524e+05</td>\n",
       "      <td>1.117015e+06</td>\n",
       "      <td>0.162243</td>\n",
       "      <td>0.117419</td>\n",
       "      <td>0.101444</td>\n",
       "      <td>0.105046</td>\n",
       "      <td>3.291218e+06</td>\n",
       "      <td>3.397993e+06</td>\n",
       "      <td>5.041224e+06</td>\n",
       "      <td>5.237101e+06</td>\n",
       "    </tr>\n",
       "    <tr>\n",
       "      <th>min</th>\n",
       "      <td>24376.000000</td>\n",
       "      <td>24.000000</td>\n",
       "      <td>37.540522</td>\n",
       "      <td>1.000000e+00</td>\n",
       "      <td>0.006068</td>\n",
       "      <td>1.000000</td>\n",
       "      <td>1.000000</td>\n",
       "      <td>1.000000</td>\n",
       "      <td>1.000000</td>\n",
       "      <td>1.000000</td>\n",
       "      <td>...</td>\n",
       "      <td>1.470836e+07</td>\n",
       "      <td>1.643306e+07</td>\n",
       "      <td>9.285250</td>\n",
       "      <td>6.844070</td>\n",
       "      <td>8.751570</td>\n",
       "      <td>7.256990</td>\n",
       "      <td>3.634154e+07</td>\n",
       "      <td>3.698170e+07</td>\n",
       "      <td>5.153555e+07</td>\n",
       "      <td>6.355445e+07</td>\n",
       "    </tr>\n",
       "    <tr>\n",
       "      <th>25%</th>\n",
       "      <td>24875.500000</td>\n",
       "      <td>29327.000000</td>\n",
       "      <td>38.803559</td>\n",
       "      <td>5.850215e+05</td>\n",
       "      <td>521.722726</td>\n",
       "      <td>11.500000</td>\n",
       "      <td>1.120249</td>\n",
       "      <td>1.147203</td>\n",
       "      <td>1.183651</td>\n",
       "      <td>1.127559</td>\n",
       "      <td>...</td>\n",
       "      <td>1.644592e+07</td>\n",
       "      <td>1.862246e+07</td>\n",
       "      <td>9.808330</td>\n",
       "      <td>7.091070</td>\n",
       "      <td>9.091360</td>\n",
       "      <td>7.456525</td>\n",
       "      <td>4.347997e+07</td>\n",
       "      <td>4.379677e+07</td>\n",
       "      <td>6.276902e+07</td>\n",
       "      <td>7.541090e+07</td>\n",
       "    </tr>\n",
       "    <tr>\n",
       "      <th>50%</th>\n",
       "      <td>26003.500000</td>\n",
       "      <td>115376.000000</td>\n",
       "      <td>39.334841</td>\n",
       "      <td>2.910544e+06</td>\n",
       "      <td>562.471544</td>\n",
       "      <td>49.000000</td>\n",
       "      <td>1.175987</td>\n",
       "      <td>1.205956</td>\n",
       "      <td>1.243878</td>\n",
       "      <td>1.192516</td>\n",
       "      <td>...</td>\n",
       "      <td>1.684941e+07</td>\n",
       "      <td>1.907481e+07</td>\n",
       "      <td>9.893250</td>\n",
       "      <td>7.160230</td>\n",
       "      <td>9.145450</td>\n",
       "      <td>7.518460</td>\n",
       "      <td>4.452532e+07</td>\n",
       "      <td>4.503559e+07</td>\n",
       "      <td>6.433477e+07</td>\n",
       "      <td>7.681142e+07</td>\n",
       "    </tr>\n",
       "    <tr>\n",
       "      <th>75%</th>\n",
       "      <td>26493.750000</td>\n",
       "      <td>123766.000000</td>\n",
       "      <td>39.881406</td>\n",
       "      <td>5.901683e+06</td>\n",
       "      <td>600.675013</td>\n",
       "      <td>92.000000</td>\n",
       "      <td>1.239687</td>\n",
       "      <td>1.281579</td>\n",
       "      <td>1.338122</td>\n",
       "      <td>1.284819</td>\n",
       "      <td>...</td>\n",
       "      <td>1.750214e+07</td>\n",
       "      <td>1.972911e+07</td>\n",
       "      <td>9.984665</td>\n",
       "      <td>7.236655</td>\n",
       "      <td>9.202800</td>\n",
       "      <td>7.594675</td>\n",
       "      <td>4.661328e+07</td>\n",
       "      <td>4.726227e+07</td>\n",
       "      <td>6.777005e+07</td>\n",
       "      <td>8.060247e+07</td>\n",
       "    </tr>\n",
       "    <tr>\n",
       "      <th>max</th>\n",
       "      <td>27440.000000</td>\n",
       "      <td>175194.000000</td>\n",
       "      <td>42.333751</td>\n",
       "      <td>2.692298e+07</td>\n",
       "      <td>731.982815</td>\n",
       "      <td>432.000000</td>\n",
       "      <td>1.681117</td>\n",
       "      <td>1.659344</td>\n",
       "      <td>1.614691</td>\n",
       "      <td>1.608741</td>\n",
       "      <td>...</td>\n",
       "      <td>2.100787e+07</td>\n",
       "      <td>2.337763e+07</td>\n",
       "      <td>10.336350</td>\n",
       "      <td>7.596510</td>\n",
       "      <td>9.447670</td>\n",
       "      <td>7.833670</td>\n",
       "      <td>5.804045e+07</td>\n",
       "      <td>5.802965e+07</td>\n",
       "      <td>8.490583e+07</td>\n",
       "      <td>9.857948e+07</td>\n",
       "    </tr>\n",
       "  </tbody>\n",
       "</table>\n",
       "<p>8 rows × 86 columns</p>\n",
       "</div>"
      ],
      "text/plain": [
       "                run        nEvents  AvgTemp_AllCalos          ctag  \\\n",
       "count    826.000000     826.000000        647.000000  4.360000e+02   \n",
       "mean   25759.469734   81435.870460         39.395637  3.569357e+06   \n",
       "std      862.212885   50763.960077          0.854227  3.441820e+06   \n",
       "min    24376.000000      24.000000         37.540522  1.000000e+00   \n",
       "25%    24875.500000   29327.000000         38.803559  5.850215e+05   \n",
       "50%    26003.500000  115376.000000         39.334841  2.910544e+06   \n",
       "75%    26493.750000  123766.000000         39.881406  5.901683e+06   \n",
       "max    27440.000000  175194.000000         42.333751  2.692298e+07   \n",
       "\n",
       "       ctagPerFill    nSubRuns  AvgGain_Calo1  AvgGain_Calo2  AvgGain_Calo3  \\\n",
       "count   436.000000  436.000000     727.000000     727.000000     727.000000   \n",
       "mean    518.673871   57.172018       1.195930       1.221229       1.267903   \n",
       "std     158.459588   51.871284       0.113334       0.105302       0.121913   \n",
       "min       0.006068    1.000000       1.000000       1.000000       1.000000   \n",
       "25%     521.722726   11.500000       1.120249       1.147203       1.183651   \n",
       "50%     562.471544   49.000000       1.175987       1.205956       1.243878   \n",
       "75%     600.675013   92.000000       1.239687       1.281579       1.338122   \n",
       "max     731.982815  432.000000       1.681117       1.659344       1.614691   \n",
       "\n",
       "       AvgGain_Calo4  ...  t0_tubea_total_integral  t0_tubeb_total_integral  \\\n",
       "count     727.000000  ...             3.150000e+02             3.150000e+02   \n",
       "mean        1.212607  ...             1.702723e+07             1.927774e+07   \n",
       "std         0.117802  ...             9.496524e+05             1.117015e+06   \n",
       "min         1.000000  ...             1.470836e+07             1.643306e+07   \n",
       "25%         1.127559  ...             1.644592e+07             1.862246e+07   \n",
       "50%         1.192516  ...             1.684941e+07             1.907481e+07   \n",
       "75%         1.284819  ...             1.750214e+07             1.972911e+07   \n",
       "max         1.608741  ...             2.100787e+07             2.337763e+07   \n",
       "\n",
       "       ibms1x_centroid  ibms1y_centroid  ibms2x_centroid  ibms2y_centroid  \\\n",
       "count       315.000000       315.000000       315.000000       315.000000   \n",
       "mean          9.878635         7.168229         9.136372         7.528169   \n",
       "std           0.162243         0.117419         0.101444         0.105046   \n",
       "min           9.285250         6.844070         8.751570         7.256990   \n",
       "25%           9.808330         7.091070         9.091360         7.456525   \n",
       "50%           9.893250         7.160230         9.145450         7.518460   \n",
       "75%           9.984665         7.236655         9.202800         7.594675   \n",
       "max          10.336350         7.596510         9.447670         7.833670   \n",
       "\n",
       "       ibms1x_total_integral  ibms1y_total_integral  ibms2x_total_integral  \\\n",
       "count           3.150000e+02           3.150000e+02           3.150000e+02   \n",
       "mean            4.547418e+07           4.599209e+07           6.579124e+07   \n",
       "std             3.291218e+06           3.397993e+06           5.041224e+06   \n",
       "min             3.634154e+07           3.698170e+07           5.153555e+07   \n",
       "25%             4.347997e+07           4.379677e+07           6.276902e+07   \n",
       "50%             4.452532e+07           4.503559e+07           6.433477e+07   \n",
       "75%             4.661328e+07           4.726227e+07           6.777005e+07   \n",
       "max             5.804045e+07           5.802965e+07           8.490583e+07   \n",
       "\n",
       "       ibms2y_total_integral  \n",
       "count           3.150000e+02  \n",
       "mean            7.843677e+07  \n",
       "std             5.237101e+06  \n",
       "min             6.355445e+07  \n",
       "25%             7.541090e+07  \n",
       "50%             7.681142e+07  \n",
       "75%             8.060247e+07  \n",
       "max             9.857948e+07  \n",
       "\n",
       "[8 rows x 86 columns]"
      ]
     },
     "execution_count": 3,
     "metadata": {},
     "output_type": "execute_result"
    }
   ],
   "source": [
    "df.describe()"
   ]
  },
  {
   "cell_type": "code",
   "execution_count": 4,
   "metadata": {},
   "outputs": [
    {
     "name": "stdout",
     "output_type": "stream",
     "text": [
      "Index(['run', 'startTime', 'stopTime', 'nEvents', 'quality',\n",
      "       'AvgTemp_AllCalos', 'ctag', 'ctagPerFill', 'nSubRuns', 'AvgGain_Calo1',\n",
      "       'AvgGain_Calo2', 'AvgGain_Calo3', 'AvgGain_Calo4', 'AvgGain_Calo5',\n",
      "       'AvgGain_Calo6', 'AvgGain_Calo7', 'AvgGain_Calo8', 'AvgGain_Calo9',\n",
      "       'AvgGain_Calo10', 'AvgGain_Calo11', 'AvgGain_Calo12', 'AvgGain_Calo13',\n",
      "       'AvgGain_Calo14', 'AvgGain_Calo15', 'AvgGain_Calo16', 'AvgGain_Calo17',\n",
      "       'AvgGain_Calo18', 'AvgGain_Calo19', 'AvgGain_Calo20', 'AvgGain_Calo21',\n",
      "       'AvgGain_Calo22', 'AvgGain_Calo23', 'AvgGain_Calo24', 'runType',\n",
      "       'duration', 'dqmCtagPerFill', 'nlCtagPerFill_Mark', 'nlFrac_Mark',\n",
      "       'AvgTemp_Calo1', 'AvgTemp_Calo2', 'AvgTemp_Calo3', 'AvgTemp_Calo4',\n",
      "       'AvgTemp_Calo5', 'AvgTemp_Calo6', 'AvgTemp_Calo7', 'AvgTemp_Calo8',\n",
      "       'AvgTemp_Calo9', 'AvgTemp_Calo10', 'AvgTemp_Calo11', 'AvgTemp_Calo12',\n",
      "       'AvgTemp_Calo13', 'AvgTemp_Calo14', 'AvgTemp_Calo15', 'AvgTemp_Calo16',\n",
      "       'AvgTemp_Calo17', 'AvgTemp_Calo18', 'AvgTemp_Calo19', 'AvgTemp_Calo20',\n",
      "       'AvgTemp_Calo21', 'AvgTemp_Calo22', 'AvgTemp_Calo23', 'AvgTemp_Calo24',\n",
      "       'beamIntegral', 'beamTime', 'beamRMS', 'syncIntegral', 'syncTime',\n",
      "       'ctagsHannah', 'ctagsOverT0', 'trackerY', 'caloYpos', 'caloYpos_stdev',\n",
      "       'numberOfSubruns', 'kTotal', 'k1', 'k2', 'k3', 'q1', 'q2',\n",
      "       'wedgeChange', 't0_tubea_total_integral', 't0_tubeb_total_integral',\n",
      "       'ibms1x_centroid', 'ibms1y_centroid', 'ibms2x_centroid',\n",
      "       'ibms2y_centroid', 'ibms1x_total_integral', 'ibms1y_total_integral',\n",
      "       'ibms2x_total_integral', 'ibms2y_total_integral'],\n",
      "      dtype='object')\n"
     ]
    }
   ],
   "source": [
    "print(df.columns)"
   ]
  },
  {
   "cell_type": "code",
   "execution_count": 5,
   "metadata": {},
   "outputs": [],
   "source": [
    "dfi = df.sample(100, random_state=12345)"
   ]
  },
  {
   "cell_type": "raw",
   "metadata": {},
   "source": [
    "plt.plot(pandas.to_datetime(dfi['startTime']), dfi['runType'],\".\")\n",
    "plt.xticks(rotation=90)\n",
    "plt.show()"
   ]
  },
  {
   "cell_type": "code",
   "execution_count": 6,
   "metadata": {},
   "outputs": [
    {
     "name": "stdout",
     "output_type": "stream",
     "text": [
      "[27193, 25034, 26328, 26066, 24754, 25947, 24705, 26174, 26335, 25007, 26687, 26153, 24736, 27207, 27209, 24847, 26511, 25040, 25003, 27029, 27437, 27041, 26086, 26177, 26597, 24380, 24775, 26308, 24636, 26299, 26508, 24972, 26322, 24584, 26210, 26788, 25955, 25041, 25963, 24742, 26076, 26092, 26772, 24868, 24892, 24869, 26510, 26180, 24796, 25989, 25017, 24893, 26619, 26059, 27019, 26573, 26199, 26157, 26338, 26797, 24387, 25959, 26341, 25948, 26493, 24444, 26146, 24750, 26771, 26096, 26611, 25036, 26486, 26175, 26267, 24774, 24984, 24759, 24696, 26523, 24854, 24376, 26774, 24786, 26074, 26514, 24747, 24605, 26287, 25002, 26715, 24768, 24630, 25916, 26755, 24758, 24587, 26605, 24585, 25932]\n"
     ]
    }
   ],
   "source": [
    "runs_dataset = [x for x in dfi['run'].values]\n",
    "print(runs_dataset)"
   ]
  },
  {
   "cell_type": "code",
   "execution_count": 7,
   "metadata": {},
   "outputs": [],
   "source": [
    "dataset = 'samweb -e gm2 create-definition nearline_100ProductionRuns_Binney_LaBounty_100Subruns \" ( '\n",
    "for i, runi in enumerate(runs_dataset):\n",
    "    dataset+= \"( run_number >= \"+str(runi)+\" and run_number <= \"+str(runi)+\" ) or \"\n",
    "dataset = dataset[:-3]+\" \"\n",
    "dataset += ' ) and ( file_name like %_000%.mid ) and data_tier raw \" '\n",
    "\n",
    "#print(dataset)"
   ]
  },
  {
   "cell_type": "code",
   "execution_count": 8,
   "metadata": {},
   "outputs": [
    {
     "data": {
      "text/html": [
       "<div>\n",
       "<style scoped>\n",
       "    .dataframe tbody tr th:only-of-type {\n",
       "        vertical-align: middle;\n",
       "    }\n",
       "\n",
       "    .dataframe tbody tr th {\n",
       "        vertical-align: top;\n",
       "    }\n",
       "\n",
       "    .dataframe thead th {\n",
       "        text-align: right;\n",
       "    }\n",
       "</style>\n",
       "<table border=\"1\" class=\"dataframe\">\n",
       "  <thead>\n",
       "    <tr style=\"text-align: right;\">\n",
       "      <th></th>\n",
       "      <th>N6</th>\n",
       "      <th>N6_var</th>\n",
       "      <th>NQ</th>\n",
       "      <th>NQ_var</th>\n",
       "      <th>S6</th>\n",
       "      <th>S6_var</th>\n",
       "      <th>SQ</th>\n",
       "      <th>SQ_var</th>\n",
       "      <th>deltaMagnetCycle</th>\n",
       "      <th>dipole</th>\n",
       "      <th>...</th>\n",
       "      <th>feedbackCurrent_var</th>\n",
       "      <th>magnetCycleSimon</th>\n",
       "      <th>startTime</th>\n",
       "      <th>trolleyRun</th>\n",
       "      <th>trolleyRunSimon</th>\n",
       "      <th>yokeTemp</th>\n",
       "      <th>yokeTemp_Gradient</th>\n",
       "      <th>yokeTemp_Gradient_var</th>\n",
       "      <th>yokeTemp_var</th>\n",
       "      <th>stopTime</th>\n",
       "    </tr>\n",
       "  </thead>\n",
       "  <tbody>\n",
       "    <tr>\n",
       "      <th>36</th>\n",
       "      <td>315.69</td>\n",
       "      <td>4.14</td>\n",
       "      <td>-1499.92</td>\n",
       "      <td>14.16</td>\n",
       "      <td>-1738.92</td>\n",
       "      <td>36.50</td>\n",
       "      <td>-73.41</td>\n",
       "      <td>4.72</td>\n",
       "      <td>NaN</td>\n",
       "      <td>48376.72</td>\n",
       "      <td>...</td>\n",
       "      <td>0.01640</td>\n",
       "      <td>NaN</td>\n",
       "      <td>2019-04-08 21:52:13</td>\n",
       "      <td>NaN</td>\n",
       "      <td>NaN</td>\n",
       "      <td>16.270</td>\n",
       "      <td>-0.411</td>\n",
       "      <td>0.006</td>\n",
       "      <td>0.003</td>\n",
       "      <td>2019-04-08 23:21:21</td>\n",
       "    </tr>\n",
       "    <tr>\n",
       "      <th>9</th>\n",
       "      <td>315.60</td>\n",
       "      <td>4.26</td>\n",
       "      <td>-1498.44</td>\n",
       "      <td>14.79</td>\n",
       "      <td>-1740.34</td>\n",
       "      <td>38.20</td>\n",
       "      <td>-73.37</td>\n",
       "      <td>4.85</td>\n",
       "      <td>NaN</td>\n",
       "      <td>48370.46</td>\n",
       "      <td>...</td>\n",
       "      <td>0.02067</td>\n",
       "      <td>NaN</td>\n",
       "      <td>2019-04-09 00:50:53</td>\n",
       "      <td>NaN</td>\n",
       "      <td>NaN</td>\n",
       "      <td>16.278</td>\n",
       "      <td>-0.410</td>\n",
       "      <td>0.006</td>\n",
       "      <td>0.003</td>\n",
       "      <td>2019-04-09 02:32:15</td>\n",
       "    </tr>\n",
       "    <tr>\n",
       "      <th>0</th>\n",
       "      <td>316.30</td>\n",
       "      <td>5.39</td>\n",
       "      <td>-1494.87</td>\n",
       "      <td>18.62</td>\n",
       "      <td>-1741.10</td>\n",
       "      <td>47.74</td>\n",
       "      <td>-71.54</td>\n",
       "      <td>6.12</td>\n",
       "      <td>NaN</td>\n",
       "      <td>48363.03</td>\n",
       "      <td>...</td>\n",
       "      <td>0.02347</td>\n",
       "      <td>NaN</td>\n",
       "      <td>2019-04-10 02:48:49</td>\n",
       "      <td>NaN</td>\n",
       "      <td>NaN</td>\n",
       "      <td>16.375</td>\n",
       "      <td>-0.419</td>\n",
       "      <td>0.004</td>\n",
       "      <td>0.002</td>\n",
       "      <td>2019-04-10 04:18:09</td>\n",
       "    </tr>\n",
       "    <tr>\n",
       "      <th>31</th>\n",
       "      <td>317.81</td>\n",
       "      <td>6.60</td>\n",
       "      <td>-1492.45</td>\n",
       "      <td>22.43</td>\n",
       "      <td>-1738.65</td>\n",
       "      <td>57.44</td>\n",
       "      <td>-69.22</td>\n",
       "      <td>8.30</td>\n",
       "      <td>NaN</td>\n",
       "      <td>48368.40</td>\n",
       "      <td>...</td>\n",
       "      <td>0.01333</td>\n",
       "      <td>NaN</td>\n",
       "      <td>2019-04-14 03:37:37</td>\n",
       "      <td>NaN</td>\n",
       "      <td>NaN</td>\n",
       "      <td>16.502</td>\n",
       "      <td>-0.397</td>\n",
       "      <td>0.003</td>\n",
       "      <td>0.001</td>\n",
       "      <td>2019-04-14 05:22:25</td>\n",
       "    </tr>\n",
       "    <tr>\n",
       "      <th>44</th>\n",
       "      <td>317.88</td>\n",
       "      <td>6.33</td>\n",
       "      <td>-1490.84</td>\n",
       "      <td>21.73</td>\n",
       "      <td>-1735.97</td>\n",
       "      <td>57.47</td>\n",
       "      <td>-69.00</td>\n",
       "      <td>7.60</td>\n",
       "      <td>NaN</td>\n",
       "      <td>48373.35</td>\n",
       "      <td>...</td>\n",
       "      <td>0.04421</td>\n",
       "      <td>NaN</td>\n",
       "      <td>2019-04-14 10:25:38</td>\n",
       "      <td>NaN</td>\n",
       "      <td>NaN</td>\n",
       "      <td>16.506</td>\n",
       "      <td>-0.387</td>\n",
       "      <td>0.003</td>\n",
       "      <td>0.002</td>\n",
       "      <td>2019-04-14 12:22:21</td>\n",
       "    </tr>\n",
       "  </tbody>\n",
       "</table>\n",
       "<p>5 rows × 23 columns</p>\n",
       "</div>"
      ],
      "text/plain": [
       "        N6  N6_var       NQ  NQ_var       S6  S6_var     SQ  SQ_var  \\\n",
       "36  315.69    4.14 -1499.92   14.16 -1738.92   36.50 -73.41    4.72   \n",
       "9   315.60    4.26 -1498.44   14.79 -1740.34   38.20 -73.37    4.85   \n",
       "0   316.30    5.39 -1494.87   18.62 -1741.10   47.74 -71.54    6.12   \n",
       "31  317.81    6.60 -1492.45   22.43 -1738.65   57.44 -69.22    8.30   \n",
       "44  317.88    6.33 -1490.84   21.73 -1735.97   57.47 -69.00    7.60   \n",
       "\n",
       "    deltaMagnetCycle    dipole  ...  feedbackCurrent_var magnetCycleSimon  \\\n",
       "36               NaN  48376.72  ...              0.01640              NaN   \n",
       "9                NaN  48370.46  ...              0.02067              NaN   \n",
       "0                NaN  48363.03  ...              0.02347              NaN   \n",
       "31               NaN  48368.40  ...              0.01333              NaN   \n",
       "44               NaN  48373.35  ...              0.04421              NaN   \n",
       "\n",
       "                startTime trolleyRun  trolleyRunSimon  yokeTemp  \\\n",
       "36   2019-04-08 21:52:13         NaN              NaN    16.270   \n",
       "9    2019-04-09 00:50:53         NaN              NaN    16.278   \n",
       "0    2019-04-10 02:48:49         NaN              NaN    16.375   \n",
       "31   2019-04-14 03:37:37         NaN              NaN    16.502   \n",
       "44   2019-04-14 10:25:38         NaN              NaN    16.506   \n",
       "\n",
       "    yokeTemp_Gradient  yokeTemp_Gradient_var yokeTemp_var  \\\n",
       "36             -0.411                  0.006        0.003   \n",
       "9              -0.410                  0.006        0.003   \n",
       "0              -0.419                  0.004        0.002   \n",
       "31             -0.397                  0.003        0.001   \n",
       "44             -0.387                  0.003        0.002   \n",
       "\n",
       "                 stopTime  \n",
       "36   2019-04-08 23:21:21   \n",
       "9    2019-04-09 02:32:15   \n",
       "0    2019-04-10 04:18:09   \n",
       "31   2019-04-14 05:22:25   \n",
       "44   2019-04-14 12:22:21   \n",
       "\n",
       "[5 rows x 23 columns]"
      ]
     },
     "execution_count": 8,
     "metadata": {},
     "output_type": "execute_result"
    }
   ],
   "source": [
    "df2 = pandas.read_csv(\"./run2Trends_timeOnly.csv\", parse_dates=True)\n",
    "#df2.sort_values(by=['startTime'])\n",
    "df2 = df2.sort_values(by=['startTime'], ascending=True)\n",
    "\n",
    "df2['stopTime'] = df2['endTime']\n",
    "#df = df.loc[df['quality'] == 'Y']\n",
    "#df = df.loc[df['runType'] == \" P\"]\n",
    "#df = df.sample(100)\n",
    "df2.head()"
   ]
  },
  {
   "cell_type": "code",
   "execution_count": 9,
   "metadata": {},
   "outputs": [
    {
     "name": "stdout",
     "output_type": "stream",
     "text": [
      "Index(['N6', 'N6_var', 'NQ', 'NQ_var', 'S6', 'S6_var', 'SQ', 'SQ_var',\n",
      "       'deltaMagnetCycle', 'dipole', 'dipole_var', 'endTime',\n",
      "       'feedbackCurrent_mA', 'feedbackCurrent_var', 'magnetCycleSimon',\n",
      "       'startTime', 'trolleyRun', 'trolleyRunSimon', 'yokeTemp',\n",
      "       'yokeTemp_Gradient', 'yokeTemp_Gradient_var', 'yokeTemp_var',\n",
      "       'stopTime'],\n",
      "      dtype='object')\n"
     ]
    }
   ],
   "source": [
    "print(df2.columns)"
   ]
  },
  {
   "cell_type": "raw",
   "metadata": {},
   "source": [
    "plt.hist(df['nlFrac_Mark'],bins=100,range=[0,1])\n",
    "plt.yscale('log')\n",
    "plt.show()"
   ]
  },
  {
   "cell_type": "raw",
   "metadata": {},
   "source": [
    "plt.plot(df['run'], df['ctagPerFill'], \".\")\n",
    "plt.xlim(24000,28000)\n",
    "plt.show()"
   ]
  },
  {
   "cell_type": "raw",
   "metadata": {},
   "source": [
    "fig, ax = plt.subplots()\n",
    "\n",
    "fig.autofmt_xdate()\n",
    "ax.xaxis.set_major_formatter(DateFormatter('%m-%Y'))\n",
    "\n",
    "plt.plot( pandas.to_datetime(df['startTime']), df['ctagPerFill'], \".\")\n",
    "\n",
    "plt.show()"
   ]
  },
  {
   "cell_type": "raw",
   "metadata": {},
   "source": [
    "plt.hist(df['ctagPerFill'], bins=100, range=[0,1000])\n",
    "plt.show()"
   ]
  },
  {
   "cell_type": "raw",
   "metadata": {},
   "source": [
    "fig, ax = plt.subplots()\n",
    "plotVariableVsDuration(ax, pandas.to_datetime(df['startTime']), pandas.to_datetime(df['stopTime']), df['AvgTemp_Calo22'])\n",
    "plt.show()"
   ]
  },
  {
   "cell_type": "raw",
   "metadata": {},
   "source": [
    "fig, ax = plt.subplots()\n",
    "plotVariableVsDuration(ax, pandas.to_datetime(df2['startTime']), pandas.to_datetime(df2['endTime']), df2['yokeTemp'])\n",
    "plt.show()"
   ]
  },
  {
   "cell_type": "raw",
   "metadata": {},
   "source": [
    "#plotX = 'run'\n",
    "plotX = 'startTime'\n",
    "\n",
    "fig,ax = plt.subplots(5,1,figsize=(15,10),sharex=True, sharey=False)\n",
    "for axi in ax:\n",
    "    plt.sca(axi)\n",
    "    plt.xticks(rotation=90)\n",
    "    plt.xticks\n",
    "    axi.grid()\n",
    "    \n",
    "if('Time' in plotX):\n",
    "    xaxis = pandas.to_datetime(df[plotX])\n",
    "    for axi in ax:\n",
    "        axi.xaxis.set_major_formatter(DateFormatter('%d-%m-%Y'))\n",
    "    fig.autofmt_xdate()\n",
    "else:\n",
    "    xaxis = df[plotX]\n",
    "\n",
    "ax[0].set_title(\"Quality [DAQ]\")\n",
    "ax[0].plot(xaxis, df['quality'], \".\")\n",
    "\n",
    "ax[1].set_title(\"Quality [Mark]\")\n",
    "ax[1].plot(xaxis, df['runType'], \".\")\n",
    "\n",
    "ax[2].set_title(\"Average Temp [Calo 2]\")\n",
    "ax[2].plot(xaxis, df['AvgTemp_Calo2'], \".\")\n",
    "\n",
    "ax[3].set_title(\"Average Gain [Calo 2]\")\n",
    "ax[3].set_ylim(0.8,2)\n",
    "ax[3].plot(xaxis, df['AvgGain_Calo2'], \".\")\n",
    "\n",
    "ax[4].set_title(\"Nearline CTAG/Fill\")\n",
    "ax[4].plot(xaxis, df['nlCtagPerFill_Mark'], \".\")\n",
    "\n",
    "\n",
    "plt.tight_layout()\n",
    "plt.show()"
   ]
  },
  {
   "cell_type": "code",
   "execution_count": 10,
   "metadata": {},
   "outputs": [],
   "source": [
    "def plotVariableVsDuration(ax, startTimes, endTimes, value, fmt=\"b-\"):\n",
    "    for i in range(len(startTimes.values)):\n",
    "        ax.plot( [startTimes.values[i], endTimes.values[i]], [value.values[i], value.values[i]], fmt)\n",
    "\n",
    "def makeTrendPlot(axi, runplots, df):\n",
    "        toPlot, title, ylims, duration, numeric = runplots\n",
    "        axi.set_title(title)\n",
    "        if(len(ylims) == 2):\n",
    "            axi.set_ylim(ylims[0], ylims[1])\n",
    "\n",
    "        if(numeric):\n",
    "            yaxis = pandas.to_numeric(df[toPlot], errors='coerce')\n",
    "            axi2 = axi.twinx()            \n",
    "        else:\n",
    "            yaxis = df[toPlot]\n",
    "\n",
    "        if(duration):\n",
    "            plotVariableVsDuration(axi, pandas.to_datetime(df['startTime']), \n",
    "                                   pandas.to_datetime(df['stopTime']), \n",
    "                                   yaxis,'b.-')\n",
    "        elif('Time' in plotX):\n",
    "            axi.plot(pandas.to_datetime(df[plotX]),yaxis, \"b.\")\n",
    "        else:\n",
    "            axi.plot(pandas.to_numeric(df[plotX]), yaxis, \"b.\")\n",
    "            \n",
    "        if(numeric):\n",
    "            axi.callbacks.connect(\"ylim_changed\", convertAxToPercentageFromMean(axi, axi2, yaxis))\n",
    "            \n",
    "def getPercentDiff(x, y):\n",
    "    return (x-y)/x *100.\n",
    "            \n",
    "def convertAxToPercentageFromMean(axi, axi2, yvals):\n",
    "    y1, y2 = axi.get_ylim()\n",
    "    mean = yvals.mean()\n",
    "    stdev = yvals.std()\n",
    "    #print(y1, y2, mean, y1/mean*1.0, y2/mean*1.0)\n",
    "    #axi2.set_ylim( getPercentDiff(y1, mean) , getPercentDiff(y2, mean) ) #percent difference from mean\n",
    "    if(stdev != 0):\n",
    "        #print(y1, y2, stdev, (y1 - mean) / stdev , ( y2 - mean) / stdev)\n",
    "        axi2.set_ylim( (y1 - mean) / stdev , ( y2 - mean) / stdev ) #std deviations from mean\n",
    "    else:\n",
    "        #print(\"NaN\")\n",
    "        axi2.set_ylim( -1 , 1 ) #std deviations from mean\n",
    "    axi2.figure.canvas.draw()   "
   ]
  },
  {
   "cell_type": "raw",
   "metadata": {},
   "source": [
    "plotX = 'startTime'\n",
    "#plotX = 'run'\n",
    "\n",
    "runplots = [ #[todraw, title, ylim, duration?, numeric?]\n",
    "    ['quality', 'Run Quality [DAQ]', [], False, False ],\n",
    "    ['runType', 'Run Quality [Mark]', [], False, False],\n",
    "    ['AvgTemp_Calo2', 'Average Temperature of Calo 2', [], False, True],\n",
    "    ['AvgGain_Calo2', 'Average NL Gain of Calo 2', [0.9,2], False, True],\n",
    "    ['nlCtagPerFill_Mark', 'Average Nearline CTAG/Fill', [], False, True],\n",
    "    ['beamIntegral', 'T0 Beam Integral', [], False, True],\n",
    "    ['trackerY', 'Tracker y-position', [], False, True],\n",
    "    ['caloYpos', 'Calo y-position [Calo 22]', [], False, True]\n",
    "]\n",
    "\n",
    "timeplots = [\n",
    "    ['dipole', 'Dipole', [], True, True],\n",
    "    ['NQ', 'Normal Quadripole', [], True, True],\n",
    "    ['feedbackCurrent_mA', 'Feedback Current [mA]', [], True, True]\n",
    "]\n",
    "\n",
    "nplots = len(runplots) + len(timeplots)\n",
    "\n",
    "fig,ax = plt.subplots(nplots,1,figsize=(15,nplots*2),sharex=True, sharey=False)\n",
    "for axi in ax:\n",
    "    plt.sca(axi)\n",
    "    plt.xticks(rotation=90)\n",
    "    #plt.xticks\n",
    "    axi.grid()\n",
    "    \n",
    "for axi in ax:\n",
    "    axi.xaxis.set_major_formatter(DateFormatter('%d-%m-%Y'))\n",
    "fig.autofmt_xdate()\n",
    "\n",
    "def convertAxToPercentageFromMean(axi, axi2, yvals):\n",
    "    y1, y2 = axi.get_ylim()\n",
    "    mean = yvals.mean()\n",
    "    axi2.set_ylim(y1/mean*1.0, y2/mean*1.0)\n",
    "    axi2.figure.canvas.draw()    \n",
    "    \n",
    "\n",
    "for i, (toPlot, title, ylims, duration, numeric) in enumerate(runplots):\n",
    "    axi = ax[i]\n",
    "    axi.set_title(title)\n",
    "    if(len(ylims) == 2):\n",
    "        axi.set_ylim(ylims[0], ylims[1])\n",
    "        \n",
    "    if(numeric):\n",
    "        yaxis = pandas.to_numeric(df[toPlot], errors='coerce')\n",
    "        axi2 = axi.twinx()\n",
    "        axi.callbacks.connect(\"ylim_changed\", convertAxToPercentageFromMean(axi, axi2, yaxis))\n",
    "\n",
    "    else:\n",
    "        yaxis = df[toPlot]\n",
    "        \n",
    "    if(duration):\n",
    "        plotVariableVsDuration(axi, pandas.to_datetime(df['startTime']), \n",
    "                               pandas.to_datetime(df['stopTime']), \n",
    "                               yaxis,'b.-')\n",
    "    elif('Time' in plotX):\n",
    "        axi.plot(pandas.to_datetime(df[plotX]),yaxis, \"b.\")\n",
    "    else:\n",
    "        axi.plot(pandas.to_numeric(df[plotX]), yaxis, \"b.\")\n",
    "    \n",
    "\n",
    "for i, (toPlot, title, ylims, duration, numeric) in enumerate(timeplots):\n",
    "    axi = ax[i+len(runplots)]\n",
    "    axi.set_title(title)\n",
    "    if(len(ylims) == 2):\n",
    "        axi.set_ylim(ylims[0], ylims[1])\n",
    "        \n",
    "    if(numeric):\n",
    "        yaxis = pandas.to_numeric(df2[toPlot], errors='coerce')\n",
    "    else:\n",
    "        yaxis = df2[toPlot]\n",
    "        \n",
    "    if('Time' not in plotX):\n",
    "        print(\"Unable to plot\", toPlot,\" vs.\", plotX)\n",
    "        continue\n",
    "    if(duration):\n",
    "        plotVariableVsDuration(axi, pandas.to_datetime(df2['startTime']), \n",
    "                               pandas.to_datetime(df2['endTime']), \n",
    "                               yaxis,\"b.-\")  \n",
    "    elif('Time' in plotX):\n",
    "        axi.plot(pandas.to_datetime(df2[plotX]), pandas.to_numeric(df2[toPlot], errors='coerce'), \"b.\")\n",
    "    else:\n",
    "        #axi.plot(pandas.to_numeric(df2[plotX]), pandas.to_numeric(df2[toPlot], errors='coerce'), \"b.\")\n",
    "        print(\"Unable to plot vs.\", plotX)\n",
    "\n",
    "plt.tight_layout()\n",
    "plt.show()"
   ]
  },
  {
   "cell_type": "raw",
   "metadata": {},
   "source": [
    "ding.describe()"
   ]
  },
  {
   "cell_type": "raw",
   "metadata": {},
   "source": [
    "plotX = 'startTime'\n",
    "#plotX = 'run'\n",
    "\n",
    "runplots = [ #[todraw, title, ylim, duration?, numeric?]\n",
    "    ['quality', 'Run Quality [DAQ]', [], False, False ],\n",
    "    ['runType', 'Run Quality [Mark]', [], False, False],\n",
    "    ['AvgTemp_Calo2', 'Average Temperature of Calo 2', [], False, True],\n",
    "    ['AvgGain_Calo2', 'Average NL Gain of Calo 2', [0.9,2], False, True],\n",
    "    ['nlCtagPerFill_Mark', 'Average Nearline CTAG/Fill', [], False, True],\n",
    "    ['numberOfSubruns', 'Number of Subruns in This Run', [], False, True],\n",
    "    ['beamIntegral', 'T0 Beam Integral', [], False, True],\n",
    "    ['trackerY', 'Tracker y-position', [], False, True],\n",
    "    ['caloYpos', 'Calo y-position [Excluding Calo 22]', [], False, True]\n",
    "]\n",
    "\n",
    "timeplots = [\n",
    "    ['dipole', 'Dipole', [], True, True],\n",
    "    ['NQ', 'Normal Quadripole', [], True, True],\n",
    "    ['feedbackCurrent_mA', 'Feedback Current [mA]', [], True, True],\n",
    "    ['trolleyRun', 'Trolley Run Times', [], False, False]\n",
    "]\n",
    "\n",
    "nplots = len(runplots) + len(timeplots)\n",
    "\n",
    "fig,ax = plt.subplots(nplots,1,figsize=(15,nplots*2),sharex=True, sharey=False)\n",
    "for axi in ax:\n",
    "    plt.sca(axi)\n",
    "    plt.xticks(rotation=90)\n",
    "    #plt.xticks\n",
    "    axi.grid()\n",
    "    \n",
    "for axi in ax:\n",
    "    axi.xaxis.set_major_formatter(DateFormatter('%d-%m-%Y'))\n",
    "fig.autofmt_xdate() \n",
    "    \n",
    "\n",
    "for i, ding in enumerate(runplots):\n",
    "    axi = ax[i]\n",
    "    makeTrendPlot(axi, ding, df)\n",
    "    \n",
    "for i, ding in enumerate(timeplots):\n",
    "    axi = ax[i+len(runplots)]\n",
    "    makeTrendPlot(axi, ding, df2)\n",
    "\n",
    "\n",
    "plt.tight_layout()\n",
    "plt.show()"
   ]
  },
  {
   "cell_type": "code",
   "execution_count": 11,
   "metadata": {},
   "outputs": [
    {
     "data": {
      "image/png": "[encoded data removed]",
      "text/plain": [
       "<Figure size 432x288 with 1 Axes>"
      ]
     },
     "metadata": {
      "needs_background": "light"
     },
     "output_type": "display_data"
    }
   ],
   "source": [
    "plt.plot(df['trackerY'],df['caloYpos'],\".\")\n",
    "plt.show()"
   ]
  },
  {
   "cell_type": "raw",
   "metadata": {},
   "source": [
    "dfi = df.loc[df['AvgGain_Calo2'] < 1.01]\n",
    "dfi.sort_values(by=['run'])\n",
    "dfi.head()"
   ]
  },
  {
   "cell_type": "raw",
   "metadata": {},
   "source": [
    "badGainRuns = dfi['run'].to_list()\n",
    "badGainRuns.reverse()"
   ]
  },
  {
   "cell_type": "raw",
   "metadata": {},
   "source": [
    "print(badGainRuns)"
   ]
  },
  {
   "cell_type": "raw",
   "metadata": {},
   "source": [
    "dfi['AvgGain_Calo2'].isnull().values[0]"
   ]
  },
  {
   "cell_type": "raw",
   "metadata": {},
   "source": [
    "runRanges = []\n",
    "coveredRuns = []\n",
    "for j, run in enumerate(badGainRuns):\n",
    "    if(run in coveredRuns):\n",
    "        continue\n",
    "    for i in range(run+1,run+100):\n",
    "        dfi = df.loc[df['run'] == i]\n",
    "        if(dfi.size < 1):\n",
    "            coveredRuns.append(i)\n",
    "            continue\n",
    "        elif( (dfi['AvgGain_Calo2'].mean() < 1.01) or (dfi['AvgGain_Calo2'].isnull().values[0]) ):\n",
    "            coveredRuns.append(i)\n",
    "            continue\n",
    "        else:\n",
    "            coveredRuns.append(run)\n",
    "            runRanges.append( [run, i-1] )\n",
    "            break\n",
    "    "
   ]
  },
  {
   "cell_type": "raw",
   "metadata": {},
   "source": [
    "print(runRanges)"
   ]
  },
  {
   "cell_type": "markdown",
   "metadata": {},
   "source": [
    "---\n",
    "# How long was the run?"
   ]
  },
  {
   "cell_type": "code",
   "execution_count": 12,
   "metadata": {},
   "outputs": [
    {
     "name": "stdout",
     "output_type": "stream",
     "text": [
      "2837   02:43:21\n",
      "2836   02:39:01\n",
      "2832   00:10:21\n",
      "2831   00:03:02\n",
      "2830   00:17:50\n",
      "dtype: timedelta64[ns]\n",
      "29 days 03:02:32\n"
     ]
    }
   ],
   "source": [
    "ding = (pandas.to_datetime(df['stopTime']) - pandas.to_datetime(df['startTime'])).loc[ pandas.to_datetime(df['stopTime']) > pandas.to_datetime(df['startTime']) ]\n",
    "print(ding.head())\n",
    "print(ding.sum())"
   ]
  },
  {
   "cell_type": "code",
   "execution_count": 13,
   "metadata": {},
   "outputs": [
    {
     "name": "stdout",
     "output_type": "stream",
     "text": [
      "826.0\n"
     ]
    },
    {
     "data": {
      "image/png": "[encoded data removed]",
      "text/plain": [
       "<Figure size 432x288 with 1 Axes>"
      ]
     },
     "metadata": {
      "needs_background": "light"
     },
     "output_type": "display_data"
    }
   ],
   "source": [
    "ding = plt.hist(pandas.to_datetime(df['startTime']).dt.dayofweek,bins=14)\n",
    "print(ding[0].sum())"
   ]
  },
  {
   "cell_type": "code",
   "execution_count": 14,
   "metadata": {},
   "outputs": [
    {
     "name": "stdout",
     "output_type": "stream",
     "text": [
      "53 days\n"
     ]
    }
   ],
   "source": [
    "uniqueDays = 0\n",
    "previousday = -1\n",
    "for i, day in df.iterrows():\n",
    "    dayi = pandas.to_datetime(day['startTime']).dayofweek\n",
    "    if(dayi == previousday):\n",
    "        continue\n",
    "    else:\n",
    "        previousday = dayi\n",
    "        uniqueDays += 1\n",
    "print(uniqueDays, \"days\")"
   ]
  },
  {
   "cell_type": "code",
   "execution_count": 15,
   "metadata": {},
   "outputs": [
    {
     "data": {
      "text/plain": [
       "18.319791666666667"
      ]
     },
     "execution_count": 15,
     "metadata": {},
     "output_type": "execute_result"
    }
   ],
   "source": [
    "df['numberOfSubruns'].sum() * 6. / 60. / 60. / 24."
   ]
  },
  {
   "cell_type": "markdown",
   "metadata": {},
   "source": [
    "---\n",
    "\n",
    "# Lets now see if we can divide this into datasets\n",
    "\n",
    "These should have a large number of subruns and be bookended by a pair of trolley runs"
   ]
  },
  {
   "cell_type": "code",
   "execution_count": null,
   "metadata": {},
   "outputs": [],
   "source": []
  },
  {
   "cell_type": "code",
   "execution_count": 16,
   "metadata": {},
   "outputs": [
    {
     "name": "stdout",
     "output_type": "stream",
     "text": [
      "Optimum subruns: 107340\n"
     ]
    }
   ],
   "source": [
    "nsubruns_min = 53670*2 #this is twice the number in the 9day dataset\n",
    "nsubruns_9day = 53670\n",
    "nsubruns_60h = 27292\n",
    "nsubruns_endgame = 115352\n",
    "print(\"Optimum subruns:\", nsubruns_min)"
   ]
  },
  {
   "cell_type": "code",
   "execution_count": 17,
   "metadata": {},
   "outputs": [
    {
     "name": "stdout",
     "output_type": "stream",
     "text": [
      "Number of evenly spaced datasets: 2.457657909446618\n"
     ]
    }
   ],
   "source": [
    "print(\"Number of evenly spaced datasets:\", df['numberOfSubruns'].sum() / nsubruns_min)"
   ]
  },
  {
   "cell_type": "code",
   "execution_count": 18,
   "metadata": {},
   "outputs": [],
   "source": [
    "#Dave wants Run2-A, Run2-B... This is a compromise.\n",
    "datasetNames = [\"Ava\",\n",
    "                \"Brooklyn\",\n",
    "                \"Charlotte\",\n",
    "                \"Delilah\",\n",
    "                \"Emma\",\n",
    "                \"Faith\",\n",
    "                \"Grace\",\n",
    "                \"Harper\",\n",
    "                \"Isabella\",\n",
    "                \"Julia\",\n",
    "                \"Kennedy\",\n",
    "                \"Layla\",\n",
    "                \"Mia\",\n",
    "                \"Nora\",\n",
    "                \"Olivia\",\n",
    "                \"Penelope\",\n",
    "                \"Quinn\",\n",
    "                \"Riley\",\n",
    "                \"Sophia\",\n",
    "                \"Taylor\",\n",
    "                \"Unique\",\n",
    "                \"Victoria\",\n",
    "                \"Willow\",\n",
    "                \"Ximena\",\n",
    "                \"Yaretzi\",\n",
    "                \"Zoey\",\n",
    "                \"Alexander\",\n",
    "                \"Benjamin\",\n",
    "                \"Carter\",\n",
    "                \"Daniel\",\n",
    "                \"Elijah\",\n",
    "                \"Finn\",\n",
    "                \"Gabriel\",\n",
    "                \"Henry\",\n",
    "                \"Isaac\",\n",
    "                \"James\",\n",
    "                \"Kayden\",\n",
    "                \"Liam\",\n",
    "                \"Mason\",\n",
    "                \"Noah\",\n",
    "                \"Oliver\",\n",
    "                \"Parker\",\n",
    "                \"Quinn\",\n",
    "                \"Ryan\",\n",
    "                \"Samuel\",\n",
    "                \"Thomas\",\n",
    "                \"Uriel\",\n",
    "                \"Vincent\",\n",
    "                \"William\",\n",
    "                \"Xavier\",\n",
    "                \"Yusuf\",\n",
    "                \"Zachary\"]"
   ]
  },
  {
   "cell_type": "code",
   "execution_count": 19,
   "metadata": {},
   "outputs": [],
   "source": [
    "trolleyEquivRuns = [] #these are runs just before a trolley run"
   ]
  },
  {
   "cell_type": "code",
   "execution_count": 20,
   "metadata": {},
   "outputs": [],
   "source": [
    "#This function will return the datetime in items which is the closest to the date pivot.\n",
    "def nearest(items, pivot):\n",
    "    #print(type(items), type(pivot))\n",
    "    return min(items, key=lambda x: abs(x - pivot))"
   ]
  },
  {
   "cell_type": "code",
   "execution_count": 21,
   "metadata": {},
   "outputs": [
    {
     "name": "stdout",
     "output_type": "stream",
     "text": [
      "No equiv run for 2019-07-03 15:32:00\n"
     ]
    }
   ],
   "source": [
    "trolleyTimes = pandas.to_datetime(df2['startTime'].loc[df2['trolleyRunSimon'] > 0])\n",
    "#print(trolleyTimes)\n",
    "\n",
    "df['date'] = pandas.to_datetime(df['startTime'])  \n",
    "\n",
    "for trolleyTime in trolleyTimes:\n",
    "    trolleyRuni = 0\n",
    "    previousRun = 0\n",
    "    previousTime = -1\n",
    "    foundTime = False\n",
    "    \n",
    "    dfi = df.loc[df['date'] > trolleyTime]\n",
    "    try:\n",
    "        nearestTime = nearest(pandas.to_datetime(dfi['startTime']), pandas.to_datetime(trolleyTime))\n",
    "        #print(nearestTime, trolleyTime)\n",
    "        equivrun = dfi.loc[dfi['date'] == nearestTime]['run'].values[0] \n",
    "        trolleyEquivRuns.append( equivrun )\n",
    "    except:\n",
    "        print(\"No equiv run for\", trolleyTime)\n"
   ]
  },
  {
   "cell_type": "code",
   "execution_count": 22,
   "metadata": {},
   "outputs": [
    {
     "name": "stdout",
     "output_type": "stream",
     "text": [
      "[24376, 24376, 24575, 24575, 24575, 24684, 24831, 24920, 24995, 25894, 25894, 25916, 25964, 26053, 26137, 26264, 26459, 26459, 26459, 26563, 26675, 26675, 26755, 26996, 26996, 26996, 27166, 27166, 27415, 27415]\n",
      "30 31\n"
     ]
    }
   ],
   "source": [
    "print(trolleyEquivRuns)\n",
    "print(len(trolleyEquivRuns), len(trolleyTimes))"
   ]
  },
  {
   "cell_type": "code",
   "execution_count": 23,
   "metadata": {},
   "outputs": [
    {
     "name": "stderr",
     "output_type": "stream",
     "text": [
      "/home/jlab/anaconda3/lib/python3.6/site-packages/pandas/plotting/_converter.py:129: FutureWarning: Using an implicitly registered datetime converter for a matplotlib plotting method. The converter was registered by pandas on import. Future versions of pandas will require you to explicitly register matplotlib converters.\n",
      "\n",
      "To register the converters:\n",
      "\t>>> from pandas.plotting import register_matplotlib_converters\n",
      "\t>>> register_matplotlib_converters()\n",
      "  warnings.warn(msg, FutureWarning)\n"
     ]
    },
    {
     "data": {
      "image/png": "[encoded data removed]",
      "text/plain": [
       "<Figure size 576x360 with 1 Axes>"
      ]
     },
     "metadata": {
      "needs_background": "light"
     },
     "output_type": "display_data"
    }
   ],
   "source": [
    "noint()\n",
    "fig,ax = plt.subplots(figsize=(8,5))\n",
    "for i, entry in df.iterrows():\n",
    "    if(entry['run'] in trolleyEquivRuns):\n",
    "        plt.plot([pandas.to_datetime(entry['startTime']), pandas.to_datetime(entry['startTime'])], [1,1.01], \"r.-\" )\n",
    "plt.plot([pandas.to_datetime(df['startTime']), pandas.to_datetime(df['startTime'])], [1.1,1.1], \"r.\" )\n",
    "plt.plot([pandas.to_datetime(df2['startTime']), pandas.to_datetime(df2['startTime'])], [1,1], \"b.\" )\n",
    "\n",
    "plt.show()"
   ]
  },
  {
   "cell_type": "code",
   "execution_count": 24,
   "metadata": {},
   "outputs": [],
   "source": [
    "breakRuns = [] #these runs will mark the end of a dataset, manually chosen, no matter other metrics"
   ]
  },
  {
   "cell_type": "code",
   "execution_count": 25,
   "metadata": {},
   "outputs": [],
   "source": [
    "#divide by the large periods of 5/14 running\n",
    "breakRuns += [  24500,\n",
    "                25050,\n",
    "                26416,\n",
    "                26625,\n",
    "                #26670,\n",
    "                #26750,\n",
    "                26900,\n",
    "                27100,\n",
    "                27415\n",
    "             ]"
   ]
  },
  {
   "cell_type": "raw",
   "metadata": {},
   "source": [
    "#systematic studies from mark\n",
    "breakRuns += [  24309, 24374,\n",
    "                25655, 25659,\n",
    "                25890, 25893,\n",
    "                25974, 25978,\n",
    "                26160, 26167,\n",
    "                26181, 26196,\n",
    "                26342, 26357,\n",
    "                26580, 26584,\n",
    "                26596, 25607,\n",
    "                26598, 26601,\n",
    "                26654, 26658,\n",
    "                26659, 26659+1,\n",
    "                26672, 26674,\n",
    "                26681, 26682,\n",
    "                26690, 26690+1,\n",
    "                26704, 26704+1,\n",
    "                26775, 26782,\n",
    "                27101, 27105,\n",
    "                27106, 27125,\n",
    "                27088, 27125,\n",
    "                27173, 27176,\n",
    "                27177, 27187,\n",
    "                27416, 27521,\n",
    "                27522, 27524,\n",
    "                27525, 27543 \n",
    "             ]"
   ]
  },
  {
   "cell_type": "code",
   "execution_count": 26,
   "metadata": {},
   "outputs": [
    {
     "name": "stdout",
     "output_type": "stream",
     "text": [
      "Ava\n",
      "Brooklyn\n",
      "Charlotte\n",
      "Delilah\n",
      "Emma\n",
      "Faith\n",
      "Grace\n",
      "Harper\n"
     ]
    }
   ],
   "source": [
    "totalSubrunsInDataset = 0\n",
    "datasets = []\n",
    "startRun = -1\n",
    "previousRun = -1\n",
    "for i, entry in df.iterrows():\n",
    "    runi = entry['run']\n",
    "    nsubruns = entry['numberOfSubruns']\n",
    "    runStartTime = entry['startTime']\n",
    "    \n",
    "    if(runi == df['run'].min() ):\n",
    "        startRun = runi\n",
    "        \n",
    "    breakHere = False\n",
    "    for x in breakRuns:\n",
    "        if(previousRun < x and runi > x):\n",
    "            breakHere = True\n",
    "            \n",
    "    if((totalSubrunsInDataset >= nsubruns_min and ( (runi in trolleyEquivRuns) ) or (runi == df['run'].max() )) \n",
    "       or (runi in breakRuns or breakHere)):\n",
    "        #append to optimum vector\n",
    "        #print(len(datasets))\n",
    "        namei = datasetNames[len(datasets)]\n",
    "        print(namei)\n",
    "        datasets.append( [namei, (startRun, previousRun), totalSubrunsInDataset] )\n",
    "        totalSubrunsInDataset = 0\n",
    "        startRun = nearest(df.loc[df['run'] >= runi]['run'], runi)     \n",
    "        \n",
    "    previousRun = runi\n",
    "    totalSubrunsInDataset += nsubruns\n",
    "\n",
    "#namei = datasetNames[len(datasets)]\n",
    "#datasets.append( [namei, (startRun, runi), totalSubrunsInDataset] )\n",
    "#totalSubrunsInDataset = 0\n",
    "#startRun = runi + 1\n"
   ]
  },
  {
   "cell_type": "code",
   "execution_count": 27,
   "metadata": {},
   "outputs": [
    {
     "name": "stdout",
     "output_type": "stream",
     "text": [
      "[['Ava', (24376, 24462), 11947], ['Brooklyn', (24575, 25045), 95819], ['Charlotte', (25894, 26384), 78288], ['Delilah', (26459, 26624), 31159], ['Emma', (26675, 26804), 27812], ['Faith', (26996, 27043), 7717], ['Grace', (27166, 27215), 8905], ['Harper', (27415, 27439), 1906]]\n"
     ]
    }
   ],
   "source": [
    "print(datasets)"
   ]
  },
  {
   "cell_type": "code",
   "execution_count": 28,
   "metadata": {},
   "outputs": [
    {
     "data": {
      "image/png": "[encoded data removed]",
      "text/plain": [
       "<Figure size 432x288 with 1 Axes>"
      ]
     },
     "metadata": {
      "needs_background": "light"
     },
     "output_type": "display_data"
    }
   ],
   "source": [
    "dnames, drange, dsubs = zip(*datasets)\n",
    "plt.plot([x for x, xi in enumerate(dnames)], dsubs, \".\")\n",
    "plt.plot([0,len(dnames)],[nsubruns_min, nsubruns_min])\n",
    "plt.show()"
   ]
  },
  {
   "cell_type": "raw",
   "metadata": {},
   "source": [
    "fig,ax = plt.subplots(figsize=(8,5))\n",
    "for i, entry in df.iterrows():\n",
    "    if(entry['run'] in trolleyEquivRuns):\n",
    "        plt.plot([pandas.to_datetime(entry['startTime']), pandas.to_datetime(entry['startTime'])], [1,1.01], \"r.-\" )\n",
    "plt.plot([pandas.to_datetime(df['startTime']), pandas.to_datetime(df['startTime'])], [1.021,1.021], \"r.\" )\n",
    "plt.plot([pandas.to_datetime(df2['startTime']), pandas.to_datetime(df2['startTime'])], [1,1], \"b.\" )\n",
    "for runstart, runend in drange:\n",
    "    try:\n",
    "        #print(df.loc[df['run'] == runstart]['startTime'] )\n",
    "        timestart = pandas.to_datetime( df.loc[df['run'] == runstart]['startTime'] ).values[0]\n",
    "        timeend = pandas.to_datetime( df.loc[df['run'] == runend]['stopTime'] ).values[0]\n",
    "        plt.plot([timestart, timeend], [1.02,1.02])\n",
    "    except:\n",
    "        print(\"Unable to plot\", runstart, runend)\n",
    "\n",
    "plt.show()"
   ]
  },
  {
   "cell_type": "raw",
   "metadata": {},
   "source": [
    "setint()\n",
    "fig,ax = plt.subplots(figsize=(8,5))\n",
    "\n",
    "for runstart, runend in drange:\n",
    "    try:\n",
    "        plt.plot([runstart, runend], [1.02,1.02])\n",
    "    except:\n",
    "        print(\"Unable to plot\", runstart, runend)\n",
    "        \n",
    "plt.plot([df['run'], df['run']], [1,1],\"r.\")\n",
    "plt.plot([trolleyEquivRuns, trolleyEquivRuns], [1.1,1.1],\"b.\")\n",
    "\n",
    "plt.show()"
   ]
  },
  {
   "cell_type": "code",
   "execution_count": 29,
   "metadata": {},
   "outputs": [],
   "source": [
    "def plotDatasetsOverData(ax, drange, df, y):\n",
    "    for i, (runstart, runend) in enumerate(drange):\n",
    "        try:\n",
    "            timestart = pandas.to_datetime( df.loc[df['run'] == runstart]['startTime'] ).values[0]\n",
    "            timeend = pandas.to_datetime( df.loc[df['run'] == runend]['stopTime'] ).values[0]\n",
    "            #print(\"hi\")\n",
    "            #ax.plot([10,12], [y,y])\n",
    "            ax.plot([timestart, timeend], [y,y], linewidth=7)\n",
    "        except:\n",
    "            print(\"Unable to plot\", runstart, runend)  \n",
    "    return 0\n",
    "\n",
    "def plotDatasetTimesOverData(ax, drange, y):\n",
    "    for i, (timestart, timeend) in enumerate(drange):\n",
    "        try:\n",
    "            ax.plot([timestart, timeend], [y,y], linewidth=7)\n",
    "        except:\n",
    "            print(\"Unable to plot\", runstart, runend)  \n",
    "    return 0\n",
    "\n",
    "def getTimesOfDatasets(drange, df):\n",
    "    times = []\n",
    "    for i, (runstart, runend) in enumerate(drange):\n",
    "        try:\n",
    "            timestart = pandas.to_datetime( df.loc[df['run'] == runstart]['startTime'] ).values[0]\n",
    "            timeend = pandas.to_datetime( df.loc[df['run'] == runend]['stopTime'] ).values[0]\n",
    "            #print(\"hi\")\n",
    "            #ax.plot([10,12], [y,y])\n",
    "            times.append([timestart, timeend])\n",
    "        except:\n",
    "            print(\"Unable to plot\", runstart, runend)  \n",
    "    return times"
   ]
  },
  {
   "cell_type": "code",
   "execution_count": 30,
   "metadata": {},
   "outputs": [],
   "source": [
    "drange_times = getTimesOfDatasets(drange, df)\n",
    "#print(drange_times)"
   ]
  },
  {
   "cell_type": "code",
   "execution_count": 31,
   "metadata": {},
   "outputs": [
    {
     "data": {
      "text/plain": [
       "Index(['run', 'startTime', 'stopTime', 'nEvents', 'quality',\n",
       "       'AvgTemp_AllCalos', 'ctag', 'ctagPerFill', 'nSubRuns', 'AvgGain_Calo1',\n",
       "       'AvgGain_Calo2', 'AvgGain_Calo3', 'AvgGain_Calo4', 'AvgGain_Calo5',\n",
       "       'AvgGain_Calo6', 'AvgGain_Calo7', 'AvgGain_Calo8', 'AvgGain_Calo9',\n",
       "       'AvgGain_Calo10', 'AvgGain_Calo11', 'AvgGain_Calo12', 'AvgGain_Calo13',\n",
       "       'AvgGain_Calo14', 'AvgGain_Calo15', 'AvgGain_Calo16', 'AvgGain_Calo17',\n",
       "       'AvgGain_Calo18', 'AvgGain_Calo19', 'AvgGain_Calo20', 'AvgGain_Calo21',\n",
       "       'AvgGain_Calo22', 'AvgGain_Calo23', 'AvgGain_Calo24', 'runType',\n",
       "       'duration', 'dqmCtagPerFill', 'nlCtagPerFill_Mark', 'nlFrac_Mark',\n",
       "       'AvgTemp_Calo1', 'AvgTemp_Calo2', 'AvgTemp_Calo3', 'AvgTemp_Calo4',\n",
       "       'AvgTemp_Calo5', 'AvgTemp_Calo6', 'AvgTemp_Calo7', 'AvgTemp_Calo8',\n",
       "       'AvgTemp_Calo9', 'AvgTemp_Calo10', 'AvgTemp_Calo11', 'AvgTemp_Calo12',\n",
       "       'AvgTemp_Calo13', 'AvgTemp_Calo14', 'AvgTemp_Calo15', 'AvgTemp_Calo16',\n",
       "       'AvgTemp_Calo17', 'AvgTemp_Calo18', 'AvgTemp_Calo19', 'AvgTemp_Calo20',\n",
       "       'AvgTemp_Calo21', 'AvgTemp_Calo22', 'AvgTemp_Calo23', 'AvgTemp_Calo24',\n",
       "       'beamIntegral', 'beamTime', 'beamRMS', 'syncIntegral', 'syncTime',\n",
       "       'ctagsHannah', 'ctagsOverT0', 'trackerY', 'caloYpos', 'caloYpos_stdev',\n",
       "       'numberOfSubruns', 'kTotal', 'k1', 'k2', 'k3', 'q1', 'q2',\n",
       "       'wedgeChange', 't0_tubea_total_integral', 't0_tubeb_total_integral',\n",
       "       'ibms1x_centroid', 'ibms1y_centroid', 'ibms2x_centroid',\n",
       "       'ibms2y_centroid', 'ibms1x_total_integral', 'ibms1y_total_integral',\n",
       "       'ibms2x_total_integral', 'ibms2y_total_integral', 'date'],\n",
       "      dtype='object')"
      ]
     },
     "execution_count": 31,
     "metadata": {},
     "output_type": "execute_result"
    }
   ],
   "source": [
    "df.columns"
   ]
  },
  {
   "cell_type": "code",
   "execution_count": 32,
   "metadata": {},
   "outputs": [
    {
     "data": {
      "text/plain": [
       "Index(['N6', 'N6_var', 'NQ', 'NQ_var', 'S6', 'S6_var', 'SQ', 'SQ_var',\n",
       "       'deltaMagnetCycle', 'dipole', 'dipole_var', 'endTime',\n",
       "       'feedbackCurrent_mA', 'feedbackCurrent_var', 'magnetCycleSimon',\n",
       "       'startTime', 'trolleyRun', 'trolleyRunSimon', 'yokeTemp',\n",
       "       'yokeTemp_Gradient', 'yokeTemp_Gradient_var', 'yokeTemp_var',\n",
       "       'stopTime'],\n",
       "      dtype='object')"
      ]
     },
     "execution_count": 32,
     "metadata": {},
     "output_type": "execute_result"
    }
   ],
   "source": [
    "df2.columns"
   ]
  },
  {
   "cell_type": "code",
   "execution_count": 45,
   "metadata": {},
   "outputs": [
    {
     "data": {
      "image/png": "[encoded data removed]",
      "text/plain": [
       "<Figure size 1080x2448 with 34 Axes>"
      ]
     },
     "metadata": {
      "needs_background": "light"
     },
     "output_type": "display_data"
    }
   ],
   "source": [
    "noint()\n",
    "plotX = 'startTime'\n",
    "#plotX = 'run'\n",
    "\n",
    "runplots = [ #[todraw, title, ylim, duration?, numeric?]\n",
    "    ['quality', 'Run Quality [DAQ]', [], False, False ],\n",
    "#    ['runType', 'Run Quality [Mark]', [], False, False],\n",
    "#    ['duration', 'Run Duration', [], False, True],\n",
    "    ['AvgTemp_Calo2', 'Average Temperature of Calo 2', [], False, True],\n",
    "#    ['AvgGain_Calo2', 'Average NL Gain of Calo 2', [0.9,2], False, True],\n",
    "    ['nlCtagPerFill_Mark', 'Average Nearline CTAG/Fill', [], False, True],\n",
    "#    ['dqmCtagPerFill', 'Average DQM CTAG/Fill', [], False, True],\n",
    "    ['numberOfSubruns', 'Number of Subruns in This Run', [], False, True],\n",
    "#    ['beamIntegral', 'T0 Beam Integral', [], False, True],\n",
    "    ['t0_tubea_total_integral', 'T0 Beam Integral (Tube A, Nearline Data)', [], False, True],\n",
    "    ['beamTime', 'T0 Beam Time', [], False, True],\n",
    "#    ['syncIntegral', 'T0 Sync Integral', [], False, True],\n",
    "#    ['syncTime', 'T0 Sync Time', [], False, True],\n",
    "    ['trackerY', 'Tracker y-position', [], False, True],\n",
    "    ['caloYpos', 'Calo y-position [Excluding Calo 22]', [], False, True],\n",
    "    ['kTotal', 'Total Kicker Strength', [], False, True],\n",
    "    ['wedgeChange', 'Change to Boron Carbide Wedge', [], False, True],\n",
    "    ['ibms1x_total_integral', 'IBMS 1X Integral (Nearline Data)', [], False, True],\n",
    "    ['ibms1x_centroid', 'IBMS 1X Centroid (Nearline Data)', [], False, True]\n",
    "]\n",
    "\n",
    "timeplots = [\n",
    "    ['dipole', 'Dipole', [], True, True],\n",
    "    ['NQ', 'Normal Quadripole', [], True, True],\n",
    "#    ['SQ', 'Skew Quadripole', [], True, True],\n",
    "#    ['N6', 'Normal Sextipole', [], True, True],\n",
    "#    ['S6', 'Skew Sextipole', [], True, True],\n",
    "    ['feedbackCurrent_mA', 'Feedback Current [mA]', [], True, True],\n",
    "    ['trolleyRunSimon', 'Trolley Runs', [], False, True],\n",
    "    ['deltaMagnetCycle', '1 = First Trolley Run This Magnet Cycle', [], False, True]\n",
    "]\n",
    "\n",
    "nplots = len(runplots) + len(timeplots)\n",
    "\n",
    "fig,ax = plt.subplots(nplots+1,1,figsize=(15,nplots*2),sharex=True, sharey=False)\n",
    "for axi in ax:\n",
    "    plt.sca(axi)\n",
    "    plt.xticks(rotation=90)\n",
    "    #plt.xticks\n",
    "    axi.grid()\n",
    "    \n",
    "for axi in ax:\n",
    "    axi.xaxis.set_major_formatter(DateFormatter('%d-%m-%Y'))\n",
    "fig.autofmt_xdate() \n",
    "\n",
    "for i, (runstart, runend) in enumerate(drange):\n",
    "    try:\n",
    "        timestart = pandas.to_datetime( df.loc[df['run'] == runstart]['startTime'] ).values[0]\n",
    "        timeend = pandas.to_datetime( df.loc[df['run'] == runend]['stopTime'] ).values[0]\n",
    "        ax[0].plot([timestart, timeend], [1.02,1.02],label=dnames[i], linewidth=7.0)\n",
    "        ax[0].set_title(\"Dataset Boundaries\")\n",
    "    except:\n",
    "        print(\"Unable to plot\", runstart, runend)  \n",
    "        \n",
    "ax[0].legend(ncol=4)\n",
    "\n",
    "for i, ding in enumerate(runplots):\n",
    "    axi = ax[i+1]\n",
    "    if(ding[4]):\n",
    "        plotDatasetsOverData(axi, drange, df, df[ding[0]].mean())\n",
    "    makeTrendPlot(axi, ding, df)\n",
    "        \n",
    "for i, ding in enumerate(timeplots):\n",
    "    axi = ax[i+len(runplots)+1]\n",
    "    if(ding[4]):\n",
    "        #print(df2[ding[0]].mean())\n",
    "        plotDatasetTimesOverData( axi, drange_times, pandas.to_numeric(df2[ding[0]], errors='coerce').mean() )\n",
    "    makeTrendPlot(axi, ding, df2)\n",
    "\n",
    "\n",
    "plt.xlim(pandas.to_datetime(\"23-03-2019\"), pandas.to_datetime(\"07-07-2019\"))\n",
    "plt.tight_layout()\n",
    "plt.show()"
   ]
  },
  {
   "cell_type": "code",
   "execution_count": 34,
   "metadata": {},
   "outputs": [
    {
     "name": "stdout",
     "output_type": "stream",
     "text": [
      "2019-03-25 17:17:43 <DateOffset: days=14>\n",
      "[Timestamp('2019-03-25 17:17:43'), Timestamp('2019-04-08 17:17:43'), Timestamp('2019-04-22 17:17:43'), Timestamp('2019-05-06 17:17:43'), Timestamp('2019-05-20 17:17:43'), Timestamp('2019-06-03 17:17:43'), Timestamp('2019-06-17 17:17:43'), Timestamp('2019-07-01 17:17:43')]\n",
      "0 2019-03-25 17:17:43 2019-03-25 17:17:43\n",
      "1 2019-04-08 17:17:43 2019-04-08 17:17:43\n",
      "2 2019-04-22 17:17:43 2019-04-22 17:17:43\n",
      "3 2019-05-06 17:17:43 2019-05-06 17:17:43\n",
      "4 2019-05-20 17:17:43 2019-05-20 17:17:43\n",
      "5 2019-06-03 17:17:43 2019-06-03 17:17:43\n",
      "6 2019-06-17 17:17:43 2019-06-17 17:17:43\n",
      "7 2019-07-01 17:17:43 2019-07-01 17:17:43\n"
     ]
    },
    {
     "data": {
      "image/png": "[encoded data removed]",
      "text/plain": [
       "<Figure size 1080x360 with 1 Axes>"
      ]
     },
     "metadata": {
      "needs_background": "light"
     },
     "output_type": "display_data"
    }
   ],
   "source": [
    "fig,ax = plt.subplots(figsize=(15,5))\n",
    "for i, (runstart, runend) in enumerate(drange):\n",
    "    try:\n",
    "        timestart = pandas.to_datetime( df.loc[df['run'] == runstart]['startTime'] ).values[0]\n",
    "        timeend = pandas.to_datetime( df.loc[df['run'] == runend]['stopTime'] ).values[0]\n",
    "        ax.plot([timestart, timeend], [1.1,1.1],label=dnames[i], linewidth=7.0)\n",
    "        ax.set_title(\"Dataset Boundaries\")\n",
    "    except:\n",
    "        print(\"Unable to plot\", runstart, runend) \n",
    "        \n",
    "fig.autofmt_xdate() \n",
    "\n",
    "timestart = pandas.to_datetime( df.loc[df['run'] == drange[0][0]]['startTime'] ).values[0]\n",
    "timeend = pandas.to_datetime( df.loc[df['run'] == drange[len(drange)-1][1]]['stopTime'] ).values[0]\n",
    "\n",
    "timestart = pandas.to_datetime(timestart - pandas.Timedelta(days=1))\n",
    "\n",
    "print(timestart, pandas.DateOffset(days=14))\n",
    "date_list = [pandas.to_datetime(timestart + pandas.Timedelta(days=14*x)) for x in range(8)]\n",
    "print(date_list)\n",
    "for i, date in enumerate(date_list):\n",
    "    print(i,pandas.to_datetime(timestart + pandas.Timedelta(days=14*i)) , pandas.to_datetime(date) )\n",
    "    #plt.plot([pandas.to_datetime( pandas.to_datetime(timestart + pandas.Timedelta(days=14*(i-1) )) ), pandas.to_datetime(date)], [1,1], \":\", linewidth=1)\n",
    "    plt.plot( [pandas.to_datetime(date), pandas.to_datetime(date)], [1,1.2], \":\", linewidth=1)\n",
    "plt.show()\n"
   ]
  },
  {
   "cell_type": "code",
   "execution_count": 35,
   "metadata": {},
   "outputs": [
    {
     "name": "stdout",
     "output_type": "stream",
     "text": [
      "[0.43774732522350873, 3.5108823098343835, 2.8685329034149203, 1.141689872490107, 1.0190532024036347, 0.28275685182471055, 0.32628609116224533, 0.06983731496409204]\n"
     ]
    },
    {
     "data": {
      "image/png": "[encoded data removed]",
      "text/plain": [
       "<Figure size 720x360 with 1 Axes>"
      ]
     },
     "metadata": {
      "needs_background": "light"
     },
     "output_type": "display_data"
    }
   ],
   "source": [
    "fig,ax = plt.subplots(figsize=(10,5))\n",
    "\n",
    "#scalefactor = 1.\n",
    "scalefactor = nsubruns_60h*1.0\n",
    "#scalefactor = nsubruns_9day*1.0\n",
    "\n",
    "plt.plot([x for x, xi in enumerate(dnames)], [x/scalefactor for x in dsubs], \"o\", label='Number of Subruns by Dataset')\n",
    "print([x/scalefactor for x in dsubs])\n",
    "plt.xticks([i for i in range(len(dnames))], dnames, rotation=90)\n",
    "\n",
    "plt.plot([0,len(dnames)],[nsubruns_min/scalefactor, nsubruns_min/scalefactor], label=\"Goal\")\n",
    "plt.plot([0,len(dnames)],[nsubruns_9day/scalefactor, nsubruns_9day/scalefactor], label=\"9Day\")\n",
    "plt.plot([0,len(dnames)],[nsubruns_60h/scalefactor, nsubruns_60h/scalefactor], label=\"60h\")\n",
    "plt.plot([0,len(dnames)],[nsubruns_endgame/scalefactor, nsubruns_endgame/scalefactor], label=\"EndGame\")\n",
    "plt.plot([0,len(dnames)],[16330/scalefactor, 16330/scalefactor], label=\"Low Kick (Smallest Run 1)\")\n",
    "plt.legend(loc=1)\n",
    "\n",
    "plt.grid()\n",
    "\n",
    "plt.title(\"Number of Subruns in Each Dataset\")\n",
    "plt.xlabel(\"Dataset Name\")\n",
    "plt.ylabel(\"Number of Subruns [Units of 60h Dataset]\")\n",
    "\n",
    "#plt.yscale(\"log\")\n",
    "\n",
    "plt.show()"
   ]
  },
  {
   "cell_type": "raw",
   "metadata": {},
   "source": [
    "for i, xi in enumerate([x/scalefactor for x in dsubs]):\n",
    "    print(dnames[i],\"\\t\", xi)"
   ]
  },
  {
   "cell_type": "code",
   "execution_count": 36,
   "metadata": {},
   "outputs": [
    {
     "name": "stdout",
     "output_type": "stream",
     "text": [
      "[['Ava', []], ['Brooklyn', []], ['Charlotte', []], ['Delilah', []], ['Emma', []], ['Faith', []], ['Grace', []], ['Harper', []]]\n"
     ]
    }
   ],
   "source": [
    "datasets_allRuns = []\n",
    "for di in datasets:\n",
    "    datasets_allRuns.append([di[0], []])\n",
    "print(datasets_allRuns)\n",
    "\n",
    "for i, entry in df.iterrows():\n",
    "    run = entry['run']\n",
    "    for j, di in enumerate(datasets):\n",
    "        if(run >= di[1][0] and run <= di[1][1]):\n",
    "            datasets_allRuns[j][1].append(run)"
   ]
  },
  {
   "cell_type": "code",
   "execution_count": 37,
   "metadata": {},
   "outputs": [
    {
     "name": "stdout",
     "output_type": "stream",
     "text": [
      "[['Ava', [24376, 24377, 24378, 24379, 24380, 24381, 24382, 24383, 24385, 24386, 24387, 24388, 24389, 24390, 24391, 24392, 24393, 24394, 24395, 24396, 24397, 24398, 24399, 24400, 24436, 24437, 24438, 24439, 24440, 24442, 24444, 24445, 24446, 24447, 24448, 24449, 24450, 24453, 24454, 24456, 24457, 24458, 24461, 24462]], ['Brooklyn', [24575, 24576, 24577, 24578, 24579, 24580, 24581, 24582, 24583, 24584, 24585, 24587, 24588, 24589, 24590, 24591, 24594, 24595, 24597, 24598, 24600, 24602, 24604, 24605, 24608, 24609, 24611, 24613, 24614, 24616, 24617, 24619, 24620, 24621, 24622, 24625, 24627, 24628, 24630, 24631, 24632, 24633, 24634, 24636, 24637, 24684, 24686, 24687, 24688, 24689, 24690, 24691, 24692, 24694, 24695, 24696, 24697, 24698, 24699, 24700, 24703, 24704, 24705, 24722, 24723, 24724, 24725, 24726, 24727, 24728, 24730, 24732, 24733, 24734, 24735, 24736, 24737, 24738, 24739, 24742, 24744, 24745, 24746, 24747, 24748, 24749, 24750, 24751, 24752, 24754, 24755, 24758, 24759, 24760, 24762, 24763, 24764, 24765, 24766, 24767, 24768, 24769, 24770, 24772, 24773, 24774, 24775, 24778, 24779, 24780, 24782, 24783, 24784, 24785, 24786, 24787, 24788, 24790, 24792, 24795, 24796, 24797, 24798, 24799, 24800, 24801, 24802, 24803, 24804, 24831, 24832, 24833, 24835, 24836, 24840, 24841, 24846, 24847, 24849, 24850, 24851, 24852, 24853, 24854, 24855, 24856, 24857, 24858, 24859, 24860, 24861, 24863, 24865, 24866, 24867, 24868, 24869, 24870, 24871, 24872, 24873, 24874, 24875, 24877, 24878, 24879, 24880, 24881, 24883, 24884, 24885, 24886, 24887, 24888, 24889, 24890, 24891, 24892, 24893, 24894, 24895, 24920, 24921, 24922, 24923, 24924, 24925, 24926, 24927, 24928, 24929, 24930, 24935, 24936, 24937, 24938, 24939, 24940, 24941, 24942, 24943, 24945, 24946, 24947, 24948, 24949, 24951, 24952, 24953, 24956, 24957, 24958, 24960, 24961, 24962, 24963, 24964, 24965, 24966, 24967, 24968, 24969, 24970, 24971, 24972, 24973, 24974, 24975, 24976, 24977, 24978, 24979, 24980, 24981, 24982, 24983, 24984, 24985, 24986, 24987, 24988, 24995, 24997, 24998, 24999, 25000, 25001, 25002, 25003, 25004, 25005, 25006, 25007, 25008, 25009, 25010, 25011, 25012, 25013, 25014, 25017, 25019, 25020, 25021, 25022, 25023, 25024, 25025, 25026, 25027, 25028, 25029, 25030, 25031, 25032, 25033, 25034, 25035, 25036, 25037, 25038, 25039, 25040, 25041, 25043, 25044, 25045]], ['Charlotte', [25894, 25895, 25896, 25897, 25898, 25899, 25900, 25901, 25902, 25903, 25904, 25905, 25906, 25907, 25909, 25916, 25917, 25918, 25919, 25920, 25921, 25922, 25923, 25925, 25926, 25927, 25928, 25929, 25930, 25931, 25932, 25933, 25934, 25935, 25936, 25937, 25938, 25939, 25940, 25941, 25946, 25947, 25948, 25949, 25950, 25951, 25952, 25953, 25954, 25955, 25956, 25957, 25958, 25959, 25960, 25961, 25962, 25963, 25964, 25965, 25980, 25981, 25982, 25983, 25985, 25986, 25987, 25988, 25989, 25990, 25991, 25992, 25994, 25995, 25996, 25997, 25998, 25999, 26000, 26001, 26002, 26003, 26004, 26005, 26006, 26009, 26010, 26011, 26012, 26013, 26014, 26015, 26053, 26054, 26055, 26059, 26061, 26062, 26065, 26066, 26067, 26070, 26071, 26072, 26073, 26074, 26076, 26078, 26079, 26080, 26081, 26082, 26083, 26084, 26085, 26086, 26087, 26088, 26089, 26090, 26091, 26092, 26094, 26095, 26096, 26097, 26098, 26099, 26100, 26101, 26137, 26138, 26139, 26140, 26141, 26142, 26143, 26144, 26145, 26146, 26147, 26148, 26149, 26150, 26151, 26152, 26153, 26154, 26155, 26156, 26157, 26158, 26159, 26168, 26169, 26170, 26171, 26172, 26173, 26174, 26175, 26176, 26177, 26178, 26179, 26180, 26197, 26198, 26199, 26201, 26203, 26204, 26205, 26206, 26207, 26208, 26209, 26210, 26211, 26212, 26213, 26214, 26215, 26216, 26217, 26218, 26219, 26264, 26265, 26266, 26267, 26268, 26269, 26270, 26271, 26272, 26273, 26274, 26275, 26276, 26277, 26279, 26280, 26281, 26282, 26285, 26286, 26287, 26288, 26289, 26290, 26291, 26292, 26294, 26295, 26296, 26297, 26298, 26299, 26300, 26301, 26302, 26303, 26304, 26305, 26306, 26307, 26308, 26313, 26314, 26315, 26316, 26319, 26320, 26321, 26322, 26323, 26324, 26325, 26326, 26327, 26328, 26329, 26330, 26331, 26333, 26334, 26335, 26336, 26337, 26338, 26339, 26340, 26341, 26361, 26362, 26363, 26364, 26365, 26366, 26367, 26368, 26370, 26373, 26374, 26375, 26376, 26377, 26379, 26380, 26381, 26382, 26383, 26384]], ['Delilah', [26459, 26460, 26464, 26477, 26478, 26482, 26483, 26486, 26487, 26488, 26490, 26491, 26492, 26493, 26494, 26496, 26497, 26498, 26499, 26500, 26501, 26502, 26503, 26504, 26505, 26506, 26507, 26508, 26509, 26510, 26511, 26512, 26513, 26514, 26516, 26517, 26518, 26519, 26520, 26521, 26522, 26523, 26524, 26525, 26526, 26563, 26564, 26565, 26566, 26567, 26569, 26570, 26571, 26572, 26573, 26574, 26575, 26576, 26577, 26578, 26579, 26585, 26586, 26587, 26588, 26589, 26590, 26591, 26592, 26593, 26594, 26595, 26596, 26597, 26602, 26603, 26604, 26605, 26607, 26608, 26609, 26610, 26611, 26613, 26614, 26615, 26616, 26619, 26622, 26623, 26624]], ['Emma', [26675, 26676, 26678, 26679, 26680, 26683, 26684, 26685, 26686, 26687, 26689, 26691, 26692, 26693, 26695, 26696, 26697, 26699, 26700, 26702, 26703, 26704, 26705, 26706, 26707, 26708, 26709, 26710, 26711, 26712, 26713, 26714, 26715, 26716, 26717, 26718, 26719, 26720, 26755, 26757, 26758, 26759, 26760, 26761, 26762, 26763, 26764, 26765, 26766, 26768, 26769, 26770, 26771, 26772, 26773, 26774, 26783, 26784, 26786, 26787, 26788, 26792, 26793, 26794, 26796, 26797, 26798, 26799, 26801, 26802, 26803, 26804]], ['Faith', [26996, 26999, 27000, 27013, 27015, 27016, 27018, 27019, 27021, 27022, 27023, 27024, 27026, 27028, 27029, 27030, 27032, 27034, 27035, 27036, 27039, 27040, 27041, 27042, 27043]], ['Grace', [27166, 27170, 27171, 27188, 27189, 27190, 27191, 27192, 27193, 27194, 27195, 27196, 27197, 27198, 27201, 27202, 27203, 27204, 27205, 27206, 27207, 27208, 27209, 27210, 27211, 27212, 27213, 27215]], ['Harper', [27415, 27436, 27437, 27439]]]\n"
     ]
    }
   ],
   "source": [
    "print(datasets_allRuns)"
   ]
  },
  {
   "cell_type": "code",
   "execution_count": 38,
   "metadata": {},
   "outputs": [],
   "source": [
    "def createSamDataset(name, runs, extraConditions = \"\", dataType = 'raw'):\n",
    "    dataset = 'samweb -e gm2 create-definition '+str(name)+' \" ( '\n",
    "    for i, runi in enumerate(runs):\n",
    "        dataset+= \"( run_number >= \"+str(runi)+\" and run_number <= \"+str(runi)+\" ) or \"\n",
    "    dataset = dataset[:-3]+\" \"\n",
    "    if(len(extraConditions) > 0):\n",
    "        dataset += ' and ( '+str(extraConditions)+' ) '\n",
    "    dataset += ') and data_tier '+str(dataType)+' \" '\n",
    "    \n",
    "    return dataset"
   ]
  },
  {
   "cell_type": "code",
   "execution_count": 39,
   "metadata": {},
   "outputs": [],
   "source": [
    "datasetStrings = []\n",
    "for name, runs in datasets_allRuns:\n",
    "    datasetStrings.append(createSamDataset(\"labounty_binney_preliminaryRun2Datasets_\"+name, runs))"
   ]
  },
  {
   "cell_type": "raw",
   "metadata": {},
   "source": [
    "print(datasetStrings)"
   ]
  },
  {
   "cell_type": "code",
   "execution_count": 40,
   "metadata": {},
   "outputs": [
    {
     "name": "stdout",
     "output_type": "stream",
     "text": [
      "'labounty_binney_preliminaryRun2Datasets_Ava',\n",
      "'labounty_binney_preliminaryRun2Datasets_Brooklyn',\n",
      "'labounty_binney_preliminaryRun2Datasets_Charlotte',\n",
      "'labounty_binney_preliminaryRun2Datasets_Delilah',\n",
      "'labounty_binney_preliminaryRun2Datasets_Emma',\n",
      "'labounty_binney_preliminaryRun2Datasets_Faith',\n",
      "'labounty_binney_preliminaryRun2Datasets_Grace',\n",
      "'labounty_binney_preliminaryRun2Datasets_Harper',\n"
     ]
    }
   ],
   "source": [
    "for name, runs in datasets_allRuns:\n",
    "    #print(\"os.system( 'samweb -e gm2 count-definition-files labounty_binney_preliminaryRun2Datasets_\"+name+\"' )\")\n",
    "    print(\"'labounty_binney_preliminaryRun2Datasets_\"+name+\"',\")"
   ]
  },
  {
   "cell_type": "code",
   "execution_count": 41,
   "metadata": {},
   "outputs": [
    {
     "data": {
      "text/plain": [
       "[['Ava', (24376, 24462), 11947],\n",
       " ['Brooklyn', (24575, 25045), 95819],\n",
       " ['Charlotte', (25894, 26384), 78288],\n",
       " ['Delilah', (26459, 26624), 31159],\n",
       " ['Emma', (26675, 26804), 27812],\n",
       " ['Faith', (26996, 27043), 7717],\n",
       " ['Grace', (27166, 27215), 8905],\n",
       " ['Harper', (27415, 27439), 1906]]"
      ]
     },
     "execution_count": 41,
     "metadata": {},
     "output_type": "execute_result"
    }
   ],
   "source": [
    "datasets"
   ]
  },
  {
   "cell_type": "code",
   "execution_count": 42,
   "metadata": {},
   "outputs": [
    {
     "name": "stdout",
     "output_type": "stream",
     "text": [
      "11947 / 250 = 53 jobs (with a few spare)\n",
      "./gridSetupAndSubmitGM2Data.sh --daq --full --fhicl nearlineProcessing_NewOrder.fcl --sam-dataset   labounty_binney_preliminaryRun2Datasets_Ava  --njobs 53 --output-dir /pnfs/GM2/scratch/users/labounty/gridoutput --samelocal --memory 2 --lifetime 24h --sam-max-files 250 \n",
      "95819 / 250 = 389 jobs (with a few spare)\n",
      "./gridSetupAndSubmitGM2Data.sh --daq --full --fhicl nearlineProcessing_NewOrder.fcl --sam-dataset   labounty_binney_preliminaryRun2Datasets_Brooklyn  --njobs 389 --output-dir /pnfs/GM2/scratch/users/labounty/gridoutput --samelocal --memory 2 --lifetime 24h --sam-max-files 250 \n",
      "78288 / 250 = 319 jobs (with a few spare)\n",
      "./gridSetupAndSubmitGM2Data.sh --daq --full --fhicl nearlineProcessing_NewOrder.fcl --sam-dataset   labounty_binney_preliminaryRun2Datasets_Charlotte  --njobs 319 --output-dir /pnfs/GM2/scratch/users/labounty/gridoutput --samelocal --memory 2 --lifetime 24h --sam-max-files 250 \n",
      "31159 / 250 = 130 jobs (with a few spare)\n",
      "./gridSetupAndSubmitGM2Data.sh --daq --full --fhicl nearlineProcessing_NewOrder.fcl --sam-dataset   labounty_binney_preliminaryRun2Datasets_Delilah  --njobs 130 --output-dir /pnfs/GM2/scratch/users/labounty/gridoutput --samelocal --memory 2 --lifetime 24h --sam-max-files 250 \n",
      "27812 / 250 = 117 jobs (with a few spare)\n",
      "./gridSetupAndSubmitGM2Data.sh --daq --full --fhicl nearlineProcessing_NewOrder.fcl --sam-dataset   labounty_binney_preliminaryRun2Datasets_Emma  --njobs 117 --output-dir /pnfs/GM2/scratch/users/labounty/gridoutput --samelocal --memory 2 --lifetime 24h --sam-max-files 250 \n",
      "7717 / 250 = 36 jobs (with a few spare)\n",
      "./gridSetupAndSubmitGM2Data.sh --daq --full --fhicl nearlineProcessing_NewOrder.fcl --sam-dataset   labounty_binney_preliminaryRun2Datasets_Faith  --njobs 36 --output-dir /pnfs/GM2/scratch/users/labounty/gridoutput --samelocal --memory 2 --lifetime 24h --sam-max-files 250 \n",
      "8905 / 250 = 41 jobs (with a few spare)\n",
      "./gridSetupAndSubmitGM2Data.sh --daq --full --fhicl nearlineProcessing_NewOrder.fcl --sam-dataset   labounty_binney_preliminaryRun2Datasets_Grace  --njobs 41 --output-dir /pnfs/GM2/scratch/users/labounty/gridoutput --samelocal --memory 2 --lifetime 24h --sam-max-files 250 \n",
      "1906 / 250 = 13 jobs (with a few spare)\n",
      "./gridSetupAndSubmitGM2Data.sh --daq --full --fhicl nearlineProcessing_NewOrder.fcl --sam-dataset   labounty_binney_preliminaryRun2Datasets_Harper  --njobs 13 --output-dir /pnfs/GM2/scratch/users/labounty/gridoutput --samelocal --memory 2 --lifetime 24h --sam-max-files 250 \n"
     ]
    }
   ],
   "source": [
    "strings = []\n",
    "maxFiles = 250\n",
    "for i, di in enumerate(datasets):\n",
    "    njobs = int( np.ceil(di[2]/maxFiles) + 5 )\n",
    "    print(di[2], \"/\", maxFiles, \"=\", njobs, \"jobs (with a few spare)\")\n",
    "    if(i < 100):\n",
    "        local = \"samelocal\"\n",
    "    else:\n",
    "        local = 'localArea'\n",
    "    datasetString = \"./gridSetupAndSubmitGM2Data.sh --daq --full --fhicl nearlineProcessing_NewOrder.fcl --sam-dataset   labounty_binney_preliminaryRun2Datasets_\"+di[0]+\"  --njobs \"+str(njobs)+\" --output-dir /pnfs/GM2/scratch/users/labounty/gridoutput --\"+str(local)+\" --memory 2 --lifetime 24h --sam-max-files \"+str(maxFiles)+\" \"\n",
    "    strings.append(datasetString)\n",
    "    print(datasetString)"
   ]
  },
  {
   "cell_type": "code",
   "execution_count": 43,
   "metadata": {},
   "outputs": [
    {
     "name": "stdout",
     "output_type": "stream",
     "text": [
      "./gridSetupAndSubmitGM2Data.sh --daq --full --fhicl nearlineProcessing_NewOrder.fcl --sam-dataset   labounty_binney_preliminaryRun2Datasets_Ava  --njobs 53 --output-dir /pnfs/GM2/scratch/users/labounty/gridoutput --samelocal --memory 2 --lifetime 24h --sam-max-files 250 \n",
      "./gridSetupAndSubmitGM2Data.sh --daq --full --fhicl nearlineProcessing_NewOrder.fcl --sam-dataset   labounty_binney_preliminaryRun2Datasets_Brooklyn  --njobs 389 --output-dir /pnfs/GM2/scratch/users/labounty/gridoutput --samelocal --memory 2 --lifetime 24h --sam-max-files 250 \n",
      "./gridSetupAndSubmitGM2Data.sh --daq --full --fhicl nearlineProcessing_NewOrder.fcl --sam-dataset   labounty_binney_preliminaryRun2Datasets_Charlotte  --njobs 319 --output-dir /pnfs/GM2/scratch/users/labounty/gridoutput --samelocal --memory 2 --lifetime 24h --sam-max-files 250 \n",
      "./gridSetupAndSubmitGM2Data.sh --daq --full --fhicl nearlineProcessing_NewOrder.fcl --sam-dataset   labounty_binney_preliminaryRun2Datasets_Delilah  --njobs 130 --output-dir /pnfs/GM2/scratch/users/labounty/gridoutput --samelocal --memory 2 --lifetime 24h --sam-max-files 250 \n",
      "./gridSetupAndSubmitGM2Data.sh --daq --full --fhicl nearlineProcessing_NewOrder.fcl --sam-dataset   labounty_binney_preliminaryRun2Datasets_Emma  --njobs 117 --output-dir /pnfs/GM2/scratch/users/labounty/gridoutput --samelocal --memory 2 --lifetime 24h --sam-max-files 250 \n",
      "./gridSetupAndSubmitGM2Data.sh --daq --full --fhicl nearlineProcessing_NewOrder.fcl --sam-dataset   labounty_binney_preliminaryRun2Datasets_Faith  --njobs 36 --output-dir /pnfs/GM2/scratch/users/labounty/gridoutput --samelocal --memory 2 --lifetime 24h --sam-max-files 250 \n",
      "./gridSetupAndSubmitGM2Data.sh --daq --full --fhicl nearlineProcessing_NewOrder.fcl --sam-dataset   labounty_binney_preliminaryRun2Datasets_Grace  --njobs 41 --output-dir /pnfs/GM2/scratch/users/labounty/gridoutput --samelocal --memory 2 --lifetime 24h --sam-max-files 250 \n",
      "./gridSetupAndSubmitGM2Data.sh --daq --full --fhicl nearlineProcessing_NewOrder.fcl --sam-dataset   labounty_binney_preliminaryRun2Datasets_Harper  --njobs 13 --output-dir /pnfs/GM2/scratch/users/labounty/gridoutput --samelocal --memory 2 --lifetime 24h --sam-max-files 250 \n"
     ]
    }
   ],
   "source": [
    "for x in strings:\n",
    "    print(x)"
   ]
  },
  {
   "cell_type": "code",
   "execution_count": null,
   "metadata": {},
   "outputs": [],
   "source": []
  },
  {
   "cell_type": "code",
   "execution_count": null,
   "metadata": {},
   "outputs": [],
   "source": []
  },
  {
   "cell_type": "code",
   "execution_count": null,
   "metadata": {},
   "outputs": [],
   "source": []
  }
 ],
 "metadata": {
  "kernelspec": {
   "display_name": "Python 3",
   "language": "python",
   "name": "python3"
  },
  "language_info": {
   "codemirror_mode": {
    "name": "ipython",
    "version": 3
   },
   "file_extension": ".py",
   "mimetype": "text/x-python",
   "name": "python",
   "nbconvert_exporter": "python",
   "pygments_lexer": "ipython3",
   "version": "3.6.8"
  }
 },
 "nbformat": 4,
 "nbformat_minor": 2
}
