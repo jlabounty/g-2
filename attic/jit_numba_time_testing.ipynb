{
 "cells": [
  {
   "cell_type": "code",
   "execution_count": 2,
   "metadata": {},
   "outputs": [],
   "source": [
    "from numba import *\n"
   ]
  },
  {
   "cell_type": "code",
   "execution_count": 19,
   "metadata": {},
   "outputs": [],
   "source": [
    "class Interval(object):\n",
    "    \"\"\"\n",
    "    A half-open interval on the real number line.\n",
    "    \"\"\"\n",
    "    def __init__(self, lo, hi):\n",
    "        self.lo = lo\n",
    "        self.hi = hi\n",
    "\n",
    "    def __repr__(self):\n",
    "        return 'Interval(%f, %f)' % (self.lo, self.hi)\n",
    "\n",
    "    @property\n",
    "    def width(self):\n",
    "        return self.hi - self.lo"
   ]
  },
  {
   "cell_type": "code",
   "execution_count": 20,
   "metadata": {},
   "outputs": [],
   "source": [
    "from numba import types\n",
    "\n",
    "class IntervalType(types.Type):\n",
    "    def __init__(self):\n",
    "        super(IntervalType, self).__init__(name='Interval')\n",
    "\n",
    "interval_type = IntervalType()"
   ]
  },
  {
   "cell_type": "code",
   "execution_count": 21,
   "metadata": {},
   "outputs": [],
   "source": [
    "from numba.extending import type_callable\n",
    "\n",
    "@type_callable(Interval)\n",
    "def type_interval(context):\n",
    "    def typer(lo, hi):\n",
    "        if isinstance(lo, types.Float) and isinstance(hi, types.Float):\n",
    "            return interval_type\n",
    "    return typer"
   ]
  },
  {
   "cell_type": "code",
   "execution_count": 22,
   "metadata": {},
   "outputs": [],
   "source": [
    "from numba.extending import models, register_model\n",
    "\n",
    "@register_model(IntervalType)\n",
    "class IntervalModel(models.StructModel):\n",
    "    def __init__(self, dmm, fe_type):\n",
    "        members = [\n",
    "            ('lo', types.float64),\n",
    "            ('hi', types.float64),\n",
    "            ]\n",
    "        models.StructModel.__init__(self, dmm, fe_type, members)"
   ]
  },
  {
   "cell_type": "code",
   "execution_count": 23,
   "metadata": {},
   "outputs": [],
   "source": [
    "from numba.extending import make_attribute_wrapper\n",
    "\n",
    "make_attribute_wrapper(IntervalType, 'lo', 'lo')\n",
    "make_attribute_wrapper(IntervalType, 'hi', 'hi')"
   ]
  },
  {
   "cell_type": "code",
   "execution_count": 24,
   "metadata": {},
   "outputs": [],
   "source": [
    "from numba.extending import overload_attribute\n",
    "\n",
    "@overload_attribute(IntervalType, \"width\")\n",
    "def get_width(interval):\n",
    "    def getter(interval):\n",
    "        return interval.hi - interval.lo\n",
    "    return getter"
   ]
  },
  {
   "cell_type": "code",
   "execution_count": 25,
   "metadata": {},
   "outputs": [],
   "source": [
    "from numba.extending import lower_builtin\n",
    "from numba import cgutils\n",
    "\n",
    "@lower_builtin(Interval, types.Float, types.Float)\n",
    "def impl_interval(context, builder, sig, args):\n",
    "    typ = sig.return_type\n",
    "    lo, hi = args\n",
    "    interval = cgutils.create_struct_proxy(typ)(context, builder)\n",
    "    interval.lo = lo\n",
    "    interval.hi = hi\n",
    "    return interval._getvalue()"
   ]
  },
  {
   "cell_type": "code",
   "execution_count": 29,
   "metadata": {},
   "outputs": [],
   "source": [
    "from numba.extending import unbox, NativeValue\n",
    "\n",
    "@unbox(IntervalType)\n",
    "def unbox_interval(typ, obj, c):\n",
    "    \"\"\"\n",
    "    Convert a Interval object to a native interval structure.\n",
    "    \"\"\"\n",
    "    lo_obj = c.pyapi.object_getattr_string(obj, \"lo\")\n",
    "    hi_obj = c.pyapi.object_getattr_string(obj, \"hi\")\n",
    "    interval = cgutils.create_struct_proxy(typ)(c.context, c.builder)\n",
    "    interval.lo = c.pyapi.float_as_double(lo_obj)\n",
    "    interval.hi = c.pyapi.float_as_double(hi_obj)\n",
    "    c.pyapi.decref(lo_obj)\n",
    "    c.pyapi.decref(hi_obj)\n",
    "    is_error = cgutils.is_not_null(c.builder, c.pyapi.err_occurred())\n",
    "    return NativeValue(interval._getvalue(), is_error=is_error)"
   ]
  },
  {
   "cell_type": "code",
   "execution_count": 33,
   "metadata": {},
   "outputs": [],
   "source": [
    "from numba.extending import box\n",
    "\n",
    "@box(IntervalType)\n",
    "def box_interval(typ, val, c):\n",
    "    \"\"\"\n",
    "    Convert a native interval structure to an Interval object.\n",
    "    \"\"\"\n",
    "    interval = cgutils.create_struct_proxy(typ)(c.context, c.builder, value=val)\n",
    "    lo_obj = c.pyapi.float_from_double(interval.lo)\n",
    "    hi_obj = c.pyapi.float_from_double(interval.hi)\n",
    "    class_obj = c.pyapi.unserialize(c.pyapi.serialize_object(Interval))\n",
    "    res = c.pyapi.call_function_objargs(class_obj, (lo_obj, hi_obj))\n",
    "    c.pyapi.decref(lo_obj)\n",
    "    c.pyapi.decref(hi_obj)\n",
    "    c.pyapi.decref(class_obj)\n",
    "    return res"
   ]
  },
  {
   "cell_type": "code",
   "execution_count": 34,
   "metadata": {},
   "outputs": [],
   "source": [
    "from numba import jit\n",
    "\n",
    "@jit(nopython=True)\n",
    "def inside_interval(interval, x):\n",
    "    return interval.lo <= x < interval.hi\n",
    "\n",
    "@jit(nopython=True)\n",
    "def interval_width(interval):\n",
    "    return interval.width\n",
    "\n",
    "@jit(nopython=True)\n",
    "def sum_intervals(i, j):\n",
    "    return Interval(i.lo + j.lo, i.hi + j.hi)"
   ]
  },
  {
   "cell_type": "code",
   "execution_count": 35,
   "metadata": {},
   "outputs": [],
   "source": [
    "ding = Interval(1,2)"
   ]
  },
  {
   "cell_type": "code",
   "execution_count": 36,
   "metadata": {},
   "outputs": [
    {
     "ename": "TypingError",
     "evalue": "Failed in nopython mode pipeline (step: nopython frontend)\n\u001b[1m\u001b[1mnon-precise type pyobject\u001b[0m\n\u001b[0m\u001b[1m[1] During: typing of argument at <ipython-input-34-ee6f4deb367d> (5)\u001b[0m\n\u001b[1m\nFile \"<ipython-input-34-ee6f4deb367d>\", line 5:\u001b[0m\n\u001b[1mdef inside_interval(interval, x):\n\u001b[1m    return interval.lo <= x < interval.hi\n\u001b[0m    \u001b[1m^\u001b[0m\u001b[0m\n\nThis error may have been caused by the following argument(s):\n- argument 0: \u001b[1mcannot determine Numba type of <class '__main__.Interval'>\u001b[0m\n",
     "output_type": "error",
     "traceback": [
      "\u001b[0;31m---------------------------------------------------------------------------\u001b[0m",
      "\u001b[0;31mTypingError\u001b[0m                               Traceback (most recent call last)",
      "\u001b[0;32m<ipython-input-36-f7de96ee4bb0>\u001b[0m in \u001b[0;36m<module>\u001b[0;34m\u001b[0m\n\u001b[0;32m----> 1\u001b[0;31m \u001b[0minside_interval\u001b[0m\u001b[0;34m(\u001b[0m\u001b[0mding\u001b[0m\u001b[0;34m,\u001b[0m \u001b[0;36m3\u001b[0m\u001b[0;34m)\u001b[0m\u001b[0;34m\u001b[0m\u001b[0;34m\u001b[0m\u001b[0m\n\u001b[0m",
      "\u001b[0;32m~/anaconda3/lib/python3.6/site-packages/numba/dispatcher.py\u001b[0m in \u001b[0;36m_compile_for_args\u001b[0;34m(self, *args, **kws)\u001b[0m\n\u001b[1;32m    399\u001b[0m                 \u001b[0me\u001b[0m\u001b[0;34m.\u001b[0m\u001b[0mpatch_message\u001b[0m\u001b[0;34m(\u001b[0m\u001b[0mmsg\u001b[0m\u001b[0;34m)\u001b[0m\u001b[0;34m\u001b[0m\u001b[0;34m\u001b[0m\u001b[0m\n\u001b[1;32m    400\u001b[0m \u001b[0;34m\u001b[0m\u001b[0m\n\u001b[0;32m--> 401\u001b[0;31m             \u001b[0merror_rewrite\u001b[0m\u001b[0;34m(\u001b[0m\u001b[0me\u001b[0m\u001b[0;34m,\u001b[0m \u001b[0;34m'typing'\u001b[0m\u001b[0;34m)\u001b[0m\u001b[0;34m\u001b[0m\u001b[0;34m\u001b[0m\u001b[0m\n\u001b[0m\u001b[1;32m    402\u001b[0m         \u001b[0;32mexcept\u001b[0m \u001b[0merrors\u001b[0m\u001b[0;34m.\u001b[0m\u001b[0mUnsupportedError\u001b[0m \u001b[0;32mas\u001b[0m \u001b[0me\u001b[0m\u001b[0;34m:\u001b[0m\u001b[0;34m\u001b[0m\u001b[0;34m\u001b[0m\u001b[0m\n\u001b[1;32m    403\u001b[0m             \u001b[0;31m# Something unsupported is present in the user code, add help info\u001b[0m\u001b[0;34m\u001b[0m\u001b[0;34m\u001b[0m\u001b[0;34m\u001b[0m\u001b[0m\n",
      "\u001b[0;32m~/anaconda3/lib/python3.6/site-packages/numba/dispatcher.py\u001b[0m in \u001b[0;36merror_rewrite\u001b[0;34m(e, issue_type)\u001b[0m\n\u001b[1;32m    342\u001b[0m                 \u001b[0;32mraise\u001b[0m \u001b[0me\u001b[0m\u001b[0;34m\u001b[0m\u001b[0;34m\u001b[0m\u001b[0m\n\u001b[1;32m    343\u001b[0m             \u001b[0;32melse\u001b[0m\u001b[0;34m:\u001b[0m\u001b[0;34m\u001b[0m\u001b[0;34m\u001b[0m\u001b[0m\n\u001b[0;32m--> 344\u001b[0;31m                 \u001b[0mreraise\u001b[0m\u001b[0;34m(\u001b[0m\u001b[0mtype\u001b[0m\u001b[0;34m(\u001b[0m\u001b[0me\u001b[0m\u001b[0;34m)\u001b[0m\u001b[0;34m,\u001b[0m \u001b[0me\u001b[0m\u001b[0;34m,\u001b[0m \u001b[0;32mNone\u001b[0m\u001b[0;34m)\u001b[0m\u001b[0;34m\u001b[0m\u001b[0;34m\u001b[0m\u001b[0m\n\u001b[0m\u001b[1;32m    345\u001b[0m \u001b[0;34m\u001b[0m\u001b[0m\n\u001b[1;32m    346\u001b[0m         \u001b[0margtypes\u001b[0m \u001b[0;34m=\u001b[0m \u001b[0;34m[\u001b[0m\u001b[0;34m]\u001b[0m\u001b[0;34m\u001b[0m\u001b[0;34m\u001b[0m\u001b[0m\n",
      "\u001b[0;32m~/anaconda3/lib/python3.6/site-packages/numba/six.py\u001b[0m in \u001b[0;36mreraise\u001b[0;34m(tp, value, tb)\u001b[0m\n\u001b[1;32m    666\u001b[0m             \u001b[0mvalue\u001b[0m \u001b[0;34m=\u001b[0m \u001b[0mtp\u001b[0m\u001b[0;34m(\u001b[0m\u001b[0;34m)\u001b[0m\u001b[0;34m\u001b[0m\u001b[0;34m\u001b[0m\u001b[0m\n\u001b[1;32m    667\u001b[0m         \u001b[0;32mif\u001b[0m \u001b[0mvalue\u001b[0m\u001b[0;34m.\u001b[0m\u001b[0m__traceback__\u001b[0m \u001b[0;32mis\u001b[0m \u001b[0;32mnot\u001b[0m \u001b[0mtb\u001b[0m\u001b[0;34m:\u001b[0m\u001b[0;34m\u001b[0m\u001b[0;34m\u001b[0m\u001b[0m\n\u001b[0;32m--> 668\u001b[0;31m             \u001b[0;32mraise\u001b[0m \u001b[0mvalue\u001b[0m\u001b[0;34m.\u001b[0m\u001b[0mwith_traceback\u001b[0m\u001b[0;34m(\u001b[0m\u001b[0mtb\u001b[0m\u001b[0;34m)\u001b[0m\u001b[0;34m\u001b[0m\u001b[0;34m\u001b[0m\u001b[0m\n\u001b[0m\u001b[1;32m    669\u001b[0m         \u001b[0;32mraise\u001b[0m \u001b[0mvalue\u001b[0m\u001b[0;34m\u001b[0m\u001b[0;34m\u001b[0m\u001b[0m\n\u001b[1;32m    670\u001b[0m \u001b[0;34m\u001b[0m\u001b[0m\n",
      "\u001b[0;31mTypingError\u001b[0m: Failed in nopython mode pipeline (step: nopython frontend)\n\u001b[1m\u001b[1mnon-precise type pyobject\u001b[0m\n\u001b[0m\u001b[1m[1] During: typing of argument at <ipython-input-34-ee6f4deb367d> (5)\u001b[0m\n\u001b[1m\nFile \"<ipython-input-34-ee6f4deb367d>\", line 5:\u001b[0m\n\u001b[1mdef inside_interval(interval, x):\n\u001b[1m    return interval.lo <= x < interval.hi\n\u001b[0m    \u001b[1m^\u001b[0m\u001b[0m\n\nThis error may have been caused by the following argument(s):\n- argument 0: \u001b[1mcannot determine Numba type of <class '__main__.Interval'>\u001b[0m\n"
     ]
    }
   ],
   "source": [
    "inside_interval(ding, 3)"
   ]
  },
  {
   "cell_type": "code",
   "execution_count": null,
   "metadata": {},
   "outputs": [],
   "source": []
  },
  {
   "cell_type": "code",
   "execution_count": null,
   "metadata": {},
   "outputs": [],
   "source": []
  },
  {
   "cell_type": "code",
   "execution_count": 15,
   "metadata": {},
   "outputs": [
    {
     "data": {
      "text/plain": [
       "array([0, 0, 0, 0, 0, 0, 0, 0, 0, 0])"
      ]
     },
     "execution_count": 15,
     "metadata": {},
     "output_type": "execute_result"
    }
   ],
   "source": [
    "np.zeros(10, dtype=int)"
   ]
  },
  {
   "cell_type": "code",
   "execution_count": 156,
   "metadata": {},
   "outputs": [],
   "source": [
    "from numba import njit\n",
    "import numpy as np\n",
    "\n",
    "@njit(parallel=True)\n",
    "def testprange(x,y,ding):\n",
    "    #ding_copy = np.zeros_like(ding, dtype = ding.dtype)\n",
    "    for i in prange(x):\n",
    "        for j in prange(y):\n",
    "            ding[i][j] = i**4 + 2*j\n",
    "        #print(i)\n",
    "    #print(ding)\n",
    "    #return ding_copy"
   ]
  },
  {
   "cell_type": "code",
   "execution_count": 157,
   "metadata": {},
   "outputs": [
    {
     "name": "stdout",
     "output_type": "stream",
     "text": [
      "[[0 0 0 ... 0 0 0]\n",
      " [0 0 0 ... 0 0 0]\n",
      " [0 0 0 ... 0 0 0]\n",
      " ...\n",
      " [0 0 0 ... 0 0 0]\n",
      " [0 0 0 ... 0 0 0]\n",
      " [0 0 0 ... 0 0 0]]\n",
      "None\n"
     ]
    }
   ],
   "source": [
    "x = 100000\n",
    "y = 100\n",
    "ding = np.zeros((int(x), int(y)), dtype=np.int64)\n",
    "print(ding)\n",
    "ding = testprange(x, y, ding)\n",
    "print(ding)"
   ]
  },
  {
   "cell_type": "code",
   "execution_count": 158,
   "metadata": {},
   "outputs": [
    {
     "name": "stdout",
     "output_type": "stream",
     "text": [
      "162 ms ± 38.1 ms per loop (mean ± std. dev. of 7 runs, 1 loop each)\n"
     ]
    }
   ],
   "source": [
    "%%timeit\n",
    "\n",
    "#prange parallel true\n",
    "ding = np.zeros((int(x), int(y)), dtype=np.int64)\n",
    "testprange(x, y,ding)"
   ]
  },
  {
   "cell_type": "code",
   "execution_count": 149,
   "metadata": {},
   "outputs": [
    {
     "name": "stdout",
     "output_type": "stream",
     "text": [
      "The slowest run took 11.97 times longer than the fastest. This could mean that an intermediate result is being cached.\n",
      "847 ms ± 977 ms per loop (mean ± std. dev. of 7 runs, 1 loop each)\n"
     ]
    }
   ],
   "source": [
    "%%timeit\n",
    "\n",
    "#range parallel true\n",
    "ding = np.zeros((int(x), int(y)), dtype=np.int64)\n",
    "\n",
    "testprange(x, y,ding)"
   ]
  },
  {
   "cell_type": "code",
   "execution_count": 152,
   "metadata": {},
   "outputs": [
    {
     "name": "stdout",
     "output_type": "stream",
     "text": [
      "333 ms ± 54.3 ms per loop (mean ± std. dev. of 7 runs, 1 loop each)\n"
     ]
    }
   ],
   "source": [
    "%%timeit\n",
    "\n",
    "#range parallel false\n",
    "ding = np.zeros((int(x), int(y)), dtype=np.int64)\n",
    "\n",
    "testprange(x, y, ding)"
   ]
  },
  {
   "cell_type": "code",
   "execution_count": 155,
   "metadata": {},
   "outputs": [
    {
     "name": "stdout",
     "output_type": "stream",
     "text": [
      "352 ms ± 114 ms per loop (mean ± std. dev. of 7 runs, 1 loop each)\n"
     ]
    }
   ],
   "source": [
    "%%timeit\n",
    "\n",
    "#prange parallel false\n",
    "ding = np.zeros((int(x), int(y)), dtype=np.int64)\n",
    "\n",
    "testprange(x,y,ding)"
   ]
  },
  {
   "cell_type": "code",
   "execution_count": 64,
   "metadata": {},
   "outputs": [
    {
     "name": "stdout",
     "output_type": "stream",
     "text": [
      "[0 1 2 3 4 5 6 7 8 9]\n"
     ]
    }
   ],
   "source": [
    "print(ding)"
   ]
  },
  {
   "cell_type": "raw",
   "metadata": {},
   "source": [
    "%%timeit\n",
    "\n",
    "ding = np.copy(testprange(1000))"
   ]
  },
  {
   "cell_type": "raw",
   "metadata": {},
   "source": [
    "%%timeit \n",
    "\n",
    "testprange(1000)"
   ]
  },
  {
   "cell_type": "code",
   "execution_count": null,
   "metadata": {},
   "outputs": [],
   "source": []
  }
 ],
 "metadata": {
  "kernelspec": {
   "display_name": "Python 3",
   "language": "python",
   "name": "python3"
  },
  "language_info": {
   "codemirror_mode": {
    "name": "ipython",
    "version": 3
   },
   "file_extension": ".py",
   "mimetype": "text/x-python",
   "name": "python",
   "nbconvert_exporter": "python",
   "pygments_lexer": "ipython3",
   "version": "3.6.8"
  }
 },
 "nbformat": 4,
 "nbformat_minor": 4
}
