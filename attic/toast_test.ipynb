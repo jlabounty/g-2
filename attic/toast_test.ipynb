{
 "cells": [
  {
   "cell_type": "code",
   "execution_count": 1,
   "metadata": {},
   "outputs": [],
   "source": [
    "import os\n",
    "import math\n",
    "#Using powershell toast notification system: https://github.com/Windos/BurntToast"
   ]
  },
  {
   "cell_type": "code",
   "execution_count": 5,
   "metadata": {},
   "outputs": [],
   "source": [
    "def toast(text):\n",
    "    if(len(str(text)) > 100):\n",
    "        text = str(text)[:100]+\" ...\"\n",
    "        print(text)\n",
    "    status = os.system(\"powershell.exe -Command 'New-BurntToastNotification -Text \\\"\"+str(text)+\"\\\"'\")\n",
    "    if(status == 0):\n",
    "        print(\"Toast Notification Sent\")\n",
    "    else:\n",
    "        print(\"ERROR: Unable to send toast with message \", text)"
   ]
  },
  {
   "cell_type": "code",
   "execution_count": 6,
   "metadata": {},
   "outputs": [
    {
     "name": "stdout",
     "output_type": "stream",
     "text": [
      "[0, 1, 2, 3, 4, 5, 6, 7, 8, 9, 10, 11, 12, 13, 14, 15, 16, 17, 18, 19, 20, 21, 22, 23, 24, 25, 26, 2 ...\n",
      "Toast Notification Sent\n"
     ]
    }
   ],
   "source": [
    "toast([x for x in range(1000)])"
   ]
  },
  {
   "cell_type": "code",
   "execution_count": null,
   "metadata": {},
   "outputs": [],
   "source": []
  }
 ],
 "metadata": {
  "kernelspec": {
   "display_name": "Python 3",
   "language": "python",
   "name": "python3"
  },
  "language_info": {
   "codemirror_mode": {
    "name": "ipython",
    "version": 3
   },
   "file_extension": ".py",
   "mimetype": "text/x-python",
   "name": "python",
   "nbconvert_exporter": "python",
   "pygments_lexer": "ipython3",
   "version": "3.6.8"
  }
 },
 "nbformat": 4,
 "nbformat_minor": 2
}
