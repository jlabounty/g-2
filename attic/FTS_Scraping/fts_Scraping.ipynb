{
 "cells": [
  {
   "cell_type": "code",
   "execution_count": 1,
   "metadata": {},
   "outputs": [
    {
     "name": "stdout",
     "output_type": "stream",
     "text": [
      "http://localhost:8787/fts/status\n"
     ]
    }
   ],
   "source": [
    "# import libraries\n",
    "#import urllib.request\n",
    "\n",
    "from selenium import webdriver\n",
    "import time\n",
    "\n",
    "# specify the url\n",
    "urlpage = 'http://localhost:8787/fts/status' \n",
    "print(urlpage)"
   ]
  },
  {
   "cell_type": "code",
   "execution_count": 2,
   "metadata": {},
   "outputs": [],
   "source": [
    "driver = webdriver.Firefox()"
   ]
  },
  {
   "cell_type": "code",
   "execution_count": 3,
   "metadata": {},
   "outputs": [],
   "source": [
    "# get web page\n",
    "driver.get(urlpage)\n",
    "# execute script to scroll down the page\n",
    "driver.execute_script(\"window.scrollTo(0, document.body.scrollHeight);var lenOfPage=document.body.scrollHeight;return lenOfPage;\")\n",
    "# sleep for 30s\n",
    "time.sleep(10)"
   ]
  },
  {
   "cell_type": "code",
   "execution_count": 4,
   "metadata": {},
   "outputs": [],
   "source": [
    "html = driver.page_source\n",
    "#print(html)\n",
    "driver.quit()"
   ]
  },
  {
   "cell_type": "raw",
   "metadata": {},
   "source": [
    "print(html)"
   ]
  },
  {
   "cell_type": "code",
   "execution_count": 6,
   "metadata": {},
   "outputs": [],
   "source": [
    "ding = str(html).split(\"body>\")"
   ]
  },
  {
   "cell_type": "code",
   "execution_count": 7,
   "metadata": {},
   "outputs": [
    {
     "name": "stdout",
     "output_type": "stream",
     "text": [
      "<tr><td>Completed files: </td><td><span id=\"ncompleted\">334232</span></td></tr>\n",
      "\t<tr><td>Failed transfers: </td><td><span id=\"nfailedtransfer\" class=\"status_bad\">3</span></td></tr>\n",
      "\t<tr><td>All error files: </td><td><span id=\"nerror\">3</span></td></tr>\n",
      "        <tr><td>Waiting on tape: </td><td><span id=\"ntapewaiting\">872</span></td></tr>\n",
      "\t<tr><td>Other pending files: </td><td><span id=\"npending\">310</span></td></tr>\n",
      "\t<tr><td>New files: </td><td><span id=\"nnew\">0</span></td></tr>\n",
      "</t\n"
     ]
    }
   ],
   "source": [
    "paramsOfInterest = [5, 13, 21, 29, 37]\n",
    "fileNums = []\n",
    "fileNames = []\n",
    "\n",
    "print( ding[4] )\n",
    "\n",
    "table = ding[4].split(\">\")\n",
    "\n",
    "for i, x in enumerate(table):\n",
    "    if(i in paramsOfInterest):\n",
    "        #print(\"****\")\n",
    "        param = float(x.split(\"<\")[0])\n",
    "        name = table[i-3].split(\":\")[0]\n",
    "        fileNums.append(param)\n",
    "        fileNames.append(name)\n",
    "    #print(i,x)"
   ]
  },
  {
   "cell_type": "code",
   "execution_count": 8,
   "metadata": {},
   "outputs": [
    {
     "name": "stdout",
     "output_type": "stream",
     "text": [
      "['Completed files', 'Failed transfers', 'All error files', 'Waiting on tape', 'Other pending files']\n",
      "[334232.0, 3.0, 3.0, 872.0, 310.0]\n"
     ]
    }
   ],
   "source": [
    "print(fileNames)\n",
    "print(fileNums)"
   ]
  },
  {
   "cell_type": "code",
   "execution_count": 9,
   "metadata": {},
   "outputs": [
    {
     "name": "stdout",
     "output_type": "stream",
     "text": [
      "Error: More than 0 files have failed in FTS\n",
      "******************************************\n",
      "Completed files \t 334232.0\n",
      "Failed transfers \t 3.0\n",
      "All error files \t 3.0\n",
      "Waiting on tape \t 872.0\n",
      "Other pending files \t 310.0\n",
      "\n"
     ]
    }
   ],
   "source": [
    "if( fileNums[2] > 0):\n",
    "    message = \"Error: More than 0 files have failed in FTS\\n\"\n",
    "    message += \"******************************************\\n\"\n",
    "    for (x,y) in zip(fileNames,fileNums):\n",
    "        message+=x+\" \\t \"+str(y)+\"\\n\"\n",
    "    print(message)"
   ]
  },
  {
   "cell_type": "code",
   "execution_count": null,
   "metadata": {},
   "outputs": [],
   "source": []
  },
  {
   "cell_type": "code",
   "execution_count": null,
   "metadata": {},
   "outputs": [],
   "source": []
  },
  {
   "cell_type": "code",
   "execution_count": null,
   "metadata": {},
   "outputs": [],
   "source": []
  },
  {
   "cell_type": "code",
   "execution_count": null,
   "metadata": {},
   "outputs": [],
   "source": []
  }
 ],
 "metadata": {
  "kernelspec": {
   "display_name": "Python 3",
   "language": "python",
   "name": "python3"
  },
  "language_info": {
   "codemirror_mode": {
    "name": "ipython",
    "version": 3
   },
   "file_extension": ".py",
   "mimetype": "text/x-python",
   "name": "python",
   "nbconvert_exporter": "python",
   "pygments_lexer": "ipython3",
   "version": "3.6.8"
  }
 },
 "nbformat": 4,
 "nbformat_minor": 2
}
