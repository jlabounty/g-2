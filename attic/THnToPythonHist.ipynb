{
 "cells": [
  {
   "cell_type": "code",
   "execution_count": 1,
   "metadata": {},
   "outputs": [
    {
     "name": "stdout",
     "output_type": "stream",
     "text": [
      "Welcome to JupyROOT 6.12/06\n",
      "For interactive plots, run: setint()\n",
      "To return to non-interactive plots (default state), run: noint()\n"
     ]
    }
   ],
   "source": [
    "from standardInclude import *\n",
    "import pickle"
   ]
  },
  {
   "cell_type": "markdown",
   "metadata": {},
   "source": [
    "### Create a function which takes a THND and creates a python array structure\n",
    "\n",
    "This will work for each of the possible dimensions of the histograms\n",
    "\n",
    "---"
   ]
  },
  {
   "cell_type": "code",
   "execution_count": 2,
   "metadata": {},
   "outputs": [
    {
     "data": {
      "image/png": "[encoded data removed]",
      "text/plain": [
       "<IPython.core.display.Image object>"
      ]
     },
     "metadata": {},
     "output_type": "display_data"
    }
   ],
   "source": [
    "#create a histogram to test the function\n",
    "#h2 = r.TH3D(\"h2\",\"Title; x; y;z\",100,0,100,10,200,300,12,0,1000)\n",
    "h2 = r.TH1I(\"h2\",\"Title; x; y;z\",100,0,100)\n",
    "func = r.TF3(\"func\",\"x**2 + y +z/2.5\",0,100,200,300,0,1000)\n",
    "h2.FillRandom(\"func\", 10000)\n",
    "\n",
    "c = r.TCanvas()\n",
    "h2.Draw(\"colz\")\n",
    "c.Draw()"
   ]
  },
  {
   "cell_type": "raw",
   "metadata": {},
   "source": [
    "def THnToPython(h):\n",
    "    '''\n",
    "        Creates a dictionary structure to hold the THn in Python\n",
    "    '''\n",
    "    histDict = {}\n",
    "    histType = str(type(h))\n",
    "    #print(histType)\n",
    "    if(\"ROOT.TH\") not in histType:\n",
    "        print(\"ERROR: Not a ROOT THn Object\")\n",
    "        return -1\n",
    "    histDimension = int(histType.split(\"ROOT.TH\")[1].split(\"'\")[0][0])\n",
    "    histDataType = histType.split(\"ROOT.TH\")[1].split(\"'\")[0][1]\n",
    "    #print(histDimension, histDataType)\n",
    "    histDict['dimension'] = histDimension\n",
    "    histDict['dataType'] = histDataType\n",
    "    histDict['name'] = h.GetName()\n",
    "    histDict['title'] = h.GetTitle()\n",
    "    axisNames = ['X', 'Y', 'Z']\n",
    "    allBins = []\n",
    "    \n",
    "    #store axes ranges\n",
    "    for axi in range(histDimension):\n",
    "        axDict = {}\n",
    "        ax = eval(\"h.Get\"+axisNames[axi]+\"axis()\")\n",
    "        #print(ax)\n",
    "        bins = ax.GetNbins()\n",
    "        centers = []\n",
    "        widths = []\n",
    "        for i in range(1,bins+1):\n",
    "            centers.append( ax.GetBinCenter(i) )\n",
    "            widths.append( ax.GetBinWidth(i) )\n",
    "        #print(bins, centers, widths)\n",
    "        axDict['axis'] = axisNames[axi]\n",
    "        axDict['title'] = ax.GetTitle()\n",
    "        axDict['range'] = [ax.GetBinCenter(1) - ax.GetBinWidth(1)/2., \n",
    "                           ax.GetBinCenter(bins) + ax.GetBinWidth(bins)/2.]\n",
    "        axDict['bins'] = bins\n",
    "        axDict['centers'] = centers\n",
    "        axDict['widths'] = widths\n",
    "        allBins.append(bins)\n",
    "        \n",
    "        histDict[\"ax\"+str(axi)] = axDict\n",
    "    \n",
    "    #get global bin numbers\n",
    "    #[(a, b, c) for a in A for b in B for c in C]\n",
    "    evalString = [\"[ [ \",\"]  \"]\n",
    "    for i, bini in enumerate(allBins):\n",
    "        evalString[0] += axisNames[i]+\", \"\n",
    "        evalString[1] += \"for \"+axisNames[i]+\" in range(1,\"+str(bini+1)+\") \"\n",
    "    evalString = evalString[0][:-2]+evalString[1]+\" ]\"\n",
    "    #print(evalString)\n",
    "    allBinsNumbers = eval(evalString)\n",
    "    #print(allBinsNumbers)\n",
    "    #print(eval(\"h.GetBin(\"+str(allBinsNumbers[0])[1:-1]+\")\"))\n",
    "    globalBinNumbers = []\n",
    "    for x in allBinsNumbers:\n",
    "        #print(x)\n",
    "        globalBinNumbers.append(eval(\"h.GetBin(\"+str(x)[1:-1]+\")\")) \n",
    "    #print(globalBinNumbers)\n",
    "    \n",
    "    #store bin contents\n",
    "    binDict = {}\n",
    "    for i, bini in enumerate(globalBinNumbers):\n",
    "        content = h.GetBinContent(bini)\n",
    "        error = h.GetBinError(bini)\n",
    "        \n",
    "        if(content > 0 or content < 0 ):\n",
    "            biniDict = {}\n",
    "            biniDict['content'] = content\n",
    "            biniDict['error'] = error\n",
    "            biniDict['binNumbers'] = allBinsNumbers[i]\n",
    "\n",
    "            binDict[bini] = biniDict\n",
    "        \n",
    "    histDict['binContents'] = binDict\n",
    "    \n",
    "    return histDict\n",
    "\n",
    "def CreateTHn(histDict, name=None):\n",
    "    \n",
    "    dimension = histDict['dimension']\n",
    "    dataType = histDict['dataType']\n",
    "    title = histDict['title']\n",
    "    if(name is None):\n",
    "        name = histDict['name']\n",
    "    axPars = []\n",
    "    for i in range(dimension):\n",
    "        axi = [histDict[\"ax\"+str(i)]['bins'],\n",
    "               histDict[\"ax\"+str(i)]['range'][0],\n",
    "               histDict[\"ax\"+str(i)]['range'][1]]\n",
    "        axPars.append(axi)\n",
    "    #print(axPars)\n",
    "    \n",
    "    histString = \"r.TH\"+str(dimension)+str(dataType)+\"( '\"+str(name)+\"', '\"+str(title)+\"'\"\n",
    "    for axi in axPars:\n",
    "        histString += \", \"+str(axi[0])+\", \"+str(axi[1])+\", \"+str(axi[2])\n",
    "    histString += \" )\"\n",
    "    #print(histString)\n",
    "    h = eval(histString)\n",
    "    for i in range(dimension):\n",
    "        eval(\"h.Get\"+histDict['ax'+str(i)]['axis']+\"axis().SetTitle( '\"+str(histDict['ax'+str(i)]['title'])+\"' )\")\n",
    "    \n",
    "    for bini in histDict['binContents']:\n",
    "        #print(bini, histDict['binContents'][bini]['content'])\n",
    "        content = histDict['binContents'][bini]['content']\n",
    "        error = histDict['binContents'][bini]['error']\n",
    "        h.SetBinContent(bini, content)\n",
    "        h.SetBinError(bini, error)\n",
    "    \n",
    "    return h"
   ]
  },
  {
   "cell_type": "code",
   "execution_count": 3,
   "metadata": {},
   "outputs": [],
   "source": [
    "ding = THnToPython(h2)\n",
    "#print(ding)"
   ]
  },
  {
   "cell_type": "code",
   "execution_count": 4,
   "metadata": {},
   "outputs": [
    {
     "name": "stderr",
     "output_type": "stream",
     "text": [
      "/home/jlab/anaconda3/lib/python3.6/site-packages/ipykernel_launcher.py:1: ResourceWarning: unclosed file <_io.BufferedWriter name='./ding.pickle'>\n",
      "  \"\"\"Entry point for launching an IPython kernel.\n",
      "/home/jlab/anaconda3/lib/python3.6/site-packages/ipykernel_launcher.py:3: ResourceWarning: unclosed file <_io.BufferedReader name='./ding.pickle'>\n",
      "  This is separate from the ipykernel package so we can avoid doing imports until\n",
      "Warning in <TROOT::Append>: Replacing existing TH1: h2 (Potential memory leak).\n"
     ]
    }
   ],
   "source": [
    "pickle.dump(ding, open(\"./ding.pickle\",\"wb\") )\n",
    "\n",
    "ding2 = pickle.load(open(\"./ding.pickle\",\"rb\"))\n",
    "\n",
    "hnew = CreateTHn(ding2)"
   ]
  },
  {
   "cell_type": "code",
   "execution_count": 5,
   "metadata": {},
   "outputs": [
    {
     "data": {
      "image/png": "[encoded data removed]",
      "text/plain": [
       "<IPython.core.display.Image object>"
      ]
     },
     "metadata": {},
     "output_type": "display_data"
    }
   ],
   "source": [
    "c = r.TCanvas()\n",
    "hnew.Draw(\"hist colz\")\n",
    "#hnew.Add(h2,-1)\n",
    "c.Draw()"
   ]
  },
  {
   "cell_type": "code",
   "execution_count": null,
   "metadata": {},
   "outputs": [],
   "source": []
  },
  {
   "cell_type": "code",
   "execution_count": null,
   "metadata": {},
   "outputs": [],
   "source": []
  },
  {
   "cell_type": "code",
   "execution_count": null,
   "metadata": {},
   "outputs": [],
   "source": []
  },
  {
   "cell_type": "code",
   "execution_count": null,
   "metadata": {},
   "outputs": [],
   "source": []
  }
 ],
 "metadata": {
  "kernelspec": {
   "display_name": "Python 3",
   "language": "python",
   "name": "python3"
  },
  "language_info": {
   "codemirror_mode": {
    "name": "ipython",
    "version": 3
   },
   "file_extension": ".py",
   "mimetype": "text/x-python",
   "name": "python",
   "nbconvert_exporter": "python",
   "pygments_lexer": "ipython3",
   "version": "3.6.8"
  }
 },
 "nbformat": 4,
 "nbformat_minor": 2
}
