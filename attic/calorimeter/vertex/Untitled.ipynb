{
 "cells": [
  {
   "cell_type": "code",
   "execution_count": null,
   "metadata": {},
   "outputs": [],
   "source": []
  },
  {
   "cell_type": "code",
   "execution_count": 1,
   "metadata": {},
   "outputs": [
    {
     "name": "stdout",
     "output_type": "stream",
     "text": [
      "Welcome to JupyROOT 6.12/06\n"
     ]
    }
   ],
   "source": [
    "import ROOT as r\n",
    "import math\n",
    "from BlindersPy3 import Blinders\n",
    "from BlindersPy3 import FitType\n",
    "r.gStyle.SetOptStat(0)\n",
    "r.gStyle.SetOptFit(1111)\n",
    "import matplotlib.pyplot as plt"
   ]
  },
  {
   "cell_type": "code",
   "execution_count": 4,
   "metadata": {},
   "outputs": [
    {
     "name": "stdout",
     "output_type": "stream",
     "text": [
      "TFile**\t\t../newPileupHists_gm2offline_ana_60h_pileup_corrected_only.root\t\n",
      " TFile*\t\t../newPileupHists_gm2offline_ana_60h_pileup_corrected_only.root\t\n",
      "  KEY: TH3D\tcorrected;1\tcorrected\n"
     ]
    }
   ],
   "source": [
    "f = r.TFile(\"../newPileupHists_gm2offline_ana_60h_pileup_corrected_only.root\")\n",
    "f.cd()\n",
    "f.ls()"
   ]
  },
  {
   "cell_type": "code",
   "execution_count": 8,
   "metadata": {},
   "outputs": [
    {
     "name": "stderr",
     "output_type": "stream",
     "text": [
      "Warning in <TCanvas::Constructor>: Deleting canvas with same name: c\n"
     ]
    }
   ],
   "source": [
    "c = r.TCanvas('c','c',1000,600)\n",
    "r.gStyle.SetOptStat(0)\n",
    "\n",
    "fitTuple = []\n",
    "\n",
    "leg = r.TLegend(0.12,0.12,0.3,0.3)\n",
    "calo_especs = []\n",
    "wiggle  = f.Get('corrected').Clone(\"wiggle\")\n",
    "wiggle.GetListOfFunctions().Clear()\n",
    "endpoint_fit = r.TF1(\"endpoint_fit\", '[0]*(x-[1])', 2000,2500)\n",
    "\n",
    "for i in range(24):\n",
    "    wiggle.GetZaxis().SetRange(i+1,i+1)\n",
    "    wiggle.GetYaxis().SetRange(0,300)\n",
    "    wiggle.GetXaxis().SetRange(300,1200)\n",
    "    calo_especs.append(wiggle.Project3D('y_{}'.format(i+1)))\n",
    "#    calo_especs[i].Rebin(3)\n",
    "    calo_especs[i].SetTitle('Calo Energy Spectrum')\n",
    "    calo_especs[i].GetXaxis().SetRangeUser(500,3000)\n",
    "    calo_especs[i].SetMarkerSize(0.8)\n",
    "    calo_especs[i].SetMarkerStyle(int(i/6)+20)\n",
    "#    calo_especs[i].Scale(1./calo_especs[i].GetEntries())"
   ]
  },
  {
   "cell_type": "code",
   "execution_count": 10,
   "metadata": {},
   "outputs": [
    {
     "name": "stdout",
     "output_type": "stream",
     "text": [
      "[0.0, 0.0, 0.0, 0.0, 0.0, 0.0, 0.0, 0.0, 0.0, 0.0, 0.0, 0.0, 0.0, 0.0, 0.0, 0.0, 0.0, 0.0, 0.0, 0.0, 0.0, 0.0, 0.0, 0.0]\n"
     ]
    },
    {
     "name": "stderr",
     "output_type": "stream",
     "text": [
      "Warning in <Fit>: Fit data is empty \n",
      "Info in <TCanvas::Print>: png file ./0.png has been created\n",
      "Warning in <Fit>: Fit data is empty \n",
      "Info in <TCanvas::Print>: png file ./1.png has been created\n",
      "Warning in <Fit>: Fit data is empty \n",
      "Info in <TCanvas::Print>: png file ./2.png has been created\n",
      "Warning in <Fit>: Fit data is empty \n",
      "Info in <TCanvas::Print>: png file ./3.png has been created\n",
      "Warning in <Fit>: Fit data is empty \n",
      "Info in <TCanvas::Print>: png file ./4.png has been created\n",
      "Warning in <Fit>: Fit data is empty \n",
      "Info in <TCanvas::Print>: png file ./5.png has been created\n",
      "Warning in <Fit>: Fit data is empty \n",
      "Info in <TCanvas::Print>: png file ./6.png has been created\n",
      "Warning in <Fit>: Fit data is empty \n",
      "Info in <TCanvas::Print>: png file ./7.png has been created\n",
      "Warning in <Fit>: Fit data is empty \n",
      "Info in <TCanvas::Print>: png file ./8.png has been created\n",
      "Warning in <Fit>: Fit data is empty \n",
      "Info in <TCanvas::Print>: png file ./9.png has been created\n",
      "Warning in <Fit>: Fit data is empty \n",
      "Info in <TCanvas::Print>: png file ./10.png has been created\n",
      "Warning in <Fit>: Fit data is empty \n",
      "Info in <TCanvas::Print>: png file ./11.png has been created\n",
      "Warning in <Fit>: Fit data is empty \n",
      "Info in <TCanvas::Print>: png file ./12.png has been created\n",
      "Warning in <Fit>: Fit data is empty \n",
      "Info in <TCanvas::Print>: png file ./13.png has been created\n",
      "Warning in <Fit>: Fit data is empty \n",
      "Info in <TCanvas::Print>: png file ./14.png has been created\n",
      "Warning in <Fit>: Fit data is empty \n",
      "Info in <TCanvas::Print>: png file ./15.png has been created\n",
      "Warning in <Fit>: Fit data is empty \n",
      "Info in <TCanvas::Print>: png file ./16.png has been created\n",
      "Warning in <Fit>: Fit data is empty \n",
      "Info in <TCanvas::Print>: png file ./17.png has been created\n",
      "Warning in <Fit>: Fit data is empty \n",
      "Info in <TCanvas::Print>: png file ./18.png has been created\n",
      "Warning in <Fit>: Fit data is empty \n",
      "Info in <TCanvas::Print>: png file ./19.png has been created\n",
      "Warning in <Fit>: Fit data is empty \n",
      "Info in <TCanvas::Print>: png file ./20.png has been created\n",
      "Warning in <Fit>: Fit data is empty \n",
      "Info in <TCanvas::Print>: png file ./21.png has been created\n",
      "Warning in <Fit>: Fit data is empty \n",
      "Info in <TCanvas::Print>: png file ./22.png has been created\n",
      "Warning in <Fit>: Fit data is empty \n",
      "Info in <TCanvas::Print>: png file ./23.png has been created\n"
     ]
    },
    {
     "data": {
      "image/png": "[encoded data removed]",
      "text/plain": [
       "<IPython.core.display.Image object>"
      ]
     },
     "metadata": {},
     "output_type": "display_data"
    }
   ],
   "source": [
    "calo_gradient = []\n",
    "vertex_list = []\n",
    "wiggle.GetListOfFunctions().Clear()\n",
    "\n",
    "for i in range(24):\n",
    "    wiggle.GetZaxis().SetRange(i+1,i+1)\n",
    "    wiggle.GetYaxis().SetRange(0,300)\n",
    "    wiggle.GetXaxis().SetRange(0,4500)\n",
    "    calo_gradient.append(wiggle.Project3D('y_{}'.format(i+1)).Clone('y_{}'.format(i+1)))\n",
    "\n",
    "for j in range(24):\n",
    "    c3 = r.TCanvas()\n",
    "    gradientHist = calo_gradient[j]\n",
    "    gradientHist.SetName(\"gradientHist_\"+str(j))\n",
    "\n",
    "    for i in range(gradientHist.GetNbinsX()-2):\n",
    "        calo_especs[j].GetListOfFunctions().Clear()\n",
    "        calo_especs[j].GetXaxis().SetRange(0,4500)\n",
    "        if i == 0:\n",
    "            gradientHist.SetBinContent(i,0)\n",
    "        else:\n",
    "            binContentBefore = calo_especs[j].GetBinContent(i-1)\n",
    "            binContentAfter = calo_especs[j].GetBinContent(i+1)\n",
    "            slope = (-1*binContentBefore + binContentAfter) / (2*calo_especs[j].GetBinWidth(i))\n",
    "            gradientHist.SetBinContent(i,slope)\n",
    "\n",
    "    gradientHist.GetListOfFunctions().Clear()\n",
    "    gradientHist.Draw(\"HIST\")\n",
    "    gradientHist.GetYaxis().SetRangeUser(-3000,4000)\n",
    "    gradientHist.GetXaxis().SetRangeUser(0,4500)\n",
    "\n",
    "    ding = 'gradientFit'\n",
    "    gradientFit = r.TF1(ding, '[0]+[1]*x+[2]*x*x', 1500,3000)\n",
    "    gradientFit.SetParameters(0,0,-1)\n",
    "    gradientHist.Fit(ding,\"REMB\")\n",
    "    gradientFit.Draw(\"SAME\")\n",
    "\n",
    "    c3.Draw()\n",
    "    c3.Print(\"./\"+str(j)+\".png\")\n",
    "\n",
    "    vertex = -gradientFit.GetParameter(1)/(2*gradientFit.GetParameter(2))\n",
    "    vertex_list.append(vertex)\n",
    "    gradientFit.Delete()\n",
    "\n",
    "print(vertex_list)"
   ]
  },
  {
   "cell_type": "code",
   "execution_count": null,
   "metadata": {},
   "outputs": [],
   "source": []
  }
 ],
 "metadata": {
  "kernelspec": {
   "display_name": "Python 3",
   "language": "python",
   "name": "python3"
  },
  "language_info": {
   "codemirror_mode": {
    "name": "ipython",
    "version": 3
   },
   "file_extension": ".py",
   "mimetype": "text/x-python",
   "name": "python",
   "nbconvert_exporter": "python",
   "pygments_lexer": "ipython3",
   "version": "3.6.5"
  }
 },
 "nbformat": 4,
 "nbformat_minor": 2
}
