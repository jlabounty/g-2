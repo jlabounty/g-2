{
 "cells": [
  {
   "cell_type": "code",
   "execution_count": 2,
   "metadata": {},
   "outputs": [
    {
     "name": "stdout",
     "output_type": "stream",
     "text": [
      "Welcome to JupyROOT 6.12/06\n"
     ]
    }
   ],
   "source": [
    "import ROOT as r\n",
    "import math\n",
    "from BlindersPy3 import Blinders\n",
    "from BlindersPy3 import FitType\n",
    "r.gStyle.SetOptStat(0)\n",
    "r.gStyle.SetOptFit(1111)"
   ]
  },
  {
   "cell_type": "code",
   "execution_count": 3,
   "metadata": {},
   "outputs": [
    {
     "data": {
      "text/plain": [
       "True"
      ]
     },
     "execution_count": 3,
     "metadata": {},
     "output_type": "execute_result"
    }
   ],
   "source": [
    "f = r.TFile(\"./FourierWiggle_output_noWindow_Residuals.root\")\n",
    "f.cd()"
   ]
  },
  {
   "cell_type": "code",
   "execution_count": 4,
   "metadata": {},
   "outputs": [
    {
     "name": "stdout",
     "output_type": "stream",
     "text": [
      "\n",
      "Keys in file: ['time0_noWindow_residual', 'time1_noWindow_residual', 'time2_noWindow_residual', 'time3_noWindow_residual', 'time4_noWindow_residual', 'time5_noWindow_residual', 'time6_noWindow_residual', 'time7_noWindow_residual', 'time8_noWindow_residual', 'time9_noWindow_residual', 'time10_noWindow_residual', 'time11_noWindow_residual', 'time12_noWindow_residual', 'time13_noWindow_residual', 'time14_noWindow_residual', 'time15_noWindow_residual', 'time16_noWindow_residual', 'time17_noWindow_residual', 'time18_noWindow_residual', 'time19_noWindow_residual', 'time20_noWindow_residual', 'time21_noWindow_residual', 'time22_noWindow_residual', 'time23_noWindow_residual', 'time24_noWindow_residual', 'time25_noWindow_residual', 'time26_noWindow_residual', 'time27_noWindow_residual', 'time28_noWindow_residual', 'time29_noWindow_residual', 'time30_noWindow_residual', 'time31_noWindow_residual', 'time32_noWindow_residual', 'time33_noWindow_residual', 'time34_noWindow_residual', 'time35_noWindow_residual', 'time36_noWindow_residual', 'time37_noWindow_residual', 'time38_noWindow_residual', 'time39_noWindow_residual', 'time40_noWindow_residual', 'time41_noWindow_residual', 'time42_noWindow_residual', 'time43_noWindow_residual', 'time44_noWindow_residual', 'time45_noWindow_residual', 'time46_noWindow_residual', 'time47_noWindow_residual']\n"
     ]
    }
   ],
   "source": [
    "def GetKeyNames( self, dir = \"\" ):\n",
    "        self.cd(dir)\n",
    "        return [key.GetName() for key in r.gDirectory.GetListOfKeys()]\n",
    "r.TFile.GetKeyNames = GetKeyNames\n",
    "\n",
    "keyList = f.GetKeyNames(\"\")\n",
    "print (\"\\nKeys in file:\", keyList)"
   ]
  },
  {
   "cell_type": "code",
   "execution_count": 5,
   "metadata": {},
   "outputs": [
    {
     "name": "stderr",
     "output_type": "stream",
     "text": [
      "Info in <TH1D::Add>: Attempt to add histograms with different number of bins - trying to use TH1::Merge\n",
      "Error in <Merge>: Cannot merge histograms - limits are inconsistent:\n",
      " first: hresid (2630, 0.000000, 6.702548), second: hresid (2631, 0.000000, 6.702548)\n",
      "Info in <TH1D::Add>: Attempt to add histograms with different number of bins - trying to use TH1::Merge\n",
      "Error in <Merge>: Cannot merge histograms - limits are inconsistent:\n",
      " first: hresid (2630, 0.000000, 6.702548), second: hresid (2631, 0.000000, 6.702548)\n",
      "Info in <TH1D::Add>: Attempt to add histograms with different number of bins - trying to use TH1::Merge\n",
      "Error in <Merge>: Cannot merge histograms - limits are inconsistent:\n",
      " first: hresid (2630, 0.000000, 6.702548), second: hresid (2631, 0.000000, 6.702548)\n",
      "Info in <TH1D::Add>: Attempt to add histograms with different number of bins - trying to use TH1::Merge\n",
      "Error in <Merge>: Cannot merge histograms - limits are inconsistent:\n",
      " first: hresid (2630, 0.000000, 6.702548), second: hresid (2631, 0.000000, 6.702548)\n",
      "Info in <TH1D::Add>: Attempt to add histograms with different number of bins - trying to use TH1::Merge\n",
      "Error in <Merge>: Cannot merge histograms - limits are inconsistent:\n",
      " first: hresid (2630, 0.000000, 6.702548), second: hresid (2631, 0.000000, 6.702548)\n",
      "Info in <TH1D::Add>: Attempt to add histograms with different number of bins - trying to use TH1::Merge\n",
      "Error in <Merge>: Cannot merge histograms - limits are inconsistent:\n",
      " first: hresid (2630, 0.000000, 6.702548), second: hresid (2631, 0.000000, 6.702548)\n",
      "Info in <TH1D::Add>: Attempt to add histograms with different number of bins - trying to use TH1::Merge\n",
      "Error in <Merge>: Cannot merge histograms - limits are inconsistent:\n",
      " first: hresid (2630, 0.000000, 6.702548), second: hresid (2631, 0.000000, 6.702548)\n",
      "Info in <TH1D::Add>: Attempt to add histograms with different number of bins - trying to use TH1::Merge\n",
      "Error in <Merge>: Cannot merge histograms - limits are inconsistent:\n",
      " first: hresid (2630, 0.000000, 6.702548), second: hresid (2631, 0.000000, 6.702548)\n",
      "Info in <TH1D::Add>: Attempt to add histograms with different number of bins - trying to use TH1::Merge\n",
      "Error in <Merge>: Cannot merge histograms - limits are inconsistent:\n",
      " first: hresid (2630, 0.000000, 6.702548), second: hresid (2631, 0.000000, 6.702548)\n",
      "Info in <TH1D::Add>: Attempt to add histograms with different number of bins - trying to use TH1::Merge\n",
      "Error in <Merge>: Cannot merge histograms - limits are inconsistent:\n",
      " first: hresid (2630, 0.000000, 6.702548), second: hresid (2631, 0.000000, 6.702548)\n",
      "Info in <TH1D::Add>: Attempt to add histograms with different number of bins - trying to use TH1::Merge\n",
      "Error in <Merge>: Cannot merge histograms - limits are inconsistent:\n",
      " first: hresid (2630, 0.000000, 6.702548), second: hresid (2631, 0.000000, 6.702548)\n",
      "Info in <TH1D::Add>: Attempt to add histograms with different number of bins - trying to use TH1::Merge\n",
      "Error in <Merge>: Cannot merge histograms - limits are inconsistent:\n",
      " first: hresid (2630, 0.000000, 6.702548), second: hresid (2631, 0.000000, 6.702548)\n",
      "Info in <TH1D::Add>: Attempt to add histograms with different number of bins - trying to use TH1::Merge\n",
      "Error in <Merge>: Cannot merge histograms - limits are inconsistent:\n",
      " first: hresid (2630, 0.000000, 6.702548), second: hresid (2631, 0.000000, 6.702548)\n",
      "Info in <TH1D::Add>: Attempt to add histograms with different number of bins - trying to use TH1::Merge\n",
      "Error in <Merge>: Cannot merge histograms - limits are inconsistent:\n",
      " first: hresid (2630, 0.000000, 6.702548), second: hresid (2631, 0.000000, 6.702548)\n",
      "Info in <TH1D::Add>: Attempt to add histograms with different number of bins - trying to use TH1::Merge\n",
      "Error in <Merge>: Cannot merge histograms - limits are inconsistent:\n",
      " first: hresid (2630, 0.000000, 6.702548), second: hresid (2631, 0.000000, 6.702548)\n",
      "Info in <TH1D::Add>: Attempt to add histograms with different number of bins - trying to use TH1::Merge\n",
      "Error in <Merge>: Cannot merge histograms - limits are inconsistent:\n",
      " first: hresid (2630, 0.000000, 6.702548), second: hresid (2631, 0.000000, 6.702548)\n",
      "Info in <TH1D::Add>: Attempt to add histograms with different number of bins - trying to use TH1::Merge\n",
      "Error in <Merge>: Cannot merge histograms - limits are inconsistent:\n",
      " first: hresid (2630, 0.000000, 6.702548), second: hresid (2631, 0.000000, 6.702548)\n",
      "Info in <TH1D::Add>: Attempt to add histograms with different number of bins - trying to use TH1::Merge\n",
      "Error in <Merge>: Cannot merge histograms - limits are inconsistent:\n",
      " first: hresid (2630, 0.000000, 6.702548), second: hresid (2631, 0.000000, 6.702548)\n",
      "Info in <TH1D::Add>: Attempt to add histograms with different number of bins - trying to use TH1::Merge\n",
      "Error in <Merge>: Cannot merge histograms - limits are inconsistent:\n",
      " first: hresid (2630, 0.000000, 6.702548), second: hresid (2631, 0.000000, 6.702548)\n",
      "Info in <TH1D::Add>: Attempt to add histograms with different number of bins - trying to use TH1::Merge\n",
      "Error in <Merge>: Cannot merge histograms - limits are inconsistent:\n",
      " first: hresid (2630, 0.000000, 6.702548), second: hresid (2631, 0.000000, 6.702548)\n",
      "Info in <TH1D::Add>: Attempt to add histograms with different number of bins - trying to use TH1::Merge\n",
      "Error in <Merge>: Cannot merge histograms - limits are inconsistent:\n",
      " first: hresid (2630, 0.000000, 6.702548), second: hresid (2631, 0.000000, 6.702548)\n",
      "Info in <TH1D::Add>: Attempt to add histograms with different number of bins - trying to use TH1::Merge\n",
      "Error in <Merge>: Cannot merge histograms - limits are inconsistent:\n",
      " first: hresid (2630, 0.000000, 6.702548), second: hresid (2631, 0.000000, 6.702548)\n",
      "Info in <TH1D::Add>: Attempt to add histograms with different axis limits - trying to use TH1::Merge\n",
      "Error in <Merge>: Cannot merge histograms - limits are inconsistent:\n",
      " first: hresid (2630, 0.000000, 6.702548), second: hresid (2630, 0.000000, 6.700000)\n",
      "Info in <TH1D::Add>: Attempt to add histograms with different axis limits - trying to use TH1::Merge\n",
      "Error in <Merge>: Cannot merge histograms - limits are inconsistent:\n",
      " first: hresid (2630, 0.000000, 6.702548), second: hresid (2630, 0.000000, 6.700000)\n",
      "Info in <TH1D::Add>: Attempt to add histograms with different axis limits - trying to use TH1::Merge\n",
      "Error in <Merge>: Cannot merge histograms - limits are inconsistent:\n",
      " first: hresid (2630, 0.000000, 6.702548), second: hresid (2630, 0.000000, 6.700000)\n",
      "Info in <TH1D::Add>: Attempt to add histograms with different axis limits - trying to use TH1::Merge\n",
      "Error in <Merge>: Cannot merge histograms - limits are inconsistent:\n",
      " first: hresid (2630, 0.000000, 6.702548), second: hresid (2630, 0.000000, 6.700000)\n",
      "Info in <TH1D::Add>: Attempt to add histograms with different axis limits - trying to use TH1::Merge\n",
      "Error in <Merge>: Cannot merge histograms - limits are inconsistent:\n",
      " first: hresid (2630, 0.000000, 6.702548), second: hresid (2630, 0.000000, 6.700000)\n",
      "Info in <TH1D::Add>: Attempt to add histograms with different axis limits - trying to use TH1::Merge\n",
      "Error in <Merge>: Cannot merge histograms - limits are inconsistent:\n",
      " first: hresid (2630, 0.000000, 6.702548), second: hresid (2630, 0.000000, 6.700000)\n",
      "Info in <TH1D::Add>: Attempt to add histograms with different axis limits - trying to use TH1::Merge\n",
      "Error in <Merge>: Cannot merge histograms - limits are inconsistent:\n",
      " first: hresid (2630, 0.000000, 6.702548), second: hresid (2630, 0.000000, 6.700000)\n",
      "Info in <TH1D::Add>: Attempt to add histograms with different axis limits - trying to use TH1::Merge\n",
      "Error in <Merge>: Cannot merge histograms - limits are inconsistent:\n",
      " first: hresid (2630, 0.000000, 6.702548), second: hresid (2630, 0.000000, 6.700000)\n",
      "Info in <TH1D::Add>: Attempt to add histograms with different number of bins - trying to use TH1::Merge\n",
      "Info in <TH1D::Add>: Attempt to add histograms with different number of bins - trying to use TH1::Merge\n",
      "Info in <TH1D::Add>: Attempt to add histograms with different axis limits - trying to use TH1::Merge\n",
      "Error in <Merge>: Cannot merge histograms - limits are inconsistent:\n",
      " first: hresid (2630, 0.000000, 6.702548), second: hresid (2630, 0.000000, 6.700000)\n",
      "Info in <TH1D::Add>: Attempt to add histograms with different axis limits - trying to use TH1::Merge\n",
      "Error in <Merge>: Cannot merge histograms - limits are inconsistent:\n",
      " first: hresid (2630, 0.000000, 6.702548), second: hresid (2630, 0.000000, 6.700000)\n",
      "Info in <TH1D::Add>: Attempt to add histograms with different number of bins - trying to use TH1::Merge\n",
      "Info in <TH1D::Add>: Attempt to add histograms with different axis limits - trying to use TH1::Merge\n",
      "Error in <Merge>: Cannot merge histograms - limits are inconsistent:\n",
      " first: hresid (2630, 0.000000, 6.702548), second: hresid (2630, 0.000000, 6.700000)\n",
      "Info in <TH1D::Add>: Attempt to add histograms with different axis limits - trying to use TH1::Merge\n",
      "Error in <Merge>: Cannot merge histograms - limits are inconsistent:\n",
      " first: hresid (2630, 0.000000, 6.702548), second: hresid (2630, 0.000000, 6.700000)\n",
      "Info in <TH1D::Add>: Attempt to add histograms with different axis limits - trying to use TH1::Merge\n",
      "Error in <Merge>: Cannot merge histograms - limits are inconsistent:\n",
      " first: hresid (2630, 0.000000, 6.702548), second: hresid (2630, 0.000000, 6.700000)\n",
      "Info in <TH1D::Add>: Attempt to add histograms with different axis limits - trying to use TH1::Merge\n",
      "Error in <Merge>: Cannot merge histograms - limits are inconsistent:\n",
      " first: hresid (2630, 0.000000, 6.702548), second: hresid (2630, 0.000000, 6.700000)\n",
      "Info in <TH1D::Add>: Attempt to add histograms with different axis limits - trying to use TH1::Merge\n",
      "Error in <Merge>: Cannot merge histograms - limits are inconsistent:\n",
      " first: hresid (2630, 0.000000, 6.702548), second: hresid (2630, 0.000000, 6.700000)\n",
      "Info in <TH1D::Add>: Attempt to add histograms with different axis limits - trying to use TH1::Merge\n",
      "Error in <Merge>: Cannot merge histograms - limits are inconsistent:\n",
      " first: hresid (2630, 0.000000, 6.702548), second: hresid (2630, 0.000000, 6.700000)\n"
     ]
    },
    {
     "data": {
      "image/png": "[encoded data removed]",
      "text/plain": [
       "<IPython.core.display.Image object>"
      ]
     },
     "metadata": {},
     "output_type": "display_data"
    }
   ],
   "source": [
    "h = r.TH1D()\n",
    "f.GetObject(keyList[0], h)\n",
    "for i in range(1,len(keyList)):\n",
    "    ding = r.TH1D()\n",
    "    f.GetObject(keyList[i], ding)\n",
    "    h.Add(ding)\n",
    "c = r.TCanvas()\n",
    "c.SetLogy()\n",
    "h.Draw(\"HIST P0 L\")\n",
    "h.GetXaxis().SetRangeUser(0,1)\n",
    "c.Draw()"
   ]
  },
  {
   "cell_type": "code",
   "execution_count": 8,
   "metadata": {},
   "outputs": [
    {
     "data": {
      "image/png": "[encoded data removed]",
      "text/plain": [
       "<IPython.core.display.Image object>"
      ]
     },
     "metadata": {},
     "output_type": "display_data"
    }
   ],
   "source": [
    "ding = r.TH1D()\n",
    "f.GetObject(keyList[0], ding)\n",
    "c = r.TCanvas()\n",
    "ding.Draw(\"HIST P0 L\")\n",
    "ding.GetYaxis().SetRangeUser(0.0001,0.003)\n",
    "c.Draw()"
   ]
  },
  {
   "cell_type": "code",
   "execution_count": null,
   "metadata": {},
   "outputs": [],
   "source": []
  },
  {
   "cell_type": "code",
   "execution_count": null,
   "metadata": {},
   "outputs": [],
   "source": []
  }
 ],
 "metadata": {
  "kernelspec": {
   "display_name": "Python 3",
   "language": "python",
   "name": "python3"
  },
  "language_info": {
   "codemirror_mode": {
    "name": "ipython",
    "version": 3
   },
   "file_extension": ".py",
   "mimetype": "text/x-python",
   "name": "python",
   "nbconvert_exporter": "python",
   "pygments_lexer": "ipython3",
   "version": "3.6.5"
  }
 },
 "nbformat": 4,
 "nbformat_minor": 2
}
