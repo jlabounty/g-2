{
 "cells": [
  {
   "cell_type": "code",
   "execution_count": 1,
   "metadata": {},
   "outputs": [
    {
     "name": "stdout",
     "output_type": "stream",
     "text": [
      "Welcome to JupyROOT 6.12/06\n"
     ]
    }
   ],
   "source": [
    "import ROOT as r\n",
    "import math\n",
    "from BlindersPy3 import Blinders\n",
    "from BlindersPy3 import FitType\n",
    "r.gStyle.SetOptStat(0)\n",
    "r.gStyle.SetOptFit(1111)\n",
    "import matplotlib.pyplot as plt\n",
    "import csv\n",
    "import pandas\n",
    "\n",
    "import seaborn as sns\n",
    "sns.set(style=\"ticks\", color_codes=True)\n",
    "import numpy as np\n",
    "import matplotlib.pyplot as plt\n",
    "import matplotlib \n",
    "matplotlib.rc('xtick', labelsize=20) \n",
    "matplotlib.rc('ytick', labelsize=20) \n",
    "\n",
    "%matplotlib inline"
   ]
  },
  {
   "cell_type": "code",
   "execution_count": 6,
   "metadata": {},
   "outputs": [
    {
     "data": {
      "text/plain": [
       "56"
      ]
     },
     "execution_count": 6,
     "metadata": {},
     "output_type": "execute_result"
    }
   ],
   "source": [
    "fileList = [\n",
    "    '/home/jlab/g-2/calorimeter/data/60hour/gm2offline_ana_7893420_15963.00130.root',\n",
    "    '/home/jlab/g-2/calorimeter/data/60hour/gm2offline_ana_7893440_15923.00220.root',  \n",
    "    '/home/jlab/g-2/calorimeter/data/60hour/gm2offline_ana_7893467_15959.00197.root',\n",
    "    '/home/jlab/g-2/calorimeter/data/60hour/gm2offline_ana_7893421_15949.00447.root' , \n",
    "    '/home/jlab/g-2/calorimeter/data/60hour/gm2offline_ana_7893441_15957.00298.root'  ,\n",
    "    '/home/jlab/g-2/calorimeter/data/60hour/gm2offline_ana_7893468_15945.00351.root',\n",
    "    '/home/jlab/g-2/calorimeter/data/60hour/gm2offline_ana_7893422_15982.00325.root' , \n",
    "    '/home/jlab/g-2/calorimeter/data/60hour/gm2offline_ana_7893443_15925.00320.root'  ,\n",
    "    '/home/jlab/g-2/calorimeter/data/60hour/gm2offline_ana_7893469_15981.00024.root',\n",
    "    '/home/jlab/g-2/calorimeter/data/60hour/gm2offline_ana_7893423_15981.00438.root' , \n",
    "    '/home/jlab/g-2/calorimeter/data/60hour/gm2offline_ana_7893444_15975.00149.root'  ,\n",
    "    '/home/jlab/g-2/calorimeter/data/60hour/gm2offline_ana_7893477_15933.00493.root',\n",
    "    '/home/jlab/g-2/calorimeter/data/60hour/gm2offline_ana_7893424_15981.00109.root' , \n",
    "    '/home/jlab/g-2/calorimeter/data/60hour/gm2offline_ana_7893445_15935.00413.root'  ,\n",
    "    '/home/jlab/g-2/calorimeter/data/60hour/gm2offline_ana_7893478_15926.00394.root',\n",
    "    '/home/jlab/g-2/calorimeter/data/60hour/gm2offline_ana_7893426_15935.00073.root' , \n",
    "    '/home/jlab/g-2/calorimeter/data/60hour/gm2offline_ana_7893446_15974.00369.root'  ,\n",
    "    '/home/jlab/g-2/calorimeter/data/60hour/gm2offline_ana_7893479_15922.00404.root',\n",
    "    '/home/jlab/g-2/calorimeter/data/60hour/gm2offline_ana_7893427_15969.00431.root' , \n",
    "    '/home/jlab/g-2/calorimeter/data/60hour/gm2offline_ana_7893447_15938.00174.root'  ,\n",
    "    '/home/jlab/g-2/calorimeter/data/60hour/gm2offline_ana_7893480_15926.00388.root',\n",
    "    '/home/jlab/g-2/calorimeter/data/60hour/gm2offline_ana_7893428_15968.00364.root' , \n",
    "    '/home/jlab/g-2/calorimeter/data/60hour/gm2offline_ana_7893449_15969.00478.root'  ,\n",
    "    '/home/jlab/g-2/calorimeter/data/60hour/gm2offline_ana_7893481_15951.00181.root',\n",
    "    '/home/jlab/g-2/calorimeter/data/60hour/gm2offline_ana_7893429_15988.00202.root' , \n",
    "    '/home/jlab/g-2/calorimeter/data/60hour/gm2offline_ana_7893450_15926.00264.root'  ,\n",
    "    '/home/jlab/g-2/calorimeter/data/60hour/gm2offline_ana_7893490_15957.00056.root',\n",
    "    '/home/jlab/g-2/calorimeter/data/60hour/gm2offline_ana_7893430_15981.00345.root' , \n",
    "    '/home/jlab/g-2/calorimeter/data/60hour/gm2offline_ana_7893451_15968.00391.root'  ,\n",
    "    '/home/jlab/g-2/calorimeter/data/60hour/gm2offline_ana_7893491_15924.00191.root',\n",
    "    '/home/jlab/g-2/calorimeter/data/60hour/gm2offline_ana_7893432_15925.00052.root' , \n",
    "    '/home/jlab/g-2/calorimeter/data/60hour/gm2offline_ana_7893452_15925.00224.root'  ,\n",
    "    '/home/jlab/g-2/calorimeter/data/60hour/gm2offline_ana_7893492_15925.00469.root',\n",
    "    '/home/jlab/g-2/calorimeter/data/60hour/gm2offline_ana_7893433_15943.00258.root' , \n",
    "    '/home/jlab/g-2/calorimeter/data/60hour/gm2offline_ana_7893455_15955.00411.root'  ,\n",
    "    '/home/jlab/g-2/calorimeter/data/60hour/gm2offline_ana_7893493_15922.00025.root',\n",
    "    '/home/jlab/g-2/calorimeter/data/60hour/gm2offline_ana_7893434_15950.00271.root' , \n",
    "    '/home/jlab/g-2/calorimeter/data/60hour/gm2offline_ana_7893456_15973.00252.root'  ,\n",
    "    '/home/jlab/g-2/calorimeter/data/60hour/gm2offline_ana_7893494_15930.00357.root',\n",
    "    '/home/jlab/g-2/calorimeter/data/60hour/gm2offline_ana_7893435_15923.00361.root' , \n",
    "    '/home/jlab/g-2/calorimeter/data/60hour/gm2offline_ana_7893457_15941.00218.root'  ,\n",
    "    '/home/jlab/g-2/calorimeter/data/60hour/gm2offline_ana_7893499_15975.00447.root',\n",
    "    '/home/jlab/g-2/calorimeter/data/60hour/gm2offline_ana_7893436_15935.00002.root' , \n",
    "    '/home/jlab/g-2/calorimeter/data/60hour/gm2offline_ana_7893458_15937.00027.root'  ,\n",
    "    '/home/jlab/g-2/calorimeter/data/60hour/gm2offline_ana_7893501_15981.00262.root',\n",
    "    '/home/jlab/g-2/calorimeter/data/60hour/gm2offline_ana_7893437_15933.00386.root' , \n",
    "    '/home/jlab/g-2/calorimeter/data/60hour/gm2offline_ana_7893459_15943.00035.root'  ,\n",
    "    '/home/jlab/g-2/calorimeter/data/60hour/gm2offline_ana_7893503_15931.00381.root',\n",
    "    '/home/jlab/g-2/calorimeter/data/60hour/gm2offline_ana_7893438_15968.00154.root' , \n",
    "    '/home/jlab/g-2/calorimeter/data/60hour/gm2offline_ana_7893465_15927.00164.root'  ,\n",
    "    '/home/jlab/g-2/calorimeter/data/60hour/gm2offline_ana_7893504_15927.00361.root',\n",
    "    '/home/jlab/g-2/calorimeter/data/60hour/gm2offline_ana_7893439_15933.00415.root' , \n",
    "    '/home/jlab/g-2/calorimeter/data/60hour/gm2offline_ana_7893466_15946.00298.root'  ,\n",
    "    '/home/jlab/g-2/calorimeter/data/60hour/gm2offline_ana_7893505_15982.00104.root'\n",
    "]\n",
    "\n",
    "import csv\n",
    "out = open('./data/calo_data_output_lostMuons_all_CL3_combined.csv','w')\n",
    "csv_out = csv.writer(out)\n",
    "csv_out.writerow(['CaloAX','CaloAY','CaloBX','CaloBY','CaloCX','CaloCY','StartingCalo'])"
   ]
  },
  {
   "cell_type": "code",
   "execution_count": 7,
   "metadata": {},
   "outputs": [
    {
     "name": "stdout",
     "output_type": "stream",
     "text": [
      "['/home/jlab/g-2/calorimeter/data/60hour/gm2offline_ana_7893420_15963.00130.root', '/home/jlab/g-2/calorimeter/data/60hour/gm2offline_ana_7893440_15923.00220.root', '/home/jlab/g-2/calorimeter/data/60hour/gm2offline_ana_7893467_15959.00197.root', '/home/jlab/g-2/calorimeter/data/60hour/gm2offline_ana_7893421_15949.00447.root', '/home/jlab/g-2/calorimeter/data/60hour/gm2offline_ana_7893441_15957.00298.root', '/home/jlab/g-2/calorimeter/data/60hour/gm2offline_ana_7893468_15945.00351.root', '/home/jlab/g-2/calorimeter/data/60hour/gm2offline_ana_7893422_15982.00325.root', '/home/jlab/g-2/calorimeter/data/60hour/gm2offline_ana_7893443_15925.00320.root', '/home/jlab/g-2/calorimeter/data/60hour/gm2offline_ana_7893469_15981.00024.root', '/home/jlab/g-2/calorimeter/data/60hour/gm2offline_ana_7893423_15981.00438.root', '/home/jlab/g-2/calorimeter/data/60hour/gm2offline_ana_7893444_15975.00149.root', '/home/jlab/g-2/calorimeter/data/60hour/gm2offline_ana_7893477_15933.00493.root', '/home/jlab/g-2/calorimeter/data/60hour/gm2offline_ana_7893424_15981.00109.root', '/home/jlab/g-2/calorimeter/data/60hour/gm2offline_ana_7893445_15935.00413.root', '/home/jlab/g-2/calorimeter/data/60hour/gm2offline_ana_7893478_15926.00394.root', '/home/jlab/g-2/calorimeter/data/60hour/gm2offline_ana_7893426_15935.00073.root', '/home/jlab/g-2/calorimeter/data/60hour/gm2offline_ana_7893446_15974.00369.root', '/home/jlab/g-2/calorimeter/data/60hour/gm2offline_ana_7893479_15922.00404.root', '/home/jlab/g-2/calorimeter/data/60hour/gm2offline_ana_7893427_15969.00431.root', '/home/jlab/g-2/calorimeter/data/60hour/gm2offline_ana_7893447_15938.00174.root', '/home/jlab/g-2/calorimeter/data/60hour/gm2offline_ana_7893480_15926.00388.root', '/home/jlab/g-2/calorimeter/data/60hour/gm2offline_ana_7893428_15968.00364.root', '/home/jlab/g-2/calorimeter/data/60hour/gm2offline_ana_7893449_15969.00478.root', '/home/jlab/g-2/calorimeter/data/60hour/gm2offline_ana_7893481_15951.00181.root', '/home/jlab/g-2/calorimeter/data/60hour/gm2offline_ana_7893429_15988.00202.root', '/home/jlab/g-2/calorimeter/data/60hour/gm2offline_ana_7893450_15926.00264.root', '/home/jlab/g-2/calorimeter/data/60hour/gm2offline_ana_7893490_15957.00056.root', '/home/jlab/g-2/calorimeter/data/60hour/gm2offline_ana_7893430_15981.00345.root', '/home/jlab/g-2/calorimeter/data/60hour/gm2offline_ana_7893451_15968.00391.root', '/home/jlab/g-2/calorimeter/data/60hour/gm2offline_ana_7893491_15924.00191.root', '/home/jlab/g-2/calorimeter/data/60hour/gm2offline_ana_7893432_15925.00052.root', '/home/jlab/g-2/calorimeter/data/60hour/gm2offline_ana_7893452_15925.00224.root', '/home/jlab/g-2/calorimeter/data/60hour/gm2offline_ana_7893492_15925.00469.root', '/home/jlab/g-2/calorimeter/data/60hour/gm2offline_ana_7893433_15943.00258.root', '/home/jlab/g-2/calorimeter/data/60hour/gm2offline_ana_7893455_15955.00411.root', '/home/jlab/g-2/calorimeter/data/60hour/gm2offline_ana_7893493_15922.00025.root', '/home/jlab/g-2/calorimeter/data/60hour/gm2offline_ana_7893434_15950.00271.root', '/home/jlab/g-2/calorimeter/data/60hour/gm2offline_ana_7893456_15973.00252.root', '/home/jlab/g-2/calorimeter/data/60hour/gm2offline_ana_7893494_15930.00357.root', '/home/jlab/g-2/calorimeter/data/60hour/gm2offline_ana_7893435_15923.00361.root', '/home/jlab/g-2/calorimeter/data/60hour/gm2offline_ana_7893457_15941.00218.root', '/home/jlab/g-2/calorimeter/data/60hour/gm2offline_ana_7893499_15975.00447.root', '/home/jlab/g-2/calorimeter/data/60hour/gm2offline_ana_7893436_15935.00002.root', '/home/jlab/g-2/calorimeter/data/60hour/gm2offline_ana_7893458_15937.00027.root', '/home/jlab/g-2/calorimeter/data/60hour/gm2offline_ana_7893501_15981.00262.root', '/home/jlab/g-2/calorimeter/data/60hour/gm2offline_ana_7893437_15933.00386.root', '/home/jlab/g-2/calorimeter/data/60hour/gm2offline_ana_7893459_15943.00035.root', '/home/jlab/g-2/calorimeter/data/60hour/gm2offline_ana_7893503_15931.00381.root', '/home/jlab/g-2/calorimeter/data/60hour/gm2offline_ana_7893438_15968.00154.root', '/home/jlab/g-2/calorimeter/data/60hour/gm2offline_ana_7893465_15927.00164.root', '/home/jlab/g-2/calorimeter/data/60hour/gm2offline_ana_7893504_15927.00361.root', '/home/jlab/g-2/calorimeter/data/60hour/gm2offline_ana_7893439_15933.00415.root', '/home/jlab/g-2/calorimeter/data/60hour/gm2offline_ana_7893466_15946.00298.root', '/home/jlab/g-2/calorimeter/data/60hour/gm2offline_ana_7893505_15982.00104.root']\n"
     ]
    }
   ],
   "source": [
    "print(fileList)"
   ]
  },
  {
   "cell_type": "code",
   "execution_count": null,
   "metadata": {},
   "outputs": [
    {
     "name": "stdout",
     "output_type": "stream",
     "text": [
      "Starting file: /home/jlab/g-2/calorimeter/data/60hour/gm2offline_ana_7893420_15963.00130.root  ( 1 / 54 )\n",
      "     Processed 0 events\n"
     ]
    }
   ],
   "source": [
    "for i,file in enumerate(fileList):\n",
    "    print(\"Starting file:\", file, \" (\",i+1,\"/\",len(fileList),\")\")\n",
    "    f = r.TFile(file)\n",
    "    f.cd(\"CoincidenceFinderLM\")\n",
    "    f.ls()\n",
    "    t = f.Get(\"CoincidenceFinderLM\").Get(\"CoincLM\")\n",
    "    \n",
    "    counter = 0\n",
    "    for entry in t:\n",
    "        if (counter % 10000000 == 0):\n",
    "            print(\"     Processed\", counter,'events')\n",
    "        if ( entry.clusterX.size() == 3 ):\n",
    "            startingCalo = entry.caloNum[0]\n",
    "            csv_out.writerow((entry.clusterX[0], entry.clusterY[0],entry.clusterX[1], \n",
    "                           entry.clusterY[1],entry.clusterX[2], entry.clusterY[2], startingCalo))\n",
    "\n",
    "        counter = counter + 1\n",
    "\n",
    "    print(\"All done.\")\n",
    "    \n",
    "    f.Close()"
   ]
  },
  {
   "cell_type": "code",
   "execution_count": null,
   "metadata": {},
   "outputs": [],
   "source": []
  }
 ],
 "metadata": {
  "kernelspec": {
   "display_name": "Python 3",
   "language": "python",
   "name": "python3"
  },
  "language_info": {
   "codemirror_mode": {
    "name": "ipython",
    "version": 3
   },
   "file_extension": ".py",
   "mimetype": "text/x-python",
   "name": "python",
   "nbconvert_exporter": "python",
   "pygments_lexer": "ipython3",
   "version": "3.6.5"
  }
 },
 "nbformat": 4,
 "nbformat_minor": 2
}
