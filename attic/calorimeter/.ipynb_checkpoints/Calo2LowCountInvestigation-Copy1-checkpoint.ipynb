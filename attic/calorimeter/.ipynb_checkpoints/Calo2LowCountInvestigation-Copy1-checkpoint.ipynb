{
 "cells": [
  {
   "cell_type": "code",
   "execution_count": 1,
   "metadata": {},
   "outputs": [
    {
     "name": "stdout",
     "output_type": "stream",
     "text": [
      "Welcome to JupyROOT 6.12/06\n"
     ]
    }
   ],
   "source": [
    "import ROOT as r\n",
    "import math\n",
    "from BlindersPy3 import Blinders\n",
    "from BlindersPy3 import FitType\n",
    "r.gStyle.SetOptStat(0)\n",
    "r.gStyle.SetOptFit(1111)\n",
    "import matplotlib.pyplot as plt"
   ]
  },
  {
   "cell_type": "code",
   "execution_count": 2,
   "metadata": {},
   "outputs": [
    {
     "name": "stdout",
     "output_type": "stream",
     "text": [
      "TFile**\t\t./gm2offline_ana_7893458_15937.00027.root\t\n",
      " TFile*\t\t./gm2offline_ana_7893458_15937.00027.root\t\n",
      "  TDirectoryFile*\t\tclusterTree\tclusterTree (ClusterTree) folder\n",
      "   KEY: TTree\tclusters;94\tclusters\n",
      "   KEY: TTree\tclusters;93\tclusters\n",
      "  KEY: TDirectoryFile\tCoincidenceFinderLM;1\tCoincidenceFinderLM (CoincidenceFinderLM) folder\n",
      "  KEY: TDirectoryFile\tclusterTree;1\tclusterTree (ClusterTree) folder\n"
     ]
    }
   ],
   "source": [
    "f = r.TFile(\"./gm2offline_ana_7893458_15937.00027.root\")\n",
    "f.cd(\"clusterTree\")\n",
    "f.ls()"
   ]
  },
  {
   "cell_type": "code",
   "execution_count": 3,
   "metadata": {},
   "outputs": [],
   "source": [
    "t = f.Get(\"clusterTree\").Get(\"clusters\")"
   ]
  },
  {
   "cell_type": "code",
   "execution_count": 4,
   "metadata": {},
   "outputs": [
    {
     "name": "stdout",
     "output_type": "stream",
     "text": [
      "******************************************************************************\n",
      "*Tree    :clusters  : clusters                                               *\n",
      "*Entries : 99870478 : Total =      6791534622 bytes  File  Size = 2795647272 *\n",
      "*        :          : Tree compression factor =   2.43                       *\n",
      "******************************************************************************\n",
      "*Br    0 :energy    : energy/D                                               *\n",
      "*Entries : 99870478 : Total  Size=  798999061 bytes  File Size  =  760531572 *\n",
      "*Baskets :      360 : Basket Size=   25600000 bytes  Compression=   1.05     *\n",
      "*............................................................................*\n",
      "*Br    1 :time      : time/D                                                 *\n",
      "*Entries : 99870478 : Total  Size=  798998333 bytes  File Size  =  762480670 *\n",
      "*Baskets :      360 : Basket Size=   25600000 bytes  Compression=   1.05     *\n",
      "*............................................................................*\n",
      "*Br    2 :x         : x/D                                                    *\n",
      "*Entries : 99870478 : Total  Size=  798997241 bytes  File Size  =  507389649 *\n",
      "*Baskets :      360 : Basket Size=   25600000 bytes  Compression=   1.57     *\n",
      "*............................................................................*\n",
      "*Br    3 :y         : y/D                                                    *\n",
      "*Entries : 99870478 : Total  Size=  798997241 bytes  File Size  =  443847200 *\n",
      "*Baskets :      360 : Basket Size=   25600000 bytes  Compression=   1.80     *\n",
      "*............................................................................*\n",
      "*Br    4 :nHit      : nHit/i                                                 *\n",
      "*Entries : 99870478 : Total  Size=  399503778 bytes  File Size  =   60862120 *\n",
      "*Baskets :      227 : Basket Size=   25600000 bytes  Compression=   6.56     *\n",
      "*............................................................................*\n",
      "*Br    5 :caloNum   : caloNum/i                                              *\n",
      "*Entries : 99870478 : Total  Size=  399504471 bytes  File Size  =    4304191 *\n",
      "*Baskets :      227 : Basket Size=   25600000 bytes  Compression=  92.82     *\n",
      "*............................................................................*\n",
      "*Br    6 :xtalNum   : xtalNum/i                                              *\n",
      "*Entries : 99870478 : Total  Size=  399504471 bytes  File Size  =  122141715 *\n",
      "*Baskets :      227 : Basket Size=   25600000 bytes  Compression=   3.27     *\n",
      "*............................................................................*\n",
      "*Br    7 :islandNum : islandNum/i                                            *\n",
      "*Entries : 99870478 : Total  Size=  399504933 bytes  File Size  =  123944725 *\n",
      "*Baskets :      227 : Basket Size=   25600000 bytes  Compression=   3.22     *\n",
      "*............................................................................*\n",
      "*Br    8 :eventNum  : eventNum/i                                             *\n",
      "*Entries : 99870478 : Total  Size=  399504702 bytes  File Size  =    2065574 *\n",
      "*Baskets :      227 : Basket Size=   25600000 bytes  Compression= 193.41     *\n",
      "*............................................................................*\n",
      "*Br    9 :bunchNum  : bunchNum/i                                             *\n",
      "*Entries : 99870478 : Total  Size=  399504702 bytes  File Size  =    2052083 *\n",
      "*Baskets :      227 : Basket Size=   25600000 bytes  Compression= 194.68     *\n",
      "*............................................................................*\n",
      "*Br   10 :midasSerialNum : midasSerialNum/i                                  *\n",
      "*Entries : 99870478 : Total  Size=  399506088 bytes  File Size  =    2069295 *\n",
      "*Baskets :      227 : Basket Size=   25600000 bytes  Compression= 193.06     *\n",
      "*............................................................................*\n",
      "*Br   11 :subRunNum : subRunNum/i                                            *\n",
      "*Entries : 99870478 : Total  Size=  399504933 bytes  File Size  =    1964847 *\n",
      "*Baskets :      227 : Basket Size=   25600000 bytes  Compression= 203.32     *\n",
      "*............................................................................*\n",
      "*Br   12 :runNum    : runNum/i                                               *\n",
      "*Entries : 99870478 : Total  Size=  399504240 bytes  File Size  =    1964356 *\n",
      "*Baskets :      227 : Basket Size=   25600000 bytes  Compression= 203.37     *\n",
      "*............................................................................*\n"
     ]
    }
   ],
   "source": [
    "t.Print()"
   ]
  },
  {
   "cell_type": "code",
   "execution_count": null,
   "metadata": {},
   "outputs": [],
   "source": [
    "c = r.TCanvas()\n",
    "t.Draw(\"energy\")\n",
    "c.Draw()"
   ]
  },
  {
   "cell_type": "code",
   "execution_count": null,
   "metadata": {},
   "outputs": [],
   "source": [
    "t.Draw(\"caloNum\",\"\",\"\")\n",
    "h = r.gPad.GetPrimitive(\"htemp\").Clone(\"caloListHist\")\n",
    "h.SetTitle(\"Entries/Calorimeter Number\")"
   ]
  },
  {
   "cell_type": "code",
   "execution_count": null,
   "metadata": {},
   "outputs": [],
   "source": [
    "caloBinList = []\n",
    "caloList = []\n",
    "for i in range(1,h.GetNbinsX()-1):\n",
    "    caloBinList.append(h.FindBin(i))\n",
    "    caloList.append(i)\n",
    "print(caloBinList, caloList)"
   ]
  },
  {
   "cell_type": "code",
   "execution_count": null,
   "metadata": {},
   "outputs": [],
   "source": [
    "h.Draw()\n",
    "c.Draw()"
   ]
  },
  {
   "cell_type": "markdown",
   "metadata": {},
   "source": [
    "Now lets look at the number of counts per unique ID of (run, subrun, event). In order to do this, we'll draw all of those options from the tree with a cut for calorimeter number. Currently, calonum is set to 1, but we will easily be able to put this into a loop at a later date."
   ]
  },
  {
   "cell_type": "code",
   "execution_count": null,
   "metadata": {},
   "outputs": [],
   "source": [
    "calonum = 1"
   ]
  },
  {
   "cell_type": "code",
   "execution_count": null,
   "metadata": {},
   "outputs": [],
   "source": [
    "cutString = \"caloNum == \"+str(calonum)\n",
    "print(cutString)\n",
    "c = r.TCanvas()\n",
    "\n",
    "t.SetEstimate(-1) #https://root-forum.cern.ch/t/ttree-getv1-array-limits/3325\n",
    "t.Draw(\"nHit:eventNum:subRunNum:runNum\",\"\",\"\")\n",
    "hUnique = r.gPad.GetPrimitive(\"htemp\").Clone(\"uniqueIDhist\")\n",
    "print(hUnique.GetEntries())\n",
    "\n",
    "listc = c.GetListOfPrimitives()\n",
    "ding = listc.First()\n",
    "print(ding)\n",
    "\n",
    "eventNumVec = t.GetV2()\n",
    "subRunNumVec = t.GetV3()\n",
    "runNumVec = t.GetV4()\n",
    "nHitVec = t.GetV1()"
   ]
  },
  {
   "cell_type": "code",
   "execution_count": null,
   "metadata": {},
   "outputs": [],
   "source": [
    "print(type(eventNumVec[0]))\n",
    "for i in range(0,10):\n",
    "    print(eventNumVec[i],runNumVec[i],subRunNumVec[i],nHitVec[i])\n",
    "    ding = str(int(runNumVec[i])) + str(int(subRunNumVec[i])) +str(int(eventNumVec[i])) \n",
    "    print(ding)"
   ]
  },
  {
   "cell_type": "markdown",
   "metadata": {},
   "source": [
    "Now lets create a global bin number by simply appending the event, run, and subrun numbers together. we can then loop over all of the entries in these lists and add up the ones with the same global bin number"
   ]
  },
  {
   "cell_type": "code",
   "execution_count": null,
   "metadata": {},
   "outputs": [],
   "source": [
    "'''globalBinNumber = int( str(int(runNumVec[0])) + str(int(subRunNumVec[0])) +str(int(eventNumVec[0])) )\n",
    "runningTotal = 0\n",
    "pairList = []\n",
    "maxBin = int(hUnique.GetEntries() / 1 ) #change this denom back if you want this to work\n",
    "\n",
    "for i in range(0,maxBin):\n",
    "    globalBinNumberNew = int( str(int(runNumVec[i])) + str(int(subRunNumVec[i])) +str(int(eventNumVec[i])) )\n",
    "    if(i % 10000000 == 0):\n",
    "        print(\"Processing event:\", globalBinNumberNew, \"(event\", i,\"/\",maxBin,\" and caloNum\",calonum,\" )\")\n",
    "#    print(i, maxBin-1,globalBinNumberNew, globalBinNumber)\n",
    "    if(globalBinNumber == globalBinNumberNew):\n",
    "        runningTotal = runningTotal + nHitVec[i]\n",
    "    elif((globalBinNumber != globalBinNumberNew) or (i == maxBin-1)):\n",
    "        pairList.append((calonum, globalBinNumber,int(runNumVec[i]),int(subRunNumVec[i]), int(eventNumVec[i]),runningTotal))\n",
    "        runningTotal = nHitVec[i]\n",
    "    \n",
    "    if(i == maxBin-1):\n",
    "        pairList.append((calonum, globalBinNumber,int(runNumVec[i]),int(subRunNumVec[i]), int(eventNumVec[i]),runningTotal))\n",
    "        \n",
    "    globalBinNumber = globalBinNumberNew\n",
    "    \n",
    "print(\"Found\", len(pairList),\"unique ID(s) for Calo\", calonum) '''"
   ]
  },
  {
   "cell_type": "code",
   "execution_count": null,
   "metadata": {},
   "outputs": [],
   "source": [
    "'''countList = [x[1] for x in pairList]''' #https://stackoverflow.com/questions/3308102/how-to-extract-the-n-th-elements-from-a-list-of-tuples-in-python"
   ]
  },
  {
   "cell_type": "code",
   "execution_count": null,
   "metadata": {},
   "outputs": [],
   "source": [
    "'''plt.plot(countList, \"b.\")\n",
    "plt.ylabel('Calorimeter 1 Counts by Unique ID')\n",
    "plt.show()'''"
   ]
  },
  {
   "cell_type": "markdown",
   "metadata": {},
   "source": [
    "We've checked that this works for calorimeter 1, so now lets go for the rest of them"
   ]
  },
  {
   "cell_type": "code",
   "execution_count": null,
   "metadata": {},
   "outputs": [],
   "source": [
    "import csv\n",
    "\n",
    "out = open('calo_data_output_cutEnergy.csv','w')\n",
    "#out = open('calo_data_output_energy.csv','w')\n",
    "csv_out = csv.writer(out)\n",
    "csv_out.writerow(['Calorimeter Number','Global Bin','Run Number','SubRun Number','Event Number','Counts'])\n",
    "\n",
    "out.close()"
   ]
  },
  {
   "cell_type": "code",
   "execution_count": null,
   "metadata": {},
   "outputs": [],
   "source": [
    "for j in range(0,len(caloList)):\n",
    "    calonum = caloList[j]\n",
    "#    cutString = \"caloNum == \"+str(calonum) \n",
    "    cutString = \"caloNum == \"+str(calonum)+\" && energy>1700 && energy<6000 && time >30*1000/1.25\"\n",
    "    print(cutString)\n",
    "    c = r.TCanvas()\n",
    "\n",
    "    t.SetEstimate(-1) #https://root-forum.cern.ch/t/ttree-getv1-array-limits/3325\n",
    "    t.Draw(\"nHit:eventNum:subRunNum:runNum\",cutString,\"\") #original, which just counts the number of events\n",
    "#    t.Draw(\"energy:eventNum:subRunNum:runNum\",cutString,\"\") #counts energy, not number of counts\n",
    "    hUnique = r.gPad.GetPrimitive(\"htemp\").Clone(\"uniqueIDhist\")\n",
    "#    print(hUnique.GetEntries())\n",
    "\n",
    "    listc = c.GetListOfPrimitives()\n",
    "    ding = listc.First()\n",
    "    print(ding)\n",
    "\n",
    "    eventNumVec = t.GetV2()\n",
    "    subRunNumVec = t.GetV3()\n",
    "    runNumVec = t.GetV4()\n",
    "    nHitVec = t.GetV1()\n",
    "    \n",
    "    globalBinNumber = int( str(int(runNumVec[0])).zfill(5) + str(int(subRunNumVec[0])).zfill(4) +str(int(eventNumVec[0])).zfill(4) )\n",
    "    runningTotal = 0\n",
    "    pairList = []\n",
    "    maxBin = int( hUnique.GetEntries() )\n",
    "\n",
    "    print(\"Begin Calorimeter\", calonum)\n",
    "    for i in range(0,maxBin):\n",
    "#        globalBinNumberNew = int( str(int(runNumVec[i])) + str(int(subRunNumVec[i])) +str(int(eventNumVec[i])) )\n",
    "        globalBinNumberNew = int( str(int(runNumVec[i])).zfill(5) + str(int(subRunNumVec[i])).zfill(4) +str(int(eventNumVec[i])).zfill(4) )\n",
    "\n",
    "        if(i % 1000000 == 0):\n",
    "            print(\"     Processing event:\", globalBinNumberNew, \"(event\", i,\"/\",maxBin,\" and caloNum\",calonum,\" )\")\n",
    "\n",
    "        if(globalBinNumber == globalBinNumberNew):\n",
    "            runningTotal = runningTotal + nHitVec[i]\n",
    "        else: #if the bin number is changed, we need to record the total of the\n",
    "            pairList.append((calonum, globalBinNumber,int(runNumVec[i-1]),int(subRunNumVec[i-1]), int(eventNumVec[i-1]),runningTotal))\n",
    "            runningTotal = nHitVec[i]\n",
    "\n",
    "        if(i == maxBin-1):\n",
    "            pairList.append((calonum, globalBinNumber,int(runNumVec[i-1]),int(subRunNumVec[i-1]), int(eventNumVec[i-1]),runningTotal))\n",
    "            print(globalBinNumber)\n",
    "\n",
    "        globalBinNumber = globalBinNumberNew\n",
    "\n",
    "        \n",
    "    out = open('calo_data_output_cutEnergy.csv','a')\n",
    "    csv_out = csv.writer(out)\n",
    "    for item in pairList:\n",
    "        csv_out.writerow(item)\n",
    "    out.close()\n",
    "    \n",
    "    print(\"Found\", len(pairList),\"unique ID(s) for Calo\", calonum)"
   ]
  },
  {
   "cell_type": "markdown",
   "metadata": {},
   "source": [
    "Alright, now that we have that data stored in the file, we can crunch the numbers."
   ]
  },
  {
   "cell_type": "code",
   "execution_count": null,
   "metadata": {},
   "outputs": [],
   "source": [
    "c = r.TCanvas('c','c',1000,600)\n",
    "r.gStyle.SetOptStat(0)\n",
    "\n",
    "leg = r.TLegend(0.12,0.12,0.5,0.5)\n",
    "calo_especs = []\n",
    "wiggle  = f.Get('corrected')\n",
    "\n",
    "for i in range(24):\n",
    "    wiggle.GetZaxis().SetRange(i+1,i+1)\n",
    "    wiggle.GetYaxis().SetRange(0,300)\n",
    "    wiggle.GetXaxis().SetRange(300,1200)\n",
    "    calo_especs.append(wiggle.Project3D('y_{}'.format(i+1)))\n",
    "    calo_especs[i].Rebin(3)\n",
    "    calo_especs[i].SetTitle('Calo Energy Spectrum')\n",
    "    calo_especs[i].GetXaxis().SetRangeUser(1500,3000)\n",
    "    calo_especs[i].SetMarkerSize(0.8)\n",
    "    calo_especs[i].SetMarkerStyle(int(i/6)+20)\n",
    "    calo_especs[i].Scale(1./calo_especs[i].GetEntries())\n",
    "    calo_especs[i].GetYaxis().SetRangeUser(0.001,0.022)\n",
    "    if i==0:\n",
    "        calo_especs[i].Draw('EP')\n",
    "    else:\n",
    "        calo_especs[i].Draw('EP same')\n",
    "  \n",
    "    calo_especs[i].SetMarkerColor(i%6+1)\n",
    "    calo_especs[i].SetLineColor(i%6+1)\n",
    "    if (i%6+1) == 5:\n",
    "        calo_especs[i].SetMarkerColor(7)\n",
    "        calo_especs[i].SetLineColor(7)\n",
    "\n",
    "    leg.AddEntry(calo_especs[i], 'Calo{}'.format(i+1), 'lp')\n",
    "\n",
    "leg.SetNColumns(6)\n",
    "leg.Draw()\n",
    "c.SetLogy(1)\n",
    "c.Draw()"
   ]
  },
  {
   "cell_type": "code",
   "execution_count": null,
   "metadata": {},
   "outputs": [],
   "source": [
    "ding = 33\n",
    "str(ding).zfill(4)"
   ]
  },
  {
   "cell_type": "code",
   "execution_count": null,
   "metadata": {},
   "outputs": [],
   "source": []
  },
  {
   "cell_type": "code",
   "execution_count": null,
   "metadata": {},
   "outputs": [],
   "source": []
  },
  {
   "cell_type": "code",
   "execution_count": null,
   "metadata": {},
   "outputs": [],
   "source": []
  },
  {
   "cell_type": "code",
   "execution_count": null,
   "metadata": {},
   "outputs": [],
   "source": []
  },
  {
   "cell_type": "code",
   "execution_count": null,
   "metadata": {},
   "outputs": [],
   "source": []
  }
 ],
 "metadata": {
  "kernelspec": {
   "display_name": "Python 3",
   "language": "python",
   "name": "python3"
  },
  "language_info": {
   "codemirror_mode": {
    "name": "ipython",
    "version": 3
   },
   "file_extension": ".py",
   "mimetype": "text/x-python",
   "name": "python",
   "nbconvert_exporter": "python",
   "pygments_lexer": "ipython3",
   "version": "3.6.5"
  }
 },
 "nbformat": 4,
 "nbformat_minor": 2
}
