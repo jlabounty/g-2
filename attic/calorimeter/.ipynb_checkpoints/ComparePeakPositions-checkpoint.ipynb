{
 "cells": [
  {
   "cell_type": "code",
   "execution_count": null,
   "metadata": {},
   "outputs": [
    {
     "name": "stdout",
     "output_type": "stream",
     "text": [
      "Welcome to JupyROOT 6.12/06\n"
     ]
    }
   ],
   "source": [
    "import ROOT as r\n",
    "import math\n",
    "import numpy as np\n",
    "from BlindersPy3 import Blinders\n",
    "from BlindersPy3 import FitType\n",
    "r.gStyle.SetOptStat(0)\n",
    "r.gStyle.SetOptFit(1111)"
   ]
  },
  {
   "cell_type": "code",
   "execution_count": null,
   "metadata": {},
   "outputs": [],
   "source": [
    "filewindow = r.TFile(\"./FourierWiggle_output_Window.root\")\n",
    "filenowindow = r.TFile(\"./FourierWiggle_output_noWindow.root\")"
   ]
  },
  {
   "cell_type": "code",
   "execution_count": null,
   "metadata": {},
   "outputs": [],
   "source": [
    "#filewindow.ls()\n",
    "filewindow.cd()"
   ]
  },
  {
   "cell_type": "code",
   "execution_count": null,
   "metadata": {},
   "outputs": [],
   "source": [
    "def GetKeyNames( self, dir = \"\" ):\n",
    "        self.cd(dir)\n",
    "        return [key.GetName() for key in r.gDirectory.GetListOfKeys()]\n",
    "r.TFile.GetKeyNames = GetKeyNames\n",
    "\n",
    "keyList = filewindow.GetKeyNames(\"\")\n",
    "print (\"\\nKeys in file:\", keyList)"
   ]
  },
  {
   "cell_type": "code",
   "execution_count": null,
   "metadata": {},
   "outputs": [],
   "source": [
    "def peak_fit(x, p):\n",
    "    return p[0]*r.TMath.Exp(-0.5*((x[0]-p[1])/p[2])*((x[0]-p[1])/p[2])) + p[3] + p[4]*r.TMath.Exp(-p[5]*x[0])\n",
    "def peak_fit_simple(x, p):\n",
    "    return p[0]*r.TMath.Exp(-0.5*((x[0]-p[1])/p[2])*((x[0]-p[1])/p[2])) + p[3]\n",
    "def peak_fit_bw(x, p):\n",
    "    return p[0]*r.TMath.BreitWigner(x[0],p[1],p[2]) + p[3]"
   ]
  },
  {
   "cell_type": "code",
   "execution_count": null,
   "metadata": {},
   "outputs": [],
   "source": [
    "'''\n",
    "func = r.TF1(\"func\", peak_fit_simple, .22,.25,4)\n",
    "func.SetParNames('A','Mean','#sigma','+ C')\n",
    "func.SetParameters(.0001,.23,.1,0)\n",
    "func.SetLineColor(2)\n",
    "func.SetNpx(1000)\n",
    "'''"
   ]
  },
  {
   "cell_type": "code",
   "execution_count": null,
   "metadata": {},
   "outputs": [],
   "source": [
    "func = r.TF1(\"func\", peak_fit_bw, .22,.27,4)\n",
    "func.SetParNames('A','Mean','#gamma','+ C')\n",
    "func.SetParameters(.0001,.23,.1,0)\n",
    "func.SetParLimits(1,.22,.25)\n",
    "func.SetLineColor(2)\n",
    "func.SetNpx(1000)"
   ]
  },
  {
   "cell_type": "code",
   "execution_count": null,
   "metadata": {},
   "outputs": [],
   "source": [
    "'''\n",
    "func = r.TF1(\"func\", peak_fit, .22,.26,6)\n",
    "func.SetParNames('A','Mean','#sigma','+ C', '+ D','e^(-E*x)' )\n",
    "func.SetParameters(.0001,.23,.1,0,0,-1)\n",
    "func.SetParLimits(0,0,1)\n",
    "func.SetParLimits(1,.22,.25)\n",
    "func.SetLineColor(2)\n",
    "func.SetNpx(1000)\n",
    "'''"
   ]
  },
  {
   "cell_type": "code",
   "execution_count": null,
   "metadata": {},
   "outputs": [],
   "source": [
    "meanlist_noWindow = []\n",
    "stdlist_noWindow = []\n",
    "meanlist_window = []\n",
    "stdlist_window = []"
   ]
  },
  {
   "cell_type": "code",
   "execution_count": null,
   "metadata": {},
   "outputs": [],
   "source": [
    "#for i in range(0,1):\n",
    "for i in range(0,len(keyList)):\n",
    "    ding = r.TH1D()\n",
    "    filewindow.GetObject(keyList[i], ding)\n",
    "    c = r.TCanvas()\n",
    "#    c.SetLogy()\n",
    "    ding.Draw(\"HIST P0 L\")\n",
    "    ding.GetXaxis().SetRangeUser(.15,.35)\n",
    "    ding.GetYaxis().SetRangeUser(0.000000001,.00001)\n",
    "    ding.Fit(\"func\",\"REMB\")\n",
    "    func.Draw(\"SAME\")\n",
    "    c.Draw()\n",
    "    c2 = r.TCanvas()\n",
    "    func.Draw()\n",
    "    meanlist_window.append(func.GetParameter(1))\n",
    "    stdlist_window.append(func.GetParError(1))\n",
    "    print(func.GetParameter(1), func.GetParError(1))\n",
    "    c2.Draw()"
   ]
  },
  {
   "cell_type": "code",
   "execution_count": null,
   "metadata": {},
   "outputs": [],
   "source": [
    "print(meanlist_window)"
   ]
  },
  {
   "cell_type": "code",
   "execution_count": null,
   "metadata": {},
   "outputs": [],
   "source": [
    "gr = r.TGraphErrors()\n",
    "\n",
    "for i in range(0,len(meanlist_window)):\n",
    "#    print(i, meanlist_window[i])\n",
    "    gr.SetPoint(i,i+1,meanlist_window[i])\n",
    "#    gr.SetPointError(i,0,stdlist_window[i])\n",
    "    \n",
    "c = r.TCanvas()\n",
    "gr.Draw()\n",
    "c.Draw()"
   ]
  },
  {
   "cell_type": "code",
   "execution_count": null,
   "metadata": {},
   "outputs": [],
   "source": [
    "filenowindow.cd()\n",
    "keyListNoWindow = filenowindow.GetKeyNames(\"\")\n",
    "print (\"\\nKeys in file:\", keyListNoWindow)"
   ]
  },
  {
   "cell_type": "code",
   "execution_count": null,
   "metadata": {},
   "outputs": [],
   "source": [
    "for i in range(0,len(keyListNoWindow)):\n",
    "    ding = r.TH1D()\n",
    "    filenowindow.GetObject(keyListNoWindow[i], ding)\n",
    "    c = r.TCanvas()\n",
    "    c.SetLogy()\n",
    "    ding.Draw(\"HIST P0 L\")\n",
    "    ding.GetXaxis().SetRangeUser(.15,.75)\n",
    "    ding.Fit(\"func\",\"REM\")\n",
    "    func.Draw(\"SAME\")\n",
    "    c.Draw()\n",
    "    c2 = r.TCanvas()\n",
    "    func.Draw()\n",
    "    meanlist_noWindow.append(func.GetParameter(1))\n",
    "    stdlist_noWindow.append(func.GetParError(1))\n",
    "    print(func.GetParameter(1), func.GetParError(1))\n",
    "    c2.Draw()"
   ]
  },
  {
   "cell_type": "code",
   "execution_count": null,
   "metadata": {},
   "outputs": [],
   "source": [
    "h = r.TH1D()\n",
    "filenowindow.GetObject(keyListNoWindow[0], h)\n",
    "for i in range(1,len(keyListNoWindow)):\n",
    "    ding = r.TH1D()\n",
    "    filenowindow.GetObject(keyListNoWindow[i], ding)\n",
    "    h.Add(ding)\n",
    "c = r.TCanvas()\n",
    "c.SetLogy()\n",
    "h.Draw(\"HIST P0 L\")\n",
    "h.GetXaxis().SetRangeUser(0,1)\n",
    "c.Draw()"
   ]
  },
  {
   "cell_type": "code",
   "execution_count": null,
   "metadata": {},
   "outputs": [],
   "source": [
    "c = r.TCanvas()\n",
    "c.SetLogy()\n",
    "h.Draw(\"HIST P0 L\")\n",
    "h.GetXaxis().SetRangeUser(0,.5)\n",
    "h.Fit(\"func\",\"REM\")\n",
    "func.Draw(\"SAME\")\n",
    "c.Draw()\n",
    "\n",
    "print(func.GetParameter(1), func.GetParError(1))\n",
    "\n",
    "sum_mean = func.GetParameter(1)"
   ]
  },
  {
   "cell_type": "code",
   "execution_count": null,
   "metadata": {},
   "outputs": [],
   "source": [
    "outfile = r.TFile(\"output.root\",\"RECREATE\")\n",
    "outfile.cd()\n",
    "c.Write()\n",
    "outfile.Close()"
   ]
  },
  {
   "cell_type": "code",
   "execution_count": null,
   "metadata": {},
   "outputs": [],
   "source": [
    "gr2 = r.TGraphErrors()\n",
    "\n",
    "for i in range(0,len(meanlist_noWindow)):\n",
    "#    print(i, meanlist_window[i])\n",
    "    gr2.SetPoint(i,i+1,meanlist_noWindow[i])\n",
    "#    gr2.SetPointError(i,0,stdlist_noWindow[i])\n",
    "    \n",
    "c = r.TCanvas()\n",
    "gr2.GetXaxis().SetTitle(\"Time steps added to transform window (Each step ~0.275 #mus)\")\n",
    "gr2.GetYaxis().SetTitle(\"Frequency of #omega_{a} peak (MHz)\")\n",
    "gr2.GetYaxis().SetTitleOffset(1.5)\n",
    "gr2.Draw()\n",
    "\n",
    "gr.SetMarkerColor(2)\n",
    "gr.SetLineColor(2)\n",
    "gr.Draw(\"SAME\")\n",
    "\n",
    "meanfunc = r.TF1(\"meanfunc\",str(sum_mean),0,100)\n",
    "meanfunc.SetLineStyle(4)\n",
    "meanfunc.Draw(\"SAME\")\n",
    "\n",
    "leg = r.TLegend(0.6,0.84,0.9,0.9)\n",
    "leg.AddEntry(gr,\"With Window Function\",\"pl\")\n",
    "leg.AddEntry(gr2,\"Without Window Function\",\"pl\")\n",
    "leg.AddEntry(meanfunc,\"Frequency found by fitting sum of all transforms\",\"l\")\n",
    "leg.Draw()\n",
    "\n",
    "\n",
    "c.Draw()"
   ]
  },
  {
   "cell_type": "code",
   "execution_count": null,
   "metadata": {},
   "outputs": [],
   "source": [
    "print(meanlist_noWindow)\n",
    "import matplotlib.pyplot as plt\n",
    "plt.plot(meanlist_noWindow)\n",
    "plt.plot(meanlist_window)\n",
    "plt.ylabel('some numbers')\n",
    "plt.show()"
   ]
  },
  {
   "cell_type": "code",
   "execution_count": null,
   "metadata": {},
   "outputs": [],
   "source": [
    "func2 = r.TF1(\"func2\", peak_fit_bw, 0,.15,4)\n",
    "func2.SetParNames('A','Mean','#gamma','+ C')\n",
    "func2.SetParameters(.0001,.001,.1,0)\n",
    "func2.SetParLimits(1,-0.1,0.1)\n",
    "func2.SetLineColor(2)\n",
    "func2.SetNpx(1000)\n",
    "\n",
    "func3 = r.TF1(\"func3\",\"expo\",.4,.5)\n",
    "\n",
    "c = r.TCanvas()\n",
    "c.SetLogy()\n",
    "h3 = h.DrawClone()\n",
    "h3.Draw(\"HIST P0 L\")\n",
    "h3.Fit(\"func2\",\"REMB\")\n",
    "\n",
    "h3.Fit(\"func3\",\"REMB\")\n",
    "\n",
    "func2.Draw(\"SAME\")\n",
    "func.Draw(\"SAME\")\n",
    "func3.Draw(\"SAME\")\n",
    "c.Draw()"
   ]
  },
  {
   "cell_type": "code",
   "execution_count": null,
   "metadata": {},
   "outputs": [],
   "source": [
    "h4 = h.DrawClone()\n",
    "c4 = r.TCanvas()\n",
    "c4.SetLogy()\n",
    "\n",
    "for i in range(0,h4.GetNbinsX()-2):\n",
    "    bincenter = h4.GetBinCenter(i)\n",
    "    bincontent = h4.GetBinContent(i)\n",
    "    dong = bincontent - func3.Eval(bincenter)\n",
    "    h4.SetBinContent(i,dong)\n",
    "\n",
    "h4.Draw(\"HIST P0 L\")\n",
    "h4.Fit(\"func\",\"REMB\")\n",
    "func.Draw(\"SAME\")\n",
    "c4.Draw()"
   ]
  },
  {
   "cell_type": "code",
   "execution_count": null,
   "metadata": {},
   "outputs": [],
   "source": [
    "'''\n",
    "Double_t fline(Double_t *x, Double_t *par)\n",
    "{\n",
    "    if (reject && x[0] > 2.5 && x[0] < 3.5) {\n",
    "      TF1::RejectPoint();\n",
    "      return 0;\n",
    "   }\n",
    "   return par[0] + par[1]*x[0];\n",
    "}\n",
    "'''\n",
    "h4 = h.DrawClone()\n",
    "\n",
    "reject = True\n",
    "\n",
    "def fbackground(x, p):\n",
    "    if(reject and not((x[0]>0 and x[0]<0.155) or (x[0]>0.30 and x[0]<0.35) or (x[0]>0.4 and x[0]<0.5) or (x[0]>0.6 and x[0]<3))):\n",
    "        r.TF1.RejectPoint()\n",
    "        return 0\n",
    "#    return p[0]*r.TMath.Exp(p[1]*x[0] + r.TMath.Exp(p[2]*x[0])) + p[3]\n",
    "    return p[0]*r.TMath.Sqrt(p[1]*p[1] + x[0]*x[0]) / (2 * r.TMath.Pi() * r.TMath.Abs(p[1]*p[1] + x[0]*x[0])) + p[2]\n",
    "\n",
    "def fsignal1(x, p):\n",
    "    if(reject and not((x[0]>0 and x[0]<0.155) or (x[0]>0.30 and x[0]<0.35) or (x[0]>0.4 and x[0]<0.5) or (x[0]>0.6 and x[0]<3))):\n",
    "        r.TF1.RejectPoint()\n",
    "        return 0\n",
    "#    return p[0]*r.TMath.Exp(p[1]*x[0] + r.TMath.Exp(p[2]*x[0])) + p[3]\n",
    "    return p[0]*r.TMath.Sqrt(p[1]*p[1] + x[0]*x[0]) / (2 * r.TMath.Pi() * r.TMath.Abs(p[1]*p[1] + x[0]*x[0])) + p[2]\n",
    "\n",
    "fl = r.TF1(\"fl\",fbackground,0,3,3)\n",
    "fl.SetParameters(0.03,4,0)\n",
    "fl.SetParNames(\"A_{background}\",\"k_{background}\",\"+C_{background}\")\n",
    "h4.Fit(fl,\"REMB\")\n",
    "\n",
    "reject = False\n",
    "\n",
    "#fl.SetParameter(2,-10.5)\n",
    "\n",
    "c4 = r.TCanvas()\n",
    "c4.SetLogy()\n",
    "\n",
    "h4.GetXaxis().SetRangeUser(0,0.5)\n",
    "#h4.GetYaxis().SetRangeUser(0.0000001,100)\n",
    "\n",
    "\n",
    "h4.Draw(\"HIST P0 L\")\n",
    "fl.Draw(\"SAME\")\n",
    "c4.Draw()"
   ]
  },
  {
   "cell_type": "code",
   "execution_count": null,
   "metadata": {},
   "outputs": [],
   "source": [
    "h5 = h.DrawClone()\n",
    "c5 = r.TCanvas()\n",
    "c5.SetLogy()\n",
    "\n",
    "for i in range(0,h5.GetNbinsX()-2):\n",
    "    bincenter = h5.GetBinCenter(i)\n",
    "    bincontent = h5.GetBinContent(i)\n",
    "    dong = bincontent - fl.Eval(bincenter) \n",
    "    h5.SetBinContent(i,dong)\n",
    "\n",
    "h5.GetXaxis().SetRangeUser(0,3)\n",
    "    \n",
    "reject = True\n",
    "\n",
    "def fsignal1(x, p):\n",
    "    if(reject and (x[0]<0.155 and x[0]>0.30)):\n",
    "        r.TF1.RejectPoint()\n",
    "        print(\"hello\")\n",
    "        return 0\n",
    "    return p[0]*r.TMath.Sqrt(p[1]*p[1] + x[0]*x[0]) / (2 * r.TMath.Pi() * r.TMath.Abs(p[1]*p[1] + x[0]*x[0])) + p[2]\n",
    "\n",
    "fsig = r.TF1(\"fsig\",fsignal1,0.15,0.3,3)\n",
    "fsig.SetParameters(0.03,4,0)\n",
    "fsig.SetParNames(\"A_{signal}\",\"k_{signal}\",\"+C_{signal}\")\n",
    "h5.Fit(fsig,\"REMB\")\n",
    "\n",
    "reject = False\n",
    "    \n",
    "h5.Draw(\"HIST P0 L\")\n",
    "fsig.Draw(\"SAME\")\n",
    "c5.Draw()"
   ]
  },
  {
   "cell_type": "code",
   "execution_count": null,
   "metadata": {},
   "outputs": [],
   "source": [
    "h2 = h.DrawClone()\n",
    "c2 = r.TCanvas()\n",
    "h2.Draw(\"HIST P0 L\")\n",
    "for i in range(0,h2.GetNbinsX()-2):\n",
    "    ding = h2.GetBinContent(i)\n",
    "    if ding>0:\n",
    "        dong = np.log(ding)\n",
    "    else:\n",
    "        dong = 0\n",
    "#    print(ding,dong)\n",
    "    h2.SetBinContent(i,dong)\n",
    "h2.DrawCopy()\n",
    "c2.Draw()\n",
    "\n",
    "offset = h2.GetBinContent(h2.GetMinimumBin())\n",
    "\n",
    "c3 = r.TCanvas()\n",
    "c3.cd()\n",
    "\n",
    "for i in range(0,h2.GetNbinsX()-2):\n",
    "    ding = h2.GetBinContent(i) - offset\n",
    "    if ding>0:\n",
    "        dong = np.log(ding)\n",
    "    else:\n",
    "        dong = 0\n",
    "#    print(ding,dong)\n",
    "    h2.SetBinContent(i,dong)\n",
    "\n",
    "h2.Draw()\n",
    "c3.Draw()"
   ]
  },
  {
   "cell_type": "code",
   "execution_count": null,
   "metadata": {},
   "outputs": [],
   "source": []
  },
  {
   "cell_type": "code",
   "execution_count": null,
   "metadata": {},
   "outputs": [],
   "source": []
  },
  {
   "cell_type": "code",
   "execution_count": null,
   "metadata": {},
   "outputs": [],
   "source": []
  },
  {
   "cell_type": "code",
   "execution_count": null,
   "metadata": {},
   "outputs": [],
   "source": []
  },
  {
   "cell_type": "code",
   "execution_count": null,
   "metadata": {},
   "outputs": [],
   "source": []
  },
  {
   "cell_type": "code",
   "execution_count": null,
   "metadata": {},
   "outputs": [],
   "source": []
  },
  {
   "cell_type": "code",
   "execution_count": null,
   "metadata": {},
   "outputs": [],
   "source": []
  }
 ],
 "metadata": {
  "kernelspec": {
   "display_name": "Python 3",
   "language": "python",
   "name": "python3"
  },
  "language_info": {
   "codemirror_mode": {
    "name": "ipython",
    "version": 3
   },
   "file_extension": ".py",
   "mimetype": "text/x-python",
   "name": "python",
   "nbconvert_exporter": "python",
   "pygments_lexer": "ipython3",
   "version": "3.6.5"
  }
 },
 "nbformat": 4,
 "nbformat_minor": 2
}
