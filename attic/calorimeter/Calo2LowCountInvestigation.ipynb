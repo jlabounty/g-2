{
 "cells": [
  {
   "cell_type": "code",
   "execution_count": 1,
   "metadata": {},
   "outputs": [
    {
     "name": "stdout",
     "output_type": "stream",
     "text": [
      "Welcome to JupyROOT 6.12/06\n"
     ]
    }
   ],
   "source": [
    "import ROOT as r\n",
    "import math\n",
    "from BlindersPy3 import Blinders\n",
    "from BlindersPy3 import FitType\n",
    "r.gStyle.SetOptStat(0)\n",
    "r.gStyle.SetOptFit(1111)\n",
    "import matplotlib.pyplot as plt"
   ]
  },
  {
   "cell_type": "code",
   "execution_count": 2,
   "metadata": {},
   "outputs": [
    {
     "name": "stdout",
     "output_type": "stream",
     "text": [
      "TFile**\t\t./gm2offline_ana_7893458_15937.00027.root\t\n",
      " TFile*\t\t./gm2offline_ana_7893458_15937.00027.root\t\n",
      "  TDirectoryFile*\t\tclusterTree\tclusterTree (ClusterTree) folder\n",
      "   KEY: TTree\tclusters;94\tclusters\n",
      "   KEY: TTree\tclusters;93\tclusters\n",
      "  KEY: TDirectoryFile\tCoincidenceFinderLM;1\tCoincidenceFinderLM (CoincidenceFinderLM) folder\n",
      "  KEY: TDirectoryFile\tclusterTree;1\tclusterTree (ClusterTree) folder\n"
     ]
    }
   ],
   "source": [
    "f = r.TFile(\"./gm2offline_ana_7893458_15937.00027.root\")\n",
    "f.cd(\"clusterTree\")\n",
    "f.ls()"
   ]
  },
  {
   "cell_type": "code",
   "execution_count": 3,
   "metadata": {},
   "outputs": [],
   "source": [
    "t = f.Get(\"clusterTree\").Get(\"clusters\")"
   ]
  },
  {
   "cell_type": "code",
   "execution_count": 4,
   "metadata": {},
   "outputs": [
    {
     "name": "stdout",
     "output_type": "stream",
     "text": [
      "******************************************************************************\n",
      "*Tree    :clusters  : clusters                                               *\n",
      "*Entries : 99870478 : Total =      6791534622 bytes  File  Size = 2795647272 *\n",
      "*        :          : Tree compression factor =   2.43                       *\n",
      "******************************************************************************\n",
      "*Br    0 :energy    : energy/D                                               *\n",
      "*Entries : 99870478 : Total  Size=  798999061 bytes  File Size  =  760531572 *\n",
      "*Baskets :      360 : Basket Size=   25600000 bytes  Compression=   1.05     *\n",
      "*............................................................................*\n",
      "*Br    1 :time      : time/D                                                 *\n",
      "*Entries : 99870478 : Total  Size=  798998333 bytes  File Size  =  762480670 *\n",
      "*Baskets :      360 : Basket Size=   25600000 bytes  Compression=   1.05     *\n",
      "*............................................................................*\n",
      "*Br    2 :x         : x/D                                                    *\n",
      "*Entries : 99870478 : Total  Size=  798997241 bytes  File Size  =  507389649 *\n",
      "*Baskets :      360 : Basket Size=   25600000 bytes  Compression=   1.57     *\n",
      "*............................................................................*\n",
      "*Br    3 :y         : y/D                                                    *\n",
      "*Entries : 99870478 : Total  Size=  798997241 bytes  File Size  =  443847200 *\n",
      "*Baskets :      360 : Basket Size=   25600000 bytes  Compression=   1.80     *\n",
      "*............................................................................*\n",
      "*Br    4 :nHit      : nHit/i                                                 *\n",
      "*Entries : 99870478 : Total  Size=  399503778 bytes  File Size  =   60862120 *\n",
      "*Baskets :      227 : Basket Size=   25600000 bytes  Compression=   6.56     *\n",
      "*............................................................................*\n",
      "*Br    5 :caloNum   : caloNum/i                                              *\n",
      "*Entries : 99870478 : Total  Size=  399504471 bytes  File Size  =    4304191 *\n",
      "*Baskets :      227 : Basket Size=   25600000 bytes  Compression=  92.82     *\n",
      "*............................................................................*\n",
      "*Br    6 :xtalNum   : xtalNum/i                                              *\n",
      "*Entries : 99870478 : Total  Size=  399504471 bytes  File Size  =  122141715 *\n",
      "*Baskets :      227 : Basket Size=   25600000 bytes  Compression=   3.27     *\n",
      "*............................................................................*\n",
      "*Br    7 :islandNum : islandNum/i                                            *\n",
      "*Entries : 99870478 : Total  Size=  399504933 bytes  File Size  =  123944725 *\n",
      "*Baskets :      227 : Basket Size=   25600000 bytes  Compression=   3.22     *\n",
      "*............................................................................*\n",
      "*Br    8 :eventNum  : eventNum/i                                             *\n",
      "*Entries : 99870478 : Total  Size=  399504702 bytes  File Size  =    2065574 *\n",
      "*Baskets :      227 : Basket Size=   25600000 bytes  Compression= 193.41     *\n",
      "*............................................................................*\n",
      "*Br    9 :bunchNum  : bunchNum/i                                             *\n",
      "*Entries : 99870478 : Total  Size=  399504702 bytes  File Size  =    2052083 *\n",
      "*Baskets :      227 : Basket Size=   25600000 bytes  Compression= 194.68     *\n",
      "*............................................................................*\n",
      "*Br   10 :midasSerialNum : midasSerialNum/i                                  *\n",
      "*Entries : 99870478 : Total  Size=  399506088 bytes  File Size  =    2069295 *\n",
      "*Baskets :      227 : Basket Size=   25600000 bytes  Compression= 193.06     *\n",
      "*............................................................................*\n",
      "*Br   11 :subRunNum : subRunNum/i                                            *\n",
      "*Entries : 99870478 : Total  Size=  399504933 bytes  File Size  =    1964847 *\n",
      "*Baskets :      227 : Basket Size=   25600000 bytes  Compression= 203.32     *\n",
      "*............................................................................*\n",
      "*Br   12 :runNum    : runNum/i                                               *\n",
      "*Entries : 99870478 : Total  Size=  399504240 bytes  File Size  =    1964356 *\n",
      "*Baskets :      227 : Basket Size=   25600000 bytes  Compression= 203.37     *\n",
      "*............................................................................*\n"
     ]
    }
   ],
   "source": [
    "t.Print()"
   ]
  },
  {
   "cell_type": "code",
   "execution_count": 5,
   "metadata": {},
   "outputs": [
    {
     "data": {
      "image/png": "[encoded data removed]",
      "text/plain": [
       "<IPython.core.display.Image object>"
      ]
     },
     "metadata": {},
     "output_type": "display_data"
    }
   ],
   "source": [
    "c = r.TCanvas()\n",
    "t.Draw(\"nHit\",\"energy > 1700 && energy < 6000 && time > 30*1000/1.25 && caloNum == 1\",\"\")\n",
    "c.Draw()"
   ]
  },
  {
   "cell_type": "code",
   "execution_count": 6,
   "metadata": {},
   "outputs": [],
   "source": [
    "t.Draw(\"caloNum\",\"\",\"\")\n",
    "h = r.gPad.GetPrimitive(\"htemp\").Clone(\"caloListHist\")\n",
    "h.SetTitle(\"Entries/Calorimeter Number\")"
   ]
  },
  {
   "cell_type": "code",
   "execution_count": 7,
   "metadata": {},
   "outputs": [
    {
     "name": "stdout",
     "output_type": "stream",
     "text": [
      "[2, 3, 4, 5, 6, 7, 8, 9, 10, 11, 12, 13, 14, 15, 16, 17, 18, 19, 20, 21, 22, 23, 24, 25] [1, 2, 3, 4, 5, 6, 7, 8, 9, 10, 11, 12, 13, 14, 15, 16, 17, 18, 19, 20, 21, 22, 23, 24]\n"
     ]
    }
   ],
   "source": [
    "caloBinList = []\n",
    "caloList = []\n",
    "for i in range(1,h.GetNbinsX()-1):\n",
    "    caloBinList.append(h.FindBin(i))\n",
    "    caloList.append(i)\n",
    "print(caloBinList, caloList)"
   ]
  },
  {
   "cell_type": "code",
   "execution_count": 8,
   "metadata": {},
   "outputs": [
    {
     "data": {
      "image/png": "[encoded data removed]",
      "text/plain": [
       "<IPython.core.display.Image object>"
      ]
     },
     "metadata": {},
     "output_type": "display_data"
    }
   ],
   "source": [
    "h.Draw()\n",
    "c.Draw()"
   ]
  },
  {
   "cell_type": "markdown",
   "metadata": {},
   "source": [
    "Now lets look at the number of counts per unique ID of (run, subrun, event). In order to do this, we'll draw all of those options from the tree with a cut for calorimeter number. Currently, calonum is set to 1, but we will easily be able to put this into a loop at a later date."
   ]
  },
  {
   "cell_type": "code",
   "execution_count": 9,
   "metadata": {},
   "outputs": [],
   "source": [
    "calonum = 1"
   ]
  },
  {
   "cell_type": "code",
   "execution_count": 10,
   "metadata": {},
   "outputs": [
    {
     "name": "stdout",
     "output_type": "stream",
     "text": [
      "caloNum == 1\n",
      "99870478.0\n",
      "<ROOT.TH3F object (\"htemp\") at 0x7fffbdeb5970>\n"
     ]
    },
    {
     "name": "stderr",
     "output_type": "stream",
     "text": [
      "Error in <TBufferFile::WriteByteCount>: bytecount too large (more than 1073741822)\n",
      "Error in <TBufferFile::WriteByteCount>: bytecount too large (more than 1073741822)\n",
      "Error in <TBufferFile::WriteByteCount>: bytecount too large (more than 1073741822)\n",
      "Error in <TBufferFile::CheckByteCount>: object of class TObjArray read too many bytes: 1198460317 instead of 124718493\n",
      "Warning in <TBufferFile::CheckByteCount>: TObjArray::Streamer() not in sync with data, fix Streamer()\n"
     ]
    }
   ],
   "source": [
    "cutString = \"caloNum == \"+str(calonum)\n",
    "print(cutString)\n",
    "c = r.TCanvas()\n",
    "\n",
    "t.SetEstimate(-1) #https://root-forum.cern.ch/t/ttree-getv1-array-limits/3325\n",
    "t.Draw(\"nHit:eventNum:subRunNum:runNum\",\"\",\"\")\n",
    "hUnique = r.gPad.GetPrimitive(\"htemp\").Clone(\"uniqueIDhist\")\n",
    "print(hUnique.GetEntries())\n",
    "\n",
    "listc = c.GetListOfPrimitives()\n",
    "ding = listc.First()\n",
    "print(ding)\n",
    "\n",
    "eventNumVec = t.GetV2()\n",
    "subRunNumVec = t.GetV3()\n",
    "runNumVec = t.GetV4()\n",
    "nHitVec = t.GetV1()"
   ]
  },
  {
   "cell_type": "code",
   "execution_count": 11,
   "metadata": {},
   "outputs": [
    {
     "name": "stdout",
     "output_type": "stream",
     "text": [
      "<class 'float'>\n",
      "3.0 15937.0 27.0 54.0\n",
      "15937273\n",
      "3.0 15937.0 27.0 2.0\n",
      "15937273\n",
      "3.0 15937.0 27.0 2.0\n",
      "15937273\n",
      "3.0 15937.0 27.0 1.0\n",
      "15937273\n",
      "3.0 15937.0 27.0 1.0\n",
      "15937273\n",
      "3.0 15937.0 27.0 2.0\n",
      "15937273\n",
      "3.0 15937.0 27.0 1.0\n",
      "15937273\n",
      "3.0 15937.0 27.0 1.0\n",
      "15937273\n",
      "3.0 15937.0 27.0 2.0\n",
      "15937273\n",
      "3.0 15937.0 27.0 1.0\n",
      "15937273\n"
     ]
    }
   ],
   "source": [
    "print(type(eventNumVec[0]))\n",
    "for i in range(0,10):\n",
    "    print(eventNumVec[i],runNumVec[i],subRunNumVec[i],nHitVec[i])\n",
    "    ding = str(int(runNumVec[i])) + str(int(subRunNumVec[i])) +str(int(eventNumVec[i])) \n",
    "    print(ding)"
   ]
  },
  {
   "cell_type": "markdown",
   "metadata": {},
   "source": [
    "Now lets create a global bin number by simply appending the event, run, and subrun numbers together. we can then loop over all of the entries in these lists and add up the ones with the same global bin number"
   ]
  },
  {
   "cell_type": "code",
   "execution_count": 12,
   "metadata": {},
   "outputs": [
    {
     "data": {
      "text/plain": [
       "'globalBinNumber = int( str(int(runNumVec[0])) + str(int(subRunNumVec[0])) +str(int(eventNumVec[0])) )\\nrunningTotal = 0\\npairList = []\\nmaxBin = int(hUnique.GetEntries() / 1 ) #change this denom back if you want this to work\\n\\nfor i in range(0,maxBin):\\n    globalBinNumberNew = int( str(int(runNumVec[i])) + str(int(subRunNumVec[i])) +str(int(eventNumVec[i])) )\\n    if(i % 10000000 == 0):\\n        print(\"Processing event:\", globalBinNumberNew, \"(event\", i,\"/\",maxBin,\" and caloNum\",calonum,\" )\")\\n#    print(i, maxBin-1,globalBinNumberNew, globalBinNumber)\\n    if(globalBinNumber == globalBinNumberNew):\\n        runningTotal = runningTotal + nHitVec[i]\\n    elif((globalBinNumber != globalBinNumberNew) or (i == maxBin-1)):\\n        pairList.append((calonum, globalBinNumber,int(runNumVec[i]),int(subRunNumVec[i]), int(eventNumVec[i]),runningTotal))\\n        runningTotal = nHitVec[i]\\n    \\n    if(i == maxBin-1):\\n        pairList.append((calonum, globalBinNumber,int(runNumVec[i]),int(subRunNumVec[i]), int(eventNumVec[i]),runningTotal))\\n        \\n    globalBinNumber = globalBinNumberNew\\n    \\nprint(\"Found\", len(pairList),\"unique ID(s) for Calo\", calonum) '"
      ]
     },
     "execution_count": 12,
     "metadata": {},
     "output_type": "execute_result"
    }
   ],
   "source": [
    "'''globalBinNumber = int( str(int(runNumVec[0])) + str(int(subRunNumVec[0])) +str(int(eventNumVec[0])) )\n",
    "runningTotal = 0\n",
    "pairList = []\n",
    "maxBin = int(hUnique.GetEntries() / 1 ) #change this denom back if you want this to work\n",
    "\n",
    "for i in range(0,maxBin):\n",
    "    globalBinNumberNew = int( str(int(runNumVec[i])) + str(int(subRunNumVec[i])) +str(int(eventNumVec[i])) )\n",
    "    if(i % 10000000 == 0):\n",
    "        print(\"Processing event:\", globalBinNumberNew, \"(event\", i,\"/\",maxBin,\" and caloNum\",calonum,\" )\")\n",
    "#    print(i, maxBin-1,globalBinNumberNew, globalBinNumber)\n",
    "    if(globalBinNumber == globalBinNumberNew):\n",
    "        runningTotal = runningTotal + nHitVec[i]\n",
    "    elif((globalBinNumber != globalBinNumberNew) or (i == maxBin-1)):\n",
    "        pairList.append((calonum, globalBinNumber,int(runNumVec[i]),int(subRunNumVec[i]), int(eventNumVec[i]),runningTotal))\n",
    "        runningTotal = nHitVec[i]\n",
    "    \n",
    "    if(i == maxBin-1):\n",
    "        pairList.append((calonum, globalBinNumber,int(runNumVec[i]),int(subRunNumVec[i]), int(eventNumVec[i]),runningTotal))\n",
    "        \n",
    "    globalBinNumber = globalBinNumberNew\n",
    "    \n",
    "print(\"Found\", len(pairList),\"unique ID(s) for Calo\", calonum) '''"
   ]
  },
  {
   "cell_type": "code",
   "execution_count": 13,
   "metadata": {},
   "outputs": [
    {
     "data": {
      "text/plain": [
       "'countList = [x[1] for x in pairList]'"
      ]
     },
     "execution_count": 13,
     "metadata": {},
     "output_type": "execute_result"
    }
   ],
   "source": [
    "'''countList = [x[1] for x in pairList]''' #https://stackoverflow.com/questions/3308102/how-to-extract-the-n-th-elements-from-a-list-of-tuples-in-python"
   ]
  },
  {
   "cell_type": "code",
   "execution_count": 14,
   "metadata": {},
   "outputs": [
    {
     "data": {
      "text/plain": [
       "'plt.plot(countList, \"b.\")\\nplt.ylabel(\\'Calorimeter 1 Counts by Unique ID\\')\\nplt.show()'"
      ]
     },
     "execution_count": 14,
     "metadata": {},
     "output_type": "execute_result"
    }
   ],
   "source": [
    "'''plt.plot(countList, \"b.\")\n",
    "plt.ylabel('Calorimeter 1 Counts by Unique ID')\n",
    "plt.show()'''"
   ]
  },
  {
   "cell_type": "markdown",
   "metadata": {},
   "source": [
    "We've checked that this works for calorimeter 1, so now lets go for the rest of them"
   ]
  },
  {
   "cell_type": "code",
   "execution_count": 20,
   "metadata": {},
   "outputs": [
    {
     "name": "stdout",
     "output_type": "stream",
     "text": [
      "Begin Calorimeter 1\n",
      "     caloNum == 1 && energy>1650 && energy<6000 && time >30*1000/1.25\n",
      "     <ROOT.TH3F object (\"htemp\") at 0x7f1999ccbbf0>\n",
      "     Found 549168 entries.\n",
      "     Processing event: 1593700270003 (event 0 / 549168  and caloNum 1  )\n",
      "     Processing event: 1594504360047 (event 100000 / 549168  and caloNum 1  )\n",
      "     Processing event: 1593500310044 (event 200000 / 549168  and caloNum 1  )\n",
      "     Processing event: 1597702350024 (event 300000 / 549168  and caloNum 1  )\n",
      "     Processing event: 1598902490065 (event 400000 / 549168  and caloNum 1  )\n",
      "     Processing event: 1597202950118 (event 500000 / 549168  and caloNum 1  )\n",
      "Found 549169 unique ID(s) for Calo 1\n",
      "Begin Calorimeter 2\n",
      "     caloNum == 2 && energy>1650 && energy<6000 && time >30*1000/1.25\n",
      "     <ROOT.TH3F object (\"htemp\") at 0x7f1999ccbbf0>\n",
      "     Found 368521 entries.\n",
      "     Processing event: 1593700270003 (event 0 / 368521  and caloNum 2  )\n",
      "     Processing event: 1596300030125 (event 100000 / 368521  and caloNum 2  )\n",
      "     Processing event: 1595702440034 (event 200000 / 368521  and caloNum 2  )\n",
      "     Processing event: 1597401060031 (event 300000 / 368521  and caloNum 2  )\n",
      "Found 368522 unique ID(s) for Calo 2\n",
      "Begin Calorimeter 3\n",
      "     caloNum == 3 && energy>1650 && energy<6000 && time >30*1000/1.25\n",
      "     <ROOT.TH3F object (\"htemp\") at 0x7f1999ccbbf0>\n",
      "     Found 465152 entries.\n",
      "     Processing event: 1593700270003 (event 0 / 465152  and caloNum 3  )\n",
      "     Processing event: 1597300550054 (event 100000 / 465152  and caloNum 3  )\n",
      "     Processing event: 1598804850034 (event 200000 / 465152  and caloNum 3  )\n",
      "     Processing event: 1594603830135 (event 300000 / 465152  and caloNum 3  )\n",
      "     Processing event: 1592901770093 (event 400000 / 465152  and caloNum 3  )\n",
      "Found 465153 unique ID(s) for Calo 3\n",
      "Begin Calorimeter 4\n",
      "     caloNum == 4 && energy>1650 && energy<6000 && time >30*1000/1.25\n",
      "     <ROOT.TH3F object (\"htemp\") at 0x7f1999ccbbf0>\n",
      "     Found 464648 entries.\n",
      "     Processing event: 1593700270003 (event 0 / 464648  and caloNum 4  )\n",
      "     Processing event: 1597300550009 (event 100000 / 464648  and caloNum 4  )\n",
      "     Processing event: 1595503870132 (event 200000 / 464648  and caloNum 4  )\n",
      "     Processing event: 1594603830153 (event 300000 / 464648  and caloNum 4  )\n",
      "     Processing event: 1592901770146 (event 400000 / 464648  and caloNum 4  )\n",
      "Found 464649 unique ID(s) for Calo 4\n",
      "Begin Calorimeter 5\n",
      "     caloNum == 5 && energy>1650 && energy<6000 && time >30*1000/1.25\n",
      "     <ROOT.TH3F object (\"htemp\") at 0x7f1999ccbbf0>\n",
      "     Found 415738 entries.\n",
      "     Processing event: 1593700270003 (event 0 / 415738  and caloNum 5  )\n",
      "     Processing event: 1598801800115 (event 100000 / 415738  and caloNum 5  )\n",
      "     Processing event: 1592203810148 (event 200000 / 415738  and caloNum 5  )\n",
      "     Processing event: 1594802430117 (event 300000 / 415738  and caloNum 5  )\n",
      "     Processing event: 1593001180135 (event 400000 / 415738  and caloNum 5  )\n",
      "Found 415739 unique ID(s) for Calo 5\n",
      "Begin Calorimeter 6\n",
      "     caloNum == 6 && energy>1650 && energy<6000 && time >30*1000/1.25\n",
      "     <ROOT.TH3F object (\"htemp\") at 0x7f1999ccbbf0>\n",
      "     Found 456659 entries.\n",
      "     Processing event: 1593700270003 (event 0 / 456659  and caloNum 6  )\n",
      "     Processing event: 1593101000065 (event 100000 / 456659  and caloNum 6  )\n",
      "     Processing event: 1593400890148 (event 200000 / 456659  and caloNum 6  )\n",
      "     Processing event: 1594404740026 (event 300000 / 456659  and caloNum 6  )\n",
      "     Processing event: 1598503780063 (event 400000 / 456659  and caloNum 6  )\n",
      "Found 456660 unique ID(s) for Calo 6\n",
      "Begin Calorimeter 7\n",
      "     caloNum == 7 && energy>1650 && energy<6000 && time >30*1000/1.25\n",
      "     <ROOT.TH3F object (\"htemp\") at 0x7f1999ccbbf0>\n",
      "     Found 480021 entries.\n",
      "     Processing event: 1593700270003 (event 0 / 480021  and caloNum 7  )\n",
      "     Processing event: 1594900930019 (event 100000 / 480021  and caloNum 7  )\n",
      "     Processing event: 1593302790001 (event 200000 / 480021  and caloNum 7  )\n",
      "     Processing event: 1597000230139 (event 300000 / 480021  and caloNum 7  )\n",
      "     Processing event: 1594302040141 (event 400000 / 480021  and caloNum 7  )\n",
      "Found 480022 unique ID(s) for Calo 7\n",
      "Begin Calorimeter 8\n",
      "     caloNum == 8 && energy>1650 && energy<6000 && time >30*1000/1.25\n",
      "     <ROOT.TH3F object (\"htemp\") at 0x7f1999ccbbf0>\n",
      "     Found 469060 entries.\n",
      "     Processing event: 1593700270003 (event 0 / 469060  and caloNum 8  )\n",
      "     Processing event: 1592303470054 (event 100000 / 469060  and caloNum 8  )\n",
      "     Processing event: 1598501090144 (event 200000 / 469060  and caloNum 8  )\n",
      "     Processing event: 1593503050025 (event 300000 / 469060  and caloNum 8  )\n",
      "     Processing event: 1592101040079 (event 400000 / 469060  and caloNum 8  )\n",
      "Found 469061 unique ID(s) for Calo 8\n",
      "Begin Calorimeter 9\n",
      "     caloNum == 9 && energy>1650 && energy<6000 && time >30*1000/1.25\n",
      "     <ROOT.TH3F object (\"htemp\") at 0x7f1999ccbbf0>\n",
      "     Found 429295 entries.\n",
      "     Processing event: 1593700270003 (event 0 / 429295  and caloNum 9  )\n",
      "     Processing event: 1593201800045 (event 100000 / 429295  and caloNum 9  )\n",
      "     Processing event: 1596700410034 (event 200000 / 429295  and caloNum 9  )\n",
      "     Processing event: 1594900120007 (event 300000 / 429295  and caloNum 9  )\n",
      "     Processing event: 1593800690040 (event 400000 / 429295  and caloNum 9  )\n",
      "Found 429296 unique ID(s) for Calo 9\n",
      "Begin Calorimeter 10\n",
      "     caloNum == 10 && energy>1650 && energy<6000 && time >30*1000/1.25\n",
      "     <ROOT.TH3F object (\"htemp\") at 0x7f1999ccbbf0>\n",
      "     Found 485143 entries.\n",
      "     Processing event: 1593700270003 (event 0 / 485143  and caloNum 10  )\n",
      "     Processing event: 1593302500068 (event 100000 / 485143  and caloNum 10  )\n",
      "     Processing event: 1597803650111 (event 200000 / 485143  and caloNum 10  )\n",
      "     Processing event: 1597401000030 (event 300000 / 485143  and caloNum 10  )\n",
      "     Processing event: 1592103610033 (event 400000 / 485143  and caloNum 10  )\n",
      "Found 485144 unique ID(s) for Calo 10\n",
      "Begin Calorimeter 11\n",
      "     caloNum == 11 && energy>1650 && energy<6000 && time >30*1000/1.25\n",
      "     <ROOT.TH3F object (\"htemp\") at 0x7f1999ccbbf0>\n",
      "     Found 520368 entries.\n",
      "     Processing event: 1593700270003 (event 0 / 520368  and caloNum 11  )\n",
      "     Processing event: 1594402030096 (event 100000 / 520368  and caloNum 11  )\n",
      "     Processing event: 1593802150074 (event 200000 / 520368  and caloNum 11  )\n",
      "     Processing event: 1593103610097 (event 300000 / 520368  and caloNum 11  )\n",
      "     Processing event: 1598604820104 (event 400000 / 520368  and caloNum 11  )\n",
      "     Processing event: 1593001180074 (event 500000 / 520368  and caloNum 11  )\n",
      "Found 520369 unique ID(s) for Calo 11\n",
      "Begin Calorimeter 12\n",
      "     caloNum == 12 && energy>1650 && energy<6000 && time >30*1000/1.25\n",
      "     <ROOT.TH3F object (\"htemp\") at 0x7f1999ccbbf0>\n",
      "     Found 552772 entries.\n",
      "     Processing event: 1593700270003 (event 0 / 552772  and caloNum 12  )\n",
      "     Processing event: 1594504360032 (event 100000 / 552772  and caloNum 12  )\n",
      "     Processing event: 1597702790074 (event 200000 / 552772  and caloNum 12  )\n",
      "     Processing event: 1595702440038 (event 300000 / 552772  and caloNum 12  )\n",
      "     Processing event: 1598602140009 (event 400000 / 552772  and caloNum 12  )\n",
      "     Processing event: 1593004250019 (event 500000 / 552772  and caloNum 12  )\n",
      "Found 552773 unique ID(s) for Calo 12\n",
      "Begin Calorimeter 13\n",
      "     caloNum == 13 && energy>1650 && energy<6000 && time >30*1000/1.25\n",
      "     <ROOT.TH3F object (\"htemp\") at 0x7f1999ccbbf0>\n",
      "     Found 514587 entries.\n",
      "     Processing event: 1593700270003 (event 0 / 514587  and caloNum 13  )\n",
      "     Processing event: 1594402030136 (event 100000 / 514587  and caloNum 13  )\n",
      "     Processing event: 1592401980045 (event 200000 / 514587  and caloNum 13  )\n",
      "     Processing event: 1598700840095 (event 300000 / 514587  and caloNum 13  )\n",
      "     Processing event: 1592602880007 (event 400000 / 514587  and caloNum 13  )\n",
      "     Processing event: 1597703400094 (event 500000 / 514587  and caloNum 13  )\n",
      "Found 514588 unique ID(s) for Calo 13\n",
      "Begin Calorimeter 14\n",
      "     caloNum == 14 && energy>1650 && energy<6000 && time >30*1000/1.25\n",
      "     <ROOT.TH3F object (\"htemp\") at 0x7f1999ccbbf0>\n",
      "     Found 512127 entries.\n",
      "     Processing event: 1593700270003 (event 0 / 512127  and caloNum 14  )\n",
      "     Processing event: 1594402030140 (event 100000 / 512127  and caloNum 14  )\n",
      "     Processing event: 1592401980111 (event 200000 / 512127  and caloNum 14  )\n",
      "     Processing event: 1597700570029 (event 300000 / 512127  and caloNum 14  )\n",
      "     Processing event: 1592602880148 (event 400000 / 512127  and caloNum 14  )\n",
      "     Processing event: 1594401380002 (event 500000 / 512127  and caloNum 14  )\n",
      "Found 512128 unique ID(s) for Calo 14\n",
      "Begin Calorimeter 15\n",
      "     caloNum == 15 && energy>1650 && energy<6000 && time >30*1000/1.25\n",
      "     <ROOT.TH3F object (\"htemp\") at 0x7f1999ccbbf0>\n",
      "     Found 481678 entries.\n",
      "     Processing event: 1593700270003 (event 0 / 481678  and caloNum 15  )\n",
      "     Processing event: 1593302500142 (event 100000 / 481678  and caloNum 15  )\n",
      "     Processing event: 1593902060073 (event 200000 / 481678  and caloNum 15  )\n",
      "     Processing event: 1597000230061 (event 300000 / 481678  and caloNum 15  )\n",
      "     Processing event: 1598803750128 (event 400000 / 481678  and caloNum 15  )\n",
      "Found 481679 unique ID(s) for Calo 15\n",
      "Begin Calorimeter 16\n",
      "     caloNum == 16 && energy>1650 && energy<6000 && time >30*1000/1.25\n",
      "     <ROOT.TH3F object (\"htemp\") at 0x7f1999ccbbf0>\n",
      "     Found 458813 entries.\n",
      "     Processing event: 1593700270003 (event 0 / 458813  and caloNum 16  )\n",
      "     Processing event: 1593101000061 (event 100000 / 458813  and caloNum 16  )\n",
      "     Processing event: 1593400890150 (event 200000 / 458813  and caloNum 16  )\n",
      "     Processing event: 1596900540154 (event 300000 / 458813  and caloNum 16  )\n",
      "     Processing event: 1592400660015 (event 400000 / 458813  and caloNum 16  )\n",
      "Found 458814 unique ID(s) for Calo 16\n",
      "Begin Calorimeter 17\n",
      "     caloNum == 17 && energy>1650 && energy<6000 && time >30*1000/1.25\n",
      "     <ROOT.TH3F object (\"htemp\") at 0x7f1999ccbbf0>\n",
      "     Found 495506 entries.\n",
      "     Processing event: 1593700270003 (event 0 / 495506  and caloNum 17  )\n",
      "     Processing event: 1595101930079 (event 100000 / 495506  and caloNum 17  )\n",
      "     Processing event: 1598800180027 (event 200000 / 495506  and caloNum 17  )\n",
      "     Processing event: 1596001090077 (event 300000 / 495506  and caloNum 17  )\n",
      "     Processing event: 1593202500080 (event 400000 / 495506  and caloNum 17  )\n",
      "Found 495507 unique ID(s) for Calo 17\n",
      "Begin Calorimeter 18\n",
      "     caloNum == 18 && energy>1650 && energy<6000 && time >30*1000/1.25\n",
      "     <ROOT.TH3F object (\"htemp\") at 0x7f1999ccbbf0>\n",
      "     Found 554704 entries.\n",
      "     Processing event: 1593700270003 (event 0 / 554704  and caloNum 18  )\n",
      "     Processing event: 1594504360034 (event 100000 / 554704  and caloNum 18  )\n",
      "     Processing event: 1597702790057 (event 200000 / 554704  and caloNum 18  )\n",
      "     Processing event: 1595303490134 (event 300000 / 554704  and caloNum 18  )\n",
      "     Processing event: 1594802430098 (event 400000 / 554704  and caloNum 18  )\n",
      "     Processing event: 1598801960053 (event 500000 / 554704  and caloNum 18  )\n",
      "Found 554705 unique ID(s) for Calo 18\n",
      "Begin Calorimeter 19\n",
      "     caloNum == 19 && energy>1650 && energy<6000 && time >30*1000/1.25\n",
      "     <ROOT.TH3F object (\"htemp\") at 0x7f1999ccbbf0>\n",
      "     Found 504783 entries.\n",
      "     Processing event: 1593700270003 (event 0 / 504783  and caloNum 19  )\n",
      "     Processing event: 1593900580147 (event 100000 / 504783  and caloNum 19  )\n",
      "     Processing event: 1594700580152 (event 200000 / 504783  and caloNum 19  )\n",
      "     Processing event: 1593804490019 (event 300000 / 504783  and caloNum 19  )\n",
      "     Processing event: 1596001730122 (event 400000 / 504783  and caloNum 19  )\n",
      "     Processing event: 1593500420021 (event 500000 / 504783  and caloNum 19  )\n",
      "Found 504784 unique ID(s) for Calo 19\n",
      "Begin Calorimeter 20\n",
      "     caloNum == 20 && energy>1650 && energy<6000 && time >30*1000/1.25\n",
      "     <ROOT.TH3F object (\"htemp\") at 0x7f1999ccbbf0>\n",
      "     Found 506670 entries.\n",
      "     Processing event: 1593700270003 (event 0 / 506670  and caloNum 20  )\n",
      "     Processing event: 1593900580147 (event 100000 / 506670  and caloNum 20  )\n",
      "     Processing event: 1594700580067 (event 200000 / 506670  and caloNum 20  )\n",
      "     Processing event: 1598201680053 (event 300000 / 506670  and caloNum 20  )\n",
      "     Processing event: 1593201690129 (event 400000 / 506670  and caloNum 20  )\n",
      "     Processing event: 1593503740154 (event 500000 / 506670  and caloNum 20  )\n",
      "Found 506671 unique ID(s) for Calo 20\n",
      "Begin Calorimeter 21\n",
      "     caloNum == 21 && energy>1650 && energy<6000 && time >30*1000/1.25\n",
      "     <ROOT.TH3F object (\"htemp\") at 0x7f1999ccbbf0>\n",
      "     Found 449232 entries.\n",
      "     Processing event: 1593700270003 (event 0 / 449232  and caloNum 21  )\n",
      "     Processing event: 1598103950028 (event 100000 / 449232  and caloNum 21  )\n",
      "     Processing event: 1595000100034 (event 200000 / 449232  and caloNum 21  )\n",
      "     Processing event: 1593704580049 (event 300000 / 449232  and caloNum 21  )\n",
      "     Processing event: 1594900950125 (event 400000 / 449232  and caloNum 21  )\n",
      "Found 449233 unique ID(s) for Calo 21\n",
      "Begin Calorimeter 22\n",
      "     caloNum == 22 && energy>1650 && energy<6000 && time >30*1000/1.25\n",
      "     <ROOT.TH3F object (\"htemp\") at 0x7f1999ccbbf0>\n",
      "     Found 440246 entries.\n",
      "     Processing event: 1593700270003 (event 0 / 440246  and caloNum 22  )\n",
      "     Processing event: 1594501540090 (event 100000 / 440246  and caloNum 22  )\n",
      "     Processing event: 1598504890131 (event 200000 / 440246  and caloNum 22  )\n",
      "     Processing event: 1598704460026 (event 300000 / 440246  and caloNum 22  )\n",
      "     Processing event: 1597202950079 (event 400000 / 440246  and caloNum 22  )\n",
      "Found 440247 unique ID(s) for Calo 22\n",
      "Begin Calorimeter 23\n",
      "     caloNum == 23 && energy>1650 && energy<6000 && time >30*1000/1.25\n",
      "     <ROOT.TH3F object (\"htemp\") at 0x7f1999ccbbf0>\n",
      "     Found 495528 entries.\n",
      "     Processing event: 1593700270003 (event 0 / 495528  and caloNum 23  )\n",
      "     Processing event: 1595101930011 (event 100000 / 495528  and caloNum 23  )\n",
      "     Processing event: 1598800180006 (event 200000 / 495528  and caloNum 23  )\n",
      "     Processing event: 1596001090019 (event 300000 / 495528  and caloNum 23  )\n",
      "     Processing event: 1593202500006 (event 400000 / 495528  and caloNum 23  )\n",
      "Found 495529 unique ID(s) for Calo 23\n",
      "Begin Calorimeter 24\n",
      "     caloNum == 24 && energy>1650 && energy<6000 && time >30*1000/1.25\n",
      "     <ROOT.TH3F object (\"htemp\") at 0x7f1999ccbbf0>\n",
      "     Found 481414 entries.\n",
      "     Processing event: 1593700270003 (event 0 / 481414  and caloNum 24  )\n",
      "     Processing event: 1594900930008 (event 100000 / 481414  and caloNum 24  )\n",
      "     Processing event: 1593902060030 (event 200000 / 481414  and caloNum 24  )\n",
      "     Processing event: 1597000230042 (event 300000 / 481414  and caloNum 24  )\n",
      "     Processing event: 1594302040042 (event 400000 / 481414  and caloNum 24  )\n",
      "Found 481415 unique ID(s) for Calo 24\n"
     ]
    }
   ],
   "source": [
    "import csv\n",
    "\n",
    "#out = open('calo_data_output_cutEnergy.csv','w')\n",
    "out = open('calo_data_output_energy_noConcatination.csv','w')\n",
    "csv_out = csv.writer(out)\n",
    "csv_out.writerow(['Calorimeter Number','Global Bin','Run Number','SubRun Number','Event Number','Counts'])\n",
    "out.close()\n",
    "\n",
    "\n",
    "for j in range(0,len(caloList)):\n",
    "    calonum = caloList[j]\n",
    "    print(\"Begin Calorimeter\", calonum)\n",
    "\n",
    "    #This string will determine the calorimeter number, energy, and time for the hit counting\n",
    "#    cutString = \"caloNum == \"+str(calonum) \n",
    "    cutString = \"caloNum == \"+str(calonum)+\" && energy>1700 && energy<6000 && time >30*1000/1.25\"\n",
    "    print(\"     \"+cutString)\n",
    "    c = r.TCanvas()\n",
    "\n",
    "    t.SetEstimate(-1) #Makes sure that the vectors get filled properly for large values https://root-forum.cern.ch/t/ttree-getv1-array-limits/3325\n",
    "#    t.Draw(\"nHit:eventNum:subRunNum:runNum\",cutString,\"\") #original cut, which just counts the number of events\n",
    "    t.Draw(\"energy:eventNum:subRunNum:runNum\",cutString,\"\") #counts energy, not number of counts\n",
    "    hUnique = r.gPad.GetPrimitive(\"htemp\").Clone(\"uniqueIDhist\") #get the histogram which was drawn for tree. Need to use this to determine the size of our vectors\n",
    "#    print(hUnique.GetEntries())\n",
    "\n",
    "    listc = c.GetListOfPrimitives()\n",
    "    ding = listc.First()\n",
    "    print(\"    \",ding) #making sure this is the histogram that we actually want\n",
    "\n",
    "    #fill the vectors from the tree\n",
    "    eventNumVec = t.GetV2()\n",
    "    subRunNumVec = t.GetV3()\n",
    "    runNumVec = t.GetV4()\n",
    "    nHitVec = t.GetV1()\n",
    "    \n",
    "    #now lets set some initial parameters\n",
    "    globalBinNumber = int( str(int(runNumVec[0])).zfill(5) + str(int(subRunNumVec[0])).zfill(4) +str(int(eventNumVec[0])).zfill(4) ) #zfill formatting so that each component has a consistent length\n",
    "    runningTotal = 0\n",
    "    pairList = []\n",
    "    maxBin = int( hUnique.GetEntries() ) #need this to loop over all entries in histogram/vectors\n",
    "    print(\"     Found\",maxBin,\"entries.\")\n",
    "    \n",
    "    #make the GetVX()'s actual lists/vectors instead of just buffers. This will come in handy if we need > 4 vectors\n",
    "    eventNumVec = list(eventNumVec[n] for n in range(maxBin+1))\n",
    "    subRunNumVec = list(subRunNumVec[n] for n in range(maxBin+1))\n",
    "    runNumVec = list(runNumVec[n] for n in range(maxBin+1))\n",
    "    nHitVec = list(nHitVec[n] for n in range(maxBin+1))\n",
    "#    print(len(eventNumVec),len(subRunNumVec),len(runNumVec),len(nHitVec),maxBin)\n",
    "\n",
    "    for i in range(0,maxBin):\n",
    "        globalBinNumberNew = int( str(int(runNumVec[i])).zfill(5) + str(int(subRunNumVec[i])).zfill(4) +str(int(eventNumVec[i])).zfill(4) )\n",
    "\n",
    "        if(i % 100000 == 0):\n",
    "            print(\"     Processing event:\", globalBinNumberNew, \"(event\", i,\"/\",maxBin,\" and caloNum\",calonum,\" )\")\n",
    "            \n",
    "        if(globalBinNumber == globalBinNumberNew):\n",
    "            runningTotal = 1*nHitVec[i]# + runningTotal\n",
    "            pairList.append((calonum, globalBinNumber,int(runNumVec[i-1]),int(subRunNumVec[i-1]), int(eventNumVec[i-1]),runningTotal))\n",
    "\n",
    "        else: #if the bin number is changed, we need to record the total of the\n",
    "            pairList.append((calonum, globalBinNumber,int(runNumVec[i-1]),int(subRunNumVec[i-1]), int(eventNumVec[i-1]),runningTotal))\n",
    "            runningTotal = 1*nHitVec[i]\n",
    "\n",
    "        if(i == maxBin-1):\n",
    "            pairList.append((calonum, globalBinNumber,int(runNumVec[i-1]),int(subRunNumVec[i-1]), int(eventNumVec[i-1]),runningTotal))\n",
    "#            print(globalBinNumber)\n",
    "\n",
    "        globalBinNumber = globalBinNumberNew\n",
    "\n",
    "        \n",
    "#    out = open('calo_data_output_cutEnergy.csv','a')\n",
    "    out = open('calo_data_output_energy_noConcatination.csv','a')\n",
    "    csv_out = csv.writer(out)\n",
    "    for item in pairList:\n",
    "        csv_out.writerow(item)\n",
    "    out.close()\n",
    "    \n",
    "    print(\"Found\", len(pairList),\"unique ID(s) for Calo\", calonum)"
   ]
  },
  {
   "cell_type": "markdown",
   "metadata": {},
   "source": [
    "Alright, now that we have that data stored in the file, we can crunch the numbers. We split this off into a different notebook for ease of viewing"
   ]
  },
  {
   "cell_type": "code",
   "execution_count": 16,
   "metadata": {},
   "outputs": [
    {
     "data": {
      "text/plain": [
       "\"c = r.TCanvas('c','c',1000,600)\\nr.gStyle.SetOptStat(0)\\n\\nleg = r.TLegend(0.12,0.12,0.5,0.5)\\ncalo_especs = []\\nwiggle  = f.Get('corrected')\\n\\nfor i in range(24):\\n    wiggle.GetZaxis().SetRange(i+1,i+1)\\n    wiggle.GetYaxis().SetRange(0,300)\\n    wiggle.GetXaxis().SetRange(300,1200)\\n    calo_especs.append(wiggle.Project3D('y_{}'.format(i+1)))\\n    calo_especs[i].Rebin(3)\\n    calo_especs[i].SetTitle('Calo Energy Spectrum')\\n    calo_especs[i].GetXaxis().SetRangeUser(1500,3000)\\n    calo_especs[i].SetMarkerSize(0.8)\\n    calo_especs[i].SetMarkerStyle(int(i/6)+20)\\n    calo_especs[i].Scale(1./calo_especs[i].GetEntries())\\n    calo_especs[i].GetYaxis().SetRangeUser(0.001,0.022)\\n    if i==0:\\n        calo_especs[i].Draw('EP')\\n    else:\\n        calo_especs[i].Draw('EP same')\\n  \\n    calo_especs[i].SetMarkerColor(i%6+1)\\n    calo_especs[i].SetLineColor(i%6+1)\\n    if (i%6+1) == 5:\\n        calo_especs[i].SetMarkerColor(7)\\n        calo_especs[i].SetLineColor(7)\\n\\n    leg.AddEntry(calo_especs[i], 'Calo{}'.format(i+1), 'lp')\\n\\nleg.SetNColumns(6)\\nleg.Draw()\\nc.SetLogy(1)\\nc.Draw()\""
      ]
     },
     "execution_count": 16,
     "metadata": {},
     "output_type": "execute_result"
    }
   ],
   "source": [
    "'''c = r.TCanvas('c','c',1000,600)\n",
    "r.gStyle.SetOptStat(0)\n",
    "\n",
    "leg = r.TLegend(0.12,0.12,0.5,0.5)\n",
    "calo_especs = []\n",
    "wiggle  = f.Get('corrected')\n",
    "\n",
    "for i in range(24):\n",
    "    wiggle.GetZaxis().SetRange(i+1,i+1)\n",
    "    wiggle.GetYaxis().SetRange(0,300)\n",
    "    wiggle.GetXaxis().SetRange(300,1200)\n",
    "    calo_especs.append(wiggle.Project3D('y_{}'.format(i+1)))\n",
    "    calo_especs[i].Rebin(3)\n",
    "    calo_especs[i].SetTitle('Calo Energy Spectrum')\n",
    "    calo_especs[i].GetXaxis().SetRangeUser(1500,3000)\n",
    "    calo_especs[i].SetMarkerSize(0.8)\n",
    "    calo_especs[i].SetMarkerStyle(int(i/6)+20)\n",
    "    calo_especs[i].Scale(1./calo_especs[i].GetEntries())\n",
    "    calo_especs[i].GetYaxis().SetRangeUser(0.001,0.022)\n",
    "    if i==0:\n",
    "        calo_especs[i].Draw('EP')\n",
    "    else:\n",
    "        calo_especs[i].Draw('EP same')\n",
    "  \n",
    "    calo_especs[i].SetMarkerColor(i%6+1)\n",
    "    calo_especs[i].SetLineColor(i%6+1)\n",
    "    if (i%6+1) == 5:\n",
    "        calo_especs[i].SetMarkerColor(7)\n",
    "        calo_especs[i].SetLineColor(7)\n",
    "\n",
    "    leg.AddEntry(calo_especs[i], 'Calo{}'.format(i+1), 'lp')\n",
    "\n",
    "leg.SetNColumns(6)\n",
    "leg.Draw()\n",
    "c.SetLogy(1)\n",
    "c.Draw()'''"
   ]
  },
  {
   "cell_type": "code",
   "execution_count": null,
   "metadata": {},
   "outputs": [],
   "source": []
  },
  {
   "cell_type": "code",
   "execution_count": 17,
   "metadata": {},
   "outputs": [
    {
     "name": "stdout",
     "output_type": "stream",
     "text": [
      "     <ROOT.TH3F object (\"htemp\") at 0x7fffbe5d9090>\n"
     ]
    }
   ],
   "source": [
    "t.SetEstimate(-1) #Makes sure that the vectors get filled properly for large values https://root-forum.cern.ch/t/ttree-getv1-array-limits/3325\n",
    "t.Draw(\"nHit:eventNum:subRunNum:runNum\",cutString,\"\") #original cut, which just counts the number of events\n",
    "#    t.Draw(\"energy:eventNum:subRunNum:runNum\",cutString,\"\") #counts energy, not number of counts\n",
    "hUnique = r.gPad.GetPrimitive(\"htemp\").Clone(\"uniqueIDhist\") #get the histogram which was drawn for tree. Need to use this to determine the size of our vectors\n",
    "#    print(hUnique.GetEntries())\n",
    "\n",
    "listc = c.GetListOfPrimitives()\n",
    "ding = listc.First()\n",
    "print(\"    \",ding) #making sure this is the histogram that we actually want\n",
    "\n",
    "#fill the vectors from the tree\n",
    "eventNumVec = t.GetV2()\n",
    "eventNumVec = list(eventNumVec[n] for n in range(maxBin))\n",
    "subRunNumVec = t.GetV3()\n",
    "runNumVec = t.GetV4()\n",
    "nHitVec = t.GetV1()\n",
    "\n",
    "t.Draw(\"energy:time\",cutString,\"\") \n",
    "timeVec = t.GetV2()\n",
    "energyVec = t.GetV1()"
   ]
  },
  {
   "cell_type": "code",
   "execution_count": 18,
   "metadata": {},
   "outputs": [
    {
     "name": "stdout",
     "output_type": "stream",
     "text": [
      "3.0 27.0 15937.0 2258.1173667503194\n",
      "30666.120045657364 2258.1173667503194\n"
     ]
    },
    {
     "ename": "NameError",
     "evalue": "name 'eventNumVecReal' is not defined",
     "output_type": "error",
     "traceback": [
      "\u001b[0;31m---------------------------------------------------------------------------\u001b[0m",
      "\u001b[0;31mNameError\u001b[0m                                 Traceback (most recent call last)",
      "\u001b[0;32m<ipython-input-18-25ed5cb014b0>\u001b[0m in \u001b[0;36m<module>\u001b[0;34m()\u001b[0m\n\u001b[1;32m      1\u001b[0m \u001b[0mprint\u001b[0m\u001b[0;34m(\u001b[0m\u001b[0meventNumVec\u001b[0m\u001b[0;34m[\u001b[0m\u001b[0;36m1\u001b[0m\u001b[0;34m]\u001b[0m\u001b[0;34m,\u001b[0m\u001b[0msubRunNumVec\u001b[0m\u001b[0;34m[\u001b[0m\u001b[0;36m1\u001b[0m\u001b[0;34m]\u001b[0m\u001b[0;34m,\u001b[0m\u001b[0mrunNumVec\u001b[0m\u001b[0;34m[\u001b[0m\u001b[0;36m1\u001b[0m\u001b[0;34m]\u001b[0m\u001b[0;34m,\u001b[0m\u001b[0mnHitVec\u001b[0m\u001b[0;34m[\u001b[0m\u001b[0;36m1\u001b[0m\u001b[0;34m]\u001b[0m\u001b[0;34m)\u001b[0m\u001b[0;34m\u001b[0m\u001b[0m\n\u001b[1;32m      2\u001b[0m \u001b[0mprint\u001b[0m\u001b[0;34m(\u001b[0m\u001b[0mtimeVec\u001b[0m\u001b[0;34m[\u001b[0m\u001b[0;36m1\u001b[0m\u001b[0;34m]\u001b[0m\u001b[0;34m,\u001b[0m\u001b[0menergyVec\u001b[0m\u001b[0;34m[\u001b[0m\u001b[0;36m1\u001b[0m\u001b[0;34m]\u001b[0m\u001b[0;34m)\u001b[0m\u001b[0;34m\u001b[0m\u001b[0m\n\u001b[0;32m----> 3\u001b[0;31m \u001b[0mprint\u001b[0m\u001b[0;34m(\u001b[0m\u001b[0meventNumVecReal\u001b[0m\u001b[0;34m[\u001b[0m\u001b[0;36m1\u001b[0m\u001b[0;34m]\u001b[0m\u001b[0;34m)\u001b[0m\u001b[0;34m\u001b[0m\u001b[0m\n\u001b[0m",
      "\u001b[0;31mNameError\u001b[0m: name 'eventNumVecReal' is not defined"
     ]
    }
   ],
   "source": [
    "print(eventNumVec[1],subRunNumVec[1],runNumVec[1],nHitVec[1])\n",
    "print(timeVec[1],energyVec[1])\n",
    "print(eventNumVecReal[1])"
   ]
  },
  {
   "cell_type": "code",
   "execution_count": null,
   "metadata": {},
   "outputs": [],
   "source": [
    "print(type(eventNumVecReal),type(subRunNumVec))"
   ]
  },
  {
   "cell_type": "code",
   "execution_count": null,
   "metadata": {},
   "outputs": [],
   "source": [
    "print(type(eventNumVec),type(subRunNumVec))"
   ]
  },
  {
   "cell_type": "code",
   "execution_count": null,
   "metadata": {},
   "outputs": [],
   "source": [
    "for i in range(300):\n",
    "    print(eventNumVec[i])"
   ]
  },
  {
   "cell_type": "code",
   "execution_count": null,
   "metadata": {},
   "outputs": [],
   "source": []
  },
  {
   "cell_type": "code",
   "execution_count": null,
   "metadata": {},
   "outputs": [],
   "source": []
  },
  {
   "cell_type": "code",
   "execution_count": null,
   "metadata": {},
   "outputs": [],
   "source": []
  },
  {
   "cell_type": "code",
   "execution_count": null,
   "metadata": {},
   "outputs": [],
   "source": []
  }
 ],
 "metadata": {
  "kernelspec": {
   "display_name": "Python 3",
   "language": "python",
   "name": "python3"
  },
  "language_info": {
   "codemirror_mode": {
    "name": "ipython",
    "version": 3
   },
   "file_extension": ".py",
   "mimetype": "text/x-python",
   "name": "python",
   "nbconvert_exporter": "python",
   "pygments_lexer": "ipython3",
   "version": "3.6.5"
  }
 },
 "nbformat": 4,
 "nbformat_minor": 2
}
