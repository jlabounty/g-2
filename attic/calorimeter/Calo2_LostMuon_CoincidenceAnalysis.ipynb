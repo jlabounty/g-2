{
 "cells": [
  {
   "cell_type": "code",
   "execution_count": 1,
   "metadata": {},
   "outputs": [
    {
     "name": "stdout",
     "output_type": "stream",
     "text": [
      "Welcome to JupyROOT 6.12/06\n"
     ]
    }
   ],
   "source": [
    "import ROOT as r\n",
    "import math\n",
    "from BlindersPy3 import Blinders\n",
    "from BlindersPy3 import FitType\n",
    "r.gStyle.SetOptStat(0)\n",
    "r.gStyle.SetOptFit(1111)\n",
    "import matplotlib.pyplot as plt\n",
    "import csv\n",
    "import pandas\n",
    "\n",
    "import seaborn as sns\n",
    "sns.set(style=\"ticks\", color_codes=True)\n",
    "import numpy as np\n",
    "import matplotlib.pyplot as plt\n",
    "import matplotlib \n",
    "matplotlib.rc('xtick', labelsize=20) \n",
    "matplotlib.rc('ytick', labelsize=20) \n",
    "\n",
    "%matplotlib inline"
   ]
  },
  {
   "cell_type": "code",
   "execution_count": 2,
   "metadata": {},
   "outputs": [
    {
     "name": "stdout",
     "output_type": "stream",
     "text": [
      "TFile**\t\t./data/gm2offline_ana_7893458_15937.00027.root\t\n",
      " TFile*\t\t./data/gm2offline_ana_7893458_15937.00027.root\t\n",
      "  TDirectoryFile*\t\tCoincidenceFinderLM\tCoincidenceFinderLM (CoincidenceFinderLM) folder\n",
      "   KEY: TTree\tCoincLM;143\tCoincLM\n",
      "   KEY: TTree\tCoincLM;142\tCoincLM\n",
      "   KEY: TH1D\tcaloNumdouble_;1\tDouble Coincidence: hits vs calo number - double/singles = 0.0897\n",
      "   KEY: TH1D\tcaloNumtriple_;1\tTriple Coincidence: hits vs calo number - triple/singles = 0.0197\n",
      "   KEY: TH2D\tclusterTimecaloNumdouble_;1\tDouble Coincidence: cluster time vs calo num\n",
      "   KEY: TH2D\tclusterTimecaloNumtriple_;1\tTriple Coincidence: cluster time vs calo num\n",
      "   KEY: TH1D\tcoincDoubleTriple;1\tRatio of double (0.0897) and triple (0.0197) coincidence LM candidates to singles\n",
      "  KEY: TDirectoryFile\tCoincidenceFinderLM;1\tCoincidenceFinderLM (CoincidenceFinderLM) folder\n",
      "  KEY: TDirectoryFile\tclusterTree;1\tclusterTree (ClusterTree) folder\n"
     ]
    }
   ],
   "source": [
    "#f = r.TFile(\"./data/gm2offline_ana_merged.root\")\n",
    "#f = r.TFile(\"./data/gm2offline_ana_run16355.root\")\n",
    "f = r.TFile(\"./data/gm2offline_ana_7893458_15937.00027.root\")\n",
    "#f = r.TFile(\"./data/60hour/gm2offline_ana_7893505_15982.00104.root\")\n",
    "#f.cd(\"clusterTree\")\n",
    "f.cd(\"CoincidenceFinderLM\")\n",
    "f.ls()"
   ]
  },
  {
   "cell_type": "code",
   "execution_count": 3,
   "metadata": {},
   "outputs": [
    {
     "name": "stdout",
     "output_type": "stream",
     "text": [
      "******************************************************************************\n",
      "*Tree    :CoincLM   : CoincLM                                                *\n",
      "*Entries : 101833887 : Total =     15585334747 bytes  File  Size = 3930188262 *\n",
      "*        :          : Tree compression factor =   3.97                       *\n",
      "******************************************************************************\n",
      "*Br    0 :coincidenceLevel : coincidenceLevel/i                              *\n",
      "*Entries :101833887 : Total  Size=  407360489 bytes  File Size  =    2310809 *\n",
      "*Baskets :      232 : Basket Size=    6735360 bytes  Compression= 176.28     *\n",
      "*............................................................................*\n",
      "*Br    1 :caloNum   : vector<int>                                            *\n",
      "*Entries :101833887 : Total  Size= 1842711609 bytes  File Size  =  166652577 *\n",
      "*Baskets :      638 : Basket Size=   25600000 bytes  Compression=  11.06     *\n",
      "*............................................................................*\n",
      "*Br    2 :clusterEnergy : vector<double>                                     *\n",
      "*Entries :101833887 : Total  Size= 2259695557 bytes  File Size  = 1016453766 *\n",
      "*Baskets :      730 : Basket Size=   25600000 bytes  Compression=   2.22     *\n",
      "*............................................................................*\n",
      "*Br    3 :clusterTime : vector<double>                                       *\n",
      "*Entries :101833887 : Total  Size= 2259694089 bytes  File Size  = 998519665 *\n",
      "*Baskets :      730 : Basket Size=   25600000 bytes  Compression=   2.26     *\n",
      "*............................................................................*\n",
      "*Br    4 :clusterX  : vector<double>                                         *\n",
      "*Entries :101833887 : Total  Size= 2259691887 bytes  File Size  = 762130580 *\n",
      "*Baskets :      730 : Basket Size=   25600000 bytes  Compression=   2.96     *\n",
      "*............................................................................*\n",
      "*Br    5 :clusterY  : vector<double>                                         *\n",
      "*Entries :101833887 : Total  Size= 2259691887 bytes  File Size  = 683173563 *\n",
      "*Baskets :      730 : Basket Size=   25600000 bytes  Compression=   3.31     *\n",
      "*............................................................................*\n",
      "*Br    6 :clusterSize : vector<double>                                       *\n",
      "*Entries :101833887 : Total  Size= 2259694089 bytes  File Size  = 290878096 *\n",
      "*Baskets :      730 : Basket Size=   25600000 bytes  Compression=   7.77     *\n",
      "*............................................................................*\n",
      "*Br    7 :islandNum : islandNum/i                                            *\n",
      "*Entries :101833887 : Total  Size=  407358837 bytes  File Size  =    1801957 *\n",
      "*Baskets :      232 : Basket Size=    6734848 bytes  Compression= 226.06     *\n",
      "*............................................................................*\n",
      "*Br    8 :eventNum  : eventNum/i                                             *\n",
      "*Entries :101833887 : Total  Size=  407358601 bytes  File Size  =    2103695 *\n",
      "*Baskets :      232 : Basket Size=    6734848 bytes  Compression= 193.64     *\n",
      "*............................................................................*\n",
      "*Br    9 :midasSerialNum : midasSerialNum/i                                  *\n",
      "*Entries :101833887 : Total  Size=  407360017 bytes  File Size  =    2107590 *\n",
      "*Baskets :      232 : Basket Size=    6735360 bytes  Compression= 193.28     *\n",
      "*............................................................................*\n",
      "*Br   10 :subRunNum : subRunNum/i                                            *\n",
      "*Entries :101833887 : Total  Size=  407358837 bytes  File Size  =    2001869 *\n",
      "*Baskets :      232 : Basket Size=    6734848 bytes  Compression= 203.49     *\n",
      "*............................................................................*\n",
      "*Br   11 :runNum    : runNum/i                                               *\n",
      "*Entries :101833887 : Total  Size=  407358129 bytes  File Size  =    2001485 *\n",
      "*Baskets :      232 : Basket Size=    6734848 bytes  Compression= 203.53     *\n",
      "*............................................................................*\n"
     ]
    }
   ],
   "source": [
    "t = f.Get(\"CoincidenceFinderLM\").Get(\"CoincLM\")\n",
    "t.Print()"
   ]
  },
  {
   "cell_type": "code",
   "execution_count": 4,
   "metadata": {},
   "outputs": [],
   "source": [
    "#nentries = t.Draw(\"clusterY:clusterX:caloNum:clusterEnergy\",\"coincidenceLevel==3\",\"goff\")"
   ]
  },
  {
   "cell_type": "code",
   "execution_count": 5,
   "metadata": {},
   "outputs": [],
   "source": [
    "#print(type(t.GetV1()))"
   ]
  },
  {
   "cell_type": "code",
   "execution_count": 6,
   "metadata": {},
   "outputs": [
    {
     "data": {
      "text/plain": [
       "'vecCalo1X = []\\nvecCalo1Y = []\\nvecCalo2X = []\\nvecCalo2Y = []\\nvecCalo3X = []\\nvecCalo3Y = []\\n\\ncounter = 0\\ncaloLM = []\\n\\nfor entry in t:\\n    if (counter % 1000000 == 0):\\n        print(\"Processed\", counter, \"events (\",counter/101833887*100,\"% complete )\")\\n    if (entry.clusterX.size() == 3 and (entry.caloNum[1] == 2) ):\\n        vecCalo2X.append( entry.clusterX[1] )\\n        vecCalo2Y.append( entry.clusterY[1] )\\n        vecCalo1X.append( entry.clusterX[0] )\\n        vecCalo1Y.append( entry.clusterY[0] )\\n        vecCalo3X.append( entry.clusterX[2] )\\n        vecCalo3Y.append( entry.clusterY[2] )\\n        caloLM.append((entry.clusterX[0], entry.clusterY[0],entry.clusterX[1], \\n                       entry.clusterY[1],entry.clusterX[2], entry.clusterY[2]))\\n    counter = counter + 1'"
      ]
     },
     "execution_count": 6,
     "metadata": {},
     "output_type": "execute_result"
    }
   ],
   "source": [
    "'''vecCalo1X = []\n",
    "vecCalo1Y = []\n",
    "vecCalo2X = []\n",
    "vecCalo2Y = []\n",
    "vecCalo3X = []\n",
    "vecCalo3Y = []\n",
    "\n",
    "counter = 0\n",
    "caloLM = []\n",
    "\n",
    "for entry in t:\n",
    "    if (counter % 1000000 == 0):\n",
    "        print(\"Processed\", counter, \"events (\",counter/101833887*100,\"% complete )\")\n",
    "    if (entry.clusterX.size() == 3 and (entry.caloNum[1] == 2) ):\n",
    "        vecCalo2X.append( entry.clusterX[1] )\n",
    "        vecCalo2Y.append( entry.clusterY[1] )\n",
    "        vecCalo1X.append( entry.clusterX[0] )\n",
    "        vecCalo1Y.append( entry.clusterY[0] )\n",
    "        vecCalo3X.append( entry.clusterX[2] )\n",
    "        vecCalo3Y.append( entry.clusterY[2] )\n",
    "        caloLM.append((entry.clusterX[0], entry.clusterY[0],entry.clusterX[1], \n",
    "                       entry.clusterY[1],entry.clusterX[2], entry.clusterY[2]))\n",
    "    counter = counter + 1'''"
   ]
  },
  {
   "cell_type": "code",
   "execution_count": 7,
   "metadata": {},
   "outputs": [
    {
     "data": {
      "text/plain": [
       "\"import csv\\nout = open('./data/calo_data_output_lostMuons_1_2_3.csv','w')\\ncsv_out = csv.writer(out)\\ncsv_out.writerow(['Calo1X','Calo1Y','Calo2X','Calo2Y','Calo3X','Calo3Y',])\\nfor item in caloLM:\\n    csv_out.writerow(item)\\nout.close()\""
      ]
     },
     "execution_count": 7,
     "metadata": {},
     "output_type": "execute_result"
    }
   ],
   "source": [
    "'''import csv\n",
    "out = open('./data/calo_data_output_lostMuons_1_2_3.csv','w')\n",
    "csv_out = csv.writer(out)\n",
    "csv_out.writerow(['Calo1X','Calo1Y','Calo2X','Calo2Y','Calo3X','Calo3Y',])\n",
    "for item in caloLM:\n",
    "    csv_out.writerow(item)\n",
    "out.close()'''"
   ]
  },
  {
   "cell_type": "code",
   "execution_count": 8,
   "metadata": {},
   "outputs": [
    {
     "data": {
      "text/plain": [
       "'vecCalo7X = []\\nvecCalo7Y = []\\nvecCalo8X = []\\nvecCalo8Y = []\\nvecCalo9X = []\\nvecCalo9Y = []\\n\\ncounter = 0\\n\\ncaloLM2 = []\\n\\nfor entry in t:\\n    if (counter % 1000000 == 0):\\n        print(\"Processed\", counter, \"events (\",counter/101833887*100,\"% complete )\")\\n    if (entry.clusterX.size() == 3 and (entry.caloNum[1] == 8) ):\\n        vecCalo8X.append( entry.clusterX[1] )\\n        vecCalo8Y.append( entry.clusterY[1] )\\n        vecCalo7X.append( entry.clusterX[0] )\\n        vecCalo7Y.append( entry.clusterY[0] )\\n        vecCalo9X.append( entry.clusterX[2] )\\n        vecCalo9Y.append( entry.clusterY[2] )\\n        \\n        caloLM2.append((entry.clusterX[0], entry.clusterY[0],entry.clusterX[1], \\n                       entry.clusterY[1],entry.clusterX[2], entry.clusterY[2]))\\n        \\n    counter = counter + 1'"
      ]
     },
     "execution_count": 8,
     "metadata": {},
     "output_type": "execute_result"
    }
   ],
   "source": [
    "'''vecCalo7X = []\n",
    "vecCalo7Y = []\n",
    "vecCalo8X = []\n",
    "vecCalo8Y = []\n",
    "vecCalo9X = []\n",
    "vecCalo9Y = []\n",
    "\n",
    "counter = 0\n",
    "\n",
    "caloLM2 = []\n",
    "\n",
    "for entry in t:\n",
    "    if (counter % 1000000 == 0):\n",
    "        print(\"Processed\", counter, \"events (\",counter/101833887*100,\"% complete )\")\n",
    "    if (entry.clusterX.size() == 3 and (entry.caloNum[1] == 8) ):\n",
    "        vecCalo8X.append( entry.clusterX[1] )\n",
    "        vecCalo8Y.append( entry.clusterY[1] )\n",
    "        vecCalo7X.append( entry.clusterX[0] )\n",
    "        vecCalo7Y.append( entry.clusterY[0] )\n",
    "        vecCalo9X.append( entry.clusterX[2] )\n",
    "        vecCalo9Y.append( entry.clusterY[2] )\n",
    "        \n",
    "        caloLM2.append((entry.clusterX[0], entry.clusterY[0],entry.clusterX[1], \n",
    "                       entry.clusterY[1],entry.clusterX[2], entry.clusterY[2]))\n",
    "        \n",
    "    counter = counter + 1'''"
   ]
  },
  {
   "cell_type": "code",
   "execution_count": 9,
   "metadata": {},
   "outputs": [
    {
     "data": {
      "text/plain": [
       "\"import csv\\nout = open('./data/calo_data_output_lostMuons_7_8_9.csv','w')\\ncsv_out = csv.writer(out)\\ncsv_out.writerow(['Calo1X','Calo1Y','Calo2X','Calo2Y','Calo3X','Calo3Y'])\\nfor item in caloLM2:\\n    csv_out.writerow(item)\\nout.close()\""
      ]
     },
     "execution_count": 9,
     "metadata": {},
     "output_type": "execute_result"
    }
   ],
   "source": [
    "'''import csv\n",
    "out = open('./data/calo_data_output_lostMuons_7_8_9.csv','w')\n",
    "csv_out = csv.writer(out)\n",
    "csv_out.writerow(['Calo1X','Calo1Y','Calo2X','Calo2Y','Calo3X','Calo3Y'])\n",
    "for item in caloLM2:\n",
    "    csv_out.writerow(item)\n",
    "out.close()'''"
   ]
  },
  {
   "cell_type": "code",
   "execution_count": 10,
   "metadata": {},
   "outputs": [
    {
     "data": {
      "text/plain": [
       "'import csv\\nout = open(\\'./data/calo_data_output_lostMuons_all_CL3_7893505.csv\\',\\'w\\')\\ncsv_out = csv.writer(out)\\ncsv_out.writerow([\\'CaloAX\\',\\'CaloAY\\',\\'CaloBX\\',\\'CaloBY\\',\\'CaloCX\\',\\'CaloCY\\',\\'StartingCalo\\'])\\n\\n\\nfor i in range(25):\\n    print(\"Beginning Calo:\",i+1)\\n    startingCalo = i+1\\n    counter = 0\\n    caloLMx = []\\n\\n    for entry in t:\\n        if (counter % 10000000 == 0):\\n            print(\"     Processed\", counter, \"events (\",counter/125807767*100,\"% complete )\")\\n        if (entry.clusterX.size() == 3 and (entry.caloNum[0] == startingCalo) ):\\n\\n            csv_out.writerow((entry.clusterX[0], entry.clusterY[0],entry.clusterX[1], \\n                           entry.clusterY[1],entry.clusterX[2], entry.clusterY[2], startingCalo))\\n\\n        counter = counter + 1\\nout.close()'"
      ]
     },
     "execution_count": 10,
     "metadata": {},
     "output_type": "execute_result"
    }
   ],
   "source": [
    "'''import csv\n",
    "out = open('./data/calo_data_output_lostMuons_all_CL3_7893505.csv','w')\n",
    "csv_out = csv.writer(out)\n",
    "csv_out.writerow(['CaloAX','CaloAY','CaloBX','CaloBY','CaloCX','CaloCY','StartingCalo'])\n",
    "\n",
    "\n",
    "for i in range(25):\n",
    "    print(\"Beginning Calo:\",i+1)\n",
    "    startingCalo = i+1\n",
    "    counter = 0\n",
    "    caloLMx = []\n",
    "\n",
    "    for entry in t:\n",
    "        if (counter % 10000000 == 0):\n",
    "            print(\"     Processed\", counter, \"events (\",counter/125807767*100,\"% complete )\")\n",
    "        if (entry.clusterX.size() == 3 and (entry.caloNum[0] == startingCalo) ):\n",
    "\n",
    "            csv_out.writerow((entry.clusterX[0], entry.clusterY[0],entry.clusterX[1], \n",
    "                           entry.clusterY[1],entry.clusterX[2], entry.clusterY[2], startingCalo))\n",
    "\n",
    "        counter = counter + 1\n",
    "out.close()'''"
   ]
  },
  {
   "cell_type": "code",
   "execution_count": 11,
   "metadata": {},
   "outputs": [
    {
     "name": "stdout",
     "output_type": "stream",
     "text": [
      "Processed 0 events ( 0.0 % complete )\n",
      "Processed 10000000 events ( 7.94863484064541 % complete )\n",
      "Processed 20000000 events ( 15.89726968129082 % complete )\n",
      "Processed 30000000 events ( 23.845904521936234 % complete )\n",
      "Processed 40000000 events ( 31.79453936258164 % complete )\n",
      "Processed 50000000 events ( 39.743174203227056 % complete )\n",
      "Processed 60000000 events ( 47.69180904387247 % complete )\n",
      "Processed 70000000 events ( 55.64044388451788 % complete )\n",
      "Processed 80000000 events ( 63.58907872516328 % complete )\n",
      "Processed 90000000 events ( 71.5377135658087 % complete )\n",
      "Processed 100000000 events ( 79.48634840645411 % complete )\n",
      "Processed 110000000 events ( 87.43498324709952 % complete )\n",
      "Processed 120000000 events ( 95.38361808774494 % complete )\n",
      "All done.\n"
     ]
    }
   ],
   "source": [
    "import csv\n",
    "out = open('./data/calo_data_output_lostMuons_all_CL3_7893458.csv','w')\n",
    "csv_out = csv.writer(out)\n",
    "csv_out.writerow(['CaloAX','CaloAY','CaloBX','CaloBY','CaloCX','CaloCY','StartingCalo'])\n",
    "\n",
    "counter = 0\n",
    "for entry in t:\n",
    "    if (counter % 10000000 == 0):\n",
    "        print(\"Processed\", counter, \"events (\",counter/125807767*100,\"% complete )\")\n",
    "    if ( entry.clusterX.size() == 3 ):\n",
    "        startingCalo = entry.caloNum[0]\n",
    "        csv_out.writerow((entry.clusterX[0], entry.clusterY[0],entry.clusterX[1], \n",
    "                       entry.clusterY[1],entry.clusterX[2], entry.clusterY[2], startingCalo))\n",
    "\n",
    "    counter = counter + 1\n",
    "        \n",
    "print(\"All done.\")"
   ]
  },
  {
   "cell_type": "code",
   "execution_count": 15,
   "metadata": {},
   "outputs": [
    {
     "name": "stdout",
     "output_type": "stream",
     "text": [
      "Processed 0 events ( 0.0 % complete )\n",
      "Processed 10000000 events ( 9.819913876016537 % complete )\n",
      "Processed 20000000 events ( 19.639827752033074 % complete )\n",
      "Processed 30000000 events ( 29.459741628049606 % complete )\n",
      "Processed 40000000 events ( 39.27965550406615 % complete )\n",
      "Processed 50000000 events ( 49.09956938008268 % complete )\n",
      "Processed 60000000 events ( 58.91948325609921 % complete )\n",
      "Processed 70000000 events ( 68.73939713211576 % complete )\n",
      "Processed 80000000 events ( 78.5593110081323 % complete )\n",
      "Processed 90000000 events ( 88.37922488414883 % complete )\n",
      "Processed 100000000 events ( 98.19913876016535 % complete )\n",
      "All done.\n",
      "617 with starting calo = 2\n"
     ]
    }
   ],
   "source": [
    "import csv\n",
    "out = open('./data/calo_data_output_lostMuons_all_CL4_7893505_test.csv','w')\n",
    "csv_out = csv.writer(out)\n",
    "csv_out.writerow(['CaloAX','CaloAY','CaloBX','CaloBY','CaloCX','CaloCY','CaloDX','CaloDY','StartingCalo'])\n",
    "\n",
    "counter = 0\n",
    "counter2 = 0\n",
    "for entry in t:\n",
    "    if (counter % 10000000 == 0):\n",
    "        print(\"Processed\", counter, \"events (\",counter/101833887*100,\"% complete )\")\n",
    "    if (entry.clusterX.size() == 4 ):\n",
    "        startingCalo = entry.caloNum[0]\n",
    "        csv_out.writerow((entry.clusterX[0], entry.clusterY[0],\n",
    "                          entry.clusterX[1], entry.clusterY[1],\n",
    "                          entry.clusterX[2], entry.clusterY[2],\n",
    "                          entry.clusterX[3], entry.clusterY[3],\n",
    "                          startingCalo))\n",
    "        if (startingCalo == 2):\n",
    "            counter2 = counter2+1\n",
    "\n",
    "    counter = counter + 1\n",
    "        \n",
    "print(\"All done.\")\n",
    "print(counter2,\"with starting calo = 2\")\n",
    "out.close()"
   ]
  },
  {
   "cell_type": "code",
   "execution_count": 13,
   "metadata": {},
   "outputs": [],
   "source": [
    "out.close()"
   ]
  },
  {
   "cell_type": "code",
   "execution_count": 5,
   "metadata": {},
   "outputs": [
    {
     "name": "stdout",
     "output_type": "stream",
     "text": [
      "Processed 0 events ( 0.0 % complete )\n",
      "Processed 10000000 events ( 9.819913876016537 % complete )\n",
      "Processed 20000000 events ( 19.639827752033074 % complete )\n",
      "Processed 30000000 events ( 29.459741628049606 % complete )\n",
      "Processed 40000000 events ( 39.27965550406615 % complete )\n",
      "Processed 50000000 events ( 49.09956938008268 % complete )\n",
      "Processed 60000000 events ( 58.91948325609921 % complete )\n",
      "Processed 70000000 events ( 68.73939713211576 % complete )\n",
      "Processed 80000000 events ( 78.5593110081323 % complete )\n",
      "Processed 90000000 events ( 88.37922488414883 % complete )\n",
      "Processed 100000000 events ( 98.19913876016535 % complete )\n",
      "All done.\n"
     ]
    }
   ],
   "source": [
    "import csv\n",
    "out = open('./data/calo_data_output_lostMuons_all_CL2_7893458.csv','w')\n",
    "csv_out = csv.writer(out)\n",
    "csv_out.writerow(['CaloAX','CaloAY','CaloBX','CaloBY','StartingCalo'])\n",
    "\n",
    "counter = 0\n",
    "for entry in t:\n",
    "    if (counter % 10000000 == 0):\n",
    "        print(\"Processed\", counter, \"events (\",counter/101833887*100,\"% complete )\")\n",
    "    if (entry.clusterX.size() == 2 ):\n",
    "        startingCalo = entry.caloNum[0]\n",
    "        csv_out.writerow((entry.clusterX[0], entry.clusterY[0],\n",
    "                          entry.clusterX[1], entry.clusterY[1], \n",
    "                          startingCalo))\n",
    "\n",
    "    counter = counter + 1\n",
    "        \n",
    "print(\"All done.\")\n",
    "out.close()"
   ]
  },
  {
   "cell_type": "code",
   "execution_count": 8,
   "metadata": {},
   "outputs": [
    {
     "data": {
      "image/png": "[encoded data removed]",
      "text/plain": [
       "<IPython.core.display.Image object>"
      ]
     },
     "metadata": {},
     "output_type": "display_data"
    }
   ],
   "source": [
    "c = r.TCanvas()\n",
    "t.Draw(\"caloNum\",\"coincidenceLevel==3\",\"\")\n",
    "c.Draw()"
   ]
  },
  {
   "cell_type": "code",
   "execution_count": 12,
   "metadata": {},
   "outputs": [
    {
     "name": "stdout",
     "output_type": "stream",
     "text": [
      "202356 67452.0\n"
     ]
    },
    {
     "data": {
      "image/png": "[encoded data removed]",
      "text/plain": [
       "<IPython.core.display.Image object>"
      ]
     },
     "metadata": {},
     "output_type": "display_data"
    }
   ],
   "source": [
    "c = r.TCanvas()\n",
    "countnum = t.Draw(\"caloNum\",\"coincidenceLevel==4\",\"\")\n",
    "print(countnum, countnum/3)\n",
    "c.Draw()"
   ]
  },
  {
   "cell_type": "code",
   "execution_count": 14,
   "metadata": {},
   "outputs": [
    {
     "name": "stdout",
     "output_type": "stream",
     "text": [
      "6900 2300.0\n"
     ]
    },
    {
     "data": {
      "image/png": "[encoded data removed]",
      "text/plain": [
       "<IPython.core.display.Image object>"
      ]
     },
     "metadata": {},
     "output_type": "display_data"
    }
   ],
   "source": [
    "c = r.TCanvas()\n",
    "countnum = t.Draw(\"caloNum\",\"coincidenceLevel==4 && caloNum == 2\",\"\")\n",
    "print(countnum, countnum/3)\n",
    "c.Draw()"
   ]
  },
  {
   "cell_type": "code",
   "execution_count": null,
   "metadata": {},
   "outputs": [],
   "source": []
  }
 ],
 "metadata": {
  "kernelspec": {
   "display_name": "Python 3",
   "language": "python",
   "name": "python3"
  },
  "language_info": {
   "codemirror_mode": {
    "name": "ipython",
    "version": 3
   },
   "file_extension": ".py",
   "mimetype": "text/x-python",
   "name": "python",
   "nbconvert_exporter": "python",
   "pygments_lexer": "ipython3",
   "version": "3.6.5"
  }
 },
 "nbformat": 4,
 "nbformat_minor": 2
}
