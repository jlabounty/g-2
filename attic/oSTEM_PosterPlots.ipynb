{
 "cells": [
  {
   "cell_type": "code",
   "execution_count": 1,
   "metadata": {},
   "outputs": [
    {
     "name": "stdout",
     "output_type": "stream",
     "text": [
      "Welcome to JupyROOT 6.12/06\n",
      "For interactive plots, run: setint()\n",
      "To return to non-interactive plots (default state), run: noint()\n"
     ]
    }
   ],
   "source": [
    "from standardInclude import *"
   ]
  },
  {
   "cell_type": "code",
   "execution_count": 2,
   "metadata": {},
   "outputs": [
    {
     "name": "stdout",
     "output_type": "stream",
     "text": [
      "TFile**\t\t/home/jlab/GoogleDrive/Research/Conferences/oSTEM 2019/figures/fid_labounty.root\t\n",
      " TFile*\t\t/home/jlab/GoogleDrive/Research/Conferences/oSTEM 2019/figures/fid_labounty.root\t\n"
     ]
    },
    {
     "name": "stderr",
     "output_type": "stream",
     "text": [
      "Error in <TFile::TFile>: file /home/jlab/GoogleDrive/Research/Conferences/oSTEM 2019/figures/fid_labounty.root does not exist\n"
     ]
    }
   ],
   "source": [
    "fname = \"/home/jlab/GoogleDrive/Research/Conferences/oSTEM 2019/poster/figures/fid_labounty.root\"\n",
    "f = r.TFile(fname)\n",
    "f.ls()"
   ]
  },
  {
   "cell_type": "code",
   "execution_count": 3,
   "metadata": {},
   "outputs": [
    {
     "ename": "AttributeError",
     "evalue": "'TObject' object has no attribute 'GetListOfPrimitives'",
     "output_type": "error",
     "traceback": [
      "\u001b[0;31m---------------------------------------------------------------------------\u001b[0m",
      "\u001b[0;31mAttributeError\u001b[0m                            Traceback (most recent call last)",
      "\u001b[0;32m<ipython-input-3-43bcdb7f6f51>\u001b[0m in \u001b[0;36m<module>\u001b[0;34m\u001b[0m\n\u001b[1;32m      1\u001b[0m \u001b[0mc1\u001b[0m \u001b[0;34m=\u001b[0m \u001b[0mf\u001b[0m\u001b[0;34m.\u001b[0m\u001b[0mGet\u001b[0m\u001b[0;34m(\u001b[0m\u001b[0;34m\"c1\"\u001b[0m\u001b[0;34m)\u001b[0m\u001b[0;34m\u001b[0m\u001b[0;34m\u001b[0m\u001b[0m\n\u001b[0;32m----> 2\u001b[0;31m \u001b[0mprint\u001b[0m\u001b[0;34m(\u001b[0m\u001b[0;34m[\u001b[0m\u001b[0mx\u001b[0m \u001b[0;32mfor\u001b[0m \u001b[0mx\u001b[0m \u001b[0;32min\u001b[0m \u001b[0mc1\u001b[0m\u001b[0;34m.\u001b[0m\u001b[0mGetListOfPrimitives\u001b[0m\u001b[0;34m(\u001b[0m\u001b[0;34m)\u001b[0m\u001b[0;34m]\u001b[0m\u001b[0;34m)\u001b[0m\u001b[0;34m\u001b[0m\u001b[0;34m\u001b[0m\u001b[0m\n\u001b[0m",
      "\u001b[0;31mAttributeError\u001b[0m: 'TObject' object has no attribute 'GetListOfPrimitives'"
     ]
    }
   ],
   "source": [
    "c1 = f.Get(\"c1\")\n",
    "print([x for x in c1.GetListOfPrimitives()])"
   ]
  },
  {
   "cell_type": "code",
   "execution_count": null,
   "metadata": {},
   "outputs": [],
   "source": [
    "gr = c1.GetPrimitive(\"Graph\").Clone(\"gr\")"
   ]
  },
  {
   "cell_type": "code",
   "execution_count": null,
   "metadata": {},
   "outputs": [],
   "source": [
    "h = c1.GetPrimitive(\"htemp\").Clone(\"h\")\n",
    "h.SetDirectory(0)"
   ]
  },
  {
   "cell_type": "code",
   "execution_count": null,
   "metadata": {},
   "outputs": [],
   "source": [
    "c = r.TCanvas(\"c\",\"c\",8000,4000)\n",
    "gr.SetTitle(\"Example Free Induction Decay; Time [Arb. Units]; Amplitude\")\n",
    "gr.SetLineWidth(5)\n",
    "gr.Draw()\n",
    "\n",
    "r.gStyle.SetHistLineWidth(2)\n",
    "\n",
    "xlow = 738000\n",
    "xhigh = 738400\n",
    "yhigh = 15000\n",
    "ylow = 1000\n",
    "\n",
    "#gr.GetXaxis().SetRangeUser(738000,738400)\n",
    "gr.GetYaxis().SetRangeUser(ylow,yhigh)\n",
    "\n",
    "box1 = r.TBox(xlow, ylow, xhigh, yhigh)\n",
    "box1.SetFillColorAlpha(45,0.2)\n",
    "box1.SetLineColor(45)\n",
    "box1.SetLineWidth(5)\n",
    "box1.Draw(\"L\")\n",
    "\n",
    "arrow = r.TArrow(xhigh+10, 12000, xhigh+950, 12000, 0.025, \">\")\n",
    "arrow.SetLineWidth(8)\n",
    "arrow.Draw()\n",
    "\n",
    "gr2 = gr.Clone()\n",
    "gr2.SetTitle(\";;\")\n",
    "gr2.GetXaxis().SetRangeUser(xlow, xhigh)\n",
    "pad2 = r.TPad(\"pad2\",\"\",0.5, 0.55, 0.945, 0.94,0,0,0)\n",
    "pad2.SetFillStyle(0)\n",
    "pad2.SetLineWidth(6)\n",
    "pad2.cd()\n",
    "gr2.Draw()\n",
    "\n",
    "c.cd(0)\n",
    "pad2.Draw()\n",
    "\n",
    "c.Draw()\n",
    "#c.Print(\"/home/jlab/GoogleDrive/Research/Conferences/oSTEM 2019/figures/fid_labounty.eps\")\n",
    "#c.Print(\"/home/jlab/GoogleDrive/Research/Conferences/oSTEM 2019/figures/fid_labounty.png\")"
   ]
  },
  {
   "cell_type": "markdown",
   "metadata": {},
   "source": [
    "---"
   ]
  },
  {
   "cell_type": "code",
   "execution_count": null,
   "metadata": {},
   "outputs": [],
   "source": [
    "fname = \"/home/jlab/GoogleDrive/Research/Conferences/oSTEM 2019/figures/poster/trackRecoPlots_15921_15991.root\"\n",
    "f = r.TFile(fname)\n",
    "f.ls()"
   ]
  },
  {
   "cell_type": "code",
   "execution_count": null,
   "metadata": {},
   "outputs": [],
   "source": [
    "h = f.Get(\"Extrapolation/vertices/allStations/h_vertexPosSpread\").Clone(\"h_BeamDist\")\n",
    "h.SetDirectory(0)"
   ]
  },
  {
   "cell_type": "code",
   "execution_count": null,
   "metadata": {},
   "outputs": [],
   "source": [
    "c = r.TCanvas(\"c\",\"c\",1050,1000)\n",
    "r.gPad.SetRightMargin(0.15)\n",
    "#r.gPad.SetLeftMargin(0.19)\n",
    "\n",
    "r.gStyle.SetPalette(112)\n",
    "r.gStyle.SetNumberContours(80)\n",
    "\n",
    "h.SetTitle(\"Reconstructed Beam Distribution from Straw Tracker; Radial Position [mm]; Vertical Position [mm]\")\n",
    "h.GetXaxis().SetRangeUser(-55,55)\n",
    "h.GetYaxis().SetRangeUser(-55,55)\n",
    "\n",
    "h.Draw(\"colz\")\n",
    "\n",
    "palette = h.GetListOfFunctions().FindObject(\"palette\")\n",
    "#palette.SetX1NDC(0.9);\n",
    "#palette.SetX2NDC(0.95);\n",
    "#palette.SetY1NDC(0.2);\n",
    "#palette.SetY2NDC(0.8);\n",
    "r.gPad.Modified();\n",
    "r.gPad.Update();\n",
    "\n",
    "\n",
    "storageregion = r.TEllipse(1.1,0,45,45)\n",
    "storageregion.SetFillColorAlpha(2,0)\n",
    "storageregion.SetLineColor(17)\n",
    "storageregion.SetLineWidth(2)\n",
    "storageregion.SetFillStyle(0)\n",
    "storageregion.Draw(\"SAME\")\n",
    "\n",
    "#c.SetLogz()\n",
    "c.Update()\n",
    "c.Draw()\n",
    "#c.Print(\"/home/jlab/GoogleDrive/Research/Conferences/oSTEM 2019/figures/trackerDistribution.png\")\n",
    "#c.Print(\"/home/jlab/GoogleDrive/Research/Conferences/oSTEM 2019/figures/trackerDistribution.eps\")"
   ]
  },
  {
   "cell_type": "markdown",
   "metadata": {},
   "source": [
    "---\n",
    "\n",
    "### lets see if theres a better E vs. t plot we can use"
   ]
  },
  {
   "cell_type": "code",
   "execution_count": 4,
   "metadata": {},
   "outputs": [],
   "source": [
    "f = r.TFile(\"./fitting/data/9Day539AClustersCoincidences.root\")\n",
    "h = f.Get(\"clustersAndCoincidences\").Get(\"clusters\").Clone()\n",
    "h.SetDirectory(0)\n",
    "\n",
    "h2 = h.Project3D(\"yx\").Clone(\"h2\")\n",
    "h2.Rebin2D(5,1)"
   ]
  },
  {
   "cell_type": "code",
   "execution_count": 22,
   "metadata": {},
   "outputs": [
    {
     "name": "stdout",
     "output_type": "stream",
     "text": [
      "5629 300\n"
     ]
    }
   ],
   "source": [
    "print(h2.GetXaxis().GetNbins(),h2.GetYaxis().GetNbins())"
   ]
  },
  {
   "cell_type": "code",
   "execution_count": 23,
   "metadata": {},
   "outputs": [
    {
     "name": "stderr",
     "output_type": "stream",
     "text": [
      "Warning in <TCanvas::Constructor>: Deleting canvas with same name: c\n"
     ]
    },
    {
     "data": {
      "image/png": "[encoded data removed]",
      "text/plain": [
       "<IPython.core.display.Image object>"
      ]
     },
     "metadata": {},
     "output_type": "display_data"
    }
   ],
   "source": [
    "c = r.TCanvas(\"c\",\"c\",)\n",
    "r.gStyle.SetPalette(112)\n",
    "r.gStyle.SetNumberContours(80)\n",
    "\n",
    "h2.GetYaxis().SetRangeUser(0,3200)\n",
    "h2.GetXaxis().SetRangeUser(0,100)\n",
    "h2.Draw(\"colz\")\n",
    "\n",
    "c.SetLogz()\n",
    "c.Draw()"
   ]
  },
  {
   "cell_type": "code",
   "execution_count": null,
   "metadata": {},
   "outputs": [],
   "source": []
  },
  {
   "cell_type": "code",
   "execution_count": null,
   "metadata": {},
   "outputs": [],
   "source": []
  }
 ],
 "metadata": {
  "kernelspec": {
   "display_name": "Python 3",
   "language": "python",
   "name": "python3"
  },
  "language_info": {
   "codemirror_mode": {
    "name": "ipython",
    "version": 3
   },
   "file_extension": ".py",
   "mimetype": "text/x-python",
   "name": "python",
   "nbconvert_exporter": "python",
   "pygments_lexer": "ipython3",
   "version": "3.6.8"
  }
 },
 "nbformat": 4,
 "nbformat_minor": 2
}
