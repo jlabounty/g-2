{
 "cells": [
  {
   "cell_type": "code",
   "execution_count": 1,
   "metadata": {},
   "outputs": [
    {
     "name": "stdout",
     "output_type": "stream",
     "text": [
      "Welcome to JupyROOT 6.12/06\n",
      "For interactive plots, run: setint()\n",
      "To return to non-interactive plots (default state), run: noint()\n"
     ]
    }
   ],
   "source": [
    "from standardInclude import *"
   ]
  },
  {
   "cell_type": "code",
   "execution_count": 3,
   "metadata": {},
   "outputs": [
    {
     "name": "stdout",
     "output_type": "stream",
     "text": [
      "samweb -e gm2 create-definition labounty_lostMuonsCalibrationRun3 \" ( ( run_number >= 29919 and run_number <= 29919 ) or ( run_number >= 29921 and run_number <= 29921 ) or ( run_number >= 29922 and run_number <= 29922 ) or ( run_number >= 29923 and run_number <= 29923 ) or ( run_number >= 29924 and run_number <= 29924 ) or ( run_number >= 29925 and run_number <= 29925 ) or ( run_number >= 29926 and run_number <= 29926 ) or ( run_number >= 29927 and run_number <= 29927 )  ) and data_tier raw \" \n"
     ]
    }
   ],
   "source": [
    "print( createSamDataset(\"labounty_lostMuonsCalibrationRun3\", [ 29919]+[x for x in range(29921,29928)]) )"
   ]
  },
  {
   "cell_type": "code",
   "execution_count": null,
   "metadata": {},
   "outputs": [],
   "source": []
  }
 ],
 "metadata": {
  "kernelspec": {
   "display_name": "Python 3",
   "language": "python",
   "name": "python3"
  },
  "language_info": {
   "codemirror_mode": {
    "name": "ipython",
    "version": 3
   },
   "file_extension": ".py",
   "mimetype": "text/x-python",
   "name": "python",
   "nbconvert_exporter": "python",
   "pygments_lexer": "ipython3",
   "version": "3.6.8"
  }
 },
 "nbformat": 4,
 "nbformat_minor": 2
}
