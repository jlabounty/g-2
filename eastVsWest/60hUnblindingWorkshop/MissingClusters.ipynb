{
 "cells": [
  {
   "cell_type": "code",
   "execution_count": 1,
   "metadata": {},
   "outputs": [
    {
     "name": "stdout",
     "output_type": "stream",
     "text": [
      "Welcome to JupyROOT 6.12/06\n"
     ]
    }
   ],
   "source": [
    "from evwTools import *"
   ]
  },
  {
   "cell_type": "code",
   "execution_count": 2,
   "metadata": {},
   "outputs": [
    {
     "name": "stdout",
     "output_type": "stream",
     "text": [
      "TFile**\t\t./data/gm2offline_full_16428610_15963.00151.root\t\n",
      " TFile*\t\t./data/gm2offline_full_16428610_15963.00151.root\t\n",
      "  KEY: TKey\tRootFileDB;1\tsqlite3 database file\n",
      "  KEY: TTree\tEvents;1\t\n",
      "  KEY: TTree\tEventMetaData;1\t\n",
      "  KEY: TTree\tSubRuns;1\t\n",
      "  KEY: TTree\tSubRunMetaData;1\t\n",
      "  KEY: TTree\tRuns;1\t\n",
      "  KEY: TTree\tRunMetaData;1\t\n",
      "  KEY: TTree\tResultsTree;1\t\n",
      "  KEY: TTree\tResultsMetaData;1\t\n",
      "  KEY: TTree\tMetaData;1\t\n",
      "  KEY: TTree\tFileIndex;1\t\n",
      "  KEY: TTree\tParentage;1\t\n",
      "  KEY: TTree\tEventHistory;1\t\n"
     ]
    },
    {
     "name": "stderr",
     "output_type": "stream",
     "text": [
      "Warning in <TClass::Init>: no dictionary for class art::EventAuxiliary is available\n",
      "Warning in <TClass::Init>: no dictionary for class art::EventID is available\n",
      "Warning in <TClass::Init>: no dictionary for class art::SubRunID is available\n",
      "Warning in <TClass::Init>: no dictionary for class art::RunID is available\n",
      "Warning in <TClass::Init>: no dictionary for class art::Timestamp is available\n",
      "Warning in <TClass::Init>: no dictionary for class art::SubRunAuxiliary is available\n",
      "Warning in <TClass::Init>: no dictionary for class art::Hash<2> is available\n",
      "Warning in <TClass::Init>: no dictionary for class art::RunAuxiliary is available\n",
      "Warning in <TClass::Init>: no dictionary for class art::ResultsAuxiliary is available\n",
      "Warning in <TClass::Init>: no dictionary for class art::History is available\n",
      "Warning in <TClass::Init>: no dictionary for class art::Wrapper<art::Assns<gm2strawtracker::StrawDigitArtRecord,gm2strawtracker::StrawDCADigitArtRecord,int> > is available\n",
      "Warning in <TClass::Init>: no dictionary for class art::EDProduct is available\n",
      "Warning in <TClass::Init>: no dictionary for class art::Assns<gm2strawtracker::StrawDigitArtRecord,gm2strawtracker::StrawDCADigitArtRecord,int> is available\n",
      "Warning in <TClass::Init>: no dictionary for class art::Assns<gm2strawtracker::StrawDigitArtRecord,gm2strawtracker::StrawDCADigitArtRecord,void> is available\n",
      "Warning in <TClass::Init>: no dictionary for class art::detail::AssnsBase is available\n",
      "Warning in <TClass::Init>: no dictionary for class art::Wrapper<art::Assns<gm2strawtracker::TrackCandidateArtRecord,gm2strawtracker::StrawDCADigitArtRecord,void> > is available\n",
      "Warning in <TClass::Init>: no dictionary for class art::Assns<gm2strawtracker::TrackCandidateArtRecord,gm2strawtracker::StrawDCADigitArtRecord,void> is available\n",
      "Warning in <TClass::Init>: no dictionary for class art::Wrapper<art::TriggerResults> is available\n",
      "Warning in <TClass::Init>: no dictionary for class art::TriggerResults is available\n",
      "Warning in <TClass::Init>: no dictionary for class art::HLTGlobalStatus is available\n",
      "Warning in <TClass::Init>: no dictionary for class fhicl::ParameterSetID is available\n",
      "Warning in <TClass::Init>: no dictionary for class art::Wrapper<double> is available\n",
      "Warning in <TClass::Init>: no dictionary for class art::Wrapper<gm2calo::CaloQHistArtRecord> is available\n",
      "Warning in <TClass::Init>: no dictionary for class gm2calo::CaloQHistArtRecord is available\n",
      "Warning in <TClass::Init>: no dictionary for class gm2calo::QHistArtRecord is available\n",
      "Warning in <TClass::Init>: no dictionary for class art::Ptr<gm2calo::AMCHeader> is available\n",
      "Warning in <TClass::Init>: no dictionary for class art::RefCore is available\n",
      "Warning in <TClass::Init>: no dictionary for class art::ProductID is available\n",
      "Warning in <TClass::Init>: no dictionary for class art::RefCore::RefCoreTransients is available\n",
      "Warning in <TClass::Init>: no dictionary for class art::Ptr<gm2calo::RiderChannelHeader> is available\n",
      "Warning in <TClass::Init>: no dictionary for class art::Wrapper<gm2calo::CaloRiderViewArtRecord> is available\n",
      "Warning in <TClass::Init>: no dictionary for class gm2calo::CaloRiderViewArtRecord is available\n",
      "Warning in <TClass::Init>: no dictionary for class art::PtrVector<gm2calo::RiderArtRecord> is available\n",
      "Warning in <TClass::Init>: no dictionary for class art::PtrVectorBase is available\n",
      "Warning in <TClass::Init>: no dictionary for class art::Wrapper<gm2common::GPSArtRecord> is available\n",
      "Warning in <TClass::Init>: no dictionary for class gm2common::GPSArtRecord is available\n",
      "Warning in <TClass::Init>: no dictionary for class art::Wrapper<vector<UnpackedEvent> > is available\n",
      "Warning in <TClass::Init>: no dictionary for class UnpackedEvent is available\n",
      "Warning in <TClass::Init>: no dictionary for class UnpackedEvent::Errors is available\n",
      "Warning in <TClass::Init>: no dictionary for class UnpackedEvent::Errors::NoData is available\n",
      "Warning in <TClass::Init>: no dictionary for class UnpackedEvent::AMC13Event is available\n",
      "Warning in <TClass::Init>: no dictionary for class FedAMC13::FedEvent::Info is available\n",
      "Warning in <TClass::Init>: no dictionary for class UnpackedEvent::AMC13Event::Errors is available\n",
      "Warning in <TClass::Init>: no dictionary for class UnpackedEvent::AMC13Event::Errors::AMC13ParseFailed is available\n",
      "Warning in <TClass::Init>: no dictionary for class UnpackedEvent::AMC13Event::Errors::AMC13Exception is available\n",
      "Warning in <TClass::Init>: no dictionary for class UnpackedEvent::AMC13Event::Errors::AMC13CRC is available\n",
      "Warning in <TClass::Init>: no dictionary for class UnpackedEvent::AMC13Event::Errors::AMCNotEnoughData is available\n",
      "Warning in <TClass::Init>: no dictionary for class UnpackedEvent::AMC13Event::Errors::AMCStaticValues is available\n",
      "Warning in <TClass::Init>: no dictionary for class UnpackedEvent::AMC13Event::Errors::AMCSpareWord is available\n",
      "Warning in <TClass::Init>: no dictionary for class UnpackedEvent::AMC13Event::Errors::AMCLeftoverData is available\n",
      "Warning in <TClass::Init>: no dictionary for class art::Wrapper<vector<gm2aux::IBMSBeamProfileArtRecord> > is available\n",
      "Warning in <TClass::Init>: no dictionary for class gm2aux::IBMSBeamProfileArtRecord is available\n",
      "Warning in <TClass::Init>: no dictionary for class art::Wrapper<vector<gm2aux::IBMSRawArtRecord> > is available\n",
      "Warning in <TClass::Init>: no dictionary for class gm2aux::IBMSRawArtRecord is available\n",
      "Warning in <TClass::Init>: no dictionary for class art::Wrapper<vector<gm2aux::KickerBazookaArtRecord> > is available\n",
      "Warning in <TClass::Init>: no dictionary for class gm2aux::KickerBazookaArtRecord is available\n",
      "Warning in <TClass::Init>: no dictionary for class art::Wrapper<vector<gm2aux::KickerIntegratedBazookaArtRecord> > is available\n",
      "Warning in <TClass::Init>: no dictionary for class gm2aux::KickerIntegratedBazookaArtRecord is available\n",
      "Warning in <TClass::Init>: no dictionary for class art::Wrapper<vector<gm2aux::KickerSecondaryVoltageArtRecord> > is available\n",
      "Warning in <TClass::Init>: no dictionary for class gm2aux::KickerSecondaryVoltageArtRecord is available\n",
      "Warning in <TClass::Init>: no dictionary for class art::Wrapper<vector<gm2aux::QIntegralArtRecord> > is available\n",
      "Warning in <TClass::Init>: no dictionary for class gm2aux::QIntegralArtRecord is available\n",
      "Warning in <TClass::Init>: no dictionary for class art::Wrapper<vector<gm2aux::QuadHVArtRecord> > is available\n",
      "Warning in <TClass::Init>: no dictionary for class gm2aux::QuadHVArtRecord is available\n",
      "Warning in <TClass::Init>: no dictionary for class art::Wrapper<vector<gm2aux::T0SyncPulseArtRecord> > is available\n",
      "Warning in <TClass::Init>: no dictionary for class gm2aux::T0SyncPulseArtRecord is available\n",
      "Warning in <TClass::Init>: no dictionary for class art::Ptr<gm2calo::RiderWaveformHeader> is available\n",
      "Warning in <TClass::Init>: no dictionary for class art::Ptr<gm2calo::IslandArtRecord> is available\n",
      "Warning in <TClass::Init>: no dictionary for class art::Wrapper<vector<gm2calo::AMCHeader> > is available\n",
      "Warning in <TClass::Init>: no dictionary for class gm2calo::AMCHeader is available\n",
      "Warning in <TClass::Init>: no dictionary for class art::Wrapper<vector<gm2calo::CDFHeader> > is available\n",
      "Warning in <TClass::Init>: no dictionary for class gm2calo::CDFHeader is available\n",
      "Warning in <TClass::Init>: no dictionary for class art::Wrapper<vector<gm2calo::CaloCPArtRecord> > is available\n",
      "Warning in <TClass::Init>: no dictionary for class gm2calo::CaloCPArtRecord is available\n",
      "Warning in <TClass::Init>: no dictionary for class art::Wrapper<vector<gm2calo::CaloCalibrationConstant> > is available\n",
      "Warning in <TClass::Init>: no dictionary for class gm2calo::CaloCalibrationConstant is available\n",
      "Warning in <TClass::Init>: no dictionary for class art::Wrapper<vector<gm2calo::CaloClusterViewArtRecord> > is available\n",
      "Warning in <TClass::Init>: no dictionary for class gm2calo::CaloClusterViewArtRecord is available\n",
      "Warning in <TClass::Init>: no dictionary for class art::PtrVector<gm2calo::ClusterArtRecord> is available\n",
      "Warning in <TClass::Init>: no dictionary for class art::Wrapper<vector<gm2calo::CaloCrystalHitViewArtRecord> > is available\n",
      "Warning in <TClass::Init>: no dictionary for class gm2calo::CaloCrystalHitViewArtRecord is available\n",
      "Warning in <TClass::Init>: no dictionary for class art::Wrapper<vector<gm2calo::CaloIslandViewArtRecord> > is available\n",
      "Warning in <TClass::Init>: no dictionary for class gm2calo::CaloIslandViewArtRecord is available\n",
      "Warning in <TClass::Init>: no dictionary for class art::Wrapper<vector<gm2calo::CaloQPedestalArtRecord> > is available\n",
      "Warning in <TClass::Init>: no dictionary for class gm2calo::CaloQPedestalArtRecord is available\n",
      "Warning in <TClass::Init>: no dictionary for class art::Wrapper<vector<gm2calo::CaloSplashArtRecord> > is available\n",
      "Warning in <TClass::Init>: no dictionary for class gm2calo::CaloSplashArtRecord is available\n",
      "Warning in <TClass::Init>: no dictionary for class art::Wrapper<vector<gm2calo::CaloSumArtRecord> > is available\n",
      "Warning in <TClass::Init>: no dictionary for class gm2calo::CaloSumArtRecord is available\n",
      "Warning in <TClass::Init>: no dictionary for class art::Wrapper<vector<gm2calo::ClusterArtRecord> > is available\n",
      "Warning in <TClass::Init>: no dictionary for class gm2calo::ClusterArtRecord is available\n",
      "Warning in <TClass::Init>: no dictionary for class art::PtrVector<gm2calo::CrystalHitArtRecord> is available\n",
      "Warning in <TClass::Init>: no dictionary for class art::Wrapper<vector<gm2calo::CrystalHitArtRecord> > is available\n",
      "Warning in <TClass::Init>: no dictionary for class gm2calo::CrystalHitArtRecord is available\n",
      "Warning in <TClass::Init>: no dictionary for class art::Ptr<gm2calo::CrystalHitArtRecord> is available\n",
      "Warning in <TClass::Init>: no dictionary for class art::Wrapper<vector<gm2calo::GpuCTagArtRecord> > is available\n",
      "Warning in <TClass::Init>: no dictionary for class gm2calo::GpuCTagArtRecord is available\n",
      "Warning in <TClass::Init>: no dictionary for class art::Wrapper<vector<gm2calo::IslandArtRecord> > is available\n",
      "Warning in <TClass::Init>: no dictionary for class gm2calo::IslandArtRecord is available\n",
      "Warning in <TClass::Init>: no dictionary for class art::Wrapper<vector<gm2calo::LaserEventArtRecord> > is available\n",
      "Warning in <TClass::Init>: no dictionary for class gm2calo::LaserEventArtRecord is available\n",
      "Warning in <TClass::Init>: no dictionary for class art::Ptr<gm2calo::LaserFillInfoArtRecord> is available\n",
      "Warning in <TClass::Init>: no dictionary for class art::Ptr<gm2calo::LaserConfigArtRecord> is available\n",
      "Warning in <TClass::Init>: no dictionary for class art::Ptr<gm2calo::LaserMonitorArtRecord> is available\n",
      "Warning in <TClass::Init>: no dictionary for class art::Wrapper<vector<gm2calo::LaserFillInfoArtRecord> > is available\n",
      "Warning in <TClass::Init>: no dictionary for class gm2calo::LaserFillInfoArtRecord is available\n",
      "Warning in <TClass::Init>: no dictionary for class art::Wrapper<vector<gm2calo::LaserMonitorArtRecord> > is available\n",
      "Warning in <TClass::Init>: no dictionary for class gm2calo::LaserMonitorArtRecord is available\n",
      "Warning in <TClass::Init>: no dictionary for class art::Ptr<gm2calo::RiderArtRecord> is available\n",
      "Warning in <TClass::Init>: no dictionary for class art::Wrapper<vector<gm2calo::RiderAsyncChannelHeader> > is available\n",
      "Warning in <TClass::Init>: no dictionary for class gm2calo::RiderAsyncChannelHeader is available\n",
      "Warning in <TClass::Init>: no dictionary for class art::Wrapper<vector<gm2calo::RiderAsyncWaveformHeader> > is available\n",
      "Warning in <TClass::Init>: no dictionary for class gm2calo::RiderAsyncWaveformHeader is available\n",
      "Warning in <TClass::Init>: no dictionary for class art::Wrapper<vector<gm2calo::RiderChannelHeader> > is available\n",
      "Warning in <TClass::Init>: no dictionary for class gm2calo::RiderChannelHeader is available\n",
      "Warning in <TClass::Init>: no dictionary for class art::Wrapper<vector<gm2calo::RiderWaveformHeader> > is available\n",
      "Warning in <TClass::Init>: no dictionary for class gm2calo::RiderWaveformHeader is available\n",
      "Warning in <TClass::Init>: no dictionary for class art::Wrapper<vector<gm2ccc::EncoderFC7ArtRecord> > is available\n",
      "Warning in <TClass::Init>: no dictionary for class gm2ccc::EncoderFC7ArtRecord is available\n",
      "Warning in <TClass::Init>: no dictionary for class gm2ccc::FC7Header is available\n",
      "Warning in <TClass::Init>: no dictionary for class art::Wrapper<vector<gm2ccc::FanoutFC7ArtRecord> > is available\n",
      "Warning in <TClass::Init>: no dictionary for class gm2ccc::FanoutFC7ArtRecord is available\n",
      "Warning in <TClass::Init>: no dictionary for class art::Wrapper<vector<gm2ccc::TriggerFC7ArtRecord> > is available\n",
      "Warning in <TClass::Init>: no dictionary for class gm2ccc::TriggerFC7ArtRecord is available\n",
      "Warning in <TClass::Init>: no dictionary for class art::Wrapper<vector<gm2midastoart::MidasEventHeaderArtRecord> > is available\n",
      "Warning in <TClass::Init>: no dictionary for class gm2midastoart::MidasEventHeaderArtRecord is available\n",
      "Warning in <TClass::Init>: no dictionary for class art::Wrapper<vector<gm2reconeast::BSTCorrectionArtRecord> > is available\n",
      "Warning in <TClass::Init>: no dictionary for class gm2reconeast::BSTCorrectionArtRecord is available\n",
      "Warning in <TClass::Init>: no dictionary for class gm2reconeast::TimeCorrection is available\n",
      "Warning in <TClass::Init>: no dictionary for class art::Wrapper<vector<gm2reconeast::CaloGlobalFitViewArtRecord> > is available\n",
      "Warning in <TClass::Init>: no dictionary for class gm2reconeast::CaloGlobalFitViewArtRecord is available\n",
      "Warning in <TClass::Init>: no dictionary for class art::PtrVector<gm2reconeast::GlobalFitArtRecord> is available\n",
      "Warning in <TClass::Init>: no dictionary for class art::Wrapper<vector<gm2reconeast::GlobalFitArtRecord> > is available\n",
      "Warning in <TClass::Init>: no dictionary for class gm2reconeast::GlobalFitArtRecord is available\n",
      "Warning in <TClass::Init>: no dictionary for class art::Wrapper<vector<gm2strawtracker::DecayVertexArtRecord> > is available\n",
      "Warning in <TClass::Init>: no dictionary for class gm2strawtracker::DecayVertexArtRecord is available\n",
      "Warning in <TClass::Init>: no dictionary for class gm2strawtracker::DecayVertexMC is available\n",
      "Warning in <TClass::Init>: no dictionary for class CLHEP::Hep3Vector is available\n",
      "Warning in <TClass::Init>: no dictionary for class art::Ptr<gm2strawtracker::StrawTimeIslandArtRecord> is available\n",
      "Warning in <TClass::Init>: no dictionary for class art::Ptr<gm2strawtracker::TrackArtRecord> is available\n",
      "Warning in <TClass::Init>: no dictionary for class gm2geom::CoordSystem3Vector is available\n",
      "Warning in <TClass::Init>: no dictionary for class art::Wrapper<vector<gm2strawtracker::StrawClusterArtRecord> > is available\n",
      "Warning in <TClass::Init>: no dictionary for class gm2strawtracker::StrawClusterArtRecord is available\n",
      "Warning in <TClass::Init>: no dictionary for class art::Wrapper<vector<gm2strawtracker::StrawDCADigitArtRecord> > is available\n",
      "Warning in <TClass::Init>: no dictionary for class gm2strawtracker::StrawDCADigitArtRecord is available\n",
      "Warning in <TClass::Init>: no dictionary for class art::Ptr<gm2strawtracker::StrawDigitArtRecord> is available\n",
      "Warning in <TClass::Init>: no dictionary for class art::Wrapper<vector<gm2strawtracker::StrawDigitArtRecord> > is available\n",
      "Warning in <TClass::Init>: no dictionary for class gm2strawtracker::StrawDigitArtRecord is available\n",
      "Warning in <TClass::Init>: no dictionary for class gm2strawtracker::StrawMCDigit is available\n",
      "Warning in <TClass::Init>: no dictionary for class art::Ptr<gm2strawtracker::StrawRawDigitArtRecord> is available\n",
      "Warning in <TClass::Init>: no dictionary for class gm2strawtracker::WireID is available\n",
      "Warning in <TClass::Init>: no dictionary for class art::Wrapper<vector<gm2strawtracker::StrawRawDigitArtRecord> > is available\n",
      "Warning in <TClass::Init>: no dictionary for class gm2strawtracker::StrawRawDigitArtRecord is available\n",
      "Warning in <TClass::Init>: no dictionary for class gm2strawtracker::StrawRawDigitArtRecord::ChannelID is available\n",
      "Warning in <TClass::Init>: no dictionary for class gm2strawtracker::StrawRawDigitArtRecord::TDCID is available\n",
      "Warning in <TClass::Init>: no dictionary for class gm2strawtracker::StrawRawDigitArtRecord::LogicBoardID is available\n",
      "Warning in <TClass::Init>: no dictionary for class gm2strawtracker::StrawRawDigitArtRecord::FC7ID is available\n",
      "Warning in <TClass::Init>: no dictionary for class gm2strawtracker::StrawRawDigitArtRecord::AMC13ID is available\n",
      "Warning in <TClass::Init>: no dictionary for class art::Wrapper<vector<gm2strawtracker::StrawSeedArtRecord> > is available\n",
      "Warning in <TClass::Init>: no dictionary for class gm2strawtracker::StrawSeedArtRecord is available\n",
      "Warning in <TClass::Init>: no dictionary for class gm2strawtracker::SeedNode is available\n",
      "Warning in <TClass::Init>: no dictionary for class art::Assns<gm2strawtracker::StrawDigitArtRecord,gm2strawtracker::StrawClusterArtRecord,void> is available\n",
      "Warning in <TClass::Init>: no dictionary for class art::Wrapper<vector<gm2strawtracker::StrawTimeIslandArtRecord> > is available\n",
      "Warning in <TClass::Init>: no dictionary for class gm2strawtracker::StrawTimeIslandArtRecord is available\n",
      "Warning in <TClass::Init>: no dictionary for class art::Wrapper<vector<gm2strawtracker::TrackArtRecord> > is available\n",
      "Warning in <TClass::Init>: no dictionary for class gm2strawtracker::TrackArtRecord is available\n",
      "Warning in <TClass::Init>: no dictionary for class art::Ptr<gm2strawtracker::TrackCandidateArtRecord> is available\n",
      "Warning in <TClass::Init>: no dictionary for class gm2strawtracker::TrackStates is available\n",
      "Warning in <TClass::Init>: no dictionary for class gm2strawtracker::GEANEHits is available\n",
      "Warning in <TClass::Init>: no dictionary for class art::Wrapper<vector<gm2strawtracker::TrackCandidateArtRecord> > is available\n",
      "Warning in <TClass::Init>: no dictionary for class gm2strawtracker::TrackCandidateArtRecord is available\n",
      "Warning in <TClass::Init>: no dictionary for class gm2strawtracker::GeaneState is available\n",
      "Warning in <TClass::Init>: no dictionary for class gm2strawtracker::Circle is available\n",
      "Warning in <TClass::Init>: no dictionary for class gm2strawtracker::Helix is available\n",
      "Warning in <TClass::Init>: no dictionary for class gm2strawtracker::Line is available\n",
      "Warning in <TClass::Init>: no dictionary for class gm2strawtracker::ValueWithError is available\n",
      "Warning in <TClass::Init>: no dictionary for class art::Wrapper<unsigned int> is available\n",
      "Warning in <TClass::Init>: no dictionary for class art::Wrapper<gm2calo::LaserConfigArtRecord> is available\n",
      "Warning in <TClass::Init>: no dictionary for class gm2calo::LaserConfigArtRecord is available\n",
      "Warning in <TClass::Init>: no dictionary for class art::Wrapper<vector<gm2calo::CaloDeciQHistArtRecord> > is available\n",
      "Warning in <TClass::Init>: no dictionary for class gm2calo::CaloDeciQHistArtRecord is available\n",
      "Warning in <TClass::Init>: no dictionary for class art::Wrapper<vector<gm2calo::OutOfFillArtRecord> > is available\n",
      "Warning in <TClass::Init>: no dictionary for class gm2calo::OutOfFillArtRecord is available\n",
      "Warning in <TClass::Init>: no dictionary for class art::Wrapper<gm2geom::CoordSystemsStoreData> is available\n",
      "Warning in <TClass::Init>: no dictionary for class gm2geom::CoordSystemsStoreData is available\n",
      "Warning in <TClass::Init>: no dictionary for class gm2geom::CoordSystem is available\n",
      "Warning in <TClass::Init>: no dictionary for class CLHEP::HepRotation is available\n",
      "Warning in <TClass::Init>: no dictionary for class art::Wrapper<vector<gm2midastoart::MidasODBArtRecord> > is available\n",
      "Warning in <TClass::Init>: no dictionary for class gm2midastoart::MidasODBArtRecord is available\n",
      "Warning in <TClass::Init>: no dictionary for class art::ProductProvenance is available\n",
      "Warning in <TClass::Init>: no dictionary for class art::Hash<5> is available\n",
      "Warning in <TClass::Init>: no dictionary for class art::Transient<art::ProductProvenance::Transients> is available\n",
      "Warning in <TClass::Init>: no dictionary for class pair<art::RefCore,unsigned long> is available\n",
      "Warning in <TClass::Init>: no dictionary for class art::HLTPathStatus is available\n",
      "Warning in <TClass::Init>: no dictionary for class FedAMC13::FedAMC::Info is available\n",
      "Warning in <TClass::Init>: no dictionary for class FC7Event is available\n",
      "Warning in <TClass::Init>: no dictionary for class FC7Event::Header is available\n",
      "Warning in <TClass::Init>: no dictionary for class FC7Event::Header::Errors is available\n",
      "Warning in <TClass::Init>: no dictionary for class FC7Event::Header::Errors::NotEnoughData is available\n",
      "Warning in <TClass::Init>: no dictionary for class FC7Event::Header::Errors::StaticValues is available\n",
      "Warning in <TClass::Init>: no dictionary for class FC7Event::Header::Errors::EventNumOOS is available\n",
      "Warning in <TClass::Init>: no dictionary for class FC7Event::Header::Errors::ChannelNotPresent is available\n",
      "Warning in <TClass::Init>: no dictionary for class FC7Event::Header::Errors::ChannelMissing is available\n",
      "Warning in <TClass::Init>: no dictionary for class FC7Event::Header::Errors::NumTriggersAndEventsMismatch is available\n",
      "Warning in <TClass::Init>: no dictionary for class FC7Event::Channel is available\n",
      "Warning in <TClass::Init>: no dictionary for class FC7Event::Errors is available\n",
      "Warning in <TClass::Init>: no dictionary for class FC7Event::Errors::NotEnoughData is available\n",
      "Warning in <TClass::Init>: no dictionary for class FC7Event::Errors::LeftoverData is available\n",
      "Warning in <TClass::Init>: no dictionary for class gm2calo::PedestalArtRecord is available\n",
      "Warning in <TClass::Init>: no dictionary for class gm2calo::MatrixCrystalHitViewArtRecord is available\n",
      "Warning in <TClass::Init>: no dictionary for class gm2calo::MatrixIslandViewArtRecord is available\n",
      "Warning in <TClass::Init>: no dictionary for class gm2calo::QPedestalArtRecord is available\n",
      "Warning in <TClass::Init>: no dictionary for class gm2ccc::TriggerFC7Pulse is available\n",
      "Warning in <TClass::Init>: no dictionary for class gm2reconeast::CrystalFitArtRecord is available\n",
      "Warning in <TClass::Init>: no dictionary for class art::Ptr<gm2strawtracker::StrawClusterArtRecord> is available\n",
      "Warning in <TClass::Init>: no dictionary for class art::Ptr<gm2strawtracker::StrawDCADigitArtRecord> is available\n",
      "Warning in <TClass::Init>: no dictionary for class art::Ptr<gm2strawtracker::StrawSeedArtRecord> is available\n",
      "Warning in <TClass::Init>: no dictionary for class FC7Event::Channel::Header is available\n",
      "Warning in <TClass::Init>: no dictionary for class FC7Event::Channel::Header::Errors is available\n",
      "Warning in <TClass::Init>: no dictionary for class FC7Event::Channel::Header::Errors::NotEnoughData is available\n",
      "Warning in <TClass::Init>: no dictionary for class FC7Event::Channel::Header::Errors::EventNumOOS is available\n",
      "Warning in <TClass::Init>: no dictionary for class LogicBoardEvent is available\n",
      "Warning in <TClass::Init>: no dictionary for class LogicBoardEvent::Header is available\n",
      "Warning in <TClass::Init>: no dictionary for class LogicBoardEvent::Header::Errors is available\n",
      "Warning in <TClass::Init>: no dictionary for class LogicBoardEvent::Header::Errors::NotEnoughData is available\n",
      "Warning in <TClass::Init>: no dictionary for class LogicBoardEvent::Header::Errors::StaticValues is available\n",
      "Warning in <TClass::Init>: no dictionary for class LogicBoardEvent::Header::Errors::VoidWord is available\n",
      "Warning in <TClass::Init>: no dictionary for class LogicBoardEvent::Header::Errors::NumTDCsMismatch is available\n",
      "Warning in <TClass::Init>: no dictionary for class LogicBoardEvent::Header::Errors::DataFromDisabledTDC is available\n",
      "Warning in <TClass::Init>: no dictionary for class LogicBoardEvent::Header::Errors::TDCSizeMismatch is available\n",
      "Warning in <TClass::Init>: no dictionary for class LogicBoardEvent::Header::Errors::EventNumOOS is available\n",
      "Warning in <TClass::Init>: no dictionary for class LogicBoardEvent::Footer is available\n",
      "Warning in <TClass::Init>: no dictionary for class LogicBoardEvent::Footer::Errors is available\n",
      "Warning in <TClass::Init>: no dictionary for class LogicBoardEvent::Footer::Errors::NotEnoughData is available\n",
      "Warning in <TClass::Init>: no dictionary for class LogicBoardEvent::Footer::Errors::StaticValues is available\n",
      "Warning in <TClass::Init>: no dictionary for class LogicBoardEvent::Footer::Errors::VoidWord is available\n",
      "Warning in <TClass::Init>: no dictionary for class TDCEvent is available\n",
      "Warning in <TClass::Init>: no dictionary for class TDCEvent::Hit is available\n",
      "Warning in <TClass::Init>: no dictionary for class TDCEvent::Errors is available\n",
      "Warning in <TClass::Init>: no dictionary for class TDCEvent::Errors::NotEnoughData is available\n",
      "Warning in <TClass::Init>: no dictionary for class TDCEvent::Errors::StaticValues is available\n",
      "Warning in <TClass::Init>: no dictionary for class TDCEvent::Errors::UnpackedSize is available\n",
      "Warning in <TClass::Init>: no dictionary for class TDCEvent::Errors::VoidWord is available\n",
      "Warning in <TClass::Init>: no dictionary for class TDCEvent::Errors::HitOrder is available\n",
      "Warning in <TClass::Init>: no dictionary for class TDCEvent::Errors::HitInMaskedChannel is available\n",
      "Warning in <TClass::Init>: no dictionary for class TDCEvent::Errors::EventNumOOS is available\n",
      "Warning in <TClass::Init>: no dictionary for class TDCEvent::Errors::NumHitsMismatch is available\n",
      "Warning in <TClass::Init>: no dictionary for class LogicBoardEvent::Errors is available\n",
      "Warning in <TClass::Init>: no dictionary for class LogicBoardEvent::Errors::SizeWord is available\n",
      "Warning in <TClass::Init>: no dictionary for class LogicBoardEvent::Errors::UnpackedSize is available\n",
      "Warning in <TClass::Init>: no dictionary for class LogicBoardEvent::Errors::SizeMismatch is available\n",
      "Warning in <TClass::Init>: no dictionary for class FC7Event::Channel::Errors is available\n",
      "Warning in <TClass::Init>: no dictionary for class FC7Event::Channel::Errors::NotEnoughData is available\n",
      "Warning in <TClass::Init>: no dictionary for class FC7Event::Channel::Errors::LBSizeMismatch is available\n",
      "Warning in <TClass::Init>: no dictionary for class art::PtrVector<gm2calo::IslandArtRecord> is available\n",
      "Warning in <TClass::Init>: no dictionary for class gm2calo::DeciQHistArtRecord is available\n",
      "Warning in <TClass::Init>: no dictionary for class art::FileFormatVersion is available\n",
      "Warning in <TClass::Init>: no dictionary for class art::FileIndex::Element is available\n",
      "Warning in <TClass::Init>: no dictionary for class art::ProcessHistory is available\n",
      "Warning in <TClass::Init>: no dictionary for class art::ProcessConfiguration is available\n",
      "Warning in <TClass::Init>: no dictionary for class art::Transient<art::ProcessHistory::Transients> is available\n",
      "Warning in <TClass::Init>: no dictionary for class art::ProductRegistry is available\n",
      "Warning in <TClass::Init>: no dictionary for class art::BranchKey is available\n",
      "Warning in <TClass::Init>: no dictionary for class art::BranchDescription is available\n",
      "Warning in <TClass::Init>: no dictionary for class art::Hash<3> is available\n",
      "Warning in <TClass::Init>: no dictionary for class art::Transient<art::BranchDescription::Transients> is available\n",
      "Warning in <TClass::Init>: no dictionary for class art::Parentage is available\n",
      "Warning in <TClass::Init>: no dictionary for class art::BranchChildren is available\n"
     ]
    }
   ],
   "source": [
    "f = r.TFile(\"./data/gm2offline_full_16428610_15963.00151.root\")\n",
    "f.ls()"
   ]
  },
  {
   "cell_type": "code",
   "execution_count": 3,
   "metadata": {},
   "outputs": [],
   "source": [
    "t = f.Get(\"Events\")"
   ]
  },
  {
   "cell_type": "raw",
   "metadata": {},
   "source": [
    "t.Print()"
   ]
  },
  {
   "cell_type": "code",
   "execution_count": 4,
   "metadata": {},
   "outputs": [
    {
     "data": {
      "image/png": "[encoded data removed]",
      "text/plain": [
       "<IPython.core.display.Image object>"
      ]
     },
     "metadata": {},
     "output_type": "display_data"
    }
   ],
   "source": [
    "c = r.TCanvas()\n",
    "t.Draw(\"gm2reconeast::GlobalFitArtRecords_caloTimeAlignment_corrector_offline.obj.islandIndex\")\n",
    "c.Draw()"
   ]
  },
  {
   "cell_type": "code",
   "execution_count": 5,
   "metadata": {},
   "outputs": [
    {
     "data": {
      "image/png": "[encoded data removed]",
      "text/plain": [
       "<IPython.core.display.Image object>"
      ]
     },
     "metadata": {},
     "output_type": "display_data"
    }
   ],
   "source": [
    "c = r.TCanvas()\n",
    "condition = ( \"gm2reconeast::GlobalFitArtRecords_caloTimeAlignment_corrector_offline.obj.islandIndex == 94 && \"\n",
    "             + \"gm2reconeast::GlobalFitArtRecords_caloTimeAlignment_corrector_offline.obj.fillIndex == 142 && \"\n",
    "             + \"gm2reconeast::GlobalFitArtRecords_caloTimeAlignment_corrector_offline.obj.calorimeterIndex == 19 \"\n",
    "            )\n",
    "#fillIndex_ == 142 && calorimeterIndex_ == 19 && islandIndex_ == 94\n",
    "t.Draw(\"gm2reconeast::GlobalFitArtRecords_caloTimeAlignment_corrector_offline.obj.energy\",condition)\n",
    "c.Draw()"
   ]
  },
  {
   "cell_type": "code",
   "execution_count": 6,
   "metadata": {},
   "outputs": [
    {
     "data": {
      "image/png": "[encoded data removed]",
      "text/plain": [
       "<IPython.core.display.Image object>"
      ]
     },
     "metadata": {},
     "output_type": "display_data"
    }
   ],
   "source": [
    "c = r.TCanvas()\n",
    "condition = ( \"gm2reconeast::GlobalFitArtRecords_energyPartition_partition_offline.obj.islandIndex == 94 && \"\n",
    "             + \"gm2reconeast::GlobalFitArtRecords_energyPartition_partition_offline.obj.fillIndex == 142 && \"\n",
    "             + \"gm2reconeast::GlobalFitArtRecords_energyPartition_partition_offline.obj.calorimeterIndex == 19 \"\n",
    "            )\n",
    "#fillIndex_ == 142 && calorimeterIndex_ == 19 && islandIndex_ == 94\n",
    "t.Draw(\"gm2reconeast::GlobalFitArtRecords_energyPartition_partition_offline.obj.energy\",condition)\n",
    "c.Draw()"
   ]
  },
  {
   "cell_type": "code",
   "execution_count": null,
   "metadata": {},
   "outputs": [],
   "source": []
  },
  {
   "cell_type": "code",
   "execution_count": 8,
   "metadata": {},
   "outputs": [
    {
     "data": {
      "image/png": "[encoded data removed]",
      "text/plain": [
       "<IPython.core.display.Image object>"
      ]
     },
     "metadata": {},
     "output_type": "display_data"
    }
   ],
   "source": [
    "c = r.TCanvas()\n",
    "t.Draw(\"gm2calo::CrystalHitArtRecords_energyCalibratorDAQ_calibrator_offline.obj.chi2\")\n",
    "c.SetLogy()\n",
    "c.Draw()"
   ]
  },
  {
   "cell_type": "code",
   "execution_count": null,
   "metadata": {},
   "outputs": [],
   "source": []
  }
 ],
 "metadata": {
  "kernelspec": {
   "display_name": "Python 3",
   "language": "python",
   "name": "python3"
  },
  "language_info": {
   "codemirror_mode": {
    "name": "ipython",
    "version": 3
   },
   "file_extension": ".py",
   "mimetype": "text/x-python",
   "name": "python",
   "nbconvert_exporter": "python",
   "pygments_lexer": "ipython3",
   "version": "3.6.8"
  }
 },
 "nbformat": 4,
 "nbformat_minor": 2
}
