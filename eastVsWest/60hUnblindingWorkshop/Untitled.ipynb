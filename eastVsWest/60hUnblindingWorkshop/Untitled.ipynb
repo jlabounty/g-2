{
 "cells": [
  {
   "cell_type": "code",
   "execution_count": 39,
   "metadata": {},
   "outputs": [],
   "source": [
    "#General imports.\n",
    "\n",
    "%matplotlib inline\n",
    "import mpld3\n",
    "mpld3.enable_notebook()\n",
    "import matplotlib.pyplot as plt\n",
    "import matplotlib \n",
    "#matplotlib.rc('xtick', labelsize=20) \n",
    "#matplotlib.rc('ytick', labelsize=20)\n",
    "def setint():\n",
    "    mpld3.enable_notebook()\n",
    "    matplotlib.rc('xtick', labelsize=10) \n",
    "    matplotlib.rc('ytick', labelsize=10)\n",
    "def noint():\n",
    "    mpld3.disable_notebook()\n",
    "    matplotlib.rc('xtick', labelsize=20) \n",
    "    matplotlib.rc('ytick', labelsize=20)\n",
    "\n",
    "\n",
    "import ROOT as r\n",
    "r.gStyle.SetOptStat(0)\n",
    "r.gStyle.SetOptFit(1111)\n",
    "import math\n",
    "from BlindersPy3 import Blinders\n",
    "from BlindersPy3 import FitType\n",
    "import csv\n",
    "import pandas\n",
    "\n",
    "#import seaborn as sns\n",
    "#sns.set(style=\"ticks\", color_codes=True)\n",
    "import numpy as np\n",
    "import os\n",
    "import scipy\n",
    "\n",
    "import uproot # https://indico.cern.ch/event/686641/contributions/2894906/attachments/1606247/2548596/pivarski-uproot.pdf\n",
    "from awkward import JaggedArray\n",
    "from root_pandas import read_root # https://github.com/scikit-hep/root_pandas\n",
    "\n",
    "import warnings\n",
    "warnings.filterwarnings('once')\n",
    "\n",
    "plt.rcParams['figure.facecolor'] = 'white'\n",
    "\n",
    "def toast(text):\n",
    "    if(len(str(text)) > 100):\n",
    "        text = str(text)[:100]+\" ...\"\n",
    "        print(text)\n",
    "    status = os.system(\"powershell.exe -Command 'New-BurntToastNotification -Text \\\"\"+str(text)+\"\\\"'\")\n",
    "    if(status == 0):\n",
    "        print(\"Toast Notification Sent\")\n",
    "    else:\n",
    "        print(\"ERROR: Unable to send toast with message \", text)\n",
    "\n",
    "noint()"
   ]
  },
  {
   "cell_type": "code",
   "execution_count": 40,
   "metadata": {},
   "outputs": [],
   "source": [
    "f = r.TFile(\"./gm2offline_ana.root\")"
   ]
  },
  {
   "cell_type": "code",
   "execution_count": 41,
   "metadata": {},
   "outputs": [
    {
     "name": "stdout",
     "output_type": "stream",
     "text": [
      "******************************************************************************\n",
      "*Tree    :eastTree  : eastTree                                               *\n",
      "*Entries :   212817 : Total =        50341140 bytes  File  Size =   17289555 *\n",
      "*        :          : Tree compression factor =   2.91                       *\n",
      "******************************************************************************\n",
      "*Br    0 :runNum    : runNum/i                                               *\n",
      "*Entries :   212817 : Total  Size=     854196 bytes  File Size  =       7239 *\n",
      "*Baskets :       27 : Basket Size=      32000 bytes  Compression= 117.88     *\n",
      "*............................................................................*\n",
      "*Br    1 :subRunNum : subRunNum/i                                            *\n",
      "*Entries :   212817 : Total  Size=     854289 bytes  File Size  =       7294 *\n",
      "*Baskets :       27 : Basket Size=      32000 bytes  Compression= 117.00     *\n",
      "*............................................................................*\n",
      "*Br    2 :eventNum  : eventNum/i                                             *\n",
      "*Entries :   212817 : Total  Size=     854258 bytes  File Size  =       7659 *\n",
      "*Baskets :       27 : Basket Size=      32000 bytes  Compression= 111.42     *\n",
      "*............................................................................*\n",
      "*Br    3 :fillIndex : fillIndex/I                                            *\n",
      "*Entries :   212817 : Total  Size=     854289 bytes  File Size  =       7685 *\n",
      "*Baskets :       27 : Basket Size=      32000 bytes  Compression= 111.05     *\n",
      "*............................................................................*\n",
      "*Br    4 :islandIndex : islandIndex/I                                        *\n",
      "*Entries :   212817 : Total  Size=     854351 bytes  File Size  =     302781 *\n",
      "*Baskets :       27 : Basket Size=      32000 bytes  Compression=   2.82     *\n",
      "*............................................................................*\n",
      "*Br    5 :calorimeterIndex : calorimeterIndex/I                              *\n",
      "*Entries :   212817 : Total  Size=     854506 bytes  File Size  =      14485 *\n",
      "*Baskets :       27 : Basket Size=      32000 bytes  Compression=  58.93     *\n",
      "*............................................................................*\n",
      "*Br    6 :partitionIndex : partitionIndex/I                                  *\n",
      "*Entries :   212817 : Total  Size=     854444 bytes  File Size  =      20716 *\n",
      "*Baskets :       27 : Basket Size=      32000 bytes  Compression=  41.20     *\n",
      "*............................................................................*\n",
      "*Br    7 :chainIndex : chainIndex/I                                          *\n",
      "*Entries :   212817 : Total  Size=     854320 bytes  File Size  =      53195 *\n",
      "*Baskets :       27 : Basket Size=      32000 bytes  Compression=  16.04     *\n",
      "*............................................................................*\n",
      "*Br    8 :flagged   : flagged/O                                              *\n",
      "*Entries :   212817 : Total  Size=     213850 bytes  File Size  =       1703 *\n",
      "*Baskets :        7 : Basket Size=      32000 bytes  Compression= 125.29     *\n",
      "*............................................................................*\n",
      "*Br    9 :valid     : valid/O                                                *\n",
      "*Entries :   212817 : Total  Size=     213828 bytes  File Size  =       1697 *\n",
      "*Baskets :        7 : Basket Size=      32000 bytes  Compression= 125.72     *\n",
      "*............................................................................*\n",
      "*Br   10 :chiSquared : chiSquared/D                                          *\n",
      "*Entries :   212817 : Total  Size=    1708323 bytes  File Size  =    1420220 *\n",
      "*Baskets :       54 : Basket Size=      32000 bytes  Compression=   1.20     *\n",
      "*............................................................................*\n",
      "*Br   11 :degreesOfFreedom : degreesOfFreedom/I                              *\n",
      "*Entries :   212817 : Total  Size=     854506 bytes  File Size  =     203689 *\n",
      "*Baskets :       27 : Basket Size=      32000 bytes  Compression=   4.19     *\n",
      "*............................................................................*\n",
      "*Br   12 :functionCalls : functionCalls/I                                    *\n",
      "*Entries :   212817 : Total  Size=     854413 bytes  File Size  =     118409 *\n",
      "*Baskets :       27 : Basket Size=      32000 bytes  Compression=   7.21     *\n",
      "*............................................................................*\n",
      "*Br   13 :edm       : edm/D                                                  *\n",
      "*Entries :   212817 : Total  Size=    1707917 bytes  File Size  =    1437934 *\n",
      "*Baskets :       54 : Basket Size=      32000 bytes  Compression=   1.19     *\n",
      "*............................................................................*\n",
      "*Br   14 :reachedCallLimit : reachedCallLimit/O                              *\n",
      "*Entries :   212817 : Total  Size=     213949 bytes  File Size  =       1766 *\n",
      "*Baskets :        7 : Basket Size=      32000 bytes  Compression= 120.85     *\n",
      "*............................................................................*\n",
      "*Br   15 :aboveMaxEdm : aboveMaxEdm/O                                        *\n",
      "*Entries :   212817 : Total  Size=     213894 bytes  File Size  =       1738 *\n",
      "*Baskets :        7 : Basket Size=      32000 bytes  Compression= 122.78     *\n",
      "*............................................................................*\n",
      "*Br   16 :covarianceStatus : covarianceStatus/I                              *\n",
      "*Entries :   212817 : Total  Size=     854506 bytes  File Size  =       7893 *\n",
      "*Baskets :       27 : Basket Size=      32000 bytes  Compression= 108.15     *\n",
      "*............................................................................*\n",
      "*Br   17 :time      : time/D                                                 *\n",
      "*Entries :   212817 : Total  Size=    1707975 bytes  File Size  =    1603949 *\n",
      "*Baskets :       54 : Basket Size=      32000 bytes  Compression=   1.06     *\n",
      "*............................................................................*\n",
      "*Br   18 :energy    : energy/D                                               *\n",
      "*Entries :   212817 : Total  Size=    1708091 bytes  File Size  =    1620913 *\n",
      "*Baskets :       54 : Basket Size=      32000 bytes  Compression=   1.05     *\n",
      "*............................................................................*\n",
      "*Br   19 :centralCrystals : vector<int>                                      *\n",
      "*Entries :   212817 : Total  Size=    3850337 bytes  File Size  =     775254 *\n",
      "*Baskets :      147 : Basket Size=      32000 bytes  Compression=   4.96     *\n",
      "*............................................................................*\n",
      "*Br   20 :negativePeaks : vector<double>                                     *\n",
      "*Entries :   212817 : Total  Size=    4706851 bytes  File Size  =    2186330 *\n",
      "*Baskets :      174 : Basket Size=      32000 bytes  Compression=   2.15     *\n",
      "*............................................................................*\n",
      "*Br   21 :positivePeaks : vector<double>                                     *\n",
      "*Entries :   212817 : Total  Size=    4706851 bytes  File Size  =    2270276 *\n",
      "*Baskets :      174 : Basket Size=      32000 bytes  Compression=   2.07     *\n",
      "*............................................................................*\n",
      "*Branch  :position                                                           *\n",
      "*Entries :   212817 : BranchElement (see below)                              *\n",
      "*............................................................................*\n",
      "*Br   22 :first     : Double_t                                               *\n",
      "*Entries :   212817 : Total  Size=    1708029 bytes  File Size  =    1559017 *\n",
      "*Baskets :       54 : Basket Size=      32000 bytes  Compression=   1.09     *\n",
      "*............................................................................*\n",
      "*Br   23 :second    : Double_t                                               *\n",
      "*Entries :   212817 : Total  Size=    1708087 bytes  File Size  =    1436472 *\n",
      "*Baskets :       54 : Basket Size=      32000 bytes  Compression=   1.19     *\n",
      "*............................................................................*\n",
      "*Branch  :saturated                                                          *\n",
      "*Entries :   212817 : BranchElement (see below)                              *\n",
      "*............................................................................*\n",
      "*Br   24 :first     : Bool_t                                                 *\n",
      "*Entries :   212817 : Total  Size=     213838 bytes  File Size  =       1689 *\n",
      "*Baskets :        7 : Basket Size=      32000 bytes  Compression= 126.32     *\n",
      "*............................................................................*\n",
      "*Br   25 :second    : Bool_t                                                 *\n",
      "*Entries :   212817 : Total  Size=     213849 bytes  File Size  =       1696 *\n",
      "*Baskets :        7 : Basket Size=      32000 bytes  Compression= 125.80     *\n",
      "*............................................................................*\n",
      "*Br   26 :crystalsEast : vector<double>                                      *\n",
      "*Entries :   212817 : Total  Size=   16145299 bytes  File Size  =    2199738 *\n",
      "*Baskets :      532 : Basket Size=      32000 bytes  Compression=   7.33     *\n",
      "*............................................................................*\n"
     ]
    }
   ],
   "source": [
    "t = f.Get(\"farline\").Get(\"eastTree\")\n",
    "t.Print()"
   ]
  },
  {
   "cell_type": "code",
   "execution_count": 42,
   "metadata": {},
   "outputs": [],
   "source": [
    "df = pandas.read_csv(\"./output.txt\",delimiter=' ',header=None)"
   ]
  },
  {
   "cell_type": "code",
   "execution_count": 43,
   "metadata": {},
   "outputs": [
    {
     "data": {
      "text/html": [
       "<div>\n",
       "<style scoped>\n",
       "    .dataframe tbody tr th:only-of-type {\n",
       "        vertical-align: middle;\n",
       "    }\n",
       "\n",
       "    .dataframe tbody tr th {\n",
       "        vertical-align: top;\n",
       "    }\n",
       "\n",
       "    .dataframe thead th {\n",
       "        text-align: right;\n",
       "    }\n",
       "</style>\n",
       "<table border=\"1\" class=\"dataframe\">\n",
       "  <thead>\n",
       "    <tr style=\"text-align: right;\">\n",
       "      <th></th>\n",
       "      <th>0</th>\n",
       "      <th>1</th>\n",
       "      <th>2</th>\n",
       "      <th>3</th>\n",
       "      <th>4</th>\n",
       "      <th>5</th>\n",
       "      <th>6</th>\n",
       "      <th>7</th>\n",
       "    </tr>\n",
       "  </thead>\n",
       "  <tbody>\n",
       "    <tr>\n",
       "      <th>0</th>\n",
       "      <td>7</td>\n",
       "      <td>3</td>\n",
       "      <td>---</td>\n",
       "      <td>15977</td>\n",
       "      <td>446</td>\n",
       "      <td>142</td>\n",
       "      <td>7</td>\n",
       "      <td>2</td>\n",
       "    </tr>\n",
       "    <tr>\n",
       "      <th>1</th>\n",
       "      <td>9</td>\n",
       "      <td>3</td>\n",
       "      <td>---</td>\n",
       "      <td>15977</td>\n",
       "      <td>446</td>\n",
       "      <td>83</td>\n",
       "      <td>8</td>\n",
       "      <td>2</td>\n",
       "    </tr>\n",
       "    <tr>\n",
       "      <th>2</th>\n",
       "      <td>9</td>\n",
       "      <td>3</td>\n",
       "      <td>---</td>\n",
       "      <td>15977</td>\n",
       "      <td>446</td>\n",
       "      <td>83</td>\n",
       "      <td>8</td>\n",
       "      <td>2</td>\n",
       "    </tr>\n",
       "    <tr>\n",
       "      <th>3</th>\n",
       "      <td>9</td>\n",
       "      <td>3</td>\n",
       "      <td>---</td>\n",
       "      <td>15977</td>\n",
       "      <td>446</td>\n",
       "      <td>83</td>\n",
       "      <td>8</td>\n",
       "      <td>2</td>\n",
       "    </tr>\n",
       "    <tr>\n",
       "      <th>4</th>\n",
       "      <td>6</td>\n",
       "      <td>2</td>\n",
       "      <td>---</td>\n",
       "      <td>15977</td>\n",
       "      <td>446</td>\n",
       "      <td>154</td>\n",
       "      <td>9</td>\n",
       "      <td>2</td>\n",
       "    </tr>\n",
       "  </tbody>\n",
       "</table>\n",
       "</div>"
      ],
      "text/plain": [
       "   0  1    2      3    4    5  6  7\n",
       "0  7  3  ---  15977  446  142  7  2\n",
       "1  9  3  ---  15977  446   83  8  2\n",
       "2  9  3  ---  15977  446   83  8  2\n",
       "3  9  3  ---  15977  446   83  8  2\n",
       "4  6  2  ---  15977  446  154  9  2"
      ]
     },
     "execution_count": 43,
     "metadata": {},
     "output_type": "execute_result"
    }
   ],
   "source": [
    "df.head()"
   ]
  },
  {
   "cell_type": "code",
   "execution_count": 44,
   "metadata": {},
   "outputs": [],
   "source": [
    "h = r.TH2D(\"hist\",\"hist; backwardscounter; n from draw\",20,0,20,20,0,20)"
   ]
  },
  {
   "cell_type": "code",
   "execution_count": 45,
   "metadata": {},
   "outputs": [],
   "source": [
    "h3 = r.TH2D(\"hist3\",\"hist3; backwardscounter / counter; n from draw\",20,0,20,20,0,20)"
   ]
  },
  {
   "cell_type": "code",
   "execution_count": 46,
   "metadata": {},
   "outputs": [],
   "source": [
    "h2 = r.TH2D(\"hist2\",\"hist2; backwardscounter; counter\",20,0,20,20,0,20)"
   ]
  },
  {
   "cell_type": "code",
   "execution_count": 105,
   "metadata": {},
   "outputs": [],
   "source": [
    "l1 = []\n",
    "for i, row in df.iterrows():\n",
    "    count = 9999\n",
    "    \n",
    "    count = t.Draw(\"energy\",\"islandIndex == \"+str(row[5])+\" && calorimeterIndex == \"+str(row[6])+\" && fillIndex == \"+str(row[7]))\n",
    "    \n",
    "    #count = t.Draw(\"energyEast\",\"island == \"+str(row[4])+\" && caloNum == \"+str(row[5])+\" && fill == \"+str(row[6]))\n",
    "    \n",
    "    \n",
    "    if(count < 1000):\n",
    "        h.Fill(row[0], count)\n",
    "        h2.Fill(row[0], row[1])\n",
    "        h3.Fill(int(np.ceil(row[0] / row[1])), count)\n",
    "        \n",
    "        l1.append((row[0], row[1], count))\n",
    "        \n",
    "    else:\n",
    "        print(\"error\")"
   ]
  },
  {
   "cell_type": "code",
   "execution_count": 106,
   "metadata": {},
   "outputs": [
    {
     "data": {
      "image/png": "[encoded data removed]",
      "text/plain": [
       "<IPython.core.display.Image object>"
      ]
     },
     "metadata": {},
     "output_type": "display_data"
    }
   ],
   "source": [
    "c = r.TCanvas()\n",
    "h.Draw()\n",
    "c.Draw()"
   ]
  },
  {
   "cell_type": "code",
   "execution_count": 107,
   "metadata": {},
   "outputs": [
    {
     "data": {
      "image/png": "[encoded data removed]",
      "text/plain": [
       "<IPython.core.display.Image object>"
      ]
     },
     "metadata": {},
     "output_type": "display_data"
    }
   ],
   "source": [
    "c = r.TCanvas()\n",
    "h.Draw(\"colz\")\n",
    "c.SetLogz()\n",
    "c.Draw()"
   ]
  },
  {
   "cell_type": "code",
   "execution_count": 108,
   "metadata": {},
   "outputs": [
    {
     "data": {
      "image/png": "[encoded data removed]",
      "text/plain": [
       "<IPython.core.display.Image object>"
      ]
     },
     "metadata": {},
     "output_type": "display_data"
    }
   ],
   "source": [
    "c = r.TCanvas()\n",
    "h2.Draw(\"colz\")\n",
    "c.SetLogz()\n",
    "c.Draw()"
   ]
  },
  {
   "cell_type": "code",
   "execution_count": 109,
   "metadata": {},
   "outputs": [
    {
     "data": {
      "image/png": "[encoded data removed]",
      "text/plain": [
       "<IPython.core.display.Image object>"
      ]
     },
     "metadata": {},
     "output_type": "display_data"
    }
   ],
   "source": [
    "c = r.TCanvas()\n",
    "h3.Draw(\"colz\")\n",
    "c.SetLogz()\n",
    "c.Draw()"
   ]
  },
  {
   "cell_type": "code",
   "execution_count": 68,
   "metadata": {},
   "outputs": [],
   "source": [
    "df2 = pandas.DataFrame(l1)"
   ]
  },
  {
   "cell_type": "code",
   "execution_count": 152,
   "metadata": {},
   "outputs": [],
   "source": [
    "df2[3] = np.ceil(df[0] / df[1])\n",
    "df2[4] = df2[3] - df2[2]\n",
    "df2[5] = np.ceil(df[0] / df[1]) + (df[0] % df[1])\n",
    "df2[6] =  (df[0] % df[1])"
   ]
  },
  {
   "cell_type": "code",
   "execution_count": 153,
   "metadata": {},
   "outputs": [
    {
     "data": {
      "text/html": [
       "<div>\n",
       "<style scoped>\n",
       "    .dataframe tbody tr th:only-of-type {\n",
       "        vertical-align: middle;\n",
       "    }\n",
       "\n",
       "    .dataframe tbody tr th {\n",
       "        vertical-align: top;\n",
       "    }\n",
       "\n",
       "    .dataframe thead th {\n",
       "        text-align: right;\n",
       "    }\n",
       "</style>\n",
       "<table border=\"1\" class=\"dataframe\">\n",
       "  <thead>\n",
       "    <tr style=\"text-align: right;\">\n",
       "      <th></th>\n",
       "      <th>0</th>\n",
       "      <th>1</th>\n",
       "      <th>2</th>\n",
       "      <th>3</th>\n",
       "      <th>4</th>\n",
       "      <th>5</th>\n",
       "      <th>6</th>\n",
       "    </tr>\n",
       "  </thead>\n",
       "  <tbody>\n",
       "    <tr>\n",
       "      <th>0</th>\n",
       "      <td>7</td>\n",
       "      <td>3</td>\n",
       "      <td>3</td>\n",
       "      <td>3.0</td>\n",
       "      <td>0.0</td>\n",
       "      <td>4.0</td>\n",
       "      <td>1</td>\n",
       "    </tr>\n",
       "    <tr>\n",
       "      <th>1</th>\n",
       "      <td>9</td>\n",
       "      <td>3</td>\n",
       "      <td>3</td>\n",
       "      <td>3.0</td>\n",
       "      <td>0.0</td>\n",
       "      <td>3.0</td>\n",
       "      <td>0</td>\n",
       "    </tr>\n",
       "    <tr>\n",
       "      <th>2</th>\n",
       "      <td>9</td>\n",
       "      <td>3</td>\n",
       "      <td>3</td>\n",
       "      <td>3.0</td>\n",
       "      <td>0.0</td>\n",
       "      <td>3.0</td>\n",
       "      <td>0</td>\n",
       "    </tr>\n",
       "    <tr>\n",
       "      <th>3</th>\n",
       "      <td>9</td>\n",
       "      <td>3</td>\n",
       "      <td>3</td>\n",
       "      <td>3.0</td>\n",
       "      <td>0.0</td>\n",
       "      <td>3.0</td>\n",
       "      <td>0</td>\n",
       "    </tr>\n",
       "    <tr>\n",
       "      <th>4</th>\n",
       "      <td>6</td>\n",
       "      <td>2</td>\n",
       "      <td>3</td>\n",
       "      <td>3.0</td>\n",
       "      <td>0.0</td>\n",
       "      <td>3.0</td>\n",
       "      <td>0</td>\n",
       "    </tr>\n",
       "  </tbody>\n",
       "</table>\n",
       "</div>"
      ],
      "text/plain": [
       "   0  1  2    3    4    5  6\n",
       "0  7  3  3  3.0  0.0  4.0  1\n",
       "1  9  3  3  3.0  0.0  3.0  0\n",
       "2  9  3  3  3.0  0.0  3.0  0\n",
       "3  9  3  3  3.0  0.0  3.0  0\n",
       "4  6  2  3  3.0  0.0  3.0  0"
      ]
     },
     "execution_count": 153,
     "metadata": {},
     "output_type": "execute_result"
    }
   ],
   "source": [
    "df2.head()"
   ]
  },
  {
   "cell_type": "code",
   "execution_count": 154,
   "metadata": {},
   "outputs": [
    {
     "data": {
      "image/png": "[encoded data removed]",
      "text/plain": [
       "<Figure size 432x288 with 2 Axes>"
      ]
     },
     "metadata": {},
     "output_type": "display_data"
    }
   ],
   "source": [
    "plt.hist2d(df2[0],df2[1], norm=matplotlib.colors.LogNorm(),range=((0,20),(0,5)),bins=(20,20))\n",
    "plt.grid()\n",
    "plt.colorbar()\n",
    "plt.show()"
   ]
  },
  {
   "cell_type": "code",
   "execution_count": 155,
   "metadata": {},
   "outputs": [
    {
     "data": {
      "image/png": "[encoded data removed]",
      "text/plain": [
       "<Figure size 576x288 with 2 Axes>"
      ]
     },
     "metadata": {},
     "output_type": "display_data"
    }
   ],
   "source": [
    "fig,ax = plt.subplots(figsize=(8,4))\n",
    "plt.hist2d(df2[3],df2[2], norm=matplotlib.colors.LogNorm(),range=((0,10),(0,10)),bins=(10,10))\n",
    "plt.grid()\n",
    "plt.colorbar()\n",
    "plt.show()"
   ]
  },
  {
   "cell_type": "code",
   "execution_count": 156,
   "metadata": {},
   "outputs": [
    {
     "data": {
      "image/png": "[encoded data removed]",
      "text/plain": [
       "<Figure size 432x288 with 1 Axes>"
      ]
     },
     "metadata": {},
     "output_type": "display_data"
    }
   ],
   "source": [
    "plt.hist(df2[4],range=(-5,2),bins=(40))\n",
    "plt.yscale('log')\n",
    "plt.grid()\n",
    "plt.show()"
   ]
  },
  {
   "cell_type": "code",
   "execution_count": 157,
   "metadata": {},
   "outputs": [],
   "source": [
    "df3 = df2.loc[df2[4] != 0]"
   ]
  },
  {
   "cell_type": "code",
   "execution_count": 158,
   "metadata": {},
   "outputs": [
    {
     "data": {
      "text/html": [
       "<div>\n",
       "<style scoped>\n",
       "    .dataframe tbody tr th:only-of-type {\n",
       "        vertical-align: middle;\n",
       "    }\n",
       "\n",
       "    .dataframe tbody tr th {\n",
       "        vertical-align: top;\n",
       "    }\n",
       "\n",
       "    .dataframe thead th {\n",
       "        text-align: right;\n",
       "    }\n",
       "</style>\n",
       "<table border=\"1\" class=\"dataframe\">\n",
       "  <thead>\n",
       "    <tr style=\"text-align: right;\">\n",
       "      <th></th>\n",
       "      <th>0</th>\n",
       "      <th>1</th>\n",
       "      <th>2</th>\n",
       "      <th>3</th>\n",
       "      <th>4</th>\n",
       "      <th>5</th>\n",
       "      <th>6</th>\n",
       "    </tr>\n",
       "  </thead>\n",
       "  <tbody>\n",
       "    <tr>\n",
       "      <th>25</th>\n",
       "      <td>11</td>\n",
       "      <td>3</td>\n",
       "      <td>5</td>\n",
       "      <td>4.0</td>\n",
       "      <td>-1.0</td>\n",
       "      <td>6.0</td>\n",
       "      <td>2</td>\n",
       "    </tr>\n",
       "    <tr>\n",
       "      <th>26</th>\n",
       "      <td>7</td>\n",
       "      <td>2</td>\n",
       "      <td>5</td>\n",
       "      <td>4.0</td>\n",
       "      <td>-1.0</td>\n",
       "      <td>5.0</td>\n",
       "      <td>1</td>\n",
       "    </tr>\n",
       "    <tr>\n",
       "      <th>56</th>\n",
       "      <td>6</td>\n",
       "      <td>2</td>\n",
       "      <td>5</td>\n",
       "      <td>3.0</td>\n",
       "      <td>-2.0</td>\n",
       "      <td>3.0</td>\n",
       "      <td>0</td>\n",
       "    </tr>\n",
       "    <tr>\n",
       "      <th>57</th>\n",
       "      <td>6</td>\n",
       "      <td>2</td>\n",
       "      <td>5</td>\n",
       "      <td>3.0</td>\n",
       "      <td>-2.0</td>\n",
       "      <td>3.0</td>\n",
       "      <td>0</td>\n",
       "    </tr>\n",
       "    <tr>\n",
       "      <th>58</th>\n",
       "      <td>6</td>\n",
       "      <td>2</td>\n",
       "      <td>5</td>\n",
       "      <td>3.0</td>\n",
       "      <td>-2.0</td>\n",
       "      <td>3.0</td>\n",
       "      <td>0</td>\n",
       "    </tr>\n",
       "  </tbody>\n",
       "</table>\n",
       "</div>"
      ],
      "text/plain": [
       "     0  1  2    3    4    5  6\n",
       "25  11  3  5  4.0 -1.0  6.0  2\n",
       "26   7  2  5  4.0 -1.0  5.0  1\n",
       "56   6  2  5  3.0 -2.0  3.0  0\n",
       "57   6  2  5  3.0 -2.0  3.0  0\n",
       "58   6  2  5  3.0 -2.0  3.0  0"
      ]
     },
     "execution_count": 158,
     "metadata": {},
     "output_type": "execute_result"
    }
   ],
   "source": [
    "df3.head()"
   ]
  },
  {
   "cell_type": "code",
   "execution_count": 159,
   "metadata": {},
   "outputs": [
    {
     "data": {
      "image/png": "[encoded data removed]",
      "text/plain": [
       "<Figure size 576x288 with 2 Axes>"
      ]
     },
     "metadata": {},
     "output_type": "display_data"
    }
   ],
   "source": [
    "fig,ax = plt.subplots(figsize=(8,4))\n",
    "plt.hist2d(df3[5],df3[2], norm=matplotlib.colors.LogNorm(),range=((0,10),(0,10)),bins=(10,10))\n",
    "plt.grid()\n",
    "plt.colorbar()\n",
    "plt.show()"
   ]
  },
  {
   "cell_type": "code",
   "execution_count": 160,
   "metadata": {},
   "outputs": [
    {
     "data": {
      "image/png": "[encoded data removed]",
      "text/plain": [
       "<Figure size 576x288 with 2 Axes>"
      ]
     },
     "metadata": {},
     "output_type": "display_data"
    }
   ],
   "source": [
    "fig,ax = plt.subplots(figsize=(8,4))\n",
    "plt.hist2d(df3[5],df3[2], norm=matplotlib.colors.LogNorm(),range=((0,10),(0,10)),bins=(10,10))\n",
    "plt.grid()\n",
    "plt.colorbar()\n",
    "plt.show()"
   ]
  },
  {
   "cell_type": "code",
   "execution_count": null,
   "metadata": {},
   "outputs": [],
   "source": []
  },
  {
   "cell_type": "code",
   "execution_count": null,
   "metadata": {},
   "outputs": [],
   "source": []
  }
 ],
 "metadata": {
  "kernelspec": {
   "display_name": "Python 3",
   "language": "python",
   "name": "python3"
  },
  "language_info": {
   "codemirror_mode": {
    "name": "ipython",
    "version": 3
   },
   "file_extension": ".py",
   "mimetype": "text/x-python",
   "name": "python",
   "nbconvert_exporter": "python",
   "pygments_lexer": "ipython3",
   "version": "3.6.8"
  }
 },
 "nbformat": 4,
 "nbformat_minor": 2
}
