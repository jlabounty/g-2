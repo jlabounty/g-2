{
 "cells": [
  {
   "cell_type": "code",
   "execution_count": 2,
   "metadata": {},
   "outputs": [
    {
     "name": "stdout",
     "output_type": "stream",
     "text": [
      "Welcome to JupyROOT 6.12/06\n"
     ]
    }
   ],
   "source": [
    "#General imports.\n",
    "import ROOT as r\n",
    "import math\n",
    "from BlindersPy3 import Blinders\n",
    "from BlindersPy3 import FitType\n",
    "r.gStyle.SetOptStat(0)\n",
    "r.gStyle.SetOptFit(1111)\n",
    "import matplotlib.pyplot as plt\n",
    "import csv\n",
    "import pandas\n",
    "\n",
    "import seaborn as sns\n",
    "sns.set(style=\"ticks\", color_codes=True)\n",
    "import numpy as np\n",
    "import matplotlib.pyplot as plt\n",
    "import matplotlib \n",
    "matplotlib.rc('xtick', labelsize=20) \n",
    "matplotlib.rc('ytick', labelsize=20) \n",
    "import os\n",
    "import scipy\n",
    "\n",
    "import uproot # https://indico.cern.ch/event/686641/contributions/2894906/attachments/1606247/2548596/pivarski-uproot.pdf\n",
    "from awkward import JaggedArray\n",
    "from root_pandas import read_root # https://github.com/scikit-hep/root_pandas\n",
    "\n",
    "import warnings\n",
    "warnings.filterwarnings('once')\n",
    "\n",
    "%matplotlib inline"
   ]
  },
  {
   "cell_type": "code",
   "execution_count": 4,
   "metadata": {},
   "outputs": [],
   "source": [
    "f = r.TFile(\"./data/gm2offline_ana.root\")\n",
    "twest = f.Get(\"farline\").Get(\"eventTree\")\n",
    "teast = f.Get(\"farline\").Get(\"eastTree\")\n",
    "tcomp = f.Get(\"farline\").Get(\"evwTree\")\n",
    "terr = f.Get(\"farline\").Get(\"evwNoPartnerTree\")\n",
    "\n",
    "tcomp2 = f.Get(\"farline\").Get(\"wveTree\")\n",
    "terr2 = f.Get(\"farline\").Get(\"wveNoPartnerTree\")\n",
    "\n",
    "fwave = r.TFile(\"./data/waveforms.root\")\n",
    "twave = fwave.Get(\"islands\").Get(\"islands\").Get(\"islandTree\")"
   ]
  },
  {
   "cell_type": "code",
   "execution_count": 5,
   "metadata": {},
   "outputs": [],
   "source": [
    "from evwTools import *"
   ]
  },
  {
   "cell_type": "code",
   "execution_count": 9,
   "metadata": {},
   "outputs": [
    {
     "name": "stdout",
     "output_type": "stream",
     "text": [
      "Unique island:  1592100222000020000100050 (entry 0 )\n",
      "     KS Result:  0.7862280082726261\n",
      "0.7862280082726261\n",
      "0.5493264419710108\n",
      "0.998265735388435\n"
     ]
    },
    {
     "name": "stderr",
     "output_type": "stream",
     "text": [
      "Warning in <TCanvas::Constructor>: Deleting canvas with same name: c\n",
      "Warning in <TFile::Append>: Replacing existing TH1: h (Potential memory leak).\n",
      "Warning in <TFile::Append>: Replacing existing TH1: h2 (Potential memory leak).\n",
      "Warning in <TCanvas::Constructor>: Deleting canvas with same name: c\n",
      "Warning in <TFile::Append>: Replacing existing TH1: h (Potential memory leak).\n",
      "Warning in <TFile::Append>: Replacing existing TH1: h2 (Potential memory leak).\n",
      "Warning in <TCanvas::Constructor>: Deleting canvas with same name: c\n"
     ]
    },
    {
     "data": {
      "image/png": "[encoded data removed]",
      "text/plain": [
       "<IPython.core.display.Image object>"
      ]
     },
     "metadata": {},
     "output_type": "display_data"
    }
   ],
   "source": [
    "dingbefore = 0\n",
    "ksVec = []\n",
    "\n",
    "lowVec = []\n",
    "highVec = []\n",
    "\n",
    "fout = r.TFile(\"temp_tree_storage.root\",\"recreate\")\n",
    "\n",
    "for i, entry in enumerate(teast):\n",
    "    \n",
    "    if i < 0:\n",
    "        continue\n",
    "    if i > 3:\n",
    "        break\n",
    "    \n",
    "    counter = 0\n",
    "    ding = constructUniqueIDeast(entry)\n",
    "    if (dingbefore == ding):\n",
    "        continue\n",
    "        \n",
    "    \n",
    "    crystalsEast = [x for x in entry.crystalsEast]\n",
    "    \n",
    "    teast_partial = teast.CopyTree( constructConditionFromUniqueIDEast(ding) )\n",
    "    for k, entry3 in enumerate(teast_partial):\n",
    "        dong = constructUniqueIDeast(entry3)\n",
    "        if ding == dong:\n",
    "            crystalsEast += [x for x in entry3.crystalsEast]\n",
    "    \n",
    "    crystalsWest = []\n",
    "    twest_partial = twest.CopyTree( constructConditionFromUniqueIDWest(ding) )\n",
    "    for j, entry2 in enumerate(twest_partial):\n",
    "        dong = constructUniqueIDwest(entry2)\n",
    "        if (ding == dong):\n",
    "            counter = counter + 1\n",
    "            crystalsWest += [x for x in entry2.crystalsWest]\n",
    "                    \n",
    "    eastMap = toMap(crystalsEast)\n",
    "    westMap = toMap(crystalsWest)\n",
    "    idnum = ding\n",
    "\n",
    "    dingbefore = ding\n",
    "\n",
    "    h = r.TH2D(\"h\",\"east\",9,0,9,6,0,6)\n",
    "    for iy, y in enumerate(eastMap):\n",
    "        for ix, x in enumerate(y):\n",
    "            if(x > 0.1):\n",
    "                h.Fill(ix,iy)\n",
    "    h2 = r.TH2D(\"h2\",\"west\",9,0,9,6,0,6)\n",
    "    for iy, y in enumerate(westMap):\n",
    "        for ix, x in enumerate(y):\n",
    "            if(x > 0.1):\n",
    "                h2.Fill(ix,iy)\n",
    "                \n",
    "    ksi = h.KolmogorovTest(h2)\n",
    "    if((ksi < 0.5) or (i % 1000 == 0)):\n",
    "        print(\"Unique island: \", ding, \"(entry\", i, \")\")\n",
    "        print(\"     KS Result: \", ksi)\n",
    "    ksVec.append(ksi)\n",
    "    \n",
    "    print(ksi)\n",
    "    \n",
    "    if(ksi < 0.5):\n",
    "        imshowCompare( toMap(crystalsEast), toMap(crystalsWest), True, ding)\n",
    "        lowVec.append((ding, ksi))\n",
    "        \n",
    "    c = r.TCanvas(\"c\",\"c\",1200,600)\n",
    "    c.Divide(2,1)\n",
    "    c.cd(1)\n",
    "    h.Draw(\"COL\")\n",
    "    c.cd(2)\n",
    "    h2.Draw(\"COL\")\n",
    "    c.Draw()"
   ]
  },
  {
   "cell_type": "code",
   "execution_count": null,
   "metadata": {},
   "outputs": [],
   "source": [
    "print(lowVec)\n",
    "\n",
    "plt.plot(ksVec)\n",
    "plt.show()"
   ]
  },
  {
   "cell_type": "code",
   "execution_count": null,
   "metadata": {},
   "outputs": [],
   "source": [
    "plt.hist(ksVec,bins=50,range=(0,1))\n",
    "plt.yscale('log')\n",
    "plt.show()"
   ]
  },
  {
   "cell_type": "code",
   "execution_count": null,
   "metadata": {},
   "outputs": [],
   "source": []
  },
  {
   "cell_type": "code",
   "execution_count": null,
   "metadata": {},
   "outputs": [],
   "source": []
  }
 ],
 "metadata": {
  "kernelspec": {
   "display_name": "Python 3",
   "language": "python",
   "name": "python3"
  },
  "language_info": {
   "codemirror_mode": {
    "name": "ipython",
    "version": 3
   },
   "file_extension": ".py",
   "mimetype": "text/x-python",
   "name": "python",
   "nbconvert_exporter": "python",
   "pygments_lexer": "ipython3",
   "version": "3.6.5"
  }
 },
 "nbformat": 4,
 "nbformat_minor": 2
}
