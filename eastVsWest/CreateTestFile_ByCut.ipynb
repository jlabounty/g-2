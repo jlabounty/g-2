{
 "cells": [
  {
   "cell_type": "markdown",
   "metadata": {},
   "source": [
    "This file will take a set of input files as strings and then loop over them to create an output file containing only the events which have passed the cut"
   ]
  },
  {
   "cell_type": "code",
   "execution_count": 1,
   "metadata": {},
   "outputs": [
    {
     "name": "stdout",
     "output_type": "stream",
     "text": [
      "Welcome to JupyROOT 6.12/06\n"
     ]
    }
   ],
   "source": [
    "#General imports.\n",
    "import ROOT as r\n",
    "import math\n",
    "from BlindersPy3 import Blinders\n",
    "from BlindersPy3 import FitType\n",
    "r.gStyle.SetOptStat(0)\n",
    "r.gStyle.SetOptFit(1111)\n",
    "import matplotlib.pyplot as plt\n",
    "import csv\n",
    "import pandas\n",
    "\n",
    "import seaborn as sns\n",
    "sns.set(style=\"ticks\", color_codes=True)\n",
    "import numpy as np\n",
    "import matplotlib.pyplot as plt\n",
    "import matplotlib \n",
    "matplotlib.rc('xtick', labelsize=20) \n",
    "matplotlib.rc('ytick', labelsize=20) \n",
    "import os\n",
    "import scipy\n",
    "\n",
    "import uproot # https://indico.cern.ch/event/686641/contributions/2894906/attachments/1606247/2548596/pivarski-uproot.pdf\n",
    "from awkward import JaggedArray\n",
    "from root_pandas import read_root # https://github.com/scikit-hep/root_pandas\n",
    "\n",
    "import warnings\n",
    "warnings.filterwarnings('once')\n",
    "\n",
    "%matplotlib inline"
   ]
  },
  {
   "cell_type": "markdown",
   "metadata": {},
   "source": [
    "f = r.TFile(\"./data/gm2offline_ana.root\")\n",
    "twest = f.Get(\"farline\").Get(\"eventTree\")\n",
    "teast = f.Get(\"farline\").Get(\"eastTree\")\n",
    "tcomp = f.Get(\"farline\").Get(\"evwTree\")\n",
    "terr = f.Get(\"farline\").Get(\"evwNoPartnerTree\")\n",
    "\n",
    "tcomp2 = f.Get(\"farline\").Get(\"wveTree\")\n",
    "terr2 = f.Get(\"farline\").Get(\"wveNoPartnerTree\")\n",
    "\n",
    "fwave = r.TFile(\"./data/waveforms.root\")\n",
    "twave = fwave.Get(\"islands\").Get(\"islands\").Get(\"islandTree\")"
   ]
  },
  {
   "cell_type": "code",
   "execution_count": 2,
   "metadata": {},
   "outputs": [],
   "source": [
    "from evwTools import *"
   ]
  },
  {
   "cell_type": "code",
   "execution_count": 3,
   "metadata": {},
   "outputs": [],
   "source": [
    "#Names of the files to loop over\n",
    "\n",
    "fileNamesPartial = [\"gm2offline_ana_12653990_16369.00449.root\",\n",
    "            \"gm2offline_ana_12653991_16369.00045.root\",\n",
    "            \"gm2offline_ana_12653992_16367.00444.root\",\n",
    "            \"gm2offline_ana_12653993_16358.00045.root\",\n",
    "            \"gm2offline_ana_12653994_16355.00098.root\",\n",
    "            \"gm2offline_ana_12653995_16369.00495.root\",\n",
    "            \"gm2offline_ana_12653996_16369.00129.root\",\n",
    "            \"gm2offline_ana_12653997_16356.00472.root\",\n",
    "            \"gm2offline_ana_12653998_16370.00100.root\",\n",
    "            \"gm2offline_ana_12653999_16368.00142.root\",\n",
    "            \"gm2offline_ana_12654000_16358.00108.root\",\n",
    "            \"gm2offline_ana_12654001_16362.00028.root\",\n",
    "            \"gm2offline_ana_12654002_16370.00193.root\",\n",
    "            \"gm2offline_ana_12654003_16364.00096.root\",\n",
    "            \"gm2offline_ana_12654004_16367.00414.root\",\n",
    "            \"gm2offline_ana_12654005_16367.00137.root\",\n",
    "            \"gm2offline_ana_12654006_16357.00150.root\",\n",
    "            \"gm2offline_ana_12654007_16357.00046.root\",\n",
    "            \"gm2offline_ana_12654008_16370.00438.root\",\n",
    "            \"gm2offline_ana_12654009_16364.00339.root\",\n",
    "            \"gm2offline_ana_12654010_16358.00008.root\",\n",
    "            \"gm2offline_ana_12654011_16368.00282.root\",\n",
    "            \"gm2offline_ana_12654012_16363.00212.root\",\n",
    "            \"gm2offline_ana_12654013_16369.00099.root\",\n",
    "            \"gm2offline_ana_12654014_16367.00496.root\",\n",
    "            \"gm2offline_ana_12654015_16362.00160.root\",\n",
    "            \"gm2offline_ana_12654016_16363.00311.root\",\n",
    "            \"gm2offline_ana_12654017_16368.00107.root\",\n",
    "            \"gm2offline_ana_12654018_16356.00104.root\",\n",
    "            \"gm2offline_ana_12654019_16370.00040.root\",\n",
    "            \"gm2offline_ana_12654020_16363.00374.root\",\n",
    "            \"gm2offline_ana_12654021_16370.00393.root\",\n",
    "            \"gm2offline_ana_12654022_16359.00111.root\",\n",
    "            \"gm2offline_ana_12654023_16369.00492.root\",\n",
    "            \"gm2offline_ana_12654024_16359.00065.root\",\n",
    "            \"gm2offline_ana_12654025_16358.00375.root\",\n",
    "            \"gm2offline_ana_12654026_16363.00094.root\",\n",
    "            \"gm2offline_ana_12654027_16367.00093.root\",\n",
    "            \"gm2offline_ana_12654028_16370.00218.root\",\n",
    "            \"gm2offline_ana_12654029_16368.00396.root\",\n",
    "            \"gm2offline_ana_12654030_16365.00141.root\",\n",
    "            \"gm2offline_ana_12654031_16356.00210.root\",\n",
    "            \"gm2offline_ana_12654032_16367.00251.root\",\n",
    "            \"gm2offline_ana_12654034_16364.00077.root\",\n",
    "            \"gm2offline_ana_12654035_16363.00257.root\",\n",
    "            \"gm2offline_ana_12654036_16367.00005.root\",\n",
    "            \"gm2offline_ana_12654037_16367.00128.root\",\n",
    "            \"gm2offline_ana_12654038_16365.00367.root\",\n",
    "            \"gm2offline_ana_12654039_16358.00025.root\",\n",
    "            \"gm2offline_ana_12654040_16363.00479.root\",\n",
    "            \"gm2offline_ana_12654041_16369.00155.root\",\n",
    "            \"gm2offline_ana_12654042_16368.00421.root\",\n",
    "            \"gm2offline_ana_12654043_16356.00252.root\",\n",
    "            \"gm2offline_ana_12654044_16358.00237.root\",\n",
    "            \"gm2offline_ana_12654045_16355.00136.root\",\n",
    "            \"gm2offline_ana_12654046_16358.00053.root\"]\n",
    "\n",
    "#and their paths.\n",
    "fileNames = [\"./data/dataExternal/Oct23DataSet/\" + x for x in fileNamesPartial]\n",
    "\n",
    "#uncomment this to just loop over the local file for which we also have the island data\n",
    "#fileNames = [\"./data/gm2offline_ana.root\"]"
   ]
  },
  {
   "cell_type": "code",
   "execution_count": 4,
   "metadata": {},
   "outputs": [],
   "source": [
    "#this will be the cut that will determine whether or not something is printed. Written in root format, not pyroot.\n",
    "condition = \"TMath::Abs(deltaX) > 6 && timeEast > 30*1000/1.25\" \n",
    "\n",
    "#name of the output file. Should reflect the cut, and the intputs.\n",
    "outFileName = \"./data/dataExternal/TestEvents_deltaX_gt_5_timeCut_30_Oct23.root\""
   ]
  },
  {
   "cell_type": "code",
   "execution_count": null,
   "metadata": {},
   "outputs": [],
   "source": [
    "for i, file in enumerate(fileNames):\n",
    "    print(\"Starting file:\", file)\n",
    "#    if i>1:\n",
    "#        break\n",
    "    #open up the input file\n",
    "    f = r.TFile(file,\"read\")\n",
    "    tcomp = f.Get(\"farline\").Get(\"evwTree\")\n",
    "\n",
    "    \n",
    "    \n",
    "    if(i == 0):\n",
    "        #create file\n",
    "        fout = r.TFile(outFileName,\"recreate\")\n",
    "        #create a tree to store the output, and fill it based on the condition.\n",
    "        tfinal = tcomp.CopyTree( condition )\n",
    "        #write the tree to the file\n",
    "        tfinal.Write()\n",
    "    else:\n",
    "        #open existing file so that we can append to it\n",
    "        fout = r.TFile(outFileName,\"update\")\n",
    "        \n",
    "        #get the final tree\n",
    "        tbefore = fout.Get(\"evwTree\")\n",
    "        tbefore.SetName(\"tbefore\")\n",
    "        print(tbefore)\n",
    "        #create a temporary tree to store the output\n",
    "        ti = tcomp.CopyTree( condition )\n",
    "        print(ti)\n",
    "        print(tbefore)\n",
    "        #add the temp tree to tfinal using TList\n",
    "        listoftrees = r.TList()\n",
    "        listoftrees.Add(tbefore)\n",
    "        listoftrees.Add(ti)\n",
    "        \n",
    "        tfinal = r.TTree.MergeTrees(listoftrees)\n",
    "        tfinal.SetName(\"evwTree\")\n",
    "        \n",
    "        #write the output\n",
    "        tfinal.Write(\"evwTree\",r.TObject.kWriteDelete)\n",
    "        tbefore.Delete()\n",
    "        ti.Delete()\n",
    "            \n",
    "    \n",
    "    fout.Write()\n",
    "    fout.Close()"
   ]
  },
  {
   "cell_type": "code",
   "execution_count": null,
   "metadata": {},
   "outputs": [],
   "source": []
  },
  {
   "cell_type": "code",
   "execution_count": null,
   "metadata": {},
   "outputs": [],
   "source": []
  }
 ],
 "metadata": {
  "kernelspec": {
   "display_name": "Python 3",
   "language": "python",
   "name": "python3"
  },
  "language_info": {
   "codemirror_mode": {
    "name": "ipython",
    "version": 3
   },
   "file_extension": ".py",
   "mimetype": "text/x-python",
   "name": "python",
   "nbconvert_exporter": "python",
   "pygments_lexer": "ipython3",
   "version": "3.6.5"
  }
 },
 "nbformat": 4,
 "nbformat_minor": 2
}
