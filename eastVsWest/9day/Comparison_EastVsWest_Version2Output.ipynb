{
 "cells": [
  {
   "cell_type": "code",
   "execution_count": null,
   "metadata": {},
   "outputs": [],
   "source": [
    "#General imports.\n",
    "import ROOT as r\n",
    "import math\n",
    "from BlindersPy3 import Blinders\n",
    "from BlindersPy3 import FitType\n",
    "r.gStyle.SetOptStat(0)\n",
    "r.gStyle.SetOptFit(1111)\n",
    "import matplotlib.pyplot as plt\n",
    "import csv\n",
    "import pandas\n",
    "\n",
    "import seaborn as sns\n",
    "sns.set(style=\"ticks\", color_codes=True)\n",
    "import numpy as np\n",
    "import matplotlib.pyplot as plt\n",
    "import matplotlib \n",
    "matplotlib.rc('xtick', labelsize=20) \n",
    "matplotlib.rc('ytick', labelsize=20) \n",
    "import os\n",
    "import scipy\n",
    "\n",
    "import uproot # https://indico.cern.ch/event/686641/contributions/2894906/attachments/1606247/2548596/pivarski-uproot.pdf\n",
    "from awkward import JaggedArray\n",
    "from root_pandas import read_root # https://github.com/scikit-hep/root_pandas\n",
    "\n",
    "import warnings\n",
    "warnings.filterwarnings('once')\n",
    "\n",
    "%matplotlib inline\n",
    "plt.rcParams['figure.facecolor'] = 'white'"
   ]
  },
  {
   "cell_type": "code",
   "execution_count": null,
   "metadata": {},
   "outputs": [],
   "source": [
    "f = r.TFile(\"./data/dataExternal/Nov7_v08_EnergyFix/results_full_v9_08_00_Nov7_EnergyFix.root\")\n",
    "\n",
    "twest = f.Get(\"farline\").Get(\"eventTree\")\n",
    "teast = f.Get(\"farline\").Get(\"eastTree\")\n",
    "tcomp = f.Get(\"farline\").Get(\"evwTree\")\n",
    "terr = f.Get(\"farline\").Get(\"evwNoPartnerTree\")\n",
    "\n",
    "tcomp2 = f.Get(\"farline\").Get(\"wveTree\")\n",
    "terr2 = f.Get(\"farline\").Get(\"wveNoPartnerTree\")"
   ]
  },
  {
   "cell_type": "code",
   "execution_count": null,
   "metadata": {},
   "outputs": [],
   "source": [
    "f.cd(\"farline\")\n",
    "f.ls()"
   ]
  },
  {
   "cell_type": "code",
   "execution_count": null,
   "metadata": {},
   "outputs": [],
   "source": [
    "tcomp.Print()"
   ]
  },
  {
   "cell_type": "markdown",
   "metadata": {},
   "source": [
    "---\n",
    "\n",
    "Lets first look at the comparison plots"
   ]
  },
  {
   "cell_type": "code",
   "execution_count": null,
   "metadata": {},
   "outputs": [],
   "source": [
    "c2 = r.TCanvas()\n",
    "hdeltaxy = f.Get(\"farline\").Get(\"evwDeltaXDeltaY\").Clone()\n",
    "hdeltaxy.Draw(\"COLZ\")\n",
    "hdeltaxy.Rebin2D(5,5)\n",
    "hdeltaxy.GetXaxis().SetRangeUser(-9,9)\n",
    "hdeltaxy.GetYaxis().SetRangeUser(-6,6)\n",
    "c2.SetLogz()\n",
    "c2.Draw()"
   ]
  },
  {
   "cell_type": "code",
   "execution_count": null,
   "metadata": {},
   "outputs": [],
   "source": [
    "hdeltaxy.GetXaxis().SetRangeUser(-10,10)\n",
    "hdeltaxy.GetYaxis().SetRangeUser(-10,10)\n",
    "\n",
    "c3 = r.TCanvas(\"c3\",\"c3\",1200,600)\n",
    "c3.Divide(2)\n",
    "c3.cd(1)\n",
    "r.gPad.SetLogy()\n",
    "hdeltax = hdeltaxy.ProjectionX().Clone()\n",
    "hdeltax.Draw()\n",
    "\n",
    "c3.cd(2)\n",
    "r.gPad.SetLogy()\n",
    "hdeltay = hdeltaxy.ProjectionY().Clone()\n",
    "hdeltay.Draw()\n",
    "\n",
    "c3.Draw()\n",
    "c3.Print(\"./c3.root\")"
   ]
  },
  {
   "cell_type": "code",
   "execution_count": null,
   "metadata": {},
   "outputs": [],
   "source": [
    "c2 = r.TCanvas(\"c2\",\"c2\",1200,600)\n",
    "c2.Divide(2)\n",
    "c2.cd(1)\n",
    "evwDeltaXDeltaE_ecut = r.TH2D(\"evwDeltaXDeltaE_ecut\",\"\",600,-6,6,8000,-4000,4000)\n",
    "tcomp.Draw(\"deltaE:deltaX>>evwDeltaXDeltaE_ecut\",\"energyWest > 150\",\"goff\")\n",
    "evwDeltaXDeltaE_ecut.Draw(\"colz\")\n",
    "#evwDeltaXDeltaE.Rebin2D(5,5)\n",
    "r.gPad.SetLogz()\n",
    "c2.cd(2)\n",
    "evwDeltaYDeltaE_ecut = r.TH2D(\"evwDeltaYDeltaE_ecut\",\"\",600,-6,6,8000,-4000,4000)\n",
    "evwDeltaYDeltaE_ecut\n",
    "tcomp.Draw(\"deltaE:deltaY>>evwDeltaYDeltaE_ecut\",\"energyWest > 150\",\"goff\")\n",
    "evwDeltaYDeltaE_ecut.Draw(\"colz\")\n",
    "#evwDeltaYDeltaE.Rebin2D(5,5)\n",
    "r.gPad.SetLogz()\n",
    "c2.Draw()"
   ]
  },
  {
   "cell_type": "code",
   "execution_count": null,
   "metadata": {},
   "outputs": [],
   "source": [
    "c2 = r.TCanvas(\"c2\",\"c2\",1200,600)\n",
    "c2.Divide(2)\n",
    "c2.cd(1)\n",
    "evwDeltaXDeltaE_ecut.Draw(\"colz\")\n",
    "evwDeltaXDeltaE_ecut.SetTitle(\"#deltaE vs. #deltax [E_{west} > 150 MeV]; #deltax [xtals]; #deltaE [MeV]\")\n",
    "#evwDeltaXDeltaE.Rebin2D(5,5)\n",
    "evwDeltaXDeltaE_ecut.GetXaxis().SetRangeUser(-6,6)\n",
    "evwDeltaXDeltaE_ecut.GetYaxis().SetRangeUser(-4000,1000)\n",
    "r.gPad.SetLogz()\n",
    "c2.cd(2)\n",
    "evwDeltaYDeltaE_ecut.Draw(\"colz\")\n",
    "evwDeltaYDeltaE_ecut.SetTitle(\"#deltaE vs. #deltax [E_{west} > 150 MeV]; #deltax [xtals]; #deltaE [MeV]\")\n",
    "#evwDeltaYDeltaE.Rebin2D(5,5)\n",
    "evwDeltaYDeltaE_ecut.GetXaxis().SetRangeUser(-4,4)\n",
    "evwDeltaYDeltaE_ecut.GetYaxis().SetRangeUser(-4000,1000)\n",
    "r.gPad.SetLogz()\n",
    "c2.Draw()"
   ]
  },
  {
   "cell_type": "code",
   "execution_count": null,
   "metadata": {},
   "outputs": [],
   "source": [
    "c2 = r.TCanvas(\"c2\",\"c2\",1200,400)\n",
    "evwDeltaYDeltaE_ecut.GetYaxis().SetRangeUser(-4000,4000)\n",
    "evwDeltaE = evwDeltaYDeltaE_ecut.ProjectionY()\n",
    "evwDeltaE.SetTitle(\"DeltaE [EvW]\")\n",
    "evwDeltaE.Draw()\n",
    "c2.SetLogy()\n",
    "c2.Draw()"
   ]
  },
  {
   "cell_type": "code",
   "execution_count": null,
   "metadata": {},
   "outputs": [],
   "source": [
    "c2 = r.TCanvas(\"c2\",\"c2\",600,600)\n",
    "evwDeltaE.SetTitle(\"DeltaE [EvW]\")\n",
    "\n",
    "evwDeltaE.SetTitle(\"#deltaE [E_{west} > 150 MeV]\")\n",
    "evwDeltaE.GetXaxis().SetRangeUser(-4000,4000)\n",
    "\n",
    "evwDeltaE.Draw()\n",
    "c2.SetLogy()\n",
    "c2.Draw()"
   ]
  },
  {
   "cell_type": "code",
   "execution_count": null,
   "metadata": {},
   "outputs": [],
   "source": [
    "c2 = r.TCanvas()\n",
    "hdeltaxy_ecut = r.TH2D(\"hdeltaxy_ecut\",\"#deltax vs. #deltay [E_{west} > 150 MeV]; #deltax [xtals]; #deltay [xtals]\"\n",
    "                       ,1000,-10,10,1000,-10,10)\n",
    "tcomp.Draw(\"deltaY:deltaX>>hdeltaxy_ecut\",\"energyWest > 150\",\"goff\")\n",
    "hdeltaxy_ecut.Draw(\"COLZ\")\n",
    "hdeltaxy_ecut.GetXaxis().SetRangeUser(-9,9)\n",
    "hdeltaxy_ecut.GetYaxis().SetRangeUser(-6,6)\n",
    "c2.SetLogz()\n",
    "c2.Draw()"
   ]
  },
  {
   "cell_type": "code",
   "execution_count": null,
   "metadata": {},
   "outputs": [],
   "source": [
    "c2 = r.TCanvas(\"c2\",\"c2\",1200,1000)\n",
    "hdeltaxy_ecut.Draw(\"COLZ\")\n",
    "hdeltaxy_ecut.Rebin2D(5,5)\n",
    "hdeltaxy_ecut.GetXaxis().SetRangeUser(-9,9)\n",
    "hdeltaxy_ecut.GetYaxis().SetRangeUser(-6,6)\n",
    "c2.SetLogz()\n",
    "c2.Draw()"
   ]
  },
  {
   "cell_type": "code",
   "execution_count": null,
   "metadata": {},
   "outputs": [],
   "source": [
    "hdeltaxy_ecut.GetXaxis().SetRangeUser(-10,10)\n",
    "hdeltaxy_ecut.GetYaxis().SetRangeUser(-10,10)\n",
    "\n",
    "c3 = r.TCanvas(\"c3\",\"c3\",1200,600)\n",
    "c3.Divide(2)\n",
    "c3.cd(1)\n",
    "r.gPad.SetLogy()\n",
    "hdeltax = hdeltaxy_ecut.ProjectionX().Clone()\n",
    "hdeltax.Draw()\n",
    "\n",
    "c3.cd(2)\n",
    "r.gPad.SetLogy()\n",
    "hdeltay = hdeltaxy_ecut.ProjectionY().Clone()\n",
    "hdeltay.Draw()\n",
    "\n",
    "c3.Draw()\n",
    "c3.Print(\"./c3.root\")"
   ]
  },
  {
   "cell_type": "code",
   "execution_count": null,
   "metadata": {},
   "outputs": [],
   "source": [
    "integralsX = []\n",
    "\n",
    "nbins = hdeltax.GetSize() - 2\n",
    "print(nbins)\n",
    "\n",
    "xranges = []\n",
    "\n",
    "totalIntegral =  hdeltax.Integral(0,-1)\n",
    "\n",
    "for i in range(1,500,1):\n",
    "    high, low = int(nbins/2 - i), int(nbins/2 + i)\n",
    "    xrange = i*20./nbins\n",
    "    integralsX.append( hdeltax.Integral(high, low) / totalIntegral * 100)\n",
    "    xranges.append(xrange)\n",
    "    \n",
    "print(integralsX[0:10],\"...\")\n",
    "#print(xranges)\n",
    "\n",
    "plt.subplots(figsize=(15,5))\n",
    "plt.plot(xranges,integralsX,'-')\n",
    "plt.title(r'% of Events Within $\\delta x = 0 \\pm \\bar{x}$')\n",
    "plt.xlabel(r'$\\bar{x}$ [xtals]')\n",
    "plt.grid()\n",
    "plt.show()"
   ]
  },
  {
   "cell_type": "code",
   "execution_count": null,
   "metadata": {},
   "outputs": [],
   "source": [
    "c2 = r.TCanvas()\n",
    "hdeltaxy_ecut2 = r.TH2D(\"hdeltaxy_ecut2\",\"#deltax vs. #deltay [E_{west} < 150 MeV]; #deltax [xtals]; #deltay [xtals]\"\n",
    "                        ,1000,-10,10,1000,-10,10)\n",
    "tcomp.Draw(\"deltaY:deltaX>>hdeltaxy_ecut2\",\"energyWest < 150\",\"goff\")\n",
    "hdeltaxy_ecut2.Draw(\"COLZ\")\n",
    "#hdeltaxy.Rebin2D(5,5)\n",
    "hdeltaxy_ecut2.GetXaxis().SetRangeUser(-9,9)\n",
    "hdeltaxy_ecut2.GetYaxis().SetRangeUser(-6,6)\n",
    "c2.SetLogz()\n",
    "c2.Draw()"
   ]
  },
  {
   "cell_type": "code",
   "execution_count": null,
   "metadata": {},
   "outputs": [],
   "source": [
    "hdeltaxy_ecut2.GetXaxis().SetRangeUser(-10,10)\n",
    "hdeltaxy_ecut2.GetYaxis().SetRangeUser(-10,10)\n",
    "\n",
    "c3 = r.TCanvas(\"c3\",\"c3\",1200,600)\n",
    "c3.Divide(2)\n",
    "c3.cd(1)\n",
    "r.gPad.SetLogy()\n",
    "hdeltax2 = hdeltaxy_ecut2.ProjectionX().Clone()\n",
    "hdeltax2.Draw()\n",
    "\n",
    "c3.cd(2)\n",
    "r.gPad.SetLogy()\n",
    "hdeltay2 = hdeltaxy_ecut2.ProjectionY().Clone()\n",
    "hdeltay2.Draw()\n",
    "\n",
    "c3.Draw()\n",
    "c3.Print(\"./c3.root\")"
   ]
  },
  {
   "cell_type": "code",
   "execution_count": null,
   "metadata": {},
   "outputs": [],
   "source": [
    "c2 = r.TCanvas(\"c2\",\"c2\",1200,1000)\n",
    "hdeltaxy_ecut2.Draw(\"COLZ\")\n",
    "hdeltaxy_ecut2.Rebin2D(5,5)\n",
    "hdeltaxy_ecut2.GetXaxis().SetRangeUser(-9,9)\n",
    "hdeltaxy_ecut2.GetYaxis().SetRangeUser(-6,6)\n",
    "c2.SetLogz()\n",
    "c2.Draw()"
   ]
  },
  {
   "cell_type": "markdown",
   "metadata": {},
   "source": [
    "---\n",
    "\n",
    "We can also look at these plot with an energy cut of various levels, to see if the outliers are primarily in the low energy regime"
   ]
  },
  {
   "cell_type": "code",
   "execution_count": null,
   "metadata": {},
   "outputs": [],
   "source": [
    "energycutVec = []\n",
    "for energycut in range(0,2000,100):\n",
    "    print(energycut)\n",
    "    hcompxy_ecut = hdeltaxy.Clone(\"hcompxy_ecut\")\n",
    "    hcompxy_ecut.Reset()\n",
    "    tcomp.Draw(\"deltaY:deltaX>>hcompxy_ecut\",\"energyWest > \"+str(energycut)+\" && energyEast > \"+str(energycut),\"goff\")\n",
    "    hcompxy_ecut.Draw(\"colz\")\n",
    "\n",
    "    hcompxy_ecut.SetTitle(\"DeltaX vs. DeltaY [Energy > \"+str(energycut)+\" MeV]\")\n",
    "    hcompxy_ecut.GetXaxis().SetRangeUser(-6,6)\n",
    "    hcompxy_ecut.GetYaxis().SetRangeUser(-3,3)\n",
    "    hcompxy_ecut.GetZaxis().SetRangeUser(1,10000)\n",
    "               \n",
    "    energycutVec.append( hcompxy_ecut.Clone(str(energycut)) )\n",
    "               \n",
    "               \n",
    "c2 = r.TCanvas(\"c2\",\"c2\",5400,4000)\n",
    "c2.Divide(5,4)\n",
    "for i, hi in enumerate(energycutVec):\n",
    "    c2.cd(i+1)\n",
    "    r.gPad.SetLogz()\n",
    "    r.gPad.SetGridx()\n",
    "    r.gPad.SetGridy()\n",
    "    hi.Draw(\"colz\")\n",
    "c2.Draw()"
   ]
  },
  {
   "cell_type": "code",
   "execution_count": null,
   "metadata": {},
   "outputs": [],
   "source": [
    "c3 = r.TCanvas(\"c3\",\"c3\",1200,600)\n",
    "c3.Divide(2)\n",
    "c3.cd(1)\n",
    "r.gPad.SetLogy()\n",
    "hdeltax_ecut = hcompxy_ecut.ProjectionX().Clone()\n",
    "hdeltax_ecut.Draw()\n",
    "\n",
    "c3.cd(2)\n",
    "r.gPad.SetLogy()\n",
    "hdeltay_ecut = hcompxy_ecut.ProjectionY().Clone()\n",
    "hdeltay_ecut.Draw()\n",
    "\n",
    "c3.Draw()\n",
    "c3.Print(\"./c3.root\")"
   ]
  },
  {
   "cell_type": "markdown",
   "metadata": {},
   "source": [
    "---\n",
    "\n",
    "Similarly, we can look at the events which were cut out by this cut"
   ]
  },
  {
   "cell_type": "code",
   "execution_count": null,
   "metadata": {},
   "outputs": [],
   "source": [
    "energycutVec = []\n",
    "for energycut in range(0,2000,100):\n",
    "    print(energycut)\n",
    "    hcompxy_ecut = hdeltaxy.Clone(\"hcompxy_ecut\")\n",
    "    hcompxy_ecut.Reset()\n",
    "    tcomp.Draw(\"deltaY:deltaX>>hcompxy_ecut\",\"energyWest > \" + str(energycut) + \" && energyEast > \" + str(energycut) +\n",
    "               \" && energyWest < \" + str(energycut+100) + \" && energyEast < \" + str(energycut+100),\"goff\")\n",
    "    hcompxy_ecut.Draw(\"colz\")\n",
    "\n",
    "    hcompxy_ecut.SetTitle(\"DeltaX vs. DeltaY [\"+str(energycut)+\" MeV < E_{west} && E_{east} < \"+str(energycut + 100)+\" MeV]\")\n",
    "    hcompxy_ecut.GetXaxis().SetRangeUser(-6,6)\n",
    "    hcompxy_ecut.GetYaxis().SetRangeUser(-3,3)\n",
    "    hcompxy_ecut.GetZaxis().SetRangeUser(1,10000)\n",
    "               \n",
    "    energycutVec.append( hcompxy_ecut.Clone(str(energycut)) )\n",
    "               \n",
    "               \n",
    "c2 = r.TCanvas(\"c2\",\"c2\",5400,4000)\n",
    "c2.Divide(5,4)\n",
    "for i, hi in enumerate(energycutVec):\n",
    "    c2.cd(i+1)\n",
    "    r.gPad.SetLogz()\n",
    "    r.gPad.SetGridx()\n",
    "    r.gPad.SetGridy()\n",
    "    hi.Draw(\"colz\")\n",
    "c2.Draw()"
   ]
  },
  {
   "cell_type": "code",
   "execution_count": null,
   "metadata": {},
   "outputs": [],
   "source": [
    "stds = []\n",
    "for hi in energycutVec:\n",
    "    print(hi)\n",
    "    stds.append((hi.GetStdDev(1),hi.GetStdDev(2)))"
   ]
  },
  {
   "cell_type": "code",
   "execution_count": null,
   "metadata": {},
   "outputs": [],
   "source": [
    "print(stds)\n",
    "stdsx, stdsy = zip(*stds)\n",
    "fig, ax = plt.subplots(1,2,figsize=(10,5),sharex=True, sharey=True)\n",
    "\n",
    "ax[0].plot(stdsx)\n",
    "ax[1].plot(stdsy)\n",
    "\n",
    "ax[0].set_title(r\"Dependence on StDev of $\\delta x$ on Energy Cut\")\n",
    "ax[1].set_title(r\"Dependence on StDev of $\\delta y$ on Energy Cut\")\n",
    "\n",
    "ax[0].set_ylabel(\"StdDev [xtals]\")\n",
    "ax[1].set_xlabel(\"n [$n*100$ $MeV$ $< E <$ $(n+1)*100$ $MeV$]\")\n",
    "\n",
    "plt.show()"
   ]
  },
  {
   "cell_type": "code",
   "execution_count": null,
   "metadata": {},
   "outputs": [],
   "source": [
    "c2 = r.TCanvas(\"c2\",\"c2\",8400,4000)\n",
    "c2.Divide(6,3)\n",
    "for i, hi in enumerate(energycutVec):\n",
    "    c2.cd(i+1)\n",
    "    r.gPad.SetLogz()\n",
    "    r.gPad.SetGridx()\n",
    "    r.gPad.SetGridy()\n",
    "    hi.Draw(\"colz\")\n",
    "c2.Draw()"
   ]
  },
  {
   "cell_type": "markdown",
   "metadata": {},
   "source": [
    "---"
   ]
  },
  {
   "cell_type": "markdown",
   "metadata": {},
   "source": [
    "Now I wonder what this distribution looks like for those cluster pairs which have a large deltaE"
   ]
  },
  {
   "cell_type": "code",
   "execution_count": null,
   "metadata": {},
   "outputs": [],
   "source": [
    "energycutVec = []\n",
    "for energycut in range(0,2000,100):\n",
    "    print(energycut)\n",
    "    hcompxy_ecut = hdeltaxy.Clone(\"hcompxy_ecut\")\n",
    "    hcompxy_ecut.Reset()\n",
    "    tcomp.Draw(\"deltaY:deltaX>>hcompxy_ecut\",\"TMath::Abs(deltaE) >\"+str(energycut) ,\"goff\")\n",
    "    hcompxy_ecut.Draw(\"colz\")\n",
    "\n",
    "    hcompxy_ecut.SetTitle(\"DeltaX vs. DeltaY [|DeltaE| > \"+str(energycut)+\" MeV]\")\n",
    "    hcompxy_ecut.GetXaxis().SetRangeUser(-6,6)\n",
    "    hcompxy_ecut.GetYaxis().SetRangeUser(-3,3)\n",
    "    hcompxy_ecut.GetZaxis().SetRangeUser(1,10000)\n",
    "               \n",
    "    energycutVec.append( hcompxy_ecut.Clone(str(energycut)) )\n",
    "               \n",
    "               \n",
    "c2 = r.TCanvas(\"c2\",\"c2\",5400,4000)\n",
    "c2.Divide(5,4)\n",
    "for i, hi in enumerate(energycutVec):\n",
    "    c2.cd(i+1)\n",
    "    r.gPad.SetLogz()\n",
    "    r.gPad.SetGridx()\n",
    "    r.gPad.SetGridy()\n",
    "    hi.Draw(\"colz\")\n",
    "c2.Draw()"
   ]
  },
  {
   "cell_type": "code",
   "execution_count": null,
   "metadata": {},
   "outputs": [],
   "source": [
    "energycutVec = []\n",
    "for energycut in range(0,2000,100):\n",
    "    print(energycut)\n",
    "    hcompxy_ecut = hdeltaxy.Clone(\"hcompxy_ecut\")\n",
    "    hcompxy_ecut.Reset()\n",
    "    tcomp.Draw(\"deltaY:deltaX>>hcompxy_ecut\",\"TMath::Abs(deltaE) > \"+str(energycut)+\n",
    "               \" && TMath::Abs(deltaE) < \"+str(energycut + 100),\"goff\")\n",
    "    hcompxy_ecut.Draw(\"colz\")\n",
    "\n",
    "    hcompxy_ecut.SetTitle(\"DeltaX vs. DeltaY [\"+str(energycut)+\" < |DeltaE| < \"+str(energycut + 100)+\" MeV]\")\n",
    "    hcompxy_ecut.GetXaxis().SetRangeUser(-6,6)\n",
    "    hcompxy_ecut.GetYaxis().SetRangeUser(-3,3)\n",
    "    hcompxy_ecut.GetZaxis().SetRangeUser(1,10000)\n",
    "               \n",
    "    energycutVec.append( hcompxy_ecut.Clone(str(energycut)) )\n",
    "               \n",
    "               \n",
    "c2 = r.TCanvas(\"c2\",\"c2\",5200,4000)\n",
    "c2.Divide(5,4)\n",
    "for i, hi in enumerate(energycutVec):\n",
    "    c2.cd(i+1)\n",
    "    r.gPad.SetLogz()\n",
    "    r.gPad.SetGridx()\n",
    "    r.gPad.SetGridy()\n",
    "    hi.Draw(\"colz\")\n",
    "c2.Draw()"
   ]
  },
  {
   "cell_type": "markdown",
   "metadata": {},
   "source": [
    "for caloNum in range(1,25):\n",
    "    print(\"Starting Calo:\", caloNum)\n",
    "    c = r.TCanvas(\"c\",\"c\",4500,3000)\n",
    "    c.Divide(9,6)\n",
    "    crystalVec = []\n",
    "    for crystal in range(54):\n",
    "        hi = r.TH1D(\"hi\",\"h\"+str(crystal),300,-15,15)\n",
    "        tcomp.Draw(\"deltaT-timeCorr>>hi\",\n",
    "                   \"caloNum == \"+str(caloNum)\n",
    "                   +\" && crystals == \"+str(crystal)\n",
    "                   +\" && deltaT-timeCorr < -3\",\"goff\")\n",
    "        crystalVec.append(hi.Clone(\"h\"+str(crystal)))\n",
    "        print(\"   Crystal: \", crystal)\n",
    "\n",
    "    for i,hi in enumerate(crystalVec):\n",
    "        c.cd(53 - i+1)\n",
    "        r.gPad.SetLogy()\n",
    "        hi.Draw()\n",
    "        hi.GetYaxis().SetRangeUser(0.1,1000)\n",
    "\n",
    "    c.Draw()\n",
    "    c.Print(\"./images/calo\"+str(caloNum)+\".root\")\n",
    "    c.Print(\"./images/calo\"+str(caloNum)+\".png\")"
   ]
  },
  {
   "cell_type": "markdown",
   "metadata": {},
   "source": [
    "c = r.TCanvas(\"c\",\"c\",4500,3000)\n",
    "c.Divide(9,6)\n",
    "\n",
    "for i,hi in enumerate(crystalVec):\n",
    "    c.cd(53 - i+1)\n",
    "    r.gPad.SetLogy()\n",
    "    hi.Draw()\n",
    "    hi.GetYaxis().SetRangeUser(0.1,1000)\n",
    "    \n",
    "c.Draw()"
   ]
  },
  {
   "cell_type": "markdown",
   "metadata": {},
   "source": [
    "---"
   ]
  },
  {
   "cell_type": "code",
   "execution_count": null,
   "metadata": {},
   "outputs": [],
   "source": [
    "r.gStyle.SetOptFit(0)\n",
    "\n",
    "c3 = r.TCanvas()\n",
    "evwEnergyEvW = f.Get(\"farline\").Get(\"evwEnergyEvW\").Clone()\n",
    "evwEnergyEvW.SetTitle(\"Energy in Recon East vs. Recon West [From EvW Data]\")\n",
    "evwEnergyEvW.GetXaxis().SetRangeUser(0,3000)\n",
    "evwEnergyEvW.GetYaxis().SetRangeUser(0,4000)\n",
    "evwEnergyEvW.Draw(\"colz\")\n",
    "\n",
    "onetoone = r.TF1(\"onetoone\",\"pol1\",0,3000)\n",
    "onetoone.SetParameters(0,1)\n",
    "onetoone.SetLineStyle(2)\n",
    "onetoone.SetLineColor(1)\n",
    "onetoone.Draw(\"SAME\")\n",
    "\n",
    "actualslope = r.TF1(\"actualslope\",\"pol1\",0,3000)\n",
    "actualslope.FixParameter(0,0)\n",
    "evwEnergyEvW.Fit(\"actualslope\",\"REMB\")\n",
    "\n",
    "leg = r.TLegend(0.1,0.8,0.45,0.9)\n",
    "leg.AddEntry(onetoone ,\"1:1 Reference Line\", \"l\")\n",
    "leg.AddEntry(actualslope ,\"Fitted slope (y-intercept fixed at 0)\", \"pl\")\n",
    "leg.AddEntry(actualslope ,\"y = \"+str(\"%.4f\" % round(actualslope.GetParameter(1),4))+\n",
    "             \"x + \"+str(actualslope.GetParameter(0)), \"\")\n",
    "leg.Draw()\n",
    "\n",
    "c3.SetLogz()\n",
    "c3.Draw()"
   ]
  },
  {
   "cell_type": "markdown",
   "metadata": {},
   "source": [
    "Lets see if this slope is an especially calorimeter dependent effect"
   ]
  },
  {
   "cell_type": "code",
   "execution_count": null,
   "metadata": {},
   "outputs": [],
   "source": [
    "r.gStyle.SetOptFit(1)\n",
    "\n",
    "evwEnergyEvWvec = []\n",
    "for calo in range(1,25):\n",
    "    evwEnergyEvW_i = f.Get(\"farline\").Get(\"evw_calo\"+str(calo)).Get(\"evwEnergyEvW\").Clone()\n",
    "    evwEnergyEvWvec.append( evwEnergyEvW_i.Clone( \"h\"+str(calo) ) )\n",
    "    \n",
    "c5 = r.TCanvas(\"c5\",\"c5\",6200,4000)\n",
    "c5.Divide(6,4)\n",
    "\n",
    "actualslope_i = r.TF1(\"actualslope_i\",\"pol1\",0,3000)\n",
    "actualslope_i.FixParameter(0,0)\n",
    "\n",
    "slopeVec = []\n",
    "\n",
    "for i, hist in enumerate(evwEnergyEvWvec):\n",
    "    c5.cd(i+1)\n",
    "    r.gPad.SetLogz()\n",
    "    #hist.Rebin2D(5,5)\n",
    "    hist.GetXaxis().SetRangeUser(0,3000)\n",
    "    hist.GetYaxis().SetRangeUser(0,4000)\n",
    "    \n",
    "    hist.Fit(\"actualslope_i\",\"REMBQ\")\n",
    "    hist.Draw(\"COLZ\")\n",
    "    onetoone.Draw(\"SAME\")\n",
    "    \n",
    "    slopeVec.append(actualslope_i.GetParameter(1))\n",
    "    \n",
    "c5.Draw()\n",
    "c5.Print(\"./c5.root\")"
   ]
  },
  {
   "cell_type": "code",
   "execution_count": null,
   "metadata": {},
   "outputs": [],
   "source": [
    "plt.plot(slopeVec,'o:',label='Slopes of Individual Calorimeters')\n",
    "plt.plot([0,24],[actualslope.GetParameter(1),actualslope.GetParameter(1)], label='Slope of All Calorimeters Combined')\n",
    "plt.legend()\n",
    "plt.show()"
   ]
  },
  {
   "cell_type": "markdown",
   "metadata": {},
   "source": [
    "---\n",
    "\n",
    "We can also see if this slope changes significantly when we look at the WvE data instead"
   ]
  },
  {
   "cell_type": "code",
   "execution_count": null,
   "metadata": {},
   "outputs": [],
   "source": [
    "r.gStyle.SetOptFit(0)\n",
    "\n",
    "c3 = r.TCanvas()\n",
    "wveEnergyEvW = f.Get(\"farline\").Get(\"wveEnergyEvW\").Clone()\n",
    "wveEnergyEvW.SetTitle(\"Energy in Recon East vs. Recon West [From WvE Data]\")\n",
    "wveEnergyEvW.GetXaxis().SetRangeUser(0,3000)\n",
    "wveEnergyEvW.GetYaxis().SetRangeUser(0,4000)\n",
    "wveEnergyEvW.Draw(\"colz\")\n",
    "\n",
    "onetoone = r.TF1(\"onetoone\",\"pol1\",0,3000)\n",
    "onetoone.SetParameters(0,1)\n",
    "onetoone.SetLineStyle(2)\n",
    "onetoone.SetLineColor(1)\n",
    "onetoone.Draw(\"SAME\")\n",
    "\n",
    "actualslope = r.TF1(\"actualslope\",\"pol1\",0,3000)\n",
    "actualslope.FixParameter(0,0)\n",
    "wveEnergyEvW.Fit(\"actualslope\",\"REMB\")\n",
    "\n",
    "leg = r.TLegend(0.1,0.8,0.45,0.9)\n",
    "leg.AddEntry(onetoone ,\"1:1 Reference Line\", \"l\")\n",
    "leg.AddEntry(actualslope ,\"Fitted slope (y-intercept fixed at 0)\", \"pl\")\n",
    "leg.AddEntry(actualslope ,\"y = \"+str(\"%.4f\" % round(actualslope.GetParameter(1),4))+\n",
    "             \"x + \"+str(actualslope.GetParameter(0)), \"\")\n",
    "leg.Draw()\n",
    "\n",
    "c3.SetLogz()\n",
    "c3.Draw()"
   ]
  },
  {
   "cell_type": "code",
   "execution_count": null,
   "metadata": {},
   "outputs": [],
   "source": [
    "deltaTVec = []\n",
    "for calo in range(1,25):\n",
    "    evwDeltaTCaloAfterCorr = f.Get(\"farline\").Get(\"evwDeltaTCaloAfterCorr\").Clone()\n",
    "    evwDeltaTCaloAfterCorr.GetYaxis().SetRangeUser(calo,calo+1)\n",
    "    evwDeltaTCaloAfterCorr.Draw(\"COLZ\")\n",
    "\n",
    "    evwDeltaTAfterCorr = evwDeltaTCaloAfterCorr.ProjectionX().Clone()\n",
    "    evwDeltaTAfterCorr.GetXaxis().SetRangeUser(-1.6,1.6)\n",
    "    evwDeltaTAfterCorr.SetTitle(\"Calo \"+str(calo))\n",
    "    evwDeltaTAfterCorr.GetXaxis().SetTitle(\"$\\\\Delta t$ ~[c.t.]\")\n",
    "    evwDeltaTAfterCorr.Draw()\n",
    "\n",
    "    deltaTVec.append( evwDeltaTAfterCorr.Clone(\"h\"+str(calo)) )"
   ]
  },
  {
   "cell_type": "code",
   "execution_count": null,
   "metadata": {},
   "outputs": [],
   "source": [
    "c3 = r.TCanvas(\"c3\",\"c3\",6200,4000)\n",
    "c3.Divide(6,4)\n",
    "for i in range(24):\n",
    "    c3.cd(i+1)\n",
    "    r.gPad.SetLogy()\n",
    "    deltaTVec[i].Draw()\n",
    "    deltaTVec[i].Fit(\"gaus\",\"EBMQ\")\n",
    "c3.Draw()"
   ]
  },
  {
   "cell_type": "code",
   "execution_count": null,
   "metadata": {},
   "outputs": [],
   "source": [
    "c = r.TCanvas()\n",
    "tcomp.Draw(\"deltaE:caloNum>>hist(26,0,26,5000,-4000,1000)\",\"\",\"colz\")\n",
    "c.Draw()"
   ]
  },
  {
   "cell_type": "code",
   "execution_count": null,
   "metadata": {},
   "outputs": [],
   "source": [
    "c = r.TCanvas()\n",
    "tcomp.Draw(\"deltaT-timeCorr:caloNum>>hist(26,0,26,500,-1,1)\",\"\",\"colz\")\n",
    "c.SetLogz()\n",
    "c.Draw()"
   ]
  },
  {
   "cell_type": "code",
   "execution_count": null,
   "metadata": {},
   "outputs": [],
   "source": [
    "energycutVec = []\n",
    "\n",
    "hcompX = r.TH2D(\"hcompX\",\"Comparison of x-Positions in Recon East and West\",900,0,9,900,0,9)\n",
    "\n",
    "for timecut in range(0,700000,50000):\n",
    "    hcompxy_ecut = hcompX.Clone(\"hcompxy_ecut\")\n",
    "    hcompxy_ecut.Reset()\n",
    "    tcomp.Draw(\"positionWest.first:positionEast.first>>hcompxy_ecut\",\n",
    "               \"timeEast > \"+str(timecut)+\" && timeEast < \"+str(timecut+50000),\"goff\")\n",
    "    hcompxy_ecut.Draw(\"colz\")\n",
    "\n",
    "    hcompxy_ecut.SetTitle(\"Xwest vs. Xeast [\"+str(timecut)+\"< t < \"+str(timecut+50000)+\"]\")\n",
    "    #hcompxy_ecut.GetXaxis().SetRangeUser(-6,6)\n",
    "    #hcompxy_ecut.GetYaxis().SetRangeUser(-3,3)\n",
    "    #hcompxy_ecut.GetZaxis().SetRangeUser(1,10000)\n",
    "               \n",
    "    energycutVec.append( hcompxy_ecut.Clone(str(energycut)) )\n",
    "               \n",
    "               \n",
    "c2 = r.TCanvas(\"c2\",\"c2\",6000,4000)\n",
    "c2.Divide(5,4)\n",
    "for i, hi in enumerate(energycutVec):\n",
    "    c2.cd(i+1)\n",
    "    r.gPad.SetLogz()\n",
    "    r.gPad.SetGridx()\n",
    "    r.gPad.SetGridy()\n",
    "    hi.Draw(\"colz\")\n",
    "c2.Draw()"
   ]
  },
  {
   "cell_type": "code",
   "execution_count": null,
   "metadata": {},
   "outputs": [],
   "source": [
    "c = r.TCanvas()\n",
    "h = r.TH2D(\"h\",\"Number of Crystals in Clusters; Recon East Cluster Size [xtals]; Recon West Cluster Size [xtals]\",54,0,54,54,0,54)\n",
    "for entry in tcomp:\n",
    "    if(entry.timeEast < 30*1000/1.25):\n",
    "        continue\n",
    "    sizeEast = len(entry.crystalsEast)\n",
    "    sizeWest = len(entry.crystalsWest)\n",
    "    h.Fill(sizeEast,sizeWest)\n",
    "h.Draw(\"COLZ\")\n",
    "h.GetXaxis().SetRangeUser(0,30)\n",
    "h.GetYaxis().SetRangeUser(0,30)\n",
    "c.SetLogz()\n",
    "c.Draw()\n",
    "\n",
    "c2 = r.TCanvas()\n",
    "c2.Divide(2)\n",
    "c2.cd(1)\n",
    "r.gPad.SetLogy()\n",
    "h.ProjectionX().Draw()\n",
    "c2.cd(2)\n",
    "r.gPad.SetLogy()\n",
    "h.ProjectionY().Draw()\n",
    "c2.Draw()"
   ]
  },
  {
   "cell_type": "code",
   "execution_count": null,
   "metadata": {},
   "outputs": [],
   "source": [
    "c = r.TCanvas(\"c\",\"c\",6200,4000)\n",
    "c.Divide(5,3)\n",
    "\n",
    "Elow = 0\n",
    "Ehigh = 6000\n",
    "nDivs = 15\n",
    "\n",
    "\n",
    "deltaEmean = []\n",
    "tcomp.SetFillColorAlpha(38,0.5)\n",
    "\n",
    "for i in range(nDivs - 1):\n",
    "    e1 = (Ehigh - Elow)/(nDivs) * i\n",
    "    e2 = (Ehigh - Elow)/(nDivs) * (i+1)\n",
    "    \n",
    "    c.cd(i+1)\n",
    "    r.gPad.SetLogy()\n",
    "    tcomp.Draw(\"deltaE\",\"energyWest > \"+str(e1)+\" && energyWest < \"+str(e2),\"\")\n",
    "    \n",
    "    deltaEmean.append( np.mean(tcomp.GetV1()) )\n",
    "    \n",
    "c.cd(nDivs)\n",
    "r.gPad.SetLogy()\n",
    "e1 = (Ehigh - Elow)/(nDivs) * (nDivs-1)\n",
    "tcomp.Draw(\"deltaE\",\"energyWest > \"+str(e1),\"\")\n",
    "\n",
    "c.Draw()"
   ]
  },
  {
   "cell_type": "code",
   "execution_count": null,
   "metadata": {},
   "outputs": [],
   "source": [
    "plt.plot(deltaEmean)\n",
    "plt.show()"
   ]
  },
  {
   "cell_type": "code",
   "execution_count": null,
   "metadata": {},
   "outputs": [],
   "source": [
    "c = r.TCanvas()\n",
    "tcomp.Draw(\"deltaE:caloNum\",\"TMath::Abs(deltaT- timeCorr) > 5\",\"colz\")\n",
    "c.Draw()"
   ]
  },
  {
   "cell_type": "code",
   "execution_count": null,
   "metadata": {},
   "outputs": [],
   "source": [
    "c = r.TCanvas()\n",
    "tcomp.Draw(\"energyWest:energyEast\",\"TMath::Abs(deltaT- timeCorr) > 5\",\"colz\")\n",
    "c.Draw()"
   ]
  },
  {
   "cell_type": "markdown",
   "metadata": {},
   "source": [
    "evwDeltaTCaloAfterCorr = f.Get(\"farline\").Get(\"evwDeltaTCaloAfterCorr\")\n",
    "ding = evwDeltaTCaloAfterCorr.Integral(evwDeltaTCaloAfterCorr.GetXaxis().FindBin(-20),\n",
    "                                       evwDeltaTCaloAfterCorr.GetXaxis().FindBin(-5)) \n",
    "dong = evwDeltaTCaloAfterCorr.Integral(evwDeltaTCaloAfterCorr.GetXaxis().FindBin(-20),\n",
    "                                       evwDeltaTCaloAfterCorr.GetXaxis().FindBin(20))\n",
    "\n",
    "print(ding, \"/\", dong,\" = \", ding/dong*100,\"%\")"
   ]
  },
  {
   "cell_type": "code",
   "execution_count": null,
   "metadata": {},
   "outputs": [],
   "source": [
    "c = r.TCanvas()\n",
    "h = r.TH2D(\"h\",\"#deltat [Corrected] vs. E_{west}; E_{west} [MeV]; #deltat [c.t.]\",6000,0,6000,2000,-20,20)\n",
    "tcomp.Draw(\"deltaT-timeCorr:energyWest>>h\",\"\",\"goff\")\n",
    "\n",
    "h.Draw(\"COLZ\")\n",
    "\n",
    "c.SetLogz()\n",
    "c.Draw()"
   ]
  },
  {
   "cell_type": "code",
   "execution_count": null,
   "metadata": {},
   "outputs": [],
   "source": [
    "c = r.TCanvas()\n",
    "h.GetXaxis().SetRangeUser(-15,6000)\n",
    "h.Draw(\"COLZ\")\n",
    "c.SetLogz()\n",
    "c.Draw()"
   ]
  },
  {
   "cell_type": "code",
   "execution_count": null,
   "metadata": {},
   "outputs": [],
   "source": [
    "c = r.TCanvas()\n",
    "h.GetXaxis().SetRangeUser(-1,6000)\n",
    "h.GetYaxis().SetRangeUser(-15,15)\n",
    "h.Draw(\"COLZ\")\n",
    "#line.Draw(\"SAME\")\n",
    "\n",
    "c.SetLogz()\n",
    "c.Draw()"
   ]
  },
  {
   "cell_type": "code",
   "execution_count": null,
   "metadata": {},
   "outputs": [],
   "source": [
    "c = r.TCanvas()\n",
    "h.GetXaxis().SetRangeUser(-1,6000)\n",
    "h.GetYaxis().SetRangeUser(-1.5,1.5)\n",
    "h.Draw(\"COLZ\")\n",
    "#line.Draw(\"SAME\")\n",
    "\n",
    "c.SetLogz()\n",
    "c.Draw()"
   ]
  },
  {
   "cell_type": "code",
   "execution_count": null,
   "metadata": {},
   "outputs": [],
   "source": [
    "c = r.TCanvas()\n",
    "h2 = r.TH2D(\"h2\",\"#deltat [Corrected] vs. #deltaE; #deltaE [MeV]; #deltat [c.t.]\",6000,-6000,6000,2000,-20,20)\n",
    "tcomp.Draw(\"deltaT-timeCorr:deltaE>>h2\",\"\",\"goff\")\n",
    "h2.Draw(\"COLZ\")\n",
    "\n",
    "c.SetLogz()\n",
    "c.Draw()"
   ]
  },
  {
   "cell_type": "code",
   "execution_count": null,
   "metadata": {},
   "outputs": [],
   "source": [
    "c = r.TCanvas()\n",
    "h2.GetXaxis().SetRangeUser(-3000,1500)\n",
    "h2.GetYaxis().SetRangeUser(-2,2)\n",
    "h2.Draw(\"COLZ\")\n",
    "\n",
    "c.SetLogz()\n",
    "c.Draw()"
   ]
  },
  {
   "cell_type": "code",
   "execution_count": null,
   "metadata": {},
   "outputs": [],
   "source": [
    "c = r.TCanvas()\n",
    "h3 = r.TH1D(\"h3\",\"#deltat [Corrected]; #deltat [c.t.]\",2000,-20,20)\n",
    "tcomp.Draw(\"deltaT-timeCorr>>h3\",\"\",\"goff\")\n",
    "h3.Draw(\"COLZ\")\n",
    "\n",
    "c.SetLogy()\n",
    "c.Draw()"
   ]
  },
  {
   "cell_type": "code",
   "execution_count": null,
   "metadata": {},
   "outputs": [],
   "source": [
    "c = r.TCanvas()\n",
    "h4 = r.TH1D(\"h4\",\"#deltat [Corrected, E_{west} > 1 GeV ]; #deltat [c.t.]\",2000,-20,20)\n",
    "tcomp.Draw(\"deltaT-timeCorr>>h4\",\"energyWest > 1000\",\"goff\")\n",
    "h4.Draw(\"COLZ\")\n",
    "\n",
    "c.SetLogy()\n",
    "c.Draw()"
   ]
  },
  {
   "cell_type": "code",
   "execution_count": null,
   "metadata": {},
   "outputs": [],
   "source": [
    "c = r.TCanvas()\n",
    "h5 = h3.Clone(\"h5\")\n",
    "h5.Scale(1/(h5.GetEntries()))\n",
    "h5.SetTitle(\"#deltat [Corrected], Normalized by Number of Entries\")\n",
    "h5.Draw(\"hist\")\n",
    "\n",
    "h6 = h4.Clone(\"h6\")\n",
    "h6.Scale(1/(h6.GetEntries()))\n",
    "h6.SetLineColor(2)\n",
    "h6.Draw(\"hist same\")\n",
    "\n",
    "leg = r.TLegend(0.1,0.77,0.45,0.9)\n",
    "leg.AddEntry(h5 ,\"#deltat [Corrected]\", \"l\")\n",
    "leg.AddEntry(h6 ,\"#deltat [Corrected, E_{west} > 0.5 GeV ]\", \"l\")\n",
    "leg.Draw()\n",
    "\n",
    "c.SetLogy()\n",
    "c.Draw()"
   ]
  },
  {
   "cell_type": "code",
   "execution_count": null,
   "metadata": {},
   "outputs": [],
   "source": [
    "c = r.TCanvas()\n",
    "\n",
    "h5.GetXaxis().SetRangeUser(-3,3)\n",
    "h5.Draw(\"hist\")\n",
    "h6.Draw(\"hist same\")\n",
    "\n",
    "leg.Draw()\n",
    "\n",
    "c.SetLogy()\n",
    "c.Draw()"
   ]
  },
  {
   "cell_type": "code",
   "execution_count": null,
   "metadata": {},
   "outputs": [],
   "source": [
    "ecuts = [0,250,500,1000,2000]\n",
    "cutvec = []\n",
    "\n",
    "for cut in ecuts:\n",
    "    print(cut)\n",
    "    h7 = h.ProjectionY(\"\",cut,-1)\n",
    "    print(h7.GetEntries())\n",
    "    h7.Scale(1/(h7.GetEntries()))\n",
    "    cutvec.append( h7.Clone(\"h\"+str(cut)))\n",
    "    \n",
    "\n",
    "c = r.TCanvas()\n",
    "leg = r.TLegend(0.1,0.5,0.35,0.9)\n",
    "\n",
    "for i, h7 in enumerate(cutvec):\n",
    "    print(h7)\n",
    "    h7.GetXaxis().SetRangeUser(-3,3)\n",
    "    if i < 4:\n",
    "        h7.SetLineColor(i+1)\n",
    "    else:\n",
    "        h7.SetLineColor(i+2)\n",
    "    if i < 0.5:\n",
    "        h7.Draw(\"HIST\")\n",
    "    else:\n",
    "        h7.Draw(\"HIST SAME\")\n",
    "        \n",
    "    leg.AddEntry(h7 ,\"#deltat [E_{west} > \"+str(ecuts[i])+\"]\", \"l\")\n",
    "\n",
    "        \n",
    "\n",
    "leg.Draw()\n",
    "\n",
    "c.SetLogy()\n",
    "c.Draw()"
   ]
  },
  {
   "cell_type": "code",
   "execution_count": null,
   "metadata": {},
   "outputs": [],
   "source": [
    "c = r.TCanvas()\n",
    "h.Draw(\"COLZ\")\n",
    "\n",
    "\n",
    "lines = []\n",
    "boundary = 15\n",
    "h.GetYaxis().SetRangeUser(-1*boundary, boundary)\n",
    "for i, elow in enumerate(ecuts):\n",
    "    line = r.TLine(elow, -1*boundary, elow,  boundary)\n",
    "    if i < 4:\n",
    "        line.SetLineColor(i+1)\n",
    "    else:\n",
    "        line.SetLineColor(i+2)\n",
    "    line.SetLineStyle(4)\n",
    "    \n",
    "    lines.append(line)\n",
    "\n",
    "for line in lines:\n",
    "    line.Draw(\"SAME\")\n",
    "    \n",
    "c.SetLogz()\n",
    "c.Draw()"
   ]
  },
  {
   "cell_type": "code",
   "execution_count": null,
   "metadata": {},
   "outputs": [],
   "source": [
    "c = r.TCanvas()\n",
    "h8 = r.TH2D(\"h8\",\"E_{west} vs. #deltaE; E_{west} [MeV]; #deltaE/E_{west}\",6000,0,6000,2000,0,20)\n",
    "tcomp.Draw(\"TMath::Abs(deltaE/energyWest):energyWest>>h8\",\"\",\"goff\")\n",
    "h8.Draw(\"COLZ\")\n",
    "\n",
    "c.SetLogz()\n",
    "c.Draw()"
   ]
  },
  {
   "cell_type": "code",
   "execution_count": null,
   "metadata": {},
   "outputs": [],
   "source": [
    "c = r.TCanvas()\n",
    "h8.GetYaxis().SetRangeUser(0.001,2)\n",
    "h8.Draw(\"COLZ\")\n",
    "c.SetLogy()\n",
    "c.SetLogz()\n",
    "c.Draw()"
   ]
  },
  {
   "cell_type": "code",
   "execution_count": null,
   "metadata": {},
   "outputs": [],
   "source": [
    "c = r.TCanvas()\n",
    "tcomp.Draw(\"deltaE:energyWest\",\"energyWest > 70\",\"colz\")\n",
    "c.SetLogz()\n",
    "c.Draw()"
   ]
  },
  {
   "cell_type": "code",
   "execution_count": null,
   "metadata": {},
   "outputs": [],
   "source": [
    "c = r.TCanvas()\n",
    "h15 = r.TH2D(\"h15\",\"E_{west} vs. #deltaE [270 > E_{west} > 70]; E_{west} [MeV]; #deltaE\",6000,0,6000,6000,-4000,2000)\n",
    "tcomp.Draw(\"deltaE:energyWest>>h15\",\"energyWest > 70 && energyWest < 270\",\"goff\")\n",
    "h15.Draw(\"colz\")\n",
    "c.SetLogz()\n",
    "c.Draw()"
   ]
  },
  {
   "cell_type": "code",
   "execution_count": null,
   "metadata": {},
   "outputs": [],
   "source": [
    "c = r.TCanvas()\n",
    "h15.Draw(\"colz\")\n",
    "h15.GetYaxis().SetRangeUser(-1200,1000)\n",
    "h15.GetXaxis().SetRangeUser(0,300)\n",
    "c.SetLogz()\n",
    "c.Draw()"
   ]
  },
  {
   "cell_type": "code",
   "execution_count": null,
   "metadata": {},
   "outputs": [],
   "source": [
    "c = r.TCanvas()\n",
    "h9 = r.TH2D(\"h9\",\"E_{west} vs. #deltaX; E_{west} [MeV]; #deltaX\",6000,0,6000,900,-9,9)\n",
    "tcomp.Draw(\"deltaX:energyWest>>h9\",\"\",\"goff\")\n",
    "h9.Draw(\"COLZ\")\n",
    "\n",
    "c.SetLogz()\n",
    "c.Draw()"
   ]
  },
  {
   "cell_type": "code",
   "execution_count": null,
   "metadata": {},
   "outputs": [],
   "source": [
    "c = r.TCanvas()\n",
    "h10 = r.TH2D(\"h10\",\"E_{west} vs. #deltaY; E_{west} [MeV]; #deltaY\",6000,0,6000,600,-6,6)\n",
    "tcomp.Draw(\"deltaY:energyWest>>h10\",\"\",\"goff\")\n",
    "h10.Draw(\"COLZ\")\n",
    "\n",
    "c.SetLogz()\n",
    "c.Draw()"
   ]
  },
  {
   "cell_type": "code",
   "execution_count": null,
   "metadata": {},
   "outputs": [],
   "source": [
    "c = r.TCanvas()\n",
    "tcomp.Draw(\"energyWest:KS\",\"\",\"colz\")\n",
    "\n",
    "c.SetLogz()\n",
    "c.Draw()"
   ]
  },
  {
   "cell_type": "code",
   "execution_count": null,
   "metadata": {},
   "outputs": [],
   "source": [
    "c = r.TCanvas()\n",
    "h11 = r.TH2D(\"h11\",\"p_{KS} vs. #deltaR; p_{KS}; #deltaR = #sqrt{#deltax**2 + #deltay**2\",50,0,1,200,0,10)\n",
    "h11.GetYaxis().SetTitle(\"#deltaR = #sqrt{#deltax^{2} + #deltay^{2}}\")\n",
    "tcomp.Draw(\"TMath::Sqrt(deltaX**2 + deltaY**2):KS>>h11\",\"\",\"goff\")\n",
    "\n",
    "\n",
    "h11.Draw(\"colz\")\n",
    "c.SetLogz()\n",
    "c.Draw()"
   ]
  },
  {
   "cell_type": "code",
   "execution_count": null,
   "metadata": {},
   "outputs": [],
   "source": [
    "c = r.TCanvas()\n",
    "tcomp.Draw(\"TMath::Sqrt(deltaX**2 + deltaY**2 + deltaT**2):KS\",\"\",\"colz\")\n",
    "\n",
    "c.SetLogz()\n",
    "c.Draw()"
   ]
  },
  {
   "cell_type": "code",
   "execution_count": null,
   "metadata": {},
   "outputs": [],
   "source": [
    "c = r.TCanvas()\n",
    "h11 = r.TH2D(\"h11\",\"p_{KS} vs. #deltaR; p_{KS}\",50,0,1,500,0,25)\n",
    "h11.GetYaxis().SetTitle(\"#deltaR^{4} = #sqrt{#deltax^{2} + #deltay^{2} + #deltat^{2}}\")\n",
    "tcomp.Draw(\"TMath::Sqrt(deltaX**2 + deltaY**2 + deltaT**2):KS>>h11\",\"\",\"goff\")\n",
    "\n",
    "\n",
    "h11.Draw(\"colz\")\n",
    "c.SetLogz()\n",
    "c.Draw()"
   ]
  },
  {
   "cell_type": "code",
   "execution_count": null,
   "metadata": {},
   "outputs": [],
   "source": [
    "c = r.TCanvas()\n",
    "tcomp.Draw(\"deltaT:KS\",\"\",\"colz\")\n",
    "\n",
    "c.SetLogz()\n",
    "c.Draw()"
   ]
  },
  {
   "cell_type": "code",
   "execution_count": null,
   "metadata": {},
   "outputs": [],
   "source": [
    "c = r.TCanvas()\n",
    "tcomp.Draw(\"deltaE:timeWest\",\"\",\"colz\")\n",
    "\n",
    "c.SetLogz()\n",
    "c.Draw()"
   ]
  },
  {
   "cell_type": "code",
   "execution_count": null,
   "metadata": {},
   "outputs": [],
   "source": [
    "c = r.TCanvas()\n",
    "h12 = r.TH2D(\"h12\",\"#deltaE vs. t_{west}; t_{west} [#mus]; #deltaE [MeV]\",7000,0,700,4000,-4000,4000)\n",
    "tcomp.Draw(\"deltaE:timeWest/1000*1.25>>h12\",\"\",\"goff\")\n",
    "h12.Draw(\"colz\")\n",
    "c.SetLogz()\n",
    "c.Draw()"
   ]
  },
  {
   "cell_type": "code",
   "execution_count": null,
   "metadata": {},
   "outputs": [],
   "source": [
    "c = r.TCanvas()\n",
    "h12.GetXaxis().SetRangeUser(100,700)\n",
    "h12.GetYaxis().SetRangeUser(-1500,1000)\n",
    "h12.Draw(\"colz\")\n",
    "c.SetLogz()\n",
    "c.Draw()"
   ]
  },
  {
   "cell_type": "code",
   "execution_count": null,
   "metadata": {},
   "outputs": [],
   "source": [
    "nbins = h12.ProjectionY().GetNbinsX()\n",
    "print(nbins)\n",
    "h13 = h12.ProfileX()\n",
    "c = r.TCanvas()\n",
    "h13.GetXaxis().SetRangeUser(100,650)\n",
    "h13.Draw()\n",
    "c.SetGrid()\n",
    "c.Draw()"
   ]
  },
  {
   "cell_type": "code",
   "execution_count": null,
   "metadata": {},
   "outputs": [],
   "source": [
    "profileVec = []\n",
    "for calo in range(1,25):\n",
    "    print(calo)\n",
    "    h12 = r.TH2D(\"h12\",\"#deltaE vs. t_{west}; t_{west} [#mus]; #deltaE [MeV]\",7000,0,700,4000,-4000,4000)\n",
    "    tcomp.Draw(\"deltaE:timeWest/1000*1.25>>h12\",\"caloNum == \"+str(calo),\"goff\")\n",
    "    h13 = h12.ProfileX()\n",
    "    h13.GetXaxis().SetRangeUser(100,200)\n",
    "    profileVec.append(h13.Clone(\"h13_\"+str(calo)))"
   ]
  },
  {
   "cell_type": "code",
   "execution_count": null,
   "metadata": {},
   "outputs": [],
   "source": [
    "c = r.TCanvas(\"c\",\"c\",4500,2000)\n",
    "c.Divide(6,4)\n",
    "for i, hi in enumerate(profileVec):\n",
    "    c.cd(i+1)\n",
    "    hi.Draw()\n",
    "c.Draw()"
   ]
  },
  {
   "cell_type": "code",
   "execution_count": null,
   "metadata": {},
   "outputs": [],
   "source": [
    "h12 = r.TH2D(\"h12\",\"#deltaE vs. t_{west}; t_{west} [#mus]; #deltaE [MeV]\",7000,0,700,4000,-4000,4000)\n",
    "tcomp.Draw(\"deltaE:timeWest/1000*1.25>>h12\",\"\",\"goff\")"
   ]
  },
  {
   "cell_type": "code",
   "execution_count": null,
   "metadata": {},
   "outputs": [],
   "source": [
    "profileVecByEnergy = []\n",
    "step=250\n",
    "for erange in range(-1500,1000,step):\n",
    "    print(erange)\n",
    "    \n",
    "    gcut1 =r.TCutG(\"gcut1\",5);\n",
    "    gcut1.SetPoint(0,100,erange)\n",
    "    gcut1.SetPoint(1,700,erange)\n",
    "    gcut1.SetPoint(2,700,erange+step)\n",
    "    gcut1.SetPoint(3,100,erange+step)\n",
    "    gcut1.SetPoint(4,100,erange)\n",
    "    \n",
    "    h13 = h12.ProfileX(\"\",1,-1,\"[gcut1]\")\n",
    "    h13.SetTitle(\"#deltaE vs. t_{west} Profile: \"+str(erange)+\" < #deltaE < \"+str(erange+step))\n",
    "    h13.GetXaxis().SetRangeUser(100,200)\n",
    "    profileVecByEnergy.append(h13.Clone(\"h13_\"+str(erange)))"
   ]
  },
  {
   "cell_type": "code",
   "execution_count": null,
   "metadata": {},
   "outputs": [],
   "source": [
    "c = r.TCanvas(\"c\",\"c\",2500,2000)\n",
    "c.Divide(4,3)\n",
    "for i, hi in enumerate(profileVecByEnergy):\n",
    "    c.cd(i+1)\n",
    "    hi.Draw()\n",
    "c.Draw()"
   ]
  },
  {
   "cell_type": "code",
   "execution_count": null,
   "metadata": {},
   "outputs": [],
   "source": [
    "profileVecByEnergy2 = []\n",
    "step=250\n",
    "for erange in range(0,3000,step):\n",
    "    print(erange)\n",
    "    h12 = r.TH2D(\"h12\",\"#deltaE vs. t_{west}; t_{west} [#mus]; #deltaE [MeV]\",7000,0,700,4000,-4000,4000)\n",
    "    tcomp.Draw(\"deltaE:timeWest/1000*1.25>>h12\",\"energyWest > \"+str(erange)+\" && energyWest < \"+str(erange+step),\"goff\")\n",
    "    h13 = h12.ProfileX()\n",
    "    h13.GetXaxis().SetRangeUser(100,200)\n",
    "    profileVecByEnergy2.append(h13.Clone(\"h13_\"+str(erange)))"
   ]
  },
  {
   "cell_type": "code",
   "execution_count": null,
   "metadata": {},
   "outputs": [],
   "source": [
    "c = r.TCanvas(\"c\",\"c\",4500,2000)\n",
    "c.Divide(4,3)\n",
    "for i, hi in enumerate(profileVecByEnergy2):\n",
    "    hi.SetTitle(\"#deltaE vs. t_{west} Projection: \"+str(i*step)+\" < E_{west} < \"+str((i+1)*step))\n",
    "    c.cd(i+1)\n",
    "    hi.Draw()\n",
    "c.Draw()"
   ]
  },
  {
   "cell_type": "code",
   "execution_count": null,
   "metadata": {},
   "outputs": [],
   "source": [
    "c = r.TCanvas()\n",
    "tcomp.Draw(\"deltaE/energyWest:timeWest\",\"\",\"colz\")\n",
    "\n",
    "c.SetLogz()\n",
    "c.Draw()"
   ]
  },
  {
   "cell_type": "code",
   "execution_count": null,
   "metadata": {},
   "outputs": [],
   "source": [
    "c = r.TCanvas()\n",
    "h12 = r.TH2D(\"h12\",\"#deltaE/E_{west} vs. t_{west}; t_{west} [#mus]; #deltaE/E_{west} \",7000,0,700,6000,-10,50)\n",
    "tcomp.Draw(\"deltaE/energyWest:timeWest/1000*1.25>>h12\",\"\",\"goff\")\n",
    "h12.Draw(\"colz\")\n",
    "c.SetLogz()\n",
    "c.Draw()"
   ]
  },
  {
   "cell_type": "code",
   "execution_count": null,
   "metadata": {},
   "outputs": [],
   "source": [
    "c = r.TCanvas()\n",
    "h12.GetXaxis().SetRangeUser(90,600)\n",
    "h12.GetYaxis().SetRangeUser(-2,4)\n",
    "h12.Draw(\"colz\")\n",
    "c.SetLogz()\n",
    "c.Draw()"
   ]
  },
  {
   "cell_type": "code",
   "execution_count": null,
   "metadata": {},
   "outputs": [],
   "source": [
    "h13 = h12.ProfileX()\n",
    "c = r.TCanvas()\n",
    "h13.GetXaxis().SetRangeUser(100,650)\n",
    "h13.Draw()\n",
    "c.SetGrid()\n",
    "c.Draw()"
   ]
  },
  {
   "cell_type": "code",
   "execution_count": null,
   "metadata": {},
   "outputs": [],
   "source": [
    "c = r.TCanvas(\"c\",\"c\",1800,400)\n",
    "h13.GetXaxis().SetRangeUser(100,300)\n",
    "h13.GetYaxis().SetRangeUser(-0.09,-0.07)\n",
    "h13.Draw()\n",
    "c.SetGrid()\n",
    "c.Draw()"
   ]
  },
  {
   "cell_type": "code",
   "execution_count": null,
   "metadata": {},
   "outputs": [],
   "source": [
    "c = r.TCanvas()\n",
    "h14 = r.TH1D(\"h14\",\"t_{west}; Time [#mus]\",7000,0,700)\n",
    "tcomp.Draw(\"timeWest/1000*1.25>>h14\",\"\",\"goff\")\n",
    "h14.Draw()\n",
    "c.Draw()"
   ]
  },
  {
   "cell_type": "code",
   "execution_count": null,
   "metadata": {},
   "outputs": [],
   "source": [
    "c = r.TCanvas()\n",
    "h14.GetXaxis().SetRangeUser(100,200)\n",
    "h14.Draw()\n",
    "c.SetLogy()\n",
    "c.Draw()"
   ]
  },
  {
   "cell_type": "code",
   "execution_count": null,
   "metadata": {},
   "outputs": [],
   "source": [
    "c = r.TCanvas()\n",
    "hi = r.TH2D(\"hi\",\"Energy vs. Time of Recon West Clusters; Time [#mus]; Energy [MeV]\"\n",
    "            ,700,0,700,10000,0,20000)\n",
    "tcomp.Draw(\"energyWest:timeWest/1000*1.25>>hi\",\"\",\"goff\")\n",
    "#hi.GetZaxis().SetRangeUser(1,5 * 10**3)\n",
    "hi.Draw(\"colz\")\n",
    "c.SetLogz()\n",
    "c.SetLogy()\n",
    "c.Draw()"
   ]
  },
  {
   "cell_type": "code",
   "execution_count": null,
   "metadata": {},
   "outputs": [],
   "source": [
    "c = r.TCanvas()\n",
    "hi.GetYaxis().SetRangeUser(0,500)\n",
    "hi.Draw(\"colz\")\n",
    "c.SetLogz()\n",
    "c.SetLogy()\n",
    "c.Draw()"
   ]
  },
  {
   "cell_type": "code",
   "execution_count": null,
   "metadata": {},
   "outputs": [],
   "source": [
    "v9_08timeconstants = [-2.1886727628212714, -2.5314258530103917, -2.43426185892008, -2.386595550136279, \n",
    "                      -0.2908762679000488, 0.538604239206295, 0.13934390451688286, -0.10100005508280471, \n",
    "                      -0.6764988302532722, -0.46900675029384975, -0.7232518604611012, -0.911334393422254, \n",
    "                      -0.004716659872673282, -0.18708331238893508, -0.5426331552242547, -0.2599619791955008, \n",
    "                      -0.7657443384936286, -0.9995150687797029, -0.9465523517444258, -0.94931882878597, \n",
    "                      -0.21651849142456392, -0.019902691377642553, -0.4720185353423848, 0.13792646339208234]\n",
    "\n",
    "v9_11_partial_timeConstants = [-1.9927424710381956, -2.2327952709326433, -2.1094293252077803, -2.148967429368733, \n",
    "                               -0.02466230748844936, 0.6532349385165496, 0.4350607795018597, 0.14064319367828484, \n",
    "                               -0.3931196991567539, -0.3152627528891446, -0.5406804320480803, -0.5466881307366451, \n",
    "                               0.11806312504137442, 0.06296898245450647, -0.2283208361752229, -0.05252791197490053, \n",
    "                               -0.4921456912368829, -0.7013087263754624, -0.7137333158762289, -0.827710404308056, \n",
    "                               0.021333200986742643, 0.3431598724421979, 0.02901553411755545, 0.31523420095011445]"
   ]
  },
  {
   "cell_type": "code",
   "execution_count": null,
   "metadata": {},
   "outputs": [],
   "source": [
    "c = r.TCanvas()\n",
    "\n",
    "calo = 15\n",
    "\n",
    "h3 = r.TH1D(\"h3\",\"#deltat [Corrected]; #deltat [c.t.]\",2000,-20,20)\n",
    "tcomp.Draw(\"deltaT-\"+str(v9_11_partial_timeConstants[calo-1])+\">>h3\",\"caloNum == \"+str(calo),\"goff\")\n",
    "h3.Draw(\"COLZ\")\n",
    "\n",
    "c.SetLogy()\n",
    "c.Draw()"
   ]
  },
  {
   "cell_type": "code",
   "execution_count": null,
   "metadata": {},
   "outputs": [],
   "source": [
    "hall = r.TH1D(\"hall\",\"#deltat [Corrected, E_{west} > 150 MeV]; #deltat [c.t.]\",2000,-20,20)\n",
    "c = r.TCanvas()\n",
    "\n",
    "for calo in range(1,25):\n",
    "    print(calo)\n",
    "    h3 = r.TH1D(\"h3\",\"#deltat [Corrected]; #deltat [c.t.]\",2000,-20,20)\n",
    "    tcomp.Draw(\"deltaT-\"+str(v9_11_partial_timeConstants[calo-1])+\">>h3\",\"energyWest > 150 && caloNum == \"+str(calo),\"goff\")\n",
    "    hall.Add(h3,1)\n",
    "    \n",
    "hall.Draw(\"\")\n",
    "\n",
    "c.SetLogy()\n",
    "c.Draw()"
   ]
  },
  {
   "cell_type": "code",
   "execution_count": null,
   "metadata": {},
   "outputs": [],
   "source": [
    "c = r.TCanvas()\n",
    "    \n",
    "hall.Draw(\"\")\n",
    "hall.GetXaxis().SetRangeUser(-3,3)\n",
    "c.SetLogy()\n",
    "\n",
    "c.Draw()"
   ]
  },
  {
   "cell_type": "code",
   "execution_count": null,
   "metadata": {},
   "outputs": [],
   "source": [
    "hall_under = r.TH1D(\"hall_under\",\"#deltat [Corrected, E_{west} < 150 MeV]; #deltat [c.t.]\",2000,-20,20)\n",
    "c = r.TCanvas()\n",
    "\n",
    "for calo in range(1,25):\n",
    "    print(calo)\n",
    "    h3 = r.TH1D(\"h3\",\"#deltat [Corrected]; #deltat [c.t.]\",2000,-20,20)\n",
    "    tcomp.Draw(\"deltaT-\"+str(v9_11_partial_timeConstants[calo-1])+\">>h3\",\"energyWest < 150 && caloNum == \"+str(calo),\"goff\")\n",
    "    hall_under.Add(h3,1)\n",
    "    \n",
    "hall_under.Draw(\"\")\n",
    "\n",
    "c.SetLogy()\n",
    "c.Draw()"
   ]
  },
  {
   "cell_type": "code",
   "execution_count": null,
   "metadata": {},
   "outputs": [],
   "source": [
    "hall2 = r.TH2D(\"hall2\",\"#deltat [Corrected]; #deltat [c.t.]\",2000,-20,20,26,0,26)\n",
    "\n",
    "for calo in range(1,25):\n",
    "    print(calo)\n",
    "    h3 = r.TH2D(\"h3\",\"#deltat [Corrected]; #deltat [c.t.]\",2000,-20,20,26,0,26)\n",
    "    tcomp.Draw(\"caloNum:deltaT-\"+str(v9_11_partial_timeConstants[calo-1])+\">>h3\",\"caloNum == \"+str(calo),\"goff\")\n",
    "    hall2.Add(h3,1)"
   ]
  },
  {
   "cell_type": "code",
   "execution_count": null,
   "metadata": {},
   "outputs": [],
   "source": [
    "c = r.TCanvas()\n",
    "hall2.Draw(\"colz\")\n",
    "c.SetLogz()\n",
    "c.Draw()"
   ]
  },
  {
   "cell_type": "code",
   "execution_count": null,
   "metadata": {},
   "outputs": [],
   "source": [
    "c = r.TCanvas()\n",
    "hall2.GetXaxis().SetRangeUser(-1.5,1.5)\n",
    "hall2.Draw(\"colz\")\n",
    "c.SetLogz()\n",
    "c.Draw()"
   ]
  },
  {
   "cell_type": "code",
   "execution_count": null,
   "metadata": {},
   "outputs": [],
   "source": [
    "hall3 = r.TH2D(\"hall3\",\"#deltat [Corrected]; E_{west} [MeV]; #deltat [c.t.]\",6000,0,6000,2000,-20,20)\n",
    "\n",
    "for calo in range(1,25):\n",
    "    print(calo)\n",
    "    h3 = r.TH2D(\"h3\",\"#deltat [Corrected]; #deltat [c.t.]\",6000,0,6000,2000,-20,20)\n",
    "    tcomp.Draw(\"deltaT-\"+str(v9_11_partial_timeConstants[calo-1])+\":energyWest>>h3\",\"caloNum == \"+str(calo),\"goff\")\n",
    "    hall3.Add(h3,1)"
   ]
  },
  {
   "cell_type": "code",
   "execution_count": null,
   "metadata": {},
   "outputs": [],
   "source": [
    "c = r.TCanvas()\n",
    "hall3.GetYaxis().SetRangeUser(-15,15)\n",
    "hall3.Draw(\"colz\")\n",
    "c.SetLogz()\n",
    "c.Draw()"
   ]
  },
  {
   "cell_type": "code",
   "execution_count": null,
   "metadata": {},
   "outputs": [],
   "source": [
    "c = r.TCanvas()\n",
    "hall3.GetYaxis().SetRangeUser(-1.5,1.5)\n",
    "hall3.Draw(\"colz\")\n",
    "c.SetLogz()\n",
    "c.Draw()"
   ]
  },
  {
   "cell_type": "code",
   "execution_count": null,
   "metadata": {},
   "outputs": [],
   "source": [
    "ecuts = [0,250,500,1000,2000]"
   ]
  },
  {
   "cell_type": "code",
   "execution_count": null,
   "metadata": {},
   "outputs": [],
   "source": [
    "c = r.TCanvas()\n",
    "hall3.Draw(\"COLZ\")\n",
    "\n",
    "\n",
    "lines = []\n",
    "boundary = 15\n",
    "hall3.GetYaxis().SetRangeUser(-1*boundary, boundary)\n",
    "for i, elow in enumerate(ecuts):\n",
    "    line = r.TLine(elow, -1*boundary, elow,  boundary)\n",
    "    if i < 4:\n",
    "        line.SetLineColor(i+1)\n",
    "    else:\n",
    "        line.SetLineColor(i+2)\n",
    "    line.SetLineStyle(4)\n",
    "    \n",
    "    lines.append(line)\n",
    "\n",
    "for line in lines:\n",
    "    line.Draw(\"SAME\")\n",
    "    \n",
    "c.SetLogz()\n",
    "c.Draw()"
   ]
  },
  {
   "cell_type": "code",
   "execution_count": null,
   "metadata": {},
   "outputs": [],
   "source": [
    "cutvec = []\n",
    "for cut in ecuts:\n",
    "    print(cut)\n",
    "    h7 = hall3.ProjectionY(\"\",cut,-1)\n",
    "    print(h7.GetEntries())\n",
    "    h7.Scale(1/(h7.GetEntries()))\n",
    "    cutvec.append( h7.Clone(\"h\"+str(cut)))\n",
    "    \n",
    "\n",
    "c = r.TCanvas()\n",
    "leg = r.TLegend(0.1,0.5,0.35,0.9)\n",
    "\n",
    "for i, h7 in enumerate(cutvec):\n",
    "    print(h7)\n",
    "    h7.GetXaxis().SetRangeUser(-3,3)\n",
    "    if i < 4:\n",
    "        h7.SetLineColor(i+1)\n",
    "    else:\n",
    "        h7.SetLineColor(i+2)\n",
    "    if i < 0.5:\n",
    "        h7.Draw(\"HIST\")\n",
    "    else:\n",
    "        h7.Draw(\"HIST SAME\")\n",
    "        \n",
    "    leg.AddEntry(h7 ,\"#deltat [E_{west} > \"+str(ecuts[i])+\"]\", \"l\")\n",
    "\n",
    "        \n",
    "\n",
    "leg.Draw()\n",
    "\n",
    "c.SetLogy()\n",
    "c.Draw()"
   ]
  },
  {
   "cell_type": "code",
   "execution_count": null,
   "metadata": {},
   "outputs": [],
   "source": [
    "evwDeltaTvec = []\n",
    "for calo in range(1,25):\n",
    "    print(calo)\n",
    "    wveEnergyEvW_i = r.TH1D(\"wveEnergyEvW_i\",\"#deltat [Raw, E_{west} > 150 MeV] in Calo \"+str(calo)+\"; #deltat [c.t.]\"\n",
    "                            ,2000,-20,20)\n",
    "    tcomp.Draw(\"deltaT>>wveEnergyEvW_i\",\"energyWest > 150 && caloNum == \"+str(calo),\"goff\")\n",
    "    evwDeltaTvec.append( wveEnergyEvW_i.Clone( \"h\"+str(calo) ) )"
   ]
  },
  {
   "cell_type": "code",
   "execution_count": null,
   "metadata": {},
   "outputs": [],
   "source": [
    "c5 = r.TCanvas(\"c5\",\"c5\",6200,4000)\n",
    "c5.Divide(6,4)\n",
    "\n",
    "for i, hist in enumerate(evwDeltaTvec):\n",
    "    c5.cd(i+1)\n",
    "    hist.SetTitle(\"#deltat [Raw, E_{west} > 150 MeV] in Calo \"+str(i+1)+\"; #deltat [c.t.]\")\n",
    "    r.gPad.SetLogy()\n",
    "    hist.Draw(\"COLZ\")\n",
    "        \n",
    "c5.Draw()\n",
    "#c5.Print(\"./c5.root\")"
   ]
  },
  {
   "cell_type": "code",
   "execution_count": null,
   "metadata": {},
   "outputs": [],
   "source": [
    "hall2 = r.TH1D(\"hall2\",\"#deltat [Raw, E_{west} > 150 MeV]; #deltat [c.t.]\",2000,-20,20)\n",
    "c = r.TCanvas()\n",
    "\n",
    "for i, hist in enumerate(evwDeltaTvec):\n",
    "    print(i+1)\n",
    "    hall2.Add(hist,1)\n",
    "    \n",
    "hall2.Draw(\"\")\n",
    "\n",
    "c.SetLogy()\n",
    "c.Draw()"
   ]
  },
  {
   "cell_type": "code",
   "execution_count": null,
   "metadata": {},
   "outputs": [],
   "source": [
    "c2 = r.TCanvas()\n",
    "hdeltaxy_ecut = r.TH2D(\"hdeltaxy_ecut\",\"#deltax vs. #deltay [E_{west} > 150 MeV]; #deltax [xtals]; #deltay [xtals]\"\n",
    "                       ,1000,-10,10,1000,-10,10)\n",
    "tcomp.Draw(\"deltaY:deltaX>>hdeltaxy_ecut\",\"energyWest > 150\",\"goff\")\n",
    "hdeltaxy_ecut.Draw(\"COLZ\")\n",
    "hdeltaxy_ecut.GetXaxis().SetRangeUser(-9,9)\n",
    "hdeltaxy_ecut.GetYaxis().SetRangeUser(-6,6)\n",
    "c2.SetLogz()\n",
    "c2.Draw()"
   ]
  },
  {
   "cell_type": "code",
   "execution_count": null,
   "metadata": {},
   "outputs": [],
   "source": [
    "hall_deltaTcut = r.TH2D(\"hall_deltaTcut\",\"#deltax vs. #deltay [#deltat > 3 c.t.]; #deltax [xtals]; #deltay [xtals]\"\n",
    "                       ,1000,-10,10,1000,-10,10)\n",
    "c = r.TCanvas()\n",
    "\n",
    "for calo in range(1,25):\n",
    "    print(calo)\n",
    "    h4 = r.TH2D(\"h4\",\"#deltax vs. #deltay; #deltax [xtals]; #deltay [xtals]\"\n",
    "                       ,1000,-10,10,1000,-10,10)\n",
    "    tcomp.Draw(\"deltaY:deltaX>>h4\",\n",
    "               \"TMath::Abs(deltaT-\"+str(v9_11_partial_timeConstants[calo-1])+\") > 3 && caloNum == \"+str(calo),\n",
    "               \"goff\")\n",
    "    hall_deltaTcut.Add(h4,1)\n",
    "    \n",
    "hall_deltaTcut.Draw(\"colz\")\n",
    "\n",
    "c.Draw()"
   ]
  },
  {
   "cell_type": "code",
   "execution_count": null,
   "metadata": {},
   "outputs": [],
   "source": [
    "c = r.TCanvas()\n",
    "hall_deltaTcut.Draw(\"\")\n",
    "\n",
    "c.Draw()"
   ]
  },
  {
   "cell_type": "code",
   "execution_count": null,
   "metadata": {},
   "outputs": [],
   "source": [
    "c = r.TCanvas()\n",
    "hall_deltaTcut.Draw(\"colz\")\n",
    "hall_deltaTcut.GetYaxis().SetRangeUser(-6,6)\n",
    "hall_deltaTcut.GetXaxis().SetRangeUser(-9,9)\n",
    "\n",
    "c.Draw()"
   ]
  },
  {
   "cell_type": "code",
   "execution_count": null,
   "metadata": {},
   "outputs": [],
   "source": []
  }
 ],
 "metadata": {
  "kernelspec": {
   "display_name": "Python 3",
   "language": "python",
   "name": "python3"
  },
  "language_info": {
   "codemirror_mode": {
    "name": "ipython",
    "version": 3
   },
   "file_extension": ".py",
   "mimetype": "text/x-python",
   "name": "python",
   "nbconvert_exporter": "python",
   "pygments_lexer": "ipython3",
   "version": "3.6.8"
  }
 },
 "nbformat": 4,
 "nbformat_minor": 2
}
