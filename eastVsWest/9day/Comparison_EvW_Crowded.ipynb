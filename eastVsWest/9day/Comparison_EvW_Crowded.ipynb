{
 "cells": [
  {
   "cell_type": "code",
   "execution_count": null,
   "metadata": {},
   "outputs": [],
   "source": [
    "from standardInclude import *"
   ]
  },
  {
   "cell_type": "code",
   "execution_count": null,
   "metadata": {},
   "outputs": [],
   "source": [
    "f = r.TFile(\"./60hUnblindingWorkshop/data/crowded/gm2offline_ana_17366149_15930.00084.root\")\n",
    "t = f.Get(\"farline\").Get(\"evwTree\")\n",
    "f.ls()"
   ]
  },
  {
   "cell_type": "code",
   "execution_count": null,
   "metadata": {},
   "outputs": [],
   "source": [
    "t.Print()"
   ]
  },
  {
   "cell_type": "code",
   "execution_count": null,
   "metadata": {},
   "outputs": [],
   "source": [
    "c = r.TCanvas()\n",
    "h = r.TH2D(\"h\",\"Number of Clusters in Recon West vs. Recon East; N_{East}; N_{West}\",10,0,10,10,0,10)\n",
    "t.Draw(\"numberOfClustersWest:numberOfClustersEast>>h\"\n",
    "       ,\"(energyWestMaxEnergy>450 || energyEastMaxEnergy > 450) && energyWestMaxEnergy < 30000\"\n",
    "       ,\"goff\")\n",
    "#h.Scale(1/h.GetBinContent(2,2)*100)\n",
    "#h.GetZaxis().SetRangeUser(0.00001,100)\n",
    "h.Draw(\"colz text\")\n",
    "c.SetLogz()\n",
    "c.SetGrid()\n",
    "c.Draw()"
   ]
  },
  {
   "cell_type": "code",
   "execution_count": null,
   "metadata": {},
   "outputs": [],
   "source": [
    "c = r.TCanvas()\n",
    "t.Draw(\"timeWestMaxEnergy - timeEastMaxEnergy>>hist(1000,-20,20)\")\n",
    "c.SetLogy()\n",
    "c.Draw()"
   ]
  },
  {
   "cell_type": "code",
   "execution_count": null,
   "metadata": {},
   "outputs": [],
   "source": [
    "c = r.TCanvas()\n",
    "t.Draw(\"chiSqWest:timeWestMaxEnergy/1000*1.25>>hist(700,0,700,100,0,1000)\",\"numberOfCrystalsWest > 0\",\"colz\")\n",
    "c.SetLogz()\n",
    "c.Draw()"
   ]
  },
  {
   "cell_type": "code",
   "execution_count": null,
   "metadata": {},
   "outputs": [],
   "source": [
    "c = r.TCanvas()\n",
    "t.Draw(\"chiSqEast:timeEastMaxEnergy/1000*1.25>>hist(700,0,700,100,0,4000)\",\"\",\"colz\")\n",
    "c.SetLogz()\n",
    "c.Draw()"
   ]
  },
  {
   "cell_type": "code",
   "execution_count": null,
   "metadata": {},
   "outputs": [],
   "source": [
    "c = r.TCanvas()\n",
    "t.Draw(\"islandNum\",\"\",\"colz\")\n",
    "c.SetLogy()\n",
    "c.Draw()"
   ]
  },
  {
   "cell_type": "code",
   "execution_count": null,
   "metadata": {},
   "outputs": [],
   "source": [
    "c = r.TCanvas()\n",
    "evwEnergyEvW = f.Get(\"farline\").Get(\"evwEnergyEvW\").Clone()\n",
    "evwEnergyEvW.Draw(\"colz\")\n",
    "evwEnergyEvW.Fit(\"pol1\")\n",
    "c.SetLogz()\n",
    "c.Draw()"
   ]
  },
  {
   "cell_type": "code",
   "execution_count": null,
   "metadata": {},
   "outputs": [],
   "source": [
    "c = r.TCanvas()\n",
    "t.Draw(\"energyWestTotalEnergy:energyEastTotalEnergy>>hist(600,0,6000,600,0,6000)\",\"numberOfClustersWest == 1 && numberOfClustersEast == 2\",\"colz\")\n",
    "c.SetLogz()\n",
    "c.Draw()"
   ]
  },
  {
   "cell_type": "markdown",
   "metadata": {},
   "source": [
    "---\n",
    "\n",
    "## n:0 clusters"
   ]
  },
  {
   "cell_type": "code",
   "execution_count": null,
   "metadata": {},
   "outputs": [],
   "source": [
    "c = r.TCanvas()\n",
    "t.Draw(\"energiesWest:numberOfClustersWest\"\n",
    "       ,\"numberOfClustersWest > 2 && numberOfClustersEast == 0 && energyWestTotalEnergy < 30000\"\n",
    "       ,\"\")\n",
    "c.SetLogz()\n",
    "c.Draw()"
   ]
  },
  {
   "cell_type": "code",
   "execution_count": null,
   "metadata": {},
   "outputs": [],
   "source": [
    "c = r.TCanvas()\n",
    "t.Draw(\"caloNum:numberOfClustersWest\"\n",
    "       ,\"numberOfClustersWest > 2 && numberOfClustersEast == 0 && energyWestTotalEnergy < 30000\"\n",
    "       ,\"colz\")\n",
    "c.SetLogz()\n",
    "c.Draw()"
   ]
  },
  {
   "cell_type": "raw",
   "metadata": {},
   "source": [
    "breakpoint = 0\n",
    "counter = 0\n",
    "for i, e in enumerate(t):\n",
    "    if(counter > breakpoint):\n",
    "        break\n",
    "    if(int(e.numberOfClustersWest) > 2 and int(e.numberOfClustersEast) == 0):\n",
    "        uniqueID = constructUniqueIDwave(e)\n",
    "        print(i)\n",
    "        print(\"    \", [x for x in e.energiesWest], [x for x in e.energiesEast])\n",
    "        print(\"    \", e.energyWestTotalEnergy, e.energyEastTotalEnergy)\n",
    "        print(\"    \", e.runNum, e.subRunNum, e.fillNum, e.caloNum, e.islandNum )\n",
    "        print(\"    \", constructUniqueIDwave(e))\n",
    "        print(\"    \", [[y for y in x] for x in e.crystalsWest])\n",
    "        print(\"    \", [x*1.25/1000. for x in e.timesWest])\n",
    "        print(\"    \", [x for x in e.chiSqWest])\n",
    "        dong = []\n",
    "        ding = e.timesWest\n",
    "        for i in range(len(ding)-1):\n",
    "            print(\"      \", (ding[i+1] - ding[i])*1.25/1000., (0.00625 - (ding[i+1] - ding[i])*1.25/1000. % 0.00625))\n",
    "            dong.append((ding[i+1] - ding[i])*1.25/1000. % 0.00625)\n",
    "        print(r'     Mean $\\delta t$ % 160 MHz:',np.mean(dong))\n",
    "        \n",
    "        #print(e.energyWestTotalEnergy/ e.energyEastTotalEnergy)\n",
    "        counter = counter+1"
   ]
  },
  {
   "cell_type": "raw",
   "metadata": {},
   "source": [
    "fwave = r.TFile(\"./60hUnblindingWorkshop/waveforms_15974_00246.root\")\n",
    "fwave.cd(\"islands\")\n",
    "#fwave.ls()\n",
    "\n",
    "twave = fwave.Get(\"islands\").Get(\"islandTree\")\n",
    "#twave.Print()"
   ]
  },
  {
   "cell_type": "raw",
   "metadata": {},
   "source": [
    "islandPlotWaveOnly(uniqueID, twave, False)"
   ]
  },
  {
   "cell_type": "raw",
   "metadata": {},
   "source": [
    "runNum = 15974\n",
    "subrun = 246\n",
    "fill = 75\n",
    "calo = 9\n",
    "island = 155\n",
    "uniqueID = int( str(runNum).zfill(5) +  str(subrun).zfill(5) +  str(fill).zfill(5) +  str(calo).zfill(5) +  str(island).zfill(5) )\n",
    "print(uniqueID)\n",
    "islandPlotWaveOnly(uniqueID, twave, False)\n",
    "\n",
    "fout = r.TFile(\"temp_tree_storage.root\",\"recreate\")\n",
    "tpartial = t.CopyTree( constructConditionFromUniqueIDWave(uniqueID) )\n",
    "for i, e in enumerate(tpartial):\n",
    "    if( uniqueID == constructUniqueIDwave(e) ):\n",
    "        print(i)\n",
    "        print(e.numberOfClustersWest, e.numberOfClustersEast)\n",
    "        print([x for x  in e.energiesWest], [x for x in e.energiesEast])\n",
    "        print(\"    \", [[y for y in x] for x in e.crystalsWest])\n",
    "        vecWest = []\n",
    "        for x in e.crystalsWest:\n",
    "            vecWest.append([y for y in x])\n",
    "        print(\"    \", [[y for y in x] for x in e.crystalsEast])\n",
    "        vecEast = []\n",
    "        for x in e.crystalsEast:\n",
    "            vecEast.append([y for y in x])\n",
    "            \n",
    "        print(vecWest[0], toMap(vecWest[0]))\n",
    "            \n",
    "        imshowCompare(toMap(vecWest[0]), toMap(vecEast[0]), True, False, '')\n",
    "        plotNonUniqueFromVectors(uniqueID, vecWest, vecEast, False)\n",
    "        #break"
   ]
  },
  {
   "cell_type": "raw",
   "metadata": {},
   "source": [
    "ding = [151.24908258609392, 151.26175407026412, 151.2678419854288, 151.27371572423388, 151.28247474977297, 151.2941960098762, 151.30289333446677, 151.3089504327147, 151.31768855372118]\n",
    "dong = []\n",
    "for i in range(len(ding)-1):\n",
    "    print(ding[i+1] - ding[i])\n",
    "    dong.append(ding[i+1] - ding[i])\n",
    "    \n",
    "print(\"Mean:\",np.mean(dong))"
   ]
  },
  {
   "cell_type": "code",
   "execution_count": null,
   "metadata": {},
   "outputs": [],
   "source": [
    "c = r.TCanvas()\n",
    "t.Draw(\"caloNum:crystalsWest>>hist(54,0,54,26,0,26)\",\n",
    "       \"numberOfClustersWest > 1 && numberOfClustersEast == 0 && energiesWest < 400\",\n",
    "       \"colz\")\n",
    "c.SetLogz()\n",
    "c.Draw()"
   ]
  },
  {
   "cell_type": "code",
   "execution_count": null,
   "metadata": {},
   "outputs": [],
   "source": [
    "c = r.TCanvas()\n",
    "num = t.Draw(\"runNum:subRunNum\",\"numberOfClustersWest > 2 && numberOfClustersEast == 0\",\"colz\")\n",
    "print(num)\n",
    "for i in range(num):\n",
    "    print((t.GetV1()[i]),(t.GetV2()[i]))\n",
    "c.Draw()"
   ]
  },
  {
   "cell_type": "markdown",
   "metadata": {},
   "source": [
    "---\n",
    "\n",
    "### Now lets make look at the 1:2 clusters specifically"
   ]
  },
  {
   "cell_type": "code",
   "execution_count": null,
   "metadata": {},
   "outputs": [],
   "source": [
    "condition = \" numberOfClustersWest == 2 && numberOfClustersEast == 1\""
   ]
  },
  {
   "cell_type": "code",
   "execution_count": null,
   "metadata": {},
   "outputs": [],
   "source": [
    "c = r.TCanvas()\n",
    "h = r.TH2D(\"h\",\"E_{west} vs. E_{east}; E_{east} [MeV]; E_{west} [MeV]\",600,0,6000,600,0,6000)\n",
    "t.Draw(\"energyWestTotalEnergy:energyEastTotalEnergy>>h\", condition, \"goff\")\n",
    "h.Draw(\"colz\")\n",
    "func = r.TF1(\"func\",\"pol1\")\n",
    "func.FixParameter(0,0)\n",
    "h.Fit(\"func\")\n",
    "c.SetLogz()\n",
    "c.Draw()"
   ]
  },
  {
   "cell_type": "code",
   "execution_count": null,
   "metadata": {},
   "outputs": [],
   "source": [
    "c = r.TCanvas()\n",
    "t.SetLineColor(3)\n",
    "t.Draw(\"energiesWest\",condition, \"\")\n",
    "t.SetLineColor(4)\n",
    "t.Draw(\"energiesEast\",condition, \"same\")\n",
    "c.SetLogy()\n",
    "c.Draw()"
   ]
  },
  {
   "cell_type": "code",
   "execution_count": null,
   "metadata": {},
   "outputs": [],
   "source": [
    "c = r.TCanvas()\n",
    "h = r.TH1D(\"h\",\"Energies\", 200,0,6000)\n",
    "h.SetLineColor(3)\n",
    "t.Draw(\"Max$(energiesWest)>>h\",condition)\n",
    "t.SetLineColor(30)\n",
    "t.Draw(\"Min$(energiesWest)\",condition, \"same\")\n",
    "t.SetLineColor(4)\n",
    "t.Draw(\"energiesEast\",condition, \"same\")\n",
    "c.SetLogy()\n",
    "h.GetYaxis().SetRangeUser(0.1,100000)\n",
    "c.Draw()"
   ]
  },
  {
   "cell_type": "markdown",
   "metadata": {},
   "source": [
    "---"
   ]
  },
  {
   "cell_type": "code",
   "execution_count": null,
   "metadata": {},
   "outputs": [],
   "source": [
    "c = r.TCanvas()\n",
    "t.Draw(\"numberOfClustersWest-numberOfClustersEast:timeWestMaxEnergy\",\"energiesWest < 30000\",\"colz\")\n",
    "c.SetLogz()\n",
    "c.Draw()"
   ]
  },
  {
   "cell_type": "code",
   "execution_count": null,
   "metadata": {},
   "outputs": [],
   "source": [
    "c = r.TCanvas()\n",
    "t.Draw(\"energyWestTotalEnergy - energyEastTotalEnergy>>hist(500,-1000,4000)\",\n",
    "       \"numberOfClustersWest == 1 && numberOfClustersEast == 1\",\n",
    "       \"colz\")\n",
    "for i in range(2,6):\n",
    "    t.SetLineColor(i)\n",
    "    ding = t.Draw(\"energyWestTotalEnergy - energyEastTotalEnergy\",\n",
    "       \"numberOfClustersWest == \"+str(i)+\" && numberOfClustersEast == \"+str(i),\n",
    "       \"colz same\")\n",
    "    print(ding)\n",
    "c.SetLogy()\n",
    "c.Draw()"
   ]
  },
  {
   "cell_type": "code",
   "execution_count": null,
   "metadata": {},
   "outputs": [],
   "source": [
    "t.SetLineColor(4)"
   ]
  },
  {
   "cell_type": "markdown",
   "metadata": {},
   "source": [
    "---\n",
    "\n",
    "### Now lets look at $N_{west} = 0$ for which $N_{east} > 2$"
   ]
  },
  {
   "cell_type": "code",
   "execution_count": null,
   "metadata": {},
   "outputs": [],
   "source": [
    "condition = \"numberOfClustersWest == 1 && numberOfClustersEast > 3\""
   ]
  },
  {
   "cell_type": "code",
   "execution_count": null,
   "metadata": {},
   "outputs": [],
   "source": [
    "c = r.TCanvas()\n",
    "num = t.Draw(\"numberOfClustersEast\",condition,\"\")\n",
    "print(num,\"such clusters.\")\n",
    "c.SetLogy()\n",
    "c.Draw()"
   ]
  },
  {
   "cell_type": "code",
   "execution_count": null,
   "metadata": {},
   "outputs": [],
   "source": [
    "c = r.TCanvas()\n",
    "h = r.TH1D(\"h\",\"Energies\", 200,0,6000)\n",
    "h.SetLineColor(4)\n",
    "t.Draw(\"Max$(energiesEast)>>h\",condition)\n",
    "t.SetLineColor(38)\n",
    "t.Draw(\"Min$(energiesEast)\",condition, \"same\")\n",
    "t.Draw(\"energyEastTotalEnergy\",condition, \"same\")\n",
    "t.SetLineColor(3)\n",
    "t.Draw(\"energiesWest\",condition, \"same\")\n",
    "c.SetLogy()\n",
    "h.GetYaxis().SetRangeUser(0.1,100000)\n",
    "c.Draw()"
   ]
  },
  {
   "cell_type": "code",
   "execution_count": null,
   "metadata": {},
   "outputs": [],
   "source": [
    "c = r.TCanvas()\n",
    "t.Draw(\"energiesEast\",condition,\"\")\n",
    "t.Draw(\"energiesWest\",condition,\"same\")\n",
    "c.SetLogy()\n",
    "c.Draw()"
   ]
  },
  {
   "cell_type": "code",
   "execution_count": null,
   "metadata": {},
   "outputs": [],
   "source": [
    "c = r.TCanvas()\n",
    "t.SetLineColor(4)\n",
    "t.Draw(\"energyEastTotalEnergy\",\"\",\"\")\n",
    "t.SetLineColor(3)\n",
    "t.Draw(\"energyWestTotalEnergy\",\"\",\"same\")\n",
    "c.SetLogy()\n",
    "c.Draw()"
   ]
  },
  {
   "cell_type": "code",
   "execution_count": null,
   "metadata": {},
   "outputs": [],
   "source": [
    "c = r.TCanvas()\n",
    "t.SetLineColor(4)\n",
    "t.Draw(\"timesWest\",\"\",\"\")\n",
    "t.SetLineColor(3)\n",
    "t.Draw(\"timesEast\",\"\",\"same\")\n",
    "c.SetLogy()\n",
    "c.Draw()"
   ]
  },
  {
   "cell_type": "code",
   "execution_count": null,
   "metadata": {},
   "outputs": [],
   "source": []
  },
  {
   "cell_type": "code",
   "execution_count": null,
   "metadata": {},
   "outputs": [],
   "source": []
  }
 ],
 "metadata": {
  "kernelspec": {
   "display_name": "Python 3",
   "language": "python",
   "name": "python3"
  },
  "language_info": {
   "codemirror_mode": {
    "name": "ipython",
    "version": 3
   },
   "file_extension": ".py",
   "mimetype": "text/x-python",
   "name": "python",
   "nbconvert_exporter": "python",
   "pygments_lexer": "ipython3",
   "version": "3.6.8"
  }
 },
 "nbformat": 4,
 "nbformat_minor": 2
}
