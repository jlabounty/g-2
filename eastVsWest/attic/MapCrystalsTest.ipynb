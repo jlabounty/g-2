{
 "cells": [
  {
   "cell_type": "code",
   "execution_count": 2,
   "metadata": {},
   "outputs": [
    {
     "name": "stdout",
     "output_type": "stream",
     "text": [
      "[0, 1, 2, 3, 4, 5, 6, 7, 8, 9, 10, 11, 12, 13, 14, 15, 16, 17, 18, 19, 20, 21, 22, 23, 24, 25, 26, 27, 28, 29, 30, 31, 32, 33, 34, 35, 36, 37, 38, 39, 40, 41, 42, 43, 44, 45, 46, 47, 48, 49, 50, 51, 52, 53]\n"
     ]
    }
   ],
   "source": [
    "ding = [i for i in range(54)]\n",
    "print(ding)"
   ]
  },
  {
   "cell_type": "code",
   "execution_count": 3,
   "metadata": {},
   "outputs": [
    {
     "name": "stdout",
     "output_type": "stream",
     "text": [
      "Welcome to JupyROOT 6.12/06\n"
     ]
    }
   ],
   "source": [
    "from evwTools import *"
   ]
  },
  {
   "cell_type": "code",
   "execution_count": 19,
   "metadata": {},
   "outputs": [
    {
     "name": "stdout",
     "output_type": "stream",
     "text": [
      "[[53, 52, 51, 50, 49, 48, 47, 46, 45], [44, 43, 42, 41, 40, 39, 38, 37, 36], [35, 34, 33, 32, 31, 30, 29, 28, 27], [26, 25, 24, 23, 22, 21, 20, 19, 18], [17, 16, 15, 14, 13, 12, 11, 10, 9], [8, 7, 6, 5, 4, 3, 2, 1, 0]]\n"
     ]
    }
   ],
   "source": [
    "dong = arrangeXtals(ding)\n",
    "print(dong)"
   ]
  },
  {
   "cell_type": "code",
   "execution_count": 21,
   "metadata": {},
   "outputs": [
    {
     "name": "stdout",
     "output_type": "stream",
     "text": [
      "8 0\n",
      "7 0\n",
      "6 0\n",
      "5 0\n",
      "4 0\n",
      "3 0\n",
      "2 0\n",
      "1 0\n",
      "0 0\n",
      "8 1\n",
      "7 1\n",
      "6 1\n",
      "5 1\n",
      "4 1\n",
      "3 1\n",
      "2 1\n",
      "1 1\n",
      "0 1\n",
      "8 2\n",
      "7 2\n",
      "6 2\n",
      "5 2\n",
      "4 2\n",
      "3 2\n",
      "2 2\n",
      "1 2\n",
      "0 2\n",
      "8 3\n",
      "7 3\n",
      "6 3\n",
      "5 3\n",
      "4 3\n",
      "3 3\n",
      "2 3\n",
      "1 3\n",
      "0 3\n",
      "8 4\n",
      "7 4\n",
      "6 4\n",
      "5 4\n",
      "4 4\n",
      "3 4\n",
      "2 4\n",
      "1 4\n",
      "0 4\n",
      "8 5\n",
      "7 5\n",
      "6 5\n",
      "5 5\n",
      "4 5\n",
      "3 5\n",
      "2 5\n",
      "1 5\n",
      "0 5\n"
     ]
    },
    {
     "name": "stderr",
     "output_type": "stream",
     "text": [
      "Warning in <TROOT::Append>: Replacing existing TH1: heast (Potential memory leak).\n"
     ]
    },
    {
     "data": {
      "image/png": "[encoded data removed]",
      "text/plain": [
       "<IPython.core.display.Image object>"
      ]
     },
     "metadata": {},
     "output_type": "display_data"
    }
   ],
   "source": [
    "for xtal in range(54):\n",
    "\n",
    "    y = int(np.floor(xtal/9))\n",
    "    x = 8 - xtal % 9 \n",
    "    print(x,y)\n",
    "\n",
    "c = r.TCanvas()\n",
    "heast = r.TH2S(\"heast\",\"heast\",9,0,9,6,0,6)\n",
    "heast.Fill(x,y)\n",
    "heast.Draw(\"colz\")\n",
    "c.Draw()"
   ]
  },
  {
   "cell_type": "code",
   "execution_count": null,
   "metadata": {},
   "outputs": [],
   "source": []
  }
 ],
 "metadata": {
  "kernelspec": {
   "display_name": "Python 3",
   "language": "python",
   "name": "python3"
  },
  "language_info": {
   "codemirror_mode": {
    "name": "ipython",
    "version": 3
   },
   "file_extension": ".py",
   "mimetype": "text/x-python",
   "name": "python",
   "nbconvert_exporter": "python",
   "pygments_lexer": "ipython3",
   "version": "3.6.5"
  }
 },
 "nbformat": 4,
 "nbformat_minor": 2
}
