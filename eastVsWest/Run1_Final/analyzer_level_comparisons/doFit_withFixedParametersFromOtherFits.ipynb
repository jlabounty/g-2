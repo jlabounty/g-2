{
 "cells": [
  {
   "cell_type": "code",
   "execution_count": 1,
   "metadata": {},
   "outputs": [
    {
     "name": "stdout",
     "output_type": "stream",
     "text": [
      "Welcome to JupyROOT 6.12/06\n",
      "For interactive plots, run: setint()\n",
      "To return to non-interactive plots (default state), run: noint()\n"
     ]
    }
   ],
   "source": [
    "from standardInclude import *\n",
    "from fit_util import *\n",
    "from omega_a_fitting import *\n",
    "from pileup_correction import *\n",
    "from lost_muon_calculation import *"
   ]
  },
  {
   "cell_type": "markdown",
   "metadata": {},
   "source": [
    "### This will redo the fits from one analysis with the values of 1 or more parameters fixed to those in a different analysis. \n",
    "\n",
    "---"
   ]
  },
  {
   "cell_type": "code",
   "execution_count": 2,
   "metadata": {},
   "outputs": [
    {
     "ename": "FileNotFoundError",
     "evalue": "[Errno 2] No such file or directory: 'param_dict.txt'",
     "output_type": "error",
     "traceback": [
      "\u001b[0;31m---------------------------------------------------------------------------\u001b[0m",
      "\u001b[0;31mFileNotFoundError\u001b[0m                         Traceback (most recent call last)",
      "\u001b[0;32m<ipython-input-2-6b6b80a9812d>\u001b[0m in \u001b[0;36m<module>\u001b[0;34m\u001b[0m\n\u001b[0;32m----> 1\u001b[0;31m \u001b[0;32mwith\u001b[0m \u001b[0mopen\u001b[0m\u001b[0;34m(\u001b[0m\u001b[0;34m'param_dict.txt'\u001b[0m\u001b[0;34m,\u001b[0m\u001b[0;34m'r'\u001b[0m\u001b[0;34m)\u001b[0m \u001b[0;32mas\u001b[0m \u001b[0minf\u001b[0m\u001b[0;34m:\u001b[0m\u001b[0;34m\u001b[0m\u001b[0;34m\u001b[0m\u001b[0m\n\u001b[0m\u001b[1;32m      2\u001b[0m     \u001b[0manal_dict\u001b[0m \u001b[0;34m=\u001b[0m \u001b[0meval\u001b[0m\u001b[0;34m(\u001b[0m\u001b[0minf\u001b[0m\u001b[0;34m.\u001b[0m\u001b[0mread\u001b[0m\u001b[0;34m(\u001b[0m\u001b[0;34m)\u001b[0m\u001b[0;34m)\u001b[0m\u001b[0;34m\u001b[0m\u001b[0;34m\u001b[0m\u001b[0m\n\u001b[1;32m      3\u001b[0m \u001b[0mprint\u001b[0m\u001b[0;34m(\u001b[0m\u001b[0manal_dict\u001b[0m\u001b[0;34m)\u001b[0m\u001b[0;34m\u001b[0m\u001b[0;34m\u001b[0m\u001b[0m\n\u001b[1;32m      4\u001b[0m \u001b[0;34m\u001b[0m\u001b[0m\n\u001b[1;32m      5\u001b[0m \u001b[0manalyses\u001b[0m \u001b[0;34m=\u001b[0m \u001b[0manal_dict\u001b[0m\u001b[0;34m[\u001b[0m\u001b[0;34m'analyses'\u001b[0m\u001b[0;34m]\u001b[0m\u001b[0;34m\u001b[0m\u001b[0;34m\u001b[0m\u001b[0m\n",
      "\u001b[0;31mFileNotFoundError\u001b[0m: [Errno 2] No such file or directory: 'param_dict.txt'"
     ]
    }
   ],
   "source": [
    "with open('param_dict.txt','r') as inf:\n",
    "    anal_dict = eval(inf.read())\n",
    "print(anal_dict)\n",
    "    \n",
    "analyses = anal_dict['analyses']\n",
    "requiredParams = anal_dict['requiredParams']\n",
    "colors = anal_dict['colors']\n",
    "startTime = anal_dict['startTime']\n",
    "endTime = anal_dict['endTime']"
   ]
  },
  {
   "cell_type": "code",
   "execution_count": null,
   "metadata": {},
   "outputs": [],
   "source": [
    "histVec = []\n",
    "for i, (name, fileName, histName, scaleFactor) in enumerate(analyses):\n",
    "    f = r.TFile(fileName)\n",
    "    hi = f.Get(histName).Clone(\"hi\")\n",
    "    hi.SetDirectory(0)\n",
    "    hi.SetTitle(name)\n",
    "    hi.SetLineColor(colors[i])\n",
    "    \n",
    "    #scale the axes so that they are all in microseconds\n",
    "    nbins = hi.GetNbinsX()\n",
    "    currentMin = hi.GetXaxis().GetBinCenter(1) - hi.GetXaxis().GetBinWidth(1)/2.0\n",
    "    currentMax = hi.GetXaxis().GetBinCenter(nbins) + hi.GetXaxis().GetBinWidth(nbins)/2.0\n",
    "    print(currentMin*scaleFactor, currentMax)\n",
    "    hi.GetXaxis().SetLimits( currentMin*scaleFactor, currentMax*scaleFactor )\n",
    "    if(scaleFactor is not 1):\n",
    "        hi.GetXaxis().SetTitle(\"Time [#mus, Converted]\")\n",
    "    else:\n",
    "        hi.GetXaxis().SetTitle(\"Time [#mus]\")\n",
    "    \n",
    "    histVec.append( hi.Clone(\"hist_\"+name) )\n",
    "    histVec[i].SetDirectory(0)\n",
    "    f.Close()\n",
    "print(histVec)"
   ]
  },
  {
   "cell_type": "code",
   "execution_count": null,
   "metadata": {},
   "outputs": [],
   "source": [
    "whichAnal = 0\n",
    "wiggle = MakeWiggleFromTH1(histVec[whichAnal], anal_dict['energyThreshold'], 6000., 0, 1, False)"
   ]
  },
  {
   "cell_type": "code",
   "execution_count": null,
   "metadata": {},
   "outputs": [],
   "source": []
  }
 ],
 "metadata": {
  "kernelspec": {
   "display_name": "Python 3",
   "language": "python",
   "name": "python3"
  },
  "language_info": {
   "codemirror_mode": {
    "name": "ipython",
    "version": 3
   },
   "file_extension": ".py",
   "mimetype": "text/x-python",
   "name": "python",
   "nbconvert_exporter": "python",
   "pygments_lexer": "ipython3",
   "version": "3.6.8"
  }
 },
 "nbformat": 4,
 "nbformat_minor": 2
}
