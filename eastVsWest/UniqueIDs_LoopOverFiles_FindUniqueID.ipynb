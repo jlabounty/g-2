{
 "cells": [
  {
   "cell_type": "code",
   "execution_count": 1,
   "metadata": {},
   "outputs": [
    {
     "name": "stdout",
     "output_type": "stream",
     "text": [
      "Welcome to JupyROOT 6.12/06\n"
     ]
    }
   ],
   "source": [
    "#General imports.\n",
    "import ROOT as r\n",
    "import math\n",
    "from BlindersPy3 import Blinders\n",
    "from BlindersPy3 import FitType\n",
    "r.gStyle.SetOptStat(0)\n",
    "r.gStyle.SetOptFit(1111)\n",
    "import matplotlib.pyplot as plt\n",
    "import csv\n",
    "import pandas\n",
    "\n",
    "import seaborn as sns\n",
    "sns.set(style=\"ticks\", color_codes=True)\n",
    "import numpy as np\n",
    "import matplotlib.pyplot as plt\n",
    "import matplotlib \n",
    "matplotlib.rc('xtick', labelsize=20) \n",
    "matplotlib.rc('ytick', labelsize=20) \n",
    "import os\n",
    "import scipy\n",
    "\n",
    "import uproot # https://indico.cern.ch/event/686641/contributions/2894906/attachments/1606247/2548596/pivarski-uproot.pdf\n",
    "from awkward import JaggedArray\n",
    "from root_pandas import read_root # https://github.com/scikit-hep/root_pandas\n",
    "\n",
    "import warnings\n",
    "warnings.filterwarnings('once')\n",
    "\n",
    "%matplotlib inline"
   ]
  },
  {
   "cell_type": "markdown",
   "metadata": {},
   "source": [
    "This file is meant to loop over all of the files in a given list and draw the crystal arrangements of the outliers / any other specified plots"
   ]
  },
  {
   "cell_type": "code",
   "execution_count": 2,
   "metadata": {},
   "outputs": [],
   "source": [
    "#import a bunch of useful functions for this analysis\n",
    "from evwTools import *"
   ]
  },
  {
   "cell_type": "code",
   "execution_count": 3,
   "metadata": {},
   "outputs": [],
   "source": [
    "#Names of the files to loop over\n",
    "\n",
    "fileNamesPartial = [\"gm2offline_ana_12653990_16369.00449.root\",\n",
    "            \"gm2offline_ana_12653991_16369.00045.root\",\n",
    "            \"gm2offline_ana_12653992_16367.00444.root\",\n",
    "            \"gm2offline_ana_12653993_16358.00045.root\",\n",
    "            \"gm2offline_ana_12653994_16355.00098.root\",\n",
    "            \"gm2offline_ana_12653995_16369.00495.root\",\n",
    "            \"gm2offline_ana_12653996_16369.00129.root\",\n",
    "            \"gm2offline_ana_12653997_16356.00472.root\",\n",
    "            \"gm2offline_ana_12653998_16370.00100.root\",\n",
    "            \"gm2offline_ana_12653999_16368.00142.root\",\n",
    "            \"gm2offline_ana_12654000_16358.00108.root\",\n",
    "            \"gm2offline_ana_12654001_16362.00028.root\",\n",
    "            \"gm2offline_ana_12654002_16370.00193.root\",\n",
    "            \"gm2offline_ana_12654003_16364.00096.root\",\n",
    "            \"gm2offline_ana_12654004_16367.00414.root\",\n",
    "            \"gm2offline_ana_12654005_16367.00137.root\",\n",
    "            \"gm2offline_ana_12654006_16357.00150.root\",\n",
    "            \"gm2offline_ana_12654007_16357.00046.root\",\n",
    "            \"gm2offline_ana_12654008_16370.00438.root\",\n",
    "            \"gm2offline_ana_12654009_16364.00339.root\",\n",
    "            \"gm2offline_ana_12654010_16358.00008.root\",\n",
    "            \"gm2offline_ana_12654011_16368.00282.root\",\n",
    "            \"gm2offline_ana_12654012_16363.00212.root\",\n",
    "            \"gm2offline_ana_12654013_16369.00099.root\",\n",
    "            \"gm2offline_ana_12654014_16367.00496.root\",\n",
    "            \"gm2offline_ana_12654015_16362.00160.root\",\n",
    "            \"gm2offline_ana_12654016_16363.00311.root\",\n",
    "            \"gm2offline_ana_12654017_16368.00107.root\",\n",
    "            \"gm2offline_ana_12654018_16356.00104.root\",\n",
    "            \"gm2offline_ana_12654019_16370.00040.root\",\n",
    "            \"gm2offline_ana_12654020_16363.00374.root\",\n",
    "            \"gm2offline_ana_12654021_16370.00393.root\",\n",
    "            \"gm2offline_ana_12654022_16359.00111.root\",\n",
    "            \"gm2offline_ana_12654023_16369.00492.root\",\n",
    "            \"gm2offline_ana_12654024_16359.00065.root\",\n",
    "            \"gm2offline_ana_12654025_16358.00375.root\",\n",
    "            \"gm2offline_ana_12654026_16363.00094.root\",\n",
    "            \"gm2offline_ana_12654027_16367.00093.root\",\n",
    "            \"gm2offline_ana_12654028_16370.00218.root\",\n",
    "            \"gm2offline_ana_12654029_16368.00396.root\",\n",
    "            \"gm2offline_ana_12654030_16365.00141.root\",\n",
    "            \"gm2offline_ana_12654031_16356.00210.root\",\n",
    "            \"gm2offline_ana_12654032_16367.00251.root\",\n",
    "            \"gm2offline_ana_12654034_16364.00077.root\",\n",
    "            \"gm2offline_ana_12654035_16363.00257.root\",\n",
    "            \"gm2offline_ana_12654036_16367.00005.root\",\n",
    "            \"gm2offline_ana_12654037_16367.00128.root\",\n",
    "            \"gm2offline_ana_12654038_16365.00367.root\",\n",
    "            \"gm2offline_ana_12654039_16358.00025.root\",\n",
    "            \"gm2offline_ana_12654040_16363.00479.root\",\n",
    "            \"gm2offline_ana_12654041_16369.00155.root\",\n",
    "            \"gm2offline_ana_12654042_16368.00421.root\",\n",
    "            \"gm2offline_ana_12654043_16356.00252.root\",\n",
    "            \"gm2offline_ana_12654044_16358.00237.root\",\n",
    "            \"gm2offline_ana_12654045_16355.00136.root\",\n",
    "            \"gm2offline_ana_12654046_16358.00053.root\"]\n",
    "\n",
    "#and their paths.\n",
    "fileNames = [\"./data/dataExternal/Oct23DataSet/\" + x for x in fileNamesPartial]\n",
    "\n",
    "#uncomment this to just loop over the local file for which we also have the island data\n",
    "#fileNames = [\"./data/gm2offline_ana.root\"]"
   ]
  },
  {
   "cell_type": "code",
   "execution_count": 8,
   "metadata": {},
   "outputs": [
    {
     "name": "stdout",
     "output_type": "stream",
     "text": [
      " runNum == 16369 && subRunNum == 369 && fill == 109 && caloNum == 17 && islandWest == 150\n"
     ]
    }
   ],
   "source": [
    "#this will be the cut that will determine whether or not something is printed. Written in root format, not pyroot.\n",
    "uniqueIDref = 1636900369001090001700150\n",
    "condition = constructConditionFromUniqueIDComp(uniqueIDref)\n",
    "print(condition)"
   ]
  },
  {
   "cell_type": "code",
   "execution_count": 9,
   "metadata": {},
   "outputs": [
    {
     "name": "stdout",
     "output_type": "stream",
     "text": [
      "Starting file: ./data/dataExternal/Oct23DataSet/gm2offline_ana_12653990_16369.00449.root\n",
      "     Matching entries in this file: 0\n",
      "Starting file: ./data/dataExternal/Oct23DataSet/gm2offline_ana_12653991_16369.00045.root\n",
      "     Matching entries in this file: 0\n",
      "Starting file: ./data/dataExternal/Oct23DataSet/gm2offline_ana_12653992_16367.00444.root\n",
      "     Matching entries in this file: 0\n",
      "Starting file: ./data/dataExternal/Oct23DataSet/gm2offline_ana_12653993_16358.00045.root\n",
      "     Matching entries in this file: 0\n",
      "Starting file: ./data/dataExternal/Oct23DataSet/gm2offline_ana_12653994_16355.00098.root\n",
      "     Matching entries in this file: 0\n",
      "Starting file: ./data/dataExternal/Oct23DataSet/gm2offline_ana_12653995_16369.00495.root\n",
      "     Matching entries in this file: 0\n",
      "Starting file: ./data/dataExternal/Oct23DataSet/gm2offline_ana_12653996_16369.00129.root\n",
      "     Matching entries in this file: 0\n",
      "Starting file: ./data/dataExternal/Oct23DataSet/gm2offline_ana_12653997_16356.00472.root\n",
      "     Matching entries in this file: 0\n",
      "Starting file: ./data/dataExternal/Oct23DataSet/gm2offline_ana_12653998_16370.00100.root\n",
      "     Matching entries in this file: 0\n",
      "Starting file: ./data/dataExternal/Oct23DataSet/gm2offline_ana_12653999_16368.00142.root\n",
      "     Matching entries in this file: 0\n",
      "Starting file: ./data/dataExternal/Oct23DataSet/gm2offline_ana_12654000_16358.00108.root\n",
      "     Matching entries in this file: 0\n",
      "Starting file: ./data/dataExternal/Oct23DataSet/gm2offline_ana_12654001_16362.00028.root\n",
      "     Matching entries in this file: 0\n",
      "Starting file: ./data/dataExternal/Oct23DataSet/gm2offline_ana_12654002_16370.00193.root\n",
      "     Matching entries in this file: 0\n",
      "Starting file: ./data/dataExternal/Oct23DataSet/gm2offline_ana_12654003_16364.00096.root\n",
      "     Matching entries in this file: 0\n",
      "Starting file: ./data/dataExternal/Oct23DataSet/gm2offline_ana_12654004_16367.00414.root\n",
      "     Matching entries in this file: 0\n",
      "Starting file: ./data/dataExternal/Oct23DataSet/gm2offline_ana_12654005_16367.00137.root\n",
      "     Matching entries in this file: 0\n",
      "Starting file: ./data/dataExternal/Oct23DataSet/gm2offline_ana_12654006_16357.00150.root\n",
      "     Matching entries in this file: 0\n",
      "Starting file: ./data/dataExternal/Oct23DataSet/gm2offline_ana_12654007_16357.00046.root\n",
      "     Matching entries in this file: 1\n",
      "UniqueID Found in file: ./data/dataExternal/Oct23DataSet/gm2offline_ana_12654007_16357.00046.root\n",
      "     Unique island:  1636900369001090001700150\n",
      "     deltaE:  102.19106416677059\n",
      "          Found another island with this unique ID. Adding their crystals together:\n",
      "                [25.0, 26.0, 34.0, 35.0, 43.0, 44.0]\n",
      "                [25.0, 26.0, 34.0, 35.0, 43.0, 44.0, 25.0, 26.0, 34.0, 35.0, 43.0, 44.0]\n",
      "          Found Match ( 0 0 1 )\n",
      "              East:  [25.0, 26.0, 34.0, 35.0, 43.0, 44.0, 25.0, 26.0, 34.0, 35.0, 43.0, 44.0]\n",
      "              West:  [18.0]\n"
     ]
    },
    {
     "data": {
      "image/png": "[encoded data removed]",
      "text/plain": [
       "<Figure size 432x288 with 2 Axes>"
      ]
     },
     "metadata": {},
     "output_type": "display_data"
    }
   ],
   "source": [
    "found = False\n",
    "for fileName in fileNames:\n",
    "    try:\n",
    "        f = r.TFile(fileName)\n",
    "        twest = f.Get(\"farline\").Get(\"eventTree\")\n",
    "        teast = f.Get(\"farline\").Get(\"eastTree\")\n",
    "        tcomp = f.Get(\"farline\").Get(\"evwTree\")\n",
    "        terr = f.Get(\"farline\").Get(\"evwNoPartnerTree\")\n",
    "        tcomp2 = f.Get(\"farline\").Get(\"wveTree\")\n",
    "        terr2 = f.Get(\"farline\").Get(\"wveNoPartnerTree\")\n",
    "    except:\n",
    "        print(\"ERROR: File \", fileName, \"not found\")\n",
    "        continue\n",
    "        \n",
    "    print(\"Starting file:\", fileName)\n",
    "    \n",
    "    dingbefore = 0\n",
    "\n",
    "    fout = r.TFile(\"temp_tree_storage.root\",\"recreate\")\n",
    "    tcomp_partial = tcomp.CopyTree(condition)\n",
    "    print(\"     Matching entries in this file:\", tcomp_partial.GetEntries())\n",
    "    \n",
    "    for i, entry in enumerate(tcomp_partial):\n",
    "        found = True\n",
    "        print(\"UniqueID Found in file:\", fileName)\n",
    "        counter = 0\n",
    "        ding = constructUniqueID(entry)\n",
    "        if (dingbefore == ding):\n",
    "            continue\n",
    "\n",
    "        print(\"     Unique island: \", ding)\n",
    "        print(\"     deltaE: \", entry.deltaE)\n",
    "\n",
    "        crystalsEast = [x for x in entry.crystalsEast]\n",
    "\n",
    "        teast_partial = teast.CopyTree( constructConditionFromUniqueIDEast(ding) )\n",
    "        for k, entry3 in enumerate(teast_partial):\n",
    "            dong = constructUniqueIDeast(entry3)\n",
    "            if ding == dong:\n",
    "                print(\"          Found another island with this unique ID. Adding their crystals together:\")\n",
    "                print(\"               \",crystalsEast)\n",
    "                crystalsEast += [x for x in entry3.crystalsEast]\n",
    "                print(\"               \",crystalsEast)\n",
    "\n",
    "        crystalsWest = []\n",
    "        twest_partial = twest.CopyTree( constructConditionFromUniqueIDWest(ding) )\n",
    "        for j, entry2 in enumerate(twest_partial):\n",
    "            dong = constructUniqueIDwest(entry2)\n",
    "            if (ding == dong):\n",
    "                counter = counter + 1\n",
    "                print(\"          Found Match (\", i, j, counter,\")\")\n",
    "                print(\"              East: \", crystalsEast)\n",
    "                print(\"              West: \", [x for x in entry2.crystalsWest])\n",
    "                crystalsWest += [x for x in entry2.crystalsWest]\n",
    "\n",
    "        imshowCompare( toMap(crystalsEast), toMap(crystalsWest), True, True, str(ding) )\n",
    "        dingbefore = ding\n",
    "        \n",
    "    if(found):\n",
    "        break"
   ]
  },
  {
   "cell_type": "code",
   "execution_count": null,
   "metadata": {},
   "outputs": [],
   "source": []
  },
  {
   "cell_type": "code",
   "execution_count": null,
   "metadata": {},
   "outputs": [],
   "source": []
  },
  {
   "cell_type": "code",
   "execution_count": null,
   "metadata": {},
   "outputs": [],
   "source": []
  },
  {
   "cell_type": "code",
   "execution_count": null,
   "metadata": {},
   "outputs": [],
   "source": []
  },
  {
   "cell_type": "code",
   "execution_count": null,
   "metadata": {},
   "outputs": [],
   "source": []
  },
  {
   "cell_type": "code",
   "execution_count": null,
   "metadata": {},
   "outputs": [],
   "source": []
  }
 ],
 "metadata": {
  "kernelspec": {
   "display_name": "Python 3",
   "language": "python",
   "name": "python3"
  },
  "language_info": {
   "codemirror_mode": {
    "name": "ipython",
    "version": 3
   },
   "file_extension": ".py",
   "mimetype": "text/x-python",
   "name": "python",
   "nbconvert_exporter": "python",
   "pygments_lexer": "ipython3",
   "version": "3.6.5"
  }
 },
 "nbformat": 4,
 "nbformat_minor": 2
}
